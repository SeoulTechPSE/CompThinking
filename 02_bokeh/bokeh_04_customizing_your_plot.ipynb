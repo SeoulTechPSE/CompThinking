{
 "cells": [
  {
   "cell_type": "markdown",
   "metadata": {
    "id": "lnWbfd94RVp6"
   },
   "source": [
    "# 04: Customizing Your Plot"
   ]
  },
  {
   "cell_type": "markdown",
   "metadata": {
    "id": "FAzwkvRhRfO4"
   },
   "source": [
    "In this section, you will customize the appearance of the plot as a whole. This includes [resizing](https://docs.bokeh.org/en/latest/docs/first_steps/first_steps_4.html#first-steps-4-resizing) your plot, changing its [lines and colors](https://docs.bokeh.org/en/latest/docs/first_steps/first_steps_4.html#first-steps-4-grid), and customizing the [axes](https://docs.bokeh.org/en/latest/docs/first_steps/first_steps_4.html#first-steps-4-axes) and [tools](https://docs.bokeh.org/en/latest/docs/first_steps/first_steps_4.html#first-steps-4-toolbar)"
   ]
  },
  {
   "cell_type": "markdown",
   "metadata": {
    "id": "CJK90ft-SDYT"
   },
   "source": [
    "## Using Themes"
   ]
  },
  {
   "cell_type": "markdown",
   "metadata": {
    "id": "2YevnW5aSSIn"
   },
   "source": [
    "With Bokeh's themes, you can quickly change the appearance of your plot. Themes are a set of pre-defined design parameters such as colors, fonts, or line styles\n",
    "\n",
    "Bokeh comes with five [built-in themes](https://docs.bokeh.org/en/latest/docs/reference/themes.html#bokeh-themes): `caliber`, `dark_minimal`, `light_minimal`, `night_sky`, and `contrast`. Additionally, you can define your own custom themes\n",
    "\n",
    "To use one of the built-in themes, assign the name of the `theme` you want to use to the theme property of your document:"
   ]
  },
  {
   "cell_type": "code",
   "execution_count": 1,
   "metadata": {
    "colab": {
     "base_uri": "https://localhost:8080/",
     "height": 267
    },
    "executionInfo": {
     "elapsed": 1751,
     "status": "ok",
     "timestamp": 1616922345712,
     "user": {
      "displayName": "류기윤",
      "photoUrl": "https://lh3.googleusercontent.com/a-/AOh14GgQ3YtFwUPyzjO8P1LCqbjF6RkNFAdXqzp9xLgvmA=s64",
      "userId": "14686264071241136597"
     },
     "user_tz": -540
    },
    "id": "t8L7p6QPRURp",
    "outputId": "4ea0211e-a4a2-4e7f-c4d0-3d519683ee8e"
   },
   "outputs": [
    {
     "data": {
      "text/html": [
       "\n",
       "    <div class=\"bk-root\">\n",
       "        <a href=\"https://bokeh.org\" target=\"_blank\" class=\"bk-logo bk-logo-small bk-logo-notebook\"></a>\n",
       "        <span id=\"1002\">Loading BokehJS ...</span>\n",
       "    </div>"
      ]
     },
     "metadata": {},
     "output_type": "display_data"
    },
    {
     "data": {
      "application/javascript": [
       "\n",
       "(function(root) {\n",
       "  function now() {\n",
       "    return new Date();\n",
       "  }\n",
       "\n",
       "  const force = true;\n",
       "\n",
       "  if (typeof root._bokeh_onload_callbacks === \"undefined\" || force === true) {\n",
       "    root._bokeh_onload_callbacks = [];\n",
       "    root._bokeh_is_loading = undefined;\n",
       "  }\n",
       "\n",
       "  const JS_MIME_TYPE = 'application/javascript';\n",
       "  const HTML_MIME_TYPE = 'text/html';\n",
       "  const EXEC_MIME_TYPE = 'application/vnd.bokehjs_exec.v0+json';\n",
       "  const CLASS_NAME = 'output_bokeh rendered_html';\n",
       "\n",
       "  /**\n",
       "   * Render data to the DOM node\n",
       "   */\n",
       "  function render(props, node) {\n",
       "    const script = document.createElement(\"script\");\n",
       "    node.appendChild(script);\n",
       "  }\n",
       "\n",
       "  /**\n",
       "   * Handle when an output is cleared or removed\n",
       "   */\n",
       "  function handleClearOutput(event, handle) {\n",
       "    const cell = handle.cell;\n",
       "\n",
       "    const id = cell.output_area._bokeh_element_id;\n",
       "    const server_id = cell.output_area._bokeh_server_id;\n",
       "    // Clean up Bokeh references\n",
       "    if (id != null && id in Bokeh.index) {\n",
       "      Bokeh.index[id].model.document.clear();\n",
       "      delete Bokeh.index[id];\n",
       "    }\n",
       "\n",
       "    if (server_id !== undefined) {\n",
       "      // Clean up Bokeh references\n",
       "      const cmd_clean = \"from bokeh.io.state import curstate; print(curstate().uuid_to_server['\" + server_id + \"'].get_sessions()[0].document.roots[0]._id)\";\n",
       "      cell.notebook.kernel.execute(cmd_clean, {\n",
       "        iopub: {\n",
       "          output: function(msg) {\n",
       "            const id = msg.content.text.trim();\n",
       "            if (id in Bokeh.index) {\n",
       "              Bokeh.index[id].model.document.clear();\n",
       "              delete Bokeh.index[id];\n",
       "            }\n",
       "          }\n",
       "        }\n",
       "      });\n",
       "      // Destroy server and session\n",
       "      const cmd_destroy = \"import bokeh.io.notebook as ion; ion.destroy_server('\" + server_id + \"')\";\n",
       "      cell.notebook.kernel.execute(cmd_destroy);\n",
       "    }\n",
       "  }\n",
       "\n",
       "  /**\n",
       "   * Handle when a new output is added\n",
       "   */\n",
       "  function handleAddOutput(event, handle) {\n",
       "    const output_area = handle.output_area;\n",
       "    const output = handle.output;\n",
       "\n",
       "    // limit handleAddOutput to display_data with EXEC_MIME_TYPE content only\n",
       "    if ((output.output_type != \"display_data\") || (!Object.prototype.hasOwnProperty.call(output.data, EXEC_MIME_TYPE))) {\n",
       "      return\n",
       "    }\n",
       "\n",
       "    const toinsert = output_area.element.find(\".\" + CLASS_NAME.split(' ')[0]);\n",
       "\n",
       "    if (output.metadata[EXEC_MIME_TYPE][\"id\"] !== undefined) {\n",
       "      toinsert[toinsert.length - 1].firstChild.textContent = output.data[JS_MIME_TYPE];\n",
       "      // store reference to embed id on output_area\n",
       "      output_area._bokeh_element_id = output.metadata[EXEC_MIME_TYPE][\"id\"];\n",
       "    }\n",
       "    if (output.metadata[EXEC_MIME_TYPE][\"server_id\"] !== undefined) {\n",
       "      const bk_div = document.createElement(\"div\");\n",
       "      bk_div.innerHTML = output.data[HTML_MIME_TYPE];\n",
       "      const script_attrs = bk_div.children[0].attributes;\n",
       "      for (let i = 0; i < script_attrs.length; i++) {\n",
       "        toinsert[toinsert.length - 1].firstChild.setAttribute(script_attrs[i].name, script_attrs[i].value);\n",
       "        toinsert[toinsert.length - 1].firstChild.textContent = bk_div.children[0].textContent\n",
       "      }\n",
       "      // store reference to server id on output_area\n",
       "      output_area._bokeh_server_id = output.metadata[EXEC_MIME_TYPE][\"server_id\"];\n",
       "    }\n",
       "  }\n",
       "\n",
       "  function register_renderer(events, OutputArea) {\n",
       "\n",
       "    function append_mime(data, metadata, element) {\n",
       "      // create a DOM node to render to\n",
       "      const toinsert = this.create_output_subarea(\n",
       "        metadata,\n",
       "        CLASS_NAME,\n",
       "        EXEC_MIME_TYPE\n",
       "      );\n",
       "      this.keyboard_manager.register_events(toinsert);\n",
       "      // Render to node\n",
       "      const props = {data: data, metadata: metadata[EXEC_MIME_TYPE]};\n",
       "      render(props, toinsert[toinsert.length - 1]);\n",
       "      element.append(toinsert);\n",
       "      return toinsert\n",
       "    }\n",
       "\n",
       "    /* Handle when an output is cleared or removed */\n",
       "    events.on('clear_output.CodeCell', handleClearOutput);\n",
       "    events.on('delete.Cell', handleClearOutput);\n",
       "\n",
       "    /* Handle when a new output is added */\n",
       "    events.on('output_added.OutputArea', handleAddOutput);\n",
       "\n",
       "    /**\n",
       "     * Register the mime type and append_mime function with output_area\n",
       "     */\n",
       "    OutputArea.prototype.register_mime_type(EXEC_MIME_TYPE, append_mime, {\n",
       "      /* Is output safe? */\n",
       "      safe: true,\n",
       "      /* Index of renderer in `output_area.display_order` */\n",
       "      index: 0\n",
       "    });\n",
       "  }\n",
       "\n",
       "  // register the mime type if in Jupyter Notebook environment and previously unregistered\n",
       "  if (root.Jupyter !== undefined) {\n",
       "    const events = require('base/js/events');\n",
       "    const OutputArea = require('notebook/js/outputarea').OutputArea;\n",
       "\n",
       "    if (OutputArea.prototype.mime_types().indexOf(EXEC_MIME_TYPE) == -1) {\n",
       "      register_renderer(events, OutputArea);\n",
       "    }\n",
       "  }\n",
       "\n",
       "  \n",
       "  if (typeof (root._bokeh_timeout) === \"undefined\" || force === true) {\n",
       "    root._bokeh_timeout = Date.now() + 5000;\n",
       "    root._bokeh_failed_load = false;\n",
       "  }\n",
       "\n",
       "  const NB_LOAD_WARNING = {'data': {'text/html':\n",
       "     \"<div style='background-color: #fdd'>\\n\"+\n",
       "     \"<p>\\n\"+\n",
       "     \"BokehJS does not appear to have successfully loaded. If loading BokehJS from CDN, this \\n\"+\n",
       "     \"may be due to a slow or bad network connection. Possible fixes:\\n\"+\n",
       "     \"</p>\\n\"+\n",
       "     \"<ul>\\n\"+\n",
       "     \"<li>re-rerun `output_notebook()` to attempt to load from CDN again, or</li>\\n\"+\n",
       "     \"<li>use INLINE resources instead, as so:</li>\\n\"+\n",
       "     \"</ul>\\n\"+\n",
       "     \"<code>\\n\"+\n",
       "     \"from bokeh.resources import INLINE\\n\"+\n",
       "     \"output_notebook(resources=INLINE)\\n\"+\n",
       "     \"</code>\\n\"+\n",
       "     \"</div>\"}};\n",
       "\n",
       "  function display_loaded() {\n",
       "    const el = document.getElementById(\"1002\");\n",
       "    if (el != null) {\n",
       "      el.textContent = \"BokehJS is loading...\";\n",
       "    }\n",
       "    if (root.Bokeh !== undefined) {\n",
       "      if (el != null) {\n",
       "        el.textContent = \"BokehJS \" + root.Bokeh.version + \" successfully loaded.\";\n",
       "      }\n",
       "    } else if (Date.now() < root._bokeh_timeout) {\n",
       "      setTimeout(display_loaded, 100)\n",
       "    }\n",
       "  }\n",
       "\n",
       "\n",
       "  function run_callbacks() {\n",
       "    try {\n",
       "      root._bokeh_onload_callbacks.forEach(function(callback) {\n",
       "        if (callback != null)\n",
       "          callback();\n",
       "      });\n",
       "    } finally {\n",
       "      delete root._bokeh_onload_callbacks\n",
       "    }\n",
       "    console.debug(\"Bokeh: all callbacks have finished\");\n",
       "  }\n",
       "\n",
       "  function load_libs(css_urls, js_urls, callback) {\n",
       "    if (css_urls == null) css_urls = [];\n",
       "    if (js_urls == null) js_urls = [];\n",
       "\n",
       "    root._bokeh_onload_callbacks.push(callback);\n",
       "    if (root._bokeh_is_loading > 0) {\n",
       "      console.debug(\"Bokeh: BokehJS is being loaded, scheduling callback at\", now());\n",
       "      return null;\n",
       "    }\n",
       "    if (js_urls == null || js_urls.length === 0) {\n",
       "      run_callbacks();\n",
       "      return null;\n",
       "    }\n",
       "    console.debug(\"Bokeh: BokehJS not loaded, scheduling load and callback at\", now());\n",
       "    root._bokeh_is_loading = css_urls.length + js_urls.length;\n",
       "\n",
       "    function on_load() {\n",
       "      root._bokeh_is_loading--;\n",
       "      if (root._bokeh_is_loading === 0) {\n",
       "        console.debug(\"Bokeh: all BokehJS libraries/stylesheets loaded\");\n",
       "        run_callbacks()\n",
       "      }\n",
       "    }\n",
       "\n",
       "    function on_error(url) {\n",
       "      console.error(\"failed to load \" + url);\n",
       "    }\n",
       "\n",
       "    for (let i = 0; i < css_urls.length; i++) {\n",
       "      const url = css_urls[i];\n",
       "      const element = document.createElement(\"link\");\n",
       "      element.onload = on_load;\n",
       "      element.onerror = on_error.bind(null, url);\n",
       "      element.rel = \"stylesheet\";\n",
       "      element.type = \"text/css\";\n",
       "      element.href = url;\n",
       "      console.debug(\"Bokeh: injecting link tag for BokehJS stylesheet: \", url);\n",
       "      document.body.appendChild(element);\n",
       "    }\n",
       "\n",
       "    for (let i = 0; i < js_urls.length; i++) {\n",
       "      const url = js_urls[i];\n",
       "      const element = document.createElement('script');\n",
       "      element.onload = on_load;\n",
       "      element.onerror = on_error.bind(null, url);\n",
       "      element.async = false;\n",
       "      element.src = url;\n",
       "      console.debug(\"Bokeh: injecting script tag for BokehJS library: \", url);\n",
       "      document.head.appendChild(element);\n",
       "    }\n",
       "  };\n",
       "\n",
       "  function inject_raw_css(css) {\n",
       "    const element = document.createElement(\"style\");\n",
       "    element.appendChild(document.createTextNode(css));\n",
       "    document.body.appendChild(element);\n",
       "  }\n",
       "\n",
       "  \n",
       "  const js_urls = [\"https://cdn.bokeh.org/bokeh/release/bokeh-2.4.2.min.js\", \"https://cdn.bokeh.org/bokeh/release/bokeh-gl-2.4.2.min.js\", \"https://cdn.bokeh.org/bokeh/release/bokeh-widgets-2.4.2.min.js\", \"https://cdn.bokeh.org/bokeh/release/bokeh-tables-2.4.2.min.js\", \"https://cdn.bokeh.org/bokeh/release/bokeh-mathjax-2.4.2.min.js\"];\n",
       "  const css_urls = [];\n",
       "  \n",
       "\n",
       "  const inline_js = [\n",
       "    function(Bokeh) {\n",
       "      Bokeh.set_log_level(\"info\");\n",
       "    },\n",
       "    function(Bokeh) {\n",
       "    \n",
       "    \n",
       "    }\n",
       "  ];\n",
       "\n",
       "  function run_inline_js() {\n",
       "    \n",
       "    if (root.Bokeh !== undefined || force === true) {\n",
       "      \n",
       "    for (let i = 0; i < inline_js.length; i++) {\n",
       "      inline_js[i].call(root, root.Bokeh);\n",
       "    }\n",
       "    if (force === true) {\n",
       "        display_loaded();\n",
       "      }} else if (Date.now() < root._bokeh_timeout) {\n",
       "      setTimeout(run_inline_js, 100);\n",
       "    } else if (!root._bokeh_failed_load) {\n",
       "      console.log(\"Bokeh: BokehJS failed to load within specified timeout.\");\n",
       "      root._bokeh_failed_load = true;\n",
       "    } else if (force !== true) {\n",
       "      const cell = $(document.getElementById(\"1002\")).parents('.cell').data().cell;\n",
       "      cell.output_area.append_execute_result(NB_LOAD_WARNING)\n",
       "    }\n",
       "\n",
       "  }\n",
       "\n",
       "  if (root._bokeh_is_loading === 0) {\n",
       "    console.debug(\"Bokeh: BokehJS loaded, going straight to plotting\");\n",
       "    run_inline_js();\n",
       "  } else {\n",
       "    load_libs(css_urls, js_urls, function() {\n",
       "      console.debug(\"Bokeh: BokehJS plotting callback run at\", now());\n",
       "      run_inline_js();\n",
       "    });\n",
       "  }\n",
       "}(window));"
      ],
      "application/vnd.bokehjs_load.v0+json": "\n(function(root) {\n  function now() {\n    return new Date();\n  }\n\n  const force = true;\n\n  if (typeof root._bokeh_onload_callbacks === \"undefined\" || force === true) {\n    root._bokeh_onload_callbacks = [];\n    root._bokeh_is_loading = undefined;\n  }\n\n  \n\n  \n  if (typeof (root._bokeh_timeout) === \"undefined\" || force === true) {\n    root._bokeh_timeout = Date.now() + 5000;\n    root._bokeh_failed_load = false;\n  }\n\n  const NB_LOAD_WARNING = {'data': {'text/html':\n     \"<div style='background-color: #fdd'>\\n\"+\n     \"<p>\\n\"+\n     \"BokehJS does not appear to have successfully loaded. If loading BokehJS from CDN, this \\n\"+\n     \"may be due to a slow or bad network connection. Possible fixes:\\n\"+\n     \"</p>\\n\"+\n     \"<ul>\\n\"+\n     \"<li>re-rerun `output_notebook()` to attempt to load from CDN again, or</li>\\n\"+\n     \"<li>use INLINE resources instead, as so:</li>\\n\"+\n     \"</ul>\\n\"+\n     \"<code>\\n\"+\n     \"from bokeh.resources import INLINE\\n\"+\n     \"output_notebook(resources=INLINE)\\n\"+\n     \"</code>\\n\"+\n     \"</div>\"}};\n\n  function display_loaded() {\n    const el = document.getElementById(\"1002\");\n    if (el != null) {\n      el.textContent = \"BokehJS is loading...\";\n    }\n    if (root.Bokeh !== undefined) {\n      if (el != null) {\n        el.textContent = \"BokehJS \" + root.Bokeh.version + \" successfully loaded.\";\n      }\n    } else if (Date.now() < root._bokeh_timeout) {\n      setTimeout(display_loaded, 100)\n    }\n  }\n\n\n  function run_callbacks() {\n    try {\n      root._bokeh_onload_callbacks.forEach(function(callback) {\n        if (callback != null)\n          callback();\n      });\n    } finally {\n      delete root._bokeh_onload_callbacks\n    }\n    console.debug(\"Bokeh: all callbacks have finished\");\n  }\n\n  function load_libs(css_urls, js_urls, callback) {\n    if (css_urls == null) css_urls = [];\n    if (js_urls == null) js_urls = [];\n\n    root._bokeh_onload_callbacks.push(callback);\n    if (root._bokeh_is_loading > 0) {\n      console.debug(\"Bokeh: BokehJS is being loaded, scheduling callback at\", now());\n      return null;\n    }\n    if (js_urls == null || js_urls.length === 0) {\n      run_callbacks();\n      return null;\n    }\n    console.debug(\"Bokeh: BokehJS not loaded, scheduling load and callback at\", now());\n    root._bokeh_is_loading = css_urls.length + js_urls.length;\n\n    function on_load() {\n      root._bokeh_is_loading--;\n      if (root._bokeh_is_loading === 0) {\n        console.debug(\"Bokeh: all BokehJS libraries/stylesheets loaded\");\n        run_callbacks()\n      }\n    }\n\n    function on_error(url) {\n      console.error(\"failed to load \" + url);\n    }\n\n    for (let i = 0; i < css_urls.length; i++) {\n      const url = css_urls[i];\n      const element = document.createElement(\"link\");\n      element.onload = on_load;\n      element.onerror = on_error.bind(null, url);\n      element.rel = \"stylesheet\";\n      element.type = \"text/css\";\n      element.href = url;\n      console.debug(\"Bokeh: injecting link tag for BokehJS stylesheet: \", url);\n      document.body.appendChild(element);\n    }\n\n    for (let i = 0; i < js_urls.length; i++) {\n      const url = js_urls[i];\n      const element = document.createElement('script');\n      element.onload = on_load;\n      element.onerror = on_error.bind(null, url);\n      element.async = false;\n      element.src = url;\n      console.debug(\"Bokeh: injecting script tag for BokehJS library: \", url);\n      document.head.appendChild(element);\n    }\n  };\n\n  function inject_raw_css(css) {\n    const element = document.createElement(\"style\");\n    element.appendChild(document.createTextNode(css));\n    document.body.appendChild(element);\n  }\n\n  \n  const js_urls = [\"https://cdn.bokeh.org/bokeh/release/bokeh-2.4.2.min.js\", \"https://cdn.bokeh.org/bokeh/release/bokeh-gl-2.4.2.min.js\", \"https://cdn.bokeh.org/bokeh/release/bokeh-widgets-2.4.2.min.js\", \"https://cdn.bokeh.org/bokeh/release/bokeh-tables-2.4.2.min.js\", \"https://cdn.bokeh.org/bokeh/release/bokeh-mathjax-2.4.2.min.js\"];\n  const css_urls = [];\n  \n\n  const inline_js = [\n    function(Bokeh) {\n      Bokeh.set_log_level(\"info\");\n    },\n    function(Bokeh) {\n    \n    \n    }\n  ];\n\n  function run_inline_js() {\n    \n    if (root.Bokeh !== undefined || force === true) {\n      \n    for (let i = 0; i < inline_js.length; i++) {\n      inline_js[i].call(root, root.Bokeh);\n    }\n    if (force === true) {\n        display_loaded();\n      }} else if (Date.now() < root._bokeh_timeout) {\n      setTimeout(run_inline_js, 100);\n    } else if (!root._bokeh_failed_load) {\n      console.log(\"Bokeh: BokehJS failed to load within specified timeout.\");\n      root._bokeh_failed_load = true;\n    } else if (force !== true) {\n      const cell = $(document.getElementById(\"1002\")).parents('.cell').data().cell;\n      cell.output_area.append_execute_result(NB_LOAD_WARNING)\n    }\n\n  }\n\n  if (root._bokeh_is_loading === 0) {\n    console.debug(\"Bokeh: BokehJS loaded, going straight to plotting\");\n    run_inline_js();\n  } else {\n    load_libs(css_urls, js_urls, function() {\n      console.debug(\"Bokeh: BokehJS plotting callback run at\", now());\n      run_inline_js();\n    });\n  }\n}(window));"
     },
     "metadata": {},
     "output_type": "display_data"
    },
    {
     "data": {
      "text/html": [
       "\n",
       "\n",
       "\n",
       "\n",
       "\n",
       "\n",
       "  <div class=\"bk-root\" id=\"332e21b1-9738-4e37-8630-164a661b13de\" data-root-id=\"1003\"></div>\n"
      ]
     },
     "metadata": {},
     "output_type": "display_data"
    },
    {
     "data": {
      "application/javascript": [
       "(function(root) {\n",
       "  function embed_document(root) {\n",
       "    \n",
       "  const docs_json = {\"1d3f62a6-ce87-46ce-bfba-5249ee6a3251\":{\"defs\":[],\"roots\":{\"references\":[{\"attributes\":{\"background_fill_color\":\"#20262B\",\"below\":[{\"id\":\"1012\"}],\"border_fill_color\":\"#15191C\",\"center\":[{\"id\":\"1015\"},{\"id\":\"1019\"}],\"height\":250,\"left\":[{\"id\":\"1016\"}],\"max_width\":500,\"outline_line_alpha\":0.25,\"outline_line_color\":\"#E0E0E0\",\"renderers\":[{\"id\":\"1038\"}],\"sizing_mode\":\"stretch_width\",\"title\":{\"id\":\"1040\"},\"toolbar\":{\"id\":\"1027\"},\"x_range\":{\"id\":\"1004\"},\"x_scale\":{\"id\":\"1008\"},\"y_range\":{\"id\":\"1006\"},\"y_scale\":{\"id\":\"1010\"}},\"id\":\"1003\",\"subtype\":\"Figure\",\"type\":\"Plot\"},{\"attributes\":{},\"id\":\"1043\",\"type\":\"BasicTickFormatter\"},{\"attributes\":{\"line_alpha\":0.1,\"line_color\":\"#1f77b4\",\"x\":{\"field\":\"x\"},\"y\":{\"field\":\"y\"}},\"id\":\"1036\",\"type\":\"Line\"},{\"attributes\":{},\"id\":\"1025\",\"type\":\"HelpTool\"},{\"attributes\":{\"axis_label_standoff\":10,\"axis_label_text_color\":\"#E0E0E0\",\"axis_label_text_font\":\"Helvetica\",\"axis_label_text_font_size\":\"1.25em\",\"axis_label_text_font_style\":\"normal\",\"axis_line_alpha\":0,\"axis_line_color\":\"#E0E0E0\",\"coordinates\":null,\"formatter\":{\"id\":\"1046\"},\"group\":null,\"major_label_policy\":{\"id\":\"1047\"},\"major_label_text_color\":\"#E0E0E0\",\"major_label_text_font\":\"Helvetica\",\"major_label_text_font_size\":\"1.025em\",\"major_tick_line_alpha\":0,\"major_tick_line_color\":\"#E0E0E0\",\"minor_tick_line_alpha\":0,\"minor_tick_line_color\":\"#E0E0E0\",\"ticker\":{\"id\":\"1013\"}},\"id\":\"1012\",\"type\":\"LinearAxis\"},{\"attributes\":{},\"id\":\"1044\",\"type\":\"AllLabels\"},{\"attributes\":{},\"id\":\"1006\",\"type\":\"DataRange1d\"},{\"attributes\":{},\"id\":\"1046\",\"type\":\"BasicTickFormatter\"},{\"attributes\":{},\"id\":\"1010\",\"type\":\"LinearScale\"},{\"attributes\":{\"axis\":{\"id\":\"1016\"},\"coordinates\":null,\"dimension\":1,\"grid_line_alpha\":0.25,\"grid_line_color\":\"#E0E0E0\",\"group\":null,\"ticker\":null},\"id\":\"1019\",\"type\":\"Grid\"},{\"attributes\":{\"line_alpha\":0.2,\"line_color\":\"#1f77b4\",\"x\":{\"field\":\"x\"},\"y\":{\"field\":\"y\"}},\"id\":\"1037\",\"type\":\"Line\"},{\"attributes\":{\"axis_label_standoff\":10,\"axis_label_text_color\":\"#E0E0E0\",\"axis_label_text_font\":\"Helvetica\",\"axis_label_text_font_size\":\"1.25em\",\"axis_label_text_font_style\":\"normal\",\"axis_line_alpha\":0,\"axis_line_color\":\"#E0E0E0\",\"coordinates\":null,\"formatter\":{\"id\":\"1043\"},\"group\":null,\"major_label_policy\":{\"id\":\"1044\"},\"major_label_text_color\":\"#E0E0E0\",\"major_label_text_font\":\"Helvetica\",\"major_label_text_font_size\":\"1.025em\",\"major_tick_line_alpha\":0,\"major_tick_line_color\":\"#E0E0E0\",\"minor_tick_line_alpha\":0,\"minor_tick_line_color\":\"#E0E0E0\",\"ticker\":{\"id\":\"1017\"}},\"id\":\"1016\",\"type\":\"LinearAxis\"},{\"attributes\":{\"coordinates\":null,\"data_source\":{\"id\":\"1034\"},\"glyph\":{\"id\":\"1035\"},\"group\":null,\"hover_glyph\":null,\"muted_glyph\":{\"id\":\"1037\"},\"nonselection_glyph\":{\"id\":\"1036\"},\"view\":{\"id\":\"1039\"}},\"id\":\"1038\",\"type\":\"GlyphRenderer\"},{\"attributes\":{},\"id\":\"1047\",\"type\":\"AllLabels\"},{\"attributes\":{\"axis\":{\"id\":\"1012\"},\"coordinates\":null,\"grid_line_alpha\":0.25,\"grid_line_color\":\"#E0E0E0\",\"group\":null,\"ticker\":null},\"id\":\"1015\",\"type\":\"Grid\"},{\"attributes\":{},\"id\":\"1017\",\"type\":\"BasicTicker\"},{\"attributes\":{},\"id\":\"1004\",\"type\":\"DataRange1d\"},{\"attributes\":{\"tools\":[{\"id\":\"1020\"},{\"id\":\"1021\"},{\"id\":\"1022\"},{\"id\":\"1023\"},{\"id\":\"1024\"},{\"id\":\"1025\"}]},\"id\":\"1027\",\"type\":\"Toolbar\"},{\"attributes\":{\"line_color\":\"#1f77b4\",\"x\":{\"field\":\"x\"},\"y\":{\"field\":\"y\"}},\"id\":\"1035\",\"type\":\"Line\"},{\"attributes\":{},\"id\":\"1021\",\"type\":\"WheelZoomTool\"},{\"attributes\":{\"source\":{\"id\":\"1034\"}},\"id\":\"1039\",\"type\":\"CDSView\"},{\"attributes\":{},\"id\":\"1020\",\"type\":\"PanTool\"},{\"attributes\":{},\"id\":\"1008\",\"type\":\"LinearScale\"},{\"attributes\":{\"overlay\":{\"id\":\"1026\"}},\"id\":\"1022\",\"type\":\"BoxZoomTool\"},{\"attributes\":{},\"id\":\"1023\",\"type\":\"SaveTool\"},{\"attributes\":{},\"id\":\"1024\",\"type\":\"ResetTool\"},{\"attributes\":{},\"id\":\"1048\",\"type\":\"UnionRenderers\"},{\"attributes\":{\"bottom_units\":\"screen\",\"coordinates\":null,\"fill_alpha\":0.5,\"fill_color\":\"lightgrey\",\"group\":null,\"left_units\":\"screen\",\"level\":\"overlay\",\"line_alpha\":1.0,\"line_color\":\"black\",\"line_dash\":[4,4],\"line_width\":2,\"right_units\":\"screen\",\"syncable\":false,\"top_units\":\"screen\"},\"id\":\"1026\",\"type\":\"BoxAnnotation\"},{\"attributes\":{},\"id\":\"1049\",\"type\":\"Selection\"},{\"attributes\":{\"coordinates\":null,\"group\":null,\"text_color\":\"#E0E0E0\",\"text_font\":\"Helvetica\",\"text_font_size\":\"1.15em\"},\"id\":\"1040\",\"type\":\"Title\"},{\"attributes\":{\"data\":{\"x\":[1,2,3,4,5],\"y\":[4,5,5,7,2]},\"selected\":{\"id\":\"1049\"},\"selection_policy\":{\"id\":\"1048\"}},\"id\":\"1034\",\"type\":\"ColumnDataSource\"},{\"attributes\":{},\"id\":\"1013\",\"type\":\"BasicTicker\"}],\"root_ids\":[\"1003\"]},\"title\":\"Bokeh Application\",\"version\":\"2.4.2\"}};\n",
       "  const render_items = [{\"docid\":\"1d3f62a6-ce87-46ce-bfba-5249ee6a3251\",\"root_ids\":[\"1003\"],\"roots\":{\"1003\":\"332e21b1-9738-4e37-8630-164a661b13de\"}}];\n",
       "  root.Bokeh.embed.embed_items_notebook(docs_json, render_items);\n",
       "\n",
       "  }\n",
       "  if (root.Bokeh !== undefined) {\n",
       "    embed_document(root);\n",
       "  } else {\n",
       "    let attempts = 0;\n",
       "    const timer = setInterval(function(root) {\n",
       "      if (root.Bokeh !== undefined) {\n",
       "        clearInterval(timer);\n",
       "        embed_document(root);\n",
       "      } else {\n",
       "        attempts++;\n",
       "        if (attempts > 100) {\n",
       "          clearInterval(timer);\n",
       "          console.log(\"Bokeh: ERROR: Unable to run BokehJS code because BokehJS library is missing\");\n",
       "        }\n",
       "      }\n",
       "    }, 10, root)\n",
       "  }\n",
       "})(window);"
      ],
      "application/vnd.bokehjs_exec.v0+json": ""
     },
     "metadata": {
      "application/vnd.bokehjs_exec.v0+json": {
       "id": "1003"
      }
     },
     "output_type": "display_data"
    }
   ],
   "source": [
    "from bokeh.plotting import figure, show\n",
    "from bokeh.io import curdoc, output_notebook\n",
    "output_notebook()  # for notebook embedding\n",
    "\n",
    "# prepare some data\n",
    "x = [1, 2, 3, 4, 5]\n",
    "y = [4, 5, 5, 7, 2]\n",
    "\n",
    "# apply theme to current document\n",
    "curdoc().theme = 'dark_minimal'\n",
    "\n",
    "# create a plot\n",
    "p = figure(sizing_mode='stretch_width', max_width=500, plot_height=250)\n",
    "\n",
    "# add a renderer\n",
    "p.line(x, y)\n",
    "\n",
    "# show the results\n",
    "show(p)"
   ]
  },
  {
   "cell_type": "markdown",
   "metadata": {
    "id": "Z2MRbMYiAWNs"
   },
   "source": [
    "You can also create your own themes to use across multiple plots. Bokeh's themes can be either in a YAML or JSON format. To learn more about creating and using customized themes, see [Creating custom themes](https://docs.bokeh.org/en/latest/docs/user_guide/styling.html#userguide-styling-using-themes-custom) in the user guide"
   ]
  },
  {
   "cell_type": "markdown",
   "metadata": {
    "id": "v1CJmAz7AhmP"
   },
   "source": [
    "> **See also**\n",
    "\n",
    "> For more information on using themes with Bokeh, see [Using themes](https://docs.bokeh.org/en/latest/docs/user_guide/styling.html#userguide-styling-using-themes) in the user guide and [bokeh.themes](https://docs.bokeh.org/en/latest/docs/reference/themes.html#module-bokeh.themes) in the reference guide"
   ]
  },
  {
   "cell_type": "markdown",
   "metadata": {
    "id": "Xwp7H3XxA-wF"
   },
   "source": [
    "## Resizing your plot\n",
    "\n",
    "Bokeh's [Plot](https://docs.bokeh.org/en/latest/docs/reference/models/plots.html#bokeh.models.plots.Plot) objects have various attributes that influence the way your plot looks"
   ]
  },
  {
   "cell_type": "markdown",
   "metadata": {
    "id": "779Xw2BOBKyU"
   },
   "source": [
    "### Setting width and height\n",
    "To set the size of your plot, use the attributes [plot_height](https://docs.bokeh.org/en/latest/docs/reference/models/plots.html#bokeh.models.plots.Plot.plot_height) and [plot_width](https://docs.bokeh.org/en/latest/docs/reference/models/plots.html#bokeh.models.plots.Plot.plot_width) when calling the `figure()` function:"
   ]
  },
  {
   "cell_type": "code",
   "execution_count": 2,
   "metadata": {
    "colab": {
     "base_uri": "https://localhost:8080/",
     "height": 267
    },
    "executionInfo": {
     "elapsed": 2677,
     "status": "ok",
     "timestamp": 1616922346645,
     "user": {
      "displayName": "류기윤",
      "photoUrl": "https://lh3.googleusercontent.com/a-/AOh14GgQ3YtFwUPyzjO8P1LCqbjF6RkNFAdXqzp9xLgvmA=s64",
      "userId": "14686264071241136597"
     },
     "user_tz": -540
    },
    "id": "RXvLIalpAI4f",
    "outputId": "16417be4-84d9-43be-e836-02bfd0dc8f99"
   },
   "outputs": [
    {
     "data": {
      "text/html": [
       "\n",
       "\n",
       "\n",
       "\n",
       "\n",
       "\n",
       "  <div class=\"bk-root\" id=\"16e79b32-878e-4732-9224-2196cb1f964b\" data-root-id=\"1106\"></div>\n"
      ]
     },
     "metadata": {},
     "output_type": "display_data"
    },
    {
     "data": {
      "application/javascript": [
       "(function(root) {\n",
       "  function embed_document(root) {\n",
       "    \n",
       "  const docs_json = {\"16e7fbf4-96fc-4d72-8914-37b46accf429\":{\"defs\":[],\"roots\":{\"references\":[{\"attributes\":{\"below\":[{\"id\":\"1117\"}],\"center\":[{\"id\":\"1120\"},{\"id\":\"1124\"}],\"height\":250,\"left\":[{\"id\":\"1121\"}],\"renderers\":[{\"id\":\"1143\"}],\"title\":{\"id\":\"1107\"},\"toolbar\":{\"id\":\"1132\"},\"width\":350,\"x_range\":{\"id\":\"1109\"},\"x_scale\":{\"id\":\"1113\"},\"y_range\":{\"id\":\"1111\"},\"y_scale\":{\"id\":\"1115\"}},\"id\":\"1106\",\"subtype\":\"Figure\",\"type\":\"Plot\"},{\"attributes\":{},\"id\":\"1111\",\"type\":\"DataRange1d\"},{\"attributes\":{},\"id\":\"1118\",\"type\":\"BasicTicker\"},{\"attributes\":{\"source\":{\"id\":\"1139\"}},\"id\":\"1144\",\"type\":\"CDSView\"},{\"attributes\":{},\"id\":\"1161\",\"type\":\"BasicTickFormatter\"},{\"attributes\":{\"fill_alpha\":{\"value\":0.1},\"fill_color\":{\"value\":\"red\"},\"hatch_alpha\":{\"value\":0.1},\"line_alpha\":{\"value\":0.1},\"line_color\":{\"value\":\"#1f77b4\"},\"size\":{\"value\":15},\"x\":{\"field\":\"x\"},\"y\":{\"field\":\"y\"}},\"id\":\"1141\",\"type\":\"Circle\"},{\"attributes\":{},\"id\":\"1109\",\"type\":\"DataRange1d\"},{\"attributes\":{\"fill_color\":{\"value\":\"red\"},\"line_color\":{\"value\":\"#1f77b4\"},\"size\":{\"value\":15},\"x\":{\"field\":\"x\"},\"y\":{\"field\":\"y\"}},\"id\":\"1140\",\"type\":\"Circle\"},{\"attributes\":{\"overlay\":{\"id\":\"1131\"}},\"id\":\"1127\",\"type\":\"BoxZoomTool\"},{\"attributes\":{\"data\":{\"x\":[1,2,3,4,5],\"y\":[4,5,5,7,2]},\"selected\":{\"id\":\"1164\"},\"selection_policy\":{\"id\":\"1163\"}},\"id\":\"1139\",\"type\":\"ColumnDataSource\"},{\"attributes\":{\"coordinates\":null,\"group\":null,\"text\":\"Plot sizing example\",\"text_color\":\"#5B5B5B\",\"text_font\":\"Calibri Light\",\"text_font_size\":\"1.25em\",\"text_font_style\":\"bold\"},\"id\":\"1107\",\"type\":\"Title\"},{\"attributes\":{},\"id\":\"1113\",\"type\":\"LinearScale\"},{\"attributes\":{},\"id\":\"1115\",\"type\":\"LinearScale\"},{\"attributes\":{\"axis\":{\"id\":\"1117\"},\"coordinates\":null,\"group\":null,\"ticker\":null},\"id\":\"1120\",\"type\":\"Grid\"},{\"attributes\":{},\"id\":\"1163\",\"type\":\"UnionRenderers\"},{\"attributes\":{\"axis_label\":\"x\",\"axis_label_standoff\":10,\"axis_label_text_color\":\"#5B5B5B\",\"axis_label_text_font\":\"Calibri Light\",\"axis_label_text_font_size\":\"1.15em\",\"axis_label_text_font_style\":\"bold\",\"axis_line_alpha\":1,\"axis_line_color\":\"#5B5B5B\",\"coordinates\":null,\"formatter\":{\"id\":\"1161\"},\"group\":null,\"major_label_policy\":{\"id\":\"1162\"},\"major_label_text_color\":\"#5B5B5B\",\"major_label_text_font\":\"Calibri Light\",\"major_label_text_font_size\":\"0.95em\",\"major_label_text_font_style\":\"bold\",\"major_tick_in\":0,\"major_tick_line_alpha\":0.25,\"major_tick_line_color\":\"#5B5B5B\",\"major_tick_out\":3,\"minor_tick_line_alpha\":0.25,\"minor_tick_line_color\":\"#5B5B5B\",\"ticker\":{\"id\":\"1118\"}},\"id\":\"1117\",\"type\":\"LinearAxis\"},{\"attributes\":{},\"id\":\"1158\",\"type\":\"BasicTickFormatter\"},{\"attributes\":{},\"id\":\"1126\",\"type\":\"WheelZoomTool\"},{\"attributes\":{},\"id\":\"1159\",\"type\":\"AllLabels\"},{\"attributes\":{\"axis_label\":\"y\",\"axis_label_standoff\":10,\"axis_label_text_color\":\"#5B5B5B\",\"axis_label_text_font\":\"Calibri Light\",\"axis_label_text_font_size\":\"1.15em\",\"axis_label_text_font_style\":\"bold\",\"axis_line_alpha\":1,\"axis_line_color\":\"#5B5B5B\",\"coordinates\":null,\"formatter\":{\"id\":\"1158\"},\"group\":null,\"major_label_policy\":{\"id\":\"1159\"},\"major_label_text_color\":\"#5B5B5B\",\"major_label_text_font\":\"Calibri Light\",\"major_label_text_font_size\":\"0.95em\",\"major_label_text_font_style\":\"bold\",\"major_tick_in\":0,\"major_tick_line_alpha\":0.25,\"major_tick_line_color\":\"#5B5B5B\",\"major_tick_out\":3,\"minor_tick_line_alpha\":0.25,\"minor_tick_line_color\":\"#5B5B5B\",\"ticker\":{\"id\":\"1122\"}},\"id\":\"1121\",\"type\":\"LinearAxis\"},{\"attributes\":{\"fill_alpha\":{\"value\":0.2},\"fill_color\":{\"value\":\"red\"},\"hatch_alpha\":{\"value\":0.2},\"line_alpha\":{\"value\":0.2},\"line_color\":{\"value\":\"#1f77b4\"},\"size\":{\"value\":15},\"x\":{\"field\":\"x\"},\"y\":{\"field\":\"y\"}},\"id\":\"1142\",\"type\":\"Circle\"},{\"attributes\":{\"tools\":[{\"id\":\"1125\"},{\"id\":\"1126\"},{\"id\":\"1127\"},{\"id\":\"1128\"},{\"id\":\"1129\"},{\"id\":\"1130\"}]},\"id\":\"1132\",\"type\":\"Toolbar\"},{\"attributes\":{\"axis\":{\"id\":\"1121\"},\"coordinates\":null,\"dimension\":1,\"group\":null,\"ticker\":null},\"id\":\"1124\",\"type\":\"Grid\"},{\"attributes\":{\"bottom_units\":\"screen\",\"coordinates\":null,\"fill_alpha\":0.5,\"fill_color\":\"lightgrey\",\"group\":null,\"left_units\":\"screen\",\"level\":\"overlay\",\"line_alpha\":1.0,\"line_color\":\"black\",\"line_dash\":[4,4],\"line_width\":2,\"right_units\":\"screen\",\"syncable\":false,\"top_units\":\"screen\"},\"id\":\"1131\",\"type\":\"BoxAnnotation\"},{\"attributes\":{},\"id\":\"1162\",\"type\":\"AllLabels\"},{\"attributes\":{},\"id\":\"1164\",\"type\":\"Selection\"},{\"attributes\":{},\"id\":\"1130\",\"type\":\"HelpTool\"},{\"attributes\":{},\"id\":\"1125\",\"type\":\"PanTool\"},{\"attributes\":{},\"id\":\"1129\",\"type\":\"ResetTool\"},{\"attributes\":{},\"id\":\"1122\",\"type\":\"BasicTicker\"},{\"attributes\":{\"coordinates\":null,\"data_source\":{\"id\":\"1139\"},\"glyph\":{\"id\":\"1140\"},\"group\":null,\"hover_glyph\":null,\"muted_glyph\":{\"id\":\"1142\"},\"nonselection_glyph\":{\"id\":\"1141\"},\"view\":{\"id\":\"1144\"}},\"id\":\"1143\",\"type\":\"GlyphRenderer\"},{\"attributes\":{},\"id\":\"1128\",\"type\":\"SaveTool\"}],\"root_ids\":[\"1106\"]},\"title\":\"Bokeh Application\",\"version\":\"2.4.2\"}};\n",
       "  const render_items = [{\"docid\":\"16e7fbf4-96fc-4d72-8914-37b46accf429\",\"root_ids\":[\"1106\"],\"roots\":{\"1106\":\"16e79b32-878e-4732-9224-2196cb1f964b\"}}];\n",
       "  root.Bokeh.embed.embed_items_notebook(docs_json, render_items);\n",
       "\n",
       "  }\n",
       "  if (root.Bokeh !== undefined) {\n",
       "    embed_document(root);\n",
       "  } else {\n",
       "    let attempts = 0;\n",
       "    const timer = setInterval(function(root) {\n",
       "      if (root.Bokeh !== undefined) {\n",
       "        clearInterval(timer);\n",
       "        embed_document(root);\n",
       "      } else {\n",
       "        attempts++;\n",
       "        if (attempts > 100) {\n",
       "          clearInterval(timer);\n",
       "          console.log(\"Bokeh: ERROR: Unable to run BokehJS code because BokehJS library is missing\");\n",
       "        }\n",
       "      }\n",
       "    }, 10, root)\n",
       "  }\n",
       "})(window);"
      ],
      "application/vnd.bokehjs_exec.v0+json": ""
     },
     "metadata": {
      "application/vnd.bokehjs_exec.v0+json": {
       "id": "1106"
      }
     },
     "output_type": "display_data"
    }
   ],
   "source": [
    "curdoc().theme = 'caliber'\n",
    "\n",
    "# create a new plot with a specific size\n",
    "p = figure(\n",
    "    title='Plot sizing example',\n",
    "    plot_width=350,\n",
    "    plot_height=250,\n",
    "    x_axis_label='x',\n",
    "    y_axis_label='y',\n",
    ")\n",
    "\n",
    "# add circle renderer\n",
    "circle = p.circle(x, y, fill_color='red', size=15)\n",
    "\n",
    "# show the results\n",
    "show(p)"
   ]
  },
  {
   "cell_type": "markdown",
   "metadata": {
    "id": "LRBGpybsCJlW"
   },
   "source": [
    "Similar to [changing the design of an existing glyph](https://docs.bokeh.org/en/latest/docs/first_steps/first_steps_2.html#first-steps-2-altering-existing), you can change a plot’s attributes at any time after its creation:"
   ]
  },
  {
   "cell_type": "code",
   "execution_count": 3,
   "metadata": {
    "colab": {
     "base_uri": "https://localhost:8080/",
     "height": 367
    },
    "executionInfo": {
     "elapsed": 2674,
     "status": "ok",
     "timestamp": 1616922346646,
     "user": {
      "displayName": "류기윤",
      "photoUrl": "https://lh3.googleusercontent.com/a-/AOh14GgQ3YtFwUPyzjO8P1LCqbjF6RkNFAdXqzp9xLgvmA=s64",
      "userId": "14686264071241136597"
     },
     "user_tz": -540
    },
    "id": "rjHy6IniBhBb",
    "outputId": "b791c500-83c1-4ec5-fa4b-185926afeef5"
   },
   "outputs": [
    {
     "data": {
      "text/html": [
       "\n",
       "\n",
       "\n",
       "\n",
       "\n",
       "\n",
       "  <div class=\"bk-root\" id=\"ab399a2a-1c17-4dcf-9040-7bc91e6e0255\" data-root-id=\"1216\"></div>\n"
      ]
     },
     "metadata": {},
     "output_type": "display_data"
    },
    {
     "data": {
      "application/javascript": [
       "(function(root) {\n",
       "  function embed_document(root) {\n",
       "    \n",
       "  const docs_json = {\"0c7c7610-5fb0-464d-99d3-6ef4e0d93d7e\":{\"defs\":[],\"roots\":{\"references\":[{\"attributes\":{\"below\":[{\"id\":\"1227\"}],\"center\":[{\"id\":\"1230\"},{\"id\":\"1234\"}],\"height\":350,\"left\":[{\"id\":\"1231\"}],\"renderers\":[{\"id\":\"1253\"}],\"title\":{\"id\":\"1217\"},\"toolbar\":{\"id\":\"1242\"},\"width\":450,\"x_range\":{\"id\":\"1219\"},\"x_scale\":{\"id\":\"1223\"},\"y_range\":{\"id\":\"1221\"},\"y_scale\":{\"id\":\"1225\"}},\"id\":\"1216\",\"subtype\":\"Figure\",\"type\":\"Plot\"},{\"attributes\":{},\"id\":\"1278\",\"type\":\"BasicTickFormatter\"},{\"attributes\":{\"source\":{\"id\":\"1249\"}},\"id\":\"1254\",\"type\":\"CDSView\"},{\"attributes\":{},\"id\":\"1240\",\"type\":\"HelpTool\"},{\"attributes\":{},\"id\":\"1279\",\"type\":\"AllLabels\"},{\"attributes\":{},\"id\":\"1238\",\"type\":\"SaveTool\"},{\"attributes\":{},\"id\":\"1281\",\"type\":\"BasicTickFormatter\"},{\"attributes\":{\"fill_alpha\":{\"value\":0.2},\"fill_color\":{\"value\":\"red\"},\"hatch_alpha\":{\"value\":0.2},\"line_alpha\":{\"value\":0.2},\"line_color\":{\"value\":\"#1f77b4\"},\"size\":{\"value\":15},\"x\":{\"field\":\"x\"},\"y\":{\"field\":\"y\"}},\"id\":\"1252\",\"type\":\"Circle\"},{\"attributes\":{},\"id\":\"1282\",\"type\":\"AllLabels\"},{\"attributes\":{\"coordinates\":null,\"data_source\":{\"id\":\"1249\"},\"glyph\":{\"id\":\"1250\"},\"group\":null,\"hover_glyph\":null,\"muted_glyph\":{\"id\":\"1252\"},\"nonselection_glyph\":{\"id\":\"1251\"},\"view\":{\"id\":\"1254\"}},\"id\":\"1253\",\"type\":\"GlyphRenderer\"},{\"attributes\":{\"axis\":{\"id\":\"1231\"},\"coordinates\":null,\"dimension\":1,\"group\":null,\"ticker\":null},\"id\":\"1234\",\"type\":\"Grid\"},{\"attributes\":{},\"id\":\"1239\",\"type\":\"ResetTool\"},{\"attributes\":{},\"id\":\"1283\",\"type\":\"UnionRenderers\"},{\"attributes\":{\"fill_color\":{\"value\":\"red\"},\"line_color\":{\"value\":\"#1f77b4\"},\"size\":{\"value\":15},\"x\":{\"field\":\"x\"},\"y\":{\"field\":\"y\"}},\"id\":\"1250\",\"type\":\"Circle\"},{\"attributes\":{\"data\":{\"x\":[1,2,3,4,5],\"y\":[4,5,5,7,2]},\"selected\":{\"id\":\"1284\"},\"selection_policy\":{\"id\":\"1283\"}},\"id\":\"1249\",\"type\":\"ColumnDataSource\"},{\"attributes\":{},\"id\":\"1284\",\"type\":\"Selection\"},{\"attributes\":{\"fill_alpha\":{\"value\":0.1},\"fill_color\":{\"value\":\"red\"},\"hatch_alpha\":{\"value\":0.1},\"line_alpha\":{\"value\":0.1},\"line_color\":{\"value\":\"#1f77b4\"},\"size\":{\"value\":15},\"x\":{\"field\":\"x\"},\"y\":{\"field\":\"y\"}},\"id\":\"1251\",\"type\":\"Circle\"},{\"attributes\":{\"tools\":[{\"id\":\"1235\"},{\"id\":\"1236\"},{\"id\":\"1237\"},{\"id\":\"1238\"},{\"id\":\"1239\"},{\"id\":\"1240\"}]},\"id\":\"1242\",\"type\":\"Toolbar\"},{\"attributes\":{},\"id\":\"1219\",\"type\":\"DataRange1d\"},{\"attributes\":{},\"id\":\"1221\",\"type\":\"DataRange1d\"},{\"attributes\":{},\"id\":\"1223\",\"type\":\"LinearScale\"},{\"attributes\":{\"coordinates\":null,\"group\":null,\"text\":\"Plot resizing example\",\"text_color\":\"#5B5B5B\",\"text_font\":\"Calibri Light\",\"text_font_size\":\"1.25em\",\"text_font_style\":\"bold\"},\"id\":\"1217\",\"type\":\"Title\"},{\"attributes\":{\"axis\":{\"id\":\"1227\"},\"coordinates\":null,\"group\":null,\"ticker\":null},\"id\":\"1230\",\"type\":\"Grid\"},{\"attributes\":{},\"id\":\"1225\",\"type\":\"LinearScale\"},{\"attributes\":{},\"id\":\"1228\",\"type\":\"BasicTicker\"},{\"attributes\":{\"axis_label\":\"x\",\"axis_label_standoff\":10,\"axis_label_text_color\":\"#5B5B5B\",\"axis_label_text_font\":\"Calibri Light\",\"axis_label_text_font_size\":\"1.15em\",\"axis_label_text_font_style\":\"bold\",\"axis_line_alpha\":1,\"axis_line_color\":\"#5B5B5B\",\"coordinates\":null,\"formatter\":{\"id\":\"1281\"},\"group\":null,\"major_label_policy\":{\"id\":\"1282\"},\"major_label_text_color\":\"#5B5B5B\",\"major_label_text_font\":\"Calibri Light\",\"major_label_text_font_size\":\"0.95em\",\"major_label_text_font_style\":\"bold\",\"major_tick_in\":0,\"major_tick_line_alpha\":0.25,\"major_tick_line_color\":\"#5B5B5B\",\"major_tick_out\":3,\"minor_tick_line_alpha\":0.25,\"minor_tick_line_color\":\"#5B5B5B\",\"ticker\":{\"id\":\"1228\"}},\"id\":\"1227\",\"type\":\"LinearAxis\"},{\"attributes\":{\"bottom_units\":\"screen\",\"coordinates\":null,\"fill_alpha\":0.5,\"fill_color\":\"lightgrey\",\"group\":null,\"left_units\":\"screen\",\"level\":\"overlay\",\"line_alpha\":1.0,\"line_color\":\"black\",\"line_dash\":[4,4],\"line_width\":2,\"right_units\":\"screen\",\"syncable\":false,\"top_units\":\"screen\"},\"id\":\"1241\",\"type\":\"BoxAnnotation\"},{\"attributes\":{},\"id\":\"1236\",\"type\":\"WheelZoomTool\"},{\"attributes\":{\"overlay\":{\"id\":\"1241\"}},\"id\":\"1237\",\"type\":\"BoxZoomTool\"},{\"attributes\":{\"axis_label\":\"y\",\"axis_label_standoff\":10,\"axis_label_text_color\":\"#5B5B5B\",\"axis_label_text_font\":\"Calibri Light\",\"axis_label_text_font_size\":\"1.15em\",\"axis_label_text_font_style\":\"bold\",\"axis_line_alpha\":1,\"axis_line_color\":\"#5B5B5B\",\"coordinates\":null,\"formatter\":{\"id\":\"1278\"},\"group\":null,\"major_label_policy\":{\"id\":\"1279\"},\"major_label_text_color\":\"#5B5B5B\",\"major_label_text_font\":\"Calibri Light\",\"major_label_text_font_size\":\"0.95em\",\"major_label_text_font_style\":\"bold\",\"major_tick_in\":0,\"major_tick_line_alpha\":0.25,\"major_tick_line_color\":\"#5B5B5B\",\"major_tick_out\":3,\"minor_tick_line_alpha\":0.25,\"minor_tick_line_color\":\"#5B5B5B\",\"ticker\":{\"id\":\"1232\"}},\"id\":\"1231\",\"type\":\"LinearAxis\"},{\"attributes\":{},\"id\":\"1235\",\"type\":\"PanTool\"},{\"attributes\":{},\"id\":\"1232\",\"type\":\"BasicTicker\"}],\"root_ids\":[\"1216\"]},\"title\":\"Bokeh Application\",\"version\":\"2.4.2\"}};\n",
       "  const render_items = [{\"docid\":\"0c7c7610-5fb0-464d-99d3-6ef4e0d93d7e\",\"root_ids\":[\"1216\"],\"roots\":{\"1216\":\"ab399a2a-1c17-4dcf-9040-7bc91e6e0255\"}}];\n",
       "  root.Bokeh.embed.embed_items_notebook(docs_json, render_items);\n",
       "\n",
       "  }\n",
       "  if (root.Bokeh !== undefined) {\n",
       "    embed_document(root);\n",
       "  } else {\n",
       "    let attempts = 0;\n",
       "    const timer = setInterval(function(root) {\n",
       "      if (root.Bokeh !== undefined) {\n",
       "        clearInterval(timer);\n",
       "        embed_document(root);\n",
       "      } else {\n",
       "        attempts++;\n",
       "        if (attempts > 100) {\n",
       "          clearInterval(timer);\n",
       "          console.log(\"Bokeh: ERROR: Unable to run BokehJS code because BokehJS library is missing\");\n",
       "        }\n",
       "      }\n",
       "    }, 10, root)\n",
       "  }\n",
       "})(window);"
      ],
      "application/vnd.bokehjs_exec.v0+json": ""
     },
     "metadata": {
      "application/vnd.bokehjs_exec.v0+json": {
       "id": "1216"
      }
     },
     "output_type": "display_data"
    }
   ],
   "source": [
    "# create a new plot with a specific size\n",
    "p = figure(\n",
    "    title='Plot resizing example',\n",
    "    plot_width=350,\n",
    "    plot_height=250,\n",
    "    x_axis_label='x',\n",
    "    y_axis_label='y',\n",
    ")\n",
    "\n",
    "# chage plot size\n",
    "p.plot_width = 450\n",
    "p.plot_height = 350\n",
    "\n",
    "# add circle renderer\n",
    "circle = p.circle(x, y, fill_color='red', size=15)\n",
    "\n",
    "# show the results\n",
    "show(p)"
   ]
  },
  {
   "cell_type": "markdown",
   "metadata": {
    "id": "pp3h9dpACqA-"
   },
   "source": [
    "### Enabling responsive plot sizing\n",
    "To make your plot automatically adjust to your browser or screen size, use the attribute [sizing_mode](https://docs.bokeh.org/en/latest/docs/reference/models/plots.html#bokeh.models.plots.Plot.sizing_mode):"
   ]
  },
  {
   "cell_type": "code",
   "execution_count": 4,
   "metadata": {
    "colab": {
     "base_uri": "https://localhost:8080/",
     "height": 267
    },
    "executionInfo": {
     "elapsed": 2672,
     "status": "ok",
     "timestamp": 1616922346647,
     "user": {
      "displayName": "류기윤",
      "photoUrl": "https://lh3.googleusercontent.com/a-/AOh14GgQ3YtFwUPyzjO8P1LCqbjF6RkNFAdXqzp9xLgvmA=s64",
      "userId": "14686264071241136597"
     },
     "user_tz": -540
    },
    "id": "_NuucqRRCdM6",
    "outputId": "663b0384-8b0f-4c76-8673-fcd3d3c10d1a"
   },
   "outputs": [
    {
     "data": {
      "text/html": [
       "\n",
       "\n",
       "\n",
       "\n",
       "\n",
       "\n",
       "  <div class=\"bk-root\" id=\"92f338f5-6bce-423d-8f0e-1091a76b08aa\" data-root-id=\"1336\"></div>\n"
      ]
     },
     "metadata": {},
     "output_type": "display_data"
    },
    {
     "data": {
      "application/javascript": [
       "(function(root) {\n",
       "  function embed_document(root) {\n",
       "    \n",
       "  const docs_json = {\"6dbfb41d-70c4-40af-9e50-20d956b47857\":{\"defs\":[],\"roots\":{\"references\":[{\"attributes\":{\"below\":[{\"id\":\"1347\"}],\"center\":[{\"id\":\"1350\"},{\"id\":\"1354\"}],\"height\":250,\"left\":[{\"id\":\"1351\"}],\"renderers\":[{\"id\":\"1373\"}],\"sizing_mode\":\"stretch_width\",\"title\":{\"id\":\"1337\"},\"toolbar\":{\"id\":\"1362\"},\"x_range\":{\"id\":\"1339\"},\"x_scale\":{\"id\":\"1343\"},\"y_range\":{\"id\":\"1341\"},\"y_scale\":{\"id\":\"1345\"}},\"id\":\"1336\",\"subtype\":\"Figure\",\"type\":\"Plot\"},{\"attributes\":{},\"id\":\"1341\",\"type\":\"DataRange1d\"},{\"attributes\":{},\"id\":\"1412\",\"type\":\"AllLabels\"},{\"attributes\":{\"axis_label\":\"x\",\"axis_label_standoff\":10,\"axis_label_text_color\":\"#5B5B5B\",\"axis_label_text_font\":\"Calibri Light\",\"axis_label_text_font_size\":\"1.15em\",\"axis_label_text_font_style\":\"bold\",\"axis_line_alpha\":1,\"axis_line_color\":\"#5B5B5B\",\"coordinates\":null,\"formatter\":{\"id\":\"1411\"},\"group\":null,\"major_label_policy\":{\"id\":\"1412\"},\"major_label_text_color\":\"#5B5B5B\",\"major_label_text_font\":\"Calibri Light\",\"major_label_text_font_size\":\"0.95em\",\"major_label_text_font_style\":\"bold\",\"major_tick_in\":0,\"major_tick_line_alpha\":0.25,\"major_tick_line_color\":\"#5B5B5B\",\"major_tick_out\":3,\"minor_tick_line_alpha\":0.25,\"minor_tick_line_color\":\"#5B5B5B\",\"ticker\":{\"id\":\"1348\"}},\"id\":\"1347\",\"type\":\"LinearAxis\"},{\"attributes\":{},\"id\":\"1356\",\"type\":\"WheelZoomTool\"},{\"attributes\":{\"axis_label\":\"y\",\"axis_label_standoff\":10,\"axis_label_text_color\":\"#5B5B5B\",\"axis_label_text_font\":\"Calibri Light\",\"axis_label_text_font_size\":\"1.15em\",\"axis_label_text_font_style\":\"bold\",\"axis_line_alpha\":1,\"axis_line_color\":\"#5B5B5B\",\"coordinates\":null,\"formatter\":{\"id\":\"1408\"},\"group\":null,\"major_label_policy\":{\"id\":\"1409\"},\"major_label_text_color\":\"#5B5B5B\",\"major_label_text_font\":\"Calibri Light\",\"major_label_text_font_size\":\"0.95em\",\"major_label_text_font_style\":\"bold\",\"major_tick_in\":0,\"major_tick_line_alpha\":0.25,\"major_tick_line_color\":\"#5B5B5B\",\"major_tick_out\":3,\"minor_tick_line_alpha\":0.25,\"minor_tick_line_color\":\"#5B5B5B\",\"ticker\":{\"id\":\"1352\"}},\"id\":\"1351\",\"type\":\"LinearAxis\"},{\"attributes\":{\"axis\":{\"id\":\"1351\"},\"coordinates\":null,\"dimension\":1,\"group\":null,\"ticker\":null},\"id\":\"1354\",\"type\":\"Grid\"},{\"attributes\":{},\"id\":\"1352\",\"type\":\"BasicTicker\"},{\"attributes\":{},\"id\":\"1360\",\"type\":\"HelpTool\"},{\"attributes\":{},\"id\":\"1413\",\"type\":\"UnionRenderers\"},{\"attributes\":{\"overlay\":{\"id\":\"1361\"}},\"id\":\"1357\",\"type\":\"BoxZoomTool\"},{\"attributes\":{},\"id\":\"1358\",\"type\":\"SaveTool\"},{\"attributes\":{},\"id\":\"1359\",\"type\":\"ResetTool\"},{\"attributes\":{},\"id\":\"1414\",\"type\":\"Selection\"},{\"attributes\":{\"bottom_units\":\"screen\",\"coordinates\":null,\"fill_alpha\":0.5,\"fill_color\":\"lightgrey\",\"group\":null,\"left_units\":\"screen\",\"level\":\"overlay\",\"line_alpha\":1.0,\"line_color\":\"black\",\"line_dash\":[4,4],\"line_width\":2,\"right_units\":\"screen\",\"syncable\":false,\"top_units\":\"screen\"},\"id\":\"1361\",\"type\":\"BoxAnnotation\"},{\"attributes\":{\"fill_color\":{\"value\":\"red\"},\"line_color\":{\"value\":\"#1f77b4\"},\"size\":{\"value\":15},\"x\":{\"field\":\"x\"},\"y\":{\"field\":\"y\"}},\"id\":\"1370\",\"type\":\"Circle\"},{\"attributes\":{\"data\":{\"x\":[1,2,3,4,5],\"y\":[4,5,5,7,2]},\"selected\":{\"id\":\"1414\"},\"selection_policy\":{\"id\":\"1413\"}},\"id\":\"1369\",\"type\":\"ColumnDataSource\"},{\"attributes\":{\"source\":{\"id\":\"1369\"}},\"id\":\"1374\",\"type\":\"CDSView\"},{\"attributes\":{\"tools\":[{\"id\":\"1355\"},{\"id\":\"1356\"},{\"id\":\"1357\"},{\"id\":\"1358\"},{\"id\":\"1359\"},{\"id\":\"1360\"}]},\"id\":\"1362\",\"type\":\"Toolbar\"},{\"attributes\":{\"fill_alpha\":{\"value\":0.1},\"fill_color\":{\"value\":\"red\"},\"hatch_alpha\":{\"value\":0.1},\"line_alpha\":{\"value\":0.1},\"line_color\":{\"value\":\"#1f77b4\"},\"size\":{\"value\":15},\"x\":{\"field\":\"x\"},\"y\":{\"field\":\"y\"}},\"id\":\"1371\",\"type\":\"Circle\"},{\"attributes\":{\"coordinates\":null,\"data_source\":{\"id\":\"1369\"},\"glyph\":{\"id\":\"1370\"},\"group\":null,\"hover_glyph\":null,\"muted_glyph\":{\"id\":\"1372\"},\"nonselection_glyph\":{\"id\":\"1371\"},\"view\":{\"id\":\"1374\"}},\"id\":\"1373\",\"type\":\"GlyphRenderer\"},{\"attributes\":{},\"id\":\"1343\",\"type\":\"LinearScale\"},{\"attributes\":{},\"id\":\"1355\",\"type\":\"PanTool\"},{\"attributes\":{},\"id\":\"1408\",\"type\":\"BasicTickFormatter\"},{\"attributes\":{\"fill_alpha\":{\"value\":0.2},\"fill_color\":{\"value\":\"red\"},\"hatch_alpha\":{\"value\":0.2},\"line_alpha\":{\"value\":0.2},\"line_color\":{\"value\":\"#1f77b4\"},\"size\":{\"value\":15},\"x\":{\"field\":\"x\"},\"y\":{\"field\":\"y\"}},\"id\":\"1372\",\"type\":\"Circle\"},{\"attributes\":{},\"id\":\"1339\",\"type\":\"DataRange1d\"},{\"attributes\":{},\"id\":\"1345\",\"type\":\"LinearScale\"},{\"attributes\":{},\"id\":\"1409\",\"type\":\"AllLabels\"},{\"attributes\":{},\"id\":\"1348\",\"type\":\"BasicTicker\"},{\"attributes\":{\"coordinates\":null,\"group\":null,\"text\":\"Plot responsive sizing example\",\"text_color\":\"#5B5B5B\",\"text_font\":\"Calibri Light\",\"text_font_size\":\"1.25em\",\"text_font_style\":\"bold\"},\"id\":\"1337\",\"type\":\"Title\"},{\"attributes\":{\"axis\":{\"id\":\"1347\"},\"coordinates\":null,\"group\":null,\"ticker\":null},\"id\":\"1350\",\"type\":\"Grid\"},{\"attributes\":{},\"id\":\"1411\",\"type\":\"BasicTickFormatter\"}],\"root_ids\":[\"1336\"]},\"title\":\"Bokeh Application\",\"version\":\"2.4.2\"}};\n",
       "  const render_items = [{\"docid\":\"6dbfb41d-70c4-40af-9e50-20d956b47857\",\"root_ids\":[\"1336\"],\"roots\":{\"1336\":\"92f338f5-6bce-423d-8f0e-1091a76b08aa\"}}];\n",
       "  root.Bokeh.embed.embed_items_notebook(docs_json, render_items);\n",
       "\n",
       "  }\n",
       "  if (root.Bokeh !== undefined) {\n",
       "    embed_document(root);\n",
       "  } else {\n",
       "    let attempts = 0;\n",
       "    const timer = setInterval(function(root) {\n",
       "      if (root.Bokeh !== undefined) {\n",
       "        clearInterval(timer);\n",
       "        embed_document(root);\n",
       "      } else {\n",
       "        attempts++;\n",
       "        if (attempts > 100) {\n",
       "          clearInterval(timer);\n",
       "          console.log(\"Bokeh: ERROR: Unable to run BokehJS code because BokehJS library is missing\");\n",
       "        }\n",
       "      }\n",
       "    }, 10, root)\n",
       "  }\n",
       "})(window);"
      ],
      "application/vnd.bokehjs_exec.v0+json": ""
     },
     "metadata": {
      "application/vnd.bokehjs_exec.v0+json": {
       "id": "1336"
      }
     },
     "output_type": "display_data"
    }
   ],
   "source": [
    "# create a new plot with responsive width\n",
    "p = figure(\n",
    "    title='Plot responsive sizing example',\n",
    "    sizing_mode='stretch_width',\n",
    "    plot_height=250,\n",
    "    x_axis_label='x',\n",
    "    y_axis_label='y',\n",
    ")\n",
    "\n",
    "# add circle renderer\n",
    "circle = p.circle(x, y, fill_color='red', size=15)\n",
    "\n",
    "# show the results\n",
    "show(p)"
   ]
  },
  {
   "cell_type": "markdown",
   "metadata": {
    "id": "z7w_V3ZODnzf"
   },
   "source": [
    "> **See also**\n",
    "\n",
    "> To learn more about how to control the size of plots, see [Styling plots](https://docs.bokeh.org/en/latest/docs/user_guide/styling.html#userguide-styling-plots) in the user guide and the entry for [Plot](https://docs.bokeh.org/en/latest/docs/reference/models/plots.html#bokeh.models.plots.Plot) in the reference guide\n",
    "\n",
    "> For more information on responsive sizing, see [Sizing modes](https://docs.bokeh.org/en/latest/docs/user_guide/layout.html#userguide-layout-sizing-mode) in the user guide and [sizing_mode](https://docs.bokeh.org/en/latest/docs/reference/models/plots.html#bokeh.models.plots.Plot.sizing_mode) in the reference guide"
   ]
  },
  {
   "cell_type": "markdown",
   "metadata": {
    "id": "_gduiMZvEX6d"
   },
   "source": [
    "## Customizing axes\n",
    "You can set various attributes to change the way the axes in your plot work and look"
   ]
  },
  {
   "cell_type": "markdown",
   "metadata": {
    "id": "t4yVsG3XEgl_"
   },
   "source": [
    "### Setting your axes’ appearance\n",
    "Options for customizing the appearance of your plot include:\n",
    "\n",
    "* setting labels for your axes\n",
    "\n",
    "* styling the numbers displayed with your axes\n",
    "\n",
    "* defining colors and other layout properties for the axes themselves\n",
    "\n",
    "For example:"
   ]
  },
  {
   "cell_type": "code",
   "execution_count": 5,
   "metadata": {
    "colab": {
     "base_uri": "https://localhost:8080/",
     "height": 367
    },
    "executionInfo": {
     "elapsed": 2667,
     "status": "ok",
     "timestamp": 1616922346647,
     "user": {
      "displayName": "류기윤",
      "photoUrl": "https://lh3.googleusercontent.com/a-/AOh14GgQ3YtFwUPyzjO8P1LCqbjF6RkNFAdXqzp9xLgvmA=s64",
      "userId": "14686264071241136597"
     },
     "user_tz": -540
    },
    "id": "p4i6Y9lLDF0M",
    "outputId": "139769b9-f157-4ecf-ede0-bd23a2ca6d53"
   },
   "outputs": [
    {
     "data": {
      "text/html": [
       "\n",
       "\n",
       "\n",
       "\n",
       "\n",
       "\n",
       "  <div class=\"bk-root\" id=\"f0dd3766-d244-494f-b5f6-f65ebe967c05\" data-root-id=\"1466\"></div>\n"
      ]
     },
     "metadata": {},
     "output_type": "display_data"
    },
    {
     "data": {
      "application/javascript": [
       "(function(root) {\n",
       "  function embed_document(root) {\n",
       "    \n",
       "  const docs_json = {\"6f83e9a1-73ad-4ad4-b7b5-329ebf022ad8\":{\"defs\":[],\"roots\":{\"references\":[{\"attributes\":{\"below\":[{\"id\":\"1477\"}],\"center\":[{\"id\":\"1480\"},{\"id\":\"1484\"}],\"height\":350,\"left\":[{\"id\":\"1481\"}],\"max_width\":500,\"renderers\":[{\"id\":\"1503\"}],\"sizing_mode\":\"stretch_width\",\"title\":{\"id\":\"1467\"},\"toolbar\":{\"id\":\"1492\"},\"x_range\":{\"id\":\"1469\"},\"x_scale\":{\"id\":\"1473\"},\"y_range\":{\"id\":\"1471\"},\"y_scale\":{\"id\":\"1475\"}},\"id\":\"1466\",\"subtype\":\"Figure\",\"type\":\"Plot\"},{\"attributes\":{\"fill_alpha\":{\"value\":0.2},\"fill_color\":{\"value\":\"#1f77b4\"},\"hatch_alpha\":{\"value\":0.2},\"line_alpha\":{\"value\":0.2},\"line_color\":{\"value\":\"#1f77b4\"},\"size\":{\"value\":10},\"x\":{\"field\":\"x\"},\"y\":{\"field\":\"y\"}},\"id\":\"1502\",\"type\":\"Circle\"},{\"attributes\":{},\"id\":\"1486\",\"type\":\"WheelZoomTool\"},{\"attributes\":{},\"id\":\"1488\",\"type\":\"SaveTool\"},{\"attributes\":{},\"id\":\"1552\",\"type\":\"AllLabels\"},{\"attributes\":{},\"id\":\"1489\",\"type\":\"ResetTool\"},{\"attributes\":{},\"id\":\"1478\",\"type\":\"BasicTicker\"},{\"attributes\":{},\"id\":\"1490\",\"type\":\"HelpTool\"},{\"attributes\":{\"coordinates\":null,\"group\":null,\"text\":\"Customized axes example\",\"text_color\":\"#5B5B5B\",\"text_font\":\"Calibri Light\",\"text_font_size\":\"1.25em\",\"text_font_style\":\"bold\"},\"id\":\"1467\",\"type\":\"Title\"},{\"attributes\":{\"fill_alpha\":{\"value\":0.1},\"fill_color\":{\"value\":\"#1f77b4\"},\"hatch_alpha\":{\"value\":0.1},\"line_alpha\":{\"value\":0.1},\"line_color\":{\"value\":\"#1f77b4\"},\"size\":{\"value\":10},\"x\":{\"field\":\"x\"},\"y\":{\"field\":\"y\"}},\"id\":\"1501\",\"type\":\"Circle\"},{\"attributes\":{\"axis_label\":\"Temp\",\"axis_label_standoff\":10,\"axis_label_text_color\":\"#5B5B5B\",\"axis_label_text_font\":\"Calibri Light\",\"axis_label_text_font_size\":\"1.15em\",\"axis_label_text_font_style\":\"bold\",\"axis_line_alpha\":1,\"axis_line_color\":\"red\",\"axis_line_width\":3,\"coordinates\":null,\"formatter\":{\"id\":\"1551\"},\"group\":null,\"major_label_policy\":{\"id\":\"1552\"},\"major_label_text_color\":\"#5B5B5B\",\"major_label_text_font\":\"Calibri Light\",\"major_label_text_font_size\":\"0.95em\",\"major_label_text_font_style\":\"bold\",\"major_tick_in\":0,\"major_tick_line_alpha\":0.25,\"major_tick_line_color\":\"#5B5B5B\",\"major_tick_out\":3,\"minor_tick_in\":-3,\"minor_tick_line_alpha\":0.25,\"minor_tick_line_color\":\"#5B5B5B\",\"minor_tick_out\":6,\"ticker\":{\"id\":\"1478\"}},\"id\":\"1477\",\"type\":\"LinearAxis\"},{\"attributes\":{\"bottom_units\":\"screen\",\"coordinates\":null,\"fill_alpha\":0.5,\"fill_color\":\"lightgrey\",\"group\":null,\"left_units\":\"screen\",\"level\":\"overlay\",\"line_alpha\":1.0,\"line_color\":\"black\",\"line_dash\":[4,4],\"line_width\":2,\"right_units\":\"screen\",\"syncable\":false,\"top_units\":\"screen\"},\"id\":\"1491\",\"type\":\"BoxAnnotation\"},{\"attributes\":{},\"id\":\"1553\",\"type\":\"UnionRenderers\"},{\"attributes\":{},\"id\":\"1471\",\"type\":\"DataRange1d\"},{\"attributes\":{\"axis\":{\"id\":\"1477\"},\"coordinates\":null,\"group\":null,\"ticker\":null},\"id\":\"1480\",\"type\":\"Grid\"},{\"attributes\":{\"overlay\":{\"id\":\"1491\"}},\"id\":\"1487\",\"type\":\"BoxZoomTool\"},{\"attributes\":{\"data\":{\"x\":[1,2,3,4,5],\"y\":[4,5,5,7,2]},\"selected\":{\"id\":\"1554\"},\"selection_policy\":{\"id\":\"1553\"}},\"id\":\"1499\",\"type\":\"ColumnDataSource\"},{\"attributes\":{},\"id\":\"1554\",\"type\":\"Selection\"},{\"attributes\":{},\"id\":\"1485\",\"type\":\"PanTool\"},{\"attributes\":{},\"id\":\"1482\",\"type\":\"BasicTicker\"},{\"attributes\":{\"axis_label\":\"Pressure\",\"axis_label_standoff\":10,\"axis_label_text_color\":\"#5B5B5B\",\"axis_label_text_font\":\"Calibri Light\",\"axis_label_text_font_size\":\"1.15em\",\"axis_label_text_font_style\":\"bold\",\"axis_line_alpha\":1,\"axis_line_color\":\"#5B5B5B\",\"coordinates\":null,\"formatter\":{\"id\":\"1548\"},\"group\":null,\"major_label_orientation\":\"vertical\",\"major_label_policy\":{\"id\":\"1549\"},\"major_label_text_color\":\"orange\",\"major_label_text_font\":\"Calibri Light\",\"major_label_text_font_size\":\"0.95em\",\"major_label_text_font_style\":\"bold\",\"major_tick_in\":0,\"major_tick_line_alpha\":0.25,\"major_tick_line_color\":\"#5B5B5B\",\"major_tick_out\":3,\"minor_tick_in\":-3,\"minor_tick_line_alpha\":0.25,\"minor_tick_line_color\":\"#5B5B5B\",\"minor_tick_out\":6,\"ticker\":{\"id\":\"1482\"}},\"id\":\"1481\",\"type\":\"LinearAxis\"},{\"attributes\":{},\"id\":\"1469\",\"type\":\"DataRange1d\"},{\"attributes\":{},\"id\":\"1551\",\"type\":\"BasicTickFormatter\"},{\"attributes\":{\"fill_color\":{\"value\":\"#1f77b4\"},\"line_color\":{\"value\":\"#1f77b4\"},\"size\":{\"value\":10},\"x\":{\"field\":\"x\"},\"y\":{\"field\":\"y\"}},\"id\":\"1500\",\"type\":\"Circle\"},{\"attributes\":{},\"id\":\"1473\",\"type\":\"LinearScale\"},{\"attributes\":{},\"id\":\"1549\",\"type\":\"AllLabels\"},{\"attributes\":{},\"id\":\"1475\",\"type\":\"LinearScale\"},{\"attributes\":{\"source\":{\"id\":\"1499\"}},\"id\":\"1504\",\"type\":\"CDSView\"},{\"attributes\":{\"coordinates\":null,\"data_source\":{\"id\":\"1499\"},\"glyph\":{\"id\":\"1500\"},\"group\":null,\"hover_glyph\":null,\"muted_glyph\":{\"id\":\"1502\"},\"nonselection_glyph\":{\"id\":\"1501\"},\"view\":{\"id\":\"1504\"}},\"id\":\"1503\",\"type\":\"GlyphRenderer\"},{\"attributes\":{\"axis\":{\"id\":\"1481\"},\"coordinates\":null,\"dimension\":1,\"group\":null,\"ticker\":null},\"id\":\"1484\",\"type\":\"Grid\"},{\"attributes\":{},\"id\":\"1548\",\"type\":\"BasicTickFormatter\"},{\"attributes\":{\"tools\":[{\"id\":\"1485\"},{\"id\":\"1486\"},{\"id\":\"1487\"},{\"id\":\"1488\"},{\"id\":\"1489\"},{\"id\":\"1490\"}]},\"id\":\"1492\",\"type\":\"Toolbar\"}],\"root_ids\":[\"1466\"]},\"title\":\"Bokeh Application\",\"version\":\"2.4.2\"}};\n",
       "  const render_items = [{\"docid\":\"6f83e9a1-73ad-4ad4-b7b5-329ebf022ad8\",\"root_ids\":[\"1466\"],\"roots\":{\"1466\":\"f0dd3766-d244-494f-b5f6-f65ebe967c05\"}}];\n",
       "  root.Bokeh.embed.embed_items_notebook(docs_json, render_items);\n",
       "\n",
       "  }\n",
       "  if (root.Bokeh !== undefined) {\n",
       "    embed_document(root);\n",
       "  } else {\n",
       "    let attempts = 0;\n",
       "    const timer = setInterval(function(root) {\n",
       "      if (root.Bokeh !== undefined) {\n",
       "        clearInterval(timer);\n",
       "        embed_document(root);\n",
       "      } else {\n",
       "        attempts++;\n",
       "        if (attempts > 100) {\n",
       "          clearInterval(timer);\n",
       "          console.log(\"Bokeh: ERROR: Unable to run BokehJS code because BokehJS library is missing\");\n",
       "        }\n",
       "      }\n",
       "    }, 10, root)\n",
       "  }\n",
       "})(window);"
      ],
      "application/vnd.bokehjs_exec.v0+json": ""
     },
     "metadata": {
      "application/vnd.bokehjs_exec.v0+json": {
       "id": "1466"
      }
     },
     "output_type": "display_data"
    }
   ],
   "source": [
    "# create a plot\n",
    "p = figure(\n",
    "    title='Customized axes example',\n",
    "    sizing_mode='stretch_width',\n",
    "    max_width=500,\n",
    "    plot_height=350,\n",
    ")\n",
    "\n",
    "# add a renderer\n",
    "p.circle(x, y, size=10)\n",
    "\n",
    "# change somethings about the x-axis\n",
    "p.xaxis.axis_label = 'Temp'\n",
    "p.xaxis.axis_line_width = 3\n",
    "p.xaxis.axis_line_color = 'red'\n",
    "\n",
    "# change somethings about the y-axis\n",
    "p.yaxis.axis_label = 'Pressure'\n",
    "p.yaxis.major_label_text_color = 'orange'\n",
    "p.yaxis.major_label_orientation = 'vertical'\n",
    "\n",
    "# change things on all axes\n",
    "p.axis.minor_tick_in = -3\n",
    "p.axis.minor_tick_out = 6\n",
    "\n",
    "# show the results\n",
    "show(p)"
   ]
  },
  {
   "cell_type": "markdown",
   "metadata": {
    "id": "4JmTgm78G7ZN"
   },
   "source": [
    "### Defining axis ranges\n",
    "When drawing the axes for your plot, Bokeh automatically determines the range each axis needs to cover in order to display all your values. For example, if the values on your y-axis are between 2 and 17, Bokeh automatically creates a y-axis that ranges from a little below 2 to a little above 17\n",
    "\n",
    "To define the range for your axes manually, use the [y_range()](https://docs.bokeh.org/en/latest/docs/reference/models/plots.html#bokeh.models.plots.Plot.y_range) function or the [y_range](https://docs.bokeh.org/en/latest/docs/reference/models/plots.html#bokeh.models.plots.Plot.y_range) properties of your `Plot` object when you call the `figure()` function:"
   ]
  },
  {
   "cell_type": "code",
   "execution_count": 6,
   "metadata": {
    "colab": {
     "base_uri": "https://localhost:8080/",
     "height": 267
    },
    "executionInfo": {
     "elapsed": 1157,
     "status": "ok",
     "timestamp": 1616922942137,
     "user": {
      "displayName": "류기윤",
      "photoUrl": "https://lh3.googleusercontent.com/a-/AOh14GgQ3YtFwUPyzjO8P1LCqbjF6RkNFAdXqzp9xLgvmA=s64",
      "userId": "14686264071241136597"
     },
     "user_tz": -540
    },
    "id": "lZYa1uLMFJFK",
    "outputId": "06e51d19-35b4-4c6b-9cd9-c2d8d3412e9f"
   },
   "outputs": [
    {
     "data": {
      "text/html": [
       "\n",
       "\n",
       "\n",
       "\n",
       "\n",
       "\n",
       "  <div class=\"bk-root\" id=\"4ef18bd6-d9a7-4ed1-b37a-f30f22785104\" data-root-id=\"1606\"></div>\n"
      ]
     },
     "metadata": {},
     "output_type": "display_data"
    },
    {
     "data": {
      "application/javascript": [
       "(function(root) {\n",
       "  function embed_document(root) {\n",
       "    \n",
       "  const docs_json = {\"c76aa8b9-2e4a-4338-8ff2-7691b4d94dcd\":{\"defs\":[],\"roots\":{\"references\":[{\"attributes\":{\"below\":[{\"id\":\"1617\"}],\"center\":[{\"id\":\"1620\"},{\"id\":\"1624\"}],\"height\":250,\"left\":[{\"id\":\"1621\"}],\"max_width\":500,\"renderers\":[{\"id\":\"1643\"}],\"sizing_mode\":\"stretch_width\",\"title\":{\"id\":\"1607\"},\"toolbar\":{\"id\":\"1632\"},\"x_range\":{\"id\":\"1609\"},\"x_scale\":{\"id\":\"1613\"},\"y_range\":{\"id\":\"1611\"},\"y_scale\":{\"id\":\"1615\"}},\"id\":\"1606\",\"subtype\":\"Figure\",\"type\":\"Plot\"},{\"attributes\":{\"coordinates\":null,\"data_source\":{\"id\":\"1639\"},\"glyph\":{\"id\":\"1640\"},\"group\":null,\"hover_glyph\":null,\"muted_glyph\":{\"id\":\"1642\"},\"nonselection_glyph\":{\"id\":\"1641\"},\"view\":{\"id\":\"1644\"}},\"id\":\"1643\",\"type\":\"GlyphRenderer\"},{\"attributes\":{},\"id\":\"1618\",\"type\":\"BasicTicker\"},{\"attributes\":{\"axis_label_standoff\":10,\"axis_label_text_color\":\"#5B5B5B\",\"axis_label_text_font\":\"Calibri Light\",\"axis_label_text_font_size\":\"1.15em\",\"axis_label_text_font_style\":\"bold\",\"axis_line_alpha\":1,\"axis_line_color\":\"#5B5B5B\",\"coordinates\":null,\"formatter\":{\"id\":\"1698\"},\"group\":null,\"major_label_policy\":{\"id\":\"1699\"},\"major_label_text_color\":\"#5B5B5B\",\"major_label_text_font\":\"Calibri Light\",\"major_label_text_font_size\":\"0.95em\",\"major_label_text_font_style\":\"bold\",\"major_tick_in\":0,\"major_tick_line_alpha\":0.25,\"major_tick_line_color\":\"#5B5B5B\",\"major_tick_out\":3,\"minor_tick_line_alpha\":0.25,\"minor_tick_line_color\":\"#5B5B5B\",\"ticker\":{\"id\":\"1622\"}},\"id\":\"1621\",\"type\":\"LinearAxis\"},{\"attributes\":{\"fill_alpha\":{\"value\":0.2},\"fill_color\":{\"value\":\"#1f77b4\"},\"hatch_alpha\":{\"value\":0.2},\"line_alpha\":{\"value\":0.2},\"line_color\":{\"value\":\"#1f77b4\"},\"size\":{\"value\":8},\"x\":{\"field\":\"x\"},\"y\":{\"field\":\"y\"}},\"id\":\"1642\",\"type\":\"Circle\"},{\"attributes\":{\"coordinates\":null,\"group\":null,\"text\":\"Axis range example\",\"text_color\":\"#5B5B5B\",\"text_font\":\"Calibri Light\",\"text_font_size\":\"1.25em\",\"text_font_style\":\"bold\"},\"id\":\"1607\",\"type\":\"Title\"},{\"attributes\":{\"source\":{\"id\":\"1639\"}},\"id\":\"1644\",\"type\":\"CDSView\"},{\"attributes\":{},\"id\":\"1613\",\"type\":\"LinearScale\"},{\"attributes\":{\"fill_alpha\":{\"value\":0.1},\"fill_color\":{\"value\":\"#1f77b4\"},\"hatch_alpha\":{\"value\":0.1},\"line_alpha\":{\"value\":0.1},\"line_color\":{\"value\":\"#1f77b4\"},\"size\":{\"value\":8},\"x\":{\"field\":\"x\"},\"y\":{\"field\":\"y\"}},\"id\":\"1641\",\"type\":\"Circle\"},{\"attributes\":{\"fill_color\":{\"value\":\"#1f77b4\"},\"line_color\":{\"value\":\"#1f77b4\"},\"size\":{\"value\":8},\"x\":{\"field\":\"x\"},\"y\":{\"field\":\"y\"}},\"id\":\"1640\",\"type\":\"Circle\"},{\"attributes\":{},\"id\":\"1698\",\"type\":\"BasicTickFormatter\"},{\"attributes\":{\"axis\":{\"id\":\"1621\"},\"coordinates\":null,\"dimension\":1,\"group\":null,\"ticker\":null},\"id\":\"1624\",\"type\":\"Grid\"},{\"attributes\":{},\"id\":\"1615\",\"type\":\"LinearScale\"},{\"attributes\":{\"tools\":[{\"id\":\"1625\"},{\"id\":\"1626\"},{\"id\":\"1627\"},{\"id\":\"1628\"},{\"id\":\"1629\"},{\"id\":\"1630\"}]},\"id\":\"1632\",\"type\":\"Toolbar\"},{\"attributes\":{},\"id\":\"1622\",\"type\":\"BasicTicker\"},{\"attributes\":{},\"id\":\"1699\",\"type\":\"AllLabels\"},{\"attributes\":{},\"id\":\"1701\",\"type\":\"BasicTickFormatter\"},{\"attributes\":{},\"id\":\"1626\",\"type\":\"WheelZoomTool\"},{\"attributes\":{},\"id\":\"1625\",\"type\":\"PanTool\"},{\"attributes\":{},\"id\":\"1702\",\"type\":\"AllLabels\"},{\"attributes\":{\"end\":25},\"id\":\"1611\",\"type\":\"Range1d\"},{\"attributes\":{\"overlay\":{\"id\":\"1631\"}},\"id\":\"1627\",\"type\":\"BoxZoomTool\"},{\"attributes\":{},\"id\":\"1629\",\"type\":\"ResetTool\"},{\"attributes\":{\"axis\":{\"id\":\"1617\"},\"coordinates\":null,\"group\":null,\"ticker\":null},\"id\":\"1620\",\"type\":\"Grid\"},{\"attributes\":{},\"id\":\"1628\",\"type\":\"SaveTool\"},{\"attributes\":{},\"id\":\"1630\",\"type\":\"HelpTool\"},{\"attributes\":{\"axis_label_standoff\":10,\"axis_label_text_color\":\"#5B5B5B\",\"axis_label_text_font\":\"Calibri Light\",\"axis_label_text_font_size\":\"1.15em\",\"axis_label_text_font_style\":\"bold\",\"axis_line_alpha\":1,\"axis_line_color\":\"#5B5B5B\",\"coordinates\":null,\"formatter\":{\"id\":\"1701\"},\"group\":null,\"major_label_policy\":{\"id\":\"1702\"},\"major_label_text_color\":\"#5B5B5B\",\"major_label_text_font\":\"Calibri Light\",\"major_label_text_font_size\":\"0.95em\",\"major_label_text_font_style\":\"bold\",\"major_tick_in\":0,\"major_tick_line_alpha\":0.25,\"major_tick_line_color\":\"#5B5B5B\",\"major_tick_out\":3,\"minor_tick_line_alpha\":0.25,\"minor_tick_line_color\":\"#5B5B5B\",\"ticker\":{\"id\":\"1618\"}},\"id\":\"1617\",\"type\":\"LinearAxis\"},{\"attributes\":{\"bottom_units\":\"screen\",\"coordinates\":null,\"fill_alpha\":0.5,\"fill_color\":\"lightgrey\",\"group\":null,\"left_units\":\"screen\",\"level\":\"overlay\",\"line_alpha\":1.0,\"line_color\":\"black\",\"line_dash\":[4,4],\"line_width\":2,\"right_units\":\"screen\",\"syncable\":false,\"top_units\":\"screen\"},\"id\":\"1631\",\"type\":\"BoxAnnotation\"},{\"attributes\":{},\"id\":\"1703\",\"type\":\"UnionRenderers\"},{\"attributes\":{},\"id\":\"1609\",\"type\":\"DataRange1d\"},{\"attributes\":{\"data\":{\"x\":[1,2,3,4,5],\"y\":[4,5,5,7,2]},\"selected\":{\"id\":\"1704\"},\"selection_policy\":{\"id\":\"1703\"}},\"id\":\"1639\",\"type\":\"ColumnDataSource\"},{\"attributes\":{},\"id\":\"1704\",\"type\":\"Selection\"}],\"root_ids\":[\"1606\"]},\"title\":\"Bokeh Application\",\"version\":\"2.4.2\"}};\n",
       "  const render_items = [{\"docid\":\"c76aa8b9-2e4a-4338-8ff2-7691b4d94dcd\",\"root_ids\":[\"1606\"],\"roots\":{\"1606\":\"4ef18bd6-d9a7-4ed1-b37a-f30f22785104\"}}];\n",
       "  root.Bokeh.embed.embed_items_notebook(docs_json, render_items);\n",
       "\n",
       "  }\n",
       "  if (root.Bokeh !== undefined) {\n",
       "    embed_document(root);\n",
       "  } else {\n",
       "    let attempts = 0;\n",
       "    const timer = setInterval(function(root) {\n",
       "      if (root.Bokeh !== undefined) {\n",
       "        clearInterval(timer);\n",
       "        embed_document(root);\n",
       "      } else {\n",
       "        attempts++;\n",
       "        if (attempts > 100) {\n",
       "          clearInterval(timer);\n",
       "          console.log(\"Bokeh: ERROR: Unable to run BokehJS code because BokehJS library is missing\");\n",
       "        }\n",
       "      }\n",
       "    }, 10, root)\n",
       "  }\n",
       "})(window);"
      ],
      "application/vnd.bokehjs_exec.v0+json": ""
     },
     "metadata": {
      "application/vnd.bokehjs_exec.v0+json": {
       "id": "1606"
      }
     },
     "output_type": "display_data"
    }
   ],
   "source": [
    "# create a new plot with responsive width\n",
    "p = figure(\n",
    "    y_range=(0, 25),\n",
    "    title='Axis range example',\n",
    "    sizing_mode='stretch_width',\n",
    "    max_width=500,\n",
    "    plot_height=250,\n",
    ")\n",
    "\n",
    "# add circle renderer with additional arguments\n",
    "circle = p.circle(x, y, size=8)\n",
    "\n",
    "# show the results\n",
    "show(p)"
   ]
  },
  {
   "cell_type": "markdown",
   "metadata": {
    "id": "I_il0y6nH_2S"
   },
   "source": [
    "### Formatting axis ticks\n",
    "You can format the text that appears alongside your axes with Boke's `TickFormatter` objects. Use these formatters to display currency symbols on your y-axis, for example:"
   ]
  },
  {
   "cell_type": "markdown",
   "metadata": {
    "id": "lFy0XEeEjlXJ"
   },
   "source": [
    "To display dollar amounts instead of just numbers on your y-axis, use the [NumeralTickFormatter](https://docs.bokeh.org/en/latest/docs/reference/models/formatters.html#bokeh.models.formatters.NumeralTickFormatter):\n",
    "\n",
    "* First, import the `NumeralTickFormatter` from Bokeh's `models` collection:\n",
    "\n",
    "```python\n",
    "from bokeh.models import NumeralTickFormatter\n",
    "```\n",
    "\n",
    "* Then, after creating your plot with the `figure()` function, assign the `NumeralTickFormatter` to the formatter property of your plot's `yaxis`:\n",
    "\n",
    "```python\n",
    "p.yaxis[0].formatter = NumeralTickFormatter(format=\"$0.00\")\n",
    "```\n",
    "\n",
    "The `NumeralTickFormatter` supports different formats, including `\"$0.00\"` to generate values such as `\"$7.42\"`\n",
    "\n",
    "This is what the completed code looks like:"
   ]
  },
  {
   "cell_type": "code",
   "execution_count": 7,
   "metadata": {
    "colab": {
     "base_uri": "https://localhost:8080/",
     "height": 267
    },
    "executionInfo": {
     "elapsed": 5286,
     "status": "ok",
     "timestamp": 1616930679875,
     "user": {
      "displayName": "류기윤",
      "photoUrl": "https://lh3.googleusercontent.com/a-/AOh14GgQ3YtFwUPyzjO8P1LCqbjF6RkNFAdXqzp9xLgvmA=s64",
      "userId": "14686264071241136597"
     },
     "user_tz": -540
    },
    "id": "fSPHWz07HhYD",
    "outputId": "d7d0370f-9158-4f79-e384-0c37e843b9af"
   },
   "outputs": [
    {
     "data": {
      "text/html": [
       "\n",
       "\n",
       "\n",
       "\n",
       "\n",
       "\n",
       "  <div class=\"bk-root\" id=\"02417f02-d5b2-4b96-b1d2-71ad3b5307a9\" data-root-id=\"1756\"></div>\n"
      ]
     },
     "metadata": {},
     "output_type": "display_data"
    },
    {
     "data": {
      "application/javascript": [
       "(function(root) {\n",
       "  function embed_document(root) {\n",
       "    \n",
       "  const docs_json = {\"3bcdbf1b-df93-4abd-9a7e-59826536cccd\":{\"defs\":[],\"roots\":{\"references\":[{\"attributes\":{\"below\":[{\"id\":\"1767\"}],\"center\":[{\"id\":\"1770\"},{\"id\":\"1774\"}],\"height\":250,\"left\":[{\"id\":\"1771\"}],\"max_width\":500,\"renderers\":[{\"id\":\"1795\"},{\"id\":\"1801\"}],\"sizing_mode\":\"stretch_width\",\"title\":{\"id\":\"1757\"},\"toolbar\":{\"id\":\"1782\"},\"x_range\":{\"id\":\"1759\"},\"x_scale\":{\"id\":\"1763\"},\"y_range\":{\"id\":\"1761\"},\"y_scale\":{\"id\":\"1765\"}},\"id\":\"1756\",\"subtype\":\"Figure\",\"type\":\"Plot\"},{\"attributes\":{\"data\":{\"x\":[1,2,3,4,5],\"y\":[4,5,5,7,2]},\"selected\":{\"id\":\"1873\"},\"selection_policy\":{\"id\":\"1872\"}},\"id\":\"1797\",\"type\":\"ColumnDataSource\"},{\"attributes\":{},\"id\":\"1772\",\"type\":\"BasicTicker\"},{\"attributes\":{},\"id\":\"1780\",\"type\":\"HelpTool\"},{\"attributes\":{\"line_alpha\":0.2,\"line_color\":\"navy\",\"x\":{\"field\":\"x\"},\"y\":{\"field\":\"y\"}},\"id\":\"1800\",\"type\":\"Line\"},{\"attributes\":{},\"id\":\"1870\",\"type\":\"UnionRenderers\"},{\"attributes\":{\"bottom_units\":\"screen\",\"coordinates\":null,\"fill_alpha\":0.5,\"fill_color\":\"lightgrey\",\"group\":null,\"left_units\":\"screen\",\"level\":\"overlay\",\"line_alpha\":1.0,\"line_color\":\"black\",\"line_dash\":[4,4],\"line_width\":2,\"right_units\":\"screen\",\"syncable\":false,\"top_units\":\"screen\"},\"id\":\"1781\",\"type\":\"BoxAnnotation\"},{\"attributes\":{},\"id\":\"1868\",\"type\":\"BasicTickFormatter\"},{\"attributes\":{\"line_alpha\":0.1,\"line_color\":\"navy\",\"x\":{\"field\":\"x\"},\"y\":{\"field\":\"y\"}},\"id\":\"1799\",\"type\":\"Line\"},{\"attributes\":{\"fill_alpha\":{\"value\":0.1},\"fill_color\":{\"value\":\"#1f77b4\"},\"hatch_alpha\":{\"value\":0.1},\"line_alpha\":{\"value\":0.1},\"line_color\":{\"value\":\"#1f77b4\"},\"size\":{\"value\":8},\"x\":{\"field\":\"x\"},\"y\":{\"field\":\"y\"}},\"id\":\"1793\",\"type\":\"Circle\"},{\"attributes\":{},\"id\":\"1763\",\"type\":\"LinearScale\"},{\"attributes\":{\"source\":{\"id\":\"1797\"}},\"id\":\"1802\",\"type\":\"CDSView\"},{\"attributes\":{},\"id\":\"1871\",\"type\":\"Selection\"},{\"attributes\":{},\"id\":\"1765\",\"type\":\"LinearScale\"},{\"attributes\":{\"data\":{\"x\":[1,2,3,4,5],\"y\":[4,5,5,7,2]},\"selected\":{\"id\":\"1871\"},\"selection_policy\":{\"id\":\"1870\"}},\"id\":\"1791\",\"type\":\"ColumnDataSource\"},{\"attributes\":{},\"id\":\"1779\",\"type\":\"ResetTool\"},{\"attributes\":{\"format\":\"$0.00\"},\"id\":\"1789\",\"type\":\"NumeralTickFormatter\"},{\"attributes\":{\"coordinates\":null,\"group\":null,\"text\":\"Tick formatter example\",\"text_color\":\"#5B5B5B\",\"text_font\":\"Calibri Light\",\"text_font_size\":\"1.25em\",\"text_font_style\":\"bold\"},\"id\":\"1757\",\"type\":\"Title\"},{\"attributes\":{\"overlay\":{\"id\":\"1781\"}},\"id\":\"1777\",\"type\":\"BoxZoomTool\"},{\"attributes\":{},\"id\":\"1775\",\"type\":\"PanTool\"},{\"attributes\":{\"coordinates\":null,\"data_source\":{\"id\":\"1791\"},\"glyph\":{\"id\":\"1792\"},\"group\":null,\"hover_glyph\":null,\"muted_glyph\":{\"id\":\"1794\"},\"nonselection_glyph\":{\"id\":\"1793\"},\"view\":{\"id\":\"1796\"}},\"id\":\"1795\",\"type\":\"GlyphRenderer\"},{\"attributes\":{},\"id\":\"1776\",\"type\":\"WheelZoomTool\"},{\"attributes\":{\"axis_label_standoff\":10,\"axis_label_text_color\":\"#5B5B5B\",\"axis_label_text_font\":\"Calibri Light\",\"axis_label_text_font_size\":\"1.15em\",\"axis_label_text_font_style\":\"bold\",\"axis_line_alpha\":1,\"axis_line_color\":\"#5B5B5B\",\"coordinates\":null,\"formatter\":{\"id\":\"1868\"},\"group\":null,\"major_label_policy\":{\"id\":\"1869\"},\"major_label_text_color\":\"#5B5B5B\",\"major_label_text_font\":\"Calibri Light\",\"major_label_text_font_size\":\"0.95em\",\"major_label_text_font_style\":\"bold\",\"major_tick_in\":0,\"major_tick_line_alpha\":0.25,\"major_tick_line_color\":\"#5B5B5B\",\"major_tick_out\":3,\"minor_tick_line_alpha\":0.25,\"minor_tick_line_color\":\"#5B5B5B\",\"ticker\":{\"id\":\"1768\"}},\"id\":\"1767\",\"type\":\"LinearAxis\"},{\"attributes\":{\"coordinates\":null,\"data_source\":{\"id\":\"1797\"},\"glyph\":{\"id\":\"1798\"},\"group\":null,\"hover_glyph\":null,\"muted_glyph\":{\"id\":\"1800\"},\"nonselection_glyph\":{\"id\":\"1799\"},\"view\":{\"id\":\"1802\"}},\"id\":\"1801\",\"type\":\"GlyphRenderer\"},{\"attributes\":{\"line_color\":\"navy\",\"x\":{\"field\":\"x\"},\"y\":{\"field\":\"y\"}},\"id\":\"1798\",\"type\":\"Line\"},{\"attributes\":{\"axis\":{\"id\":\"1771\"},\"coordinates\":null,\"dimension\":1,\"group\":null,\"ticker\":null},\"id\":\"1774\",\"type\":\"Grid\"},{\"attributes\":{},\"id\":\"1778\",\"type\":\"SaveTool\"},{\"attributes\":{},\"id\":\"1869\",\"type\":\"AllLabels\"},{\"attributes\":{},\"id\":\"1872\",\"type\":\"UnionRenderers\"},{\"attributes\":{\"fill_alpha\":{\"value\":0.2},\"fill_color\":{\"value\":\"#1f77b4\"},\"hatch_alpha\":{\"value\":0.2},\"line_alpha\":{\"value\":0.2},\"line_color\":{\"value\":\"#1f77b4\"},\"size\":{\"value\":8},\"x\":{\"field\":\"x\"},\"y\":{\"field\":\"y\"}},\"id\":\"1794\",\"type\":\"Circle\"},{\"attributes\":{\"fill_color\":{\"value\":\"#1f77b4\"},\"line_color\":{\"value\":\"#1f77b4\"},\"size\":{\"value\":8},\"x\":{\"field\":\"x\"},\"y\":{\"field\":\"y\"}},\"id\":\"1792\",\"type\":\"Circle\"},{\"attributes\":{},\"id\":\"1873\",\"type\":\"Selection\"},{\"attributes\":{\"source\":{\"id\":\"1791\"}},\"id\":\"1796\",\"type\":\"CDSView\"},{\"attributes\":{},\"id\":\"1866\",\"type\":\"AllLabels\"},{\"attributes\":{},\"id\":\"1768\",\"type\":\"BasicTicker\"},{\"attributes\":{\"axis\":{\"id\":\"1767\"},\"coordinates\":null,\"group\":null,\"ticker\":null},\"id\":\"1770\",\"type\":\"Grid\"},{\"attributes\":{},\"id\":\"1761\",\"type\":\"DataRange1d\"},{\"attributes\":{\"tools\":[{\"id\":\"1775\"},{\"id\":\"1776\"},{\"id\":\"1777\"},{\"id\":\"1778\"},{\"id\":\"1779\"},{\"id\":\"1780\"}]},\"id\":\"1782\",\"type\":\"Toolbar\"},{\"attributes\":{},\"id\":\"1759\",\"type\":\"DataRange1d\"},{\"attributes\":{\"axis_label_standoff\":10,\"axis_label_text_color\":\"#5B5B5B\",\"axis_label_text_font\":\"Calibri Light\",\"axis_label_text_font_size\":\"1.15em\",\"axis_label_text_font_style\":\"bold\",\"axis_line_alpha\":1,\"axis_line_color\":\"#5B5B5B\",\"coordinates\":null,\"formatter\":{\"id\":\"1789\"},\"group\":null,\"major_label_policy\":{\"id\":\"1866\"},\"major_label_text_color\":\"#5B5B5B\",\"major_label_text_font\":\"Calibri Light\",\"major_label_text_font_size\":\"0.95em\",\"major_label_text_font_style\":\"bold\",\"major_tick_in\":0,\"major_tick_line_alpha\":0.25,\"major_tick_line_color\":\"#5B5B5B\",\"major_tick_out\":3,\"minor_tick_line_alpha\":0.25,\"minor_tick_line_color\":\"#5B5B5B\",\"ticker\":{\"id\":\"1772\"}},\"id\":\"1771\",\"type\":\"LinearAxis\"}],\"root_ids\":[\"1756\"]},\"title\":\"Bokeh Application\",\"version\":\"2.4.2\"}};\n",
       "  const render_items = [{\"docid\":\"3bcdbf1b-df93-4abd-9a7e-59826536cccd\",\"root_ids\":[\"1756\"],\"roots\":{\"1756\":\"02417f02-d5b2-4b96-b1d2-71ad3b5307a9\"}}];\n",
       "  root.Bokeh.embed.embed_items_notebook(docs_json, render_items);\n",
       "\n",
       "  }\n",
       "  if (root.Bokeh !== undefined) {\n",
       "    embed_document(root);\n",
       "  } else {\n",
       "    let attempts = 0;\n",
       "    const timer = setInterval(function(root) {\n",
       "      if (root.Bokeh !== undefined) {\n",
       "        clearInterval(timer);\n",
       "        embed_document(root);\n",
       "      } else {\n",
       "        attempts++;\n",
       "        if (attempts > 100) {\n",
       "          clearInterval(timer);\n",
       "          console.log(\"Bokeh: ERROR: Unable to run BokehJS code because BokehJS library is missing\");\n",
       "        }\n",
       "      }\n",
       "    }, 10, root)\n",
       "  }\n",
       "})(window);"
      ],
      "application/vnd.bokehjs_exec.v0+json": ""
     },
     "metadata": {
      "application/vnd.bokehjs_exec.v0+json": {
       "id": "1756"
      }
     },
     "output_type": "display_data"
    }
   ],
   "source": [
    "from bokeh.models import NumeralTickFormatter\n",
    "\n",
    "# create new plot\n",
    "p = figure(\n",
    "    title='Tick formatter example',\n",
    "    sizing_mode='stretch_width',\n",
    "    max_width=500,\n",
    "    plot_height=250,\n",
    ")\n",
    "\n",
    "# format axes ticks\n",
    "p.yaxis[0].formatter = NumeralTickFormatter(format='$0.00')\n",
    "\n",
    "# add renderers\n",
    "p.circle(x, y, size=8)\n",
    "p.line(x, y, color='navy', line_width=1)\n",
    "\n",
    "# show the results\n",
    "show(p)"
   ]
  },
  {
   "cell_type": "markdown",
   "metadata": {
    "id": "ax9tq8F-lG3X"
   },
   "source": [
    "> **See also**\n",
    "\n",
    "> For more information about formatting ticks, see [Tick label formats](https://docs.bokeh.org/en/latest/docs/user_guide/styling.html#userguide-styling-axes-tick-label-formats) in the user guide. For a list of all available tick formatters, see [formatters](https://docs.bokeh.org/en/latest/docs/reference/models/formatters.html#module-bokeh.models.formatters) in the reference guide."
   ]
  },
  {
   "cell_type": "markdown",
   "metadata": {
    "id": "26uDQyEklg8Z"
   },
   "source": [
    "### Enabling logarithmic axes\n",
    "You can also change the axis type altogether. Use `y_axis_type=\"log\"` to switch to logarithmic axes:"
   ]
  },
  {
   "cell_type": "code",
   "execution_count": 8,
   "metadata": {
    "colab": {
     "base_uri": "https://localhost:8080/",
     "height": 317
    },
    "executionInfo": {
     "elapsed": 1632,
     "status": "ok",
     "timestamp": 1616930951791,
     "user": {
      "displayName": "류기윤",
      "photoUrl": "https://lh3.googleusercontent.com/a-/AOh14GgQ3YtFwUPyzjO8P1LCqbjF6RkNFAdXqzp9xLgvmA=s64",
      "userId": "14686264071241136597"
     },
     "user_tz": -540
    },
    "id": "HTS8j6yilWPz",
    "outputId": "f25d27ed-1613-40d7-f189-f7487287389e"
   },
   "outputs": [
    {
     "data": {
      "text/html": [
       "\n",
       "\n",
       "\n",
       "\n",
       "\n",
       "\n",
       "  <div class=\"bk-root\" id=\"879f5aea-6b2b-4ad0-b491-829e629f4dee\" data-root-id=\"1930\"></div>\n"
      ]
     },
     "metadata": {},
     "output_type": "display_data"
    },
    {
     "data": {
      "application/javascript": [
       "(function(root) {\n",
       "  function embed_document(root) {\n",
       "    \n",
       "  const docs_json = {\"df3f2d53-67c8-430f-bf97-0dc6ce6736d2\":{\"defs\":[],\"roots\":{\"references\":[{\"attributes\":{\"below\":[{\"id\":\"1941\"}],\"center\":[{\"id\":\"1944\"},{\"id\":\"1948\"},{\"id\":\"1979\"}],\"height\":300,\"left\":[{\"id\":\"1945\"}],\"max_width\":500,\"renderers\":[{\"id\":\"1967\"},{\"id\":\"1985\"},{\"id\":\"2003\"},{\"id\":\"2024\"},{\"id\":\"2047\"},{\"id\":\"2071\"}],\"sizing_mode\":\"stretch_width\",\"title\":{\"id\":\"1931\"},\"toolbar\":{\"id\":\"1956\"},\"x_range\":{\"id\":\"1933\"},\"x_scale\":{\"id\":\"1937\"},\"y_range\":{\"id\":\"1935\"},\"y_scale\":{\"id\":\"1939\"}},\"id\":\"1930\",\"subtype\":\"Figure\",\"type\":\"Plot\"},{\"attributes\":{\"line_alpha\":0.2,\"line_color\":\"#1f77b4\",\"x\":{\"field\":\"x\"},\"y\":{\"field\":\"y\"}},\"id\":\"1966\",\"type\":\"Line\"},{\"attributes\":{\"source\":{\"id\":\"1963\"}},\"id\":\"1968\",\"type\":\"CDSView\"},{\"attributes\":{\"line_color\":\"#1f77b4\",\"x\":{\"field\":\"x\"},\"y\":{\"field\":\"y\"}},\"id\":\"1964\",\"type\":\"Line\"},{\"attributes\":{\"line_alpha\":0.1,\"line_color\":\"#1f77b4\",\"x\":{\"field\":\"x\"},\"y\":{\"field\":\"y\"}},\"id\":\"1965\",\"type\":\"Line\"},{\"attributes\":{},\"id\":\"2065\",\"type\":\"Selection\"},{\"attributes\":{\"background_fill_alpha\":0.25,\"border_line_alpha\":0,\"coordinates\":null,\"glyph_width\":15,\"group\":null,\"items\":[{\"id\":\"1980\"},{\"id\":\"2019\"},{\"id\":\"2042\"},{\"id\":\"2093\"}],\"label_standoff\":8,\"label_text_color\":\"#5B5B5B\",\"label_text_font\":\"Calibri Light\",\"label_text_font_size\":\"0.95em\",\"label_text_font_style\":\"bold\",\"location\":\"top_left\",\"spacing\":8},\"id\":\"1979\",\"type\":\"Legend\"},{\"attributes\":{\"label\":{\"value\":\"y=x\"},\"renderers\":[{\"id\":\"1967\"},{\"id\":\"1985\"}]},\"id\":\"1980\",\"type\":\"LegendItem\"},{\"attributes\":{\"fill_alpha\":{\"value\":0.2},\"fill_color\":{\"value\":\"white\"},\"hatch_alpha\":{\"value\":0.2},\"line_alpha\":{\"value\":0.2},\"line_color\":{\"value\":\"#1f77b4\"},\"size\":{\"value\":8},\"x\":{\"field\":\"x\"},\"y\":{\"field\":\"y\"}},\"id\":\"1984\",\"type\":\"Circle\"},{\"attributes\":{\"source\":{\"id\":\"1981\"}},\"id\":\"1986\",\"type\":\"CDSView\"},{\"attributes\":{\"coordinates\":null,\"data_source\":{\"id\":\"1981\"},\"glyph\":{\"id\":\"1982\"},\"group\":null,\"hover_glyph\":null,\"muted_glyph\":{\"id\":\"1984\"},\"nonselection_glyph\":{\"id\":\"1983\"},\"view\":{\"id\":\"1986\"}},\"id\":\"1985\",\"type\":\"GlyphRenderer\"},{\"attributes\":{\"coordinates\":null,\"data_source\":{\"id\":\"1999\"},\"glyph\":{\"id\":\"2000\"},\"group\":null,\"hover_glyph\":null,\"muted_glyph\":{\"id\":\"2002\"},\"nonselection_glyph\":{\"id\":\"2001\"},\"view\":{\"id\":\"2004\"}},\"id\":\"2003\",\"type\":\"GlyphRenderer\"},{\"attributes\":{\"fill_alpha\":{\"value\":0.1},\"fill_color\":{\"value\":\"white\"},\"hatch_alpha\":{\"value\":0.1},\"line_alpha\":{\"value\":0.1},\"line_color\":{\"value\":\"#1f77b4\"},\"size\":{\"value\":8},\"x\":{\"field\":\"x\"},\"y\":{\"field\":\"y\"}},\"id\":\"1983\",\"type\":\"Circle\"},{\"attributes\":{\"coordinates\":null,\"data_source\":{\"id\":\"2067\"},\"glyph\":{\"id\":\"2068\"},\"group\":null,\"hover_glyph\":null,\"muted_glyph\":{\"id\":\"2070\"},\"nonselection_glyph\":{\"id\":\"2069\"},\"view\":{\"id\":\"2072\"}},\"id\":\"2071\",\"type\":\"GlyphRenderer\"},{\"attributes\":{},\"id\":\"2090\",\"type\":\"UnionRenderers\"},{\"attributes\":{\"coordinates\":null,\"data_source\":{\"id\":\"2020\"},\"glyph\":{\"id\":\"2021\"},\"group\":null,\"hover_glyph\":null,\"muted_glyph\":{\"id\":\"2023\"},\"nonselection_glyph\":{\"id\":\"2022\"},\"view\":{\"id\":\"2025\"}},\"id\":\"2024\",\"type\":\"GlyphRenderer\"},{\"attributes\":{\"ticker\":null},\"id\":\"1971\",\"type\":\"LogTickFormatter\"},{\"attributes\":{},\"id\":\"1996\",\"type\":\"UnionRenderers\"},{\"attributes\":{},\"id\":\"1972\",\"type\":\"AllLabels\"},{\"attributes\":{},\"id\":\"1997\",\"type\":\"Selection\"},{\"attributes\":{},\"id\":\"1974\",\"type\":\"BasicTickFormatter\"},{\"attributes\":{},\"id\":\"1975\",\"type\":\"AllLabels\"},{\"attributes\":{},\"id\":\"1976\",\"type\":\"UnionRenderers\"},{\"attributes\":{},\"id\":\"1977\",\"type\":\"Selection\"},{\"attributes\":{\"line_color\":\"#1f77b4\",\"line_width\":3,\"x\":{\"field\":\"x\"},\"y\":{\"field\":\"y\"}},\"id\":\"2000\",\"type\":\"Line\"},{\"attributes\":{\"line_alpha\":0.2,\"line_color\":\"orange\",\"line_dash\":[4,4],\"x\":{\"field\":\"x\"},\"y\":{\"field\":\"y\"}},\"id\":\"2070\",\"type\":\"Line\"},{\"attributes\":{\"data\":{\"x\":[0.1,0.5,1.0,1.5,2.0,2.5,3.0],\"y\":[0.010000000000000002,0.25,1.0,2.25,4.0,6.25,9.0]},\"selected\":{\"id\":\"2017\"},\"selection_policy\":{\"id\":\"2016\"}},\"id\":\"1999\",\"type\":\"ColumnDataSource\"},{\"attributes\":{\"line_alpha\":0.2,\"line_color\":\"#1f77b4\",\"line_width\":3,\"x\":{\"field\":\"x\"},\"y\":{\"field\":\"y\"}},\"id\":\"2002\",\"type\":\"Line\"},{\"attributes\":{\"label\":{\"value\":\"y=x^2\"},\"renderers\":[{\"id\":\"2003\"}]},\"id\":\"2019\",\"type\":\"LegendItem\"},{\"attributes\":{\"source\":{\"id\":\"1999\"}},\"id\":\"2004\",\"type\":\"CDSView\"},{\"attributes\":{\"line_alpha\":0.1,\"line_color\":\"#1f77b4\",\"line_width\":3,\"x\":{\"field\":\"x\"},\"y\":{\"field\":\"y\"}},\"id\":\"2001\",\"type\":\"Line\"},{\"attributes\":{},\"id\":\"2016\",\"type\":\"UnionRenderers\"},{\"attributes\":{},\"id\":\"2017\",\"type\":\"Selection\"},{\"attributes\":{\"line_color\":\"orange\",\"line_dash\":[4,4],\"x\":{\"field\":\"x\"},\"y\":{\"field\":\"y\"}},\"id\":\"2068\",\"type\":\"Line\"},{\"attributes\":{\"fill_color\":{\"value\":\"red\"},\"line_color\":{\"value\":\"red\"},\"size\":{\"value\":6},\"x\":{\"field\":\"x\"},\"y\":{\"field\":\"y\"}},\"id\":\"2044\",\"type\":\"Circle\"},{\"attributes\":{\"source\":{\"id\":\"2067\"}},\"id\":\"2072\",\"type\":\"CDSView\"},{\"attributes\":{\"fill_color\":{\"value\":\"white\"},\"line_color\":{\"value\":\"#1f77b4\"},\"size\":{\"value\":8},\"x\":{\"field\":\"x\"},\"y\":{\"field\":\"y\"}},\"id\":\"1982\",\"type\":\"Circle\"},{\"attributes\":{\"line_alpha\":0.1,\"line_color\":\"orange\",\"line_dash\":[4,4],\"x\":{\"field\":\"x\"},\"y\":{\"field\":\"y\"}},\"id\":\"2069\",\"type\":\"Line\"},{\"attributes\":{\"axis\":{\"id\":\"1945\"},\"coordinates\":null,\"dimension\":1,\"group\":null,\"ticker\":null},\"id\":\"1948\",\"type\":\"Grid\"},{\"attributes\":{\"line_alpha\":0.2,\"line_color\":\"red\",\"x\":{\"field\":\"x\"},\"y\":{\"field\":\"y\"}},\"id\":\"2023\",\"type\":\"Line\"},{\"attributes\":{\"data\":{\"x\":[0.1,0.5,1.0,1.5,2.0,2.5,3.0],\"y\":[0.1,0.5,1.0,1.5,2.0,2.5,3.0]},\"selected\":{\"id\":\"1997\"},\"selection_policy\":{\"id\":\"1996\"}},\"id\":\"1981\",\"type\":\"ColumnDataSource\"},{\"attributes\":{\"label\":{\"value\":\"y=10^x^2\"},\"renderers\":[{\"id\":\"2071\"}]},\"id\":\"2093\",\"type\":\"LegendItem\"},{\"attributes\":{\"data\":{\"x\":[0.1,0.5,1.0,1.5,2.0,2.5,3.0],\"y\":[1.2589254117941673,3.1622776601683795,10.0,31.622776601683793,100.0,316.22776601683796,1000.0]},\"selected\":{\"id\":\"2065\"},\"selection_policy\":{\"id\":\"2064\"}},\"id\":\"2043\",\"type\":\"ColumnDataSource\"},{\"attributes\":{},\"id\":\"1937\",\"type\":\"LinearScale\"},{\"attributes\":{\"overlay\":{\"id\":\"1955\"}},\"id\":\"1951\",\"type\":\"BoxZoomTool\"},{\"attributes\":{\"coordinates\":null,\"group\":null,\"text\":\"Logarithmic axis example\",\"text_color\":\"#5B5B5B\",\"text_font\":\"Calibri Light\",\"text_font_size\":\"1.25em\",\"text_font_style\":\"bold\"},\"id\":\"1931\",\"type\":\"Title\"},{\"attributes\":{\"axis_label\":\"sections\",\"axis_label_standoff\":10,\"axis_label_text_color\":\"#5B5B5B\",\"axis_label_text_font\":\"Calibri Light\",\"axis_label_text_font_size\":\"1.15em\",\"axis_label_text_font_style\":\"bold\",\"axis_line_alpha\":1,\"axis_line_color\":\"#5B5B5B\",\"coordinates\":null,\"formatter\":{\"id\":\"1974\"},\"group\":null,\"major_label_policy\":{\"id\":\"1975\"},\"major_label_text_color\":\"#5B5B5B\",\"major_label_text_font\":\"Calibri Light\",\"major_label_text_font_size\":\"0.95em\",\"major_label_text_font_style\":\"bold\",\"major_tick_in\":0,\"major_tick_line_alpha\":0.25,\"major_tick_line_color\":\"#5B5B5B\",\"major_tick_out\":3,\"minor_tick_line_alpha\":0.25,\"minor_tick_line_color\":\"#5B5B5B\",\"ticker\":{\"id\":\"1942\"}},\"id\":\"1941\",\"type\":\"LinearAxis\"},{\"attributes\":{\"data\":{\"x\":[0.1,0.5,1.0,1.5,2.0,2.5,3.0],\"y\":[1.2589254117941673,3.1622776601683795,10.0,31.622776601683793,100.0,316.22776601683796,1000.0]},\"selected\":{\"id\":\"2040\"},\"selection_policy\":{\"id\":\"2039\"}},\"id\":\"2020\",\"type\":\"ColumnDataSource\"},{\"attributes\":{\"line_color\":\"red\",\"x\":{\"field\":\"x\"},\"y\":{\"field\":\"y\"}},\"id\":\"2021\",\"type\":\"Line\"},{\"attributes\":{},\"id\":\"1942\",\"type\":\"BasicTicker\"},{\"attributes\":{\"axis\":{\"id\":\"1941\"},\"coordinates\":null,\"group\":null,\"ticker\":null},\"id\":\"1944\",\"type\":\"Grid\"},{\"attributes\":{\"source\":{\"id\":\"2020\"}},\"id\":\"2025\",\"type\":\"CDSView\"},{\"attributes\":{},\"id\":\"1939\",\"type\":\"LogScale\"},{\"attributes\":{\"line_alpha\":0.1,\"line_color\":\"red\",\"x\":{\"field\":\"x\"},\"y\":{\"field\":\"y\"}},\"id\":\"2022\",\"type\":\"Line\"},{\"attributes\":{},\"id\":\"1933\",\"type\":\"DataRange1d\"},{\"attributes\":{\"fill_alpha\":{\"value\":0.2},\"fill_color\":{\"value\":\"red\"},\"hatch_alpha\":{\"value\":0.2},\"line_alpha\":{\"value\":0.2},\"line_color\":{\"value\":\"red\"},\"size\":{\"value\":6},\"x\":{\"field\":\"x\"},\"y\":{\"field\":\"y\"}},\"id\":\"2046\",\"type\":\"Circle\"},{\"attributes\":{\"coordinates\":null,\"data_source\":{\"id\":\"1963\"},\"glyph\":{\"id\":\"1964\"},\"group\":null,\"hover_glyph\":null,\"muted_glyph\":{\"id\":\"1966\"},\"nonselection_glyph\":{\"id\":\"1965\"},\"view\":{\"id\":\"1968\"}},\"id\":\"1967\",\"type\":\"GlyphRenderer\"},{\"attributes\":{},\"id\":\"2040\",\"type\":\"Selection\"},{\"attributes\":{},\"id\":\"1954\",\"type\":\"HelpTool\"},{\"attributes\":{\"label\":{\"value\":\"y=10^x\"},\"renderers\":[{\"id\":\"2024\"},{\"id\":\"2047\"}]},\"id\":\"2042\",\"type\":\"LegendItem\"},{\"attributes\":{\"end\":100000000000,\"start\":0.001},\"id\":\"1935\",\"type\":\"Range1d\"},{\"attributes\":{},\"id\":\"2039\",\"type\":\"UnionRenderers\"},{\"attributes\":{\"axis_label\":\"particles\",\"axis_label_standoff\":10,\"axis_label_text_color\":\"#5B5B5B\",\"axis_label_text_font\":\"Calibri Light\",\"axis_label_text_font_size\":\"1.15em\",\"axis_label_text_font_style\":\"bold\",\"axis_line_alpha\":1,\"axis_line_color\":\"#5B5B5B\",\"coordinates\":null,\"formatter\":{\"id\":\"1971\"},\"group\":null,\"major_label_policy\":{\"id\":\"1972\"},\"major_label_text_color\":\"#5B5B5B\",\"major_label_text_font\":\"Calibri Light\",\"major_label_text_font_size\":\"0.95em\",\"major_label_text_font_style\":\"bold\",\"major_tick_in\":0,\"major_tick_line_alpha\":0.25,\"major_tick_line_color\":\"#5B5B5B\",\"major_tick_out\":3,\"minor_tick_line_alpha\":0.25,\"minor_tick_line_color\":\"#5B5B5B\",\"ticker\":{\"id\":\"1946\"}},\"id\":\"1945\",\"type\":\"LogAxis\"},{\"attributes\":{\"num_minor_ticks\":10},\"id\":\"1946\",\"type\":\"LogTicker\"},{\"attributes\":{},\"id\":\"2091\",\"type\":\"Selection\"},{\"attributes\":{\"data\":{\"x\":[0.1,0.5,1.0,1.5,2.0,2.5,3.0],\"y\":[0.1,0.5,1.0,1.5,2.0,2.5,3.0]},\"selected\":{\"id\":\"1977\"},\"selection_policy\":{\"id\":\"1976\"}},\"id\":\"1963\",\"type\":\"ColumnDataSource\"},{\"attributes\":{},\"id\":\"1950\",\"type\":\"WheelZoomTool\"},{\"attributes\":{},\"id\":\"1949\",\"type\":\"PanTool\"},{\"attributes\":{},\"id\":\"1952\",\"type\":\"SaveTool\"},{\"attributes\":{},\"id\":\"1953\",\"type\":\"ResetTool\"},{\"attributes\":{\"bottom_units\":\"screen\",\"coordinates\":null,\"fill_alpha\":0.5,\"fill_color\":\"lightgrey\",\"group\":null,\"left_units\":\"screen\",\"level\":\"overlay\",\"line_alpha\":1.0,\"line_color\":\"black\",\"line_dash\":[4,4],\"line_width\":2,\"right_units\":\"screen\",\"syncable\":false,\"top_units\":\"screen\"},\"id\":\"1955\",\"type\":\"BoxAnnotation\"},{\"attributes\":{\"tools\":[{\"id\":\"1949\"},{\"id\":\"1950\"},{\"id\":\"1951\"},{\"id\":\"1952\"},{\"id\":\"1953\"},{\"id\":\"1954\"}]},\"id\":\"1956\",\"type\":\"Toolbar\"},{\"attributes\":{},\"id\":\"2064\",\"type\":\"UnionRenderers\"},{\"attributes\":{\"coordinates\":null,\"data_source\":{\"id\":\"2043\"},\"glyph\":{\"id\":\"2044\"},\"group\":null,\"hover_glyph\":null,\"muted_glyph\":{\"id\":\"2046\"},\"nonselection_glyph\":{\"id\":\"2045\"},\"view\":{\"id\":\"2048\"}},\"id\":\"2047\",\"type\":\"GlyphRenderer\"},{\"attributes\":{\"data\":{\"x\":[0.1,0.5,1.0,1.5,2.0,2.5,3.0],\"y\":[1.023292992280754,1.7782794100389228,10.0,177.82794100389228,10000.0,1778279.410038923,1000000000.0]},\"selected\":{\"id\":\"2091\"},\"selection_policy\":{\"id\":\"2090\"}},\"id\":\"2067\",\"type\":\"ColumnDataSource\"},{\"attributes\":{\"source\":{\"id\":\"2043\"}},\"id\":\"2048\",\"type\":\"CDSView\"},{\"attributes\":{\"fill_alpha\":{\"value\":0.1},\"fill_color\":{\"value\":\"red\"},\"hatch_alpha\":{\"value\":0.1},\"line_alpha\":{\"value\":0.1},\"line_color\":{\"value\":\"red\"},\"size\":{\"value\":6},\"x\":{\"field\":\"x\"},\"y\":{\"field\":\"y\"}},\"id\":\"2045\",\"type\":\"Circle\"}],\"root_ids\":[\"1930\"]},\"title\":\"Bokeh Application\",\"version\":\"2.4.2\"}};\n",
       "  const render_items = [{\"docid\":\"df3f2d53-67c8-430f-bf97-0dc6ce6736d2\",\"root_ids\":[\"1930\"],\"roots\":{\"1930\":\"879f5aea-6b2b-4ad0-b491-829e629f4dee\"}}];\n",
       "  root.Bokeh.embed.embed_items_notebook(docs_json, render_items);\n",
       "\n",
       "  }\n",
       "  if (root.Bokeh !== undefined) {\n",
       "    embed_document(root);\n",
       "  } else {\n",
       "    let attempts = 0;\n",
       "    const timer = setInterval(function(root) {\n",
       "      if (root.Bokeh !== undefined) {\n",
       "        clearInterval(timer);\n",
       "        embed_document(root);\n",
       "      } else {\n",
       "        attempts++;\n",
       "        if (attempts > 100) {\n",
       "          clearInterval(timer);\n",
       "          console.log(\"Bokeh: ERROR: Unable to run BokehJS code because BokehJS library is missing\");\n",
       "        }\n",
       "      }\n",
       "    }, 10, root)\n",
       "  }\n",
       "})(window);"
      ],
      "application/vnd.bokehjs_exec.v0+json": ""
     },
     "metadata": {
      "application/vnd.bokehjs_exec.v0+json": {
       "id": "1930"
      }
     },
     "output_type": "display_data"
    }
   ],
   "source": [
    "# prepare some data\n",
    "x = [0.1, 0.5, 1.0, 1.5, 2.0, 2.5, 3.0]\n",
    "y0 = [i**2 for i in x]\n",
    "y1 = [10**i for i in x]\n",
    "y2 = [10**(i**2) for i in x]\n",
    "\n",
    "# create a new plot with a logarithmic axis type\n",
    "p = figure(\n",
    "    title='Logarithmic axis example',\n",
    "    sizing_mode='stretch_width',\n",
    "    plot_height=300,\n",
    "    max_width=500,\n",
    "    y_axis_type='log',\n",
    "    y_range=[0.001, 10 ** 11],\n",
    "    x_axis_label='sections',\n",
    "    y_axis_label='particles',\n",
    ")\n",
    "\n",
    "# add some renderers\n",
    "p.line(x, x, legend_label='y=x')\n",
    "p.circle(x, x, legend_label='y=x', fill_color='white', size=8)\n",
    "p.line(x, y0, legend_label='y=x^2', line_width=3)\n",
    "p.line(x, y1, legend_label='y=10^x', line_color='red')\n",
    "p.circle(x, y1, legend_label='y=10^x', fill_color='red', line_color='red', size=6)\n",
    "p.line(x, y2, legend_label='y=10^x^2', line_color='orange', line_dash='4 4')\n",
    "\n",
    "p.legend.location = 'top_left'\n",
    "\n",
    "# show the results\n",
    "show(p)"
   ]
  },
  {
   "cell_type": "markdown",
   "metadata": {
    "id": "DPpJvUkBmrAJ"
   },
   "source": [
    "### Enabling datetime axes\n",
    "Set the `x_axis_type` or `y_axis_type` to `datetime` to display date or time information on an axis. Bokeh then creates a [DatetimeAxis](https://docs.bokeh.org/en/latest/docs/reference/models/axes.html#bokeh.models.axes.DatetimeAxis)\n",
    "\n",
    "To format the ticks of a `DatetimeAxis`, use the [DatetimeTickFormatter](https://docs.bokeh.org/en/latest/docs/reference/models/formatters.html#bokeh.models.formatters.DatetimeTickFormatter)"
   ]
  },
  {
   "cell_type": "code",
   "execution_count": 9,
   "metadata": {
    "colab": {
     "base_uri": "https://localhost:8080/",
     "height": 267
    },
    "executionInfo": {
     "elapsed": 34618,
     "status": "ok",
     "timestamp": 1616931583859,
     "user": {
      "displayName": "류기윤",
      "photoUrl": "https://lh3.googleusercontent.com/a-/AOh14GgQ3YtFwUPyzjO8P1LCqbjF6RkNFAdXqzp9xLgvmA=s64",
      "userId": "14686264071241136597"
     },
     "user_tz": -540
    },
    "id": "0vc5NSzCl_bO",
    "outputId": "73831bb6-068b-4f20-df38-a6516607c07f"
   },
   "outputs": [
    {
     "data": {
      "text/html": [
       "\n",
       "\n",
       "\n",
       "\n",
       "\n",
       "\n",
       "  <div class=\"bk-root\" id=\"7e23fa65-70db-4da9-8ff6-f1ec4ec55d93\" data-root-id=\"2286\"></div>\n"
      ]
     },
     "metadata": {},
     "output_type": "display_data"
    },
    {
     "data": {
      "application/javascript": [
       "(function(root) {\n",
       "  function embed_document(root) {\n",
       "    \n",
       "  const docs_json = {\"47ee662b-56d7-428c-8a69-ca4675a475d0\":{\"defs\":[],\"roots\":{\"references\":[{\"attributes\":{\"below\":[{\"id\":\"2297\"}],\"center\":[{\"id\":\"2300\"},{\"id\":\"2304\"}],\"height\":250,\"left\":[{\"id\":\"2301\"}],\"max_width\":500,\"renderers\":[{\"id\":\"2323\"},{\"id\":\"2329\"}],\"sizing_mode\":\"stretch_width\",\"title\":{\"id\":\"2287\"},\"toolbar\":{\"id\":\"2312\"},\"x_range\":{\"id\":\"2289\"},\"x_scale\":{\"id\":\"2293\"},\"y_range\":{\"id\":\"2291\"},\"y_scale\":{\"id\":\"2295\"}},\"id\":\"2286\",\"subtype\":\"Figure\",\"type\":\"Plot\"},{\"attributes\":{},\"id\":\"2431\",\"type\":\"AllLabels\"},{\"attributes\":{\"line_color\":\"navy\",\"x\":{\"field\":\"x\"},\"y\":{\"field\":\"y\"}},\"id\":\"2326\",\"type\":\"Line\"},{\"attributes\":{\"data\":{\"x\":[1653896053245.1,1654500853245.111,1655105653245.112,1655710453245.1128,1656315253245.114,1656920053245.115,1657524853245.116,1658129653245.117,1658734453245.118,1659339253245.1191,1659944053245.12,1660548853245.121,1661153653245.122,1661758453245.122,1662363253245.1228,1662968053245.124,1663572853245.125,1664177653245.126,1664782453245.127,1665387253245.128,1665992053245.1292,1666596853245.1292,1667201653245.1301,1667806453245.131,1668411253245.132,1669016053245.1328],\"y\":[57,49,72,77,47,13,26,19,89,55,27,97,43,58,87,79,59,88,33,37,94,11,7,24,69,6]},\"selected\":{\"id\":\"2435\"},\"selection_policy\":{\"id\":\"2434\"}},\"id\":\"2325\",\"type\":\"ColumnDataSource\"},{\"attributes\":{\"source\":{\"id\":\"2325\"}},\"id\":\"2330\",\"type\":\"CDSView\"},{\"attributes\":{\"coordinates\":null,\"data_source\":{\"id\":\"2325\"},\"glyph\":{\"id\":\"2326\"},\"group\":null,\"hover_glyph\":null,\"muted_glyph\":{\"id\":\"2328\"},\"nonselection_glyph\":{\"id\":\"2327\"},\"view\":{\"id\":\"2330\"}},\"id\":\"2329\",\"type\":\"GlyphRenderer\"},{\"attributes\":{\"coordinates\":null,\"data_source\":{\"id\":\"2319\"},\"glyph\":{\"id\":\"2320\"},\"group\":null,\"hover_glyph\":null,\"muted_glyph\":{\"id\":\"2322\"},\"nonselection_glyph\":{\"id\":\"2321\"},\"view\":{\"id\":\"2324\"}},\"id\":\"2323\",\"type\":\"GlyphRenderer\"},{\"attributes\":{\"line_alpha\":0.1,\"line_color\":\"navy\",\"x\":{\"field\":\"x\"},\"y\":{\"field\":\"y\"}},\"id\":\"2327\",\"type\":\"Line\"},{\"attributes\":{\"fill_alpha\":{\"value\":0.2},\"fill_color\":{\"value\":\"#1f77b4\"},\"hatch_alpha\":{\"value\":0.2},\"line_alpha\":{\"value\":0.2},\"line_color\":{\"value\":\"#1f77b4\"},\"size\":{\"value\":8},\"x\":{\"field\":\"x\"},\"y\":{\"field\":\"y\"}},\"id\":\"2322\",\"type\":\"Circle\"},{\"attributes\":{\"line_alpha\":0.2,\"line_color\":\"navy\",\"x\":{\"field\":\"x\"},\"y\":{\"field\":\"y\"}},\"id\":\"2328\",\"type\":\"Line\"},{\"attributes\":{\"source\":{\"id\":\"2319\"}},\"id\":\"2324\",\"type\":\"CDSView\"},{\"attributes\":{},\"id\":\"2432\",\"type\":\"UnionRenderers\"},{\"attributes\":{\"bottom_units\":\"screen\",\"coordinates\":null,\"fill_alpha\":0.5,\"fill_color\":\"lightgrey\",\"group\":null,\"left_units\":\"screen\",\"level\":\"overlay\",\"line_alpha\":1.0,\"line_color\":\"black\",\"line_dash\":[4,4],\"line_width\":2,\"right_units\":\"screen\",\"syncable\":false,\"top_units\":\"screen\"},\"id\":\"2311\",\"type\":\"BoxAnnotation\"},{\"attributes\":{},\"id\":\"2291\",\"type\":\"DataRange1d\"},{\"attributes\":{\"fill_color\":{\"value\":\"#1f77b4\"},\"line_color\":{\"value\":\"#1f77b4\"},\"size\":{\"value\":8},\"x\":{\"field\":\"x\"},\"y\":{\"field\":\"y\"}},\"id\":\"2320\",\"type\":\"Circle\"},{\"attributes\":{},\"id\":\"2433\",\"type\":\"Selection\"},{\"attributes\":{},\"id\":\"2295\",\"type\":\"LinearScale\"},{\"attributes\":{\"data\":{\"x\":[1653896053245.1,1654500853245.111,1655105653245.112,1655710453245.1128,1656315253245.114,1656920053245.115,1657524853245.116,1658129653245.117,1658734453245.118,1659339253245.1191,1659944053245.12,1660548853245.121,1661153653245.122,1661758453245.122,1662363253245.1228,1662968053245.124,1663572853245.125,1664177653245.126,1664782453245.127,1665387253245.128,1665992053245.1292,1666596853245.1292,1667201653245.1301,1667806453245.131,1668411253245.132,1669016053245.1328],\"y\":[57,49,72,77,47,13,26,19,89,55,27,97,43,58,87,79,59,88,33,37,94,11,7,24,69,6]},\"selected\":{\"id\":\"2433\"},\"selection_policy\":{\"id\":\"2432\"}},\"id\":\"2319\",\"type\":\"ColumnDataSource\"},{\"attributes\":{\"axis\":{\"id\":\"2297\"},\"coordinates\":null,\"group\":null,\"ticker\":null},\"id\":\"2300\",\"type\":\"Grid\"},{\"attributes\":{\"num_minor_ticks\":5,\"tickers\":[{\"id\":\"2437\"},{\"id\":\"2438\"},{\"id\":\"2439\"},{\"id\":\"2440\"},{\"id\":\"2441\"},{\"id\":\"2442\"},{\"id\":\"2443\"},{\"id\":\"2444\"},{\"id\":\"2445\"},{\"id\":\"2446\"},{\"id\":\"2447\"},{\"id\":\"2448\"}]},\"id\":\"2298\",\"type\":\"DatetimeTicker\"},{\"attributes\":{\"mantissas\":[1,2,5],\"max_interval\":500.0,\"num_minor_ticks\":0},\"id\":\"2437\",\"type\":\"AdaptiveTicker\"},{\"attributes\":{},\"id\":\"2310\",\"type\":\"HelpTool\"},{\"attributes\":{\"base\":60,\"mantissas\":[1,2,5,10,15,20,30],\"max_interval\":1800000.0,\"min_interval\":1000.0,\"num_minor_ticks\":0},\"id\":\"2438\",\"type\":\"AdaptiveTicker\"},{\"attributes\":{\"axis_label_standoff\":10,\"axis_label_text_color\":\"#5B5B5B\",\"axis_label_text_font\":\"Calibri Light\",\"axis_label_text_font_size\":\"1.15em\",\"axis_label_text_font_style\":\"bold\",\"axis_line_alpha\":1,\"axis_line_color\":\"#5B5B5B\",\"coordinates\":null,\"formatter\":{\"id\":\"2331\"},\"group\":null,\"major_label_policy\":{\"id\":\"2429\"},\"major_label_text_color\":\"#5B5B5B\",\"major_label_text_font\":\"Calibri Light\",\"major_label_text_font_size\":\"0.95em\",\"major_label_text_font_style\":\"bold\",\"major_tick_in\":0,\"major_tick_line_alpha\":0.25,\"major_tick_line_color\":\"#5B5B5B\",\"major_tick_out\":3,\"minor_tick_line_alpha\":0.25,\"minor_tick_line_color\":\"#5B5B5B\",\"ticker\":{\"id\":\"2302\"}},\"id\":\"2301\",\"type\":\"LinearAxis\"},{\"attributes\":{\"months\":[\"%b %Y\"]},\"id\":\"2333\",\"type\":\"DatetimeTickFormatter\"},{\"attributes\":{\"tools\":[{\"id\":\"2305\"},{\"id\":\"2306\"},{\"id\":\"2307\"},{\"id\":\"2308\"},{\"id\":\"2309\"},{\"id\":\"2310\"}]},\"id\":\"2312\",\"type\":\"Toolbar\"},{\"attributes\":{\"days\":[1,2,3,4,5,6,7,8,9,10,11,12,13,14,15,16,17,18,19,20,21,22,23,24,25,26,27,28,29,30,31]},\"id\":\"2440\",\"type\":\"DaysTicker\"},{\"attributes\":{},\"id\":\"2289\",\"type\":\"DataRange1d\"},{\"attributes\":{\"base\":24,\"mantissas\":[1,2,4,6,8,12],\"max_interval\":43200000.0,\"min_interval\":3600000.0,\"num_minor_ticks\":0},\"id\":\"2439\",\"type\":\"AdaptiveTicker\"},{\"attributes\":{\"months\":[0,1,2,3,4,5,6,7,8,9,10,11]},\"id\":\"2444\",\"type\":\"MonthsTicker\"},{\"attributes\":{\"axis_label_standoff\":10,\"axis_label_text_color\":\"#5B5B5B\",\"axis_label_text_font\":\"Calibri Light\",\"axis_label_text_font_size\":\"1.15em\",\"axis_label_text_font_style\":\"bold\",\"axis_line_alpha\":1,\"axis_line_color\":\"#5B5B5B\",\"coordinates\":null,\"formatter\":{\"id\":\"2333\"},\"group\":null,\"major_label_policy\":{\"id\":\"2431\"},\"major_label_text_color\":\"#5B5B5B\",\"major_label_text_font\":\"Calibri Light\",\"major_label_text_font_size\":\"0.95em\",\"major_label_text_font_style\":\"bold\",\"major_tick_in\":0,\"major_tick_line_alpha\":0.25,\"major_tick_line_color\":\"#5B5B5B\",\"major_tick_out\":3,\"minor_tick_line_alpha\":0.25,\"minor_tick_line_color\":\"#5B5B5B\",\"ticker\":{\"id\":\"2298\"}},\"id\":\"2297\",\"type\":\"DatetimeAxis\"},{\"attributes\":{\"format\":\"$0.00\"},\"id\":\"2331\",\"type\":\"NumeralTickFormatter\"},{\"attributes\":{},\"id\":\"2309\",\"type\":\"ResetTool\"},{\"attributes\":{},\"id\":\"2293\",\"type\":\"LinearScale\"},{\"attributes\":{\"days\":[1,4,7,10,13,16,19,22,25,28]},\"id\":\"2441\",\"type\":\"DaysTicker\"},{\"attributes\":{\"months\":[0,2,4,6,8,10]},\"id\":\"2445\",\"type\":\"MonthsTicker\"},{\"attributes\":{\"days\":[1,15]},\"id\":\"2443\",\"type\":\"DaysTicker\"},{\"attributes\":{},\"id\":\"2308\",\"type\":\"SaveTool\"},{\"attributes\":{\"months\":[0,6]},\"id\":\"2447\",\"type\":\"MonthsTicker\"},{\"attributes\":{\"fill_alpha\":{\"value\":0.1},\"fill_color\":{\"value\":\"#1f77b4\"},\"hatch_alpha\":{\"value\":0.1},\"line_alpha\":{\"value\":0.1},\"line_color\":{\"value\":\"#1f77b4\"},\"size\":{\"value\":8},\"x\":{\"field\":\"x\"},\"y\":{\"field\":\"y\"}},\"id\":\"2321\",\"type\":\"Circle\"},{\"attributes\":{\"days\":[1,8,15,22]},\"id\":\"2442\",\"type\":\"DaysTicker\"},{\"attributes\":{\"axis\":{\"id\":\"2301\"},\"coordinates\":null,\"dimension\":1,\"group\":null,\"ticker\":null},\"id\":\"2304\",\"type\":\"Grid\"},{\"attributes\":{},\"id\":\"2448\",\"type\":\"YearsTicker\"},{\"attributes\":{},\"id\":\"2302\",\"type\":\"BasicTicker\"},{\"attributes\":{},\"id\":\"2434\",\"type\":\"UnionRenderers\"},{\"attributes\":{\"coordinates\":null,\"group\":null,\"text\":\"datetime axis example\",\"text_color\":\"#5B5B5B\",\"text_font\":\"Calibri Light\",\"text_font_size\":\"1.25em\",\"text_font_style\":\"bold\"},\"id\":\"2287\",\"type\":\"Title\"},{\"attributes\":{\"months\":[0,4,8]},\"id\":\"2446\",\"type\":\"MonthsTicker\"},{\"attributes\":{},\"id\":\"2435\",\"type\":\"Selection\"},{\"attributes\":{},\"id\":\"2306\",\"type\":\"WheelZoomTool\"},{\"attributes\":{},\"id\":\"2429\",\"type\":\"AllLabels\"},{\"attributes\":{},\"id\":\"2305\",\"type\":\"PanTool\"},{\"attributes\":{\"overlay\":{\"id\":\"2311\"}},\"id\":\"2307\",\"type\":\"BoxZoomTool\"}],\"root_ids\":[\"2286\"]},\"title\":\"Bokeh Application\",\"version\":\"2.4.2\"}};\n",
       "  const render_items = [{\"docid\":\"47ee662b-56d7-428c-8a69-ca4675a475d0\",\"root_ids\":[\"2286\"],\"roots\":{\"2286\":\"7e23fa65-70db-4da9-8ff6-f1ec4ec55d93\"}}];\n",
       "  root.Bokeh.embed.embed_items_notebook(docs_json, render_items);\n",
       "\n",
       "  }\n",
       "  if (root.Bokeh !== undefined) {\n",
       "    embed_document(root);\n",
       "  } else {\n",
       "    let attempts = 0;\n",
       "    const timer = setInterval(function(root) {\n",
       "      if (root.Bokeh !== undefined) {\n",
       "        clearInterval(timer);\n",
       "        embed_document(root);\n",
       "      } else {\n",
       "        attempts++;\n",
       "        if (attempts > 100) {\n",
       "          clearInterval(timer);\n",
       "          console.log(\"Bokeh: ERROR: Unable to run BokehJS code because BokehJS library is missing\");\n",
       "        }\n",
       "      }\n",
       "    }, 10, root)\n",
       "  }\n",
       "})(window);"
      ],
      "application/vnd.bokehjs_exec.v0+json": ""
     },
     "metadata": {
      "application/vnd.bokehjs_exec.v0+json": {
       "id": "2286"
      }
     },
     "output_type": "display_data"
    }
   ],
   "source": [
    "from bokeh.models import DatetimeTickFormatter, NumeralTickFormatter\n",
    "\n",
    "from datetime import datetime, timedelta\n",
    "import random\n",
    "\n",
    "# generate list of dates (today's date in subsequent weeks)\n",
    "dates = [(datetime.now() + timedelta(day * 7)) for day in range(0, 26)]\n",
    "\n",
    "# generate 25 random data points\n",
    "y = random.sample(range(0, 100), 26)\n",
    "\n",
    "# create new plot\n",
    "p = figure(\n",
    "    title='datetime axis example',\n",
    "    x_axis_type='datetime',\n",
    "    sizing_mode='stretch_width',\n",
    "    max_width=500,\n",
    "    plot_height=250,\n",
    ")\n",
    "\n",
    "# add renderers\n",
    "p.circle(dates, y, size=8)\n",
    "p.line(dates, y, color='navy', line_width=1)\n",
    "\n",
    "# format axes ticks\n",
    "p.yaxis[0].formatter = NumeralTickFormatter(format='$0.00')\n",
    "p.xaxis[0].formatter = DatetimeTickFormatter(months='%b %Y')\n",
    "\n",
    "# show the results\n",
    "show(p)"
   ]
  },
  {
   "cell_type": "markdown",
   "metadata": {
    "id": "7n4M0eHqomfB"
   },
   "source": [
    "> **See also**\n",
    "\n",
    "> See [Styling axes](https://docs.bokeh.org/en/latest/docs/user_guide/styling.html#userguide-styling-axes) in the user guide for more information on customizing axes. The entry for [Axis](https://docs.bokeh.org/en/latest/docs/reference/models/axes.html#bokeh.models.axes.Axis) in the reference guide contains a list of all available attributes you can use to customize the axes of your plot"
   ]
  },
  {
   "cell_type": "markdown",
   "metadata": {
    "id": "KAlUJTD5qDmG"
   },
   "source": [
    "## Customizing the grid\n",
    "To change the appearance of the grid, set the various properties of the `xgrid()`, `ygrid()`, and `grid()` methods of your Plot object"
   ]
  },
  {
   "cell_type": "markdown",
   "metadata": {
    "id": "EylX2KzQqcbR"
   },
   "source": [
    "### Styling lines\n",
    "Change what the horizontal and vertical lines of your grid look like by setting the various `grid_line` properties:"
   ]
  },
  {
   "cell_type": "code",
   "execution_count": 10,
   "metadata": {
    "colab": {
     "base_uri": "https://localhost:8080/",
     "height": 267
    },
    "executionInfo": {
     "elapsed": 1624,
     "status": "ok",
     "timestamp": 1616932271339,
     "user": {
      "displayName": "류기윤",
      "photoUrl": "https://lh3.googleusercontent.com/a-/AOh14GgQ3YtFwUPyzjO8P1LCqbjF6RkNFAdXqzp9xLgvmA=s64",
      "userId": "14686264071241136597"
     },
     "user_tz": -540
    },
    "id": "0UD8TOb8oW_6",
    "outputId": "26aa11a1-90c0-430f-d131-75686b31e389"
   },
   "outputs": [
    {
     "data": {
      "text/html": [
       "\n",
       "\n",
       "\n",
       "\n",
       "\n",
       "\n",
       "  <div class=\"bk-root\" id=\"eca7bba7-552b-46c5-b7b0-d6cd53f15c1d\" data-root-id=\"2559\"></div>\n"
      ]
     },
     "metadata": {},
     "output_type": "display_data"
    },
    {
     "data": {
      "application/javascript": [
       "(function(root) {\n",
       "  function embed_document(root) {\n",
       "    \n",
       "  const docs_json = {\"511e6655-8681-475b-a5c4-9d148d2002c7\":{\"defs\":[],\"roots\":{\"references\":[{\"attributes\":{\"below\":[{\"id\":\"2570\"}],\"center\":[{\"id\":\"2573\"},{\"id\":\"2577\"}],\"height\":250,\"left\":[{\"id\":\"2574\"}],\"max_width\":500,\"renderers\":[{\"id\":\"2596\"}],\"sizing_mode\":\"stretch_width\",\"title\":{\"id\":\"2560\"},\"toolbar\":{\"id\":\"2585\"},\"x_range\":{\"id\":\"2562\"},\"x_scale\":{\"id\":\"2566\"},\"y_range\":{\"id\":\"2564\"},\"y_scale\":{\"id\":\"2568\"}},\"id\":\"2559\",\"subtype\":\"Figure\",\"type\":\"Plot\"},{\"attributes\":{},\"id\":\"2718\",\"type\":\"AllLabels\"},{\"attributes\":{},\"id\":\"2715\",\"type\":\"AllLabels\"},{\"attributes\":{\"source\":{\"id\":\"2592\"}},\"id\":\"2597\",\"type\":\"CDSView\"},{\"attributes\":{\"axis_label_standoff\":10,\"axis_label_text_color\":\"#5B5B5B\",\"axis_label_text_font\":\"Calibri Light\",\"axis_label_text_font_size\":\"1.15em\",\"axis_label_text_font_style\":\"bold\",\"axis_line_alpha\":1,\"axis_line_color\":\"#5B5B5B\",\"coordinates\":null,\"formatter\":{\"id\":\"2714\"},\"group\":null,\"major_label_policy\":{\"id\":\"2715\"},\"major_label_text_color\":\"#5B5B5B\",\"major_label_text_font\":\"Calibri Light\",\"major_label_text_font_size\":\"0.95em\",\"major_label_text_font_style\":\"bold\",\"major_tick_in\":0,\"major_tick_line_alpha\":0.25,\"major_tick_line_color\":\"#5B5B5B\",\"major_tick_out\":3,\"minor_tick_line_alpha\":0.25,\"minor_tick_line_color\":\"#5B5B5B\",\"ticker\":{\"id\":\"2575\"}},\"id\":\"2574\",\"type\":\"LinearAxis\"},{\"attributes\":{},\"id\":\"2581\",\"type\":\"SaveTool\"},{\"attributes\":{},\"id\":\"2720\",\"type\":\"Selection\"},{\"attributes\":{},\"id\":\"2568\",\"type\":\"LinearScale\"},{\"attributes\":{},\"id\":\"2714\",\"type\":\"BasicTickFormatter\"},{\"attributes\":{\"coordinates\":null,\"group\":null,\"text\":\"Customized grid lines example\",\"text_color\":\"#5B5B5B\",\"text_font\":\"Calibri Light\",\"text_font_size\":\"1.25em\",\"text_font_style\":\"bold\"},\"id\":\"2560\",\"type\":\"Title\"},{\"attributes\":{},\"id\":\"2583\",\"type\":\"HelpTool\"},{\"attributes\":{},\"id\":\"2719\",\"type\":\"UnionRenderers\"},{\"attributes\":{},\"id\":\"2578\",\"type\":\"PanTool\"},{\"attributes\":{},\"id\":\"2582\",\"type\":\"ResetTool\"},{\"attributes\":{},\"id\":\"2571\",\"type\":\"BasicTicker\"},{\"attributes\":{\"tools\":[{\"id\":\"2578\"},{\"id\":\"2579\"},{\"id\":\"2580\"},{\"id\":\"2581\"},{\"id\":\"2582\"},{\"id\":\"2583\"}]},\"id\":\"2585\",\"type\":\"Toolbar\"},{\"attributes\":{\"axis\":{\"id\":\"2574\"},\"coordinates\":null,\"dimension\":1,\"grid_line_alpha\":0.8,\"grid_line_dash\":[6,4],\"group\":null,\"ticker\":null},\"id\":\"2577\",\"type\":\"Grid\"},{\"attributes\":{\"line_alpha\":0.1,\"line_color\":\"green\",\"line_width\":2,\"x\":{\"field\":\"x\"},\"y\":{\"field\":\"y\"}},\"id\":\"2594\",\"type\":\"Line\"},{\"attributes\":{},\"id\":\"2575\",\"type\":\"BasicTicker\"},{\"attributes\":{\"overlay\":{\"id\":\"2584\"}},\"id\":\"2580\",\"type\":\"BoxZoomTool\"},{\"attributes\":{},\"id\":\"2717\",\"type\":\"BasicTickFormatter\"},{\"attributes\":{\"data\":{\"x\":[1,2,3,4,5],\"y\":[4,5,5,7,2]},\"selected\":{\"id\":\"2720\"},\"selection_policy\":{\"id\":\"2719\"}},\"id\":\"2592\",\"type\":\"ColumnDataSource\"},{\"attributes\":{\"bottom_units\":\"screen\",\"coordinates\":null,\"fill_alpha\":0.5,\"fill_color\":\"lightgrey\",\"group\":null,\"left_units\":\"screen\",\"level\":\"overlay\",\"line_alpha\":1.0,\"line_color\":\"black\",\"line_dash\":[4,4],\"line_width\":2,\"right_units\":\"screen\",\"syncable\":false,\"top_units\":\"screen\"},\"id\":\"2584\",\"type\":\"BoxAnnotation\"},{\"attributes\":{\"coordinates\":null,\"data_source\":{\"id\":\"2592\"},\"glyph\":{\"id\":\"2593\"},\"group\":null,\"hover_glyph\":null,\"muted_glyph\":{\"id\":\"2595\"},\"nonselection_glyph\":{\"id\":\"2594\"},\"view\":{\"id\":\"2597\"}},\"id\":\"2596\",\"type\":\"GlyphRenderer\"},{\"attributes\":{},\"id\":\"2579\",\"type\":\"WheelZoomTool\"},{\"attributes\":{},\"id\":\"2562\",\"type\":\"DataRange1d\"},{\"attributes\":{\"line_alpha\":0.2,\"line_color\":\"green\",\"line_width\":2,\"x\":{\"field\":\"x\"},\"y\":{\"field\":\"y\"}},\"id\":\"2595\",\"type\":\"Line\"},{\"attributes\":{\"axis_label_standoff\":10,\"axis_label_text_color\":\"#5B5B5B\",\"axis_label_text_font\":\"Calibri Light\",\"axis_label_text_font_size\":\"1.15em\",\"axis_label_text_font_style\":\"bold\",\"axis_line_alpha\":1,\"axis_line_color\":\"#5B5B5B\",\"coordinates\":null,\"formatter\":{\"id\":\"2717\"},\"group\":null,\"major_label_policy\":{\"id\":\"2718\"},\"major_label_text_color\":\"#5B5B5B\",\"major_label_text_font\":\"Calibri Light\",\"major_label_text_font_size\":\"0.95em\",\"major_label_text_font_style\":\"bold\",\"major_tick_in\":0,\"major_tick_line_alpha\":0.25,\"major_tick_line_color\":\"#5B5B5B\",\"major_tick_out\":3,\"minor_tick_line_alpha\":0.25,\"minor_tick_line_color\":\"#5B5B5B\",\"ticker\":{\"id\":\"2571\"}},\"id\":\"2570\",\"type\":\"LinearAxis\"},{\"attributes\":{\"line_color\":\"green\",\"line_width\":2,\"x\":{\"field\":\"x\"},\"y\":{\"field\":\"y\"}},\"id\":\"2593\",\"type\":\"Line\"},{\"attributes\":{\"axis\":{\"id\":\"2570\"},\"coordinates\":null,\"grid_line_color\":\"red\",\"group\":null,\"ticker\":null},\"id\":\"2573\",\"type\":\"Grid\"},{\"attributes\":{},\"id\":\"2564\",\"type\":\"DataRange1d\"},{\"attributes\":{},\"id\":\"2566\",\"type\":\"LinearScale\"}],\"root_ids\":[\"2559\"]},\"title\":\"Bokeh Application\",\"version\":\"2.4.2\"}};\n",
       "  const render_items = [{\"docid\":\"511e6655-8681-475b-a5c4-9d148d2002c7\",\"root_ids\":[\"2559\"],\"roots\":{\"2559\":\"eca7bba7-552b-46c5-b7b0-d6cd53f15c1d\"}}];\n",
       "  root.Bokeh.embed.embed_items_notebook(docs_json, render_items);\n",
       "\n",
       "  }\n",
       "  if (root.Bokeh !== undefined) {\n",
       "    embed_document(root);\n",
       "  } else {\n",
       "    let attempts = 0;\n",
       "    const timer = setInterval(function(root) {\n",
       "      if (root.Bokeh !== undefined) {\n",
       "        clearInterval(timer);\n",
       "        embed_document(root);\n",
       "      } else {\n",
       "        attempts++;\n",
       "        if (attempts > 100) {\n",
       "          clearInterval(timer);\n",
       "          console.log(\"Bokeh: ERROR: Unable to run BokehJS code because BokehJS library is missing\");\n",
       "        }\n",
       "      }\n",
       "    }, 10, root)\n",
       "  }\n",
       "})(window);"
      ],
      "application/vnd.bokehjs_exec.v0+json": ""
     },
     "metadata": {
      "application/vnd.bokehjs_exec.v0+json": {
       "id": "2559"
      }
     },
     "output_type": "display_data"
    }
   ],
   "source": [
    "# prepare some data\n",
    "x = [1, 2, 3, 4, 5]\n",
    "y = [4, 5, 5, 7, 2]\n",
    "\n",
    "# create a plot\n",
    "p = figure(\n",
    "    title='Customized grid lines example',\n",
    "    sizing_mode='stretch_width',\n",
    "    max_width=500,\n",
    "    plot_height=250,\n",
    ")\n",
    "\n",
    "# add a renderer\n",
    "p.line(x, y, line_color='green', line_width=2)\n",
    "\n",
    "# change just some things about the x-grid\n",
    "p.xgrid.grid_line_color = 'red'\n",
    "\n",
    "# change just some things about the y-grid\n",
    "p.ygrid.grid_line_alpha = 0.8\n",
    "p.ygrid.grid_line_dash = [6, 4]\n",
    "\n",
    "# show the results\n",
    "show(p)"
   ]
  },
  {
   "cell_type": "markdown",
   "metadata": {
    "id": "9cY1vBwLrqcK"
   },
   "source": [
    "> **See also**\n",
    "\n",
    "> For more information on lines and minor lines, see [Lines](https://docs.bokeh.org/en/latest/docs/user_guide/styling.html#userguide-styling-grid-lines) in the user guide"
   ]
  },
  {
   "cell_type": "markdown",
   "metadata": {
    "id": "QMkQtEEYsSO0"
   },
   "source": [
    "### Using bands and bounds\n",
    "Another way to make reading your plot easier is to use bands and bounds.\n",
    "\n",
    "Bands and bounds are more examples of the annotations you learned about in [Using annotations](https://docs.bokeh.org/en/latest/docs/first_steps/first_steps_3.html#first-steps-3-annotations)"
   ]
  },
  {
   "cell_type": "code",
   "execution_count": 11,
   "metadata": {
    "colab": {
     "base_uri": "https://localhost:8080/",
     "height": 267
    },
    "executionInfo": {
     "elapsed": 1940,
     "status": "ok",
     "timestamp": 1616932710315,
     "user": {
      "displayName": "류기윤",
      "photoUrl": "https://lh3.googleusercontent.com/a-/AOh14GgQ3YtFwUPyzjO8P1LCqbjF6RkNFAdXqzp9xLgvmA=s64",
      "userId": "14686264071241136597"
     },
     "user_tz": -540
    },
    "id": "YqR1dP2qrG5a",
    "outputId": "527e0f04-9c42-4508-ca39-339b8b93ac33"
   },
   "outputs": [
    {
     "data": {
      "text/html": [
       "\n",
       "\n",
       "\n",
       "\n",
       "\n",
       "\n",
       "  <div class=\"bk-root\" id=\"3a2fcf88-ba46-4467-981f-5386d6440fee\" data-root-id=\"2772\"></div>\n"
      ]
     },
     "metadata": {},
     "output_type": "display_data"
    },
    {
     "data": {
      "application/javascript": [
       "(function(root) {\n",
       "  function embed_document(root) {\n",
       "    \n",
       "  const docs_json = {\"602948af-2e9f-45f4-b593-e34dd22d112b\":{\"defs\":[],\"roots\":{\"references\":[{\"attributes\":{\"below\":[{\"id\":\"2783\"}],\"center\":[{\"id\":\"2786\"},{\"id\":\"2790\"}],\"height\":250,\"left\":[{\"id\":\"2787\"}],\"max_width\":500,\"renderers\":[{\"id\":\"2809\"}],\"sizing_mode\":\"stretch_width\",\"title\":{\"id\":\"2773\"},\"toolbar\":{\"id\":\"2798\"},\"x_range\":{\"id\":\"2775\"},\"x_scale\":{\"id\":\"2779\"},\"y_range\":{\"id\":\"2777\"},\"y_scale\":{\"id\":\"2781\"}},\"id\":\"2772\",\"subtype\":\"Figure\",\"type\":\"Plot\"},{\"attributes\":{},\"id\":\"2784\",\"type\":\"BasicTicker\"},{\"attributes\":{},\"id\":\"2796\",\"type\":\"HelpTool\"},{\"attributes\":{\"axis_label_standoff\":10,\"axis_label_text_color\":\"#5B5B5B\",\"axis_label_text_font\":\"Calibri Light\",\"axis_label_text_font_size\":\"1.15em\",\"axis_label_text_font_style\":\"bold\",\"axis_line_alpha\":1,\"axis_line_color\":\"#5B5B5B\",\"coordinates\":null,\"formatter\":{\"id\":\"2937\"},\"group\":null,\"major_label_policy\":{\"id\":\"2938\"},\"major_label_text_color\":\"#5B5B5B\",\"major_label_text_font\":\"Calibri Light\",\"major_label_text_font_size\":\"0.95em\",\"major_label_text_font_style\":\"bold\",\"major_tick_in\":0,\"major_tick_line_alpha\":0.25,\"major_tick_line_color\":\"#5B5B5B\",\"major_tick_out\":3,\"minor_tick_line_alpha\":0.25,\"minor_tick_line_color\":\"#5B5B5B\",\"ticker\":{\"id\":\"2788\"}},\"id\":\"2787\",\"type\":\"LinearAxis\"},{\"attributes\":{\"coordinates\":null,\"group\":null,\"text\":\"Bands and bonds example\",\"text_color\":\"#5B5B5B\",\"text_font\":\"Calibri Light\",\"text_font_size\":\"1.25em\",\"text_font_style\":\"bold\"},\"id\":\"2773\",\"type\":\"Title\"},{\"attributes\":{},\"id\":\"2777\",\"type\":\"DataRange1d\"},{\"attributes\":{},\"id\":\"2781\",\"type\":\"LinearScale\"},{\"attributes\":{\"source\":{\"id\":\"2805\"}},\"id\":\"2810\",\"type\":\"CDSView\"},{\"attributes\":{\"axis_label_standoff\":10,\"axis_label_text_color\":\"#5B5B5B\",\"axis_label_text_font\":\"Calibri Light\",\"axis_label_text_font_size\":\"1.15em\",\"axis_label_text_font_style\":\"bold\",\"axis_line_alpha\":1,\"axis_line_color\":\"#5B5B5B\",\"coordinates\":null,\"formatter\":{\"id\":\"2940\"},\"group\":null,\"major_label_policy\":{\"id\":\"2941\"},\"major_label_text_color\":\"#5B5B5B\",\"major_label_text_font\":\"Calibri Light\",\"major_label_text_font_size\":\"0.95em\",\"major_label_text_font_style\":\"bold\",\"major_tick_in\":0,\"major_tick_line_alpha\":0.25,\"major_tick_line_color\":\"#5B5B5B\",\"major_tick_out\":3,\"minor_tick_line_alpha\":0.25,\"minor_tick_line_color\":\"#5B5B5B\",\"ticker\":{\"id\":\"2784\"}},\"id\":\"2783\",\"type\":\"LinearAxis\"},{\"attributes\":{},\"id\":\"2779\",\"type\":\"LinearScale\"},{\"attributes\":{},\"id\":\"2788\",\"type\":\"BasicTicker\"},{\"attributes\":{},\"id\":\"2937\",\"type\":\"BasicTickFormatter\"},{\"attributes\":{\"axis\":{\"id\":\"2787\"},\"band_fill_alpha\":0.1,\"band_fill_color\":\"olive\",\"coordinates\":null,\"dimension\":1,\"group\":null,\"ticker\":null},\"id\":\"2790\",\"type\":\"Grid\"},{\"attributes\":{},\"id\":\"2938\",\"type\":\"AllLabels\"},{\"attributes\":{},\"id\":\"2795\",\"type\":\"ResetTool\"},{\"attributes\":{\"line_alpha\":0.1,\"line_color\":\"green\",\"line_width\":2,\"x\":{\"field\":\"x\"},\"y\":{\"field\":\"y\"}},\"id\":\"2807\",\"type\":\"Line\"},{\"attributes\":{\"line_alpha\":0.2,\"line_color\":\"green\",\"line_width\":2,\"x\":{\"field\":\"x\"},\"y\":{\"field\":\"y\"}},\"id\":\"2808\",\"type\":\"Line\"},{\"attributes\":{\"line_color\":\"green\",\"line_width\":2,\"x\":{\"field\":\"x\"},\"y\":{\"field\":\"y\"}},\"id\":\"2806\",\"type\":\"Line\"},{\"attributes\":{},\"id\":\"2940\",\"type\":\"BasicTickFormatter\"},{\"attributes\":{},\"id\":\"2792\",\"type\":\"WheelZoomTool\"},{\"attributes\":{},\"id\":\"2794\",\"type\":\"SaveTool\"},{\"attributes\":{},\"id\":\"2941\",\"type\":\"AllLabels\"},{\"attributes\":{\"bottom_units\":\"screen\",\"coordinates\":null,\"fill_alpha\":0.5,\"fill_color\":\"lightgrey\",\"group\":null,\"left_units\":\"screen\",\"level\":\"overlay\",\"line_alpha\":1.0,\"line_color\":\"black\",\"line_dash\":[4,4],\"line_width\":2,\"right_units\":\"screen\",\"syncable\":false,\"top_units\":\"screen\"},\"id\":\"2797\",\"type\":\"BoxAnnotation\"},{\"attributes\":{\"tools\":[{\"id\":\"2791\"},{\"id\":\"2792\"},{\"id\":\"2793\"},{\"id\":\"2794\"},{\"id\":\"2795\"},{\"id\":\"2796\"}]},\"id\":\"2798\",\"type\":\"Toolbar\"},{\"attributes\":{\"axis\":{\"id\":\"2783\"},\"bounds\":[2,4],\"coordinates\":null,\"group\":null,\"ticker\":null},\"id\":\"2786\",\"type\":\"Grid\"},{\"attributes\":{\"data\":{\"x\":[1,2,3,4,5],\"y\":[4,5,5,7,2]},\"selected\":{\"id\":\"2943\"},\"selection_policy\":{\"id\":\"2942\"}},\"id\":\"2805\",\"type\":\"ColumnDataSource\"},{\"attributes\":{\"coordinates\":null,\"data_source\":{\"id\":\"2805\"},\"glyph\":{\"id\":\"2806\"},\"group\":null,\"hover_glyph\":null,\"muted_glyph\":{\"id\":\"2808\"},\"nonselection_glyph\":{\"id\":\"2807\"},\"view\":{\"id\":\"2810\"}},\"id\":\"2809\",\"type\":\"GlyphRenderer\"},{\"attributes\":{},\"id\":\"2942\",\"type\":\"UnionRenderers\"},{\"attributes\":{},\"id\":\"2775\",\"type\":\"DataRange1d\"},{\"attributes\":{},\"id\":\"2943\",\"type\":\"Selection\"},{\"attributes\":{\"overlay\":{\"id\":\"2797\"}},\"id\":\"2793\",\"type\":\"BoxZoomTool\"},{\"attributes\":{},\"id\":\"2791\",\"type\":\"PanTool\"}],\"root_ids\":[\"2772\"]},\"title\":\"Bokeh Application\",\"version\":\"2.4.2\"}};\n",
       "  const render_items = [{\"docid\":\"602948af-2e9f-45f4-b593-e34dd22d112b\",\"root_ids\":[\"2772\"],\"roots\":{\"2772\":\"3a2fcf88-ba46-4467-981f-5386d6440fee\"}}];\n",
       "  root.Bokeh.embed.embed_items_notebook(docs_json, render_items);\n",
       "\n",
       "  }\n",
       "  if (root.Bokeh !== undefined) {\n",
       "    embed_document(root);\n",
       "  } else {\n",
       "    let attempts = 0;\n",
       "    const timer = setInterval(function(root) {\n",
       "      if (root.Bokeh !== undefined) {\n",
       "        clearInterval(timer);\n",
       "        embed_document(root);\n",
       "      } else {\n",
       "        attempts++;\n",
       "        if (attempts > 100) {\n",
       "          clearInterval(timer);\n",
       "          console.log(\"Bokeh: ERROR: Unable to run BokehJS code because BokehJS library is missing\");\n",
       "        }\n",
       "      }\n",
       "    }, 10, root)\n",
       "  }\n",
       "})(window);"
      ],
      "application/vnd.bokehjs_exec.v0+json": ""
     },
     "metadata": {
      "application/vnd.bokehjs_exec.v0+json": {
       "id": "2772"
      }
     },
     "output_type": "display_data"
    }
   ],
   "source": [
    "# create a plot\n",
    "p = figure(\n",
    "    title='Bands and bonds example',\n",
    "    sizing_mode='stretch_width',\n",
    "    max_width=500,\n",
    "    plot_height=250,\n",
    ")\n",
    "\n",
    "# add a renderer\n",
    "p.line(x, y, line_color='green', line_width=2)\n",
    "\n",
    "# add bands to the y-grid\n",
    "p.ygrid.band_fill_color = 'olive'\n",
    "p.ygrid.band_fill_alpha = 0.1\n",
    "\n",
    "# define vertical bonds\n",
    "p.xgrid.bounds = (2, 4)\n",
    "\n",
    "# show the results\n",
    "show(p)"
   ]
  },
  {
   "cell_type": "markdown",
   "metadata": {
    "id": "TzuMxm1Es7nO"
   },
   "source": [
    "> **See also**\n",
    "\n",
    "> For more information on styling bands and bounds, see [Bands and Bounds](https://docs.bokeh.org/en/latest/docs/user_guide/styling.html#userguide-styling-grid-bounds) in the user guide"
   ]
  },
  {
   "cell_type": "markdown",
   "metadata": {
    "id": "NCoFHPWqtpyE"
   },
   "source": [
    "### Setting background colors\n",
    "\n",
    "To change the appearance of the plane that Bokeh draws your plot elements on, use the various `fill_color` attributes of your [Plot](https://docs.bokeh.org/en/latest/docs/reference/models/plots.html#bokeh.models.plots.Plot) object:"
   ]
  },
  {
   "cell_type": "code",
   "execution_count": 12,
   "metadata": {
    "colab": {
     "base_uri": "https://localhost:8080/",
     "height": 267
    },
    "executionInfo": {
     "elapsed": 1588,
     "status": "ok",
     "timestamp": 1616933823785,
     "user": {
      "displayName": "류기윤",
      "photoUrl": "https://lh3.googleusercontent.com/a-/AOh14GgQ3YtFwUPyzjO8P1LCqbjF6RkNFAdXqzp9xLgvmA=s64",
      "userId": "14686264071241136597"
     },
     "user_tz": -540
    },
    "id": "H95NHt-utJbQ",
    "outputId": "e38c731d-7182-49ec-f2fc-7c8e4c19526b"
   },
   "outputs": [
    {
     "data": {
      "text/html": [
       "\n",
       "\n",
       "\n",
       "\n",
       "\n",
       "\n",
       "  <div class=\"bk-root\" id=\"2ff41384-c459-40e9-a544-7bce02035b06\" data-root-id=\"2995\"></div>\n"
      ]
     },
     "metadata": {},
     "output_type": "display_data"
    },
    {
     "data": {
      "application/javascript": [
       "(function(root) {\n",
       "  function embed_document(root) {\n",
       "    \n",
       "  const docs_json = {\"9fed26d5-5ec3-4042-9688-faadbee9f335\":{\"defs\":[],\"roots\":{\"references\":[{\"attributes\":{\"background_fill_color\":\"#e4f4f8\",\"below\":[{\"id\":\"3006\"}],\"border_fill_color\":\"#f2f3fb\",\"center\":[{\"id\":\"3009\"},{\"id\":\"3013\"}],\"height\":250,\"left\":[{\"id\":\"3010\"}],\"max_width\":500,\"outline_line_color\":\"#0000ff\",\"renderers\":[{\"id\":\"3032\"}],\"sizing_mode\":\"stretch_width\",\"title\":{\"id\":\"2996\"},\"toolbar\":{\"id\":\"3021\"},\"x_range\":{\"id\":\"2998\"},\"x_scale\":{\"id\":\"3002\"},\"y_range\":{\"id\":\"3000\"},\"y_scale\":{\"id\":\"3004\"}},\"id\":\"2995\",\"subtype\":\"Figure\",\"type\":\"Plot\"},{\"attributes\":{},\"id\":\"3170\",\"type\":\"BasicTickFormatter\"},{\"attributes\":{\"source\":{\"id\":\"3028\"}},\"id\":\"3033\",\"type\":\"CDSView\"},{\"attributes\":{},\"id\":\"3171\",\"type\":\"AllLabels\"},{\"attributes\":{},\"id\":\"3173\",\"type\":\"BasicTickFormatter\"},{\"attributes\":{\"data\":{\"x\":[1,2,3,4,5],\"y\":[4,5,5,7,2]},\"selected\":{\"id\":\"3176\"},\"selection_policy\":{\"id\":\"3175\"}},\"id\":\"3028\",\"type\":\"ColumnDataSource\"},{\"attributes\":{},\"id\":\"3174\",\"type\":\"AllLabels\"},{\"attributes\":{\"line_alpha\":0.1,\"line_color\":\"green\",\"line_width\":2,\"x\":{\"field\":\"x\"},\"y\":{\"field\":\"y\"}},\"id\":\"3030\",\"type\":\"Line\"},{\"attributes\":{\"line_alpha\":0.2,\"line_color\":\"green\",\"line_width\":2,\"x\":{\"field\":\"x\"},\"y\":{\"field\":\"y\"}},\"id\":\"3031\",\"type\":\"Line\"},{\"attributes\":{\"coordinates\":null,\"data_source\":{\"id\":\"3028\"},\"glyph\":{\"id\":\"3029\"},\"group\":null,\"hover_glyph\":null,\"muted_glyph\":{\"id\":\"3031\"},\"nonselection_glyph\":{\"id\":\"3030\"},\"view\":{\"id\":\"3033\"}},\"id\":\"3032\",\"type\":\"GlyphRenderer\"},{\"attributes\":{},\"id\":\"2998\",\"type\":\"DataRange1d\"},{\"attributes\":{\"line_color\":\"green\",\"line_width\":2,\"x\":{\"field\":\"x\"},\"y\":{\"field\":\"y\"}},\"id\":\"3029\",\"type\":\"Line\"},{\"attributes\":{},\"id\":\"3019\",\"type\":\"HelpTool\"},{\"attributes\":{\"axis_label_standoff\":10,\"axis_label_text_color\":\"#5B5B5B\",\"axis_label_text_font\":\"Calibri Light\",\"axis_label_text_font_size\":\"1.15em\",\"axis_label_text_font_style\":\"bold\",\"axis_line_alpha\":1,\"axis_line_color\":\"#5B5B5B\",\"coordinates\":null,\"formatter\":{\"id\":\"3170\"},\"group\":null,\"major_label_policy\":{\"id\":\"3171\"},\"major_label_text_color\":\"#5B5B5B\",\"major_label_text_font\":\"Calibri Light\",\"major_label_text_font_size\":\"0.95em\",\"major_label_text_font_style\":\"bold\",\"major_tick_in\":0,\"major_tick_line_alpha\":0.25,\"major_tick_line_color\":\"#5B5B5B\",\"major_tick_out\":3,\"minor_tick_line_alpha\":0.25,\"minor_tick_line_color\":\"#5B5B5B\",\"ticker\":{\"id\":\"3011\"}},\"id\":\"3010\",\"type\":\"LinearAxis\"},{\"attributes\":{\"coordinates\":null,\"group\":null,\"text\":\"Background colors example\",\"text_color\":\"#5B5B5B\",\"text_font\":\"Calibri Light\",\"text_font_size\":\"1.25em\",\"text_font_style\":\"bold\"},\"id\":\"2996\",\"type\":\"Title\"},{\"attributes\":{},\"id\":\"3176\",\"type\":\"Selection\"},{\"attributes\":{},\"id\":\"3000\",\"type\":\"DataRange1d\"},{\"attributes\":{},\"id\":\"3007\",\"type\":\"BasicTicker\"},{\"attributes\":{\"axis\":{\"id\":\"3006\"},\"coordinates\":null,\"group\":null,\"ticker\":null},\"id\":\"3009\",\"type\":\"Grid\"},{\"attributes\":{},\"id\":\"3004\",\"type\":\"LinearScale\"},{\"attributes\":{},\"id\":\"3002\",\"type\":\"LinearScale\"},{\"attributes\":{\"axis_label_standoff\":10,\"axis_label_text_color\":\"#5B5B5B\",\"axis_label_text_font\":\"Calibri Light\",\"axis_label_text_font_size\":\"1.15em\",\"axis_label_text_font_style\":\"bold\",\"axis_line_alpha\":1,\"axis_line_color\":\"#5B5B5B\",\"coordinates\":null,\"formatter\":{\"id\":\"3173\"},\"group\":null,\"major_label_policy\":{\"id\":\"3174\"},\"major_label_text_color\":\"#5B5B5B\",\"major_label_text_font\":\"Calibri Light\",\"major_label_text_font_size\":\"0.95em\",\"major_label_text_font_style\":\"bold\",\"major_tick_in\":0,\"major_tick_line_alpha\":0.25,\"major_tick_line_color\":\"#5B5B5B\",\"major_tick_out\":3,\"minor_tick_line_alpha\":0.25,\"minor_tick_line_color\":\"#5B5B5B\",\"ticker\":{\"id\":\"3007\"}},\"id\":\"3006\",\"type\":\"LinearAxis\"},{\"attributes\":{\"tools\":[{\"id\":\"3014\"},{\"id\":\"3015\"},{\"id\":\"3016\"},{\"id\":\"3017\"},{\"id\":\"3018\"},{\"id\":\"3019\"}]},\"id\":\"3021\",\"type\":\"Toolbar\"},{\"attributes\":{\"axis\":{\"id\":\"3010\"},\"coordinates\":null,\"dimension\":1,\"group\":null,\"ticker\":null},\"id\":\"3013\",\"type\":\"Grid\"},{\"attributes\":{},\"id\":\"3175\",\"type\":\"UnionRenderers\"},{\"attributes\":{},\"id\":\"3011\",\"type\":\"BasicTicker\"},{\"attributes\":{},\"id\":\"3015\",\"type\":\"WheelZoomTool\"},{\"attributes\":{},\"id\":\"3014\",\"type\":\"PanTool\"},{\"attributes\":{\"overlay\":{\"id\":\"3020\"}},\"id\":\"3016\",\"type\":\"BoxZoomTool\"},{\"attributes\":{},\"id\":\"3017\",\"type\":\"SaveTool\"},{\"attributes\":{},\"id\":\"3018\",\"type\":\"ResetTool\"},{\"attributes\":{\"bottom_units\":\"screen\",\"coordinates\":null,\"fill_alpha\":0.5,\"fill_color\":\"lightgrey\",\"group\":null,\"left_units\":\"screen\",\"level\":\"overlay\",\"line_alpha\":1.0,\"line_color\":\"black\",\"line_dash\":[4,4],\"line_width\":2,\"right_units\":\"screen\",\"syncable\":false,\"top_units\":\"screen\"},\"id\":\"3020\",\"type\":\"BoxAnnotation\"}],\"root_ids\":[\"2995\"]},\"title\":\"Bokeh Application\",\"version\":\"2.4.2\"}};\n",
       "  const render_items = [{\"docid\":\"9fed26d5-5ec3-4042-9688-faadbee9f335\",\"root_ids\":[\"2995\"],\"roots\":{\"2995\":\"2ff41384-c459-40e9-a544-7bce02035b06\"}}];\n",
       "  root.Bokeh.embed.embed_items_notebook(docs_json, render_items);\n",
       "\n",
       "  }\n",
       "  if (root.Bokeh !== undefined) {\n",
       "    embed_document(root);\n",
       "  } else {\n",
       "    let attempts = 0;\n",
       "    const timer = setInterval(function(root) {\n",
       "      if (root.Bokeh !== undefined) {\n",
       "        clearInterval(timer);\n",
       "        embed_document(root);\n",
       "      } else {\n",
       "        attempts++;\n",
       "        if (attempts > 100) {\n",
       "          clearInterval(timer);\n",
       "          console.log(\"Bokeh: ERROR: Unable to run BokehJS code because BokehJS library is missing\");\n",
       "        }\n",
       "      }\n",
       "    }, 10, root)\n",
       "  }\n",
       "})(window);"
      ],
      "application/vnd.bokehjs_exec.v0+json": ""
     },
     "metadata": {
      "application/vnd.bokehjs_exec.v0+json": {
       "id": "2995"
      }
     },
     "output_type": "display_data"
    }
   ],
   "source": [
    "# create a plot\n",
    "p = figure(\n",
    "    title='Background colors example',\n",
    "    sizing_mode='stretch_width',\n",
    "    max_width=500,\n",
    "    plot_height=250,\n",
    ")\n",
    "\n",
    "# add a renderer\n",
    "p.line(x, y, line_color='green', line_width=2)\n",
    "\n",
    "# change the fill colors\n",
    "p.background_fill_color = '#e4f4f8'\n",
    "p.border_fill_color = '#f2f3fb'\n",
    "p.outline_line_color = '#0000ff'\n",
    "\n",
    "# show the results\n",
    "show(p)"
   ]
  },
  {
   "cell_type": "markdown",
   "metadata": {
    "id": "avQF1o8KxFRN"
   },
   "source": [
    "> **See also**\n",
    "\n",
    "> For more information on colors in Bokeh, see the entry for [Color](https://docs.bokeh.org/en/latest/docs/reference/core/properties.html#bokeh.core.properties.Color) in the reference guide"
   ]
  },
  {
   "cell_type": "markdown",
   "metadata": {
    "id": "jMdfuLmay2fL"
   },
   "source": [
    "## Customizing the toolbar\n",
    "Bokeh comes with a powerful toolbar to explore plots. You saw those tools in your very first visualization"
   ]
  },
  {
   "cell_type": "markdown",
   "metadata": {
    "id": "oq0-h63uzbtm"
   },
   "source": [
    "### Positioning the toolbar¶\n",
    "To define the position of the toolbar, use the `toolbar_location` attribute with one of these values: `above`, `below`, `left`, `right`\n",
    "\n",
    "Pass a value to `toolbar_location` when creating your figure:\n",
    "\n",
    "```python\n",
    "p = figure(title='Toolbar positioning example', toolbar_location='below')\n",
    "```\n",
    "\n",
    "Another option is to change the attribute `toolbar_location` at any time after creating your figure:\n",
    "\n",
    "```python\n",
    "p.toolbar_location = 'below'\n",
    "```"
   ]
  },
  {
   "cell_type": "code",
   "execution_count": 13,
   "metadata": {
    "colab": {
     "base_uri": "https://localhost:8080/",
     "height": 267
    },
    "executionInfo": {
     "elapsed": 1915,
     "status": "ok",
     "timestamp": 1616934768918,
     "user": {
      "displayName": "류기윤",
      "photoUrl": "https://lh3.googleusercontent.com/a-/AOh14GgQ3YtFwUPyzjO8P1LCqbjF6RkNFAdXqzp9xLgvmA=s64",
      "userId": "14686264071241136597"
     },
     "user_tz": -540
    },
    "id": "J1iSQMYtvA41",
    "outputId": "f63d7829-0ca2-4831-cf99-2b8923b4d97b"
   },
   "outputs": [
    {
     "data": {
      "text/html": [
       "\n",
       "\n",
       "\n",
       "\n",
       "\n",
       "\n",
       "  <div class=\"bk-root\" id=\"abfc2b56-9af7-4aa2-97e3-bdc4322ef719\" data-root-id=\"3228\"></div>\n"
      ]
     },
     "metadata": {},
     "output_type": "display_data"
    },
    {
     "data": {
      "application/javascript": [
       "(function(root) {\n",
       "  function embed_document(root) {\n",
       "    \n",
       "  const docs_json = {\"55f4ccf0-cf46-4c93-843c-f40f06d9f3cc\":{\"defs\":[],\"roots\":{\"references\":[{\"attributes\":{\"below\":[{\"id\":\"3239\"}],\"center\":[{\"id\":\"3242\"},{\"id\":\"3246\"}],\"height\":250,\"left\":[{\"id\":\"3243\"}],\"max_width\":500,\"renderers\":[{\"id\":\"3265\"}],\"sizing_mode\":\"stretch_width\",\"title\":{\"id\":\"3229\"},\"toolbar\":{\"id\":\"3254\"},\"toolbar_location\":\"below\",\"x_range\":{\"id\":\"3231\"},\"x_scale\":{\"id\":\"3235\"},\"y_range\":{\"id\":\"3233\"},\"y_scale\":{\"id\":\"3237\"}},\"id\":\"3228\",\"subtype\":\"Figure\",\"type\":\"Plot\"},{\"attributes\":{},\"id\":\"3419\",\"type\":\"Selection\"},{\"attributes\":{\"data\":{\"x\":[1,2,3,4,5],\"y\":[4,5,5,7,2]},\"selected\":{\"id\":\"3419\"},\"selection_policy\":{\"id\":\"3418\"}},\"id\":\"3261\",\"type\":\"ColumnDataSource\"},{\"attributes\":{\"fill_color\":{\"value\":\"red\"},\"line_color\":{\"value\":\"#1f77b4\"},\"size\":{\"value\":15},\"x\":{\"field\":\"x\"},\"y\":{\"field\":\"y\"}},\"id\":\"3262\",\"type\":\"Circle\"},{\"attributes\":{},\"id\":\"3231\",\"type\":\"DataRange1d\"},{\"attributes\":{\"fill_alpha\":{\"value\":0.1},\"fill_color\":{\"value\":\"red\"},\"hatch_alpha\":{\"value\":0.1},\"line_alpha\":{\"value\":0.1},\"line_color\":{\"value\":\"#1f77b4\"},\"size\":{\"value\":15},\"x\":{\"field\":\"x\"},\"y\":{\"field\":\"y\"}},\"id\":\"3263\",\"type\":\"Circle\"},{\"attributes\":{},\"id\":\"3233\",\"type\":\"DataRange1d\"},{\"attributes\":{},\"id\":\"3235\",\"type\":\"LinearScale\"},{\"attributes\":{},\"id\":\"3247\",\"type\":\"PanTool\"},{\"attributes\":{\"axis_label_standoff\":10,\"axis_label_text_color\":\"#5B5B5B\",\"axis_label_text_font\":\"Calibri Light\",\"axis_label_text_font_size\":\"1.15em\",\"axis_label_text_font_style\":\"bold\",\"axis_line_alpha\":1,\"axis_line_color\":\"#5B5B5B\",\"coordinates\":null,\"formatter\":{\"id\":\"3416\"},\"group\":null,\"major_label_policy\":{\"id\":\"3417\"},\"major_label_text_color\":\"#5B5B5B\",\"major_label_text_font\":\"Calibri Light\",\"major_label_text_font_size\":\"0.95em\",\"major_label_text_font_style\":\"bold\",\"major_tick_in\":0,\"major_tick_line_alpha\":0.25,\"major_tick_line_color\":\"#5B5B5B\",\"major_tick_out\":3,\"minor_tick_line_alpha\":0.25,\"minor_tick_line_color\":\"#5B5B5B\",\"ticker\":{\"id\":\"3240\"}},\"id\":\"3239\",\"type\":\"LinearAxis\"},{\"attributes\":{},\"id\":\"3413\",\"type\":\"BasicTickFormatter\"},{\"attributes\":{\"axis_label_standoff\":10,\"axis_label_text_color\":\"#5B5B5B\",\"axis_label_text_font\":\"Calibri Light\",\"axis_label_text_font_size\":\"1.15em\",\"axis_label_text_font_style\":\"bold\",\"axis_line_alpha\":1,\"axis_line_color\":\"#5B5B5B\",\"coordinates\":null,\"formatter\":{\"id\":\"3413\"},\"group\":null,\"major_label_policy\":{\"id\":\"3414\"},\"major_label_text_color\":\"#5B5B5B\",\"major_label_text_font\":\"Calibri Light\",\"major_label_text_font_size\":\"0.95em\",\"major_label_text_font_style\":\"bold\",\"major_tick_in\":0,\"major_tick_line_alpha\":0.25,\"major_tick_line_color\":\"#5B5B5B\",\"major_tick_out\":3,\"minor_tick_line_alpha\":0.25,\"minor_tick_line_color\":\"#5B5B5B\",\"ticker\":{\"id\":\"3244\"}},\"id\":\"3243\",\"type\":\"LinearAxis\"},{\"attributes\":{},\"id\":\"3240\",\"type\":\"BasicTicker\"},{\"attributes\":{},\"id\":\"3414\",\"type\":\"AllLabels\"},{\"attributes\":{\"coordinates\":null,\"group\":null,\"text\":\"Toolbar positioning example\",\"text_color\":\"#5B5B5B\",\"text_font\":\"Calibri Light\",\"text_font_size\":\"1.25em\",\"text_font_style\":\"bold\"},\"id\":\"3229\",\"type\":\"Title\"},{\"attributes\":{\"axis\":{\"id\":\"3239\"},\"coordinates\":null,\"group\":null,\"ticker\":null},\"id\":\"3242\",\"type\":\"Grid\"},{\"attributes\":{},\"id\":\"3252\",\"type\":\"HelpTool\"},{\"attributes\":{\"axis\":{\"id\":\"3243\"},\"coordinates\":null,\"dimension\":1,\"group\":null,\"ticker\":null},\"id\":\"3246\",\"type\":\"Grid\"},{\"attributes\":{\"source\":{\"id\":\"3261\"}},\"id\":\"3266\",\"type\":\"CDSView\"},{\"attributes\":{},\"id\":\"3416\",\"type\":\"BasicTickFormatter\"},{\"attributes\":{\"coordinates\":null,\"data_source\":{\"id\":\"3261\"},\"glyph\":{\"id\":\"3262\"},\"group\":null,\"hover_glyph\":null,\"muted_glyph\":{\"id\":\"3264\"},\"nonselection_glyph\":{\"id\":\"3263\"},\"view\":{\"id\":\"3266\"}},\"id\":\"3265\",\"type\":\"GlyphRenderer\"},{\"attributes\":{},\"id\":\"3251\",\"type\":\"ResetTool\"},{\"attributes\":{},\"id\":\"3417\",\"type\":\"AllLabels\"},{\"attributes\":{},\"id\":\"3237\",\"type\":\"LinearScale\"},{\"attributes\":{},\"id\":\"3244\",\"type\":\"BasicTicker\"},{\"attributes\":{\"fill_alpha\":{\"value\":0.2},\"fill_color\":{\"value\":\"red\"},\"hatch_alpha\":{\"value\":0.2},\"line_alpha\":{\"value\":0.2},\"line_color\":{\"value\":\"#1f77b4\"},\"size\":{\"value\":15},\"x\":{\"field\":\"x\"},\"y\":{\"field\":\"y\"}},\"id\":\"3264\",\"type\":\"Circle\"},{\"attributes\":{\"tools\":[{\"id\":\"3247\"},{\"id\":\"3248\"},{\"id\":\"3249\"},{\"id\":\"3250\"},{\"id\":\"3251\"},{\"id\":\"3252\"}]},\"id\":\"3254\",\"type\":\"Toolbar\"},{\"attributes\":{},\"id\":\"3248\",\"type\":\"WheelZoomTool\"},{\"attributes\":{},\"id\":\"3418\",\"type\":\"UnionRenderers\"},{\"attributes\":{\"overlay\":{\"id\":\"3253\"}},\"id\":\"3249\",\"type\":\"BoxZoomTool\"},{\"attributes\":{\"bottom_units\":\"screen\",\"coordinates\":null,\"fill_alpha\":0.5,\"fill_color\":\"lightgrey\",\"group\":null,\"left_units\":\"screen\",\"level\":\"overlay\",\"line_alpha\":1.0,\"line_color\":\"black\",\"line_dash\":[4,4],\"line_width\":2,\"right_units\":\"screen\",\"syncable\":false,\"top_units\":\"screen\"},\"id\":\"3253\",\"type\":\"BoxAnnotation\"},{\"attributes\":{},\"id\":\"3250\",\"type\":\"SaveTool\"}],\"root_ids\":[\"3228\"]},\"title\":\"Bokeh Application\",\"version\":\"2.4.2\"}};\n",
       "  const render_items = [{\"docid\":\"55f4ccf0-cf46-4c93-843c-f40f06d9f3cc\",\"root_ids\":[\"3228\"],\"roots\":{\"3228\":\"abfc2b56-9af7-4aa2-97e3-bdc4322ef719\"}}];\n",
       "  root.Bokeh.embed.embed_items_notebook(docs_json, render_items);\n",
       "\n",
       "  }\n",
       "  if (root.Bokeh !== undefined) {\n",
       "    embed_document(root);\n",
       "  } else {\n",
       "    let attempts = 0;\n",
       "    const timer = setInterval(function(root) {\n",
       "      if (root.Bokeh !== undefined) {\n",
       "        clearInterval(timer);\n",
       "        embed_document(root);\n",
       "      } else {\n",
       "        attempts++;\n",
       "        if (attempts > 100) {\n",
       "          clearInterval(timer);\n",
       "          console.log(\"Bokeh: ERROR: Unable to run BokehJS code because BokehJS library is missing\");\n",
       "        }\n",
       "      }\n",
       "    }, 10, root)\n",
       "  }\n",
       "})(window);"
      ],
      "application/vnd.bokehjs_exec.v0+json": ""
     },
     "metadata": {
      "application/vnd.bokehjs_exec.v0+json": {
       "id": "3228"
      }
     },
     "output_type": "display_data"
    }
   ],
   "source": [
    "# create a new plot with a specific size\n",
    "p = figure(\n",
    "    title='Toolbar positioning example',\n",
    "    sizing_mode='stretch_width',\n",
    "    max_width=500,\n",
    "    plot_height=250,\n",
    "    toolbar_location='below',\n",
    ")\n",
    "\n",
    "# add circle renderer\n",
    "circle = p.circle(x, y, fill_color='red', size=15)\n",
    "\n",
    "# show the results\n",
    "show(p)"
   ]
  },
  {
   "cell_type": "markdown",
   "metadata": {
    "id": "pWzR--jy0vus"
   },
   "source": [
    "### Deactivating and hiding the toolbar\n",
    "To deactivate the toolbar completely, set `toolbar_location` to None.\n",
    "\n",
    "```python\n",
    "p.toolbar_location = None\n",
    "```\n",
    "To make your toolbar hide automatically, set [autohide](https://docs.bokeh.org/en/latest/docs/reference/models/tools.html#bokeh.models.tools.Toolbar.autohide) to `True`:\n"
   ]
  },
  {
   "cell_type": "code",
   "execution_count": 14,
   "metadata": {
    "colab": {
     "base_uri": "https://localhost:8080/",
     "height": 267
    },
    "executionInfo": {
     "elapsed": 13630,
     "status": "ok",
     "timestamp": 1616934927838,
     "user": {
      "displayName": "류기윤",
      "photoUrl": "https://lh3.googleusercontent.com/a-/AOh14GgQ3YtFwUPyzjO8P1LCqbjF6RkNFAdXqzp9xLgvmA=s64",
      "userId": "14686264071241136597"
     },
     "user_tz": -540
    },
    "id": "NnjQIWl80i-3",
    "outputId": "16faee67-5156-4b2f-9899-ea922338d4be"
   },
   "outputs": [
    {
     "data": {
      "text/html": [
       "\n",
       "\n",
       "\n",
       "\n",
       "\n",
       "\n",
       "  <div class=\"bk-root\" id=\"9a12bb68-1102-4a61-a7bc-ba2e878b2ad3\" data-root-id=\"3471\"></div>\n"
      ]
     },
     "metadata": {},
     "output_type": "display_data"
    },
    {
     "data": {
      "application/javascript": [
       "(function(root) {\n",
       "  function embed_document(root) {\n",
       "    \n",
       "  const docs_json = {\"73e73f92-c00a-437f-baa4-6153e3208b8f\":{\"defs\":[],\"roots\":{\"references\":[{\"attributes\":{\"below\":[{\"id\":\"3482\"}],\"center\":[{\"id\":\"3485\"},{\"id\":\"3489\"}],\"height\":250,\"left\":[{\"id\":\"3486\"}],\"max_width\":500,\"renderers\":[{\"id\":\"3509\"}],\"sizing_mode\":\"stretch_width\",\"title\":{\"id\":\"3472\"},\"toolbar\":{\"id\":\"3497\"},\"x_range\":{\"id\":\"3474\"},\"x_scale\":{\"id\":\"3478\"},\"y_range\":{\"id\":\"3476\"},\"y_scale\":{\"id\":\"3480\"}},\"id\":\"3471\",\"subtype\":\"Figure\",\"type\":\"Plot\"},{\"attributes\":{\"bottom_units\":\"screen\",\"coordinates\":null,\"fill_alpha\":0.5,\"fill_color\":\"lightgrey\",\"group\":null,\"left_units\":\"screen\",\"level\":\"overlay\",\"line_alpha\":1.0,\"line_color\":\"black\",\"line_dash\":[4,4],\"line_width\":2,\"right_units\":\"screen\",\"syncable\":false,\"top_units\":\"screen\"},\"id\":\"3496\",\"type\":\"BoxAnnotation\"},{\"attributes\":{\"line_alpha\":0.1,\"line_color\":\"#1f77b4\",\"x\":{\"field\":\"x\"},\"y\":{\"field\":\"y\"}},\"id\":\"3507\",\"type\":\"Line\"},{\"attributes\":{},\"id\":\"3483\",\"type\":\"BasicTicker\"},{\"attributes\":{\"coordinates\":null,\"data_source\":{\"id\":\"3505\"},\"glyph\":{\"id\":\"3506\"},\"group\":null,\"hover_glyph\":null,\"muted_glyph\":{\"id\":\"3508\"},\"nonselection_glyph\":{\"id\":\"3507\"},\"view\":{\"id\":\"3510\"}},\"id\":\"3509\",\"type\":\"GlyphRenderer\"},{\"attributes\":{\"line_color\":\"#1f77b4\",\"x\":{\"field\":\"x\"},\"y\":{\"field\":\"y\"}},\"id\":\"3506\",\"type\":\"Line\"},{\"attributes\":{},\"id\":\"3667\",\"type\":\"BasicTickFormatter\"},{\"attributes\":{},\"id\":\"3487\",\"type\":\"BasicTicker\"},{\"attributes\":{},\"id\":\"3668\",\"type\":\"AllLabels\"},{\"attributes\":{},\"id\":\"3495\",\"type\":\"HelpTool\"},{\"attributes\":{\"line_alpha\":0.2,\"line_color\":\"#1f77b4\",\"x\":{\"field\":\"x\"},\"y\":{\"field\":\"y\"}},\"id\":\"3508\",\"type\":\"Line\"},{\"attributes\":{},\"id\":\"3670\",\"type\":\"BasicTickFormatter\"},{\"attributes\":{\"axis_label_standoff\":10,\"axis_label_text_color\":\"#5B5B5B\",\"axis_label_text_font\":\"Calibri Light\",\"axis_label_text_font_size\":\"1.15em\",\"axis_label_text_font_style\":\"bold\",\"axis_line_alpha\":1,\"axis_line_color\":\"#5B5B5B\",\"coordinates\":null,\"formatter\":{\"id\":\"3667\"},\"group\":null,\"major_label_policy\":{\"id\":\"3668\"},\"major_label_text_color\":\"#5B5B5B\",\"major_label_text_font\":\"Calibri Light\",\"major_label_text_font_size\":\"0.95em\",\"major_label_text_font_style\":\"bold\",\"major_tick_in\":0,\"major_tick_line_alpha\":0.25,\"major_tick_line_color\":\"#5B5B5B\",\"major_tick_out\":3,\"minor_tick_line_alpha\":0.25,\"minor_tick_line_color\":\"#5B5B5B\",\"ticker\":{\"id\":\"3487\"}},\"id\":\"3486\",\"type\":\"LinearAxis\"},{\"attributes\":{},\"id\":\"3474\",\"type\":\"DataRange1d\"},{\"attributes\":{},\"id\":\"3476\",\"type\":\"DataRange1d\"},{\"attributes\":{},\"id\":\"3671\",\"type\":\"AllLabels\"},{\"attributes\":{\"coordinates\":null,\"group\":null,\"text\":\"Toolbar autohide example\",\"text_color\":\"#5B5B5B\",\"text_font\":\"Calibri Light\",\"text_font_size\":\"1.25em\",\"text_font_style\":\"bold\"},\"id\":\"3472\",\"type\":\"Title\"},{\"attributes\":{\"axis\":{\"id\":\"3482\"},\"coordinates\":null,\"group\":null,\"ticker\":null},\"id\":\"3485\",\"type\":\"Grid\"},{\"attributes\":{},\"id\":\"3480\",\"type\":\"LinearScale\"},{\"attributes\":{},\"id\":\"3478\",\"type\":\"LinearScale\"},{\"attributes\":{\"axis_label_standoff\":10,\"axis_label_text_color\":\"#5B5B5B\",\"axis_label_text_font\":\"Calibri Light\",\"axis_label_text_font_size\":\"1.15em\",\"axis_label_text_font_style\":\"bold\",\"axis_line_alpha\":1,\"axis_line_color\":\"#5B5B5B\",\"coordinates\":null,\"formatter\":{\"id\":\"3670\"},\"group\":null,\"major_label_policy\":{\"id\":\"3671\"},\"major_label_text_color\":\"#5B5B5B\",\"major_label_text_font\":\"Calibri Light\",\"major_label_text_font_size\":\"0.95em\",\"major_label_text_font_style\":\"bold\",\"major_tick_in\":0,\"major_tick_line_alpha\":0.25,\"major_tick_line_color\":\"#5B5B5B\",\"major_tick_out\":3,\"minor_tick_line_alpha\":0.25,\"minor_tick_line_color\":\"#5B5B5B\",\"ticker\":{\"id\":\"3483\"}},\"id\":\"3482\",\"type\":\"LinearAxis\"},{\"attributes\":{\"data\":{\"x\":[1,2,3,4,5],\"y\":[4,5,5,7,2]},\"selected\":{\"id\":\"3673\"},\"selection_policy\":{\"id\":\"3672\"}},\"id\":\"3505\",\"type\":\"ColumnDataSource\"},{\"attributes\":{\"axis\":{\"id\":\"3486\"},\"coordinates\":null,\"dimension\":1,\"group\":null,\"ticker\":null},\"id\":\"3489\",\"type\":\"Grid\"},{\"attributes\":{\"source\":{\"id\":\"3505\"}},\"id\":\"3510\",\"type\":\"CDSView\"},{\"attributes\":{},\"id\":\"3672\",\"type\":\"UnionRenderers\"},{\"attributes\":{},\"id\":\"3491\",\"type\":\"WheelZoomTool\"},{\"attributes\":{\"autohide\":true,\"tools\":[{\"id\":\"3490\"},{\"id\":\"3491\"},{\"id\":\"3492\"},{\"id\":\"3493\"},{\"id\":\"3494\"},{\"id\":\"3495\"}]},\"id\":\"3497\",\"type\":\"Toolbar\"},{\"attributes\":{},\"id\":\"3490\",\"type\":\"PanTool\"},{\"attributes\":{\"overlay\":{\"id\":\"3496\"}},\"id\":\"3492\",\"type\":\"BoxZoomTool\"},{\"attributes\":{},\"id\":\"3673\",\"type\":\"Selection\"},{\"attributes\":{},\"id\":\"3493\",\"type\":\"SaveTool\"},{\"attributes\":{},\"id\":\"3494\",\"type\":\"ResetTool\"}],\"root_ids\":[\"3471\"]},\"title\":\"Bokeh Application\",\"version\":\"2.4.2\"}};\n",
       "  const render_items = [{\"docid\":\"73e73f92-c00a-437f-baa4-6153e3208b8f\",\"root_ids\":[\"3471\"],\"roots\":{\"3471\":\"9a12bb68-1102-4a61-a7bc-ba2e878b2ad3\"}}];\n",
       "  root.Bokeh.embed.embed_items_notebook(docs_json, render_items);\n",
       "\n",
       "  }\n",
       "  if (root.Bokeh !== undefined) {\n",
       "    embed_document(root);\n",
       "  } else {\n",
       "    let attempts = 0;\n",
       "    const timer = setInterval(function(root) {\n",
       "      if (root.Bokeh !== undefined) {\n",
       "        clearInterval(timer);\n",
       "        embed_document(root);\n",
       "      } else {\n",
       "        attempts++;\n",
       "        if (attempts > 100) {\n",
       "          clearInterval(timer);\n",
       "          console.log(\"Bokeh: ERROR: Unable to run BokehJS code because BokehJS library is missing\");\n",
       "        }\n",
       "      }\n",
       "    }, 10, root)\n",
       "  }\n",
       "})(window);"
      ],
      "application/vnd.bokehjs_exec.v0+json": ""
     },
     "metadata": {
      "application/vnd.bokehjs_exec.v0+json": {
       "id": "3471"
      }
     },
     "output_type": "display_data"
    }
   ],
   "source": [
    "# create a plot\n",
    "p = figure(\n",
    "    title='Toolbar autohide example',\n",
    "    sizing_mode='stretch_width',\n",
    "    max_width=500,\n",
    "    plot_height=250,\n",
    ")\n",
    "\n",
    "# activate toolbar autohide\n",
    "p.toolbar.autohide = True\n",
    "\n",
    "# add a renderer\n",
    "p.line(x, y)\n",
    "\n",
    "# show the results\n",
    "show(p)"
   ]
  },
  {
   "cell_type": "markdown",
   "metadata": {
    "id": "iez7HOUN1dpR"
   },
   "source": [
    "With `autohide` set to `True`, Bokeh will hide the toolbar unless the mouse is inside the plot area or you tap inside the plot area.\n",
    "\n",
    "Similarly, use the [logo](https://docs.bokeh.org/en/latest/docs/reference/models/tools.html#bokeh.models.tools.Toolbar.logo) property of the [Toolbar](https://docs.bokeh.org/en/latest/docs/reference/models/tools.html#bokeh.models.tools.Toolbar) to deactivate the Bokeh logo:\n",
    "\n",
    "\n",
    "```python\n",
    "p.toolbar.logo = None\n",
    "```\n",
    "\n"
   ]
  },
  {
   "cell_type": "markdown",
   "metadata": {
    "id": "tI-_B1ca2GUI"
   },
   "source": [
    "### Customizing available tools\n",
    "You can customize which tools Bokeh displays in the toolbar. For a detailed list of all available tools, see [Configuring plot tools\n",
    "](https://docs.bokeh.org/en/latest/docs/user_guide/tools.html#userguide-tools) in the user guide."
   ]
  },
  {
   "cell_type": "markdown",
   "metadata": {
    "id": "ziZaA3CX2ZIv"
   },
   "source": [
    "* To customize which tools to use, you first need to import the relevant tools. For example:\n",
    "\n",
    "```python\n",
    "from bokeh.models.tools import BoxZoomTool, ResetTool\n",
    "```\n",
    "\n",
    "* Next, define which tools to use when creating a new figure by passing the `tools` attribute to the `figure()` function\n",
    "\n",
    "* The `tools` attribute accepts a list of tools. This example enables only the [BoxZoomTool](https://docs.bokeh.org/en/latest/docs/reference/models/tools.html#bokeh.models.tools.BoxZoomTool) and [ResetTool](https://docs.bokeh.org/en/latest/docs/reference/models/tools.html#bokeh.models.tools.ResetTool):\n",
    "\n",
    "```python\n",
    "p = figure(tools = [BoxZoomTool(), ResetTool()])\n",
    "```\n",
    "\n",
    "* This way, only the box zoom tool and the reset tool will be available in the toolbar\n",
    "\n",
    "To change the available tools at any time after creating your figure, you need to use the [add_tools()](https://docs.bokeh.org/en/latest/docs/reference/models/plots.html#bokeh.models.plots.Plot.add_tools) function\n",
    "\n",
    "All tools also offer various properties to define how they can be used. With the [PanTool](https://docs.bokeh.org/en/latest/docs/reference/models/tools.html#bokeh.models.tools.PanTool), for example, you can limit the movement to only horizontal or vertical panning. The default behavior is to allow panning in both directions"
   ]
  },
  {
   "cell_type": "code",
   "execution_count": 15,
   "metadata": {
    "colab": {
     "base_uri": "https://localhost:8080/",
     "height": 267
    },
    "executionInfo": {
     "elapsed": 3993,
     "status": "ok",
     "timestamp": 1616935628563,
     "user": {
      "displayName": "류기윤",
      "photoUrl": "https://lh3.googleusercontent.com/a-/AOh14GgQ3YtFwUPyzjO8P1LCqbjF6RkNFAdXqzp9xLgvmA=s64",
      "userId": "14686264071241136597"
     },
     "user_tz": -540
    },
    "id": "fml3CcGb1Mh5",
    "outputId": "9966e081-6440-4eb9-90ed-f858cfb28ee9"
   },
   "outputs": [
    {
     "data": {
      "text/html": [
       "\n",
       "\n",
       "\n",
       "\n",
       "\n",
       "\n",
       "  <div class=\"bk-root\" id=\"bc01804d-1a71-4425-a1c9-7ae2a6f00f85\" data-root-id=\"3727\"></div>\n"
      ]
     },
     "metadata": {},
     "output_type": "display_data"
    },
    {
     "data": {
      "application/javascript": [
       "(function(root) {\n",
       "  function embed_document(root) {\n",
       "    \n",
       "  const docs_json = {\"a0401dd6-a479-425c-8890-29feef46a292\":{\"defs\":[],\"roots\":{\"references\":[{\"attributes\":{\"below\":[{\"id\":\"3738\"}],\"center\":[{\"id\":\"3741\"},{\"id\":\"3745\"}],\"height\":250,\"left\":[{\"id\":\"3742\"}],\"max_width\":500,\"renderers\":[{\"id\":\"3756\"}],\"sizing_mode\":\"stretch_width\",\"title\":{\"id\":\"3728\"},\"toolbar\":{\"id\":\"3747\"},\"x_range\":{\"id\":\"3730\"},\"x_scale\":{\"id\":\"3734\"},\"y_range\":{\"id\":\"3732\"},\"y_scale\":{\"id\":\"3736\"}},\"id\":\"3727\",\"subtype\":\"Figure\",\"type\":\"Plot\"},{\"attributes\":{\"bottom_units\":\"screen\",\"coordinates\":null,\"fill_alpha\":0.5,\"fill_color\":\"lightgrey\",\"group\":null,\"left_units\":\"screen\",\"level\":\"overlay\",\"line_alpha\":1.0,\"line_color\":\"black\",\"line_dash\":[4,4],\"line_width\":2,\"right_units\":\"screen\",\"syncable\":false,\"top_units\":\"screen\"},\"id\":\"3746\",\"type\":\"BoxAnnotation\"},{\"attributes\":{},\"id\":\"3734\",\"type\":\"LinearScale\"},{\"attributes\":{\"coordinates\":null,\"data_source\":{\"id\":\"3752\"},\"glyph\":{\"id\":\"3753\"},\"group\":null,\"hover_glyph\":null,\"muted_glyph\":{\"id\":\"3755\"},\"nonselection_glyph\":{\"id\":\"3754\"},\"view\":{\"id\":\"3757\"}},\"id\":\"3756\",\"type\":\"GlyphRenderer\"},{\"attributes\":{\"axis_label_standoff\":10,\"axis_label_text_color\":\"#5B5B5B\",\"axis_label_text_font\":\"Calibri Light\",\"axis_label_text_font_size\":\"1.15em\",\"axis_label_text_font_style\":\"bold\",\"axis_line_alpha\":1,\"axis_line_color\":\"#5B5B5B\",\"coordinates\":null,\"formatter\":{\"id\":\"3927\"},\"group\":null,\"major_label_policy\":{\"id\":\"3928\"},\"major_label_text_color\":\"#5B5B5B\",\"major_label_text_font\":\"Calibri Light\",\"major_label_text_font_size\":\"0.95em\",\"major_label_text_font_style\":\"bold\",\"major_tick_in\":0,\"major_tick_line_alpha\":0.25,\"major_tick_line_color\":\"#5B5B5B\",\"major_tick_out\":3,\"minor_tick_line_alpha\":0.25,\"minor_tick_line_color\":\"#5B5B5B\",\"ticker\":{\"id\":\"3739\"}},\"id\":\"3738\",\"type\":\"LinearAxis\"},{\"attributes\":{\"tools\":[{\"id\":\"3725\"},{\"id\":\"3726\"},{\"id\":\"3750\"}]},\"id\":\"3747\",\"type\":\"Toolbar\"},{\"attributes\":{},\"id\":\"3924\",\"type\":\"BasicTickFormatter\"},{\"attributes\":{},\"id\":\"3925\",\"type\":\"AllLabels\"},{\"attributes\":{},\"id\":\"3927\",\"type\":\"BasicTickFormatter\"},{\"attributes\":{\"fill_alpha\":{\"value\":0.2},\"fill_color\":{\"value\":\"#1f77b4\"},\"hatch_alpha\":{\"value\":0.2},\"line_alpha\":{\"value\":0.2},\"line_color\":{\"value\":\"#1f77b4\"},\"size\":{\"value\":10},\"x\":{\"field\":\"x\"},\"y\":{\"field\":\"y\"}},\"id\":\"3755\",\"type\":\"Circle\"},{\"attributes\":{},\"id\":\"3928\",\"type\":\"AllLabels\"},{\"attributes\":{\"overlay\":{\"id\":\"3746\"}},\"id\":\"3725\",\"type\":\"BoxZoomTool\"},{\"attributes\":{\"source\":{\"id\":\"3752\"}},\"id\":\"3757\",\"type\":\"CDSView\"},{\"attributes\":{\"dimensions\":\"width\"},\"id\":\"3750\",\"type\":\"PanTool\"},{\"attributes\":{},\"id\":\"3726\",\"type\":\"ResetTool\"},{\"attributes\":{\"axis_label_standoff\":10,\"axis_label_text_color\":\"#5B5B5B\",\"axis_label_text_font\":\"Calibri Light\",\"axis_label_text_font_size\":\"1.15em\",\"axis_label_text_font_style\":\"bold\",\"axis_line_alpha\":1,\"axis_line_color\":\"#5B5B5B\",\"coordinates\":null,\"formatter\":{\"id\":\"3924\"},\"group\":null,\"major_label_policy\":{\"id\":\"3925\"},\"major_label_text_color\":\"#5B5B5B\",\"major_label_text_font\":\"Calibri Light\",\"major_label_text_font_size\":\"0.95em\",\"major_label_text_font_style\":\"bold\",\"major_tick_in\":0,\"major_tick_line_alpha\":0.25,\"major_tick_line_color\":\"#5B5B5B\",\"major_tick_out\":3,\"minor_tick_line_alpha\":0.25,\"minor_tick_line_color\":\"#5B5B5B\",\"ticker\":{\"id\":\"3743\"}},\"id\":\"3742\",\"type\":\"LinearAxis\"},{\"attributes\":{\"fill_color\":{\"value\":\"#1f77b4\"},\"line_color\":{\"value\":\"#1f77b4\"},\"size\":{\"value\":10},\"x\":{\"field\":\"x\"},\"y\":{\"field\":\"y\"}},\"id\":\"3753\",\"type\":\"Circle\"},{\"attributes\":{},\"id\":\"3730\",\"type\":\"DataRange1d\"},{\"attributes\":{},\"id\":\"3929\",\"type\":\"UnionRenderers\"},{\"attributes\":{\"data\":{\"x\":[1,2,3,4,5],\"y\":[4,5,5,7,2]},\"selected\":{\"id\":\"3930\"},\"selection_policy\":{\"id\":\"3929\"}},\"id\":\"3752\",\"type\":\"ColumnDataSource\"},{\"attributes\":{\"coordinates\":null,\"group\":null,\"text\":\"Modifying tools example\",\"text_color\":\"#5B5B5B\",\"text_font\":\"Calibri Light\",\"text_font_size\":\"1.25em\",\"text_font_style\":\"bold\"},\"id\":\"3728\",\"type\":\"Title\"},{\"attributes\":{},\"id\":\"3732\",\"type\":\"DataRange1d\"},{\"attributes\":{\"axis\":{\"id\":\"3742\"},\"coordinates\":null,\"dimension\":1,\"group\":null,\"ticker\":null},\"id\":\"3745\",\"type\":\"Grid\"},{\"attributes\":{\"fill_alpha\":{\"value\":0.1},\"fill_color\":{\"value\":\"#1f77b4\"},\"hatch_alpha\":{\"value\":0.1},\"line_alpha\":{\"value\":0.1},\"line_color\":{\"value\":\"#1f77b4\"},\"size\":{\"value\":10},\"x\":{\"field\":\"x\"},\"y\":{\"field\":\"y\"}},\"id\":\"3754\",\"type\":\"Circle\"},{\"attributes\":{},\"id\":\"3930\",\"type\":\"Selection\"},{\"attributes\":{},\"id\":\"3739\",\"type\":\"BasicTicker\"},{\"attributes\":{},\"id\":\"3743\",\"type\":\"BasicTicker\"},{\"attributes\":{\"axis\":{\"id\":\"3738\"},\"coordinates\":null,\"group\":null,\"ticker\":null},\"id\":\"3741\",\"type\":\"Grid\"},{\"attributes\":{},\"id\":\"3736\",\"type\":\"LinearScale\"}],\"root_ids\":[\"3727\"]},\"title\":\"Bokeh Application\",\"version\":\"2.4.2\"}};\n",
       "  const render_items = [{\"docid\":\"a0401dd6-a479-425c-8890-29feef46a292\",\"root_ids\":[\"3727\"],\"roots\":{\"3727\":\"bc01804d-1a71-4425-a1c9-7ae2a6f00f85\"}}];\n",
       "  root.Bokeh.embed.embed_items_notebook(docs_json, render_items);\n",
       "\n",
       "  }\n",
       "  if (root.Bokeh !== undefined) {\n",
       "    embed_document(root);\n",
       "  } else {\n",
       "    let attempts = 0;\n",
       "    const timer = setInterval(function(root) {\n",
       "      if (root.Bokeh !== undefined) {\n",
       "        clearInterval(timer);\n",
       "        embed_document(root);\n",
       "      } else {\n",
       "        attempts++;\n",
       "        if (attempts > 100) {\n",
       "          clearInterval(timer);\n",
       "          console.log(\"Bokeh: ERROR: Unable to run BokehJS code because BokehJS library is missing\");\n",
       "        }\n",
       "      }\n",
       "    }, 10, root)\n",
       "  }\n",
       "})(window);"
      ],
      "application/vnd.bokehjs_exec.v0+json": ""
     },
     "metadata": {
      "application/vnd.bokehjs_exec.v0+json": {
       "id": "3727"
      }
     },
     "output_type": "display_data"
    }
   ],
   "source": [
    "from bokeh.models.tools import BoxZoomTool, PanTool, ResetTool\n",
    "\n",
    "# create a plot\n",
    "p = figure(\n",
    "    title='Modifying tools example',\n",
    "    tools=[BoxZoomTool(), ResetTool()],\n",
    "    sizing_mode='stretch_width',\n",
    "    max_width=500,\n",
    "    plot_height=250,\n",
    ")\n",
    "\n",
    "# add an additional pan tool\n",
    "# only vertical panning is allowed\n",
    "p.add_tools(PanTool(dimensions='width'))\n",
    "\n",
    "# add a renderer\n",
    "p.circle(x, y, size=10)\n",
    "\n",
    "# show the results\n",
    "show(p)"
   ]
  },
  {
   "cell_type": "markdown",
   "metadata": {
    "id": "jm8G3Ltr4BHU"
   },
   "source": [
    "In this example, you first include the box zoom tool and the reset tool when creating your function. Next, you add a pan zoom tool. This results in all three tools being available"
   ]
  },
  {
   "cell_type": "markdown",
   "metadata": {
    "id": "EaUSJy1k4Ex2"
   },
   "source": [
    "> **See also**\n",
    "\n",
    "> To learn more about tools and toolbars, see [Configuring plot tools](https://docs.bokeh.org/en/latest/docs/user_guide/tools.html#userguide-tools). For detailed information about all tools and their respective properties, see [tools](https://docs.bokeh.org/en/latest/docs/reference/models/tools.html#module-bokeh.models.tools) and [Toolbar](https://docs.bokeh.org/en/latest/docs/reference/models/tools.html#bokeh.models.tools.Toolbar) in the reference guide"
   ]
  },
  {
   "cell_type": "markdown",
   "metadata": {
    "id": "ysdi6mio4c07"
   },
   "source": [
    "## Adding tooltips\n",
    "Tooltips are little windows that appear when you hover your mouse over a data point or when you tap on a data point"
   ]
  },
  {
   "cell_type": "markdown",
   "metadata": {
    "id": "KqggevKX4kyk"
   },
   "source": [
    "Tooltips are based on the [HoverTool](https://docs.bokeh.org/en/latest/docs/reference/models/tools.html#bokeh.models.tools.HoverTool). The hover tool is part of Bokeh's toolbar\n",
    "\n",
    "There are several ways to enable tooltips in Bokeh. This is the quickest:\n",
    "\n",
    "1. Import the [HoverTool](https://docs.bokeh.org/en/latest/docs/reference/models/tools.html#bokeh.models.tools.HoverTool) class from [bokeh.models.tools](https://docs.bokeh.org/en/latest/docs/reference/models/tools.html#module-bokeh.models.tools)\n",
    "\n",
    "2. Include `HoverTool()` in the list passed to the `tools` argument when calling the `figure()` function\n",
    "\n",
    "3. Include the [tooltips](https://docs.bokeh.org/en/latest/docs/reference/models/tools.html#bokeh.models.tools.HoverTool.tooltips) argument when calling the `figure()` function\n",
    "\n",
    "The `tooltips` argument accepts a string with a special syntax. Use the `'@'` symbol to include the name of the source for the data you want Bokeh to display. This example includes `@x` and `@y`. When the browser displays a tooltip, Bokeh replaces both those fields with the actual data from the lists `x` and `y`\n",
    "\n",
    "This is what the code looks like:"
   ]
  },
  {
   "cell_type": "code",
   "execution_count": 16,
   "metadata": {
    "colab": {
     "base_uri": "https://localhost:8080/",
     "height": 267
    },
    "executionInfo": {
     "elapsed": 1435,
     "status": "ok",
     "timestamp": 1616936094097,
     "user": {
      "displayName": "류기윤",
      "photoUrl": "https://lh3.googleusercontent.com/a-/AOh14GgQ3YtFwUPyzjO8P1LCqbjF6RkNFAdXqzp9xLgvmA=s64",
      "userId": "14686264071241136597"
     },
     "user_tz": -540
    },
    "id": "rOuWXycT322G",
    "outputId": "b561b3f7-ea88-4b1f-a500-162b933fd56e"
   },
   "outputs": [
    {
     "data": {
      "text/html": [
       "\n",
       "\n",
       "\n",
       "\n",
       "\n",
       "\n",
       "  <div class=\"bk-root\" id=\"fc5fa2b7-4af0-46d7-b1ae-d47d7b1aa951\" data-root-id=\"3983\"></div>\n"
      ]
     },
     "metadata": {},
     "output_type": "display_data"
    },
    {
     "data": {
      "application/javascript": [
       "(function(root) {\n",
       "  function embed_document(root) {\n",
       "    \n",
       "  const docs_json = {\"ba16754f-8e22-493f-bb64-9fb8939370fb\":{\"defs\":[],\"roots\":{\"references\":[{\"attributes\":{\"below\":[{\"id\":\"3992\"}],\"center\":[{\"id\":\"3995\"},{\"id\":\"3999\"}],\"height\":250,\"left\":[{\"id\":\"3996\"}],\"max_width\":500,\"renderers\":[{\"id\":\"4006\"},{\"id\":\"4012\"}],\"sizing_mode\":\"stretch_width\",\"title\":{\"id\":\"4188\"},\"toolbar\":{\"id\":\"4000\"},\"toolbar_location\":null,\"x_range\":{\"id\":\"3984\"},\"x_scale\":{\"id\":\"3988\"},\"y_range\":{\"id\":\"3986\"},\"y_scale\":{\"id\":\"3990\"}},\"id\":\"3983\",\"subtype\":\"Figure\",\"type\":\"Plot\"},{\"attributes\":{},\"id\":\"4198\",\"type\":\"UnionRenderers\"},{\"attributes\":{},\"id\":\"4191\",\"type\":\"BasicTickFormatter\"},{\"attributes\":{},\"id\":\"4199\",\"type\":\"Selection\"},{\"attributes\":{\"fill_alpha\":{\"value\":0.1},\"fill_color\":{\"value\":\"#1f77b4\"},\"hatch_alpha\":{\"value\":0.1},\"line_alpha\":{\"value\":0.1},\"line_color\":{\"value\":\"#1f77b4\"},\"size\":{\"value\":10},\"x\":{\"field\":\"x\"},\"y\":{\"field\":\"y\"}},\"id\":\"4004\",\"type\":\"Circle\"},{\"attributes\":{},\"id\":\"4192\",\"type\":\"AllLabels\"},{\"attributes\":{\"line_alpha\":0.1,\"line_color\":\"#1f77b4\",\"line_width\":2,\"x\":{\"field\":\"x\"},\"y\":{\"field\":\"y\"}},\"id\":\"4010\",\"type\":\"Line\"},{\"attributes\":{\"fill_alpha\":{\"value\":0.2},\"fill_color\":{\"value\":\"#1f77b4\"},\"hatch_alpha\":{\"value\":0.2},\"line_alpha\":{\"value\":0.2},\"line_color\":{\"value\":\"#1f77b4\"},\"size\":{\"value\":10},\"x\":{\"field\":\"x\"},\"y\":{\"field\":\"y\"}},\"id\":\"4005\",\"type\":\"Circle\"},{\"attributes\":{\"source\":{\"id\":\"4008\"}},\"id\":\"4013\",\"type\":\"CDSView\"},{\"attributes\":{\"callback\":null,\"tooltips\":\"Data point @x has the value @y\"},\"id\":\"3982\",\"type\":\"HoverTool\"},{\"attributes\":{},\"id\":\"4194\",\"type\":\"BasicTickFormatter\"},{\"attributes\":{\"coordinates\":null,\"data_source\":{\"id\":\"4008\"},\"glyph\":{\"id\":\"4009\"},\"group\":null,\"hover_glyph\":null,\"muted_glyph\":{\"id\":\"4011\"},\"nonselection_glyph\":{\"id\":\"4010\"},\"view\":{\"id\":\"4013\"}},\"id\":\"4012\",\"type\":\"GlyphRenderer\"},{\"attributes\":{\"data\":{\"x\":[1,2,3,4,5],\"y\":[4,5,5,7,2]},\"selected\":{\"id\":\"4199\"},\"selection_policy\":{\"id\":\"4198\"}},\"id\":\"4008\",\"type\":\"ColumnDataSource\"},{\"attributes\":{},\"id\":\"4195\",\"type\":\"AllLabels\"},{\"attributes\":{\"line_alpha\":0.2,\"line_color\":\"#1f77b4\",\"line_width\":2,\"x\":{\"field\":\"x\"},\"y\":{\"field\":\"y\"}},\"id\":\"4011\",\"type\":\"Line\"},{\"attributes\":{\"fill_color\":{\"value\":\"#1f77b4\"},\"line_color\":{\"value\":\"#1f77b4\"},\"size\":{\"value\":10},\"x\":{\"field\":\"x\"},\"y\":{\"field\":\"y\"}},\"id\":\"4003\",\"type\":\"Circle\"},{\"attributes\":{},\"id\":\"3997\",\"type\":\"BasicTicker\"},{\"attributes\":{},\"id\":\"3990\",\"type\":\"LinearScale\"},{\"attributes\":{\"line_color\":\"#1f77b4\",\"line_width\":2,\"x\":{\"field\":\"x\"},\"y\":{\"field\":\"y\"}},\"id\":\"4009\",\"type\":\"Line\"},{\"attributes\":{\"axis_label_standoff\":10,\"axis_label_text_color\":\"#5B5B5B\",\"axis_label_text_font\":\"Calibri Light\",\"axis_label_text_font_size\":\"1.15em\",\"axis_label_text_font_style\":\"bold\",\"axis_line_alpha\":1,\"axis_line_color\":\"#5B5B5B\",\"coordinates\":null,\"formatter\":{\"id\":\"4194\"},\"group\":null,\"major_label_policy\":{\"id\":\"4195\"},\"major_label_text_color\":\"#5B5B5B\",\"major_label_text_font\":\"Calibri Light\",\"major_label_text_font_size\":\"0.95em\",\"major_label_text_font_style\":\"bold\",\"major_tick_in\":0,\"major_tick_line_alpha\":0.25,\"major_tick_line_color\":\"#5B5B5B\",\"major_tick_out\":3,\"minor_tick_line_alpha\":0.25,\"minor_tick_line_color\":\"#5B5B5B\",\"ticker\":{\"id\":\"3993\"}},\"id\":\"3992\",\"type\":\"LinearAxis\"},{\"attributes\":{},\"id\":\"3984\",\"type\":\"DataRange1d\"},{\"attributes\":{},\"id\":\"3993\",\"type\":\"BasicTicker\"},{\"attributes\":{\"end\":10},\"id\":\"3986\",\"type\":\"Range1d\"},{\"attributes\":{},\"id\":\"4196\",\"type\":\"UnionRenderers\"},{\"attributes\":{},\"id\":\"3988\",\"type\":\"LinearScale\"},{\"attributes\":{\"axis\":{\"id\":\"3992\"},\"coordinates\":null,\"group\":null,\"ticker\":null},\"id\":\"3995\",\"type\":\"Grid\"},{\"attributes\":{\"axis_label_standoff\":10,\"axis_label_text_color\":\"#5B5B5B\",\"axis_label_text_font\":\"Calibri Light\",\"axis_label_text_font_size\":\"1.15em\",\"axis_label_text_font_style\":\"bold\",\"axis_line_alpha\":1,\"axis_line_color\":\"#5B5B5B\",\"coordinates\":null,\"formatter\":{\"id\":\"4191\"},\"group\":null,\"major_label_policy\":{\"id\":\"4192\"},\"major_label_text_color\":\"#5B5B5B\",\"major_label_text_font\":\"Calibri Light\",\"major_label_text_font_size\":\"0.95em\",\"major_label_text_font_style\":\"bold\",\"major_tick_in\":0,\"major_tick_line_alpha\":0.25,\"major_tick_line_color\":\"#5B5B5B\",\"major_tick_out\":3,\"minor_tick_line_alpha\":0.25,\"minor_tick_line_color\":\"#5B5B5B\",\"ticker\":{\"id\":\"3997\"}},\"id\":\"3996\",\"type\":\"LinearAxis\"},{\"attributes\":{},\"id\":\"4197\",\"type\":\"Selection\"},{\"attributes\":{\"axis\":{\"id\":\"3996\"},\"coordinates\":null,\"dimension\":1,\"group\":null,\"ticker\":null},\"id\":\"3999\",\"type\":\"Grid\"},{\"attributes\":{\"data\":{\"x\":[1,2,3,4,5],\"y\":[4,5,5,7,2]},\"selected\":{\"id\":\"4197\"},\"selection_policy\":{\"id\":\"4196\"}},\"id\":\"4002\",\"type\":\"ColumnDataSource\"},{\"attributes\":{\"coordinates\":null,\"group\":null,\"text_color\":\"#5B5B5B\",\"text_font\":\"Calibri Light\",\"text_font_size\":\"1.25em\",\"text_font_style\":\"bold\"},\"id\":\"4188\",\"type\":\"Title\"},{\"attributes\":{\"source\":{\"id\":\"4002\"}},\"id\":\"4007\",\"type\":\"CDSView\"},{\"attributes\":{\"coordinates\":null,\"data_source\":{\"id\":\"4002\"},\"glyph\":{\"id\":\"4003\"},\"group\":null,\"hover_glyph\":null,\"muted_glyph\":{\"id\":\"4005\"},\"nonselection_glyph\":{\"id\":\"4004\"},\"view\":{\"id\":\"4007\"}},\"id\":\"4006\",\"type\":\"GlyphRenderer\"},{\"attributes\":{\"tools\":[{\"id\":\"3982\"}]},\"id\":\"4000\",\"type\":\"Toolbar\"}],\"root_ids\":[\"3983\"]},\"title\":\"Bokeh Application\",\"version\":\"2.4.2\"}};\n",
       "  const render_items = [{\"docid\":\"ba16754f-8e22-493f-bb64-9fb8939370fb\",\"root_ids\":[\"3983\"],\"roots\":{\"3983\":\"fc5fa2b7-4af0-46d7-b1ae-d47d7b1aa951\"}}];\n",
       "  root.Bokeh.embed.embed_items_notebook(docs_json, render_items);\n",
       "\n",
       "  }\n",
       "  if (root.Bokeh !== undefined) {\n",
       "    embed_document(root);\n",
       "  } else {\n",
       "    let attempts = 0;\n",
       "    const timer = setInterval(function(root) {\n",
       "      if (root.Bokeh !== undefined) {\n",
       "        clearInterval(timer);\n",
       "        embed_document(root);\n",
       "      } else {\n",
       "        attempts++;\n",
       "        if (attempts > 100) {\n",
       "          clearInterval(timer);\n",
       "          console.log(\"Bokeh: ERROR: Unable to run BokehJS code because BokehJS library is missing\");\n",
       "        }\n",
       "      }\n",
       "    }, 10, root)\n",
       "  }\n",
       "})(window);"
      ],
      "application/vnd.bokehjs_exec.v0+json": ""
     },
     "metadata": {
      "application/vnd.bokehjs_exec.v0+json": {
       "id": "3983"
      }
     },
     "output_type": "display_data"
    }
   ],
   "source": [
    "from bokeh.models.tools import HoverTool\n",
    "\n",
    "p = figure(\n",
    "    y_range=(0, 10),\n",
    "    toolbar_location=None,\n",
    "    tools=[HoverTool()],\n",
    "    tooltips='Data point @x has the value @y',\n",
    "    sizing_mode='stretch_width',\n",
    "    max_width=500,\n",
    "    plot_height=250,\n",
    ")\n",
    "\n",
    "# add renderers\n",
    "p.circle(x, y, size=10)\n",
    "p.line(x, y, line_width=2)\n",
    "\n",
    "# show the results\n",
    "show(p)"
   ]
  },
  {
   "cell_type": "markdown",
   "metadata": {
    "id": "vLhMIOB_5x37"
   },
   "source": [
    "> **See also**\n",
    "\n",
    "> The user guide contains much more information on using the hover tool to create tooltips. See [Basic Tooltips](https://docs.bokeh.org/en/latest/docs/user_guide/tools.html#userguide-tools-basic-tooltips) for more details. More information is also available at the entry for [HoverTool](https://docs.bokeh.org/en/latest/docs/reference/models/tools.html#bokeh.models.tools.HoverTool) in the reference guide"
   ]
  }
 ],
 "metadata": {
  "colab": {
   "authorship_tag": "ABX9TyPUJN6HAwtqW2WzbzQevrC6",
   "collapsed_sections": [],
   "name": "bokeh_04_customizing _your_plot.ipynb",
   "provenance": []
  },
  "kernelspec": {
   "display_name": "Python 3 (ipykernel)",
   "language": "python",
   "name": "python3"
  },
  "language_info": {
   "codemirror_mode": {
    "name": "ipython",
    "version": 3
   },
   "file_extension": ".py",
   "mimetype": "text/x-python",
   "name": "python",
   "nbconvert_exporter": "python",
   "pygments_lexer": "ipython3",
   "version": "3.8.12"
  }
 },
 "nbformat": 4,
 "nbformat_minor": 1
}
