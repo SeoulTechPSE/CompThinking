{
 "cells": [
  {
   "cell_type": "markdown",
   "metadata": {
    "id": "JTPSN5HTBEuh"
   },
   "source": [
    "# 05: Vectorizing Glyph Properties\n",
    "\n",
    "In this section, you will use vectors of data to influence aspects of your plot and its elements"
   ]
  },
  {
   "cell_type": "code",
   "execution_count": 1,
   "metadata": {},
   "outputs": [
    {
     "data": {
      "text/html": [
       "\n",
       "    <div class=\"bk-root\">\n",
       "        <a href=\"https://bokeh.org\" target=\"_blank\" class=\"bk-logo bk-logo-small bk-logo-notebook\"></a>\n",
       "        <span id=\"1002\">Loading BokehJS ...</span>\n",
       "    </div>"
      ]
     },
     "metadata": {},
     "output_type": "display_data"
    },
    {
     "data": {
      "application/javascript": [
       "\n",
       "(function(root) {\n",
       "  function now() {\n",
       "    return new Date();\n",
       "  }\n",
       "\n",
       "  const force = true;\n",
       "\n",
       "  if (typeof root._bokeh_onload_callbacks === \"undefined\" || force === true) {\n",
       "    root._bokeh_onload_callbacks = [];\n",
       "    root._bokeh_is_loading = undefined;\n",
       "  }\n",
       "\n",
       "  const JS_MIME_TYPE = 'application/javascript';\n",
       "  const HTML_MIME_TYPE = 'text/html';\n",
       "  const EXEC_MIME_TYPE = 'application/vnd.bokehjs_exec.v0+json';\n",
       "  const CLASS_NAME = 'output_bokeh rendered_html';\n",
       "\n",
       "  /**\n",
       "   * Render data to the DOM node\n",
       "   */\n",
       "  function render(props, node) {\n",
       "    const script = document.createElement(\"script\");\n",
       "    node.appendChild(script);\n",
       "  }\n",
       "\n",
       "  /**\n",
       "   * Handle when an output is cleared or removed\n",
       "   */\n",
       "  function handleClearOutput(event, handle) {\n",
       "    const cell = handle.cell;\n",
       "\n",
       "    const id = cell.output_area._bokeh_element_id;\n",
       "    const server_id = cell.output_area._bokeh_server_id;\n",
       "    // Clean up Bokeh references\n",
       "    if (id != null && id in Bokeh.index) {\n",
       "      Bokeh.index[id].model.document.clear();\n",
       "      delete Bokeh.index[id];\n",
       "    }\n",
       "\n",
       "    if (server_id !== undefined) {\n",
       "      // Clean up Bokeh references\n",
       "      const cmd_clean = \"from bokeh.io.state import curstate; print(curstate().uuid_to_server['\" + server_id + \"'].get_sessions()[0].document.roots[0]._id)\";\n",
       "      cell.notebook.kernel.execute(cmd_clean, {\n",
       "        iopub: {\n",
       "          output: function(msg) {\n",
       "            const id = msg.content.text.trim();\n",
       "            if (id in Bokeh.index) {\n",
       "              Bokeh.index[id].model.document.clear();\n",
       "              delete Bokeh.index[id];\n",
       "            }\n",
       "          }\n",
       "        }\n",
       "      });\n",
       "      // Destroy server and session\n",
       "      const cmd_destroy = \"import bokeh.io.notebook as ion; ion.destroy_server('\" + server_id + \"')\";\n",
       "      cell.notebook.kernel.execute(cmd_destroy);\n",
       "    }\n",
       "  }\n",
       "\n",
       "  /**\n",
       "   * Handle when a new output is added\n",
       "   */\n",
       "  function handleAddOutput(event, handle) {\n",
       "    const output_area = handle.output_area;\n",
       "    const output = handle.output;\n",
       "\n",
       "    // limit handleAddOutput to display_data with EXEC_MIME_TYPE content only\n",
       "    if ((output.output_type != \"display_data\") || (!Object.prototype.hasOwnProperty.call(output.data, EXEC_MIME_TYPE))) {\n",
       "      return\n",
       "    }\n",
       "\n",
       "    const toinsert = output_area.element.find(\".\" + CLASS_NAME.split(' ')[0]);\n",
       "\n",
       "    if (output.metadata[EXEC_MIME_TYPE][\"id\"] !== undefined) {\n",
       "      toinsert[toinsert.length - 1].firstChild.textContent = output.data[JS_MIME_TYPE];\n",
       "      // store reference to embed id on output_area\n",
       "      output_area._bokeh_element_id = output.metadata[EXEC_MIME_TYPE][\"id\"];\n",
       "    }\n",
       "    if (output.metadata[EXEC_MIME_TYPE][\"server_id\"] !== undefined) {\n",
       "      const bk_div = document.createElement(\"div\");\n",
       "      bk_div.innerHTML = output.data[HTML_MIME_TYPE];\n",
       "      const script_attrs = bk_div.children[0].attributes;\n",
       "      for (let i = 0; i < script_attrs.length; i++) {\n",
       "        toinsert[toinsert.length - 1].firstChild.setAttribute(script_attrs[i].name, script_attrs[i].value);\n",
       "        toinsert[toinsert.length - 1].firstChild.textContent = bk_div.children[0].textContent\n",
       "      }\n",
       "      // store reference to server id on output_area\n",
       "      output_area._bokeh_server_id = output.metadata[EXEC_MIME_TYPE][\"server_id\"];\n",
       "    }\n",
       "  }\n",
       "\n",
       "  function register_renderer(events, OutputArea) {\n",
       "\n",
       "    function append_mime(data, metadata, element) {\n",
       "      // create a DOM node to render to\n",
       "      const toinsert = this.create_output_subarea(\n",
       "        metadata,\n",
       "        CLASS_NAME,\n",
       "        EXEC_MIME_TYPE\n",
       "      );\n",
       "      this.keyboard_manager.register_events(toinsert);\n",
       "      // Render to node\n",
       "      const props = {data: data, metadata: metadata[EXEC_MIME_TYPE]};\n",
       "      render(props, toinsert[toinsert.length - 1]);\n",
       "      element.append(toinsert);\n",
       "      return toinsert\n",
       "    }\n",
       "\n",
       "    /* Handle when an output is cleared or removed */\n",
       "    events.on('clear_output.CodeCell', handleClearOutput);\n",
       "    events.on('delete.Cell', handleClearOutput);\n",
       "\n",
       "    /* Handle when a new output is added */\n",
       "    events.on('output_added.OutputArea', handleAddOutput);\n",
       "\n",
       "    /**\n",
       "     * Register the mime type and append_mime function with output_area\n",
       "     */\n",
       "    OutputArea.prototype.register_mime_type(EXEC_MIME_TYPE, append_mime, {\n",
       "      /* Is output safe? */\n",
       "      safe: true,\n",
       "      /* Index of renderer in `output_area.display_order` */\n",
       "      index: 0\n",
       "    });\n",
       "  }\n",
       "\n",
       "  // register the mime type if in Jupyter Notebook environment and previously unregistered\n",
       "  if (root.Jupyter !== undefined) {\n",
       "    const events = require('base/js/events');\n",
       "    const OutputArea = require('notebook/js/outputarea').OutputArea;\n",
       "\n",
       "    if (OutputArea.prototype.mime_types().indexOf(EXEC_MIME_TYPE) == -1) {\n",
       "      register_renderer(events, OutputArea);\n",
       "    }\n",
       "  }\n",
       "\n",
       "  \n",
       "  if (typeof (root._bokeh_timeout) === \"undefined\" || force === true) {\n",
       "    root._bokeh_timeout = Date.now() + 5000;\n",
       "    root._bokeh_failed_load = false;\n",
       "  }\n",
       "\n",
       "  const NB_LOAD_WARNING = {'data': {'text/html':\n",
       "     \"<div style='background-color: #fdd'>\\n\"+\n",
       "     \"<p>\\n\"+\n",
       "     \"BokehJS does not appear to have successfully loaded. If loading BokehJS from CDN, this \\n\"+\n",
       "     \"may be due to a slow or bad network connection. Possible fixes:\\n\"+\n",
       "     \"</p>\\n\"+\n",
       "     \"<ul>\\n\"+\n",
       "     \"<li>re-rerun `output_notebook()` to attempt to load from CDN again, or</li>\\n\"+\n",
       "     \"<li>use INLINE resources instead, as so:</li>\\n\"+\n",
       "     \"</ul>\\n\"+\n",
       "     \"<code>\\n\"+\n",
       "     \"from bokeh.resources import INLINE\\n\"+\n",
       "     \"output_notebook(resources=INLINE)\\n\"+\n",
       "     \"</code>\\n\"+\n",
       "     \"</div>\"}};\n",
       "\n",
       "  function display_loaded() {\n",
       "    const el = document.getElementById(\"1002\");\n",
       "    if (el != null) {\n",
       "      el.textContent = \"BokehJS is loading...\";\n",
       "    }\n",
       "    if (root.Bokeh !== undefined) {\n",
       "      if (el != null) {\n",
       "        el.textContent = \"BokehJS \" + root.Bokeh.version + \" successfully loaded.\";\n",
       "      }\n",
       "    } else if (Date.now() < root._bokeh_timeout) {\n",
       "      setTimeout(display_loaded, 100)\n",
       "    }\n",
       "  }\n",
       "\n",
       "\n",
       "  function run_callbacks() {\n",
       "    try {\n",
       "      root._bokeh_onload_callbacks.forEach(function(callback) {\n",
       "        if (callback != null)\n",
       "          callback();\n",
       "      });\n",
       "    } finally {\n",
       "      delete root._bokeh_onload_callbacks\n",
       "    }\n",
       "    console.debug(\"Bokeh: all callbacks have finished\");\n",
       "  }\n",
       "\n",
       "  function load_libs(css_urls, js_urls, callback) {\n",
       "    if (css_urls == null) css_urls = [];\n",
       "    if (js_urls == null) js_urls = [];\n",
       "\n",
       "    root._bokeh_onload_callbacks.push(callback);\n",
       "    if (root._bokeh_is_loading > 0) {\n",
       "      console.debug(\"Bokeh: BokehJS is being loaded, scheduling callback at\", now());\n",
       "      return null;\n",
       "    }\n",
       "    if (js_urls == null || js_urls.length === 0) {\n",
       "      run_callbacks();\n",
       "      return null;\n",
       "    }\n",
       "    console.debug(\"Bokeh: BokehJS not loaded, scheduling load and callback at\", now());\n",
       "    root._bokeh_is_loading = css_urls.length + js_urls.length;\n",
       "\n",
       "    function on_load() {\n",
       "      root._bokeh_is_loading--;\n",
       "      if (root._bokeh_is_loading === 0) {\n",
       "        console.debug(\"Bokeh: all BokehJS libraries/stylesheets loaded\");\n",
       "        run_callbacks()\n",
       "      }\n",
       "    }\n",
       "\n",
       "    function on_error(url) {\n",
       "      console.error(\"failed to load \" + url);\n",
       "    }\n",
       "\n",
       "    for (let i = 0; i < css_urls.length; i++) {\n",
       "      const url = css_urls[i];\n",
       "      const element = document.createElement(\"link\");\n",
       "      element.onload = on_load;\n",
       "      element.onerror = on_error.bind(null, url);\n",
       "      element.rel = \"stylesheet\";\n",
       "      element.type = \"text/css\";\n",
       "      element.href = url;\n",
       "      console.debug(\"Bokeh: injecting link tag for BokehJS stylesheet: \", url);\n",
       "      document.body.appendChild(element);\n",
       "    }\n",
       "\n",
       "    for (let i = 0; i < js_urls.length; i++) {\n",
       "      const url = js_urls[i];\n",
       "      const element = document.createElement('script');\n",
       "      element.onload = on_load;\n",
       "      element.onerror = on_error.bind(null, url);\n",
       "      element.async = false;\n",
       "      element.src = url;\n",
       "      console.debug(\"Bokeh: injecting script tag for BokehJS library: \", url);\n",
       "      document.head.appendChild(element);\n",
       "    }\n",
       "  };\n",
       "\n",
       "  function inject_raw_css(css) {\n",
       "    const element = document.createElement(\"style\");\n",
       "    element.appendChild(document.createTextNode(css));\n",
       "    document.body.appendChild(element);\n",
       "  }\n",
       "\n",
       "  \n",
       "  const js_urls = [\"https://cdn.bokeh.org/bokeh/release/bokeh-2.4.2.min.js\", \"https://cdn.bokeh.org/bokeh/release/bokeh-gl-2.4.2.min.js\", \"https://cdn.bokeh.org/bokeh/release/bokeh-widgets-2.4.2.min.js\", \"https://cdn.bokeh.org/bokeh/release/bokeh-tables-2.4.2.min.js\", \"https://cdn.bokeh.org/bokeh/release/bokeh-mathjax-2.4.2.min.js\"];\n",
       "  const css_urls = [];\n",
       "  \n",
       "\n",
       "  const inline_js = [\n",
       "    function(Bokeh) {\n",
       "      Bokeh.set_log_level(\"info\");\n",
       "    },\n",
       "    function(Bokeh) {\n",
       "    \n",
       "    \n",
       "    }\n",
       "  ];\n",
       "\n",
       "  function run_inline_js() {\n",
       "    \n",
       "    if (root.Bokeh !== undefined || force === true) {\n",
       "      \n",
       "    for (let i = 0; i < inline_js.length; i++) {\n",
       "      inline_js[i].call(root, root.Bokeh);\n",
       "    }\n",
       "    if (force === true) {\n",
       "        display_loaded();\n",
       "      }} else if (Date.now() < root._bokeh_timeout) {\n",
       "      setTimeout(run_inline_js, 100);\n",
       "    } else if (!root._bokeh_failed_load) {\n",
       "      console.log(\"Bokeh: BokehJS failed to load within specified timeout.\");\n",
       "      root._bokeh_failed_load = true;\n",
       "    } else if (force !== true) {\n",
       "      const cell = $(document.getElementById(\"1002\")).parents('.cell').data().cell;\n",
       "      cell.output_area.append_execute_result(NB_LOAD_WARNING)\n",
       "    }\n",
       "\n",
       "  }\n",
       "\n",
       "  if (root._bokeh_is_loading === 0) {\n",
       "    console.debug(\"Bokeh: BokehJS loaded, going straight to plotting\");\n",
       "    run_inline_js();\n",
       "  } else {\n",
       "    load_libs(css_urls, js_urls, function() {\n",
       "      console.debug(\"Bokeh: BokehJS plotting callback run at\", now());\n",
       "      run_inline_js();\n",
       "    });\n",
       "  }\n",
       "}(window));"
      ],
      "application/vnd.bokehjs_load.v0+json": "\n(function(root) {\n  function now() {\n    return new Date();\n  }\n\n  const force = true;\n\n  if (typeof root._bokeh_onload_callbacks === \"undefined\" || force === true) {\n    root._bokeh_onload_callbacks = [];\n    root._bokeh_is_loading = undefined;\n  }\n\n  \n\n  \n  if (typeof (root._bokeh_timeout) === \"undefined\" || force === true) {\n    root._bokeh_timeout = Date.now() + 5000;\n    root._bokeh_failed_load = false;\n  }\n\n  const NB_LOAD_WARNING = {'data': {'text/html':\n     \"<div style='background-color: #fdd'>\\n\"+\n     \"<p>\\n\"+\n     \"BokehJS does not appear to have successfully loaded. If loading BokehJS from CDN, this \\n\"+\n     \"may be due to a slow or bad network connection. Possible fixes:\\n\"+\n     \"</p>\\n\"+\n     \"<ul>\\n\"+\n     \"<li>re-rerun `output_notebook()` to attempt to load from CDN again, or</li>\\n\"+\n     \"<li>use INLINE resources instead, as so:</li>\\n\"+\n     \"</ul>\\n\"+\n     \"<code>\\n\"+\n     \"from bokeh.resources import INLINE\\n\"+\n     \"output_notebook(resources=INLINE)\\n\"+\n     \"</code>\\n\"+\n     \"</div>\"}};\n\n  function display_loaded() {\n    const el = document.getElementById(\"1002\");\n    if (el != null) {\n      el.textContent = \"BokehJS is loading...\";\n    }\n    if (root.Bokeh !== undefined) {\n      if (el != null) {\n        el.textContent = \"BokehJS \" + root.Bokeh.version + \" successfully loaded.\";\n      }\n    } else if (Date.now() < root._bokeh_timeout) {\n      setTimeout(display_loaded, 100)\n    }\n  }\n\n\n  function run_callbacks() {\n    try {\n      root._bokeh_onload_callbacks.forEach(function(callback) {\n        if (callback != null)\n          callback();\n      });\n    } finally {\n      delete root._bokeh_onload_callbacks\n    }\n    console.debug(\"Bokeh: all callbacks have finished\");\n  }\n\n  function load_libs(css_urls, js_urls, callback) {\n    if (css_urls == null) css_urls = [];\n    if (js_urls == null) js_urls = [];\n\n    root._bokeh_onload_callbacks.push(callback);\n    if (root._bokeh_is_loading > 0) {\n      console.debug(\"Bokeh: BokehJS is being loaded, scheduling callback at\", now());\n      return null;\n    }\n    if (js_urls == null || js_urls.length === 0) {\n      run_callbacks();\n      return null;\n    }\n    console.debug(\"Bokeh: BokehJS not loaded, scheduling load and callback at\", now());\n    root._bokeh_is_loading = css_urls.length + js_urls.length;\n\n    function on_load() {\n      root._bokeh_is_loading--;\n      if (root._bokeh_is_loading === 0) {\n        console.debug(\"Bokeh: all BokehJS libraries/stylesheets loaded\");\n        run_callbacks()\n      }\n    }\n\n    function on_error(url) {\n      console.error(\"failed to load \" + url);\n    }\n\n    for (let i = 0; i < css_urls.length; i++) {\n      const url = css_urls[i];\n      const element = document.createElement(\"link\");\n      element.onload = on_load;\n      element.onerror = on_error.bind(null, url);\n      element.rel = \"stylesheet\";\n      element.type = \"text/css\";\n      element.href = url;\n      console.debug(\"Bokeh: injecting link tag for BokehJS stylesheet: \", url);\n      document.body.appendChild(element);\n    }\n\n    for (let i = 0; i < js_urls.length; i++) {\n      const url = js_urls[i];\n      const element = document.createElement('script');\n      element.onload = on_load;\n      element.onerror = on_error.bind(null, url);\n      element.async = false;\n      element.src = url;\n      console.debug(\"Bokeh: injecting script tag for BokehJS library: \", url);\n      document.head.appendChild(element);\n    }\n  };\n\n  function inject_raw_css(css) {\n    const element = document.createElement(\"style\");\n    element.appendChild(document.createTextNode(css));\n    document.body.appendChild(element);\n  }\n\n  \n  const js_urls = [\"https://cdn.bokeh.org/bokeh/release/bokeh-2.4.2.min.js\", \"https://cdn.bokeh.org/bokeh/release/bokeh-gl-2.4.2.min.js\", \"https://cdn.bokeh.org/bokeh/release/bokeh-widgets-2.4.2.min.js\", \"https://cdn.bokeh.org/bokeh/release/bokeh-tables-2.4.2.min.js\", \"https://cdn.bokeh.org/bokeh/release/bokeh-mathjax-2.4.2.min.js\"];\n  const css_urls = [];\n  \n\n  const inline_js = [\n    function(Bokeh) {\n      Bokeh.set_log_level(\"info\");\n    },\n    function(Bokeh) {\n    \n    \n    }\n  ];\n\n  function run_inline_js() {\n    \n    if (root.Bokeh !== undefined || force === true) {\n      \n    for (let i = 0; i < inline_js.length; i++) {\n      inline_js[i].call(root, root.Bokeh);\n    }\n    if (force === true) {\n        display_loaded();\n      }} else if (Date.now() < root._bokeh_timeout) {\n      setTimeout(run_inline_js, 100);\n    } else if (!root._bokeh_failed_load) {\n      console.log(\"Bokeh: BokehJS failed to load within specified timeout.\");\n      root._bokeh_failed_load = true;\n    } else if (force !== true) {\n      const cell = $(document.getElementById(\"1002\")).parents('.cell').data().cell;\n      cell.output_area.append_execute_result(NB_LOAD_WARNING)\n    }\n\n  }\n\n  if (root._bokeh_is_loading === 0) {\n    console.debug(\"Bokeh: BokehJS loaded, going straight to plotting\");\n    run_inline_js();\n  } else {\n    load_libs(css_urls, js_urls, function() {\n      console.debug(\"Bokeh: BokehJS plotting callback run at\", now());\n      run_inline_js();\n    });\n  }\n}(window));"
     },
     "metadata": {},
     "output_type": "display_data"
    }
   ],
   "source": [
    "from bokeh.plotting import figure, show\n",
    "from bokeh.io import curdoc, output_notebook\n",
    "output_notebook()  # for notebook embedding"
   ]
  },
  {
   "cell_type": "markdown",
   "metadata": {
    "id": "x1EPpIk8BYAu"
   },
   "source": [
    "## Vectorizing colors\n",
    "So far, you have assigned specific colors to a glyph by using properties such as `fill_color`\n",
    "\n",
    "To change colors depending on values in a variable, pass a variable containing color information to the `fill_color` attribute:"
   ]
  },
  {
   "cell_type": "code",
   "execution_count": 2,
   "metadata": {
    "colab": {
     "base_uri": "https://localhost:8080/",
     "height": 267
    },
    "executionInfo": {
     "elapsed": 1958,
     "status": "ok",
     "timestamp": 1616940044520,
     "user": {
      "displayName": "류기윤",
      "photoUrl": "https://lh3.googleusercontent.com/a-/AOh14GgQ3YtFwUPyzjO8P1LCqbjF6RkNFAdXqzp9xLgvmA=s64",
      "userId": "14686264071241136597"
     },
     "user_tz": -540
    },
    "id": "gepA3bPSAh0k",
    "outputId": "50fec0b7-af11-43ad-9f15-9fe99b7461c7"
   },
   "outputs": [
    {
     "data": {
      "text/html": [
       "\n",
       "\n",
       "\n",
       "\n",
       "\n",
       "\n",
       "  <div class=\"bk-root\" id=\"b51a6763-0d8b-4b5b-9165-102fdf6613a4\" data-root-id=\"1003\"></div>\n"
      ]
     },
     "metadata": {},
     "output_type": "display_data"
    },
    {
     "data": {
      "application/javascript": [
       "(function(root) {\n",
       "  function embed_document(root) {\n",
       "    \n",
       "  const docs_json = {\"5d6161df-e953-40dc-834b-4596c485fdd4\":{\"defs\":[],\"roots\":{\"references\":[{\"attributes\":{\"below\":[{\"id\":\"1014\"}],\"center\":[{\"id\":\"1017\"},{\"id\":\"1021\"}],\"height\":250,\"left\":[{\"id\":\"1018\"}],\"max_width\":500,\"renderers\":[{\"id\":\"1040\"},{\"id\":\"1046\"}],\"sizing_mode\":\"stretch_width\",\"title\":{\"id\":\"1004\"},\"toolbar\":{\"id\":\"1029\"},\"x_range\":{\"id\":\"1006\"},\"x_scale\":{\"id\":\"1010\"},\"y_range\":{\"id\":\"1008\"},\"y_scale\":{\"id\":\"1012\"}},\"id\":\"1003\",\"subtype\":\"Figure\",\"type\":\"Plot\"},{\"attributes\":{},\"id\":\"1055\",\"type\":\"UnionRenderers\"},{\"attributes\":{\"fill_color\":{\"field\":\"fill_color\"},\"line_color\":{\"value\":\"blue\"},\"size\":{\"value\":15},\"x\":{\"field\":\"x\"},\"y\":{\"field\":\"y\"}},\"id\":\"1043\",\"type\":\"Circle\"},{\"attributes\":{\"source\":{\"id\":\"1036\"}},\"id\":\"1041\",\"type\":\"CDSView\"},{\"attributes\":{},\"id\":\"1027\",\"type\":\"HelpTool\"},{\"attributes\":{},\"id\":\"1056\",\"type\":\"Selection\"},{\"attributes\":{\"coordinates\":null,\"data_source\":{\"id\":\"1036\"},\"glyph\":{\"id\":\"1037\"},\"group\":null,\"hover_glyph\":null,\"muted_glyph\":{\"id\":\"1039\"},\"nonselection_glyph\":{\"id\":\"1038\"},\"view\":{\"id\":\"1041\"}},\"id\":\"1040\",\"type\":\"GlyphRenderer\"},{\"attributes\":{\"fill_alpha\":{\"value\":0.1},\"fill_color\":{\"field\":\"fill_color\"},\"hatch_alpha\":{\"value\":0.1},\"line_alpha\":{\"value\":0.1},\"line_color\":{\"value\":\"blue\"},\"size\":{\"value\":15},\"x\":{\"field\":\"x\"},\"y\":{\"field\":\"y\"}},\"id\":\"1044\",\"type\":\"Circle\"},{\"attributes\":{},\"id\":\"1006\",\"type\":\"DataRange1d\"},{\"attributes\":{\"data\":{\"x\":[0,1,2,3,4,5,6,7,8,9,10,11,12,13,14,15,16,17,18,19,20,21,22,23,24,25],\"y\":[86,48,52,33,42,11,6,61,87,13,70,45,24,44,31,66,23,76,85,22,39,49,84,81,92,97]},\"selected\":{\"id\":\"1056\"},\"selection_policy\":{\"id\":\"1055\"}},\"id\":\"1036\",\"type\":\"ColumnDataSource\"},{\"attributes\":{},\"id\":\"1054\",\"type\":\"AllLabels\"},{\"attributes\":{\"line_color\":\"blue\",\"x\":{\"field\":\"x\"},\"y\":{\"field\":\"y\"}},\"id\":\"1037\",\"type\":\"Line\"},{\"attributes\":{\"coordinates\":null,\"formatter\":{\"id\":\"1050\"},\"group\":null,\"major_label_policy\":{\"id\":\"1051\"},\"ticker\":{\"id\":\"1019\"}},\"id\":\"1018\",\"type\":\"LinearAxis\"},{\"attributes\":{\"coordinates\":null,\"group\":null,\"text\":\"Vectorized colors example\"},\"id\":\"1004\",\"type\":\"Title\"},{\"attributes\":{},\"id\":\"1008\",\"type\":\"DataRange1d\"},{\"attributes\":{},\"id\":\"1015\",\"type\":\"BasicTicker\"},{\"attributes\":{\"data\":{\"fill_color\":[\"#ffdbff\",\"#ff7aff\",\"#ff85ff\",\"#ff54ff\",\"#ff6bff\",\"#ff1cff\",\"#ff0fff\",\"#ff9cff\",\"#ffdeff\",\"#ff21ff\",\"#ffb2ff\",\"#ff73ff\",\"#ff3dff\",\"#ff70ff\",\"#ff4fff\",\"#ffa8ff\",\"#ff3bff\",\"#ffc2ff\",\"#ffd9ff\",\"#ff38ff\",\"#ff63ff\",\"#ff7dff\",\"#ffd6ff\",\"#ffcfff\",\"#ffebff\",\"#fff7ff\"],\"x\":[0,1,2,3,4,5,6,7,8,9,10,11,12,13,14,15,16,17,18,19,20,21,22,23,24,25],\"y\":[86,48,52,33,42,11,6,61,87,13,70,45,24,44,31,66,23,76,85,22,39,49,84,81,92,97]},\"selected\":{\"id\":\"1058\"},\"selection_policy\":{\"id\":\"1057\"}},\"id\":\"1042\",\"type\":\"ColumnDataSource\"},{\"attributes\":{\"line_alpha\":0.2,\"line_color\":\"blue\",\"x\":{\"field\":\"x\"},\"y\":{\"field\":\"y\"}},\"id\":\"1039\",\"type\":\"Line\"},{\"attributes\":{\"axis\":{\"id\":\"1014\"},\"coordinates\":null,\"group\":null,\"ticker\":null},\"id\":\"1017\",\"type\":\"Grid\"},{\"attributes\":{\"fill_alpha\":{\"value\":0.2},\"fill_color\":{\"field\":\"fill_color\"},\"hatch_alpha\":{\"value\":0.2},\"line_alpha\":{\"value\":0.2},\"line_color\":{\"value\":\"blue\"},\"size\":{\"value\":15},\"x\":{\"field\":\"x\"},\"y\":{\"field\":\"y\"}},\"id\":\"1045\",\"type\":\"Circle\"},{\"attributes\":{},\"id\":\"1012\",\"type\":\"LinearScale\"},{\"attributes\":{},\"id\":\"1051\",\"type\":\"AllLabels\"},{\"attributes\":{\"coordinates\":null,\"data_source\":{\"id\":\"1042\"},\"glyph\":{\"id\":\"1043\"},\"group\":null,\"hover_glyph\":null,\"muted_glyph\":{\"id\":\"1045\"},\"nonselection_glyph\":{\"id\":\"1044\"},\"view\":{\"id\":\"1047\"}},\"id\":\"1046\",\"type\":\"GlyphRenderer\"},{\"attributes\":{},\"id\":\"1010\",\"type\":\"LinearScale\"},{\"attributes\":{},\"id\":\"1058\",\"type\":\"Selection\"},{\"attributes\":{\"coordinates\":null,\"formatter\":{\"id\":\"1053\"},\"group\":null,\"major_label_policy\":{\"id\":\"1054\"},\"ticker\":{\"id\":\"1015\"}},\"id\":\"1014\",\"type\":\"LinearAxis\"},{\"attributes\":{\"axis\":{\"id\":\"1018\"},\"coordinates\":null,\"dimension\":1,\"group\":null,\"ticker\":null},\"id\":\"1021\",\"type\":\"Grid\"},{\"attributes\":{},\"id\":\"1019\",\"type\":\"BasicTicker\"},{\"attributes\":{},\"id\":\"1022\",\"type\":\"PanTool\"},{\"attributes\":{},\"id\":\"1023\",\"type\":\"WheelZoomTool\"},{\"attributes\":{},\"id\":\"1050\",\"type\":\"BasicTickFormatter\"},{\"attributes\":{\"line_alpha\":0.1,\"line_color\":\"blue\",\"x\":{\"field\":\"x\"},\"y\":{\"field\":\"y\"}},\"id\":\"1038\",\"type\":\"Line\"},{\"attributes\":{\"overlay\":{\"id\":\"1028\"}},\"id\":\"1024\",\"type\":\"BoxZoomTool\"},{\"attributes\":{},\"id\":\"1057\",\"type\":\"UnionRenderers\"},{\"attributes\":{\"source\":{\"id\":\"1042\"}},\"id\":\"1047\",\"type\":\"CDSView\"},{\"attributes\":{},\"id\":\"1025\",\"type\":\"SaveTool\"},{\"attributes\":{},\"id\":\"1026\",\"type\":\"ResetTool\"},{\"attributes\":{},\"id\":\"1053\",\"type\":\"BasicTickFormatter\"},{\"attributes\":{\"bottom_units\":\"screen\",\"coordinates\":null,\"fill_alpha\":0.5,\"fill_color\":\"lightgrey\",\"group\":null,\"left_units\":\"screen\",\"level\":\"overlay\",\"line_alpha\":1.0,\"line_color\":\"black\",\"line_dash\":[4,4],\"line_width\":2,\"right_units\":\"screen\",\"syncable\":false,\"top_units\":\"screen\"},\"id\":\"1028\",\"type\":\"BoxAnnotation\"},{\"attributes\":{\"tools\":[{\"id\":\"1022\"},{\"id\":\"1023\"},{\"id\":\"1024\"},{\"id\":\"1025\"},{\"id\":\"1026\"},{\"id\":\"1027\"}]},\"id\":\"1029\",\"type\":\"Toolbar\"}],\"root_ids\":[\"1003\"]},\"title\":\"Bokeh Application\",\"version\":\"2.4.2\"}};\n",
       "  const render_items = [{\"docid\":\"5d6161df-e953-40dc-834b-4596c485fdd4\",\"root_ids\":[\"1003\"],\"roots\":{\"1003\":\"b51a6763-0d8b-4b5b-9165-102fdf6613a4\"}}];\n",
       "  root.Bokeh.embed.embed_items_notebook(docs_json, render_items);\n",
       "\n",
       "  }\n",
       "  if (root.Bokeh !== undefined) {\n",
       "    embed_document(root);\n",
       "  } else {\n",
       "    let attempts = 0;\n",
       "    const timer = setInterval(function(root) {\n",
       "      if (root.Bokeh !== undefined) {\n",
       "        clearInterval(timer);\n",
       "        embed_document(root);\n",
       "      } else {\n",
       "        attempts++;\n",
       "        if (attempts > 100) {\n",
       "          clearInterval(timer);\n",
       "          console.log(\"Bokeh: ERROR: Unable to run BokehJS code because BokehJS library is missing\");\n",
       "        }\n",
       "      }\n",
       "    }, 10, root)\n",
       "  }\n",
       "})(window);"
      ],
      "application/vnd.bokehjs_exec.v0+json": ""
     },
     "metadata": {
      "application/vnd.bokehjs_exec.v0+json": {
       "id": "1003"
      }
     },
     "output_type": "display_data"
    }
   ],
   "source": [
    "import random\n",
    "\n",
    "# generate some data (1-10 for x, random values for y)\n",
    "x = list(range(0, 26))\n",
    "y = random.sample(range(0, 100), 26)\n",
    "\n",
    "# generate list of rgb hex colors in relation to y\n",
    "colors = [f'#ff{int(round(value * 255 / 100)):02x}ff' for value in y]\n",
    "\n",
    "# create new plot\n",
    "p = figure(\n",
    "    title='Vectorized colors example',\n",
    "    sizing_mode='stretch_width',\n",
    "    max_width=500,\n",
    "    plot_height=250,\n",
    ")\n",
    "\n",
    "# add circle and line renderers\n",
    "line = p.line(x, y, line_color='blue', line_width=1)\n",
    "circle = p.circle(x, y, fill_color=colors, line_color='blue', size=15)\n",
    "\n",
    "# show the results\n",
    "show(p)"
   ]
  },
  {
   "cell_type": "markdown",
   "metadata": {
    "id": "NSS-f-XGFGNz"
   },
   "source": [
    "In this example, the color of every circle corresponds to the y value of that circle"
   ]
  },
  {
   "cell_type": "markdown",
   "metadata": {
    "id": "1MABY0TBFKSS"
   },
   "source": [
    "> **See also**\n",
    "\n",
    "> For more information on how to map data points to colors and color palettes, see [Using mappers](https://docs.bokeh.org/en/latest/docs/user_guide/styling.html#userguide-styling-using-mappers) in the user guide"
   ]
  },
  {
   "cell_type": "markdown",
   "metadata": {
    "id": "ycVIWghvFYnY"
   },
   "source": [
    "## Vectorizing colors and sizes¶\n",
    "To create a plot with colors and sizes in relation to your data, apply the same principle to the radius argument of your renderer:"
   ]
  },
  {
   "cell_type": "code",
   "execution_count": 3,
   "metadata": {
    "colab": {
     "base_uri": "https://localhost:8080/",
     "height": 267
    },
    "executionInfo": {
     "elapsed": 2950,
     "status": "ok",
     "timestamp": 1616940045519,
     "user": {
      "displayName": "류기윤",
      "photoUrl": "https://lh3.googleusercontent.com/a-/AOh14GgQ3YtFwUPyzjO8P1LCqbjF6RkNFAdXqzp9xLgvmA=s64",
      "userId": "14686264071241136597"
     },
     "user_tz": -540
    },
    "id": "TmgT7VmaCqna",
    "outputId": "2cba8372-f255-4d27-8d0e-c6daa4bcf743"
   },
   "outputs": [
    {
     "data": {
      "text/html": [
       "\n",
       "\n",
       "\n",
       "\n",
       "\n",
       "\n",
       "  <div class=\"bk-root\" id=\"12bbca93-7ea0-47b7-aac3-02e8526446cb\" data-root-id=\"1120\"></div>\n"
      ]
     },
     "metadata": {},
     "output_type": "display_data"
    },
    {
     "data": {
      "application/javascript": [
       "(function(root) {\n",
       "  function embed_document(root) {\n",
       "    \n",
       "  const docs_json = {\"50dbdd5f-90e4-4e81-a071-394b63b82cee\":{\"defs\":[],\"roots\":{\"references\":[{\"attributes\":{\"below\":[{\"id\":\"1131\"}],\"center\":[{\"id\":\"1134\"},{\"id\":\"1138\"}],\"height\":250,\"left\":[{\"id\":\"1135\"}],\"max_width\":500,\"renderers\":[{\"id\":\"1157\"}],\"sizing_mode\":\"stretch_width\",\"title\":{\"id\":\"1121\"},\"toolbar\":{\"id\":\"1146\"},\"x_range\":{\"id\":\"1123\"},\"x_scale\":{\"id\":\"1127\"},\"y_range\":{\"id\":\"1125\"},\"y_scale\":{\"id\":\"1129\"}},\"id\":\"1120\",\"subtype\":\"Figure\",\"type\":\"Plot\"},{\"attributes\":{},\"id\":\"1144\",\"type\":\"HelpTool\"},{\"attributes\":{},\"id\":\"1173\",\"type\":\"BasicTickFormatter\"},{\"attributes\":{\"data\":{\"fill_color\":[\"#ffe1ff\",\"#ffe3ff\",\"#ff5fff\",\"#ff40ff\",\"#ff70ff\",\"#ffdcff\",\"#ffceff\",\"#fffdff\",\"#ffaaff\",\"#ff07ff\",\"#ffb9ff\",\"#ff1bff\",\"#ffb0ff\",\"#ff89ff\",\"#ff58ff\",\"#ffb6ff\",\"#ffd1ff\",\"#ff02ff\",\"#ff98ff\",\"#ff22ff\",\"#ff73ff\",\"#ff51ff\",\"#ff62ff\",\"#ffb5ff\",\"#ff3cff\",\"#ff37ff\",\"#ffbcff\",\"#ff8dff\",\"#ff79ff\",\"#ff0dff\",\"#ffefff\",\"#ff20ff\",\"#ff8bff\",\"#ff33ff\",\"#ff0eff\",\"#ff94ff\",\"#ff45ff\",\"#ff25ff\",\"#ff52ff\",\"#ffe4ff\",\"#ffcfff\",\"#ffa4ff\",\"#ff77ff\",\"#ffacff\",\"#ff21ff\",\"#ff07ff\",\"#ff17ff\",\"#ff81ff\",\"#fffcff\",\"#ffa1ff\",\"#ff55ff\",\"#ff6cff\",\"#ff17ff\",\"#ff9eff\",\"#ff19ff\",\"#ff4fff\",\"#ff07ff\",\"#ff40ff\",\"#ff6fff\",\"#ffc4ff\",\"#ffb4ff\",\"#ff16ff\",\"#ff4bff\",\"#ffebff\",\"#fff0ff\",\"#ff01ff\",\"#ffb6ff\",\"#ffbfff\",\"#ff68ff\",\"#ff38ff\",\"#ff23ff\",\"#ff5bff\",\"#ff12ff\",\"#ffa9ff\",\"#ffb9ff\",\"#ffffff\",\"#ffbbff\",\"#ffd6ff\",\"#ff55ff\",\"#fffaff\",\"#ff57ff\",\"#ff3aff\",\"#ff10ff\",\"#ff7dff\",\"#ffbeff\",\"#ffacff\",\"#ff99ff\",\"#ff81ff\",\"#ffacff\",\"#ff0bff\",\"#ff8aff\",\"#ff8cff\",\"#ff59ff\",\"#ffffff\",\"#ff7dff\",\"#ff3dff\",\"#ffacff\",\"#ff1dff\",\"#ffa5ff\",\"#ffd2ff\",\"#ff17ff\",\"#ff4aff\",\"#ffd4ff\",\"#ffd3ff\",\"#ff6fff\",\"#ffc6ff\",\"#ffb4ff\",\"#ff75ff\",\"#ff3fff\",\"#ffaaff\",\"#ff49ff\",\"#ffe0ff\",\"#ffbcff\",\"#ff98ff\",\"#ffb3ff\",\"#ff5fff\",\"#ff2fff\",\"#ff8aff\",\"#ff70ff\",\"#fff7ff\",\"#ffe6ff\",\"#ffc8ff\",\"#ff20ff\",\"#ff43ff\",\"#ffb1ff\",\"#ff46ff\",\"#fff8ff\",\"#ff48ff\",\"#ff0fff\",\"#ff8bff\",\"#ffc5ff\",\"#ff4fff\",\"#ff05ff\",\"#ffe2ff\",\"#ffc9ff\",\"#ff1aff\",\"#ffcfff\",\"#ff7cff\",\"#ff76ff\",\"#ffc3ff\",\"#ff47ff\",\"#ff4dff\",\"#ff5fff\",\"#ff44ff\",\"#ff89ff\",\"#ff3dff\",\"#ffd8ff\",\"#ff40ff\",\"#ffa4ff\",\"#ff3dff\",\"#ff15ff\",\"#ffe1ff\",\"#ff04ff\",\"#ff6fff\",\"#ff05ff\",\"#ff03ff\",\"#ffc0ff\",\"#ffcdff\",\"#fffdff\",\"#fffaff\",\"#ff87ff\",\"#ff38ff\",\"#ffe9ff\",\"#ff34ff\",\"#ff3fff\",\"#ff57ff\",\"#ff72ff\",\"#ff99ff\",\"#ff4eff\",\"#ff9aff\",\"#ffa3ff\",\"#fff6ff\",\"#fffbff\",\"#ff48ff\",\"#ff1fff\",\"#ffe4ff\",\"#ff2cff\",\"#ff4fff\",\"#ff11ff\",\"#ff7bff\",\"#ff8dff\",\"#ff12ff\",\"#ffaeff\",\"#ff4bff\",\"#ff94ff\",\"#ffc8ff\",\"#ffd3ff\",\"#ffa8ff\",\"#ff37ff\",\"#ffc8ff\",\"#ffc7ff\",\"#ff03ff\",\"#ffc1ff\",\"#ffeeff\",\"#ffe3ff\",\"#ff85ff\",\"#ff08ff\",\"#ffcbff\",\"#ff3dff\",\"#ffbfff\",\"#ff8aff\",\"#fff0ff\",\"#ffeeff\",\"#ff64ff\",\"#fff1ff\",\"#ffb9ff\",\"#ff6eff\",\"#ff70ff\",\"#ffbaff\",\"#ffe5ff\",\"#ff6cff\",\"#ff78ff\",\"#ff35ff\",\"#ff3eff\",\"#ff7fff\",\"#ff57ff\",\"#ffe4ff\",\"#ff13ff\",\"#ff94ff\",\"#ffdcff\",\"#ff4bff\",\"#ff19ff\",\"#ff24ff\",\"#ffb5ff\",\"#ffa3ff\",\"#ff83ff\",\"#ffb1ff\",\"#ffdaff\",\"#ffe8ff\",\"#ff3eff\",\"#ff7eff\",\"#ffd0ff\",\"#ff44ff\",\"#ff8dff\",\"#ffb3ff\",\"#ffccff\",\"#ff49ff\",\"#ff5bff\",\"#ffcdff\",\"#fff4ff\",\"#ff40ff\",\"#ff52ff\",\"#ffa9ff\",\"#ff4eff\",\"#ffccff\",\"#ff0bff\",\"#ff10ff\",\"#ffa0ff\",\"#ffabff\",\"#ff0dff\",\"#ff4eff\",\"#ff6cff\",\"#ffe4ff\",\"#ff26ff\",\"#ff7bff\",\"#ffa7ff\",\"#ffeaff\",\"#ff89ff\",\"#ff7dff\",\"#ff3aff\",\"#ff58ff\",\"#ff55ff\",\"#ffe7ff\",\"#ff7eff\",\"#ffc6ff\",\"#ff85ff\",\"#ffe8ff\",\"#ffedff\",\"#ffc6ff\",\"#ff4aff\",\"#ff7aff\",\"#ff74ff\",\"#ff11ff\",\"#fff5ff\",\"#ff1cff\",\"#ff27ff\",\"#ff6aff\",\"#ffbfff\",\"#ff50ff\",\"#ff5bff\",\"#ff9fff\",\"#ff5dff\",\"#ffc1ff\",\"#fff4ff\",\"#ff9bff\",\"#ffd9ff\",\"#ff50ff\",\"#ff4bff\",\"#ffa5ff\",\"#ff36ff\",\"#ffdaff\",\"#ff8aff\",\"#ffbcff\",\"#ff4aff\",\"#ff6eff\",\"#ff32ff\",\"#ff74ff\",\"#ff1bff\",\"#ff40ff\",\"#ff59ff\",\"#ffe1ff\",\"#ff22ff\",\"#ff07ff\",\"#ff27ff\",\"#ff35ff\",\"#ff6fff\",\"#ff12ff\",\"#ff80ff\",\"#ffb7ff\",\"#ff1eff\",\"#ff80ff\",\"#ffa4ff\",\"#ff30ff\",\"#ffd5ff\",\"#ffd1ff\",\"#ff3eff\",\"#ff0cff\",\"#ffb0ff\",\"#ff22ff\",\"#ff3dff\",\"#fff8ff\",\"#ff30ff\",\"#ffa4ff\",\"#ff12ff\",\"#ff4aff\",\"#ffc3ff\",\"#ff3bff\",\"#ffb5ff\",\"#ff89ff\",\"#ffa8ff\",\"#ffe0ff\",\"#ffe3ff\",\"#ffbdff\",\"#ff0cff\",\"#ff30ff\",\"#ffa2ff\",\"#ff20ff\",\"#ff1cff\",\"#ff28ff\",\"#ffafff\",\"#fffdff\",\"#ff5aff\",\"#ff2eff\",\"#ff2fff\",\"#ff47ff\",\"#ff53ff\",\"#ffa5ff\",\"#ff1eff\",\"#ff03ff\",\"#ff14ff\",\"#ff9dff\",\"#ff68ff\",\"#ff72ff\",\"#ff7dff\",\"#ff94ff\",\"#ff28ff\",\"#ffe0ff\",\"#ff5eff\",\"#fff3ff\",\"#ffdeff\",\"#ff24ff\",\"#ffa1ff\",\"#ff67ff\",\"#ff43ff\",\"#ffe6ff\",\"#ff50ff\",\"#ffb7ff\",\"#ff9aff\",\"#ffcfff\",\"#ff61ff\",\"#ff36ff\",\"#ffd8ff\",\"#ffb0ff\",\"#ffd5ff\",\"#fffdff\",\"#ffa5ff\",\"#ff6fff\",\"#ff06ff\",\"#ff1cff\",\"#ff55ff\",\"#ffc1ff\",\"#ff62ff\",\"#fffcff\",\"#ff26ff\",\"#ff1dff\",\"#ff2aff\",\"#ff33ff\",\"#ff25ff\",\"#ff3eff\",\"#ff07ff\",\"#ffcfff\",\"#ff37ff\",\"#ffcdff\",\"#ff03ff\",\"#ff9dff\",\"#ff1dff\",\"#ffaaff\",\"#ffa2ff\",\"#ff73ff\",\"#fff8ff\",\"#ff0fff\",\"#ff5dff\",\"#ff10ff\",\"#ff71ff\",\"#ff48ff\",\"#ff36ff\",\"#ff7dff\",\"#ff45ff\",\"#ffd4ff\",\"#ff2fff\",\"#ff89ff\",\"#ffecff\",\"#ffbbff\",\"#ffc7ff\",\"#ff2fff\",\"#ff1aff\",\"#ff3fff\",\"#ffc2ff\",\"#ff57ff\",\"#ff91ff\",\"#ffa4ff\",\"#ff21ff\",\"#fff5ff\",\"#ff23ff\",\"#ff1eff\",\"#ff85ff\",\"#ff9eff\",\"#ffbcff\",\"#ff74ff\",\"#ffdeff\",\"#ffe1ff\",\"#ff3dff\",\"#ff03ff\",\"#ffecff\",\"#ff2cff\",\"#ff6cff\",\"#ff8bff\",\"#ffdbff\",\"#ff5bff\",\"#ff38ff\",\"#ff19ff\",\"#ff8dff\",\"#ff88ff\",\"#ff28ff\",\"#ff93ff\",\"#ff37ff\",\"#ff30ff\",\"#ff1eff\",\"#ff55ff\",\"#ff67ff\",\"#ffd6ff\",\"#ff79ff\",\"#ff2fff\",\"#ff0fff\",\"#ff84ff\",\"#ff56ff\",\"#ff45ff\",\"#fff8ff\",\"#ff35ff\",\"#ffb8ff\",\"#ff72ff\",\"#ff23ff\",\"#ff3cff\",\"#ffbfff\",\"#ff64ff\",\"#ff26ff\",\"#ffefff\",\"#ff43ff\",\"#ff57ff\",\"#ffe7ff\",\"#ffb7ff\",\"#ff50ff\",\"#ff24ff\",\"#ffbeff\",\"#ffe8ff\",\"#ff81ff\",\"#ff56ff\",\"#ff87ff\",\"#ff5cff\",\"#fff9ff\",\"#ff54ff\",\"#ffeeff\",\"#ff5cff\",\"#ff8dff\",\"#ffbdff\",\"#ffb5ff\",\"#fffeff\",\"#ffa7ff\",\"#ff21ff\",\"#ff6cff\",\"#ff45ff\",\"#ff20ff\",\"#ff2bff\",\"#ffb6ff\",\"#ffd6ff\",\"#ffceff\",\"#ff20ff\",\"#ff02ff\",\"#ff0fff\",\"#ff94ff\",\"#ff3eff\",\"#ff56ff\",\"#ff94ff\",\"#ff30ff\",\"#fffdff\",\"#ff71ff\",\"#ff13ff\",\"#ff08ff\",\"#ff8dff\",\"#ffb8ff\",\"#ff68ff\",\"#ff0aff\",\"#fff8ff\",\"#ff70ff\",\"#ff51ff\",\"#ff07ff\",\"#ffccff\",\"#ff59ff\",\"#ff43ff\",\"#ff8dff\",\"#ff96ff\",\"#ff1cff\",\"#ff3dff\",\"#ff43ff\",\"#ff15ff\",\"#ffd3ff\",\"#ff25ff\",\"#ff3eff\",\"#ff32ff\",\"#ff36ff\",\"#ff53ff\",\"#ff76ff\",\"#ffecff\",\"#ffa4ff\",\"#ff50ff\",\"#ff9aff\",\"#ff6cff\",\"#ffc6ff\",\"#ff1dff\",\"#ffe6ff\",\"#ff06ff\",\"#ff96ff\",\"#ff80ff\",\"#fffbff\",\"#ffacff\",\"#ff7dff\",\"#ff4dff\",\"#ff30ff\",\"#ff70ff\",\"#ff16ff\",\"#ff44ff\",\"#ffb5ff\",\"#ffbaff\",\"#ff09ff\",\"#ff7dff\",\"#ffc7ff\",\"#ff0cff\",\"#ff23ff\",\"#ff2cff\",\"#ff3eff\",\"#fffaff\",\"#ff92ff\",\"#fff0ff\",\"#ff73ff\",\"#ffd0ff\",\"#ff3bff\",\"#ff3bff\",\"#ffc7ff\",\"#ff50ff\",\"#fff5ff\",\"#ff2eff\",\"#ff57ff\",\"#ff71ff\",\"#ff82ff\",\"#ff82ff\",\"#ff67ff\",\"#ff96ff\",\"#ff01ff\",\"#ff56ff\",\"#ff02ff\",\"#ff3cff\",\"#fff6ff\",\"#ffddff\",\"#ff41ff\",\"#ff55ff\",\"#ffe5ff\",\"#ff50ff\",\"#ff2aff\",\"#ff8fff\",\"#ffabff\",\"#ffbcff\",\"#ffa0ff\",\"#ffebff\",\"#ff2bff\",\"#ff00ff\",\"#ff57ff\",\"#ff87ff\",\"#ffe8ff\",\"#ff75ff\",\"#ff41ff\",\"#ff12ff\",\"#ff49ff\",\"#ff2dff\",\"#ffa8ff\",\"#ff60ff\",\"#ffe0ff\",\"#ff8bff\",\"#ff08ff\",\"#ff26ff\",\"#ff0cff\",\"#ffa3ff\",\"#ff39ff\",\"#ffe4ff\",\"#ffedff\",\"#ff47ff\",\"#ff54ff\",\"#ff8aff\",\"#ff32ff\",\"#ffc1ff\",\"#ff3dff\",\"#ff11ff\",\"#ff38ff\",\"#ff81ff\",\"#ff79ff\",\"#ff70ff\",\"#ff41ff\",\"#ff0bff\",\"#ff06ff\",\"#ff6dff\",\"#fff7ff\",\"#ff66ff\",\"#ff27ff\",\"#ff50ff\",\"#ff2bff\",\"#ff0eff\",\"#ff94ff\",\"#ffcfff\",\"#ff73ff\",\"#ffa1ff\",\"#ff79ff\",\"#ff45ff\",\"#ffceff\",\"#ff47ff\",\"#fff6ff\",\"#ff67ff\",\"#fff4ff\",\"#ffa9ff\",\"#ff91ff\",\"#ff8cff\",\"#ffe5ff\",\"#ffb9ff\",\"#ffa5ff\",\"#ff96ff\",\"#ff57ff\",\"#ffc1ff\",\"#ff84ff\",\"#ff0eff\",\"#ff53ff\",\"#ffa0ff\",\"#ff8dff\",\"#ff7cff\",\"#fff0ff\",\"#ff42ff\",\"#ff07ff\",\"#ff43ff\",\"#ff9cff\",\"#ff48ff\",\"#ff94ff\",\"#ff95ff\",\"#ffecff\",\"#ff8bff\",\"#ffc1ff\",\"#ff33ff\",\"#ffc0ff\",\"#ff35ff\",\"#ff3fff\",\"#ff4fff\",\"#ff73ff\",\"#ffe0ff\",\"#ff50ff\",\"#ff92ff\",\"#fff2ff\",\"#ff36ff\",\"#ffd0ff\",\"#ff75ff\",\"#ff99ff\",\"#fffcff\",\"#ffe0ff\",\"#fff6ff\",\"#ff51ff\",\"#ff9aff\",\"#ffbcff\",\"#ff78ff\",\"#ff13ff\",\"#ffdeff\",\"#ffe3ff\",\"#fff8ff\",\"#ff95ff\",\"#ffbfff\",\"#ffe6ff\",\"#ffe5ff\",\"#ff4bff\",\"#ff33ff\",\"#ff0cff\",\"#ff1fff\",\"#ffb0ff\",\"#ff11ff\",\"#ff19ff\",\"#ff58ff\",\"#ff17ff\",\"#ff77ff\",\"#ff0cff\",\"#ffc1ff\",\"#ff4bff\",\"#ff95ff\",\"#ff0bff\",\"#ff90ff\",\"#ff10ff\",\"#ffc6ff\",\"#ffbfff\",\"#ff0eff\",\"#ff37ff\",\"#ff49ff\",\"#ffb9ff\",\"#ff99ff\",\"#ff6aff\",\"#ff76ff\",\"#ffe9ff\",\"#ff93ff\",\"#ff79ff\",\"#ff39ff\",\"#ffc6ff\",\"#ff97ff\",\"#ff12ff\",\"#ff13ff\",\"#ff96ff\",\"#ff33ff\",\"#ff97ff\",\"#ff6cff\",\"#ffa7ff\",\"#ff54ff\",\"#ff6fff\",\"#ff15ff\",\"#ff38ff\",\"#ff16ff\",\"#ff9aff\",\"#ff73ff\",\"#ff6eff\",\"#ff25ff\",\"#ffd4ff\",\"#ff07ff\",\"#ff50ff\",\"#ff9cff\",\"#ff20ff\",\"#ff37ff\",\"#ff02ff\",\"#ffecff\",\"#ff5bff\",\"#fff4ff\",\"#ff8aff\",\"#ff65ff\",\"#ff76ff\",\"#ff8bff\",\"#ff67ff\",\"#ffe5ff\",\"#ff30ff\",\"#ffbcff\",\"#ffafff\",\"#ff9bff\",\"#ffe4ff\",\"#ff92ff\",\"#ffc4ff\",\"#ff0aff\",\"#ffb8ff\",\"#ff54ff\",\"#ffebff\",\"#ff60ff\",\"#ff9dff\",\"#ff47ff\",\"#ff96ff\",\"#ff78ff\",\"#ff85ff\",\"#ffd6ff\",\"#ffc5ff\",\"#ff04ff\",\"#ff85ff\",\"#ff39ff\",\"#ff6eff\",\"#ffbfff\",\"#fffeff\",\"#ff1cff\",\"#ff69ff\",\"#ff92ff\",\"#fff4ff\",\"#ff38ff\",\"#ff39ff\",\"#ff87ff\",\"#ffe0ff\",\"#ff8eff\",\"#ff79ff\",\"#ff74ff\",\"#ff10ff\",\"#ffdaff\",\"#ffc9ff\",\"#ff09ff\",\"#ff45ff\",\"#ff85ff\",\"#ff8fff\",\"#ff15ff\",\"#ff4eff\",\"#ff50ff\",\"#ffa1ff\",\"#ff5eff\",\"#ff59ff\",\"#ffbdff\",\"#fffeff\",\"#ff5aff\",\"#ff96ff\",\"#fff3ff\",\"#ff1dff\",\"#ff57ff\",\"#ff77ff\",\"#ffdaff\",\"#ffcbff\",\"#ff18ff\",\"#ffddff\",\"#ffdeff\",\"#ffbcff\",\"#ff4cff\",\"#ffa4ff\",\"#ff3aff\",\"#ff42ff\",\"#ffc7ff\",\"#ff65ff\",\"#ffaaff\",\"#ff43ff\",\"#ff03ff\",\"#ff06ff\",\"#ff7aff\",\"#ff28ff\",\"#ff0fff\",\"#ff1cff\",\"#ff0cff\",\"#fff3ff\",\"#ff79ff\",\"#ff7eff\",\"#ff73ff\",\"#ff88ff\",\"#fffbff\",\"#ff6fff\",\"#ff65ff\",\"#ff41ff\",\"#ff90ff\",\"#ff54ff\",\"#ffccff\",\"#ff2dff\",\"#ff2fff\",\"#ff81ff\",\"#ff60ff\",\"#ffeeff\",\"#ffe0ff\",\"#ff16ff\",\"#ffa5ff\",\"#ffe7ff\",\"#ff0dff\",\"#ffc5ff\",\"#ff42ff\",\"#ff0fff\",\"#ffdeff\",\"#ff8fff\",\"#ff9cff\",\"#ffafff\",\"#ff95ff\",\"#ff0eff\",\"#ff7bff\",\"#ff87ff\",\"#ff85ff\",\"#ff0eff\",\"#ff73ff\",\"#ffd2ff\",\"#ffbcff\",\"#ff63ff\",\"#ff42ff\",\"#ffa6ff\",\"#ff18ff\",\"#ffeaff\",\"#ffaaff\",\"#ff7eff\",\"#ff86ff\",\"#ff91ff\",\"#ff9eff\",\"#ff01ff\",\"#ffbaff\",\"#ff4fff\",\"#ff30ff\",\"#ffd4ff\",\"#fffdff\",\"#ff6fff\",\"#ffe1ff\",\"#ffd6ff\",\"#ff89ff\",\"#ffe7ff\",\"#ff23ff\",\"#ff8fff\",\"#ff26ff\",\"#ff75ff\",\"#ff7cff\",\"#ff59ff\",\"#ffc0ff\",\"#ff47ff\",\"#ff8aff\",\"#fff7ff\",\"#ff5bff\",\"#ffbdff\",\"#fff4ff\",\"#ffc5ff\",\"#ffceff\",\"#ff7fff\",\"#ff1aff\",\"#ffc2ff\",\"#ffc9ff\",\"#ff35ff\",\"#ff2fff\",\"#ff8fff\",\"#ffb2ff\",\"#ff27ff\",\"#ff11ff\",\"#ff66ff\",\"#ff5aff\",\"#ff60ff\",\"#ff57ff\",\"#ff4eff\",\"#ff31ff\",\"#ffe1ff\",\"#fffcff\",\"#ff37ff\",\"#ff1fff\",\"#ff4fff\",\"#ffc1ff\",\"#ff57ff\",\"#ff4cff\",\"#ff2fff\",\"#ffbeff\",\"#ff6fff\",\"#ff7aff\",\"#ff2dff\",\"#ff0eff\",\"#ff43ff\",\"#ff70ff\",\"#ff28ff\",\"#ffbaff\",\"#ff8dff\",\"#ff4dff\",\"#ffbdff\",\"#ff06ff\",\"#ff1dff\",\"#ff8aff\",\"#ff9eff\",\"#ff46ff\",\"#ffd8ff\",\"#ffd8ff\",\"#ff94ff\",\"#ff95ff\",\"#ff60ff\",\"#ffdaff\",\"#ff67ff\",\"#ffdcff\",\"#ff90ff\",\"#ff32ff\",\"#ff1dff\",\"#ff4fff\",\"#ff21ff\",\"#fff9ff\",\"#ff08ff\",\"#ff05ff\",\"#ffbdff\",\"#ff03ff\",\"#ff98ff\",\"#ffb6ff\",\"#ff84ff\",\"#ff9cff\",\"#fff6ff\",\"#ff77ff\",\"#ffb6ff\",\"#ff4dff\",\"#ffc2ff\",\"#ff4bff\",\"#ffc9ff\",\"#ff1cff\",\"#ffe6ff\",\"#ff72ff\",\"#fff9ff\",\"#ffbeff\",\"#ffc7ff\",\"#ff6cff\",\"#ff33ff\",\"#ff8dff\",\"#ff32ff\",\"#ffc5ff\",\"#ffefff\"],\"radius\":{\"__ndarray__\":\"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\",\"dtype\":\"float64\",\"order\":\"little\",\"shape\":[1000]},\"x\":{\"__ndarray__\":\"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\",\"dtype\":\"float64\",\"order\":\"little\",\"shape\":[1000]},\"y\":{\"__ndarray__\":\"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\",\"dtype\":\"float64\",\"order\":\"little\",\"shape\":[1000]}},\"selected\":{\"id\":\"1179\"},\"selection_policy\":{\"id\":\"1178\"}},\"id\":\"1153\",\"type\":\"ColumnDataSource\"},{\"attributes\":{\"coordinates\":null,\"formatter\":{\"id\":\"1173\"},\"group\":null,\"major_label_policy\":{\"id\":\"1174\"},\"ticker\":{\"id\":\"1136\"}},\"id\":\"1135\",\"type\":\"LinearAxis\"},{\"attributes\":{},\"id\":\"1174\",\"type\":\"AllLabels\"},{\"attributes\":{\"coordinates\":null,\"group\":null,\"text\":\"Vectorized colors and radii example\"},\"id\":\"1121\",\"type\":\"Title\"},{\"attributes\":{},\"id\":\"1132\",\"type\":\"BasicTicker\"},{\"attributes\":{},\"id\":\"1176\",\"type\":\"BasicTickFormatter\"},{\"attributes\":{\"axis\":{\"id\":\"1131\"},\"coordinates\":null,\"group\":null,\"ticker\":null},\"id\":\"1134\",\"type\":\"Grid\"},{\"attributes\":{},\"id\":\"1129\",\"type\":\"LinearScale\"},{\"attributes\":{\"coordinates\":null,\"data_source\":{\"id\":\"1153\"},\"glyph\":{\"id\":\"1154\"},\"group\":null,\"hover_glyph\":null,\"muted_glyph\":{\"id\":\"1156\"},\"nonselection_glyph\":{\"id\":\"1155\"},\"view\":{\"id\":\"1158\"}},\"id\":\"1157\",\"type\":\"GlyphRenderer\"},{\"attributes\":{\"coordinates\":null,\"formatter\":{\"id\":\"1176\"},\"group\":null,\"major_label_policy\":{\"id\":\"1177\"},\"ticker\":{\"id\":\"1132\"}},\"id\":\"1131\",\"type\":\"LinearAxis\"},{\"attributes\":{},\"id\":\"1177\",\"type\":\"AllLabels\"},{\"attributes\":{\"source\":{\"id\":\"1153\"}},\"id\":\"1158\",\"type\":\"CDSView\"},{\"attributes\":{\"axis\":{\"id\":\"1135\"},\"coordinates\":null,\"dimension\":1,\"group\":null,\"ticker\":null},\"id\":\"1138\",\"type\":\"Grid\"},{\"attributes\":{},\"id\":\"1136\",\"type\":\"BasicTicker\"},{\"attributes\":{\"fill_alpha\":{\"value\":0.1},\"fill_color\":{\"field\":\"fill_color\"},\"hatch_alpha\":{\"value\":0.1},\"line_alpha\":{\"value\":0.1},\"line_color\":{\"value\":\"lightgrey\"},\"radius\":{\"field\":\"radius\"},\"x\":{\"field\":\"x\"},\"y\":{\"field\":\"y\"}},\"id\":\"1155\",\"type\":\"Circle\"},{\"attributes\":{\"fill_alpha\":{\"value\":0.2},\"fill_color\":{\"field\":\"fill_color\"},\"hatch_alpha\":{\"value\":0.2},\"line_alpha\":{\"value\":0.2},\"line_color\":{\"value\":\"lightgrey\"},\"radius\":{\"field\":\"radius\"},\"x\":{\"field\":\"x\"},\"y\":{\"field\":\"y\"}},\"id\":\"1156\",\"type\":\"Circle\"},{\"attributes\":{},\"id\":\"1140\",\"type\":\"WheelZoomTool\"},{\"attributes\":{\"overlay\":{\"id\":\"1145\"}},\"id\":\"1141\",\"type\":\"BoxZoomTool\"},{\"attributes\":{},\"id\":\"1139\",\"type\":\"PanTool\"},{\"attributes\":{},\"id\":\"1178\",\"type\":\"UnionRenderers\"},{\"attributes\":{},\"id\":\"1142\",\"type\":\"SaveTool\"},{\"attributes\":{},\"id\":\"1143\",\"type\":\"ResetTool\"},{\"attributes\":{},\"id\":\"1179\",\"type\":\"Selection\"},{\"attributes\":{\"bottom_units\":\"screen\",\"coordinates\":null,\"fill_alpha\":0.5,\"fill_color\":\"lightgrey\",\"group\":null,\"left_units\":\"screen\",\"level\":\"overlay\",\"line_alpha\":1.0,\"line_color\":\"black\",\"line_dash\":[4,4],\"line_width\":2,\"right_units\":\"screen\",\"syncable\":false,\"top_units\":\"screen\"},\"id\":\"1145\",\"type\":\"BoxAnnotation\"},{\"attributes\":{\"tools\":[{\"id\":\"1139\"},{\"id\":\"1140\"},{\"id\":\"1141\"},{\"id\":\"1142\"},{\"id\":\"1143\"},{\"id\":\"1144\"}]},\"id\":\"1146\",\"type\":\"Toolbar\"},{\"attributes\":{\"fill_alpha\":{\"value\":0.6},\"fill_color\":{\"field\":\"fill_color\"},\"line_color\":{\"value\":\"lightgrey\"},\"radius\":{\"field\":\"radius\"},\"x\":{\"field\":\"x\"},\"y\":{\"field\":\"y\"}},\"id\":\"1154\",\"type\":\"Circle\"},{\"attributes\":{},\"id\":\"1127\",\"type\":\"LinearScale\"},{\"attributes\":{},\"id\":\"1125\",\"type\":\"DataRange1d\"},{\"attributes\":{},\"id\":\"1123\",\"type\":\"DataRange1d\"}],\"root_ids\":[\"1120\"]},\"title\":\"Bokeh Application\",\"version\":\"2.4.2\"}};\n",
       "  const render_items = [{\"docid\":\"50dbdd5f-90e4-4e81-a071-394b63b82cee\",\"root_ids\":[\"1120\"],\"roots\":{\"1120\":\"12bbca93-7ea0-47b7-aac3-02e8526446cb\"}}];\n",
       "  root.Bokeh.embed.embed_items_notebook(docs_json, render_items);\n",
       "\n",
       "  }\n",
       "  if (root.Bokeh !== undefined) {\n",
       "    embed_document(root);\n",
       "  } else {\n",
       "    let attempts = 0;\n",
       "    const timer = setInterval(function(root) {\n",
       "      if (root.Bokeh !== undefined) {\n",
       "        clearInterval(timer);\n",
       "        embed_document(root);\n",
       "      } else {\n",
       "        attempts++;\n",
       "        if (attempts > 100) {\n",
       "          clearInterval(timer);\n",
       "          console.log(\"Bokeh: ERROR: Unable to run BokehJS code because BokehJS library is missing\");\n",
       "        }\n",
       "      }\n",
       "    }, 10, root)\n",
       "  }\n",
       "})(window);"
      ],
      "application/vnd.bokehjs_exec.v0+json": ""
     },
     "metadata": {
      "application/vnd.bokehjs_exec.v0+json": {
       "id": "1120"
      }
     },
     "output_type": "display_data"
    }
   ],
   "source": [
    "import numpy as np\n",
    "\n",
    "# generate some data\n",
    "N = 1000\n",
    "x = np.random.random(size=N) * 100\n",
    "y = np.random.random(size=N) * 100\n",
    "\n",
    "# generate radii and colors based on data\n",
    "radii = y / 100 * 2\n",
    "colors = [f'#ff{int(round(value * 255 / 100)):02x}ff' for value in y]\n",
    "\n",
    "# create a new plot with a specific size\n",
    "p = figure(\n",
    "    title='Vectorized colors and radii example',\n",
    "    sizing_mode='stretch_width',\n",
    "    max_width=500,\n",
    "    plot_height=250,\n",
    ")\n",
    "\n",
    "# add circle renderer\n",
    "p.circle(\n",
    "    x,\n",
    "    y,\n",
    "    radius=radii,\n",
    "    fill_color=colors,\n",
    "    fill_alpha=0.6,\n",
    "    line_color='lightgrey',\n",
    ")\n",
    "\n",
    "# show the results\n",
    "show(p)"
   ]
  },
  {
   "cell_type": "markdown",
   "metadata": {
    "id": "o4ovtQIqGQx_"
   },
   "source": [
    "In this example, the color and diameter of every circle correspond to the y value of that circle"
   ]
  },
  {
   "cell_type": "markdown",
   "metadata": {
    "id": "3CweOo7rGWIV"
   },
   "source": [
    "## Color mapping with palettes"
   ]
  },
  {
   "cell_type": "markdown",
   "metadata": {
    "id": "uVd_6Qq1GY7t"
   },
   "source": [
    "Bokeh comes with dozens of pre-defined color palettes that you can use to map colors to your data. This includes palettes from [Brewer](http://colorbrewer2.org/#type=sequential&scheme=BuGn&n=3), [D3](https://github.com/d3/d3-3.x-api-reference/blob/master/Ordinal-Scales.md#categorical-colors), or [Matplotlib](https://matplotlib.org/examples/color/colormaps_reference.html). See [palettes](https://docs.bokeh.org/en/latest/docs/reference/palettes.html#module-bokeh.palettes) for a list of all available palettes\n",
    "\n",
    "First, use the [linear_cmap()](https://docs.bokeh.org/en/latest/docs/reference/transform.html#bokeh.transform.linear_cmap) function to create a color map for your data. The required attributes for this function are:\n",
    "\n",
    "* `field_name`: the data sequence to map colors to\n",
    "\n",
    "* `palette`: the palette to use\n",
    "\n",
    "* `low`: the lowest value to map a color to\n",
    "\n",
    "* `high`: the highest value to map a color to\n",
    "\n",
    "Then assign your color mapper to the `color` parameter of your renderer:"
   ]
  },
  {
   "cell_type": "code",
   "execution_count": 4,
   "metadata": {
    "colab": {
     "base_uri": "https://localhost:8080/",
     "height": 267
    },
    "executionInfo": {
     "elapsed": 2948,
     "status": "ok",
     "timestamp": 1616940045521,
     "user": {
      "displayName": "류기윤",
      "photoUrl": "https://lh3.googleusercontent.com/a-/AOh14GgQ3YtFwUPyzjO8P1LCqbjF6RkNFAdXqzp9xLgvmA=s64",
      "userId": "14686264071241136597"
     },
     "user_tz": -540
    },
    "id": "yOW_WzR0GHlx",
    "outputId": "4d1e90de-a521-41a6-9795-82f5077134fb"
   },
   "outputs": [
    {
     "data": {
      "text/html": [
       "\n",
       "\n",
       "\n",
       "\n",
       "\n",
       "\n",
       "  <div class=\"bk-root\" id=\"2898dfa9-732e-40ba-b3b2-77934d6c08cd\" data-root-id=\"1232\"></div>\n"
      ]
     },
     "metadata": {},
     "output_type": "display_data"
    },
    {
     "data": {
      "application/javascript": [
       "(function(root) {\n",
       "  function embed_document(root) {\n",
       "    \n",
       "  const docs_json = {\"11316df7-98c7-4d8c-8b67-ed90e26c873c\":{\"defs\":[],\"roots\":{\"references\":[{\"attributes\":{\"below\":[{\"id\":\"1241\"}],\"center\":[{\"id\":\"1244\"},{\"id\":\"1248\"}],\"height\":250,\"left\":[{\"id\":\"1245\"}],\"renderers\":[{\"id\":\"1267\"}],\"title\":{\"id\":\"1291\"},\"toolbar\":{\"id\":\"1256\"},\"width\":500,\"x_range\":{\"id\":\"1233\"},\"x_scale\":{\"id\":\"1237\"},\"y_range\":{\"id\":\"1235\"},\"y_scale\":{\"id\":\"1239\"}},\"id\":\"1232\",\"subtype\":\"Figure\",\"type\":\"Plot\"},{\"attributes\":{\"fill_color\":{\"field\":\"y\",\"transform\":{\"id\":\"1231\"}},\"hatch_color\":{\"field\":\"y\",\"transform\":{\"id\":\"1231\"}},\"line_color\":{\"field\":\"y\",\"transform\":{\"id\":\"1231\"}},\"size\":{\"value\":10},\"x\":{\"field\":\"x\"},\"y\":{\"field\":\"y\"}},\"id\":\"1264\",\"type\":\"Circle\"},{\"attributes\":{\"coordinates\":null,\"group\":null},\"id\":\"1291\",\"type\":\"Title\"},{\"attributes\":{},\"id\":\"1233\",\"type\":\"DataRange1d\"},{\"attributes\":{},\"id\":\"1299\",\"type\":\"UnionRenderers\"},{\"attributes\":{},\"id\":\"1254\",\"type\":\"HelpTool\"},{\"attributes\":{},\"id\":\"1300\",\"type\":\"Selection\"},{\"attributes\":{\"axis\":{\"id\":\"1241\"},\"coordinates\":null,\"group\":null,\"ticker\":null},\"id\":\"1244\",\"type\":\"Grid\"},{\"attributes\":{},\"id\":\"1242\",\"type\":\"BasicTicker\"},{\"attributes\":{\"data\":{\"x\":[-32,-31,-30,-29,-28,-27,-26,-25,-24,-23,-22,-21,-20,-19,-18,-17,-16,-15,-14,-13,-12,-11,-10,-9,-8,-7,-6,-5,-4,-3,-2,-1,0,1,2,3,4,5,6,7,8,9,10,11,12,13,14,15,16,17,18,19,20,21,22,23,24,25,26,27,28,29,30,31,32],\"y\":[1024,961,900,841,784,729,676,625,576,529,484,441,400,361,324,289,256,225,196,169,144,121,100,81,64,49,36,25,16,9,4,1,0,1,4,9,16,25,36,49,64,81,100,121,144,169,196,225,256,289,324,361,400,441,484,529,576,625,676,729,784,841,900,961,1024]},\"selected\":{\"id\":\"1300\"},\"selection_policy\":{\"id\":\"1299\"}},\"id\":\"1263\",\"type\":\"ColumnDataSource\"},{\"attributes\":{\"axis\":{\"id\":\"1245\"},\"coordinates\":null,\"dimension\":1,\"group\":null,\"ticker\":null},\"id\":\"1248\",\"type\":\"Grid\"},{\"attributes\":{},\"id\":\"1246\",\"type\":\"BasicTicker\"},{\"attributes\":{},\"id\":\"1250\",\"type\":\"WheelZoomTool\"},{\"attributes\":{\"coordinates\":null,\"data_source\":{\"id\":\"1263\"},\"glyph\":{\"id\":\"1264\"},\"group\":null,\"hover_glyph\":null,\"muted_glyph\":{\"id\":\"1266\"},\"nonselection_glyph\":{\"id\":\"1265\"},\"view\":{\"id\":\"1268\"}},\"id\":\"1267\",\"type\":\"GlyphRenderer\"},{\"attributes\":{},\"id\":\"1249\",\"type\":\"PanTool\"},{\"attributes\":{},\"id\":\"1252\",\"type\":\"SaveTool\"},{\"attributes\":{\"overlay\":{\"id\":\"1255\"}},\"id\":\"1251\",\"type\":\"BoxZoomTool\"},{\"attributes\":{},\"id\":\"1253\",\"type\":\"ResetTool\"},{\"attributes\":{},\"id\":\"1235\",\"type\":\"DataRange1d\"},{\"attributes\":{},\"id\":\"1237\",\"type\":\"LinearScale\"},{\"attributes\":{\"bottom_units\":\"screen\",\"coordinates\":null,\"fill_alpha\":0.5,\"fill_color\":\"lightgrey\",\"group\":null,\"left_units\":\"screen\",\"level\":\"overlay\",\"line_alpha\":1.0,\"line_color\":\"black\",\"line_dash\":[4,4],\"line_width\":2,\"right_units\":\"screen\",\"syncable\":false,\"top_units\":\"screen\"},\"id\":\"1255\",\"type\":\"BoxAnnotation\"},{\"attributes\":{\"tools\":[{\"id\":\"1249\"},{\"id\":\"1250\"},{\"id\":\"1251\"},{\"id\":\"1252\"},{\"id\":\"1253\"},{\"id\":\"1254\"}]},\"id\":\"1256\",\"type\":\"Toolbar\"},{\"attributes\":{},\"id\":\"1294\",\"type\":\"BasicTickFormatter\"},{\"attributes\":{\"source\":{\"id\":\"1263\"}},\"id\":\"1268\",\"type\":\"CDSView\"},{\"attributes\":{},\"id\":\"1297\",\"type\":\"BasicTickFormatter\"},{\"attributes\":{},\"id\":\"1298\",\"type\":\"AllLabels\"},{\"attributes\":{\"fill_alpha\":{\"value\":0.2},\"fill_color\":{\"field\":\"y\",\"transform\":{\"id\":\"1231\"}},\"hatch_alpha\":{\"value\":0.2},\"hatch_color\":{\"field\":\"y\",\"transform\":{\"id\":\"1231\"}},\"line_alpha\":{\"value\":0.2},\"line_color\":{\"field\":\"y\",\"transform\":{\"id\":\"1231\"}},\"size\":{\"value\":10},\"x\":{\"field\":\"x\"},\"y\":{\"field\":\"y\"}},\"id\":\"1266\",\"type\":\"Circle\"},{\"attributes\":{\"high\":1024,\"low\":0,\"palette\":[\"#30123b\",\"#311542\",\"#32184a\",\"#341b51\",\"#351e58\",\"#36215f\",\"#372365\",\"#38266c\",\"#392972\",\"#3a2c79\",\"#3b2f7f\",\"#3c3285\",\"#3c358b\",\"#3d3791\",\"#3e3a96\",\"#3f3d9c\",\"#4040a1\",\"#4043a6\",\"#4145ab\",\"#4148b0\",\"#424bb5\",\"#434eba\",\"#4350be\",\"#4353c2\",\"#4456c7\",\"#4458cb\",\"#455bce\",\"#455ed2\",\"#4560d6\",\"#4563d9\",\"#4666dd\",\"#4668e0\",\"#466be3\",\"#466de6\",\"#4670e8\",\"#4673eb\",\"#4675ed\",\"#4678f0\",\"#467af2\",\"#467df4\",\"#467ff6\",\"#4682f8\",\"#4584f9\",\"#4587fb\",\"#4589fc\",\"#448cfd\",\"#438efd\",\"#4291fe\",\"#4193fe\",\"#4096fe\",\"#3f98fe\",\"#3e9bfe\",\"#3c9dfd\",\"#3ba0fc\",\"#39a2fc\",\"#38a5fb\",\"#36a8f9\",\"#34aaf8\",\"#33acf6\",\"#31aff5\",\"#2fb1f3\",\"#2db4f1\",\"#2bb6ef\",\"#2ab9ed\",\"#28bbeb\",\"#26bde9\",\"#25c0e6\",\"#23c2e4\",\"#21c4e1\",\"#20c6df\",\"#1ec9dc\",\"#1dcbda\",\"#1ccdd7\",\"#1bcfd4\",\"#1ad1d2\",\"#19d3cf\",\"#18d5cc\",\"#18d7ca\",\"#17d9c7\",\"#17dac4\",\"#17dcc2\",\"#17debf\",\"#18e0bd\",\"#18e1ba\",\"#19e3b8\",\"#1ae4b6\",\"#1be5b4\",\"#1de7b1\",\"#1ee8af\",\"#20e9ac\",\"#22eba9\",\"#24eca6\",\"#27eda3\",\"#29eea0\",\"#2cef9d\",\"#2ff09a\",\"#32f197\",\"#35f394\",\"#38f491\",\"#3bf48d\",\"#3ff58a\",\"#42f687\",\"#46f783\",\"#4af880\",\"#4df97c\",\"#51f979\",\"#55fa76\",\"#59fb72\",\"#5dfb6f\",\"#61fc6c\",\"#65fc68\",\"#69fd65\",\"#6dfd62\",\"#71fd5f\",\"#74fe5c\",\"#78fe59\",\"#7cfe56\",\"#80fe53\",\"#84fe50\",\"#87fe4d\",\"#8bfe4b\",\"#8efe48\",\"#92fe46\",\"#95fe44\",\"#98fe42\",\"#9bfd40\",\"#9efd3e\",\"#a1fc3d\",\"#a4fc3b\",\"#a6fb3a\",\"#a9fb39\",\"#acfa37\",\"#aef937\",\"#b1f836\",\"#b3f835\",\"#b6f735\",\"#b9f534\",\"#bbf434\",\"#bef334\",\"#c0f233\",\"#c3f133\",\"#c5ef33\",\"#c8ee33\",\"#caed33\",\"#cdeb34\",\"#cfea34\",\"#d1e834\",\"#d4e735\",\"#d6e535\",\"#d8e335\",\"#dae236\",\"#dde036\",\"#dfde36\",\"#e1dc37\",\"#e3da37\",\"#e5d838\",\"#e7d738\",\"#e8d538\",\"#ead339\",\"#ecd139\",\"#edcf39\",\"#efcd39\",\"#f0cb3a\",\"#f2c83a\",\"#f3c63a\",\"#f4c43a\",\"#f6c23a\",\"#f7c039\",\"#f8be39\",\"#f9bc39\",\"#f9ba38\",\"#fab737\",\"#fbb537\",\"#fbb336\",\"#fcb035\",\"#fcae34\",\"#fdab33\",\"#fda932\",\"#fda631\",\"#fda330\",\"#fea12f\",\"#fe9e2e\",\"#fe9b2d\",\"#fe982c\",\"#fd952b\",\"#fd9229\",\"#fd8f28\",\"#fd8c27\",\"#fc8926\",\"#fc8624\",\"#fb8323\",\"#fb8022\",\"#fa7d20\",\"#fa7a1f\",\"#f9771e\",\"#f8741c\",\"#f7711b\",\"#f76e1a\",\"#f66b18\",\"#f56817\",\"#f46516\",\"#f36315\",\"#f26014\",\"#f15d13\",\"#ef5a11\",\"#ee5810\",\"#ed550f\",\"#ec520e\",\"#ea500d\",\"#e94d0d\",\"#e84b0c\",\"#e6490b\",\"#e5460a\",\"#e3440a\",\"#e24209\",\"#e04008\",\"#de3e08\",\"#dd3c07\",\"#db3a07\",\"#d93806\",\"#d73606\",\"#d63405\",\"#d43205\",\"#d23005\",\"#d02f04\",\"#ce2d04\",\"#cb2b03\",\"#c92903\",\"#c72803\",\"#c52602\",\"#c32402\",\"#c02302\",\"#be2102\",\"#bb1f01\",\"#b91e01\",\"#b61c01\",\"#b41b01\",\"#b11901\",\"#ae1801\",\"#ac1601\",\"#a91501\",\"#a61401\",\"#a31201\",\"#a01101\",\"#9d1001\",\"#9a0e01\",\"#970d01\",\"#940c01\",\"#910b01\",\"#8e0a01\",\"#8b0901\",\"#870801\",\"#840701\",\"#810602\",\"#7d0502\",\"#7a0402\"]},\"id\":\"1231\",\"type\":\"LinearColorMapper\"},{\"attributes\":{},\"id\":\"1295\",\"type\":\"AllLabels\"},{\"attributes\":{\"fill_alpha\":{\"value\":0.1},\"fill_color\":{\"field\":\"y\",\"transform\":{\"id\":\"1231\"}},\"hatch_alpha\":{\"value\":0.1},\"hatch_color\":{\"field\":\"y\",\"transform\":{\"id\":\"1231\"}},\"line_alpha\":{\"value\":0.1},\"line_color\":{\"field\":\"y\",\"transform\":{\"id\":\"1231\"}},\"size\":{\"value\":10},\"x\":{\"field\":\"x\"},\"y\":{\"field\":\"y\"}},\"id\":\"1265\",\"type\":\"Circle\"},{\"attributes\":{\"coordinates\":null,\"formatter\":{\"id\":\"1297\"},\"group\":null,\"major_label_policy\":{\"id\":\"1298\"},\"ticker\":{\"id\":\"1242\"}},\"id\":\"1241\",\"type\":\"LinearAxis\"},{\"attributes\":{},\"id\":\"1239\",\"type\":\"LinearScale\"},{\"attributes\":{\"coordinates\":null,\"formatter\":{\"id\":\"1294\"},\"group\":null,\"major_label_policy\":{\"id\":\"1295\"},\"ticker\":{\"id\":\"1246\"}},\"id\":\"1245\",\"type\":\"LinearAxis\"}],\"root_ids\":[\"1232\"]},\"title\":\"Bokeh Application\",\"version\":\"2.4.2\"}};\n",
       "  const render_items = [{\"docid\":\"11316df7-98c7-4d8c-8b67-ed90e26c873c\",\"root_ids\":[\"1232\"],\"roots\":{\"1232\":\"2898dfa9-732e-40ba-b3b2-77934d6c08cd\"}}];\n",
       "  root.Bokeh.embed.embed_items_notebook(docs_json, render_items);\n",
       "\n",
       "  }\n",
       "  if (root.Bokeh !== undefined) {\n",
       "    embed_document(root);\n",
       "  } else {\n",
       "    let attempts = 0;\n",
       "    const timer = setInterval(function(root) {\n",
       "      if (root.Bokeh !== undefined) {\n",
       "        clearInterval(timer);\n",
       "        embed_document(root);\n",
       "      } else {\n",
       "        attempts++;\n",
       "        if (attempts > 100) {\n",
       "          clearInterval(timer);\n",
       "          console.log(\"Bokeh: ERROR: Unable to run BokehJS code because BokehJS library is missing\");\n",
       "        }\n",
       "      }\n",
       "    }, 10, root)\n",
       "  }\n",
       "})(window);"
      ],
      "application/vnd.bokehjs_exec.v0+json": ""
     },
     "metadata": {
      "application/vnd.bokehjs_exec.v0+json": {
       "id": "1232"
      }
     },
     "output_type": "display_data"
    }
   ],
   "source": [
    "from bokeh.palettes import Turbo256\n",
    "from bokeh.transform import linear_cmap\n",
    "\n",
    "# generate data\n",
    "x = list(range(-32, 33))\n",
    "y = [i**2 for i in x]\n",
    "\n",
    "# create linear color mapper\n",
    "mapper = linear_cmap(field_name='y', palette=Turbo256, low=min(y), high=max(y))\n",
    "\n",
    "# create plot\n",
    "p = figure(plot_width=500, plot_height=250)\n",
    "\n",
    "# create circle renderer with color mapper\n",
    "p.circle(x, y, color=mapper, size=10)\n",
    "\n",
    "show(p)"
   ]
  },
  {
   "cell_type": "markdown",
   "metadata": {
    "id": "X-dosHAYH02M"
   },
   "source": [
    "> **See also**\n",
    "\n",
    "> For more information about color mapping and other similar operations, see [Using mappers](https://docs.bokeh.org/en/latest/docs/user_guide/styling.html#userguide-styling-using-mappers) and [Transforming data](https://docs.bokeh.org/en/latest/docs/user_guide/data.html#userguide-data-transforming) in the user guide. In addition to `linear_cmap`, this includes `log_cmap` and `factor_cmap`, for example\n",
    "\n",
    "> To learn more about Bokeh's color palettes, see [palettes](https://docs.bokeh.org/en/latest/docs/reference/palettes.html#module-bokeh.palettes) in the reference guide. This document contains an overview of all available palettes and the various ways you can make those palettes available to your plots"
   ]
  }
 ],
 "metadata": {
  "colab": {
   "authorship_tag": "ABX9TyPNtPMvjY0pcu9vXdzU8NzP",
   "collapsed_sections": [],
   "name": "bokeh_05_vectorizing_glyph_properties.ipynb",
   "provenance": []
  },
  "kernelspec": {
   "display_name": "Python 3 (ipykernel)",
   "language": "python",
   "name": "python3"
  },
  "language_info": {
   "codemirror_mode": {
    "name": "ipython",
    "version": 3
   },
   "file_extension": ".py",
   "mimetype": "text/x-python",
   "name": "python",
   "nbconvert_exporter": "python",
   "pygments_lexer": "ipython3",
   "version": "3.8.12"
  }
 },
 "nbformat": 4,
 "nbformat_minor": 1
}
