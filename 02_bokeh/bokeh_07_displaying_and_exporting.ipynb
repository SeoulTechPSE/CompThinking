{
 "cells": [
  {
   "cell_type": "markdown",
   "metadata": {
    "id": "rOeRzC7CSCMY"
   },
   "source": [
    "# 07: Displaying and Exporting\n",
    "\n",
    "In this section, you will use various methods to display and export your visualizations"
   ]
  },
  {
   "cell_type": "markdown",
   "metadata": {
    "id": "Y56yVlGZaBwa"
   },
   "source": [
    "## Creating a standalone HTML file\n",
    "The `output_file()` function saves your visualization to an HTML file. This HTML file contains all the necessary information to display your plot\n",
    "\n",
    "`output_file()` accepts various arguments. For example:\n",
    "\n",
    "* `filename`: the filename for the HTML file\n",
    "\n",
    "* `title`: the title for you document (to be used in the HTML's \\<title\\> tag)\n",
    "\n",
    "Bokeh creates the HTML file when you call the [show()](https://docs.bokeh.org/en/latest/docs/reference/io.html#bokeh.io.show) function.\n",
    "This function also automatically opens a web browser to display the HTML file\n",
    "\n",
    "If you want Bokeh to only generate the file but not open it in a web browser, use the [save()](https://docs.bokeh.org/en/latest/docs/reference/io.html#bokeh.io.save) function instead. You need to import the `save()` function before using it, just like you did for `show()`"
   ]
  },
  {
   "cell_type": "code",
   "execution_count": 1,
   "metadata": {
    "colab": {
     "base_uri": "https://localhost:8080/",
     "height": 35
    },
    "executionInfo": {
     "elapsed": 1228,
     "status": "ok",
     "timestamp": 1616947528883,
     "user": {
      "displayName": "류기윤",
      "photoUrl": "https://lh3.googleusercontent.com/a-/AOh14GgQ3YtFwUPyzjO8P1LCqbjF6RkNFAdXqzp9xLgvmA=s64",
      "userId": "14686264071241136597"
     },
     "user_tz": -540
    },
    "id": "PPPwyI-fRp4E",
    "outputId": "50df2c74-3df3-4566-ccdb-ad6422d04422"
   },
   "outputs": [
    {
     "data": {
      "text/plain": [
       "'/Users/kyyoo/Documents/notebooks/CompThinking/02_bokeh/bokeh_07_output_file.html'"
      ]
     },
     "execution_count": 1,
     "metadata": {},
     "output_type": "execute_result"
    }
   ],
   "source": [
    "from bokeh.plotting import figure, output_file, save\n",
    "\n",
    "# prepare some data\n",
    "x = [1, 2, 3, 4, 5]\n",
    "y = [4, 5, 5, 7, 2]\n",
    "\n",
    "# set output to static HTML file\n",
    "output_file(filename='bokeh_07_output_file.html', title='Static HTML file')\n",
    "\n",
    "# create a new plot with a specific size\n",
    "p = figure(sizing_mode='stretch_width', max_width=500, plot_height=250)\n",
    "\n",
    "# add a circle renderer\n",
    "circle = p.circle(x, y, fill_color='red', size=15)\n",
    "\n",
    "# save the results to a file\n",
    "save(p)"
   ]
  },
  {
   "cell_type": "code",
   "execution_count": 2,
   "metadata": {},
   "outputs": [
    {
     "data": {
      "text/html": [
       "\n",
       "\n",
       "\n",
       "\n",
       "<!DOCTYPE html>\n",
       "<html lang=\"en\">\n",
       "  \n",
       "  <head>\n",
       "    \n",
       "      <meta charset=\"utf-8\">\n",
       "      <title>Static HTML file</title>\n",
       "      \n",
       "      \n",
       "        \n",
       "          \n",
       "        \n",
       "        \n",
       "          \n",
       "        <script type=\"text/javascript\" src=\"https://cdn.bokeh.org/bokeh/release/bokeh-2.4.2.min.js\"></script>\n",
       "        <script type=\"text/javascript\">\n",
       "            Bokeh.set_log_level(\"info\");\n",
       "        </script>\n",
       "        \n",
       "      \n",
       "      \n",
       "    \n",
       "  </head>\n",
       "  \n",
       "  \n",
       "  <body>\n",
       "    \n",
       "      \n",
       "        \n",
       "          \n",
       "          \n",
       "            \n",
       "              <div class=\"bk-root\" id=\"15490788-c9ca-4336-8850-589557d6336e\" data-root-id=\"1002\"></div>\n",
       "            \n",
       "          \n",
       "        \n",
       "      \n",
       "      \n",
       "        <script type=\"application/json\" id=\"1182\">\n",
       "          {\"63e4cee0-60f8-48b3-b89a-f57301b07513\":{\"defs\":[],\"roots\":{\"references\":[{\"attributes\":{},\"id\":\"1005\",\"type\":\"DataRange1d\"},{\"attributes\":{},\"id\":\"1048\",\"type\":\"Selection\"},{\"attributes\":{},\"id\":\"1003\",\"type\":\"DataRange1d\"},{\"attributes\":{\"fill_alpha\":{\"value\":0.2},\"fill_color\":{\"value\":\"red\"},\"hatch_alpha\":{\"value\":0.2},\"line_alpha\":{\"value\":0.2},\"line_color\":{\"value\":\"#1f77b4\"},\"size\":{\"value\":15},\"x\":{\"field\":\"x\"},\"y\":{\"field\":\"y\"}},\"id\":\"1036\",\"type\":\"Circle\"},{\"attributes\":{\"fill_alpha\":{\"value\":0.1},\"fill_color\":{\"value\":\"red\"},\"hatch_alpha\":{\"value\":0.1},\"line_alpha\":{\"value\":0.1},\"line_color\":{\"value\":\"#1f77b4\"},\"size\":{\"value\":15},\"x\":{\"field\":\"x\"},\"y\":{\"field\":\"y\"}},\"id\":\"1035\",\"type\":\"Circle\"},{\"attributes\":{},\"id\":\"1009\",\"type\":\"LinearScale\"},{\"attributes\":{},\"id\":\"1024\",\"type\":\"HelpTool\"},{\"attributes\":{\"coordinates\":null,\"formatter\":{\"id\":\"1042\"},\"group\":null,\"major_label_policy\":{\"id\":\"1043\"},\"ticker\":{\"id\":\"1016\"}},\"id\":\"1015\",\"type\":\"LinearAxis\"},{\"attributes\":{\"data\":{\"x\":[1,2,3,4,5],\"y\":[4,5,5,7,2]},\"selected\":{\"id\":\"1048\"},\"selection_policy\":{\"id\":\"1047\"}},\"id\":\"1033\",\"type\":\"ColumnDataSource\"},{\"attributes\":{\"axis\":{\"id\":\"1015\"},\"coordinates\":null,\"dimension\":1,\"group\":null,\"ticker\":null},\"id\":\"1018\",\"type\":\"Grid\"},{\"attributes\":{\"tools\":[{\"id\":\"1019\"},{\"id\":\"1020\"},{\"id\":\"1021\"},{\"id\":\"1022\"},{\"id\":\"1023\"},{\"id\":\"1024\"}]},\"id\":\"1026\",\"type\":\"Toolbar\"},{\"attributes\":{},\"id\":\"1020\",\"type\":\"WheelZoomTool\"},{\"attributes\":{},\"id\":\"1007\",\"type\":\"LinearScale\"},{\"attributes\":{\"coordinates\":null,\"data_source\":{\"id\":\"1033\"},\"glyph\":{\"id\":\"1034\"},\"group\":null,\"hover_glyph\":null,\"muted_glyph\":{\"id\":\"1036\"},\"nonselection_glyph\":{\"id\":\"1035\"},\"view\":{\"id\":\"1038\"}},\"id\":\"1037\",\"type\":\"GlyphRenderer\"},{\"attributes\":{},\"id\":\"1019\",\"type\":\"PanTool\"},{\"attributes\":{\"source\":{\"id\":\"1033\"}},\"id\":\"1038\",\"type\":\"CDSView\"},{\"attributes\":{\"axis\":{\"id\":\"1011\"},\"coordinates\":null,\"group\":null,\"ticker\":null},\"id\":\"1014\",\"type\":\"Grid\"},{\"attributes\":{\"overlay\":{\"id\":\"1025\"}},\"id\":\"1021\",\"type\":\"BoxZoomTool\"},{\"attributes\":{\"coordinates\":null,\"formatter\":{\"id\":\"1045\"},\"group\":null,\"major_label_policy\":{\"id\":\"1046\"},\"ticker\":{\"id\":\"1012\"}},\"id\":\"1011\",\"type\":\"LinearAxis\"},{\"attributes\":{},\"id\":\"1022\",\"type\":\"SaveTool\"},{\"attributes\":{},\"id\":\"1042\",\"type\":\"BasicTickFormatter\"},{\"attributes\":{\"below\":[{\"id\":\"1011\"}],\"center\":[{\"id\":\"1014\"},{\"id\":\"1018\"}],\"height\":250,\"left\":[{\"id\":\"1015\"}],\"max_width\":500,\"renderers\":[{\"id\":\"1037\"}],\"sizing_mode\":\"stretch_width\",\"title\":{\"id\":\"1039\"},\"toolbar\":{\"id\":\"1026\"},\"x_range\":{\"id\":\"1003\"},\"x_scale\":{\"id\":\"1007\"},\"y_range\":{\"id\":\"1005\"},\"y_scale\":{\"id\":\"1009\"}},\"id\":\"1002\",\"subtype\":\"Figure\",\"type\":\"Plot\"},{\"attributes\":{},\"id\":\"1023\",\"type\":\"ResetTool\"},{\"attributes\":{},\"id\":\"1043\",\"type\":\"AllLabels\"},{\"attributes\":{},\"id\":\"1012\",\"type\":\"BasicTicker\"},{\"attributes\":{\"bottom_units\":\"screen\",\"coordinates\":null,\"fill_alpha\":0.5,\"fill_color\":\"lightgrey\",\"group\":null,\"left_units\":\"screen\",\"level\":\"overlay\",\"line_alpha\":1.0,\"line_color\":\"black\",\"line_dash\":[4,4],\"line_width\":2,\"right_units\":\"screen\",\"syncable\":false,\"top_units\":\"screen\"},\"id\":\"1025\",\"type\":\"BoxAnnotation\"},{\"attributes\":{},\"id\":\"1045\",\"type\":\"BasicTickFormatter\"},{\"attributes\":{},\"id\":\"1046\",\"type\":\"AllLabels\"},{\"attributes\":{\"fill_color\":{\"value\":\"red\"},\"line_color\":{\"value\":\"#1f77b4\"},\"size\":{\"value\":15},\"x\":{\"field\":\"x\"},\"y\":{\"field\":\"y\"}},\"id\":\"1034\",\"type\":\"Circle\"},{\"attributes\":{\"coordinates\":null,\"group\":null},\"id\":\"1039\",\"type\":\"Title\"},{\"attributes\":{},\"id\":\"1016\",\"type\":\"BasicTicker\"},{\"attributes\":{},\"id\":\"1047\",\"type\":\"UnionRenderers\"}],\"root_ids\":[\"1002\"]},\"title\":\"Bokeh Application\",\"version\":\"2.4.2\"}}\n",
       "        </script>\n",
       "        <script type=\"text/javascript\">\n",
       "          (function() {\n",
       "            const fn = function() {\n",
       "              Bokeh.safely(function() {\n",
       "                (function(root) {\n",
       "                  function embed_document(root) {\n",
       "                    \n",
       "                  const docs_json = document.getElementById('1182').textContent;\n",
       "                  const render_items = [{\"docid\":\"63e4cee0-60f8-48b3-b89a-f57301b07513\",\"root_ids\":[\"1002\"],\"roots\":{\"1002\":\"15490788-c9ca-4336-8850-589557d6336e\"}}];\n",
       "                  root.Bokeh.embed.embed_items(docs_json, render_items);\n",
       "                \n",
       "                  }\n",
       "                  if (root.Bokeh !== undefined) {\n",
       "                    embed_document(root);\n",
       "                  } else {\n",
       "                    let attempts = 0;\n",
       "                    const timer = setInterval(function(root) {\n",
       "                      if (root.Bokeh !== undefined) {\n",
       "                        clearInterval(timer);\n",
       "                        embed_document(root);\n",
       "                      } else {\n",
       "                        attempts++;\n",
       "                        if (attempts > 100) {\n",
       "                          clearInterval(timer);\n",
       "                          console.log(\"Bokeh: ERROR: Unable to run BokehJS code because BokehJS library is missing\");\n",
       "                        }\n",
       "                      }\n",
       "                    }, 10, root)\n",
       "                  }\n",
       "                })(window);\n",
       "              });\n",
       "            };\n",
       "            if (document.readyState != \"loading\") fn();\n",
       "            else document.addEventListener(\"DOMContentLoaded\", fn);\n",
       "          })();\n",
       "        </script>\n",
       "    \n",
       "  </body>\n",
       "  \n",
       "</html>"
      ],
      "text/plain": [
       "<IPython.core.display.HTML object>"
      ]
     },
     "metadata": {},
     "output_type": "display_data"
    }
   ],
   "source": [
    "from IPython.display import HTML\n",
    "\n",
    "display(HTML(filename='bokeh_07_output_file.html'))"
   ]
  },
  {
   "cell_type": "markdown",
   "metadata": {
    "id": "LH1qWaLXezBt"
   },
   "source": [
    "> **Note**\n",
    "\n",
    "> By default, Bokeh-generated HTML files include a standard version of BokehJS that is automatically downloaded from Bokeh's servers. Use the argument `mode` with the function `output_file()` to change this behavior. For more information, see [output_file](https://docs.bokeh.org/en/latest/docs/reference/io.html#bokeh.io.output_file) and [Resources](https://docs.bokeh.org/en/latest/docs/reference/resources.html#bokeh.resources.Resources) in the reference guide"
   ]
  },
  {
   "cell_type": "markdown",
   "metadata": {
    "id": "IWYvt2_afOUc"
   },
   "source": [
    "## Displaying in a Jupyter notebook\n",
    "If you use Jupyter notebooks, switch out Bokeh's [output_file()](https://docs.bokeh.org/en/latest/docs/reference/io.html#bokeh.io.output_file) for [output_notebook()](https://docs.bokeh.org/en/latest/docs/reference/io.html#bokeh.io.output_notebook).\n",
    "\n",
    "Use the [show()](https://docs.bokeh.org/en/latest/docs/reference/io.html#bokeh.io.show) function to display your visualization right inside your notebook:\n",
    "\n"
   ]
  },
  {
   "cell_type": "markdown",
   "metadata": {
    "id": "vGQNUgyTf42h"
   },
   "source": [
    "> **See also**\n",
    "\n",
    "> For more information on using Jupyter notebooks, see [Using with Jupyter](https://docs.bokeh.org/en/latest/docs/user_guide/jupyter.html#userguide-jupyter) in the user guide"
   ]
  },
  {
   "cell_type": "markdown",
   "metadata": {
    "id": "2odrZjekhYIS"
   },
   "source": [
    "## Exporting PNG files\n",
    "To export PNG or SVG files, you might need to install additional dependencies\n",
    "\n",
    "In order to create PNG and SVG files, Bokeh uses [Selenium](https://github.com/SeleniumHQ/selenium). Selenium allows Bokeh to run in a browser without a graphical user interface (GUI). Bokeh uses this browser to render the PNG or SVG files. In order for this to work, Selenium needs to be able to access either a Firefox browser (through a package called geckodriver) or a Chromium browser (through the chromedriver package)."
   ]
  },
  {
   "cell_type": "markdown",
   "metadata": {
    "id": "uyE6caiuh5my"
   },
   "source": [
    "Once the requirements are installed, you can use the [export_png()](https://docs.bokeh.org/en/latest/docs/reference/io.html#bokeh.io.export_png) function to export your plot into a PNG file:\n",
    "\n",
    "```python\n",
    "from bokeh.plotting import figure\n",
    "from bokeh.io import export_png\n",
    "\n",
    "# prepare some data\n",
    "x = [1, 2, 3, 4, 5]\n",
    "y = [4, 5, 5, 7, 2]\n",
    "\n",
    "# create a new plot with fixed dimensions\n",
    "p = figure(plot_width=350, plot_height=250)\n",
    "\n",
    "# add a circle renderer\n",
    "circle = p.circle(x, y, fill_color='red', size=15)\n",
    "\n",
    "# save the results to a file\n",
    "export_png(p, filename='plot.png')\n",
    "```\n",
    "\n"
   ]
  },
  {
   "cell_type": "markdown",
   "metadata": {
    "id": "ckz18zEvnDiq"
   },
   "source": [
    "> **See also**\n",
    "\n",
    "> For information on how to export PNG and SVG files, see [Exporting plots](https://docs.bokeh.org/en/latest/docs/user_guide/export.html#userguide-export) in the user guide"
   ]
  },
  {
   "cell_type": "code",
   "execution_count": 3,
   "metadata": {},
   "outputs": [],
   "source": [
    "import os\n",
    "\n",
    "os.remove('bokeh_07_output_file.html')"
   ]
  }
 ],
 "metadata": {
  "colab": {
   "authorship_tag": "ABX9TyMiT38SWJo6shqL1bfrZd4J",
   "collapsed_sections": [],
   "name": "bokeh_07_displaying_and_exporting.ipynb",
   "provenance": []
  },
  "kernelspec": {
   "display_name": "Python 3 (ipykernel)",
   "language": "python",
   "name": "python3"
  },
  "language_info": {
   "codemirror_mode": {
    "name": "ipython",
    "version": 3
   },
   "file_extension": ".py",
   "mimetype": "text/x-python",
   "name": "python",
   "nbconvert_exporter": "python",
   "pygments_lexer": "ipython3",
   "version": "3.8.12"
  }
 },
 "nbformat": 4,
 "nbformat_minor": 1
}
