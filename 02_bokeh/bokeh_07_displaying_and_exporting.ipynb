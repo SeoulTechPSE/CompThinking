{
 "cells": [
  {
   "cell_type": "markdown",
   "metadata": {
    "id": "rOeRzC7CSCMY"
   },
   "source": [
    "# 07: Displaying and Exporting\n",
    "\n",
    "In this section, you will use various methods to display and export your visualizations"
   ]
  },
  {
   "cell_type": "markdown",
   "metadata": {
    "id": "Y56yVlGZaBwa"
   },
   "source": [
    "## Creating a standalone HTML file\n",
    "The `output_file()` function saves your visualization to an HTML file. This HTML file contains all the necessary information to display your plot\n",
    "\n",
    "`output_file()` accepts various arguments. For example:\n",
    "\n",
    "* `filename`: the filename for the HTML file\n",
    "\n",
    "* `title`: the title for you document (to be used in the HTML's \\<title\\> tag)\n",
    "\n",
    "Bokeh creates the HTML file when you call the [show()](https://docs.bokeh.org/en/latest/docs/reference/io.html#bokeh.io.show) function.\n",
    "This function also automatically opens a web browser to display the HTML file\n",
    "\n",
    "If you want Bokeh to only generate the file but not open it in a web browser, use the [save()](https://docs.bokeh.org/en/latest/docs/reference/io.html#bokeh.io.save) function instead. You need to import the `save()` function before using it, just like you did for `show()`"
   ]
  },
  {
   "cell_type": "code",
   "execution_count": 1,
   "metadata": {
    "colab": {
     "base_uri": "https://localhost:8080/",
     "height": 35
    },
    "executionInfo": {
     "elapsed": 1228,
     "status": "ok",
     "timestamp": 1616947528883,
     "user": {
      "displayName": "류기윤",
      "photoUrl": "https://lh3.googleusercontent.com/a-/AOh14GgQ3YtFwUPyzjO8P1LCqbjF6RkNFAdXqzp9xLgvmA=s64",
      "userId": "14686264071241136597"
     },
     "user_tz": -540
    },
    "id": "PPPwyI-fRp4E",
    "outputId": "50df2c74-3df3-4566-ccdb-ad6422d04422"
   },
   "outputs": [
    {
     "data": {
      "text/plain": [
       "'/Users/kyyoo/Documents/notebooks/CompThinking/02_bokeh/bokeh_07_output_file.html'"
      ]
     },
     "execution_count": 1,
     "metadata": {},
     "output_type": "execute_result"
    }
   ],
   "source": [
    "from bokeh.plotting import figure, output_file, save\n",
    "\n",
    "# prepare some data\n",
    "x = [1, 2, 3, 4, 5]\n",
    "y = [4, 5, 5, 7, 2]\n",
    "\n",
    "# set output to static HTML file\n",
    "output_file(filename='bokeh_07_output_file.html', title='Static HTML file')\n",
    "\n",
    "# create a new plot with a specific size\n",
    "p = figure(sizing_mode='stretch_width', max_width=500, plot_height=250)\n",
    "\n",
    "# add a circle renderer\n",
    "circle = p.circle(x, y, fill_color='red', size=15)\n",
    "\n",
    "# save the results to a file\n",
    "save(p)"
   ]
  },
  {
   "cell_type": "markdown",
   "metadata": {
    "id": "LH1qWaLXezBt"
   },
   "source": [
    "> **Note**\n",
    "\n",
    "> By default, Bokeh-generated HTML files include a standard version of BokehJS that is automatically downloaded from Bokeh's servers. Use the argument `mode` with the function `output_file()` to change this behavior. For more information, see [output_file](https://docs.bokeh.org/en/latest/docs/reference/io.html#bokeh.io.output_file) and [Resources](https://docs.bokeh.org/en/latest/docs/reference/resources.html#bokeh.resources.Resources) in the reference guide"
   ]
  },
  {
   "cell_type": "markdown",
   "metadata": {
    "id": "IWYvt2_afOUc"
   },
   "source": [
    "## Displaying in a Jupyter notebook\n",
    "If you use Jupyter notebooks, switch out Bokeh's [output_file()](https://docs.bokeh.org/en/latest/docs/reference/io.html#bokeh.io.output_file) for [output_notebook()](https://docs.bokeh.org/en/latest/docs/reference/io.html#bokeh.io.output_notebook).\n",
    "\n",
    "Use the [show()](https://docs.bokeh.org/en/latest/docs/reference/io.html#bokeh.io.show) function to display your visualization right inside your notebook:\n",
    "\n"
   ]
  },
  {
   "cell_type": "markdown",
   "metadata": {
    "id": "vGQNUgyTf42h"
   },
   "source": [
    "> **See also**\n",
    "\n",
    "> For more information on using Jupyter notebooks, see [Using with Jupyter](https://docs.bokeh.org/en/latest/docs/user_guide/jupyter.html#userguide-jupyter) in the user guide"
   ]
  },
  {
   "cell_type": "markdown",
   "metadata": {
    "id": "2odrZjekhYIS"
   },
   "source": [
    "## Exporting PNG files\n",
    "To export PNG or SVG files, you might need to install additional dependencies\n",
    "\n",
    "In order to create PNG and SVG files, Bokeh uses [Selenium](https://github.com/SeleniumHQ/selenium). Selenium allows Bokeh to run in a browser without a graphical user interface (GUI). Bokeh uses this browser to render the PNG or SVG files. In order for this to work, Selenium needs to be able to access either a Firefox browser (through a package called geckodriver) or a Chromium browser (through the chromedriver package)."
   ]
  },
  {
   "cell_type": "markdown",
   "metadata": {
    "id": "uyE6caiuh5my"
   },
   "source": [
    "Once the requirements are installed, you can use the [export_png()](https://docs.bokeh.org/en/latest/docs/reference/io.html#bokeh.io.export_png) function to export your plot into a PNG file:\n",
    "\n",
    "```python\n",
    "from bokeh.plotting import figure\n",
    "from bokeh.io import export_png\n",
    "\n",
    "# prepare some data\n",
    "x = [1, 2, 3, 4, 5]\n",
    "y = [4, 5, 5, 7, 2]\n",
    "\n",
    "# create a new plot with fixed dimensions\n",
    "p = figure(plot_width=350, plot_height=250)\n",
    "\n",
    "# add a circle renderer\n",
    "circle = p.circle(x, y, fill_color='red', size=15)\n",
    "\n",
    "# save the results to a file\n",
    "export_png(p, filename='plot.png')\n",
    "```\n",
    "\n"
   ]
  },
  {
   "cell_type": "markdown",
   "metadata": {
    "id": "ckz18zEvnDiq"
   },
   "source": [
    "> **See also**\n",
    "\n",
    "> For information on how to export PNG and SVG files, see [Exporting plots](https://docs.bokeh.org/en/latest/docs/user_guide/export.html#userguide-export) in the user guide"
   ]
  },
  {
   "cell_type": "code",
   "execution_count": 2,
   "metadata": {},
   "outputs": [],
   "source": [
    "import os\n",
    "\n",
    "os.remove('bokeh_07_output_file.html')"
   ]
  }
 ],
 "metadata": {
  "colab": {
   "authorship_tag": "ABX9TyMiT38SWJo6shqL1bfrZd4J",
   "collapsed_sections": [],
   "name": "bokeh_07_displaying_and_exporting.ipynb",
   "provenance": []
  },
  "kernelspec": {
   "display_name": "Python 3 (ipykernel)",
   "language": "python",
   "name": "python3"
  },
  "language_info": {
   "codemirror_mode": {
    "name": "ipython",
    "version": 3
   },
   "file_extension": ".py",
   "mimetype": "text/x-python",
   "name": "python",
   "nbconvert_exporter": "python",
   "pygments_lexer": "ipython3",
   "version": "3.8.12"
  }
 },
 "nbformat": 4,
 "nbformat_minor": 1
}
