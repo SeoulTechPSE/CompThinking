{
 "cells": [
  {
   "cell_type": "markdown",
   "metadata": {},
   "source": [
    "[![Open In Colab](https://colab.research.google.com/assets/colab-badge.svg)](https://colab.research.google.com/github/SeoulTechPSE/CompThinking/blob/master/exams/2022_CompThinking_Final.ipynb)"
   ]
  },
  {
   "cell_type": "markdown",
   "metadata": {},
   "source": [
    "# 2022 Computational Thinking Final Exam.\n",
    "\n",
    "June 2, 2022"
   ]
  },
  {
   "cell_type": "markdown",
   "metadata": {},
   "source": [
    "1. What are the most popular programming languages in 2022? $~$To answer this question, $~$we will use the May 2022 update of the TIOBE index:\n",
    "\n",
    "![2022_May_TIOBE](https://raw.githubusercontent.com/SeoulTechPSE/CompThinking/main/exams/figs/2022_May_TIOBE.png)\n",
    "\n",
    "$~$Write a Python programming to create a pie chart a title of **The most popular programming languages in 2022**\n",
    "\n",
    "\n",
    "> The code snippet gives the output shown in the following screenshot:\n",
    "\n",
    "![2022_final_1](https://raw.githubusercontent.com/SeoulTechPSE/CompThinking/main/exams/figs/2022_Final_1.png)"
   ]
  },
  {
   "cell_type": "code",
   "execution_count": null,
   "metadata": {},
   "outputs": [],
   "source": [
    "# 1번 문제 코드 (코드 실행에 필요한 import 문을 포함하여 작성하시오)\n"
   ]
  },
  {
   "cell_type": "markdown",
   "metadata": {},
   "source": [
    "#### 2. 다음 `DataFrame`은 지역별 과일 매출을 나타냅니다:\n",
    "\n",
    "![2022_Final_2](https://raw.githubusercontent.com/SeoulTechPSE/CompThinking/main/exams/figs/2022_Final_2.png)\n",
    "\n",
    "#### 위와 같은 `DataFrame`을 만들고 또한 `pivot_table` 함수를 사용하여 아래와 같은 피벗 테이블과  `heatmap`을 만드는 코드를 작성하시오.\n",
    "\n",
    "![2022_Final_3](https://raw.githubusercontent.com/SeoulTechPSE/CompThinking/main/exams/figs/2022_Final_3.png)\n",
    "\n",
    "![2022_Final_4](https://raw.githubusercontent.com/SeoulTechPSE/CompThinking/main/exams/figs/2022_Final_4.png)"
   ]
  },
  {
   "cell_type": "code",
   "execution_count": null,
   "metadata": {},
   "outputs": [],
   "source": [
    "# 2번 문제: DataFrame을 만드는 코드\n"
   ]
  },
  {
   "cell_type": "code",
   "execution_count": null,
   "metadata": {},
   "outputs": [],
   "source": [
    "# 2번 문제: 피벗 테이블을 만드는 코드\n"
   ]
  },
  {
   "cell_type": "code",
   "execution_count": null,
   "metadata": {},
   "outputs": [],
   "source": [
    "# 2번 문제: 히트맵을 그리는 코드\n"
   ]
  }
 ],
 "metadata": {
  "kernelspec": {
   "display_name": "Python 3 (ipykernel)",
   "language": "python",
   "name": "python3"
  },
  "language_info": {
   "codemirror_mode": {
    "name": "ipython",
    "version": 3
   },
   "file_extension": ".py",
   "mimetype": "text/x-python",
   "name": "python",
   "nbconvert_exporter": "python",
   "pygments_lexer": "ipython3",
   "version": "3.8.12"
  }
 },
 "nbformat": 4,
 "nbformat_minor": 4
}
