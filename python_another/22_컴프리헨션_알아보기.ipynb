{
 "cells": [
  {
   "cell_type": "markdown",
   "id": "7164e059",
   "metadata": {},
   "source": [
    "# 22 장. 컴프리헨션 알아보기"
   ]
  },
  {
   "cell_type": "markdown",
   "id": "3b64aa0e",
   "metadata": {},
   "source": [
    "## 22.1. 리스트 컴프리헨션(list comprehension)"
   ]
  },
  {
   "cell_type": "code",
   "execution_count": null,
   "id": "787932f9",
   "metadata": {},
   "outputs": [],
   "source": [
    "ll = [1, 2, 3, 4, 5]"
   ]
  },
  {
   "cell_type": "code",
   "execution_count": null,
   "id": "f32fee91",
   "metadata": {},
   "outputs": [],
   "source": [
    "m = map(lambda x: x*x, ll)"
   ]
  },
  {
   "cell_type": "code",
   "execution_count": null,
   "id": "fbd3f0d4",
   "metadata": {},
   "outputs": [],
   "source": [
    "print(type(m))"
   ]
  },
  {
   "cell_type": "code",
   "execution_count": null,
   "id": "b943a461",
   "metadata": {},
   "outputs": [],
   "source": [
    "[*m]"
   ]
  },
  {
   "cell_type": "code",
   "execution_count": null,
   "id": "2f72bd98",
   "metadata": {},
   "outputs": [],
   "source": [
    "lh = [x*x for x in ll]"
   ]
  },
  {
   "cell_type": "code",
   "execution_count": null,
   "id": "4d66abf1",
   "metadata": {},
   "outputs": [],
   "source": [
    "lh"
   ]
  },
  {
   "cell_type": "markdown",
   "id": "4e53e4c4",
   "metadata": {},
   "source": [
    "---"
   ]
  },
  {
   "cell_type": "code",
   "execution_count": null,
   "id": "070f616b",
   "metadata": {},
   "outputs": [],
   "source": [
    "f = filter(lambda x: x % 2 == 0, lh)"
   ]
  },
  {
   "cell_type": "code",
   "execution_count": null,
   "id": "486fe295",
   "metadata": {},
   "outputs": [],
   "source": [
    "print(type(f))"
   ]
  },
  {
   "cell_type": "code",
   "execution_count": null,
   "id": "0d3dbc2e",
   "metadata": {},
   "outputs": [],
   "source": [
    "[*f]"
   ]
  },
  {
   "cell_type": "code",
   "execution_count": null,
   "id": "fa42bebb",
   "metadata": {},
   "outputs": [],
   "source": [
    "lh1 = [x*x for x in ll if x % 2 == 0]"
   ]
  },
  {
   "cell_type": "code",
   "execution_count": null,
   "id": "809bf0e8",
   "metadata": {},
   "outputs": [],
   "source": [
    "lh1"
   ]
  },
  {
   "cell_type": "markdown",
   "id": "a113c428",
   "metadata": {},
   "source": [
    "## 22.2. 딕셔너리(dict)와 집합(set) 컴프리헨션"
   ]
  },
  {
   "cell_type": "code",
   "execution_count": null,
   "id": "5f61d7c6",
   "metadata": {},
   "outputs": [],
   "source": [
    "s = {1, 2, 3, 4, 5}"
   ]
  },
  {
   "cell_type": "code",
   "execution_count": null,
   "id": "c4083ec1",
   "metadata": {},
   "outputs": [],
   "source": [
    "m = map(lambda x: x*x, s)"
   ]
  },
  {
   "cell_type": "code",
   "execution_count": null,
   "id": "be34ae36",
   "metadata": {},
   "outputs": [],
   "source": [
    "set(m)"
   ]
  },
  {
   "cell_type": "code",
   "execution_count": null,
   "id": "63a11cc8",
   "metadata": {},
   "outputs": [],
   "source": [
    "ll = [('a', 1), ('b', 2)]"
   ]
  },
  {
   "cell_type": "code",
   "execution_count": null,
   "id": "142f7394",
   "metadata": {},
   "outputs": [],
   "source": [
    "def t(x):\n",
    "    return x[0], x[1]*x[1]"
   ]
  },
  {
   "cell_type": "code",
   "execution_count": null,
   "id": "2bad2ee0",
   "metadata": {},
   "outputs": [],
   "source": [
    "d = map(lambda x: t(x), ll)"
   ]
  },
  {
   "cell_type": "code",
   "execution_count": null,
   "id": "4be6cab2",
   "metadata": {},
   "outputs": [],
   "source": [
    "dict(d)"
   ]
  },
  {
   "cell_type": "code",
   "execution_count": null,
   "id": "2eaf2237",
   "metadata": {},
   "outputs": [],
   "source": [
    "{x: y*y for x, y in ll}"
   ]
  },
  {
   "cell_type": "markdown",
   "id": "ff583de9",
   "metadata": {},
   "source": [
    "## 22.3. 컴프리헨션 처리할 때 주의할 점"
   ]
  },
  {
   "cell_type": "code",
   "execution_count": null,
   "id": "18256f4a",
   "metadata": {},
   "outputs": [],
   "source": [
    "ll = [x for x in range(10)]"
   ]
  },
  {
   "cell_type": "code",
   "execution_count": null,
   "id": "bf1b0250",
   "metadata": {},
   "outputs": [],
   "source": [
    "ll"
   ]
  },
  {
   "cell_type": "code",
   "execution_count": null,
   "id": "6f434d76",
   "metadata": {},
   "outputs": [],
   "source": [
    "x"
   ]
  },
  {
   "cell_type": "code",
   "execution_count": null,
   "id": "c123ee22",
   "metadata": {},
   "outputs": [],
   "source": [
    "lll = [locals() for x in range(10)]"
   ]
  },
  {
   "cell_type": "code",
   "execution_count": null,
   "id": "5d4759cb",
   "metadata": {},
   "outputs": [],
   "source": [
    "lll"
   ]
  },
  {
   "cell_type": "code",
   "execution_count": null,
   "id": "1a9a729e",
   "metadata": {},
   "outputs": [],
   "source": [
    "def power(x):\n",
    "    return x*x"
   ]
  },
  {
   "cell_type": "code",
   "execution_count": null,
   "id": "e1a2810a",
   "metadata": {},
   "outputs": [],
   "source": [
    "l = [power for x in range(3)]"
   ]
  },
  {
   "cell_type": "code",
   "execution_count": null,
   "id": "40607a09",
   "metadata": {},
   "outputs": [],
   "source": [
    "l"
   ]
  },
  {
   "cell_type": "code",
   "execution_count": null,
   "id": "278e091e",
   "metadata": {},
   "outputs": [],
   "source": [
    "l[0](3)"
   ]
  },
  {
   "cell_type": "code",
   "execution_count": null,
   "id": "d4871c4e",
   "metadata": {},
   "outputs": [],
   "source": [
    "ll = [power(x) for x in range(3)]"
   ]
  },
  {
   "cell_type": "code",
   "execution_count": null,
   "id": "ecb75a89",
   "metadata": {},
   "outputs": [],
   "source": [
    "ll"
   ]
  },
  {
   "cell_type": "markdown",
   "id": "74fa9f31",
   "metadata": {},
   "source": [
    "## 22.4. 동적으로 반복자 처리하기"
   ]
  },
  {
   "cell_type": "code",
   "execution_count": null,
   "id": "b3b44d9a",
   "metadata": {},
   "outputs": [],
   "source": [
    "class Iterator:\n",
    "    \n",
    "    def __init__(self, iterable):\n",
    "        self.iterable = iterable\n",
    "        \n",
    "    def __iter__(self):\n",
    "        return self\n",
    "    \n",
    "    def __next__(self):\n",
    "        if not self.iterable:\n",
    "            raise StopIteration('데이터가 없습니다.')\n",
    "        return self.iterable.pop(0)"
   ]
  },
  {
   "cell_type": "code",
   "execution_count": null,
   "id": "616fa101",
   "metadata": {},
   "outputs": [],
   "source": [
    "it = Iterator([1, 2, 3, 4])"
   ]
  },
  {
   "cell_type": "code",
   "execution_count": null,
   "id": "f208fc35",
   "metadata": {},
   "outputs": [],
   "source": [
    "it.iterable"
   ]
  },
  {
   "cell_type": "code",
   "execution_count": null,
   "id": "b8b5e3c6",
   "metadata": {},
   "outputs": [],
   "source": [
    "next(it), next(it), next(it), next(it)"
   ]
  },
  {
   "cell_type": "code",
   "execution_count": null,
   "id": "cb122b5e",
   "metadata": {},
   "outputs": [],
   "source": [
    "next(it)"
   ]
  },
  {
   "cell_type": "code",
   "execution_count": null,
   "id": "05b4b49e",
   "metadata": {},
   "outputs": [],
   "source": [
    "it1 = Iterator([1, 2, 3, 4, 5])"
   ]
  },
  {
   "cell_type": "code",
   "execution_count": null,
   "id": "1cf776ce",
   "metadata": {},
   "outputs": [],
   "source": [
    "for i in it1:\n",
    "    print(i)"
   ]
  },
  {
   "cell_type": "code",
   "execution_count": null,
   "id": "c4dddbdb",
   "metadata": {},
   "outputs": [],
   "source": [
    "g = (x for x in range(1, 5))"
   ]
  },
  {
   "cell_type": "code",
   "execution_count": null,
   "id": "3816b1b2",
   "metadata": {},
   "outputs": [],
   "source": [
    "g"
   ]
  },
  {
   "cell_type": "code",
   "execution_count": null,
   "id": "1955129a",
   "metadata": {},
   "outputs": [],
   "source": [
    "l = [x for x in range(1, 5)]"
   ]
  },
  {
   "cell_type": "code",
   "execution_count": null,
   "id": "cbaa385e",
   "metadata": {},
   "outputs": [],
   "source": [
    "l"
   ]
  },
  {
   "cell_type": "code",
   "execution_count": null,
   "id": "45f35715",
   "metadata": {},
   "outputs": [],
   "source": [
    "for i in g:\n",
    "    print(i)"
   ]
  },
  {
   "cell_type": "code",
   "execution_count": null,
   "id": "d9a07ef5",
   "metadata": {},
   "outputs": [],
   "source": [
    "for i in g:\n",
    "    print(i)"
   ]
  }
 ],
 "metadata": {
  "kernelspec": {
   "display_name": "Python 3 (ipykernel)",
   "language": "python",
   "name": "python3"
  },
  "language_info": {
   "codemirror_mode": {
    "name": "ipython",
    "version": 3
   },
   "file_extension": ".py",
   "mimetype": "text/x-python",
   "name": "python",
   "nbconvert_exporter": "python",
   "pygments_lexer": "ipython3",
   "version": "3.8.12"
  }
 },
 "nbformat": 4,
 "nbformat_minor": 5
}
