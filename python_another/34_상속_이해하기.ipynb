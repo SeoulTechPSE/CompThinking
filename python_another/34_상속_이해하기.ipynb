{
 "cells": [
  {
   "cell_type": "markdown",
   "id": "3b533778",
   "metadata": {},
   "source": [
    "# 34 장. 상속 이해하기"
   ]
  },
  {
   "cell_type": "markdown",
   "id": "d138dfaf",
   "metadata": {},
   "source": [
    "## 34.1. 단일 상속, 다중 상속 이해하기"
   ]
  },
  {
   "cell_type": "code",
   "execution_count": null,
   "id": "b41ca9b8",
   "metadata": {},
   "outputs": [],
   "source": [
    "class Polycon:\n",
    "    \n",
    "    def __init__(self, no_of_sides):\n",
    "        self.n = no_of_sides\n",
    "        self.x_sides =[0 for i in range(no_of_sides)]\n",
    "        self.y_sides =[0 for i in range(no_of_sides)]        \n",
    "        \n",
    "    def input_x_sides(self):\n",
    "        self.x_sides =[float(input('x 좌표를 입력하세요 ' + str(i + 1) + ': ')) for i in range(self.n)]\n",
    "                             \n",
    "    def input_y_sides(self):\n",
    "        self.y_sides =[float(input('y 좌표를 입력하세요 ' + str(i + 1) + ': ')) for i in range(self.n)]    \n",
    "                             \n",
    "    def disp_sides(self):\n",
    "        for i in range(self.n):\n",
    "            print(f'{i + 1} 번째 좌표는 ({self.x_sides[i]}, {self.y_sides[i]})')           \n",
    "            \n",
    "    def polygon_area(self):\n",
    "        x = self.x_sides\n",
    "        y = self.y_sides\n",
    "        \n",
    "        area = 0\n",
    "        j = self.n - 1\n",
    "        for i in range(self.n):\n",
    "            area += (x[j] + x[i]) * (y[j] - y[i])\n",
    "            j = i\n",
    "        return abs(area / 2)"
   ]
  },
  {
   "cell_type": "code",
   "execution_count": null,
   "id": "267a3318",
   "metadata": {},
   "outputs": [],
   "source": [
    "class Triangle(Polycon):\n",
    "    def __init__(self, no_of_sides):\n",
    "        if no_of_sides == 3:\n",
    "            super().__init__(no_of_sides)\n",
    "        else:\n",
    "            raise TypeError('변의 길이가 다릅니다.')"
   ]
  },
  {
   "cell_type": "code",
   "execution_count": null,
   "id": "9fa28941",
   "metadata": {},
   "outputs": [],
   "source": [
    "t = Triangle(3)"
   ]
  },
  {
   "cell_type": "code",
   "execution_count": null,
   "id": "7dada4f4",
   "metadata": {},
   "outputs": [],
   "source": [
    "t.input_x_sides()"
   ]
  },
  {
   "cell_type": "code",
   "execution_count": null,
   "id": "bd782c26",
   "metadata": {},
   "outputs": [],
   "source": [
    "t.input_y_sides()"
   ]
  },
  {
   "cell_type": "code",
   "execution_count": null,
   "id": "71f8b7af",
   "metadata": {},
   "outputs": [],
   "source": [
    "t.polygon_area()"
   ]
  },
  {
   "cell_type": "code",
   "execution_count": null,
   "id": "fb68f812",
   "metadata": {},
   "outputs": [],
   "source": [
    "t.disp_sides()"
   ]
  },
  {
   "cell_type": "code",
   "execution_count": null,
   "id": "10786a80",
   "metadata": {},
   "outputs": [],
   "source": [
    "class Rectangle(Polycon):\n",
    "    def __init__(self, no_of_sides):\n",
    "        if no_of_sides == 4:\n",
    "            super().__init__(no_of_sides)\n",
    "        else:\n",
    "            raise TypeError('변의 길이가 다릅니다.')"
   ]
  },
  {
   "cell_type": "code",
   "execution_count": null,
   "id": "057c4047",
   "metadata": {},
   "outputs": [],
   "source": [
    "r = Rectangle(4)"
   ]
  },
  {
   "cell_type": "code",
   "execution_count": null,
   "id": "feee1480",
   "metadata": {},
   "outputs": [],
   "source": [
    "r.input_x_sides()"
   ]
  },
  {
   "cell_type": "code",
   "execution_count": null,
   "id": "10faf964",
   "metadata": {},
   "outputs": [],
   "source": [
    "r.input_y_sides()"
   ]
  },
  {
   "cell_type": "code",
   "execution_count": null,
   "id": "81dccdcf",
   "metadata": {},
   "outputs": [],
   "source": [
    "r.polygon_area()"
   ]
  },
  {
   "cell_type": "code",
   "execution_count": null,
   "id": "93294516",
   "metadata": {},
   "outputs": [],
   "source": [
    "r.disp_sides()"
   ]
  },
  {
   "cell_type": "markdown",
   "id": "0e140dd5",
   "metadata": {},
   "source": [
    "---"
   ]
  },
  {
   "cell_type": "code",
   "execution_count": null,
   "id": "43d7acfe",
   "metadata": {},
   "outputs": [],
   "source": [
    "class Person(object):\n",
    "    \n",
    "    def __init__(self, name, age, nation):\n",
    "        print('Person 초기화 사용')\n",
    "        self.name = name\n",
    "        self.age = age\n",
    "        self.nation = nation\n",
    "        \n",
    "    def say(self, message):\n",
    "        return message"
   ]
  },
  {
   "cell_type": "code",
   "execution_count": null,
   "id": "b7a107a5",
   "metadata": {},
   "outputs": [],
   "source": [
    "class GrandFather(Person):\n",
    "    pass\n",
    "\n",
    "class GrandMother(Person):\n",
    "    pass\n",
    "\n",
    "class Father(GrandFather, GrandMother):\n",
    "    pass"
   ]
  },
  {
   "cell_type": "code",
   "execution_count": null,
   "id": "c1ccdf31",
   "metadata": {},
   "outputs": [],
   "source": [
    "Father.__bases__"
   ]
  },
  {
   "cell_type": "code",
   "execution_count": null,
   "id": "65ad0cd8",
   "metadata": {},
   "outputs": [],
   "source": [
    "Father.mro()"
   ]
  },
  {
   "cell_type": "code",
   "execution_count": null,
   "id": "be392061",
   "metadata": {},
   "outputs": [],
   "source": [
    "f = Father('Yoo', 35, 'Korea')"
   ]
  },
  {
   "cell_type": "code",
   "execution_count": null,
   "id": "3d7c394b",
   "metadata": {},
   "outputs": [],
   "source": [
    "f.__dict__"
   ]
  },
  {
   "cell_type": "code",
   "execution_count": null,
   "id": "df372719",
   "metadata": {},
   "outputs": [],
   "source": [
    "class GrandFather_(Person):\n",
    "    pass\n",
    "\n",
    "class GrandMother_(Person):\n",
    "    pass\n",
    "\n",
    "class Mother(GrandFather_, GrandMother_):\n",
    "    pass"
   ]
  },
  {
   "cell_type": "code",
   "execution_count": null,
   "id": "18313f91",
   "metadata": {},
   "outputs": [],
   "source": [
    "Mother.__bases__"
   ]
  },
  {
   "cell_type": "code",
   "execution_count": null,
   "id": "05443038",
   "metadata": {},
   "outputs": [],
   "source": [
    "Mother.mro()"
   ]
  },
  {
   "cell_type": "code",
   "execution_count": null,
   "id": "d7e40f9b",
   "metadata": {},
   "outputs": [],
   "source": [
    "class Son(Father, Mother):\n",
    "    pass"
   ]
  },
  {
   "cell_type": "code",
   "execution_count": null,
   "id": "a480ef5f",
   "metadata": {},
   "outputs": [],
   "source": [
    "Son.__bases__"
   ]
  },
  {
   "cell_type": "code",
   "execution_count": null,
   "id": "86d5f97d",
   "metadata": {},
   "outputs": [],
   "source": [
    "Son.mro()"
   ]
  },
  {
   "cell_type": "code",
   "execution_count": null,
   "id": "290bb1d2",
   "metadata": {},
   "outputs": [],
   "source": [
    "s = Son('John', 11, 'Canada')"
   ]
  },
  {
   "cell_type": "code",
   "execution_count": null,
   "id": "63353cc1",
   "metadata": {},
   "outputs": [],
   "source": [
    "s.say('Canada')"
   ]
  },
  {
   "cell_type": "markdown",
   "id": "0bf20342",
   "metadata": {},
   "source": [
    "## 34.2. 수퍼 클래스(super) 이해하기"
   ]
  },
  {
   "cell_type": "code",
   "execution_count": null,
   "id": "c96f6e17",
   "metadata": {},
   "outputs": [],
   "source": [
    "print(super)"
   ]
  },
  {
   "cell_type": "code",
   "execution_count": null,
   "id": "a9b9b9ca",
   "metadata": {},
   "outputs": [],
   "source": [
    "isinstance(super, type)"
   ]
  },
  {
   "cell_type": "code",
   "execution_count": null,
   "id": "e71a2929",
   "metadata": {},
   "outputs": [],
   "source": [
    "class Animal:\n",
    "    def say(self):\n",
    "        print('Animal 호출')\n",
    "        return self._say\n",
    "    \n",
    "class Species:\n",
    "    def say(self):\n",
    "        print('Species 호출')\n",
    "        return self._say"
   ]
  },
  {
   "cell_type": "code",
   "execution_count": null,
   "id": "8e2f1cbd",
   "metadata": {},
   "outputs": [],
   "source": [
    "class Dog(Animal, Species):\n",
    "    def __init__(self, bark):\n",
    "        self._say = bark\n",
    "    def say(self):\n",
    "        return super().say()\n",
    "    \n",
    "class Bird(Species, Animal):\n",
    "    def __init__(self, sing):\n",
    "        self._say = sing\n",
    "    def say(self):\n",
    "        return super().say()    "
   ]
  },
  {
   "cell_type": "code",
   "execution_count": null,
   "id": "86bd5c96",
   "metadata": {},
   "outputs": [],
   "source": [
    "d = Dog('멍멍멍')\n",
    "d.say()"
   ]
  },
  {
   "cell_type": "code",
   "execution_count": null,
   "id": "2a59c25e",
   "metadata": {},
   "outputs": [],
   "source": [
    "s = Bird('짹짹짹')\n",
    "s.say()"
   ]
  },
  {
   "cell_type": "code",
   "execution_count": null,
   "id": "1951bd07",
   "metadata": {},
   "outputs": [],
   "source": [
    "super(Dog, d)"
   ]
  },
  {
   "cell_type": "code",
   "execution_count": null,
   "id": "33008d58",
   "metadata": {},
   "outputs": [],
   "source": [
    "Dog.mro()"
   ]
  },
  {
   "cell_type": "code",
   "execution_count": null,
   "id": "ac153ec8",
   "metadata": {},
   "outputs": [],
   "source": [
    "Animal.say(d)"
   ]
  },
  {
   "cell_type": "code",
   "execution_count": null,
   "id": "f2d4c2b9",
   "metadata": {},
   "outputs": [],
   "source": [
    "super(Bird, s)"
   ]
  },
  {
   "cell_type": "code",
   "execution_count": null,
   "id": "0925eb24",
   "metadata": {},
   "outputs": [],
   "source": [
    "Bird.mro()"
   ]
  },
  {
   "cell_type": "code",
   "execution_count": null,
   "id": "1ca2f094",
   "metadata": {},
   "outputs": [],
   "source": [
    "Species.say(s)"
   ]
  },
  {
   "cell_type": "markdown",
   "id": "056a6fc7",
   "metadata": {},
   "source": [
    "## 34.3. 믹스인(mixin) 처리 이해하기"
   ]
  },
  {
   "cell_type": "code",
   "execution_count": null,
   "id": "75c1aa3a",
   "metadata": {},
   "outputs": [],
   "source": [
    "class SayMixin:\n",
    "    def say(self):\n",
    "        print('SayMixin 호출')\n",
    "        return self._say\n",
    "\n",
    "class BarkMixin:\n",
    "    def say(self):\n",
    "        print('BarkMixin 호출')\n",
    "        return self._say    "
   ]
  },
  {
   "cell_type": "code",
   "execution_count": null,
   "id": "9d1d0aba",
   "metadata": {},
   "outputs": [],
   "source": [
    "class Dog(BarkMixin, SayMixin):\n",
    "    def __init__(self, bark):\n",
    "        self._say = bark\n",
    "        \n",
    "class Bird(SayMixin, BarkMixin):\n",
    "    def __init__(self, sing):\n",
    "        self._say = sing       "
   ]
  },
  {
   "cell_type": "code",
   "execution_count": null,
   "id": "96232681",
   "metadata": {},
   "outputs": [],
   "source": [
    "d = Dog('멍멍멍')\n",
    "d.say()"
   ]
  },
  {
   "cell_type": "code",
   "execution_count": null,
   "id": "bc8c701a",
   "metadata": {},
   "outputs": [],
   "source": [
    "s = Bird('짹짹짹')\n",
    "s.say()"
   ]
  },
  {
   "cell_type": "markdown",
   "id": "3be5bd09",
   "metadata": {},
   "source": [
    "## 34.4. 팩토리 패턴 알아보기"
   ]
  },
  {
   "cell_type": "code",
   "execution_count": null,
   "id": "4448da70",
   "metadata": {},
   "outputs": [],
   "source": [
    "import abc"
   ]
  },
  {
   "cell_type": "code",
   "execution_count": null,
   "id": "59564428",
   "metadata": {},
   "outputs": [],
   "source": [
    "class Animal(abc.ABC):\n",
    "    @abc.abstractmethod\n",
    "    def say(self):\n",
    "        pass"
   ]
  },
  {
   "cell_type": "code",
   "execution_count": null,
   "id": "e978c5d3",
   "metadata": {},
   "outputs": [],
   "source": [
    "class Dog(Animal):\n",
    "    def say(self):\n",
    "        return '멍멍멍'\n",
    "    \n",
    "class Cat(Animal):\n",
    "    def say(self):\n",
    "        return '야옹야옹'"
   ]
  },
  {
   "cell_type": "code",
   "execution_count": null,
   "id": "95428eb2",
   "metadata": {},
   "outputs": [],
   "source": [
    "class Factory:\n",
    "    \n",
    "    def __init__(self, data_type):\n",
    "        self.data_type = data_type\n",
    "        \n",
    "    def make_factory(self):\n",
    "        return eval(self.data_type)()"
   ]
  },
  {
   "cell_type": "code",
   "execution_count": null,
   "id": "0932e533",
   "metadata": {},
   "outputs": [],
   "source": [
    "class Client:\n",
    "    \n",
    "    def __init__(self, data_type):\n",
    "        self.object_ = Factory(data_type).make_factory()"
   ]
  },
  {
   "cell_type": "code",
   "execution_count": null,
   "id": "ee5ed988",
   "metadata": {},
   "outputs": [],
   "source": [
    "def say(obj):\n",
    "    return obj.object_.say()"
   ]
  },
  {
   "cell_type": "code",
   "execution_count": null,
   "id": "30648660",
   "metadata": {},
   "outputs": [],
   "source": [
    "d = Client('Dog')\n",
    "say(d)"
   ]
  },
  {
   "cell_type": "code",
   "execution_count": null,
   "id": "36a85e89",
   "metadata": {},
   "outputs": [],
   "source": [
    "c = Client('Cat')\n",
    "say(c)"
   ]
  }
 ],
 "metadata": {
  "kernelspec": {
   "display_name": "Python 3 (ipykernel)",
   "language": "python",
   "name": "python3"
  },
  "language_info": {
   "codemirror_mode": {
    "name": "ipython",
    "version": 3
   },
   "file_extension": ".py",
   "mimetype": "text/x-python",
   "name": "python",
   "nbconvert_exporter": "python",
   "pygments_lexer": "ipython3",
   "version": "3.8.12"
  }
 },
 "nbformat": 4,
 "nbformat_minor": 5
}
