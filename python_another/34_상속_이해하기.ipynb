{
 "cells": [
  {
   "cell_type": "markdown",
   "id": "86cda9c2",
   "metadata": {},
   "source": [
    "# 34 장. 상속 이해하기"
   ]
  },
  {
   "cell_type": "markdown",
   "id": "456e6147",
   "metadata": {},
   "source": [
    "## 34.1. 단일 상속, 다중 상속 이해하기"
   ]
  },
  {
   "cell_type": "code",
   "execution_count": 18,
   "id": "e7bc8b94",
   "metadata": {},
   "outputs": [],
   "source": [
    "class Polycon:\n",
    "    \n",
    "    def __init__(self, no_of_sides):\n",
    "        self.n = no_of_sides\n",
    "        self.x_sides =[0 for i in range(no_of_sides)]\n",
    "        self.y_sides =[0 for i in range(no_of_sides)]        \n",
    "        \n",
    "    def input_x_sides(self):\n",
    "        self.x_sides =[float(input('x 좌표를 입력하세요 ' + str(i + 1) + ': ')) for i in range(self.n)]\n",
    "                             \n",
    "    def input_y_sides(self):\n",
    "        self.y_sides =[float(input('y 좌표를 입력하세요 ' + str(i + 1) + ': ')) for i in range(self.n)]    \n",
    "                             \n",
    "    def disp_sides(self):\n",
    "        for i in range(self.n):\n",
    "            print(f'{i + 1} 번째 좌표는 ({self.x_sides[i]}, {self.y_sides[i]})')           \n",
    "            \n",
    "    def polygon_area(self):\n",
    "        x = self.x_sides\n",
    "        y = self.y_sides\n",
    "        \n",
    "        area = 0\n",
    "        j = self.n - 1\n",
    "        for i in range(self.n):\n",
    "            area += (x[j] + x[i]) * (y[j] - y[i])\n",
    "            j = i\n",
    "        return abs(area / 2)"
   ]
  },
  {
   "cell_type": "code",
   "execution_count": 19,
   "id": "e134a968",
   "metadata": {},
   "outputs": [],
   "source": [
    "class Triangle(Polycon):\n",
    "    def __init__(self, no_of_sides):\n",
    "        if no_of_sides == 3:\n",
    "            super().__init__(no_of_sides)\n",
    "        else:\n",
    "            raise TypeError('변의 길이가 다릅니다.')"
   ]
  },
  {
   "cell_type": "code",
   "execution_count": 20,
   "id": "ee154ad5",
   "metadata": {},
   "outputs": [],
   "source": [
    "t = Triangle(3)"
   ]
  },
  {
   "cell_type": "code",
   "execution_count": 21,
   "id": "4554ba8c",
   "metadata": {},
   "outputs": [
    {
     "name": "stdout",
     "output_type": "stream",
     "text": [
      "x 좌표를 입력하세요 1: 0\n",
      "x 좌표를 입력하세요 2: 1.5\n",
      "x 좌표를 입력하세요 3: 3\n"
     ]
    }
   ],
   "source": [
    "t.input_x_sides()"
   ]
  },
  {
   "cell_type": "code",
   "execution_count": 22,
   "id": "1f35627e",
   "metadata": {},
   "outputs": [
    {
     "name": "stdout",
     "output_type": "stream",
     "text": [
      "y 좌표를 입력하세요 1: 0\n",
      "y 좌표를 입력하세요 2: 3\n",
      "y 좌표를 입력하세요 3: 0\n"
     ]
    }
   ],
   "source": [
    "t.input_y_sides()"
   ]
  },
  {
   "cell_type": "code",
   "execution_count": 23,
   "id": "1ef51dd0",
   "metadata": {},
   "outputs": [
    {
     "data": {
      "text/plain": [
       "4.5"
      ]
     },
     "execution_count": 23,
     "metadata": {},
     "output_type": "execute_result"
    }
   ],
   "source": [
    "t.polygon_area()"
   ]
  },
  {
   "cell_type": "code",
   "execution_count": 24,
   "id": "3020d859",
   "metadata": {},
   "outputs": [
    {
     "name": "stdout",
     "output_type": "stream",
     "text": [
      "1 번째 좌표는 (0.0, 0.0)\n",
      "2 번째 좌표는 (1.5, 3.0)\n",
      "3 번째 좌표는 (3.0, 0.0)\n"
     ]
    }
   ],
   "source": [
    "t.disp_sides()"
   ]
  },
  {
   "cell_type": "code",
   "execution_count": 25,
   "id": "204157fa",
   "metadata": {},
   "outputs": [],
   "source": [
    "class Rectangle(Polycon):\n",
    "    def __init__(self, no_of_sides):\n",
    "        if no_of_sides == 4:\n",
    "            super().__init__(no_of_sides)\n",
    "        else:\n",
    "            raise TypeError('변의 길이가 다릅니다.')"
   ]
  },
  {
   "cell_type": "code",
   "execution_count": 26,
   "id": "b9d82f62",
   "metadata": {},
   "outputs": [],
   "source": [
    "r = Rectangle(4)"
   ]
  },
  {
   "cell_type": "code",
   "execution_count": 27,
   "id": "712ce30f",
   "metadata": {},
   "outputs": [
    {
     "name": "stdout",
     "output_type": "stream",
     "text": [
      "x 좌표를 입력하세요 1: 0\n",
      "x 좌표를 입력하세요 2: 4\n",
      "x 좌표를 입력하세요 3: 4\n",
      "x 좌표를 입력하세요 4: 0\n"
     ]
    }
   ],
   "source": [
    "r.input_x_sides()"
   ]
  },
  {
   "cell_type": "code",
   "execution_count": 28,
   "id": "a1a3e597",
   "metadata": {},
   "outputs": [
    {
     "name": "stdout",
     "output_type": "stream",
     "text": [
      "y 좌표를 입력하세요 1: 0\n",
      "y 좌표를 입력하세요 2: 0\n",
      "y 좌표를 입력하세요 3: 4\n",
      "y 좌표를 입력하세요 4: 4\n"
     ]
    }
   ],
   "source": [
    "r.input_y_sides()"
   ]
  },
  {
   "cell_type": "code",
   "execution_count": 30,
   "id": "20a304cb",
   "metadata": {},
   "outputs": [
    {
     "data": {
      "text/plain": [
       "16.0"
      ]
     },
     "execution_count": 30,
     "metadata": {},
     "output_type": "execute_result"
    }
   ],
   "source": [
    "r.polygon_area()"
   ]
  },
  {
   "cell_type": "code",
   "execution_count": 31,
   "id": "8f6ae499",
   "metadata": {},
   "outputs": [
    {
     "name": "stdout",
     "output_type": "stream",
     "text": [
      "1 번째 좌표는 (0.0, 0.0)\n",
      "2 번째 좌표는 (4.0, 0.0)\n",
      "3 번째 좌표는 (4.0, 4.0)\n",
      "4 번째 좌표는 (0.0, 4.0)\n"
     ]
    }
   ],
   "source": [
    "r.disp_sides()"
   ]
  },
  {
   "cell_type": "markdown",
   "id": "6e477a9d",
   "metadata": {},
   "source": [
    "---"
   ]
  },
  {
   "cell_type": "code",
   "execution_count": 33,
   "id": "7f3151cd",
   "metadata": {},
   "outputs": [],
   "source": [
    "class Person(object):\n",
    "    \n",
    "    def __init__(self, name, age, nation):\n",
    "        print('Person 초기화 사용')\n",
    "        self.name = name\n",
    "        self.age = age\n",
    "        self.nation = nation\n",
    "        \n",
    "    def say(self, message):\n",
    "        return message"
   ]
  },
  {
   "cell_type": "code",
   "execution_count": null,
   "id": "5cdc19de",
   "metadata": {},
   "outputs": [],
   "source": []
  },
  {
   "cell_type": "markdown",
   "id": "af8ce3ee",
   "metadata": {},
   "source": [
    "## 34.2. 수퍼 클래스(super) 이해하기"
   ]
  },
  {
   "cell_type": "code",
   "execution_count": null,
   "id": "559e0061",
   "metadata": {},
   "outputs": [],
   "source": []
  },
  {
   "cell_type": "markdown",
   "id": "e4d39232",
   "metadata": {},
   "source": [
    "## 34.3. 믹스인(mixin) 처리 이해하기"
   ]
  },
  {
   "cell_type": "code",
   "execution_count": null,
   "id": "07eaefba",
   "metadata": {},
   "outputs": [],
   "source": []
  },
  {
   "cell_type": "markdown",
   "id": "0b585f47",
   "metadata": {},
   "source": [
    "## 34.4. 팩토리 패턴 알아보기"
   ]
  },
  {
   "cell_type": "code",
   "execution_count": null,
   "id": "35d7eac6",
   "metadata": {},
   "outputs": [],
   "source": []
  }
 ],
 "metadata": {
  "kernelspec": {
   "display_name": "Python 3 (ipykernel)",
   "language": "python",
   "name": "python3"
  },
  "language_info": {
   "codemirror_mode": {
    "name": "ipython",
    "version": 3
   },
   "file_extension": ".py",
   "mimetype": "text/x-python",
   "name": "python",
   "nbconvert_exporter": "python",
   "pygments_lexer": "ipython3",
   "version": "3.8.12"
  }
 },
 "nbformat": 4,
 "nbformat_minor": 5
}
