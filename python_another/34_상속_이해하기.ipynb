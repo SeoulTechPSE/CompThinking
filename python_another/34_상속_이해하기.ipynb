{
 "cells": [
  {
   "cell_type": "markdown",
   "id": "99d82635",
   "metadata": {},
   "source": [
    "# 34 장. 상속 이해하기"
   ]
  },
  {
   "cell_type": "markdown",
   "id": "07e6c8dd",
   "metadata": {},
   "source": [
    "## 34.1. 단일 상속, 다중 상속 이해하기"
   ]
  },
  {
   "cell_type": "code",
   "execution_count": 18,
   "id": "64070f18",
   "metadata": {},
   "outputs": [],
   "source": [
    "class Polycon:\n",
    "    \n",
    "    def __init__(self, no_of_sides):\n",
    "        self.n = no_of_sides\n",
    "        self.x_sides =[0 for i in range(no_of_sides)]\n",
    "        self.y_sides =[0 for i in range(no_of_sides)]        \n",
    "        \n",
    "    def input_x_sides(self):\n",
    "        self.x_sides =[float(input('x 좌표를 입력하세요 ' + str(i + 1) + ': ')) for i in range(self.n)]\n",
    "                             \n",
    "    def input_y_sides(self):\n",
    "        self.y_sides =[float(input('y 좌표를 입력하세요 ' + str(i + 1) + ': ')) for i in range(self.n)]    \n",
    "                             \n",
    "    def disp_sides(self):\n",
    "        for i in range(self.n):\n",
    "            print(f'{i + 1} 번째 좌표는 ({self.x_sides[i]}, {self.y_sides[i]})')           \n",
    "            \n",
    "    def polygon_area(self):\n",
    "        x = self.x_sides\n",
    "        y = self.y_sides\n",
    "        \n",
    "        area = 0\n",
    "        j = self.n - 1\n",
    "        for i in range(self.n):\n",
    "            area += (x[j] + x[i]) * (y[j] - y[i])\n",
    "            j = i\n",
    "        return abs(area / 2)"
   ]
  },
  {
   "cell_type": "code",
   "execution_count": 19,
   "id": "240e9ece",
   "metadata": {},
   "outputs": [],
   "source": [
    "class Triangle(Polycon):\n",
    "    def __init__(self, no_of_sides):\n",
    "        if no_of_sides == 3:\n",
    "            super().__init__(no_of_sides)\n",
    "        else:\n",
    "            raise TypeError('변의 길이가 다릅니다.')"
   ]
  },
  {
   "cell_type": "code",
   "execution_count": 20,
   "id": "e45fabab",
   "metadata": {},
   "outputs": [],
   "source": [
    "t = Triangle(3)"
   ]
  },
  {
   "cell_type": "code",
   "execution_count": 21,
   "id": "f41c543a",
   "metadata": {},
   "outputs": [
    {
     "name": "stdout",
     "output_type": "stream",
     "text": [
      "x 좌표를 입력하세요 1: 0\n",
      "x 좌표를 입력하세요 2: 1.5\n",
      "x 좌표를 입력하세요 3: 3\n"
     ]
    }
   ],
   "source": [
    "t.input_x_sides()"
   ]
  },
  {
   "cell_type": "code",
   "execution_count": 22,
   "id": "0bf34242",
   "metadata": {},
   "outputs": [
    {
     "name": "stdout",
     "output_type": "stream",
     "text": [
      "y 좌표를 입력하세요 1: 0\n",
      "y 좌표를 입력하세요 2: 3\n",
      "y 좌표를 입력하세요 3: 0\n"
     ]
    }
   ],
   "source": [
    "t.input_y_sides()"
   ]
  },
  {
   "cell_type": "code",
   "execution_count": 23,
   "id": "e6d90e44",
   "metadata": {},
   "outputs": [
    {
     "data": {
      "text/plain": [
       "4.5"
      ]
     },
     "execution_count": 23,
     "metadata": {},
     "output_type": "execute_result"
    }
   ],
   "source": [
    "t.polygon_area()"
   ]
  },
  {
   "cell_type": "code",
   "execution_count": 24,
   "id": "8210b703",
   "metadata": {},
   "outputs": [
    {
     "name": "stdout",
     "output_type": "stream",
     "text": [
      "1 번째 좌표는 (0.0, 0.0)\n",
      "2 번째 좌표는 (1.5, 3.0)\n",
      "3 번째 좌표는 (3.0, 0.0)\n"
     ]
    }
   ],
   "source": [
    "t.disp_sides()"
   ]
  },
  {
   "cell_type": "code",
   "execution_count": 25,
   "id": "80a7567f",
   "metadata": {},
   "outputs": [],
   "source": [
    "class Rectangle(Polycon):\n",
    "    def __init__(self, no_of_sides):\n",
    "        if no_of_sides == 4:\n",
    "            super().__init__(no_of_sides)\n",
    "        else:\n",
    "            raise TypeError('변의 길이가 다릅니다.')"
   ]
  },
  {
   "cell_type": "code",
   "execution_count": 26,
   "id": "b1b9545c",
   "metadata": {},
   "outputs": [],
   "source": [
    "r = Rectangle(4)"
   ]
  },
  {
   "cell_type": "code",
   "execution_count": 27,
   "id": "c2a06ed7",
   "metadata": {},
   "outputs": [
    {
     "name": "stdout",
     "output_type": "stream",
     "text": [
      "x 좌표를 입력하세요 1: 0\n",
      "x 좌표를 입력하세요 2: 4\n",
      "x 좌표를 입력하세요 3: 4\n",
      "x 좌표를 입력하세요 4: 0\n"
     ]
    }
   ],
   "source": [
    "r.input_x_sides()"
   ]
  },
  {
   "cell_type": "code",
   "execution_count": 28,
   "id": "4c7627fe",
   "metadata": {},
   "outputs": [
    {
     "name": "stdout",
     "output_type": "stream",
     "text": [
      "y 좌표를 입력하세요 1: 0\n",
      "y 좌표를 입력하세요 2: 0\n",
      "y 좌표를 입력하세요 3: 4\n",
      "y 좌표를 입력하세요 4: 4\n"
     ]
    }
   ],
   "source": [
    "r.input_y_sides()"
   ]
  },
  {
   "cell_type": "code",
   "execution_count": 30,
   "id": "2ad46630",
   "metadata": {},
   "outputs": [
    {
     "data": {
      "text/plain": [
       "16.0"
      ]
     },
     "execution_count": 30,
     "metadata": {},
     "output_type": "execute_result"
    }
   ],
   "source": [
    "r.polygon_area()"
   ]
  },
  {
   "cell_type": "code",
   "execution_count": 31,
   "id": "f15e0d74",
   "metadata": {},
   "outputs": [
    {
     "name": "stdout",
     "output_type": "stream",
     "text": [
      "1 번째 좌표는 (0.0, 0.0)\n",
      "2 번째 좌표는 (4.0, 0.0)\n",
      "3 번째 좌표는 (4.0, 4.0)\n",
      "4 번째 좌표는 (0.0, 4.0)\n"
     ]
    }
   ],
   "source": [
    "r.disp_sides()"
   ]
  },
  {
   "cell_type": "markdown",
   "id": "f225b0ce",
   "metadata": {},
   "source": [
    "---"
   ]
  },
  {
   "cell_type": "code",
   "execution_count": null,
   "id": "1175da84",
   "metadata": {},
   "outputs": [],
   "source": []
  },
  {
   "cell_type": "markdown",
   "id": "59fada36",
   "metadata": {},
   "source": [
    "## 34.2. 수퍼 클래스(super) 이해하기"
   ]
  },
  {
   "cell_type": "code",
   "execution_count": null,
   "id": "3a92472a",
   "metadata": {},
   "outputs": [],
   "source": []
  },
  {
   "cell_type": "markdown",
   "id": "de9d27ff",
   "metadata": {},
   "source": [
    "## 34.3. 믹스인(mixin) 처리 이해하기"
   ]
  },
  {
   "cell_type": "code",
   "execution_count": null,
   "id": "94c4d94f",
   "metadata": {},
   "outputs": [],
   "source": []
  },
  {
   "cell_type": "markdown",
   "id": "39ea576a",
   "metadata": {},
   "source": [
    "## 34.4. 팩토리 패턴 알아보기"
   ]
  },
  {
   "cell_type": "code",
   "execution_count": null,
   "id": "6b1168f2",
   "metadata": {},
   "outputs": [],
   "source": []
  }
 ],
 "metadata": {
  "kernelspec": {
   "display_name": "Python 3 (ipykernel)",
   "language": "python",
   "name": "python3"
  },
  "language_info": {
   "codemirror_mode": {
    "name": "ipython",
    "version": 3
   },
   "file_extension": ".py",
   "mimetype": "text/x-python",
   "name": "python",
   "nbconvert_exporter": "python",
   "pygments_lexer": "ipython3",
   "version": "3.8.12"
  }
 },
 "nbformat": 4,
 "nbformat_minor": 5
}
