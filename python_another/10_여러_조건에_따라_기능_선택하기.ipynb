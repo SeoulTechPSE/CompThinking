{
 "cells": [
  {
   "cell_type": "markdown",
   "id": "bd22c161",
   "metadata": {},
   "source": [
    "# 10 장. 여러 조건에 따라 기능 선택하기"
   ]
  },
  {
   "cell_type": "markdown",
   "id": "d88e85e7",
   "metadata": {},
   "source": [
    "##  10.1. 삼항 연산을 인라인 제어문으로 표시하기"
   ]
  },
  {
   "cell_type": "code",
   "execution_count": null,
   "id": "fc997058",
   "metadata": {},
   "outputs": [],
   "source": [
    "x = 10\n",
    "if x < 10:\n",
    "    print('x는 10보다 작습니다.')\n",
    "else:\n",
    "    print('x는 10보다 크거나 같습니다.')"
   ]
  },
  {
   "cell_type": "code",
   "execution_count": null,
   "id": "96c5855a",
   "metadata": {},
   "outputs": [],
   "source": [
    "print('x는 10보다 작습니다.') if x < 10 else print('x는 10보다 크거나 같습니다.')"
   ]
  },
  {
   "cell_type": "code",
   "execution_count": null,
   "id": "6a4f385b",
   "metadata": {},
   "outputs": [],
   "source": [
    "a = 10\n",
    "b = 5"
   ]
  },
  {
   "cell_type": "code",
   "execution_count": null,
   "id": "ef326a46",
   "metadata": {},
   "outputs": [],
   "source": [
    "c = a if a > b else b\n",
    "c"
   ]
  },
  {
   "cell_type": "code",
   "execution_count": null,
   "id": "9d8be3e9",
   "metadata": {},
   "outputs": [],
   "source": [
    "c = a if a < b else b\n",
    "c"
   ]
  },
  {
   "cell_type": "markdown",
   "id": "d38bec7c",
   "metadata": {},
   "source": [
    "## 10.2. 특정 값으로 조건을 판단하는 스위치(switch case) 구문"
   ]
  },
  {
   "cell_type": "code",
   "execution_count": null,
   "id": "612fbe17",
   "metadata": {},
   "outputs": [],
   "source": [
    "def func10():\n",
    "    print(10)\n",
    "    \n",
    "def func100():\n",
    "    print(100)"
   ]
  },
  {
   "cell_type": "code",
   "execution_count": null,
   "id": "6f45f065",
   "metadata": {},
   "outputs": [],
   "source": [
    "switch = {'10': func10, '100': func100}"
   ]
  },
  {
   "cell_type": "code",
   "execution_count": null,
   "id": "cbc23cbe",
   "metadata": {},
   "outputs": [],
   "source": [
    "switch['10']()"
   ]
  },
  {
   "cell_type": "code",
   "execution_count": null,
   "id": "91c42642",
   "metadata": {},
   "outputs": [],
   "source": [
    "switch['100']()"
   ]
  },
  {
   "cell_type": "code",
   "execution_count": null,
   "id": "d30c6beb",
   "metadata": {},
   "outputs": [],
   "source": [
    "switch.get('10', func10)()"
   ]
  },
  {
   "cell_type": "code",
   "execution_count": null,
   "id": "5f4b4ee0",
   "metadata": {},
   "outputs": [],
   "source": [
    "switch.get('1', func10)()"
   ]
  },
  {
   "cell_type": "markdown",
   "id": "baf2bb37",
   "metadata": {},
   "source": [
    "## 10.3. 특정 인덱스 정보로 검색하기"
   ]
  },
  {
   "cell_type": "code",
   "execution_count": null,
   "id": "1f7b188d",
   "metadata": {},
   "outputs": [],
   "source": [
    "ll = [1, 2, 3, 4, 5, 6]"
   ]
  },
  {
   "cell_type": "code",
   "execution_count": null,
   "id": "4a0394d9",
   "metadata": {},
   "outputs": [],
   "source": [
    "def index(iterable, *args):\n",
    "    \n",
    "    result = []\n",
    "    for i in args:\n",
    "        if i < len(iterable):\n",
    "            result.append(iterable[i])\n",
    "        else:\n",
    "            continue\n",
    "            \n",
    "    return result"
   ]
  },
  {
   "cell_type": "code",
   "execution_count": null,
   "id": "2d081275",
   "metadata": {},
   "outputs": [],
   "source": [
    "print(index(ll, 1, 2, 5))"
   ]
  },
  {
   "cell_type": "code",
   "execution_count": null,
   "id": "d175a58a",
   "metadata": {},
   "outputs": [],
   "source": [
    "import operator as op"
   ]
  },
  {
   "cell_type": "code",
   "execution_count": null,
   "id": "87d35702",
   "metadata": {},
   "outputs": [],
   "source": [
    "type(op.itemgetter)"
   ]
  },
  {
   "cell_type": "code",
   "execution_count": null,
   "id": "7d8e9f77",
   "metadata": {},
   "outputs": [],
   "source": [
    "inx = op.itemgetter(1, 2, 5)"
   ]
  },
  {
   "cell_type": "code",
   "execution_count": null,
   "id": "c9576751",
   "metadata": {},
   "outputs": [],
   "source": [
    "inx(ll)"
   ]
  }
 ],
 "metadata": {
  "kernelspec": {
   "display_name": "Python 3 (ipykernel)",
   "language": "python",
   "name": "python3"
  },
  "language_info": {
   "codemirror_mode": {
    "name": "ipython",
    "version": 3
   },
   "file_extension": ".py",
   "mimetype": "text/x-python",
   "name": "python",
   "nbconvert_exporter": "python",
   "pygments_lexer": "ipython3",
   "version": "3.8.12"
  }
 },
 "nbformat": 4,
 "nbformat_minor": 5
}
