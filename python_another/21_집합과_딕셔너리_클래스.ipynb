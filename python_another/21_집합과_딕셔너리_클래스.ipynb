{
 "cells": [
  {
   "cell_type": "markdown",
   "id": "86c68a40",
   "metadata": {},
   "source": [
    "# 21 장. 집합(set)과 딕셔너리(dict) 클래스"
   ]
  },
  {
   "cell_type": "markdown",
   "id": "598b2a39",
   "metadata": {},
   "source": [
    "## 21.1. 딕셔너리(dict)"
   ]
  },
  {
   "cell_type": "code",
   "execution_count": null,
   "id": "3419d6ab",
   "metadata": {},
   "outputs": [],
   "source": [
    "d = {'a': 1, 'b': 2}"
   ]
  },
  {
   "cell_type": "code",
   "execution_count": null,
   "id": "df5c54b9",
   "metadata": {},
   "outputs": [],
   "source": [
    "print(type(d))"
   ]
  },
  {
   "cell_type": "code",
   "execution_count": null,
   "id": "d81e0092",
   "metadata": {},
   "outputs": [],
   "source": [
    "d1 = dict(d)"
   ]
  },
  {
   "cell_type": "code",
   "execution_count": null,
   "id": "7efc01b2",
   "metadata": {},
   "outputs": [],
   "source": [
    "d is d1"
   ]
  },
  {
   "cell_type": "code",
   "execution_count": null,
   "id": "6c7a7f6c",
   "metadata": {},
   "outputs": [],
   "source": [
    "d['a'] = 30"
   ]
  },
  {
   "cell_type": "code",
   "execution_count": null,
   "id": "5d504f0b",
   "metadata": {},
   "outputs": [],
   "source": [
    "d"
   ]
  },
  {
   "cell_type": "code",
   "execution_count": null,
   "id": "4e79fb68",
   "metadata": {},
   "outputs": [],
   "source": [
    "d1"
   ]
  },
  {
   "cell_type": "markdown",
   "id": "347ea912",
   "metadata": {},
   "source": [
    "---"
   ]
  },
  {
   "cell_type": "code",
   "execution_count": null,
   "id": "2e95e412",
   "metadata": {},
   "outputs": [],
   "source": [
    "for key in d1.keys():\n",
    "    print(key)"
   ]
  },
  {
   "cell_type": "code",
   "execution_count": null,
   "id": "d2a61542",
   "metadata": {},
   "outputs": [],
   "source": [
    "for value in d1.values():\n",
    "    print(value)"
   ]
  },
  {
   "cell_type": "code",
   "execution_count": null,
   "id": "e0202d2a",
   "metadata": {},
   "outputs": [],
   "source": [
    "for key, value in d1.items():\n",
    "    print(key, value)"
   ]
  },
  {
   "cell_type": "markdown",
   "id": "935a7114",
   "metadata": {},
   "source": [
    "---"
   ]
  },
  {
   "cell_type": "code",
   "execution_count": null,
   "id": "1fa3ef31",
   "metadata": {},
   "outputs": [],
   "source": [
    "d1['c']"
   ]
  },
  {
   "cell_type": "code",
   "execution_count": null,
   "id": "3b079add",
   "metadata": {},
   "outputs": [],
   "source": [
    "d1.get('c', '없음')"
   ]
  },
  {
   "cell_type": "code",
   "execution_count": null,
   "id": "bae11b0d",
   "metadata": {},
   "outputs": [],
   "source": [
    "v2 = d1.setdefault('c', 30)"
   ]
  },
  {
   "cell_type": "code",
   "execution_count": null,
   "id": "97424212",
   "metadata": {},
   "outputs": [],
   "source": [
    "v2"
   ]
  },
  {
   "cell_type": "markdown",
   "id": "f3048c1f",
   "metadata": {},
   "source": [
    "---"
   ]
  },
  {
   "cell_type": "code",
   "execution_count": null,
   "id": "1a95a056",
   "metadata": {},
   "outputs": [],
   "source": [
    "d4 = dict([('가', 1), ('나', 2)])"
   ]
  },
  {
   "cell_type": "code",
   "execution_count": null,
   "id": "257afb9f",
   "metadata": {},
   "outputs": [],
   "source": [
    "d1.update(d4)"
   ]
  },
  {
   "cell_type": "code",
   "execution_count": null,
   "id": "eeeb3ddd",
   "metadata": {},
   "outputs": [],
   "source": [
    "d1"
   ]
  },
  {
   "cell_type": "markdown",
   "id": "e078b2ae",
   "metadata": {},
   "source": [
    "---"
   ]
  },
  {
   "cell_type": "code",
   "execution_count": null,
   "id": "29ec596b",
   "metadata": {},
   "outputs": [],
   "source": [
    "d5 = d.copy()"
   ]
  },
  {
   "cell_type": "code",
   "execution_count": null,
   "id": "41a6dfb8",
   "metadata": {},
   "outputs": [],
   "source": [
    "d5['d4'] = d4"
   ]
  },
  {
   "cell_type": "code",
   "execution_count": null,
   "id": "86fa7590",
   "metadata": {},
   "outputs": [],
   "source": [
    "d5"
   ]
  },
  {
   "cell_type": "code",
   "execution_count": null,
   "id": "1cbf49e1",
   "metadata": {},
   "outputs": [],
   "source": [
    "d6 = d5.copy()"
   ]
  },
  {
   "cell_type": "code",
   "execution_count": null,
   "id": "b1356031",
   "metadata": {},
   "outputs": [],
   "source": [
    "d6['d4']['가'] = 999"
   ]
  },
  {
   "cell_type": "code",
   "execution_count": null,
   "id": "b9e942a3",
   "metadata": {},
   "outputs": [],
   "source": [
    "d5"
   ]
  },
  {
   "cell_type": "code",
   "execution_count": null,
   "id": "788bb5a9",
   "metadata": {},
   "outputs": [],
   "source": [
    "d6"
   ]
  },
  {
   "cell_type": "markdown",
   "id": "f7f90331",
   "metadata": {},
   "source": [
    "---"
   ]
  },
  {
   "cell_type": "code",
   "execution_count": null,
   "id": "adeec3df",
   "metadata": {},
   "outputs": [],
   "source": [
    "import copy"
   ]
  },
  {
   "cell_type": "code",
   "execution_count": null,
   "id": "2af29c98",
   "metadata": {},
   "outputs": [],
   "source": [
    "d7 = copy.deepcopy(d6)"
   ]
  },
  {
   "cell_type": "code",
   "execution_count": null,
   "id": "baad1ec1",
   "metadata": {},
   "outputs": [],
   "source": [
    "d7['d4']['나'] = 100"
   ]
  },
  {
   "cell_type": "code",
   "execution_count": null,
   "id": "5dbe00fd",
   "metadata": {},
   "outputs": [],
   "source": [
    "d7"
   ]
  },
  {
   "cell_type": "code",
   "execution_count": null,
   "id": "ca7a61d7",
   "metadata": {},
   "outputs": [],
   "source": [
    "d6"
   ]
  },
  {
   "cell_type": "markdown",
   "id": "41b47491",
   "metadata": {},
   "source": [
    "---"
   ]
  },
  {
   "cell_type": "code",
   "execution_count": null,
   "id": "8297bfcd",
   "metadata": {},
   "outputs": [],
   "source": [
    "import collections as cols"
   ]
  },
  {
   "cell_type": "code",
   "execution_count": null,
   "id": "6e8f2452",
   "metadata": {},
   "outputs": [],
   "source": [
    "cols.OrderedDict"
   ]
  },
  {
   "cell_type": "code",
   "execution_count": null,
   "id": "36cf7d4c",
   "metadata": {},
   "outputs": [],
   "source": [
    "issubclass(cols.OrderedDict, cols.abc.Mapping)"
   ]
  },
  {
   "cell_type": "code",
   "execution_count": null,
   "id": "ad3abc56",
   "metadata": {},
   "outputs": [],
   "source": [
    "d1 = {'a': 1, 'b': 2}"
   ]
  },
  {
   "cell_type": "code",
   "execution_count": null,
   "id": "ec69dd9a",
   "metadata": {},
   "outputs": [],
   "source": [
    "od = cols.OrderedDict(d1)"
   ]
  },
  {
   "cell_type": "code",
   "execution_count": null,
   "id": "d06f2904",
   "metadata": {},
   "outputs": [],
   "source": [
    "od"
   ]
  },
  {
   "cell_type": "code",
   "execution_count": null,
   "id": "0022b750",
   "metadata": {},
   "outputs": [],
   "source": [
    "od['c'] = 100"
   ]
  },
  {
   "cell_type": "code",
   "execution_count": null,
   "id": "3cf419ff",
   "metadata": {},
   "outputs": [],
   "source": [
    "od"
   ]
  },
  {
   "cell_type": "code",
   "execution_count": null,
   "id": "f08fb724",
   "metadata": {},
   "outputs": [],
   "source": [
    "od.update({'d': 100})"
   ]
  },
  {
   "cell_type": "code",
   "execution_count": null,
   "id": "479b6320",
   "metadata": {},
   "outputs": [],
   "source": [
    "od"
   ]
  },
  {
   "cell_type": "markdown",
   "id": "7d55c032",
   "metadata": {},
   "source": [
    "## 21.2. 집합(set)"
   ]
  },
  {
   "cell_type": "code",
   "execution_count": null,
   "id": "bf6c4ee9",
   "metadata": {},
   "outputs": [],
   "source": [
    "s = {1, 2, 3, 4}"
   ]
  },
  {
   "cell_type": "code",
   "execution_count": null,
   "id": "a712ab2d",
   "metadata": {},
   "outputs": [],
   "source": [
    "f = frozenset(s)"
   ]
  },
  {
   "cell_type": "code",
   "execution_count": null,
   "id": "3bbb9ade",
   "metadata": {},
   "outputs": [],
   "source": [
    "type(s), type(f)"
   ]
  },
  {
   "cell_type": "code",
   "execution_count": null,
   "id": "17a9c60a",
   "metadata": {},
   "outputs": [],
   "source": [
    "s.add(5)"
   ]
  },
  {
   "cell_type": "code",
   "execution_count": null,
   "id": "e042da39",
   "metadata": {},
   "outputs": [],
   "source": [
    "s"
   ]
  },
  {
   "cell_type": "markdown",
   "id": "929e5445",
   "metadata": {},
   "source": [
    "---"
   ]
  },
  {
   "cell_type": "code",
   "execution_count": null,
   "id": "6f3f6a5d",
   "metadata": {},
   "outputs": [],
   "source": [
    "s.difference(f), f.difference(s)"
   ]
  },
  {
   "cell_type": "code",
   "execution_count": null,
   "id": "463f9768",
   "metadata": {},
   "outputs": [],
   "source": [
    "s.intersection(f), f.intersection(s)"
   ]
  },
  {
   "cell_type": "code",
   "execution_count": null,
   "id": "41794a15",
   "metadata": {},
   "outputs": [],
   "source": [
    "s.union(f), f.union(s)"
   ]
  },
  {
   "cell_type": "code",
   "execution_count": null,
   "id": "998a3b1f",
   "metadata": {},
   "outputs": [],
   "source": [
    "s.symmetric_difference(f), f.symmetric_difference(s)"
   ]
  },
  {
   "cell_type": "markdown",
   "id": "b8588b0c",
   "metadata": {},
   "source": [
    "---"
   ]
  },
  {
   "cell_type": "code",
   "execution_count": null,
   "id": "17243226",
   "metadata": {},
   "outputs": [],
   "source": [
    "s.issubset(f), f.issubset(s)"
   ]
  },
  {
   "cell_type": "code",
   "execution_count": null,
   "id": "66c3ab34",
   "metadata": {},
   "outputs": [],
   "source": [
    "s.issuperset(f), f.issuperset(s)"
   ]
  },
  {
   "cell_type": "markdown",
   "id": "26d923b6",
   "metadata": {},
   "source": []
  },
  {
   "cell_type": "code",
   "execution_count": null,
   "id": "e59fba21",
   "metadata": {},
   "outputs": [],
   "source": [
    "s1 = s.copy()"
   ]
  },
  {
   "cell_type": "code",
   "execution_count": null,
   "id": "565367ec",
   "metadata": {},
   "outputs": [],
   "source": [
    "s1 is s"
   ]
  },
  {
   "cell_type": "code",
   "execution_count": null,
   "id": "47cbab50",
   "metadata": {},
   "outputs": [],
   "source": [
    "f1 = f.copy()"
   ]
  },
  {
   "cell_type": "code",
   "execution_count": null,
   "id": "d6beade3",
   "metadata": {},
   "outputs": [],
   "source": [
    "f1 is f"
   ]
  },
  {
   "cell_type": "markdown",
   "id": "3fdbf8c5",
   "metadata": {},
   "source": [
    "---"
   ]
  },
  {
   "cell_type": "code",
   "execution_count": null,
   "id": "4c1352c7",
   "metadata": {},
   "outputs": [],
   "source": [
    "ss = {4, 4, 4, 4, 5, 6, 7}"
   ]
  },
  {
   "cell_type": "code",
   "execution_count": null,
   "id": "845badef",
   "metadata": {},
   "outputs": [],
   "source": [
    "ss"
   ]
  },
  {
   "cell_type": "code",
   "execution_count": null,
   "id": "7426c6ef",
   "metadata": {},
   "outputs": [],
   "source": [
    "ss.discard(6)"
   ]
  },
  {
   "cell_type": "code",
   "execution_count": null,
   "id": "ef2068fd",
   "metadata": {},
   "outputs": [],
   "source": [
    "ss"
   ]
  },
  {
   "cell_type": "code",
   "execution_count": null,
   "id": "825cb396",
   "metadata": {},
   "outputs": [],
   "source": [
    "ss.remove(4)"
   ]
  },
  {
   "cell_type": "code",
   "execution_count": null,
   "id": "19c030a9",
   "metadata": {},
   "outputs": [],
   "source": [
    "ss"
   ]
  },
  {
   "cell_type": "code",
   "execution_count": null,
   "id": "f7f07892",
   "metadata": {},
   "outputs": [],
   "source": [
    "ss.remove(4)"
   ]
  },
  {
   "cell_type": "code",
   "execution_count": null,
   "id": "ca514922",
   "metadata": {},
   "outputs": [],
   "source": [
    "ss.discard(4)"
   ]
  },
  {
   "cell_type": "markdown",
   "id": "59b9da10",
   "metadata": {},
   "source": [
    "---"
   ]
  },
  {
   "cell_type": "code",
   "execution_count": null,
   "id": "8e763386",
   "metadata": {},
   "outputs": [],
   "source": [
    "f"
   ]
  },
  {
   "cell_type": "code",
   "execution_count": null,
   "id": "a1d486e0",
   "metadata": {},
   "outputs": [],
   "source": [
    "ss.difference_update(f)"
   ]
  },
  {
   "cell_type": "code",
   "execution_count": null,
   "id": "bb165ab9",
   "metadata": {},
   "outputs": [],
   "source": [
    "ss"
   ]
  },
  {
   "cell_type": "code",
   "execution_count": null,
   "id": "ec81b2e4",
   "metadata": {},
   "outputs": [],
   "source": [
    "ss.intersection_update(f)"
   ]
  },
  {
   "cell_type": "code",
   "execution_count": null,
   "id": "52870cc6",
   "metadata": {},
   "outputs": [],
   "source": [
    "ss"
   ]
  },
  {
   "cell_type": "markdown",
   "id": "8b1b7004",
   "metadata": {},
   "source": [
    "---"
   ]
  },
  {
   "cell_type": "code",
   "execution_count": null,
   "id": "3352df72",
   "metadata": {},
   "outputs": [],
   "source": [
    "ss.update({3, 4})"
   ]
  },
  {
   "cell_type": "code",
   "execution_count": null,
   "id": "7608c560",
   "metadata": {},
   "outputs": [],
   "source": [
    "ss"
   ]
  },
  {
   "cell_type": "code",
   "execution_count": null,
   "id": "6aa9f5c1",
   "metadata": {},
   "outputs": [],
   "source": [
    "ss.intersection_update(f)"
   ]
  },
  {
   "cell_type": "code",
   "execution_count": null,
   "id": "ce61a3b1",
   "metadata": {},
   "outputs": [],
   "source": [
    "ss"
   ]
  },
  {
   "cell_type": "code",
   "execution_count": null,
   "id": "e70fc443",
   "metadata": {},
   "outputs": [],
   "source": [
    "ss.symmetric_difference_update(f)"
   ]
  },
  {
   "cell_type": "code",
   "execution_count": null,
   "id": "1d49f504",
   "metadata": {},
   "outputs": [],
   "source": [
    "ss"
   ]
  },
  {
   "cell_type": "code",
   "execution_count": null,
   "id": "b89eed37",
   "metadata": {},
   "outputs": [],
   "source": [
    "sss = {5, 7}"
   ]
  },
  {
   "cell_type": "code",
   "execution_count": null,
   "id": "c9d4cdbd",
   "metadata": {},
   "outputs": [],
   "source": [
    "f.isdisjoint(sss), sss.isdisjoint(f)"
   ]
  },
  {
   "cell_type": "markdown",
   "id": "94601f78",
   "metadata": {},
   "source": [
    "---"
   ]
  },
  {
   "cell_type": "code",
   "execution_count": null,
   "id": "59f7c549",
   "metadata": {},
   "outputs": [],
   "source": [
    "import collections as cols"
   ]
  },
  {
   "cell_type": "code",
   "execution_count": null,
   "id": "2505942d",
   "metadata": {},
   "outputs": [],
   "source": [
    "cols.Counter"
   ]
  },
  {
   "cell_type": "code",
   "execution_count": null,
   "id": "40ee5c76",
   "metadata": {},
   "outputs": [],
   "source": [
    "issubclass(cols.Counter, cols.abc.Mapping)"
   ]
  },
  {
   "cell_type": "code",
   "execution_count": null,
   "id": "3a1281a9",
   "metadata": {},
   "outputs": [],
   "source": [
    "l = [1, 1, 1, 3, 3, 4, 4, 4, 4]"
   ]
  },
  {
   "cell_type": "code",
   "execution_count": null,
   "id": "a5037d76",
   "metadata": {},
   "outputs": [],
   "source": [
    "c = cols.Counter(l)"
   ]
  },
  {
   "cell_type": "code",
   "execution_count": null,
   "id": "0c3e299d",
   "metadata": {},
   "outputs": [],
   "source": [
    "c"
   ]
  },
  {
   "cell_type": "code",
   "execution_count": null,
   "id": "0ab805c4",
   "metadata": {},
   "outputs": [],
   "source": [
    "c[1]"
   ]
  },
  {
   "cell_type": "code",
   "execution_count": null,
   "id": "02cf538e",
   "metadata": {},
   "outputs": [],
   "source": [
    "d = c + c"
   ]
  },
  {
   "cell_type": "code",
   "execution_count": null,
   "id": "5aaa5e63",
   "metadata": {},
   "outputs": [],
   "source": [
    "d"
   ]
  },
  {
   "cell_type": "code",
   "execution_count": null,
   "id": "ff88ccf7",
   "metadata": {},
   "outputs": [],
   "source": [
    "e = d - c"
   ]
  },
  {
   "cell_type": "code",
   "execution_count": null,
   "id": "2aff68a3",
   "metadata": {},
   "outputs": [],
   "source": [
    "e"
   ]
  },
  {
   "cell_type": "markdown",
   "id": "7dd244b8",
   "metadata": {},
   "source": [
    "## 21.3. Heap 자료구조 처리하기"
   ]
  },
  {
   "cell_type": "code",
   "execution_count": null,
   "id": "141ec83b",
   "metadata": {},
   "outputs": [],
   "source": [
    "class Heap:\n",
    "    \n",
    "    def __init__(self):\n",
    "        self._dict = {}\n",
    "        \n",
    "    def is_empty(self):\n",
    "        return True if len(self._dict) == 0 else False\n",
    "    \n",
    "    def pop(self, key):\n",
    "        if self._dict.get(key, 0):\n",
    "            return self._dict.pop(key)\n",
    "        else:\n",
    "            return 0\n",
    "    \n",
    "    def push(self, key, value):\n",
    "        return self._dict.setdefault(key, value)\n",
    "    \n",
    "    def get_heap(self):\n",
    "        return self._dict.copy()"
   ]
  },
  {
   "cell_type": "code",
   "execution_count": null,
   "id": "8f6b0377",
   "metadata": {},
   "outputs": [],
   "source": [
    "h1 = Heap()"
   ]
  },
  {
   "cell_type": "code",
   "execution_count": null,
   "id": "1b0b64aa",
   "metadata": {},
   "outputs": [],
   "source": [
    "h1.is_empty()"
   ]
  },
  {
   "cell_type": "code",
   "execution_count": null,
   "id": "f7c65feb",
   "metadata": {},
   "outputs": [],
   "source": [
    "h1.push('가을', 100)"
   ]
  },
  {
   "cell_type": "code",
   "execution_count": null,
   "id": "50dc7407",
   "metadata": {},
   "outputs": [],
   "source": [
    "h1.push('겨울', 100)"
   ]
  },
  {
   "cell_type": "code",
   "execution_count": null,
   "id": "871ba519",
   "metadata": {},
   "outputs": [],
   "source": [
    "h1.get_heap()"
   ]
  },
  {
   "cell_type": "code",
   "execution_count": null,
   "id": "f091fc60",
   "metadata": {},
   "outputs": [],
   "source": [
    "h1.pop('겨울')"
   ]
  },
  {
   "cell_type": "code",
   "execution_count": null,
   "id": "57d7b928",
   "metadata": {},
   "outputs": [],
   "source": [
    "h1.get_heap()"
   ]
  },
  {
   "cell_type": "code",
   "execution_count": null,
   "id": "0b0a0b28",
   "metadata": {},
   "outputs": [],
   "source": [
    "h1.pop('겨울')"
   ]
  },
  {
   "cell_type": "code",
   "execution_count": null,
   "id": "1031ea80",
   "metadata": {},
   "outputs": [],
   "source": [
    "h1.pop('가을')"
   ]
  },
  {
   "cell_type": "code",
   "execution_count": null,
   "id": "699fa202",
   "metadata": {},
   "outputs": [],
   "source": [
    "h1.get_heap()"
   ]
  }
 ],
 "metadata": {
  "kernelspec": {
   "display_name": "Python 3 (ipykernel)",
   "language": "python",
   "name": "python3"
  },
  "language_info": {
   "codemirror_mode": {
    "name": "ipython",
    "version": 3
   },
   "file_extension": ".py",
   "mimetype": "text/x-python",
   "name": "python",
   "nbconvert_exporter": "python",
   "pygments_lexer": "ipython3",
   "version": "3.8.12"
  }
 },
 "nbformat": 4,
 "nbformat_minor": 5
}
