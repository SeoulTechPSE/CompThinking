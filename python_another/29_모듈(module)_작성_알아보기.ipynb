{
 "cells": [
  {
   "cell_type": "markdown",
   "id": "83310f75",
   "metadata": {},
   "source": [
    "# 28 장. 모듈(module) 작성 알아보기"
   ]
  },
  {
   "cell_type": "markdown",
   "id": "046a2d42",
   "metadata": {},
   "source": [
    "## 28.1. 모듈 클래스 알아보기"
   ]
  },
  {
   "cell_type": "code",
   "execution_count": null,
   "id": "4f7cdf13",
   "metadata": {},
   "outputs": [],
   "source": [
    "import types"
   ]
  },
  {
   "cell_type": "code",
   "execution_count": null,
   "id": "47e0de88",
   "metadata": {},
   "outputs": [],
   "source": [
    "import math"
   ]
  },
  {
   "cell_type": "code",
   "execution_count": null,
   "id": "4ad325fd",
   "metadata": {},
   "outputs": [],
   "source": [
    "print(type(math))"
   ]
  },
  {
   "cell_type": "code",
   "execution_count": null,
   "id": "59ae5c4d",
   "metadata": {},
   "outputs": [],
   "source": [
    "type(math) == types.ModuleType"
   ]
  },
  {
   "cell_type": "code",
   "execution_count": null,
   "id": "e6778907",
   "metadata": {},
   "outputs": [],
   "source": [
    "issubclass(type(math), types.ModuleType)"
   ]
  },
  {
   "cell_type": "code",
   "execution_count": null,
   "id": "95c4b7c6",
   "metadata": {},
   "outputs": [],
   "source": [
    "isinstance(math, types.ModuleType)"
   ]
  },
  {
   "cell_type": "code",
   "execution_count": null,
   "id": "ab77d594",
   "metadata": {},
   "outputs": [],
   "source": [
    "import math as ma"
   ]
  },
  {
   "cell_type": "code",
   "execution_count": null,
   "id": "9afabc5a",
   "metadata": {},
   "outputs": [],
   "source": [
    "ma is math"
   ]
  },
  {
   "cell_type": "markdown",
   "id": "5b6552e5",
   "metadata": {},
   "source": [
    "## 28.2. 모듈 생성과 실행하기"
   ]
  },
  {
   "cell_type": "code",
   "execution_count": null,
   "id": "8b8b1a1e",
   "metadata": {},
   "outputs": [],
   "source": [
    "from types import ModuleType\n",
    "\n",
    "class MyModule(ModuleType):\n",
    "    \n",
    "    def __repr__(self):\n",
    "        return 'MyModule'\n",
    "    \n",
    "    @staticmethod\n",
    "    def func(a, b):\n",
    "        return a, b\n",
    "    \n",
    "    class Person:\n",
    "        name = '모듈 내의 클래스'"
   ]
  },
  {
   "cell_type": "code",
   "execution_count": null,
   "id": "59a4e80c",
   "metadata": {},
   "outputs": [],
   "source": [
    "MyModule"
   ]
  },
  {
   "cell_type": "code",
   "execution_count": null,
   "id": "34759eea",
   "metadata": {},
   "outputs": [],
   "source": [
    "MyModule.__dict__"
   ]
  },
  {
   "cell_type": "code",
   "execution_count": null,
   "id": "2ae243cb",
   "metadata": {},
   "outputs": [],
   "source": [
    "MyModule.func(5, 5)"
   ]
  },
  {
   "cell_type": "code",
   "execution_count": null,
   "id": "173f2f90",
   "metadata": {},
   "outputs": [],
   "source": [
    "p = MyModule.Person()"
   ]
  },
  {
   "cell_type": "code",
   "execution_count": null,
   "id": "abc706bc",
   "metadata": {},
   "outputs": [],
   "source": [
    "p.name"
   ]
  },
  {
   "cell_type": "markdown",
   "id": "3b00552e",
   "metadata": {},
   "source": [
    "---"
   ]
  },
  {
   "cell_type": "code",
   "execution_count": null,
   "id": "560d15dc",
   "metadata": {},
   "outputs": [],
   "source": [
    "%%writefile math_.py\n",
    "\n",
    "import math\n",
    "\n",
    "pi = math.pi\n",
    "\n",
    "fsum = math.fsum\n",
    "\n",
    "class People:\n",
    "    name = '클래스 속성'"
   ]
  },
  {
   "cell_type": "code",
   "execution_count": null,
   "id": "523cd8dd",
   "metadata": {},
   "outputs": [],
   "source": [
    "import math_"
   ]
  },
  {
   "cell_type": "code",
   "execution_count": null,
   "id": "721609b6",
   "metadata": {},
   "outputs": [],
   "source": [
    "import types"
   ]
  },
  {
   "cell_type": "code",
   "execution_count": null,
   "id": "4ce55147",
   "metadata": {},
   "outputs": [],
   "source": [
    "type(math_) == types.ModuleType"
   ]
  },
  {
   "cell_type": "code",
   "execution_count": null,
   "id": "8470cfbe",
   "metadata": {},
   "outputs": [],
   "source": [
    "math_.pi"
   ]
  },
  {
   "cell_type": "code",
   "execution_count": null,
   "id": "2c5df77d",
   "metadata": {},
   "outputs": [],
   "source": [
    "dir(math_)"
   ]
  },
  {
   "cell_type": "code",
   "execution_count": null,
   "id": "06df99f1",
   "metadata": {},
   "outputs": [],
   "source": [
    "math_.fsum"
   ]
  },
  {
   "cell_type": "code",
   "execution_count": null,
   "id": "08e6cb81",
   "metadata": {},
   "outputs": [],
   "source": [
    "math_.fsum([1, 2, 3, 4, 5])"
   ]
  },
  {
   "cell_type": "code",
   "execution_count": null,
   "id": "95f82e35",
   "metadata": {},
   "outputs": [],
   "source": [
    "p = math_.People()"
   ]
  },
  {
   "cell_type": "code",
   "execution_count": null,
   "id": "61c245d5",
   "metadata": {},
   "outputs": [],
   "source": [
    "p.name"
   ]
  },
  {
   "cell_type": "code",
   "execution_count": null,
   "id": "6f6fe3d6",
   "metadata": {},
   "outputs": [],
   "source": [
    "math_.People.__module__"
   ]
  },
  {
   "cell_type": "code",
   "execution_count": null,
   "id": "f919c2d8",
   "metadata": {},
   "outputs": [],
   "source": [
    "math_.fsum.__module__"
   ]
  },
  {
   "cell_type": "markdown",
   "id": "93d8610c",
   "metadata": {},
   "source": [
    "## 28.1. 모듈을 쉘로 실행하기"
   ]
  },
  {
   "cell_type": "code",
   "execution_count": null,
   "id": "afd5e493",
   "metadata": {},
   "outputs": [],
   "source": [
    "%%writefile main.py\n",
    "\"\"\" 메인 모듈입니다 \"\"\"\n",
    "\n",
    "def add(x, y):\n",
    "    return x + y\n",
    "\n",
    "class Python:\n",
    "    def __init__(self, version):\n",
    "        self.version = version\n",
    "        \n",
    "    def get_version(self):\n",
    "        return self.version\n",
    "        \n",
    "if __name__ == '__main__':\n",
    "    print('함수 add 실행: ', add(10, 10))\n",
    "    p = Python('3.8')\n",
    "    print('파이썬 객체 생성: ', p, p.get_version())\n",
    "else:\n",
    "    print('import 처리된 모듈')"
   ]
  },
  {
   "cell_type": "code",
   "execution_count": null,
   "id": "8d90112d",
   "metadata": {},
   "outputs": [],
   "source": [
    "%ls -la m*"
   ]
  },
  {
   "cell_type": "code",
   "execution_count": null,
   "id": "12fe8ed0",
   "metadata": {},
   "outputs": [],
   "source": [
    "%run ./main.py"
   ]
  },
  {
   "cell_type": "code",
   "execution_count": null,
   "id": "b497f28a",
   "metadata": {},
   "outputs": [],
   "source": [
    "!python ./main.py"
   ]
  },
  {
   "cell_type": "code",
   "execution_count": null,
   "id": "0d9f4149",
   "metadata": {},
   "outputs": [],
   "source": [
    "import main"
   ]
  },
  {
   "cell_type": "code",
   "execution_count": null,
   "id": "ebfd03b7",
   "metadata": {},
   "outputs": [],
   "source": [
    "main.__name__"
   ]
  },
  {
   "cell_type": "markdown",
   "id": "f4952c7f",
   "metadata": {},
   "source": [
    "---"
   ]
  },
  {
   "cell_type": "code",
   "execution_count": null,
   "id": "51d546e4",
   "metadata": {},
   "outputs": [],
   "source": [
    "%%writefile main_1.py\n",
    "\"\"\" 메인 1 모듈입니다. \"\"\"\n",
    "\n",
    "z = 100\n",
    "\n",
    "def add(x, y):\n",
    "    return x + y + z"
   ]
  },
  {
   "cell_type": "code",
   "execution_count": null,
   "id": "c0d51262",
   "metadata": {},
   "outputs": [],
   "source": [
    "import main_1"
   ]
  },
  {
   "cell_type": "code",
   "execution_count": null,
   "id": "1dd2cc9b",
   "metadata": {},
   "outputs": [],
   "source": [
    "z = 999"
   ]
  },
  {
   "cell_type": "code",
   "execution_count": null,
   "id": "ace61777",
   "metadata": {},
   "outputs": [],
   "source": [
    "main_1.add(5, 5)"
   ]
  },
  {
   "cell_type": "code",
   "execution_count": null,
   "id": "09201730",
   "metadata": {},
   "outputs": [],
   "source": [
    "main_1.add.__module__"
   ]
  },
  {
   "cell_type": "code",
   "execution_count": null,
   "id": "4dadb7a9",
   "metadata": {},
   "outputs": [],
   "source": [
    "main_1.z = 777"
   ]
  },
  {
   "cell_type": "code",
   "execution_count": null,
   "id": "ca11d0eb",
   "metadata": {},
   "outputs": [],
   "source": [
    "main_1.add(5, 5)"
   ]
  },
  {
   "cell_type": "code",
   "execution_count": null,
   "id": "1f5e7bf3",
   "metadata": {},
   "outputs": [],
   "source": [
    "import os\n",
    "\n",
    "os.remove('math_.py')\n",
    "os.remove('main.py')\n",
    "os.remove('main_1.py')"
   ]
  }
 ],
 "metadata": {
  "kernelspec": {
   "display_name": "Python 3 (ipykernel)",
   "language": "python",
   "name": "python3"
  },
  "language_info": {
   "codemirror_mode": {
    "name": "ipython",
    "version": 3
   },
   "file_extension": ".py",
   "mimetype": "text/x-python",
   "name": "python",
   "nbconvert_exporter": "python",
   "pygments_lexer": "ipython3",
   "version": "3.8.12"
  }
 },
 "nbformat": 4,
 "nbformat_minor": 5
}
