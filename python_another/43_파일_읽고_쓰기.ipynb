{
 "cells": [
  {
   "cell_type": "markdown",
   "id": "4caabf79",
   "metadata": {},
   "source": [
    "# 43 장. 파일 읽고 쓰기"
   ]
  },
  {
   "cell_type": "markdown",
   "id": "649a8b5a",
   "metadata": {},
   "source": [
    "## 43.1.  파일 읽고 쓰기"
   ]
  },
  {
   "cell_type": "code",
   "execution_count": null,
   "id": "0ec4cf25",
   "metadata": {},
   "outputs": [],
   "source": [
    "f = open('file.txt', 'wt') # t -> 유니코드 문자열"
   ]
  },
  {
   "cell_type": "code",
   "execution_count": null,
   "id": "95c0f1d5",
   "metadata": {},
   "outputs": [],
   "source": [
    "w = \"\"\"윈스턴은 오길비 동무에게 특별 훈장을 줄까 하고 생각했다가 그만두었다.\n",
    "그렇게 하려면 하나부터 열까지 까다로운 대조를 해야 하기 때문이었다.\n",
    "  그는 다시 한번 맞은편 책상에 앉아 있는 라이벌을 흘끗 쳐다보았다.\"\"\""
   ]
  },
  {
   "cell_type": "code",
   "execution_count": null,
   "id": "66c71a42",
   "metadata": {},
   "outputs": [],
   "source": [
    "f.writelines(w)"
   ]
  },
  {
   "cell_type": "code",
   "execution_count": null,
   "id": "fc24eb35",
   "metadata": {},
   "outputs": [],
   "source": [
    "f.close()"
   ]
  },
  {
   "cell_type": "markdown",
   "id": "dd3247fb",
   "metadata": {},
   "source": [
    "---"
   ]
  },
  {
   "cell_type": "code",
   "execution_count": null,
   "id": "db980b2d",
   "metadata": {},
   "outputs": [],
   "source": [
    "fr = open('file.txt', 'rt')"
   ]
  },
  {
   "cell_type": "code",
   "execution_count": null,
   "id": "83c39061",
   "metadata": {},
   "outputs": [],
   "source": [
    "fr"
   ]
  },
  {
   "cell_type": "code",
   "execution_count": null,
   "id": "cb499bd1",
   "metadata": {},
   "outputs": [],
   "source": [
    "fr.readline()"
   ]
  },
  {
   "cell_type": "code",
   "execution_count": null,
   "id": "cd96724f",
   "metadata": {},
   "outputs": [],
   "source": [
    "fr.readline()"
   ]
  },
  {
   "cell_type": "code",
   "execution_count": null,
   "id": "7afdac9d",
   "metadata": {},
   "outputs": [],
   "source": [
    "fr.readline()"
   ]
  },
  {
   "cell_type": "code",
   "execution_count": null,
   "id": "5bf975d8",
   "metadata": {},
   "outputs": [],
   "source": [
    "fr.close()"
   ]
  },
  {
   "cell_type": "markdown",
   "id": "550f2f56",
   "metadata": {},
   "source": [
    "---"
   ]
  },
  {
   "cell_type": "code",
   "execution_count": null,
   "id": "cadcc981",
   "metadata": {},
   "outputs": [],
   "source": [
    "fu = open('file.txt', 'rt', encoding='utf-8')"
   ]
  },
  {
   "cell_type": "code",
   "execution_count": null,
   "id": "3acd5d3e",
   "metadata": {},
   "outputs": [],
   "source": [
    "fu"
   ]
  },
  {
   "cell_type": "code",
   "execution_count": null,
   "id": "9db86abd",
   "metadata": {},
   "outputs": [],
   "source": [
    "a = fu.readline().encode(encoding='cp949')"
   ]
  },
  {
   "cell_type": "code",
   "execution_count": null,
   "id": "c97707fb",
   "metadata": {},
   "outputs": [],
   "source": [
    "a.decode(encoding='cp949')"
   ]
  },
  {
   "cell_type": "code",
   "execution_count": null,
   "id": "e9e3de86",
   "metadata": {},
   "outputs": [],
   "source": [
    "fu.close()"
   ]
  },
  {
   "cell_type": "markdown",
   "id": "13ec60b3",
   "metadata": {},
   "source": [
    "---"
   ]
  },
  {
   "cell_type": "code",
   "execution_count": null,
   "id": "f14bd689",
   "metadata": {},
   "outputs": [],
   "source": [
    "f_u = open('file_u.txt', 'wt', encoding='utf-8')"
   ]
  },
  {
   "cell_type": "code",
   "execution_count": null,
   "id": "8b476fda",
   "metadata": {},
   "outputs": [],
   "source": [
    "f_u.writelines(w)"
   ]
  },
  {
   "cell_type": "code",
   "execution_count": null,
   "id": "cddb8f1a",
   "metadata": {},
   "outputs": [],
   "source": [
    "f_u.close()"
   ]
  },
  {
   "cell_type": "code",
   "execution_count": null,
   "id": "6d305ac5",
   "metadata": {},
   "outputs": [],
   "source": [
    "f_u = open('file_u.txt', 'rt', encoding='utf-8')"
   ]
  },
  {
   "cell_type": "code",
   "execution_count": null,
   "id": "0bd38db4",
   "metadata": {},
   "outputs": [],
   "source": [
    "f_u"
   ]
  },
  {
   "cell_type": "code",
   "execution_count": null,
   "id": "1a6c109c",
   "metadata": {},
   "outputs": [],
   "source": [
    "s = f_u.read()"
   ]
  },
  {
   "cell_type": "code",
   "execution_count": null,
   "id": "e48778c1",
   "metadata": {},
   "outputs": [],
   "source": [
    "len(s)"
   ]
  },
  {
   "cell_type": "code",
   "execution_count": null,
   "id": "cbb60901",
   "metadata": {},
   "outputs": [],
   "source": [
    "f_u.close()"
   ]
  },
  {
   "cell_type": "markdown",
   "id": "89aee0c8",
   "metadata": {},
   "source": [
    "---"
   ]
  },
  {
   "cell_type": "code",
   "execution_count": null,
   "id": "e32ed437",
   "metadata": {},
   "outputs": [],
   "source": [
    "for i in open('file_u.txt', 'rt', encoding='utf-8'):\n",
    "    print(i, end='')"
   ]
  },
  {
   "cell_type": "markdown",
   "id": "ded98621",
   "metadata": {},
   "source": [
    "---"
   ]
  },
  {
   "cell_type": "code",
   "execution_count": null,
   "id": "e424ac62",
   "metadata": {},
   "outputs": [],
   "source": [
    "fb = open('file_b.txt', 'wb')  # b -> 바이트 문자열"
   ]
  },
  {
   "cell_type": "code",
   "execution_count": null,
   "id": "9fae3fea",
   "metadata": {},
   "outputs": [],
   "source": [
    "fb.write(b'In 1822, Fourier claimed that any function, whether continuous or discontinuous, can be expanded into a series of sines.')"
   ]
  },
  {
   "cell_type": "code",
   "execution_count": null,
   "id": "b95798b7",
   "metadata": {},
   "outputs": [],
   "source": [
    "fb.close()"
   ]
  },
  {
   "cell_type": "code",
   "execution_count": null,
   "id": "ee660dd7",
   "metadata": {},
   "outputs": [],
   "source": [
    "fb = open('file_b.txt', 'rb')"
   ]
  },
  {
   "cell_type": "code",
   "execution_count": null,
   "id": "8a44bca5",
   "metadata": {},
   "outputs": [],
   "source": [
    "fb"
   ]
  },
  {
   "cell_type": "code",
   "execution_count": null,
   "id": "7a43d225",
   "metadata": {},
   "outputs": [],
   "source": [
    "fb.read()"
   ]
  },
  {
   "cell_type": "code",
   "execution_count": null,
   "id": "8ada3a0f",
   "metadata": {},
   "outputs": [],
   "source": [
    "fb.close()"
   ]
  },
  {
   "cell_type": "code",
   "execution_count": null,
   "id": "6bc3eed2",
   "metadata": {},
   "outputs": [],
   "source": [
    "import os\n",
    "\n",
    "os.remove('file.txt')\n",
    "os.remove('file_u.txt')\n",
    "os.remove('file_b.txt')"
   ]
  },
  {
   "cell_type": "markdown",
   "id": "d3618a77",
   "metadata": {},
   "source": [
    "## 43.2. 임시 파일 처리"
   ]
  },
  {
   "cell_type": "code",
   "execution_count": null,
   "id": "5f74dff1",
   "metadata": {},
   "outputs": [],
   "source": [
    "import io"
   ]
  },
  {
   "cell_type": "code",
   "execution_count": null,
   "id": "84244d7b",
   "metadata": {},
   "outputs": [],
   "source": [
    "s = io.StringIO('가을이라')"
   ]
  },
  {
   "cell_type": "code",
   "execution_count": null,
   "id": "626a765a",
   "metadata": {},
   "outputs": [],
   "source": [
    "s"
   ]
  },
  {
   "cell_type": "code",
   "execution_count": null,
   "id": "c5a38849",
   "metadata": {},
   "outputs": [],
   "source": [
    "s.read(), s.getvalue()"
   ]
  },
  {
   "cell_type": "code",
   "execution_count": null,
   "id": "7d53772b",
   "metadata": {},
   "outputs": [],
   "source": [
    "s.close()"
   ]
  },
  {
   "cell_type": "markdown",
   "id": "13cfe986",
   "metadata": {},
   "source": [
    "---"
   ]
  },
  {
   "cell_type": "code",
   "execution_count": null,
   "id": "ce66c3d9",
   "metadata": {},
   "outputs": [],
   "source": [
    "output = io.StringIO()\n",
    "output.write('First line. \\n')\n",
    "print('Second line.', file=output)"
   ]
  },
  {
   "cell_type": "code",
   "execution_count": null,
   "id": "147bda0e",
   "metadata": {},
   "outputs": [],
   "source": [
    "output.tell()  # 현재 위치 확인"
   ]
  },
  {
   "cell_type": "code",
   "execution_count": null,
   "id": "a6ef20cf",
   "metadata": {},
   "outputs": [],
   "source": [
    "output.seek(0) # 다시 처음 위치로\n",
    "output.read()"
   ]
  },
  {
   "cell_type": "code",
   "execution_count": null,
   "id": "c6e27a2e",
   "metadata": {},
   "outputs": [],
   "source": [
    "contents = output.getvalue()\n",
    "output.close()"
   ]
  },
  {
   "cell_type": "code",
   "execution_count": null,
   "id": "f3b2b413",
   "metadata": {},
   "outputs": [],
   "source": [
    "contents"
   ]
  },
  {
   "cell_type": "markdown",
   "id": "bd16fecf",
   "metadata": {},
   "source": [
    "---"
   ]
  },
  {
   "cell_type": "code",
   "execution_count": null,
   "id": "f8b1c012",
   "metadata": {},
   "outputs": [],
   "source": [
    "b = io.BytesIO(b'abcdef')"
   ]
  },
  {
   "cell_type": "code",
   "execution_count": null,
   "id": "d4326ec3",
   "metadata": {},
   "outputs": [],
   "source": [
    "b"
   ]
  },
  {
   "cell_type": "code",
   "execution_count": null,
   "id": "930c02d1",
   "metadata": {},
   "outputs": [],
   "source": [
    "view = b.getbuffer()\n",
    "view[2:4] = b'56'"
   ]
  },
  {
   "cell_type": "code",
   "execution_count": null,
   "id": "e74d6f3f",
   "metadata": {},
   "outputs": [],
   "source": [
    "view"
   ]
  },
  {
   "cell_type": "code",
   "execution_count": null,
   "id": "fb8044ac",
   "metadata": {},
   "outputs": [],
   "source": [
    "b.read(), b.getvalue()"
   ]
  },
  {
   "cell_type": "markdown",
   "id": "711a8438",
   "metadata": {},
   "source": [
    "---"
   ]
  },
  {
   "cell_type": "code",
   "execution_count": null,
   "id": "98fd30cf",
   "metadata": {},
   "outputs": [],
   "source": [
    "bc = io.BytesIO()"
   ]
  },
  {
   "cell_type": "code",
   "execution_count": null,
   "id": "ce236384",
   "metadata": {},
   "outputs": [],
   "source": [
    "bc.write(b'Hello World!!!')"
   ]
  },
  {
   "cell_type": "code",
   "execution_count": null,
   "id": "dd1a76f1",
   "metadata": {},
   "outputs": [],
   "source": [
    "bc.tell()"
   ]
  },
  {
   "cell_type": "code",
   "execution_count": null,
   "id": "afe58723",
   "metadata": {},
   "outputs": [],
   "source": [
    "bc.seek(0)"
   ]
  },
  {
   "cell_type": "code",
   "execution_count": null,
   "id": "1e0d9e5b",
   "metadata": {},
   "outputs": [],
   "source": [
    "bc.read()"
   ]
  },
  {
   "cell_type": "code",
   "execution_count": null,
   "id": "3ad5bfa5",
   "metadata": {},
   "outputs": [],
   "source": [
    "bc.close()"
   ]
  },
  {
   "cell_type": "markdown",
   "id": "274a0147",
   "metadata": {},
   "source": [
    "## 43.3. 컨텍스트 환경 처리"
   ]
  },
  {
   "cell_type": "code",
   "execution_count": null,
   "id": "0f2daeac",
   "metadata": {},
   "outputs": [],
   "source": [
    "%%writefile withfile.txt\n",
    "Lorem Ipsum is simply dummy text of the printing and typesetting industry. \n",
    "Lorem Ipsum has been the industry's standard dummy text ever since the 1500s, \n",
    "when an unknown printer took a galley of type and scrambled it to make a type specimen book. \n",
    "It has survived not only five centuries, but also the leap into electronic typesetting, \n",
    "remaining essentially unchanged. It was popularised in the 1960s with the release of Letraset sheets \n",
    "containing Lorem Ipsum passages, and more recently with desktop publishing software like Aldus PageMaker \n",
    "including versions of Lorem Ipsum."
   ]
  },
  {
   "cell_type": "code",
   "execution_count": null,
   "id": "69e57703",
   "metadata": {},
   "outputs": [],
   "source": [
    "with open('withfile.txt', 'rt') as wf:\n",
    "    for i in wf:\n",
    "        print(i, end='')"
   ]
  },
  {
   "cell_type": "code",
   "execution_count": null,
   "id": "47d38626",
   "metadata": {},
   "outputs": [],
   "source": [
    "wf"
   ]
  },
  {
   "cell_type": "code",
   "execution_count": null,
   "id": "fe3d8133",
   "metadata": {},
   "outputs": [],
   "source": [
    "wf.__enter__"
   ]
  },
  {
   "cell_type": "code",
   "execution_count": null,
   "id": "a06a58fb",
   "metadata": {},
   "outputs": [],
   "source": [
    "f.__exit__"
   ]
  },
  {
   "cell_type": "code",
   "execution_count": null,
   "id": "6e3f5505",
   "metadata": {},
   "outputs": [],
   "source": [
    "with open('withfile_w.txt', 'wt') as wfw:\n",
    "    wfw.write('파일을 저장합니다')"
   ]
  },
  {
   "cell_type": "code",
   "execution_count": null,
   "id": "9b01a679",
   "metadata": {},
   "outputs": [],
   "source": [
    "with open('withfile_w.txt', 'rt') as wfw:\n",
    "    print(wfw.read())"
   ]
  },
  {
   "cell_type": "code",
   "execution_count": null,
   "id": "73ba10ff",
   "metadata": {},
   "outputs": [],
   "source": [
    "os.remove('withfile.txt')\n",
    "os.remove('withfile_w.txt')"
   ]
  },
  {
   "cell_type": "markdown",
   "id": "9f4937ce",
   "metadata": {},
   "source": [
    "---"
   ]
  },
  {
   "cell_type": "code",
   "execution_count": null,
   "id": "9c4501b4",
   "metadata": {},
   "outputs": [],
   "source": [
    "class File:\n",
    "    \n",
    "    def __init__(self, filename, mode):\n",
    "        self.filename = filename\n",
    "        self.mode = mode\n",
    "        \n",
    "    def __enter__(self):\n",
    "        self.open_file = open(self.filename, self.mode)\n",
    "        return self.open_file\n",
    "    \n",
    "    def __exit__(self, type, value, traceback):\n",
    "        print('type', type)\n",
    "        print('value', value)\n",
    "        print('traceback', traceback)\n",
    "        self.open_file.close()\n",
    "        if type != None:\n",
    "            return True"
   ]
  },
  {
   "cell_type": "code",
   "execution_count": null,
   "id": "6cd8bb3d",
   "metadata": {},
   "outputs": [],
   "source": [
    "with File('with_1.txt', 'wt') as f:\n",
    "    f.write('안녕하세요. 또 만나요')"
   ]
  },
  {
   "cell_type": "code",
   "execution_count": null,
   "id": "b1be3970",
   "metadata": {},
   "outputs": [],
   "source": [
    "# %load with_1.txt\n",
    "안녕하세요. 또 만나요"
   ]
  },
  {
   "cell_type": "markdown",
   "id": "69081fc6",
   "metadata": {},
   "source": [
    "---"
   ]
  },
  {
   "cell_type": "code",
   "execution_count": null,
   "id": "7ea5566d",
   "metadata": {},
   "outputs": [],
   "source": [
    "with File('with_1.txt', 'rt') as f:\n",
    "    for i in f:\n",
    "        print(i)\n",
    "    f.seek(0)\n",
    "    print(f.read())"
   ]
  },
  {
   "cell_type": "code",
   "execution_count": null,
   "id": "24850354",
   "metadata": {},
   "outputs": [],
   "source": [
    "with File('with_1.txt', 'rt') as f:\n",
    "    raise FileNotFoundError('화일이 없습니다.')"
   ]
  },
  {
   "cell_type": "code",
   "execution_count": null,
   "id": "56995e89",
   "metadata": {},
   "outputs": [],
   "source": [
    "os.remove('with_1.txt')"
   ]
  }
 ],
 "metadata": {
  "kernelspec": {
   "display_name": "Python 3 (ipykernel)",
   "language": "python",
   "name": "python3"
  },
  "language_info": {
   "codemirror_mode": {
    "name": "ipython",
    "version": 3
   },
   "file_extension": ".py",
   "mimetype": "text/x-python",
   "name": "python",
   "nbconvert_exporter": "python",
   "pygments_lexer": "ipython3",
   "version": "3.8.12"
  }
 },
 "nbformat": 4,
 "nbformat_minor": 5
}
