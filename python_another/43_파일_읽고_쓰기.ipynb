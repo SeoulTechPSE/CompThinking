{
 "cells": [
  {
   "cell_type": "markdown",
   "id": "4caabf79",
   "metadata": {},
   "source": [
    "# 43 장. 파일 읽고 쓰기"
   ]
  },
  {
   "cell_type": "markdown",
   "id": "649a8b5a",
   "metadata": {},
   "source": [
    "## 43.1.  파일 읽고 쓰기"
   ]
  },
  {
   "cell_type": "code",
   "execution_count": 1,
   "id": "0ec4cf25",
   "metadata": {},
   "outputs": [],
   "source": [
    "f = open('file.txt', 'wt') # t -> 유니코드 문자열"
   ]
  },
  {
   "cell_type": "code",
   "execution_count": 2,
   "id": "95c0f1d5",
   "metadata": {},
   "outputs": [],
   "source": [
    "w = \"\"\"윈스턴은 오길비 동무에게 특별 훈장을 줄까 하고 생각했다가 그만두었다.\n",
    "그렇게 하려면 하나부터 열까지 까다로운 대조를 해야 하기 때문이었다.\n",
    "  그는 다시 한번 맞은편 책상에 앉아 있는 라이벌을 흘끗 쳐다보았다.\"\"\""
   ]
  },
  {
   "cell_type": "code",
   "execution_count": 3,
   "id": "66c71a42",
   "metadata": {},
   "outputs": [],
   "source": [
    "f.writelines(w)"
   ]
  },
  {
   "cell_type": "code",
   "execution_count": 4,
   "id": "fc24eb35",
   "metadata": {},
   "outputs": [],
   "source": [
    "f.close()"
   ]
  },
  {
   "cell_type": "markdown",
   "id": "dd3247fb",
   "metadata": {},
   "source": [
    "---"
   ]
  },
  {
   "cell_type": "code",
   "execution_count": 5,
   "id": "db980b2d",
   "metadata": {},
   "outputs": [],
   "source": [
    "fr = open('file.txt', 'rt')"
   ]
  },
  {
   "cell_type": "code",
   "execution_count": 6,
   "id": "83c39061",
   "metadata": {},
   "outputs": [
    {
     "data": {
      "text/plain": [
       "<_io.TextIOWrapper name='file.txt' mode='rt' encoding='UTF-8'>"
      ]
     },
     "execution_count": 6,
     "metadata": {},
     "output_type": "execute_result"
    }
   ],
   "source": [
    "fr"
   ]
  },
  {
   "cell_type": "code",
   "execution_count": 7,
   "id": "cb499bd1",
   "metadata": {},
   "outputs": [
    {
     "data": {
      "text/plain": [
       "'윈스턴은 오길비 동무에게 특별 훈장을 줄까 하고 생각했다가 그만두었다.\\n'"
      ]
     },
     "execution_count": 7,
     "metadata": {},
     "output_type": "execute_result"
    }
   ],
   "source": [
    "fr.readline()"
   ]
  },
  {
   "cell_type": "code",
   "execution_count": 8,
   "id": "cd96724f",
   "metadata": {},
   "outputs": [
    {
     "data": {
      "text/plain": [
       "'그렇게 하려면 하나부터 열까지 까다로운 대조를 해야 하기 때문이었다.\\n'"
      ]
     },
     "execution_count": 8,
     "metadata": {},
     "output_type": "execute_result"
    }
   ],
   "source": [
    "fr.readline()"
   ]
  },
  {
   "cell_type": "code",
   "execution_count": 9,
   "id": "7afdac9d",
   "metadata": {},
   "outputs": [
    {
     "data": {
      "text/plain": [
       "'  그는 다시 한번 맞은편 책상에 앉아 있는 라이벌을 흘끗 쳐다보았다.'"
      ]
     },
     "execution_count": 9,
     "metadata": {},
     "output_type": "execute_result"
    }
   ],
   "source": [
    "fr.readline()"
   ]
  },
  {
   "cell_type": "code",
   "execution_count": 10,
   "id": "5bf975d8",
   "metadata": {},
   "outputs": [],
   "source": [
    "fr.close()"
   ]
  },
  {
   "cell_type": "markdown",
   "id": "550f2f56",
   "metadata": {},
   "source": [
    "---"
   ]
  },
  {
   "cell_type": "code",
   "execution_count": 11,
   "id": "cadcc981",
   "metadata": {},
   "outputs": [],
   "source": [
    "fu = open('file.txt', 'rt', encoding='utf-8')"
   ]
  },
  {
   "cell_type": "code",
   "execution_count": 12,
   "id": "3acd5d3e",
   "metadata": {},
   "outputs": [
    {
     "data": {
      "text/plain": [
       "<_io.TextIOWrapper name='file.txt' mode='rt' encoding='utf-8'>"
      ]
     },
     "execution_count": 12,
     "metadata": {},
     "output_type": "execute_result"
    }
   ],
   "source": [
    "fu"
   ]
  },
  {
   "cell_type": "code",
   "execution_count": 13,
   "id": "9db86abd",
   "metadata": {},
   "outputs": [],
   "source": [
    "a = fu.readline().encode(encoding='cp949')"
   ]
  },
  {
   "cell_type": "code",
   "execution_count": 14,
   "id": "c97707fb",
   "metadata": {},
   "outputs": [
    {
     "data": {
      "text/plain": [
       "'윈스턴은 오길비 동무에게 특별 훈장을 줄까 하고 생각했다가 그만두었다.\\n'"
      ]
     },
     "execution_count": 14,
     "metadata": {},
     "output_type": "execute_result"
    }
   ],
   "source": [
    "a.decode(encoding='cp949')"
   ]
  },
  {
   "cell_type": "code",
   "execution_count": 15,
   "id": "e9e3de86",
   "metadata": {},
   "outputs": [],
   "source": [
    "fu.close()"
   ]
  },
  {
   "cell_type": "markdown",
   "id": "13ec60b3",
   "metadata": {},
   "source": [
    "---"
   ]
  },
  {
   "cell_type": "code",
   "execution_count": 16,
   "id": "f14bd689",
   "metadata": {},
   "outputs": [],
   "source": [
    "f_u = open('file_u.txt', 'wt', encoding='utf-8')"
   ]
  },
  {
   "cell_type": "code",
   "execution_count": 17,
   "id": "8b476fda",
   "metadata": {},
   "outputs": [],
   "source": [
    "f_u.writelines(w)"
   ]
  },
  {
   "cell_type": "code",
   "execution_count": 18,
   "id": "cddb8f1a",
   "metadata": {},
   "outputs": [],
   "source": [
    "f_u.close()"
   ]
  },
  {
   "cell_type": "code",
   "execution_count": 19,
   "id": "6d305ac5",
   "metadata": {},
   "outputs": [],
   "source": [
    "f_u = open('file_u.txt', 'rt', encoding='utf-8')"
   ]
  },
  {
   "cell_type": "code",
   "execution_count": 20,
   "id": "0bd38db4",
   "metadata": {},
   "outputs": [
    {
     "data": {
      "text/plain": [
       "<_io.TextIOWrapper name='file_u.txt' mode='rt' encoding='utf-8'>"
      ]
     },
     "execution_count": 20,
     "metadata": {},
     "output_type": "execute_result"
    }
   ],
   "source": [
    "f_u"
   ]
  },
  {
   "cell_type": "code",
   "execution_count": 21,
   "id": "1a6c109c",
   "metadata": {},
   "outputs": [],
   "source": [
    "s = f_u.read()"
   ]
  },
  {
   "cell_type": "code",
   "execution_count": 22,
   "id": "e48778c1",
   "metadata": {},
   "outputs": [
    {
     "data": {
      "text/plain": [
       "118"
      ]
     },
     "execution_count": 22,
     "metadata": {},
     "output_type": "execute_result"
    }
   ],
   "source": [
    "len(s)"
   ]
  },
  {
   "cell_type": "code",
   "execution_count": 23,
   "id": "cbb60901",
   "metadata": {},
   "outputs": [],
   "source": [
    "f_u.close()"
   ]
  },
  {
   "cell_type": "markdown",
   "id": "89aee0c8",
   "metadata": {},
   "source": [
    "---"
   ]
  },
  {
   "cell_type": "code",
   "execution_count": 24,
   "id": "e32ed437",
   "metadata": {},
   "outputs": [
    {
     "name": "stdout",
     "output_type": "stream",
     "text": [
      "윈스턴은 오길비 동무에게 특별 훈장을 줄까 하고 생각했다가 그만두었다.\n",
      "그렇게 하려면 하나부터 열까지 까다로운 대조를 해야 하기 때문이었다.\n",
      "  그는 다시 한번 맞은편 책상에 앉아 있는 라이벌을 흘끗 쳐다보았다."
     ]
    }
   ],
   "source": [
    "for i in open('file_u.txt', 'rt', encoding='utf-8'):\n",
    "    print(i, end='')"
   ]
  },
  {
   "cell_type": "markdown",
   "id": "ded98621",
   "metadata": {},
   "source": [
    "---"
   ]
  },
  {
   "cell_type": "code",
   "execution_count": 25,
   "id": "e424ac62",
   "metadata": {},
   "outputs": [],
   "source": [
    "fb = open('file_b.txt', 'wb')  # b -> 바이트 문자열"
   ]
  },
  {
   "cell_type": "code",
   "execution_count": 26,
   "id": "9fae3fea",
   "metadata": {},
   "outputs": [
    {
     "data": {
      "text/plain": [
       "120"
      ]
     },
     "execution_count": 26,
     "metadata": {},
     "output_type": "execute_result"
    }
   ],
   "source": [
    "fb.write(b'In 1822, Fourier claimed that any function, whether continuous or discontinuous, can be expanded into a series of sines.')"
   ]
  },
  {
   "cell_type": "code",
   "execution_count": 27,
   "id": "b95798b7",
   "metadata": {},
   "outputs": [],
   "source": [
    "fb.close()"
   ]
  },
  {
   "cell_type": "code",
   "execution_count": 28,
   "id": "ee660dd7",
   "metadata": {},
   "outputs": [],
   "source": [
    "fb = open('file_b.txt', 'rb')"
   ]
  },
  {
   "cell_type": "code",
   "execution_count": 29,
   "id": "8a44bca5",
   "metadata": {},
   "outputs": [
    {
     "data": {
      "text/plain": [
       "<_io.BufferedReader name='file_b.txt'>"
      ]
     },
     "execution_count": 29,
     "metadata": {},
     "output_type": "execute_result"
    }
   ],
   "source": [
    "fb"
   ]
  },
  {
   "cell_type": "code",
   "execution_count": 30,
   "id": "7a43d225",
   "metadata": {},
   "outputs": [
    {
     "data": {
      "text/plain": [
       "b'In 1822, Fourier claimed that any function, whether continuous or discontinuous, can be expanded into a series of sines.'"
      ]
     },
     "execution_count": 30,
     "metadata": {},
     "output_type": "execute_result"
    }
   ],
   "source": [
    "fb.read()"
   ]
  },
  {
   "cell_type": "code",
   "execution_count": 31,
   "id": "8ada3a0f",
   "metadata": {},
   "outputs": [],
   "source": [
    "fb.close()"
   ]
  },
  {
   "cell_type": "code",
   "execution_count": 32,
   "id": "6bc3eed2",
   "metadata": {},
   "outputs": [],
   "source": [
    "import os\n",
    "\n",
    "os.remove('file.txt')\n",
    "os.remove('file_u.txt')\n",
    "os.remove('file_b.txt')"
   ]
  },
  {
   "cell_type": "markdown",
   "id": "d3618a77",
   "metadata": {},
   "source": [
    "## 43.2. 임시 파일 처리"
   ]
  },
  {
   "cell_type": "code",
   "execution_count": 33,
   "id": "5f74dff1",
   "metadata": {},
   "outputs": [],
   "source": [
    "import io"
   ]
  },
  {
   "cell_type": "code",
   "execution_count": 34,
   "id": "84244d7b",
   "metadata": {},
   "outputs": [],
   "source": [
    "s = io.StringIO('가을이라')"
   ]
  },
  {
   "cell_type": "code",
   "execution_count": 35,
   "id": "626a765a",
   "metadata": {},
   "outputs": [
    {
     "data": {
      "text/plain": [
       "<_io.StringIO at 0x7f85386ca1f0>"
      ]
     },
     "execution_count": 35,
     "metadata": {},
     "output_type": "execute_result"
    }
   ],
   "source": [
    "s"
   ]
  },
  {
   "cell_type": "code",
   "execution_count": 36,
   "id": "c5a38849",
   "metadata": {},
   "outputs": [
    {
     "data": {
      "text/plain": [
       "('가을이라', '가을이라')"
      ]
     },
     "execution_count": 36,
     "metadata": {},
     "output_type": "execute_result"
    }
   ],
   "source": [
    "s.read(), s.getvalue()"
   ]
  },
  {
   "cell_type": "code",
   "execution_count": 37,
   "id": "7d53772b",
   "metadata": {},
   "outputs": [],
   "source": [
    "s.close()"
   ]
  },
  {
   "cell_type": "markdown",
   "id": "13cfe986",
   "metadata": {},
   "source": [
    "---"
   ]
  },
  {
   "cell_type": "code",
   "execution_count": 38,
   "id": "ce66c3d9",
   "metadata": {},
   "outputs": [],
   "source": [
    "output = io.StringIO()\n",
    "output.write('First line. \\n')\n",
    "print('Second line.', file=output)"
   ]
  },
  {
   "cell_type": "code",
   "execution_count": 39,
   "id": "147bda0e",
   "metadata": {},
   "outputs": [
    {
     "data": {
      "text/plain": [
       "26"
      ]
     },
     "execution_count": 39,
     "metadata": {},
     "output_type": "execute_result"
    }
   ],
   "source": [
    "output.tell()  # 현재 위치 확인"
   ]
  },
  {
   "cell_type": "code",
   "execution_count": 40,
   "id": "a6ef20cf",
   "metadata": {},
   "outputs": [
    {
     "data": {
      "text/plain": [
       "'First line. \\nSecond line.\\n'"
      ]
     },
     "execution_count": 40,
     "metadata": {},
     "output_type": "execute_result"
    }
   ],
   "source": [
    "output.seek(0) # 다시 처음 위치로\n",
    "output.read()"
   ]
  },
  {
   "cell_type": "code",
   "execution_count": 41,
   "id": "c6e27a2e",
   "metadata": {},
   "outputs": [],
   "source": [
    "contents = output.getvalue()\n",
    "output.close()"
   ]
  },
  {
   "cell_type": "code",
   "execution_count": 42,
   "id": "f3b2b413",
   "metadata": {},
   "outputs": [
    {
     "data": {
      "text/plain": [
       "'First line. \\nSecond line.\\n'"
      ]
     },
     "execution_count": 42,
     "metadata": {},
     "output_type": "execute_result"
    }
   ],
   "source": [
    "contents"
   ]
  },
  {
   "cell_type": "markdown",
   "id": "bd16fecf",
   "metadata": {},
   "source": [
    "---"
   ]
  },
  {
   "cell_type": "code",
   "execution_count": 43,
   "id": "f8b1c012",
   "metadata": {},
   "outputs": [],
   "source": [
    "b = io.BytesIO(b'abcdef')"
   ]
  },
  {
   "cell_type": "code",
   "execution_count": 44,
   "id": "d4326ec3",
   "metadata": {},
   "outputs": [
    {
     "data": {
      "text/plain": [
       "<_io.BytesIO at 0x7f85386b6ea0>"
      ]
     },
     "execution_count": 44,
     "metadata": {},
     "output_type": "execute_result"
    }
   ],
   "source": [
    "b"
   ]
  },
  {
   "cell_type": "code",
   "execution_count": 45,
   "id": "930c02d1",
   "metadata": {},
   "outputs": [],
   "source": [
    "view = b.getbuffer()\n",
    "view[2:4] = b'56'"
   ]
  },
  {
   "cell_type": "code",
   "execution_count": 46,
   "id": "e74d6f3f",
   "metadata": {},
   "outputs": [
    {
     "data": {
      "text/plain": [
       "<memory at 0x7f8518992b80>"
      ]
     },
     "execution_count": 46,
     "metadata": {},
     "output_type": "execute_result"
    }
   ],
   "source": [
    "view"
   ]
  },
  {
   "cell_type": "code",
   "execution_count": 47,
   "id": "fb8044ac",
   "metadata": {},
   "outputs": [
    {
     "data": {
      "text/plain": [
       "(b'ab56ef', b'ab56ef')"
      ]
     },
     "execution_count": 47,
     "metadata": {},
     "output_type": "execute_result"
    }
   ],
   "source": [
    "b.read(), b.getvalue()"
   ]
  },
  {
   "cell_type": "markdown",
   "id": "711a8438",
   "metadata": {},
   "source": [
    "---"
   ]
  },
  {
   "cell_type": "code",
   "execution_count": 48,
   "id": "98fd30cf",
   "metadata": {},
   "outputs": [],
   "source": [
    "bc = io.BytesIO()"
   ]
  },
  {
   "cell_type": "code",
   "execution_count": 49,
   "id": "ce236384",
   "metadata": {},
   "outputs": [
    {
     "data": {
      "text/plain": [
       "14"
      ]
     },
     "execution_count": 49,
     "metadata": {},
     "output_type": "execute_result"
    }
   ],
   "source": [
    "bc.write(b'Hello World!!!')"
   ]
  },
  {
   "cell_type": "code",
   "execution_count": 50,
   "id": "dd1a76f1",
   "metadata": {},
   "outputs": [
    {
     "data": {
      "text/plain": [
       "14"
      ]
     },
     "execution_count": 50,
     "metadata": {},
     "output_type": "execute_result"
    }
   ],
   "source": [
    "bc.tell()"
   ]
  },
  {
   "cell_type": "code",
   "execution_count": 51,
   "id": "afe58723",
   "metadata": {},
   "outputs": [
    {
     "data": {
      "text/plain": [
       "0"
      ]
     },
     "execution_count": 51,
     "metadata": {},
     "output_type": "execute_result"
    }
   ],
   "source": [
    "bc.seek(0)"
   ]
  },
  {
   "cell_type": "code",
   "execution_count": 52,
   "id": "1e0d9e5b",
   "metadata": {},
   "outputs": [
    {
     "data": {
      "text/plain": [
       "b'Hello World!!!'"
      ]
     },
     "execution_count": 52,
     "metadata": {},
     "output_type": "execute_result"
    }
   ],
   "source": [
    "bc.read()"
   ]
  },
  {
   "cell_type": "code",
   "execution_count": 53,
   "id": "3ad5bfa5",
   "metadata": {},
   "outputs": [],
   "source": [
    "bc.close()"
   ]
  },
  {
   "cell_type": "markdown",
   "id": "274a0147",
   "metadata": {},
   "source": [
    "## 43.3. 컨텍스트 환경 처리"
   ]
  },
  {
   "cell_type": "code",
   "execution_count": 54,
   "id": "0f2daeac",
   "metadata": {},
   "outputs": [
    {
     "name": "stdout",
     "output_type": "stream",
     "text": [
      "Writing withfile.txt\n"
     ]
    }
   ],
   "source": [
    "%%writefile withfile.txt\n",
    "Lorem Ipsum is simply dummy text of the printing and typesetting industry. \n",
    "Lorem Ipsum has been the industry's standard dummy text ever since the 1500s, \n",
    "when an unknown printer took a galley of type and scrambled it to make a type specimen book. \n",
    "It has survived not only five centuries, but also the leap into electronic typesetting, \n",
    "remaining essentially unchanged. It was popularised in the 1960s with the release of Letraset sheets \n",
    "containing Lorem Ipsum passages, and more recently with desktop publishing software like Aldus PageMaker \n",
    "including versions of Lorem Ipsum."
   ]
  },
  {
   "cell_type": "code",
   "execution_count": 55,
   "id": "69e57703",
   "metadata": {},
   "outputs": [
    {
     "name": "stdout",
     "output_type": "stream",
     "text": [
      "Lorem Ipsum is simply dummy text of the printing and typesetting industry. \n",
      "Lorem Ipsum has been the industry's standard dummy text ever since the 1500s, \n",
      "when an unknown printer took a galley of type and scrambled it to make a type specimen book. \n",
      "It has survived not only five centuries, but also the leap into electronic typesetting, \n",
      "remaining essentially unchanged. It was popularised in the 1960s with the release of Letraset sheets \n",
      "containing Lorem Ipsum passages, and more recently with desktop publishing software like Aldus PageMaker \n",
      "including versions of Lorem Ipsum.\n"
     ]
    }
   ],
   "source": [
    "with open('withfile.txt', 'rt') as wf:\n",
    "    for i in wf:\n",
    "        print(i, end='')"
   ]
  },
  {
   "cell_type": "code",
   "execution_count": 56,
   "id": "47d38626",
   "metadata": {},
   "outputs": [
    {
     "data": {
      "text/plain": [
       "<_io.TextIOWrapper name='withfile.txt' mode='rt' encoding='UTF-8'>"
      ]
     },
     "execution_count": 56,
     "metadata": {},
     "output_type": "execute_result"
    }
   ],
   "source": [
    "wf"
   ]
  },
  {
   "cell_type": "code",
   "execution_count": 57,
   "id": "fe3d8133",
   "metadata": {},
   "outputs": [
    {
     "data": {
      "text/plain": [
       "<function TextIOWrapper.__enter__>"
      ]
     },
     "execution_count": 57,
     "metadata": {},
     "output_type": "execute_result"
    }
   ],
   "source": [
    "wf.__enter__"
   ]
  },
  {
   "cell_type": "code",
   "execution_count": 58,
   "id": "a06a58fb",
   "metadata": {},
   "outputs": [
    {
     "data": {
      "text/plain": [
       "<function TextIOWrapper.__exit__>"
      ]
     },
     "execution_count": 58,
     "metadata": {},
     "output_type": "execute_result"
    }
   ],
   "source": [
    "f.__exit__"
   ]
  },
  {
   "cell_type": "code",
   "execution_count": 59,
   "id": "6e3f5505",
   "metadata": {},
   "outputs": [],
   "source": [
    "with open('withfile_w.txt', 'wt') as wfw:\n",
    "    wfw.write('파일을 저장합니다')"
   ]
  },
  {
   "cell_type": "code",
   "execution_count": 60,
   "id": "9b01a679",
   "metadata": {},
   "outputs": [
    {
     "name": "stdout",
     "output_type": "stream",
     "text": [
      "파일을 저장합니다\n"
     ]
    }
   ],
   "source": [
    "with open('withfile_w.txt', 'rt') as wfw:\n",
    "    print(wfw.read())"
   ]
  },
  {
   "cell_type": "code",
   "execution_count": 61,
   "id": "73ba10ff",
   "metadata": {},
   "outputs": [],
   "source": [
    "os.remove('withfile.txt')\n",
    "os.remove('withfile_w.txt')"
   ]
  },
  {
   "cell_type": "markdown",
   "id": "9f4937ce",
   "metadata": {},
   "source": [
    "---"
   ]
  },
  {
   "cell_type": "code",
   "execution_count": 62,
   "id": "9c4501b4",
   "metadata": {},
   "outputs": [],
   "source": [
    "class File:\n",
    "    \n",
    "    def __init__(self, filename, mode):\n",
    "        self.filename = filename\n",
    "        self.mode = mode\n",
    "        \n",
    "    def __enter__(self):\n",
    "        self.open_file = open(self.filename, self.mode)\n",
    "        return self.open_file\n",
    "    \n",
    "    def __exit__(self, type, value, traceback):\n",
    "        print('type', type)\n",
    "        print('value', value)\n",
    "        print('traceback', traceback)\n",
    "        self.open_file.close()\n",
    "        if type != None:\n",
    "            return True"
   ]
  },
  {
   "cell_type": "code",
   "execution_count": 63,
   "id": "6cd8bb3d",
   "metadata": {},
   "outputs": [
    {
     "name": "stdout",
     "output_type": "stream",
     "text": [
      "type None\n",
      "value None\n",
      "traceback None\n"
     ]
    }
   ],
   "source": [
    "with File('with_1.txt', 'wt') as f:\n",
    "    f.write('안녕하세요. 또 만나요')"
   ]
  },
  {
   "cell_type": "code",
   "execution_count": null,
   "id": "b1be3970",
   "metadata": {},
   "outputs": [],
   "source": [
    "# %load with_1.txt\n",
    "안녕하세요. 또 만나요"
   ]
  },
  {
   "cell_type": "markdown",
   "id": "69081fc6",
   "metadata": {},
   "source": [
    "---"
   ]
  },
  {
   "cell_type": "code",
   "execution_count": 65,
   "id": "7ea5566d",
   "metadata": {},
   "outputs": [
    {
     "name": "stdout",
     "output_type": "stream",
     "text": [
      "안녕하세요. 또 만나요\n",
      "안녕하세요. 또 만나요\n",
      "type None\n",
      "value None\n",
      "traceback None\n"
     ]
    }
   ],
   "source": [
    "with File('with_1.txt', 'rt') as f:\n",
    "    for i in f:\n",
    "        print(i)\n",
    "    f.seek(0)\n",
    "    print(f.read())"
   ]
  },
  {
   "cell_type": "code",
   "execution_count": 66,
   "id": "24850354",
   "metadata": {},
   "outputs": [
    {
     "name": "stdout",
     "output_type": "stream",
     "text": [
      "type <class 'FileNotFoundError'>\n",
      "value 화일이 없습니다.\n",
      "traceback <traceback object at 0x7f85386ccac0>\n"
     ]
    }
   ],
   "source": [
    "with File('with_1.txt', 'rt') as f:\n",
    "    raise FileNotFoundError('화일이 없습니다.')"
   ]
  },
  {
   "cell_type": "code",
   "execution_count": 67,
   "id": "56995e89",
   "metadata": {},
   "outputs": [],
   "source": [
    "os.remove('with_1.txt')"
   ]
  }
 ],
 "metadata": {
  "kernelspec": {
   "display_name": "Python 3 (ipykernel)",
   "language": "python",
   "name": "python3"
  },
  "language_info": {
   "codemirror_mode": {
    "name": "ipython",
    "version": 3
   },
   "file_extension": ".py",
   "mimetype": "text/x-python",
   "name": "python",
   "nbconvert_exporter": "python",
   "pygments_lexer": "ipython3",
   "version": "3.8.12"
  }
 },
 "nbformat": 4,
 "nbformat_minor": 5
}
