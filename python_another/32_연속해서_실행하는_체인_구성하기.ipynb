{
 "cells": [
  {
   "cell_type": "markdown",
   "id": "dc5a92aa",
   "metadata": {},
   "source": [
    "# 32 장. 연속해서 실행하는 체인 구동하기"
   ]
  },
  {
   "cell_type": "markdown",
   "id": "220feb64",
   "metadata": {},
   "source": [
    "## 32.1. 함수 체인 구성하기"
   ]
  },
  {
   "cell_type": "code",
   "execution_count": null,
   "id": "524c83d8",
   "metadata": {},
   "outputs": [],
   "source": []
  },
  {
   "cell_type": "markdown",
   "id": "fc8f9826",
   "metadata": {},
   "source": [
    "## 32.2. 메소드 체인"
   ]
  }
 ],
 "metadata": {
  "kernelspec": {
   "display_name": "Python 3 (ipykernel)",
   "language": "python",
   "name": "python3"
  },
  "language_info": {
   "codemirror_mode": {
    "name": "ipython",
    "version": 3
   },
   "file_extension": ".py",
   "mimetype": "text/x-python",
   "name": "python",
   "nbconvert_exporter": "python",
   "pygments_lexer": "ipython3",
   "version": "3.8.12"
  }
 },
 "nbformat": 4,
 "nbformat_minor": 5
}
