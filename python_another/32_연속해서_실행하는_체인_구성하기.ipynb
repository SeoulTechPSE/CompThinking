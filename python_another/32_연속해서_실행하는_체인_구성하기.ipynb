{
 "cells": [
  {
   "cell_type": "markdown",
   "id": "fed04fb4",
   "metadata": {},
   "source": [
    "# 32 장. 연속해서 실행하는 체인 구동하기"
   ]
  },
  {
   "cell_type": "markdown",
   "id": "f1c2a75e",
   "metadata": {},
   "source": [
    "## 32.1. 함수 체인 구성하기"
   ]
  },
  {
   "cell_type": "code",
   "execution_count": null,
   "id": "8135fb40",
   "metadata": {},
   "outputs": [],
   "source": []
  },
  {
   "cell_type": "markdown",
   "id": "3701473d",
   "metadata": {},
   "source": [
    "## 32.2. 메소드 체인 구성하기"
   ]
  },
  {
   "cell_type": "code",
   "execution_count": null,
   "id": "dd4637e7",
   "metadata": {},
   "outputs": [],
   "source": []
  },
  {
   "cell_type": "markdown",
   "id": "475c8a9b",
   "metadata": {},
   "source": [
    "## 32.3. 같은 이름 메소드 오버로딩 처리하기"
   ]
  },
  {
   "cell_type": "code",
   "execution_count": null,
   "id": "c25654f8",
   "metadata": {},
   "outputs": [],
   "source": []
  }
 ],
 "metadata": {
  "kernelspec": {
   "display_name": "Python 3 (ipykernel)",
   "language": "python",
   "name": "python3"
  },
  "language_info": {
   "codemirror_mode": {
    "name": "ipython",
    "version": 3
   },
   "file_extension": ".py",
   "mimetype": "text/x-python",
   "name": "python",
   "nbconvert_exporter": "python",
   "pygments_lexer": "ipython3",
   "version": "3.8.12"
  }
 },
 "nbformat": 4,
 "nbformat_minor": 5
}
