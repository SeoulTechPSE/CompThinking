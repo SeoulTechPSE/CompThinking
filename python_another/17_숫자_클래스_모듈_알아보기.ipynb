{
 "cells": [
  {
   "cell_type": "markdown",
   "id": "a0f1128c",
   "metadata": {},
   "source": [
    "# 17 장. 숫자 클래스 모듈 알아보기"
   ]
  },
  {
   "cell_type": "markdown",
   "id": "05ba5ac6",
   "metadata": {},
   "source": [
    "## 17.1. 유리수와 정밀한 숫자 계산하는 모듈 알아보기"
   ]
  },
  {
   "cell_type": "code",
   "execution_count": 1,
   "id": "ba913340",
   "metadata": {},
   "outputs": [],
   "source": [
    "from fractions import Fraction"
   ]
  },
  {
   "cell_type": "code",
   "execution_count": 2,
   "id": "a5bfbfda",
   "metadata": {},
   "outputs": [],
   "source": [
    "f = Fraction(16, -10)"
   ]
  },
  {
   "cell_type": "code",
   "execution_count": 3,
   "id": "db9fc1af",
   "metadata": {},
   "outputs": [
    {
     "data": {
      "text/plain": [
       "Fraction(-8, 5)"
      ]
     },
     "execution_count": 3,
     "metadata": {},
     "output_type": "execute_result"
    }
   ],
   "source": [
    "f"
   ]
  },
  {
   "cell_type": "code",
   "execution_count": 4,
   "id": "f97b60ad",
   "metadata": {},
   "outputs": [
    {
     "data": {
      "text/plain": [
       "(-8, 5)"
      ]
     },
     "execution_count": 4,
     "metadata": {},
     "output_type": "execute_result"
    }
   ],
   "source": [
    "f.numerator, f.denominator"
   ]
  },
  {
   "cell_type": "markdown",
   "id": "fc23a999",
   "metadata": {},
   "source": [
    "---"
   ]
  },
  {
   "cell_type": "code",
   "execution_count": 5,
   "id": "9d056e39",
   "metadata": {},
   "outputs": [],
   "source": [
    "import math"
   ]
  },
  {
   "cell_type": "code",
   "execution_count": 6,
   "id": "ed758155",
   "metadata": {},
   "outputs": [],
   "source": [
    "p = Fraction.from_float(math.pi)"
   ]
  },
  {
   "cell_type": "code",
   "execution_count": 7,
   "id": "ff1347f5",
   "metadata": {},
   "outputs": [
    {
     "data": {
      "text/plain": [
       "(884279719003555, 281474976710656)"
      ]
     },
     "execution_count": 7,
     "metadata": {},
     "output_type": "execute_result"
    }
   ],
   "source": [
    "p.numerator, p.denominator"
   ]
  },
  {
   "cell_type": "code",
   "execution_count": 8,
   "id": "a47776ea",
   "metadata": {},
   "outputs": [],
   "source": [
    "l = Fraction.from_float(math.pi).limit_denominator(1000)"
   ]
  },
  {
   "cell_type": "code",
   "execution_count": 9,
   "id": "18dd8732",
   "metadata": {},
   "outputs": [
    {
     "data": {
      "text/plain": [
       "Fraction(355, 113)"
      ]
     },
     "execution_count": 9,
     "metadata": {},
     "output_type": "execute_result"
    }
   ],
   "source": [
    "l"
   ]
  },
  {
   "cell_type": "markdown",
   "id": "b75c8357",
   "metadata": {},
   "source": [
    "---"
   ]
  },
  {
   "cell_type": "code",
   "execution_count": 10,
   "id": "fa221ffc",
   "metadata": {},
   "outputs": [],
   "source": [
    "e = Fraction.from_float(math.e)"
   ]
  },
  {
   "cell_type": "code",
   "execution_count": 11,
   "id": "69f00f96",
   "metadata": {},
   "outputs": [
    {
     "data": {
      "text/plain": [
       "Fraction(6121026514868073, 2251799813685248)"
      ]
     },
     "execution_count": 11,
     "metadata": {},
     "output_type": "execute_result"
    }
   ],
   "source": [
    "e"
   ]
  },
  {
   "cell_type": "code",
   "execution_count": 12,
   "id": "0b5cef5a",
   "metadata": {},
   "outputs": [],
   "source": [
    "q = Fraction.from_float(math.sqrt(2))"
   ]
  },
  {
   "cell_type": "code",
   "execution_count": 13,
   "id": "a9b565b5",
   "metadata": {},
   "outputs": [
    {
     "data": {
      "text/plain": [
       "Fraction(6369051672525773, 4503599627370496)"
      ]
     },
     "execution_count": 13,
     "metadata": {},
     "output_type": "execute_result"
    }
   ],
   "source": [
    "q"
   ]
  },
  {
   "cell_type": "markdown",
   "id": "6195733c",
   "metadata": {},
   "source": [
    "---"
   ]
  },
  {
   "cell_type": "code",
   "execution_count": 14,
   "id": "2fb7c1f2",
   "metadata": {},
   "outputs": [],
   "source": [
    "import decimal as dec"
   ]
  },
  {
   "cell_type": "code",
   "execution_count": 15,
   "id": "8ce0363a",
   "metadata": {},
   "outputs": [],
   "source": [
    "con = dec.getcontext()"
   ]
  },
  {
   "cell_type": "code",
   "execution_count": 16,
   "id": "26c1af0c",
   "metadata": {},
   "outputs": [
    {
     "data": {
      "text/plain": [
       "28"
      ]
     },
     "execution_count": 16,
     "metadata": {},
     "output_type": "execute_result"
    }
   ],
   "source": [
    "con.prec"
   ]
  },
  {
   "cell_type": "code",
   "execution_count": 17,
   "id": "31ad5a78",
   "metadata": {},
   "outputs": [],
   "source": [
    "con.prec = 6"
   ]
  },
  {
   "cell_type": "code",
   "execution_count": 18,
   "id": "17362a57",
   "metadata": {},
   "outputs": [
    {
     "data": {
      "text/plain": [
       "Decimal('0.142857')"
      ]
     },
     "execution_count": 18,
     "metadata": {},
     "output_type": "execute_result"
    }
   ],
   "source": [
    "dec.Decimal(1) / dec.Decimal(7)"
   ]
  },
  {
   "cell_type": "code",
   "execution_count": 19,
   "id": "d3f1661b",
   "metadata": {},
   "outputs": [],
   "source": [
    "con.prec = 28"
   ]
  },
  {
   "cell_type": "code",
   "execution_count": 20,
   "id": "00b7646c",
   "metadata": {},
   "outputs": [
    {
     "data": {
      "text/plain": [
       "Decimal('0.1428571428571428571428571429')"
      ]
     },
     "execution_count": 20,
     "metadata": {},
     "output_type": "execute_result"
    }
   ],
   "source": [
    "dec.Decimal(1) / dec.Decimal(7)"
   ]
  },
  {
   "cell_type": "markdown",
   "id": "2da14b68",
   "metadata": {},
   "source": [
    "---"
   ]
  },
  {
   "cell_type": "code",
   "execution_count": 21,
   "id": "623e41c5",
   "metadata": {},
   "outputs": [],
   "source": [
    "pi = dec.Decimal(math.pi)"
   ]
  },
  {
   "cell_type": "code",
   "execution_count": 22,
   "id": "0fdd6c2f",
   "metadata": {},
   "outputs": [
    {
     "data": {
      "text/plain": [
       "Decimal('3.141592653589793115997963468544185161590576171875')"
      ]
     },
     "execution_count": 22,
     "metadata": {},
     "output_type": "execute_result"
    }
   ],
   "source": [
    "pi"
   ]
  },
  {
   "cell_type": "code",
   "execution_count": 23,
   "id": "2472dce2",
   "metadata": {},
   "outputs": [],
   "source": [
    "e = dec.Decimal(math.e)"
   ]
  },
  {
   "cell_type": "code",
   "execution_count": 24,
   "id": "067a5a73",
   "metadata": {},
   "outputs": [
    {
     "data": {
      "text/plain": [
       "Decimal('2.718281828459045090795598298427648842334747314453125')"
      ]
     },
     "execution_count": 24,
     "metadata": {},
     "output_type": "execute_result"
    }
   ],
   "source": [
    "e"
   ]
  },
  {
   "cell_type": "code",
   "execution_count": 25,
   "id": "619b63aa",
   "metadata": {},
   "outputs": [
    {
     "data": {
      "text/plain": [
       "1.4142135623730951"
      ]
     },
     "execution_count": 25,
     "metadata": {},
     "output_type": "execute_result"
    }
   ],
   "source": [
    "math.sqrt(2)"
   ]
  },
  {
   "cell_type": "code",
   "execution_count": 27,
   "id": "acf30101",
   "metadata": {},
   "outputs": [
    {
     "data": {
      "text/plain": [
       "Decimal('1.414213562373095048801688724')"
      ]
     },
     "execution_count": 27,
     "metadata": {},
     "output_type": "execute_result"
    }
   ],
   "source": [
    "dec.Decimal(2)**dec.Decimal('0.5')"
   ]
  },
  {
   "cell_type": "code",
   "execution_count": 29,
   "id": "92930153",
   "metadata": {},
   "outputs": [
    {
     "data": {
      "text/plain": [
       "Decimal('1.414213562373095048801688724')"
      ]
     },
     "execution_count": 29,
     "metadata": {},
     "output_type": "execute_result"
    }
   ],
   "source": [
    "dec.Decimal(2).sqrt()"
   ]
  },
  {
   "cell_type": "markdown",
   "id": "8264049f",
   "metadata": {},
   "source": [
    "---"
   ]
  },
  {
   "cell_type": "code",
   "execution_count": null,
   "id": "59fd7e49",
   "metadata": {},
   "outputs": [],
   "source": []
  }
 ],
 "metadata": {
  "kernelspec": {
   "display_name": "Python 3 (ipykernel)",
   "language": "python",
   "name": "python3"
  },
  "language_info": {
   "codemirror_mode": {
    "name": "ipython",
    "version": 3
   },
   "file_extension": ".py",
   "mimetype": "text/x-python",
   "name": "python",
   "nbconvert_exporter": "python",
   "pygments_lexer": "ipython3",
   "version": "3.8.12"
  }
 },
 "nbformat": 4,
 "nbformat_minor": 5
}
