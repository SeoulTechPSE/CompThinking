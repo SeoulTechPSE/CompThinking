{
 "cells": [
  {
   "cell_type": "markdown",
   "id": "81180be7",
   "metadata": {},
   "source": [
    "# 19 장. 배열 형태의 자료구조 알아보기"
   ]
  },
  {
   "cell_type": "markdown",
   "id": "959bb373",
   "metadata": {},
   "source": [
    "## 19.1. 튜플(tuple)과 네임드 튜플(named tuple)"
   ]
  },
  {
   "cell_type": "code",
   "execution_count": null,
   "id": "0f3e8b4c",
   "metadata": {},
   "outputs": [],
   "source": [
    "t = 1, 2, 3, 4"
   ]
  },
  {
   "cell_type": "code",
   "execution_count": null,
   "id": "f0ce8fbb",
   "metadata": {},
   "outputs": [],
   "source": [
    "t1 = tuple((1, 2, 3, 4))"
   ]
  },
  {
   "cell_type": "code",
   "execution_count": null,
   "id": "7d1555ca",
   "metadata": {},
   "outputs": [],
   "source": [
    "t is t1"
   ]
  },
  {
   "cell_type": "code",
   "execution_count": null,
   "id": "3e814006",
   "metadata": {},
   "outputs": [],
   "source": [
    "t2 = tuple(t)"
   ]
  },
  {
   "cell_type": "code",
   "execution_count": null,
   "id": "d510b0d5",
   "metadata": {},
   "outputs": [],
   "source": [
    "t is t2"
   ]
  },
  {
   "cell_type": "code",
   "execution_count": null,
   "id": "45ddbdc6",
   "metadata": {},
   "outputs": [],
   "source": [
    "t.count(3)"
   ]
  },
  {
   "cell_type": "code",
   "execution_count": null,
   "id": "f8896c06",
   "metadata": {},
   "outputs": [],
   "source": [
    "t.index(3)"
   ]
  },
  {
   "cell_type": "code",
   "execution_count": null,
   "id": "7ed05c2c",
   "metadata": {},
   "outputs": [],
   "source": [
    "tuple.__setitem__"
   ]
  },
  {
   "cell_type": "markdown",
   "id": "7cb9151b",
   "metadata": {},
   "source": [
    "---"
   ]
  },
  {
   "cell_type": "code",
   "execution_count": null,
   "id": "ce1b6af3",
   "metadata": {},
   "outputs": [],
   "source": [
    "from collections import namedtuple"
   ]
  },
  {
   "cell_type": "code",
   "execution_count": null,
   "id": "fc7f059f",
   "metadata": {},
   "outputs": [],
   "source": [
    "namedtuple"
   ]
  },
  {
   "cell_type": "code",
   "execution_count": null,
   "id": "d4628ed9",
   "metadata": {},
   "outputs": [],
   "source": [
    "Point = namedtuple('Point', 'x, y, z')"
   ]
  },
  {
   "cell_type": "code",
   "execution_count": null,
   "id": "9e207d95",
   "metadata": {},
   "outputs": [],
   "source": [
    "type(Point)"
   ]
  },
  {
   "cell_type": "code",
   "execution_count": null,
   "id": "d4e26016",
   "metadata": {},
   "outputs": [],
   "source": [
    "Point.x"
   ]
  },
  {
   "cell_type": "code",
   "execution_count": null,
   "id": "9965ab6b",
   "metadata": {},
   "outputs": [],
   "source": [
    "pt = Point(1, 2, 3)"
   ]
  },
  {
   "cell_type": "code",
   "execution_count": null,
   "id": "c95e95ee",
   "metadata": {},
   "outputs": [],
   "source": [
    "pt"
   ]
  },
  {
   "cell_type": "code",
   "execution_count": null,
   "id": "07b114c4",
   "metadata": {},
   "outputs": [],
   "source": [
    "pt.x"
   ]
  },
  {
   "cell_type": "markdown",
   "id": "7cc49723",
   "metadata": {},
   "source": [
    "---"
   ]
  },
  {
   "cell_type": "code",
   "execution_count": null,
   "id": "27d277df",
   "metadata": {},
   "outputs": [],
   "source": [
    "import typing"
   ]
  },
  {
   "cell_type": "code",
   "execution_count": null,
   "id": "9a434aeb",
   "metadata": {},
   "outputs": [],
   "source": [
    "class Point(typing.NamedTuple):\n",
    "    x : int\n",
    "    y : int\n",
    "    z : int"
   ]
  },
  {
   "cell_type": "code",
   "execution_count": null,
   "id": "48969a48",
   "metadata": {},
   "outputs": [],
   "source": [
    "Point.__annotations__"
   ]
  },
  {
   "cell_type": "code",
   "execution_count": null,
   "id": "f8364ea0",
   "metadata": {},
   "outputs": [],
   "source": [
    "Point.x"
   ]
  },
  {
   "cell_type": "code",
   "execution_count": null,
   "id": "dabef185",
   "metadata": {},
   "outputs": [],
   "source": [
    "pt = Point(1, 2, 3)"
   ]
  },
  {
   "cell_type": "code",
   "execution_count": null,
   "id": "38e53d3d",
   "metadata": {},
   "outputs": [],
   "source": [
    "pt"
   ]
  },
  {
   "cell_type": "code",
   "execution_count": null,
   "id": "8d7ade21",
   "metadata": {},
   "outputs": [],
   "source": [
    "pt.x"
   ]
  },
  {
   "cell_type": "code",
   "execution_count": null,
   "id": "ba8b84c9",
   "metadata": {},
   "outputs": [],
   "source": [
    "pt[0]"
   ]
  },
  {
   "cell_type": "code",
   "execution_count": null,
   "id": "0976592b",
   "metadata": {},
   "outputs": [],
   "source": [
    "isinstance(pt, tuple)"
   ]
  },
  {
   "cell_type": "markdown",
   "id": "21ea9966",
   "metadata": {},
   "source": [
    "## 19.2. 리스트(list)"
   ]
  },
  {
   "cell_type": "code",
   "execution_count": null,
   "id": "baea5409",
   "metadata": {},
   "outputs": [],
   "source": [
    "a = [1, 2, 3, 4]"
   ]
  },
  {
   "cell_type": "code",
   "execution_count": null,
   "id": "9f5fcc36",
   "metadata": {},
   "outputs": [],
   "source": [
    "a1 = list([1, 2, 3, 4])"
   ]
  },
  {
   "cell_type": "code",
   "execution_count": null,
   "id": "8454712a",
   "metadata": {},
   "outputs": [],
   "source": [
    "a is a1"
   ]
  },
  {
   "cell_type": "code",
   "execution_count": null,
   "id": "453e10e1",
   "metadata": {},
   "outputs": [],
   "source": [
    "a2 = list(a)"
   ]
  },
  {
   "cell_type": "code",
   "execution_count": null,
   "id": "4dace570",
   "metadata": {},
   "outputs": [],
   "source": [
    "a is a2"
   ]
  },
  {
   "cell_type": "code",
   "execution_count": null,
   "id": "109352a6",
   "metadata": {},
   "outputs": [],
   "source": [
    "a.append(a2)"
   ]
  },
  {
   "cell_type": "code",
   "execution_count": null,
   "id": "7140c5c5",
   "metadata": {},
   "outputs": [],
   "source": [
    "a"
   ]
  },
  {
   "cell_type": "code",
   "execution_count": null,
   "id": "672aa9fa",
   "metadata": {},
   "outputs": [],
   "source": [
    "a1[5] = a2"
   ]
  },
  {
   "cell_type": "code",
   "execution_count": null,
   "id": "6a2f3546",
   "metadata": {},
   "outputs": [],
   "source": [
    "a.pop()"
   ]
  },
  {
   "cell_type": "code",
   "execution_count": null,
   "id": "ae7d97aa",
   "metadata": {},
   "outputs": [],
   "source": [
    "a"
   ]
  },
  {
   "cell_type": "code",
   "execution_count": null,
   "id": "895d498f",
   "metadata": {},
   "outputs": [],
   "source": [
    "a.remove(4)"
   ]
  },
  {
   "cell_type": "code",
   "execution_count": null,
   "id": "16b216a2",
   "metadata": {},
   "outputs": [],
   "source": [
    "a"
   ]
  },
  {
   "cell_type": "code",
   "execution_count": null,
   "id": "445af500",
   "metadata": {},
   "outputs": [],
   "source": [
    "a3 = a1 + a2"
   ]
  },
  {
   "cell_type": "code",
   "execution_count": null,
   "id": "2a20f48f",
   "metadata": {},
   "outputs": [],
   "source": [
    "a3"
   ]
  },
  {
   "cell_type": "code",
   "execution_count": null,
   "id": "099e4f59",
   "metadata": {},
   "outputs": [],
   "source": [
    "a1, a2"
   ]
  },
  {
   "cell_type": "code",
   "execution_count": null,
   "id": "01494ed8",
   "metadata": {},
   "outputs": [],
   "source": [
    "a1.extend(a2)"
   ]
  },
  {
   "cell_type": "code",
   "execution_count": null,
   "id": "1024ca67",
   "metadata": {},
   "outputs": [],
   "source": [
    "a1"
   ]
  },
  {
   "cell_type": "code",
   "execution_count": null,
   "id": "671d3199",
   "metadata": {},
   "outputs": [],
   "source": [
    "a1.clear()"
   ]
  },
  {
   "cell_type": "code",
   "execution_count": null,
   "id": "115439be",
   "metadata": {},
   "outputs": [],
   "source": [
    "a1"
   ]
  },
  {
   "cell_type": "code",
   "execution_count": null,
   "id": "2a13bf4c",
   "metadata": {},
   "outputs": [],
   "source": [
    "a1.insert(0, 1)"
   ]
  },
  {
   "cell_type": "code",
   "execution_count": null,
   "id": "146e5156",
   "metadata": {},
   "outputs": [],
   "source": [
    "a1.insert(0, 2)"
   ]
  },
  {
   "cell_type": "code",
   "execution_count": null,
   "id": "75c9072f",
   "metadata": {},
   "outputs": [],
   "source": [
    "a1"
   ]
  },
  {
   "cell_type": "markdown",
   "id": "e1051dc6",
   "metadata": {},
   "source": [
    "## 19.3. 얕은 복사(swallow copy)와 깊은 복사(deep copy)"
   ]
  },
  {
   "cell_type": "code",
   "execution_count": null,
   "id": "bc22f7d4",
   "metadata": {},
   "outputs": [],
   "source": [
    "a = [1, 2, 3, 4]"
   ]
  },
  {
   "cell_type": "code",
   "execution_count": null,
   "id": "5dc999e9",
   "metadata": {},
   "outputs": [],
   "source": [
    "a1 = a"
   ]
  },
  {
   "cell_type": "code",
   "execution_count": null,
   "id": "144f1072",
   "metadata": {},
   "outputs": [],
   "source": [
    "id(a), id(a1)"
   ]
  },
  {
   "cell_type": "code",
   "execution_count": null,
   "id": "26aae21c",
   "metadata": {},
   "outputs": [],
   "source": [
    "a2 = a.copy()"
   ]
  },
  {
   "cell_type": "code",
   "execution_count": null,
   "id": "73a8f971",
   "metadata": {},
   "outputs": [],
   "source": [
    "a is a2"
   ]
  },
  {
   "cell_type": "code",
   "execution_count": null,
   "id": "602c99cd",
   "metadata": {},
   "outputs": [],
   "source": [
    "id(a), id(a2)"
   ]
  },
  {
   "cell_type": "markdown",
   "id": "5c3b8e1d",
   "metadata": {},
   "source": [
    "---"
   ]
  },
  {
   "cell_type": "code",
   "execution_count": null,
   "id": "d1b4f4f2",
   "metadata": {},
   "outputs": [],
   "source": [
    "a2 = [1, 2, 3, 4, 5]"
   ]
  },
  {
   "cell_type": "code",
   "execution_count": null,
   "id": "1c484457",
   "metadata": {},
   "outputs": [],
   "source": [
    "a.append(a2)"
   ]
  },
  {
   "cell_type": "code",
   "execution_count": null,
   "id": "28f400ac",
   "metadata": {},
   "outputs": [],
   "source": [
    "a"
   ]
  },
  {
   "cell_type": "code",
   "execution_count": null,
   "id": "a906a243",
   "metadata": {},
   "outputs": [],
   "source": [
    "a3 = a.copy()"
   ]
  },
  {
   "cell_type": "code",
   "execution_count": null,
   "id": "2e730b67",
   "metadata": {},
   "outputs": [],
   "source": [
    "a3"
   ]
  },
  {
   "cell_type": "code",
   "execution_count": null,
   "id": "4cb0ab75",
   "metadata": {},
   "outputs": [],
   "source": [
    "a3[4][0] = 999"
   ]
  },
  {
   "cell_type": "code",
   "execution_count": null,
   "id": "48b3acd4",
   "metadata": {},
   "outputs": [],
   "source": [
    "a"
   ]
  },
  {
   "cell_type": "code",
   "execution_count": null,
   "id": "9324e150",
   "metadata": {},
   "outputs": [],
   "source": [
    "a3"
   ]
  },
  {
   "cell_type": "code",
   "execution_count": null,
   "id": "ca1ad6dc",
   "metadata": {},
   "outputs": [],
   "source": [
    "id(a[4]), id(a3[4])"
   ]
  },
  {
   "cell_type": "markdown",
   "id": "c37b4d7e",
   "metadata": {},
   "source": [
    "---"
   ]
  },
  {
   "cell_type": "code",
   "execution_count": null,
   "id": "ba18bbee",
   "metadata": {},
   "outputs": [],
   "source": [
    "import copy"
   ]
  },
  {
   "cell_type": "code",
   "execution_count": null,
   "id": "0c836890",
   "metadata": {},
   "outputs": [],
   "source": [
    "a4 = copy.deepcopy(a3)"
   ]
  },
  {
   "cell_type": "code",
   "execution_count": null,
   "id": "8ae0427c",
   "metadata": {},
   "outputs": [],
   "source": [
    "a4 is a3"
   ]
  },
  {
   "cell_type": "code",
   "execution_count": null,
   "id": "44d5b1b2",
   "metadata": {},
   "outputs": [],
   "source": [
    "a4[4][1] = 888"
   ]
  },
  {
   "cell_type": "code",
   "execution_count": null,
   "id": "536356d8",
   "metadata": {},
   "outputs": [],
   "source": [
    "a4"
   ]
  },
  {
   "cell_type": "code",
   "execution_count": null,
   "id": "66575a70",
   "metadata": {},
   "outputs": [],
   "source": [
    "a3"
   ]
  },
  {
   "cell_type": "markdown",
   "id": "a6b50461",
   "metadata": {},
   "source": [
    "## 19.4. 큐(queue) 자료구조 만들어 보기 - First in First out"
   ]
  },
  {
   "cell_type": "code",
   "execution_count": null,
   "id": "b98cfc08",
   "metadata": {},
   "outputs": [],
   "source": [
    "class Queue:\n",
    "    \n",
    "    def __init__(self):\n",
    "        self._list = []\n",
    "        \n",
    "    def is_empty(self):\n",
    "        return True if len(self._list) == 0 else False\n",
    "    \n",
    "    def get(self):\n",
    "        if len(self._list) == 0:\n",
    "            return 0\n",
    "        else:\n",
    "            return self._list.pop(-1)\n",
    "    \n",
    "    def put(self, value):\n",
    "        return self._list.insert(0, value)\n",
    "    \n",
    "    def get_queue(self):\n",
    "        return self._list.copy()"
   ]
  },
  {
   "cell_type": "code",
   "execution_count": null,
   "id": "4d830451",
   "metadata": {},
   "outputs": [],
   "source": [
    "q1 = Queue() "
   ]
  },
  {
   "cell_type": "code",
   "execution_count": null,
   "id": "5c443195",
   "metadata": {},
   "outputs": [],
   "source": [
    "q1.is_empty()"
   ]
  },
  {
   "cell_type": "code",
   "execution_count": null,
   "id": "ff763b52",
   "metadata": {},
   "outputs": [],
   "source": [
    "q1.get()"
   ]
  },
  {
   "cell_type": "code",
   "execution_count": null,
   "id": "640c042d",
   "metadata": {},
   "outputs": [],
   "source": [
    "q1.put(1)"
   ]
  },
  {
   "cell_type": "code",
   "execution_count": null,
   "id": "ff7ee892",
   "metadata": {},
   "outputs": [],
   "source": [
    "q1.put(2)"
   ]
  },
  {
   "cell_type": "code",
   "execution_count": null,
   "id": "d63f7055",
   "metadata": {},
   "outputs": [],
   "source": [
    "q1.get_queue()"
   ]
  },
  {
   "cell_type": "code",
   "execution_count": null,
   "id": "87101a33",
   "metadata": {},
   "outputs": [],
   "source": [
    "q1.get()"
   ]
  },
  {
   "cell_type": "code",
   "execution_count": null,
   "id": "b8ee07b6",
   "metadata": {},
   "outputs": [],
   "source": [
    "q1.get_queue()"
   ]
  },
  {
   "cell_type": "code",
   "execution_count": null,
   "id": "182d8ccc",
   "metadata": {},
   "outputs": [],
   "source": [
    "q1.get()"
   ]
  },
  {
   "cell_type": "code",
   "execution_count": null,
   "id": "78b5027f",
   "metadata": {},
   "outputs": [],
   "source": [
    "q1.get_queue()"
   ]
  }
 ],
 "metadata": {
  "kernelspec": {
   "display_name": "Python 3 (ipykernel)",
   "language": "python",
   "name": "python3"
  },
  "language_info": {
   "codemirror_mode": {
    "name": "ipython",
    "version": 3
   },
   "file_extension": ".py",
   "mimetype": "text/x-python",
   "name": "python",
   "nbconvert_exporter": "python",
   "pygments_lexer": "ipython3",
   "version": "3.8.12"
  }
 },
 "nbformat": 4,
 "nbformat_minor": 5
}
