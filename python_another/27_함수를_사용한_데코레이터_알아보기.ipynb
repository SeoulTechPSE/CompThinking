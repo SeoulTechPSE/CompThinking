{
 "cells": [
  {
   "cell_type": "markdown",
   "id": "e2356715",
   "metadata": {},
   "source": [
    "# 27 장. 함수를 사용한 데코레이터 알아보기"
   ]
  },
  {
   "cell_type": "markdown",
   "id": "e9d98fe0",
   "metadata": {},
   "source": [
    "## 27.1. 함수 데코레이터 정의"
   ]
  },
  {
   "cell_type": "code",
   "execution_count": null,
   "id": "431e9083",
   "metadata": {},
   "outputs": [],
   "source": [
    "def decorator(func):\n",
    "    return func"
   ]
  },
  {
   "cell_type": "code",
   "execution_count": null,
   "id": "c1633a64",
   "metadata": {},
   "outputs": [],
   "source": [
    "def exefunc(x, y):\n",
    "    return x + y"
   ]
  },
  {
   "cell_type": "code",
   "execution_count": null,
   "id": "8ee73ead",
   "metadata": {},
   "outputs": [],
   "source": [
    "exefunc = decorator(exefunc)"
   ]
  },
  {
   "cell_type": "code",
   "execution_count": null,
   "id": "65eaf683",
   "metadata": {},
   "outputs": [],
   "source": [
    "exefunc(10, 10)"
   ]
  },
  {
   "cell_type": "code",
   "execution_count": null,
   "id": "ab1d1ee0",
   "metadata": {},
   "outputs": [],
   "source": [
    "@decorator\n",
    "def exefunc(x, y):\n",
    "    return x * y"
   ]
  },
  {
   "cell_type": "code",
   "execution_count": null,
   "id": "3627ebd1",
   "metadata": {},
   "outputs": [],
   "source": [
    "exefunc(10, 10)"
   ]
  },
  {
   "cell_type": "markdown",
   "id": "4b186b91",
   "metadata": {},
   "source": [
    "---"
   ]
  },
  {
   "cell_type": "code",
   "execution_count": null,
   "id": "928a2162",
   "metadata": {},
   "outputs": [],
   "source": [
    "def decorator_1(func):\n",
    "    def inner():\n",
    "        return func()\n",
    "    return inner"
   ]
  },
  {
   "cell_type": "code",
   "execution_count": null,
   "id": "5aca9800",
   "metadata": {},
   "outputs": [],
   "source": [
    "@decorator_1\n",
    "def func_1():\n",
    "    return '실행함수 실행'"
   ]
  },
  {
   "cell_type": "code",
   "execution_count": null,
   "id": "30ed5bb8",
   "metadata": {},
   "outputs": [],
   "source": [
    "func_1()"
   ]
  },
  {
   "cell_type": "code",
   "execution_count": null,
   "id": "ace45694",
   "metadata": {},
   "outputs": [],
   "source": [
    "func_1.__closure__[0].cell_contents"
   ]
  },
  {
   "cell_type": "markdown",
   "id": "f07aa58d",
   "metadata": {},
   "source": [
    "---"
   ]
  },
  {
   "cell_type": "code",
   "execution_count": null,
   "id": "459781d2",
   "metadata": {},
   "outputs": [],
   "source": [
    "def decorator_2(func):\n",
    "    def inner(*args, **kwargs):\n",
    "        return func(*args, **kwargs)\n",
    "    return inner"
   ]
  },
  {
   "cell_type": "code",
   "execution_count": null,
   "id": "b5d8676b",
   "metadata": {},
   "outputs": [],
   "source": [
    "@decorator_2\n",
    "def func_2(data_type, n):\n",
    "    data_ = {'int': int, 'str': str}\n",
    "    return data_[data_type](n)"
   ]
  },
  {
   "cell_type": "code",
   "execution_count": null,
   "id": "363b402a",
   "metadata": {},
   "outputs": [],
   "source": [
    "func_2('str', '100')"
   ]
  },
  {
   "cell_type": "code",
   "execution_count": null,
   "id": "f6c5ffbf",
   "metadata": {},
   "outputs": [],
   "source": [
    "func_2('int', '100')"
   ]
  },
  {
   "cell_type": "markdown",
   "id": "320a5d5d",
   "metadata": {},
   "source": [
    "## 27.2. 실행 함수 메타 정보 유지하기"
   ]
  },
  {
   "cell_type": "code",
   "execution_count": null,
   "id": "dadd9a3b",
   "metadata": {},
   "outputs": [],
   "source": [
    "def decorator(func):\n",
    "    def inner(*args, **kwargs):\n",
    "        return func(*args, **kwargs)\n",
    "    return inner"
   ]
  },
  {
   "cell_type": "code",
   "execution_count": null,
   "id": "4d16069c",
   "metadata": {},
   "outputs": [],
   "source": [
    "@decorator\n",
    "def func(x, y):\n",
    "    return x + y"
   ]
  },
  {
   "cell_type": "code",
   "execution_count": null,
   "id": "bf5d0498",
   "metadata": {},
   "outputs": [],
   "source": [
    "@decorator\n",
    "def add(x, y):\n",
    "    return x + y"
   ]
  },
  {
   "cell_type": "code",
   "execution_count": null,
   "id": "99b896b3",
   "metadata": {},
   "outputs": [],
   "source": [
    "func(5, 5)"
   ]
  },
  {
   "cell_type": "code",
   "execution_count": null,
   "id": "f75d2e76",
   "metadata": {},
   "outputs": [],
   "source": [
    "add(5, 5)"
   ]
  },
  {
   "cell_type": "code",
   "execution_count": null,
   "id": "8cdf8a2a",
   "metadata": {},
   "outputs": [],
   "source": [
    "func.__name__, add.__name__"
   ]
  },
  {
   "cell_type": "code",
   "execution_count": null,
   "id": "1961a49d",
   "metadata": {},
   "outputs": [],
   "source": [
    "func.__qualname__, add.__qualname__"
   ]
  },
  {
   "cell_type": "markdown",
   "id": "311e37b7",
   "metadata": {},
   "source": [
    "---"
   ]
  },
  {
   "cell_type": "code",
   "execution_count": null,
   "id": "5c8ced70",
   "metadata": {},
   "outputs": [],
   "source": [
    "import functools as fs"
   ]
  },
  {
   "cell_type": "code",
   "execution_count": null,
   "id": "1052854e",
   "metadata": {},
   "outputs": [],
   "source": [
    "def decorator_1(func):\n",
    "    @fs.wraps(func)\n",
    "    def inner(*args, **kwargs):\n",
    "        return func(*args, **kwargs)\n",
    "    return inner"
   ]
  },
  {
   "cell_type": "code",
   "execution_count": null,
   "id": "70c58ffe",
   "metadata": {},
   "outputs": [],
   "source": [
    "@decorator_1\n",
    "def func_1(x, y):\n",
    "    return x + y"
   ]
  },
  {
   "cell_type": "code",
   "execution_count": null,
   "id": "a15b5407",
   "metadata": {},
   "outputs": [],
   "source": [
    "func_1(5, 5)"
   ]
  },
  {
   "cell_type": "code",
   "execution_count": null,
   "id": "4d942618",
   "metadata": {},
   "outputs": [],
   "source": [
    "func_1.__name__"
   ]
  },
  {
   "cell_type": "code",
   "execution_count": null,
   "id": "3bf8aff7",
   "metadata": {},
   "outputs": [],
   "source": [
    "func_1.__qualname__"
   ]
  },
  {
   "cell_type": "markdown",
   "id": "0e7ff495",
   "metadata": {},
   "source": [
    "---"
   ]
  },
  {
   "cell_type": "code",
   "execution_count": null,
   "id": "4bc2fc22",
   "metadata": {},
   "outputs": [],
   "source": [
    "%%writefile dec.py\n",
    "\n",
    "import functools as fs\n",
    "\n",
    "def decorator_2(func):\n",
    "    @fs.wraps(func)\n",
    "    def inner(*args, **kwargs):\n",
    "        return func(*args, **kwargs)\n",
    "    return inner"
   ]
  },
  {
   "cell_type": "code",
   "execution_count": null,
   "id": "9d313b00",
   "metadata": {},
   "outputs": [],
   "source": [
    "import dec"
   ]
  },
  {
   "cell_type": "code",
   "execution_count": null,
   "id": "55de6cae",
   "metadata": {},
   "outputs": [],
   "source": [
    "@dec.decorator_2\n",
    "def add(x, y):\n",
    "    return x + y"
   ]
  },
  {
   "cell_type": "code",
   "execution_count": null,
   "id": "8a0100c2",
   "metadata": {},
   "outputs": [],
   "source": [
    "add(5, 5)"
   ]
  },
  {
   "cell_type": "code",
   "execution_count": null,
   "id": "b31a38e7",
   "metadata": {},
   "outputs": [],
   "source": [
    "add.__module__"
   ]
  },
  {
   "cell_type": "code",
   "execution_count": null,
   "id": "4ecafead",
   "metadata": {},
   "outputs": [],
   "source": [
    "add.__globals__['decorator_2']"
   ]
  },
  {
   "cell_type": "markdown",
   "id": "760e1f04",
   "metadata": {},
   "source": [
    "---"
   ]
  },
  {
   "cell_type": "code",
   "execution_count": null,
   "id": "0d1fb331",
   "metadata": {},
   "outputs": [],
   "source": [
    "%%writefile dec20.py\n",
    "\n",
    "def decorator_20(func):\n",
    "    def inner(*args, **kwargs):\n",
    "        return func(*args, **kwargs)\n",
    "    return inner"
   ]
  },
  {
   "cell_type": "code",
   "execution_count": null,
   "id": "51ce326b",
   "metadata": {},
   "outputs": [],
   "source": [
    "import dec20"
   ]
  },
  {
   "cell_type": "code",
   "execution_count": null,
   "id": "e9f215f8",
   "metadata": {},
   "outputs": [],
   "source": [
    "@dec20.decorator_20\n",
    "def add(x, y):\n",
    "    return x + y"
   ]
  },
  {
   "cell_type": "code",
   "execution_count": null,
   "id": "3974c2f6",
   "metadata": {},
   "outputs": [],
   "source": [
    "add.__module__"
   ]
  },
  {
   "cell_type": "code",
   "execution_count": null,
   "id": "94cd6eb6",
   "metadata": {},
   "outputs": [],
   "source": [
    "add.__globals__['decorator_20']"
   ]
  },
  {
   "cell_type": "code",
   "execution_count": null,
   "id": "70dd068b",
   "metadata": {},
   "outputs": [],
   "source": [
    "import os\n",
    "\n",
    "os.remove('dec.py')\n",
    "os.remove('dec20.py')"
   ]
  },
  {
   "cell_type": "markdown",
   "id": "8c246e61",
   "metadata": {},
   "source": [
    "---"
   ]
  },
  {
   "cell_type": "code",
   "execution_count": null,
   "id": "610d150c",
   "metadata": {},
   "outputs": [],
   "source": [
    "def decorator_30(func):\n",
    "    def inner(*args, **kwargs):\n",
    "        return func(*args, **kwargs)\n",
    "    \n",
    "    inner.__name__        = func.__name__\n",
    "    inner.__qualname__    = func.__qualname__\n",
    "    inner.__doc__         = func.__doc__\n",
    "    inner.__module__      = func.__module__\n",
    "    inner.__annotations__ = func.__annotations__ \n",
    "    \n",
    "    return inner"
   ]
  },
  {
   "cell_type": "code",
   "execution_count": null,
   "id": "696b4293",
   "metadata": {},
   "outputs": [],
   "source": [
    "@decorator_30\n",
    "def multiply(x: int, y: int) -> int:\n",
    "    return x * y"
   ]
  },
  {
   "cell_type": "code",
   "execution_count": null,
   "id": "f2ab80c9",
   "metadata": {},
   "outputs": [],
   "source": [
    "multiply.__annotations__"
   ]
  },
  {
   "cell_type": "code",
   "execution_count": null,
   "id": "01bc25f6",
   "metadata": {},
   "outputs": [],
   "source": [
    "multiply.__name__"
   ]
  },
  {
   "cell_type": "markdown",
   "id": "11c5e78c",
   "metadata": {},
   "source": [
    "## 27.3. 데코레이터 매개변수 받기"
   ]
  },
  {
   "cell_type": "code",
   "execution_count": null,
   "id": "59bf70f0",
   "metadata": {},
   "outputs": [],
   "source": [
    "def decorator(para):\n",
    "    def decorator_(func):\n",
    "        def inner(*args, **kwargs):\n",
    "            return func(*args, **kwargs)\n",
    "        return inner\n",
    "    print(para)\n",
    "    return decorator_"
   ]
  },
  {
   "cell_type": "code",
   "execution_count": null,
   "id": "92c44091",
   "metadata": {},
   "outputs": [],
   "source": [
    "@decorator('파라미터 넣기')\n",
    "def func(x, y):\n",
    "    return x + y"
   ]
  },
  {
   "cell_type": "code",
   "execution_count": null,
   "id": "bd353008",
   "metadata": {},
   "outputs": [],
   "source": [
    "func(10, 1)"
   ]
  },
  {
   "cell_type": "markdown",
   "id": "b3b39c79",
   "metadata": {},
   "source": [
    "---"
   ]
  },
  {
   "cell_type": "code",
   "execution_count": null,
   "id": "00dbe0e5",
   "metadata": {},
   "outputs": [],
   "source": [
    "def func(x, y):\n",
    "    return x + y"
   ]
  },
  {
   "cell_type": "code",
   "execution_count": null,
   "id": "3ce625fb",
   "metadata": {},
   "outputs": [],
   "source": [
    "func_ = decorator('파라미터 넣기')"
   ]
  },
  {
   "cell_type": "code",
   "execution_count": null,
   "id": "ad9f9042",
   "metadata": {},
   "outputs": [],
   "source": [
    "func_"
   ]
  },
  {
   "cell_type": "code",
   "execution_count": null,
   "id": "ef01ea9f",
   "metadata": {},
   "outputs": [],
   "source": [
    "func_ = func_(func)"
   ]
  },
  {
   "cell_type": "code",
   "execution_count": null,
   "id": "329893d8",
   "metadata": {},
   "outputs": [],
   "source": [
    "func_.__name__"
   ]
  },
  {
   "cell_type": "code",
   "execution_count": null,
   "id": "7ef107de",
   "metadata": {},
   "outputs": [],
   "source": [
    "func_(10, 10)"
   ]
  },
  {
   "cell_type": "markdown",
   "id": "541b57b7",
   "metadata": {},
   "source": [
    "---"
   ]
  },
  {
   "cell_type": "code",
   "execution_count": null,
   "id": "87f95aa5",
   "metadata": {},
   "outputs": [],
   "source": [
    "def typecheck(para1, para2):\n",
    "    \n",
    "    def typeproc(x, y):\n",
    "        if not (type(x) == para1 and type(y) == para2):\n",
    "            raise TypeError('타입을 확인하세요')\n",
    "            \n",
    "    def decorator_(func):\n",
    "        def inner(*args, **kwargs):\n",
    "            typeproc(*args, **kwargs)\n",
    "            return func(*args, **kwargs)\n",
    "        return inner\n",
    "    print(para1, para2)\n",
    "    \n",
    "    return decorator_"
   ]
  },
  {
   "cell_type": "code",
   "execution_count": null,
   "id": "c901e589",
   "metadata": {},
   "outputs": [],
   "source": [
    "@typecheck(int, int)\n",
    "def add(x, y):\n",
    "    return x + y"
   ]
  },
  {
   "cell_type": "code",
   "execution_count": null,
   "id": "90e8198d",
   "metadata": {},
   "outputs": [],
   "source": [
    "add(10, 10)"
   ]
  },
  {
   "cell_type": "code",
   "execution_count": null,
   "id": "04050786",
   "metadata": {},
   "outputs": [],
   "source": [
    "add(10, 10.1)"
   ]
  },
  {
   "cell_type": "markdown",
   "id": "d35585bb",
   "metadata": {},
   "source": [
    "## 27.1. 데코레이터로 클래스 갱신하기"
   ]
  },
  {
   "cell_type": "code",
   "execution_count": null,
   "id": "ff1ee4f5",
   "metadata": {},
   "outputs": [],
   "source": [
    "def __init__(self, name, age):\n",
    "    self._name = name\n",
    "    self._age = age"
   ]
  },
  {
   "cell_type": "code",
   "execution_count": null,
   "id": "36b628d3",
   "metadata": {},
   "outputs": [],
   "source": [
    "class Descriptor:\n",
    "    \n",
    "    def __set_name__(self, obj, name):\n",
    "        self._name = '_' + name\n",
    "        \n",
    "    def __get__(self, obj, objtype=None):\n",
    "        return obj.__dict__[self._name]\n",
    "    \n",
    "    def __set__(self, obj, value):\n",
    "        obj.__dict__[self._name] = value"
   ]
  },
  {
   "cell_type": "code",
   "execution_count": null,
   "id": "5f011143",
   "metadata": {},
   "outputs": [],
   "source": [
    "def decorator(cls):\n",
    "    cls.__init__ = __init__\n",
    "    return cls"
   ]
  },
  {
   "cell_type": "code",
   "execution_count": null,
   "id": "828db56b",
   "metadata": {},
   "outputs": [],
   "source": [
    "@decorator\n",
    "class Klass:\n",
    "    name = Descriptor()\n",
    "    age = Descriptor()"
   ]
  },
  {
   "cell_type": "code",
   "execution_count": null,
   "id": "87141eb2",
   "metadata": {},
   "outputs": [],
   "source": [
    "k = Klass('이름', 45)"
   ]
  },
  {
   "cell_type": "code",
   "execution_count": null,
   "id": "5405387b",
   "metadata": {},
   "outputs": [],
   "source": [
    "k._name, k._age"
   ]
  },
  {
   "cell_type": "code",
   "execution_count": null,
   "id": "eaeaa93f",
   "metadata": {},
   "outputs": [],
   "source": [
    "k.name, k.age"
   ]
  }
 ],
 "metadata": {
  "kernelspec": {
   "display_name": "Python 3 (ipykernel)",
   "language": "python",
   "name": "python3"
  },
  "language_info": {
   "codemirror_mode": {
    "name": "ipython",
    "version": 3
   },
   "file_extension": ".py",
   "mimetype": "text/x-python",
   "name": "python",
   "nbconvert_exporter": "python",
   "pygments_lexer": "ipython3",
   "version": "3.8.12"
  }
 },
 "nbformat": 4,
 "nbformat_minor": 5
}
