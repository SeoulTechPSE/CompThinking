{
 "cells": [
  {
   "cell_type": "markdown",
   "id": "aa100a0f",
   "metadata": {},
   "source": [
    "# 31 장. 다양한 메소드 이해하기"
   ]
  },
  {
   "cell_type": "markdown",
   "id": "416c56aa",
   "metadata": {},
   "source": [
    "## 31.1. 인스턴스 메소드 - instance method"
   ]
  },
  {
   "cell_type": "code",
   "execution_count": null,
   "id": "6029cc80",
   "metadata": {},
   "outputs": [],
   "source": [
    "def __init__(self, name, age):\n",
    "    self.name = name\n",
    "    self.age = age"
   ]
  },
  {
   "cell_type": "code",
   "execution_count": null,
   "id": "3509de2b",
   "metadata": {},
   "outputs": [],
   "source": [
    "__init__"
   ]
  },
  {
   "cell_type": "code",
   "execution_count": null,
   "id": "66ea1ad8",
   "metadata": {},
   "outputs": [],
   "source": [
    "globals()['__init__']"
   ]
  },
  {
   "cell_type": "markdown",
   "id": "455383ec",
   "metadata": {},
   "source": [
    "---"
   ]
  },
  {
   "cell_type": "code",
   "execution_count": null,
   "id": "1a7eb7d9",
   "metadata": {},
   "outputs": [],
   "source": [
    "class Person:\n",
    "    \n",
    "    print('Person ', globals()['__init__'])\n",
    "    __init__ = __init__"
   ]
  },
  {
   "cell_type": "code",
   "execution_count": null,
   "id": "24593c35",
   "metadata": {},
   "outputs": [],
   "source": [
    "Person.__dict__"
   ]
  },
  {
   "cell_type": "code",
   "execution_count": null,
   "id": "48049ee5",
   "metadata": {},
   "outputs": [],
   "source": [
    "p = Person('Yoo', 43)"
   ]
  },
  {
   "cell_type": "code",
   "execution_count": null,
   "id": "1b4789d4",
   "metadata": {},
   "outputs": [],
   "source": [
    "p.__dict__"
   ]
  },
  {
   "cell_type": "code",
   "execution_count": null,
   "id": "793eaaca",
   "metadata": {},
   "outputs": [],
   "source": [
    "Person.__init__(p, 'Moon', 45)"
   ]
  },
  {
   "cell_type": "code",
   "execution_count": null,
   "id": "de9c745b",
   "metadata": {},
   "outputs": [],
   "source": [
    "p.__dict__"
   ]
  },
  {
   "cell_type": "markdown",
   "id": "263143f2",
   "metadata": {},
   "source": [
    "---"
   ]
  },
  {
   "cell_type": "code",
   "execution_count": null,
   "id": "16d757ad",
   "metadata": {},
   "outputs": [],
   "source": [
    "init = \"\"\"\n",
    "def __init__(self, name, age):\n",
    "    self.name = name\n",
    "    self.age = age\n",
    "\"\"\""
   ]
  },
  {
   "cell_type": "code",
   "execution_count": null,
   "id": "e9a4245f",
   "metadata": {},
   "outputs": [],
   "source": [
    "class People:\n",
    "    \n",
    "    exec(init)\n",
    "    \n",
    "    def get_name(self):\n",
    "        return self.name"
   ]
  },
  {
   "cell_type": "code",
   "execution_count": null,
   "id": "321b4634",
   "metadata": {},
   "outputs": [],
   "source": [
    "People.__dict__"
   ]
  },
  {
   "cell_type": "code",
   "execution_count": null,
   "id": "d8605f4f",
   "metadata": {},
   "outputs": [],
   "source": [
    "import types"
   ]
  },
  {
   "cell_type": "code",
   "execution_count": null,
   "id": "10408713",
   "metadata": {},
   "outputs": [],
   "source": [
    "isinstance(People.__init__, types.FunctionType)"
   ]
  },
  {
   "cell_type": "code",
   "execution_count": null,
   "id": "cb83c05a",
   "metadata": {},
   "outputs": [],
   "source": [
    "isinstance(People.get_name, types.FunctionType)"
   ]
  },
  {
   "cell_type": "code",
   "execution_count": null,
   "id": "d231dc9e",
   "metadata": {},
   "outputs": [],
   "source": [
    "pe = People('요한', 30)"
   ]
  },
  {
   "cell_type": "code",
   "execution_count": null,
   "id": "baaec0eb",
   "metadata": {},
   "outputs": [],
   "source": [
    "pe.get_name"
   ]
  },
  {
   "cell_type": "code",
   "execution_count": null,
   "id": "5331b477",
   "metadata": {},
   "outputs": [],
   "source": [
    "isinstance(pe.get_name, types.MethodType)"
   ]
  },
  {
   "cell_type": "code",
   "execution_count": null,
   "id": "cd58a20a",
   "metadata": {},
   "outputs": [],
   "source": [
    "pe.get_name()"
   ]
  },
  {
   "cell_type": "markdown",
   "id": "8dc9cdf7",
   "metadata": {},
   "source": [
    "---"
   ]
  },
  {
   "cell_type": "code",
   "execution_count": null,
   "id": "65713608",
   "metadata": {},
   "outputs": [],
   "source": [
    "set(dir(pe.get_name)) - set(dir(People.get_name))"
   ]
  },
  {
   "cell_type": "code",
   "execution_count": null,
   "id": "9096359e",
   "metadata": {},
   "outputs": [],
   "source": [
    "pe.get_name.__self__"
   ]
  },
  {
   "cell_type": "code",
   "execution_count": null,
   "id": "aacffcf7",
   "metadata": {},
   "outputs": [],
   "source": [
    "pe is pe.get_name.__self__"
   ]
  },
  {
   "cell_type": "code",
   "execution_count": null,
   "id": "d30f08c6",
   "metadata": {},
   "outputs": [],
   "source": [
    "pe.get_name.__func__"
   ]
  },
  {
   "cell_type": "code",
   "execution_count": null,
   "id": "ea5d74d8",
   "metadata": {},
   "outputs": [],
   "source": [
    "pe.get_name.__func__(pe.get_name.__self__)"
   ]
  },
  {
   "cell_type": "markdown",
   "id": "24ffc4b6",
   "metadata": {},
   "source": [
    "## 31.2. 클래스 메소드 - class method"
   ]
  },
  {
   "cell_type": "code",
   "execution_count": null,
   "id": "aa6897f9",
   "metadata": {},
   "outputs": [],
   "source": [
    "def __init__(cls, name=None, age=None):\n",
    "    \n",
    "    self = object.__new__(cls)\n",
    "    self.name = name\n",
    "    self.age = age\n",
    "    \n",
    "    return self"
   ]
  },
  {
   "cell_type": "code",
   "execution_count": null,
   "id": "f1e798e9",
   "metadata": {},
   "outputs": [],
   "source": [
    "__init__"
   ]
  },
  {
   "cell_type": "code",
   "execution_count": null,
   "id": "d1983564",
   "metadata": {},
   "outputs": [],
   "source": [
    "globals()['__init__']"
   ]
  },
  {
   "cell_type": "code",
   "execution_count": null,
   "id": "acbb87ac",
   "metadata": {},
   "outputs": [],
   "source": [
    "class Person:\n",
    "    \n",
    "    __init__ = classmethod(__init__)"
   ]
  },
  {
   "cell_type": "code",
   "execution_count": null,
   "id": "24f0f6de",
   "metadata": {},
   "outputs": [],
   "source": [
    "Person.__dict__"
   ]
  },
  {
   "cell_type": "code",
   "execution_count": null,
   "id": "6c862129",
   "metadata": {},
   "outputs": [],
   "source": [
    "p = Person.__init__('Yoo', 43)"
   ]
  },
  {
   "cell_type": "code",
   "execution_count": null,
   "id": "332070a7",
   "metadata": {},
   "outputs": [],
   "source": [
    "p.__dict__"
   ]
  },
  {
   "cell_type": "markdown",
   "id": "033b7f2c",
   "metadata": {},
   "source": [
    "---"
   ]
  },
  {
   "cell_type": "code",
   "execution_count": null,
   "id": "d254661d",
   "metadata": {},
   "outputs": [],
   "source": [
    "class People:\n",
    "    \n",
    "    def __init__(self, name, age):\n",
    "        self.name = name\n",
    "        self.age = age\n",
    "        \n",
    "    @classmethod\n",
    "    def get_name(cls, self):\n",
    "        return self.name"
   ]
  },
  {
   "cell_type": "code",
   "execution_count": null,
   "id": "afedbb73",
   "metadata": {},
   "outputs": [],
   "source": [
    "People.__dict__"
   ]
  },
  {
   "cell_type": "code",
   "execution_count": null,
   "id": "f60c8bce",
   "metadata": {},
   "outputs": [],
   "source": [
    "import types"
   ]
  },
  {
   "cell_type": "code",
   "execution_count": null,
   "id": "46375368",
   "metadata": {},
   "outputs": [],
   "source": [
    "People.get_name"
   ]
  },
  {
   "cell_type": "code",
   "execution_count": null,
   "id": "2f250d05",
   "metadata": {},
   "outputs": [],
   "source": [
    "isinstance(People.get_name, types.MethodType)"
   ]
  },
  {
   "cell_type": "code",
   "execution_count": null,
   "id": "2f7c5fba",
   "metadata": {},
   "outputs": [],
   "source": [
    "pe = People('고요한', 30)"
   ]
  },
  {
   "cell_type": "code",
   "execution_count": null,
   "id": "608dc6ca",
   "metadata": {},
   "outputs": [],
   "source": [
    "People.get_name(pe)"
   ]
  },
  {
   "cell_type": "code",
   "execution_count": null,
   "id": "b0b6fbc6",
   "metadata": {},
   "outputs": [],
   "source": [
    "set(dir(People.get_name)) - set(dir(People.__init__))"
   ]
  },
  {
   "cell_type": "code",
   "execution_count": null,
   "id": "375a66ad",
   "metadata": {},
   "outputs": [],
   "source": [
    "People.get_name.__self__"
   ]
  },
  {
   "cell_type": "code",
   "execution_count": null,
   "id": "baeeacb9",
   "metadata": {},
   "outputs": [],
   "source": [
    "People is People.get_name.__self__"
   ]
  },
  {
   "cell_type": "code",
   "execution_count": null,
   "id": "c0167f61",
   "metadata": {},
   "outputs": [],
   "source": [
    "People.get_name.__func__"
   ]
  },
  {
   "cell_type": "code",
   "execution_count": null,
   "id": "7fe161b9",
   "metadata": {},
   "outputs": [],
   "source": [
    "People.get_name.__func__(People.get_name.__self__, pe)"
   ]
  },
  {
   "cell_type": "markdown",
   "id": "af9f5a9d",
   "metadata": {},
   "source": [
    "## 31.3. 정적 메소드"
   ]
  },
  {
   "cell_type": "code",
   "execution_count": null,
   "id": "d5e1f4c6",
   "metadata": {},
   "outputs": [],
   "source": [
    "class Python:\n",
    "    \n",
    "    def __init__(self, version):\n",
    "        self.version = version\n",
    "        \n",
    "    @staticmethod\n",
    "    def get_version(self):\n",
    "        return self.version"
   ]
  },
  {
   "cell_type": "code",
   "execution_count": null,
   "id": "18e36db9",
   "metadata": {},
   "outputs": [],
   "source": [
    "Python.__dict__"
   ]
  },
  {
   "cell_type": "code",
   "execution_count": null,
   "id": "b25bfef6",
   "metadata": {},
   "outputs": [],
   "source": [
    "py = Python('4.0')"
   ]
  },
  {
   "cell_type": "code",
   "execution_count": null,
   "id": "ead73650",
   "metadata": {},
   "outputs": [],
   "source": [
    "py.__dict__"
   ]
  },
  {
   "cell_type": "code",
   "execution_count": null,
   "id": "8a6877e6",
   "metadata": {},
   "outputs": [],
   "source": [
    "Python.get_version"
   ]
  },
  {
   "cell_type": "code",
   "execution_count": null,
   "id": "54fd632b",
   "metadata": {},
   "outputs": [],
   "source": [
    "py.get_version"
   ]
  },
  {
   "cell_type": "code",
   "execution_count": null,
   "id": "66645e9b",
   "metadata": {},
   "outputs": [],
   "source": [
    "Python.get_version(py)"
   ]
  },
  {
   "cell_type": "code",
   "execution_count": null,
   "id": "f4df930f",
   "metadata": {},
   "outputs": [],
   "source": [
    "py.get_version(py)"
   ]
  },
  {
   "cell_type": "markdown",
   "id": "50700045",
   "metadata": {},
   "source": [
    "## 31.4. 사용자 정의 메소드 클래스 만들기"
   ]
  },
  {
   "cell_type": "code",
   "execution_count": null,
   "id": "683c731e",
   "metadata": {},
   "outputs": [],
   "source": [
    "class Method:\n",
    "    \n",
    "    def __init__(self, func):\n",
    "        self._func = func\n",
    "        \n",
    "    def __call__(self, *args, **kwargs):\n",
    "        return self._func(self, *args, **kwargs)\n",
    "    \n",
    "    def method(self):\n",
    "        return 100"
   ]
  },
  {
   "cell_type": "code",
   "execution_count": null,
   "id": "a80dad7d",
   "metadata": {},
   "outputs": [],
   "source": [
    "class A:\n",
    "    @Method\n",
    "    def a(self):\n",
    "        return 10"
   ]
  },
  {
   "cell_type": "code",
   "execution_count": null,
   "id": "ea88ad40",
   "metadata": {},
   "outputs": [],
   "source": [
    "A.__dict__"
   ]
  },
  {
   "cell_type": "code",
   "execution_count": null,
   "id": "ac232dea",
   "metadata": {},
   "outputs": [],
   "source": [
    "bb = A()"
   ]
  },
  {
   "cell_type": "code",
   "execution_count": null,
   "id": "b96e60b5",
   "metadata": {},
   "outputs": [],
   "source": [
    "bb.a"
   ]
  },
  {
   "cell_type": "code",
   "execution_count": null,
   "id": "3e7145fa",
   "metadata": {},
   "outputs": [],
   "source": [
    "bb.a()"
   ]
  },
  {
   "cell_type": "code",
   "execution_count": null,
   "id": "a9da9e23",
   "metadata": {},
   "outputs": [],
   "source": [
    "bb.a.method()"
   ]
  }
 ],
 "metadata": {
  "kernelspec": {
   "display_name": "Python 3 (ipykernel)",
   "language": "python",
   "name": "python3"
  },
  "language_info": {
   "codemirror_mode": {
    "name": "ipython",
    "version": 3
   },
   "file_extension": ".py",
   "mimetype": "text/x-python",
   "name": "python",
   "nbconvert_exporter": "python",
   "pygments_lexer": "ipython3",
   "version": "3.8.12"
  }
 },
 "nbformat": 4,
 "nbformat_minor": 5
}
