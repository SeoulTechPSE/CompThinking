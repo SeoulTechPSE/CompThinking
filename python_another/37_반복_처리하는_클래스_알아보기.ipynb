{
 "cells": [
  {
   "cell_type": "markdown",
   "id": "3e9c50a2",
   "metadata": {},
   "source": [
    "# 37 장. 반복 처리하는 클래스 알아보기 "
   ]
  },
  {
   "cell_type": "markdown",
   "id": "7661f81e",
   "metadata": {},
   "source": [
    "## 37.1. 반복형과 반복자 클래스 이해하기"
   ]
  },
  {
   "cell_type": "code",
   "execution_count": null,
   "id": "03b1b95a",
   "metadata": {},
   "outputs": [],
   "source": [
    "import collections.abc as abc"
   ]
  },
  {
   "cell_type": "code",
   "execution_count": null,
   "id": "851a271c",
   "metadata": {},
   "outputs": [],
   "source": [
    "abc.Iterable"
   ]
  },
  {
   "cell_type": "code",
   "execution_count": null,
   "id": "0bd7eea0",
   "metadata": {},
   "outputs": [],
   "source": [
    "abc.Iterable.__abstractmethods__"
   ]
  },
  {
   "cell_type": "code",
   "execution_count": null,
   "id": "e8eedd23",
   "metadata": {},
   "outputs": [],
   "source": [
    "abc.Iterator"
   ]
  },
  {
   "cell_type": "code",
   "execution_count": null,
   "id": "128dd0f4",
   "metadata": {},
   "outputs": [],
   "source": [
    "abc.Iterator.__abstractmethods__"
   ]
  },
  {
   "cell_type": "markdown",
   "id": "ed8eaadd",
   "metadata": {},
   "source": [
    "---"
   ]
  },
  {
   "cell_type": "code",
   "execution_count": null,
   "id": "d58abd97",
   "metadata": {},
   "outputs": [],
   "source": [
    "issubclass(str, abc.Iterable)"
   ]
  },
  {
   "cell_type": "code",
   "execution_count": null,
   "id": "50030a0b",
   "metadata": {},
   "outputs": [],
   "source": [
    "issubclass(list, abc.Iterable), issubclass(tuple, abc.Iterable)"
   ]
  },
  {
   "cell_type": "code",
   "execution_count": null,
   "id": "611aba5f",
   "metadata": {},
   "outputs": [],
   "source": [
    "issubclass(set, abc.Iterable), issubclass(dict, abc.Iterable)"
   ]
  },
  {
   "cell_type": "code",
   "execution_count": null,
   "id": "32385c25",
   "metadata": {},
   "outputs": [],
   "source": [
    "str.__iter__, list.__iter__, tuple.__iter__, dict.__iter__"
   ]
  },
  {
   "cell_type": "markdown",
   "id": "7efd570d",
   "metadata": {},
   "source": [
    "---"
   ]
  },
  {
   "cell_type": "code",
   "execution_count": null,
   "id": "79ae40c4",
   "metadata": {},
   "outputs": [],
   "source": [
    "s = iter('문자열')"
   ]
  },
  {
   "cell_type": "code",
   "execution_count": null,
   "id": "b4a1a946",
   "metadata": {},
   "outputs": [],
   "source": [
    "type(s), issubclass(type(s), abc.Iterator)"
   ]
  },
  {
   "cell_type": "code",
   "execution_count": null,
   "id": "593b4c1d",
   "metadata": {},
   "outputs": [],
   "source": [
    "l = iter([1, 2, 3, 4, 5])"
   ]
  },
  {
   "cell_type": "code",
   "execution_count": null,
   "id": "182d10f1",
   "metadata": {},
   "outputs": [],
   "source": [
    "type(l), issubclass(type(l), abc.Iterator)"
   ]
  },
  {
   "cell_type": "code",
   "execution_count": null,
   "id": "08ac2649",
   "metadata": {},
   "outputs": [],
   "source": [
    "d = {1:2, 3:4, 5:6}"
   ]
  },
  {
   "cell_type": "code",
   "execution_count": null,
   "id": "fd2ede47",
   "metadata": {},
   "outputs": [],
   "source": [
    "d.keys(), issubclass(type(d.keys()), abc.Iterable)"
   ]
  },
  {
   "cell_type": "code",
   "execution_count": null,
   "id": "7f4d950f",
   "metadata": {},
   "outputs": [],
   "source": [
    "d.values(), issubclass(type(d.values()), abc.Iterable)"
   ]
  },
  {
   "cell_type": "markdown",
   "id": "b1590256",
   "metadata": {},
   "source": [
    "---"
   ]
  },
  {
   "cell_type": "code",
   "execution_count": null,
   "id": "7085ac9d",
   "metadata": {},
   "outputs": [],
   "source": [
    "dk = iter(d)"
   ]
  },
  {
   "cell_type": "code",
   "execution_count": null,
   "id": "45555dfc",
   "metadata": {},
   "outputs": [],
   "source": [
    "type(dk), issubclass(type(dk), abc.Iterator)"
   ]
  },
  {
   "cell_type": "code",
   "execution_count": null,
   "id": "c5de46c3",
   "metadata": {},
   "outputs": [],
   "source": [
    "dv = iter(d.values())"
   ]
  },
  {
   "cell_type": "code",
   "execution_count": null,
   "id": "543ff7fd",
   "metadata": {},
   "outputs": [],
   "source": [
    "type(dv), issubclass(type(dv), abc.Iterator)"
   ]
  },
  {
   "cell_type": "markdown",
   "id": "2a2e6fbc",
   "metadata": {},
   "source": [
    "---"
   ]
  },
  {
   "cell_type": "code",
   "execution_count": null,
   "id": "5b27527e",
   "metadata": {},
   "outputs": [],
   "source": [
    "issubclass(range, abc.Iterable), issubclass(range, abc.Iterator)"
   ]
  },
  {
   "cell_type": "code",
   "execution_count": null,
   "id": "fa62e2ce",
   "metadata": {},
   "outputs": [],
   "source": [
    "issubclass(zip, abc.Iterable), issubclass(zip, abc.Iterator)"
   ]
  },
  {
   "cell_type": "code",
   "execution_count": null,
   "id": "ec8a118c",
   "metadata": {},
   "outputs": [],
   "source": [
    "issubclass(map, abc.Iterable), issubclass(map, abc.Iterator)"
   ]
  },
  {
   "cell_type": "code",
   "execution_count": null,
   "id": "178a2431",
   "metadata": {},
   "outputs": [],
   "source": [
    "issubclass(filter, abc.Iterable), issubclass(filter, abc.Iterator)"
   ]
  },
  {
   "cell_type": "code",
   "execution_count": null,
   "id": "1f4e9852",
   "metadata": {},
   "outputs": [],
   "source": [
    "issubclass(enumerate, abc.Iterable), issubclass(enumerate, abc.Iterator)"
   ]
  },
  {
   "cell_type": "markdown",
   "id": "4bbc3366",
   "metadata": {},
   "source": [
    "## 37.2. 반복형과 반복자 클래스 만들어 보기"
   ]
  },
  {
   "cell_type": "code",
   "execution_count": null,
   "id": "f6852594",
   "metadata": {},
   "outputs": [],
   "source": [
    "class MyIterable:\n",
    "    \n",
    "    def __init__(self, size):\n",
    "        self.data = list(range(size))\n",
    "        \n",
    "    def __iter__(self):\n",
    "        self.index = 0\n",
    "        return list.__iter__(self.data)"
   ]
  },
  {
   "cell_type": "code",
   "execution_count": null,
   "id": "f78cbca0",
   "metadata": {},
   "outputs": [],
   "source": [
    "import collections.abc as abc"
   ]
  },
  {
   "cell_type": "code",
   "execution_count": null,
   "id": "0c3d80a9",
   "metadata": {},
   "outputs": [],
   "source": [
    "issubclass(MyIterable, abc.Iterable)"
   ]
  },
  {
   "cell_type": "code",
   "execution_count": null,
   "id": "56391ed1",
   "metadata": {
    "slideshow": {
     "slide_type": "slide"
    }
   },
   "outputs": [],
   "source": [
    "m = MyIterable(10)"
   ]
  },
  {
   "cell_type": "code",
   "execution_count": null,
   "id": "e84f8d85",
   "metadata": {},
   "outputs": [],
   "source": [
    "m.__dict__"
   ]
  },
  {
   "cell_type": "code",
   "execution_count": null,
   "id": "b922a2ad",
   "metadata": {},
   "outputs": [],
   "source": [
    "mit = iter(m)"
   ]
  },
  {
   "cell_type": "code",
   "execution_count": null,
   "id": "e2c51684",
   "metadata": {},
   "outputs": [],
   "source": [
    "mit"
   ]
  },
  {
   "cell_type": "code",
   "execution_count": null,
   "id": "4e83ea55",
   "metadata": {},
   "outputs": [],
   "source": [
    "next(mit), next(mit), next(mit), next(mit), next(mit)"
   ]
  },
  {
   "cell_type": "code",
   "execution_count": null,
   "id": "62007012",
   "metadata": {},
   "outputs": [],
   "source": [
    "next(mit), next(mit), next(mit), next(mit), next(mit)"
   ]
  },
  {
   "cell_type": "code",
   "execution_count": null,
   "id": "22c9d615",
   "metadata": {},
   "outputs": [],
   "source": [
    "next(mit)"
   ]
  },
  {
   "cell_type": "markdown",
   "id": "13577655",
   "metadata": {},
   "source": [
    "---"
   ]
  },
  {
   "cell_type": "code",
   "execution_count": null,
   "id": "8c9a9069",
   "metadata": {},
   "outputs": [],
   "source": [
    "class MyIterator:\n",
    "    \n",
    "    def __init__(self, size):\n",
    "        self.data = list(range(size))\n",
    "        \n",
    "    def __iter__(self):\n",
    "        if not hasattr(self, 'index'):\n",
    "            self.index = 0\n",
    "        return self\n",
    "    \n",
    "    def __next__(self):\n",
    "        if not (self.index < len(self.data)):\n",
    "            raise StopIteration\n",
    "        n = self.data[self.index]\n",
    "        self.index += 1\n",
    "        return n"
   ]
  },
  {
   "cell_type": "code",
   "execution_count": null,
   "id": "1dc3def9",
   "metadata": {},
   "outputs": [],
   "source": [
    "issubclass(MyIterator, abc.Iterator)"
   ]
  },
  {
   "cell_type": "code",
   "execution_count": null,
   "id": "6d3bfe52",
   "metadata": {},
   "outputs": [],
   "source": [
    "mycol = MyIterator(10)"
   ]
  },
  {
   "cell_type": "code",
   "execution_count": null,
   "id": "4df5f564",
   "metadata": {},
   "outputs": [],
   "source": [
    "for i in mycol:\n",
    "    print(i, end=', ')"
   ]
  },
  {
   "cell_type": "code",
   "execution_count": null,
   "id": "f53c66f0",
   "metadata": {},
   "outputs": [],
   "source": [
    "for i in mycol:\n",
    "    print(i, end=', ')"
   ]
  },
  {
   "cell_type": "code",
   "execution_count": null,
   "id": "fbc92690",
   "metadata": {},
   "outputs": [],
   "source": [
    "mycol = MyIterator(5)"
   ]
  },
  {
   "cell_type": "code",
   "execution_count": null,
   "id": "ae304fe8",
   "metadata": {},
   "outputs": [],
   "source": [
    "for i in mycol:\n",
    "    print(i, end=', ')"
   ]
  },
  {
   "cell_type": "markdown",
   "id": "2dd00e2e",
   "metadata": {},
   "source": [
    "## 37.3. 제너레이터"
   ]
  },
  {
   "cell_type": "code",
   "execution_count": null,
   "id": "0d82130b",
   "metadata": {},
   "outputs": [],
   "source": [
    "g = (x for x in range(3))"
   ]
  },
  {
   "cell_type": "code",
   "execution_count": null,
   "id": "8a287d03",
   "metadata": {},
   "outputs": [],
   "source": [
    "g"
   ]
  },
  {
   "cell_type": "code",
   "execution_count": null,
   "id": "f23c1a09",
   "metadata": {},
   "outputs": [],
   "source": [
    "import collections.abc as abc"
   ]
  },
  {
   "cell_type": "code",
   "execution_count": null,
   "id": "a31d37f8",
   "metadata": {},
   "outputs": [],
   "source": [
    "issubclass(type(g), abc.Iterator)"
   ]
  },
  {
   "cell_type": "code",
   "execution_count": null,
   "id": "73e664cf",
   "metadata": {},
   "outputs": [],
   "source": [
    "issubclass(type(g), abc.Generator)"
   ]
  },
  {
   "cell_type": "code",
   "execution_count": null,
   "id": "fa3b964a",
   "metadata": {},
   "outputs": [],
   "source": [
    "next(g), next(g), next(g)"
   ]
  },
  {
   "cell_type": "code",
   "execution_count": null,
   "id": "499ed4e6",
   "metadata": {},
   "outputs": [],
   "source": [
    "next(g)"
   ]
  },
  {
   "cell_type": "markdown",
   "id": "3d899224",
   "metadata": {},
   "source": [
    "---"
   ]
  },
  {
   "cell_type": "code",
   "execution_count": null,
   "id": "7f3e3bf7",
   "metadata": {},
   "outputs": [],
   "source": [
    "g_ = (x for x in range(3))"
   ]
  },
  {
   "cell_type": "code",
   "execution_count": null,
   "id": "b2506fc6",
   "metadata": {},
   "outputs": [],
   "source": [
    "next(g_), next(g_), next(g_)"
   ]
  },
  {
   "cell_type": "code",
   "execution_count": null,
   "id": "b3edaa04",
   "metadata": {},
   "outputs": [],
   "source": [
    "next(g_, '종료')"
   ]
  },
  {
   "cell_type": "markdown",
   "id": "fb17682a",
   "metadata": {},
   "source": [
    "---"
   ]
  },
  {
   "cell_type": "code",
   "execution_count": null,
   "id": "cd2d9717",
   "metadata": {},
   "outputs": [],
   "source": [
    "g_1 = (x for x in range(3))"
   ]
  },
  {
   "cell_type": "code",
   "execution_count": null,
   "id": "814392bd",
   "metadata": {},
   "outputs": [],
   "source": [
    "[*g_1]"
   ]
  },
  {
   "cell_type": "markdown",
   "id": "9cef41ed",
   "metadata": {},
   "source": [
    "---"
   ]
  },
  {
   "cell_type": "code",
   "execution_count": null,
   "id": "870f3915",
   "metadata": {},
   "outputs": [],
   "source": [
    "def gen():\n",
    "    yield 1"
   ]
  },
  {
   "cell_type": "code",
   "execution_count": null,
   "id": "a7a7fb23",
   "metadata": {},
   "outputs": [],
   "source": [
    "g = gen()"
   ]
  },
  {
   "cell_type": "code",
   "execution_count": null,
   "id": "0815f727",
   "metadata": {},
   "outputs": [],
   "source": [
    "g"
   ]
  },
  {
   "cell_type": "code",
   "execution_count": null,
   "id": "f762578c",
   "metadata": {},
   "outputs": [],
   "source": [
    "g()"
   ]
  },
  {
   "cell_type": "code",
   "execution_count": null,
   "id": "e5f17e2b",
   "metadata": {},
   "outputs": [],
   "source": [
    "next(g), next(g, '종료')"
   ]
  },
  {
   "cell_type": "code",
   "execution_count": null,
   "id": "89c395f6",
   "metadata": {},
   "outputs": [],
   "source": [
    "g1 = gen()"
   ]
  },
  {
   "cell_type": "code",
   "execution_count": null,
   "id": "a3751970",
   "metadata": {},
   "outputs": [],
   "source": [
    "for i in g1:\n",
    "    print(i)"
   ]
  },
  {
   "cell_type": "markdown",
   "id": "2dd17a8f",
   "metadata": {},
   "source": [
    "---"
   ]
  },
  {
   "cell_type": "code",
   "execution_count": null,
   "id": "a23658af",
   "metadata": {},
   "outputs": [],
   "source": [
    "def gen_():\n",
    "    print('처리 방식 1')\n",
    "    yield 1\n",
    "    print('처리 방식 2')    "
   ]
  },
  {
   "cell_type": "code",
   "execution_count": null,
   "id": "36b591d6",
   "metadata": {},
   "outputs": [],
   "source": [
    "g2 = gen_()"
   ]
  },
  {
   "cell_type": "code",
   "execution_count": null,
   "id": "1faf8e2e",
   "metadata": {},
   "outputs": [],
   "source": [
    "next(g2)"
   ]
  },
  {
   "cell_type": "code",
   "execution_count": null,
   "id": "4787a056",
   "metadata": {},
   "outputs": [],
   "source": [
    "next(g2, '종료')"
   ]
  },
  {
   "cell_type": "markdown",
   "id": "b21f1f19",
   "metadata": {},
   "source": [
    "---"
   ]
  },
  {
   "cell_type": "code",
   "execution_count": null,
   "id": "4282f1bd",
   "metadata": {},
   "outputs": [],
   "source": [
    "def gen_1():\n",
    "    for i in range(3):\n",
    "        print('처리 방식 ', i)\n",
    "        yield i\n",
    "        print('처리 방식 ', i, i + 1)       "
   ]
  },
  {
   "cell_type": "code",
   "execution_count": null,
   "id": "d0b52cbd",
   "metadata": {},
   "outputs": [],
   "source": [
    "g_1 = gen_1()"
   ]
  },
  {
   "cell_type": "code",
   "execution_count": null,
   "id": "ce3ca8a0",
   "metadata": {},
   "outputs": [],
   "source": [
    "next(g_1)"
   ]
  },
  {
   "cell_type": "code",
   "execution_count": null,
   "id": "e6ce5a06",
   "metadata": {},
   "outputs": [],
   "source": [
    "next(g_1)"
   ]
  },
  {
   "cell_type": "code",
   "execution_count": null,
   "id": "4268d4bc",
   "metadata": {},
   "outputs": [],
   "source": [
    "next(g_1)"
   ]
  },
  {
   "cell_type": "code",
   "execution_count": null,
   "id": "e7376994",
   "metadata": {},
   "outputs": [],
   "source": [
    "next(g_1, '종료')"
   ]
  },
  {
   "cell_type": "markdown",
   "id": "4780874b",
   "metadata": {},
   "source": [
    "---"
   ]
  },
  {
   "cell_type": "code",
   "execution_count": null,
   "id": "7dd1d7e7",
   "metadata": {},
   "outputs": [],
   "source": [
    "def fact(n):\n",
    "    if n in [0, 1]:\n",
    "        return 1\n",
    "    return n * fact(n - 1)"
   ]
  },
  {
   "cell_type": "code",
   "execution_count": null,
   "id": "e13e2baa",
   "metadata": {},
   "outputs": [],
   "source": [
    "def gen_fact():\n",
    "    for i in range(3):\n",
    "        yield fact(i)"
   ]
  },
  {
   "cell_type": "code",
   "execution_count": null,
   "id": "e0368dbc",
   "metadata": {},
   "outputs": [],
   "source": [
    "g_f = gen_fact()"
   ]
  },
  {
   "cell_type": "code",
   "execution_count": null,
   "id": "05a87780",
   "metadata": {},
   "outputs": [],
   "source": [
    "next(g_f)"
   ]
  },
  {
   "cell_type": "code",
   "execution_count": null,
   "id": "578d0859",
   "metadata": {},
   "outputs": [],
   "source": [
    "next(g_f)"
   ]
  },
  {
   "cell_type": "code",
   "execution_count": null,
   "id": "05611738",
   "metadata": {},
   "outputs": [],
   "source": [
    "next(g_f)"
   ]
  },
  {
   "cell_type": "code",
   "execution_count": null,
   "id": "2e1ac498",
   "metadata": {},
   "outputs": [],
   "source": [
    "next(g_f, '종료')"
   ]
  }
 ],
 "metadata": {
  "kernelspec": {
   "display_name": "Python 3 (ipykernel)",
   "language": "python",
   "name": "python3"
  },
  "language_info": {
   "codemirror_mode": {
    "name": "ipython",
    "version": 3
   },
   "file_extension": ".py",
   "mimetype": "text/x-python",
   "name": "python",
   "nbconvert_exporter": "python",
   "pygments_lexer": "ipython3",
   "version": "3.8.12"
  }
 },
 "nbformat": 4,
 "nbformat_minor": 5
}
