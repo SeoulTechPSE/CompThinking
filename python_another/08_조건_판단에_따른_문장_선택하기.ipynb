{
 "cells": [
  {
   "cell_type": "markdown",
   "id": "be2ef0f0",
   "metadata": {},
   "source": [
    "# 08장. 조건 판단에 따른 문장 선택하기"
   ]
  },
  {
   "cell_type": "markdown",
   "id": "d3eab97f",
   "metadata": {},
   "source": [
    "## 08.1. 단순 조건을 처리하는 단순 제어문"
   ]
  },
  {
   "cell_type": "code",
   "execution_count": null,
   "id": "7cfe1c91",
   "metadata": {},
   "outputs": [],
   "source": [
    "if True:\n",
    "    print('참인 값만 처리')"
   ]
  },
  {
   "cell_type": "code",
   "execution_count": null,
   "id": "6c7bd14e",
   "metadata": {},
   "outputs": [],
   "source": [
    "if False:\n",
    "    print('참인 값만 처리')"
   ]
  },
  {
   "cell_type": "code",
   "execution_count": null,
   "id": "a03b4703",
   "metadata": {},
   "outputs": [],
   "source": [
    "if False:\n",
    "    print('참인 값만 처리')\n",
    "else:\n",
    "    print('거짓인 값만 처리')"
   ]
  },
  {
   "cell_type": "code",
   "execution_count": null,
   "id": "196f6403",
   "metadata": {},
   "outputs": [],
   "source": [
    "if 1/0:\n",
    "    print('참인 값만 처리')\n",
    "else:\n",
    "    print('거짓인 값만 처리')"
   ]
  },
  {
   "cell_type": "markdown",
   "id": "9f618912",
   "metadata": {},
   "source": [
    "---"
   ]
  },
  {
   "cell_type": "code",
   "execution_count": null,
   "id": "23c3f159",
   "metadata": {},
   "outputs": [],
   "source": [
    "x = 100\n",
    "y = 100\n",
    "if x is not y:\n",
    "    print('참인 값만 처리')\n",
    "else:\n",
    "    print('거짓인 값만 처리')"
   ]
  },
  {
   "cell_type": "code",
   "execution_count": null,
   "id": "ad1f1238",
   "metadata": {},
   "outputs": [],
   "source": [
    "if x not is not y:\n",
    "    print('참인 값만 처리')\n",
    "else:\n",
    "    print('거짓인 값만 처리')"
   ]
  },
  {
   "cell_type": "markdown",
   "id": "3241ae8a",
   "metadata": {},
   "source": [
    "---"
   ]
  },
  {
   "cell_type": "code",
   "execution_count": null,
   "id": "4f8fffa1",
   "metadata": {},
   "outputs": [],
   "source": [
    "bool(0), bool(0.0), bool(0+0j)"
   ]
  },
  {
   "cell_type": "code",
   "execution_count": null,
   "id": "cc584035",
   "metadata": {},
   "outputs": [],
   "source": [
    "bool(''), bool([]), bool(())"
   ]
  },
  {
   "cell_type": "code",
   "execution_count": null,
   "id": "33ba8fb2",
   "metadata": {},
   "outputs": [],
   "source": [
    "bool({}), bool(set())"
   ]
  },
  {
   "cell_type": "markdown",
   "id": "c665a844",
   "metadata": {},
   "source": [
    "---"
   ]
  },
  {
   "cell_type": "code",
   "execution_count": null,
   "id": "095188a9",
   "metadata": {},
   "outputs": [],
   "source": [
    "bool(None)"
   ]
  },
  {
   "cell_type": "code",
   "execution_count": null,
   "id": "69ffd4ef",
   "metadata": {},
   "outputs": [],
   "source": [
    "None is None"
   ]
  },
  {
   "cell_type": "code",
   "execution_count": null,
   "id": "7c9504a4",
   "metadata": {},
   "outputs": [],
   "source": [
    "None == None"
   ]
  },
  {
   "cell_type": "markdown",
   "id": "55d11ac3",
   "metadata": {},
   "source": [
    "## 08.2. 다양한 조건을 판단하는 복합 제어문"
   ]
  },
  {
   "cell_type": "code",
   "execution_count": null,
   "id": "3e9a1469",
   "metadata": {},
   "outputs": [],
   "source": [
    "a = 10\n",
    "b = 20"
   ]
  },
  {
   "cell_type": "code",
   "execution_count": null,
   "id": "aa520500",
   "metadata": {},
   "outputs": [],
   "source": [
    "bin(5)"
   ]
  },
  {
   "cell_type": "code",
   "execution_count": null,
   "id": "d3114908",
   "metadata": {
    "scrolled": true
   },
   "outputs": [],
   "source": [
    "bin(7)"
   ]
  },
  {
   "cell_type": "code",
   "execution_count": null,
   "id": "82e0b2a3",
   "metadata": {},
   "outputs": [],
   "source": [
    "bin(b)"
   ]
  },
  {
   "cell_type": "markdown",
   "id": "6fd703c2",
   "metadata": {},
   "source": [
    "---"
   ]
  },
  {
   "cell_type": "code",
   "execution_count": null,
   "id": "b543cb4f",
   "metadata": {
    "scrolled": true
   },
   "outputs": [],
   "source": [
    "5 & b, 7 & b"
   ]
  },
  {
   "cell_type": "code",
   "execution_count": null,
   "id": "bff54577",
   "metadata": {},
   "outputs": [],
   "source": [
    "a > 5 & b > 20"
   ]
  },
  {
   "cell_type": "code",
   "execution_count": null,
   "id": "93399e4d",
   "metadata": {},
   "outputs": [],
   "source": [
    "a > 7 & b > 20"
   ]
  },
  {
   "cell_type": "code",
   "execution_count": null,
   "id": "f7993ee6",
   "metadata": {},
   "outputs": [],
   "source": [
    "True > 20"
   ]
  },
  {
   "cell_type": "markdown",
   "id": "49e02050",
   "metadata": {},
   "source": [
    "---"
   ]
  },
  {
   "cell_type": "code",
   "execution_count": null,
   "id": "c6203134",
   "metadata": {},
   "outputs": [],
   "source": [
    "(a > 5) & (b > 20)"
   ]
  },
  {
   "cell_type": "code",
   "execution_count": null,
   "id": "bb8976cf",
   "metadata": {},
   "outputs": [],
   "source": [
    "(a > 7) & (b > 20)"
   ]
  },
  {
   "cell_type": "code",
   "execution_count": null,
   "id": "abde1ba5",
   "metadata": {},
   "outputs": [],
   "source": [
    "(a > 7) & (b >= 20)"
   ]
  },
  {
   "cell_type": "markdown",
   "id": "a3627a48",
   "metadata": {},
   "source": [
    "---"
   ]
  },
  {
   "cell_type": "code",
   "execution_count": null,
   "id": "3a5ca597",
   "metadata": {},
   "outputs": [],
   "source": [
    "c = 100\n",
    "\n",
    "if 50 < c <=70:\n",
    "    print('first')\n",
    "elif 70 < c <= 80:\n",
    "    print('second')\n",
    "elif 80 < c <= 90:\n",
    "    print('third')\n",
    "elif 90 < c <= 100:\n",
    "    print('fourth')"
   ]
  },
  {
   "cell_type": "markdown",
   "id": "2f1efa67",
   "metadata": {},
   "source": [
    "## 08.3. 조건 연산자를 스페셜 메소드로 처리하기"
   ]
  },
  {
   "cell_type": "code",
   "execution_count": null,
   "id": "52e08d93",
   "metadata": {},
   "outputs": [],
   "source": [
    "1 <= 10"
   ]
  },
  {
   "cell_type": "code",
   "execution_count": null,
   "id": "6a928a3f",
   "metadata": {},
   "outputs": [],
   "source": [
    "(1).__le__(10)"
   ]
  },
  {
   "cell_type": "code",
   "execution_count": null,
   "id": "6e4d5588",
   "metadata": {},
   "outputs": [],
   "source": [
    "a = 10\n",
    "b = 20\n",
    "\n",
    "(a < b) and (b > a)"
   ]
  },
  {
   "cell_type": "code",
   "execution_count": null,
   "id": "70ad32e5",
   "metadata": {},
   "outputs": [],
   "source": [
    "a.__lt__(b).__and__(b.__gt__(a))"
   ]
  },
  {
   "cell_type": "code",
   "execution_count": null,
   "id": "7d48abb6",
   "metadata": {},
   "outputs": [],
   "source": [
    "c = 15\n",
    "a < c < b"
   ]
  },
  {
   "cell_type": "code",
   "execution_count": null,
   "id": "a83405d2",
   "metadata": {},
   "outputs": [],
   "source": [
    "(a < c) and (c < b)"
   ]
  }
 ],
 "metadata": {
  "kernelspec": {
   "display_name": "Python 3 (ipykernel)",
   "language": "python",
   "name": "python3"
  },
  "language_info": {
   "codemirror_mode": {
    "name": "ipython",
    "version": 3
   },
   "file_extension": ".py",
   "mimetype": "text/x-python",
   "name": "python",
   "nbconvert_exporter": "python",
   "pygments_lexer": "ipython3",
   "version": "3.8.12"
  }
 },
 "nbformat": 4,
 "nbformat_minor": 5
}
