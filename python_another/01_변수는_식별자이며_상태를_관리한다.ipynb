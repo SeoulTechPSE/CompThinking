{
 "cells": [
  {
   "cell_type": "markdown",
   "id": "a8360af4",
   "metadata": {},
   "source": [
    "# 01 장. 변수는 식별자이며, 상태를 관리한다"
   ]
  },
  {
   "cell_type": "markdown",
   "id": "953ade5c",
   "metadata": {},
   "source": [
    "## 01.1. 문법 규칙에 사용하는 예약어(keyword)"
   ]
  },
  {
   "cell_type": "code",
   "execution_count": null,
   "id": "1a740192",
   "metadata": {},
   "outputs": [],
   "source": [
    "import sys\n",
    "\n",
    "sys.version_info"
   ]
  },
  {
   "cell_type": "code",
   "execution_count": null,
   "id": "5177bdbb",
   "metadata": {},
   "outputs": [],
   "source": [
    "import keyword\n",
    "\n",
    "len(keyword.kwlist)"
   ]
  },
  {
   "cell_type": "code",
   "execution_count": null,
   "id": "80cd3b67",
   "metadata": {},
   "outputs": [],
   "source": [
    "type(keyword.kwlist)"
   ]
  },
  {
   "cell_type": "code",
   "execution_count": null,
   "id": "5fcb308d",
   "metadata": {},
   "outputs": [],
   "source": [
    "def print_elements(collection, column=5):\n",
    "    for i, element in enumerate(collection, 1):\n",
    "        print(f'{element:10}', end= ' ')\n",
    "        if not(i % column): print()\n",
    "            \n",
    "print_elements(keyword.kwlist)"
   ]
  },
  {
   "cell_type": "markdown",
   "id": "a106b678",
   "metadata": {},
   "source": [
    "---"
   ]
  },
  {
   "cell_type": "code",
   "execution_count": null,
   "id": "4d27723a",
   "metadata": {},
   "outputs": [],
   "source": [
    "if = 100"
   ]
  },
  {
   "cell_type": "code",
   "execution_count": null,
   "id": "65a759f4",
   "metadata": {},
   "outputs": [],
   "source": [
    "in = 100"
   ]
  },
  {
   "cell_type": "markdown",
   "id": "9db20005",
   "metadata": {},
   "source": [
    "## 01.2. 변수 이름을 짓는 문자열 알아보기"
   ]
  },
  {
   "cell_type": "code",
   "execution_count": null,
   "id": "0873d76a",
   "metadata": {},
   "outputs": [],
   "source": [
    "import string"
   ]
  },
  {
   "cell_type": "code",
   "execution_count": null,
   "id": "4d098302",
   "metadata": {},
   "outputs": [],
   "source": [
    "print_elements(dir(string), 1)"
   ]
  },
  {
   "cell_type": "code",
   "execution_count": null,
   "id": "21025bb2",
   "metadata": {},
   "outputs": [],
   "source": [
    "string.ascii_letters"
   ]
  },
  {
   "cell_type": "code",
   "execution_count": null,
   "id": "10d1f246",
   "metadata": {},
   "outputs": [],
   "source": [
    "string.digits"
   ]
  },
  {
   "cell_type": "code",
   "execution_count": null,
   "id": "c3778355",
   "metadata": {},
   "outputs": [],
   "source": [
    "string.punctuation"
   ]
  },
  {
   "cell_type": "code",
   "execution_count": null,
   "id": "d0ac35ce",
   "metadata": {},
   "outputs": [],
   "source": [
    "string.whitespace"
   ]
  },
  {
   "cell_type": "markdown",
   "id": "6aab1027",
   "metadata": {},
   "source": [
    "## 01.3. 변수(variable) 이름 정의 규칙"
   ]
  },
  {
   "cell_type": "markdown",
   "id": "8cc85d55",
   "metadata": {},
   "source": [
    "파이썬에서는 변수 이름을 지을 때 숫자를 제외한 문자와 밑줄을 이름의 첫 글자로 쓴다. 그 다음부터는 숫자, 문자, 밑줄을 섞어서 사용해도 된다\n",
    "\n",
    "* 함수, 객체, 변수 이름의 첫 글자는 소문자를 사용한다\n",
    "* 함수, 객체, 변수 이름을 두 단어 이상으로 쓸 때는 단어 사이를 (`_`)로 연결한다\n",
    "* 예약어와 같은 이름의 변수 이름을 사용하려면 예약어 뒤에 밑줄을 붙인다\n",
    "* 클래스 이름의 첫 글자는 대문자를 사용한다\n",
    "* 클래스 이름을 두 단어 이상으로 쓸 때는 두 번째 이후 단어의 첫 글자를 대문자 하여 연결한다(camelcase)\n",
    "* 클래스나 객체 내의 보호 속성을 정의할 때는 첫 글자를 밑줄(`_`)부터 시작한다(보호 속성은 클래스와 객체 외부에서 속성에 직접 접근해서 사용하지 않도록 주의하라는 뜻이다)\n",
    "* 클래스나 객체의 비공개 속성은 외부에서 직접 접근할 수 없게 이름을 변경하는 맹글링(mangling) 처리 방식을 사용한다. 이름 앞에 `__`(double underscore)를 붙이면 자동으로 `_`클래스 이름이 붙여진다\n",
    "* 파이썬 내부에서만 사용되는 스페셜 속성이나 메소드는 이름 양쪽에 `__`를 붙여 사용한다"
   ]
  },
  {
   "cell_type": "code",
   "execution_count": null,
   "id": "fdd3ead1",
   "metadata": {},
   "outputs": [],
   "source": [
    "var = 100\n",
    "_var = 100\n",
    "__var = 100\n",
    "\n",
    "var, _var, __var"
   ]
  },
  {
   "cell_type": "code",
   "execution_count": null,
   "id": "6625f015",
   "metadata": {},
   "outputs": [],
   "source": [
    "var_ = 100\n",
    "var__ = 100\n",
    "\n",
    "var_, var__"
   ]
  },
  {
   "cell_type": "code",
   "execution_count": null,
   "id": "3fd1e7ac",
   "metadata": {},
   "outputs": [],
   "source": [
    "__var__ = 100\n",
    "\n",
    "__var__"
   ]
  },
  {
   "cell_type": "code",
   "execution_count": null,
   "id": "b7cba21c",
   "metadata": {},
   "outputs": [],
   "source": [
    "변수명 = 100\n",
    "\n",
    "변수명"
   ]
  },
  {
   "cell_type": "markdown",
   "id": "ce71ea6b",
   "metadata": {},
   "source": [
    "---"
   ]
  },
  {
   "cell_type": "code",
   "execution_count": null,
   "id": "7f477da6",
   "metadata": {},
   "outputs": [],
   "source": [
    "9_var = 100"
   ]
  },
  {
   "cell_type": "markdown",
   "id": "8718ee2c",
   "metadata": {},
   "source": [
    "## 01.4. 내장 이름공간(builtin namespace)과 전역 이름공간(global namespace)"
   ]
  },
  {
   "cell_type": "code",
   "execution_count": null,
   "id": "e1513184",
   "metadata": {},
   "outputs": [],
   "source": [
    "__builtins__"
   ]
  },
  {
   "cell_type": "code",
   "execution_count": null,
   "id": "47cdd9ba",
   "metadata": {},
   "outputs": [],
   "source": [
    "__builtins__.globals"
   ]
  },
  {
   "cell_type": "code",
   "execution_count": null,
   "id": "40246e27",
   "metadata": {},
   "outputs": [],
   "source": [
    "i = 100"
   ]
  },
  {
   "cell_type": "code",
   "execution_count": null,
   "id": "0302ce3e",
   "metadata": {},
   "outputs": [],
   "source": [
    "globals()['i']"
   ]
  },
  {
   "cell_type": "code",
   "execution_count": null,
   "id": "2b91390c",
   "metadata": {},
   "outputs": [],
   "source": [
    "__builtins__.vars"
   ]
  },
  {
   "cell_type": "code",
   "execution_count": null,
   "id": "ba834fb9",
   "metadata": {},
   "outputs": [],
   "source": [
    "vars()['i']"
   ]
  },
  {
   "cell_type": "markdown",
   "id": "56f39d26",
   "metadata": {},
   "source": [
    "---"
   ]
  },
  {
   "cell_type": "code",
   "execution_count": null,
   "id": "c8dbf8ab",
   "metadata": {},
   "outputs": [],
   "source": [
    "def add(x, y):\n",
    "    return x + y"
   ]
  },
  {
   "cell_type": "code",
   "execution_count": null,
   "id": "9ba835e2",
   "metadata": {},
   "outputs": [],
   "source": [
    "globals()['add']"
   ]
  },
  {
   "cell_type": "code",
   "execution_count": null,
   "id": "231641a8",
   "metadata": {},
   "outputs": [],
   "source": [
    "add.__globals__['i']"
   ]
  },
  {
   "cell_type": "code",
   "execution_count": null,
   "id": "6335646a",
   "metadata": {},
   "outputs": [],
   "source": [
    "type(globals())"
   ]
  },
  {
   "cell_type": "code",
   "execution_count": null,
   "id": "4ea543d7",
   "metadata": {},
   "outputs": [],
   "source": [
    "type(add.__globals__)"
   ]
  },
  {
   "cell_type": "code",
   "execution_count": null,
   "id": "f7363578",
   "metadata": {},
   "outputs": [],
   "source": [
    "add.__globals__ is globals()"
   ]
  }
 ],
 "metadata": {
  "kernelspec": {
   "display_name": "Python 3 (ipykernel)",
   "language": "python",
   "name": "python3"
  },
  "language_info": {
   "codemirror_mode": {
    "name": "ipython",
    "version": 3
   },
   "file_extension": ".py",
   "mimetype": "text/x-python",
   "name": "python",
   "nbconvert_exporter": "python",
   "pygments_lexer": "ipython3",
   "version": "3.8.12"
  }
 },
 "nbformat": 4,
 "nbformat_minor": 5
}
