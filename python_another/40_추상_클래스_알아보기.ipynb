{
 "cells": [
  {
   "cell_type": "markdown",
   "id": "d1351737",
   "metadata": {},
   "source": [
    "# 40 장. 추상 클래스 알아보기"
   ]
  },
  {
   "cell_type": "markdown",
   "id": "29ac227d",
   "metadata": {},
   "source": [
    "## 40.1. 추상 메타클래스와 추상 클래스"
   ]
  },
  {
   "cell_type": "code",
   "execution_count": 1,
   "id": "0501900d",
   "metadata": {},
   "outputs": [],
   "source": [
    "import abc"
   ]
  },
  {
   "cell_type": "code",
   "execution_count": 2,
   "id": "b7af2791",
   "metadata": {},
   "outputs": [
    {
     "name": "stdout",
     "output_type": "stream",
     "text": [
      "ABC\n",
      "ABCMeta\n",
      "abstractclassmethod\n",
      "abstractmethod\n",
      "abstractproperty\n",
      "abstractstaticmethod\n",
      "get_cache_token\n"
     ]
    }
   ],
   "source": [
    "for i in dir(abc):\n",
    "    if not i.startswith('_'):\n",
    "        print(i)"
   ]
  },
  {
   "cell_type": "code",
   "execution_count": 3,
   "id": "cd411a53",
   "metadata": {},
   "outputs": [
    {
     "data": {
      "text/plain": [
       "False"
      ]
     },
     "execution_count": 3,
     "metadata": {},
     "output_type": "execute_result"
    }
   ],
   "source": [
    "issubclass(abc.ABC, abc.ABCMeta)"
   ]
  },
  {
   "cell_type": "code",
   "execution_count": 5,
   "id": "fa380d90",
   "metadata": {},
   "outputs": [
    {
     "data": {
      "text/plain": [
       "True"
      ]
     },
     "execution_count": 5,
     "metadata": {},
     "output_type": "execute_result"
    }
   ],
   "source": [
    "isinstance(abc.ABC, abc.ABCMeta)"
   ]
  },
  {
   "cell_type": "markdown",
   "id": "faa944a1",
   "metadata": {},
   "source": [
    "---"
   ]
  },
  {
   "cell_type": "code",
   "execution_count": 6,
   "id": "5a6177de",
   "metadata": {},
   "outputs": [],
   "source": [
    "class MyABC(metaclass=abc.ABCMeta):\n",
    "    \n",
    "    @abc.abstractmethod\n",
    "    def foo(self,):\n",
    "        pass"
   ]
  },
  {
   "cell_type": "code",
   "execution_count": 7,
   "id": "8feebcb0",
   "metadata": {},
   "outputs": [],
   "source": [
    "class MyCon(MyABC):\n",
    "    pass"
   ]
  },
  {
   "cell_type": "code",
   "execution_count": 8,
   "id": "27244ff2",
   "metadata": {},
   "outputs": [
    {
     "ename": "TypeError",
     "evalue": "Can't instantiate abstract class MyCon with abstract methods foo",
     "output_type": "error",
     "traceback": [
      "\u001b[0;31m---------------------------------------------------------------------------\u001b[0m",
      "\u001b[0;31mTypeError\u001b[0m                                 Traceback (most recent call last)",
      "Input \u001b[0;32mIn [8]\u001b[0m, in \u001b[0;36m<cell line: 1>\u001b[0;34m()\u001b[0m\n\u001b[0;32m----> 1\u001b[0m m \u001b[38;5;241m=\u001b[39m \u001b[43mMyCon\u001b[49m\u001b[43m(\u001b[49m\u001b[43m)\u001b[49m\n",
      "\u001b[0;31mTypeError\u001b[0m: Can't instantiate abstract class MyCon with abstract methods foo"
     ]
    }
   ],
   "source": [
    "m = MyCon()"
   ]
  },
  {
   "cell_type": "code",
   "execution_count": 11,
   "id": "650afbaa",
   "metadata": {},
   "outputs": [],
   "source": [
    "class MyCon_(MyABC):\n",
    "    def foo(self):\n",
    "        print(' foo 구현')"
   ]
  },
  {
   "cell_type": "code",
   "execution_count": 12,
   "id": "0aa94620",
   "metadata": {},
   "outputs": [],
   "source": [
    "m = MyCon_()"
   ]
  },
  {
   "cell_type": "code",
   "execution_count": 13,
   "id": "2fd648e2",
   "metadata": {},
   "outputs": [
    {
     "name": "stdout",
     "output_type": "stream",
     "text": [
      " foo 구현\n"
     ]
    }
   ],
   "source": [
    "m.foo()"
   ]
  },
  {
   "cell_type": "code",
   "execution_count": 14,
   "id": "4440aa2b",
   "metadata": {},
   "outputs": [
    {
     "data": {
      "text/plain": [
       "True"
      ]
     },
     "execution_count": 14,
     "metadata": {},
     "output_type": "execute_result"
    }
   ],
   "source": [
    "issubclass(MyCon_, MyABC)"
   ]
  },
  {
   "cell_type": "code",
   "execution_count": 15,
   "id": "78c1fe6d",
   "metadata": {},
   "outputs": [
    {
     "data": {
      "text/plain": [
       "True"
      ]
     },
     "execution_count": 15,
     "metadata": {},
     "output_type": "execute_result"
    }
   ],
   "source": [
    "isinstance(m, MyABC)"
   ]
  },
  {
   "cell_type": "markdown",
   "id": "bf9f955a",
   "metadata": {},
   "source": [
    "---"
   ]
  },
  {
   "cell_type": "code",
   "execution_count": 16,
   "id": "cf47e36f",
   "metadata": {},
   "outputs": [],
   "source": [
    "from abc import *"
   ]
  },
  {
   "cell_type": "code",
   "execution_count": 17,
   "id": "d7db44ca",
   "metadata": {},
   "outputs": [],
   "source": [
    "class BaseCS(metaclass=ABCMeta):\n",
    "    \n",
    "    @abstractmethod\n",
    "    def foo(self):\n",
    "        pass\n",
    "    \n",
    "    @abstractmethod\n",
    "    def bar(self):\n",
    "        pass\n",
    "    \n",
    "    @classmethod\n",
    "    @abstractmethod\n",
    "    def clsmethod(cls):\n",
    "        pass\n",
    "    \n",
    "    @staticmethod\n",
    "    @abstractmethod\n",
    "    def stmethod(a):\n",
    "        pass\n",
    "    \n",
    "    @property\n",
    "    @abstractmethod\n",
    "    def propmethod(self):\n",
    "        pass    "
   ]
  },
  {
   "cell_type": "code",
   "execution_count": 18,
   "id": "bb7e1fe0",
   "metadata": {},
   "outputs": [],
   "source": [
    "class Concrete_CS(BaseCS):\n",
    "    \n",
    "    def foo(self):\n",
    "        pass\n",
    "    \n",
    "    def bar(self):\n",
    "        pass"
   ]
  },
  {
   "cell_type": "code",
   "execution_count": null,
   "id": "52e34d53",
   "metadata": {},
   "outputs": [],
   "source": []
  },
  {
   "cell_type": "markdown",
   "id": "74534d40",
   "metadata": {},
   "source": [
    "## 40.2. 추상 클래스의 추가적인 상속 관계 처리하기"
   ]
  },
  {
   "cell_type": "code",
   "execution_count": null,
   "id": "46f631c2",
   "metadata": {},
   "outputs": [],
   "source": []
  }
 ],
 "metadata": {
  "kernelspec": {
   "display_name": "Python 3 (ipykernel)",
   "language": "python",
   "name": "python3"
  },
  "language_info": {
   "codemirror_mode": {
    "name": "ipython",
    "version": 3
   },
   "file_extension": ".py",
   "mimetype": "text/x-python",
   "name": "python",
   "nbconvert_exporter": "python",
   "pygments_lexer": "ipython3",
   "version": "3.8.12"
  }
 },
 "nbformat": 4,
 "nbformat_minor": 5
}
