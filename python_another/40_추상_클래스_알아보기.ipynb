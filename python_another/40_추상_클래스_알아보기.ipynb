{
 "cells": [
  {
   "cell_type": "markdown",
   "id": "9289e2db",
   "metadata": {},
   "source": [
    "# 40 장. 추상 클래스 알아보기"
   ]
  },
  {
   "cell_type": "markdown",
   "id": "de0c112c",
   "metadata": {},
   "source": [
    "## 40.1. 추상 메타클래스와 추상 클래스"
   ]
  },
  {
   "cell_type": "code",
   "execution_count": null,
   "id": "8b6469c1",
   "metadata": {},
   "outputs": [],
   "source": [
    "import abc"
   ]
  },
  {
   "cell_type": "code",
   "execution_count": null,
   "id": "cb8e94c6",
   "metadata": {},
   "outputs": [],
   "source": [
    "for i in dir(abc):\n",
    "    if not i.startswith('_'):\n",
    "        print(i)"
   ]
  },
  {
   "cell_type": "code",
   "execution_count": null,
   "id": "0fac2ae9",
   "metadata": {},
   "outputs": [],
   "source": [
    "issubclass(abc.ABC, abc.ABCMeta)"
   ]
  },
  {
   "cell_type": "code",
   "execution_count": null,
   "id": "ba97a2db",
   "metadata": {},
   "outputs": [],
   "source": [
    "isinstance(abc.ABC, abc.ABCMeta)"
   ]
  },
  {
   "cell_type": "markdown",
   "id": "533b2229",
   "metadata": {},
   "source": [
    "---"
   ]
  },
  {
   "cell_type": "code",
   "execution_count": null,
   "id": "80684ee0",
   "metadata": {},
   "outputs": [],
   "source": [
    "class MyABC(metaclass=abc.ABCMeta):\n",
    "    \n",
    "    @abc.abstractmethod\n",
    "    def foo(self,):\n",
    "        pass"
   ]
  },
  {
   "cell_type": "code",
   "execution_count": null,
   "id": "6c14a7eb",
   "metadata": {},
   "outputs": [],
   "source": [
    "class MyCon(MyABC):\n",
    "    pass"
   ]
  },
  {
   "cell_type": "code",
   "execution_count": null,
   "id": "b44e58ad",
   "metadata": {},
   "outputs": [],
   "source": [
    "m = MyCon()"
   ]
  },
  {
   "cell_type": "code",
   "execution_count": null,
   "id": "c6aa395a",
   "metadata": {},
   "outputs": [],
   "source": [
    "class MyCon_(MyABC):\n",
    "    def foo(self):\n",
    "        print(' foo 구현')"
   ]
  },
  {
   "cell_type": "code",
   "execution_count": null,
   "id": "5b5d3d82",
   "metadata": {},
   "outputs": [],
   "source": [
    "m = MyCon_()"
   ]
  },
  {
   "cell_type": "code",
   "execution_count": null,
   "id": "8add8c03",
   "metadata": {},
   "outputs": [],
   "source": [
    "m.foo()"
   ]
  },
  {
   "cell_type": "code",
   "execution_count": null,
   "id": "5f5b83cf",
   "metadata": {},
   "outputs": [],
   "source": [
    "issubclass(MyCon_, MyABC)"
   ]
  },
  {
   "cell_type": "code",
   "execution_count": null,
   "id": "b9e42ac3",
   "metadata": {},
   "outputs": [],
   "source": [
    "isinstance(m, MyABC)"
   ]
  },
  {
   "cell_type": "markdown",
   "id": "62bbadcb",
   "metadata": {},
   "source": [
    "---"
   ]
  },
  {
   "cell_type": "code",
   "execution_count": null,
   "id": "1d34c2e2",
   "metadata": {},
   "outputs": [],
   "source": [
    "from abc import *"
   ]
  },
  {
   "cell_type": "code",
   "execution_count": null,
   "id": "523ddcac",
   "metadata": {},
   "outputs": [],
   "source": [
    "class BaseCS(metaclass=ABCMeta):\n",
    "    \n",
    "    @abstractmethod\n",
    "    def foo(self):\n",
    "        pass\n",
    "    \n",
    "    @abstractmethod\n",
    "    def bar(self):\n",
    "        pass\n",
    "    \n",
    "    @classmethod\n",
    "    @abstractmethod\n",
    "    def clsmethod(cls):\n",
    "        pass\n",
    "    \n",
    "    @staticmethod\n",
    "    @abstractmethod\n",
    "    def statmethod(a):\n",
    "        pass\n",
    "    \n",
    "    @property\n",
    "    @abstractmethod\n",
    "    def propmethod(self):\n",
    "        pass    "
   ]
  },
  {
   "cell_type": "code",
   "execution_count": null,
   "id": "022d9d6e",
   "metadata": {},
   "outputs": [],
   "source": [
    "class Concrete_CS(BaseCS):\n",
    "    \n",
    "    def foo(self):\n",
    "        pass\n",
    "    \n",
    "    def bar(self):\n",
    "        pass"
   ]
  },
  {
   "cell_type": "code",
   "execution_count": null,
   "id": "7dd96a04",
   "metadata": {},
   "outputs": [],
   "source": [
    "c = Concrete_CS()"
   ]
  },
  {
   "cell_type": "code",
   "execution_count": null,
   "id": "52f661d7",
   "metadata": {},
   "outputs": [],
   "source": [
    "class Concrete_CS1(BaseCS):\n",
    "    \n",
    "    def foo(self):\n",
    "        pass\n",
    "    \n",
    "    def bar(self):\n",
    "        pass\n",
    "    \n",
    "    @classmethod\n",
    "    def clsmethod(cls):\n",
    "        pass\n",
    "    \n",
    "    @staticmethod\n",
    "    def statmethod(a):\n",
    "        pass\n",
    "    \n",
    "    @property\n",
    "    def propmethod(self):\n",
    "        pass"
   ]
  },
  {
   "cell_type": "code",
   "execution_count": null,
   "id": "0da2a65a",
   "metadata": {},
   "outputs": [],
   "source": [
    "cs1 = Concrete_CS1()"
   ]
  },
  {
   "cell_type": "code",
   "execution_count": null,
   "id": "b2f3bd4f",
   "metadata": {},
   "outputs": [],
   "source": [
    "issubclass(Concrete_CS1, BaseCS)"
   ]
  },
  {
   "cell_type": "code",
   "execution_count": null,
   "id": "01d90513",
   "metadata": {},
   "outputs": [],
   "source": [
    "isinstance(cs1, BaseCS)"
   ]
  },
  {
   "cell_type": "markdown",
   "id": "36be75ab",
   "metadata": {},
   "source": [
    "## 40.2. 추상 클래스의 추가적인 상속 관계 처리하기"
   ]
  },
  {
   "cell_type": "code",
   "execution_count": null,
   "id": "ff3442ab",
   "metadata": {},
   "outputs": [],
   "source": [
    "import abc"
   ]
  },
  {
   "cell_type": "code",
   "execution_count": null,
   "id": "97c165e3",
   "metadata": {},
   "outputs": [],
   "source": [
    "class MyABC(abc.ABC):\n",
    "    pass"
   ]
  },
  {
   "cell_type": "code",
   "execution_count": null,
   "id": "e0ff2881",
   "metadata": {},
   "outputs": [],
   "source": [
    "MyABC.register(tuple)"
   ]
  },
  {
   "cell_type": "code",
   "execution_count": null,
   "id": "b8a3282d",
   "metadata": {},
   "outputs": [],
   "source": [
    "MyABC.register(int)"
   ]
  },
  {
   "cell_type": "code",
   "execution_count": null,
   "id": "b78e6fce",
   "metadata": {},
   "outputs": [],
   "source": [
    "issubclass(tuple, MyABC), issubclass(int, MyABC)"
   ]
  },
  {
   "cell_type": "code",
   "execution_count": null,
   "id": "48175d99",
   "metadata": {},
   "outputs": [],
   "source": [
    "isinstance(tuple(), MyABC), isinstance(0, MyABC)"
   ]
  },
  {
   "cell_type": "markdown",
   "id": "b001c15f",
   "metadata": {},
   "source": [
    "---"
   ]
  },
  {
   "cell_type": "code",
   "execution_count": null,
   "id": "7dfdd548",
   "metadata": {},
   "outputs": [],
   "source": [
    "class LoadSave(metaclass=abc.ABCMeta):\n",
    "    \n",
    "    @abc.abstractmethod\n",
    "    def load(self, input):\n",
    "        \"\"\"입력 소스에서 데이터를 검색해서 객체를 반환한다.\"\"\"\n",
    "        \n",
    "    @abc.abstractmethod\n",
    "    def save(self, output, data):\n",
    "        \"\"\"데이터 객체를 저장한다.\"\"\""
   ]
  },
  {
   "cell_type": "code",
   "execution_count": null,
   "id": "5f2d9973",
   "metadata": {},
   "outputs": [],
   "source": [
    "@LoadSave.register\n",
    "class RegImp:\n",
    "    def load(self, input):\n",
    "        pass\n",
    "    \n",
    "    def save(self, output, data):\n",
    "        pass"
   ]
  },
  {
   "cell_type": "code",
   "execution_count": null,
   "id": "cf78129a",
   "metadata": {},
   "outputs": [],
   "source": [
    "issubclass(RegImp, LoadSave)"
   ]
  },
  {
   "cell_type": "code",
   "execution_count": null,
   "id": "700bc1ad",
   "metadata": {},
   "outputs": [],
   "source": [
    "isinstance(RegImp(), LoadSave)"
   ]
  },
  {
   "cell_type": "markdown",
   "id": "cf3b31fa",
   "metadata": {},
   "source": [
    "---"
   ]
  },
  {
   "cell_type": "code",
   "execution_count": null,
   "id": "bb850f95",
   "metadata": {},
   "outputs": [],
   "source": [
    "class ABCD(abc.ABC):\n",
    "    @abc.abstractmethod\n",
    "    def __len__(self):\n",
    "        return NotImplemented\n",
    "    \n",
    "    @classmethod\n",
    "    def __subclasshook__(cls, C):\n",
    "        print('__subclasshook__')\n",
    "        if any('__len__' in B.__dict__ for B in C.__mro__):\n",
    "            return True\n",
    "        else:\n",
    "            return False"
   ]
  },
  {
   "cell_type": "code",
   "execution_count": null,
   "id": "18de7669",
   "metadata": {},
   "outputs": [],
   "source": [
    "class Seq(ABCD):\n",
    "    def __init__(self, seqs):\n",
    "        self.seqs = seqs\n",
    "        \n",
    "    def __len__(self):\n",
    "        print('Seq __len__')\n",
    "        return str.__len__(self.seqs)"
   ]
  },
  {
   "cell_type": "code",
   "execution_count": null,
   "id": "4119d5a3",
   "metadata": {},
   "outputs": [],
   "source": [
    "s = Seq('문자열')"
   ]
  },
  {
   "cell_type": "code",
   "execution_count": null,
   "id": "3587fe9d",
   "metadata": {},
   "outputs": [],
   "source": [
    "issubclass(Seq, ABCD)"
   ]
  },
  {
   "cell_type": "code",
   "execution_count": null,
   "id": "cf17be99",
   "metadata": {},
   "outputs": [],
   "source": [
    "isinstance(s, ABCD)"
   ]
  },
  {
   "cell_type": "code",
   "execution_count": null,
   "id": "ae2f2654",
   "metadata": {},
   "outputs": [],
   "source": [
    "len(s)"
   ]
  },
  {
   "cell_type": "markdown",
   "id": "eec02a06",
   "metadata": {},
   "source": [
    "---"
   ]
  },
  {
   "cell_type": "code",
   "execution_count": null,
   "id": "f5e80624",
   "metadata": {},
   "outputs": [],
   "source": [
    "class Enumeration(abc.ABCMeta):\n",
    "    def __instancecheck__(self, other):\n",
    "        print('hi')\n",
    "        if type(other) == type(self):\n",
    "            return True\n",
    "        else:\n",
    "            return False"
   ]
  },
  {
   "cell_type": "code",
   "execution_count": null,
   "id": "46cd3cdf",
   "metadata": {},
   "outputs": [],
   "source": [
    "class EnumInt(metaclass=Enumeration):\n",
    "    pass"
   ]
  },
  {
   "cell_type": "code",
   "execution_count": null,
   "id": "cf7346a8",
   "metadata": {},
   "outputs": [],
   "source": [
    "isinstance('abc', EnumInt)"
   ]
  },
  {
   "cell_type": "code",
   "execution_count": null,
   "id": "4c98e4d0",
   "metadata": {},
   "outputs": [],
   "source": [
    "isinstance(EnumInt, EnumInt)"
   ]
  },
  {
   "cell_type": "code",
   "execution_count": null,
   "id": "0ff3065f",
   "metadata": {},
   "outputs": [],
   "source": [
    "c = EnumInt()"
   ]
  },
  {
   "cell_type": "code",
   "execution_count": null,
   "id": "8539a1a8",
   "metadata": {},
   "outputs": [],
   "source": [
    "isinstance(c, EnumInt)"
   ]
  },
  {
   "cell_type": "code",
   "execution_count": null,
   "id": "5c7837b1",
   "metadata": {},
   "outputs": [],
   "source": [
    "Enumeration.__instancecheck__(c, c)"
   ]
  }
 ],
 "metadata": {
  "kernelspec": {
   "display_name": "Python 3 (ipykernel)",
   "language": "python",
   "name": "python3"
  },
  "language_info": {
   "codemirror_mode": {
    "name": "ipython",
    "version": 3
   },
   "file_extension": ".py",
   "mimetype": "text/x-python",
   "name": "python",
   "nbconvert_exporter": "python",
   "pygments_lexer": "ipython3",
   "version": "3.8.12"
  }
 },
 "nbformat": 4,
 "nbformat_minor": 5
}
