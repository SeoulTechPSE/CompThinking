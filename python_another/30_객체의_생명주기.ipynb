{
 "cells": [
  {
   "cell_type": "markdown",
   "id": "e6f5f410",
   "metadata": {},
   "source": [
    "# 30 장. 객체의 생명주기"
   ]
  },
  {
   "cell_type": "markdown",
   "id": "99f7f36f",
   "metadata": {},
   "source": [
    "## 30.1. 생성자, 초기화, 소멸자 처리 알아보기"
   ]
  },
  {
   "cell_type": "code",
   "execution_count": null,
   "id": "3b30a498",
   "metadata": {},
   "outputs": [],
   "source": []
  }
 ],
 "metadata": {
  "kernelspec": {
   "display_name": "Python 3 (ipykernel)",
   "language": "python",
   "name": "python3"
  },
  "language_info": {
   "codemirror_mode": {
    "name": "ipython",
    "version": 3
   },
   "file_extension": ".py",
   "mimetype": "text/x-python",
   "name": "python",
   "nbconvert_exporter": "python",
   "pygments_lexer": "ipython3",
   "version": "3.8.12"
  }
 },
 "nbformat": 4,
 "nbformat_minor": 5
}
