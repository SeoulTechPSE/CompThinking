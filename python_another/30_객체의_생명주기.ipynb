{
 "cells": [
  {
   "cell_type": "markdown",
   "id": "4d1ef7a7",
   "metadata": {},
   "source": [
    "# 30 장. 객체의 생명주기"
   ]
  },
  {
   "cell_type": "markdown",
   "id": "f0d65653",
   "metadata": {},
   "source": [
    "## 30.1. 생성자, 초기화, 소멸자 처리 알아보기"
   ]
  },
  {
   "cell_type": "code",
   "execution_count": null,
   "id": "0e733eae",
   "metadata": {},
   "outputs": [],
   "source": [
    "class Agreement:\n",
    "    \n",
    "    def __new__(cls, *args, **kwargs):\n",
    "        return super().__new__(cls)\n",
    "    \n",
    "    def __init__(self, name, age):\n",
    "        self.name = name\n",
    "        self.age = age"
   ]
  },
  {
   "cell_type": "code",
   "execution_count": null,
   "id": "dda19779",
   "metadata": {},
   "outputs": [],
   "source": [
    "a = Agreement('Yoo', 25)"
   ]
  },
  {
   "cell_type": "code",
   "execution_count": null,
   "id": "a045cbc6",
   "metadata": {},
   "outputs": [],
   "source": [
    "a.__dict__"
   ]
  },
  {
   "cell_type": "code",
   "execution_count": null,
   "id": "3611fcff",
   "metadata": {},
   "outputs": [],
   "source": [
    "type(a)"
   ]
  },
  {
   "cell_type": "markdown",
   "id": "74143f6b",
   "metadata": {},
   "source": [
    "---"
   ]
  },
  {
   "cell_type": "code",
   "execution_count": null,
   "id": "313ac0cf",
   "metadata": {},
   "outputs": [],
   "source": [
    "class Meta(type):\n",
    "    \n",
    "    def __call__(self, *args, **kwargs):\n",
    "        print('메타 클래스 call 호출')\n",
    "        instance = self.__new__(self, *args, **kwargs)\n",
    "        instance.__init__(*args, **kwargs)\n",
    "        \n",
    "        return instance"
   ]
  },
  {
   "cell_type": "code",
   "execution_count": null,
   "id": "b6e15d97",
   "metadata": {},
   "outputs": [],
   "source": [
    "class Cond(metaclass=Meta):\n",
    "    \n",
    "    def __new__(cls, *args, **kwargs):\n",
    "        return super().__new__(cls)\n",
    "    \n",
    "    def __init__(self, title, condition):\n",
    "        self.title = title\n",
    "        self.condition = condition"
   ]
  },
  {
   "cell_type": "code",
   "execution_count": null,
   "id": "59962955",
   "metadata": {},
   "outputs": [],
   "source": [
    "a = Cond('가입연령', '0세 이상')"
   ]
  },
  {
   "cell_type": "code",
   "execution_count": null,
   "id": "688139b2",
   "metadata": {},
   "outputs": [],
   "source": [
    "a"
   ]
  },
  {
   "cell_type": "code",
   "execution_count": null,
   "id": "664d06d1",
   "metadata": {},
   "outputs": [],
   "source": [
    "a.__dict__"
   ]
  },
  {
   "cell_type": "markdown",
   "id": "043dc14b",
   "metadata": {},
   "source": [
    "---"
   ]
  },
  {
   "cell_type": "code",
   "execution_count": null,
   "id": "7003d4db",
   "metadata": {},
   "outputs": [],
   "source": [
    "class Cond(metaclass=Meta):\n",
    "    \n",
    "    def __new__(cls, *args, **kwargs):\n",
    "        return super().__new__(cls)\n",
    "    \n",
    "    def __init__(self, title, condition):\n",
    "        self.title = title\n",
    "        self.condition = condition\n",
    "        \n",
    "    def __del__(self):\n",
    "        del self"
   ]
  },
  {
   "cell_type": "code",
   "execution_count": null,
   "id": "78b00e04",
   "metadata": {},
   "outputs": [],
   "source": [
    "c = Cond('금리', '0.1')"
   ]
  },
  {
   "cell_type": "code",
   "execution_count": null,
   "id": "b7a479ee",
   "metadata": {},
   "outputs": [],
   "source": [
    "del c"
   ]
  },
  {
   "cell_type": "code",
   "execution_count": null,
   "id": "4d0384ad",
   "metadata": {},
   "outputs": [],
   "source": [
    "c"
   ]
  },
  {
   "cell_type": "markdown",
   "id": "64823eea",
   "metadata": {},
   "source": [
    "## 30.2. 약한 참조 사용하기"
   ]
  },
  {
   "cell_type": "code",
   "execution_count": null,
   "id": "9f43b259",
   "metadata": {},
   "outputs": [],
   "source": [
    "class Agreement:\n",
    "    def __init__(self, name, age):\n",
    "        self.name = name\n",
    "        self.age = age"
   ]
  },
  {
   "cell_type": "code",
   "execution_count": null,
   "id": "97348184",
   "metadata": {},
   "outputs": [],
   "source": [
    "a = Agreement('Yoo', 35)"
   ]
  },
  {
   "cell_type": "code",
   "execution_count": null,
   "id": "42f87991",
   "metadata": {},
   "outputs": [],
   "source": [
    "import weakref"
   ]
  },
  {
   "cell_type": "code",
   "execution_count": null,
   "id": "51e8a7b5",
   "metadata": {},
   "outputs": [],
   "source": [
    "r = weakref.ref(a)"
   ]
  },
  {
   "cell_type": "code",
   "execution_count": null,
   "id": "fd2d92e0",
   "metadata": {},
   "outputs": [],
   "source": [
    "r"
   ]
  },
  {
   "cell_type": "code",
   "execution_count": null,
   "id": "3240d202",
   "metadata": {},
   "outputs": [],
   "source": [
    "import gc, sys"
   ]
  },
  {
   "cell_type": "code",
   "execution_count": null,
   "id": "b90e05b0",
   "metadata": {},
   "outputs": [],
   "source": [
    "sys.getrefcount(a)"
   ]
  },
  {
   "cell_type": "code",
   "execution_count": null,
   "id": "43bcb252",
   "metadata": {},
   "outputs": [],
   "source": [
    "del a"
   ]
  },
  {
   "cell_type": "code",
   "execution_count": null,
   "id": "2232ce97",
   "metadata": {},
   "outputs": [],
   "source": [
    "gc.collect()"
   ]
  },
  {
   "cell_type": "code",
   "execution_count": null,
   "id": "75e6ea48",
   "metadata": {},
   "outputs": [],
   "source": [
    "a = Agreement('Yoo', 35)"
   ]
  },
  {
   "cell_type": "code",
   "execution_count": null,
   "id": "af557dfa",
   "metadata": {},
   "outputs": [],
   "source": [
    "r = weakref.ref(a)"
   ]
  },
  {
   "cell_type": "code",
   "execution_count": null,
   "id": "a2eebeb0",
   "metadata": {},
   "outputs": [],
   "source": [
    "sys.getrefcount(a)"
   ]
  },
  {
   "cell_type": "code",
   "execution_count": null,
   "id": "f2a1f370",
   "metadata": {},
   "outputs": [],
   "source": [
    "a2 = r()"
   ]
  },
  {
   "cell_type": "code",
   "execution_count": null,
   "id": "701d2988",
   "metadata": {},
   "outputs": [],
   "source": [
    "sys.getrefcount(a)"
   ]
  },
  {
   "cell_type": "code",
   "execution_count": null,
   "id": "7ba6c33c",
   "metadata": {},
   "outputs": [],
   "source": [
    "a is a2"
   ]
  },
  {
   "cell_type": "code",
   "execution_count": null,
   "id": "d8e17963",
   "metadata": {},
   "outputs": [],
   "source": [
    "del a, a2"
   ]
  },
  {
   "cell_type": "code",
   "execution_count": null,
   "id": "73195d57",
   "metadata": {},
   "outputs": [],
   "source": [
    "a2 = r()\n",
    "if a2 is None:\n",
    "    # 삭제되어 가비지 컬렉션 처리\n",
    "    print(\"Object has been deallocated; can't frobnicate.\")\n",
    "else:\n",
    "    print(\"Object is still live!\")"
   ]
  },
  {
   "cell_type": "markdown",
   "id": "0fbbc7f3",
   "metadata": {},
   "source": [
    "## 30.3. 싱글턴(singleton) 패턴"
   ]
  },
  {
   "cell_type": "code",
   "execution_count": null,
   "id": "5bf4e97c",
   "metadata": {},
   "outputs": [],
   "source": [
    "class Single:\n",
    "    @staticmethod\n",
    "    def __new__(cls, name, age):  # __new__는 정적 메소드(데코레이터 처리하지 않아도 내부적으로 정적 메소드로 처리)\n",
    "        print('객체를 하나 만듭니다.')\n",
    "        if hasattr(cls, '_instance'):\n",
    "            instance = cls._instance\n",
    "        else:\n",
    "            instance = object.__new__(cls)\n",
    "            cls._instance = instance\n",
    "        return instance\n",
    "    \n",
    "    def __init__(self, name, age):\n",
    "        print('객체의 속성을 초기화합니다.')\n",
    "        if hasattr(type(self), '_init'):\n",
    "            pass\n",
    "        else:\n",
    "            self.name = name\n",
    "            self.age = age\n",
    "            type(self)._init = '1'       "
   ]
  },
  {
   "cell_type": "code",
   "execution_count": null,
   "id": "a250e9da",
   "metadata": {},
   "outputs": [],
   "source": [
    "a = Single('혼자만 있기', 20)"
   ]
  },
  {
   "cell_type": "code",
   "execution_count": null,
   "id": "e86c72da",
   "metadata": {},
   "outputs": [],
   "source": [
    "b = Single('같이 있기', 30)"
   ]
  },
  {
   "cell_type": "code",
   "execution_count": null,
   "id": "df726445",
   "metadata": {},
   "outputs": [],
   "source": [
    "a.name"
   ]
  },
  {
   "cell_type": "code",
   "execution_count": null,
   "id": "849abcfc",
   "metadata": {},
   "outputs": [],
   "source": [
    "b.name"
   ]
  },
  {
   "cell_type": "code",
   "execution_count": null,
   "id": "51f5266c",
   "metadata": {},
   "outputs": [],
   "source": [
    "a is b"
   ]
  }
 ],
 "metadata": {
  "kernelspec": {
   "display_name": "Python 3 (ipykernel)",
   "language": "python",
   "name": "python3"
  },
  "language_info": {
   "codemirror_mode": {
    "name": "ipython",
    "version": 3
   },
   "file_extension": ".py",
   "mimetype": "text/x-python",
   "name": "python",
   "nbconvert_exporter": "python",
   "pygments_lexer": "ipython3",
   "version": "3.8.12"
  }
 },
 "nbformat": 4,
 "nbformat_minor": 5
}
