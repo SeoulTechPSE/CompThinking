{
 "cells": [
  {
   "cell_type": "markdown",
   "id": "10f4bbf1",
   "metadata": {},
   "source": [
    "# 28 장. 모듈(module) 작성 알아보기"
   ]
  },
  {
   "cell_type": "markdown",
   "id": "fa05b68d",
   "metadata": {},
   "source": [
    "## 28.1. 모듈 클래스 알아보기"
   ]
  },
  {
   "cell_type": "code",
   "execution_count": null,
   "id": "73808b26",
   "metadata": {},
   "outputs": [],
   "source": [
    "import types"
   ]
  },
  {
   "cell_type": "code",
   "execution_count": null,
   "id": "52d61cad",
   "metadata": {},
   "outputs": [],
   "source": [
    "import math"
   ]
  },
  {
   "cell_type": "code",
   "execution_count": null,
   "id": "4a9dd1c4",
   "metadata": {},
   "outputs": [],
   "source": [
    "print(type(math))"
   ]
  },
  {
   "cell_type": "code",
   "execution_count": null,
   "id": "96f5af36",
   "metadata": {},
   "outputs": [],
   "source": [
    "type(math) == types.ModuleType"
   ]
  },
  {
   "cell_type": "code",
   "execution_count": null,
   "id": "6201e0d8",
   "metadata": {},
   "outputs": [],
   "source": [
    "issubclass(type(math), types.ModuleType)"
   ]
  },
  {
   "cell_type": "code",
   "execution_count": null,
   "id": "d575e3a1",
   "metadata": {},
   "outputs": [],
   "source": [
    "isinstance(math, types.ModuleType)"
   ]
  },
  {
   "cell_type": "code",
   "execution_count": null,
   "id": "7b4de516",
   "metadata": {},
   "outputs": [],
   "source": [
    "import math as ma"
   ]
  },
  {
   "cell_type": "code",
   "execution_count": null,
   "id": "fbeb55b9",
   "metadata": {},
   "outputs": [],
   "source": [
    "ma is math"
   ]
  },
  {
   "cell_type": "markdown",
   "id": "d91c765e",
   "metadata": {},
   "source": [
    "## 28.2. 모듈 생성과 실행하기"
   ]
  },
  {
   "cell_type": "code",
   "execution_count": null,
   "id": "17d76ade",
   "metadata": {},
   "outputs": [],
   "source": [
    "from types import ModuleType\n",
    "\n",
    "class MyModule(ModuleType):\n",
    "    \n",
    "    def __repr__(self):\n",
    "        return 'MyModule'\n",
    "    \n",
    "    @staticmethod\n",
    "    def func(a, b):\n",
    "        return a, b\n",
    "    \n",
    "    class Person:\n",
    "        name = '모듈 내의 클래스'"
   ]
  },
  {
   "cell_type": "code",
   "execution_count": null,
   "id": "80c966d6",
   "metadata": {},
   "outputs": [],
   "source": [
    "MyModule"
   ]
  },
  {
   "cell_type": "code",
   "execution_count": null,
   "id": "8bada586",
   "metadata": {},
   "outputs": [],
   "source": [
    "MyModule.__dict__"
   ]
  },
  {
   "cell_type": "code",
   "execution_count": null,
   "id": "207e5a88",
   "metadata": {},
   "outputs": [],
   "source": [
    "MyModule.func(5, 5)"
   ]
  },
  {
   "cell_type": "code",
   "execution_count": null,
   "id": "7a24cbf0",
   "metadata": {},
   "outputs": [],
   "source": [
    "p = MyModule.Person()"
   ]
  },
  {
   "cell_type": "code",
   "execution_count": null,
   "id": "57cc9767",
   "metadata": {},
   "outputs": [],
   "source": [
    "p.name"
   ]
  },
  {
   "cell_type": "markdown",
   "id": "4400cf88",
   "metadata": {},
   "source": [
    "---"
   ]
  },
  {
   "cell_type": "code",
   "execution_count": null,
   "id": "272379b4",
   "metadata": {},
   "outputs": [],
   "source": [
    "%%writefile math_.py\n",
    "\n",
    "import math\n",
    "\n",
    "pi = math.pi\n",
    "\n",
    "fsum = math.fsum\n",
    "\n",
    "class People:\n",
    "    name = '클래스 속성'"
   ]
  },
  {
   "cell_type": "code",
   "execution_count": null,
   "id": "387175bc",
   "metadata": {},
   "outputs": [],
   "source": [
    "import math_"
   ]
  },
  {
   "cell_type": "code",
   "execution_count": null,
   "id": "9721d87c",
   "metadata": {},
   "outputs": [],
   "source": [
    "import types"
   ]
  },
  {
   "cell_type": "code",
   "execution_count": null,
   "id": "ecad0dac",
   "metadata": {},
   "outputs": [],
   "source": [
    "type(math_) == types.ModuleType"
   ]
  },
  {
   "cell_type": "code",
   "execution_count": null,
   "id": "7e45863c",
   "metadata": {},
   "outputs": [],
   "source": [
    "math_.pi"
   ]
  },
  {
   "cell_type": "code",
   "execution_count": null,
   "id": "da3c3c57",
   "metadata": {},
   "outputs": [],
   "source": [
    "dir(math_)"
   ]
  },
  {
   "cell_type": "code",
   "execution_count": null,
   "id": "465342f4",
   "metadata": {},
   "outputs": [],
   "source": [
    "math_.fsum"
   ]
  },
  {
   "cell_type": "code",
   "execution_count": null,
   "id": "5efaed40",
   "metadata": {},
   "outputs": [],
   "source": [
    "math_.fsum([1, 2, 3, 4, 5])"
   ]
  },
  {
   "cell_type": "code",
   "execution_count": null,
   "id": "69567abc",
   "metadata": {},
   "outputs": [],
   "source": [
    "p = math_.People()"
   ]
  },
  {
   "cell_type": "code",
   "execution_count": null,
   "id": "388e705e",
   "metadata": {},
   "outputs": [],
   "source": [
    "p.name"
   ]
  },
  {
   "cell_type": "code",
   "execution_count": null,
   "id": "4de9bbfb",
   "metadata": {},
   "outputs": [],
   "source": [
    "math_.People.__module__"
   ]
  },
  {
   "cell_type": "code",
   "execution_count": null,
   "id": "5b7a4eba",
   "metadata": {},
   "outputs": [],
   "source": [
    "math_.fsum.__module__"
   ]
  },
  {
   "cell_type": "markdown",
   "id": "8a71110c",
   "metadata": {},
   "source": [
    "## 28.1. 모듈을 쉘로 실행하기"
   ]
  },
  {
   "cell_type": "code",
   "execution_count": null,
   "id": "89ce07d3",
   "metadata": {},
   "outputs": [],
   "source": [
    "%%writefile main.py\n",
    "\"\"\" 메인 모듈입니다 \"\"\"\n",
    "\n",
    "def add(x, y):\n",
    "    return x + y\n",
    "\n",
    "class Python:\n",
    "    def __init__(self, version):\n",
    "        self.version = version\n",
    "        \n",
    "    def get_version(self):\n",
    "        return self.version\n",
    "        \n",
    "if __name__ == '__main__':\n",
    "    print('함수 add 실행: ', add(10, 10))\n",
    "    p = Python('3.8')\n",
    "    print('파이썬 객체 생성: ', p, p.get_version())\n",
    "else:\n",
    "    print('import 처리된 모듈')"
   ]
  },
  {
   "cell_type": "code",
   "execution_count": null,
   "id": "78b3f401",
   "metadata": {},
   "outputs": [],
   "source": [
    "%ls -la m*"
   ]
  },
  {
   "cell_type": "code",
   "execution_count": null,
   "id": "81582365",
   "metadata": {},
   "outputs": [],
   "source": [
    "%run ./main.py"
   ]
  },
  {
   "cell_type": "code",
   "execution_count": null,
   "id": "e93e757d",
   "metadata": {},
   "outputs": [],
   "source": [
    "!python ./main.py"
   ]
  },
  {
   "cell_type": "code",
   "execution_count": null,
   "id": "fb8d5470",
   "metadata": {},
   "outputs": [],
   "source": [
    "import main"
   ]
  },
  {
   "cell_type": "code",
   "execution_count": null,
   "id": "31b6349a",
   "metadata": {},
   "outputs": [],
   "source": [
    "main.__name__"
   ]
  },
  {
   "cell_type": "markdown",
   "id": "2b83e4c2",
   "metadata": {},
   "source": [
    "---"
   ]
  },
  {
   "cell_type": "code",
   "execution_count": null,
   "id": "144367b8",
   "metadata": {},
   "outputs": [],
   "source": [
    "%%writefile main_1.py\n",
    "\"\"\" 메인 1 모듈입니다. \"\"\"\n",
    "\n",
    "z = 100\n",
    "\n",
    "def add(x, y):\n",
    "    return x + y + z"
   ]
  },
  {
   "cell_type": "code",
   "execution_count": null,
   "id": "597fd37f",
   "metadata": {},
   "outputs": [],
   "source": [
    "import main_1"
   ]
  },
  {
   "cell_type": "code",
   "execution_count": null,
   "id": "b965921a",
   "metadata": {},
   "outputs": [],
   "source": [
    "z = 999"
   ]
  },
  {
   "cell_type": "code",
   "execution_count": null,
   "id": "0e691a55",
   "metadata": {},
   "outputs": [],
   "source": [
    "main_1.add(5, 5)"
   ]
  },
  {
   "cell_type": "code",
   "execution_count": null,
   "id": "38cfc1f3",
   "metadata": {},
   "outputs": [],
   "source": [
    "main_1.add.__module__"
   ]
  },
  {
   "cell_type": "code",
   "execution_count": null,
   "id": "d2cb40c1",
   "metadata": {},
   "outputs": [],
   "source": [
    "main_1.z = 777"
   ]
  },
  {
   "cell_type": "code",
   "execution_count": null,
   "id": "9cb5feb9",
   "metadata": {},
   "outputs": [],
   "source": [
    "main_1.add(5, 5)"
   ]
  },
  {
   "cell_type": "code",
   "execution_count": null,
   "id": "38e73dbd",
   "metadata": {},
   "outputs": [],
   "source": [
    "import os\n",
    "from glob import glob\n",
    "\n",
    "[os.remove(f) for f in glob('*.py')]"
   ]
  }
 ],
 "metadata": {
  "kernelspec": {
   "display_name": "Python 3 (ipykernel)",
   "language": "python",
   "name": "python3"
  },
  "language_info": {
   "codemirror_mode": {
    "name": "ipython",
    "version": 3
   },
   "file_extension": ".py",
   "mimetype": "text/x-python",
   "name": "python",
   "nbconvert_exporter": "python",
   "pygments_lexer": "ipython3",
   "version": "3.8.12"
  }
 },
 "nbformat": 4,
 "nbformat_minor": 5
}
