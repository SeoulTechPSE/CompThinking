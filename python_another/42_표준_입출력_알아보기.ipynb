{
 "cells": [
  {
   "cell_type": "markdown",
   "id": "1e7fe53e",
   "metadata": {},
   "source": [
    "# 42 장. 표준 입출력 알아보기"
   ]
  },
  {
   "cell_type": "markdown",
   "id": "65e3ccff",
   "metadata": {},
   "source": [
    "## 42.1. 표준 입출력 처리하기"
   ]
  },
  {
   "cell_type": "code",
   "execution_count": null,
   "id": "d0e12a3e",
   "metadata": {},
   "outputs": [],
   "source": [
    "input"
   ]
  },
  {
   "cell_type": "code",
   "execution_count": null,
   "id": "52dc73de",
   "metadata": {},
   "outputs": [],
   "source": [
    "print"
   ]
  },
  {
   "cell_type": "code",
   "execution_count": null,
   "id": "4dcb72f4",
   "metadata": {},
   "outputs": [],
   "source": [
    "input('입력하세요')"
   ]
  },
  {
   "cell_type": "code",
   "execution_count": null,
   "id": "3fefb03f",
   "metadata": {},
   "outputs": [],
   "source": [
    "print('입력을 받고 출력하세요')\n",
    "s = input('입력하세요: ')\n",
    "print('입력 받은 것을 출력합니다')"
   ]
  },
  {
   "cell_type": "code",
   "execution_count": null,
   "id": "f2e521b9",
   "metadata": {},
   "outputs": [],
   "source": [
    "def add(x, y):\n",
    "    return x + y"
   ]
  },
  {
   "cell_type": "code",
   "execution_count": null,
   "id": "5ca4a9a0",
   "metadata": {},
   "outputs": [],
   "source": [
    "x = int(input('정수 값을 입력하세요: '))"
   ]
  },
  {
   "cell_type": "code",
   "execution_count": null,
   "id": "9f405de7",
   "metadata": {},
   "outputs": [],
   "source": [
    "y = int(input('정수 값을 입력하세요: '))"
   ]
  },
  {
   "cell_type": "code",
   "execution_count": null,
   "id": "cf854dfe",
   "metadata": {},
   "outputs": [],
   "source": [
    "print('add 함수 실행', add(x, y))"
   ]
  },
  {
   "cell_type": "markdown",
   "id": "ded97617",
   "metadata": {},
   "source": [
    "## 42.2. 문자열 형식화 알아보기"
   ]
  },
  {
   "cell_type": "code",
   "execution_count": null,
   "id": "e28989da",
   "metadata": {},
   "outputs": [],
   "source": [
    "class User:\n",
    "    def __str__(self):\n",
    "        return f'User class at {id(self)}'\n",
    "    \n",
    "    def __repr__(self):\n",
    "        return f'repr class at {id(self)}'"
   ]
  },
  {
   "cell_type": "code",
   "execution_count": null,
   "id": "b92003c5",
   "metadata": {},
   "outputs": [],
   "source": [
    "u = User()"
   ]
  },
  {
   "cell_type": "code",
   "execution_count": null,
   "id": "87b0c085",
   "metadata": {},
   "outputs": [],
   "source": [
    "print(u)"
   ]
  },
  {
   "cell_type": "code",
   "execution_count": null,
   "id": "7d8ed473",
   "metadata": {},
   "outputs": [],
   "source": [
    "print(u.__str__())"
   ]
  },
  {
   "cell_type": "code",
   "execution_count": null,
   "id": "f16bea52",
   "metadata": {},
   "outputs": [],
   "source": [
    "u"
   ]
  },
  {
   "cell_type": "code",
   "execution_count": null,
   "id": "af217e9b",
   "metadata": {},
   "outputs": [],
   "source": [
    "u.__repr__()"
   ]
  },
  {
   "cell_type": "code",
   "execution_count": null,
   "id": "e1ff4603",
   "metadata": {},
   "outputs": [],
   "source": [
    "str(u)"
   ]
  },
  {
   "cell_type": "code",
   "execution_count": null,
   "id": "bb342bbe",
   "metadata": {},
   "outputs": [],
   "source": [
    "repr(u)"
   ]
  },
  {
   "cell_type": "markdown",
   "id": "d1eb0641",
   "metadata": {},
   "source": [
    "---"
   ]
  },
  {
   "cell_type": "code",
   "execution_count": null,
   "id": "6d09df37",
   "metadata": {},
   "outputs": [],
   "source": [
    "format"
   ]
  },
  {
   "cell_type": "code",
   "execution_count": null,
   "id": "9e6e7712",
   "metadata": {},
   "outputs": [],
   "source": [
    "str.format"
   ]
  },
  {
   "cell_type": "code",
   "execution_count": null,
   "id": "60a027b0",
   "metadata": {},
   "outputs": [],
   "source": [
    "a = 1000\n",
    "b = 2000\n",
    "c = 3000"
   ]
  },
  {
   "cell_type": "code",
   "execution_count": null,
   "id": "a5958c69",
   "metadata": {},
   "outputs": [],
   "source": [
    "format('%d %d %d' % (a, b, c))"
   ]
  },
  {
   "cell_type": "code",
   "execution_count": null,
   "id": "fd057578",
   "metadata": {},
   "outputs": [],
   "source": [
    "print('%d %d %d' % (a, b, c))"
   ]
  },
  {
   "cell_type": "code",
   "execution_count": null,
   "id": "da01a632",
   "metadata": {},
   "outputs": [],
   "source": [
    "print('a = {}, b = {}, c = {}'.format(a, b, c))"
   ]
  },
  {
   "cell_type": "code",
   "execution_count": null,
   "id": "2e09082e",
   "metadata": {},
   "outputs": [],
   "source": [
    "print('a = {0}, b = {1}, c = {2}'.format(a, b, c))"
   ]
  },
  {
   "cell_type": "code",
   "execution_count": null,
   "id": "65ec9b7a",
   "metadata": {},
   "outputs": [],
   "source": [
    "print('a = {0}, b = {0}, c = {0}'.format(a, b, c))"
   ]
  },
  {
   "cell_type": "markdown",
   "id": "1544c571",
   "metadata": {},
   "source": [
    "---"
   ]
  },
  {
   "cell_type": "code",
   "execution_count": null,
   "id": "bab85bee",
   "metadata": {},
   "outputs": [],
   "source": [
    "d = {'a': 2, 'b': 4, 'c': 6}"
   ]
  },
  {
   "cell_type": "code",
   "execution_count": null,
   "id": "b8019889",
   "metadata": {},
   "outputs": [],
   "source": [
    "'a = {0[a]}, b = {0[b]}, c = {0[c]}'.format(d)"
   ]
  },
  {
   "cell_type": "code",
   "execution_count": null,
   "id": "b5a36ee8",
   "metadata": {},
   "outputs": [],
   "source": [
    "'a = {a}, b = {b}, c = {c}'.format(**d)"
   ]
  },
  {
   "cell_type": "markdown",
   "id": "7bd65206",
   "metadata": {},
   "source": [
    "---"
   ]
  },
  {
   "cell_type": "code",
   "execution_count": null,
   "id": "2f84bbb8",
   "metadata": {},
   "outputs": [],
   "source": [
    "print('a = [{0:5d}], b = [{1:10d}], c = [{2:20d}]'.format(a, b, c))"
   ]
  },
  {
   "cell_type": "code",
   "execution_count": null,
   "id": "4e21522d",
   "metadata": {},
   "outputs": [],
   "source": [
    "print('a = [{0:>5d}], b = [{1:>10d}], c = [{2:>20d}]'.format(a, b, c))"
   ]
  },
  {
   "cell_type": "code",
   "execution_count": null,
   "id": "b5788cf7",
   "metadata": {},
   "outputs": [],
   "source": [
    "print('a = [{0:<5d}], b = [{1:<10d}], c = [{2:<20d}]'.format(a, b, c))"
   ]
  },
  {
   "cell_type": "code",
   "execution_count": null,
   "id": "70e55fa3",
   "metadata": {},
   "outputs": [],
   "source": [
    "print('a = [{0:^5d}], b = [{1:^10d}], c = [{2:^20d}]'.format(a, b, c))"
   ]
  },
  {
   "cell_type": "markdown",
   "id": "a4effe34",
   "metadata": {},
   "source": [
    "---"
   ]
  },
  {
   "cell_type": "code",
   "execution_count": null,
   "id": "95bcad7f",
   "metadata": {},
   "outputs": [],
   "source": [
    "print('a = [{0:>20.5f}], b = [{1:^20.5f}], c = [{2:<20.5f}]'.format(a, b, c))"
   ]
  },
  {
   "cell_type": "code",
   "execution_count": null,
   "id": "68023806",
   "metadata": {},
   "outputs": [],
   "source": [
    "'{:,}'.format(1000000)"
   ]
  },
  {
   "cell_type": "code",
   "execution_count": null,
   "id": "df7bb764",
   "metadata": {},
   "outputs": [],
   "source": [
    "points = 19\n",
    "total = 22"
   ]
  },
  {
   "cell_type": "code",
   "execution_count": null,
   "id": "72472d27",
   "metadata": {},
   "outputs": [],
   "source": [
    "'백분율 처리: {:.2%}'.format(points/total)"
   ]
  },
  {
   "cell_type": "markdown",
   "id": "44409320",
   "metadata": {},
   "source": [
    "---"
   ]
  },
  {
   "cell_type": "code",
   "execution_count": null,
   "id": "5887cec4",
   "metadata": {},
   "outputs": [],
   "source": [
    "import datetime"
   ]
  },
  {
   "cell_type": "code",
   "execution_count": null,
   "id": "3a79fefe",
   "metadata": {},
   "outputs": [],
   "source": [
    "d = datetime.datetime(2022, 3, 28, 2, 17, 45)"
   ]
  },
  {
   "cell_type": "code",
   "execution_count": null,
   "id": "ed44ecd7",
   "metadata": {},
   "outputs": [],
   "source": [
    "'{:%Y-%m-%d %H:%M:%S}'.format(d)"
   ]
  },
  {
   "cell_type": "code",
   "execution_count": null,
   "id": "0938d639",
   "metadata": {},
   "outputs": [],
   "source": [
    "print(f'{d:%Y-%m-%d %H:%M:%S}')"
   ]
  }
 ],
 "metadata": {
  "kernelspec": {
   "display_name": "Python 3 (ipykernel)",
   "language": "python",
   "name": "python3"
  },
  "language_info": {
   "codemirror_mode": {
    "name": "ipython",
    "version": 3
   },
   "file_extension": ".py",
   "mimetype": "text/x-python",
   "name": "python",
   "nbconvert_exporter": "python",
   "pygments_lexer": "ipython3",
   "version": "3.8.12"
  }
 },
 "nbformat": 4,
 "nbformat_minor": 5
}
