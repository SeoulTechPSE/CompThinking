{
 "cells": [
  {
   "cell_type": "markdown",
   "id": "48d5aa52",
   "metadata": {},
   "source": [
    "# 38 장. 데코레이터(Decorator) 확장하기"
   ]
  },
  {
   "cell_type": "markdown",
   "id": "3235a642",
   "metadata": {},
   "source": [
    "## 38.1 클래스 데코레이터"
   ]
  },
  {
   "cell_type": "code",
   "execution_count": null,
   "id": "4c9ee4a5",
   "metadata": {},
   "outputs": [],
   "source": [
    "class Decorator:\n",
    "    \n",
    "    def __init__(self, func):\n",
    "        self._func = func\n",
    "        \n",
    "    def __call__(self, *args, **kwargs):\n",
    "        return self._func(*args, **kwargs)"
   ]
  },
  {
   "cell_type": "code",
   "execution_count": null,
   "id": "0eb966b7",
   "metadata": {},
   "outputs": [],
   "source": [
    "@Decorator\n",
    "def mul(x, y):\n",
    "    return x * y"
   ]
  },
  {
   "cell_type": "code",
   "execution_count": null,
   "id": "c93a3797",
   "metadata": {},
   "outputs": [],
   "source": [
    "mul(10, 10)"
   ]
  },
  {
   "cell_type": "code",
   "execution_count": null,
   "id": "23a18ed7",
   "metadata": {},
   "outputs": [],
   "source": [
    "mul.__name__"
   ]
  },
  {
   "cell_type": "code",
   "execution_count": null,
   "id": "4f3df45a",
   "metadata": {},
   "outputs": [],
   "source": [
    "mul.__dict__"
   ]
  },
  {
   "cell_type": "markdown",
   "id": "65469189",
   "metadata": {},
   "source": [
    "---"
   ]
  },
  {
   "cell_type": "code",
   "execution_count": null,
   "id": "98820ff7",
   "metadata": {},
   "outputs": [],
   "source": [
    "import functools as ft"
   ]
  },
  {
   "cell_type": "code",
   "execution_count": null,
   "id": "30cf7ffc",
   "metadata": {},
   "outputs": [],
   "source": [
    "class Decorator_:\n",
    "    \n",
    "    def __init__(self, func):\n",
    "        self._func = func\n",
    "        \n",
    "    def __call__(self, *args, **kwargs):\n",
    "        ft.wraps(self._func)(self)\n",
    "        return self._func(*args, **kwargs)"
   ]
  },
  {
   "cell_type": "code",
   "execution_count": null,
   "id": "0a47550f",
   "metadata": {},
   "outputs": [],
   "source": [
    "@Decorator_\n",
    "def add(x, y):\n",
    "    return x + y"
   ]
  },
  {
   "cell_type": "code",
   "execution_count": null,
   "id": "1d763e02",
   "metadata": {},
   "outputs": [],
   "source": [
    "add(10, 10)"
   ]
  },
  {
   "cell_type": "code",
   "execution_count": null,
   "id": "e00b1fe2",
   "metadata": {},
   "outputs": [],
   "source": [
    "add.__name__"
   ]
  },
  {
   "cell_type": "code",
   "execution_count": null,
   "id": "5d15e33d",
   "metadata": {},
   "outputs": [],
   "source": [
    "add.__dict__"
   ]
  },
  {
   "cell_type": "markdown",
   "id": "bc57e076",
   "metadata": {},
   "source": [
    "## 38.2. 인스턴스 데코레이터"
   ]
  },
  {
   "cell_type": "code",
   "execution_count": null,
   "id": "e9c0bea4",
   "metadata": {},
   "outputs": [],
   "source": [
    "class InsDecorator:\n",
    "    \n",
    "    def __call__(self, func):\n",
    "        self._func = func\n",
    "        def inner(*args, **kwargs):\n",
    "            return self._func(*args, **kwargs)\n",
    "        return inner    "
   ]
  },
  {
   "cell_type": "code",
   "execution_count": null,
   "id": "1e6fc5f0",
   "metadata": {},
   "outputs": [],
   "source": [
    "ins = InsDecorator()"
   ]
  },
  {
   "cell_type": "code",
   "execution_count": null,
   "id": "3984cc69",
   "metadata": {},
   "outputs": [],
   "source": [
    "@ins\n",
    "def mul(x, y):\n",
    "    return x * y"
   ]
  },
  {
   "cell_type": "code",
   "execution_count": null,
   "id": "3a915370",
   "metadata": {},
   "outputs": [],
   "source": [
    "mul(10, 10)"
   ]
  },
  {
   "cell_type": "code",
   "execution_count": null,
   "id": "1acd06c0",
   "metadata": {},
   "outputs": [],
   "source": [
    "mul.__name__"
   ]
  },
  {
   "cell_type": "code",
   "execution_count": null,
   "id": "e3172a21",
   "metadata": {},
   "outputs": [],
   "source": [
    "mul.__dict__"
   ]
  },
  {
   "cell_type": "code",
   "execution_count": null,
   "id": "11ec87e8",
   "metadata": {},
   "outputs": [],
   "source": [
    "import functools as ft"
   ]
  },
  {
   "cell_type": "code",
   "execution_count": null,
   "id": "89014897",
   "metadata": {},
   "outputs": [],
   "source": [
    "class InsDecorator_:\n",
    "    \n",
    "    def __call__(self, func):\n",
    "        self._func = func\n",
    "        @ft.wraps(self._func)\n",
    "        def inner(*args, **kwargs):\n",
    "            return self._func(*args, **kwargs)\n",
    "        return inner"
   ]
  },
  {
   "cell_type": "code",
   "execution_count": null,
   "id": "9d6b3421",
   "metadata": {},
   "outputs": [],
   "source": [
    "@InsDecorator_()\n",
    "def add(x, y):\n",
    "    return x + y"
   ]
  },
  {
   "cell_type": "code",
   "execution_count": null,
   "id": "4f5b7dd5",
   "metadata": {},
   "outputs": [],
   "source": [
    "add(10, 10)"
   ]
  },
  {
   "cell_type": "code",
   "execution_count": null,
   "id": "dbef67fb",
   "metadata": {},
   "outputs": [],
   "source": [
    "add.__name__"
   ]
  },
  {
   "cell_type": "code",
   "execution_count": null,
   "id": "1fda8e6f",
   "metadata": {},
   "outputs": [],
   "source": [
    "add.__dict__"
   ]
  },
  {
   "cell_type": "code",
   "execution_count": null,
   "id": "4f1b784c",
   "metadata": {},
   "outputs": [],
   "source": [
    "add.__wrapped__(10, 10)"
   ]
  },
  {
   "cell_type": "markdown",
   "id": "7f85e51b",
   "metadata": {},
   "source": [
    "## 38.3. 메소드 데코레이터"
   ]
  },
  {
   "cell_type": "code",
   "execution_count": null,
   "id": "367e6556",
   "metadata": {},
   "outputs": [],
   "source": [
    "import functools as ft"
   ]
  },
  {
   "cell_type": "code",
   "execution_count": null,
   "id": "1a7c09c5",
   "metadata": {},
   "outputs": [],
   "source": [
    "class MethDecorator:\n",
    "    \n",
    "    def __init__(self, func=None):\n",
    "        self._func = func\n",
    "        \n",
    "    def method(self, func):\n",
    "        self._func = func\n",
    "        @ft.wraps(self._func)\n",
    "        def inner(*args, **kwargs):\n",
    "            return self._func(*args, **kwargs)\n",
    "        return inner"
   ]
  },
  {
   "cell_type": "code",
   "execution_count": null,
   "id": "59adc7fa",
   "metadata": {},
   "outputs": [],
   "source": [
    "meth = MethDecorator()"
   ]
  },
  {
   "cell_type": "code",
   "execution_count": null,
   "id": "933562f1",
   "metadata": {},
   "outputs": [],
   "source": [
    "@meth.method\n",
    "def mul(x, y):\n",
    "    return x * y"
   ]
  },
  {
   "cell_type": "code",
   "execution_count": null,
   "id": "fd77e94d",
   "metadata": {},
   "outputs": [],
   "source": [
    "mul(10, 10)"
   ]
  },
  {
   "cell_type": "code",
   "execution_count": null,
   "id": "aa27a341",
   "metadata": {},
   "outputs": [],
   "source": [
    "mul.__name__"
   ]
  },
  {
   "cell_type": "code",
   "execution_count": null,
   "id": "ddf7a359",
   "metadata": {},
   "outputs": [],
   "source": [
    "mul.__dict__"
   ]
  },
  {
   "cell_type": "markdown",
   "id": "436e32f3",
   "metadata": {},
   "source": [
    "## 38.4. 클래스에 데코레이팅 처리하기"
   ]
  },
  {
   "cell_type": "code",
   "execution_count": null,
   "id": "d5ad0b35",
   "metadata": {},
   "outputs": [],
   "source": [
    "def decorator(cls):\n",
    "    def __init__(self, name):\n",
    "        self.name = name\n",
    "    cls.__init__ = __init__\n",
    "    return cls"
   ]
  },
  {
   "cell_type": "code",
   "execution_count": null,
   "id": "e3c0126a",
   "metadata": {},
   "outputs": [],
   "source": [
    "@decorator\n",
    "class DecoratedClass:\n",
    "    \n",
    "    def method(self):\n",
    "        return self.name"
   ]
  },
  {
   "cell_type": "code",
   "execution_count": null,
   "id": "17723f1d",
   "metadata": {},
   "outputs": [],
   "source": [
    "dec = DecoratedClass('데코레이터')"
   ]
  },
  {
   "cell_type": "code",
   "execution_count": null,
   "id": "b1b1c721",
   "metadata": {},
   "outputs": [],
   "source": [
    "dec"
   ]
  },
  {
   "cell_type": "code",
   "execution_count": null,
   "id": "80d95952",
   "metadata": {},
   "outputs": [],
   "source": [
    "dec.method()"
   ]
  },
  {
   "cell_type": "markdown",
   "id": "614b2907",
   "metadata": {},
   "source": [
    "---"
   ]
  },
  {
   "cell_type": "code",
   "execution_count": null,
   "id": "f79d4175",
   "metadata": {},
   "outputs": [],
   "source": [
    "@decorator\n",
    "class Klass:\n",
    "    pass"
   ]
  },
  {
   "cell_type": "code",
   "execution_count": null,
   "id": "b7657b1a",
   "metadata": {},
   "outputs": [],
   "source": [
    "k = Klass('클래스')"
   ]
  },
  {
   "cell_type": "code",
   "execution_count": null,
   "id": "28820760",
   "metadata": {},
   "outputs": [],
   "source": [
    "Klass.__dict__"
   ]
  },
  {
   "cell_type": "code",
   "execution_count": null,
   "id": "b382a76f",
   "metadata": {},
   "outputs": [],
   "source": [
    "k.__dict__"
   ]
  },
  {
   "cell_type": "markdown",
   "id": "7c0bfd52",
   "metadata": {},
   "source": [
    "## 38.5. 반복해서 계산 수행하기"
   ]
  },
  {
   "cell_type": "code",
   "execution_count": null,
   "id": "be8c6df1",
   "metadata": {},
   "outputs": [],
   "source": [
    "def sigma(n):\n",
    "    if n in [0]:\n",
    "        return 0\n",
    "    return n + sigma(n - 1)"
   ]
  },
  {
   "cell_type": "code",
   "execution_count": null,
   "id": "f80a4aee",
   "metadata": {},
   "outputs": [],
   "source": [
    "sigma(10)"
   ]
  },
  {
   "cell_type": "code",
   "execution_count": null,
   "id": "665fa950",
   "metadata": {},
   "outputs": [],
   "source": [
    "def pie(n):\n",
    "    if n in [0, 1]:\n",
    "        return 1\n",
    "    return n * pie(n - 1)"
   ]
  },
  {
   "cell_type": "code",
   "execution_count": null,
   "id": "9d0a1cec",
   "metadata": {},
   "outputs": [],
   "source": [
    "pie(3)"
   ]
  },
  {
   "cell_type": "markdown",
   "id": "989ee48c",
   "metadata": {},
   "source": [
    "---"
   ]
  },
  {
   "cell_type": "code",
   "execution_count": null,
   "id": "93711787",
   "metadata": {},
   "outputs": [],
   "source": [
    "def sigma_(n, accum=0):\n",
    "    if n in [0]:\n",
    "        return accum\n",
    "    return sigma_(n - 1, n + accum)"
   ]
  },
  {
   "cell_type": "code",
   "execution_count": null,
   "id": "306cb8c3",
   "metadata": {},
   "outputs": [],
   "source": [
    "sigma_(10)"
   ]
  },
  {
   "cell_type": "code",
   "execution_count": null,
   "id": "59be846e",
   "metadata": {},
   "outputs": [],
   "source": [
    "def pie_(n, accum=1):\n",
    "    if n in [0, 1]:\n",
    "        return accum\n",
    "    return pie_(n - 1, n*accum)"
   ]
  },
  {
   "cell_type": "code",
   "execution_count": null,
   "id": "0f56765f",
   "metadata": {},
   "outputs": [],
   "source": [
    "pie_(3)"
   ]
  },
  {
   "cell_type": "markdown",
   "id": "68188ae8",
   "metadata": {},
   "source": [
    "---"
   ]
  },
  {
   "cell_type": "code",
   "execution_count": null,
   "id": "df9f9413",
   "metadata": {},
   "outputs": [],
   "source": [
    "class Sigma:\n",
    "    \n",
    "    def __init__(self, expr):\n",
    "        self._expr = expr\n",
    "        \n",
    "    def sigma(self):\n",
    "        \n",
    "        def inner(self, n, accum=0):\n",
    "            if n in [0]:\n",
    "                accum += eval(self._expr)\n",
    "                return accum\n",
    "            else:\n",
    "                return inner(self, n - 1, (accum + eval(self._expr)))\n",
    "        return inner"
   ]
  },
  {
   "cell_type": "code",
   "execution_count": null,
   "id": "13b99554",
   "metadata": {},
   "outputs": [],
   "source": [
    "s = Sigma('2*n + 1')"
   ]
  },
  {
   "cell_type": "code",
   "execution_count": null,
   "id": "ec35f5a6",
   "metadata": {},
   "outputs": [],
   "source": [
    "s.sigma()(s, 10)"
   ]
  }
 ],
 "metadata": {
  "kernelspec": {
   "display_name": "Python 3 (ipykernel)",
   "language": "python",
   "name": "python3"
  },
  "language_info": {
   "codemirror_mode": {
    "name": "ipython",
    "version": 3
   },
   "file_extension": ".py",
   "mimetype": "text/x-python",
   "name": "python",
   "nbconvert_exporter": "python",
   "pygments_lexer": "ipython3",
   "version": "3.8.12"
  }
 },
 "nbformat": 4,
 "nbformat_minor": 5
}
