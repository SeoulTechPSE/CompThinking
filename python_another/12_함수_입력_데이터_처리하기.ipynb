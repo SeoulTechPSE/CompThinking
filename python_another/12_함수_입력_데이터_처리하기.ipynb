{
 "cells": [
  {
   "cell_type": "markdown",
   "id": "ba38751f",
   "metadata": {},
   "source": [
    "# 12 장. 함수 입력 데이터 처리하기"
   ]
  },
  {
   "cell_type": "markdown",
   "id": "9d9580b1",
   "metadata": {},
   "source": [
    "## 12.1. 고정 위치 인자와 가변 위치 인자 처리하기"
   ]
  },
  {
   "cell_type": "code",
   "execution_count": 1,
   "id": "cd69fdac",
   "metadata": {},
   "outputs": [],
   "source": [
    "def func_p(x, y, z):\n",
    "    print('locals', locals())\n",
    "    return x + y + z"
   ]
  },
  {
   "cell_type": "code",
   "execution_count": 2,
   "id": "c52fc4ab",
   "metadata": {},
   "outputs": [
    {
     "name": "stdout",
     "output_type": "stream",
     "text": [
      "locals {'x': 1, 'y': 2, 'z': 3}\n"
     ]
    },
    {
     "data": {
      "text/plain": [
       "6"
      ]
     },
     "execution_count": 2,
     "metadata": {},
     "output_type": "execute_result"
    }
   ],
   "source": [
    "func_p(1, 2, 3)"
   ]
  },
  {
   "cell_type": "code",
   "execution_count": 3,
   "id": "16cb5f64",
   "metadata": {},
   "outputs": [],
   "source": [
    "def func_d(x=1, y=1, z=1):\n",
    "    print('locals', locals())\n",
    "    return x + y + z"
   ]
  },
  {
   "cell_type": "code",
   "execution_count": 5,
   "id": "1dbe6866",
   "metadata": {},
   "outputs": [
    {
     "name": "stdout",
     "output_type": "stream",
     "text": [
      "locals {'x': 1, 'y': 1, 'z': 1}\n"
     ]
    },
    {
     "data": {
      "text/plain": [
       "3"
      ]
     },
     "execution_count": 5,
     "metadata": {},
     "output_type": "execute_result"
    }
   ],
   "source": [
    "func_d()"
   ]
  },
  {
   "cell_type": "code",
   "execution_count": 6,
   "id": "1870e12c",
   "metadata": {},
   "outputs": [
    {
     "name": "stdout",
     "output_type": "stream",
     "text": [
      "locals {'x': 10, 'y': 1, 'z': 1}\n"
     ]
    },
    {
     "data": {
      "text/plain": [
       "12"
      ]
     },
     "execution_count": 6,
     "metadata": {},
     "output_type": "execute_result"
    }
   ],
   "source": [
    "func_d(10)"
   ]
  },
  {
   "cell_type": "code",
   "execution_count": 7,
   "id": "d56b0e53",
   "metadata": {},
   "outputs": [
    {
     "name": "stdout",
     "output_type": "stream",
     "text": [
      "locals {'x': 10, 'y': 20, 'z': 1}\n"
     ]
    },
    {
     "data": {
      "text/plain": [
       "31"
      ]
     },
     "execution_count": 7,
     "metadata": {},
     "output_type": "execute_result"
    }
   ],
   "source": [
    "func_d(10, 20)"
   ]
  },
  {
   "cell_type": "code",
   "execution_count": 8,
   "id": "773f1957",
   "metadata": {},
   "outputs": [
    {
     "data": {
      "text/plain": [
       "(1, 1, 1)"
      ]
     },
     "execution_count": 8,
     "metadata": {},
     "output_type": "execute_result"
    }
   ],
   "source": [
    "func_d.__defaults__"
   ]
  },
  {
   "cell_type": "markdown",
   "id": "1e91a187",
   "metadata": {},
   "source": [
    "---"
   ]
  },
  {
   "cell_type": "code",
   "execution_count": 9,
   "id": "7b005d55",
   "metadata": {},
   "outputs": [],
   "source": [
    "a, *b = [1, 2, 3, 4, 5]"
   ]
  },
  {
   "cell_type": "code",
   "execution_count": 10,
   "id": "9bc8d2e1",
   "metadata": {},
   "outputs": [
    {
     "data": {
      "text/plain": [
       "(1, [2, 3, 4, 5])"
      ]
     },
     "execution_count": 10,
     "metadata": {},
     "output_type": "execute_result"
    }
   ],
   "source": [
    "a, b"
   ]
  },
  {
   "cell_type": "code",
   "execution_count": 11,
   "id": "c241d5b4",
   "metadata": {},
   "outputs": [],
   "source": [
    "def func_a(*args):\n",
    "    print('가변 ', locals())\n",
    "    result = 0\n",
    "    for i in args:\n",
    "        result += i\n",
    "    return result"
   ]
  },
  {
   "cell_type": "code",
   "execution_count": 12,
   "id": "4f3d5f37",
   "metadata": {},
   "outputs": [
    {
     "name": "stdout",
     "output_type": "stream",
     "text": [
      "가변  {'args': (1, 2, 3, 4, 5)}\n"
     ]
    },
    {
     "data": {
      "text/plain": [
       "15"
      ]
     },
     "execution_count": 12,
     "metadata": {},
     "output_type": "execute_result"
    }
   ],
   "source": [
    "func_a(1, 2, 3, 4, 5)"
   ]
  },
  {
   "cell_type": "code",
   "execution_count": 13,
   "id": "9de91c62",
   "metadata": {},
   "outputs": [
    {
     "name": "stdout",
     "output_type": "stream",
     "text": [
      "가변  {'args': (1, 2, 3, 4, 5, 6, 7, 8, 9)}\n"
     ]
    },
    {
     "data": {
      "text/plain": [
       "45"
      ]
     },
     "execution_count": 13,
     "metadata": {},
     "output_type": "execute_result"
    }
   ],
   "source": [
    "func_a(1, 2, 3, 4, 5, 6, 7, 8, 9)"
   ]
  },
  {
   "cell_type": "markdown",
   "id": "d1491eb8",
   "metadata": {},
   "source": [
    "---"
   ]
  },
  {
   "cell_type": "code",
   "execution_count": 14,
   "id": "b9982e21",
   "metadata": {},
   "outputs": [
    {
     "name": "stdout",
     "output_type": "stream",
     "text": [
      "a 1\n",
      "b 2\n"
     ]
    }
   ],
   "source": [
    "for k, v in {'a': 1, 'b': 2}.items():\n",
    "    print(k, v)"
   ]
  },
  {
   "cell_type": "code",
   "execution_count": 15,
   "id": "e558ecf2",
   "metadata": {},
   "outputs": [],
   "source": [
    "def func_kw(**kwargs):\n",
    "    print('가변 ', locals())\n",
    "    result = 0\n",
    "    for k, v in kwargs.items():\n",
    "        result += v\n",
    "    return result"
   ]
  },
  {
   "cell_type": "code",
   "execution_count": 16,
   "id": "ef7d79d6",
   "metadata": {},
   "outputs": [
    {
     "name": "stdout",
     "output_type": "stream",
     "text": [
      "가변  {'kwargs': {'x': 1, 'y': 2, 'z': 3}}\n"
     ]
    },
    {
     "data": {
      "text/plain": [
       "6"
      ]
     },
     "execution_count": 16,
     "metadata": {},
     "output_type": "execute_result"
    }
   ],
   "source": [
    "func_kw(x=1, y=2, z=3)"
   ]
  },
  {
   "cell_type": "code",
   "execution_count": 17,
   "id": "25e6f14b",
   "metadata": {},
   "outputs": [
    {
     "name": "stdout",
     "output_type": "stream",
     "text": [
      "가변  {'kwargs': {'x': 1, 'y': 2, 'z': 3, 'a': 10}}\n"
     ]
    },
    {
     "data": {
      "text/plain": [
       "16"
      ]
     },
     "execution_count": 17,
     "metadata": {},
     "output_type": "execute_result"
    }
   ],
   "source": [
    "func_kw(x=1, y=2, z=3, a=10)"
   ]
  },
  {
   "cell_type": "markdown",
   "id": "0e6a1990",
   "metadata": {},
   "source": [
    "## 12.1. 매개변수 혼용 처리하기"
   ]
  },
  {
   "cell_type": "code",
   "execution_count": 18,
   "id": "03c846f2",
   "metadata": {},
   "outputs": [],
   "source": [
    "def func_pa(x, y, z, *args):\n",
    "    print('locals', locals())\n",
    "    result = x + y + z\n",
    "    for i in args:\n",
    "        result += 1\n",
    "    return result"
   ]
  },
  {
   "cell_type": "code",
   "execution_count": 19,
   "id": "3d0c03e9",
   "metadata": {},
   "outputs": [
    {
     "name": "stdout",
     "output_type": "stream",
     "text": [
      "locals {'x': 1, 'y': 2, 'z': 3, 'args': ()}\n"
     ]
    },
    {
     "data": {
      "text/plain": [
       "6"
      ]
     },
     "execution_count": 19,
     "metadata": {},
     "output_type": "execute_result"
    }
   ],
   "source": [
    "func_pa(1, 2, 3)"
   ]
  },
  {
   "cell_type": "code",
   "execution_count": 20,
   "id": "8463a47b",
   "metadata": {},
   "outputs": [
    {
     "name": "stdout",
     "output_type": "stream",
     "text": [
      "locals {'x': 1, 'y': 2, 'z': 3, 'args': (4, 5, 6, 7)}\n"
     ]
    },
    {
     "data": {
      "text/plain": [
       "10"
      ]
     },
     "execution_count": 20,
     "metadata": {},
     "output_type": "execute_result"
    }
   ],
   "source": [
    "func_pa(1, 2, 3, 4, 5, 6, 7)"
   ]
  },
  {
   "cell_type": "markdown",
   "id": "ca9a60c6",
   "metadata": {},
   "source": [
    "---"
   ]
  },
  {
   "cell_type": "code",
   "execution_count": 22,
   "id": "059c85df",
   "metadata": {},
   "outputs": [],
   "source": [
    "def func_pak(x, y, z, *args, a=1, b=2):\n",
    "    print('locals', locals())\n",
    "    result = x + y + z + a + b\n",
    "    for i in args:\n",
    "        result += i\n",
    "    return result"
   ]
  },
  {
   "cell_type": "code",
   "execution_count": 23,
   "id": "2a2eebb6",
   "metadata": {},
   "outputs": [
    {
     "name": "stdout",
     "output_type": "stream",
     "text": [
      "locals {'x': 1, 'y': 2, 'z': 3, 'a': 1, 'b': 2, 'args': ()}\n"
     ]
    },
    {
     "data": {
      "text/plain": [
       "9"
      ]
     },
     "execution_count": 23,
     "metadata": {},
     "output_type": "execute_result"
    }
   ],
   "source": [
    "func_pak(1, 2, 3)"
   ]
  },
  {
   "cell_type": "markdown",
   "id": "537e1c76",
   "metadata": {},
   "source": [
    "---"
   ]
  },
  {
   "cell_type": "code",
   "execution_count": 24,
   "id": "0c1e4b78",
   "metadata": {},
   "outputs": [],
   "source": [
    "def func_pak(x, y, z, *, a, b):\n",
    "    print('locals', locals())\n",
    "    result = x + y + z + a + b\n",
    "    return result"
   ]
  },
  {
   "cell_type": "code",
   "execution_count": 25,
   "id": "d4d74c96",
   "metadata": {},
   "outputs": [
    {
     "name": "stdout",
     "output_type": "stream",
     "text": [
      "locals {'x': 1, 'y': 2, 'z': 3, 'a': 10, 'b': 20}\n"
     ]
    },
    {
     "data": {
      "text/plain": [
       "36"
      ]
     },
     "execution_count": 25,
     "metadata": {},
     "output_type": "execute_result"
    }
   ],
   "source": [
    "func_pak(1, 2, 3, a=10, b=20)"
   ]
  },
  {
   "cell_type": "code",
   "execution_count": 26,
   "id": "8cdca67b",
   "metadata": {},
   "outputs": [
    {
     "ename": "TypeError",
     "evalue": "func_pak() takes 3 positional arguments but 5 were given",
     "output_type": "error",
     "traceback": [
      "\u001b[0;31m---------------------------------------------------------------------------\u001b[0m",
      "\u001b[0;31mTypeError\u001b[0m                                 Traceback (most recent call last)",
      "Input \u001b[0;32mIn [26]\u001b[0m, in \u001b[0;36m<cell line: 1>\u001b[0;34m()\u001b[0m\n\u001b[0;32m----> 1\u001b[0m \u001b[43mfunc_pak\u001b[49m\u001b[43m(\u001b[49m\u001b[38;5;241;43m1\u001b[39;49m\u001b[43m,\u001b[49m\u001b[43m \u001b[49m\u001b[38;5;241;43m2\u001b[39;49m\u001b[43m,\u001b[49m\u001b[43m \u001b[49m\u001b[38;5;241;43m3\u001b[39;49m\u001b[43m,\u001b[49m\u001b[43m \u001b[49m\u001b[38;5;241;43m10\u001b[39;49m\u001b[43m,\u001b[49m\u001b[43m \u001b[49m\u001b[38;5;241;43m20\u001b[39;49m\u001b[43m)\u001b[49m\n",
      "\u001b[0;31mTypeError\u001b[0m: func_pak() takes 3 positional arguments but 5 were given"
     ]
    }
   ],
   "source": [
    "func_pak(1, 2, 3, 10, 20)"
   ]
  },
  {
   "cell_type": "markdown",
   "id": "53b43000",
   "metadata": {},
   "source": [
    "---"
   ]
  },
  {
   "cell_type": "code",
   "execution_count": 27,
   "id": "14e34a40",
   "metadata": {},
   "outputs": [],
   "source": [
    "def func_pakw(x, y, z, *args, a, b, **kwargs):\n",
    "    print('locals', locals())\n",
    "    result = x + y + z + a + b\n",
    "    for i in args:\n",
    "        result += i\n",
    "    for k, v in kwargs.items():\n",
    "        result += v\n",
    "    return result"
   ]
  },
  {
   "cell_type": "code",
   "execution_count": 28,
   "id": "f077b33c",
   "metadata": {},
   "outputs": [
    {
     "name": "stdout",
     "output_type": "stream",
     "text": [
      "locals {'x': 1, 'y': 2, 'z': 3, 'a': 10, 'b': 11, 'args': (), 'kwargs': {}}\n"
     ]
    },
    {
     "data": {
      "text/plain": [
       "27"
      ]
     },
     "execution_count": 28,
     "metadata": {},
     "output_type": "execute_result"
    }
   ],
   "source": [
    "func_pakw(1, 2, 3, a=10, b=11)"
   ]
  },
  {
   "cell_type": "code",
   "execution_count": 29,
   "id": "51584fa6",
   "metadata": {},
   "outputs": [
    {
     "name": "stdout",
     "output_type": "stream",
     "text": [
      "locals {'x': 1, 'y': 2, 'z': 3, 'a': 10, 'b': 11, 'args': (4, 5, 6), 'kwargs': {'c': 100}}\n"
     ]
    },
    {
     "data": {
      "text/plain": [
       "142"
      ]
     },
     "execution_count": 29,
     "metadata": {},
     "output_type": "execute_result"
    }
   ],
   "source": [
    "func_pakw(1, 2, 3, 4, 5, 6, a=10, b=11, c=100)"
   ]
  },
  {
   "cell_type": "code",
   "execution_count": null,
   "id": "d8e35342",
   "metadata": {},
   "outputs": [],
   "source": []
  }
 ],
 "metadata": {
  "kernelspec": {
   "display_name": "Python 3 (ipykernel)",
   "language": "python",
   "name": "python3"
  },
  "language_info": {
   "codemirror_mode": {
    "name": "ipython",
    "version": 3
   },
   "file_extension": ".py",
   "mimetype": "text/x-python",
   "name": "python",
   "nbconvert_exporter": "python",
   "pygments_lexer": "ipython3",
   "version": "3.8.12"
  }
 },
 "nbformat": 4,
 "nbformat_minor": 5
}
