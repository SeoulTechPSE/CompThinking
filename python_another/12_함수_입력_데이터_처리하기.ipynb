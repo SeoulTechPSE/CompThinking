{
 "cells": [
  {
   "cell_type": "markdown",
   "id": "ba38751f",
   "metadata": {},
   "source": [
    "# 12 장. 함수 입력 데이터 처리하기"
   ]
  },
  {
   "cell_type": "markdown",
   "id": "9d9580b1",
   "metadata": {},
   "source": [
    "## 12.1. 고정 위치 인자와 가변 위치 인자 처리하기"
   ]
  },
  {
   "cell_type": "code",
   "execution_count": null,
   "id": "cd69fdac",
   "metadata": {},
   "outputs": [],
   "source": [
    "def func_p(x, y, z):\n",
    "    print('locals', locals())\n",
    "    return x + y + z"
   ]
  },
  {
   "cell_type": "code",
   "execution_count": null,
   "id": "c52fc4ab",
   "metadata": {},
   "outputs": [],
   "source": [
    "func_p(1, 2, 3)"
   ]
  },
  {
   "cell_type": "code",
   "execution_count": null,
   "id": "16cb5f64",
   "metadata": {},
   "outputs": [],
   "source": [
    "def func_d(x=1, y=1, z=1):\n",
    "    print('locals', locals())\n",
    "    return x + y + z"
   ]
  },
  {
   "cell_type": "code",
   "execution_count": null,
   "id": "1dbe6866",
   "metadata": {},
   "outputs": [],
   "source": [
    "func_d()"
   ]
  },
  {
   "cell_type": "code",
   "execution_count": null,
   "id": "1870e12c",
   "metadata": {},
   "outputs": [],
   "source": [
    "func_d(10)"
   ]
  },
  {
   "cell_type": "code",
   "execution_count": null,
   "id": "d56b0e53",
   "metadata": {},
   "outputs": [],
   "source": [
    "func_d(10, 20)"
   ]
  },
  {
   "cell_type": "code",
   "execution_count": null,
   "id": "773f1957",
   "metadata": {},
   "outputs": [],
   "source": [
    "func_d.__defaults__"
   ]
  },
  {
   "cell_type": "markdown",
   "id": "1e91a187",
   "metadata": {},
   "source": [
    "---"
   ]
  },
  {
   "cell_type": "code",
   "execution_count": null,
   "id": "7b005d55",
   "metadata": {},
   "outputs": [],
   "source": [
    "a, *b = [1, 2, 3, 4, 5]"
   ]
  },
  {
   "cell_type": "code",
   "execution_count": null,
   "id": "ed9cd06e",
   "metadata": {},
   "outputs": [],
   "source": [
    "a, b"
   ]
  },
  {
   "cell_type": "code",
   "execution_count": null,
   "id": "9d27d166",
   "metadata": {},
   "outputs": [],
   "source": [
    "def func_a(*args):\n",
    "    print('가변 ', locals())\n",
    "    result = 0\n",
    "    for i in args:\n",
    "        result += i\n",
    "    return result"
   ]
  },
  {
   "cell_type": "code",
   "execution_count": null,
   "id": "86e174b9",
   "metadata": {},
   "outputs": [],
   "source": [
    "func_a(1, 2, 3, 4, 5)"
   ]
  },
  {
   "cell_type": "code",
   "execution_count": null,
   "id": "484596b1",
   "metadata": {},
   "outputs": [],
   "source": [
    "func_a(1, 2, 3, 4, 5, 6, 7, 8, 9)"
   ]
  },
  {
   "cell_type": "markdown",
   "id": "26f72752",
   "metadata": {},
   "source": [
    "---"
   ]
  },
  {
   "cell_type": "code",
   "execution_count": null,
   "id": "9192c406",
   "metadata": {},
   "outputs": [],
   "source": [
    "for k, v in {'a': 1, 'b': 2}.items():\n",
    "    print(k, v)"
   ]
  },
  {
   "cell_type": "code",
   "execution_count": null,
   "id": "8d06ce90",
   "metadata": {},
   "outputs": [],
   "source": [
    "def func_kw(**kwargs):\n",
    "    print('가변 ', locals())\n",
    "    result = 0\n",
    "    for k, v in kwargs.items():\n",
    "        result += v\n",
    "    return result"
   ]
  },
  {
   "cell_type": "code",
   "execution_count": null,
   "id": "0f3cabb7",
   "metadata": {},
   "outputs": [],
   "source": [
    "func_kw(x=1, y=2, z=3)"
   ]
  },
  {
   "cell_type": "code",
   "execution_count": null,
   "id": "6ba5eb2d",
   "metadata": {},
   "outputs": [],
   "source": [
    "func_kw(x=1, y=2, z=3, a=10)"
   ]
  },
  {
   "cell_type": "markdown",
   "id": "4a98e40c",
   "metadata": {},
   "source": [
    "## 12.1. 매개변수 혼용 처리하기"
   ]
  },
  {
   "cell_type": "code",
   "execution_count": null,
   "id": "e3519c09",
   "metadata": {},
   "outputs": [],
   "source": [
    "def func_pa(x, y, z, *args):\n",
    "    print('locals', locals())\n",
    "    result = x + y + z\n",
    "    for i in args:\n",
    "        result += 1\n",
    "    return result"
   ]
  },
  {
   "cell_type": "code",
   "execution_count": null,
   "id": "a67c71a8",
   "metadata": {},
   "outputs": [],
   "source": [
    "func_pa(1, 2, 3)"
   ]
  },
  {
   "cell_type": "code",
   "execution_count": null,
   "id": "5583eff2",
   "metadata": {},
   "outputs": [],
   "source": [
    "func_pa(1, 2, 3, 4, 5, 6, 7)"
   ]
  },
  {
   "cell_type": "markdown",
   "id": "32dcfb1d",
   "metadata": {},
   "source": [
    "---"
   ]
  },
  {
   "cell_type": "code",
   "execution_count": null,
   "id": "92aacc4b",
   "metadata": {},
   "outputs": [],
   "source": [
    "def func_pak(x, y, z, *args, a=1, b=2):\n",
    "    print('locals', locals())\n",
    "    result = x + y + z + a + b\n",
    "    for i in args:\n",
    "        result += i\n",
    "    return result"
   ]
  },
  {
   "cell_type": "code",
   "execution_count": null,
   "id": "2f2c4378",
   "metadata": {},
   "outputs": [],
   "source": [
    "func_pak(1, 2, 3)"
   ]
  },
  {
   "cell_type": "markdown",
   "id": "c86d710a",
   "metadata": {},
   "source": [
    "---"
   ]
  },
  {
   "cell_type": "code",
   "execution_count": null,
   "id": "05efb149",
   "metadata": {},
   "outputs": [],
   "source": [
    "def func_pak(x, y, z, *, a, b):\n",
    "    print('locals', locals())\n",
    "    result = x + y + z + a + b\n",
    "    return result"
   ]
  },
  {
   "cell_type": "code",
   "execution_count": null,
   "id": "e8580062",
   "metadata": {},
   "outputs": [],
   "source": [
    "func_pak(1, 2, 3, a=10, b=20)"
   ]
  },
  {
   "cell_type": "code",
   "execution_count": null,
   "id": "3005f7be",
   "metadata": {},
   "outputs": [],
   "source": [
    "func_pak(1, 2, 3, 10, 20)"
   ]
  },
  {
   "cell_type": "markdown",
   "id": "bb2b70a8",
   "metadata": {},
   "source": [
    "---"
   ]
  },
  {
   "cell_type": "code",
   "execution_count": null,
   "id": "0081b90c",
   "metadata": {},
   "outputs": [],
   "source": [
    "def func_pakw(x, y, z, *args, a, b, **kwargs):\n",
    "    print('locals', locals())\n",
    "    result = x + y + z + a + b\n",
    "    for i in args:\n",
    "        result += i\n",
    "    for k, v in kwargs.items():\n",
    "        result += v\n",
    "    return result"
   ]
  },
  {
   "cell_type": "code",
   "execution_count": null,
   "id": "30c84afd",
   "metadata": {},
   "outputs": [],
   "source": [
    "func_pakw(1, 2, 3, a=10, b=11)"
   ]
  },
  {
   "cell_type": "code",
   "execution_count": null,
   "id": "620881e0",
   "metadata": {},
   "outputs": [],
   "source": [
    "func_pakw(1, 2, 3, 4, 5, 6, a=10, b=11, c=100)"
   ]
  },
  {
   "cell_type": "code",
   "execution_count": null,
   "id": "661031f7",
   "metadata": {},
   "outputs": [],
   "source": [
    "func_pakw(1, 2, 3, 4, 5, 6, a=10, c=100)"
   ]
  },
  {
   "cell_type": "markdown",
   "id": "e8876ac2",
   "metadata": {},
   "source": [
    "---"
   ]
  },
  {
   "cell_type": "code",
   "execution_count": null,
   "id": "f7d6257b",
   "metadata": {},
   "outputs": [],
   "source": [
    "def func_apply(*args, **kwargs):\n",
    "    print('locals', locals())\n",
    "    result = 0\n",
    "    for i in args:\n",
    "        result +=i\n",
    "    for k, v in kwargs.items():\n",
    "        result += v\n",
    "    return result"
   ]
  },
  {
   "cell_type": "code",
   "execution_count": null,
   "id": "b0e2a1fd",
   "metadata": {},
   "outputs": [],
   "source": [
    "func_apply(1, 2, 3, 4, 5, a=10, b=20)"
   ]
  },
  {
   "cell_type": "code",
   "execution_count": null,
   "id": "1a2e67e9",
   "metadata": {},
   "outputs": [],
   "source": [
    "func_apply(1, 2, 3, 4, 5, a=10, b=20, 6)"
   ]
  },
  {
   "cell_type": "markdown",
   "id": "992ef452",
   "metadata": {},
   "source": [
    "## 12.3. 색인 검색 함수를 메소드로 전환하기"
   ]
  },
  {
   "cell_type": "code",
   "execution_count": null,
   "id": "176af16b",
   "metadata": {},
   "outputs": [],
   "source": [
    "ll = [1, 2, 3, 4, 5, 6]"
   ]
  },
  {
   "cell_type": "code",
   "execution_count": null,
   "id": "76c26d6f",
   "metadata": {},
   "outputs": [],
   "source": [
    "class Index:\n",
    "    @staticmethod\n",
    "    def index(iterable, *args):\n",
    "        result = []\n",
    "        for i in args:\n",
    "            if i < len(iterable):\n",
    "                result.append(iterable[i])\n",
    "            else:\n",
    "                continue\n",
    "        return result"
   ]
  },
  {
   "cell_type": "code",
   "execution_count": null,
   "id": "588bc438",
   "metadata": {},
   "outputs": [],
   "source": [
    "print(Index.index(ll, 1, 2, 5))"
   ]
  },
  {
   "cell_type": "code",
   "execution_count": null,
   "id": "e01a0e07",
   "metadata": {},
   "outputs": [],
   "source": [
    "class Index_:\n",
    "    \n",
    "    def __init__(self, iterable):\n",
    "        self.iterable = iterable\n",
    "        \n",
    "    def index(self, *args):\n",
    "        result = []\n",
    "        for i in args:\n",
    "            if i < len(self.iterable):\n",
    "                result.append(self.iterable[i])\n",
    "            else:\n",
    "                continue\n",
    "        return result"
   ]
  },
  {
   "cell_type": "code",
   "execution_count": null,
   "id": "38cfce79",
   "metadata": {},
   "outputs": [],
   "source": [
    "x = Index_(ll)\n",
    "\n",
    "print(x.index(1, 2, 5))"
   ]
  },
  {
   "cell_type": "code",
   "execution_count": null,
   "id": "cd0fbdb0",
   "metadata": {},
   "outputs": [],
   "source": [
    "class Index__:\n",
    "    \n",
    "    def __init__(self, iterable):\n",
    "        self.iterable = iterable\n",
    "        \n",
    "    def index(self, *args):\n",
    "        result = []\n",
    "        for i in args:\n",
    "            result.append(self.iterable[i]) if i < len(self.iterable) else _\n",
    "        return result"
   ]
  },
  {
   "cell_type": "code",
   "execution_count": null,
   "id": "b39298ee",
   "metadata": {},
   "outputs": [],
   "source": [
    "y = Index_(ll)\n",
    "\n",
    "print(y.index(1, 2, 5))"
   ]
  }
 ],
 "metadata": {
  "kernelspec": {
   "display_name": "Python 3 (ipykernel)",
   "language": "python",
   "name": "python3"
  },
  "language_info": {
   "codemirror_mode": {
    "name": "ipython",
    "version": 3
   },
   "file_extension": ".py",
   "mimetype": "text/x-python",
   "name": "python",
   "nbconvert_exporter": "python",
   "pygments_lexer": "ipython3",
   "version": "3.8.12"
  }
 },
 "nbformat": 4,
 "nbformat_minor": 5
}
