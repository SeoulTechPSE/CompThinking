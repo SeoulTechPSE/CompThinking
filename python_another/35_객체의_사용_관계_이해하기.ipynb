{
 "cells": [
  {
   "cell_type": "markdown",
   "id": "8f191d6c",
   "metadata": {},
   "source": [
    "# 35 장. 객체의 사용 관계 이해하기"
   ]
  },
  {
   "cell_type": "markdown",
   "id": "55f9f062",
   "metadata": {},
   "source": [
    "## 35.1. 사용 관계(Association)"
   ]
  },
  {
   "cell_type": "code",
   "execution_count": null,
   "id": "fc103d91",
   "metadata": {},
   "outputs": [],
   "source": [
    "class Master:\n",
    "    def __init__(self, name):\n",
    "        self._name = name\n",
    "        self.Name = Slave()\n",
    "        \n",
    "class Slave:\n",
    "    def get_name(self, other):\n",
    "        return other._name"
   ]
  },
  {
   "cell_type": "code",
   "execution_count": null,
   "id": "11a28e33",
   "metadata": {},
   "outputs": [],
   "source": [
    "m = Master('고요한')"
   ]
  },
  {
   "cell_type": "code",
   "execution_count": null,
   "id": "13dee747",
   "metadata": {},
   "outputs": [],
   "source": [
    "m.Name.get_name(m)"
   ]
  },
  {
   "cell_type": "markdown",
   "id": "c2348758",
   "metadata": {},
   "source": [
    "## 35.2. 결합 관계(Aggregation)"
   ]
  },
  {
   "cell_type": "code",
   "execution_count": null,
   "id": "783d8fd2",
   "metadata": {},
   "outputs": [],
   "source": [
    "class Balance(object):\n",
    "    def __init__(self, account_code, money=0):\n",
    "        self.account_code = account_code\n",
    "        self.balance = money\n",
    "        \n",
    "    def set_balance(self, money):\n",
    "        self.balance += money"
   ]
  },
  {
   "cell_type": "code",
   "execution_count": null,
   "id": "d8fc57cf",
   "metadata": {},
   "outputs": [],
   "source": [
    "class Agreement(object):\n",
    "    def __init__(self, money, b):\n",
    "        self.acc_balance = money\n",
    "        self.b = b\n",
    "        self.b.set_balance(money)\n",
    "        \n",
    "    def __del__(self):\n",
    "        self.b.set_balance(-self.acc_balance)\n",
    "        del self"
   ]
  },
  {
   "cell_type": "code",
   "execution_count": null,
   "id": "34f450d2",
   "metadata": {},
   "outputs": [],
   "source": [
    "b = Balance('1234')"
   ]
  },
  {
   "cell_type": "code",
   "execution_count": null,
   "id": "81498e26",
   "metadata": {},
   "outputs": [],
   "source": [
    "a = Agreement(100, b)"
   ]
  },
  {
   "cell_type": "code",
   "execution_count": null,
   "id": "0711ef4f",
   "metadata": {},
   "outputs": [],
   "source": [
    "a.__dict__"
   ]
  },
  {
   "cell_type": "code",
   "execution_count": null,
   "id": "c089fe65",
   "metadata": {},
   "outputs": [],
   "source": [
    "b.__dict__"
   ]
  },
  {
   "cell_type": "code",
   "execution_count": null,
   "id": "dd0c36f6",
   "metadata": {},
   "outputs": [],
   "source": [
    "del a"
   ]
  },
  {
   "cell_type": "code",
   "execution_count": null,
   "id": "9ada00cd",
   "metadata": {},
   "outputs": [],
   "source": [
    "b"
   ]
  },
  {
   "cell_type": "code",
   "execution_count": null,
   "id": "7f962bd1",
   "metadata": {},
   "outputs": [],
   "source": [
    "b.__dict__"
   ]
  },
  {
   "cell_type": "markdown",
   "id": "9d3797e4",
   "metadata": {},
   "source": [
    "## 35.3. 조합 관계(Composition)"
   ]
  },
  {
   "cell_type": "code",
   "execution_count": null,
   "id": "0b47bb32",
   "metadata": {},
   "outputs": [],
   "source": [
    "class Balance(object):\n",
    "    def __init__(self, money=0):\n",
    "        self._bal = 0\n",
    "        self.set_balance(money)\n",
    "        \n",
    "    def set_balance(self, money):\n",
    "        self._bal += money"
   ]
  },
  {
   "cell_type": "code",
   "execution_count": null,
   "id": "d93ea5b8",
   "metadata": {},
   "outputs": [],
   "source": [
    "class Agreement(object):\n",
    "    def __init__(self, acc_no, money):\n",
    "        self.acc_no = acc_no\n",
    "        self.balance = Balance(money)\n",
    "        \n",
    "    def get_balance(self):\n",
    "        return self.balance._bal"
   ]
  },
  {
   "cell_type": "code",
   "execution_count": null,
   "id": "a3cbb9e8",
   "metadata": {},
   "outputs": [],
   "source": [
    "a = Agreement('1234', 1000)"
   ]
  },
  {
   "cell_type": "code",
   "execution_count": null,
   "id": "c7a0061e",
   "metadata": {},
   "outputs": [],
   "source": [
    "a.__dict__"
   ]
  },
  {
   "cell_type": "code",
   "execution_count": null,
   "id": "fc779a27",
   "metadata": {},
   "outputs": [],
   "source": [
    "a.get_balance()"
   ]
  },
  {
   "cell_type": "code",
   "execution_count": null,
   "id": "f68685c9",
   "metadata": {},
   "outputs": [],
   "source": [
    "del a"
   ]
  },
  {
   "cell_type": "code",
   "execution_count": null,
   "id": "da9c6ed0",
   "metadata": {},
   "outputs": [],
   "source": [
    "a.get_balance()"
   ]
  },
  {
   "cell_type": "markdown",
   "id": "c498bc96",
   "metadata": {},
   "source": [
    "## 35.4. 의존 관계(Dependency)"
   ]
  },
  {
   "cell_type": "code",
   "execution_count": null,
   "id": "e9d61a21",
   "metadata": {},
   "outputs": [],
   "source": [
    "class Balance(object):\n",
    "    \n",
    "    def __init__(self, money=0):\n",
    "        self._bal = 0\n",
    "        \n",
    "    def get_balance(self):\n",
    "        return self._bal\n",
    "    \n",
    "    def set_balance(self, acc_no, money):\n",
    "        if not hasattr(self, '_acc_no'):\n",
    "            self._acc_no = acc_no\n",
    "        self._bal += money\n",
    "        \n",
    "    def __del__(self):\n",
    "        del self"
   ]
  },
  {
   "cell_type": "code",
   "execution_count": null,
   "id": "1423f528",
   "metadata": {},
   "outputs": [],
   "source": [
    "class Agreement(object):\n",
    "    \n",
    "    def __init__(self, acc_no, b, money):\n",
    "        self.acc_no = acc_no\n",
    "        self.set_balance(b, money)\n",
    "        \n",
    "    def get_balance(self, b):\n",
    "        return b.get_balance()\n",
    "    \n",
    "    def set_balance(self, b, money):\n",
    "        b.set_balance(self.acc_no, money)\n",
    "        \n",
    "    def __del__(self):\n",
    "        del self"
   ]
  },
  {
   "cell_type": "code",
   "execution_count": null,
   "id": "d5328229",
   "metadata": {},
   "outputs": [],
   "source": [
    "b = Balance()"
   ]
  },
  {
   "cell_type": "code",
   "execution_count": null,
   "id": "dc10192e",
   "metadata": {},
   "outputs": [],
   "source": [
    "a = Agreement('1234', b, 1000)"
   ]
  },
  {
   "cell_type": "code",
   "execution_count": null,
   "id": "02a2e3f9",
   "metadata": {},
   "outputs": [],
   "source": [
    "a.__dict__"
   ]
  },
  {
   "cell_type": "code",
   "execution_count": null,
   "id": "3412bc38",
   "metadata": {},
   "outputs": [],
   "source": [
    "b.__dict__"
   ]
  },
  {
   "cell_type": "code",
   "execution_count": null,
   "id": "b0b2833e",
   "metadata": {},
   "outputs": [],
   "source": [
    "a.get_balance(b)"
   ]
  },
  {
   "cell_type": "code",
   "execution_count": null,
   "id": "eee312a3",
   "metadata": {},
   "outputs": [],
   "source": [
    "del a"
   ]
  },
  {
   "cell_type": "code",
   "execution_count": null,
   "id": "a2d522de",
   "metadata": {},
   "outputs": [],
   "source": [
    "a.get_balance(b)"
   ]
  },
  {
   "cell_type": "code",
   "execution_count": null,
   "id": "aabc6076",
   "metadata": {},
   "outputs": [],
   "source": [
    "b.__dict__"
   ]
  },
  {
   "cell_type": "code",
   "execution_count": null,
   "id": "43eba259",
   "metadata": {},
   "outputs": [],
   "source": [
    "del b"
   ]
  },
  {
   "cell_type": "code",
   "execution_count": null,
   "id": "4bc71f81",
   "metadata": {},
   "outputs": [],
   "source": [
    "b"
   ]
  },
  {
   "cell_type": "markdown",
   "id": "fe1e1cfc",
   "metadata": {},
   "source": [
    "## 35.5. 옵저버(Observer) 패턴 알아보기"
   ]
  },
  {
   "cell_type": "code",
   "execution_count": null,
   "id": "f0032099",
   "metadata": {},
   "outputs": [],
   "source": [
    "from abc import ABC, abstractmethod"
   ]
  },
  {
   "cell_type": "code",
   "execution_count": null,
   "id": "5ffd9dac",
   "metadata": {},
   "outputs": [],
   "source": [
    "from random import randrange"
   ]
  },
  {
   "cell_type": "code",
   "execution_count": null,
   "id": "0483f333",
   "metadata": {},
   "outputs": [],
   "source": [
    "class StateMachine(ABC):\n",
    "    \n",
    "    @abstractmethod\n",
    "    def attach(self, observer):\n",
    "        pass\n",
    "    \n",
    "    @abstractmethod\n",
    "    def detach(self, observer):\n",
    "        pass\n",
    "    \n",
    "    @abstractmethod\n",
    "    def notify(self):\n",
    "        pass"
   ]
  },
  {
   "cell_type": "code",
   "execution_count": null,
   "id": "b8e3a51e",
   "metadata": {},
   "outputs": [],
   "source": [
    "class ConcreteStateMachine(StateMachine):\n",
    "    \n",
    "    _state = 0\n",
    "    _observers = []\n",
    "    \n",
    "    def attach(self, observer):\n",
    "        print('옵저버 등록')\n",
    "        self._observers.append(observer)\n",
    "        \n",
    "    def detach(self, observer):\n",
    "        print('옵저버 삭제')\n",
    "        self._observers.remove(observer)\n",
    "        \n",
    "    def notify(self):\n",
    "        print('등록된 옵저버에 통보...')\n",
    "        for observer in self._observers:\n",
    "            observer.update(self)\n",
    "            \n",
    "    def some_business_logic(self):\n",
    "        print('상태 변경하기')\n",
    "        self._state = randrange(0, 10)\n",
    "        \n",
    "        print(f'상태 값 확인하기: {self._state}')\n",
    "        self.notify()"
   ]
  },
  {
   "cell_type": "code",
   "execution_count": null,
   "id": "ff5e4f5e",
   "metadata": {},
   "outputs": [],
   "source": [
    "class Observer(ABC):\n",
    "    \n",
    "    @abstractmethod\n",
    "    def update(self, subject):\n",
    "        pass"
   ]
  },
  {
   "cell_type": "code",
   "execution_count": null,
   "id": "9455ff29",
   "metadata": {},
   "outputs": [],
   "source": [
    "class ConcreteObserverA(Observer):\n",
    "    def update(self, subject):\n",
    "        if subject._state <= 9:\n",
    "            print('관찰 상태 A: 이벤트 실행')\n",
    "            \n",
    "class ConcreteObserverB(Observer):\n",
    "    def update(self, subject):\n",
    "        if subject._state == 0 or subject._state >=2:\n",
    "            print('관찰 상태 B: 이벤트 실행')            "
   ]
  },
  {
   "cell_type": "code",
   "execution_count": null,
   "id": "b9fb637f",
   "metadata": {},
   "outputs": [],
   "source": [
    "state = ConcreteStateMachine()"
   ]
  },
  {
   "cell_type": "code",
   "execution_count": null,
   "id": "5cd02a32",
   "metadata": {},
   "outputs": [],
   "source": [
    "observer_a = ConcreteObserverA()\n",
    "state.attach(observer_a)"
   ]
  },
  {
   "cell_type": "code",
   "execution_count": null,
   "id": "a1460b9d",
   "metadata": {},
   "outputs": [],
   "source": [
    "observer_b = ConcreteObserverB()\n",
    "state.attach(observer_b)"
   ]
  },
  {
   "cell_type": "code",
   "execution_count": null,
   "id": "4c151bb3",
   "metadata": {},
   "outputs": [],
   "source": [
    "state.some_business_logic()"
   ]
  },
  {
   "cell_type": "code",
   "execution_count": null,
   "id": "b62685a2",
   "metadata": {},
   "outputs": [],
   "source": [
    "state.detach(observer_a)"
   ]
  },
  {
   "cell_type": "code",
   "execution_count": null,
   "id": "63501857",
   "metadata": {},
   "outputs": [],
   "source": [
    "state.some_business_logic()"
   ]
  }
 ],
 "metadata": {
  "kernelspec": {
   "display_name": "Python 3 (ipykernel)",
   "language": "python",
   "name": "python3"
  },
  "language_info": {
   "codemirror_mode": {
    "name": "ipython",
    "version": 3
   },
   "file_extension": ".py",
   "mimetype": "text/x-python",
   "name": "python",
   "nbconvert_exporter": "python",
   "pygments_lexer": "ipython3",
   "version": "3.8.12"
  }
 },
 "nbformat": 4,
 "nbformat_minor": 5
}
