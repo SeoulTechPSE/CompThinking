{
 "cells": [
  {
   "cell_type": "markdown",
   "id": "b09c9319",
   "metadata": {},
   "source": [
    "# 35 장. 객체의 사용 관계 이해하기"
   ]
  },
  {
   "cell_type": "markdown",
   "id": "0b781a1b",
   "metadata": {},
   "source": [
    "## 35.1. 사용 관계(Association)"
   ]
  },
  {
   "cell_type": "code",
   "execution_count": 1,
   "id": "3b3baad4",
   "metadata": {},
   "outputs": [],
   "source": [
    "class Master:\n",
    "    def __init__(self, name):\n",
    "        self._name = name\n",
    "        self.Name = Slave()\n",
    "        \n",
    "class Slave:\n",
    "    def get_name(self, other):\n",
    "        return other._name"
   ]
  },
  {
   "cell_type": "code",
   "execution_count": 2,
   "id": "e8089b38",
   "metadata": {},
   "outputs": [],
   "source": [
    "m = Master('고요한')"
   ]
  },
  {
   "cell_type": "code",
   "execution_count": 3,
   "id": "65ac4177",
   "metadata": {},
   "outputs": [
    {
     "data": {
      "text/plain": [
       "'고요한'"
      ]
     },
     "execution_count": 3,
     "metadata": {},
     "output_type": "execute_result"
    }
   ],
   "source": [
    "m.Name.get_name(m)"
   ]
  },
  {
   "cell_type": "markdown",
   "id": "53094be3",
   "metadata": {},
   "source": [
    "## 35.2. 결합 관계(Aggregation)"
   ]
  },
  {
   "cell_type": "code",
   "execution_count": 5,
   "id": "e16c5c64",
   "metadata": {},
   "outputs": [],
   "source": [
    "class Balance(object):\n",
    "    def __init__(self, account_code, money=0):\n",
    "        self.account_code = account_code\n",
    "        self.balance = money\n",
    "        \n",
    "    def set_balance(self, money):\n",
    "        self.balance += money"
   ]
  },
  {
   "cell_type": "code",
   "execution_count": 7,
   "id": "db5b78b4",
   "metadata": {},
   "outputs": [],
   "source": [
    "class Agreement(object):\n",
    "    def __init__(self, money, b):\n",
    "        self.acc_balance = money\n",
    "        self.b = b\n",
    "        self.b.set_balance(money)\n",
    "        \n",
    "    def __del__(self):\n",
    "        self.b.set_balance(-self.acc_balance)\n",
    "        del self"
   ]
  },
  {
   "cell_type": "code",
   "execution_count": 8,
   "id": "f7526c4d",
   "metadata": {},
   "outputs": [],
   "source": [
    "b = Balance('1234')"
   ]
  },
  {
   "cell_type": "code",
   "execution_count": 9,
   "id": "137861c4",
   "metadata": {},
   "outputs": [],
   "source": [
    "a = Agreement(100, b)"
   ]
  },
  {
   "cell_type": "code",
   "execution_count": 10,
   "id": "01909d71",
   "metadata": {},
   "outputs": [
    {
     "data": {
      "text/plain": [
       "{'acc_balance': 100, 'b': <__main__.Balance at 0x7f87b8282130>}"
      ]
     },
     "execution_count": 10,
     "metadata": {},
     "output_type": "execute_result"
    }
   ],
   "source": [
    "a.__dict__"
   ]
  },
  {
   "cell_type": "code",
   "execution_count": 11,
   "id": "7f89e20a",
   "metadata": {},
   "outputs": [
    {
     "data": {
      "text/plain": [
       "{'account_code': '1234', 'balance': 100}"
      ]
     },
     "execution_count": 11,
     "metadata": {},
     "output_type": "execute_result"
    }
   ],
   "source": [
    "b.__dict__"
   ]
  },
  {
   "cell_type": "code",
   "execution_count": 12,
   "id": "41a9e90d",
   "metadata": {},
   "outputs": [],
   "source": [
    "del a"
   ]
  },
  {
   "cell_type": "code",
   "execution_count": 13,
   "id": "a418a416",
   "metadata": {},
   "outputs": [
    {
     "data": {
      "text/plain": [
       "<__main__.Balance at 0x7f87b8282130>"
      ]
     },
     "execution_count": 13,
     "metadata": {},
     "output_type": "execute_result"
    }
   ],
   "source": [
    "b"
   ]
  },
  {
   "cell_type": "code",
   "execution_count": 14,
   "id": "bd8a52ed",
   "metadata": {},
   "outputs": [
    {
     "data": {
      "text/plain": [
       "{'account_code': '1234', 'balance': 0}"
      ]
     },
     "execution_count": 14,
     "metadata": {},
     "output_type": "execute_result"
    }
   ],
   "source": [
    "b.__dict__"
   ]
  },
  {
   "cell_type": "markdown",
   "id": "8851f481",
   "metadata": {},
   "source": [
    "## 35.3. 조합 관계(Composition)"
   ]
  },
  {
   "cell_type": "code",
   "execution_count": 25,
   "id": "eb814420",
   "metadata": {},
   "outputs": [],
   "source": [
    "class Balance(object):\n",
    "    def __init__(self, money=0):\n",
    "        self._bal = 0\n",
    "        self.set_balance(money)\n",
    "        \n",
    "    def set_balance(self, money):\n",
    "        self._bal += money"
   ]
  },
  {
   "cell_type": "code",
   "execution_count": 26,
   "id": "b489159b",
   "metadata": {},
   "outputs": [],
   "source": [
    "class Agreement(object):\n",
    "    def __init__(self, acc_no, money):\n",
    "        self.acc_no = acc_no\n",
    "        self.balance = Balance(money)\n",
    "        \n",
    "    def get_balance(self):\n",
    "        return self.balance._bal"
   ]
  },
  {
   "cell_type": "code",
   "execution_count": 27,
   "id": "d483438a",
   "metadata": {},
   "outputs": [],
   "source": [
    "a = Agreement('1234', 1000)"
   ]
  },
  {
   "cell_type": "code",
   "execution_count": 28,
   "id": "5171bae0",
   "metadata": {},
   "outputs": [
    {
     "data": {
      "text/plain": [
       "{'acc_no': '1234', 'balance': <__main__.Balance at 0x7f87d82b73a0>}"
      ]
     },
     "execution_count": 28,
     "metadata": {},
     "output_type": "execute_result"
    }
   ],
   "source": [
    "a.__dict__"
   ]
  },
  {
   "cell_type": "code",
   "execution_count": 29,
   "id": "ce8c754b",
   "metadata": {},
   "outputs": [
    {
     "data": {
      "text/plain": [
       "1000"
      ]
     },
     "execution_count": 29,
     "metadata": {},
     "output_type": "execute_result"
    }
   ],
   "source": [
    "a.get_balance()"
   ]
  },
  {
   "cell_type": "code",
   "execution_count": 30,
   "id": "ac86061b",
   "metadata": {},
   "outputs": [],
   "source": [
    "del a"
   ]
  },
  {
   "cell_type": "code",
   "execution_count": 31,
   "id": "73f7a361",
   "metadata": {},
   "outputs": [
    {
     "ename": "NameError",
     "evalue": "name 'a' is not defined",
     "output_type": "error",
     "traceback": [
      "\u001b[0;31m---------------------------------------------------------------------------\u001b[0m",
      "\u001b[0;31mNameError\u001b[0m                                 Traceback (most recent call last)",
      "Input \u001b[0;32mIn [31]\u001b[0m, in \u001b[0;36m<cell line: 1>\u001b[0;34m()\u001b[0m\n\u001b[0;32m----> 1\u001b[0m \u001b[43ma\u001b[49m\u001b[38;5;241m.\u001b[39mget_balance()\n",
      "\u001b[0;31mNameError\u001b[0m: name 'a' is not defined"
     ]
    }
   ],
   "source": [
    "a.get_balance()"
   ]
  },
  {
   "cell_type": "markdown",
   "id": "3a9711d6",
   "metadata": {},
   "source": [
    "## 35.4. 의존 관계(Dependency)"
   ]
  },
  {
   "cell_type": "code",
   "execution_count": 38,
   "id": "9b18f996",
   "metadata": {},
   "outputs": [],
   "source": [
    "class Balance(object):\n",
    "    \n",
    "    def __init__(self, money=0):\n",
    "        self._bal = 0\n",
    "        \n",
    "    def get_balance(self):\n",
    "        return self._bal\n",
    "    \n",
    "    def set_balance(self, acc_no, money):\n",
    "        if not hasattr(self, '_acc_no'):\n",
    "            self._acc_no = acc_no\n",
    "        self._bal += money\n",
    "        \n",
    "    def __del__(self):\n",
    "        del self"
   ]
  },
  {
   "cell_type": "code",
   "execution_count": 39,
   "id": "c2257fed",
   "metadata": {},
   "outputs": [],
   "source": [
    "class Agreement(object):\n",
    "    \n",
    "    def __init__(self, acc_no, b, money):\n",
    "        self.acc_no = acc_no\n",
    "        self.set_balance(b, money)\n",
    "        \n",
    "    def get_balance(self, b):\n",
    "        return b.get_balance()\n",
    "    \n",
    "    def set_balance(self, b, money):\n",
    "        b.set_balance(self.acc_no, money)\n",
    "        \n",
    "    def __del__(self):\n",
    "        del self"
   ]
  },
  {
   "cell_type": "code",
   "execution_count": 40,
   "id": "a20ef0e5",
   "metadata": {},
   "outputs": [],
   "source": [
    "b = Balance()"
   ]
  },
  {
   "cell_type": "code",
   "execution_count": 41,
   "id": "2421cdd7",
   "metadata": {},
   "outputs": [],
   "source": [
    "a = Agreement('1234', b, 1000)"
   ]
  },
  {
   "cell_type": "code",
   "execution_count": 42,
   "id": "be809a86",
   "metadata": {},
   "outputs": [
    {
     "data": {
      "text/plain": [
       "{'acc_no': '1234'}"
      ]
     },
     "execution_count": 42,
     "metadata": {},
     "output_type": "execute_result"
    }
   ],
   "source": [
    "a.__dict__"
   ]
  },
  {
   "cell_type": "code",
   "execution_count": 43,
   "id": "ff43e1fa",
   "metadata": {},
   "outputs": [
    {
     "data": {
      "text/plain": [
       "{'_bal': 1000, '_acc_no': '1234'}"
      ]
     },
     "execution_count": 43,
     "metadata": {},
     "output_type": "execute_result"
    }
   ],
   "source": [
    "b.__dict__"
   ]
  },
  {
   "cell_type": "code",
   "execution_count": 45,
   "id": "17265dbe",
   "metadata": {},
   "outputs": [
    {
     "data": {
      "text/plain": [
       "1000"
      ]
     },
     "execution_count": 45,
     "metadata": {},
     "output_type": "execute_result"
    }
   ],
   "source": [
    "a.get_balance(b)"
   ]
  },
  {
   "cell_type": "code",
   "execution_count": 46,
   "id": "ac9aa440",
   "metadata": {},
   "outputs": [],
   "source": [
    "del a"
   ]
  },
  {
   "cell_type": "code",
   "execution_count": 48,
   "id": "d724b492",
   "metadata": {},
   "outputs": [
    {
     "ename": "NameError",
     "evalue": "name 'a' is not defined",
     "output_type": "error",
     "traceback": [
      "\u001b[0;31m---------------------------------------------------------------------------\u001b[0m",
      "\u001b[0;31mNameError\u001b[0m                                 Traceback (most recent call last)",
      "Input \u001b[0;32mIn [48]\u001b[0m, in \u001b[0;36m<cell line: 1>\u001b[0;34m()\u001b[0m\n\u001b[0;32m----> 1\u001b[0m \u001b[43ma\u001b[49m\u001b[38;5;241m.\u001b[39mget_balance(b)\n",
      "\u001b[0;31mNameError\u001b[0m: name 'a' is not defined"
     ]
    }
   ],
   "source": [
    "a.get_balance(b)"
   ]
  },
  {
   "cell_type": "code",
   "execution_count": 49,
   "id": "a25ab599",
   "metadata": {},
   "outputs": [
    {
     "data": {
      "text/plain": [
       "{'_bal': 1000, '_acc_no': '1234'}"
      ]
     },
     "execution_count": 49,
     "metadata": {},
     "output_type": "execute_result"
    }
   ],
   "source": [
    "b.__dict__"
   ]
  },
  {
   "cell_type": "code",
   "execution_count": 50,
   "id": "713f69cc",
   "metadata": {},
   "outputs": [],
   "source": [
    "del b"
   ]
  },
  {
   "cell_type": "code",
   "execution_count": 51,
   "id": "5e0c49dc",
   "metadata": {},
   "outputs": [
    {
     "ename": "NameError",
     "evalue": "name 'b' is not defined",
     "output_type": "error",
     "traceback": [
      "\u001b[0;31m---------------------------------------------------------------------------\u001b[0m",
      "\u001b[0;31mNameError\u001b[0m                                 Traceback (most recent call last)",
      "Input \u001b[0;32mIn [51]\u001b[0m, in \u001b[0;36m<cell line: 1>\u001b[0;34m()\u001b[0m\n\u001b[0;32m----> 1\u001b[0m \u001b[43mb\u001b[49m\n",
      "\u001b[0;31mNameError\u001b[0m: name 'b' is not defined"
     ]
    }
   ],
   "source": [
    "b"
   ]
  },
  {
   "cell_type": "markdown",
   "id": "5deb00ae",
   "metadata": {},
   "source": [
    "## 35.5. 옵저버(Observer) 패턴 알아보기"
   ]
  },
  {
   "cell_type": "code",
   "execution_count": 52,
   "id": "187da377",
   "metadata": {},
   "outputs": [],
   "source": [
    "from abc import ABC, abstractmethod"
   ]
  },
  {
   "cell_type": "code",
   "execution_count": 53,
   "id": "09009314",
   "metadata": {},
   "outputs": [],
   "source": [
    "from random import randrange"
   ]
  },
  {
   "cell_type": "code",
   "execution_count": 56,
   "id": "d86944bf",
   "metadata": {},
   "outputs": [],
   "source": [
    "class StateMachine(ABC):\n",
    "    \n",
    "    @abstractmethod\n",
    "    def attach(self, observer):\n",
    "        pass\n",
    "    \n",
    "    @abstractmethod\n",
    "    def detach(self, observer):\n",
    "        pass\n",
    "    \n",
    "    @abstractmethod\n",
    "    def notify(self):\n",
    "        pass"
   ]
  },
  {
   "cell_type": "code",
   "execution_count": null,
   "id": "88371eb1",
   "metadata": {},
   "outputs": [],
   "source": []
  }
 ],
 "metadata": {
  "kernelspec": {
   "display_name": "Python 3 (ipykernel)",
   "language": "python",
   "name": "python3"
  },
  "language_info": {
   "codemirror_mode": {
    "name": "ipython",
    "version": 3
   },
   "file_extension": ".py",
   "mimetype": "text/x-python",
   "name": "python",
   "nbconvert_exporter": "python",
   "pygments_lexer": "ipython3",
   "version": "3.8.12"
  }
 },
 "nbformat": 4,
 "nbformat_minor": 5
}
