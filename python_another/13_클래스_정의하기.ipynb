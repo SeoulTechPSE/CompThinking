{
 "cells": [
  {
   "cell_type": "markdown",
   "id": "7bf15901",
   "metadata": {},
   "source": [
    "# 13 장. 클래스 정의하기"
   ]
  },
  {
   "cell_type": "markdown",
   "id": "0949b19c",
   "metadata": {},
   "source": [
    "## 13.1. 객체를 생성하는 클래스를 정의하는 문장"
   ]
  },
  {
   "cell_type": "code",
   "execution_count": null,
   "id": "10eee487",
   "metadata": {},
   "outputs": [],
   "source": [
    "class Person(object):\n",
    "    pass"
   ]
  },
  {
   "cell_type": "code",
   "execution_count": null,
   "id": "863df788",
   "metadata": {},
   "outputs": [],
   "source": [
    "p = Person()"
   ]
  },
  {
   "cell_type": "code",
   "execution_count": null,
   "id": "1bbd5902",
   "metadata": {},
   "outputs": [],
   "source": [
    "p.__class__"
   ]
  },
  {
   "cell_type": "code",
   "execution_count": null,
   "id": "ab07a32a",
   "metadata": {},
   "outputs": [],
   "source": [
    "Person.__dict__"
   ]
  },
  {
   "cell_type": "code",
   "execution_count": null,
   "id": "20ac487f",
   "metadata": {},
   "outputs": [],
   "source": [
    "Person.__name__"
   ]
  },
  {
   "cell_type": "markdown",
   "id": "b00c30e8",
   "metadata": {},
   "source": [
    "## 13.2. 객체의 속성과 인스턴스 메소드 추가"
   ]
  },
  {
   "cell_type": "code",
   "execution_count": null,
   "id": "853a03ac",
   "metadata": {},
   "outputs": [],
   "source": [
    "class Klass(object):\n",
    "    def __init__(self, name):\n",
    "        self.name = name\n",
    "        \n",
    "    def getName(self):\n",
    "        return self.name\n",
    "    \n",
    "    def setName(self, name):\n",
    "        self.name = name          "
   ]
  },
  {
   "cell_type": "code",
   "execution_count": null,
   "id": "fb0442d7",
   "metadata": {},
   "outputs": [],
   "source": [
    "k = Klass('inha')"
   ]
  },
  {
   "cell_type": "code",
   "execution_count": null,
   "id": "1a6f1d8a",
   "metadata": {},
   "outputs": [],
   "source": [
    "k.__dict__"
   ]
  },
  {
   "cell_type": "code",
   "execution_count": null,
   "id": "0593f95c",
   "metadata": {},
   "outputs": [],
   "source": [
    "Klass.__dict__"
   ]
  },
  {
   "cell_type": "code",
   "execution_count": null,
   "id": "ff30aaa1",
   "metadata": {},
   "outputs": [],
   "source": [
    "k.getName"
   ]
  },
  {
   "cell_type": "code",
   "execution_count": null,
   "id": "c7bd6531",
   "metadata": {},
   "outputs": [],
   "source": [
    "k.getName()"
   ]
  },
  {
   "cell_type": "code",
   "execution_count": null,
   "id": "faceeb6d",
   "metadata": {},
   "outputs": [],
   "source": [
    "k.name"
   ]
  },
  {
   "cell_type": "code",
   "execution_count": null,
   "id": "aab9e108",
   "metadata": {},
   "outputs": [],
   "source": [
    "k.setName('inkyu')"
   ]
  },
  {
   "cell_type": "code",
   "execution_count": null,
   "id": "dd8e13e5",
   "metadata": {},
   "outputs": [],
   "source": [
    "k.name"
   ]
  },
  {
   "cell_type": "markdown",
   "id": "bff20196",
   "metadata": {},
   "source": [
    "## 13.3. 클래스 내부의 클래스 속성 정의하기"
   ]
  },
  {
   "cell_type": "code",
   "execution_count": null,
   "id": "e8fb3a42",
   "metadata": {},
   "outputs": [],
   "source": [
    "class Klass(object):\n",
    "    \n",
    "    name = 'Klass attr'\n",
    "    def __init__(self, name):\n",
    "        self.name = name\n",
    "        \n",
    "    def getName(self):\n",
    "        return self.name\n",
    "    \n",
    "    def setName(self, name):\n",
    "        self.name = name"
   ]
  },
  {
   "cell_type": "code",
   "execution_count": null,
   "id": "0a42f3b0",
   "metadata": {},
   "outputs": [],
   "source": [
    "k = Klass('inha')"
   ]
  },
  {
   "cell_type": "code",
   "execution_count": null,
   "id": "f32edf80",
   "metadata": {},
   "outputs": [],
   "source": [
    "k.__dict__"
   ]
  },
  {
   "cell_type": "code",
   "execution_count": null,
   "id": "fc6ef301",
   "metadata": {},
   "outputs": [],
   "source": [
    "Klass.__dict__"
   ]
  },
  {
   "cell_type": "code",
   "execution_count": null,
   "id": "900e2bfe",
   "metadata": {},
   "outputs": [],
   "source": [
    "Klass.name"
   ]
  },
  {
   "cell_type": "code",
   "execution_count": null,
   "id": "9365c6ac",
   "metadata": {},
   "outputs": [],
   "source": [
    "k.name"
   ]
  },
  {
   "cell_type": "markdown",
   "id": "8f27066d",
   "metadata": {},
   "source": [
    "## 13.4. 콜러블(callable) 알아보기"
   ]
  },
  {
   "cell_type": "code",
   "execution_count": null,
   "id": "8c3e114e",
   "metadata": {},
   "outputs": [],
   "source": [
    "import collections.abc as abc"
   ]
  },
  {
   "cell_type": "code",
   "execution_count": null,
   "id": "4e3e39df",
   "metadata": {},
   "outputs": [],
   "source": [
    "abc.Callable"
   ]
  },
  {
   "cell_type": "code",
   "execution_count": null,
   "id": "e38d97d8",
   "metadata": {},
   "outputs": [],
   "source": [
    "abc.Callable.__abstractmethods__"
   ]
  },
  {
   "cell_type": "code",
   "execution_count": null,
   "id": "aff11475",
   "metadata": {},
   "outputs": [],
   "source": [
    "sum"
   ]
  },
  {
   "cell_type": "code",
   "execution_count": null,
   "id": "f9d149cb",
   "metadata": {},
   "outputs": [],
   "source": [
    "isinstance(sum, abc.Callable)"
   ]
  },
  {
   "cell_type": "code",
   "execution_count": null,
   "id": "57008d64",
   "metadata": {},
   "outputs": [],
   "source": [
    "issubclass(type(sum), abc.Callable)"
   ]
  },
  {
   "cell_type": "code",
   "execution_count": null,
   "id": "a267ab40",
   "metadata": {},
   "outputs": [],
   "source": [
    "callable(map)"
   ]
  },
  {
   "cell_type": "code",
   "execution_count": null,
   "id": "7d8c738d",
   "metadata": {},
   "outputs": [],
   "source": [
    "callable(int)"
   ]
  },
  {
   "cell_type": "code",
   "execution_count": null,
   "id": "647a98a8",
   "metadata": {},
   "outputs": [],
   "source": [
    "callable(1)"
   ]
  },
  {
   "cell_type": "code",
   "execution_count": null,
   "id": "e12c00f8",
   "metadata": {},
   "outputs": [],
   "source": [
    "callable(type)"
   ]
  },
  {
   "cell_type": "code",
   "execution_count": null,
   "id": "ff32bd41",
   "metadata": {},
   "outputs": [],
   "source": [
    "callable(object)"
   ]
  }
 ],
 "metadata": {
  "kernelspec": {
   "display_name": "Python 3 (ipykernel)",
   "language": "python",
   "name": "python3"
  },
  "language_info": {
   "codemirror_mode": {
    "name": "ipython",
    "version": 3
   },
   "file_extension": ".py",
   "mimetype": "text/x-python",
   "name": "python",
   "nbconvert_exporter": "python",
   "pygments_lexer": "ipython3",
   "version": "3.8.12"
  }
 },
 "nbformat": 4,
 "nbformat_minor": 5
}
