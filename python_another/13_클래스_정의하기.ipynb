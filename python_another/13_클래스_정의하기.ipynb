{
 "cells": [
  {
   "cell_type": "markdown",
   "id": "b083370a",
   "metadata": {},
   "source": [
    "# 13 장. 클래스 정의하기"
   ]
  },
  {
   "cell_type": "markdown",
   "id": "8fc6b42e",
   "metadata": {},
   "source": [
    "## 13.1. 객체를 생성하는 클래스를 정의하는 문장"
   ]
  },
  {
   "cell_type": "code",
   "execution_count": 1,
   "id": "52149858",
   "metadata": {},
   "outputs": [],
   "source": [
    "class Person(object):\n",
    "    pass"
   ]
  },
  {
   "cell_type": "code",
   "execution_count": 2,
   "id": "d2ad3761",
   "metadata": {},
   "outputs": [],
   "source": [
    "p = Person()"
   ]
  },
  {
   "cell_type": "code",
   "execution_count": 3,
   "id": "bf22cb59",
   "metadata": {},
   "outputs": [
    {
     "data": {
      "text/plain": [
       "__main__.Person"
      ]
     },
     "execution_count": 3,
     "metadata": {},
     "output_type": "execute_result"
    }
   ],
   "source": [
    "p.__class__"
   ]
  },
  {
   "cell_type": "code",
   "execution_count": 4,
   "id": "f42e4dbc",
   "metadata": {},
   "outputs": [
    {
     "data": {
      "text/plain": [
       "mappingproxy({'__module__': '__main__',\n",
       "              '__dict__': <attribute '__dict__' of 'Person' objects>,\n",
       "              '__weakref__': <attribute '__weakref__' of 'Person' objects>,\n",
       "              '__doc__': None})"
      ]
     },
     "execution_count": 4,
     "metadata": {},
     "output_type": "execute_result"
    }
   ],
   "source": [
    "Person.__dict__"
   ]
  },
  {
   "cell_type": "code",
   "execution_count": 5,
   "id": "b1f4dced",
   "metadata": {},
   "outputs": [
    {
     "data": {
      "text/plain": [
       "'Person'"
      ]
     },
     "execution_count": 5,
     "metadata": {},
     "output_type": "execute_result"
    }
   ],
   "source": [
    "Person.__name__"
   ]
  },
  {
   "cell_type": "markdown",
   "id": "9b3b13ad",
   "metadata": {},
   "source": [
    "## 13.1. 객체의 속성과 인스턴스 메소드 추가"
   ]
  },
  {
   "cell_type": "code",
   "execution_count": 7,
   "id": "1d3fd121",
   "metadata": {},
   "outputs": [],
   "source": [
    "class Klass(object):\n",
    "    def __init__(self, name):\n",
    "        self.name = name\n",
    "        \n",
    "    def getName(self):\n",
    "        return self.name\n",
    "    \n",
    "    def setName(self, name):\n",
    "        self.name = name          "
   ]
  },
  {
   "cell_type": "code",
   "execution_count": 8,
   "id": "7a814ced",
   "metadata": {},
   "outputs": [],
   "source": [
    "k = Klass('inha')"
   ]
  },
  {
   "cell_type": "code",
   "execution_count": 9,
   "id": "501c23ac",
   "metadata": {},
   "outputs": [
    {
     "data": {
      "text/plain": [
       "{'name': 'inha'}"
      ]
     },
     "execution_count": 9,
     "metadata": {},
     "output_type": "execute_result"
    }
   ],
   "source": [
    "k.__dict__"
   ]
  },
  {
   "cell_type": "code",
   "execution_count": 10,
   "id": "b4cf6c2d",
   "metadata": {},
   "outputs": [
    {
     "data": {
      "text/plain": [
       "mappingproxy({'__module__': '__main__',\n",
       "              '__init__': <function __main__.Klass.__init__(self, name)>,\n",
       "              'getName': <function __main__.Klass.getName(self)>,\n",
       "              'setName': <function __main__.Klass.setName(self, name)>,\n",
       "              '__dict__': <attribute '__dict__' of 'Klass' objects>,\n",
       "              '__weakref__': <attribute '__weakref__' of 'Klass' objects>,\n",
       "              '__doc__': None})"
      ]
     },
     "execution_count": 10,
     "metadata": {},
     "output_type": "execute_result"
    }
   ],
   "source": [
    "Klass.__dict__"
   ]
  },
  {
   "cell_type": "code",
   "execution_count": 12,
   "id": "503eabaf",
   "metadata": {},
   "outputs": [
    {
     "data": {
      "text/plain": [
       "<bound method Klass.getName of <__main__.Klass object at 0x7fb68084cac0>>"
      ]
     },
     "execution_count": 12,
     "metadata": {},
     "output_type": "execute_result"
    }
   ],
   "source": [
    "k.getName"
   ]
  },
  {
   "cell_type": "code",
   "execution_count": 11,
   "id": "81b936a9",
   "metadata": {},
   "outputs": [
    {
     "data": {
      "text/plain": [
       "'inha'"
      ]
     },
     "execution_count": 11,
     "metadata": {},
     "output_type": "execute_result"
    }
   ],
   "source": [
    "k.getName()"
   ]
  },
  {
   "cell_type": "code",
   "execution_count": 13,
   "id": "93d8895b",
   "metadata": {},
   "outputs": [
    {
     "data": {
      "text/plain": [
       "'inha'"
      ]
     },
     "execution_count": 13,
     "metadata": {},
     "output_type": "execute_result"
    }
   ],
   "source": [
    "k.name"
   ]
  },
  {
   "cell_type": "code",
   "execution_count": 14,
   "id": "457a6a35",
   "metadata": {},
   "outputs": [],
   "source": [
    "k.setName('inkyu')"
   ]
  },
  {
   "cell_type": "code",
   "execution_count": 15,
   "id": "abce3f6c",
   "metadata": {},
   "outputs": [
    {
     "data": {
      "text/plain": [
       "'inkyu'"
      ]
     },
     "execution_count": 15,
     "metadata": {},
     "output_type": "execute_result"
    }
   ],
   "source": [
    "k.name"
   ]
  },
  {
   "cell_type": "markdown",
   "id": "bb4ba005",
   "metadata": {},
   "source": [
    "## 13.3. 클래스 내부의 클래스 속성 정의하기"
   ]
  },
  {
   "cell_type": "code",
   "execution_count": 16,
   "id": "2800035f",
   "metadata": {},
   "outputs": [],
   "source": [
    "class Klass(object):\n",
    "    \n",
    "    name = 'Klass attr'\n",
    "    def __init__(self, name):\n",
    "        self.name = name\n",
    "        \n",
    "    def getName(self):\n",
    "        return self.name\n",
    "    \n",
    "    def setName(self, name):\n",
    "        self.name = name"
   ]
  },
  {
   "cell_type": "code",
   "execution_count": 17,
   "id": "e1da837e",
   "metadata": {},
   "outputs": [],
   "source": [
    "k = Klass('inha')"
   ]
  },
  {
   "cell_type": "code",
   "execution_count": 18,
   "id": "061187ac",
   "metadata": {},
   "outputs": [
    {
     "data": {
      "text/plain": [
       "{'name': 'inha'}"
      ]
     },
     "execution_count": 18,
     "metadata": {},
     "output_type": "execute_result"
    }
   ],
   "source": [
    "k.__dict__"
   ]
  },
  {
   "cell_type": "code",
   "execution_count": 19,
   "id": "8ea1df3b",
   "metadata": {},
   "outputs": [
    {
     "data": {
      "text/plain": [
       "mappingproxy({'__module__': '__main__',\n",
       "              'name': 'Klass attr',\n",
       "              '__init__': <function __main__.Klass.__init__(self, name)>,\n",
       "              'getName': <function __main__.Klass.getName(self)>,\n",
       "              'setName': <function __main__.Klass.setName(self, name)>,\n",
       "              '__dict__': <attribute '__dict__' of 'Klass' objects>,\n",
       "              '__weakref__': <attribute '__weakref__' of 'Klass' objects>,\n",
       "              '__doc__': None})"
      ]
     },
     "execution_count": 19,
     "metadata": {},
     "output_type": "execute_result"
    }
   ],
   "source": [
    "Klass.__dict__"
   ]
  },
  {
   "cell_type": "code",
   "execution_count": 20,
   "id": "3aab4e52",
   "metadata": {},
   "outputs": [
    {
     "data": {
      "text/plain": [
       "'Klass attr'"
      ]
     },
     "execution_count": 20,
     "metadata": {},
     "output_type": "execute_result"
    }
   ],
   "source": [
    "Klass.name"
   ]
  },
  {
   "cell_type": "code",
   "execution_count": 21,
   "id": "b83aece7",
   "metadata": {},
   "outputs": [
    {
     "data": {
      "text/plain": [
       "'inha'"
      ]
     },
     "execution_count": 21,
     "metadata": {},
     "output_type": "execute_result"
    }
   ],
   "source": [
    "k.name"
   ]
  },
  {
   "cell_type": "markdown",
   "id": "629c105b",
   "metadata": {},
   "source": [
    "## 13.4. 콜러블(callable) 알아보기"
   ]
  },
  {
   "cell_type": "code",
   "execution_count": 22,
   "id": "6b8ec9c7",
   "metadata": {},
   "outputs": [],
   "source": [
    "import collections.abc as abc"
   ]
  },
  {
   "cell_type": "code",
   "execution_count": 23,
   "id": "abaedafe",
   "metadata": {},
   "outputs": [
    {
     "data": {
      "text/plain": [
       "collections.abc.Callable"
      ]
     },
     "execution_count": 23,
     "metadata": {},
     "output_type": "execute_result"
    }
   ],
   "source": [
    "abc.Callable"
   ]
  },
  {
   "cell_type": "code",
   "execution_count": 24,
   "id": "767b7a7b",
   "metadata": {},
   "outputs": [
    {
     "data": {
      "text/plain": [
       "frozenset({'__call__'})"
      ]
     },
     "execution_count": 24,
     "metadata": {},
     "output_type": "execute_result"
    }
   ],
   "source": [
    "abc.Callable.__abstractmethods__"
   ]
  },
  {
   "cell_type": "code",
   "execution_count": null,
   "id": "e4405f0a",
   "metadata": {},
   "outputs": [],
   "source": []
  }
 ],
 "metadata": {
  "kernelspec": {
   "display_name": "Python 3 (ipykernel)",
   "language": "python",
   "name": "python3"
  },
  "language_info": {
   "codemirror_mode": {
    "name": "ipython",
    "version": 3
   },
   "file_extension": ".py",
   "mimetype": "text/x-python",
   "name": "python",
   "nbconvert_exporter": "python",
   "pygments_lexer": "ipython3",
   "version": "3.8.12"
  }
 },
 "nbformat": 4,
 "nbformat_minor": 5
}
