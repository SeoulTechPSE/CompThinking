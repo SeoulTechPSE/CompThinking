{
 "cells": [
  {
   "cell_type": "markdown",
   "id": "1c30f1c6",
   "metadata": {},
   "source": [
    "# 33 장. 스페셜 메소드 알아보기"
   ]
  },
  {
   "cell_type": "markdown",
   "id": "935d06cb",
   "metadata": {},
   "source": [
    "## 33.1. 수학 연산자"
   ]
  },
  {
   "cell_type": "code",
   "execution_count": 1,
   "id": "50c010e6",
   "metadata": {},
   "outputs": [],
   "source": [
    "import operator as op"
   ]
  },
  {
   "cell_type": "code",
   "execution_count": 2,
   "id": "81000647",
   "metadata": {},
   "outputs": [
    {
     "name": "stdout",
     "output_type": "stream",
     "text": [
      "__abs__             __add__             __and__             __eq__              __floordiv__        \n",
      "__ge__              __gt__              __invert__          __le__              __lshift__          \n",
      "__lt__              __mod__             __mul__             __ne__              __neg__             \n",
      "__or__              __pos__             __pow__             __rshift__          __sub__             \n",
      "__truediv__         __xor__             "
     ]
    }
   ],
   "source": [
    "count = 0\n",
    "for i in dir(int):\n",
    "    if i in dir(op):\n",
    "        if i not in ['__doc__', '__index__']:\n",
    "            count += 1\n",
    "            print(f'{i:20}',end='')\n",
    "            if not (count % 5): print()"
   ]
  },
  {
   "cell_type": "code",
   "execution_count": 3,
   "id": "c15c5be6",
   "metadata": {},
   "outputs": [
    {
     "data": {
      "text/plain": [
       "(105, 95, 500)"
      ]
     },
     "execution_count": 3,
     "metadata": {},
     "output_type": "execute_result"
    }
   ],
   "source": [
    "100 + 5, 100 - 5, 100 * 5"
   ]
  },
  {
   "cell_type": "code",
   "execution_count": 4,
   "id": "1cf154df",
   "metadata": {},
   "outputs": [
    {
     "data": {
      "text/plain": [
       "(105, 95, 500)"
      ]
     },
     "execution_count": 4,
     "metadata": {},
     "output_type": "execute_result"
    }
   ],
   "source": [
    "(100).__add__(5), (100).__sub__(5), (100).__mul__(5)"
   ]
  },
  {
   "cell_type": "markdown",
   "id": "2da36f33",
   "metadata": {},
   "source": [
    "---"
   ]
  },
  {
   "cell_type": "code",
   "execution_count": 5,
   "id": "dda8f820",
   "metadata": {},
   "outputs": [
    {
     "data": {
      "text/plain": [
       "(20, 20.0)"
      ]
     },
     "execution_count": 5,
     "metadata": {},
     "output_type": "execute_result"
    }
   ],
   "source": [
    "100 // 5, 100 / 5"
   ]
  },
  {
   "cell_type": "code",
   "execution_count": 6,
   "id": "7920926e",
   "metadata": {},
   "outputs": [
    {
     "data": {
      "text/plain": [
       "(20, 20.0)"
      ]
     },
     "execution_count": 6,
     "metadata": {},
     "output_type": "execute_result"
    }
   ],
   "source": [
    "(100).__floordiv__(5), (100).__truediv__(5)"
   ]
  },
  {
   "cell_type": "markdown",
   "id": "3df6dd37",
   "metadata": {},
   "source": [
    "---"
   ]
  },
  {
   "cell_type": "code",
   "execution_count": 7,
   "id": "e3f2761a",
   "metadata": {},
   "outputs": [
    {
     "data": {
      "text/plain": [
       "(0, 10000)"
      ]
     },
     "execution_count": 7,
     "metadata": {},
     "output_type": "execute_result"
    }
   ],
   "source": [
    "100 % 5, 100**2"
   ]
  },
  {
   "cell_type": "code",
   "execution_count": 8,
   "id": "2ff634fe",
   "metadata": {},
   "outputs": [
    {
     "data": {
      "text/plain": [
       "(0, 10000)"
      ]
     },
     "execution_count": 8,
     "metadata": {},
     "output_type": "execute_result"
    }
   ],
   "source": [
    "(100).__mod__(5), (100).__pow__(2)"
   ]
  },
  {
   "cell_type": "markdown",
   "id": "149e7e20",
   "metadata": {},
   "source": [
    "---"
   ]
  },
  {
   "cell_type": "code",
   "execution_count": 9,
   "id": "11a6ecbf",
   "metadata": {},
   "outputs": [
    {
     "data": {
      "text/plain": [
       "(-100, -100, 100)"
      ]
     },
     "execution_count": 9,
     "metadata": {},
     "output_type": "execute_result"
    }
   ],
   "source": [
    "-100, +(-100), abs(-100)"
   ]
  },
  {
   "cell_type": "code",
   "execution_count": 10,
   "id": "e61e0c7a",
   "metadata": {},
   "outputs": [
    {
     "data": {
      "text/plain": [
       "(-100, -100, 100)"
      ]
     },
     "execution_count": 10,
     "metadata": {},
     "output_type": "execute_result"
    }
   ],
   "source": [
    "(100).__neg__(), (-100).__pos__(), (-100).__abs__()"
   ]
  },
  {
   "cell_type": "markdown",
   "id": "630a157c",
   "metadata": {},
   "source": [
    "---"
   ]
  },
  {
   "cell_type": "code",
   "execution_count": 11,
   "id": "85a444e9",
   "metadata": {},
   "outputs": [
    {
     "data": {
      "text/plain": [
       "(True, False)"
      ]
     },
     "execution_count": 11,
     "metadata": {},
     "output_type": "execute_result"
    }
   ],
   "source": [
    "100 > 5, 100 < 5"
   ]
  },
  {
   "cell_type": "code",
   "execution_count": 12,
   "id": "9e70c573",
   "metadata": {},
   "outputs": [
    {
     "data": {
      "text/plain": [
       "(True, False)"
      ]
     },
     "execution_count": 12,
     "metadata": {},
     "output_type": "execute_result"
    }
   ],
   "source": [
    "(100).__gt__(5), (100).__lt__(5)"
   ]
  },
  {
   "cell_type": "code",
   "execution_count": 13,
   "id": "0c2c287f",
   "metadata": {},
   "outputs": [
    {
     "data": {
      "text/plain": [
       "(False, True, False, True)"
      ]
     },
     "execution_count": 13,
     "metadata": {},
     "output_type": "execute_result"
    }
   ],
   "source": [
    "100 == 5, 100 >= 5, 100 <= 5, 100 != 5"
   ]
  },
  {
   "cell_type": "code",
   "execution_count": 14,
   "id": "c479f0b5",
   "metadata": {},
   "outputs": [
    {
     "data": {
      "text/plain": [
       "(False, True, False, True)"
      ]
     },
     "execution_count": 14,
     "metadata": {},
     "output_type": "execute_result"
    }
   ],
   "source": [
    "(100).__eq__(5), (100).__ge__(5), (100).__le__(5), (100).__ne__(5)"
   ]
  },
  {
   "cell_type": "markdown",
   "id": "ba53e36f",
   "metadata": {},
   "source": [
    "---"
   ]
  },
  {
   "cell_type": "code",
   "execution_count": 15,
   "id": "54dabb6f",
   "metadata": {},
   "outputs": [
    {
     "data": {
      "text/plain": [
       "(True, True)"
      ]
     },
     "execution_count": 15,
     "metadata": {},
     "output_type": "execute_result"
    }
   ],
   "source": [
    "(100 > 5) and (200 > 5), (100 > 5) & (200 > 5)"
   ]
  },
  {
   "cell_type": "code",
   "execution_count": 16,
   "id": "1c745716",
   "metadata": {},
   "outputs": [
    {
     "data": {
      "text/plain": [
       "True"
      ]
     },
     "execution_count": 16,
     "metadata": {},
     "output_type": "execute_result"
    }
   ],
   "source": [
    "(100 > 5).__and__(200 > 5)"
   ]
  },
  {
   "cell_type": "code",
   "execution_count": 17,
   "id": "b85d7db7",
   "metadata": {},
   "outputs": [
    {
     "data": {
      "text/plain": [
       "(True, True)"
      ]
     },
     "execution_count": 17,
     "metadata": {},
     "output_type": "execute_result"
    }
   ],
   "source": [
    "(100 < 5) or (200 > 5), (100 < 5) | (200 > 5)"
   ]
  },
  {
   "cell_type": "code",
   "execution_count": 18,
   "id": "8795801b",
   "metadata": {},
   "outputs": [
    {
     "data": {
      "text/plain": [
       "True"
      ]
     },
     "execution_count": 18,
     "metadata": {},
     "output_type": "execute_result"
    }
   ],
   "source": [
    "(100 < 5).__or__(200 > 5)"
   ]
  },
  {
   "cell_type": "code",
   "execution_count": 19,
   "id": "25180856",
   "metadata": {},
   "outputs": [
    {
     "data": {
      "text/plain": [
       "True"
      ]
     },
     "execution_count": 19,
     "metadata": {},
     "output_type": "execute_result"
    }
   ],
   "source": [
    "(100 < 5) ^ (200 > 5)"
   ]
  },
  {
   "cell_type": "code",
   "execution_count": 20,
   "id": "ab3ab4b9",
   "metadata": {},
   "outputs": [
    {
     "data": {
      "text/plain": [
       "True"
      ]
     },
     "execution_count": 20,
     "metadata": {},
     "output_type": "execute_result"
    }
   ],
   "source": [
    "(100 < 5).__xor__(200 > 5)"
   ]
  },
  {
   "cell_type": "code",
   "execution_count": 21,
   "id": "deb50291",
   "metadata": {},
   "outputs": [
    {
     "data": {
      "text/plain": [
       "True"
      ]
     },
     "execution_count": 21,
     "metadata": {},
     "output_type": "execute_result"
    }
   ],
   "source": [
    "not (100 < 5)"
   ]
  },
  {
   "cell_type": "markdown",
   "id": "5582c94e",
   "metadata": {},
   "source": [
    "---"
   ]
  },
  {
   "cell_type": "code",
   "execution_count": 22,
   "id": "83172690",
   "metadata": {},
   "outputs": [
    {
     "data": {
      "text/plain": [
       "(128, 8)"
      ]
     },
     "execution_count": 22,
     "metadata": {},
     "output_type": "execute_result"
    }
   ],
   "source": [
    "32 << 2, 32 >> 2"
   ]
  },
  {
   "cell_type": "code",
   "execution_count": 23,
   "id": "00d9b97b",
   "metadata": {},
   "outputs": [
    {
     "data": {
      "text/plain": [
       "(128, 8)"
      ]
     },
     "execution_count": 23,
     "metadata": {},
     "output_type": "execute_result"
    }
   ],
   "source": [
    "(32).__lshift__(2), (32).__rshift__(2)"
   ]
  },
  {
   "cell_type": "markdown",
   "id": "b4af84d5",
   "metadata": {},
   "source": [
    "---"
   ]
  },
  {
   "cell_type": "code",
   "execution_count": 24,
   "id": "7292ba75",
   "metadata": {},
   "outputs": [
    {
     "data": {
      "text/plain": [
       "('0b100000', '-0b100001')"
      ]
     },
     "execution_count": 24,
     "metadata": {},
     "output_type": "execute_result"
    }
   ],
   "source": [
    "bin(32), bin(~32)"
   ]
  },
  {
   "cell_type": "code",
   "execution_count": 25,
   "id": "2b69ad3a",
   "metadata": {},
   "outputs": [
    {
     "data": {
      "text/plain": [
       "(32, -33)"
      ]
     },
     "execution_count": 25,
     "metadata": {},
     "output_type": "execute_result"
    }
   ],
   "source": [
    "int(bin(32), base=2), int(bin(~32), base=2)"
   ]
  },
  {
   "cell_type": "code",
   "execution_count": 26,
   "id": "70871f02",
   "metadata": {},
   "outputs": [
    {
     "data": {
      "text/plain": [
       "(-33, -33)"
      ]
     },
     "execution_count": 26,
     "metadata": {},
     "output_type": "execute_result"
    }
   ],
   "source": [
    "~32, (32).__invert__()"
   ]
  },
  {
   "cell_type": "code",
   "execution_count": 27,
   "id": "b7698d45",
   "metadata": {},
   "outputs": [
    {
     "data": {
      "text/plain": [
       "(0, 0)"
      ]
     },
     "execution_count": 27,
     "metadata": {},
     "output_type": "execute_result"
    }
   ],
   "source": [
    "32 & (~32), (32).__and__(~32)"
   ]
  },
  {
   "cell_type": "markdown",
   "id": "63de334b",
   "metadata": {},
   "source": [
    "## 33.2. 객체 접근 연산자"
   ]
  },
  {
   "cell_type": "code",
   "execution_count": 28,
   "id": "33818375",
   "metadata": {},
   "outputs": [],
   "source": [
    "class Attribute:\n",
    "    pass"
   ]
  },
  {
   "cell_type": "code",
   "execution_count": 29,
   "id": "03efde3d",
   "metadata": {},
   "outputs": [],
   "source": [
    "a = Attribute()"
   ]
  },
  {
   "cell_type": "code",
   "execution_count": 30,
   "id": "81cdb6c9",
   "metadata": {},
   "outputs": [
    {
     "data": {
      "text/plain": [
       "{}"
      ]
     },
     "execution_count": 30,
     "metadata": {},
     "output_type": "execute_result"
    }
   ],
   "source": [
    "a.__dict__"
   ]
  },
  {
   "cell_type": "code",
   "execution_count": 31,
   "id": "4b4e48c1",
   "metadata": {},
   "outputs": [],
   "source": [
    "setattr(a, 'name', '속성값 추가')"
   ]
  },
  {
   "cell_type": "code",
   "execution_count": 32,
   "id": "c85cb497",
   "metadata": {},
   "outputs": [
    {
     "data": {
      "text/plain": [
       "{'name': '속성값 추가'}"
      ]
     },
     "execution_count": 32,
     "metadata": {},
     "output_type": "execute_result"
    }
   ],
   "source": [
    "a.__dict__"
   ]
  },
  {
   "cell_type": "code",
   "execution_count": 33,
   "id": "a0a8fd72",
   "metadata": {},
   "outputs": [
    {
     "data": {
      "text/plain": [
       "'속성값 추가'"
      ]
     },
     "execution_count": 33,
     "metadata": {},
     "output_type": "execute_result"
    }
   ],
   "source": [
    "getattr(a, 'name')"
   ]
  },
  {
   "cell_type": "code",
   "execution_count": 34,
   "id": "00cd4c4b",
   "metadata": {},
   "outputs": [],
   "source": [
    "if hasattr(a, 'name'):\n",
    "    delattr(a, 'name')"
   ]
  },
  {
   "cell_type": "code",
   "execution_count": 35,
   "id": "b78f5270",
   "metadata": {},
   "outputs": [
    {
     "ename": "AttributeError",
     "evalue": "'Attribute' object has no attribute 'name'",
     "output_type": "error",
     "traceback": [
      "\u001b[0;31m---------------------------------------------------------------------------\u001b[0m",
      "\u001b[0;31mAttributeError\u001b[0m                            Traceback (most recent call last)",
      "Input \u001b[0;32mIn [35]\u001b[0m, in \u001b[0;36m<cell line: 1>\u001b[0;34m()\u001b[0m\n\u001b[0;32m----> 1\u001b[0m \u001b[38;5;28;43mgetattr\u001b[39;49m\u001b[43m(\u001b[49m\u001b[43ma\u001b[49m\u001b[43m,\u001b[49m\u001b[43m \u001b[49m\u001b[38;5;124;43m'\u001b[39;49m\u001b[38;5;124;43mname\u001b[39;49m\u001b[38;5;124;43m'\u001b[39;49m\u001b[43m)\u001b[49m\n",
      "\u001b[0;31mAttributeError\u001b[0m: 'Attribute' object has no attribute 'name'"
     ]
    }
   ],
   "source": [
    "getattr(a, 'name')"
   ]
  },
  {
   "cell_type": "code",
   "execution_count": 36,
   "id": "5ceae510",
   "metadata": {},
   "outputs": [],
   "source": [
    "def __init__(self, name):\n",
    "    self.name = name"
   ]
  },
  {
   "cell_type": "code",
   "execution_count": 37,
   "id": "e0f7cf17",
   "metadata": {},
   "outputs": [],
   "source": [
    "setattr(Attribute, '__init__', __init__)"
   ]
  },
  {
   "cell_type": "code",
   "execution_count": 38,
   "id": "aa459b5e",
   "metadata": {},
   "outputs": [
    {
     "data": {
      "text/plain": [
       "mappingproxy({'__module__': '__main__',\n",
       "              '__dict__': <attribute '__dict__' of 'Attribute' objects>,\n",
       "              '__weakref__': <attribute '__weakref__' of 'Attribute' objects>,\n",
       "              '__doc__': None,\n",
       "              '__init__': <function __main__.__init__(self, name)>})"
      ]
     },
     "execution_count": 38,
     "metadata": {},
     "output_type": "execute_result"
    }
   ],
   "source": [
    "Attribute.__dict__"
   ]
  },
  {
   "cell_type": "code",
   "execution_count": 39,
   "id": "4d124c1f",
   "metadata": {},
   "outputs": [],
   "source": [
    "aa = Attribute('초기화 이용')"
   ]
  },
  {
   "cell_type": "code",
   "execution_count": 40,
   "id": "2da0e514",
   "metadata": {},
   "outputs": [
    {
     "data": {
      "text/plain": [
       "{'name': '초기화 이용'}"
      ]
     },
     "execution_count": 40,
     "metadata": {},
     "output_type": "execute_result"
    }
   ],
   "source": [
    "aa.__dict__"
   ]
  },
  {
   "cell_type": "markdown",
   "id": "5676d3dc",
   "metadata": {},
   "source": [
    "---"
   ]
  },
  {
   "cell_type": "code",
   "execution_count": 41,
   "id": "a8e700df",
   "metadata": {},
   "outputs": [],
   "source": [
    "class ObjectAttr:\n",
    "    \n",
    "    classAttr = 'ObjectAttr'\n",
    "    \n",
    "    def __init__(self, value):\n",
    "        self.objattr = value\n",
    "        \n",
    "    def __getattribute__(self, name):\n",
    "        print('__getattribute__')\n",
    "        return super().__getattribute__(name)\n",
    "    \n",
    "    def __getattr__(self, name):\n",
    "        return '속성이 없음'"
   ]
  },
  {
   "cell_type": "code",
   "execution_count": 42,
   "id": "7cd1db08",
   "metadata": {},
   "outputs": [],
   "source": [
    "obj = ObjectAttr('인스턴스 속성')"
   ]
  },
  {
   "cell_type": "code",
   "execution_count": 43,
   "id": "0a0906d7",
   "metadata": {},
   "outputs": [
    {
     "name": "stdout",
     "output_type": "stream",
     "text": [
      "__getattribute__\n"
     ]
    },
    {
     "data": {
      "text/plain": [
       "{'objattr': '인스턴스 속성'}"
      ]
     },
     "execution_count": 43,
     "metadata": {},
     "output_type": "execute_result"
    }
   ],
   "source": [
    "obj.__dict__"
   ]
  },
  {
   "cell_type": "markdown",
   "id": "33cac6c8",
   "metadata": {},
   "source": [
    "---"
   ]
  },
  {
   "cell_type": "code",
   "execution_count": 44,
   "id": "062cd5bb",
   "metadata": {},
   "outputs": [
    {
     "data": {
      "text/plain": [
       "'ObjectAttr'"
      ]
     },
     "execution_count": 44,
     "metadata": {},
     "output_type": "execute_result"
    }
   ],
   "source": [
    "ObjectAttr.classAttr"
   ]
  },
  {
   "cell_type": "code",
   "execution_count": 45,
   "id": "87474f3c",
   "metadata": {},
   "outputs": [
    {
     "name": "stdout",
     "output_type": "stream",
     "text": [
      "__getattribute__\n"
     ]
    },
    {
     "data": {
      "text/plain": [
       "'ObjectAttr'"
      ]
     },
     "execution_count": 45,
     "metadata": {},
     "output_type": "execute_result"
    }
   ],
   "source": [
    "obj.classAttr"
   ]
  },
  {
   "cell_type": "code",
   "execution_count": 46,
   "id": "bb933176",
   "metadata": {},
   "outputs": [
    {
     "name": "stdout",
     "output_type": "stream",
     "text": [
      "__getattribute__\n"
     ]
    },
    {
     "data": {
      "text/plain": [
       "'속성이 없음'"
      ]
     },
     "execution_count": 46,
     "metadata": {},
     "output_type": "execute_result"
    }
   ],
   "source": [
    "obj.name"
   ]
  },
  {
   "cell_type": "code",
   "execution_count": 47,
   "id": "d6d1d7e6",
   "metadata": {},
   "outputs": [
    {
     "ename": "AttributeError",
     "evalue": "type object 'ObjectAttr' has no attribute 'name'",
     "output_type": "error",
     "traceback": [
      "\u001b[0;31m---------------------------------------------------------------------------\u001b[0m",
      "\u001b[0;31mAttributeError\u001b[0m                            Traceback (most recent call last)",
      "Input \u001b[0;32mIn [47]\u001b[0m, in \u001b[0;36m<cell line: 1>\u001b[0;34m()\u001b[0m\n\u001b[0;32m----> 1\u001b[0m \u001b[43mObjectAttr\u001b[49m\u001b[38;5;241;43m.\u001b[39;49m\u001b[43mname\u001b[49m\n",
      "\u001b[0;31mAttributeError\u001b[0m: type object 'ObjectAttr' has no attribute 'name'"
     ]
    }
   ],
   "source": [
    "ObjectAttr.name"
   ]
  },
  {
   "cell_type": "markdown",
   "id": "ad70f8df",
   "metadata": {},
   "source": [
    "## 33.3. 색인 연산자"
   ]
  },
  {
   "cell_type": "code",
   "execution_count": 48,
   "id": "4c1129af",
   "metadata": {},
   "outputs": [],
   "source": [
    "import collections as cols"
   ]
  },
  {
   "cell_type": "code",
   "execution_count": 49,
   "id": "4deb4745",
   "metadata": {},
   "outputs": [],
   "source": [
    "class Seq(cols.UserList):\n",
    "    \n",
    "    def __getitem__(self, i):\n",
    "        print('Seq getitem')\n",
    "        return self.data[i]\n",
    "    \n",
    "    def __setitem__(self, i, item):\n",
    "        print('Seq setitem')\n",
    "        if i == len(self.data):\n",
    "            self.data.append(item)\n",
    "        else:\n",
    "            self.data[i] = item"
   ]
  },
  {
   "cell_type": "code",
   "execution_count": 50,
   "id": "9c56ff35",
   "metadata": {},
   "outputs": [],
   "source": [
    "l = Seq()"
   ]
  },
  {
   "cell_type": "code",
   "execution_count": 51,
   "id": "0a7f2e9e",
   "metadata": {},
   "outputs": [
    {
     "data": {
      "text/plain": [
       "{'data': []}"
      ]
     },
     "execution_count": 51,
     "metadata": {},
     "output_type": "execute_result"
    }
   ],
   "source": [
    "l.__dict__"
   ]
  },
  {
   "cell_type": "markdown",
   "id": "b60beb36",
   "metadata": {},
   "source": [
    "---"
   ]
  },
  {
   "cell_type": "code",
   "execution_count": 52,
   "id": "e694e28d",
   "metadata": {},
   "outputs": [],
   "source": [
    "import operator as op"
   ]
  },
  {
   "cell_type": "code",
   "execution_count": 53,
   "id": "c3e20ffa",
   "metadata": {},
   "outputs": [
    {
     "name": "stdout",
     "output_type": "stream",
     "text": [
      "Seq setitem\n"
     ]
    }
   ],
   "source": [
    "l[0] = 100"
   ]
  },
  {
   "cell_type": "code",
   "execution_count": 54,
   "id": "7751f64a",
   "metadata": {},
   "outputs": [
    {
     "name": "stdout",
     "output_type": "stream",
     "text": [
      "Seq setitem\n"
     ]
    }
   ],
   "source": [
    "op.setitem(l, 1, 200)"
   ]
  },
  {
   "cell_type": "code",
   "execution_count": 55,
   "id": "e0840fe2",
   "metadata": {},
   "outputs": [
    {
     "data": {
      "text/plain": [
       "{'data': [100, 200]}"
      ]
     },
     "execution_count": 55,
     "metadata": {},
     "output_type": "execute_result"
    }
   ],
   "source": [
    "l.__dict__"
   ]
  },
  {
   "cell_type": "code",
   "execution_count": 56,
   "id": "3d60f078",
   "metadata": {},
   "outputs": [
    {
     "name": "stdout",
     "output_type": "stream",
     "text": [
      "Seq getitem\n"
     ]
    },
    {
     "data": {
      "text/plain": [
       "100"
      ]
     },
     "execution_count": 56,
     "metadata": {},
     "output_type": "execute_result"
    }
   ],
   "source": [
    "l[0]"
   ]
  },
  {
   "cell_type": "code",
   "execution_count": 57,
   "id": "69ce6f52",
   "metadata": {},
   "outputs": [
    {
     "name": "stdout",
     "output_type": "stream",
     "text": [
      "Seq getitem\n"
     ]
    },
    {
     "data": {
      "text/plain": [
       "200"
      ]
     },
     "execution_count": 57,
     "metadata": {},
     "output_type": "execute_result"
    }
   ],
   "source": [
    "op.getitem(l, 1)"
   ]
  },
  {
   "cell_type": "markdown",
   "id": "9ba4aa7b",
   "metadata": {},
   "source": [
    "---"
   ]
  },
  {
   "cell_type": "code",
   "execution_count": 58,
   "id": "c580a349",
   "metadata": {},
   "outputs": [],
   "source": [
    "lm = Seq()"
   ]
  },
  {
   "cell_type": "code",
   "execution_count": 59,
   "id": "fdcf0b4a",
   "metadata": {},
   "outputs": [
    {
     "name": "stdout",
     "output_type": "stream",
     "text": [
      "Seq setitem\n"
     ]
    }
   ],
   "source": [
    "lm[0] = 999"
   ]
  },
  {
   "cell_type": "code",
   "execution_count": 60,
   "id": "008b2225",
   "metadata": {},
   "outputs": [
    {
     "name": "stdout",
     "output_type": "stream",
     "text": [
      "Seq getitem\n"
     ]
    },
    {
     "ename": "IndexError",
     "evalue": "list index out of range",
     "output_type": "error",
     "traceback": [
      "\u001b[0;31m---------------------------------------------------------------------------\u001b[0m",
      "\u001b[0;31mIndexError\u001b[0m                                Traceback (most recent call last)",
      "Input \u001b[0;32mIn [60]\u001b[0m, in \u001b[0;36m<cell line: 1>\u001b[0;34m()\u001b[0m\n\u001b[0;32m----> 1\u001b[0m \u001b[43mlm\u001b[49m\u001b[43m[\u001b[49m\u001b[38;5;241;43m1\u001b[39;49m\u001b[43m]\u001b[49m\n",
      "Input \u001b[0;32mIn [49]\u001b[0m, in \u001b[0;36mSeq.__getitem__\u001b[0;34m(self, i)\u001b[0m\n\u001b[1;32m      3\u001b[0m \u001b[38;5;28;01mdef\u001b[39;00m \u001b[38;5;21m__getitem__\u001b[39m(\u001b[38;5;28mself\u001b[39m, i):\n\u001b[1;32m      4\u001b[0m     \u001b[38;5;28mprint\u001b[39m(\u001b[38;5;124m'\u001b[39m\u001b[38;5;124mSeq getitem\u001b[39m\u001b[38;5;124m'\u001b[39m)\n\u001b[0;32m----> 5\u001b[0m     \u001b[38;5;28;01mreturn\u001b[39;00m \u001b[38;5;28;43mself\u001b[39;49m\u001b[38;5;241;43m.\u001b[39;49m\u001b[43mdata\u001b[49m\u001b[43m[\u001b[49m\u001b[43mi\u001b[49m\u001b[43m]\u001b[49m\n",
      "\u001b[0;31mIndexError\u001b[0m: list index out of range"
     ]
    }
   ],
   "source": [
    "lm[1]"
   ]
  },
  {
   "cell_type": "markdown",
   "id": "36414adf",
   "metadata": {},
   "source": [
    "---"
   ]
  },
  {
   "cell_type": "code",
   "execution_count": 61,
   "id": "4ce847c8",
   "metadata": {},
   "outputs": [],
   "source": [
    "def index_check(seq, i):\n",
    "    if i < len(seq):\n",
    "        return i\n",
    "    else:\n",
    "        return len(seq) - 1"
   ]
  },
  {
   "cell_type": "code",
   "execution_count": 62,
   "id": "ee106433",
   "metadata": {},
   "outputs": [
    {
     "name": "stdout",
     "output_type": "stream",
     "text": [
      "Seq getitem\n"
     ]
    },
    {
     "data": {
      "text/plain": [
       "999"
      ]
     },
     "execution_count": 62,
     "metadata": {},
     "output_type": "execute_result"
    }
   ],
   "source": [
    "lm[index_check(lm, 3)]"
   ]
  },
  {
   "cell_type": "code",
   "execution_count": null,
   "id": "3e0ffedb",
   "metadata": {},
   "outputs": [],
   "source": []
  }
 ],
 "metadata": {
  "kernelspec": {
   "display_name": "Python 3 (ipykernel)",
   "language": "python",
   "name": "python3"
  },
  "language_info": {
   "codemirror_mode": {
    "name": "ipython",
    "version": 3
   },
   "file_extension": ".py",
   "mimetype": "text/x-python",
   "name": "python",
   "nbconvert_exporter": "python",
   "pygments_lexer": "ipython3",
   "version": "3.8.12"
  }
 },
 "nbformat": 4,
 "nbformat_minor": 5
}
