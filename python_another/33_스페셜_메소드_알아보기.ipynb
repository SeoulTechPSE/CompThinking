{
 "cells": [
  {
   "cell_type": "markdown",
   "id": "fdacc8c8",
   "metadata": {},
   "source": [
    "# 33 장. 스페셜 메소드 알아보기"
   ]
  },
  {
   "cell_type": "markdown",
   "id": "3daf8381",
   "metadata": {},
   "source": [
    "## 33.1. 수학 연산자"
   ]
  },
  {
   "cell_type": "code",
   "execution_count": 1,
   "id": "6a21ac4b",
   "metadata": {},
   "outputs": [],
   "source": [
    "import operator as op"
   ]
  },
  {
   "cell_type": "code",
   "execution_count": 2,
   "id": "2ffbe865",
   "metadata": {},
   "outputs": [
    {
     "name": "stdout",
     "output_type": "stream",
     "text": [
      "__abs__             __add__             __and__             __eq__              __floordiv__        \n",
      "__ge__              __gt__              __invert__          __le__              __lshift__          \n",
      "__lt__              __mod__             __mul__             __ne__              __neg__             \n",
      "__or__              __pos__             __pow__             __rshift__          __sub__             \n",
      "__truediv__         __xor__             "
     ]
    }
   ],
   "source": [
    "count = 0\n",
    "for i in dir(int):\n",
    "    if i in dir(op):\n",
    "        if i not in ['__doc__', '__index__']:\n",
    "            count += 1\n",
    "            print(f'{i:20}',end='')\n",
    "            if not (count % 5): print()"
   ]
  },
  {
   "cell_type": "code",
   "execution_count": 3,
   "id": "28d01a92",
   "metadata": {},
   "outputs": [
    {
     "data": {
      "text/plain": [
       "(105, 95, 500)"
      ]
     },
     "execution_count": 3,
     "metadata": {},
     "output_type": "execute_result"
    }
   ],
   "source": [
    "100 + 5, 100 - 5, 100 * 5"
   ]
  },
  {
   "cell_type": "code",
   "execution_count": 4,
   "id": "159cf814",
   "metadata": {},
   "outputs": [
    {
     "data": {
      "text/plain": [
       "(105, 95, 500)"
      ]
     },
     "execution_count": 4,
     "metadata": {},
     "output_type": "execute_result"
    }
   ],
   "source": [
    "(100).__add__(5), (100).__sub__(5), (100).__mul__(5)"
   ]
  },
  {
   "cell_type": "markdown",
   "id": "e3b0b6a5",
   "metadata": {},
   "source": [
    "---"
   ]
  },
  {
   "cell_type": "code",
   "execution_count": 5,
   "id": "16c70d8a",
   "metadata": {},
   "outputs": [
    {
     "data": {
      "text/plain": [
       "(20, 20.0)"
      ]
     },
     "execution_count": 5,
     "metadata": {},
     "output_type": "execute_result"
    }
   ],
   "source": [
    "100 // 5, 100 / 5"
   ]
  },
  {
   "cell_type": "code",
   "execution_count": 6,
   "id": "fa74d77b",
   "metadata": {},
   "outputs": [
    {
     "data": {
      "text/plain": [
       "(20, 20.0)"
      ]
     },
     "execution_count": 6,
     "metadata": {},
     "output_type": "execute_result"
    }
   ],
   "source": [
    "(100).__floordiv__(5), (100).__truediv__(5)"
   ]
  },
  {
   "cell_type": "markdown",
   "id": "89bde070",
   "metadata": {},
   "source": [
    "---"
   ]
  },
  {
   "cell_type": "code",
   "execution_count": 7,
   "id": "8fe4d354",
   "metadata": {},
   "outputs": [
    {
     "data": {
      "text/plain": [
       "(0, 10000)"
      ]
     },
     "execution_count": 7,
     "metadata": {},
     "output_type": "execute_result"
    }
   ],
   "source": [
    "100 % 5, 100**2"
   ]
  },
  {
   "cell_type": "code",
   "execution_count": 8,
   "id": "f4a1c06c",
   "metadata": {},
   "outputs": [
    {
     "data": {
      "text/plain": [
       "(0, 10000)"
      ]
     },
     "execution_count": 8,
     "metadata": {},
     "output_type": "execute_result"
    }
   ],
   "source": [
    "(100).__mod__(5), (100).__pow__(2)"
   ]
  },
  {
   "cell_type": "markdown",
   "id": "ad8c5e31",
   "metadata": {},
   "source": [
    "---"
   ]
  },
  {
   "cell_type": "code",
   "execution_count": 11,
   "id": "832edb56",
   "metadata": {},
   "outputs": [
    {
     "data": {
      "text/plain": [
       "(-100, -100, 100)"
      ]
     },
     "execution_count": 11,
     "metadata": {},
     "output_type": "execute_result"
    }
   ],
   "source": [
    "-100, +(-100), abs(-100)"
   ]
  },
  {
   "cell_type": "code",
   "execution_count": 12,
   "id": "1ab39aed",
   "metadata": {},
   "outputs": [
    {
     "data": {
      "text/plain": [
       "(-100, -100, 100)"
      ]
     },
     "execution_count": 12,
     "metadata": {},
     "output_type": "execute_result"
    }
   ],
   "source": [
    "(100).__neg__(), (-100).__pos__(), (-100).__abs__()"
   ]
  },
  {
   "cell_type": "markdown",
   "id": "7e160c16",
   "metadata": {},
   "source": [
    "---"
   ]
  },
  {
   "cell_type": "code",
   "execution_count": 13,
   "id": "962cbb0f",
   "metadata": {},
   "outputs": [
    {
     "data": {
      "text/plain": [
       "(True, False)"
      ]
     },
     "execution_count": 13,
     "metadata": {},
     "output_type": "execute_result"
    }
   ],
   "source": [
    "100 > 5, 100 < 5"
   ]
  },
  {
   "cell_type": "code",
   "execution_count": 14,
   "id": "07baddc8",
   "metadata": {},
   "outputs": [
    {
     "data": {
      "text/plain": [
       "(True, False)"
      ]
     },
     "execution_count": 14,
     "metadata": {},
     "output_type": "execute_result"
    }
   ],
   "source": [
    "(100).__gt__(5), (100).__lt__(5)"
   ]
  },
  {
   "cell_type": "code",
   "execution_count": 15,
   "id": "b5a39b69",
   "metadata": {},
   "outputs": [
    {
     "data": {
      "text/plain": [
       "(False, True, False, True)"
      ]
     },
     "execution_count": 15,
     "metadata": {},
     "output_type": "execute_result"
    }
   ],
   "source": [
    "100 == 5, 100 >= 5, 100 <= 5, 100 != 5"
   ]
  },
  {
   "cell_type": "code",
   "execution_count": 16,
   "id": "7b12674c",
   "metadata": {},
   "outputs": [
    {
     "data": {
      "text/plain": [
       "(False, True, False, True)"
      ]
     },
     "execution_count": 16,
     "metadata": {},
     "output_type": "execute_result"
    }
   ],
   "source": [
    "(100).__eq__(5), (100).__ge__(5), (100).__le__(5), (100).__ne__(5)"
   ]
  },
  {
   "cell_type": "markdown",
   "id": "e261b8d6",
   "metadata": {},
   "source": [
    "---"
   ]
  },
  {
   "cell_type": "code",
   "execution_count": 17,
   "id": "a6189581",
   "metadata": {},
   "outputs": [
    {
     "data": {
      "text/plain": [
       "(True, True)"
      ]
     },
     "execution_count": 17,
     "metadata": {},
     "output_type": "execute_result"
    }
   ],
   "source": [
    "(100 > 5) and (200 > 5), (100 > 5) & (200 > 5)"
   ]
  },
  {
   "cell_type": "code",
   "execution_count": 18,
   "id": "1edc00d0",
   "metadata": {},
   "outputs": [
    {
     "data": {
      "text/plain": [
       "True"
      ]
     },
     "execution_count": 18,
     "metadata": {},
     "output_type": "execute_result"
    }
   ],
   "source": [
    "(100 > 5).__and__(200 > 5)"
   ]
  },
  {
   "cell_type": "code",
   "execution_count": 19,
   "id": "cd8c1378",
   "metadata": {},
   "outputs": [
    {
     "data": {
      "text/plain": [
       "(True, True)"
      ]
     },
     "execution_count": 19,
     "metadata": {},
     "output_type": "execute_result"
    }
   ],
   "source": [
    "(100 < 5) or (200 > 5), (100 < 5) | (200 > 5)"
   ]
  },
  {
   "cell_type": "code",
   "execution_count": 20,
   "id": "996556fa",
   "metadata": {},
   "outputs": [
    {
     "data": {
      "text/plain": [
       "True"
      ]
     },
     "execution_count": 20,
     "metadata": {},
     "output_type": "execute_result"
    }
   ],
   "source": [
    "(100 < 5).__or__(200 > 5)"
   ]
  },
  {
   "cell_type": "code",
   "execution_count": 21,
   "id": "87b1b4bf",
   "metadata": {},
   "outputs": [
    {
     "data": {
      "text/plain": [
       "True"
      ]
     },
     "execution_count": 21,
     "metadata": {},
     "output_type": "execute_result"
    }
   ],
   "source": [
    "(100 < 5) ^ (200 > 5)"
   ]
  },
  {
   "cell_type": "code",
   "execution_count": 23,
   "id": "4027329b",
   "metadata": {},
   "outputs": [
    {
     "data": {
      "text/plain": [
       "True"
      ]
     },
     "execution_count": 23,
     "metadata": {},
     "output_type": "execute_result"
    }
   ],
   "source": [
    "(100 < 5).__xor__(200 > 5)"
   ]
  },
  {
   "cell_type": "code",
   "execution_count": 24,
   "id": "1eaf3c06",
   "metadata": {},
   "outputs": [
    {
     "data": {
      "text/plain": [
       "True"
      ]
     },
     "execution_count": 24,
     "metadata": {},
     "output_type": "execute_result"
    }
   ],
   "source": [
    "not (100 < 5)"
   ]
  },
  {
   "cell_type": "markdown",
   "id": "958a92db",
   "metadata": {},
   "source": [
    "---"
   ]
  },
  {
   "cell_type": "code",
   "execution_count": 35,
   "id": "534a4a90",
   "metadata": {},
   "outputs": [
    {
     "data": {
      "text/plain": [
       "(128, 8)"
      ]
     },
     "execution_count": 35,
     "metadata": {},
     "output_type": "execute_result"
    }
   ],
   "source": [
    "32 << 2, 32 >> 2"
   ]
  },
  {
   "cell_type": "code",
   "execution_count": 36,
   "id": "db34e5c5",
   "metadata": {},
   "outputs": [
    {
     "data": {
      "text/plain": [
       "(128, 8)"
      ]
     },
     "execution_count": 36,
     "metadata": {},
     "output_type": "execute_result"
    }
   ],
   "source": [
    "(32).__lshift__(2), (32).__rshift__(2)"
   ]
  },
  {
   "cell_type": "markdown",
   "id": "32d8bab0",
   "metadata": {},
   "source": [
    "---"
   ]
  },
  {
   "cell_type": "code",
   "execution_count": 37,
   "id": "207fc2de",
   "metadata": {},
   "outputs": [
    {
     "data": {
      "text/plain": [
       "('0b100000', '-0b100001')"
      ]
     },
     "execution_count": 37,
     "metadata": {},
     "output_type": "execute_result"
    }
   ],
   "source": [
    "bin(32), bin(~32)"
   ]
  },
  {
   "cell_type": "code",
   "execution_count": 38,
   "id": "17783ab1",
   "metadata": {},
   "outputs": [
    {
     "data": {
      "text/plain": [
       "(32, -33)"
      ]
     },
     "execution_count": 38,
     "metadata": {},
     "output_type": "execute_result"
    }
   ],
   "source": [
    "int(bin(32), base=2), int(bin(~32), base=2)"
   ]
  },
  {
   "cell_type": "code",
   "execution_count": 39,
   "id": "f9f66a94",
   "metadata": {},
   "outputs": [
    {
     "data": {
      "text/plain": [
       "(-33, -33)"
      ]
     },
     "execution_count": 39,
     "metadata": {},
     "output_type": "execute_result"
    }
   ],
   "source": [
    "~32, (32).__invert__()"
   ]
  },
  {
   "cell_type": "code",
   "execution_count": 40,
   "id": "a3e17efd",
   "metadata": {},
   "outputs": [
    {
     "data": {
      "text/plain": [
       "(0, 0)"
      ]
     },
     "execution_count": 40,
     "metadata": {},
     "output_type": "execute_result"
    }
   ],
   "source": [
    "32 & (~32), (32).__and__(~32)"
   ]
  },
  {
   "cell_type": "markdown",
   "id": "eb0c4b8f",
   "metadata": {},
   "source": [
    "## 33.2. 객체 접근 연산자"
   ]
  },
  {
   "cell_type": "code",
   "execution_count": null,
   "id": "0d7e68b8",
   "metadata": {},
   "outputs": [],
   "source": []
  },
  {
   "cell_type": "markdown",
   "id": "23cbf897",
   "metadata": {},
   "source": [
    "## 33.3. 색인 연산자"
   ]
  },
  {
   "cell_type": "code",
   "execution_count": null,
   "id": "8a97b2c7",
   "metadata": {},
   "outputs": [],
   "source": []
  }
 ],
 "metadata": {
  "kernelspec": {
   "display_name": "Python 3 (ipykernel)",
   "language": "python",
   "name": "python3"
  },
  "language_info": {
   "codemirror_mode": {
    "name": "ipython",
    "version": 3
   },
   "file_extension": ".py",
   "mimetype": "text/x-python",
   "name": "python",
   "nbconvert_exporter": "python",
   "pygments_lexer": "ipython3",
   "version": "3.8.12"
  }
 },
 "nbformat": 4,
 "nbformat_minor": 5
}
