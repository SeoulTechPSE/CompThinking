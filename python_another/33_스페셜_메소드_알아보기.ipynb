{
 "cells": [
  {
   "cell_type": "markdown",
   "id": "7fd01013",
   "metadata": {},
   "source": [
    "# 33 장. 스페셜 메소드 알아보기"
   ]
  },
  {
   "cell_type": "markdown",
   "id": "7d130959",
   "metadata": {},
   "source": [
    "## 33.1. 수학 연산자"
   ]
  },
  {
   "cell_type": "code",
   "execution_count": null,
   "id": "637c2fb1",
   "metadata": {},
   "outputs": [],
   "source": [
    "import operator as op"
   ]
  },
  {
   "cell_type": "code",
   "execution_count": null,
   "id": "91abbfe7",
   "metadata": {},
   "outputs": [],
   "source": [
    "count = 0\n",
    "for i in dir(int):\n",
    "    if i in dir(op):\n",
    "        if i not in ['__doc__', '__index__']:\n",
    "            count += 1\n",
    "            print(f'{i:20}',end='')\n",
    "            if not (count % 5): print()"
   ]
  },
  {
   "cell_type": "code",
   "execution_count": null,
   "id": "a4571c04",
   "metadata": {},
   "outputs": [],
   "source": [
    "100 + 5, 100 - 5, 100 * 5"
   ]
  },
  {
   "cell_type": "code",
   "execution_count": null,
   "id": "1d2e40f3",
   "metadata": {},
   "outputs": [],
   "source": [
    "(100).__add__(5), (100).__sub__(5), (100).__mul__(5)"
   ]
  },
  {
   "cell_type": "markdown",
   "id": "cb59102f",
   "metadata": {},
   "source": [
    "---"
   ]
  },
  {
   "cell_type": "code",
   "execution_count": null,
   "id": "6ade48cb",
   "metadata": {},
   "outputs": [],
   "source": [
    "100 // 5, 100 / 5"
   ]
  },
  {
   "cell_type": "code",
   "execution_count": null,
   "id": "0f813e5c",
   "metadata": {},
   "outputs": [],
   "source": [
    "(100).__floordiv__(5), (100).__truediv__(5)"
   ]
  },
  {
   "cell_type": "markdown",
   "id": "3a75f060",
   "metadata": {},
   "source": [
    "---"
   ]
  },
  {
   "cell_type": "code",
   "execution_count": null,
   "id": "68bf1ea1",
   "metadata": {},
   "outputs": [],
   "source": [
    "100 % 5, 100**2"
   ]
  },
  {
   "cell_type": "code",
   "execution_count": null,
   "id": "fcb04edb",
   "metadata": {},
   "outputs": [],
   "source": [
    "(100).__mod__(5), (100).__pow__(2)"
   ]
  },
  {
   "cell_type": "markdown",
   "id": "6b9706f7",
   "metadata": {},
   "source": [
    "---"
   ]
  },
  {
   "cell_type": "code",
   "execution_count": null,
   "id": "140e5cbe",
   "metadata": {},
   "outputs": [],
   "source": [
    "-100, +(-100), abs(-100)"
   ]
  },
  {
   "cell_type": "code",
   "execution_count": null,
   "id": "d12e2140",
   "metadata": {},
   "outputs": [],
   "source": [
    "(100).__neg__(), (-100).__pos__(), (-100).__abs__()"
   ]
  },
  {
   "cell_type": "markdown",
   "id": "7f408477",
   "metadata": {},
   "source": [
    "---"
   ]
  },
  {
   "cell_type": "code",
   "execution_count": null,
   "id": "210fbfec",
   "metadata": {},
   "outputs": [],
   "source": [
    "100 > 5, 100 < 5"
   ]
  },
  {
   "cell_type": "code",
   "execution_count": null,
   "id": "85fe1604",
   "metadata": {},
   "outputs": [],
   "source": [
    "(100).__gt__(5), (100).__lt__(5)"
   ]
  },
  {
   "cell_type": "code",
   "execution_count": null,
   "id": "bed6a099",
   "metadata": {},
   "outputs": [],
   "source": [
    "100 == 5, 100 >= 5, 100 <= 5, 100 != 5"
   ]
  },
  {
   "cell_type": "code",
   "execution_count": null,
   "id": "9ff28f63",
   "metadata": {},
   "outputs": [],
   "source": [
    "(100).__eq__(5), (100).__ge__(5), (100).__le__(5), (100).__ne__(5)"
   ]
  },
  {
   "cell_type": "markdown",
   "id": "0930ec94",
   "metadata": {},
   "source": [
    "---"
   ]
  },
  {
   "cell_type": "code",
   "execution_count": null,
   "id": "c4d114db",
   "metadata": {},
   "outputs": [],
   "source": [
    "(100 > 5) and (200 > 5), (100 > 5) & (200 > 5)"
   ]
  },
  {
   "cell_type": "code",
   "execution_count": null,
   "id": "82a7b32b",
   "metadata": {},
   "outputs": [],
   "source": [
    "(100 > 5).__and__(200 > 5)"
   ]
  },
  {
   "cell_type": "code",
   "execution_count": null,
   "id": "2c43c44d",
   "metadata": {},
   "outputs": [],
   "source": [
    "(100 < 5) or (200 > 5), (100 < 5) | (200 > 5)"
   ]
  },
  {
   "cell_type": "code",
   "execution_count": null,
   "id": "ede0d785",
   "metadata": {},
   "outputs": [],
   "source": [
    "(100 < 5).__or__(200 > 5)"
   ]
  },
  {
   "cell_type": "code",
   "execution_count": null,
   "id": "d707ad87",
   "metadata": {},
   "outputs": [],
   "source": [
    "(100 < 5) ^ (200 > 5)"
   ]
  },
  {
   "cell_type": "code",
   "execution_count": null,
   "id": "1e265f51",
   "metadata": {},
   "outputs": [],
   "source": [
    "(100 < 5).__xor__(200 > 5)"
   ]
  },
  {
   "cell_type": "code",
   "execution_count": null,
   "id": "7642a18b",
   "metadata": {},
   "outputs": [],
   "source": [
    "not (100 < 5)"
   ]
  },
  {
   "cell_type": "markdown",
   "id": "5586e7c9",
   "metadata": {},
   "source": [
    "---"
   ]
  },
  {
   "cell_type": "code",
   "execution_count": null,
   "id": "a3c13110",
   "metadata": {},
   "outputs": [],
   "source": [
    "32 << 2, 32 >> 2"
   ]
  },
  {
   "cell_type": "code",
   "execution_count": null,
   "id": "77a57955",
   "metadata": {},
   "outputs": [],
   "source": [
    "(32).__lshift__(2), (32).__rshift__(2)"
   ]
  },
  {
   "cell_type": "markdown",
   "id": "c7d554c3",
   "metadata": {},
   "source": [
    "---"
   ]
  },
  {
   "cell_type": "code",
   "execution_count": null,
   "id": "30bed5d6",
   "metadata": {},
   "outputs": [],
   "source": [
    "bin(32), bin(~32)"
   ]
  },
  {
   "cell_type": "code",
   "execution_count": null,
   "id": "36c7bad2",
   "metadata": {},
   "outputs": [],
   "source": [
    "int(bin(32), base=2), int(bin(~32), base=2)"
   ]
  },
  {
   "cell_type": "code",
   "execution_count": null,
   "id": "bf23a19f",
   "metadata": {},
   "outputs": [],
   "source": [
    "~32, (32).__invert__()"
   ]
  },
  {
   "cell_type": "code",
   "execution_count": null,
   "id": "ae2e44a8",
   "metadata": {},
   "outputs": [],
   "source": [
    "32 & (~32), (32).__and__(~32)"
   ]
  },
  {
   "cell_type": "markdown",
   "id": "048a25e9",
   "metadata": {},
   "source": [
    "## 33.2. 객체 접근 연산자"
   ]
  },
  {
   "cell_type": "code",
   "execution_count": null,
   "id": "03acfd24",
   "metadata": {},
   "outputs": [],
   "source": [
    "class Attribute:\n",
    "    pass"
   ]
  },
  {
   "cell_type": "code",
   "execution_count": null,
   "id": "9ea4d4ce",
   "metadata": {},
   "outputs": [],
   "source": [
    "a = Attribute()"
   ]
  },
  {
   "cell_type": "code",
   "execution_count": null,
   "id": "c9a31203",
   "metadata": {},
   "outputs": [],
   "source": [
    "a.__dict__"
   ]
  },
  {
   "cell_type": "code",
   "execution_count": null,
   "id": "75cd701a",
   "metadata": {},
   "outputs": [],
   "source": [
    "setattr(a, 'name', '속성값 추가')"
   ]
  },
  {
   "cell_type": "code",
   "execution_count": null,
   "id": "53cdbd64",
   "metadata": {},
   "outputs": [],
   "source": [
    "a.__dict__"
   ]
  },
  {
   "cell_type": "code",
   "execution_count": null,
   "id": "d7467e02",
   "metadata": {},
   "outputs": [],
   "source": [
    "getattr(a, 'name')"
   ]
  },
  {
   "cell_type": "code",
   "execution_count": null,
   "id": "76f298b4",
   "metadata": {},
   "outputs": [],
   "source": [
    "if hasattr(a, 'name'):\n",
    "    delattr(a, 'name')"
   ]
  },
  {
   "cell_type": "code",
   "execution_count": null,
   "id": "1a5e42eb",
   "metadata": {},
   "outputs": [],
   "source": [
    "getattr(a, 'name')"
   ]
  },
  {
   "cell_type": "code",
   "execution_count": null,
   "id": "89316c3e",
   "metadata": {},
   "outputs": [],
   "source": [
    "def __init__(self, name):\n",
    "    self.name = name"
   ]
  },
  {
   "cell_type": "code",
   "execution_count": null,
   "id": "14c32341",
   "metadata": {},
   "outputs": [],
   "source": [
    "setattr(Attribute, '__init__', __init__)"
   ]
  },
  {
   "cell_type": "code",
   "execution_count": null,
   "id": "6f54bf75",
   "metadata": {},
   "outputs": [],
   "source": [
    "Attribute.__dict__"
   ]
  },
  {
   "cell_type": "code",
   "execution_count": null,
   "id": "711c9ec7",
   "metadata": {},
   "outputs": [],
   "source": [
    "aa = Attribute('초기화 이용')"
   ]
  },
  {
   "cell_type": "code",
   "execution_count": null,
   "id": "787cd8e1",
   "metadata": {},
   "outputs": [],
   "source": [
    "aa.__dict__"
   ]
  },
  {
   "cell_type": "markdown",
   "id": "c574a279",
   "metadata": {},
   "source": [
    "---"
   ]
  },
  {
   "cell_type": "code",
   "execution_count": null,
   "id": "e0020d21",
   "metadata": {},
   "outputs": [],
   "source": [
    "class ObjectAttr:\n",
    "    \n",
    "    classAttr = 'ObjectAttr'\n",
    "    \n",
    "    def __init__(self, value):\n",
    "        self.objattr = value\n",
    "        \n",
    "    def __getattribute__(self, name):\n",
    "        print('__getattribute__')\n",
    "        return super().__getattribute__(name)\n",
    "    \n",
    "    def __getattr__(self, name):\n",
    "        return '속성이 없음'"
   ]
  },
  {
   "cell_type": "code",
   "execution_count": null,
   "id": "6798e8e2",
   "metadata": {},
   "outputs": [],
   "source": [
    "obj = ObjectAttr('인스턴스 속성')"
   ]
  },
  {
   "cell_type": "code",
   "execution_count": null,
   "id": "477e0287",
   "metadata": {},
   "outputs": [],
   "source": [
    "obj.__dict__"
   ]
  },
  {
   "cell_type": "markdown",
   "id": "2dc3b989",
   "metadata": {},
   "source": [
    "---"
   ]
  },
  {
   "cell_type": "code",
   "execution_count": null,
   "id": "1ae89f6e",
   "metadata": {},
   "outputs": [],
   "source": [
    "ObjectAttr.classAttr"
   ]
  },
  {
   "cell_type": "code",
   "execution_count": null,
   "id": "cd815089",
   "metadata": {},
   "outputs": [],
   "source": [
    "obj.classAttr"
   ]
  },
  {
   "cell_type": "code",
   "execution_count": null,
   "id": "b4e70de9",
   "metadata": {},
   "outputs": [],
   "source": [
    "obj.name"
   ]
  },
  {
   "cell_type": "code",
   "execution_count": null,
   "id": "437e03b1",
   "metadata": {},
   "outputs": [],
   "source": [
    "ObjectAttr.name"
   ]
  },
  {
   "cell_type": "markdown",
   "id": "3240a4d9",
   "metadata": {},
   "source": [
    "## 33.3. 색인 연산자"
   ]
  },
  {
   "cell_type": "code",
   "execution_count": null,
   "id": "ab3664ac",
   "metadata": {},
   "outputs": [],
   "source": [
    "import collections as cols"
   ]
  },
  {
   "cell_type": "code",
   "execution_count": null,
   "id": "402c3bf2",
   "metadata": {},
   "outputs": [],
   "source": [
    "class Seq(cols.UserList):\n",
    "    \n",
    "    def __getitem__(self, i):\n",
    "        print('Seq getitem')\n",
    "        return self.data[i]\n",
    "    \n",
    "    def __setitem__(self, i, item):\n",
    "        print('Seq setitem')\n",
    "        if i == len(self.data):\n",
    "            self.data.append(item)\n",
    "        else:\n",
    "            self.data[i] = item"
   ]
  },
  {
   "cell_type": "code",
   "execution_count": null,
   "id": "3d7f98ff",
   "metadata": {},
   "outputs": [],
   "source": [
    "l = Seq()"
   ]
  },
  {
   "cell_type": "code",
   "execution_count": null,
   "id": "1503df21",
   "metadata": {},
   "outputs": [],
   "source": [
    "l.__dict__"
   ]
  },
  {
   "cell_type": "markdown",
   "id": "2e0ce7c6",
   "metadata": {},
   "source": [
    "---"
   ]
  },
  {
   "cell_type": "code",
   "execution_count": null,
   "id": "1c18ea56",
   "metadata": {},
   "outputs": [],
   "source": [
    "import operator as op"
   ]
  },
  {
   "cell_type": "code",
   "execution_count": null,
   "id": "2f15caf7",
   "metadata": {},
   "outputs": [],
   "source": [
    "l[0] = 100"
   ]
  },
  {
   "cell_type": "code",
   "execution_count": null,
   "id": "98e85478",
   "metadata": {},
   "outputs": [],
   "source": [
    "op.setitem(l, 1, 200)"
   ]
  },
  {
   "cell_type": "code",
   "execution_count": null,
   "id": "17e0a5ff",
   "metadata": {},
   "outputs": [],
   "source": [
    "l.__dict__"
   ]
  },
  {
   "cell_type": "code",
   "execution_count": null,
   "id": "324bd741",
   "metadata": {},
   "outputs": [],
   "source": [
    "l[0]"
   ]
  },
  {
   "cell_type": "code",
   "execution_count": null,
   "id": "cae09bb5",
   "metadata": {},
   "outputs": [],
   "source": [
    "op.getitem(l, 1)"
   ]
  },
  {
   "cell_type": "markdown",
   "id": "17f12064",
   "metadata": {},
   "source": [
    "---"
   ]
  },
  {
   "cell_type": "code",
   "execution_count": null,
   "id": "49041d10",
   "metadata": {},
   "outputs": [],
   "source": [
    "lm = Seq()"
   ]
  },
  {
   "cell_type": "code",
   "execution_count": null,
   "id": "7f4dbdeb",
   "metadata": {},
   "outputs": [],
   "source": [
    "lm[0] = 999"
   ]
  },
  {
   "cell_type": "code",
   "execution_count": null,
   "id": "05f67401",
   "metadata": {},
   "outputs": [],
   "source": [
    "lm[1]"
   ]
  },
  {
   "cell_type": "markdown",
   "id": "19362224",
   "metadata": {},
   "source": [
    "---"
   ]
  },
  {
   "cell_type": "code",
   "execution_count": null,
   "id": "e3c084c4",
   "metadata": {},
   "outputs": [],
   "source": [
    "def index_check(seq, i):\n",
    "    if i < len(seq):\n",
    "        return i\n",
    "    else:\n",
    "        return len(seq) - 1"
   ]
  },
  {
   "cell_type": "code",
   "execution_count": null,
   "id": "22c9c0d0",
   "metadata": {},
   "outputs": [],
   "source": [
    "lm[index_check(lm, 3)]"
   ]
  },
  {
   "cell_type": "markdown",
   "id": "e2e67ce7",
   "metadata": {},
   "source": [
    "---"
   ]
  },
  {
   "cell_type": "code",
   "execution_count": null,
   "id": "fdd1bc66",
   "metadata": {},
   "outputs": [],
   "source": [
    "class Udict(cols.UserDict):\n",
    "    def __getitem__(self, key):\n",
    "        print('Udict getitem')\n",
    "        return self.data[key]\n",
    "    \n",
    "    def __setitem__(self, key, item):\n",
    "        print('Udict setitem')\n",
    "        self.data[key] = item"
   ]
  },
  {
   "cell_type": "code",
   "execution_count": null,
   "id": "2e757e5c",
   "metadata": {},
   "outputs": [],
   "source": [
    "ud = Udict()"
   ]
  },
  {
   "cell_type": "code",
   "execution_count": null,
   "id": "67e57170",
   "metadata": {},
   "outputs": [],
   "source": [
    "ud.__dict__"
   ]
  },
  {
   "cell_type": "code",
   "execution_count": null,
   "id": "8005da74",
   "metadata": {},
   "outputs": [],
   "source": [
    "ud['키없음']"
   ]
  },
  {
   "cell_type": "code",
   "execution_count": null,
   "id": "7bd1e144",
   "metadata": {},
   "outputs": [],
   "source": [
    "ud.get('키없음', 'default')"
   ]
  },
  {
   "cell_type": "code",
   "execution_count": null,
   "id": "1c450eaf",
   "metadata": {},
   "outputs": [],
   "source": [
    "ud.__dict__"
   ]
  },
  {
   "cell_type": "code",
   "execution_count": null,
   "id": "8f7fc725",
   "metadata": {},
   "outputs": [],
   "source": [
    "ud.setdefault('키없음', 'defaults')"
   ]
  },
  {
   "cell_type": "code",
   "execution_count": null,
   "id": "c3bc6c1a",
   "metadata": {},
   "outputs": [],
   "source": [
    "ud.__dict__"
   ]
  },
  {
   "cell_type": "code",
   "execution_count": null,
   "id": "81634fac",
   "metadata": {},
   "outputs": [],
   "source": [
    "class Udict_(cols.UserDict):\n",
    "    \n",
    "    def __missing__(self, key):\n",
    "        print('Udict missing')\n",
    "        \n",
    "    def __setitem__(self, key, item):\n",
    "        print('Udict setitem')\n",
    "        self.__dict__[key] = item"
   ]
  },
  {
   "cell_type": "code",
   "execution_count": null,
   "id": "0b10dad1",
   "metadata": {},
   "outputs": [],
   "source": [
    "ud_ = Udict_()"
   ]
  },
  {
   "cell_type": "code",
   "execution_count": null,
   "id": "38fa00d4",
   "metadata": {},
   "outputs": [],
   "source": [
    "ud_.__dict__"
   ]
  },
  {
   "cell_type": "code",
   "execution_count": null,
   "id": "daea1353",
   "metadata": {},
   "outputs": [],
   "source": [
    "ud_['str']"
   ]
  }
 ],
 "metadata": {
  "kernelspec": {
   "display_name": "Python 3 (ipykernel)",
   "language": "python",
   "name": "python3"
  },
  "language_info": {
   "codemirror_mode": {
    "name": "ipython",
    "version": 3
   },
   "file_extension": ".py",
   "mimetype": "text/x-python",
   "name": "python",
   "nbconvert_exporter": "python",
   "pygments_lexer": "ipython3",
   "version": "3.8.12"
  }
 },
 "nbformat": 4,
 "nbformat_minor": 5
}
