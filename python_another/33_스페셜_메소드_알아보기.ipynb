{
 "cells": [
  {
   "cell_type": "markdown",
   "id": "38ef798a",
   "metadata": {},
   "source": [
    "# 33 장. 스페셜 메소드 알아보기"
   ]
  },
  {
   "cell_type": "markdown",
   "id": "aa24d348",
   "metadata": {},
   "source": [
    "## 33.1. 수학 연산자"
   ]
  },
  {
   "cell_type": "code",
   "execution_count": 1,
   "id": "4b17f608",
   "metadata": {},
   "outputs": [],
   "source": [
    "import operator as op"
   ]
  },
  {
   "cell_type": "code",
   "execution_count": 2,
   "id": "34d05a53",
   "metadata": {},
   "outputs": [
    {
     "name": "stdout",
     "output_type": "stream",
     "text": [
      "__abs__             __add__             __and__             __eq__              __floordiv__        \n",
      "__ge__              __gt__              __invert__          __le__              __lshift__          \n",
      "__lt__              __mod__             __mul__             __ne__              __neg__             \n",
      "__or__              __pos__             __pow__             __rshift__          __sub__             \n",
      "__truediv__         __xor__             "
     ]
    }
   ],
   "source": [
    "count = 0\n",
    "for i in dir(int):\n",
    "    if i in dir(op):\n",
    "        if i not in ['__doc__', '__index__']:\n",
    "            count += 1\n",
    "            print(f'{i:20}',end='')\n",
    "            if not (count % 5): print()"
   ]
  },
  {
   "cell_type": "code",
   "execution_count": 3,
   "id": "62cb0b9a",
   "metadata": {},
   "outputs": [
    {
     "data": {
      "text/plain": [
       "(105, 95, 500)"
      ]
     },
     "execution_count": 3,
     "metadata": {},
     "output_type": "execute_result"
    }
   ],
   "source": [
    "100 + 5, 100 - 5, 100 * 5"
   ]
  },
  {
   "cell_type": "code",
   "execution_count": 4,
   "id": "0732aee6",
   "metadata": {},
   "outputs": [
    {
     "data": {
      "text/plain": [
       "(105, 95, 500)"
      ]
     },
     "execution_count": 4,
     "metadata": {},
     "output_type": "execute_result"
    }
   ],
   "source": [
    "(100).__add__(5), (100).__sub__(5), (100).__mul__(5)"
   ]
  },
  {
   "cell_type": "markdown",
   "id": "e854525f",
   "metadata": {},
   "source": [
    "---"
   ]
  },
  {
   "cell_type": "code",
   "execution_count": 5,
   "id": "26f3e5c8",
   "metadata": {},
   "outputs": [
    {
     "data": {
      "text/plain": [
       "(20, 20.0)"
      ]
     },
     "execution_count": 5,
     "metadata": {},
     "output_type": "execute_result"
    }
   ],
   "source": [
    "100 // 5, 100 / 5"
   ]
  },
  {
   "cell_type": "code",
   "execution_count": 6,
   "id": "542369eb",
   "metadata": {},
   "outputs": [
    {
     "data": {
      "text/plain": [
       "(20, 20.0)"
      ]
     },
     "execution_count": 6,
     "metadata": {},
     "output_type": "execute_result"
    }
   ],
   "source": [
    "(100).__floordiv__(5), (100).__truediv__(5)"
   ]
  },
  {
   "cell_type": "markdown",
   "id": "2d9e6947",
   "metadata": {},
   "source": [
    "---"
   ]
  },
  {
   "cell_type": "code",
   "execution_count": 7,
   "id": "77de4c0a",
   "metadata": {},
   "outputs": [
    {
     "data": {
      "text/plain": [
       "(0, 10000)"
      ]
     },
     "execution_count": 7,
     "metadata": {},
     "output_type": "execute_result"
    }
   ],
   "source": [
    "100 % 5, 100**2"
   ]
  },
  {
   "cell_type": "code",
   "execution_count": 8,
   "id": "d42582c3",
   "metadata": {},
   "outputs": [
    {
     "data": {
      "text/plain": [
       "(0, 10000)"
      ]
     },
     "execution_count": 8,
     "metadata": {},
     "output_type": "execute_result"
    }
   ],
   "source": [
    "(100).__mod__(5), (100).__pow__(2)"
   ]
  },
  {
   "cell_type": "markdown",
   "id": "89975005",
   "metadata": {},
   "source": [
    "---"
   ]
  },
  {
   "cell_type": "code",
   "execution_count": 11,
   "id": "4d25b171",
   "metadata": {},
   "outputs": [
    {
     "data": {
      "text/plain": [
       "(-100, -100, 100)"
      ]
     },
     "execution_count": 11,
     "metadata": {},
     "output_type": "execute_result"
    }
   ],
   "source": [
    "-100, +(-100), abs(-100)"
   ]
  },
  {
   "cell_type": "code",
   "execution_count": 12,
   "id": "e08334d5",
   "metadata": {},
   "outputs": [
    {
     "data": {
      "text/plain": [
       "(-100, -100, 100)"
      ]
     },
     "execution_count": 12,
     "metadata": {},
     "output_type": "execute_result"
    }
   ],
   "source": [
    "(100).__neg__(), (-100).__pos__(), (-100).__abs__()"
   ]
  },
  {
   "cell_type": "markdown",
   "id": "5bc5c826",
   "metadata": {},
   "source": [
    "---"
   ]
  },
  {
   "cell_type": "code",
   "execution_count": 13,
   "id": "f24a4b56",
   "metadata": {},
   "outputs": [
    {
     "data": {
      "text/plain": [
       "(True, False)"
      ]
     },
     "execution_count": 13,
     "metadata": {},
     "output_type": "execute_result"
    }
   ],
   "source": [
    "100 > 5, 100 < 5"
   ]
  },
  {
   "cell_type": "code",
   "execution_count": 14,
   "id": "bbf4c075",
   "metadata": {},
   "outputs": [
    {
     "data": {
      "text/plain": [
       "(True, False)"
      ]
     },
     "execution_count": 14,
     "metadata": {},
     "output_type": "execute_result"
    }
   ],
   "source": [
    "(100).__gt__(5), (100).__lt__(5)"
   ]
  },
  {
   "cell_type": "code",
   "execution_count": 15,
   "id": "f1412745",
   "metadata": {},
   "outputs": [
    {
     "data": {
      "text/plain": [
       "(False, True, False, True)"
      ]
     },
     "execution_count": 15,
     "metadata": {},
     "output_type": "execute_result"
    }
   ],
   "source": [
    "100 == 5, 100 >= 5, 100 <= 5, 100 != 5"
   ]
  },
  {
   "cell_type": "code",
   "execution_count": 16,
   "id": "fd6b31d2",
   "metadata": {},
   "outputs": [
    {
     "data": {
      "text/plain": [
       "(False, True, False, True)"
      ]
     },
     "execution_count": 16,
     "metadata": {},
     "output_type": "execute_result"
    }
   ],
   "source": [
    "(100).__eq__(5), (100).__ge__(5), (100).__le__(5), (100).__ne__(5)"
   ]
  },
  {
   "cell_type": "markdown",
   "id": "4bc221c1",
   "metadata": {},
   "source": [
    "---"
   ]
  },
  {
   "cell_type": "code",
   "execution_count": 17,
   "id": "c11bcc5b",
   "metadata": {},
   "outputs": [
    {
     "data": {
      "text/plain": [
       "(True, True)"
      ]
     },
     "execution_count": 17,
     "metadata": {},
     "output_type": "execute_result"
    }
   ],
   "source": [
    "(100 > 5) and (200 > 5), (100 > 5) & (200 > 5)"
   ]
  },
  {
   "cell_type": "code",
   "execution_count": 18,
   "id": "1b7e8ff3",
   "metadata": {},
   "outputs": [
    {
     "data": {
      "text/plain": [
       "True"
      ]
     },
     "execution_count": 18,
     "metadata": {},
     "output_type": "execute_result"
    }
   ],
   "source": [
    "(100 > 5).__and__(200 > 5)"
   ]
  },
  {
   "cell_type": "code",
   "execution_count": 19,
   "id": "5a54a165",
   "metadata": {},
   "outputs": [
    {
     "data": {
      "text/plain": [
       "(True, True)"
      ]
     },
     "execution_count": 19,
     "metadata": {},
     "output_type": "execute_result"
    }
   ],
   "source": [
    "(100 < 5) or (200 > 5), (100 < 5) | (200 > 5)"
   ]
  },
  {
   "cell_type": "code",
   "execution_count": 20,
   "id": "7050a4e6",
   "metadata": {},
   "outputs": [
    {
     "data": {
      "text/plain": [
       "True"
      ]
     },
     "execution_count": 20,
     "metadata": {},
     "output_type": "execute_result"
    }
   ],
   "source": [
    "(100 < 5).__or__(200 > 5)"
   ]
  },
  {
   "cell_type": "code",
   "execution_count": 21,
   "id": "5304ebb5",
   "metadata": {},
   "outputs": [
    {
     "data": {
      "text/plain": [
       "True"
      ]
     },
     "execution_count": 21,
     "metadata": {},
     "output_type": "execute_result"
    }
   ],
   "source": [
    "(100 < 5) ^ (200 > 5)"
   ]
  },
  {
   "cell_type": "code",
   "execution_count": 23,
   "id": "ca25e36e",
   "metadata": {},
   "outputs": [
    {
     "data": {
      "text/plain": [
       "True"
      ]
     },
     "execution_count": 23,
     "metadata": {},
     "output_type": "execute_result"
    }
   ],
   "source": [
    "(100 < 5).__xor__(200 > 5)"
   ]
  },
  {
   "cell_type": "code",
   "execution_count": 24,
   "id": "9bdb4bfe",
   "metadata": {},
   "outputs": [
    {
     "data": {
      "text/plain": [
       "True"
      ]
     },
     "execution_count": 24,
     "metadata": {},
     "output_type": "execute_result"
    }
   ],
   "source": [
    "not (100 < 5)"
   ]
  },
  {
   "cell_type": "markdown",
   "id": "a39af47f",
   "metadata": {},
   "source": [
    "---"
   ]
  },
  {
   "cell_type": "code",
   "execution_count": 35,
   "id": "3b9e71f0",
   "metadata": {},
   "outputs": [
    {
     "data": {
      "text/plain": [
       "(128, 8)"
      ]
     },
     "execution_count": 35,
     "metadata": {},
     "output_type": "execute_result"
    }
   ],
   "source": [
    "32 << 2, 32 >> 2"
   ]
  },
  {
   "cell_type": "code",
   "execution_count": 36,
   "id": "3c9c15cf",
   "metadata": {},
   "outputs": [
    {
     "data": {
      "text/plain": [
       "(128, 8)"
      ]
     },
     "execution_count": 36,
     "metadata": {},
     "output_type": "execute_result"
    }
   ],
   "source": [
    "(32).__lshift__(2), (32).__rshift__(2)"
   ]
  },
  {
   "cell_type": "markdown",
   "id": "f1ff5449",
   "metadata": {},
   "source": [
    "---"
   ]
  },
  {
   "cell_type": "code",
   "execution_count": 37,
   "id": "a1ee9b43",
   "metadata": {},
   "outputs": [
    {
     "data": {
      "text/plain": [
       "('0b100000', '-0b100001')"
      ]
     },
     "execution_count": 37,
     "metadata": {},
     "output_type": "execute_result"
    }
   ],
   "source": [
    "bin(32), bin(~32)"
   ]
  },
  {
   "cell_type": "code",
   "execution_count": 38,
   "id": "2889e9ab",
   "metadata": {},
   "outputs": [
    {
     "data": {
      "text/plain": [
       "(32, -33)"
      ]
     },
     "execution_count": 38,
     "metadata": {},
     "output_type": "execute_result"
    }
   ],
   "source": [
    "int(bin(32), base=2), int(bin(~32), base=2)"
   ]
  },
  {
   "cell_type": "code",
   "execution_count": 39,
   "id": "42d92d47",
   "metadata": {},
   "outputs": [
    {
     "data": {
      "text/plain": [
       "(-33, -33)"
      ]
     },
     "execution_count": 39,
     "metadata": {},
     "output_type": "execute_result"
    }
   ],
   "source": [
    "~32, (32).__invert__()"
   ]
  },
  {
   "cell_type": "code",
   "execution_count": 40,
   "id": "e537d441",
   "metadata": {},
   "outputs": [
    {
     "data": {
      "text/plain": [
       "(0, 0)"
      ]
     },
     "execution_count": 40,
     "metadata": {},
     "output_type": "execute_result"
    }
   ],
   "source": [
    "32 & (~32), (32).__and__(~32)"
   ]
  },
  {
   "cell_type": "markdown",
   "id": "62255ed5",
   "metadata": {},
   "source": [
    "## 33.2. 객체 접근 연산자"
   ]
  },
  {
   "cell_type": "code",
   "execution_count": 41,
   "id": "4f8e89ae",
   "metadata": {},
   "outputs": [],
   "source": [
    "class Attribute:\n",
    "    pass"
   ]
  },
  {
   "cell_type": "code",
   "execution_count": 42,
   "id": "d28702ef",
   "metadata": {},
   "outputs": [],
   "source": [
    "a = Attribute()"
   ]
  },
  {
   "cell_type": "code",
   "execution_count": 43,
   "id": "238dde49",
   "metadata": {},
   "outputs": [
    {
     "data": {
      "text/plain": [
       "{}"
      ]
     },
     "execution_count": 43,
     "metadata": {},
     "output_type": "execute_result"
    }
   ],
   "source": [
    "a.__dict__"
   ]
  },
  {
   "cell_type": "code",
   "execution_count": 44,
   "id": "14c8e180",
   "metadata": {},
   "outputs": [],
   "source": [
    "setattr(a, 'name', '속성값 추가')"
   ]
  },
  {
   "cell_type": "code",
   "execution_count": 45,
   "id": "d57dbf3b",
   "metadata": {},
   "outputs": [
    {
     "data": {
      "text/plain": [
       "{'name': '속성값 추가'}"
      ]
     },
     "execution_count": 45,
     "metadata": {},
     "output_type": "execute_result"
    }
   ],
   "source": [
    "a.__dict__"
   ]
  },
  {
   "cell_type": "code",
   "execution_count": 46,
   "id": "15472ae6",
   "metadata": {},
   "outputs": [
    {
     "data": {
      "text/plain": [
       "'속성값 추가'"
      ]
     },
     "execution_count": 46,
     "metadata": {},
     "output_type": "execute_result"
    }
   ],
   "source": [
    "getattr(a, 'name')"
   ]
  },
  {
   "cell_type": "code",
   "execution_count": 47,
   "id": "7945281a",
   "metadata": {},
   "outputs": [],
   "source": [
    "if hasattr(a, 'name'):\n",
    "    delattr(a, 'name')"
   ]
  },
  {
   "cell_type": "code",
   "execution_count": 48,
   "id": "e1a2a928",
   "metadata": {},
   "outputs": [
    {
     "ename": "AttributeError",
     "evalue": "'Attribute' object has no attribute 'name'",
     "output_type": "error",
     "traceback": [
      "\u001b[0;31m---------------------------------------------------------------------------\u001b[0m",
      "\u001b[0;31mAttributeError\u001b[0m                            Traceback (most recent call last)",
      "Input \u001b[0;32mIn [48]\u001b[0m, in \u001b[0;36m<cell line: 1>\u001b[0;34m()\u001b[0m\n\u001b[0;32m----> 1\u001b[0m \u001b[38;5;28;43mgetattr\u001b[39;49m\u001b[43m(\u001b[49m\u001b[43ma\u001b[49m\u001b[43m,\u001b[49m\u001b[43m \u001b[49m\u001b[38;5;124;43m'\u001b[39;49m\u001b[38;5;124;43mname\u001b[39;49m\u001b[38;5;124;43m'\u001b[39;49m\u001b[43m)\u001b[49m\n",
      "\u001b[0;31mAttributeError\u001b[0m: 'Attribute' object has no attribute 'name'"
     ]
    }
   ],
   "source": [
    "getattr(a, 'name')"
   ]
  },
  {
   "cell_type": "code",
   "execution_count": 49,
   "id": "a60674e0",
   "metadata": {},
   "outputs": [],
   "source": [
    "def __init__(self, name):\n",
    "    self.name = name"
   ]
  },
  {
   "cell_type": "code",
   "execution_count": 50,
   "id": "df4fd3ca",
   "metadata": {},
   "outputs": [],
   "source": [
    "setattr(Attribute, '__init__', __init__)"
   ]
  },
  {
   "cell_type": "code",
   "execution_count": 51,
   "id": "082eef16",
   "metadata": {},
   "outputs": [
    {
     "data": {
      "text/plain": [
       "mappingproxy({'__module__': '__main__',\n",
       "              '__dict__': <attribute '__dict__' of 'Attribute' objects>,\n",
       "              '__weakref__': <attribute '__weakref__' of 'Attribute' objects>,\n",
       "              '__doc__': None,\n",
       "              '__init__': <function __main__.__init__(self, name)>})"
      ]
     },
     "execution_count": 51,
     "metadata": {},
     "output_type": "execute_result"
    }
   ],
   "source": [
    "Attribute.__dict__"
   ]
  },
  {
   "cell_type": "code",
   "execution_count": 52,
   "id": "f3120637",
   "metadata": {},
   "outputs": [],
   "source": [
    "aa = Attribute('초기화 이용')"
   ]
  },
  {
   "cell_type": "code",
   "execution_count": 53,
   "id": "ad6aad24",
   "metadata": {},
   "outputs": [
    {
     "data": {
      "text/plain": [
       "{'name': '초기화 이용'}"
      ]
     },
     "execution_count": 53,
     "metadata": {},
     "output_type": "execute_result"
    }
   ],
   "source": [
    "aa.__dict__"
   ]
  },
  {
   "cell_type": "markdown",
   "id": "0bdccd07",
   "metadata": {},
   "source": [
    "---"
   ]
  },
  {
   "cell_type": "code",
   "execution_count": 59,
   "id": "0774dc7f",
   "metadata": {},
   "outputs": [],
   "source": [
    "class ObjectAttr:\n",
    "    \n",
    "    classAttr = 'ObjectAttr'\n",
    "    \n",
    "    def __init__(self, value):\n",
    "        self.objattr = value\n",
    "        \n",
    "    def __getattribute__(self, name):\n",
    "        print('__getattribute__')\n",
    "        return super().__getattribute__(name)\n",
    "    \n",
    "    def __getattr__(self, name):\n",
    "        return '속성이 없음'"
   ]
  },
  {
   "cell_type": "code",
   "execution_count": 60,
   "id": "4b3ff14a",
   "metadata": {},
   "outputs": [
    {
     "name": "stdout",
     "output_type": "stream",
     "text": [
      "__getattribute__\n",
      "__getattribute__\n",
      "__getattribute__\n",
      "__getattribute__\n"
     ]
    }
   ],
   "source": [
    "obj = ObjectAttr('인스턴스 속성')"
   ]
  },
  {
   "cell_type": "code",
   "execution_count": 61,
   "id": "dd803b7c",
   "metadata": {},
   "outputs": [
    {
     "name": "stdout",
     "output_type": "stream",
     "text": [
      "__getattribute__\n"
     ]
    },
    {
     "data": {
      "text/plain": [
       "{'objattr': '인스턴스 속성'}"
      ]
     },
     "execution_count": 61,
     "metadata": {},
     "output_type": "execute_result"
    }
   ],
   "source": [
    "obj.__dict__"
   ]
  },
  {
   "cell_type": "markdown",
   "id": "ddc2abc9",
   "metadata": {},
   "source": [
    "---"
   ]
  },
  {
   "cell_type": "code",
   "execution_count": 62,
   "id": "0cfdcb32",
   "metadata": {},
   "outputs": [
    {
     "data": {
      "text/plain": [
       "'ObjectAttr'"
      ]
     },
     "execution_count": 62,
     "metadata": {},
     "output_type": "execute_result"
    }
   ],
   "source": [
    "ObjectAttr.classAttr"
   ]
  },
  {
   "cell_type": "code",
   "execution_count": 63,
   "id": "57b62820",
   "metadata": {},
   "outputs": [
    {
     "name": "stdout",
     "output_type": "stream",
     "text": [
      "__getattribute__\n"
     ]
    },
    {
     "data": {
      "text/plain": [
       "'ObjectAttr'"
      ]
     },
     "execution_count": 63,
     "metadata": {},
     "output_type": "execute_result"
    }
   ],
   "source": [
    "obj.classAttr"
   ]
  },
  {
   "cell_type": "code",
   "execution_count": 64,
   "id": "6136463e",
   "metadata": {},
   "outputs": [
    {
     "name": "stdout",
     "output_type": "stream",
     "text": [
      "__getattribute__\n"
     ]
    },
    {
     "data": {
      "text/plain": [
       "'속성이 없음'"
      ]
     },
     "execution_count": 64,
     "metadata": {},
     "output_type": "execute_result"
    }
   ],
   "source": [
    "obj.name"
   ]
  },
  {
   "cell_type": "code",
   "execution_count": 65,
   "id": "7ffe5ca5",
   "metadata": {},
   "outputs": [
    {
     "ename": "AttributeError",
     "evalue": "type object 'ObjectAttr' has no attribute 'name'",
     "output_type": "error",
     "traceback": [
      "\u001b[0;31m---------------------------------------------------------------------------\u001b[0m",
      "\u001b[0;31mAttributeError\u001b[0m                            Traceback (most recent call last)",
      "Input \u001b[0;32mIn [65]\u001b[0m, in \u001b[0;36m<cell line: 1>\u001b[0;34m()\u001b[0m\n\u001b[0;32m----> 1\u001b[0m \u001b[43mObjectAttr\u001b[49m\u001b[38;5;241;43m.\u001b[39;49m\u001b[43mname\u001b[49m\n",
      "\u001b[0;31mAttributeError\u001b[0m: type object 'ObjectAttr' has no attribute 'name'"
     ]
    }
   ],
   "source": [
    "ObjectAttr.name"
   ]
  },
  {
   "cell_type": "markdown",
   "id": "67b199a9",
   "metadata": {},
   "source": [
    "## 33.3. 색인 연산자"
   ]
  },
  {
   "cell_type": "code",
   "execution_count": 66,
   "id": "faac9cf4",
   "metadata": {},
   "outputs": [],
   "source": [
    "import collections as cols"
   ]
  },
  {
   "cell_type": "code",
   "execution_count": 67,
   "id": "465b5287",
   "metadata": {},
   "outputs": [],
   "source": [
    "class Seq(cols.UserList):\n",
    "    \n",
    "    def __getitem__(self, i):\n",
    "        print('Seq getitem')\n",
    "        return self.data[i]\n",
    "    \n",
    "    def __setitem__(self, i, item):\n",
    "        print('Seq setitem')\n",
    "        if i == len(self.data):\n",
    "            self.data.append(item)\n",
    "        else:\n",
    "            self.data[i] = item"
   ]
  },
  {
   "cell_type": "code",
   "execution_count": 68,
   "id": "6ba60443",
   "metadata": {},
   "outputs": [],
   "source": [
    "l = Seq()"
   ]
  },
  {
   "cell_type": "code",
   "execution_count": 69,
   "id": "21422d0a",
   "metadata": {},
   "outputs": [
    {
     "data": {
      "text/plain": [
       "{'data': []}"
      ]
     },
     "execution_count": 69,
     "metadata": {},
     "output_type": "execute_result"
    }
   ],
   "source": [
    "l.__dict__"
   ]
  },
  {
   "cell_type": "markdown",
   "id": "c749089c",
   "metadata": {},
   "source": [
    "---"
   ]
  },
  {
   "cell_type": "code",
   "execution_count": 70,
   "id": "95d9187d",
   "metadata": {},
   "outputs": [],
   "source": [
    "import operator as op"
   ]
  },
  {
   "cell_type": "code",
   "execution_count": 71,
   "id": "32ae333f",
   "metadata": {},
   "outputs": [
    {
     "name": "stdout",
     "output_type": "stream",
     "text": [
      "Seq setitem\n"
     ]
    }
   ],
   "source": [
    "l[0] = 100"
   ]
  },
  {
   "cell_type": "code",
   "execution_count": 72,
   "id": "a9460070",
   "metadata": {},
   "outputs": [
    {
     "name": "stdout",
     "output_type": "stream",
     "text": [
      "Seq setitem\n"
     ]
    }
   ],
   "source": [
    "op.setitem(l, 1, 200)"
   ]
  },
  {
   "cell_type": "code",
   "execution_count": 73,
   "id": "70450f28",
   "metadata": {},
   "outputs": [
    {
     "data": {
      "text/plain": [
       "{'data': [100, 200]}"
      ]
     },
     "execution_count": 73,
     "metadata": {},
     "output_type": "execute_result"
    }
   ],
   "source": [
    "l.__dict__"
   ]
  },
  {
   "cell_type": "code",
   "execution_count": 74,
   "id": "ab6cf864",
   "metadata": {},
   "outputs": [
    {
     "name": "stdout",
     "output_type": "stream",
     "text": [
      "Seq getitem\n"
     ]
    },
    {
     "data": {
      "text/plain": [
       "100"
      ]
     },
     "execution_count": 74,
     "metadata": {},
     "output_type": "execute_result"
    }
   ],
   "source": [
    "l[0]"
   ]
  },
  {
   "cell_type": "code",
   "execution_count": 75,
   "id": "ca71707e",
   "metadata": {},
   "outputs": [
    {
     "name": "stdout",
     "output_type": "stream",
     "text": [
      "Seq getitem\n"
     ]
    },
    {
     "data": {
      "text/plain": [
       "200"
      ]
     },
     "execution_count": 75,
     "metadata": {},
     "output_type": "execute_result"
    }
   ],
   "source": [
    "op.getitem(l, 1)"
   ]
  },
  {
   "cell_type": "markdown",
   "id": "2163d5e7",
   "metadata": {},
   "source": [
    "---"
   ]
  },
  {
   "cell_type": "code",
   "execution_count": 76,
   "id": "fd2c0d51",
   "metadata": {},
   "outputs": [],
   "source": [
    "lm = Seq()"
   ]
  },
  {
   "cell_type": "code",
   "execution_count": 77,
   "id": "9c7876dc",
   "metadata": {},
   "outputs": [
    {
     "name": "stdout",
     "output_type": "stream",
     "text": [
      "Seq setitem\n"
     ]
    }
   ],
   "source": [
    "lm[0] = 999"
   ]
  },
  {
   "cell_type": "code",
   "execution_count": 78,
   "id": "3e4ca910",
   "metadata": {},
   "outputs": [
    {
     "name": "stdout",
     "output_type": "stream",
     "text": [
      "Seq getitem\n"
     ]
    },
    {
     "ename": "IndexError",
     "evalue": "list index out of range",
     "output_type": "error",
     "traceback": [
      "\u001b[0;31m---------------------------------------------------------------------------\u001b[0m",
      "\u001b[0;31mIndexError\u001b[0m                                Traceback (most recent call last)",
      "Input \u001b[0;32mIn [78]\u001b[0m, in \u001b[0;36m<cell line: 1>\u001b[0;34m()\u001b[0m\n\u001b[0;32m----> 1\u001b[0m \u001b[43mlm\u001b[49m\u001b[43m[\u001b[49m\u001b[38;5;241;43m1\u001b[39;49m\u001b[43m]\u001b[49m\n",
      "Input \u001b[0;32mIn [67]\u001b[0m, in \u001b[0;36mSeq.__getitem__\u001b[0;34m(self, i)\u001b[0m\n\u001b[1;32m      3\u001b[0m \u001b[38;5;28;01mdef\u001b[39;00m \u001b[38;5;21m__getitem__\u001b[39m(\u001b[38;5;28mself\u001b[39m, i):\n\u001b[1;32m      4\u001b[0m     \u001b[38;5;28mprint\u001b[39m(\u001b[38;5;124m'\u001b[39m\u001b[38;5;124mSeq getitem\u001b[39m\u001b[38;5;124m'\u001b[39m)\n\u001b[0;32m----> 5\u001b[0m     \u001b[38;5;28;01mreturn\u001b[39;00m \u001b[38;5;28;43mself\u001b[39;49m\u001b[38;5;241;43m.\u001b[39;49m\u001b[43mdata\u001b[49m\u001b[43m[\u001b[49m\u001b[43mi\u001b[49m\u001b[43m]\u001b[49m\n",
      "\u001b[0;31mIndexError\u001b[0m: list index out of range"
     ]
    }
   ],
   "source": [
    "lm[1]"
   ]
  },
  {
   "cell_type": "code",
   "execution_count": null,
   "id": "b600ad41",
   "metadata": {},
   "outputs": [],
   "source": []
  }
 ],
 "metadata": {
  "kernelspec": {
   "display_name": "Python 3 (ipykernel)",
   "language": "python",
   "name": "python3"
  },
  "language_info": {
   "codemirror_mode": {
    "name": "ipython",
    "version": 3
   },
   "file_extension": ".py",
   "mimetype": "text/x-python",
   "name": "python",
   "nbconvert_exporter": "python",
   "pygments_lexer": "ipython3",
   "version": "3.8.12"
  }
 },
 "nbformat": 4,
 "nbformat_minor": 5
}
