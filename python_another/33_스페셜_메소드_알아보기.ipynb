{
 "cells": [
  {
   "cell_type": "markdown",
   "id": "afe676bc",
   "metadata": {},
   "source": [
    "# 33 장. 스페셜 메소드 알아보기"
   ]
  },
  {
   "cell_type": "markdown",
   "id": "d953c355",
   "metadata": {},
   "source": [
    "## 33.1. 수학 연산자"
   ]
  },
  {
   "cell_type": "code",
   "execution_count": 1,
   "id": "7cebdd2e",
   "metadata": {},
   "outputs": [],
   "source": [
    "import operator as op"
   ]
  },
  {
   "cell_type": "code",
   "execution_count": 2,
   "id": "27ec005d",
   "metadata": {},
   "outputs": [
    {
     "name": "stdout",
     "output_type": "stream",
     "text": [
      "__abs__             __add__             __and__             __eq__              __floordiv__        \n",
      "__ge__              __gt__              __invert__          __le__              __lshift__          \n",
      "__lt__              __mod__             __mul__             __ne__              __neg__             \n",
      "__or__              __pos__             __pow__             __rshift__          __sub__             \n",
      "__truediv__         __xor__             "
     ]
    }
   ],
   "source": [
    "count = 0\n",
    "for i in dir(int):\n",
    "    if i in dir(op):\n",
    "        if i not in ['__doc__', '__index__']:\n",
    "            count += 1\n",
    "            print(f'{i:20}',end='')\n",
    "            if not (count % 5): print()"
   ]
  },
  {
   "cell_type": "code",
   "execution_count": 3,
   "id": "d527db99",
   "metadata": {},
   "outputs": [
    {
     "data": {
      "text/plain": [
       "(105, 95, 500)"
      ]
     },
     "execution_count": 3,
     "metadata": {},
     "output_type": "execute_result"
    }
   ],
   "source": [
    "100 + 5, 100 - 5, 100 * 5"
   ]
  },
  {
   "cell_type": "code",
   "execution_count": 4,
   "id": "b6be5f87",
   "metadata": {},
   "outputs": [
    {
     "data": {
      "text/plain": [
       "(105, 95, 500)"
      ]
     },
     "execution_count": 4,
     "metadata": {},
     "output_type": "execute_result"
    }
   ],
   "source": [
    "(100).__add__(5), (100).__sub__(5), (100).__mul__(5)"
   ]
  },
  {
   "cell_type": "markdown",
   "id": "b30f707e",
   "metadata": {},
   "source": [
    "---"
   ]
  },
  {
   "cell_type": "code",
   "execution_count": 5,
   "id": "2439acca",
   "metadata": {},
   "outputs": [
    {
     "data": {
      "text/plain": [
       "(20, 20.0)"
      ]
     },
     "execution_count": 5,
     "metadata": {},
     "output_type": "execute_result"
    }
   ],
   "source": [
    "100 // 5, 100 / 5"
   ]
  },
  {
   "cell_type": "code",
   "execution_count": 6,
   "id": "f50e1132",
   "metadata": {},
   "outputs": [
    {
     "data": {
      "text/plain": [
       "(20, 20.0)"
      ]
     },
     "execution_count": 6,
     "metadata": {},
     "output_type": "execute_result"
    }
   ],
   "source": [
    "(100).__floordiv__(5), (100).__truediv__(5)"
   ]
  },
  {
   "cell_type": "markdown",
   "id": "bab2b4ed",
   "metadata": {},
   "source": [
    "---"
   ]
  },
  {
   "cell_type": "code",
   "execution_count": 7,
   "id": "7d0d65bc",
   "metadata": {},
   "outputs": [
    {
     "data": {
      "text/plain": [
       "(0, 10000)"
      ]
     },
     "execution_count": 7,
     "metadata": {},
     "output_type": "execute_result"
    }
   ],
   "source": [
    "100 % 5, 100**2"
   ]
  },
  {
   "cell_type": "code",
   "execution_count": 8,
   "id": "f76ac9a1",
   "metadata": {},
   "outputs": [
    {
     "data": {
      "text/plain": [
       "(0, 10000)"
      ]
     },
     "execution_count": 8,
     "metadata": {},
     "output_type": "execute_result"
    }
   ],
   "source": [
    "(100).__mod__(5), (100).__pow__(2)"
   ]
  },
  {
   "cell_type": "markdown",
   "id": "47776e46",
   "metadata": {},
   "source": [
    "---"
   ]
  },
  {
   "cell_type": "code",
   "execution_count": 11,
   "id": "9b3b91f1",
   "metadata": {},
   "outputs": [
    {
     "data": {
      "text/plain": [
       "(-100, -100, 100)"
      ]
     },
     "execution_count": 11,
     "metadata": {},
     "output_type": "execute_result"
    }
   ],
   "source": [
    "-100, +(-100), abs(-100)"
   ]
  },
  {
   "cell_type": "code",
   "execution_count": 12,
   "id": "5f77be75",
   "metadata": {},
   "outputs": [
    {
     "data": {
      "text/plain": [
       "(-100, -100, 100)"
      ]
     },
     "execution_count": 12,
     "metadata": {},
     "output_type": "execute_result"
    }
   ],
   "source": [
    "(100).__neg__(), (-100).__pos__(), (-100).__abs__()"
   ]
  },
  {
   "cell_type": "markdown",
   "id": "b16364c1",
   "metadata": {},
   "source": [
    "---"
   ]
  },
  {
   "cell_type": "code",
   "execution_count": 13,
   "id": "120154a7",
   "metadata": {},
   "outputs": [
    {
     "data": {
      "text/plain": [
       "(True, False)"
      ]
     },
     "execution_count": 13,
     "metadata": {},
     "output_type": "execute_result"
    }
   ],
   "source": [
    "100 > 5, 100 < 5"
   ]
  },
  {
   "cell_type": "code",
   "execution_count": 14,
   "id": "ea98f5a2",
   "metadata": {},
   "outputs": [
    {
     "data": {
      "text/plain": [
       "(True, False)"
      ]
     },
     "execution_count": 14,
     "metadata": {},
     "output_type": "execute_result"
    }
   ],
   "source": [
    "(100).__gt__(5), (100).__lt__(5)"
   ]
  },
  {
   "cell_type": "code",
   "execution_count": 15,
   "id": "763a30d0",
   "metadata": {},
   "outputs": [
    {
     "data": {
      "text/plain": [
       "(False, True, False, True)"
      ]
     },
     "execution_count": 15,
     "metadata": {},
     "output_type": "execute_result"
    }
   ],
   "source": [
    "100 == 5, 100 >= 5, 100 <= 5, 100 != 5"
   ]
  },
  {
   "cell_type": "code",
   "execution_count": 16,
   "id": "3c2bdc35",
   "metadata": {},
   "outputs": [
    {
     "data": {
      "text/plain": [
       "(False, True, False, True)"
      ]
     },
     "execution_count": 16,
     "metadata": {},
     "output_type": "execute_result"
    }
   ],
   "source": [
    "(100).__eq__(5), (100).__ge__(5), (100).__le__(5), (100).__ne__(5)"
   ]
  },
  {
   "cell_type": "markdown",
   "id": "5fbdee1d",
   "metadata": {},
   "source": [
    "---"
   ]
  },
  {
   "cell_type": "code",
   "execution_count": 17,
   "id": "47cfd785",
   "metadata": {},
   "outputs": [
    {
     "data": {
      "text/plain": [
       "(True, True)"
      ]
     },
     "execution_count": 17,
     "metadata": {},
     "output_type": "execute_result"
    }
   ],
   "source": [
    "(100 > 5) and (200 > 5), (100 > 5) & (200 > 5)"
   ]
  },
  {
   "cell_type": "code",
   "execution_count": 18,
   "id": "30923d39",
   "metadata": {},
   "outputs": [
    {
     "data": {
      "text/plain": [
       "True"
      ]
     },
     "execution_count": 18,
     "metadata": {},
     "output_type": "execute_result"
    }
   ],
   "source": [
    "(100 > 5).__and__(200 > 5)"
   ]
  },
  {
   "cell_type": "code",
   "execution_count": 19,
   "id": "25ee7d3e",
   "metadata": {},
   "outputs": [
    {
     "data": {
      "text/plain": [
       "(True, True)"
      ]
     },
     "execution_count": 19,
     "metadata": {},
     "output_type": "execute_result"
    }
   ],
   "source": [
    "(100 < 5) or (200 > 5), (100 < 5) | (200 > 5)"
   ]
  },
  {
   "cell_type": "code",
   "execution_count": 20,
   "id": "e8923b85",
   "metadata": {},
   "outputs": [
    {
     "data": {
      "text/plain": [
       "True"
      ]
     },
     "execution_count": 20,
     "metadata": {},
     "output_type": "execute_result"
    }
   ],
   "source": [
    "(100 < 5).__or__(200 > 5)"
   ]
  },
  {
   "cell_type": "code",
   "execution_count": 21,
   "id": "047bff72",
   "metadata": {},
   "outputs": [
    {
     "data": {
      "text/plain": [
       "True"
      ]
     },
     "execution_count": 21,
     "metadata": {},
     "output_type": "execute_result"
    }
   ],
   "source": [
    "(100 < 5) ^ (200 > 5)"
   ]
  },
  {
   "cell_type": "code",
   "execution_count": 23,
   "id": "6e0aaba3",
   "metadata": {},
   "outputs": [
    {
     "data": {
      "text/plain": [
       "True"
      ]
     },
     "execution_count": 23,
     "metadata": {},
     "output_type": "execute_result"
    }
   ],
   "source": [
    "(100 < 5).__xor__(200 > 5)"
   ]
  },
  {
   "cell_type": "code",
   "execution_count": 24,
   "id": "1ebf1150",
   "metadata": {},
   "outputs": [
    {
     "data": {
      "text/plain": [
       "True"
      ]
     },
     "execution_count": 24,
     "metadata": {},
     "output_type": "execute_result"
    }
   ],
   "source": [
    "not (100 < 5)"
   ]
  },
  {
   "cell_type": "markdown",
   "id": "5a514cc8",
   "metadata": {},
   "source": [
    "---"
   ]
  },
  {
   "cell_type": "code",
   "execution_count": 35,
   "id": "778e8fd7",
   "metadata": {},
   "outputs": [
    {
     "data": {
      "text/plain": [
       "(128, 8)"
      ]
     },
     "execution_count": 35,
     "metadata": {},
     "output_type": "execute_result"
    }
   ],
   "source": [
    "32 << 2, 32 >> 2"
   ]
  },
  {
   "cell_type": "code",
   "execution_count": 36,
   "id": "2a53e06f",
   "metadata": {},
   "outputs": [
    {
     "data": {
      "text/plain": [
       "(128, 8)"
      ]
     },
     "execution_count": 36,
     "metadata": {},
     "output_type": "execute_result"
    }
   ],
   "source": [
    "(32).__lshift__(2), (32).__rshift__(2)"
   ]
  },
  {
   "cell_type": "markdown",
   "id": "85176c9b",
   "metadata": {},
   "source": [
    "---"
   ]
  },
  {
   "cell_type": "code",
   "execution_count": 37,
   "id": "bed7e2f6",
   "metadata": {},
   "outputs": [
    {
     "data": {
      "text/plain": [
       "('0b100000', '-0b100001')"
      ]
     },
     "execution_count": 37,
     "metadata": {},
     "output_type": "execute_result"
    }
   ],
   "source": [
    "bin(32), bin(~32)"
   ]
  },
  {
   "cell_type": "code",
   "execution_count": 38,
   "id": "785fa282",
   "metadata": {},
   "outputs": [
    {
     "data": {
      "text/plain": [
       "(32, -33)"
      ]
     },
     "execution_count": 38,
     "metadata": {},
     "output_type": "execute_result"
    }
   ],
   "source": [
    "int(bin(32), base=2), int(bin(~32), base=2)"
   ]
  },
  {
   "cell_type": "code",
   "execution_count": 39,
   "id": "8fd79d01",
   "metadata": {},
   "outputs": [
    {
     "data": {
      "text/plain": [
       "(-33, -33)"
      ]
     },
     "execution_count": 39,
     "metadata": {},
     "output_type": "execute_result"
    }
   ],
   "source": [
    "~32, (32).__invert__()"
   ]
  },
  {
   "cell_type": "code",
   "execution_count": 40,
   "id": "e2fdcb9b",
   "metadata": {},
   "outputs": [
    {
     "data": {
      "text/plain": [
       "(0, 0)"
      ]
     },
     "execution_count": 40,
     "metadata": {},
     "output_type": "execute_result"
    }
   ],
   "source": [
    "32 & (~32), (32).__and__(~32)"
   ]
  },
  {
   "cell_type": "markdown",
   "id": "18d0e363",
   "metadata": {},
   "source": [
    "## 33.2. 객체 접근 연산자"
   ]
  },
  {
   "cell_type": "code",
   "execution_count": 41,
   "id": "7e1e03fe",
   "metadata": {},
   "outputs": [],
   "source": [
    "class Attribute:\n",
    "    pass"
   ]
  },
  {
   "cell_type": "code",
   "execution_count": 42,
   "id": "936742d4",
   "metadata": {},
   "outputs": [],
   "source": [
    "a = Attribute()"
   ]
  },
  {
   "cell_type": "code",
   "execution_count": 43,
   "id": "8f6b6e16",
   "metadata": {},
   "outputs": [
    {
     "data": {
      "text/plain": [
       "{}"
      ]
     },
     "execution_count": 43,
     "metadata": {},
     "output_type": "execute_result"
    }
   ],
   "source": [
    "a.__dict__"
   ]
  },
  {
   "cell_type": "code",
   "execution_count": 44,
   "id": "5d57a2e3",
   "metadata": {},
   "outputs": [],
   "source": [
    "setattr(a, 'name', '속성값 추가')"
   ]
  },
  {
   "cell_type": "code",
   "execution_count": 45,
   "id": "327d103c",
   "metadata": {},
   "outputs": [
    {
     "data": {
      "text/plain": [
       "{'name': '속성값 추가'}"
      ]
     },
     "execution_count": 45,
     "metadata": {},
     "output_type": "execute_result"
    }
   ],
   "source": [
    "a.__dict__"
   ]
  },
  {
   "cell_type": "code",
   "execution_count": 46,
   "id": "b4d21ca1",
   "metadata": {},
   "outputs": [
    {
     "data": {
      "text/plain": [
       "'속성값 추가'"
      ]
     },
     "execution_count": 46,
     "metadata": {},
     "output_type": "execute_result"
    }
   ],
   "source": [
    "getattr(a, 'name')"
   ]
  },
  {
   "cell_type": "code",
   "execution_count": 47,
   "id": "6ed57c74",
   "metadata": {},
   "outputs": [],
   "source": [
    "if hasattr(a, 'name'):\n",
    "    delattr(a, 'name')"
   ]
  },
  {
   "cell_type": "code",
   "execution_count": 48,
   "id": "19c45953",
   "metadata": {},
   "outputs": [
    {
     "ename": "AttributeError",
     "evalue": "'Attribute' object has no attribute 'name'",
     "output_type": "error",
     "traceback": [
      "\u001b[0;31m---------------------------------------------------------------------------\u001b[0m",
      "\u001b[0;31mAttributeError\u001b[0m                            Traceback (most recent call last)",
      "Input \u001b[0;32mIn [48]\u001b[0m, in \u001b[0;36m<cell line: 1>\u001b[0;34m()\u001b[0m\n\u001b[0;32m----> 1\u001b[0m \u001b[38;5;28;43mgetattr\u001b[39;49m\u001b[43m(\u001b[49m\u001b[43ma\u001b[49m\u001b[43m,\u001b[49m\u001b[43m \u001b[49m\u001b[38;5;124;43m'\u001b[39;49m\u001b[38;5;124;43mname\u001b[39;49m\u001b[38;5;124;43m'\u001b[39;49m\u001b[43m)\u001b[49m\n",
      "\u001b[0;31mAttributeError\u001b[0m: 'Attribute' object has no attribute 'name'"
     ]
    }
   ],
   "source": [
    "getattr(a, 'name')"
   ]
  },
  {
   "cell_type": "code",
   "execution_count": 49,
   "id": "a6919002",
   "metadata": {},
   "outputs": [],
   "source": [
    "def __init__(self, name):\n",
    "    self.name = name"
   ]
  },
  {
   "cell_type": "code",
   "execution_count": 50,
   "id": "a1276dac",
   "metadata": {},
   "outputs": [],
   "source": [
    "setattr(Attribute, '__init__', __init__)"
   ]
  },
  {
   "cell_type": "code",
   "execution_count": 51,
   "id": "7ae0d346",
   "metadata": {},
   "outputs": [
    {
     "data": {
      "text/plain": [
       "mappingproxy({'__module__': '__main__',\n",
       "              '__dict__': <attribute '__dict__' of 'Attribute' objects>,\n",
       "              '__weakref__': <attribute '__weakref__' of 'Attribute' objects>,\n",
       "              '__doc__': None,\n",
       "              '__init__': <function __main__.__init__(self, name)>})"
      ]
     },
     "execution_count": 51,
     "metadata": {},
     "output_type": "execute_result"
    }
   ],
   "source": [
    "Attribute.__dict__"
   ]
  },
  {
   "cell_type": "code",
   "execution_count": 52,
   "id": "3deb0e64",
   "metadata": {},
   "outputs": [],
   "source": [
    "aa = Attribute('초기화 이용')"
   ]
  },
  {
   "cell_type": "code",
   "execution_count": 53,
   "id": "ef1e72a4",
   "metadata": {},
   "outputs": [
    {
     "data": {
      "text/plain": [
       "{'name': '초기화 이용'}"
      ]
     },
     "execution_count": 53,
     "metadata": {},
     "output_type": "execute_result"
    }
   ],
   "source": [
    "aa.__dict__"
   ]
  },
  {
   "cell_type": "markdown",
   "id": "51e05ad5",
   "metadata": {},
   "source": [
    "---"
   ]
  },
  {
   "cell_type": "code",
   "execution_count": 59,
   "id": "381ad993",
   "metadata": {},
   "outputs": [],
   "source": [
    "class ObjectAttr:\n",
    "    \n",
    "    classAttr = 'ObjectAttr'\n",
    "    \n",
    "    def __init__(self, value):\n",
    "        self.objattr = value\n",
    "        \n",
    "    def __getattribute__(self, name):\n",
    "        print('__getattribute__')\n",
    "        return super().__getattribute__(name)\n",
    "    \n",
    "    def __getattr__(self, name):\n",
    "        return '속성이 없음'"
   ]
  },
  {
   "cell_type": "code",
   "execution_count": 60,
   "id": "a64c8ac7",
   "metadata": {},
   "outputs": [
    {
     "name": "stdout",
     "output_type": "stream",
     "text": [
      "__getattribute__\n",
      "__getattribute__\n",
      "__getattribute__\n",
      "__getattribute__\n"
     ]
    }
   ],
   "source": [
    "obj = ObjectAttr('인스턴스 속성')"
   ]
  },
  {
   "cell_type": "code",
   "execution_count": 61,
   "id": "512af6b4",
   "metadata": {},
   "outputs": [
    {
     "name": "stdout",
     "output_type": "stream",
     "text": [
      "__getattribute__\n"
     ]
    },
    {
     "data": {
      "text/plain": [
       "{'objattr': '인스턴스 속성'}"
      ]
     },
     "execution_count": 61,
     "metadata": {},
     "output_type": "execute_result"
    }
   ],
   "source": [
    "obj.__dict__"
   ]
  },
  {
   "cell_type": "code",
   "execution_count": null,
   "id": "a017f1de",
   "metadata": {},
   "outputs": [],
   "source": []
  },
  {
   "cell_type": "markdown",
   "id": "03a10fbe",
   "metadata": {},
   "source": [
    "## 33.3. 색인 연산자"
   ]
  },
  {
   "cell_type": "code",
   "execution_count": null,
   "id": "a8aa1064",
   "metadata": {},
   "outputs": [],
   "source": []
  }
 ],
 "metadata": {
  "kernelspec": {
   "display_name": "Python 3 (ipykernel)",
   "language": "python",
   "name": "python3"
  },
  "language_info": {
   "codemirror_mode": {
    "name": "ipython",
    "version": 3
   },
   "file_extension": ".py",
   "mimetype": "text/x-python",
   "name": "python",
   "nbconvert_exporter": "python",
   "pygments_lexer": "ipython3",
   "version": "3.8.12"
  }
 },
 "nbformat": 4,
 "nbformat_minor": 5
}
