{
 "cells": [
  {
   "cell_type": "markdown",
   "id": "7843cc9b",
   "metadata": {},
   "source": [
    "# 15 장. 특별한 내장 클래스 알아보기"
   ]
  },
  {
   "cell_type": "markdown",
   "id": "b4282dd9",
   "metadata": {},
   "source": [
    "## 15.1. 예약어로 관리되는 객체"
   ]
  },
  {
   "cell_type": "code",
   "execution_count": null,
   "id": "c34ae516",
   "metadata": {},
   "outputs": [],
   "source": []
  }
 ],
 "metadata": {
  "kernelspec": {
   "display_name": "Python 3 (ipykernel)",
   "language": "python",
   "name": "python3"
  },
  "language_info": {
   "codemirror_mode": {
    "name": "ipython",
    "version": 3
   },
   "file_extension": ".py",
   "mimetype": "text/x-python",
   "name": "python",
   "nbconvert_exporter": "python",
   "pygments_lexer": "ipython3",
   "version": "3.8.12"
  }
 },
 "nbformat": 4,
 "nbformat_minor": 5
}
