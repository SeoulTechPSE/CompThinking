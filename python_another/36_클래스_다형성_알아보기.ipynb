{
 "cells": [
  {
   "cell_type": "markdown",
   "id": "b3774f6c",
   "metadata": {},
   "source": [
    "# 36 장. 클래스 다형성 알아보기"
   ]
  },
  {
   "cell_type": "markdown",
   "id": "624aa09c",
   "metadata": {},
   "source": [
    "## 36.1. 오버로딩(Overloading)"
   ]
  },
  {
   "cell_type": "code",
   "execution_count": null,
   "id": "296d9d00",
   "metadata": {},
   "outputs": [],
   "source": [
    "#!pip install overload --upgrade"
   ]
  },
  {
   "cell_type": "code",
   "execution_count": null,
   "id": "1ce55a70",
   "metadata": {},
   "outputs": [],
   "source": [
    "import overload as ov"
   ]
  },
  {
   "cell_type": "code",
   "execution_count": null,
   "id": "23087537",
   "metadata": {},
   "outputs": [],
   "source": [
    "ov.overload"
   ]
  },
  {
   "cell_type": "code",
   "execution_count": null,
   "id": "dfb8f455",
   "metadata": {},
   "outputs": [],
   "source": [
    "class Overload:\n",
    "    \n",
    "    def __init__(self, name, age):\n",
    "        self.name = name\n",
    "        self.age = age\n",
    "        \n",
    "    @ov.overload\n",
    "    def get(self, name):\n",
    "        return self.name\n",
    "    \n",
    "    @get.add\n",
    "    def get(self, name, age):\n",
    "        return self.name, self.age"
   ]
  },
  {
   "cell_type": "code",
   "execution_count": null,
   "id": "ec948fd6",
   "metadata": {},
   "outputs": [],
   "source": [
    "Overload.__dict__"
   ]
  },
  {
   "cell_type": "code",
   "execution_count": null,
   "id": "88936f14",
   "metadata": {},
   "outputs": [],
   "source": [
    "c = Overload('Yoo', 45)"
   ]
  },
  {
   "cell_type": "code",
   "execution_count": null,
   "id": "0db4d580",
   "metadata": {},
   "outputs": [],
   "source": [
    "c.get('name')"
   ]
  },
  {
   "cell_type": "code",
   "execution_count": null,
   "id": "3e589f5c",
   "metadata": {},
   "outputs": [],
   "source": [
    "c.get('name', 'age')"
   ]
  },
  {
   "cell_type": "code",
   "execution_count": null,
   "id": "8fcc8137",
   "metadata": {},
   "outputs": [],
   "source": [
    "c.get(1, 2)"
   ]
  },
  {
   "cell_type": "code",
   "execution_count": null,
   "id": "28f9fdc7",
   "metadata": {},
   "outputs": [],
   "source": [
    "class Signature:\n",
    "    \n",
    "    def __init__(self, name, age):\n",
    "        self.name = name\n",
    "        self.age = age\n",
    "        \n",
    "    @ov.overload\n",
    "    def get(self, name: str):\n",
    "        return self.name\n",
    "    \n",
    "    @get.add\n",
    "    def get(self, age: int):\n",
    "        return self.age"
   ]
  },
  {
   "cell_type": "code",
   "execution_count": null,
   "id": "43e3b7d3",
   "metadata": {},
   "outputs": [],
   "source": [
    "s = Signature('Yoo', 35)"
   ]
  },
  {
   "cell_type": "code",
   "execution_count": null,
   "id": "d5984847",
   "metadata": {},
   "outputs": [],
   "source": [
    "s.get('')"
   ]
  },
  {
   "cell_type": "code",
   "execution_count": null,
   "id": "0bc9a37c",
   "metadata": {},
   "outputs": [],
   "source": [
    "s.get(1)"
   ]
  },
  {
   "cell_type": "code",
   "execution_count": null,
   "id": "4a1261f0",
   "metadata": {},
   "outputs": [],
   "source": [
    "s.get(1.0)"
   ]
  },
  {
   "cell_type": "markdown",
   "id": "e8ad69fc",
   "metadata": {},
   "source": [
    "---"
   ]
  },
  {
   "cell_type": "code",
   "execution_count": null,
   "id": "1bf477f1",
   "metadata": {},
   "outputs": [],
   "source": [
    "import multipledispatch as mp"
   ]
  },
  {
   "cell_type": "code",
   "execution_count": null,
   "id": "3a05b1c1",
   "metadata": {},
   "outputs": [],
   "source": [
    "mp.dispatch"
   ]
  },
  {
   "cell_type": "code",
   "execution_count": null,
   "id": "ec78053e",
   "metadata": {},
   "outputs": [],
   "source": [
    "class Overload_:\n",
    "    \n",
    "    def __init__(self, name, age):\n",
    "        self.name = name\n",
    "        self.age = age\n",
    "        \n",
    "    @mp.dispatch(str)\n",
    "    def get(self, name):\n",
    "        return self.name\n",
    "    \n",
    "    @mp.dispatch(str, int)\n",
    "    def get(self, name, age):\n",
    "        return self.name, self.age"
   ]
  },
  {
   "cell_type": "code",
   "execution_count": null,
   "id": "ea056cf2",
   "metadata": {},
   "outputs": [],
   "source": [
    "o = Overload_('Yoo', 35)"
   ]
  },
  {
   "cell_type": "code",
   "execution_count": null,
   "id": "38e6c516",
   "metadata": {},
   "outputs": [],
   "source": [
    "o.get('')"
   ]
  },
  {
   "cell_type": "code",
   "execution_count": null,
   "id": "6cfc4630",
   "metadata": {},
   "outputs": [],
   "source": [
    "o.get('', 1)"
   ]
  },
  {
   "cell_type": "code",
   "execution_count": null,
   "id": "97143c94",
   "metadata": {},
   "outputs": [],
   "source": [
    "o.get(1.0)"
   ]
  },
  {
   "cell_type": "code",
   "execution_count": null,
   "id": "32c207df",
   "metadata": {},
   "outputs": [],
   "source": [
    "class Overload_d:\n",
    "    \n",
    "    def __init__(self, name, age):\n",
    "        self.name = name\n",
    "        self.age = age\n",
    "        \n",
    "    @mp.dispatch(str)\n",
    "    def get(self, name=''):\n",
    "        return self.name\n",
    "    \n",
    "    @mp.dispatch(str, int)\n",
    "    def get(self, name='', age=0):\n",
    "        return self.name, self.age"
   ]
  },
  {
   "cell_type": "code",
   "execution_count": null,
   "id": "f0b595b6",
   "metadata": {},
   "outputs": [],
   "source": [
    "od = Overload_d('고요한', 30)"
   ]
  },
  {
   "cell_type": "code",
   "execution_count": null,
   "id": "2c9c96fe",
   "metadata": {},
   "outputs": [],
   "source": [
    "od.get('')"
   ]
  },
  {
   "cell_type": "code",
   "execution_count": null,
   "id": "5573bac9",
   "metadata": {},
   "outputs": [],
   "source": [
    "od.get('', 1)"
   ]
  },
  {
   "cell_type": "code",
   "execution_count": null,
   "id": "c4711f9a",
   "metadata": {},
   "outputs": [],
   "source": [
    "od.get()"
   ]
  },
  {
   "cell_type": "markdown",
   "id": "eae3347f",
   "metadata": {},
   "source": [
    "## 36.2. 메소드 오버로딩(Method Overloading)"
   ]
  },
  {
   "cell_type": "code",
   "execution_count": null,
   "id": "aec78860",
   "metadata": {},
   "outputs": [],
   "source": [
    "class Method_Overload:\n",
    "    \n",
    "    def __init__(self, seq):\n",
    "        self.seq = seq\n",
    "        \n",
    "    def __add__(self, value):\n",
    "        self.seq += value\n",
    "        return self.seq\n",
    "    \n",
    "    def __getitem__(self, key):\n",
    "        return self.seq[key]  "
   ]
  },
  {
   "cell_type": "code",
   "execution_count": null,
   "id": "d5341e4b",
   "metadata": {},
   "outputs": [],
   "source": [
    "s = Method_Overload('문자열')"
   ]
  },
  {
   "cell_type": "code",
   "execution_count": null,
   "id": "8a70be19",
   "metadata": {},
   "outputs": [],
   "source": [
    "s + ' 연산자 오버로딩'"
   ]
  },
  {
   "cell_type": "code",
   "execution_count": null,
   "id": "d1d8f730",
   "metadata": {},
   "outputs": [],
   "source": [
    "s.seq"
   ]
  },
  {
   "cell_type": "code",
   "execution_count": null,
   "id": "7456142a",
   "metadata": {},
   "outputs": [],
   "source": [
    "s[9]"
   ]
  },
  {
   "cell_type": "code",
   "execution_count": null,
   "id": "4271f8d0",
   "metadata": {},
   "outputs": [],
   "source": [
    "s[8:10]"
   ]
  },
  {
   "cell_type": "code",
   "execution_count": null,
   "id": "0f4d0ff4",
   "metadata": {},
   "outputs": [],
   "source": [
    "s * 3"
   ]
  },
  {
   "cell_type": "markdown",
   "id": "c5119a53",
   "metadata": {},
   "source": [
    "## 36.3. 오버라이딩(Overriding)"
   ]
  },
  {
   "cell_type": "code",
   "execution_count": null,
   "id": "8d4f28a1",
   "metadata": {},
   "outputs": [],
   "source": [
    "class Overriding:\n",
    "    \n",
    "    def __init__(self, seq):\n",
    "        self.seq = seq\n",
    "        \n",
    "    def get_seq(self):\n",
    "        return self.seq"
   ]
  },
  {
   "cell_type": "code",
   "execution_count": null,
   "id": "feeccd86",
   "metadata": {},
   "outputs": [],
   "source": [
    "class Child(Overriding):\n",
    "    pass"
   ]
  },
  {
   "cell_type": "code",
   "execution_count": null,
   "id": "c7032b7d",
   "metadata": {},
   "outputs": [],
   "source": [
    "o = Overriding('부모클래스')"
   ]
  },
  {
   "cell_type": "code",
   "execution_count": null,
   "id": "ac672c36",
   "metadata": {},
   "outputs": [],
   "source": [
    "o.get_seq()"
   ]
  },
  {
   "cell_type": "code",
   "execution_count": null,
   "id": "1bceb0b4",
   "metadata": {},
   "outputs": [],
   "source": [
    "c = Child('자식클래스')"
   ]
  },
  {
   "cell_type": "code",
   "execution_count": null,
   "id": "00a54020",
   "metadata": {},
   "outputs": [],
   "source": [
    "c.get_seq()"
   ]
  },
  {
   "cell_type": "markdown",
   "id": "20176419",
   "metadata": {},
   "source": [
    "---"
   ]
  },
  {
   "cell_type": "code",
   "execution_count": null,
   "id": "a5af6013",
   "metadata": {},
   "outputs": [],
   "source": [
    "class Child_(Overriding):\n",
    "    def get_seq(self, value):\n",
    "        return self.seq + str(value)"
   ]
  },
  {
   "cell_type": "code",
   "execution_count": null,
   "id": "f834b48e",
   "metadata": {},
   "outputs": [],
   "source": [
    "c_ = Child_('오버라이딩 클래스')"
   ]
  },
  {
   "cell_type": "code",
   "execution_count": null,
   "id": "aa6d09f6",
   "metadata": {},
   "outputs": [],
   "source": [
    "c_.get_seq()"
   ]
  },
  {
   "cell_type": "code",
   "execution_count": null,
   "id": "5a9ff2fc",
   "metadata": {},
   "outputs": [],
   "source": [
    "c_.get_seq(100)"
   ]
  },
  {
   "cell_type": "markdown",
   "id": "041fc664",
   "metadata": {},
   "source": [
    "---"
   ]
  },
  {
   "cell_type": "code",
   "execution_count": null,
   "id": "26ad7553",
   "metadata": {},
   "outputs": [],
   "source": [
    "class Child_1(Overriding):\n",
    "    def __init__(self, seq, message):\n",
    "        self.seq = seq + message\n",
    "        \n",
    "    def get_seq(self, value):\n",
    "        return self.seq + str(value)"
   ]
  },
  {
   "cell_type": "code",
   "execution_count": null,
   "id": "1633d1e6",
   "metadata": {},
   "outputs": [],
   "source": [
    "c_1 = Child_1('자식클래스', '스페셜 메소드')"
   ]
  },
  {
   "cell_type": "code",
   "execution_count": null,
   "id": "9e0039d2",
   "metadata": {},
   "outputs": [],
   "source": [
    "c_1.get_seq(200)"
   ]
  },
  {
   "cell_type": "markdown",
   "id": "4591f782",
   "metadata": {},
   "source": [
    "---"
   ]
  },
  {
   "cell_type": "code",
   "execution_count": null,
   "id": "036ee3c8",
   "metadata": {},
   "outputs": [],
   "source": [
    "class Child_2(Overriding):\n",
    "    def __init__(self, seq, message):\n",
    "        super().__init__(seq)\n",
    "        self.seq = self.seq + message\n",
    "        \n",
    "    def get_seq(self, value):\n",
    "        return self.seq + str(value)"
   ]
  },
  {
   "cell_type": "code",
   "execution_count": null,
   "id": "a34288ba",
   "metadata": {},
   "outputs": [],
   "source": [
    "c_2 = Child_2('자식클래스', '스페셜 메소드')"
   ]
  },
  {
   "cell_type": "code",
   "execution_count": null,
   "id": "71cd7752",
   "metadata": {},
   "outputs": [],
   "source": [
    "c_2.get_seq(300)"
   ]
  },
  {
   "cell_type": "markdown",
   "id": "382ef053",
   "metadata": {},
   "source": [
    "## 36.4. 덕 타이핑(Duck Typing)"
   ]
  },
  {
   "cell_type": "code",
   "execution_count": null,
   "id": "f223eab4",
   "metadata": {},
   "outputs": [],
   "source": [
    "import operator as op"
   ]
  },
  {
   "cell_type": "code",
   "execution_count": null,
   "id": "4946e0d1",
   "metadata": {},
   "outputs": [],
   "source": [
    "def getitem(obj, index=0):\n",
    "    if not (index < len(obj)):\n",
    "        index = len(obj) - 1\n",
    "    return op.getitem(obj, index)"
   ]
  },
  {
   "cell_type": "code",
   "execution_count": null,
   "id": "744f2c62",
   "metadata": {},
   "outputs": [],
   "source": [
    "l = [0, 1, 2, 3, 4]"
   ]
  },
  {
   "cell_type": "code",
   "execution_count": null,
   "id": "b2f3ad3b",
   "metadata": {},
   "outputs": [],
   "source": [
    "getitem(l, 1)"
   ]
  },
  {
   "cell_type": "code",
   "execution_count": null,
   "id": "5f9d329e",
   "metadata": {},
   "outputs": [],
   "source": [
    "getitem(l, 5)"
   ]
  },
  {
   "cell_type": "code",
   "execution_count": null,
   "id": "836877d8",
   "metadata": {},
   "outputs": [],
   "source": [
    "s = '문자열 인데스'"
   ]
  },
  {
   "cell_type": "code",
   "execution_count": null,
   "id": "dbd46353",
   "metadata": {},
   "outputs": [],
   "source": [
    "getitem(s, 2)"
   ]
  },
  {
   "cell_type": "code",
   "execution_count": null,
   "id": "2c31ff6b",
   "metadata": {},
   "outputs": [],
   "source": [
    "getitem(s, 9)"
   ]
  },
  {
   "cell_type": "code",
   "execution_count": null,
   "id": "46555772",
   "metadata": {},
   "outputs": [],
   "source": [
    "s[9]"
   ]
  },
  {
   "cell_type": "markdown",
   "id": "a3e47325",
   "metadata": {},
   "source": [
    "---"
   ]
  },
  {
   "cell_type": "code",
   "execution_count": null,
   "id": "8c030ae0",
   "metadata": {},
   "outputs": [],
   "source": [
    "class Slice:\n",
    "    \n",
    "    def __init__(self, start=0, stop=0, step=None):\n",
    "        self.start = start\n",
    "        self.stop = stop\n",
    "        self.step = step\n",
    "        \n",
    "    def __call__(self, obj):\n",
    "        return op.getitem(obj, slice(self.start, self.stop, self.step))"
   ]
  },
  {
   "cell_type": "code",
   "execution_count": null,
   "id": "f0838a41",
   "metadata": {},
   "outputs": [],
   "source": [
    "s1 = Slice(0, 5)"
   ]
  },
  {
   "cell_type": "code",
   "execution_count": null,
   "id": "5cc64ab4",
   "metadata": {},
   "outputs": [],
   "source": [
    "ll = [1, 2, 3, 4, 5, 6, 7, 8, 9]"
   ]
  },
  {
   "cell_type": "code",
   "execution_count": null,
   "id": "786e97e3",
   "metadata": {},
   "outputs": [],
   "source": [
    "s1(ll)"
   ]
  },
  {
   "cell_type": "code",
   "execution_count": null,
   "id": "241766c0",
   "metadata": {},
   "outputs": [],
   "source": [
    "ss = '빅데이터와 인공지능'"
   ]
  },
  {
   "cell_type": "code",
   "execution_count": null,
   "id": "7019c313",
   "metadata": {},
   "outputs": [],
   "source": [
    "s1(ss)"
   ]
  }
 ],
 "metadata": {
  "kernelspec": {
   "display_name": "Python 3 (ipykernel)",
   "language": "python",
   "name": "python3"
  },
  "language_info": {
   "codemirror_mode": {
    "name": "ipython",
    "version": 3
   },
   "file_extension": ".py",
   "mimetype": "text/x-python",
   "name": "python",
   "nbconvert_exporter": "python",
   "pygments_lexer": "ipython3",
   "version": "3.8.12"
  }
 },
 "nbformat": 4,
 "nbformat_minor": 5
}
