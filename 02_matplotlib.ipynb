{
 "cells": [
  {
   "cell_type": "markdown",
   "metadata": {
    "slideshow": {
     "slide_type": "skip"
    }
   },
   "source": [
    "[![Open In Colab](https://colab.research.google.com/assets/colab-badge.svg)](https://colab.research.google.com/github/SeoulTechPSE/EngNm/blob/master/ch04_code.ipynb)"
   ]
  },
  {
   "cell_type": "markdown",
   "metadata": {
    "slideshow": {
     "slide_type": "slide"
    }
   },
   "source": [
    "# 02. Matplotlib: Plotting and Visualization\n",
    "\n",
    "$~$\n",
    "\n",
    "Creator: Robert Johansson, Updator: Kee-Youn Yoo\n",
    "\n",
    "Updated source code listings for Numerical Python - A Practical Techniques Approach for Industry (ISBN 978-1-484205-54-9)\n",
    "\n",
    "$~$\n",
    "<img src=\"figs/matplotlib_logo.svg\" width=\"500\">"
   ]
  },
  {
   "cell_type": "markdown",
   "metadata": {
    "slideshow": {
     "slide_type": "subslide"
    }
   },
   "source": [
    "* `Matplotlib` is a Python library for publication-quality 2D and 3D graphics, with support for a variety of different output formats. $~$At the time of writing, $~$the latest version is 3.5.1(2021-12-11)\n",
    "\n",
    "* More information about `matplotlib` is available at the project’s web site [https://matplotlib.org](https://matplotlib.org)\n",
    "* This web site contains detailed documentation and an extensive gallery that showcases the various types of graphs that can be  using the `matplotlib` library, $~$together with the code for each example\n",
    "\n",
    "* This gallery is a great source of inspiration for visualization ideas, and I highly recommend exploring `matplotlib` by browsing this gallery."
   ]
  },
  {
   "cell_type": "markdown",
   "metadata": {
    "slideshow": {
     "slide_type": "slide"
    }
   },
   "source": [
    "## Importing matplotlib"
   ]
  },
  {
   "cell_type": "code",
   "execution_count": null,
   "metadata": {
    "slideshow": {
     "slide_type": "fragment"
    }
   },
   "outputs": [],
   "source": [
    "import matplotlib as mpl\n",
    "import matplotlib.pyplot as plt\n",
    "mpl.rcParams['font.size'] = 16.0"
   ]
  },
  {
   "cell_type": "code",
   "execution_count": null,
   "metadata": {
    "slideshow": {
     "slide_type": "fragment"
    }
   },
   "outputs": [],
   "source": [
    "import numpy as np\n",
    "import sympy"
   ]
  },
  {
   "cell_type": "markdown",
   "metadata": {
    "slideshow": {
     "slide_type": "slide"
    }
   },
   "source": [
    "## Getting started"
   ]
  },
  {
   "cell_type": "markdown",
   "metadata": {
    "cell_style": "center",
    "slideshow": {
     "slide_type": "fragment"
    }
   },
   "source": [
    "<center><img src=\"figs/figure_axes_schematic.png\" alt=\"figure_axes_schematic\" width=\"600\"/> </center>"
   ]
  },
  {
   "cell_type": "code",
   "execution_count": null,
   "metadata": {
    "cell_style": "split",
    "slideshow": {
     "slide_type": "subslide"
    }
   },
   "outputs": [],
   "source": [
    "x = np.linspace(-5, 2, 100)\n",
    "\n",
    "y1 = x**3 + 5*x**2 + 10\n",
    "y2 = 3*x**2 + 10*x\n",
    "y3 = 6*x + 10\n",
    "\n",
    "def example_01():\n",
    "    \n",
    "    fig, ax = plt.subplots(figsize=(10, 6))\n",
    "\n",
    "    ax.plot(x, y1, color=\"blue\", label=\"$y(x)$\")\n",
    "    ax.plot(x, y2, color=\"red\", label=\"$y'(x)$\")\n",
    "    ax.plot(x, y3, color=\"green\", label=\"$y''(x)$\")\n",
    "\n",
    "    ax.set_xlabel(\"$x$\")\n",
    "    ax.set_ylabel(\"$y$\")\n",
    "    ax.legend()\n",
    "\n",
    "    plt.show()"
   ]
  },
  {
   "cell_type": "code",
   "execution_count": null,
   "metadata": {
    "cell_style": "split",
    "slideshow": {
     "slide_type": "fragment"
    }
   },
   "outputs": [],
   "source": [
    "example_01()"
   ]
  },
  {
   "cell_type": "markdown",
   "metadata": {
    "slideshow": {
     "slide_type": "skip"
    }
   },
   "source": [
    "---"
   ]
  },
  {
   "cell_type": "code",
   "execution_count": null,
   "metadata": {
    "cell_style": "split",
    "slideshow": {
     "slide_type": "subslide"
    }
   },
   "outputs": [],
   "source": [
    "def example_02():\n",
    "    \n",
    "    fig, ax = plt.subplots(figsize=(10, 6))\n",
    "\n",
    "    ax.plot(x, y1, lw=1.5, color=\"blue\", label=r\"$y(x)$\")\n",
    "    ax.plot(x, y2, lw=1.5, color=\"red\", label=r\"$y'(x)$\")\n",
    "    ax.plot(x, y3, lw=1.5, color=\"green\", label=r\"$y''(x)$\")\n",
    "\n",
    "    ax.plot(x, np.zeros_like(x), lw=0.5, color=\"black\")\n",
    "    ax.plot([-3.33], [(-3.3)**3 + 5*(-3.3)**2 +10], \n",
    "            lw=0.5, marker='o', color=\"blue\")\n",
    "    ax.plot([0], [10], lw=0.5, marker='o', color=\"blue\")\n",
    "    ax.plot([-3.33, -3.33], [0, (-3.3)**3 +5*(-3.3)**2 + 10], \n",
    "            ls='--', lw=0.5, color=\"black\")\n",
    "    ax.plot([0, 0], [0, 10], ls='--', lw=0.5, color=\"black\")\n",
    "\n",
    "    ax.set_xticks([-5, -2.5, 0, 2.5])\n",
    "    ax.set_ylim(-20, 40)\n",
    "    ax.set_yticks([-20, -10, 0, 10, 20, 30, 40])\n",
    "\n",
    "    ax.set_xlabel(\"$x$\", fontsize=18)\n",
    "    ax.set_ylabel(\"$y$\", fontsize=18)\n",
    "    ax.set_xlim([-5, 2.5])\n",
    "    ax.legend(loc=2, ncol=3, fontsize=14, frameon=False)\n",
    "    \n",
    "    plt.show()"
   ]
  },
  {
   "cell_type": "code",
   "execution_count": null,
   "metadata": {
    "cell_style": "split",
    "slideshow": {
     "slide_type": "fragment"
    }
   },
   "outputs": [],
   "source": [
    "example_02()"
   ]
  },
  {
   "cell_type": "markdown",
   "metadata": {
    "slideshow": {
     "slide_type": "slide"
    }
   },
   "source": [
    "## Interactive and noninteractive modes"
   ]
  },
  {
   "cell_type": "markdown",
   "metadata": {
    "slideshow": {
     "slide_type": "fragment"
    }
   },
   "source": [
    "* The `matplotlib` library is designed to work well with many different environments and platforms. As such, the library does not only contain routines for generating graphs, but it also contains support for displaying graphs in different graphical environments \n",
    "\n",
    "* To this end, $~$`matplotlib` provides backends for generating\n",
    "graphics in different formats (for example, PNG, PDF, Postscript, and SVG), and for displaying graphics in a graphical user interface using variety of different widget toolkits (for example, Qt, GTK, Tkinter, wxWidgets and Cocoa for Mac OS X) that are suitable for different platforms"
   ]
  },
  {
   "cell_type": "markdown",
   "metadata": {
    "slideshow": {
     "slide_type": "subslide"
    }
   },
   "source": [
    "* Which backend to use can be selected in the `matplotlib` resource file, or using the function `mpl.use`, which must be called right after importing `matplotlib`, before importing the `matplotlib.pyplot` module. For example, to select the `Qt5Agg` back end, $~$we can use:"
   ]
  },
  {
   "cell_type": "markdown",
   "metadata": {
    "slideshow": {
     "slide_type": "fragment"
    }
   },
   "source": [
    "```python\n",
    "    import matplotlib as mpl\n",
    "    mpl.use('qt5agg')\n",
    "    import matplotlib.pyplot as plt\n",
    "```"
   ]
  },
  {
   "cell_type": "markdown",
   "metadata": {
    "slideshow": {
     "slide_type": "subslide"
    }
   },
   "source": [
    "* When using an interactive backend, which displays the figure\n",
    "in a graphical user interface, $~$it is necessary to call the function `plt.show` to get the window to appear\n",
    "on the screen. By default, the `plt.show` call will hang until the window is closed"
   ]
  },
  {
   "cell_type": "markdown",
   "metadata": {
    "slideshow": {
     "slide_type": "fragment"
    }
   },
   "source": [
    "* For a more interactive\n",
    "experience, $~$we can activate interactive mode by calling the function `plt.ion`. $~$This instructs `matplotlib` to take over the GUI event loop, and show a window for a figure as soon as it is created, and returning the\n",
    "control flow to the Python or IPython interpreter"
   ]
  },
  {
   "cell_type": "markdown",
   "metadata": {
    "slideshow": {
     "slide_type": "fragment"
    }
   },
   "source": [
    "* To have changes to a figure take effect, $~$we need to issue a redraw command using the function `plt.draw`"
   ]
  },
  {
   "cell_type": "markdown",
   "metadata": {
    "slideshow": {
     "slide_type": "fragment"
    }
   },
   "source": [
    "* We can deactivate the interactive mode using the function\n",
    "`plt.ioff`, and we can use the function `plt.isinteractive()` to check if `matplotlib` is in interactive or\n",
    "noninteractive mode"
   ]
  },
  {
   "cell_type": "markdown",
   "metadata": {
    "slideshow": {
     "slide_type": "subslide"
    }
   },
   "source": [
    "* While the interactive graphical user interface has unique advantages, $~$when working the Jupyter Notebook or Qtconsole, $~$it is often more convenient to display `matplotlib`-produced graphics embedded directly in the notebook"
   ]
  },
  {
   "cell_type": "markdown",
   "metadata": {
    "slideshow": {
     "slide_type": "fragment"
    }
   },
   "source": [
    "* This behavior is activated using the Jupyter magic `%matplotlib inline`, $~$which\n",
    "activates the *inline backend* provided for notebook. This configures `matplotlib` to use a noninteractive backend to generate graphics images, $~$which is then displayed as static images in, for example, the Jupyter Notebook. The *inline backend* for `matplotlib` can be fine tuned using the Jupyter `%config` magic"
   ]
  },
  {
   "cell_type": "markdown",
   "metadata": {
    "slideshow": {
     "slide_type": "slide"
    }
   },
   "source": [
    "## Figure"
   ]
  },
  {
   "cell_type": "code",
   "execution_count": null,
   "metadata": {
    "cell_style": "center",
    "slideshow": {
     "slide_type": "fragment"
    }
   },
   "outputs": [],
   "source": [
    "x = np.linspace(-2, 2, 1000)\n",
    "\n",
    "y1 = np.cos(40*x)\n",
    "y2 = np.exp(-x**2)"
   ]
  },
  {
   "cell_type": "code",
   "execution_count": null,
   "metadata": {
    "cell_style": "split",
    "slideshow": {
     "slide_type": "fragment"
    }
   },
   "outputs": [],
   "source": [
    "def example_03():\n",
    "    # the width and height of the figure canvas in inches\n",
    "    fig = plt.figure(figsize=(10, 4), facecolor=\"#f1f1f1\") \n",
    "\n",
    "    # axes coordinates as fractions of \n",
    "    # the canvas width and height\n",
    "    left, bottom, width, height = 0.1, 0.1, 0.8, 0.8\n",
    "    ax = fig.add_axes((left, bottom, width, height), \n",
    "                      facecolor=\"#e1e1e1\")\n",
    "\n",
    "    ax.plot(x, y1 *y2)\n",
    "    ax.plot(x, y2, 'g')\n",
    "    ax.plot(x,-y2, 'g')\n",
    "\n",
    "    ax.set_xlabel(\"x\")\n",
    "    ax.set_ylabel(\"y\")\n",
    "    \n",
    "    plt.show()"
   ]
  },
  {
   "cell_type": "code",
   "execution_count": null,
   "metadata": {
    "cell_style": "split",
    "slideshow": {
     "slide_type": "fragment"
    }
   },
   "outputs": [],
   "source": [
    "example_03()"
   ]
  },
  {
   "cell_type": "code",
   "execution_count": null,
   "metadata": {
    "cell_style": "center",
    "slideshow": {
     "slide_type": "fragment"
    }
   },
   "outputs": [],
   "source": [
    "fig.savefig(\"./figs/matplotlib_savefig.png\", dpi=100, facecolor=\"#f1f1f1\")\n",
    "fig.savefig(\"./figs/matplotlib_savefig.pdf\", dpi=300, facecolor=\"#f1f1f1\")"
   ]
  },
  {
   "cell_type": "markdown",
   "metadata": {
    "slideshow": {
     "slide_type": "slide"
    }
   },
   "source": [
    "## Axes"
   ]
  },
  {
   "cell_type": "markdown",
   "metadata": {
    "slideshow": {
     "slide_type": "fragment"
    }
   },
   "source": [
    "* `Matplotlib` provides several different `Axes` layout managers, which create and place `Axes` instances within a `figure` canvas following different strategies\n",
    "\n",
    "* To facilitate the forthcoming examples, $~$we here briefly look at one of these layout\n",
    "managers: \n",
    "  \n",
    "  > `plt.subplots` \n",
    "  \n",
    "  Earlier in this chapter, $~$we already used this function to conveniently\n",
    "generate new `Figure` and `Axes` objects in one function call "
   ]
  },
  {
   "cell_type": "markdown",
   "metadata": {
    "slideshow": {
     "slide_type": "subslide"
    }
   },
   "source": [
    "* However, the `plt.subplots` function is also\n",
    "capable of filling a figure with a grid of `Axes` instances, which is specified using the first and the second arguments, or alternatively with the `nrows` and `ncols` arguments, which, as the names implies, creates a grid of `Axes` objects, with the given number of rows and columns"
   ]
  },
  {
   "cell_type": "markdown",
   "metadata": {
    "slideshow": {
     "slide_type": "fragment"
    }
   },
   "source": [
    "```python\n",
    "    fig, axes = plt.subplots(nrows=3, ncols=2)\n",
    "```"
   ]
  },
  {
   "cell_type": "markdown",
   "metadata": {
    "slideshow": {
     "slide_type": "subslide"
    }
   },
   "source": [
    "* Here, the function `plt.subplots` returns a tuple `(fig, axes)`, where `fig` is a `figure` and `axes` is a numpy array of size `(ncols, nrows)`, $~$in which each element is an `Axes` instance that has been appropriately placed in the corresponding `figure` canvas. $~$At this point we can also specify that columns and/or rows should share x and y axes, using the `sharex` and `sharey` arguments, which can be set to `True` or `False`"
   ]
  },
  {
   "cell_type": "markdown",
   "metadata": {
    "slideshow": {
     "slide_type": "subslide"
    }
   },
   "source": [
    "* The `plt.subplots` function also takes two special keyword arguments `fig_kw` and `subplot_kw`, which\n",
    "are dictionaries with keyword arguments that are used when creating the `Figure` and `Axes` instances,\n",
    "respectively. This allows us to set and retain full control of the properties of the `Figure` and `Axes` objects with `plt.subplots`, a similar way is possible when directly using `plt.figure` and the `make_axes` method"
   ]
  },
  {
   "cell_type": "markdown",
   "metadata": {
    "slideshow": {
     "slide_type": "slide"
    }
   },
   "source": [
    "## Plot types"
   ]
  },
  {
   "cell_type": "markdown",
   "metadata": {
    "slideshow": {
     "slide_type": "fragment"
    }
   },
   "source": [
    "`Matplotlib` implements many types of plotting techniques as methods of the `Axes` object."
   ]
  },
  {
   "cell_type": "markdown",
   "metadata": {
    "slideshow": {
     "slide_type": "fragment"
    }
   },
   "source": [
    "<center><img src=\"./figs/fig4.6.png\" alt=\"Overview of selected 2D graph types\" width=\"800\"/> </center>"
   ]
  },
  {
   "cell_type": "markdown",
   "metadata": {
    "slideshow": {
     "slide_type": "fragment"
    }
   },
   "source": [
    "For details, see the `docstrings` for each method shown in Figure, using, for example, `help(plt.Axes.bar)`"
   ]
  },
  {
   "cell_type": "code",
   "execution_count": null,
   "metadata": {
    "slideshow": {
     "slide_type": "slide"
    }
   },
   "outputs": [],
   "source": [
    "def hide_labels(fig, ax, fignum):\n",
    "       \n",
    "    ax.set_xticks([])\n",
    "    ax.set_yticks([])\n",
    "    \n",
    "    ax.xaxis.set_ticks_position('none')\n",
    "    ax.yaxis.set_ticks_position('none')\n",
    "    \n",
    "    ax.axis('tight')\n",
    "    \n",
    "    fignum += 1\n",
    "    fig.savefig(\"./figs/plot_types_%d.pdf\" % fignum)"
   ]
  },
  {
   "cell_type": "code",
   "execution_count": null,
   "metadata": {
    "slideshow": {
     "slide_type": "fragment"
    }
   },
   "outputs": [],
   "source": [
    "x = np.linspace(-3, 3, 25)\n",
    "y1 = x**3 + 3*x**2 +10\n",
    "y2 = -1.5*x**3 + 10*x**2 - 15"
   ]
  },
  {
   "cell_type": "code",
   "execution_count": null,
   "metadata": {
    "cell_style": "split",
    "scrolled": true,
    "slideshow": {
     "slide_type": "subslide"
    }
   },
   "outputs": [],
   "source": [
    "fig, ax = plt.subplots(figsize=(8, 5))\n",
    "\n",
    "ax.plot(x, y1)\n",
    "ax.plot(x, y2)\n",
    "\n",
    "hide_labels(fig, ax, 1)"
   ]
  },
  {
   "cell_type": "code",
   "execution_count": null,
   "metadata": {
    "cell_style": "split",
    "slideshow": {
     "slide_type": "fragment"
    }
   },
   "outputs": [],
   "source": [
    "fig, ax = plt.subplots(figsize=(8, 5))\n",
    "\n",
    "ax.step(x, y1)\n",
    "ax.step(x, y2)\n",
    "\n",
    "hide_labels(fig, ax, 2)"
   ]
  },
  {
   "cell_type": "code",
   "execution_count": null,
   "metadata": {
    "cell_style": "split",
    "slideshow": {
     "slide_type": "subslide"
    }
   },
   "outputs": [],
   "source": [
    "fig, ax = plt.subplots(figsize=(8, 5))\n",
    "\n",
    "width = 6/50\n",
    "\n",
    "ax.bar(x -width/2, y1, width=width, color=\"blue\", edgecolor=\"black\")\n",
    "ax.bar(x +width/2, y2, width=width, color=\"green\", edgecolor=\"black\")\n",
    "\n",
    "hide_labels(fig, ax, 3)"
   ]
  },
  {
   "cell_type": "code",
   "execution_count": null,
   "metadata": {
    "cell_style": "split",
    "slideshow": {
     "slide_type": "fragment"
    }
   },
   "outputs": [],
   "source": [
    "fig, ax = plt.subplots(figsize=(8, 5))\n",
    "\n",
    "ax.hist(y2, bins=30, edgecolor=\"black\")\n",
    "ax.hist(y1, bins=30, edgecolor=\"black\")\n",
    "\n",
    "hide_labels(fig, ax, 4)"
   ]
  },
  {
   "cell_type": "markdown",
   "metadata": {
    "slideshow": {
     "slide_type": "skip"
    }
   },
   "source": [
    "---"
   ]
  },
  {
   "cell_type": "code",
   "execution_count": null,
   "metadata": {
    "cell_style": "split",
    "slideshow": {
     "slide_type": "subslide"
    }
   },
   "outputs": [],
   "source": [
    "fig, ax = plt.subplots(figsize=(8, 5))\n",
    "\n",
    "ax.errorbar(x, y2, yerr=y1, lw=0.6, fmt='--o', capsize=5)\n",
    "\n",
    "hide_labels(fig, ax, 5)"
   ]
  },
  {
   "cell_type": "code",
   "execution_count": null,
   "metadata": {
    "cell_style": "split",
    "slideshow": {
     "slide_type": "fragment"
    }
   },
   "outputs": [],
   "source": [
    "fig, ax = plt.subplots(figsize=(8, 5))\n",
    "\n",
    "ax.fill_between(x, y1, y2, edgecolor=\"black\")\n",
    "\n",
    "hide_labels(fig, ax, 6)"
   ]
  },
  {
   "cell_type": "markdown",
   "metadata": {
    "slideshow": {
     "slide_type": "skip"
    }
   },
   "source": [
    "---"
   ]
  },
  {
   "cell_type": "code",
   "execution_count": null,
   "metadata": {
    "cell_style": "split",
    "slideshow": {
     "slide_type": "subslide"
    }
   },
   "outputs": [],
   "source": [
    "fig, ax = plt.subplots(figsize=(8, 5))\n",
    "\n",
    "ax.stem(x, y1, linefmt='b', markerfmt='bs', use_line_collection=True)\n",
    "ax.stem(x, y2, linefmt='r', markerfmt='ro', use_line_collection=True)\n",
    "\n",
    "hide_labels(fig, ax, 7)"
   ]
  },
  {
   "cell_type": "code",
   "execution_count": null,
   "metadata": {
    "cell_style": "split",
    "slideshow": {
     "slide_type": "fragment"
    }
   },
   "outputs": [],
   "source": [
    "fig, ax = plt.subplots(figsize=(8, 5))\n",
    "\n",
    "x = np.linspace(0, 5, 50)\n",
    "\n",
    "ax.scatter(x, -1 + x + 0.25*x**2 + 2*np.random.rand(len(x)))\n",
    "ax.scatter(x, np.sqrt(x) + 2*np.random.rand(len(x)), color=\"green\")\n",
    "\n",
    "hide_labels(fig, ax, 8)"
   ]
  },
  {
   "cell_type": "code",
   "execution_count": null,
   "metadata": {
    "cell_style": "split",
    "slideshow": {
     "slide_type": "subslide"
    }
   },
   "outputs": [],
   "source": [
    "x = y = np.linspace(-2, 2, 10)\n",
    "X, Y = np.meshgrid(x, y)\n",
    "U = np.sin(X)\n",
    "V = np.sin(Y)"
   ]
  },
  {
   "cell_type": "code",
   "execution_count": null,
   "metadata": {
    "cell_style": "split",
    "slideshow": {
     "slide_type": "fragment"
    }
   },
   "outputs": [],
   "source": [
    "fig, ax = plt.subplots(figsize=(8, 8))\n",
    "\n",
    "ax.quiver(X, Y, U, V)\n",
    "hide_labels(fig, ax, 9)"
   ]
  },
  {
   "cell_type": "markdown",
   "metadata": {
    "slideshow": {
     "slide_type": "slide"
    }
   },
   "source": [
    "## Line properties"
   ]
  },
  {
   "cell_type": "markdown",
   "metadata": {
    "slideshow": {
     "slide_type": "fragment"
    }
   },
   "source": [
    "In `matplotlib`, $~$we set the line properties with keyword arguments to the plot methods,\n",
    "such as for example `plot`, `step`, `bar`"
   ]
  },
  {
   "cell_type": "code",
   "execution_count": null,
   "metadata": {
    "slideshow": {
     "slide_type": "fragment"
    }
   },
   "outputs": [],
   "source": [
    "def axes_settings(fig, ax, title, ymax):\n",
    "     \n",
    "    ax.set_title(title)\n",
    "    ax.set_ylim(0, ymax +1)\n",
    "    ax.set_xticks([])\n",
    "    ax.set_yticks([])\n",
    "    \n",
    "x = np.linspace(-5, 5, 5)\n",
    "y = np.ones_like(x)"
   ]
  },
  {
   "cell_type": "code",
   "execution_count": null,
   "metadata": {
    "cell_style": "split",
    "slideshow": {
     "slide_type": "subslide"
    }
   },
   "outputs": [],
   "source": [
    "fig, ax = plt.subplots(figsize=(8, 5))\n",
    "\n",
    "# Line width\n",
    "linewidths = [0.5, 1.0, 2.0, 4.0]\n",
    "for n, linewidth in enumerate(linewidths):\n",
    "    ax.plot(x, y + n, color=\"blue\", linewidth=linewidth)\n",
    "    \n",
    "axes_settings(fig, ax, \"linewidth\", len(linewidths))"
   ]
  },
  {
   "cell_type": "code",
   "execution_count": null,
   "metadata": {
    "cell_style": "split",
    "slideshow": {
     "slide_type": "fragment"
    }
   },
   "outputs": [],
   "source": [
    " fig, ax = plt.subplots(figsize=(8, 5))  \n",
    "\n",
    "# Line style\n",
    "linestyles = ['-', '--', '-.', ':']\n",
    "for n, linestyle in enumerate(linestyles):\n",
    "    ax.plot(x, y + n, color=\"blue\", linestyle=linestyle)\n",
    "\n",
    "# Custom dash style\n",
    "line, = ax.plot(x, y + len(linestyles), color=\"red\", lw=2)\n",
    "length1, gap1, length2, gap2 = 5, 2, 10, 2\n",
    "line.set_dashes([length1, gap1, length2, gap2])\n",
    "    \n",
    "axes_settings(fig, ax, \"linestyle\", len(linestyles) + 1)"
   ]
  },
  {
   "cell_type": "code",
   "execution_count": null,
   "metadata": {
    "cell_style": "split",
    "slideshow": {
     "slide_type": "subslide"
    }
   },
   "outputs": [],
   "source": [
    "fig, ax = plt.subplots(figsize=(8, 5))\n",
    " \n",
    "# Marker types\n",
    "markers = ['+', 'o', '*', 's', '.', '1', '2', '3', '4']\n",
    "for n, marker in enumerate(markers):\n",
    "    ax.plot(x, y + n, color=\"blue\", lw=0, marker=marker)\n",
    "    \n",
    "axes_settings(fig, ax, \"markers\", len(markers))"
   ]
  },
  {
   "cell_type": "code",
   "execution_count": null,
   "metadata": {
    "cell_style": "split",
    "slideshow": {
     "slide_type": "fragment"
    }
   },
   "outputs": [],
   "source": [
    "fig, ax = plt.subplots(figsize=(8, 5))\n",
    "\n",
    "# Marker size and color\n",
    "markersizeandcolors = [(4, \"white\"), (8, \"red\"), (12, \"yellow\"), (16, \"lightgreen\")]\n",
    "for n, (markersize, markercolor) in enumerate(markersizeandcolors):\n",
    "    ax.plot(x, y +  n, color=\"blue\", lw=1, ls='-', \n",
    "                 marker='o',\n",
    "                 markersize=markersize,\n",
    "                 markerfacecolor=markercolor, \n",
    "                 markeredgewidth=2)\n",
    "    \n",
    "axes_settings(fig, ax, \"marker size/color\", len(markersizeandcolors))"
   ]
  },
  {
   "cell_type": "code",
   "execution_count": null,
   "metadata": {
    "slideshow": {
     "slide_type": "slide"
    }
   },
   "outputs": [],
   "source": [
    "# a symboloc variable for x, and a numerical array with specific values of x\n",
    "sym_x = sympy.Symbol(\"x\")\n",
    "x = np.linspace(-2*np.pi, 2*np.pi, 100)\n",
    "\n",
    "def sin_expansion(x, n):\n",
    "    \"\"\"\n",
    "    Evaluate the n-th order Taylor series expansion of sin(x)\n",
    "    for numerical values in the numpy array x.\n",
    "    \"\"\"\n",
    "    \n",
    "    return sympy.lambdify(sym_x, sympy.sin(sym_x).series(n=n).removeO(), 'numpy')(x)"
   ]
  },
  {
   "cell_type": "code",
   "execution_count": null,
   "metadata": {
    "slideshow": {
     "slide_type": "subslide"
    }
   },
   "outputs": [],
   "source": [
    "fig, ax = plt.subplots()\n",
    "\n",
    "ax.plot(x, np.sin(x), lw=4, color=\"red\", label='exact')\n",
    "\n",
    "colors = [\"blue\", \"black\"]\n",
    "linestyles =[':', '-.', '--']\n",
    "\n",
    "for idx, n in enumerate(range(2, 13, 2)):\n",
    "    \n",
    "    ax.plot(x, sin_expansion(x, n), color=colors[idx//3], ls=linestyles[idx%3], lw=3, label=f'O({n}) approx.')\n",
    "    \n",
    "ax.set_xlim(-1.5*np.pi, 1.5*np.pi)\n",
    "ax.set_ylim(-1.25, 1.25) \n",
    "\n",
    "# place a legend outside of the Axes\n",
    "ax.legend(bbox_to_anchor=(1.02, 1), loc=2, borderaxespad=0.0);"
   ]
  },
  {
   "cell_type": "code",
   "execution_count": null,
   "metadata": {
    "slideshow": {
     "slide_type": "subslide"
    }
   },
   "outputs": [],
   "source": [
    "data1 = np.random.randn(200, 2) * np.array([3, 1])\n",
    "data2 = np.random.randn(200, 2) * np.array([1, 3])\n",
    "\n",
    "fig, axes = plt.subplots(1, 2, figsize=(15, 7), sharey=True)\n",
    "\n",
    "axes[0].scatter(data1[:, 0], data1[:, 1], color=\"green\", marker=\"s\", s=30, alpha=0.5)\n",
    "axes[0].scatter(data2[:, 0], data2[:, 1], color=\"blue\", marker=\"o\", s=30, alpha=0.5)\n",
    "\n",
    "axes[1].hist([data1[:, 1], data2[:, 1]], bins=15, color=[\"green\", \"blue\"], alpha=0.5, orientation='horizontal');"
   ]
  },
  {
   "cell_type": "markdown",
   "metadata": {
    "slideshow": {
     "slide_type": "slide"
    }
   },
   "source": [
    "## Legends"
   ]
  },
  {
   "cell_type": "markdown",
   "metadata": {
    "slideshow": {
     "slide_type": "fragment"
    }
   },
   "source": [
    "* See `help(plt.legend)` for details. $~$The `loc` argument allows us to specify where in the `Axes` area the `legend` is to be added: `loc=1` for upper right corner, `loc=2` for\n",
    "upper left corner, `loc=3` for the lower-left corner, and `loc=4` for lower right corner."
   ]
  },
  {
   "cell_type": "markdown",
   "metadata": {
    "slideshow": {
     "slide_type": "subslide"
    }
   },
   "source": [
    "* In the example of the previous section, $~$we used the `bbox_to_anchor`, which helps the `legend` be\n",
    "placed at an arbitrary location within the `figure` canvas. The `bbox_to_anchor` argument takes the value of a\n",
    "tuple on the form `(x, y)`, where `x` and `y` are the canvas coordinates within the `Axes` object. That is, the point `(0, 0)` corresponds to the lower-left corner, and `(1, 1)` corresponds to the upper right corner. Note that `x` and `y` can be smaller than `0` and larger than `1`, in this case, which indicates that the `legend` is to be placed outside the `Axes` area, $~$as was used in the previous section."
   ]
  },
  {
   "cell_type": "markdown",
   "metadata": {
    "slideshow": {
     "slide_type": "fragment"
    }
   },
   "source": [
    "* By default, all lines in the `legend` are shown in a vertical arrangement. Using the `ncols` argument, it is\n",
    "possible to split the `legend` labels into multiple columns"
   ]
  },
  {
   "cell_type": "code",
   "execution_count": null,
   "metadata": {
    "slideshow": {
     "slide_type": "subslide"
    }
   },
   "outputs": [],
   "source": [
    "x = np.linspace(0, 1, 100)\n",
    "\n",
    "fig, axes = plt.subplots(1, 4, figsize=(24, 6))\n",
    "\n",
    "for n in range(4):\n",
    "    axes[n].plot(x, x, label=\"y(x) = x\")\n",
    "    axes[n].plot(x, x + x**2, label=\"y(x) = x + x**2\")\n",
    "    axes[n].legend(loc=n + 1)\n",
    "    axes[n].set_title(f'legend(loc={n + 1})')"
   ]
  },
  {
   "cell_type": "code",
   "execution_count": null,
   "metadata": {
    "slideshow": {
     "slide_type": "subslide"
    }
   },
   "outputs": [],
   "source": [
    "x = np.linspace(-1, 1, 100)\n",
    "\n",
    "def linear_eqn(x, slope):\n",
    "    return slope*x\n",
    "\n",
    "fig, ax = plt.subplots()\n",
    "\n",
    "colors = ['blue', 'green', 'red', 'cyan',\n",
    "          'magenta', 'yellow', 'black', 'orange']\n",
    "\n",
    "for slope in range(1, 9):\n",
    "    ax.plot(x, linear_eqn(x, slope), color=colors[slope -1], label=\"y(x)=%dx\" % slope)\n",
    "    \n",
    "ax.set_xlim(-1, 1)\n",
    "ax.set_ylim(-8, 8)    \n",
    "    \n",
    "ax.legend(bbox_to_anchor=(1.02, 0), ncol=2, loc=3, borderaxespad=0.0);   "
   ]
  },
  {
   "cell_type": "markdown",
   "metadata": {
    "cell_style": "center",
    "slideshow": {
     "slide_type": "slide"
    }
   },
   "source": [
    "## Text formatting and annotations"
   ]
  },
  {
   "cell_type": "markdown",
   "metadata": {
    "slideshow": {
     "slide_type": "fragment"
    }
   },
   "source": [
    "* `Matplotlib` provides several ways of configuring fonts properties. $~$The default values can be set in the `matplotlib` resource file. $~$To display where the currently active `matplotlib` file is loaded from, $~$one can do the following: \n",
    "\n",
    "    ```python\n",
    "    mpl.matplotlib_fname()\n",
    "    ```"
   ]
  },
  {
   "cell_type": "code",
   "execution_count": null,
   "metadata": {
    "slideshow": {
     "slide_type": "fragment"
    }
   },
   "outputs": [],
   "source": [
    "mpl.matplotlib_fname()"
   ]
  },
  {
   "cell_type": "markdown",
   "metadata": {
    "slideshow": {
     "slide_type": "subslide"
    }
   },
   "source": [
    "* And session-wide configuration can be set in the `mpl.rcParams` dictionary: $~$for example,\n",
    "\n",
    "    ```python\n",
    "    mpl.rcParams['font.size'] = 12.0\n",
    "    ```\n",
    "    \n",
    "* Try `print(mpl.rcParams)` to get a list of possible configuration parameters and their current values. "
   ]
  },
  {
   "cell_type": "code",
   "execution_count": null,
   "metadata": {
    "scrolled": true,
    "slideshow": {
     "slide_type": "fragment"
    }
   },
   "outputs": [],
   "source": [
    "print(mpl.rcParams)"
   ]
  },
  {
   "cell_type": "markdown",
   "metadata": {
    "slideshow": {
     "slide_type": "subslide"
    }
   },
   "source": [
    "* See also the `mpl.rc` function, for example, \n",
    "\n",
    "   ```python\n",
    "   mpl.rc('font', size=12.0, style='normal')\n",
    "   ```\n",
    "\n",
    "   and the `mpl.rcdefaults` to restore the default values."
   ]
  },
  {
   "cell_type": "markdown",
   "metadata": {
    "slideshow": {
     "slide_type": "subslide"
    }
   },
   "source": [
    "* `Matplotlib` provides excellent support for $\\LaTeX$ markup within its text labels: Any text label in `matplotlib` can include $\\LaTeX$ math by enclosing it within `$` signs: for\n",
    "example `'Regular text: $f(x)=1-x^2$'`\n",
    "\n",
    "* By default, `matplotlib` uses an internal $\\LaTeX$ rendering, which\n",
    "supports a subset of $\\LaTeX$ language. However, by setting the configuration parameter `mpl.rcParams['text.usetex']=True`, $~$it is also possible to use an external full-featured $\\LaTeX$ engine"
   ]
  },
  {
   "cell_type": "markdown",
   "metadata": {
    "slideshow": {
     "slide_type": "fragment"
    }
   },
   "source": [
    "* When embedding $\\LaTeX$ code in strings in Python there is a common stumbling block: Python uses\n",
    "`\\` as escape character, while in $\\LaTeX$ it is used to denote the start of commands. To prevent the Python\n",
    "interpreter from escaping characters in strings containing $\\LaTeX$ expressions, it is convenient to use raw\n",
    "strings, which are literal string expressions that are prepended with an `r`, for example: `r\"$\\int f(x) dx$\"`\n",
    "and `r'$x_{\\rm A}$'`."
   ]
  },
  {
   "cell_type": "code",
   "execution_count": null,
   "metadata": {
    "slideshow": {
     "slide_type": "subslide"
    }
   },
   "outputs": [],
   "source": [
    "x = np.linspace(-20, 20, 100)\n",
    "y = np.sin(x)/x\n",
    "\n",
    "fig, ax = plt.subplots(figsize=(8, 4))\n",
    "\n",
    "ax.plot(x, y)\n",
    "\n",
    "ax.set_xlabel(\"x label\")\n",
    "ax.set_ylabel(\"y label\")\n",
    "\n",
    "for label in ax.get_xticklabels() + ax.get_yticklabels():\n",
    "    label.set_rotation(45)"
   ]
  },
  {
   "cell_type": "code",
   "execution_count": null,
   "metadata": {
    "scrolled": true,
    "slideshow": {
     "slide_type": "subslide"
    }
   },
   "outputs": [],
   "source": [
    "fig, ax = plt.subplots(figsize=(12, 3))\n",
    "\n",
    "ax.set_xticks([])\n",
    "ax.set_yticks([])\n",
    "ax.set_xlim(-0.50, 3.50)\n",
    "ax.set_ylim(-0.05, 0.25)\n",
    "ax.axhline(0)\n",
    "\n",
    "# text label\n",
    "ax.text(0, 0.1, \"Text label\", fontsize=14, family=\"serif\")\n",
    "\n",
    "# annotation\n",
    "ax.plot(1, 0, \"o\")\n",
    "ax.annotate(\"Annotation\", fontsize=14, family=\"serif\",\n",
    "            xy=(1, 0), xycoords=\"data\",\n",
    "            xytext=(20, 50), textcoords=\"offset points\",\n",
    "            arrowprops=dict(arrowstyle=\"->\", connectionstyle=\"arc3, rad=.5\"))\n",
    "\n",
    "# equation\n",
    "ax.text(2, 0.1, r\"Equation: $i\\hbar\\partial_t \\Psi = \\hat{H}\\Psi$\", fontsize=14, family=\"serif\")\n",
    "plt.show()"
   ]
  },
  {
   "cell_type": "code",
   "execution_count": null,
   "metadata": {
    "slideshow": {
     "slide_type": "slide"
    }
   },
   "outputs": [],
   "source": [
    "mpl.rc('font', family='NanumGothic')\n",
    "mpl.rcParams['axes.unicode_minus'] = False"
   ]
  },
  {
   "cell_type": "code",
   "execution_count": null,
   "metadata": {
    "slideshow": {
     "slide_type": "fragment"
    }
   },
   "outputs": [],
   "source": [
    "data = np.random.randint(-100, 100, 50).cumsum()\n",
    "\n",
    "fig, ax = plt.subplots(figsize=(8, 4))\n",
    "\n",
    "ax.plot(range(50), data, 'r')\n",
    "\n",
    "ax.set_title('시간별 가격 추이')\n",
    "ax.set_ylabel('주식 가격')\n",
    "ax.set_xlabel('시간(분)')\n",
    "plt.show()"
   ]
  },
  {
   "cell_type": "code",
   "execution_count": null,
   "metadata": {
    "slideshow": {
     "slide_type": "fragment"
    }
   },
   "outputs": [],
   "source": [
    "mpl.rc('font', family='serif')\n",
    "mpl.rcParams['axes.unicode_minus'] = True"
   ]
  },
  {
   "cell_type": "markdown",
   "metadata": {
    "slideshow": {
     "slide_type": "slide"
    }
   },
   "source": [
    "## Axis properties"
   ]
  },
  {
   "cell_type": "markdown",
   "metadata": {
    "slideshow": {
     "slide_type": "subslide"
    }
   },
   "source": [
    "### Axis labels and titles"
   ]
  },
  {
   "cell_type": "code",
   "execution_count": null,
   "metadata": {
    "slideshow": {
     "slide_type": "fragment"
    }
   },
   "outputs": [],
   "source": [
    "x = np.linspace(0, 50, 500)\n",
    "y = np.sin(x)*np.exp(-x/10)\n",
    "\n",
    "fig, ax = plt.subplots(figsize=(8, 2), subplot_kw={'facecolor': \"#ebf5ff\"})\n",
    "\n",
    "ax.plot(x, y, lw=2)\n",
    "ax.set_xlim([0, 50])\n",
    "ax.set_ylim([-1.0, 1.0])\n",
    "ax.set_xlabel(\"x\", labelpad=5, fontsize=18, fontname='serif', color='blue')\n",
    "ax.set_ylabel(\"f(x)\", labelpad=5, fontsize=18, fontname='serif', color='blue')\n",
    "ax.set_title(\"axis labels and title example\", fontsize=16, fontname='serif', color='blue', loc='center');"
   ]
  },
  {
   "cell_type": "markdown",
   "metadata": {
    "slideshow": {
     "slide_type": "subslide"
    }
   },
   "source": [
    "### Axis range"
   ]
  },
  {
   "cell_type": "code",
   "execution_count": null,
   "metadata": {
    "slideshow": {
     "slide_type": "subslide"
    }
   },
   "outputs": [],
   "source": [
    "x = np.linspace(0, 30, 500)\n",
    "y = np.sin(x)*np.exp(-x/10)"
   ]
  },
  {
   "cell_type": "code",
   "execution_count": null,
   "metadata": {
    "slideshow": {
     "slide_type": "fragment"
    }
   },
   "outputs": [],
   "source": [
    "fig, axes = plt.subplots(1, 4, figsize=(18, 3), subplot_kw={'facecolor': '#ebf5ff'})\n",
    "\n",
    "axes[0].plot(x, y, lw=2), axes[0].set_xlim(-5, 35), axes[0].set_ylim(-1, 1)\n",
    "axes[0].set_title(\"set_[x/y]lim\")\n",
    "\n",
    "axes[1].plot(x, y, lw=2), axes[1].axis('tight')\n",
    "axes[1].set_title(\"axis('tight')\")\n",
    "\n",
    "axes[2].plot(x, y, lw=2), axes[2].axis('equal')\n",
    "axes[2].set_title(\"axis('equal')\")\n",
    "\n",
    "axes[3].plot(x, y, lw=2), axes[3].autoscale(True)\n",
    "axes[3].set_title(\"autoscale(True)\");"
   ]
  },
  {
   "cell_type": "markdown",
   "metadata": {
    "slideshow": {
     "slide_type": "subslide"
    }
   },
   "source": [
    "### Axis ticks, tick labels, and grids"
   ]
  },
  {
   "cell_type": "markdown",
   "metadata": {
    "slideshow": {
     "slide_type": "fragment"
    }
   },
   "source": [
    "<center><img src=\"figs/figure_axis_schematic.png\" alt=\"major and minor ticks\" width=\"600\"/> </center>"
   ]
  },
  {
   "cell_type": "code",
   "execution_count": null,
   "metadata": {
    "slideshow": {
     "slide_type": "subslide"
    }
   },
   "outputs": [],
   "source": [
    "x = np.linspace(-2*np.pi, 2*np.pi, 500)\n",
    "y = np.sin(x)*np.exp(-x**2/20)\n",
    "\n",
    "fig, axes = plt.subplots(1, 2, figsize=(15, 6))\n",
    "\n",
    "axes[0].plot(x, y, lw=2), axes[0].set_title(\"default ticks\")\n",
    "axes[0].tick_params(which='both', direction='in')\n",
    "\n",
    "axes[1].plot(x, y, lw=2), axes[1].set_title(\"set_[x/y]ticks\")\n",
    "axes[1].set_xticks([-5, 0, 5])\n",
    "axes[1].set_yticks([-1, 0, 1])\n",
    "axes[1].tick_params(which='both', direction='in')"
   ]
  },
  {
   "cell_type": "code",
   "execution_count": null,
   "metadata": {
    "scrolled": true,
    "slideshow": {
     "slide_type": "subslide"
    }
   },
   "outputs": [],
   "source": [
    "fig, axes = plt.subplots(1, 2, figsize=(15, 6))\n",
    "\n",
    "axes[0].plot(x, y, lw=2), axes[0].set_title(\"set_major/minor_locator\")\n",
    "axes[0].xaxis.set_major_locator(mpl.ticker.MaxNLocator(4))\n",
    "axes[0].xaxis.set_minor_locator(mpl.ticker.MaxNLocator(8))\n",
    "axes[0].yaxis.set_major_locator(mpl.ticker.MaxNLocator(4))\n",
    "axes[0].yaxis.set_minor_locator(mpl.ticker.MaxNLocator(8))\n",
    "axes[0].tick_params(which='both', direction='in')\n",
    "\n",
    "axes[1].plot(x, y, lw=2), axes[1].set_title(\"set_[x/y]ticklabels\")\n",
    "axes[1].set_xticks([-2*np.pi, -np.pi, 0, np.pi, 2*np.pi])\n",
    "axes[1].set_xticklabels(['$-2\\pi$', '$-\\pi$', '$0$', '$\\pi$', '$2\\pi$'])\n",
    "axes[1].xaxis.set_minor_locator(mpl.ticker.FixedLocator([-3*np.pi/2, -np.pi/2, 0, np.pi/2, 3*np.pi/2]))\n",
    "axes[1].set_yticks([-1, 0, 1])\n",
    "axes[1].yaxis.set_minor_locator(mpl.ticker.MaxNLocator(8))\n",
    "axes[1].tick_params(which='both', direction='in')"
   ]
  },
  {
   "cell_type": "code",
   "execution_count": null,
   "metadata": {
    "slideshow": {
     "slide_type": "subslide"
    }
   },
   "outputs": [],
   "source": [
    "fig, axes = plt.subplots(1, 3, figsize=(16, 4))\n",
    "\n",
    "for ax in axes:\n",
    "    ax.plot(x, y, lw=2)\n",
    "    ax.xaxis.set_major_locator(mpl.ticker.MultipleLocator(4))\n",
    "    ax.yaxis.set_major_locator(mpl.ticker.MultipleLocator(1))\n",
    "    ax.xaxis.set_minor_locator(mpl.ticker.MultipleLocator(0.5))\n",
    "    ax.yaxis.set_minor_locator(mpl.ticker.MultipleLocator(0.25))\n",
    "    \n",
    "axes[0].set_title(\"default grid\")\n",
    "axes[0].grid()\n",
    "\n",
    "axes[1].set_title(\"major/minor grid\")\n",
    "axes[1].grid(color=\"blue\", which=\"both\", ls=':', lw=0.5)\n",
    "\n",
    "axes[2].set_title(\"individual x/y major/minor grid\")\n",
    "axes[2].grid(color=\"gray\", which=\"major\", axis='x', ls='-', lw=0.5)\n",
    "axes[2].grid(color=\"gray\", which=\"minor\", axis='x', ls=':', lw=0.25)\n",
    "axes[2].grid(color=\"gray\", which=\"major\", axis='y', ls='-', lw=0.5)"
   ]
  },
  {
   "cell_type": "code",
   "execution_count": null,
   "metadata": {
    "slideshow": {
     "slide_type": "subslide"
    }
   },
   "outputs": [],
   "source": [
    "x = np.linspace(0, 1e5, 100)\n",
    "y = x**2"
   ]
  },
  {
   "cell_type": "code",
   "execution_count": null,
   "metadata": {
    "slideshow": {
     "slide_type": "subslide"
    }
   },
   "outputs": [],
   "source": [
    "fig, axes = plt.subplots(1, 2, figsize=(18, 6))\n",
    "\n",
    "axes[0].plot(x, y, 'b.')\n",
    "axes[0].set_title(\"default labels\", loc='right')\n",
    "\n",
    "axes[1].plot(x, y, 'b')\n",
    "axes[1].set_title(\"scientific notation labels\", loc='right')\n",
    "\n",
    "formatter = mpl.ticker.ScalarFormatter(useMathText=True)\n",
    "#formatter.set_scientific(True)\n",
    "formatter.set_powerlimits((-1, 2))\n",
    "\n",
    "axes[1].xaxis.set_major_formatter(formatter)\n",
    "axes[1].yaxis.set_major_formatter(formatter)"
   ]
  },
  {
   "cell_type": "markdown",
   "metadata": {
    "slideshow": {
     "slide_type": "slide"
    }
   },
   "source": [
    "### Log plots"
   ]
  },
  {
   "cell_type": "code",
   "execution_count": null,
   "metadata": {
    "slideshow": {
     "slide_type": "fragment"
    }
   },
   "outputs": [],
   "source": [
    "x = np.linspace(0, 1e3, 100)\n",
    "y1, y2 = x**3, x**4\n",
    "\n",
    "fig, axes = plt.subplots(1, 3, figsize=(18, 4))\n",
    "\n",
    "axes[0].set_title('loglog')\n",
    "axes[0].loglog(x, y1, 'b', x, y2, 'r')\n",
    "\n",
    "axes[1].set_title('semilogy')\n",
    "axes[1].semilogy(x, y1, 'b', x, y2, 'r')\n",
    "\n",
    "axes[2].set_title('plot set_[x/y]scale')\n",
    "axes[2].plot(x, y1, 'b', x, y2, 'r')\n",
    "axes[2].set_xscale('log')\n",
    "axes[2].set_yscale('log')"
   ]
  },
  {
   "cell_type": "markdown",
   "metadata": {
    "slideshow": {
     "slide_type": "slide"
    }
   },
   "source": [
    "### Twin axes"
   ]
  },
  {
   "cell_type": "code",
   "execution_count": null,
   "metadata": {
    "slideshow": {
     "slide_type": "subslide"
    }
   },
   "outputs": [],
   "source": [
    "r = np.linspace(0, 5, 100)\n",
    "a = 4*np.pi*r**2      # area\n",
    "v = (4*np.pi/3)*r**3  # volume"
   ]
  },
  {
   "cell_type": "code",
   "execution_count": null,
   "metadata": {
    "slideshow": {
     "slide_type": "subslide"
    }
   },
   "outputs": [],
   "source": [
    "fig, ax1 = plt.subplots(figsize=(8, 4))\n",
    "\n",
    "ax1.set_title(\"surface area and volume of a sphere\", fontsize=16)\n",
    "ax1.set_xlabel(\"radius, [m]\", fontsize=16)\n",
    "\n",
    "ax1.plot(r, a, lw=2, color=\"blue\")\n",
    "ax1.set_ylabel(r\"surface area, [$m^2$]\", fontsize=16, color=\"blue\")\n",
    "ax1.set_xlim(0, 5)\n",
    "ax1.set_ylim(0, 350)\n",
    "\n",
    "for label in ax1.get_yticklabels():\n",
    "    label.set_color(\"blue\")\n",
    "    \n",
    "ax2 = ax1.twinx()\n",
    "ax2.plot(r, v, lw=2, color=\"red\")\n",
    "ax2.set_ylabel(r\"volume, [$m^3$]\", fontsize=16, color=\"red\")\n",
    "ax2.set_ylim(0, 600)\n",
    "for label in ax2.get_yticklabels():\n",
    "    label.set_color(\"red\")"
   ]
  },
  {
   "cell_type": "markdown",
   "metadata": {
    "slideshow": {
     "slide_type": "slide"
    }
   },
   "source": [
    "### Splines"
   ]
  },
  {
   "cell_type": "code",
   "execution_count": null,
   "metadata": {
    "slideshow": {
     "slide_type": "subslide"
    }
   },
   "outputs": [],
   "source": [
    "x = np.linspace(-10, 10, 500)\n",
    "y = np.sin(x)/x"
   ]
  },
  {
   "cell_type": "code",
   "execution_count": null,
   "metadata": {
    "slideshow": {
     "slide_type": "subslide"
    }
   },
   "outputs": [],
   "source": [
    "fig, ax = plt.subplots(figsize=(8, 4))\n",
    "\n",
    "ax.plot(x, y, lw=2)\n",
    "\n",
    "ax.set_xticks([-10, -5, 5, 10])\n",
    "ax.set_yticks([0.5, 1])\n",
    "\n",
    "# remove top and right spines\n",
    "ax.spines['left'].set_color('none')\n",
    "ax.spines['top'].set_color('none')\n",
    "\n",
    "# remove top and right spine ticks\n",
    "ax.xaxis.set_ticks_position('bottom')\n",
    "ax.yaxis.set_ticks_position('right')\n",
    "\n",
    "# move bottom and left spines to x = 0 and y = 0\n",
    "ax.spines['bottom'].set_position(('data', 0))\n",
    "ax.spines['right'].set_position(('data', 0))"
   ]
  },
  {
   "cell_type": "markdown",
   "metadata": {
    "slideshow": {
     "slide_type": "slide"
    }
   },
   "source": [
    "## Advanced axes layouts"
   ]
  },
  {
   "cell_type": "markdown",
   "metadata": {
    "slideshow": {
     "slide_type": "subslide"
    }
   },
   "source": [
    "### Insets"
   ]
  },
  {
   "cell_type": "code",
   "execution_count": null,
   "metadata": {
    "slideshow": {
     "slide_type": "subslide"
    }
   },
   "outputs": [],
   "source": [
    "def f(x):\n",
    "    return 1/(1 +x**2) +0.1/(1 +((3 -x)/0.1)**2)\n",
    "\n",
    "def plot_and_format_axes(ax, x, f, fontsize):\n",
    "    ax.plot(x, f(x), lw=2)\n",
    "    ax.xaxis.set_major_locator(mpl.ticker.MaxNLocator(5))\n",
    "    ax.yaxis.set_major_locator(mpl.ticker.MaxNLocator(4))\n",
    "    ax.set_xlabel(r\"$x$\", fontsize=fontsize)\n",
    "    ax.set_ylabel(r\"$f(x)$\", fontsize=fontsize)\n",
    "    ax.tick_params(which='both', direction='in')"
   ]
  },
  {
   "cell_type": "code",
   "execution_count": null,
   "metadata": {
    "slideshow": {
     "slide_type": "subslide"
    }
   },
   "outputs": [],
   "source": [
    "x = np.linspace(-4, 14, 1000)    \n",
    "    \n",
    "fig = plt.figure(figsize=(15, 6))    \n",
    "\n",
    "ax = fig.add_axes([0.1, 0.15, 0.8, 0.8], facecolor=\"#f5f5f5\") # main graph\n",
    "plot_and_format_axes(ax, x, f, 18)\n",
    "\n",
    "x0, x1 = 2.5, 3.5\n",
    "x = np.linspace(x0, x1, 1000)\n",
    "\n",
    "ax.axvline(x0, ymax=0.3, color=\"gray\", ls=':')\n",
    "ax.axvline(x1, ymax=0.3, color=\"gray\", ls=':')\n",
    "\n",
    "ax = fig.add_axes([0.5, 0.5, 0.38, 0.42], facecolor='none') # inset\n",
    "plot_and_format_axes(ax, x, f, 14)"
   ]
  },
  {
   "cell_type": "markdown",
   "metadata": {
    "slideshow": {
     "slide_type": "subslide"
    }
   },
   "source": [
    "### Subplots"
   ]
  },
  {
   "cell_type": "code",
   "execution_count": null,
   "metadata": {
    "slideshow": {
     "slide_type": "fragment"
    }
   },
   "outputs": [],
   "source": [
    "x1 = np.random.randn(100)\n",
    "x2 = np.random.randn(100)"
   ]
  },
  {
   "cell_type": "code",
   "execution_count": null,
   "metadata": {
    "slideshow": {
     "slide_type": "subslide"
    }
   },
   "outputs": [],
   "source": [
    "fig, axes = plt.subplots(2, 2, figsize=(7, 7), sharex=True, sharey=True, \n",
    "                         squeeze=False) # squeeze=False, the axes is always a two-dimensional array\n",
    "\n",
    "axes[0, 0].set_title(\"Uncorrelated\"),                 axes[0, 0].scatter(x1, x2)\n",
    "axes[0, 1].set_title(\"Weakly positively correlated\"), axes[0, 1].scatter(x1, x1 +x2)\n",
    "axes[1, 0].set_title(\"Weakly negatively correlated\"), axes[1, 0].scatter(x1,-x1 +x2)\n",
    "axes[1, 1].set_title(\"Strongly correlated\"),          axes[1, 1].scatter(x1, x1 +0.15*x2)\n",
    "\n",
    "axes[1, 1].set_xlabel(\"x\"), axes[1, 0].set_xlabel(\"x\")\n",
    "axes[0, 0].set_ylabel(\"y\"), axes[1, 0].set_ylabel(\"y\")\n",
    "\n",
    "plt.subplots_adjust(left=0.1, right=0.95, bottom=0.1, top=0.95, wspace=0.1, hspace=0.2)"
   ]
  },
  {
   "cell_type": "markdown",
   "metadata": {
    "slideshow": {
     "slide_type": "subslide"
    }
   },
   "source": [
    "### Subplot2grid"
   ]
  },
  {
   "cell_type": "code",
   "execution_count": null,
   "metadata": {
    "slideshow": {
     "slide_type": "fragment"
    }
   },
   "outputs": [],
   "source": [
    "def plot_and_format_axes(ax, ax_number):\n",
    "    ax.set_xlim(0, 6)\n",
    "    ax.set_ylim(0, 6)    \n",
    "    ax.xaxis.set_major_locator(mpl.ticker.MaxNLocator(6))\n",
    "    ax.yaxis.set_major_locator(mpl.ticker.MaxNLocator(6))\n",
    "    ax.tick_params(which='both', direction='in', top=True, right=True)\n",
    "    ax.set_xticklabels([])\n",
    "    ax.set_yticklabels([])\n",
    "    ax.text(3, 3, \"ax%d\" % ax_number, horizontalalignment='center', verticalalignment='center')"
   ]
  },
  {
   "cell_type": "code",
   "execution_count": null,
   "metadata": {
    "slideshow": {
     "slide_type": "subslide"
    }
   },
   "outputs": [],
   "source": [
    "ax0 = plt.subplot2grid((3, 3), (0, 0))\n",
    "ax1 = plt.subplot2grid((3, 3), (0, 1))\n",
    "ax2 = plt.subplot2grid((3, 3), (1, 0), colspan=2)\n",
    "ax3 = plt.subplot2grid((3, 3), (2, 0), colspan=3)\n",
    "ax4 = plt.subplot2grid((3, 3), (0, 2), rowspan=2)\n",
    "\n",
    "axes = np.array([ax0, ax1, ax2, ax3, ax4])\n",
    "\n",
    "for i in range(5):\n",
    "    plot_and_format_axes(axes[i], i)"
   ]
  },
  {
   "cell_type": "markdown",
   "metadata": {
    "slideshow": {
     "slide_type": "subslide"
    }
   },
   "source": [
    "### GridSpec"
   ]
  },
  {
   "cell_type": "code",
   "execution_count": null,
   "metadata": {
    "slideshow": {
     "slide_type": "fragment"
    }
   },
   "outputs": [],
   "source": [
    "fig = plt.figure(figsize=(6, 4))\n",
    "\n",
    "gs = mpl.gridspec.GridSpec(4, 4)\n",
    "\n",
    "ax0, ax1 = fig.add_subplot(gs[0, 0]),  fig.add_subplot(gs[1, 1])\n",
    "ax2, ax3 = fig.add_subplot(gs[2, 2]),  fig.add_subplot(gs[3, 3])\n",
    "ax4, ax5 = fig.add_subplot(gs[0, 1:]), fig.add_subplot(gs[1:, 0])\n",
    "ax6, ax7 = fig.add_subplot(gs[1, 2:]), fig.add_subplot(gs[2:, 1])\n",
    "ax8, ax9 = fig.add_subplot(gs[2, 3]),  fig.add_subplot(gs[3, 2])\n",
    "\n",
    "axes = np.array([ax0, ax1, ax2, ax3, ax4, ax5, ax6, ax7, ax8, ax9])\n",
    "\n",
    "for i in range(10):\n",
    "    plot_and_format_axes(axes[i], i)"
   ]
  },
  {
   "cell_type": "code",
   "execution_count": null,
   "metadata": {
    "slideshow": {
     "slide_type": "subslide"
    }
   },
   "outputs": [],
   "source": [
    "fig = plt.figure(figsize=(4, 4))\n",
    "\n",
    "gs = mpl.gridspec.GridSpec(2, 2, width_ratios=[4, 1], height_ratios=[1, 4],\n",
    "                          wspace=0.05, hspace=0.05)\n",
    "\n",
    "ax0 = fig.add_subplot(gs[1, 0])\n",
    "ax1 = fig.add_subplot(gs[0, 0])\n",
    "ax2 = fig.add_subplot(gs[1, 1])\n",
    "\n",
    "axes = np.array([ax0, ax1, ax2])\n",
    "\n",
    "for i in range(3):\n",
    "    plot_and_format_axes(axes[i], i)"
   ]
  },
  {
   "cell_type": "markdown",
   "metadata": {
    "slideshow": {
     "slide_type": "subslide"
    }
   },
   "source": [
    "## Colormap plots"
   ]
  },
  {
   "cell_type": "code",
   "execution_count": null,
   "metadata": {
    "slideshow": {
     "slide_type": "fragment"
    }
   },
   "outputs": [],
   "source": [
    "x = y = np.linspace(-2, 2, 150)\n",
    "X, Y = np.meshgrid(x, y)\n",
    "\n",
    "R1 = np.sqrt((X + 0.5)**2 +(Y + 0.5)**2)\n",
    "R2 = np.sqrt((X + 0.5)**2 +(Y - 0.5)**2)\n",
    "R3 = np.sqrt((X - 0.5)**2 +(Y + 0.5)**2)\n",
    "R4 = np.sqrt((X - 0.5)**2 +(Y - 0.5)**2)"
   ]
  },
  {
   "cell_type": "code",
   "execution_count": null,
   "metadata": {
    "slideshow": {
     "slide_type": "subslide"
    }
   },
   "outputs": [],
   "source": [
    "fig, ax = plt.subplots(figsize=(8, 6))\n",
    "\n",
    "Z = np.sin(10 * R1) / (10 * R1) + np.sin(20 * R4) / (20 * R4)\n",
    "Z = Z[:-1, :-1] # after 3.3 version\n",
    "\n",
    "p = ax.pcolor(X, Y, Z, cmap='seismic', vmin=-abs(Z).max(), vmax=abs(Z).max())\n",
    "ax.axis('tight')\n",
    "ax.set_xlabel('x'), ax.set_ylabel('y'), ax.set_title(\"pcolor\")\n",
    "ax.xaxis.set_major_locator(mpl.ticker.MaxNLocator(4))\n",
    "ax.yaxis.set_major_locator(mpl.ticker.MaxNLocator(4))\n",
    "\n",
    "cb = fig.colorbar(p, ax=ax)\n",
    "cb.set_label(\"z\")\n",
    "cb.set_ticks([-1, -.5, 0, .5, 1])"
   ]
  },
  {
   "cell_type": "code",
   "execution_count": null,
   "metadata": {
    "slideshow": {
     "slide_type": "subslide"
    }
   },
   "outputs": [],
   "source": [
    "fig, ax = plt.subplots(figsize=(8, 6))\n",
    "\n",
    "Z = 1/R1 -1/R2 -1/R3 +1/R4\n",
    "\n",
    "im = ax.imshow(Z, vmin=-1, vmax=1, cmap=mpl.cm.bwr,\n",
    "               extent=[x.min(), x.max(), y.min(), y.max()])\n",
    "im.set_interpolation('bilinear')\n",
    "\n",
    "ax.axis('tight'), ax.set_xlabel('x'), ax.set_ylabel('y')\n",
    "ax.set_title(\"imshow\")\n",
    "ax.xaxis.set_major_locator(mpl.ticker.MaxNLocator(4))\n",
    "ax.yaxis.set_major_locator(mpl.ticker.MaxNLocator(4))\n",
    "\n",
    "cb = fig.colorbar(im, ax=ax)\n",
    "cb.set_label(\"z\")\n",
    "cb.set_ticks([-1, -.5, 0, .5, 1])"
   ]
  },
  {
   "cell_type": "code",
   "execution_count": null,
   "metadata": {
    "slideshow": {
     "slide_type": "subslide"
    }
   },
   "outputs": [],
   "source": [
    "x = y = np.linspace(0, 1, 75)\n",
    "X, Y = np.meshgrid(x, y)\n",
    "Z = - 2 *np.cos(2 *np.pi *X) *np.cos(2 *np.pi *Y) - 0.7 *np.cos(np.pi -4 *np.pi *X)"
   ]
  },
  {
   "cell_type": "code",
   "execution_count": null,
   "metadata": {
    "slideshow": {
     "slide_type": "fragment"
    }
   },
   "outputs": [],
   "source": [
    "fig, ax = plt.subplots(figsize=(8, 6))\n",
    "\n",
    "c = ax.contour(X, Y, Z, 15, cmap=mpl.cm.RdBu, vmin=-1, vmax=1)\n",
    "\n",
    "ax.axis('tight'), ax.set_xlabel('x'), ax.set_ylabel('y')\n",
    "ax.set_title(\"contour\")\n",
    "\n",
    "ax.xaxis.set_major_locator(mpl.ticker.MaxNLocator(4))\n",
    "ax.yaxis.set_major_locator(mpl.ticker.MaxNLocator(4))"
   ]
  },
  {
   "cell_type": "code",
   "execution_count": null,
   "metadata": {
    "slideshow": {
     "slide_type": "subslide"
    }
   },
   "outputs": [],
   "source": [
    "fig, ax = plt.subplots(figsize=(8, 6))\n",
    "\n",
    "c = ax.contourf(X, Y, Z, 15, cmap=mpl.cm.RdBu, vmin=-1, vmax=1)\n",
    "\n",
    "ax.axis('tight'), ax.set_xlabel('x'), ax.set_ylabel('y')\n",
    "ax.set_title(\"contourf\")\n",
    "\n",
    "ax.xaxis.set_major_locator(mpl.ticker.MaxNLocator(4))\n",
    "ax.yaxis.set_major_locator(mpl.ticker.MaxNLocator(4))\n",
    "\n",
    "fig.tight_layout()\n",
    "fig.savefig('./figs/ch4_colormaps.pdf')"
   ]
  },
  {
   "cell_type": "code",
   "execution_count": null,
   "metadata": {
    "slideshow": {
     "slide_type": "subslide"
    }
   },
   "outputs": [],
   "source": [
    "x = y = np.linspace(-10, 10, 150)\n",
    "\n",
    "X, Y = np.meshgrid(x, y)\n",
    "Z = np.cos(X) *np.cos(Y) *np.exp(-(X/5)**2 -(Y/5)**2)\n",
    "P = Z[:-1, :-1] # after 3.3 version\n",
    "\n",
    "norm = mpl.colors.Normalize(-abs(Z).max(), abs(Z).max())\n",
    "\n",
    "def plot_and_format_axes(fig, ax, p):\n",
    "    ax.axis('tight')\n",
    "    ax.set_xlabel(r\"$x$\", fontsize=14)\n",
    "    ax.set_ylabel(r\"$y$\", fontsize=14)\n",
    "    ax.xaxis.set_major_locator(mpl.ticker.MaxNLocator(4))\n",
    "    ax.yaxis.set_major_locator(mpl.ticker.MaxNLocator(4))\n",
    "    ax.tick_params(which='both', direction='in', top=True, right=True)\n",
    "\n",
    "    cb0 = fig.colorbar(p, ax=ax)\n",
    "    cb0.set_label(r\"$z$\", fontsize=14)\n",
    "    cb0.set_ticks([-1, -0.5, 0, 0.5, 1])"
   ]
  },
  {
   "cell_type": "code",
   "execution_count": null,
   "metadata": {
    "cell_style": "center",
    "slideshow": {
     "slide_type": "subslide"
    }
   },
   "outputs": [],
   "source": [
    "fig, axes = plt.subplots(1, 2, figsize=(16, 6))\n",
    "\n",
    "p = axes[0].pcolor(X, Y, P, norm=norm, cmap=mpl.cm.bwr)\n",
    "plot_and_format_axes(fig, axes[0], p)\n",
    "\n",
    "axes[1].contour(X, Y, Z, np.linspace(-1.0, 1.0, 20), norm=norm, cmap=mpl.cm.bwr)\n",
    "plot_and_format_axes(fig, axes[1], p)\n",
    "\n",
    "plt.subplots_adjust(wspace=0.2)"
   ]
  },
  {
   "cell_type": "code",
   "execution_count": null,
   "metadata": {
    "slideshow": {
     "slide_type": "subslide"
    }
   },
   "outputs": [],
   "source": [
    "X, Y = np.meshgrid(np.linspace(-2, 2, 100), np.linspace(-2, 2, 100))\n",
    "\n",
    "# A low hump with a spike coming out.\n",
    "# Needs to have z/colour axis on a log scale so we see both hump and spike.\n",
    "\n",
    "Z1 = np.exp(-X**2 - Y**2)\n",
    "Z2 = np.exp(-(10 * X)**2 - (10 * Y)**2)\n",
    "Z = Z1 + 50 * Z2\n",
    "\n",
    "fig, axes = plt.subplots(1, 2, figsize=(16, 6))\n",
    "\n",
    "c = axes[0].pcolor(X, Y, Z, shading='auto', norm=mpl.colors.LogNorm(vmin=Z.min(), vmax=Z.max()), cmap='PuBu_r')\n",
    "fig.colorbar(c, ax=axes[0])\n",
    "\n",
    "c = axes[1].pcolor(X, Y, Z, shading='auto', cmap='PuBu_r') # linear scale only shows the spike\n",
    "fig.colorbar(c, ax=axes[1]);"
   ]
  },
  {
   "cell_type": "markdown",
   "metadata": {
    "slideshow": {
     "slide_type": "fragment"
    }
   },
   "source": [
    "The predefined color maps in `matplotlib` are available in `mpl.cm`. Try `help(mpl.cm)` or try to autocomplete in IPython on the `mpl.cm` module for a full list of available color maps"
   ]
  },
  {
   "cell_type": "markdown",
   "metadata": {
    "slideshow": {
     "slide_type": "slide"
    }
   },
   "source": [
    "## 3D plots"
   ]
  },
  {
   "cell_type": "markdown",
   "metadata": {
    "slideshow": {
     "slide_type": "fragment"
    }
   },
   "source": [
    "* In `matplotlib`, $~$drawing 3D graphs requires using a different axes object, namely the `Axes3D` object that is available from the `mpl_toolkits.mplot3d` module. $~$We can create a 3D-aware axes instance explicitly using the constructor of the `Axes3D` class, $~$by passing a `Figure` instance as argument: \n",
    "\n",
    "    ```python\n",
    "    ax = Axes3D(fig)\n",
    "    ```\n",
    "\n",
    "* Alternatively, $~$we can use the `add_subplot` function with the `projection='3d'` argument:\n",
    "\n",
    "    ```python\n",
    "    ax = fig.add_subplot(1, 1, 1, projection='3d')\n",
    "    ```\n",
    "\n",
    "* or use `plt.subplots` with the `subplot_kw={'projection':'3d'}` argument:\n",
    "\n",
    "    ```python\n",
    "    fig, ax = plt.subplots(1, 1, figsize=(8, 6), subplot_kw={'projection':'3d'})\n",
    "```"
   ]
  },
  {
   "cell_type": "code",
   "execution_count": null,
   "metadata": {
    "slideshow": {
     "slide_type": "subslide"
    }
   },
   "outputs": [],
   "source": [
    "from mpl_toolkits.mplot3d.axes3d import Axes3D\n",
    "\n",
    "x = y = np.linspace(-3, 3, 74)\n",
    "X, Y = np.meshgrid(x, y)\n",
    "R = np.sqrt(X**2 + Y**2)\n",
    "Z = np.sin(4*R) / R\n",
    "\n",
    "norm = mpl.colors.Normalize(-abs(Z).max(), abs(Z).max())\n",
    "\n",
    "def title_and_labels(ax, title):\n",
    "    ax.set_title(title)\n",
    "    ax.set_xlabel(\"$x$\", labelpad=0.05, fontsize=12)\n",
    "    ax.set_ylabel(\"$y$\", labelpad=0.05, fontsize=12)\n",
    "    ax.set_zlabel(\"$z$\", labelpad=0.01, fontsize=12)\n",
    "    ax.tick_params(axis='both', pad=0.01)  \n",
    "    "
   ]
  },
  {
   "cell_type": "code",
   "execution_count": null,
   "metadata": {
    "slideshow": {
     "slide_type": "subslide"
    }
   },
   "outputs": [],
   "source": [
    "fig, axes = plt.subplots(1, 3, figsize=(16, 6), subplot_kw={'projection': '3d'})\n",
    "\n",
    "p = axes[0].plot_surface(X, Y, Z, rstride=1, cstride=1, lw=0, antialiased=False, norm=norm, cmap=mpl.cm.Blues)\n",
    "title_and_labels(axes[0], \"plot_surface\") #, cb = fig.colorbar(p, ax=axes[0], shrink=0.6)\n",
    "\n",
    "axes[1].plot_wireframe(X, Y, Z, rstride=3, cstride=3, color=\"darkgrey\")\n",
    "title_and_labels(axes[1], \"plot_wireframe\")\n",
    "\n",
    "axes[2].contour(X, Y, Z, zdir='z', offset=0, norm=norm, cmap=mpl.cm.Blues)\n",
    "axes[2].contour(X, Y, Z, zdir='y', offset=3, norm=norm, cmap=mpl.cm.Blues)\n",
    "title_and_labels(axes[2], \"contour\") \n",
    "\n",
    "plt.subplots_adjust(left=0.1, right=0.95, bottom=0.1, top=0.95, wspace=0.1) "
   ]
  },
  {
   "cell_type": "code",
   "execution_count": null,
   "metadata": {
    "slideshow": {
     "slide_type": "subslide"
    }
   },
   "outputs": [],
   "source": [
    "def title_and_labels(ax, title):\n",
    "    ax.set_title(title)\n",
    "    ax.set_xlabel(\"$x$\", fontsize=16)\n",
    "    ax.set_ylabel(\"$y$\", fontsize=16)\n",
    "    ax.set_zlabel(\"$z$\", fontsize=16)\n",
    "\n",
    "r = np.linspace(0, 10, 100)"
   ]
  },
  {
   "cell_type": "code",
   "execution_count": null,
   "metadata": {
    "slideshow": {
     "slide_type": "subslide"
    }
   },
   "outputs": [],
   "source": [
    "fig, axes = plt.subplots(1, 3, figsize=(16, 6), subplot_kw={'projection': '3d'})\n",
    "\n",
    "p = axes[0].plot(np.cos(r), np.sin(r), 6 -r)\n",
    "title_and_labels(axes[0], \"plot\")\n",
    "\n",
    "p = axes[1].scatter(np.cos(r), np.sin(r), 6 -r)\n",
    "title_and_labels(axes[1], \"scatter\")\n",
    "\n",
    "r = np.linspace(0, 6, 30)\n",
    "\n",
    "p = axes[2].bar3d(np.cos(r), np.sin(r), np.zeros_like(r), 0.05*np.ones_like(r), 0.05*np.ones_like(r), 6 -r)\n",
    "title_and_labels(axes[2], \"bar3d\")\n",
    "\n",
    "plt.subplots_adjust(left=0.1, right=0.95, bottom=0.1, top=0.95, wspace=0.1)"
   ]
  },
  {
   "cell_type": "markdown",
   "metadata": {
    "slideshow": {
     "slide_type": "slide"
    }
   },
   "source": [
    "## Versions"
   ]
  },
  {
   "cell_type": "code",
   "execution_count": null,
   "metadata": {
    "slideshow": {
     "slide_type": "fragment"
    }
   },
   "outputs": [],
   "source": [
    "print(\"matplotlib:\", mpl.__version__)\n",
    "print(\"numpy: \", np.__version__)\n",
    "print(\"sympy: \", sympy.__version__)"
   ]
  }
 ],
 "metadata": {
  "celltoolbar": "Slideshow",
  "kernelspec": {
   "display_name": "Python 3 (ipykernel)",
   "language": "python",
   "name": "python3"
  },
  "language_info": {
   "codemirror_mode": {
    "name": "ipython",
    "version": 3
   },
   "file_extension": ".py",
   "mimetype": "text/x-python",
   "name": "python",
   "nbconvert_exporter": "python",
   "pygments_lexer": "ipython3",
   "version": "3.8.12"
  }
 },
 "nbformat": 4,
 "nbformat_minor": 4
}
