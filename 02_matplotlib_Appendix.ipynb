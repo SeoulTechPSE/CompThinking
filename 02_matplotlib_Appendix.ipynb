{
 "cells": [
  {
   "cell_type": "markdown",
   "metadata": {
    "slideshow": {
     "slide_type": "slide"
    }
   },
   "source": [
    "# 02. Matplotlib: Plotting and Visualization - Appendix"
   ]
  },
  {
   "cell_type": "code",
   "execution_count": null,
   "metadata": {
    "slideshow": {
     "slide_type": "fragment"
    }
   },
   "outputs": [],
   "source": [
    "import matplotlib as mpl\n",
    "import matplotlib.pyplot as plt"
   ]
  },
  {
   "cell_type": "code",
   "execution_count": null,
   "metadata": {
    "slideshow": {
     "slide_type": "subslide"
    }
   },
   "outputs": [],
   "source": [
    "fig = plt.figure()\n",
    "\n",
    "ax = fig.add_axes([0.05, 0.05, 0.86, 0.88])\n",
    "ax.set_xticks([])\n",
    "ax.set_yticks([])\n",
    "ax.text(0.001, 0.01, \"(0,0)\")\n",
    "ax.text(1.001, 0.01, \"(1,0)\")\n",
    "ax.text(0.001, 1.01, \"(0,1)\")\n",
    "ax.text(1.001, 1.01, \"(1,1)\")\n",
    "ax.text(0.12, 0.06, \"(0.15, 0.15)\")\n",
    "ax.text(0.02, 0.92, \"Figure\", fontsize=18)\n",
    "\n",
    "ax = fig.add_axes([0.15, 0.15, 0.66, 0.68])\n",
    "ax.set_xticks([])\n",
    "ax.set_yticks([])\n",
    "ax.text(0.03, 0.88, \"Axes\", fontsize=18)\n",
    "\n",
    "fig.savefig(\"./figs/figure_axes_schematic.png\")"
   ]
  },
  {
   "cell_type": "code",
   "execution_count": null,
   "metadata": {
    "slideshow": {
     "slide_type": "subslide"
    }
   },
   "outputs": [],
   "source": [
    "fig = plt.figure()\n",
    "\n",
    "ax = fig.add_axes([0.15, 0.15, 0.68, 0.68])\n",
    "\n",
    "ax.set_xlim(1, 3)\n",
    "ax.set_ylim(1, 3)\n",
    "\n",
    "ax.tick_params(which='both', direction='in')\n",
    "\n",
    "ax.set_xticks([1, 2, 3])\n",
    "ax.set_yticks([1, 2, 3])\n",
    "\n",
    "ax.xaxis.set_minor_locator(mpl.ticker.MultipleLocator(0.25))\n",
    "ax.yaxis.set_minor_locator(mpl.ticker.MultipleLocator(0.25))\n",
    "\n",
    "ax.set_xlabel(\"x axis\", fontsize=18)\n",
    "ax.set_ylabel(\"y axis\", fontsize=18)\n",
    "\n",
    "ax.annotate(\"Major Tick\", fontsize=16,\n",
    "            xy=(1, 2), xycoords='data',\n",
    "            xytext=(35, 30), textcoords='offset points',\n",
    "            arrowprops=dict(arrowstyle=\"->\", connectionstyle=\"arc3, rad=0.4\"))\n",
    "\n",
    "ax.annotate(\"Minor Tick\", fontsize=16,\n",
    "            xy=(1, 1.5), xycoords='data',\n",
    "            xytext=(35, 30), textcoords='offset points',\n",
    "            arrowprops=dict(arrowstyle=\"->\", connectionstyle=\"arc3, rad=0.4\"))\n",
    "\n",
    "fig.savefig(\"./figs/figure_axis_schematic.png\")"
   ]
  },
  {
   "cell_type": "markdown",
   "metadata": {
    "slideshow": {
     "slide_type": "subslide"
    }
   },
   "source": [
    "## Versions"
   ]
  },
  {
   "cell_type": "code",
   "execution_count": null,
   "metadata": {
    "slideshow": {
     "slide_type": "fragment"
    }
   },
   "outputs": [],
   "source": [
    "print(\"matplotlib: \", mpl.__version__)"
   ]
  }
 ],
 "metadata": {
  "celltoolbar": "Slideshow",
  "kernelspec": {
   "display_name": "Python 3 (ipykernel)",
   "language": "python",
   "name": "python3"
  },
  "language_info": {
   "codemirror_mode": {
    "name": "ipython",
    "version": 3
   },
   "file_extension": ".py",
   "mimetype": "text/x-python",
   "name": "python",
   "nbconvert_exporter": "python",
   "pygments_lexer": "ipython3",
   "version": "3.8.12"
  }
 },
 "nbformat": 4,
 "nbformat_minor": 4
}
