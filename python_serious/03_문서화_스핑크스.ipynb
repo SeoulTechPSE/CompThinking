{
 "cells": [
  {
   "cell_type": "markdown",
   "id": "4e1bb88e",
   "metadata": {},
   "source": [
    "# 03 장. 문서화와 모범 API 사례"
   ]
  },
  {
   "cell_type": "markdown",
   "id": "c1698bb3",
   "metadata": {},
   "source": [
    "## 3.1. 스핑크스로 문서화하기"
   ]
  },
  {
   "cell_type": "markdown",
   "id": "ff473140",
   "metadata": {},
   "source": [
    "* 파이썬 문서의 가장 일반적인 형식은 reStructuredText(reST)로, [스핑크스](http://www.sphinx-doc.org)는 reST 형식으로 작업할 때 가장 일반적으로 사용하는 도구임\n",
    "\n",
    "* 프로젝트 문서에 포함되어야 할 내용\n",
    "\n",
    "  * 프로젝트로 해결하려는 문제\n",
    "  * 프로젝트 라이센스: 오픈소스면 소스 코드 파일마다 라이센스 정보를 포함해야 함 \n",
    "  * 소스 코드의 실제 사용 예제\n",
    "  * 설치 방법\n",
    "  * 커뮤니티 지원, 메일링 리스트 등에 대한 링크\n",
    "  * 버그 추적 시스템에 대한 링크\n",
    "  * 소스 코드에 대한 링크\n",
    "  \n",
    "* 프로젝트 자체를 설명하는 README.rst 파일이 제공되어야 함. 이 README 파일은 github나 PyPI 프로젝트 페이지에서 볼 수 있어야 함\n",
    "\n",
    "* [Read The Docs(RTD)](http://readthedocs.org)은 온라인에서 자동으로 문서를 생성하고 공개할 수 있는 웹사이트로, 작성된 스핑크스 설정 파일을 찾아서 문서를 생성함"
   ]
  },
  {
   "cell_type": "markdown",
   "id": "b7562cb3",
   "metadata": {},
   "source": [
    "### 스핑크스와 reST로 시작하기"
   ]
  },
  {
   "cell_type": "markdown",
   "id": "e7228abd",
   "metadata": {},
   "source": [
    "* 스핑크스 설치\n",
    "\n",
    "```shell\n",
    "$ pip install sphinx\n",
    "```\n",
    "\n",
    "* 스핑크스로 문서화 프로젝트 세팅\n",
    "\n",
    "```shell\n",
    "$ mkdir doc\n",
    "$ cd doc\n",
    "$ sphinx-quickstart\n",
    "```\n",
    "\n",
    "![sphinx-quickstart_1](./figs/sphinx_01.png)\n",
    "![sphinx-quickstart_2](./figs/sphinx_02.png)\n",
    "\n",
    "```shell\n",
    "$ ls -la\n",
    "$ cd source\n",
    "$ ls -la\n",
    "```\n",
    "\n",
    "![sphinx-quickstart_3](./figs/sphinx_03.png)"
   ]
  },
  {
   "cell_type": "markdown",
   "id": "1b0fac01",
   "metadata": {},
   "source": [
    "* 스핑크스 빌드\n",
    "\n",
    "```shell\n",
    "$ cd ..\n",
    "$ make html\n",
    "```\n",
    "\n",
    "![make html_1](./figs/sphinx_04.png)\n",
    "\n",
    "```shell\n",
    "$ cd build\n",
    "$ ls -la \n",
    "$ cd html\n",
    "$ ls -la\n",
    "```\n",
    "\n",
    "![make html_2](./figs/sphinx_05.png)\n",
    "\n",
    "![make html_3](./figs/sphinx_06.png)"
   ]
  },
  {
   "cell_type": "markdown",
   "id": "5ee5f0a4",
   "metadata": {},
   "source": [
    "### RTD 테마 적용\n",
    "\n",
    "* 스핑크스 RTD 테마 설치\n",
    "\n",
    "```shell\n",
    "$ pip install sphinx_rtd_theme\n",
    "```\n",
    "\n",
    "* `doc/source`에 있는 `conf.py`의 `HTML` 테마 부분을 다음과 같이 수정\n",
    "\n",
    "![make html_4](./figs/sphinx_07.png)\n",
    "\n",
    "* `doc` 디렉토리에서 `make html`을 재실행 후 `index.html`을 다시 로드하면 다음과 같이 테마가 변경됨\n",
    "\n",
    "![make html_5](./figs/sphinx_08.png)"
   ]
  },
  {
   "cell_type": "code",
   "execution_count": null,
   "id": "6343e536",
   "metadata": {},
   "outputs": [],
   "source": []
  }
 ],
 "metadata": {
  "kernelspec": {
   "display_name": "Python 3 (ipykernel)",
   "language": "python",
   "name": "python3"
  },
  "language_info": {
   "codemirror_mode": {
    "name": "ipython",
    "version": 3
   },
   "file_extension": ".py",
   "mimetype": "text/x-python",
   "name": "python",
   "nbconvert_exporter": "python",
   "pygments_lexer": "ipython3",
   "version": "3.8.12"
  }
 },
 "nbformat": 4,
 "nbformat_minor": 5
}
