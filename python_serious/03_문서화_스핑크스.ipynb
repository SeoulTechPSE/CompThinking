{
 "cells": [
  {
   "cell_type": "markdown",
   "id": "5f8f3f44",
   "metadata": {},
   "source": [
    "# 03 장. 문서화와 모범 API 사례"
   ]
  },
  {
   "cell_type": "markdown",
   "id": "9a02d3b7",
   "metadata": {},
   "source": [
    "## 3.1. 스핑크스로 문서화하기"
   ]
  },
  {
   "cell_type": "markdown",
   "id": "dc1a23c3",
   "metadata": {},
   "source": [
    "* 파이썬 문서의 가장 일반적인 형식은 reStructuredText(reST)로, [스핑크스](http://www.sphinx-doc.org)는 reST 형식으로 작업할 때 가장 일반적으로 사용하는 도구임\n",
    "\n",
    "* 프로젝트 문서에 포함되어야 할 내용\n",
    "\n",
    "  * 프로젝트로 해결하려는 문제\n",
    "  * 프로젝트 라이센스: 오픈소스면 소스 코드 파일마다 라이센스 정보를 포함해야 함 \n",
    "  * 소스 코드의 실제 사용 예제\n",
    "  * 설치 방법\n",
    "  * 커뮤니티 지원, 메일링 리스트 등에 대한 링크\n",
    "  * 버그 추적 시스템에 대한 링크\n",
    "  * 소스 코드에 대한 링크\n",
    "  \n",
    "* 프로젝트 자체를 설명하는 README.rst 파일이 제공되어야 함. 이 README 파일은 github나 PyPI 프로젝트 페이지에서 볼 수 있어야 함\n",
    "\n",
    "* [Read The Docs(RTD)](http://readthedocs.org)은 온라인에서 자동으로 문서를 생성하고 공개할 수 있는 웹사이트로, 작성된 스핑크스 설정 파일을 찾아서 문서를 생성함"
   ]
  },
  {
   "cell_type": "markdown",
   "id": "b1bf607c",
   "metadata": {},
   "source": [
    "### 스핑크스와 reST로 시작하기"
   ]
  },
  {
   "cell_type": "markdown",
   "id": "6db73147",
   "metadata": {},
   "source": [
    "* 스핑크스 설치\n",
    "\n",
    "```shell\n",
    "$ pip install sphinx\n",
    "```\n",
    "\n",
    "* 스핑크스로 문서화 프로젝트 세팅\n",
    "\n",
    "```shell\n",
    "$ mkdir doc\n",
    "$ cd doc\n",
    "$ sphinx-quickstart\n",
    "```\n",
    "\n",
    "![sphinx-quickstart_1](https://raw.githubusercontent.com/SeoulTechPSE/CompThinking/main/python_serious/figs/sphinx_01.png?raw=true)\n",
    "![sphinx-quickstart_2](https://raw.githubusercontent.com/SeoulTechPSE/CompThinking/main/python_serious/figs/sphinx_02.png?raw=true)\n",
    "\n",
    "```shell\n",
    "$ ls -la\n",
    "$ cd source\n",
    "$ ls -la\n",
    "```\n",
    "\n",
    "![sphinx-quickstart_3](https://raw.githubusercontent.com/SeoulTechPSE/CompThinking/main/python_serious/figs/sphinx_03.png?raw=true)"
   ]
  },
  {
   "cell_type": "markdown",
   "id": "37c4381b",
   "metadata": {},
   "source": [
    "* 스핑크스 빌드\n",
    "\n",
    "```shell\n",
    "$ cd ..\n",
    "$ make html\n",
    "```\n",
    "\n",
    "![make html_1](https://raw.githubusercontent.com/SeoulTechPSE/CompThinking/main/python_serious/figs/sphinx_04.png?raw=true)\n",
    "\n",
    "```shell\n",
    "$ cd build\n",
    "$ ls -la \n",
    "$ cd html\n",
    "$ ls -la\n",
    "```\n",
    "\n",
    "![make html_2](https://raw.githubusercontent.com/SeoulTechPSE/CompThinking/main/python_serious/figs/sphinx_05.png?raw=true)\n",
    "\n",
    "![make html_3](https://raw.githubusercontent.com/SeoulTechPSE/CompThinking/main/python_serious/figs/sphinx_06.png?raw=true)"
   ]
  },
  {
   "cell_type": "markdown",
   "id": "e1715aac",
   "metadata": {},
   "source": [
    "### RTD 테마 적용\n",
    "\n",
    "* 스핑크스 RTD 테마 설치\n",
    "\n",
    "```shell\n",
    "$ pip install sphinx_rtd_theme\n",
    "```\n",
    "\n",
    "* `doc/source`에 있는 `conf.py`의 `HTML` 테마 부분을 다음과 같이 수정\n",
    "\n",
    "![make html_4](https://raw.githubusercontent.com/SeoulTechPSE/CompThinking/main/python_serious/figs/sphinx_07.png?raw=true)\n",
    "\n",
    "* `doc` 디렉토리에서 `make html`을 재실행 후 `index.html`을 다시 로드하면 다음과 같이 테마가 변경됨\n",
    "\n",
    "![make html_5](https://raw.githubusercontent.com/SeoulTechPSE/CompThinking/main/python_serious/figs/sphinx_08.png?raw=true)"
   ]
  },
  {
   "cell_type": "markdown",
   "id": "bbfcaf2d",
   "metadata": {},
   "source": [
    "### 스핑크스에서 markdown 문서 다루기"
   ]
  },
  {
   "cell_type": "markdown",
   "id": "8832bb34",
   "metadata": {},
   "source": [
    "* 스핑크스에서 markdown 문서를 다루기 위해 `myst_parser`를 설치하고, `conf.py`에 `myst_parser` extension을 아래 그림과 같이 추가\n",
    "\n",
    "```shell\n",
    "$ pip install myst-parser\n",
    "```\n",
    "\n",
    "![make html_6](https://raw.githubusercontent.com/SeoulTechPSE/CompThinking/main/python_serious/figs/sphinx_09.png?raw=true)"
   ]
  },
  {
   "cell_type": "markdown",
   "id": "eff929b8",
   "metadata": {},
   "source": [
    "* `doc/source` 디렉토리에 아래 그림과 같이 `markdown_tutor` 서브 디렉토리를 만들고 두 개의 markdown 문서 작성\n",
    "\n",
    "![make html_7](https://raw.githubusercontent.com/SeoulTechPSE/CompThinking/main/python_serious/figs/sphinx_10.png?raw=true)"
   ]
  },
  {
   "cell_type": "markdown",
   "id": "b6567f2d",
   "metadata": {},
   "source": [
    "* `index.rst`의 `toctree` 부분에 위에서 생성한 디렉터리와 파일을 등록\n",
    "\n",
    "![make html_8](https://raw.githubusercontent.com/SeoulTechPSE/CompThinking/main/python_serious/figs/sphinx_11.png?raw=true)"
   ]
  },
  {
   "cell_type": "code",
   "execution_count": null,
   "id": "9e9719ce",
   "metadata": {},
   "outputs": [],
   "source": []
  }
 ],
 "metadata": {
  "kernelspec": {
   "display_name": "Python 3 (ipykernel)",
   "language": "python",
   "name": "python3"
  },
  "language_info": {
   "codemirror_mode": {
    "name": "ipython",
    "version": 3
   },
   "file_extension": ".py",
   "mimetype": "text/x-python",
   "name": "python",
   "nbconvert_exporter": "python",
   "pygments_lexer": "ipython3",
   "version": "3.8.12"
  }
 },
 "nbformat": 4,
 "nbformat_minor": 5
}
