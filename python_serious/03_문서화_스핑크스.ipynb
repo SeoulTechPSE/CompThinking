{
 "cells": [
  {
   "cell_type": "markdown",
   "id": "5f8f3f44",
   "metadata": {},
   "source": [
    "# 03 장. 문서화 - 스핑크스"
   ]
  },
  {
   "cell_type": "markdown",
   "id": "9a02d3b7",
   "metadata": {},
   "source": [
    "## 3.1. 스핑크스로 문서화하기"
   ]
  },
  {
   "cell_type": "markdown",
   "id": "dc1a23c3",
   "metadata": {},
   "source": [
    "* 파이썬 문서의 가장 일반적인 형식은 reStructuredText(reST)로, [스핑크스](http://www.sphinx-doc.org)는 reST 형식으로 작업할 때 가장 일반적으로 사용하는 도구임\n",
    "\n",
    "* 프로젝트 문서에 포함되어야 할 내용\n",
    "\n",
    "  * 프로젝트로 해결하려는 문제\n",
    "  * 프로젝트 라이센스: 오픈소스면 소스 코드 파일마다 라이센스 정보를 포함해야 함 \n",
    "  * 소스 코드의 실제 사용 예제\n",
    "  * 설치 방법\n",
    "  * 커뮤니티 지원, 메일링 리스트 등에 대한 링크\n",
    "  * 버그 추적 시스템에 대한 링크\n",
    "  * 소스 코드에 대한 링크\n",
    "  \n",
    "* 프로젝트 자체를 설명하는 README.rst 파일이 제공되어야 함. 이 README 파일은 github나 PyPI 프로젝트 페이지에서 볼 수 있어야 함\n",
    "\n",
    "* [Read The Docs(RTD)](http://readthedocs.org)은 온라인에서 자동으로 문서를 생성하고 공개할 수 있는 웹사이트로, 작성된 스핑크스 설정 파일을 찾아서 문서를 생성함"
   ]
  },
  {
   "cell_type": "markdown",
   "id": "b1bf607c",
   "metadata": {},
   "source": [
    "## 3.2. 스핑크스와 reST로 시작하기"
   ]
  },
  {
   "cell_type": "markdown",
   "id": "6db73147",
   "metadata": {},
   "source": [
    "* 스핑크스 설치\n",
    "\n",
    "```shell\n",
    "$ pip install sphinx\n",
    "```\n",
    "\n",
    "* 스핑크스로 문서화 프로젝트 세팅\n",
    "\n",
    "```shell\n",
    "$ mkdir doc\n",
    "$ cd doc\n",
    "$ sphinx-quickstart\n",
    "```\n",
    "\n",
    "![sphinx-quickstart_1](https://raw.githubusercontent.com/SeoulTechPSE/CompThinking/main/python_serious/figs/sphinx_01.png?raw=true)\n",
    "![sphinx-quickstart_2](https://raw.githubusercontent.com/SeoulTechPSE/CompThinking/main/python_serious/figs/sphinx_02.png?raw=true)\n",
    "\n",
    "```shell\n",
    "$ ls -la\n",
    "$ cd source\n",
    "$ ls -la\n",
    "```\n",
    "\n",
    "![sphinx-quickstart_3](https://raw.githubusercontent.com/SeoulTechPSE/CompThinking/main/python_serious/figs/sphinx_03.png?raw=true)"
   ]
  },
  {
   "cell_type": "markdown",
   "id": "37c4381b",
   "metadata": {},
   "source": [
    "* 스핑크스 빌드\n",
    "\n",
    "```shell\n",
    "$ cd ..\n",
    "$ make html\n",
    "```\n",
    "\n",
    "![make html_1](https://raw.githubusercontent.com/SeoulTechPSE/CompThinking/main/python_serious/figs/sphinx_04.png?raw=true)\n",
    "\n",
    "```shell\n",
    "$ cd build\n",
    "$ ls -la \n",
    "$ cd html\n",
    "$ ls -la\n",
    "```\n",
    "\n",
    "![make html_2](https://raw.githubusercontent.com/SeoulTechPSE/CompThinking/main/python_serious/figs/sphinx_05.png?raw=true)\n",
    "\n",
    "![make html_3](https://raw.githubusercontent.com/SeoulTechPSE/CompThinking/main/python_serious/figs/sphinx_06.png?raw=true)"
   ]
  },
  {
   "cell_type": "markdown",
   "id": "e1715aac",
   "metadata": {},
   "source": [
    "## 3.3. RTD 테마 적용\n",
    "\n",
    "* 스핑크스 RTD 테마 설치\n",
    "\n",
    "```shell\n",
    "$ pip install sphinx_rtd_theme\n",
    "```\n",
    "\n",
    "* `doc/source`에 있는 `conf.py`의 `HTML` 테마 부분을 다음과 같이 수정\n",
    "\n",
    "![make html_4](https://raw.githubusercontent.com/SeoulTechPSE/CompThinking/main/python_serious/figs/sphinx_07.png?raw=true)\n",
    "\n",
    "* `doc` 디렉토리에서 `make html`을 재실행 후 `index.html`을 다시 로드하면 다음과 같이 테마가 변경됨\n",
    "\n",
    "![make html_5](https://raw.githubusercontent.com/SeoulTechPSE/CompThinking/main/python_serious/figs/sphinx_08.png?raw=true)"
   ]
  },
  {
   "cell_type": "markdown",
   "id": "cc5916b7",
   "metadata": {},
   "source": [
    "* RTD 외에 다른 테마들은 [Sphinx Themes Gallery](https://sphinx-themes.org/)에서 찾을 수 있음"
   ]
  },
  {
   "cell_type": "markdown",
   "id": "bbfcaf2d",
   "metadata": {},
   "source": [
    "## 3.4. 스핑크스에서 markdown 문서 다루기"
   ]
  },
  {
   "cell_type": "markdown",
   "id": "8832bb34",
   "metadata": {},
   "source": [
    "* 스핑크스에서 markdown 문서를 다루기 위해 `myst_parser`를 설치하고, `conf.py`에 `myst_parser` extension을 아래 그림과 같이 추가\n",
    "\n",
    "```shell\n",
    "$ pip install myst-parser\n",
    "```\n",
    "* 스핑크스에서 다루는 markdown 문서에서 수식을 렌더링하기 위해 다음 extension들도 추가할 필요가 있음\n",
    "\n",
    "```shell\n",
    "$ pip install -U sphinx-mathjax-offline\n",
    "$ pip install sphinx-math-dollar\n",
    "```\n",
    "\n",
    "\n",
    "![make html_6](https://raw.githubusercontent.com/SeoulTechPSE/CompThinking/main/python_serious/figs/sphinx_09.png?raw=true)"
   ]
  },
  {
   "cell_type": "markdown",
   "id": "eff929b8",
   "metadata": {},
   "source": [
    "* `doc/source` 디렉토리에 아래 그림과 같이 `markdown_tutor` 서브 디렉토리를 만들고 3개의 markdown 문서를 복사\n",
    "\n",
    "> [markdown_tutor1.md](./doc/source/markdown_tutor/markdown_tutor1.md) \\\\\n",
    "  [markdown_tutor2.md](./doc/source/markdown_tutor/markdown_tutor2.md) \\\\\n",
    "  [markdown_tutor3.md](./doc/source/markdown_tutor/markdown_tutor3.md)\n",
    "\n",
    "![make html_7](https://raw.githubusercontent.com/SeoulTechPSE/CompThinking/main/python_serious/figs/sphinx_10.png?raw=true)"
   ]
  },
  {
   "cell_type": "markdown",
   "id": "b6567f2d",
   "metadata": {},
   "source": [
    "* `index.rst`를 아래와 같이 편집\n",
    "\n",
    "![make html_8](https://raw.githubusercontent.com/SeoulTechPSE/CompThinking/main/python_serious/figs/sphinx_11.png?raw=true)"
   ]
  },
  {
   "cell_type": "markdown",
   "id": "eac2eba7",
   "metadata": {},
   "source": [
    "* `doc` 디렉토리에서 `make clean`, `make html`을 연속적으로 실행한 후 변경된 `build/html/index.html`을 웹브라우저에서 확인:\n",
    "\n",
    "![make html_9](https://raw.githubusercontent.com/SeoulTechPSE/CompThinking/main/python_serious/figs/sphinx_12.png?raw=true)\n",
    "![make html_10](https://raw.githubusercontent.com/SeoulTechPSE/CompThinking/main/python_serious/figs/sphinx_13.png?raw=true)\n",
    "![make html_11](https://raw.githubusercontent.com/SeoulTechPSE/CompThinking/main/python_serious/figs/sphinx_14.png?raw=true)"
   ]
  },
  {
   "cell_type": "markdown",
   "id": "2ff34338",
   "metadata": {},
   "source": [
    "## 3.5. sphinx.ext.autodoc 모듈"
   ]
  },
  {
   "cell_type": "markdown",
   "id": "256fe2e2",
   "metadata": {},
   "source": [
    "* 다음과 같이 문서화를 위한 파이썬 모듈 작성\n",
    "\n",
    "![autodoc 1](https://raw.githubusercontent.com/SeoulTechPSE/CompThinking/main/python_serious/figs/sphinx_15.png?raw=true)\n",
    "\n",
    "![autodoc 2](https://raw.githubusercontent.com/SeoulTechPSE/CompThinking/main/python_serious/figs/sphinx_16.png?raw=true)"
   ]
  },
  {
   "cell_type": "markdown",
   "id": "91556896",
   "metadata": {},
   "source": [
    "* `conf.py`을 아래와 같이 수정\n",
    "\n",
    "![autodoc 3](https://raw.githubusercontent.com/SeoulTechPSE/CompThinking/main/python_serious/figs/sphinx_17.png?raw=true)\n",
    "\n",
    "![autodoc 4](https://raw.githubusercontent.com/SeoulTechPSE/CompThinking/main/python_serious/figs/sphinx_18.png?raw=true)"
   ]
  },
  {
   "cell_type": "markdown",
   "id": "87d90199",
   "metadata": {},
   "source": [
    "* `doc`을 하위 디렉토리로 가진 문서화 프로젝트 메인에서 다음을 수행한다:\n",
    "\n",
    "```shell\n",
    "$ sphinx-apidoc -f -o doc/source sphinxtutor/ --separate\n",
    "```\n",
    "\n",
    "![autodoc 5](https://raw.githubusercontent.com/SeoulTechPSE/CompThinking/main/python_serious/figs/sphinx_19.png?raw=true)\n",
    "\n",
    "![autodoc 6](https://raw.githubusercontent.com/SeoulTechPSE/CompThinking/main/python_serious/figs/sphinx_20.png?raw=true)"
   ]
  },
  {
   "cell_type": "markdown",
   "id": "8689cdf3",
   "metadata": {},
   "source": [
    "* `doc/source/index.rst`에 아래 그림과 같이 modules.rst를 추가한다:\n",
    "\n",
    "![autodoc 7](https://raw.githubusercontent.com/SeoulTechPSE/CompThinking/main/python_serious/figs/sphinx_21.png?raw=true)"
   ]
  },
  {
   "cell_type": "markdown",
   "id": "498d0d22",
   "metadata": {},
   "source": [
    "* `doc` 디렉토리에서 `make html`을 실행하고 `build/html/index.html`을 열어보면 다음과 같다:\n",
    "\n",
    "![autodoc 8](https://raw.githubusercontent.com/SeoulTechPSE/CompThinking/main/python_serious/figs/sphinx_22.png?raw=true)\n",
    "\n",
    "![autodoc 9](https://raw.githubusercontent.com/SeoulTechPSE/CompThinking/main/python_serious/figs/sphinx_23.png?raw=true)\n",
    "\n",
    "![autodoc 10](https://raw.githubusercontent.com/SeoulTechPSE/CompThinking/main/python_serious/figs/sphinx_24.png?raw=true)"
   ]
  },
  {
   "cell_type": "markdown",
   "id": "639d75d7",
   "metadata": {},
   "source": [
    "* 모듈 요약을 문서에 추가하기 위해 `index.rst`에 다음을 추가:\n",
    "\n",
    "![autodoc 11](https://raw.githubusercontent.com/SeoulTechPSE/CompThinking/main/python_serious/figs/sphinx_25.png?raw=true)\n",
    "\n",
    "* 다시 `doc` 디렉토리에서 `make html`을 연속으로 2회 이상 실행:\n",
    "\n",
    "![autodoc 12](https://raw.githubusercontent.com/SeoulTechPSE/CompThinking/main/python_serious/figs/sphinx_26.png?raw=true)\n",
    "\n",
    "![autodoc 13](https://raw.githubusercontent.com/SeoulTechPSE/CompThinking/main/python_serious/figs/sphinx_27.png?raw=true)"
   ]
  },
  {
   "cell_type": "markdown",
   "id": "754b1906",
   "metadata": {},
   "source": [
    "## 3.6. sphinx.ext.doctest 모듈"
   ]
  },
  {
   "cell_type": "markdown",
   "id": "32e703d6",
   "metadata": {},
   "source": [
    "* `conf.py`에 `doctest`를 위한 확장과 정검할 모듈의 경로를 추가:\n",
    "\n",
    "![doctest 1](https://raw.githubusercontent.com/SeoulTechPSE/CompThinking/main/python_serious/figs/sphinx_28.png?raw=true)"
   ]
  },
  {
   "cell_type": "markdown",
   "id": "c0e3f440",
   "metadata": {},
   "source": [
    "* `doc` 디렉토리에서 `make doctest`를 2회 이상 실행:\n",
    "\n",
    "![doctest 2](https://raw.githubusercontent.com/SeoulTechPSE/CompThinking/main/python_serious/figs/sphinx_29.png?raw=true)"
   ]
  },
  {
   "cell_type": "markdown",
   "id": "cea1998c",
   "metadata": {},
   "source": [
    "## 3.7. API 변경 사항 문서화하기"
   ]
  },
  {
   "cell_type": "markdown",
   "id": "11308a43",
   "metadata": {},
   "source": [
    "* API를 변경할 때마다 가장 먼저 해야 하는 일은 코드 사용자가 API 변경 사항을 알 수 있도록 문서화하는 하는 작업이다. 문서에는 다음 사항을 포함해야 합니다:\n",
    "\n",
    "  * 새롭게 추가한 인터페이스의 요소\n",
    "  * 더는 사용하지 않는 인터페이스 요소\n",
    "  * 새로운 인터페이스로 변환하는 방법"
   ]
  },
  {
   "cell_type": "markdown",
   "id": "5da273bb",
   "metadata": {},
   "source": [
    "* `sphinxtutor.sphinx_autodoc_2`에 `Car` 클래스 추가:\n",
    "\n",
    "```python\n",
    "class Car(object):\n",
    "    \"\"\"API 변경사항 문서화하기 예제\n",
    "    \"\"\"\n",
    "\n",
    "    def turn_left(self):\n",
    "        \"\"\"Turn the car left\n",
    "        \n",
    "        .. deprecated:: 0.0.1\n",
    "        Use :func:`turn` instead with the direction argument set to left\n",
    "        \"\"\"    \n",
    "\n",
    "        self.turn(direction='left')\n",
    "\n",
    "    def turn(self, direction):\n",
    "        \"\"\"Turn the car in some direction\n",
    "        \n",
    "        :param direction: The direction to turn to\n",
    "        :type direction: str\n",
    "        \"\"\"\n",
    "\n",
    "        print(f'turn {direction}')\n",
    "```"
   ]
  },
  {
   "cell_type": "markdown",
   "id": "1e8bdc53",
   "metadata": {},
   "source": [
    "* `make html`을 두 번 이상 실행 후 결과:\n",
    "\n",
    "![API 변경](https://raw.githubusercontent.com/SeoulTechPSE/CompThinking/main/python_serious/figs/sphinx_30.png?raw=true)"
   ]
  },
  {
   "cell_type": "markdown",
   "id": "a677ceaf",
   "metadata": {},
   "source": [
    "* `warnings` 모듈을 사용해서 권장하지 않는 함수 표시하기"
   ]
  },
  {
   "cell_type": "code",
   "execution_count": 1,
   "id": "4df85630",
   "metadata": {},
   "outputs": [],
   "source": [
    "import warnings\n",
    "\n",
    "class Car(object):\n",
    "    \"\"\"API 변경사항 문서화하기 예제\n",
    "    \"\"\"\n",
    "\n",
    "    def turn_left(self):\n",
    "        \"\"\"Turn the car left\n",
    "        \n",
    "        .. deprecated:: 0.0.1\n",
    "        Use :func:`turn` instead with the direction argument set to left\n",
    "        \"\"\"    \n",
    "        \n",
    "        warnings.warn('turn_left is deprecated; use turn instead', DeprecationWarning)\n",
    "\n",
    "        self.turn(direction='left')\n",
    "\n",
    "    def turn(self, direction):\n",
    "        \"\"\"Turn the car in some direction\n",
    "        \n",
    "        :param direction: The direction to turn to\n",
    "        :type direction: str\n",
    "        \"\"\"\n",
    "\n",
    "        print(f'turn {direction}')"
   ]
  },
  {
   "cell_type": "code",
   "execution_count": 2,
   "id": "50479593",
   "metadata": {},
   "outputs": [
    {
     "name": "stdout",
     "output_type": "stream",
     "text": [
      "turn left\n"
     ]
    },
    {
     "name": "stderr",
     "output_type": "stream",
     "text": [
      "/var/folders/4x/8kn2nym12cn7x7qmg_6s4b8h0000gn/T/ipykernel_23820/2906183168.py:14: DeprecationWarning: turn_left is deprecated; use turn instead\n",
      "  warnings.warn('turn_left is deprecated; use turn instead', DeprecationWarning)\n"
     ]
    }
   ],
   "source": [
    "c = Car()\n",
    "c.turn_left()"
   ]
  }
 ],
 "metadata": {
  "kernelspec": {
   "display_name": "Python 3 (ipykernel)",
   "language": "python",
   "name": "python3"
  },
  "language_info": {
   "codemirror_mode": {
    "name": "ipython",
    "version": 3
   },
   "file_extension": ".py",
   "mimetype": "text/x-python",
   "name": "python",
   "nbconvert_exporter": "python",
   "pygments_lexer": "ipython3",
   "version": "3.8.12"
  }
 },
 "nbformat": 4,
 "nbformat_minor": 5
}
