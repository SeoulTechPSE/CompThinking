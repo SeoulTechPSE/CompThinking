{
 "cells": [
  {
   "cell_type": "markdown",
   "id": "0cd2bd9f",
   "metadata": {},
   "source": [
    "# 05 장.  소프트웨어 배포하기"
   ]
  },
  {
   "cell_type": "markdown",
   "id": "b0e2e4c2",
   "metadata": {},
   "source": [
    "## 5.1. 패키지  라이브러리의 역사"
   ]
  },
  {
   "cell_type": "markdown",
   "id": "f2983d16",
   "metadata": {},
   "source": [
    "* `distutils` - Greg Ward가 만들었고, 1998년 이후로 표준 파이썬 라이브러리이나 2000년도에 개발이 중단됨(파이썬 3.7에서는 더는 `distutils`를 권장하지 않음). `distutils`를 대체하고자 `distutils2`라는 프로젝트가 시작되었으나, 이런 저런 이유로 `packaging`으로 이름을 바꾸고 파이썬 3.3 표준 라이브러리에 포함시키려는 노력이 실패한 후 2012년에 프로젝트가 종료됨\n",
    "\n",
    "\n",
    "* `setuptools` - 자동으로 의존성을 처리하는 고급 기능을 제공함. 2013년도에 `distribute`와 통합한 후 현재까지 파이썬 패키징의 표준 방식으로 자리하고 있음\n",
    "\n",
    "\n",
    "* `distlib` - `packaging`의 좋은 기능들을 차용하여 개발되었으며, 패키징과 관련한 PEP의 기본 토대가 되었음. 이후 `distutils`를 대신할 가능이 있음"
   ]
  },
  {
   "cell_type": "code",
   "execution_count": null,
   "id": "450d2878",
   "metadata": {},
   "outputs": [],
   "source": []
  }
 ],
 "metadata": {
  "kernelspec": {
   "display_name": "Python 3 (ipykernel)",
   "language": "python",
   "name": "python3"
  },
  "language_info": {
   "codemirror_mode": {
    "name": "ipython",
    "version": 3
   },
   "file_extension": ".py",
   "mimetype": "text/x-python",
   "name": "python",
   "nbconvert_exporter": "python",
   "pygments_lexer": "ipython3",
   "version": "3.8.12"
  }
 },
 "nbformat": 4,
 "nbformat_minor": 5
}
