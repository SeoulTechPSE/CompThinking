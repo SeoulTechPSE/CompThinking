{
 "cells": [
  {
   "cell_type": "markdown",
   "id": "0d9265e0",
   "metadata": {},
   "source": [
    "# 04 장. 시간 정보와 시간대 다루기"
   ]
  },
  {
   "cell_type": "markdown",
   "id": "3cefd9f2",
   "metadata": {},
   "source": [
    "## 4.1. `dateutil`로 시간대 정보 생성하기"
   ]
  },
  {
   "cell_type": "code",
   "execution_count": 1,
   "id": "5de284ec",
   "metadata": {},
   "outputs": [],
   "source": [
    "import datetime"
   ]
  },
  {
   "cell_type": "code",
   "execution_count": 2,
   "id": "66ae670f",
   "metadata": {},
   "outputs": [],
   "source": [
    "utc = datetime.datetime.utcnow()"
   ]
  },
  {
   "cell_type": "code",
   "execution_count": 3,
   "id": "1101c866",
   "metadata": {},
   "outputs": [
    {
     "data": {
      "text/plain": [
       "datetime.datetime(2022, 4, 11, 22, 46, 0, 241766)"
      ]
     },
     "execution_count": 3,
     "metadata": {},
     "output_type": "execute_result"
    }
   ],
   "source": [
    "utc"
   ]
  },
  {
   "cell_type": "code",
   "execution_count": 4,
   "id": "bd102496",
   "metadata": {},
   "outputs": [
    {
     "name": "stdout",
     "output_type": "stream",
     "text": [
      "None\n"
     ]
    }
   ],
   "source": [
    "print(utc.tzinfo)"
   ]
  },
  {
   "cell_type": "code",
   "execution_count": 5,
   "id": "d4fd9dbe",
   "metadata": {},
   "outputs": [],
   "source": [
    "now = datetime.datetime.now()"
   ]
  },
  {
   "cell_type": "code",
   "execution_count": 6,
   "id": "f7fc481d",
   "metadata": {},
   "outputs": [
    {
     "data": {
      "text/plain": [
       "datetime.datetime(2022, 4, 12, 7, 46, 0, 269223)"
      ]
     },
     "execution_count": 6,
     "metadata": {},
     "output_type": "execute_result"
    }
   ],
   "source": [
    "now"
   ]
  },
  {
   "cell_type": "code",
   "execution_count": 7,
   "id": "990934c0",
   "metadata": {},
   "outputs": [
    {
     "name": "stdout",
     "output_type": "stream",
     "text": [
      "None\n"
     ]
    }
   ],
   "source": [
    "print(now.tzinfo)"
   ]
  },
  {
   "cell_type": "markdown",
   "id": "6ff960c0",
   "metadata": {},
   "source": [
    "---"
   ]
  },
  {
   "cell_type": "code",
   "execution_count": 8,
   "id": "b4b428db",
   "metadata": {},
   "outputs": [],
   "source": [
    "from dateutil import tz"
   ]
  },
  {
   "cell_type": "code",
   "execution_count": 9,
   "id": "618125be",
   "metadata": {},
   "outputs": [],
   "source": [
    "tz_seoul = tz.gettz('Asia/Seoul')"
   ]
  },
  {
   "cell_type": "code",
   "execution_count": 10,
   "id": "d44997b2",
   "metadata": {},
   "outputs": [
    {
     "data": {
      "text/plain": [
       "datetime.datetime(2022, 4, 12, 7, 46, 0, 269223, tzinfo=tzfile('/usr/share/zoneinfo/Asia/Seoul'))"
      ]
     },
     "execution_count": 10,
     "metadata": {},
     "output_type": "execute_result"
    }
   ],
   "source": [
    "now.replace(tzinfo=tz_seoul)"
   ]
  },
  {
   "cell_type": "markdown",
   "id": "abad744f",
   "metadata": {},
   "source": [
    "---"
   ]
  },
  {
   "cell_type": "code",
   "execution_count": 11,
   "id": "b11e26ae",
   "metadata": {},
   "outputs": [],
   "source": [
    "from dateutil.zoneinfo import get_zonefile_instance"
   ]
  },
  {
   "cell_type": "code",
   "execution_count": 12,
   "id": "98bae055",
   "metadata": {},
   "outputs": [],
   "source": [
    "zones = list(get_zonefile_instance().zones)"
   ]
  },
  {
   "cell_type": "code",
   "execution_count": 13,
   "id": "7b6bb786",
   "metadata": {},
   "outputs": [
    {
     "data": {
      "text/plain": [
       "['Africa/Abidjan',\n",
       " 'Africa/Accra',\n",
       " 'Africa/Addis_Ababa',\n",
       " 'Africa/Algiers',\n",
       " 'Africa/Asmara',\n",
       " 'Africa/Asmera',\n",
       " 'Africa/Bamako',\n",
       " 'Africa/Bangui',\n",
       " 'Africa/Banjul',\n",
       " 'Africa/Bissau']"
      ]
     },
     "execution_count": 13,
     "metadata": {},
     "output_type": "execute_result"
    }
   ],
   "source": [
    "sorted(zones)[:10]"
   ]
  },
  {
   "cell_type": "code",
   "execution_count": 14,
   "id": "e27778d8",
   "metadata": {},
   "outputs": [
    {
     "data": {
      "text/plain": [
       "595"
      ]
     },
     "execution_count": 14,
     "metadata": {},
     "output_type": "execute_result"
    }
   ],
   "source": [
    "len(zones)"
   ]
  },
  {
   "cell_type": "markdown",
   "id": "1fc83da0",
   "metadata": {},
   "source": [
    "---"
   ]
  },
  {
   "cell_type": "code",
   "execution_count": 15,
   "id": "a8760aa5",
   "metadata": {},
   "outputs": [
    {
     "data": {
      "text/plain": [
       "tzfile('/etc/localtime')"
      ]
     },
     "execution_count": 15,
     "metadata": {},
     "output_type": "execute_result"
    }
   ],
   "source": [
    "localzone = tz.gettz()\n",
    "localzone"
   ]
  },
  {
   "cell_type": "code",
   "execution_count": 16,
   "id": "3c107bf6",
   "metadata": {},
   "outputs": [
    {
     "data": {
      "text/plain": [
       "'KST'"
      ]
     },
     "execution_count": 16,
     "metadata": {},
     "output_type": "execute_result"
    }
   ],
   "source": [
    "localzone.tzname(datetime.datetime(2022, 4, 10))"
   ]
  },
  {
   "cell_type": "markdown",
   "id": "6d82c50a",
   "metadata": {},
   "source": [
    "## 4.2. 시간대 정보가 있는 `datetime` 객체 직렬화 하기"
   ]
  },
  {
   "cell_type": "code",
   "execution_count": 17,
   "id": "1c4c6664",
   "metadata": {},
   "outputs": [],
   "source": [
    "def utcnow():\n",
    "    return datetime.datetime.now(tz=tz.tzutc())"
   ]
  },
  {
   "cell_type": "code",
   "execution_count": 18,
   "id": "1c7d8cbb",
   "metadata": {},
   "outputs": [],
   "source": [
    "utc_ = utcnow()"
   ]
  },
  {
   "cell_type": "code",
   "execution_count": 19,
   "id": "5901128d",
   "metadata": {},
   "outputs": [
    {
     "data": {
      "text/plain": [
       "'2022-04-11T22:46:00.422348+00:00'"
      ]
     },
     "execution_count": 19,
     "metadata": {},
     "output_type": "execute_result"
    }
   ],
   "source": [
    "utc_.isoformat()"
   ]
  },
  {
   "cell_type": "markdown",
   "id": "14530e2e",
   "metadata": {},
   "source": [
    "---"
   ]
  },
  {
   "cell_type": "code",
   "execution_count": 20,
   "id": "97d24db4",
   "metadata": {},
   "outputs": [],
   "source": [
    "def tznow():\n",
    "    return datetime.datetime.now(tz=tz.gettz())"
   ]
  },
  {
   "cell_type": "code",
   "execution_count": 21,
   "id": "558dabec",
   "metadata": {},
   "outputs": [],
   "source": [
    "tz_ = tznow()"
   ]
  },
  {
   "cell_type": "code",
   "execution_count": 22,
   "id": "3c2c9a44",
   "metadata": {},
   "outputs": [
    {
     "data": {
      "text/plain": [
       "'2022-04-12T07:46:00.432393+09:00'"
      ]
     },
     "execution_count": 22,
     "metadata": {},
     "output_type": "execute_result"
    }
   ],
   "source": [
    "tz_.isoformat()"
   ]
  },
  {
   "cell_type": "markdown",
   "id": "c7d306b8",
   "metadata": {},
   "source": [
    "---"
   ]
  },
  {
   "cell_type": "code",
   "execution_count": 23,
   "id": "82119263",
   "metadata": {},
   "outputs": [],
   "source": [
    "from dateutil.parser import isoparse"
   ]
  },
  {
   "cell_type": "code",
   "execution_count": 24,
   "id": "7e846a14",
   "metadata": {},
   "outputs": [
    {
     "data": {
      "text/plain": [
       "datetime.datetime(2022, 4, 11, 22, 46, 0, 422348, tzinfo=tzutc())"
      ]
     },
     "execution_count": 24,
     "metadata": {},
     "output_type": "execute_result"
    }
   ],
   "source": [
    "parsed = isoparse(utc_.isoformat())\n",
    "parsed"
   ]
  },
  {
   "cell_type": "code",
   "execution_count": 25,
   "id": "7e6059e2",
   "metadata": {},
   "outputs": [
    {
     "data": {
      "text/plain": [
       "datetime.datetime(2022, 4, 12, 7, 46, 0, 432393, tzinfo=tzoffset(None, 32400))"
      ]
     },
     "execution_count": 25,
     "metadata": {},
     "output_type": "execute_result"
    }
   ],
   "source": [
    "parsed = isoparse(tz_.isoformat())\n",
    "parsed"
   ]
  },
  {
   "cell_type": "markdown",
   "id": "713ba740",
   "metadata": {},
   "source": [
    "## 4.3. 애매한 시간대 처리하기"
   ]
  },
  {
   "cell_type": "markdown",
   "id": "fdbea2f7",
   "metadata": {},
   "source": [
    "* 2017년 10월 29일 밤, 파리의 서머타임이 해제되었습니다. 이 때 오전 2시에 오전 3시로 변경되었습니다."
   ]
  },
  {
   "cell_type": "code",
   "execution_count": 26,
   "id": "1baf89f7",
   "metadata": {},
   "outputs": [],
   "source": [
    "localtz = tz.gettz('Europe/Paris')"
   ]
  },
  {
   "cell_type": "code",
   "execution_count": 27,
   "id": "b376b3a3",
   "metadata": {},
   "outputs": [
    {
     "data": {
      "text/plain": [
       "False"
      ]
     },
     "execution_count": 27,
     "metadata": {},
     "output_type": "execute_result"
    }
   ],
   "source": [
    "localtz.is_ambiguous(datetime.datetime(2017, 10, 29, 1, 30))"
   ]
  },
  {
   "cell_type": "code",
   "execution_count": 28,
   "id": "e5c67542",
   "metadata": {
    "scrolled": true
   },
   "outputs": [
    {
     "data": {
      "text/plain": [
       "True"
      ]
     },
     "execution_count": 28,
     "metadata": {},
     "output_type": "execute_result"
    }
   ],
   "source": [
    "localtz.is_ambiguous(datetime.datetime(2017, 10, 29, 2, 30))"
   ]
  },
  {
   "cell_type": "code",
   "execution_count": 29,
   "id": "7aeac2d1",
   "metadata": {},
   "outputs": [
    {
     "data": {
      "text/plain": [
       "False"
      ]
     },
     "execution_count": 29,
     "metadata": {},
     "output_type": "execute_result"
    }
   ],
   "source": [
    "localtz.is_ambiguous(datetime.datetime(2017, 10, 29, 3, 30))"
   ]
  },
  {
   "cell_type": "markdown",
   "id": "25feb42b",
   "metadata": {},
   "source": [
    "* 10월 29일 2시 30분이라는 시간 정보를 사용할 때, 서머타임 해제 전의 시간인지 그 후의 시간인지 확인할 수 있도록 `replace` 메소드의 `fold` 키워드 인자에 해당 정보를 공급해야 함"
   ]
  },
  {
   "cell_type": "code",
   "execution_count": 30,
   "id": "45e7e6b1",
   "metadata": {},
   "outputs": [],
   "source": [
    "confusing = datetime.datetime(2017, 10, 29, 2, 30, tzinfo=localtz)"
   ]
  },
  {
   "cell_type": "code",
   "execution_count": 31,
   "id": "6fe692fb",
   "metadata": {},
   "outputs": [
    {
     "data": {
      "text/plain": [
       "datetime.datetime(2017, 10, 29, 0, 30, tzinfo=tzutc())"
      ]
     },
     "execution_count": 31,
     "metadata": {},
     "output_type": "execute_result"
    }
   ],
   "source": [
    "confusing.replace(fold=0).astimezone(tz.tzutc())"
   ]
  },
  {
   "cell_type": "code",
   "execution_count": 32,
   "id": "be0c1796",
   "metadata": {},
   "outputs": [
    {
     "data": {
      "text/plain": [
       "datetime.datetime(2017, 10, 29, 1, 30, tzinfo=tzutc())"
      ]
     },
     "execution_count": 32,
     "metadata": {},
     "output_type": "execute_result"
    }
   ],
   "source": [
    "confusing.replace(fold=1).astimezone(tz.tzutc())"
   ]
  }
 ],
 "metadata": {
  "kernelspec": {
   "display_name": "Python 3 (ipykernel)",
   "language": "python",
   "name": "python3"
  },
  "language_info": {
   "codemirror_mode": {
    "name": "ipython",
    "version": 3
   },
   "file_extension": ".py",
   "mimetype": "text/x-python",
   "name": "python",
   "nbconvert_exporter": "python",
   "pygments_lexer": "ipython3",
   "version": "3.8.12"
  }
 },
 "nbformat": 4,
 "nbformat_minor": 5
}
