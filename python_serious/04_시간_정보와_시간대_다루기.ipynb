{
 "cells": [
  {
   "cell_type": "markdown",
   "id": "0d9265e0",
   "metadata": {},
   "source": [
    "# 04 장. 시간 정보와 시간대 다루기"
   ]
  },
  {
   "cell_type": "markdown",
   "id": "3cefd9f2",
   "metadata": {},
   "source": [
    "## 4.1. `datetime` 객체 생성하기"
   ]
  },
  {
   "cell_type": "code",
   "execution_count": 4,
   "id": "5de284ec",
   "metadata": {},
   "outputs": [],
   "source": [
    "import datetime\n",
    "from dateutil import tz"
   ]
  },
  {
   "cell_type": "code",
   "execution_count": 5,
   "id": "66ae670f",
   "metadata": {},
   "outputs": [
    {
     "data": {
      "text/plain": [
       "datetime.datetime(2022, 4, 10, 15, 8, 12, 742734)"
      ]
     },
     "execution_count": 5,
     "metadata": {},
     "output_type": "execute_result"
    }
   ],
   "source": [
    "datetime.datetime.utcnow()"
   ]
  },
  {
   "cell_type": "code",
   "execution_count": 7,
   "id": "d4fd9dbe",
   "metadata": {},
   "outputs": [],
   "source": [
    "now = datetime.datetime.now()"
   ]
  },
  {
   "cell_type": "code",
   "execution_count": 8,
   "id": "f7fc481d",
   "metadata": {},
   "outputs": [
    {
     "data": {
      "text/plain": [
       "datetime.datetime(2022, 4, 11, 0, 8, 22, 580129)"
      ]
     },
     "execution_count": 8,
     "metadata": {},
     "output_type": "execute_result"
    }
   ],
   "source": [
    "now"
   ]
  },
  {
   "cell_type": "code",
   "execution_count": 9,
   "id": "618125be",
   "metadata": {},
   "outputs": [],
   "source": [
    "tz = tz.gettz('Asia/Seoul')"
   ]
  },
  {
   "cell_type": "code",
   "execution_count": 10,
   "id": "d44997b2",
   "metadata": {},
   "outputs": [
    {
     "data": {
      "text/plain": [
       "datetime.datetime(2022, 4, 11, 0, 8, 22, 580129, tzinfo=tzfile('/usr/share/zoneinfo/Asia/Seoul'))"
      ]
     },
     "execution_count": 10,
     "metadata": {},
     "output_type": "execute_result"
    }
   ],
   "source": [
    "now.replace(tzinfo=tz)"
   ]
  },
  {
   "cell_type": "code",
   "execution_count": null,
   "id": "02540be1",
   "metadata": {},
   "outputs": [],
   "source": []
  }
 ],
 "metadata": {
  "kernelspec": {
   "display_name": "Python 3 (ipykernel)",
   "language": "python",
   "name": "python3"
  },
  "language_info": {
   "codemirror_mode": {
    "name": "ipython",
    "version": 3
   },
   "file_extension": ".py",
   "mimetype": "text/x-python",
   "name": "python",
   "nbconvert_exporter": "python",
   "pygments_lexer": "ipython3",
   "version": "3.8.12"
  }
 },
 "nbformat": 4,
 "nbformat_minor": 5
}
