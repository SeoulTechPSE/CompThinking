{
 "cells": [
  {
   "cell_type": "markdown",
   "id": "d3a8c43d",
   "metadata": {},
   "source": [
    "# 02 장. 모듈, 라이브러리, 프레임워크"
   ]
  },
  {
   "cell_type": "markdown",
   "id": "2d42f273",
   "metadata": {},
   "source": [
    "## 2.1. 임포트"
   ]
  },
  {
   "cell_type": "code",
   "execution_count": 1,
   "id": "8f9aeb78",
   "metadata": {},
   "outputs": [
    {
     "name": "stdout",
     "output_type": "stream",
     "text": [
      "The Zen of Python, by Tim Peters\n",
      "\n",
      "Beautiful is better than ugly.\n",
      "Explicit is better than implicit.\n",
      "Simple is better than complex.\n",
      "Complex is better than complicated.\n",
      "Flat is better than nested.\n",
      "Sparse is better than dense.\n",
      "Readability counts.\n",
      "Special cases aren't special enough to break the rules.\n",
      "Although practicality beats purity.\n",
      "Errors should never pass silently.\n",
      "Unless explicitly silenced.\n",
      "In the face of ambiguity, refuse the temptation to guess.\n",
      "There should be one-- and preferably only one --obvious way to do it.\n",
      "Although that way may not be obvious at first unless you're Dutch.\n",
      "Now is better than never.\n",
      "Although never is often better than *right* now.\n",
      "If the implementation is hard to explain, it's a bad idea.\n",
      "If the implementation is easy to explain, it may be a good idea.\n",
      "Namespaces are one honking great idea -- let's do more of those!\n"
     ]
    }
   ],
   "source": [
    "import this"
   ]
  },
  {
   "cell_type": "code",
   "execution_count": 2,
   "id": "ae0af5cb",
   "metadata": {},
   "outputs": [
    {
     "data": {
      "text/plain": [
       "<module 'this' from '/Users/kyyoo/opt/anaconda3/lib/python3.8/this.py'>"
      ]
     },
     "execution_count": 2,
     "metadata": {},
     "output_type": "execute_result"
    }
   ],
   "source": [
    "this"
   ]
  },
  {
   "cell_type": "markdown",
   "id": "70d9646a",
   "metadata": {},
   "source": [
    "---"
   ]
  },
  {
   "cell_type": "code",
   "execution_count": 3,
   "id": "01d325b2",
   "metadata": {},
   "outputs": [
    {
     "data": {
      "text/plain": [
       "<module 'itertools' (built-in)>"
      ]
     },
     "execution_count": 3,
     "metadata": {},
     "output_type": "execute_result"
    }
   ],
   "source": [
    "import itertools\n",
    "\n",
    "itertools"
   ]
  },
  {
   "cell_type": "code",
   "execution_count": 4,
   "id": "a68fa08b",
   "metadata": {},
   "outputs": [
    {
     "data": {
      "text/plain": [
       "<module 'itertools' (built-in)>"
      ]
     },
     "execution_count": 4,
     "metadata": {},
     "output_type": "execute_result"
    }
   ],
   "source": [
    "itertools = __import__('itertools')\n",
    "\n",
    "itertools"
   ]
  },
  {
   "cell_type": "markdown",
   "id": "a998cfa3",
   "metadata": {},
   "source": [
    "---"
   ]
  },
  {
   "cell_type": "code",
   "execution_count": 5,
   "id": "98b3e52e",
   "metadata": {},
   "outputs": [
    {
     "data": {
      "text/plain": [
       "<module 'itertools' (built-in)>"
      ]
     },
     "execution_count": 5,
     "metadata": {},
     "output_type": "execute_result"
    }
   ],
   "source": [
    "import itertools as it\n",
    "\n",
    "it"
   ]
  },
  {
   "cell_type": "code",
   "execution_count": 6,
   "id": "d82107f7",
   "metadata": {},
   "outputs": [
    {
     "data": {
      "text/plain": [
       "<module 'itertools' (built-in)>"
      ]
     },
     "execution_count": 6,
     "metadata": {},
     "output_type": "execute_result"
    }
   ],
   "source": [
    "it = __import__('itertools')\n",
    "\n",
    "it"
   ]
  },
  {
   "cell_type": "markdown",
   "id": "6c21087b",
   "metadata": {},
   "source": [
    "---"
   ]
  },
  {
   "cell_type": "code",
   "execution_count": 7,
   "id": "7b219b7a",
   "metadata": {},
   "outputs": [
    {
     "data": {
      "text/plain": [
       "<module 'random' from '/Users/kyyoo/opt/anaconda3/lib/python3.8/random.py'>"
      ]
     },
     "execution_count": 7,
     "metadata": {},
     "output_type": "execute_result"
    }
   ],
   "source": [
    "random = __import__('RANDOM'.lower())\n",
    "\n",
    "random"
   ]
  },
  {
   "cell_type": "markdown",
   "id": "43d5a8b8",
   "metadata": {},
   "source": [
    "### sys 모듈"
   ]
  },
  {
   "cell_type": "code",
   "execution_count": 8,
   "id": "ec6a0c85",
   "metadata": {},
   "outputs": [],
   "source": [
    "import sys\n",
    "import os"
   ]
  },
  {
   "cell_type": "code",
   "execution_count": 9,
   "id": "24faa3cd",
   "metadata": {},
   "outputs": [
    {
     "data": {
      "text/plain": [
       "<module 'os' from '/Users/kyyoo/opt/anaconda3/lib/python3.8/os.py'>"
      ]
     },
     "execution_count": 9,
     "metadata": {},
     "output_type": "execute_result"
    }
   ],
   "source": [
    "sys.modules['os']  # sys.modules은 로드된 모든 모듈의 목록을 보여주는 표준 딕셔너리"
   ]
  },
  {
   "cell_type": "code",
   "execution_count": 10,
   "id": "b15cabd1",
   "metadata": {},
   "outputs": [
    {
     "data": {
      "text/plain": [
       "('_abc',\n",
       " '_ast',\n",
       " '_codecs',\n",
       " '_collections',\n",
       " '_functools',\n",
       " '_imp',\n",
       " '_io',\n",
       " '_locale',\n",
       " '_operator',\n",
       " '_signal',\n",
       " '_sre',\n",
       " '_stat',\n",
       " '_string',\n",
       " '_symtable',\n",
       " '_thread',\n",
       " '_tracemalloc',\n",
       " '_warnings',\n",
       " '_weakref',\n",
       " 'atexit',\n",
       " 'builtins',\n",
       " 'errno',\n",
       " 'faulthandler',\n",
       " 'gc',\n",
       " 'itertools',\n",
       " 'marshal',\n",
       " 'posix',\n",
       " 'pwd',\n",
       " 'sys',\n",
       " 'time',\n",
       " 'xxsubtype')"
      ]
     },
     "execution_count": 10,
     "metadata": {},
     "output_type": "execute_result"
    }
   ],
   "source": [
    "sys.builtin_module_names"
   ]
  },
  {
   "cell_type": "markdown",
   "id": "59c7346f",
   "metadata": {},
   "source": [
    "### `import` 경로"
   ]
  },
  {
   "cell_type": "markdown",
   "id": "a25e6244",
   "metadata": {},
   "source": [
    "* 파이썬은 모듈을 불러올 때 경로 리스트로 모듈 위치를 찾는데, 이 경로 리스트는 `sys.path`에 저장되어 있음\n",
    "* 경로 리스트는 필요에 따라 추가하거나 제거해서 변경할 수 있음\n",
    "\n",
    "```python\n",
    "import sys\n",
    "sys.path.append('/foo/bar')\n",
    "```\n",
    "\n",
    "* 요청한 모듈을 `sys.path`에 저장된 순서대로 찾음\n",
    "* 동일한 이름의 모듈이 두 개 있으면 파이썬 표준 라이브러리 폴더보다 사용자가 만든 폴더가 먼저 검색됨"
   ]
  },
  {
   "cell_type": "code",
   "execution_count": 11,
   "id": "723816fa",
   "metadata": {},
   "outputs": [
    {
     "data": {
      "text/plain": [
       "['/Users/kyyoo/Documents/notebooks/CompThinking/python_serious',\n",
       " '/Users/kyyoo/opt/anaconda3/lib/python38.zip',\n",
       " '/Users/kyyoo/opt/anaconda3/lib/python3.8',\n",
       " '/Users/kyyoo/opt/anaconda3/lib/python3.8/lib-dynload',\n",
       " '',\n",
       " '/Users/kyyoo/opt/anaconda3/lib/python3.8/site-packages',\n",
       " '/Users/kyyoo/opt/anaconda3/lib/python3.8/site-packages/aeosa']"
      ]
     },
     "execution_count": 11,
     "metadata": {},
     "output_type": "execute_result"
    }
   ],
   "source": [
    "sys.path"
   ]
  },
  {
   "cell_type": "markdown",
   "id": "cd67b521",
   "metadata": {},
   "source": [
    "## 2.2. 유용한 표준 라이브러리"
   ]
  },
  {
   "cell_type": "markdown",
   "id": "26ed20fd",
   "metadata": {},
   "source": [
    "* [WikiDocs - 파이썬 라이브러리](https://wikidocs.net/book/5445)"
   ]
  },
  {
   "cell_type": "markdown",
   "id": "50355064",
   "metadata": {},
   "source": [
    "## 2.3. 외부 라이브러리"
   ]
  },
  {
   "cell_type": "markdown",
   "id": "e25e5916",
   "metadata": {},
   "source": [
    "* 파이썬 사용자 커뮤니티에서 만들어서 배포하는 라이브러리\n",
    "\n",
    "* 외부 라이브러리를 사용하기 전 정검 사항\n",
    "  \n",
    "  * 파이썬 3 호환성\n",
    "  * 라이브러리 완성도 및 유지 관리 여부\n",
    "  * 주요 OS 배포판 제공 여부\n",
    "  * API 호환성\n",
    "  * 라이선스"
   ]
  },
  {
   "cell_type": "markdown",
   "id": "6df1a1a5",
   "metadata": {},
   "source": [
    "## 2.4. 패키지 설치: [`pip`](https://github.com/pypa/pip)"
   ]
  },
  {
   "cell_type": "markdown",
   "id": "bd2e0d11",
   "metadata": {},
   "source": [
    "* 2021년 1월 출시된 `pip` 21.0 버전부터는 파이썬 2 지원이 제거됨\n",
    "\n",
    "* 파이썬 3.4 이후 버전은 `pip`을 기본으로 설치함. 다음은 `pip`을 업데이트 하는 방법\n",
    "\n",
    "```shell\n",
    "$ pip install --upgrade pip\n",
    "```\n",
    "\n",
    "* `pip`으로 파이썬 패키징 인덱스([PyPI](https://pypi.org/)), `tarball`, `Wheel` 저장소에서 패키지를 설치, 업데이트 하거나 제거할 수 있음\n",
    "\n",
    "```shell\n",
    "$ pip install package_name  or  $ pip install --upgrade package_name\n",
    "```\n",
    "\n",
    "```shell\n",
    "$ pip uninstall package_name\n",
    "```\n",
    "\n",
    "* 유저 폴더에 패키지를 설치하는 방법\n",
    "\n",
    "```shell\n",
    "$ pip install --user package_name\n",
    "```"
   ]
  },
  {
   "cell_type": "markdown",
   "id": "d97ecd92",
   "metadata": {},
   "source": [
    "---\n",
    "\n",
    "* 설치된 패키지 목록을 확인하는 방법\n",
    "\n",
    "```shell\n",
    "$ pip list\n",
    "```\n",
    "\n",
    "* 설치된 특정 패키지 정보를 확인하는 방법\n",
    "\n",
    "```shell\n",
    "$ pip show package_name\n",
    "```"
   ]
  },
  {
   "cell_type": "markdown",
   "id": "c0079a05",
   "metadata": {},
   "source": [
    "---\n",
    "\n",
    "* `pip`을 이용해 일련의 패키지 그룹을 묶어서 설치할 수도 있음\n",
    "\n",
    "```shell\n",
    "$ pip install -r requirements.txt\n",
    "```\n",
    "\n",
    "* `pip freeze` 명령을 사용하여 `requirements.txt` 파일을 만들 수 있음. 이러한 기능은 개발서버의 가상환경을 production 가상환경으로 deployment 하는데 유용하게 쓰일 수 있음\n",
    "\n",
    "```shell\n",
    "$ pip freeze > requirements.txt\n",
    "```"
   ]
  },
  {
   "cell_type": "code",
   "execution_count": 12,
   "id": "a79f1e0c",
   "metadata": {
    "scrolled": true
   },
   "outputs": [
    {
     "name": "stdout",
     "output_type": "stream",
     "text": [
      "Package                            Version\n",
      "---------------------------------- --------------------\n",
      "alabaster                          0.7.12\n",
      "anaconda-client                    1.9.0\n",
      "anaconda-navigator                 2.1.1\n",
      "anaconda-project                   0.10.2\n",
      "anyio                              3.5.0\n",
      "appdirs                            1.4.4\n",
      "applaunchservices                  0.2.1\n",
      "appnope                            0.1.2\n",
      "appscript                          1.1.2\n",
      "argh                               0.26.2\n",
      "argon2-cffi                        21.3.0\n",
      "argon2-cffi-bindings               21.2.0\n",
      "arrow                              1.2.2\n",
      "asn1crypto                         1.4.0\n",
      "astroid                            2.6.6\n",
      "astropy                            5.0.3\n",
      "asttokens                          2.0.5\n",
      "async-generator                    1.10\n",
      "atomicwrites                       1.4.0\n",
      "attrs                              21.4.0\n",
      "autopep8                           1.6.0\n",
      "Babel                              2.9.1\n",
      "backcall                           0.2.0\n",
      "backports.functools-lru-cache      1.6.4\n",
      "backports.shutil-get-terminal-size 1.0.0\n",
      "backports.tempfile                 1.0\n",
      "backports.weakref                  1.0.post1\n",
      "beautifulsoup4                     4.10.0\n",
      "binaryornot                        0.4.4\n",
      "bitarray                           2.4.1\n",
      "bkcharts                           0.2\n",
      "black                              19.10b0\n",
      "bleach                             4.1.0\n",
      "bokeh                              2.4.2\n",
      "boto                               2.49.0\n",
      "Bottleneck                         1.3.2\n",
      "brotlipy                           0.7.0\n",
      "cached-property                    1.5.2\n",
      "certifi                            2021.10.8\n",
      "cffi                               1.15.0\n",
      "cftime                             1.5.1.1\n",
      "chardet                            4.0.0\n",
      "charset-normalizer                 2.0.4\n",
      "click                              8.0.4\n",
      "cloudpickle                        2.0.0\n",
      "clyent                             1.2.2\n",
      "colorama                           0.4.4\n",
      "colorcet                           3.0.0\n",
      "conda                              4.12.0\n",
      "conda-build                        3.21.7\n",
      "conda-content-trust                0+unknown\n",
      "conda-pack                         0.6.0\n",
      "conda-package-handling             1.8.1\n",
      "conda-repo-cli                     1.0.4\n",
      "conda-token                        0.3.0\n",
      "conda-verify                       3.4.2\n",
      "contextlib2                        0.6.0.post1\n",
      "cookiecutter                       1.7.3\n",
      "cryptography                       3.4.8\n",
      "cycler                             0.11.0\n",
      "Cython                             0.29.28\n",
      "cytoolz                            0.11.0\n",
      "daal4py                            2021.5.0\n",
      "dask                               2021.10.0\n",
      "datashader                         0.13.0\n",
      "datashape                          0.5.4\n",
      "debugpy                            1.5.1\n",
      "decorator                          5.1.1\n",
      "defusedxml                         0.7.1\n",
      "diff-match-patch                   20200713\n",
      "distributed                        2021.10.0\n",
      "docutils                           0.17.1\n",
      "entrypoints                        0.3\n",
      "et-xmlfile                         1.1.0\n",
      "executing                          0.8.3\n",
      "fastcache                          1.1.0\n",
      "fastparquet                        0.5.0\n",
      "filelock                           3.6.0\n",
      "flake8                             3.9.2\n",
      "Flask                              1.1.2\n",
      "fonttools                          4.25.0\n",
      "fsspec                             2022.2.0\n",
      "future                             0.18.2\n",
      "gevent                             21.8.0\n",
      "glob2                              0.7\n",
      "gmpy2                              2.1.2\n",
      "greenlet                           1.1.1\n",
      "h5py                               3.6.0\n",
      "HeapDict                           1.0.1\n",
      "holoviews                          1.14.7\n",
      "html5lib                           1.1\n",
      "hvplot                             0.7.3\n",
      "idna                               3.3\n",
      "imagecodecs                        2021.11.20\n",
      "imageio                            2.9.0\n",
      "imagesize                          1.3.0\n",
      "importlib-metadata                 4.11.3\n",
      "inflection                         0.5.1\n",
      "iniconfig                          1.1.1\n",
      "intervaltree                       3.1.0\n",
      "ipykernel                          6.9.1\n",
      "ipympl                             0.8.7\n",
      "ipython                            8.2.0\n",
      "ipython-genutils                   0.2.0\n",
      "ipywidgets                         7.6.5\n",
      "isort                              5.9.3\n",
      "itsdangerous                       2.0.1\n",
      "jdcal                              1.4.1\n",
      "jedi                               0.18.1\n",
      "Jinja2                             2.11.3\n",
      "jinja2-time                        0.2.0\n",
      "joblib                             1.1.0\n",
      "json5                              0.9.6\n",
      "jsonschema                         3.2.0\n",
      "jupyter                            1.0.0\n",
      "Jupyter-Beeper                     1.0.3\n",
      "jupyter-client                     6.1.12\n",
      "jupyter-console                    6.4.0\n",
      "jupyter-contrib-core               0.3.3\n",
      "jupyter-contrib-nbextensions       0.5.1\n",
      "jupyter-core                       4.9.2\n",
      "jupyter-highlight-selected-word    0.2.0\n",
      "jupyter-latex-envs                 1.4.6\n",
      "jupyter-nbextensions-configurator  0.4.1\n",
      "jupyter-server                     1.13.5\n",
      "jupyterlab                         3.3.2\n",
      "jupyterlab-pygments                0.1.2\n",
      "jupyterlab-server                  2.10.3\n",
      "jupyterlab-widgets                 1.0.0\n",
      "keyring                            23.4.0\n",
      "kiwisolver                         1.3.2\n",
      "lazy-object-proxy                  1.6.0\n",
      "libarchive-c                       2.9\n",
      "llvmlite                           0.38.0\n",
      "locket                             0.2.1\n",
      "lxml                               4.7.1\n",
      "Markdown                           3.3.4\n",
      "MarkupSafe                         2.0.1\n",
      "matplotlib                         3.5.1\n",
      "matplotlib-inline                  0.1.2\n",
      "mccabe                             0.6.1\n",
      "mistune                            0.8.4\n",
      "mkl-fft                            1.3.1\n",
      "mkl-random                         1.2.2\n",
      "mkl-service                        2.4.0\n",
      "mock                               4.0.3\n",
      "more-itertools                     8.12.0\n",
      "mpmath                             1.2.1\n",
      "msgpack                            1.0.2\n",
      "multipledispatch                   0.6.0\n",
      "munkres                            1.1.4\n",
      "mypy-extensions                    0.4.3\n",
      "navigator-updater                  0.2.1\n",
      "nbclassic                          0.3.5\n",
      "nbclient                           0.5.11\n",
      "nbconvert                          6.3.0\n",
      "nbformat                           5.1.3\n",
      "nest-asyncio                       1.5.1\n",
      "netCDF4                            1.5.7\n",
      "networkx                           2.7.1\n",
      "nltk                               3.7\n",
      "nose                               1.3.7\n",
      "notebook                           6.4.8\n",
      "numba                              0.55.1\n",
      "numexpr                            2.8.1\n",
      "numpy                              1.20.3\n",
      "numpydoc                           1.2\n",
      "olefile                            0.46\n",
      "openpyxl                           3.0.9\n",
      "overload                           1.1\n",
      "packaging                          21.3\n",
      "pandas                             1.4.1\n",
      "pandocfilters                      1.5.0\n",
      "panel                              0.12.6\n",
      "param                              1.12.0\n",
      "parso                              0.8.3\n",
      "partd                              1.2.0\n",
      "path                               16.2.0\n",
      "pathlib2                           2.3.6\n",
      "pathspec                           0.7.0\n",
      "patsy                              0.5.2\n",
      "pep8                               1.7.1\n",
      "pexpect                            4.8.0\n",
      "pickleshare                        0.7.5\n",
      "Pillow                             9.0.1\n",
      "pip                                22.0.4\n",
      "pkginfo                            1.8.2\n",
      "pluggy                             1.0.0\n",
      "ply                                3.11\n",
      "poyo                               0.5.0\n",
      "prometheus-client                  0.13.1\n",
      "prompt-toolkit                     3.0.20\n",
      "psutil                             5.8.0\n",
      "ptyprocess                         0.7.0\n",
      "pure-eval                          0.2.2\n",
      "py                                 1.11.0\n",
      "pycodestyle                        2.7.0\n",
      "pycosat                            0.6.3\n",
      "pycparser                          2.21\n",
      "pyct                               0.4.8\n",
      "pycurl                             7.44.1\n",
      "pydocstyle                         6.1.1\n",
      "pyerfa                             2.0.0\n",
      "pyflakes                           2.3.1\n",
      "pyglet                             1.5.23\n",
      "Pygments                           2.11.2\n",
      "PyJWT                              2.1.0\n",
      "pylint                             2.9.6\n",
      "pyls-spyder                        0.4.0\n",
      "PyMonad                            2.4.0\n",
      "pyodbc                             4.0.32\n",
      "pyOpenSSL                          21.0.0\n",
      "pyparsing                          3.0.4\n",
      "PyQt5                              5.12.3\n",
      "PyQt5_sip                          4.19.18\n",
      "PyQtChart                          5.12\n",
      "PyQtWebEngine                      5.12.1\n",
      "pyrsistent                         0.18.0\n",
      "PySocks                            1.7.1\n",
      "pytest                             7.1.1\n",
      "python-dateutil                    2.8.2\n",
      "python-lsp-black                   1.0.0\n",
      "python-lsp-jsonrpc                 1.0.0\n",
      "python-lsp-server                  1.2.4\n",
      "python-slugify                     5.0.2\n",
      "pytz                               2021.3\n",
      "pyviz-comms                        2.0.2\n",
      "PyWavelets                         1.3.0\n",
      "PyYAML                             6.0\n",
      "pyzmq                              22.3.0\n",
      "QDarkStyle                         3.0.2\n",
      "qstylizer                          0.1.10\n",
      "QtAwesome                          1.0.3\n",
      "qtconsole                          5.3.0\n",
      "QtPy                               2.0.1\n",
      "regex                              2022.3.15\n",
      "requests                           2.27.1\n",
      "rise                               5.7.1\n",
      "rope                               0.22.0\n",
      "Rtree                              0.9.7\n",
      "ruamel-yaml-conda                  0.15.100\n",
      "scikit-image                       0.19.2\n",
      "scikit-learn                       1.0.2\n",
      "scikit-learn-intelex               2021.20220215.132730\n",
      "scipy                              1.7.3\n",
      "seaborn                            0.11.2\n",
      "Send2Trash                         1.8.0\n",
      "setuptools                         58.0.4\n",
      "simplegeneric                      0.8.1\n",
      "singledispatch                     3.7.0\n",
      "sip                                4.19.25\n",
      "six                                1.16.0\n",
      "sniffio                            1.2.0\n",
      "snowballstemmer                    2.2.0\n",
      "sortedcollections                  2.1.0\n",
      "sortedcontainers                   2.4.0\n",
      "soupsieve                          2.3.1\n",
      "Sphinx                             4.4.0\n",
      "sphinxcontrib-applehelp            1.0.2\n",
      "sphinxcontrib-devhelp              1.0.2\n",
      "sphinxcontrib-htmlhelp             2.0.0\n",
      "sphinxcontrib-jsmath               1.0.1\n",
      "sphinxcontrib-qthelp               1.0.3\n",
      "sphinxcontrib-serializinghtml      1.1.5\n",
      "sphinxcontrib-websupport           1.2.4\n",
      "spyder                             5.1.5\n",
      "spyder-kernels                     2.1.3\n",
      "SQLAlchemy                         1.4.32\n",
      "stack-data                         0.2.0\n",
      "statsmodels                        0.12.2\n",
      "sympy                              1.10.1\n",
      "tables                             3.7.0\n",
      "TBB                                0.2\n",
      "tblib                              1.7.0\n",
      "terminado                          0.13.1\n",
      "testpath                           0.5.0\n",
      "text-unidecode                     1.3\n",
      "textdistance                       4.2.1\n",
      "threadpoolctl                      2.2.0\n",
      "three-merge                        0.1.1\n",
      "thrift                             0.11.0\n",
      "tifffile                           2021.7.2\n",
      "tinycss                            0.4\n",
      "toml                               0.10.2\n",
      "tomli                              1.2.2\n",
      "toolz                              0.11.2\n",
      "tornado                            6.1\n",
      "tqdm                               4.63.0\n",
      "traitlets                          5.1.1\n",
      "typed-ast                          1.4.3\n",
      "typing_extensions                  4.1.1\n",
      "ujson                              5.1.0\n",
      "unicodecsv                         0.14.1\n",
      "Unidecode                          1.2.0\n",
      "urllib3                            1.26.8\n",
      "viola                              0.3.8\n",
      "watchdog                           2.1.6\n",
      "wcwidth                            0.2.5\n",
      "webencodings                       0.5.1\n",
      "websocket-client                   0.58.0\n",
      "Werkzeug                           2.0.3\n",
      "wheel                              0.37.1\n",
      "whichcraft                         0.6.1\n",
      "widgetsnbextension                 3.5.2\n",
      "wrapt                              1.12.1\n",
      "wurlitzer                          3.0.2\n",
      "xarray                             0.20.1\n",
      "xlrd                               2.0.1\n",
      "XlsxWriter                         3.0.3\n",
      "xlwings                            0.24.9\n",
      "xlwt                               1.3.0\n",
      "xmltodict                          0.12.0\n",
      "yapf                               0.31.0\n",
      "zict                               2.0.0\n",
      "zipp                               3.7.0\n",
      "zope.event                         4.5.0\n",
      "zope.interface                     5.4.0\n"
     ]
    }
   ],
   "source": [
    "!pip list"
   ]
  },
  {
   "cell_type": "code",
   "execution_count": 13,
   "id": "a6502db0",
   "metadata": {
    "scrolled": true
   },
   "outputs": [
    {
     "name": "stdout",
     "output_type": "stream",
     "text": [
      "Name: pip\r\n",
      "Version: 22.0.4\r\n",
      "Summary: The PyPA recommended tool for installing Python packages.\r\n",
      "Home-page: https://pip.pypa.io/\r\n",
      "Author: The pip developers\r\n",
      "Author-email: distutils-sig@python.org\r\n",
      "License: MIT\r\n",
      "Location: /Users/kyyoo/opt/anaconda3/lib/python3.8/site-packages\r\n",
      "Requires: \r\n",
      "Required-by: \r\n"
     ]
    }
   ],
   "source": [
    "!pip show pip"
   ]
  },
  {
   "cell_type": "markdown",
   "id": "0b67af77",
   "metadata": {},
   "source": [
    "## 2.5. 프레임워크 사용 및 선택하기"
   ]
  },
  {
   "cell_type": "markdown",
   "id": "ed706353",
   "metadata": {},
   "source": [
    "* 프레임워크와 외부 라이브러리의 주요 차이점은 애플리케이션이 프레임워크를 기반으로 구축된다는 점 - 프레임워크는 코드의 뼈대(chassis)를 구성함"
   ]
  }
 ],
 "metadata": {
  "kernelspec": {
   "display_name": "Python 3 (ipykernel)",
   "language": "python",
   "name": "python3"
  },
  "language_info": {
   "codemirror_mode": {
    "name": "ipython",
    "version": 3
   },
   "file_extension": ".py",
   "mimetype": "text/x-python",
   "name": "python",
   "nbconvert_exporter": "python",
   "pygments_lexer": "ipython3",
   "version": "3.8.12"
  }
 },
 "nbformat": 4,
 "nbformat_minor": 5
}
