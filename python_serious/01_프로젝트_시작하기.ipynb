{
 "cells": [
  {
   "cell_type": "markdown",
   "id": "6b5fb131",
   "metadata": {},
   "source": [
    "# 01 장. 프로젝트 시작하기"
   ]
  },
  {
   "cell_type": "markdown",
   "id": "616141b3",
   "metadata": {},
   "source": [
    "## 1.1. 파이썬 버전"
   ]
  },
  {
   "cell_type": "code",
   "execution_count": 1,
   "id": "4c5e5d44",
   "metadata": {},
   "outputs": [
    {
     "data": {
      "text/plain": [
       "sys.version_info(major=3, minor=8, micro=12, releaselevel='final', serial=0)"
      ]
     },
     "execution_count": 1,
     "metadata": {},
     "output_type": "execute_result"
    }
   ],
   "source": [
    "import sys\n",
    "\n",
    "sys.version_info"
   ]
  },
  {
   "cell_type": "code",
   "execution_count": 2,
   "id": "018262ab",
   "metadata": {},
   "outputs": [
    {
     "data": {
      "text/plain": [
       "'3.8.12 | packaged by conda-forge | (default, Oct 12 2021, 21:50:38) \\n[Clang 11.1.0 ]'"
      ]
     },
     "execution_count": 2,
     "metadata": {},
     "output_type": "execute_result"
    }
   ],
   "source": [
    "sys.version"
   ]
  },
  {
   "cell_type": "markdown",
   "id": "eb5887d2",
   "metadata": {},
   "source": [
    "* 파이썬 2.6과 그 이전 버전은 너무 오래되어 아무도 사용하지 않으므로 권장하지 않습니다. 특별한 이유로 이전 버전을 사용한다면, 파이썬 3.x에서 실행되지 않을 수도 있습니다.\n",
    "\n",
    "* 파이썬 2.7은 파이썬 2.x의 마지막 버전입니다. 현재 모든 시스템에서 기본적으로 파이썬 3을 실행할 수 있습니다. 여러분이 디지털 세계의 고고학자가 아니라면 새롭게 개발하는 프로그램에서는 파이썬 2.7 지원을 신경 쓰지 않아도 됩니다. 2020년 1월 1일에 파이썬 2 버전의 공식적 지원이 종료되었습니다."
   ]
  },
  {
   "cell_type": "markdown",
   "id": "155db8e7",
   "metadata": {},
   "source": [
    "## 1.2. 프로젝트 잘 설계하기"
   ]
  },
  {
   "cell_type": "markdown",
   "id": "f5a69a0e",
   "metadata": {},
   "source": [
    "* 패키지 루트에서 볼 수 있는 파일\n",
    "\n",
    "  * 파이썬 설치 스크립트 setup.py \n",
    "  * 설치 스크립트 구성 세부 정보가 포함된 setup.cfg\n",
    "  * 사용자에게 중요한 정보를 전달하는 README.rst나 README.txt\n",
    "\n",
    "\n",
    "* 패키지 루트에서 볼 수 있는 디렉터리 \n",
    "\n",
    "  * reStructuredText 형식으로 작성한 패키지 문서를 가진 docs\n",
    "  * 설정 파일들을 위한 etc\n",
    "  * 셀 스크립트와 관련 도구들을 위한 tools\n",
    "  * setup.py로 설치할 실행 스크립트들이 위치한 bin\n",
    "  \n",
    "  \n",
    "* 단위 테스트는 반드시 개발하고 있는 프로그램의 하위 패키지(subpackage)에 둘 것"
   ]
  },
  {
   "cell_type": "markdown",
   "id": "98177457",
   "metadata": {},
   "source": [
    "---\n",
    "\n",
    "* 코드는 형식이 아니라 기능을 기반으로 구성해야 함\n",
    "\n",
    "\n",
    "* 파이썬은 하위 모듈이라고 생각하는 디렉터리에 `__init__.py` 파일이 존재한다고 가정함"
   ]
  },
  {
   "cell_type": "markdown",
   "id": "3b9a5ad3",
   "metadata": {},
   "source": [
    "## 1.3. 버전 번호 매기기"
   ]
  },
  {
   "cell_type": "markdown",
   "id": "e71f02dc",
   "metadata": {},
   "source": [
    "[PEP 440](https://www.python.org/dev/peps/pep-0440)은 버전 번호 매기기에 대한 다음 [정규표현식(regular expression)](https://wikidocs.net/1669)을 정의함\n",
    "\n",
    "> `[N!]N(.N)*[{a|b|rc}N][.postN][.devN]`\n",
    "\n",
    "* Epoch segment: `N!`\n",
    "* Release segment: `N(.N)*`\n",
    "* Pre-release segment: `{a|b|rc}N`\n",
    "* Post-release segment: `.postN`\n",
    "* Development release segment: `.devN`"
   ]
  },
  {
   "cell_type": "markdown",
   "id": "a0961480",
   "metadata": {},
   "source": [
    "## 1.4. 코딩 스타일과 자동 검사"
   ]
  },
  {
   "cell_type": "markdown",
   "id": "27f61f04",
   "metadata": {},
   "source": [
    "[PEP 8](https://www.python.org/dev/peps/pep-0008) 파이썬 스타일 가이드\n",
    "\n",
    "* 들여쓰기는 4개의 공백을 사용\n",
    "* 모든 행은 최대 79자로 제한\n",
    "* 최상위 함수나 클래스 저으이는 두 개으 빈 줄로 분리\n",
    "* ASCII 또는 UTF-8을 사용하여 파일을 인코딩\n",
    "* `import` 문은 한 라인에 하나만 쓰고, 한 `import` 문에서는하나의 모듈만 가져올 것.\n",
    "  `import` 문은 문서 맨 위에 쓰되, 주석과 독스트링(docstring) 다음에 쓸 것.\n",
    "  그리고 표준 라이브러리, 써드파티 라이브러리, 로컬 라이브러리 순서로 그룹화할 것\n",
    "* 괄호, 대괄호, 중괄호 사이 또는 쉼표 앞에 불필요한 공백을 사용하지 말 것\n",
    "* 클래스 이름은 CamelCase로, 변수와 함수 이름은 snake-case로 작성할 것\n",
    "* `_private` 속성 또는 메소드에는 선행 밑줄을 사용할 것"
   ]
  },
  {
   "cell_type": "code",
   "execution_count": null,
   "id": "dd80e6b6",
   "metadata": {},
   "outputs": [],
   "source": []
  }
 ],
 "metadata": {
  "kernelspec": {
   "display_name": "Python 3 (ipykernel)",
   "language": "python",
   "name": "python3"
  },
  "language_info": {
   "codemirror_mode": {
    "name": "ipython",
    "version": 3
   },
   "file_extension": ".py",
   "mimetype": "text/x-python",
   "name": "python",
   "nbconvert_exporter": "python",
   "pygments_lexer": "ipython3",
   "version": "3.8.12"
  }
 },
 "nbformat": 4,
 "nbformat_minor": 5
}
