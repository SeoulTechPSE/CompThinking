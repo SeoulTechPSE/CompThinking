{
 "cells": [
  {
   "cell_type": "markdown",
   "metadata": {
    "slideshow": {
     "slide_type": "slide"
    }
   },
   "source": [
    "## Stroy 28. 정보은닉과 `__dict__`"
   ]
  },
  {
   "cell_type": "markdown",
   "metadata": {
    "slideshow": {
     "slide_type": "fragment"
    }
   },
   "source": [
    "### 속성 감추기"
   ]
  },
  {
   "cell_type": "code",
   "execution_count": null,
   "metadata": {
    "slideshow": {
     "slide_type": "fragment"
    }
   },
   "outputs": [],
   "source": [
    "class Person:\n",
    "    \n",
    "    def __init__(self, name, age):\n",
    "        self.name = name\n",
    "        self.age = age\n",
    "        \n",
    "    def __str__(self):\n",
    "        return f'{self.name}: {self.age}'"
   ]
  },
  {
   "cell_type": "code",
   "execution_count": null,
   "metadata": {
    "slideshow": {
     "slide_type": "fragment"
    }
   },
   "outputs": [],
   "source": [
    "p = Person('Yoo', 21)\n",
    "print(p)\n",
    "\n",
    "p.age -= 1  # 프로그래머 실수 - 객체 외부에서 객체 내에 있는 변수(속성)에 직접 접근 허용\n",
    "print(p)"
   ]
  },
  {
   "cell_type": "code",
   "execution_count": null,
   "metadata": {
    "slideshow": {
     "slide_type": "subslide"
    }
   },
   "outputs": [],
   "source": [
    "class Person:\n",
    "    \n",
    "    def __init__(self, name, age):\n",
    "        self.name = name\n",
    "        self.age = age\n",
    "        \n",
    "    def add_age(self, a):\n",
    "        if a < 0:\n",
    "            print('나이 정보 오류')\n",
    "        else:\n",
    "            self.age += a\n",
    "        \n",
    "    def __str__(self):\n",
    "        return f'{self.name}: {self.age}'"
   ]
  },
  {
   "cell_type": "code",
   "execution_count": null,
   "metadata": {
    "slideshow": {
     "slide_type": "fragment"
    }
   },
   "outputs": [],
   "source": [
    "p = Person('Yoo', 21)\n",
    "print(p)\n",
    "\n",
    "p.add_age(1)  # p.age -= 1 오류를 범할 가능성 여전히 있음\n",
    "print(p)"
   ]
  },
  {
   "cell_type": "code",
   "execution_count": null,
   "metadata": {
    "slideshow": {
     "slide_type": "subslide"
    }
   },
   "outputs": [],
   "source": [
    "class Person:\n",
    "    \n",
    "    def __init__(self, name, age):\n",
    "        self.__name = name\n",
    "        self.__age = age\n",
    "        \n",
    "    def add_age(self, a):\n",
    "        if a < 0:\n",
    "            print('나이 정보 오류')\n",
    "        else:\n",
    "            self.__age += a\n",
    "        \n",
    "    def __str__(self):\n",
    "        return f'{self.__name}: {self.__age}'"
   ]
  },
  {
   "cell_type": "code",
   "execution_count": null,
   "metadata": {
    "slideshow": {
     "slide_type": "fragment"
    }
   },
   "outputs": [],
   "source": [
    "p = Person('Yoo', 21)\n",
    "print(p)\n",
    "\n",
    "p.__age -= 1\n",
    "p.add_age(1)  # p.__age += 1 을 실행하면 오류 발생함\n",
    "print(p)"
   ]
  },
  {
   "cell_type": "markdown",
   "metadata": {
    "slideshow": {
     "slide_type": "subslide"
    }
   },
   "source": [
    " **약속**: 객체 내 변수(속성) 이름 앞에 언더바를 하나만 붙이면 이 변수에 접근하기 없기`~~~~`"
   ]
  },
  {
   "cell_type": "code",
   "execution_count": null,
   "metadata": {
    "slideshow": {
     "slide_type": "fragment"
    }
   },
   "outputs": [],
   "source": [
    "class Person:\n",
    "    \n",
    "    def __init__(self, name, age):\n",
    "        self._name = name\n",
    "        self._age = age\n",
    "        \n",
    "    def add_age(self, a):\n",
    "        if a < 0:\n",
    "            print('나이 정보 오류')\n",
    "        else:\n",
    "            self._age += a\n",
    "        \n",
    "    def __str__(self):\n",
    "        return f'{self._name}: {self._age}'"
   ]
  },
  {
   "cell_type": "code",
   "execution_count": null,
   "metadata": {
    "slideshow": {
     "slide_type": "fragment"
    }
   },
   "outputs": [],
   "source": [
    "p = Person('Yoo', 21)\n",
    "print(p)\n",
    "\n",
    "p.add_age(1)  # p._age += 1 이렇게 안 쓰기로 약속했다\n",
    "print(p)"
   ]
  },
  {
   "cell_type": "markdown",
   "metadata": {
    "slideshow": {
     "slide_type": "subslide"
    }
   },
   "source": [
    "### `__dict__`"
   ]
  },
  {
   "cell_type": "code",
   "execution_count": null,
   "metadata": {
    "slideshow": {
     "slide_type": "fragment"
    }
   },
   "outputs": [],
   "source": [
    "class Person:\n",
    "    \n",
    "    def __init__(self, name, age):\n",
    "        self._name = name\n",
    "        self._age = age"
   ]
  },
  {
   "cell_type": "code",
   "execution_count": null,
   "metadata": {
    "slideshow": {
     "slide_type": "fragment"
    }
   },
   "outputs": [],
   "source": [
    "p = Person('Yoo', 21)\n",
    "print(p.__dict__)"
   ]
  },
  {
   "cell_type": "markdown",
   "metadata": {
    "slideshow": {
     "slide_type": "subslide"
    }
   },
   "source": [
    "> 객체 내에는 `__dict__`이 있으며 딕셔너리이다\n",
    "\n",
    "> `__dict__`에는 해당 객체의 변수 정보가 담긴다"
   ]
  },
  {
   "cell_type": "code",
   "execution_count": null,
   "metadata": {
    "slideshow": {
     "slide_type": "fragment"
    }
   },
   "outputs": [],
   "source": [
    "p.len = 178\n",
    "p.adr = 'Korea'\n",
    "\n",
    "print(p.__dict__)"
   ]
  },
  {
   "cell_type": "code",
   "execution_count": null,
   "metadata": {
    "slideshow": {
     "slide_type": "fragment"
    }
   },
   "outputs": [],
   "source": [
    "p.__dict__['_name'] = 'James'\n",
    "p.__dict__['_age'] += 1\n",
    "\n",
    "print(p.__dict__)"
   ]
  },
  {
   "cell_type": "markdown",
   "metadata": {
    "slideshow": {
     "slide_type": "subslide"
    }
   },
   "source": [
    "> 객체 내에 있는 변수의 값은 사실 `__dict__`를 통해서 관리가 된다"
   ]
  },
  {
   "cell_type": "code",
   "execution_count": null,
   "metadata": {
    "slideshow": {
     "slide_type": "fragment"
    }
   },
   "outputs": [],
   "source": [
    "class Person:\n",
    "    \n",
    "    def __init__(self, name, age):\n",
    "        self.__name = name\n",
    "        self.__age = age"
   ]
  },
  {
   "cell_type": "code",
   "execution_count": null,
   "metadata": {
    "slideshow": {
     "slide_type": "fragment"
    }
   },
   "outputs": [],
   "source": [
    "p = Person('Yoo', 21)\n",
    "print(p.__dict__)"
   ]
  },
  {
   "cell_type": "markdown",
   "metadata": {
    "slideshow": {
     "slide_type": "fragment"
    }
   },
   "source": [
    "> 변수 이름에 언더바를 두 개 붙이면 파이썬은 다음과 같은 패턴으로 이름을 바꾼다\n",
    "  \n",
    "> `__AttrName` -> `_ClassName__AttrName` "
   ]
  },
  {
   "cell_type": "markdown",
   "metadata": {
    "slideshow": {
     "slide_type": "slide"
    }
   },
   "source": [
    "## Story 29. `__slots__`의 효과"
   ]
  },
  {
   "cell_type": "markdown",
   "metadata": {
    "slideshow": {
     "slide_type": "fragment"
    }
   },
   "source": [
    "### `__dict__`의 단점과 그 해결책"
   ]
  },
  {
   "cell_type": "code",
   "execution_count": null,
   "metadata": {
    "slideshow": {
     "slide_type": "fragment"
    }
   },
   "outputs": [],
   "source": [
    "class Point3D:\n",
    "    \n",
    "    def __init__(self, x, y, z):\n",
    "        self.x = x\n",
    "        self.y = y\n",
    "        self.z = z\n",
    "        \n",
    "    def __str__(self):\n",
    "        return f'({self.x}, {self.y}, {self.z})'"
   ]
  },
  {
   "cell_type": "code",
   "execution_count": null,
   "metadata": {
    "slideshow": {
     "slide_type": "subslide"
    }
   },
   "outputs": [],
   "source": [
    "p1 = Point3D(1, 1, 1)\n",
    "p2 = Point3D(24, 17, 31)"
   ]
  },
  {
   "cell_type": "code",
   "execution_count": null,
   "metadata": {
    "slideshow": {
     "slide_type": "fragment"
    }
   },
   "outputs": [],
   "source": [
    "print(p1)\n",
    "print(p2)"
   ]
  },
  {
   "cell_type": "markdown",
   "metadata": {
    "slideshow": {
     "slide_type": "fragment"
    }
   },
   "source": [
    "> Point3D가 수천 개이면, 수천 개의 딕셔너리가 필요해 시스템에 부담이 됨"
   ]
  },
  {
   "cell_type": "code",
   "execution_count": null,
   "metadata": {
    "slideshow": {
     "slide_type": "subslide"
    }
   },
   "outputs": [],
   "source": [
    "def main():\n",
    "    p = Point3D(1, 1, 1)\n",
    "    \n",
    "    for i in range(3000):\n",
    "        for j in range(3000):\n",
    "            p.x += 1\n",
    "            p.y += 1\n",
    "            p.z += 1"
   ]
  },
  {
   "cell_type": "code",
   "execution_count": null,
   "metadata": {
    "slideshow": {
     "slide_type": "fragment"
    }
   },
   "outputs": [],
   "source": [
    "%timeit main()"
   ]
  },
  {
   "cell_type": "code",
   "execution_count": null,
   "metadata": {
    "slideshow": {
     "slide_type": "subslide"
    }
   },
   "outputs": [],
   "source": [
    "class Point3D:\n",
    "    \n",
    "    __slots__ = ('x', 'y', 'z')  # 속성을 x, y, z로 제한한다\n",
    "    \n",
    "    def __init__(self, x, y, z):\n",
    "        self.x = x\n",
    "        self.y = y\n",
    "        self.z = z\n",
    "        \n",
    "    def __str__(self):\n",
    "        return f'({self.x}, {self.y}, {self.z})'"
   ]
  },
  {
   "cell_type": "code",
   "execution_count": null,
   "metadata": {
    "slideshow": {
     "slide_type": "fragment"
    }
   },
   "outputs": [],
   "source": [
    "p1 = Point3D(1, 1, 1)\n",
    "p2 = Point3D(24, 17, 31)"
   ]
  },
  {
   "cell_type": "code",
   "execution_count": null,
   "metadata": {
    "slideshow": {
     "slide_type": "fragment"
    }
   },
   "outputs": [],
   "source": [
    "print(p1)\n",
    "print(p2)"
   ]
  },
  {
   "cell_type": "code",
   "execution_count": null,
   "metadata": {
    "slideshow": {
     "slide_type": "subslide"
    }
   },
   "outputs": [],
   "source": [
    "def main():\n",
    "    p = Point3D(1, 1, 1)\n",
    "    \n",
    "    for i in range(3000):\n",
    "        for j in range(3000):\n",
    "            p.x += 1\n",
    "            p.y += 1\n",
    "            p.z += 1"
   ]
  },
  {
   "cell_type": "code",
   "execution_count": null,
   "metadata": {
    "slideshow": {
     "slide_type": "fragment"
    }
   },
   "outputs": [],
   "source": [
    "%timeit main()"
   ]
  },
  {
   "cell_type": "code",
   "execution_count": null,
   "metadata": {
    "slideshow": {
     "slide_type": "fragment"
    }
   },
   "outputs": [],
   "source": [
    "p1.w = 30  # w는 __slots__에 명시되어 있지 않은 이름이므로 오류!"
   ]
  },
  {
   "cell_type": "markdown",
   "metadata": {
    "slideshow": {
     "slide_type": "slide"
    }
   },
   "source": [
    "## Story 30. 프로퍼티"
   ]
  },
  {
   "cell_type": "markdown",
   "metadata": {
    "slideshow": {
     "slide_type": "fragment"
    }
   },
   "source": [
    "### 안전하게 접근하기"
   ]
  },
  {
   "cell_type": "code",
   "execution_count": null,
   "metadata": {
    "slideshow": {
     "slide_type": "fragment"
    }
   },
   "outputs": [],
   "source": [
    "class NaturalNumber:\n",
    "    \n",
    "    def __init__(self, n):        \n",
    "        if n < 1:\n",
    "            self.__n = 1\n",
    "        else:\n",
    "            self.__n = n\n",
    "            \n",
    "    def getn(self):  # 값 꺼내기, getter\n",
    "        return self.__n\n",
    "    \n",
    "    def setn(self, n):  # 값 수정하기, setter        \n",
    "        if n < 1:\n",
    "            self.__n = 1\n",
    "        else:\n",
    "            self.__n = n       "
   ]
  },
  {
   "cell_type": "code",
   "execution_count": null,
   "metadata": {
    "slideshow": {
     "slide_type": "subslide"
    }
   },
   "outputs": [],
   "source": [
    "n = NaturalNumber(-3)\n",
    "print(n.getn())\n",
    "n.setn(2)\n",
    "print(n.getn())"
   ]
  },
  {
   "cell_type": "code",
   "execution_count": null,
   "metadata": {
    "slideshow": {
     "slide_type": "subslide"
    }
   },
   "outputs": [],
   "source": [
    "class NaturalNumber:\n",
    "    \n",
    "    def __init__(self, n):     \n",
    "        self.setn(n)\n",
    "\n",
    "    def getn(self):  # 값 꺼내기, getter\n",
    "        return self.__n\n",
    "    \n",
    "    def setn(self, n):  # 값 수정하기, setter       \n",
    "        if n < 1:\n",
    "            self.__n = 1\n",
    "        else:\n",
    "            self.__n = n     "
   ]
  },
  {
   "cell_type": "code",
   "execution_count": null,
   "metadata": {
    "slideshow": {
     "slide_type": "fragment"
    }
   },
   "outputs": [],
   "source": [
    "n1 = NaturalNumber(1)\n",
    "n2 = NaturalNumber(2)\n",
    "n3 = NaturalNumber(3)"
   ]
  },
  {
   "cell_type": "code",
   "execution_count": null,
   "metadata": {
    "slideshow": {
     "slide_type": "fragment"
    }
   },
   "outputs": [],
   "source": [
    "n1.setn(n2.getn() + n3.getn())  # 조금 복잡해 보인다 - n1.n= n2.n + n3.n ??\n",
    "\n",
    "print(n1.getn())"
   ]
  },
  {
   "cell_type": "code",
   "execution_count": null,
   "metadata": {
    "slideshow": {
     "slide_type": "subslide"
    }
   },
   "outputs": [],
   "source": [
    "class NaturalNumber:\n",
    "    \n",
    "    def __init__(self, n):     \n",
    "        self.setn(n)\n",
    "\n",
    "    def getn(self):  # 값 꺼내기, getter\n",
    "        return self.__n\n",
    "    \n",
    "    def setn(self, n):  # 값 수정하기, setter       \n",
    "        if n < 1:\n",
    "            self.__n = 1\n",
    "        else:\n",
    "            self.__n = n\n",
    "            \n",
    "    n = property(getn, setn)  # 프로퍼티 설정"
   ]
  },
  {
   "cell_type": "code",
   "execution_count": null,
   "metadata": {
    "slideshow": {
     "slide_type": "fragment"
    }
   },
   "outputs": [],
   "source": [
    "n1 = NaturalNumber(1)\n",
    "n2 = NaturalNumber(2)\n",
    "n3 = NaturalNumber(3)"
   ]
  },
  {
   "cell_type": "code",
   "execution_count": null,
   "metadata": {
    "slideshow": {
     "slide_type": "fragment"
    }
   },
   "outputs": [],
   "source": [
    "n1.n = n2.n + n3.n\n",
    "\n",
    "print(n1.n)"
   ]
  },
  {
   "cell_type": "markdown",
   "metadata": {
    "slideshow": {
     "slide_type": "subslide"
    }
   },
   "source": [
    "### property"
   ]
  },
  {
   "cell_type": "code",
   "execution_count": null,
   "metadata": {
    "slideshow": {
     "slide_type": "fragment"
    }
   },
   "outputs": [],
   "source": [
    "class NaturalNumber:\n",
    "    \n",
    "    def __init__(self, n):     \n",
    "        self.setn(n)\n",
    "        \n",
    "    n = property()  # property 객체 생성\n",
    "\n",
    "    def getn(self):  # 값 꺼내기, getter\n",
    "        return self.__n\n",
    "    \n",
    "    n = n.getter(getn)  # getn 메소드를 getter로 등록\n",
    "    \n",
    "    def setn(self, n):  # 값 수정하기, setter       \n",
    "        if n < 1:\n",
    "            self.__n = 1\n",
    "        else:\n",
    "            self.__n = n\n",
    "            \n",
    "    n = n.setter(setn)  # setn 메소드를 gsetter로 등록"
   ]
  },
  {
   "cell_type": "code",
   "execution_count": null,
   "metadata": {
    "slideshow": {
     "slide_type": "subslide"
    }
   },
   "outputs": [],
   "source": [
    "n0 = NaturalNumber(-1)"
   ]
  },
  {
   "cell_type": "code",
   "execution_count": null,
   "metadata": {
    "slideshow": {
     "slide_type": "fragment"
    }
   },
   "outputs": [],
   "source": [
    "n0.n"
   ]
  },
  {
   "cell_type": "code",
   "execution_count": null,
   "metadata": {
    "slideshow": {
     "slide_type": "fragment"
    }
   },
   "outputs": [],
   "source": [
    "n0.n = -1"
   ]
  },
  {
   "cell_type": "code",
   "execution_count": null,
   "metadata": {
    "slideshow": {
     "slide_type": "fragment"
    }
   },
   "outputs": [],
   "source": [
    "n0.n"
   ]
  },
  {
   "cell_type": "code",
   "execution_count": null,
   "metadata": {
    "slideshow": {
     "slide_type": "subslide"
    }
   },
   "outputs": [],
   "source": [
    "n1 = NaturalNumber(1)\n",
    "n2 = NaturalNumber(2)\n",
    "n3 = NaturalNumber(3)"
   ]
  },
  {
   "cell_type": "code",
   "execution_count": null,
   "metadata": {
    "slideshow": {
     "slide_type": "fragment"
    }
   },
   "outputs": [],
   "source": [
    "n1.n = n2.n + n3.n\n",
    "\n",
    "print(n1.n)"
   ]
  },
  {
   "cell_type": "code",
   "execution_count": null,
   "metadata": {
    "slideshow": {
     "slide_type": "subslide"
    }
   },
   "outputs": [],
   "source": [
    "class NaturalNumber:\n",
    "    \n",
    "    def __init__(self, n):     \n",
    "        self.n = n\n",
    "        \n",
    "    n = property()  # property 객체 생성\n",
    "\n",
    "    def pm(self):  # 값 꺼내기, getter\n",
    "        return self.__n\n",
    "    \n",
    "    n = n.getter(pm)  # pm 메소드를 getter로 등록\n",
    "    \n",
    "    def pm(self, n):  # 값 수정하기, setter       \n",
    "        if n < 1:\n",
    "            self.__n = 1\n",
    "        else:\n",
    "            self.__n = n\n",
    "            \n",
    "    n = n.setter(pm)  # pm 메소드를 gsetter로 등록"
   ]
  },
  {
   "cell_type": "markdown",
   "metadata": {
    "slideshow": {
     "slide_type": "subslide"
    }
   },
   "source": [
    "### 또 다른 방식 - 더 많이 쓰임"
   ]
  },
  {
   "cell_type": "code",
   "execution_count": null,
   "metadata": {
    "slideshow": {
     "slide_type": "fragment"
    }
   },
   "outputs": [],
   "source": [
    "class NaturalNumber:\n",
    "    \n",
    "    def __init__(self, n):     \n",
    "        self.n = n\n",
    "        \n",
    "    @property\n",
    "    def n(self): \n",
    "        return self.__n\n",
    "    \n",
    "    @n.setter    \n",
    "    def n(self, n):   \n",
    "        if n < 1:\n",
    "            self.__n = 1\n",
    "        else:\n",
    "            self.__n = n"
   ]
  },
  {
   "cell_type": "code",
   "execution_count": null,
   "metadata": {
    "slideshow": {
     "slide_type": "subslide"
    }
   },
   "outputs": [],
   "source": [
    "n1 = NaturalNumber(1)\n",
    "n2 = NaturalNumber(2)\n",
    "n3 = NaturalNumber(3)"
   ]
  },
  {
   "cell_type": "code",
   "execution_count": null,
   "metadata": {
    "slideshow": {
     "slide_type": "fragment"
    }
   },
   "outputs": [],
   "source": [
    "n1.n = n2.n + n3.n\n",
    "\n",
    "print(n1.n)"
   ]
  },
  {
   "cell_type": "markdown",
   "metadata": {
    "slideshow": {
     "slide_type": "subslide"
    }
   },
   "source": [
    "```python\n",
    "@property\n",
    "def n(self):\n",
    "    return self.__n\n",
    "```\n",
    "\n",
    "> 이어서 등장하는 메소드 `n`을 getter로 지정하면서 `property` 객체 생성 그리고 이렇게 생성된 `property` 객체를 변수 `n`에 저장"
   ]
  },
  {
   "cell_type": "markdown",
   "metadata": {
    "slideshow": {
     "slide_type": "fragment"
    }
   },
   "source": [
    "```python\n",
    "@n.setter\n",
    "def n(self, n):\n",
    "    # 메소드의 몸체 내용은 생략함\n",
    "```\n",
    "\n",
    "> 이어서 등장하는 메소드 `n`을 `n`으로 저장된 `property` 객체의 setter로 등록하고 이렇게 생성된 `property` 객체를 변수 `n`에 저장"
   ]
  }
 ],
 "metadata": {
  "celltoolbar": "Slideshow",
  "kernelspec": {
   "display_name": "Python 3 (ipykernel)",
   "language": "python",
   "name": "python3"
  },
  "language_info": {
   "codemirror_mode": {
    "name": "ipython",
    "version": 3
   },
   "file_extension": ".py",
   "mimetype": "text/x-python",
   "name": "python",
   "nbconvert_exporter": "python",
   "pygments_lexer": "ipython3",
   "version": "3.8.12"
  }
 },
 "nbformat": 4,
 "nbformat_minor": 4
}
