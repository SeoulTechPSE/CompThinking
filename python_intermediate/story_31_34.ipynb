{
 "cells": [
  {
   "cell_type": "markdown",
   "metadata": {
    "slideshow": {
     "slide_type": "slide"
    }
   },
   "source": [
    "## Story 31. 네스티드 함수와 클로저"
   ]
  },
  {
   "cell_type": "markdown",
   "metadata": {
    "slideshow": {
     "slide_type": "fragment"
    }
   },
   "source": [
    "### 함수를 만들어서 반환하는 함수"
   ]
  },
  {
   "cell_type": "code",
   "execution_count": null,
   "metadata": {
    "slideshow": {
     "slide_type": "fragment"
    }
   },
   "outputs": [],
   "source": [
    "def maker(m):\n",
    "    def inner(n):  # nested 함수\n",
    "        return m * n\n",
    "    return inner"
   ]
  },
  {
   "cell_type": "code",
   "execution_count": null,
   "metadata": {
    "slideshow": {
     "slide_type": "fragment"
    }
   },
   "outputs": [],
   "source": [
    "f1 = maker(2)\n",
    "f2 = maker(3)"
   ]
  },
  {
   "cell_type": "code",
   "execution_count": null,
   "metadata": {
    "slideshow": {
     "slide_type": "fragment"
    }
   },
   "outputs": [],
   "source": [
    "f1(7)  # 실제 변수 m을 참조하게 되는 순간! maker 함수의 밖이다"
   ]
  },
  {
   "cell_type": "code",
   "execution_count": null,
   "metadata": {
    "slideshow": {
     "slide_type": "fragment"
    }
   },
   "outputs": [],
   "source": [
    "f2(7)"
   ]
  },
  {
   "cell_type": "markdown",
   "metadata": {
    "slideshow": {
     "slide_type": "subslide"
    }
   },
   "source": [
    "### 클로저(Closure)"
   ]
  },
  {
   "cell_type": "markdown",
   "metadata": {
    "slideshow": {
     "slide_type": "fragment"
    }
   },
   "source": [
    "> 위의 예제에서 정의한 `inner` 함수가 변수 `m`의 값을 어딘가에 살짝 저장해 놓고 쓴다\n",
    "\n",
    "> 안쪽에 위치한 네스티드 함수가 자신이 필요한 변수의 값을 어딘가에 저장해 놓고 쓰는 테크닉을 가리켜 **클로저**라 한다"
   ]
  },
  {
   "cell_type": "markdown",
   "metadata": {
    "slideshow": {
     "slide_type": "subslide"
    }
   },
   "source": [
    "### 저장된 위치 확인하기"
   ]
  },
  {
   "cell_type": "code",
   "execution_count": null,
   "metadata": {
    "slideshow": {
     "slide_type": "fragment"
    }
   },
   "outputs": [],
   "source": [
    "f1 = maker(4)\n",
    "f2 = maker(5)"
   ]
  },
  {
   "cell_type": "code",
   "execution_count": null,
   "metadata": {
    "slideshow": {
     "slide_type": "fragment"
    }
   },
   "outputs": [],
   "source": [
    "f1.__closure__[0].cell_contents"
   ]
  },
  {
   "cell_type": "code",
   "execution_count": null,
   "metadata": {
    "slideshow": {
     "slide_type": "fragment"
    }
   },
   "outputs": [],
   "source": [
    "f2.__closure__[0].cell_contents"
   ]
  },
  {
   "cell_type": "markdown",
   "metadata": {
    "slideshow": {
     "slide_type": "slide"
    }
   },
   "source": [
    "## Story 32. 테코레이터"
   ]
  },
  {
   "cell_type": "markdown",
   "metadata": {
    "slideshow": {
     "slide_type": "fragment"
    }
   },
   "source": [
    "### 테코레이터에 대한 이해"
   ]
  },
  {
   "cell_type": "code",
   "execution_count": null,
   "metadata": {
    "slideshow": {
     "slide_type": "fragment"
    }
   },
   "outputs": [],
   "source": [
    "def smile():\n",
    "    print('^_^')\n",
    "    \n",
    "def confused():\n",
    "    print('@_@')"
   ]
  },
  {
   "cell_type": "code",
   "execution_count": null,
   "metadata": {
    "slideshow": {
     "slide_type": "fragment"
    }
   },
   "outputs": [],
   "source": [
    "smile()"
   ]
  },
  {
   "cell_type": "code",
   "execution_count": null,
   "metadata": {
    "slideshow": {
     "slide_type": "fragment"
    }
   },
   "outputs": [],
   "source": [
    "confused()"
   ]
  },
  {
   "cell_type": "code",
   "execution_count": null,
   "metadata": {
    "slideshow": {
     "slide_type": "subslide"
    }
   },
   "outputs": [],
   "source": [
    "def deco(func):\n",
    "    def df():\n",
    "        print('emoticon!')\n",
    "        func()\n",
    "        print('emoticon!')\n",
    "    return df"
   ]
  },
  {
   "cell_type": "code",
   "execution_count": null,
   "metadata": {
    "slideshow": {
     "slide_type": "fragment"
    }
   },
   "outputs": [],
   "source": [
    "smile = deco(smile)\n",
    "\n",
    "smile()"
   ]
  },
  {
   "cell_type": "code",
   "execution_count": null,
   "metadata": {
    "slideshow": {
     "slide_type": "fragment"
    }
   },
   "outputs": [],
   "source": [
    "confused = deco(confused)\n",
    "\n",
    "confused()"
   ]
  },
  {
   "cell_type": "markdown",
   "metadata": {
    "slideshow": {
     "slide_type": "fragment"
    }
   },
   "source": [
    "> 기능이 추가된 새로운 함수를 만들고 이 함수를 반환한다"
   ]
  },
  {
   "cell_type": "markdown",
   "metadata": {
    "slideshow": {
     "slide_type": "subslide"
    }
   },
   "source": [
    "### 전달 인자가 있는 함수 기반의 데코레이터"
   ]
  },
  {
   "cell_type": "code",
   "execution_count": null,
   "metadata": {
    "slideshow": {
     "slide_type": "fragment"
    }
   },
   "outputs": [],
   "source": [
    "def adder2(n1, n2):\n",
    "    return n1 + n2\n",
    "\n",
    "def adder3(n1, n2, n3):\n",
    "    return n1 + n2 + n3"
   ]
  },
  {
   "cell_type": "code",
   "execution_count": null,
   "metadata": {
    "slideshow": {
     "slide_type": "fragment"
    }
   },
   "outputs": [],
   "source": [
    "adder2(3, 4)"
   ]
  },
  {
   "cell_type": "code",
   "execution_count": null,
   "metadata": {
    "slideshow": {
     "slide_type": "fragment"
    }
   },
   "outputs": [],
   "source": [
    "adder3(3, 5, 7)"
   ]
  },
  {
   "cell_type": "code",
   "execution_count": null,
   "metadata": {
    "slideshow": {
     "slide_type": "subslide"
    }
   },
   "outputs": [],
   "source": [
    "def adder_deco(func):\n",
    "    def ad(*args):  # 전달 인자를 튜플로 묶는다\n",
    "        print(*args, sep=' + ', end=' ')\n",
    "        print(f'= {func(*args)}')\n",
    "    return ad"
   ]
  },
  {
   "cell_type": "code",
   "execution_count": null,
   "metadata": {
    "slideshow": {
     "slide_type": "fragment"
    }
   },
   "outputs": [],
   "source": [
    "adder2 = adder_deco(adder2)\n",
    "adder2(3, 4)"
   ]
  },
  {
   "cell_type": "code",
   "execution_count": null,
   "metadata": {
    "slideshow": {
     "slide_type": "fragment"
    }
   },
   "outputs": [],
   "source": [
    "adder3 = adder_deco(adder3)\n",
    "adder3(3, 5, 7)"
   ]
  },
  {
   "cell_type": "markdown",
   "metadata": {
    "slideshow": {
     "slide_type": "subslide"
    }
   },
   "source": [
    "### `@` 기반으로"
   ]
  },
  {
   "cell_type": "markdown",
   "metadata": {
    "slideshow": {
     "slide_type": "fragment"
    }
   },
   "source": [
    "```python\n",
    "def smile():\n",
    "    print('^_^')\n",
    "    \n",
    "smile = deco(smile)\n",
    "```\n",
    "\n",
    "> 위의 코드와 아래의 코드는 동일한 결과를 보인다:\n",
    "\n",
    "\n",
    "```python\n",
    "@deco\n",
    "def smile():\n",
    "    print('^_^')\n",
    "```"
   ]
  },
  {
   "cell_type": "code",
   "execution_count": null,
   "metadata": {
    "slideshow": {
     "slide_type": "subslide"
    }
   },
   "outputs": [],
   "source": [
    "def adder_deco(func):\n",
    "    def ad(*args):  # 전달 인자를 튜플로 묶는다\n",
    "        print(*args, sep=' + ', end=' ')\n",
    "        print(f'= {func(*args)}')\n",
    "    return ad\n",
    "\n",
    "@adder_deco\n",
    "def adder2(n1, n2):\n",
    "    return n1 + n2\n",
    "\n",
    "@adder_deco\n",
    "def adder3(n1, n2, n3):\n",
    "    return n1 + n2 + n3"
   ]
  },
  {
   "cell_type": "code",
   "execution_count": null,
   "metadata": {
    "slideshow": {
     "slide_type": "fragment"
    }
   },
   "outputs": [],
   "source": [
    "adder2(3, 4)"
   ]
  },
  {
   "cell_type": "code",
   "execution_count": null,
   "metadata": {
    "slideshow": {
     "slide_type": "fragment"
    }
   },
   "outputs": [],
   "source": [
    "adder3(3, 4, 7)"
   ]
  },
  {
   "cell_type": "markdown",
   "metadata": {
    "slideshow": {
     "slide_type": "subslide"
    }
   },
   "source": [
    "### 데코레이터 함수 두 번 이상 통과하기"
   ]
  },
  {
   "cell_type": "markdown",
   "metadata": {
    "slideshow": {
     "slide_type": "fragment"
    }
   },
   "source": [
    "```python\n",
    "@deco1\n",
    "@deco2\n",
    "def simple():\n",
    "    print('simple')\n",
    "```\n",
    "\n",
    "> 위의 코드와 아래의 코드는 완전히 동일하다:\n",
    "\n",
    "\n",
    "```python\n",
    "def simple():\n",
    "    print('simple')\n",
    "\n",
    "simple = deco1(deco2(simple))    \n",
    "```"
   ]
  },
  {
   "cell_type": "code",
   "execution_count": null,
   "metadata": {
    "slideshow": {
     "slide_type": "subslide"
    }
   },
   "outputs": [],
   "source": [
    "def deco1(func):  # 데코레이터 1\n",
    "    def inner():\n",
    "        print('deco1')\n",
    "        func()\n",
    "    return inner\n",
    "\n",
    "def deco2(func):  # 데코레이터 2\n",
    "    def inner():\n",
    "        print('deco2')\n",
    "        func()\n",
    "    return inner"
   ]
  },
  {
   "cell_type": "code",
   "execution_count": null,
   "metadata": {
    "slideshow": {
     "slide_type": "fragment"
    }
   },
   "outputs": [],
   "source": [
    "@deco1\n",
    "@deco2\n",
    "def simple():\n",
    "    print('simple')"
   ]
  },
  {
   "cell_type": "code",
   "execution_count": null,
   "metadata": {
    "slideshow": {
     "slide_type": "fragment"
    }
   },
   "outputs": [],
   "source": [
    "simple()"
   ]
  },
  {
   "cell_type": "markdown",
   "metadata": {
    "slideshow": {
     "slide_type": "subslide"
    }
   },
   "source": [
    "## Story 33. 클래스 메소드와 static 메소드"
   ]
  },
  {
   "cell_type": "markdown",
   "metadata": {
    "slideshow": {
     "slide_type": "fragment"
    }
   },
   "source": [
    "### 클래스 변수에 대한 이해"
   ]
  },
  {
   "cell_type": "code",
   "execution_count": 1,
   "metadata": {
    "slideshow": {
     "slide_type": "fragment"
    }
   },
   "outputs": [],
   "source": [
    "class Simple:\n",
    "    \n",
    "    def __init__(self):\n",
    "        self.iv = 10  # iv는 인스턴스 변수, 객체 별로 존재하는 변수"
   ]
  },
  {
   "cell_type": "code",
   "execution_count": 2,
   "metadata": {
    "slideshow": {
     "slide_type": "fragment"
    }
   },
   "outputs": [
    {
     "data": {
      "text/plain": [
       "10"
      ]
     },
     "execution_count": 2,
     "metadata": {},
     "output_type": "execute_result"
    }
   ],
   "source": [
    "s = Simple()\n",
    "s.iv  # 인스턴스 변수는 객체를 통해서 접근한다"
   ]
  },
  {
   "cell_type": "code",
   "execution_count": 3,
   "metadata": {
    "slideshow": {
     "slide_type": "subslide"
    }
   },
   "outputs": [],
   "source": [
    "class Simple:\n",
    "    \n",
    "    cv = 20  # cv는 클래스 변수, 클래스 Simple에 속하는 변수\n",
    "    \n",
    "    def __init__(self):\n",
    "        self.iv = 10"
   ]
  },
  {
   "cell_type": "code",
   "execution_count": 4,
   "metadata": {
    "slideshow": {
     "slide_type": "fragment"
    }
   },
   "outputs": [
    {
     "data": {
      "text/plain": [
       "20"
      ]
     },
     "execution_count": 4,
     "metadata": {},
     "output_type": "execute_result"
    }
   ],
   "source": [
    "Simple.cv  # 클래스 변수는 클래스 이름으로 접근 가능"
   ]
  },
  {
   "cell_type": "code",
   "execution_count": 5,
   "metadata": {
    "slideshow": {
     "slide_type": "fragment"
    }
   },
   "outputs": [
    {
     "data": {
      "text/plain": [
       "20"
      ]
     },
     "execution_count": 5,
     "metadata": {},
     "output_type": "execute_result"
    }
   ],
   "source": [
    "s = Simple()\n",
    "s.cv  # 클래스 변수는 객체를 통해서도 접근 가능"
   ]
  },
  {
   "cell_type": "code",
   "execution_count": 6,
   "metadata": {
    "slideshow": {
     "slide_type": "subslide"
    }
   },
   "outputs": [],
   "source": [
    "class Simple:\n",
    "    \n",
    "    count = 0  # 클래스 변수, 생성된 객체 수를 저장하는 것이 목적\n",
    "    \n",
    "    def __init__(self):\n",
    "        Simple.count += 1\n",
    "        \n",
    "    def get_count(self):  # 이 메소드는 객체가 있어야 호출 가능~~~~~~\n",
    "        return Simple.count"
   ]
  },
  {
   "cell_type": "code",
   "execution_count": 7,
   "metadata": {
    "slideshow": {
     "slide_type": "fragment"
    }
   },
   "outputs": [
    {
     "name": "stdout",
     "output_type": "stream",
     "text": [
      "1\n",
      "2\n",
      "3\n"
     ]
    }
   ],
   "source": [
    "s1 = Simple()\n",
    "print(s1.get_count())\n",
    "\n",
    "s2 = Simple()\n",
    "print(s1.get_count())\n",
    "\n",
    "s3 = Simple()\n",
    "print(s1.get_count())"
   ]
  },
  {
   "cell_type": "markdown",
   "metadata": {
    "slideshow": {
     "slide_type": "subslide"
    }
   },
   "source": [
    "### static 메소드"
   ]
  },
  {
   "cell_type": "code",
   "execution_count": 8,
   "metadata": {
    "slideshow": {
     "slide_type": "fragment"
    }
   },
   "outputs": [],
   "source": [
    "class Simple:\n",
    "    def sm():  # static 메소드는 첫 번째 인자로 self가 없다\n",
    "        print('static method!')\n",
    "        \n",
    "    sm = staticmethod(sm)  # sm 메소드를 static 메소드로 만드는 방법"
   ]
  },
  {
   "cell_type": "code",
   "execution_count": 9,
   "metadata": {
    "slideshow": {
     "slide_type": "fragment"
    }
   },
   "outputs": [
    {
     "name": "stdout",
     "output_type": "stream",
     "text": [
      "static method!\n",
      "static method!\n"
     ]
    }
   ],
   "source": [
    "Simple.sm()  # static 메소드는 클래스 이름을 통해 호출 가능\n",
    "\n",
    "s = Simple()\n",
    "s.sm()  # static 메소드는 객체를 통해서도 호출 가능"
   ]
  },
  {
   "cell_type": "code",
   "execution_count": 10,
   "metadata": {
    "slideshow": {
     "slide_type": "fragment"
    }
   },
   "outputs": [],
   "source": [
    "class Simple:\n",
    "    @staticmethod\n",
    "    def sm():  \n",
    "        print('static method!')"
   ]
  },
  {
   "cell_type": "code",
   "execution_count": 11,
   "metadata": {
    "slideshow": {
     "slide_type": "subslide"
    }
   },
   "outputs": [],
   "source": [
    "class Simple:\n",
    "    \n",
    "    count = 0  # 클래스 변수, 생성된 객체 수를 저장하는 것이 목적\n",
    "    \n",
    "    def __init__(self):\n",
    "        Simple.count += 1\n",
    "        \n",
    "    @staticmethod  # 아래 메소드를 static 메소드로 선언!!\n",
    "    def get_count():  # 매개변수로 self가 없는 static 메소드\n",
    "        return Simple.count"
   ]
  },
  {
   "cell_type": "code",
   "execution_count": 12,
   "metadata": {
    "slideshow": {
     "slide_type": "fragment"
    }
   },
   "outputs": [
    {
     "name": "stdout",
     "output_type": "stream",
     "text": [
      "0\n",
      "1\n"
     ]
    }
   ],
   "source": [
    "print(Simple.get_count())  # 객체가 없는 상태에서도 객체의 수를 물을 수 있다\n",
    "\n",
    "s = Simple()\n",
    "print(Simple.get_count())"
   ]
  },
  {
   "cell_type": "markdown",
   "metadata": {
    "slideshow": {
     "slide_type": "subslide"
    }
   },
   "source": [
    "## class 메소드"
   ]
  },
  {
   "cell_type": "code",
   "execution_count": 13,
   "metadata": {
    "slideshow": {
     "slide_type": "fragment"
    }
   },
   "outputs": [],
   "source": [
    "class Simple:\n",
    "    \n",
    "    count = 0  # 클래스 변수, 생성된 객체 수를 저장하는 것이 목적\n",
    "    \n",
    "    def __init__(self):\n",
    "        Simple.count += 1\n",
    "        \n",
    "    @classmethod  # class 메소드를 만들기 위한 데코레이터!\n",
    "    def get_count(cls):  \n",
    "        return cls.count  # cls로 전달되는 것은 Simple 클래스"
   ]
  },
  {
   "cell_type": "code",
   "execution_count": 14,
   "metadata": {
    "slideshow": {
     "slide_type": "subslide"
    }
   },
   "outputs": [
    {
     "name": "stdout",
     "output_type": "stream",
     "text": [
      "0\n",
      "1\n"
     ]
    }
   ],
   "source": [
    "print(Simple.get_count())  # 객체가 없는 상태에서도 객체의 수를 물을 수 있다\n",
    "\n",
    "s = Simple()\n",
    "print(Simple.get_count())"
   ]
  },
  {
   "cell_type": "markdown",
   "metadata": {
    "slideshow": {
     "slide_type": "fragment"
    }
   },
   "source": [
    "> 첫 번째 매개변수 `cls`를 빼고 보면, static 메소드와 class 메소드는 동일하다\n",
    "\n",
    "> 그리고 `cls`에는 이 메소드의 클래스가 전달된다"
   ]
  },
  {
   "cell_type": "markdown",
   "metadata": {
    "slideshow": {
     "slide_type": "subslide"
    }
   },
   "source": [
    "### static 매소드보다 class 메소드가 더 어울리는 경우"
   ]
  },
  {
   "cell_type": "code",
   "execution_count": 15,
   "metadata": {
    "slideshow": {
     "slide_type": "fragment"
    }
   },
   "outputs": [],
   "source": [
    "class Date:\n",
    "    \n",
    "    def __init__(self, year, month, date):\n",
    "        self.year = year\n",
    "        self.month = month\n",
    "        self.date = date\n",
    "        \n",
    "    def show(self):\n",
    "        print(f'{self.year}, {self.month}, {self.date}')\n",
    "        \n",
    "    @classmethod\n",
    "    def next_day(cls, today):  # today 다음 날에 대한 객체 생성 및 반환\n",
    "        return cls(today.year, today.month, today.date + 1)"
   ]
  },
  {
   "cell_type": "code",
   "execution_count": 16,
   "metadata": {
    "slideshow": {
     "slide_type": "subslide"
    }
   },
   "outputs": [
    {
     "name": "stdout",
     "output_type": "stream",
     "text": [
      "2025, 4, 5\n",
      "2025, 4, 6\n"
     ]
    }
   ],
   "source": [
    "d1 = Date(2025, 4, 5)\n",
    "d1.show()\n",
    "d2 = Date.next_day(d1)\n",
    "d2.show()"
   ]
  },
  {
   "cell_type": "markdown",
   "metadata": {
    "slideshow": {
     "slide_type": "fragment"
    }
   },
   "source": [
    "> 이렇듯 새로운 객체를 생성 및 반환하는 메소드를 가리켜 **팩토리 메소드**라 하는데, class 메소드는 이렇듯 팩토리 메소드를 만드는데 매우 적합하다"
   ]
  },
  {
   "cell_type": "markdown",
   "metadata": {
    "slideshow": {
     "slide_type": "subslide"
    }
   },
   "source": [
    "### static 메소드보다 class 메소드가 완전 더 어울리는 경우"
   ]
  },
  {
   "cell_type": "code",
   "execution_count": 17,
   "metadata": {
    "slideshow": {
     "slide_type": "fragment"
    }
   },
   "outputs": [],
   "source": [
    "class Date:  # 앞의 예제에서 보인 Date 클래스와 완전 동일\n",
    "    \n",
    "    def __init__(self, year, month, date):\n",
    "        self.year = year\n",
    "        self.month = month\n",
    "        self.date = date\n",
    "        \n",
    "    def show(self):\n",
    "        print(f'{self.year}, {self.month}, {self.date}')\n",
    "        \n",
    "    @classmethod\n",
    "    def next_day(cls, today):  # today 다음 날에 대한 객체 생성 및 반환\n",
    "        return cls(today.year, today.month, today.date + 1)\n",
    "    \n",
    "class KDate(Date):  # Date 클래스 상속, 한국의 시각 출력\n",
    "    \n",
    "    def show(self):\n",
    "        print(f'KOR: {self.year}, {self.month}, {self.date}')\n",
    "        \n",
    "class JDate(Date):  # Date 클래스 상속, 일본의 시각 출력\n",
    "    \n",
    "    def show(self):\n",
    "        print(f'JPN: {self.year}, {self.month}, {self.date}')        "
   ]
  },
  {
   "cell_type": "code",
   "execution_count": 18,
   "metadata": {
    "slideshow": {
     "slide_type": "subslide"
    }
   },
   "outputs": [
    {
     "name": "stdout",
     "output_type": "stream",
     "text": [
      "KOR: 2025, 4, 12\n",
      "KOR: 2025, 4, 13\n",
      "JPN: 2027, 5, 19\n",
      "JPN: 2027, 5, 20\n"
     ]
    }
   ],
   "source": [
    "kd1 = KDate(2025, 4, 12)\n",
    "kd1.show()\n",
    "\n",
    "kd2 = KDate.next_day(kd1)  # next_day에 전달되는 클래스는 KDate\n",
    "kd2.show()\n",
    "\n",
    "jd1 = JDate(2027, 5, 19)\n",
    "jd1.show()\n",
    "\n",
    "jd2 = JDate.next_day(jd1)\n",
    "jd2.show()"
   ]
  },
  {
   "cell_type": "markdown",
   "metadata": {
    "slideshow": {
     "slide_type": "slide"
    }
   },
   "source": [
    "## Story 34. `__name__` & `__main__`"
   ]
  },
  {
   "cell_type": "markdown",
   "metadata": {
    "slideshow": {
     "slide_type": "fragment"
    }
   },
   "source": [
    "### `__name__`"
   ]
  },
  {
   "cell_type": "code",
   "execution_count": 19,
   "metadata": {
    "slideshow": {
     "slide_type": "fragment"
    }
   },
   "outputs": [
    {
     "name": "stdout",
     "output_type": "stream",
     "text": [
      "Writing who_are_you.py\n"
     ]
    }
   ],
   "source": [
    "%%writefile who_are_you.py\n",
    "def main():\n",
    "    print('filename: who_are_you.py')\n",
    "    print(f'__name__: {__name__}')\n",
    "    \n",
    "main()"
   ]
  },
  {
   "cell_type": "code",
   "execution_count": 20,
   "metadata": {
    "slideshow": {
     "slide_type": "fragment"
    }
   },
   "outputs": [
    {
     "name": "stdout",
     "output_type": "stream",
     "text": [
      "filename: who_are_you.py\n",
      "__name__: __main__\n"
     ]
    }
   ],
   "source": [
    "%run who_are_you.py"
   ]
  },
  {
   "cell_type": "code",
   "execution_count": 21,
   "metadata": {
    "slideshow": {
     "slide_type": "subslide"
    }
   },
   "outputs": [
    {
     "name": "stdout",
     "output_type": "stream",
     "text": [
      "Writing importer.py\n"
     ]
    }
   ],
   "source": [
    "%%writefile importer.py\n",
    "import who_are_you\n",
    "\n",
    "print('play importer')\n",
    "print(f'__name__: {__name__}')"
   ]
  },
  {
   "cell_type": "code",
   "execution_count": 22,
   "metadata": {
    "slideshow": {
     "slide_type": "fragment"
    }
   },
   "outputs": [
    {
     "name": "stdout",
     "output_type": "stream",
     "text": [
      "filename: who_are_you.py\n",
      "__name__: who_are_you\n",
      "play importer\n",
      "__name__: __main__\n"
     ]
    }
   ],
   "source": [
    "%run importer.py"
   ]
  },
  {
   "cell_type": "markdown",
   "metadata": {
    "slideshow": {
     "slide_type": "fragment"
    }
   },
   "source": [
    "> 실행이 시작되는 스크립트 파일의 `__name__`에는 문자열 `__main__`을 채운다\n",
    "\n",
    "> `import`되는 스크립트 파일의 `__name__`에는 파일 이름을 문자열로 채운다"
   ]
  },
  {
   "cell_type": "code",
   "execution_count": 23,
   "metadata": {
    "slideshow": {
     "slide_type": "subslide"
    }
   },
   "outputs": [],
   "source": [
    "import os\n",
    "\n",
    "os.remove('who_are_you.py')\n",
    "os.remove('importer.py')"
   ]
  },
  {
   "cell_type": "markdown",
   "metadata": {
    "slideshow": {
     "slide_type": "subslide"
    }
   },
   "source": [
    "### `if __name__ == '__main__'`"
   ]
  },
  {
   "cell_type": "markdown",
   "metadata": {
    "slideshow": {
     "slide_type": "fragment"
    }
   },
   "source": [
    "파이썬의 스크립트 파일에 담기는 내용은 다음과 같이 두 가지로 나눌 수 있다\n",
    "\n",
    "   * 직접 실행할 내용이거나,\n",
    "   * 다른 스크립트 파일에서 사용하도록 만든 내용이거나\n",
    "   \n",
    "때에 따라서는 이 둘을 구분하지 않는다"
   ]
  },
  {
   "cell_type": "code",
   "execution_count": null,
   "metadata": {
    "slideshow": {
     "slide_type": "subslide"
    }
   },
   "outputs": [],
   "source": [
    "%%writefile adder.py\n",
    "\n",
    "def add(n1, n2):\n",
    "    return n1 + n2\n",
    "\n",
    "if __name__ == '__main__':\n",
    "    def main():\n",
    "        print(add(3, 4))\n",
    "        print(add(5, 9))\n",
    "        \n",
    "    main()"
   ]
  },
  {
   "cell_type": "code",
   "execution_count": null,
   "metadata": {
    "slideshow": {
     "slide_type": "fragment"
    }
   },
   "outputs": [],
   "source": [
    "%run adder.py"
   ]
  },
  {
   "cell_type": "code",
   "execution_count": null,
   "metadata": {
    "slideshow": {
     "slide_type": "subslide"
    }
   },
   "outputs": [],
   "source": [
    "%%writefile divider.py\n",
    "import adder as ad\n",
    "\n",
    "def divide(n1, n2):\n",
    "    return n1 / n2\n",
    "\n",
    "def main():\n",
    "    print(divide(4, 2))\n",
    "    print(ad.add(2, 3))\n",
    "    \n",
    "main()"
   ]
  },
  {
   "cell_type": "code",
   "execution_count": null,
   "metadata": {
    "slideshow": {
     "slide_type": "fragment"
    }
   },
   "outputs": [],
   "source": [
    "%run divider.py"
   ]
  },
  {
   "cell_type": "code",
   "execution_count": null,
   "metadata": {
    "slideshow": {
     "slide_type": "fragment"
    }
   },
   "outputs": [],
   "source": [
    "os.remove('adder.py')\n",
    "os.remove('divider.py')"
   ]
  }
 ],
 "metadata": {
  "celltoolbar": "Slideshow",
  "kernelspec": {
   "display_name": "Python 3 (ipykernel)",
   "language": "python",
   "name": "python3"
  },
  "language_info": {
   "codemirror_mode": {
    "name": "ipython",
    "version": 3
   },
   "file_extension": ".py",
   "mimetype": "text/x-python",
   "name": "python",
   "nbconvert_exporter": "python",
   "pygments_lexer": "ipython3",
   "version": "3.8.12"
  }
 },
 "nbformat": 4,
 "nbformat_minor": 4
}
