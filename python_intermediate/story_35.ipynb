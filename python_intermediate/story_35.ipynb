{
 "cells": [
  {
   "cell_type": "markdown",
   "metadata": {},
   "source": [
    "## Stroy 35. 컨텍스트 메니저"
   ]
  },
  {
   "cell_type": "markdown",
   "metadata": {},
   "source": [
    "### `__enter__`와 `__exit__` "
   ]
  },
  {
   "cell_type": "code",
   "execution_count": 1,
   "metadata": {},
   "outputs": [],
   "source": [
    "class ContextManager(): \n",
    "    def __init__(self): \n",
    "        print('1: init method called') \n",
    "          \n",
    "    def __enter__(self): \n",
    "        print('2: enter method called') \n",
    "        return self\n",
    "      \n",
    "    def __exit__(self, exc_type, exc_value, exc_traceback):  # the arguments in this method are used to manage exceptions\n",
    "        print('4: exit method called')"
   ]
  },
  {
   "cell_type": "code",
   "execution_count": 2,
   "metadata": {},
   "outputs": [
    {
     "name": "stdout",
     "output_type": "stream",
     "text": [
      "1: init method called\n",
      "2: enter method called\n",
      "3: with statement running\n",
      "4: exit method called\n"
     ]
    }
   ],
   "source": [
    "with ContextManager() as manager: \n",
    "    print('3: with statement running') "
   ]
  },
  {
   "cell_type": "markdown",
   "metadata": {},
   "source": [
    "---"
   ]
  },
  {
   "cell_type": "code",
   "execution_count": 3,
   "metadata": {},
   "outputs": [],
   "source": [
    "# Python program showing file management using context manager \n",
    "  \n",
    "class FileManager():\n",
    "    \n",
    "    def __init__(self, filename, mode): \n",
    "        self.filename = filename \n",
    "        self.mode = mode \n",
    "        self.file = None\n",
    "          \n",
    "    def __enter__(self): \n",
    "        self.file = open(self.filename, self.mode) \n",
    "        return self.file\n",
    "      \n",
    "    def __exit__(self, exc_type, exc_value, exc_traceback): \n",
    "        self.file.close() "
   ]
  },
  {
   "cell_type": "code",
   "execution_count": 4,
   "metadata": {},
   "outputs": [
    {
     "name": "stdout",
     "output_type": "stream",
     "text": [
      "True\n"
     ]
    }
   ],
   "source": [
    " with FileManager('test.txt', 'w') as f: \n",
    "    f.write('Test')\n",
    "\n",
    "print(f.closed) "
   ]
  },
  {
   "cell_type": "code",
   "execution_count": 5,
   "metadata": {},
   "outputs": [],
   "source": [
    "import os\n",
    "\n",
    "os.remove('test.txt')"
   ]
  },
  {
   "cell_type": "markdown",
   "metadata": {},
   "source": [
    "### `@contextmanager`"
   ]
  },
  {
   "cell_type": "code",
   "execution_count": 6,
   "metadata": {},
   "outputs": [],
   "source": [
    "# Python program for creating a context manager using @contextmanager decorator \n",
    "  \n",
    "from contextlib import contextmanager \n",
    "  \n",
    "@contextmanager\n",
    "def ContextManager(): \n",
    "      \n",
    "    # Before yield \n",
    "    print('1: Enter-related method called') \n",
    "    \n",
    "    yield\n",
    "      \n",
    "    # After yield  \n",
    "    print('3: Exit-related method called') "
   ]
  },
  {
   "cell_type": "code",
   "execution_count": 7,
   "metadata": {},
   "outputs": [
    {
     "name": "stdout",
     "output_type": "stream",
     "text": [
      "1: Enter-related method called\n",
      "2: with statement block\n",
      "3: Exit-related method called\n"
     ]
    }
   ],
   "source": [
    "with ContextManager() as manager:  \n",
    "    print('2: with statement block')  "
   ]
  }
 ],
 "metadata": {
  "kernelspec": {
   "display_name": "Python 3",
   "language": "python",
   "name": "python3"
  },
  "language_info": {
   "codemirror_mode": {
    "name": "ipython",
    "version": 3
   },
   "file_extension": ".py",
   "mimetype": "text/x-python",
   "name": "python",
   "nbconvert_exporter": "python",
   "pygments_lexer": "ipython3",
   "version": "3.8.5"
  }
 },
 "nbformat": 4,
 "nbformat_minor": 4
}
