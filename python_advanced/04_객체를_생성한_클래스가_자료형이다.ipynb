{
 "cells": [
  {
   "cell_type": "markdown",
   "id": "acb71e60",
   "metadata": {},
   "source": [
    "# 04 장. 객체를 생성한 클래스가 자료형이다 "
   ]
  },
  {
   "cell_type": "markdown",
   "id": "fa11812b",
   "metadata": {},
   "source": [
    "## 04.1 변수가 객체를 바인딩한 후 자료형 결정 - Dynamic Typing"
   ]
  },
  {
   "cell_type": "code",
   "execution_count": null,
   "id": "92f9b2fe",
   "metadata": {},
   "outputs": [],
   "source": [
    "var = []    # 변수에 빈 리스트 할당 - dynamic typing"
   ]
  },
  {
   "cell_type": "code",
   "execution_count": null,
   "id": "684a39e8",
   "metadata": {},
   "outputs": [],
   "source": [
    "type(var)   # 이 변수가 속한 클래스 확인"
   ]
  },
  {
   "cell_type": "code",
   "execution_count": null,
   "id": "de85695f",
   "metadata": {},
   "outputs": [],
   "source": [
    "var.__class__"
   ]
  },
  {
   "cell_type": "markdown",
   "id": "15e1aff2",
   "metadata": {},
   "source": [
    "---"
   ]
  },
  {
   "cell_type": "code",
   "execution_count": null,
   "id": "cd4db9a5",
   "metadata": {},
   "outputs": [],
   "source": [
    "c = int('100')"
   ]
  },
  {
   "cell_type": "code",
   "execution_count": null,
   "id": "4ce0eeee",
   "metadata": {},
   "outputs": [],
   "source": [
    "type(c)"
   ]
  },
  {
   "cell_type": "code",
   "execution_count": null,
   "id": "bee65637",
   "metadata": {},
   "outputs": [],
   "source": [
    "100 + '100'"
   ]
  },
  {
   "cell_type": "code",
   "execution_count": null,
   "id": "cf81c0c3",
   "metadata": {},
   "outputs": [],
   "source": [
    "100 + int('100')"
   ]
  },
  {
   "cell_type": "markdown",
   "id": "c832333e",
   "metadata": {},
   "source": [
    "---"
   ]
  },
  {
   "cell_type": "code",
   "execution_count": null,
   "id": "c7a97d3e",
   "metadata": {},
   "outputs": [],
   "source": [
    "class A(object):\n",
    "    def func(self):\n",
    "        print('함수 입니다')"
   ]
  },
  {
   "cell_type": "code",
   "execution_count": null,
   "id": "84f0c121",
   "metadata": {},
   "outputs": [],
   "source": [
    "A.func"
   ]
  },
  {
   "cell_type": "code",
   "execution_count": null,
   "id": "78d5d36c",
   "metadata": {},
   "outputs": [],
   "source": [
    "a = A()"
   ]
  },
  {
   "cell_type": "code",
   "execution_count": null,
   "id": "76f12c59",
   "metadata": {},
   "outputs": [],
   "source": [
    "a.func"
   ]
  },
  {
   "cell_type": "markdown",
   "id": "44b996d7",
   "metadata": {},
   "source": [
    "## 04.2. 객체의 원소에 대한 변경 여부 - mutation"
   ]
  },
  {
   "cell_type": "code",
   "execution_count": null,
   "id": "fb9699b4",
   "metadata": {},
   "outputs": [],
   "source": [
    "var = '문자열'"
   ]
  },
  {
   "cell_type": "code",
   "execution_count": null,
   "id": "11e9451c",
   "metadata": {},
   "outputs": [],
   "source": [
    "var[0] = '가'"
   ]
  },
  {
   "cell_type": "code",
   "execution_count": null,
   "id": "c48f04ab",
   "metadata": {},
   "outputs": [],
   "source": [
    "s = var.replace('문', '가')"
   ]
  },
  {
   "cell_type": "code",
   "execution_count": null,
   "id": "9e0799c9",
   "metadata": {},
   "outputs": [],
   "source": [
    "s"
   ]
  },
  {
   "cell_type": "code",
   "execution_count": null,
   "id": "ad6f2a89",
   "metadata": {},
   "outputs": [],
   "source": [
    "var"
   ]
  },
  {
   "cell_type": "markdown",
   "id": "4da4d4d2",
   "metadata": {},
   "source": [
    "---"
   ]
  },
  {
   "cell_type": "code",
   "execution_count": null,
   "id": "a5d3e8ef",
   "metadata": {},
   "outputs": [],
   "source": [
    "l = [1, 2, 3, 4]"
   ]
  },
  {
   "cell_type": "code",
   "execution_count": null,
   "id": "43a7b87f",
   "metadata": {},
   "outputs": [],
   "source": [
    "l"
   ]
  },
  {
   "cell_type": "code",
   "execution_count": null,
   "id": "95633a85",
   "metadata": {},
   "outputs": [],
   "source": [
    "type(l)"
   ]
  },
  {
   "cell_type": "code",
   "execution_count": null,
   "id": "9fec7ba9",
   "metadata": {},
   "outputs": [],
   "source": [
    "l[0] = 100"
   ]
  },
  {
   "cell_type": "code",
   "execution_count": null,
   "id": "9599a13f",
   "metadata": {},
   "outputs": [],
   "source": [
    "l"
   ]
  },
  {
   "cell_type": "code",
   "execution_count": null,
   "id": "50cce4e9",
   "metadata": {},
   "outputs": [],
   "source": [
    "l.__setitem__(0, 999)"
   ]
  },
  {
   "cell_type": "code",
   "execution_count": null,
   "id": "6edb95b7",
   "metadata": {},
   "outputs": [],
   "source": [
    "l"
   ]
  },
  {
   "cell_type": "markdown",
   "id": "7db2ef45",
   "metadata": {},
   "source": [
    "## 04.3. 다른 객체를 생성하는 형 변환(type casting) 알아보기 "
   ]
  },
  {
   "cell_type": "code",
   "execution_count": null,
   "id": "117b171f",
   "metadata": {},
   "outputs": [],
   "source": [
    "s = '100'"
   ]
  },
  {
   "cell_type": "code",
   "execution_count": null,
   "id": "538b411f",
   "metadata": {},
   "outputs": [],
   "source": [
    "i = int(s)"
   ]
  },
  {
   "cell_type": "code",
   "execution_count": null,
   "id": "cc4a2f8d",
   "metadata": {},
   "outputs": [],
   "source": [
    "type(i)"
   ]
  },
  {
   "cell_type": "code",
   "execution_count": null,
   "id": "ef42a0d2",
   "metadata": {},
   "outputs": [],
   "source": [
    "f = float(s)"
   ]
  },
  {
   "cell_type": "code",
   "execution_count": null,
   "id": "1d4f3513",
   "metadata": {},
   "outputs": [],
   "source": [
    "type(f)"
   ]
  },
  {
   "cell_type": "code",
   "execution_count": null,
   "id": "c398c603",
   "metadata": {},
   "outputs": [],
   "source": [
    "s"
   ]
  },
  {
   "cell_type": "markdown",
   "id": "ca7566dc",
   "metadata": {},
   "source": [
    "## 04.4. 변경 가능 여부 정보 확인하기"
   ]
  },
  {
   "cell_type": "code",
   "execution_count": null,
   "id": "e2574b1b",
   "metadata": {},
   "outputs": [],
   "source": [
    "str.__dict__['__getitem__']"
   ]
  },
  {
   "cell_type": "code",
   "execution_count": null,
   "id": "271741e7",
   "metadata": {},
   "outputs": [],
   "source": [
    "str.__dict__['__setitem__']"
   ]
  },
  {
   "cell_type": "code",
   "execution_count": null,
   "id": "185e5343",
   "metadata": {},
   "outputs": [],
   "source": [
    "list.__dict__['__getitem__']"
   ]
  },
  {
   "cell_type": "code",
   "execution_count": null,
   "id": "03c2cb64",
   "metadata": {},
   "outputs": [],
   "source": [
    "list.__dict__['__setitem__']"
   ]
  },
  {
   "cell_type": "code",
   "execution_count": null,
   "id": "e49ec71b",
   "metadata": {},
   "outputs": [],
   "source": [
    "list.__dict__['__delitem__']"
   ]
  },
  {
   "cell_type": "code",
   "execution_count": null,
   "id": "915b1e33",
   "metadata": {},
   "outputs": [],
   "source": [
    "l = [1, 2, 3, 4]"
   ]
  },
  {
   "cell_type": "code",
   "execution_count": null,
   "id": "dc5edcf8",
   "metadata": {},
   "outputs": [],
   "source": [
    "l.__getitem__(0)"
   ]
  },
  {
   "cell_type": "code",
   "execution_count": null,
   "id": "fb6e793d",
   "metadata": {},
   "outputs": [],
   "source": [
    "l.__setitem__(0, 999)"
   ]
  },
  {
   "cell_type": "code",
   "execution_count": null,
   "id": "d7a9ad79",
   "metadata": {},
   "outputs": [],
   "source": [
    "l"
   ]
  },
  {
   "cell_type": "code",
   "execution_count": null,
   "id": "24d5ed43",
   "metadata": {},
   "outputs": [],
   "source": [
    "l[0] = 777"
   ]
  },
  {
   "cell_type": "code",
   "execution_count": null,
   "id": "10f97489",
   "metadata": {},
   "outputs": [],
   "source": [
    "l"
   ]
  }
 ],
 "metadata": {
  "kernelspec": {
   "display_name": "Python 3 (ipykernel)",
   "language": "python",
   "name": "python3"
  },
  "language_info": {
   "codemirror_mode": {
    "name": "ipython",
    "version": 3
   },
   "file_extension": ".py",
   "mimetype": "text/x-python",
   "name": "python",
   "nbconvert_exporter": "python",
   "pygments_lexer": "ipython3",
   "version": "3.8.12"
  }
 },
 "nbformat": 4,
 "nbformat_minor": 5
}
