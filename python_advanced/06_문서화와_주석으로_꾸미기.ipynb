{
 "cells": [
  {
   "cell_type": "markdown",
   "id": "1097cae7",
   "metadata": {},
   "source": [
    "# 06 장. 문서화와 주석으로 꾸미기 "
   ]
  },
  {
   "cell_type": "markdown",
   "id": "cdd8f844",
   "metadata": {},
   "source": [
    "## 06.1. 함수와 클래스의 문서화 - docstring"
   ]
  },
  {
   "cell_type": "code",
   "execution_count": null,
   "id": "2dfbbfb3",
   "metadata": {},
   "outputs": [],
   "source": [
    "import math"
   ]
  },
  {
   "cell_type": "code",
   "execution_count": null,
   "id": "db9737db",
   "metadata": {},
   "outputs": [],
   "source": [
    "print(math.__doc__)"
   ]
  },
  {
   "cell_type": "code",
   "execution_count": null,
   "id": "19c1aa37",
   "metadata": {},
   "outputs": [],
   "source": [
    "%%writefile add.py\n",
    "\"\"\" 이 모듈은 덧셈을 계산하는 함수를 제공합니다. \"\"\"\n",
    "\n",
    "def add(x, y):\n",
    "    return x + y"
   ]
  },
  {
   "cell_type": "code",
   "execution_count": null,
   "id": "2daed55c",
   "metadata": {},
   "outputs": [],
   "source": [
    "import add"
   ]
  },
  {
   "cell_type": "code",
   "execution_count": null,
   "id": "672f7724",
   "metadata": {},
   "outputs": [],
   "source": [
    "print(add.__doc__)"
   ]
  },
  {
   "cell_type": "code",
   "execution_count": null,
   "id": "c79d834c",
   "metadata": {},
   "outputs": [],
   "source": [
    "import os\n",
    "\n",
    "os.remove('add.py')"
   ]
  },
  {
   "cell_type": "markdown",
   "id": "ecd051c2",
   "metadata": {},
   "source": [
    "---"
   ]
  },
  {
   "cell_type": "code",
   "execution_count": null,
   "id": "54246c0b",
   "metadata": {},
   "outputs": [],
   "source": [
    "def func(x, y):\n",
    "       \n",
    "    \"\"\" 첫 번째 매개변수 체크 \"\"\"\n",
    "    if not isinstance(x, int):\n",
    "        raise TypeError('x - 정수가 아님')\n",
    "    \n",
    "    \"\"\" 두 번째 매개변수 체크 \"\"\"\n",
    "    if not isinstance(y, int):\n",
    "        raise TypeError('y - 정수가 아님')\n",
    "        \n",
    "    return x + y"
   ]
  },
  {
   "cell_type": "code",
   "execution_count": null,
   "id": "75dedeec",
   "metadata": {},
   "outputs": [],
   "source": [
    "func(10, 10)"
   ]
  },
  {
   "cell_type": "code",
   "execution_count": null,
   "id": "a1d13c87",
   "metadata": {},
   "outputs": [],
   "source": [
    "func.__doc__"
   ]
  },
  {
   "cell_type": "markdown",
   "id": "bb5fb517",
   "metadata": {},
   "source": [
    "## 06.2. 문장을 설명하는 주석 - comments"
   ]
  },
  {
   "cell_type": "code",
   "execution_count": null,
   "id": "59da0331",
   "metadata": {},
   "outputs": [],
   "source": [
    "%%writefile math_.py\n",
    "\"\"\" 이 모듈은 기존 수학 모듈을 이용해서 추가로 구성된 모듈입니다. \"\"\"\n",
    "\n",
    "# math 모듈을 import합니다.\n",
    "import math\n",
    "\n",
    "# 모듈 내의 변수에 기존 모듈을 할당합니다.\n",
    "math_ = math"
   ]
  },
  {
   "cell_type": "code",
   "execution_count": null,
   "id": "9865fa72",
   "metadata": {},
   "outputs": [],
   "source": [
    "import math_"
   ]
  },
  {
   "cell_type": "code",
   "execution_count": null,
   "id": "3d312279",
   "metadata": {},
   "outputs": [],
   "source": [
    "b = math_.math_.fsum.__doc__"
   ]
  },
  {
   "cell_type": "code",
   "execution_count": null,
   "id": "55adde1d",
   "metadata": {},
   "outputs": [],
   "source": [
    "print(b)"
   ]
  },
  {
   "cell_type": "code",
   "execution_count": null,
   "id": "3086c94d",
   "metadata": {},
   "outputs": [],
   "source": [
    "math_.math_.fsum([1, 2, 3, 4])"
   ]
  },
  {
   "cell_type": "markdown",
   "id": "50c36235",
   "metadata": {},
   "source": [
    "---"
   ]
  },
  {
   "cell_type": "code",
   "execution_count": null,
   "id": "2ffdc62f",
   "metadata": {},
   "outputs": [],
   "source": [
    "%%writefile fibo.py\n",
    "# 피보나치를 처리하는 모듈입니다.\n",
    "\n",
    "def fib(n):\n",
    "    a, b = 0, 1\n",
    "    while a < n:\n",
    "        print(a, end=' ')\n",
    "        a, b = b, a + b\n",
    "        \n",
    "def fib2(n):\n",
    "    result = []\n",
    "    a, b = 0, 1\n",
    "    while a < n:\n",
    "        result.append(a)\n",
    "        a, b = b, a + b\n",
    "    return result"
   ]
  },
  {
   "cell_type": "code",
   "execution_count": null,
   "id": "cb2c98ec",
   "metadata": {},
   "outputs": [],
   "source": [
    "import fibo"
   ]
  },
  {
   "cell_type": "code",
   "execution_count": null,
   "id": "665ec212",
   "metadata": {},
   "outputs": [],
   "source": [
    "fibo.__doc__"
   ]
  },
  {
   "cell_type": "code",
   "execution_count": null,
   "id": "b5dea157",
   "metadata": {},
   "outputs": [],
   "source": [
    "fibo.fib(10)"
   ]
  },
  {
   "cell_type": "code",
   "execution_count": null,
   "id": "e9fe04e5",
   "metadata": {},
   "outputs": [],
   "source": [
    "fibo.fib2(10)"
   ]
  },
  {
   "cell_type": "code",
   "execution_count": null,
   "id": "4a0b88b6",
   "metadata": {},
   "outputs": [],
   "source": [
    "# %load fibo.py\n",
    "# 피보나치를 처리하는 모듈입니다.\n",
    "\n",
    "def fib(n):\n",
    "    a, b = 0, 1\n",
    "    while a < n:\n",
    "        print(a, end=' ')\n",
    "        a, b = b, a + b\n",
    "        \n",
    "def fib2(n):\n",
    "    result = []\n",
    "    a, b = 0, 1\n",
    "    while a < n:\n",
    "        result.append(a)\n",
    "        a, b = b, a + b\n",
    "    return result\n"
   ]
  },
  {
   "cell_type": "code",
   "execution_count": null,
   "id": "84715299",
   "metadata": {},
   "outputs": [],
   "source": [
    "os.remove('math_.py')\n",
    "os.remove('fibo.py')"
   ]
  },
  {
   "cell_type": "markdown",
   "id": "09ab39e9",
   "metadata": {},
   "source": [
    "## 06.3. 변수에 타입 힌트(type hint) 사용하기"
   ]
  },
  {
   "cell_type": "code",
   "execution_count": null,
   "id": "c8c385ac",
   "metadata": {},
   "outputs": [],
   "source": [
    "x : int"
   ]
  },
  {
   "cell_type": "code",
   "execution_count": null,
   "id": "83826f51",
   "metadata": {},
   "outputs": [],
   "source": [
    "try:\n",
    "    print(x) \n",
    "except Exception as e:\n",
    "    print(e)"
   ]
  },
  {
   "cell_type": "code",
   "execution_count": null,
   "id": "4b3fceb0",
   "metadata": {},
   "outputs": [],
   "source": [
    "y : int\n",
    "y = 100"
   ]
  },
  {
   "cell_type": "code",
   "execution_count": null,
   "id": "596e5063",
   "metadata": {},
   "outputs": [],
   "source": [
    "try:\n",
    "    print(y)\n",
    "except Exception as e:\n",
    "    print(e)"
   ]
  },
  {
   "cell_type": "code",
   "execution_count": null,
   "id": "9dfed369",
   "metadata": {},
   "outputs": [],
   "source": [
    "globals()['__annotations__']"
   ]
  },
  {
   "cell_type": "markdown",
   "id": "629d311b",
   "metadata": {},
   "source": [
    "---"
   ]
  },
  {
   "cell_type": "code",
   "execution_count": null,
   "id": "83b85288",
   "metadata": {},
   "outputs": [],
   "source": [
    "def add(x, y):\n",
    "    z : int\n",
    "    z = x + y\n",
    "    return z"
   ]
  },
  {
   "cell_type": "code",
   "execution_count": null,
   "id": "f82ab31b",
   "metadata": {},
   "outputs": [],
   "source": [
    "add(10, 10)"
   ]
  },
  {
   "cell_type": "code",
   "execution_count": null,
   "id": "71e1ca7d",
   "metadata": {},
   "outputs": [],
   "source": [
    "add.__annotations__"
   ]
  },
  {
   "cell_type": "code",
   "execution_count": null,
   "id": "d286a2ec",
   "metadata": {},
   "outputs": [],
   "source": [
    "def add(x : int, y : int):\n",
    "    z : int\n",
    "    z = x + y\n",
    "    return z"
   ]
  },
  {
   "cell_type": "code",
   "execution_count": null,
   "id": "90a3de29",
   "metadata": {},
   "outputs": [],
   "source": [
    "add.__annotations__"
   ]
  }
 ],
 "metadata": {
  "kernelspec": {
   "display_name": "Python 3 (ipykernel)",
   "language": "python",
   "name": "python3"
  },
  "language_info": {
   "codemirror_mode": {
    "name": "ipython",
    "version": 3
   },
   "file_extension": ".py",
   "mimetype": "text/x-python",
   "name": "python",
   "nbconvert_exporter": "python",
   "pygments_lexer": "ipython3",
   "version": "3.8.12"
  }
 },
 "nbformat": 4,
 "nbformat_minor": 5
}
