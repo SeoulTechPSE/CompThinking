{
 "cells": [
  {
   "cell_type": "markdown",
   "id": "31b4c91f",
   "metadata": {},
   "source": [
    "# 03 장. 표현식과 문장을 평가한다"
   ]
  },
  {
   "cell_type": "markdown",
   "id": "4fecf049",
   "metadata": {},
   "source": [
    "## 03.1. 즉시 실행해서 결과 알아보기 - Eager/Greedy Evaluation"
   ]
  },
  {
   "cell_type": "code",
   "execution_count": null,
   "id": "b69a9452",
   "metadata": {},
   "outputs": [],
   "source": [
    "a = b = c = d = 5"
   ]
  },
  {
   "cell_type": "code",
   "execution_count": null,
   "id": "816231dc",
   "metadata": {},
   "outputs": [],
   "source": [
    "a + b + c + d"
   ]
  },
  {
   "cell_type": "code",
   "execution_count": null,
   "id": "077e4175",
   "metadata": {},
   "outputs": [],
   "source": [
    "a.__add__(b).__add__(c).__add__(d)"
   ]
  },
  {
   "cell_type": "markdown",
   "id": "74315b5c",
   "metadata": {},
   "source": [
    "---"
   ]
  },
  {
   "cell_type": "code",
   "execution_count": null,
   "id": "546ee272",
   "metadata": {},
   "outputs": [],
   "source": [
    "e = '100 + 100'"
   ]
  },
  {
   "cell_type": "code",
   "execution_count": null,
   "id": "386d05b2",
   "metadata": {},
   "outputs": [],
   "source": [
    "eval(e)"
   ]
  },
  {
   "cell_type": "code",
   "execution_count": null,
   "id": "9575daff",
   "metadata": {},
   "outputs": [],
   "source": [
    "100 + 100"
   ]
  },
  {
   "cell_type": "markdown",
   "id": "8b6607e3",
   "metadata": {},
   "source": [
    "---"
   ]
  },
  {
   "cell_type": "code",
   "execution_count": null,
   "id": "42437e3a",
   "metadata": {},
   "outputs": [],
   "source": [
    "s = \"\"\"\n",
    "def add_(x, y):\n",
    "    return x + y\n",
    "\"\"\""
   ]
  },
  {
   "cell_type": "code",
   "execution_count": null,
   "id": "6635ae8d",
   "metadata": {},
   "outputs": [],
   "source": [
    "exec(s)"
   ]
  },
  {
   "cell_type": "code",
   "execution_count": null,
   "id": "ec522d99",
   "metadata": {},
   "outputs": [],
   "source": [
    "add_(10, 10)"
   ]
  },
  {
   "cell_type": "markdown",
   "id": "a46d204d",
   "metadata": {},
   "source": [
    "## 03.2. 특정 객체를 만든 후에 실행하기 - Lazy Evaluation"
   ]
  },
  {
   "cell_type": "code",
   "execution_count": null,
   "id": "f3fbe484",
   "metadata": {},
   "outputs": [],
   "source": [
    "r = range(5)  # range 클래스로 객체를 만들어서 변수에 할당"
   ]
  },
  {
   "cell_type": "code",
   "execution_count": null,
   "id": "96b742f9",
   "metadata": {},
   "outputs": [],
   "source": [
    "r             # 변수를 참조하면 range 객체를 조회"
   ]
  },
  {
   "cell_type": "code",
   "execution_count": null,
   "id": "49cee713",
   "metadata": {},
   "outputs": [],
   "source": [
    "for i in r:\n",
    "    print(i)"
   ]
  },
  {
   "cell_type": "markdown",
   "id": "1dccf629",
   "metadata": {},
   "source": [
    "## 03.3. 문자열에 수식을 넣고 계산하기"
   ]
  },
  {
   "cell_type": "code",
   "execution_count": null,
   "id": "522d6c24",
   "metadata": {},
   "outputs": [],
   "source": [
    "x = 100"
   ]
  },
  {
   "cell_type": "code",
   "execution_count": null,
   "id": "d2a36a3d",
   "metadata": {},
   "outputs": [],
   "source": [
    "y = '2 * x**2 + 4'"
   ]
  },
  {
   "cell_type": "code",
   "execution_count": null,
   "id": "3ae88625",
   "metadata": {},
   "outputs": [],
   "source": [
    "eval(y)"
   ]
  },
  {
   "cell_type": "markdown",
   "id": "b556bd6a",
   "metadata": {},
   "source": [
    "---"
   ]
  },
  {
   "cell_type": "code",
   "execution_count": null,
   "id": "16cb5513",
   "metadata": {},
   "outputs": [],
   "source": [
    "z = 'y1 = 2 * x**2 + 4'"
   ]
  },
  {
   "cell_type": "code",
   "execution_count": null,
   "id": "05cf835c",
   "metadata": {},
   "outputs": [],
   "source": [
    "exec(z)"
   ]
  },
  {
   "cell_type": "code",
   "execution_count": null,
   "id": "f893da9a",
   "metadata": {},
   "outputs": [],
   "source": [
    "globals()['y1']"
   ]
  },
  {
   "cell_type": "code",
   "execution_count": null,
   "id": "9a44aa0d",
   "metadata": {},
   "outputs": [],
   "source": [
    "y1"
   ]
  }
 ],
 "metadata": {
  "kernelspec": {
   "display_name": "Python 3 (ipykernel)",
   "language": "python",
   "name": "python3"
  },
  "language_info": {
   "codemirror_mode": {
    "name": "ipython",
    "version": 3
   },
   "file_extension": ".py",
   "mimetype": "text/x-python",
   "name": "python",
   "nbconvert_exporter": "python",
   "pygments_lexer": "ipython3",
   "version": "3.8.12"
  }
 },
 "nbformat": 4,
 "nbformat_minor": 5
}
