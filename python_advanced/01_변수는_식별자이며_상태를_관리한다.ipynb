{
 "cells": [
  {
   "cell_type": "markdown",
   "id": "a8360af4",
   "metadata": {},
   "source": [
    "# 01 장. 변수는 식별자이며, 상태를 관리한다"
   ]
  },
  {
   "cell_type": "markdown",
   "id": "953ade5c",
   "metadata": {},
   "source": [
    "## 01.1. 문법 규칙에 사용하는 예약어(keyword)"
   ]
  },
  {
   "cell_type": "code",
   "execution_count": 1,
   "id": "1a740192",
   "metadata": {},
   "outputs": [
    {
     "data": {
      "text/plain": [
       "sys.version_info(major=3, minor=8, micro=12, releaselevel='final', serial=0)"
      ]
     },
     "execution_count": 1,
     "metadata": {},
     "output_type": "execute_result"
    }
   ],
   "source": [
    "import sys\n",
    "\n",
    "sys.version_info"
   ]
  },
  {
   "cell_type": "code",
   "execution_count": 2,
   "id": "5177bdbb",
   "metadata": {},
   "outputs": [
    {
     "data": {
      "text/plain": [
       "35"
      ]
     },
     "execution_count": 2,
     "metadata": {},
     "output_type": "execute_result"
    }
   ],
   "source": [
    "import keyword\n",
    "\n",
    "len(keyword.kwlist)"
   ]
  },
  {
   "cell_type": "code",
   "execution_count": 3,
   "id": "80cd3b67",
   "metadata": {},
   "outputs": [
    {
     "data": {
      "text/plain": [
       "list"
      ]
     },
     "execution_count": 3,
     "metadata": {},
     "output_type": "execute_result"
    }
   ],
   "source": [
    "type(keyword.kwlist)"
   ]
  },
  {
   "cell_type": "code",
   "execution_count": 4,
   "id": "5fcb308d",
   "metadata": {},
   "outputs": [
    {
     "name": "stdout",
     "output_type": "stream",
     "text": [
      "False      None       True       and        as         \n",
      "assert     async      await      break      class      \n",
      "continue   def        del        elif       else       \n",
      "except     finally    for        from       global     \n",
      "if         import     in         is         lambda     \n",
      "nonlocal   not        or         pass       raise      \n",
      "return     try        while      with       yield      \n"
     ]
    }
   ],
   "source": [
    "def print_elements(collection, column=5):\n",
    "    for i, element in enumerate(collection, 1):\n",
    "        print(f'{element:10}', end= ' ')\n",
    "        if not(i % column): print()\n",
    "            \n",
    "print_elements(keyword.kwlist)"
   ]
  },
  {
   "cell_type": "markdown",
   "id": "a106b678",
   "metadata": {},
   "source": [
    "---"
   ]
  },
  {
   "cell_type": "code",
   "execution_count": 5,
   "id": "4d27723a",
   "metadata": {},
   "outputs": [
    {
     "ename": "SyntaxError",
     "evalue": "invalid syntax (2974327018.py, line 1)",
     "output_type": "error",
     "traceback": [
      "\u001b[0;36m  Input \u001b[0;32mIn [5]\u001b[0;36m\u001b[0m\n\u001b[0;31m    if = 100\u001b[0m\n\u001b[0m       ^\u001b[0m\n\u001b[0;31mSyntaxError\u001b[0m\u001b[0;31m:\u001b[0m invalid syntax\n"
     ]
    }
   ],
   "source": [
    "if = 100"
   ]
  },
  {
   "cell_type": "code",
   "execution_count": 6,
   "id": "65a759f4",
   "metadata": {},
   "outputs": [
    {
     "ename": "SyntaxError",
     "evalue": "invalid syntax (2527840010.py, line 1)",
     "output_type": "error",
     "traceback": [
      "\u001b[0;36m  Input \u001b[0;32mIn [6]\u001b[0;36m\u001b[0m\n\u001b[0;31m    in = 100\u001b[0m\n\u001b[0m    ^\u001b[0m\n\u001b[0;31mSyntaxError\u001b[0m\u001b[0;31m:\u001b[0m invalid syntax\n"
     ]
    }
   ],
   "source": [
    "in = 100"
   ]
  },
  {
   "cell_type": "markdown",
   "id": "9db20005",
   "metadata": {},
   "source": [
    "## 01.2. 변수 이름을 짓는 문자열 알아보기"
   ]
  },
  {
   "cell_type": "code",
   "execution_count": 7,
   "id": "0873d76a",
   "metadata": {},
   "outputs": [],
   "source": [
    "import string"
   ]
  },
  {
   "cell_type": "code",
   "execution_count": 8,
   "id": "4d098302",
   "metadata": {},
   "outputs": [
    {
     "name": "stdout",
     "output_type": "stream",
     "text": [
      "Formatter  \n",
      "Template   \n",
      "_ChainMap  \n",
      "_TemplateMetaclass \n",
      "__all__    \n",
      "__builtins__ \n",
      "__cached__ \n",
      "__doc__    \n",
      "__file__   \n",
      "__loader__ \n",
      "__name__   \n",
      "__package__ \n",
      "__spec__   \n",
      "_re        \n",
      "_sentinel_dict \n",
      "_string    \n",
      "ascii_letters \n",
      "ascii_lowercase \n",
      "ascii_uppercase \n",
      "capwords   \n",
      "digits     \n",
      "hexdigits  \n",
      "octdigits  \n",
      "printable  \n",
      "punctuation \n",
      "whitespace \n"
     ]
    }
   ],
   "source": [
    "print_elements(dir(string), 1)"
   ]
  },
  {
   "cell_type": "code",
   "execution_count": 9,
   "id": "21025bb2",
   "metadata": {},
   "outputs": [
    {
     "data": {
      "text/plain": [
       "'abcdefghijklmnopqrstuvwxyzABCDEFGHIJKLMNOPQRSTUVWXYZ'"
      ]
     },
     "execution_count": 9,
     "metadata": {},
     "output_type": "execute_result"
    }
   ],
   "source": [
    "string.ascii_letters"
   ]
  },
  {
   "cell_type": "code",
   "execution_count": 10,
   "id": "10d1f246",
   "metadata": {},
   "outputs": [
    {
     "data": {
      "text/plain": [
       "'0123456789'"
      ]
     },
     "execution_count": 10,
     "metadata": {},
     "output_type": "execute_result"
    }
   ],
   "source": [
    "string.digits"
   ]
  },
  {
   "cell_type": "code",
   "execution_count": 11,
   "id": "c3778355",
   "metadata": {},
   "outputs": [
    {
     "data": {
      "text/plain": [
       "'!\"#$%&\\'()*+,-./:;<=>?@[\\\\]^_`{|}~'"
      ]
     },
     "execution_count": 11,
     "metadata": {},
     "output_type": "execute_result"
    }
   ],
   "source": [
    "string.punctuation"
   ]
  },
  {
   "cell_type": "code",
   "execution_count": 12,
   "id": "d0ac35ce",
   "metadata": {},
   "outputs": [
    {
     "data": {
      "text/plain": [
       "' \\t\\n\\r\\x0b\\x0c'"
      ]
     },
     "execution_count": 12,
     "metadata": {},
     "output_type": "execute_result"
    }
   ],
   "source": [
    "string.whitespace"
   ]
  },
  {
   "cell_type": "markdown",
   "id": "6aab1027",
   "metadata": {},
   "source": [
    "## 01.3. 변수(variable) 이름 정의 규칙"
   ]
  },
  {
   "cell_type": "markdown",
   "id": "8cc85d55",
   "metadata": {},
   "source": [
    "파이썬에서는 변수 이름을 지을 때 숫자를 제외한 문자와 밑줄을 이름의 첫 글자로 쓴다. 그 다음부터는 숫자, 문자, 밑줄을 섞어서 사용해도 된다\n",
    "\n",
    "* 함수, 객체, 변수 이름의 첫 글자는 소문자를 사용한다\n",
    "* 함수, 객체, 변수 이름을 두 단어 이상으로 쓸 때는 단어 사이를 (`_`)로 연결한다\n",
    "* 예약어와 같은 이름의 변수 이름을 사용하려면 예약어 뒤에 밑줄을 붙인다\n",
    "* 클래스 이름의 첫 글자는 대문자를 사용한다\n",
    "* 클래스 이름을 두 단어 이상으로 쓸 때는 두 번째 이후 단어의 첫 글자를 대문자 하여 연결한다(camelcase)\n",
    "* 클래스나 객체 내의 보호 속성을 정의할 때는 첫 글자를 밑줄(`_`)부터 시작한다(보호 속성은 클래스와 객체 외부에서 속성에 직접 접근해서 사용하지 않도록 주의하라는 뜻이다)\n",
    "* 클래스나 객체의 비공개 속성은 외부에서 직접 접근할 수 없게 이름을 변경하는 맹글링(mangling) 처리 방식을 사용한다. 이름 앞에 `__`(double underscore)를 붙이면 자동으로 `_`클래스 이름이 붙여진다\n",
    "* 파이썬 내부에서만 사용되는 스페셜 속성이나 메소드는 이름 양쪽에 `__`를 붙여 사용한다"
   ]
  },
  {
   "cell_type": "code",
   "execution_count": 13,
   "id": "fdd3ead1",
   "metadata": {},
   "outputs": [
    {
     "data": {
      "text/plain": [
       "(100, 100, 100)"
      ]
     },
     "execution_count": 13,
     "metadata": {},
     "output_type": "execute_result"
    }
   ],
   "source": [
    "var = 100\n",
    "_var = 100\n",
    "__var = 100\n",
    "\n",
    "var, _var, __var"
   ]
  },
  {
   "cell_type": "code",
   "execution_count": 14,
   "id": "6625f015",
   "metadata": {},
   "outputs": [
    {
     "data": {
      "text/plain": [
       "(100, 100)"
      ]
     },
     "execution_count": 14,
     "metadata": {},
     "output_type": "execute_result"
    }
   ],
   "source": [
    "var_ = 100\n",
    "var__ = 100\n",
    "\n",
    "var_, var__"
   ]
  },
  {
   "cell_type": "code",
   "execution_count": 15,
   "id": "3fd1e7ac",
   "metadata": {},
   "outputs": [
    {
     "data": {
      "text/plain": [
       "100"
      ]
     },
     "execution_count": 15,
     "metadata": {},
     "output_type": "execute_result"
    }
   ],
   "source": [
    "__var__ = 100\n",
    "\n",
    "__var__"
   ]
  },
  {
   "cell_type": "code",
   "execution_count": 16,
   "id": "b7cba21c",
   "metadata": {},
   "outputs": [
    {
     "data": {
      "text/plain": [
       "100"
      ]
     },
     "execution_count": 16,
     "metadata": {},
     "output_type": "execute_result"
    }
   ],
   "source": [
    "변수명 = 100\n",
    "\n",
    "변수명"
   ]
  },
  {
   "cell_type": "markdown",
   "id": "ce71ea6b",
   "metadata": {},
   "source": [
    "---"
   ]
  },
  {
   "cell_type": "code",
   "execution_count": 17,
   "id": "7f477da6",
   "metadata": {},
   "outputs": [
    {
     "ename": "SyntaxError",
     "evalue": "invalid decimal literal (2541786291.py, line 1)",
     "output_type": "error",
     "traceback": [
      "\u001b[0;36m  Input \u001b[0;32mIn [17]\u001b[0;36m\u001b[0m\n\u001b[0;31m    9_var = 100\u001b[0m\n\u001b[0m     ^\u001b[0m\n\u001b[0;31mSyntaxError\u001b[0m\u001b[0;31m:\u001b[0m invalid decimal literal\n"
     ]
    }
   ],
   "source": [
    "9_var = 100"
   ]
  },
  {
   "cell_type": "markdown",
   "id": "8718ee2c",
   "metadata": {},
   "source": [
    "## 01.4. 내장 이름공간(builtin namespace)과 전역 이름공간(global namespace)"
   ]
  },
  {
   "cell_type": "code",
   "execution_count": 18,
   "id": "e1513184",
   "metadata": {},
   "outputs": [
    {
     "data": {
      "text/plain": [
       "<module 'builtins' (built-in)>"
      ]
     },
     "execution_count": 18,
     "metadata": {},
     "output_type": "execute_result"
    }
   ],
   "source": [
    "__builtins__"
   ]
  },
  {
   "cell_type": "code",
   "execution_count": 19,
   "id": "47cdd9ba",
   "metadata": {},
   "outputs": [
    {
     "data": {
      "text/plain": [
       "<function globals()>"
      ]
     },
     "execution_count": 19,
     "metadata": {},
     "output_type": "execute_result"
    }
   ],
   "source": [
    "__builtins__.globals"
   ]
  },
  {
   "cell_type": "code",
   "execution_count": 20,
   "id": "40246e27",
   "metadata": {},
   "outputs": [],
   "source": [
    "i = 100"
   ]
  },
  {
   "cell_type": "code",
   "execution_count": 21,
   "id": "0302ce3e",
   "metadata": {},
   "outputs": [
    {
     "data": {
      "text/plain": [
       "100"
      ]
     },
     "execution_count": 21,
     "metadata": {},
     "output_type": "execute_result"
    }
   ],
   "source": [
    "globals()['i']"
   ]
  },
  {
   "cell_type": "code",
   "execution_count": 22,
   "id": "2b91390c",
   "metadata": {},
   "outputs": [
    {
     "data": {
      "text/plain": [
       "<function vars>"
      ]
     },
     "execution_count": 22,
     "metadata": {},
     "output_type": "execute_result"
    }
   ],
   "source": [
    "__builtins__.vars"
   ]
  },
  {
   "cell_type": "code",
   "execution_count": 23,
   "id": "ba834fb9",
   "metadata": {},
   "outputs": [
    {
     "data": {
      "text/plain": [
       "100"
      ]
     },
     "execution_count": 23,
     "metadata": {},
     "output_type": "execute_result"
    }
   ],
   "source": [
    "vars()['i']"
   ]
  },
  {
   "cell_type": "markdown",
   "id": "56f39d26",
   "metadata": {},
   "source": [
    "---"
   ]
  },
  {
   "cell_type": "code",
   "execution_count": 24,
   "id": "c8dbf8ab",
   "metadata": {},
   "outputs": [],
   "source": [
    "def add(x, y):\n",
    "    return x + y"
   ]
  },
  {
   "cell_type": "code",
   "execution_count": 25,
   "id": "9ba835e2",
   "metadata": {},
   "outputs": [
    {
     "data": {
      "text/plain": [
       "<function __main__.add(x, y)>"
      ]
     },
     "execution_count": 25,
     "metadata": {},
     "output_type": "execute_result"
    }
   ],
   "source": [
    "globals()['add']"
   ]
  },
  {
   "cell_type": "code",
   "execution_count": 26,
   "id": "231641a8",
   "metadata": {},
   "outputs": [
    {
     "data": {
      "text/plain": [
       "100"
      ]
     },
     "execution_count": 26,
     "metadata": {},
     "output_type": "execute_result"
    }
   ],
   "source": [
    "add.__globals__['i']"
   ]
  },
  {
   "cell_type": "code",
   "execution_count": 27,
   "id": "6335646a",
   "metadata": {},
   "outputs": [
    {
     "data": {
      "text/plain": [
       "dict"
      ]
     },
     "execution_count": 27,
     "metadata": {},
     "output_type": "execute_result"
    }
   ],
   "source": [
    "type(globals())"
   ]
  },
  {
   "cell_type": "code",
   "execution_count": 28,
   "id": "4ea543d7",
   "metadata": {},
   "outputs": [
    {
     "data": {
      "text/plain": [
       "dict"
      ]
     },
     "execution_count": 28,
     "metadata": {},
     "output_type": "execute_result"
    }
   ],
   "source": [
    "type(add.__globals__)"
   ]
  },
  {
   "cell_type": "code",
   "execution_count": 29,
   "id": "f7363578",
   "metadata": {},
   "outputs": [
    {
     "data": {
      "text/plain": [
       "True"
      ]
     },
     "execution_count": 29,
     "metadata": {},
     "output_type": "execute_result"
    }
   ],
   "source": [
    "add.__globals__ is globals()"
   ]
  }
 ],
 "metadata": {
  "kernelspec": {
   "display_name": "Python 3 (ipykernel)",
   "language": "python",
   "name": "python3"
  },
  "language_info": {
   "codemirror_mode": {
    "name": "ipython",
    "version": 3
   },
   "file_extension": ".py",
   "mimetype": "text/x-python",
   "name": "python",
   "nbconvert_exporter": "python",
   "pygments_lexer": "ipython3",
   "version": "3.8.12"
  }
 },
 "nbformat": 4,
 "nbformat_minor": 5
}
