{
 "cells": [
  {
   "cell_type": "markdown",
   "id": "7f0d05d1",
   "metadata": {},
   "source": [
    "# 05 장. 문장 꾸미기 "
   ]
  },
  {
   "cell_type": "markdown",
   "id": "5dc3b530",
   "metadata": {},
   "source": [
    "## 05.1. 블록 문장의 줄 들여쓰기 - Lines and Indentation"
   ]
  },
  {
   "cell_type": "code",
   "execution_count": null,
   "id": "37f4e3b1",
   "metadata": {},
   "outputs": [],
   "source": [
    "for i in range(10):\n",
    "print(i)"
   ]
  },
  {
   "cell_type": "code",
   "execution_count": null,
   "id": "5f6f1a1f",
   "metadata": {},
   "outputs": [],
   "source": [
    "def func():\n",
    "pass"
   ]
  },
  {
   "cell_type": "code",
   "execution_count": null,
   "id": "0cf6b00d",
   "metadata": {},
   "outputs": [],
   "source": [
    "def func():\n",
    "   print('func')"
   ]
  },
  {
   "cell_type": "code",
   "execution_count": null,
   "id": "bbf14b57",
   "metadata": {},
   "outputs": [],
   "source": [
    "func()"
   ]
  },
  {
   "cell_type": "markdown",
   "id": "e936b63f",
   "metadata": {},
   "source": [
    "## 05.2. 멀티 라인 문"
   ]
  },
  {
   "cell_type": "code",
   "execution_count": null,
   "id": "13d79fbb",
   "metadata": {},
   "outputs": [],
   "source": [
    "a = 100 +\n",
    "    200 +\n",
    "    300 "
   ]
  },
  {
   "cell_type": "code",
   "execution_count": null,
   "id": "2ed005b8",
   "metadata": {},
   "outputs": [],
   "source": [
    "a = 100 + \\\n",
    "    200 + \\\n",
    "    300"
   ]
  },
  {
   "cell_type": "code",
   "execution_count": null,
   "id": "1b9af82b",
   "metadata": {},
   "outputs": [],
   "source": [
    "a"
   ]
  },
  {
   "cell_type": "code",
   "execution_count": null,
   "id": "2335b318",
   "metadata": {},
   "outputs": [],
   "source": [
    "b = (100 +\n",
    "     200 +\n",
    "     300)"
   ]
  },
  {
   "cell_type": "code",
   "execution_count": null,
   "id": "ff7890c1",
   "metadata": {},
   "outputs": [],
   "source": [
    "b"
   ]
  },
  {
   "cell_type": "code",
   "execution_count": null,
   "id": "5ac95885",
   "metadata": {},
   "outputs": [],
   "source": [
    "t = (1, 2, 3, 4,\n",
    "    5)"
   ]
  },
  {
   "cell_type": "code",
   "execution_count": null,
   "id": "f88e75e7",
   "metadata": {},
   "outputs": [],
   "source": [
    "t"
   ]
  },
  {
   "cell_type": "code",
   "execution_count": null,
   "id": "01f9b116",
   "metadata": {},
   "outputs": [],
   "source": [
    "l = [1, 2, 3, 4,\n",
    "    5]"
   ]
  },
  {
   "cell_type": "code",
   "execution_count": null,
   "id": "9bc84292",
   "metadata": {},
   "outputs": [],
   "source": [
    "l"
   ]
  },
  {
   "cell_type": "code",
   "execution_count": null,
   "id": "4743b08b",
   "metadata": {},
   "outputs": [],
   "source": [
    "s = \"\"\"\n",
    "hello, world\n",
    "\"\"\""
   ]
  },
  {
   "cell_type": "code",
   "execution_count": null,
   "id": "db44f8e6",
   "metadata": {},
   "outputs": [],
   "source": [
    "s"
   ]
  },
  {
   "cell_type": "code",
   "execution_count": null,
   "id": "aeac7afa",
   "metadata": {},
   "outputs": [],
   "source": [
    "d = {'a': 10,\n",
    "     'b': 11}"
   ]
  },
  {
   "cell_type": "code",
   "execution_count": null,
   "id": "a1323d0b",
   "metadata": {},
   "outputs": [],
   "source": [
    "d"
   ]
  },
  {
   "cell_type": "code",
   "execution_count": null,
   "id": "2ae692df",
   "metadata": {},
   "outputs": [],
   "source": [
    "st = {1, 2, 3,\n",
    "     4}"
   ]
  },
  {
   "cell_type": "code",
   "execution_count": null,
   "id": "a9a696ed",
   "metadata": {},
   "outputs": [],
   "source": [
    "st"
   ]
  },
  {
   "cell_type": "markdown",
   "id": "1775c95d",
   "metadata": {},
   "source": [
    "## 05.3. 여러 문장을 한 줄에 작성하기 "
   ]
  },
  {
   "cell_type": "code",
   "execution_count": null,
   "id": "a31a7c94",
   "metadata": {},
   "outputs": [],
   "source": [
    "a = 10; b = 20; c = 30"
   ]
  },
  {
   "cell_type": "code",
   "execution_count": null,
   "id": "873cd859",
   "metadata": {},
   "outputs": [],
   "source": [
    "a, b, c"
   ]
  },
  {
   "cell_type": "code",
   "execution_count": null,
   "id": "6af9d13d",
   "metadata": {},
   "outputs": [],
   "source": [
    "for i in range(3): print(i); print('Hello')"
   ]
  },
  {
   "cell_type": "code",
   "execution_count": null,
   "id": "df3a37a3",
   "metadata": {},
   "outputs": [],
   "source": [
    "if a < b: print(c); print('Hello')"
   ]
  },
  {
   "cell_type": "code",
   "execution_count": null,
   "id": "c79547ed",
   "metadata": {},
   "outputs": [],
   "source": [
    "if a > b: print(c); else: print('Hello')"
   ]
  },
  {
   "cell_type": "code",
   "execution_count": null,
   "id": "d8ee97ec",
   "metadata": {},
   "outputs": [],
   "source": [
    "if a > b: print(c)\n",
    "else: print('Hello')"
   ]
  },
  {
   "cell_type": "markdown",
   "id": "a9f1f224",
   "metadata": {},
   "source": [
    "## 05.4. 특정 숫자를 임의로 추출하기"
   ]
  },
  {
   "cell_type": "code",
   "execution_count": null,
   "id": "d4351ecf",
   "metadata": {},
   "outputs": [],
   "source": [
    "x = [1, 2, 3, 4, 5, 6, 7, 8, 9, 10,\n",
    "    11, 12, 13, 14, 15, 16, 17 ,18, 19, 20,\n",
    "    21, 22, 23, 24, 25, 26, 27, 28, 29, 30,\n",
    "    31, 32, 33, 34, 35, 36, 37, 38, 39, 40,\n",
    "    41, 42, 43, 44, 45]"
   ]
  },
  {
   "cell_type": "code",
   "execution_count": null,
   "id": "65d64cdf",
   "metadata": {},
   "outputs": [],
   "source": [
    "a = [x for x in range(1, 46)]"
   ]
  },
  {
   "cell_type": "code",
   "execution_count": null,
   "id": "7fc588fc",
   "metadata": {},
   "outputs": [],
   "source": [
    "a == x"
   ]
  },
  {
   "cell_type": "markdown",
   "id": "0b86b041",
   "metadata": {},
   "source": [
    "---"
   ]
  },
  {
   "cell_type": "code",
   "execution_count": null,
   "id": "f807a9d0",
   "metadata": {},
   "outputs": [],
   "source": [
    "import random"
   ]
  },
  {
   "cell_type": "code",
   "execution_count": null,
   "id": "0aa0e1bb",
   "metadata": {},
   "outputs": [],
   "source": [
    "random.shuffle(a)"
   ]
  },
  {
   "cell_type": "code",
   "execution_count": null,
   "id": "c909918a",
   "metadata": {},
   "outputs": [],
   "source": [
    "random.choices(a, k=6)"
   ]
  },
  {
   "cell_type": "code",
   "execution_count": null,
   "id": "ab184e1c",
   "metadata": {},
   "outputs": [],
   "source": [
    "random.shuffle(a)"
   ]
  },
  {
   "cell_type": "code",
   "execution_count": null,
   "id": "4b19fb1c",
   "metadata": {},
   "outputs": [],
   "source": [
    "random.choices(a, k=6)"
   ]
  },
  {
   "cell_type": "markdown",
   "id": "4263a766",
   "metadata": {},
   "source": [
    "---"
   ]
  },
  {
   "cell_type": "code",
   "execution_count": null,
   "id": "47818972",
   "metadata": {},
   "outputs": [],
   "source": [
    "import numpy as np"
   ]
  },
  {
   "cell_type": "code",
   "execution_count": null,
   "id": "8c9e85e0",
   "metadata": {},
   "outputs": [],
   "source": [
    "random.shuffle(a, random=np.random.random)"
   ]
  },
  {
   "cell_type": "code",
   "execution_count": null,
   "id": "a0b15899",
   "metadata": {},
   "outputs": [],
   "source": [
    "random.choices(a, k=6)"
   ]
  },
  {
   "cell_type": "markdown",
   "id": "656ce35c",
   "metadata": {},
   "source": [
    "---"
   ]
  },
  {
   "cell_type": "code",
   "execution_count": null,
   "id": "a4530294",
   "metadata": {},
   "outputs": [],
   "source": [
    "np.random.shuffle(a)"
   ]
  },
  {
   "cell_type": "code",
   "execution_count": null,
   "id": "2cc1b460",
   "metadata": {},
   "outputs": [],
   "source": [
    "np.random.choice(a, size=6)"
   ]
  }
 ],
 "metadata": {
  "kernelspec": {
   "display_name": "Python 3 (ipykernel)",
   "language": "python",
   "name": "python3"
  },
  "language_info": {
   "codemirror_mode": {
    "name": "ipython",
    "version": 3
   },
   "file_extension": ".py",
   "mimetype": "text/x-python",
   "name": "python",
   "nbconvert_exporter": "python",
   "pygments_lexer": "ipython3",
   "version": "3.8.12"
  }
 },
 "nbformat": 4,
 "nbformat_minor": 5
}
