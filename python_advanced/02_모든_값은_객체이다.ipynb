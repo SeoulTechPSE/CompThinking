{
 "cells": [
  {
   "cell_type": "markdown",
   "id": "faaf045b",
   "metadata": {},
   "source": [
    "# 02 장. 모든 값은 객체(object)이다"
   ]
  },
  {
   "cell_type": "markdown",
   "id": "06f4821a",
   "metadata": {},
   "source": [
    "## 02.1. 객체를 직접 만드는 리터럴(literal) 표기법"
   ]
  },
  {
   "cell_type": "code",
   "execution_count": null,
   "id": "c89878c7",
   "metadata": {},
   "outputs": [],
   "source": [
    "import math"
   ]
  },
  {
   "cell_type": "code",
   "execution_count": null,
   "id": "34190efa",
   "metadata": {},
   "outputs": [],
   "source": [
    "math.pi"
   ]
  },
  {
   "cell_type": "code",
   "execution_count": null,
   "id": "df3d479d",
   "metadata": {},
   "outputs": [],
   "source": [
    "math.e"
   ]
  },
  {
   "cell_type": "code",
   "execution_count": null,
   "id": "77083021",
   "metadata": {},
   "outputs": [],
   "source": [
    "CONST = 100  # 상수는 영어 대문자로 이름을 짖는다"
   ]
  },
  {
   "cell_type": "code",
   "execution_count": null,
   "id": "75b6f5e1",
   "metadata": {},
   "outputs": [],
   "source": [
    "CONST"
   ]
  },
  {
   "cell_type": "markdown",
   "id": "4900aa17",
   "metadata": {},
   "source": [
    "---"
   ]
  },
  {
   "cell_type": "code",
   "execution_count": null,
   "id": "5d36ec76",
   "metadata": {},
   "outputs": [],
   "source": [
    "1"
   ]
  },
  {
   "cell_type": "code",
   "execution_count": null,
   "id": "be5ed703",
   "metadata": {},
   "outputs": [],
   "source": [
    "1.1"
   ]
  },
  {
   "cell_type": "code",
   "execution_count": null,
   "id": "db342c37",
   "metadata": {},
   "outputs": [],
   "source": [
    "'문자열'"
   ]
  },
  {
   "cell_type": "code",
   "execution_count": null,
   "id": "8264e017",
   "metadata": {},
   "outputs": [],
   "source": [
    "type(1), type(1.1), type('문자열')"
   ]
  },
  {
   "cell_type": "markdown",
   "id": "67431ce4",
   "metadata": {},
   "source": [
    "## 02.2. 리터럴과 연산자의 묶음인 표현식(expression)"
   ]
  },
  {
   "cell_type": "code",
   "execution_count": null,
   "id": "8d7ac15e",
   "metadata": {},
   "outputs": [],
   "source": [
    "a = 100"
   ]
  },
  {
   "cell_type": "code",
   "execution_count": null,
   "id": "2dc239f6",
   "metadata": {},
   "outputs": [],
   "source": [
    "a + 200"
   ]
  },
  {
   "cell_type": "code",
   "execution_count": null,
   "id": "e80fffd0",
   "metadata": {},
   "outputs": [],
   "source": [
    "a.__add__(200)"
   ]
  },
  {
   "cell_type": "code",
   "execution_count": null,
   "id": "13a943d6",
   "metadata": {},
   "outputs": [],
   "source": [
    "b = '문자'"
   ]
  },
  {
   "cell_type": "code",
   "execution_count": null,
   "id": "90925e9c",
   "metadata": {},
   "outputs": [],
   "source": [
    "b + '열'"
   ]
  },
  {
   "cell_type": "code",
   "execution_count": null,
   "id": "dfacc6eb",
   "metadata": {},
   "outputs": [],
   "source": [
    "b.__add__('열')"
   ]
  },
  {
   "cell_type": "markdown",
   "id": "67770498",
   "metadata": {},
   "source": [
    "---"
   ]
  },
  {
   "cell_type": "code",
   "execution_count": null,
   "id": "d5a66f85",
   "metadata": {},
   "outputs": [],
   "source": [
    "c = 100"
   ]
  },
  {
   "cell_type": "code",
   "execution_count": null,
   "id": "89311a60",
   "metadata": {},
   "outputs": [],
   "source": [
    "c > 98"
   ]
  },
  {
   "cell_type": "code",
   "execution_count": null,
   "id": "add03801",
   "metadata": {},
   "outputs": [],
   "source": [
    "c > 101"
   ]
  },
  {
   "cell_type": "markdown",
   "id": "f38d1c89",
   "metadata": {},
   "source": [
    "## 02.3. 연산자와 스페셜 메소드 알아보기"
   ]
  },
  {
   "cell_type": "code",
   "execution_count": null,
   "id": "baab3f9c",
   "metadata": {},
   "outputs": [],
   "source": [
    "int.__add__"
   ]
  },
  {
   "cell_type": "code",
   "execution_count": null,
   "id": "00df3217",
   "metadata": {},
   "outputs": [],
   "source": [
    "1 + 1"
   ]
  },
  {
   "cell_type": "code",
   "execution_count": null,
   "id": "17016c3f",
   "metadata": {},
   "outputs": [],
   "source": [
    "(1).__add__(1)"
   ]
  },
  {
   "cell_type": "code",
   "execution_count": null,
   "id": "7eba475a",
   "metadata": {},
   "outputs": [],
   "source": [
    "int.__add__(1, 1)"
   ]
  },
  {
   "cell_type": "code",
   "execution_count": null,
   "id": "3e20800f",
   "metadata": {},
   "outputs": [],
   "source": [
    "1 - 1"
   ]
  },
  {
   "cell_type": "code",
   "execution_count": null,
   "id": "84fadf5b",
   "metadata": {},
   "outputs": [],
   "source": [
    "int.__sub__(1, 1)"
   ]
  },
  {
   "cell_type": "code",
   "execution_count": null,
   "id": "27bc4bf0",
   "metadata": {},
   "outputs": [],
   "source": [
    "2 * 3"
   ]
  },
  {
   "cell_type": "code",
   "execution_count": null,
   "id": "4f508a1f",
   "metadata": {},
   "outputs": [],
   "source": [
    "int.__mul__(2, 3)"
   ]
  },
  {
   "cell_type": "code",
   "execution_count": null,
   "id": "18ce247b",
   "metadata": {},
   "outputs": [],
   "source": [
    "2 / 2"
   ]
  },
  {
   "cell_type": "code",
   "execution_count": null,
   "id": "68502820",
   "metadata": {},
   "outputs": [],
   "source": [
    "int.__truediv__(2, 2)"
   ]
  },
  {
   "cell_type": "code",
   "execution_count": null,
   "id": "a2f2ae30",
   "metadata": {},
   "outputs": [],
   "source": [
    "2 // 2"
   ]
  },
  {
   "cell_type": "code",
   "execution_count": null,
   "id": "b6bc911a",
   "metadata": {},
   "outputs": [],
   "source": [
    "int.__floordiv__(2, 2)"
   ]
  }
 ],
 "metadata": {
  "kernelspec": {
   "display_name": "Python 3 (ipykernel)",
   "language": "python",
   "name": "python3"
  },
  "language_info": {
   "codemirror_mode": {
    "name": "ipython",
    "version": 3
   },
   "file_extension": ".py",
   "mimetype": "text/x-python",
   "name": "python",
   "nbconvert_exporter": "python",
   "pygments_lexer": "ipython3",
   "version": "3.8.12"
  }
 },
 "nbformat": 4,
 "nbformat_minor": 5
}
