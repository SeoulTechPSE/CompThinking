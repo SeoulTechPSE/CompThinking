{
 "cells": [
  {
   "cell_type": "markdown",
   "id": "dbb592fb",
   "metadata": {},
   "source": [
    "# 36 장. 클래스 다형성 알아보기"
   ]
  },
  {
   "cell_type": "markdown",
   "id": "3fa7cbbc",
   "metadata": {},
   "source": [
    "## 36.1. 오버로딩(Overloading)"
   ]
  },
  {
   "cell_type": "code",
   "execution_count": null,
   "id": "456e71bd",
   "metadata": {},
   "outputs": [],
   "source": [
    "#!pip install overload --upgrade"
   ]
  },
  {
   "cell_type": "code",
   "execution_count": null,
   "id": "35f3aff0",
   "metadata": {},
   "outputs": [],
   "source": [
    "import overload as ov"
   ]
  },
  {
   "cell_type": "code",
   "execution_count": null,
   "id": "86a2c91d",
   "metadata": {},
   "outputs": [],
   "source": [
    "ov.overload"
   ]
  },
  {
   "cell_type": "code",
   "execution_count": null,
   "id": "24fd0d64",
   "metadata": {},
   "outputs": [],
   "source": [
    "class Overload:\n",
    "    \n",
    "    def __init__(self, name, age):\n",
    "        self.name = name\n",
    "        self.age = age\n",
    "        \n",
    "    @ov.overload\n",
    "    def get(self, name):\n",
    "        return self.name\n",
    "    \n",
    "    @get.add\n",
    "    def get(self, name, age):\n",
    "        return self.name, self.age"
   ]
  },
  {
   "cell_type": "code",
   "execution_count": null,
   "id": "3ec8de30",
   "metadata": {},
   "outputs": [],
   "source": [
    "Overload.__dict__"
   ]
  },
  {
   "cell_type": "code",
   "execution_count": null,
   "id": "4fba4291",
   "metadata": {},
   "outputs": [],
   "source": [
    "c = Overload('Yoo', 45)"
   ]
  },
  {
   "cell_type": "code",
   "execution_count": null,
   "id": "15597e88",
   "metadata": {},
   "outputs": [],
   "source": [
    "c.get('name')"
   ]
  },
  {
   "cell_type": "code",
   "execution_count": null,
   "id": "3b03313c",
   "metadata": {},
   "outputs": [],
   "source": [
    "c.get('name', 'age')"
   ]
  },
  {
   "cell_type": "code",
   "execution_count": null,
   "id": "1c72d76f",
   "metadata": {},
   "outputs": [],
   "source": [
    "c.get(1, 2)"
   ]
  },
  {
   "cell_type": "code",
   "execution_count": null,
   "id": "a0b7e64b",
   "metadata": {},
   "outputs": [],
   "source": [
    "class Signature:\n",
    "    \n",
    "    def __init__(self, name, age):\n",
    "        self.name = name\n",
    "        self.age = age\n",
    "        \n",
    "    @ov.overload\n",
    "    def get(self, name: str):\n",
    "        return self.name\n",
    "    \n",
    "    @get.add\n",
    "    def get(self, age: int):\n",
    "        return self.age"
   ]
  },
  {
   "cell_type": "code",
   "execution_count": null,
   "id": "411d612a",
   "metadata": {},
   "outputs": [],
   "source": [
    "s = Signature('Yoo', 35)"
   ]
  },
  {
   "cell_type": "code",
   "execution_count": null,
   "id": "1ff9fdc5",
   "metadata": {},
   "outputs": [],
   "source": [
    "s.get('')"
   ]
  },
  {
   "cell_type": "code",
   "execution_count": null,
   "id": "5766438b",
   "metadata": {},
   "outputs": [],
   "source": [
    "s.get(1)"
   ]
  },
  {
   "cell_type": "code",
   "execution_count": null,
   "id": "eb8089ea",
   "metadata": {},
   "outputs": [],
   "source": [
    "s.get(1.0)"
   ]
  },
  {
   "cell_type": "markdown",
   "id": "8473349b",
   "metadata": {},
   "source": [
    "---"
   ]
  },
  {
   "cell_type": "code",
   "execution_count": null,
   "id": "6aed777b",
   "metadata": {},
   "outputs": [],
   "source": [
    "import multipledispatch as mp"
   ]
  },
  {
   "cell_type": "code",
   "execution_count": null,
   "id": "f8c6924e",
   "metadata": {},
   "outputs": [],
   "source": [
    "mp.dispatch"
   ]
  },
  {
   "cell_type": "code",
   "execution_count": null,
   "id": "e3c3b1a9",
   "metadata": {},
   "outputs": [],
   "source": [
    "class Overload_:\n",
    "    \n",
    "    def __init__(self, name, age):\n",
    "        self.name = name\n",
    "        self.age = age\n",
    "        \n",
    "    @mp.dispatch(str)\n",
    "    def get(self, name):\n",
    "        return self.name\n",
    "    \n",
    "    @mp.dispatch(str, int)\n",
    "    def get(self, name, age):\n",
    "        return self.name, self.age"
   ]
  },
  {
   "cell_type": "code",
   "execution_count": null,
   "id": "82219ef7",
   "metadata": {},
   "outputs": [],
   "source": [
    "o = Overload_('Yoo', 35)"
   ]
  },
  {
   "cell_type": "code",
   "execution_count": null,
   "id": "b8057c9b",
   "metadata": {},
   "outputs": [],
   "source": [
    "o.get('')"
   ]
  },
  {
   "cell_type": "code",
   "execution_count": null,
   "id": "05b444d6",
   "metadata": {},
   "outputs": [],
   "source": [
    "o.get('', 1)"
   ]
  },
  {
   "cell_type": "code",
   "execution_count": null,
   "id": "4a8cfa02",
   "metadata": {},
   "outputs": [],
   "source": [
    "o.get(1.0)"
   ]
  },
  {
   "cell_type": "code",
   "execution_count": null,
   "id": "e3fe08a6",
   "metadata": {},
   "outputs": [],
   "source": [
    "class Overload_d:\n",
    "    \n",
    "    def __init__(self, name, age):\n",
    "        self.name = name\n",
    "        self.age = age\n",
    "        \n",
    "    @mp.dispatch(str)\n",
    "    def get(self, name=''):\n",
    "        return self.name\n",
    "    \n",
    "    @mp.dispatch(str, int)\n",
    "    def get(self, name='', age=0):\n",
    "        return self.name, self.age"
   ]
  },
  {
   "cell_type": "code",
   "execution_count": null,
   "id": "6746b1a6",
   "metadata": {},
   "outputs": [],
   "source": [
    "od = Overload_d('고요한', 30)"
   ]
  },
  {
   "cell_type": "code",
   "execution_count": null,
   "id": "7e120e6b",
   "metadata": {},
   "outputs": [],
   "source": [
    "od.get('')"
   ]
  },
  {
   "cell_type": "code",
   "execution_count": null,
   "id": "67a0b1c3",
   "metadata": {},
   "outputs": [],
   "source": [
    "od.get('', 1)"
   ]
  },
  {
   "cell_type": "code",
   "execution_count": null,
   "id": "9164291c",
   "metadata": {},
   "outputs": [],
   "source": [
    "od.get()"
   ]
  },
  {
   "cell_type": "markdown",
   "id": "6d2a8728",
   "metadata": {},
   "source": [
    "## 36.2. 메소드 오버로딩(Method Overloading)"
   ]
  },
  {
   "cell_type": "code",
   "execution_count": null,
   "id": "1745922b",
   "metadata": {},
   "outputs": [],
   "source": [
    "class Method_Overload:\n",
    "    \n",
    "    def __init__(self, seq):\n",
    "        self.seq = seq\n",
    "        \n",
    "    def __add__(self, value):\n",
    "        self.seq += value\n",
    "        return self.seq\n",
    "    \n",
    "    def __getitem__(self, key):\n",
    "        return self.seq[key]  "
   ]
  },
  {
   "cell_type": "code",
   "execution_count": null,
   "id": "eb02aab7",
   "metadata": {},
   "outputs": [],
   "source": [
    "s = Method_Overload('문자열')"
   ]
  },
  {
   "cell_type": "code",
   "execution_count": null,
   "id": "9fe887ce",
   "metadata": {},
   "outputs": [],
   "source": [
    "s + ' 연산자 오버로딩'"
   ]
  },
  {
   "cell_type": "code",
   "execution_count": null,
   "id": "7ed4bac9",
   "metadata": {},
   "outputs": [],
   "source": [
    "s.seq"
   ]
  },
  {
   "cell_type": "code",
   "execution_count": null,
   "id": "84c7b919",
   "metadata": {},
   "outputs": [],
   "source": [
    "s[9]"
   ]
  },
  {
   "cell_type": "code",
   "execution_count": null,
   "id": "9ae0738d",
   "metadata": {},
   "outputs": [],
   "source": [
    "s[8:10]"
   ]
  },
  {
   "cell_type": "code",
   "execution_count": null,
   "id": "3d649a45",
   "metadata": {},
   "outputs": [],
   "source": [
    "s * 3"
   ]
  },
  {
   "cell_type": "markdown",
   "id": "7cd38e94",
   "metadata": {},
   "source": [
    "## 36.3. 오버라이딩(Overriding)"
   ]
  },
  {
   "cell_type": "code",
   "execution_count": null,
   "id": "2a21f4cb",
   "metadata": {},
   "outputs": [],
   "source": [
    "class Overriding:\n",
    "    \n",
    "    def __init__(self, seq):\n",
    "        self.seq = seq\n",
    "        \n",
    "    def get_seq(self):\n",
    "        return self.seq"
   ]
  },
  {
   "cell_type": "code",
   "execution_count": null,
   "id": "191e33cf",
   "metadata": {},
   "outputs": [],
   "source": [
    "class Child(Overriding):\n",
    "    pass"
   ]
  },
  {
   "cell_type": "code",
   "execution_count": null,
   "id": "644f7a39",
   "metadata": {},
   "outputs": [],
   "source": [
    "o = Overriding('부모클래스')"
   ]
  },
  {
   "cell_type": "code",
   "execution_count": null,
   "id": "2fc35947",
   "metadata": {},
   "outputs": [],
   "source": [
    "o.get_seq()"
   ]
  },
  {
   "cell_type": "code",
   "execution_count": null,
   "id": "381b5e2f",
   "metadata": {},
   "outputs": [],
   "source": [
    "c = Child('자식클래스')"
   ]
  },
  {
   "cell_type": "code",
   "execution_count": null,
   "id": "b7ca0a9c",
   "metadata": {},
   "outputs": [],
   "source": [
    "c.get_seq()"
   ]
  },
  {
   "cell_type": "markdown",
   "id": "57dbc5b7",
   "metadata": {},
   "source": [
    "---"
   ]
  },
  {
   "cell_type": "code",
   "execution_count": null,
   "id": "346c6343",
   "metadata": {},
   "outputs": [],
   "source": [
    "class Child_(Overriding):\n",
    "    def get_seq(self, value):\n",
    "        return self.seq + str(value)"
   ]
  },
  {
   "cell_type": "code",
   "execution_count": null,
   "id": "3a1ad4aa",
   "metadata": {},
   "outputs": [],
   "source": [
    "c_ = Child_('오버라이딩 클래스')"
   ]
  },
  {
   "cell_type": "code",
   "execution_count": null,
   "id": "f36b7456",
   "metadata": {},
   "outputs": [],
   "source": [
    "c_.get_seq()"
   ]
  },
  {
   "cell_type": "code",
   "execution_count": null,
   "id": "68cb3db5",
   "metadata": {},
   "outputs": [],
   "source": [
    "c_.get_seq(100)"
   ]
  },
  {
   "cell_type": "markdown",
   "id": "37b4662d",
   "metadata": {},
   "source": [
    "---"
   ]
  },
  {
   "cell_type": "code",
   "execution_count": null,
   "id": "80fd4f52",
   "metadata": {},
   "outputs": [],
   "source": [
    "class Child_1(Overriding):\n",
    "    def __init__(self, seq, message):\n",
    "        self.seq = seq + message\n",
    "        \n",
    "    def get_seq(self, value):\n",
    "        return self.seq + str(value)"
   ]
  },
  {
   "cell_type": "code",
   "execution_count": null,
   "id": "864726a2",
   "metadata": {},
   "outputs": [],
   "source": [
    "c_1 = Child_1('자식클래스', '스페셜 메소드')"
   ]
  },
  {
   "cell_type": "code",
   "execution_count": null,
   "id": "72a7ad5b",
   "metadata": {},
   "outputs": [],
   "source": [
    "c_1.get_seq(200)"
   ]
  },
  {
   "cell_type": "markdown",
   "id": "19a6bbdd",
   "metadata": {},
   "source": [
    "---"
   ]
  },
  {
   "cell_type": "code",
   "execution_count": null,
   "id": "9ba17d35",
   "metadata": {},
   "outputs": [],
   "source": [
    "class Child_2(Overriding):\n",
    "    def __init__(self, seq, message):\n",
    "        super().__init__(seq)\n",
    "        self.seq = self.seq + message\n",
    "        \n",
    "    def get_seq(self, value):\n",
    "        return self.seq + str(value)"
   ]
  },
  {
   "cell_type": "code",
   "execution_count": null,
   "id": "6ca76d14",
   "metadata": {},
   "outputs": [],
   "source": [
    "c_2 = Child_2('자식클래스', '스페셜 메소드')"
   ]
  },
  {
   "cell_type": "code",
   "execution_count": null,
   "id": "09d1dde5",
   "metadata": {},
   "outputs": [],
   "source": [
    "c_2.get_seq(300)"
   ]
  },
  {
   "cell_type": "markdown",
   "id": "f1f804e1",
   "metadata": {},
   "source": [
    "## 36.4. 덕 타이핑(Duck Typing)"
   ]
  },
  {
   "cell_type": "code",
   "execution_count": null,
   "id": "ee711a47",
   "metadata": {},
   "outputs": [],
   "source": [
    "import operator as op"
   ]
  },
  {
   "cell_type": "code",
   "execution_count": null,
   "id": "babaa886",
   "metadata": {},
   "outputs": [],
   "source": [
    "def getitem(obj, index=0):\n",
    "    if not (index < len(obj)):\n",
    "        index = len(obj) - 1\n",
    "    return op.getitem(obj, index)"
   ]
  },
  {
   "cell_type": "code",
   "execution_count": null,
   "id": "f97c1ab1",
   "metadata": {},
   "outputs": [],
   "source": [
    "l = [0, 1, 2, 3, 4]"
   ]
  },
  {
   "cell_type": "code",
   "execution_count": null,
   "id": "6210f596",
   "metadata": {},
   "outputs": [],
   "source": [
    "getitem(l, 1)"
   ]
  },
  {
   "cell_type": "code",
   "execution_count": null,
   "id": "e83ec562",
   "metadata": {},
   "outputs": [],
   "source": [
    "getitem(l, 5)"
   ]
  },
  {
   "cell_type": "code",
   "execution_count": null,
   "id": "30c1d9e2",
   "metadata": {},
   "outputs": [],
   "source": [
    "s = '문자열 인데스'"
   ]
  },
  {
   "cell_type": "code",
   "execution_count": null,
   "id": "c3fa0b23",
   "metadata": {},
   "outputs": [],
   "source": [
    "getitem(s, 2)"
   ]
  },
  {
   "cell_type": "code",
   "execution_count": null,
   "id": "9fea6fba",
   "metadata": {},
   "outputs": [],
   "source": [
    "getitem(s, 9)"
   ]
  },
  {
   "cell_type": "code",
   "execution_count": null,
   "id": "8874ed26",
   "metadata": {},
   "outputs": [],
   "source": [
    "s[9]"
   ]
  },
  {
   "cell_type": "markdown",
   "id": "ccea3eda",
   "metadata": {},
   "source": [
    "---"
   ]
  },
  {
   "cell_type": "code",
   "execution_count": null,
   "id": "0812f7f3",
   "metadata": {},
   "outputs": [],
   "source": [
    "class Slice:\n",
    "    \n",
    "    def __init__(self, start=0, stop=0, step=None):\n",
    "        self.start = start\n",
    "        self.stop = stop\n",
    "        self.step = step\n",
    "        \n",
    "    def __call__(self, obj):\n",
    "        return op.getitem(obj, slice(self.start, self.stop, self.step))"
   ]
  },
  {
   "cell_type": "code",
   "execution_count": null,
   "id": "2a6f13a4",
   "metadata": {},
   "outputs": [],
   "source": [
    "s1 = Slice(0, 5)"
   ]
  },
  {
   "cell_type": "code",
   "execution_count": null,
   "id": "77f76db4",
   "metadata": {},
   "outputs": [],
   "source": [
    "ll = [1, 2, 3, 4, 5, 6, 7, 8, 9]"
   ]
  },
  {
   "cell_type": "code",
   "execution_count": null,
   "id": "e02f89bd",
   "metadata": {},
   "outputs": [],
   "source": [
    "s1(ll)"
   ]
  },
  {
   "cell_type": "code",
   "execution_count": null,
   "id": "c031abd4",
   "metadata": {},
   "outputs": [],
   "source": [
    "ss = '빅데이터와 인공지능'"
   ]
  },
  {
   "cell_type": "code",
   "execution_count": null,
   "id": "0abe7a73",
   "metadata": {},
   "outputs": [],
   "source": [
    "s1(ss)"
   ]
  }
 ],
 "metadata": {
  "kernelspec": {
   "display_name": "Python 3 (ipykernel)",
   "language": "python",
   "name": "python3"
  },
  "language_info": {
   "codemirror_mode": {
    "name": "ipython",
    "version": 3
   },
   "file_extension": ".py",
   "mimetype": "text/x-python",
   "name": "python",
   "nbconvert_exporter": "python",
   "pygments_lexer": "ipython3",
   "version": "3.8.12"
  }
 },
 "nbformat": 4,
 "nbformat_minor": 5
}
