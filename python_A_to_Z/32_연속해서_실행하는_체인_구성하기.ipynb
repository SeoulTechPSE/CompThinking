{
 "cells": [
  {
   "cell_type": "markdown",
   "id": "23d33a61",
   "metadata": {},
   "source": [
    "# 32 장. 연속해서 실행하는 체인 구동하기"
   ]
  },
  {
   "cell_type": "markdown",
   "id": "65c2f9f6",
   "metadata": {},
   "source": [
    "## 32.1. 함수 체인 구성하기"
   ]
  },
  {
   "cell_type": "code",
   "execution_count": null,
   "id": "0d1c8957",
   "metadata": {},
   "outputs": [],
   "source": [
    "import functools as ft"
   ]
  },
  {
   "cell_type": "code",
   "execution_count": null,
   "id": "0241308c",
   "metadata": {},
   "outputs": [],
   "source": [
    "def add(x, y):\n",
    "    return ft.partial(mul, x + y)"
   ]
  },
  {
   "cell_type": "code",
   "execution_count": null,
   "id": "74e80ad2",
   "metadata": {},
   "outputs": [],
   "source": [
    "def mul(x, y):\n",
    "    return ft.partial(sub, x * y)"
   ]
  },
  {
   "cell_type": "code",
   "execution_count": null,
   "id": "baa68105",
   "metadata": {},
   "outputs": [],
   "source": [
    "def sub(x, y):\n",
    "    return ft.partial(div, x - y)"
   ]
  },
  {
   "cell_type": "code",
   "execution_count": null,
   "id": "e94e5334",
   "metadata": {},
   "outputs": [],
   "source": [
    "def div(x, y):\n",
    "    return x / y"
   ]
  },
  {
   "cell_type": "code",
   "execution_count": null,
   "id": "3c9f13f1",
   "metadata": {},
   "outputs": [],
   "source": [
    "add(5, 6)(4)(5)(5)"
   ]
  },
  {
   "cell_type": "code",
   "execution_count": null,
   "id": "487e894f",
   "metadata": {},
   "outputs": [],
   "source": [
    "(((5 + 6) * 4) - 5) / 5"
   ]
  },
  {
   "cell_type": "code",
   "execution_count": null,
   "id": "768e795a",
   "metadata": {},
   "outputs": [],
   "source": [
    "a = add(5, 6)"
   ]
  },
  {
   "cell_type": "code",
   "execution_count": null,
   "id": "4beb9bf8",
   "metadata": {},
   "outputs": [],
   "source": [
    "b = a(4)"
   ]
  },
  {
   "cell_type": "code",
   "execution_count": null,
   "id": "fbc112c8",
   "metadata": {},
   "outputs": [],
   "source": [
    "c = b(5)"
   ]
  },
  {
   "cell_type": "code",
   "execution_count": null,
   "id": "f4c95058",
   "metadata": {},
   "outputs": [],
   "source": [
    "d = c(5)"
   ]
  },
  {
   "cell_type": "code",
   "execution_count": null,
   "id": "9c49bd9b",
   "metadata": {},
   "outputs": [],
   "source": [
    "d"
   ]
  },
  {
   "cell_type": "markdown",
   "id": "34f99bae",
   "metadata": {},
   "source": [
    "## 32.2. 메소드 체인 구성하기"
   ]
  },
  {
   "cell_type": "code",
   "execution_count": null,
   "id": "760a8b10",
   "metadata": {},
   "outputs": [],
   "source": [
    "(100).__add__(5).__mul__(4).__sub__(5).__truediv__(3)"
   ]
  },
  {
   "cell_type": "code",
   "execution_count": null,
   "id": "f7a737cd",
   "metadata": {},
   "outputs": [],
   "source": [
    "((100 + 5) * 4 - 5) / 3"
   ]
  },
  {
   "cell_type": "code",
   "execution_count": null,
   "id": "77cfb92d",
   "metadata": {},
   "outputs": [],
   "source": [
    "class Int:\n",
    "    def __init__(self, value=0):\n",
    "        self.value = value\n",
    "        \n",
    "    def add(self, value):\n",
    "        self.value += value\n",
    "        return self\n",
    "    \n",
    "    def mul(self, value):\n",
    "        self.value *= value\n",
    "        return self\n",
    "    \n",
    "    def sub(self, value):\n",
    "        self.value -= value\n",
    "        return self\n",
    "    \n",
    "    def div(self, value):\n",
    "        self.value /= value\n",
    "        return self"
   ]
  },
  {
   "cell_type": "code",
   "execution_count": null,
   "id": "4b4472a0",
   "metadata": {},
   "outputs": [],
   "source": [
    "a = Int(100)"
   ]
  },
  {
   "cell_type": "code",
   "execution_count": null,
   "id": "f0e4113a",
   "metadata": {},
   "outputs": [],
   "source": [
    "b = a.add(5).mul(4).sub(5).div(3)"
   ]
  },
  {
   "cell_type": "code",
   "execution_count": null,
   "id": "5d2b895b",
   "metadata": {},
   "outputs": [],
   "source": [
    "b.__dict__"
   ]
  },
  {
   "cell_type": "markdown",
   "id": "ca604348",
   "metadata": {},
   "source": [
    "## 32.3. 같은 이름 메소드 오버로딩 처리하기"
   ]
  },
  {
   "cell_type": "code",
   "execution_count": null,
   "id": "73af6249",
   "metadata": {},
   "outputs": [],
   "source": [
    "class overload:\n",
    "    \n",
    "    def __init__(self, fget1=None, fget2=None, fget3=None):\n",
    "        self.fget1 = fget1\n",
    "        self.fget2 = fget2\n",
    "        self.fget3 = fget3\n",
    "        \n",
    "    def __get__(self, other, owner):\n",
    "        self._other = other\n",
    "        return self\n",
    "    \n",
    "    def add(self, func):\n",
    "        if not self.fget2:\n",
    "            self.fget2 = func\n",
    "        elif not self.fget3:\n",
    "            self.fget3 = func\n",
    "        return self\n",
    "    \n",
    "    def __call__(self, *args):\n",
    "        if len(args) == 0:\n",
    "            print(self.fget1(self._other, *args))\n",
    "        elif len(args) == 1:\n",
    "            print(self.fget2(self._other, *args))\n",
    "        elif len(args) == 2:\n",
    "            print(self.fget3(self._other, *args))\n",
    "        else:\n",
    "            print('해당사항 없음')"
   ]
  },
  {
   "cell_type": "code",
   "execution_count": null,
   "id": "049bfde7",
   "metadata": {},
   "outputs": [],
   "source": [
    "class OverLoad:\n",
    "    \n",
    "    def __init__(self, x, y):\n",
    "        self.x = x\n",
    "        self.y = y\n",
    "        \n",
    "    @overload\n",
    "    def add(self):\n",
    "        return self.x + self.y\n",
    "    \n",
    "    @add.add\n",
    "    def add(self, a):\n",
    "        return self.x + self.y + a\n",
    "    \n",
    "    @add.add\n",
    "    def add(self, a, b):\n",
    "        return self.x + self.y + a + b"
   ]
  },
  {
   "cell_type": "code",
   "execution_count": null,
   "id": "4a1b990c",
   "metadata": {},
   "outputs": [],
   "source": [
    "OverLoad.__dict__"
   ]
  },
  {
   "cell_type": "code",
   "execution_count": null,
   "id": "d780e068",
   "metadata": {},
   "outputs": [],
   "source": [
    "o = OverLoad(5, 5)"
   ]
  },
  {
   "cell_type": "code",
   "execution_count": null,
   "id": "117844df",
   "metadata": {},
   "outputs": [],
   "source": [
    "o.add"
   ]
  },
  {
   "cell_type": "code",
   "execution_count": null,
   "id": "6a6f2c00",
   "metadata": {},
   "outputs": [],
   "source": [
    "o.add.__dict__"
   ]
  },
  {
   "cell_type": "code",
   "execution_count": null,
   "id": "77782745",
   "metadata": {},
   "outputs": [],
   "source": [
    "o.add()"
   ]
  },
  {
   "cell_type": "code",
   "execution_count": null,
   "id": "290222a4",
   "metadata": {},
   "outputs": [],
   "source": [
    "o.add(1)"
   ]
  },
  {
   "cell_type": "code",
   "execution_count": null,
   "id": "230c2184",
   "metadata": {},
   "outputs": [],
   "source": [
    "o1 = OverLoad(15, 15)"
   ]
  },
  {
   "cell_type": "code",
   "execution_count": null,
   "id": "6e9f3f76",
   "metadata": {},
   "outputs": [],
   "source": [
    "o1.add()"
   ]
  },
  {
   "cell_type": "code",
   "execution_count": null,
   "id": "5b6bf355",
   "metadata": {},
   "outputs": [],
   "source": [
    "o.add()"
   ]
  }
 ],
 "metadata": {
  "kernelspec": {
   "display_name": "Python 3 (ipykernel)",
   "language": "python",
   "name": "python3"
  },
  "language_info": {
   "codemirror_mode": {
    "name": "ipython",
    "version": 3
   },
   "file_extension": ".py",
   "mimetype": "text/x-python",
   "name": "python",
   "nbconvert_exporter": "python",
   "pygments_lexer": "ipython3",
   "version": "3.8.12"
  }
 },
 "nbformat": 4,
 "nbformat_minor": 5
}
