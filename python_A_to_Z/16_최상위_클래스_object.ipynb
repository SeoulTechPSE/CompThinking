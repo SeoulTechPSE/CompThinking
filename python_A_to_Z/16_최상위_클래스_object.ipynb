{
 "cells": [
  {
   "cell_type": "markdown",
   "id": "5f631992",
   "metadata": {},
   "source": [
    "# 16 장. 최상위 클래스 object"
   ]
  },
  {
   "cell_type": "markdown",
   "id": "06209503",
   "metadata": {},
   "source": [
    "## 16.1. 클래스 내부 속성 알아보기"
   ]
  },
  {
   "cell_type": "code",
   "execution_count": null,
   "id": "0709757f",
   "metadata": {},
   "outputs": [],
   "source": [
    "ll = [str, int, list, tuple, type(None), object, type]"
   ]
  },
  {
   "cell_type": "code",
   "execution_count": null,
   "id": "425866b4",
   "metadata": {},
   "outputs": [],
   "source": [
    "for i in dir(object):\n",
    "    if type(object.__getattribute__(object, i)) in ll:\n",
    "        print(i)"
   ]
  },
  {
   "cell_type": "code",
   "execution_count": null,
   "id": "f7d7d70c",
   "metadata": {},
   "outputs": [],
   "source": [
    "o = object()"
   ]
  },
  {
   "cell_type": "code",
   "execution_count": null,
   "id": "d8db84e3",
   "metadata": {},
   "outputs": [],
   "source": [
    "o"
   ]
  },
  {
   "cell_type": "code",
   "execution_count": null,
   "id": "16d8febc",
   "metadata": {},
   "outputs": [],
   "source": [
    "o.__class__"
   ]
  },
  {
   "cell_type": "code",
   "execution_count": null,
   "id": "e84145ef",
   "metadata": {},
   "outputs": [],
   "source": [
    "o.__doc__"
   ]
  },
  {
   "cell_type": "markdown",
   "id": "6c4ab05d",
   "metadata": {},
   "source": [
    "## 16.2. 클래스 내부 메소드 알아보기"
   ]
  },
  {
   "cell_type": "code",
   "execution_count": null,
   "id": "1bc00236",
   "metadata": {},
   "outputs": [],
   "source": [
    "count = 0\n",
    "for i in dir(object):\n",
    "    if type(object.__getattribute__(object, i)) not in ll:\n",
    "        print(f'{i:20}', end=' ')\n",
    "        count += 1\n",
    "        if not (count % 5): print()"
   ]
  },
  {
   "cell_type": "code",
   "execution_count": null,
   "id": "e3fa3b4c",
   "metadata": {},
   "outputs": [],
   "source": [
    "type(object.__new__)"
   ]
  },
  {
   "cell_type": "code",
   "execution_count": null,
   "id": "32519a4f",
   "metadata": {},
   "outputs": [],
   "source": [
    "type(object.__str__)"
   ]
  },
  {
   "cell_type": "markdown",
   "id": "24b447ca",
   "metadata": {},
   "source": [
    "## 16.3. 문서화를 독테스팅(doctesting)으로 테스트하기"
   ]
  },
  {
   "cell_type": "code",
   "execution_count": null,
   "id": "b8ed4fb0",
   "metadata": {},
   "outputs": [],
   "source": [
    "import doctest"
   ]
  },
  {
   "cell_type": "code",
   "execution_count": null,
   "id": "d0a6e927",
   "metadata": {},
   "outputs": [],
   "source": [
    "def add(x, y):\n",
    "    '''\n",
    "    >>> add(5, 10)  # 함수를 정의할 때 문서화에 >>>와 함수 실행을 넣고, 다음 줄에 결괏값을 넣는다.\n",
    "    15\n",
    "    '''\n",
    "    return x + y"
   ]
  },
  {
   "cell_type": "code",
   "execution_count": null,
   "id": "3ca4e70e",
   "metadata": {},
   "outputs": [],
   "source": [
    "doctest.testmod()"
   ]
  },
  {
   "cell_type": "code",
   "execution_count": null,
   "id": "397cf87b",
   "metadata": {},
   "outputs": [],
   "source": [
    "def my_fun():\n",
    "    '''\n",
    "    >>> my_fun(2, 3)  # 문서화에는 실행된 결과를 작성.\n",
    "    6\n",
    "    '''\n",
    "    pass"
   ]
  },
  {
   "cell_type": "code",
   "execution_count": null,
   "id": "ff8c4834",
   "metadata": {},
   "outputs": [],
   "source": [
    "doctest.testmod()"
   ]
  },
  {
   "cell_type": "markdown",
   "id": "6977c05b",
   "metadata": {},
   "source": [
    "---"
   ]
  },
  {
   "cell_type": "code",
   "execution_count": null,
   "id": "7a37b2f4",
   "metadata": {},
   "outputs": [],
   "source": [
    "%%writefile add_.py\n",
    "def add_(x, y):\n",
    "    '''\n",
    "    >>> add_(5, 10)\n",
    "    15\n",
    "    '''\n",
    "    return x + y"
   ]
  },
  {
   "cell_type": "code",
   "execution_count": null,
   "id": "78d6a626",
   "metadata": {},
   "outputs": [],
   "source": [
    "!python -m doctest add_.py -v"
   ]
  },
  {
   "cell_type": "markdown",
   "id": "54363bc9",
   "metadata": {},
   "source": [
    "---"
   ]
  },
  {
   "cell_type": "code",
   "execution_count": null,
   "id": "c811d984",
   "metadata": {},
   "outputs": [],
   "source": [
    "%%writefile Foo.py\n",
    "def foo(x):\n",
    "    \"\"\"\n",
    "    >>> foo(5)\n",
    "    5\n",
    "    \"\"\"\n",
    "    return x\n",
    "\n",
    "if __name__ in ('__main__', '__console__'):\n",
    "    import doctest\n",
    "    \n",
    "    doctest.testmod(verbose=True)"
   ]
  },
  {
   "cell_type": "code",
   "execution_count": null,
   "id": "96fdd288",
   "metadata": {},
   "outputs": [],
   "source": [
    "%run Foo.py"
   ]
  },
  {
   "cell_type": "markdown",
   "id": "07b627bb",
   "metadata": {},
   "source": [
    "---"
   ]
  },
  {
   "cell_type": "code",
   "execution_count": null,
   "id": "68800e17",
   "metadata": {},
   "outputs": [],
   "source": [
    "%%writefile unpredictable.py\n",
    "class MyClass(object):\n",
    "    pass\n",
    "\n",
    "def unpredictable(obj):\n",
    "    \"\"\"Returns a new list containing obj.\n",
    "    \n",
    "    >>> unpredictable(MyClass())  #doctest: +ELLIPSIS\n",
    "    [<__main__.MyClass object at 0x...>]\n",
    "    \n",
    "    \"\"\"\n",
    "    return [obj]\n",
    "\n",
    "if __name__ in ('__main__', '__console__'):\n",
    "    import doctest\n",
    "    doctest.testmod(verbose=True)"
   ]
  },
  {
   "cell_type": "code",
   "execution_count": null,
   "id": "a0ef4fb1",
   "metadata": {},
   "outputs": [],
   "source": [
    "%run unpredictable.py"
   ]
  },
  {
   "cell_type": "markdown",
   "id": "b07e1986",
   "metadata": {},
   "source": [
    "---"
   ]
  },
  {
   "cell_type": "code",
   "execution_count": null,
   "id": "2d1f828d",
   "metadata": {},
   "outputs": [],
   "source": [
    "%%writefile unpredictable_.py\n",
    "class MyClass(object):\n",
    "    pass\n",
    "\n",
    "def unpredictable(obj):\n",
    "    \"\"\"Returns a new list containing obj.\n",
    "    \n",
    "    >>> unpredictable(MyClass()) \n",
    "    [<__main__.MyClass object at 0x...>]\n",
    "    \n",
    "    \"\"\"\n",
    "    return [obj]\n",
    "\n",
    "if __name__ in ('__main__', '__console__'):\n",
    "    import doctest\n",
    "    doctest.testmod(verbose=True)"
   ]
  },
  {
   "cell_type": "code",
   "execution_count": null,
   "id": "b6381dc1",
   "metadata": {},
   "outputs": [],
   "source": [
    "%run unpredictable_.py"
   ]
  },
  {
   "cell_type": "code",
   "execution_count": null,
   "id": "a90433ba",
   "metadata": {},
   "outputs": [],
   "source": [
    "import os\n",
    "\n",
    "os.remove('add_.py')\n",
    "os.remove('Foo.py')\n",
    "os.remove('unpredictable.py')\n",
    "os.remove('unpredictable_.py')"
   ]
  }
 ],
 "metadata": {
  "kernelspec": {
   "display_name": "Python 3 (ipykernel)",
   "language": "python",
   "name": "python3"
  },
  "language_info": {
   "codemirror_mode": {
    "name": "ipython",
    "version": 3
   },
   "file_extension": ".py",
   "mimetype": "text/x-python",
   "name": "python",
   "nbconvert_exporter": "python",
   "pygments_lexer": "ipython3",
   "version": "3.8.12"
  }
 },
 "nbformat": 4,
 "nbformat_minor": 5
}
