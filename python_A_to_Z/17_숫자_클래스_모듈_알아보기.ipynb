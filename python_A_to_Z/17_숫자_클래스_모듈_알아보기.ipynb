{
 "cells": [
  {
   "cell_type": "markdown",
   "id": "a8be9687",
   "metadata": {},
   "source": [
    "# 17 장. 숫자 클래스 모듈 알아보기"
   ]
  },
  {
   "cell_type": "markdown",
   "id": "4a185132",
   "metadata": {},
   "source": [
    "## 17.1. 유리수와 정밀한 숫자 계산하는 모듈 알아보기"
   ]
  },
  {
   "cell_type": "code",
   "execution_count": null,
   "id": "a2b1e591",
   "metadata": {},
   "outputs": [],
   "source": [
    "from fractions import Fraction"
   ]
  },
  {
   "cell_type": "code",
   "execution_count": null,
   "id": "23a4a6be",
   "metadata": {},
   "outputs": [],
   "source": [
    "f = Fraction(16, -10)"
   ]
  },
  {
   "cell_type": "code",
   "execution_count": null,
   "id": "759bd3a0",
   "metadata": {},
   "outputs": [],
   "source": [
    "f"
   ]
  },
  {
   "cell_type": "code",
   "execution_count": null,
   "id": "1ebb0eb4",
   "metadata": {},
   "outputs": [],
   "source": [
    "f.numerator, f.denominator"
   ]
  },
  {
   "cell_type": "markdown",
   "id": "53181ee2",
   "metadata": {},
   "source": [
    "---"
   ]
  },
  {
   "cell_type": "code",
   "execution_count": null,
   "id": "f866f029",
   "metadata": {},
   "outputs": [],
   "source": [
    "import math"
   ]
  },
  {
   "cell_type": "code",
   "execution_count": null,
   "id": "efce7061",
   "metadata": {},
   "outputs": [],
   "source": [
    "p = Fraction.from_float(math.pi)"
   ]
  },
  {
   "cell_type": "code",
   "execution_count": null,
   "id": "94d324e0",
   "metadata": {},
   "outputs": [],
   "source": [
    "p.numerator, p.denominator"
   ]
  },
  {
   "cell_type": "code",
   "execution_count": null,
   "id": "9144617d",
   "metadata": {},
   "outputs": [],
   "source": [
    "l = Fraction.from_float(math.pi).limit_denominator(1000)"
   ]
  },
  {
   "cell_type": "code",
   "execution_count": null,
   "id": "c1bfb478",
   "metadata": {},
   "outputs": [],
   "source": [
    "l"
   ]
  },
  {
   "cell_type": "markdown",
   "id": "c06b4a97",
   "metadata": {},
   "source": [
    "---"
   ]
  },
  {
   "cell_type": "code",
   "execution_count": null,
   "id": "a18ce8b8",
   "metadata": {},
   "outputs": [],
   "source": [
    "e = Fraction.from_float(math.e)"
   ]
  },
  {
   "cell_type": "code",
   "execution_count": null,
   "id": "d4289300",
   "metadata": {},
   "outputs": [],
   "source": [
    "e"
   ]
  },
  {
   "cell_type": "code",
   "execution_count": null,
   "id": "2f71c10d",
   "metadata": {},
   "outputs": [],
   "source": [
    "q = Fraction.from_float(math.sqrt(2))"
   ]
  },
  {
   "cell_type": "code",
   "execution_count": null,
   "id": "bfac05e9",
   "metadata": {},
   "outputs": [],
   "source": [
    "q"
   ]
  },
  {
   "cell_type": "markdown",
   "id": "ab78950f",
   "metadata": {},
   "source": [
    "---"
   ]
  },
  {
   "cell_type": "code",
   "execution_count": null,
   "id": "34955e58",
   "metadata": {},
   "outputs": [],
   "source": [
    "import decimal as dec"
   ]
  },
  {
   "cell_type": "code",
   "execution_count": null,
   "id": "1ec9bf01",
   "metadata": {},
   "outputs": [],
   "source": [
    "con = dec.getcontext()"
   ]
  },
  {
   "cell_type": "code",
   "execution_count": null,
   "id": "f51261a2",
   "metadata": {},
   "outputs": [],
   "source": [
    "con.prec"
   ]
  },
  {
   "cell_type": "code",
   "execution_count": null,
   "id": "39e39a51",
   "metadata": {},
   "outputs": [],
   "source": [
    "con.prec = 6"
   ]
  },
  {
   "cell_type": "code",
   "execution_count": null,
   "id": "084f1c11",
   "metadata": {},
   "outputs": [],
   "source": [
    "dec.Decimal(1) / dec.Decimal(7)"
   ]
  },
  {
   "cell_type": "code",
   "execution_count": null,
   "id": "c363bf18",
   "metadata": {},
   "outputs": [],
   "source": [
    "con.prec = 28"
   ]
  },
  {
   "cell_type": "code",
   "execution_count": null,
   "id": "b361cfcf",
   "metadata": {},
   "outputs": [],
   "source": [
    "dec.Decimal(1) / dec.Decimal(7)"
   ]
  },
  {
   "cell_type": "markdown",
   "id": "b8e1244f",
   "metadata": {},
   "source": [
    "---"
   ]
  },
  {
   "cell_type": "code",
   "execution_count": null,
   "id": "ffffab39",
   "metadata": {},
   "outputs": [],
   "source": [
    "pi = dec.Decimal(math.pi)"
   ]
  },
  {
   "cell_type": "code",
   "execution_count": null,
   "id": "555822a4",
   "metadata": {},
   "outputs": [],
   "source": [
    "pi"
   ]
  },
  {
   "cell_type": "code",
   "execution_count": null,
   "id": "85ca4c08",
   "metadata": {},
   "outputs": [],
   "source": [
    "e = dec.Decimal(math.e)"
   ]
  },
  {
   "cell_type": "code",
   "execution_count": null,
   "id": "9921524f",
   "metadata": {},
   "outputs": [],
   "source": [
    "e"
   ]
  },
  {
   "cell_type": "code",
   "execution_count": null,
   "id": "aacd4708",
   "metadata": {},
   "outputs": [],
   "source": [
    "math.sqrt(2)"
   ]
  },
  {
   "cell_type": "code",
   "execution_count": null,
   "id": "c007c2f5",
   "metadata": {},
   "outputs": [],
   "source": [
    "dec.Decimal(2)**dec.Decimal('0.5')"
   ]
  },
  {
   "cell_type": "code",
   "execution_count": null,
   "id": "244f286e",
   "metadata": {},
   "outputs": [],
   "source": [
    "dec.Decimal(2).sqrt()"
   ]
  },
  {
   "cell_type": "markdown",
   "id": "dc4ffdbc",
   "metadata": {},
   "source": [
    "---"
   ]
  },
  {
   "cell_type": "code",
   "execution_count": null,
   "id": "735a23ad",
   "metadata": {},
   "outputs": [],
   "source": [
    "dec.Decimal('7.325').quantize(dec.Decimal('.01'), rounding=dec.ROUND_DOWN)"
   ]
  },
  {
   "cell_type": "code",
   "execution_count": null,
   "id": "619cafb8",
   "metadata": {},
   "outputs": [],
   "source": [
    "dec.Decimal('7.325').quantize(dec.Decimal('.01'), rounding=dec.ROUND_UP)"
   ]
  },
  {
   "cell_type": "code",
   "execution_count": null,
   "id": "3783506c",
   "metadata": {},
   "outputs": [],
   "source": [
    "dec.Decimal('7.325').quantize(dec.Decimal('1'), rounding=dec.ROUND_UP)"
   ]
  },
  {
   "cell_type": "code",
   "execution_count": null,
   "id": "9c68f47c",
   "metadata": {},
   "outputs": [],
   "source": [
    "math.ceil(dec.Decimal('7.325'))"
   ]
  },
  {
   "cell_type": "code",
   "execution_count": null,
   "id": "aaddd07c",
   "metadata": {},
   "outputs": [],
   "source": [
    "dec.Decimal('7.325').quantize(dec.Decimal('1'), rounding=dec.ROUND_DOWN)"
   ]
  },
  {
   "cell_type": "code",
   "execution_count": null,
   "id": "2d03dceb",
   "metadata": {},
   "outputs": [],
   "source": [
    "math.floor(dec.Decimal('7.325'))"
   ]
  },
  {
   "cell_type": "code",
   "execution_count": null,
   "id": "b94ec80b",
   "metadata": {},
   "outputs": [],
   "source": [
    "-7 // 4"
   ]
  },
  {
   "cell_type": "code",
   "execution_count": null,
   "id": "3c3e6dab",
   "metadata": {},
   "outputs": [],
   "source": [
    "dec.Decimal(-7) // dec.Decimal(4)"
   ]
  },
  {
   "cell_type": "markdown",
   "id": "948b0913",
   "metadata": {},
   "source": [
    "## 17.2. 연산자를 제공하는 모듈 알아보기"
   ]
  },
  {
   "cell_type": "code",
   "execution_count": null,
   "id": "15e4fc4e",
   "metadata": {},
   "outputs": [],
   "source": [
    "import operator as op"
   ]
  },
  {
   "cell_type": "code",
   "execution_count": null,
   "id": "80525fae",
   "metadata": {},
   "outputs": [],
   "source": [
    "op.add(10, 10), op.sub(10, 10), op.mul(10, 10)"
   ]
  },
  {
   "cell_type": "code",
   "execution_count": null,
   "id": "c4c47ddd",
   "metadata": {},
   "outputs": [],
   "source": [
    "op.floordiv(10, 10), op.truediv(10, 10)"
   ]
  },
  {
   "cell_type": "code",
   "execution_count": null,
   "id": "0abbcf21",
   "metadata": {},
   "outputs": [],
   "source": [
    "op.contains([1, 2, 3, 4, 10], 10)"
   ]
  },
  {
   "cell_type": "code",
   "execution_count": null,
   "id": "d485c7e6",
   "metadata": {},
   "outputs": [],
   "source": [
    "10 in [1, 2, 3, 4, 5, 10]"
   ]
  },
  {
   "cell_type": "markdown",
   "id": "c5c1a2bd",
   "metadata": {},
   "source": [
    "---"
   ]
  },
  {
   "cell_type": "code",
   "execution_count": null,
   "id": "76d2ef9d",
   "metadata": {},
   "outputs": [],
   "source": [
    "import numpy as np"
   ]
  },
  {
   "cell_type": "code",
   "execution_count": null,
   "id": "d121af9e",
   "metadata": {},
   "outputs": [],
   "source": [
    "a = np.array([1, 2, 3])"
   ]
  },
  {
   "cell_type": "code",
   "execution_count": null,
   "id": "4e5ca218",
   "metadata": {},
   "outputs": [],
   "source": [
    "op.matmul(a, a)"
   ]
  },
  {
   "cell_type": "code",
   "execution_count": null,
   "id": "20b6cce2",
   "metadata": {},
   "outputs": [],
   "source": [
    "a @ a"
   ]
  },
  {
   "cell_type": "code",
   "execution_count": null,
   "id": "c7e05189",
   "metadata": {},
   "outputs": [],
   "source": [
    "np.dot(a, a)"
   ]
  }
 ],
 "metadata": {
  "kernelspec": {
   "display_name": "Python 3 (ipykernel)",
   "language": "python",
   "name": "python3"
  },
  "language_info": {
   "codemirror_mode": {
    "name": "ipython",
    "version": 3
   },
   "file_extension": ".py",
   "mimetype": "text/x-python",
   "name": "python",
   "nbconvert_exporter": "python",
   "pygments_lexer": "ipython3",
   "version": "3.8.12"
  }
 },
 "nbformat": 4,
 "nbformat_minor": 5
}
