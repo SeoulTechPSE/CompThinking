{
 "cells": [
  {
   "cell_type": "markdown",
   "id": "22ca56ca",
   "metadata": {},
   "source": [
    "# 41 장. 예외, 경고, 단언 처리 알아보기"
   ]
  },
  {
   "cell_type": "markdown",
   "id": "ec295c7a",
   "metadata": {},
   "source": [
    "## 41.1. 예외 처리하기"
   ]
  },
  {
   "cell_type": "code",
   "execution_count": null,
   "id": "54784837",
   "metadata": {},
   "outputs": [],
   "source": [
    "Exception"
   ]
  },
  {
   "cell_type": "code",
   "execution_count": null,
   "id": "0f2f8a26",
   "metadata": {},
   "outputs": [],
   "source": [
    "isinstance(Exception, type)"
   ]
  },
  {
   "cell_type": "code",
   "execution_count": null,
   "id": "d661d54f",
   "metadata": {},
   "outputs": [],
   "source": [
    "e = Exception('예외를 발생합니다.')"
   ]
  },
  {
   "cell_type": "code",
   "execution_count": null,
   "id": "5990bf91",
   "metadata": {},
   "outputs": [],
   "source": [
    "type(e)"
   ]
  },
  {
   "cell_type": "code",
   "execution_count": null,
   "id": "4fa3a5ce",
   "metadata": {},
   "outputs": [],
   "source": [
    "e.args"
   ]
  },
  {
   "cell_type": "markdown",
   "id": "556a3299",
   "metadata": {},
   "source": [
    "---"
   ]
  },
  {
   "cell_type": "code",
   "execution_count": null,
   "id": "5fdafa88",
   "metadata": {},
   "outputs": [],
   "source": [
    "TypeError"
   ]
  },
  {
   "cell_type": "code",
   "execution_count": null,
   "id": "4f692d92",
   "metadata": {},
   "outputs": [],
   "source": [
    "issubclass(TypeError, Exception)"
   ]
  },
  {
   "cell_type": "code",
   "execution_count": null,
   "id": "30838dbd",
   "metadata": {},
   "outputs": [],
   "source": [
    "TypeError.__bases__"
   ]
  },
  {
   "cell_type": "markdown",
   "id": "fc1206bd",
   "metadata": {},
   "source": [
    "---"
   ]
  },
  {
   "cell_type": "code",
   "execution_count": null,
   "id": "ba147fb3",
   "metadata": {},
   "outputs": [],
   "source": [
    "while True:\n",
    "    x = int(input('정수를 입력하세요: '))\n",
    "    if isinstance(x, int):\n",
    "        print(' 입력값 ', x)"
   ]
  },
  {
   "cell_type": "code",
   "execution_count": null,
   "id": "a5eac1e7",
   "metadata": {},
   "outputs": [],
   "source": [
    "while True:\n",
    "    try:\n",
    "        x = int(input('정수를 입력하세요'))\n",
    "        break\n",
    "    except ValueError:\n",
    "        print('정수가 아닌 값을 입력했습니다')"
   ]
  },
  {
   "cell_type": "markdown",
   "id": "fd7efb03",
   "metadata": {},
   "source": [
    "---"
   ]
  },
  {
   "cell_type": "code",
   "execution_count": null,
   "id": "6798711f",
   "metadata": {},
   "outputs": [],
   "source": [
    "def this_fails():\n",
    "    x = 1 / 0"
   ]
  },
  {
   "cell_type": "code",
   "execution_count": null,
   "id": "3c1461aa",
   "metadata": {},
   "outputs": [],
   "source": [
    "try:\n",
    "    this_fails()\n",
    "except ZeroDivisionError as err:\n",
    "    print('함수를 처리할 때 예외 발생: ', err)"
   ]
  },
  {
   "cell_type": "markdown",
   "id": "38f7e06c",
   "metadata": {},
   "source": [
    "---"
   ]
  },
  {
   "cell_type": "code",
   "execution_count": null,
   "id": "81b4c456",
   "metadata": {},
   "outputs": [],
   "source": [
    "class InputError(Exception):\n",
    "    \"\"\"Exception raised for errors in the input.\n",
    "    Attributes:\n",
    "        expression -- 에러나 예외의 메시지\n",
    "        module -- 모듈명\n",
    "    \"\"\"\n",
    "    \n",
    "    def __init__(self, expression, module):\n",
    "        self.expression = expression\n",
    "        self.module = module"
   ]
  },
  {
   "cell_type": "code",
   "execution_count": null,
   "id": "b8b84c61",
   "metadata": {},
   "outputs": [],
   "source": [
    "try:\n",
    "    raise InputError(' 예외 발생 ', __name__)\n",
    "except InputError as e:\n",
    "    print(e.expression)\n",
    "    print(e.module)"
   ]
  },
  {
   "cell_type": "markdown",
   "id": "6bd4ec09",
   "metadata": {},
   "source": [
    "---"
   ]
  },
  {
   "cell_type": "code",
   "execution_count": null,
   "id": "30d0da5c",
   "metadata": {},
   "outputs": [],
   "source": [
    "try:\n",
    "    raise InputError('예외 발생 ', __name__)\n",
    "except InputError as e:\n",
    "    print(e.expression)\n",
    "    print(e.module)\n",
    "finally:\n",
    "    print('반드시 처리합니다.')"
   ]
  },
  {
   "cell_type": "markdown",
   "id": "75cd40e5",
   "metadata": {},
   "source": [
    "---"
   ]
  },
  {
   "cell_type": "code",
   "execution_count": null,
   "id": "af68bb04",
   "metadata": {},
   "outputs": [],
   "source": [
    "try:\n",
    "    print('정상처리')\n",
    "except InputError as e:\n",
    "    print(e.expression)\n",
    "    print(e.module)\n",
    "else:\n",
    "    print('예외가 발생하지 않았습니다.')\n",
    "finally:\n",
    "    print('반드시 처리합니다.')    "
   ]
  },
  {
   "cell_type": "markdown",
   "id": "4a066363",
   "metadata": {},
   "source": [
    "## 41.2. 경고 처리하기"
   ]
  },
  {
   "cell_type": "code",
   "execution_count": null,
   "id": "5095a313",
   "metadata": {},
   "outputs": [],
   "source": [
    "import warnings"
   ]
  },
  {
   "cell_type": "code",
   "execution_count": null,
   "id": "1e87137b",
   "metadata": {},
   "outputs": [],
   "source": [
    "print('경고처리 전')\n",
    "warnings.warn(' 이 모듈은 사용이 정지된 것입니다. ')\n",
    "print('경고처리 후')"
   ]
  },
  {
   "cell_type": "code",
   "execution_count": null,
   "id": "0001c22c",
   "metadata": {},
   "outputs": [],
   "source": [
    "def add(x, y):\n",
    "    warnings.warn('이 함수는 조만간 변경됩니다.')\n",
    "    return x + y"
   ]
  },
  {
   "cell_type": "code",
   "execution_count": null,
   "id": "163f0839",
   "metadata": {},
   "outputs": [],
   "source": [
    "add(5, 5) "
   ]
  },
  {
   "cell_type": "code",
   "execution_count": null,
   "id": "d5d0d94d",
   "metadata": {},
   "outputs": [],
   "source": [
    "def function_with_warning():\n",
    "    warnings.warn('이 함수는 이제 사용을 중단해야 합니다!!!')"
   ]
  },
  {
   "cell_type": "code",
   "execution_count": null,
   "id": "550022e7",
   "metadata": {},
   "outputs": [],
   "source": [
    "warnings.simplefilter('once', UserWarning)"
   ]
  },
  {
   "cell_type": "code",
   "execution_count": null,
   "id": "954e050a",
   "metadata": {},
   "outputs": [],
   "source": [
    "function_with_warning()\n",
    "function_with_warning()\n",
    "function_with_warning()"
   ]
  },
  {
   "cell_type": "code",
   "execution_count": null,
   "id": "e8b43245",
   "metadata": {},
   "outputs": [],
   "source": [
    "def fxn():\n",
    "    warnings.warn('deprecated', DeprecationWarning)\n",
    "    print('처리됩니다.')"
   ]
  },
  {
   "cell_type": "code",
   "execution_count": null,
   "id": "cc94383b",
   "metadata": {},
   "outputs": [],
   "source": [
    "fxn()"
   ]
  },
  {
   "cell_type": "markdown",
   "id": "3e0328b5",
   "metadata": {},
   "source": [
    "## 41.3. 단언문 처리하기"
   ]
  },
  {
   "cell_type": "code",
   "execution_count": null,
   "id": "a1ea178c",
   "metadata": {},
   "outputs": [],
   "source": [
    "assert 100 < 98, '예외'"
   ]
  },
  {
   "cell_type": "code",
   "execution_count": null,
   "id": "b68f42ec",
   "metadata": {},
   "outputs": [],
   "source": [
    "def add(x, y):\n",
    "    assert (type(x), type(y)) in [(int, int)], '정수가 아님'\n",
    "    return x + y"
   ]
  },
  {
   "cell_type": "code",
   "execution_count": null,
   "id": "7e116b37",
   "metadata": {},
   "outputs": [],
   "source": [
    "add(10, 20)"
   ]
  },
  {
   "cell_type": "code",
   "execution_count": null,
   "id": "a5bf37e4",
   "metadata": {},
   "outputs": [],
   "source": [
    "add(10, 20.5)"
   ]
  }
 ],
 "metadata": {
  "kernelspec": {
   "display_name": "Python 3 (ipykernel)",
   "language": "python",
   "name": "python3"
  },
  "language_info": {
   "codemirror_mode": {
    "name": "ipython",
    "version": 3
   },
   "file_extension": ".py",
   "mimetype": "text/x-python",
   "name": "python",
   "nbconvert_exporter": "python",
   "pygments_lexer": "ipython3",
   "version": "3.8.12"
  }
 },
 "nbformat": 4,
 "nbformat_minor": 5
}
