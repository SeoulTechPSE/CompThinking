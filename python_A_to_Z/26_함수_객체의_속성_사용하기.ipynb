{
 "cells": [
  {
   "cell_type": "markdown",
   "id": "173a2590",
   "metadata": {},
   "source": [
    "# 26 장. 함수 객체의 속성 사용하기"
   ]
  },
  {
   "cell_type": "markdown",
   "id": "0afd0a97",
   "metadata": {},
   "source": [
    "## 26.1. 함수 객체에 속성 추가하기"
   ]
  },
  {
   "cell_type": "code",
   "execution_count": null,
   "id": "565db4d7",
   "metadata": {},
   "outputs": [],
   "source": [
    "def func(x, y):\n",
    "    func.sum = func.sum + x + y\n",
    "    return x + y"
   ]
  },
  {
   "cell_type": "code",
   "execution_count": null,
   "id": "48b2556f",
   "metadata": {},
   "outputs": [],
   "source": [
    "func.sum = 0"
   ]
  },
  {
   "cell_type": "code",
   "execution_count": null,
   "id": "6676883e",
   "metadata": {},
   "outputs": [],
   "source": [
    "func.__dict__"
   ]
  },
  {
   "cell_type": "code",
   "execution_count": null,
   "id": "9c3db2e4",
   "metadata": {},
   "outputs": [],
   "source": [
    "func(1, 6)"
   ]
  },
  {
   "cell_type": "code",
   "execution_count": null,
   "id": "f3407371",
   "metadata": {},
   "outputs": [],
   "source": [
    "func.__dict__"
   ]
  },
  {
   "cell_type": "code",
   "execution_count": null,
   "id": "74e7a1d1",
   "metadata": {},
   "outputs": [],
   "source": [
    "func(15, 5)"
   ]
  },
  {
   "cell_type": "code",
   "execution_count": null,
   "id": "d631cbc1",
   "metadata": {},
   "outputs": [],
   "source": [
    "func.__dict__"
   ]
  },
  {
   "cell_type": "markdown",
   "id": "6aa77ebf",
   "metadata": {},
   "source": [
    "---"
   ]
  },
  {
   "cell_type": "code",
   "execution_count": null,
   "id": "6c12fef4",
   "metadata": {},
   "outputs": [],
   "source": [
    "def func1(x, y):\n",
    "    if not hasattr(func1, 'sum'):\n",
    "        func1.sum = 0\n",
    "    func.sum = func.sum + x + y\n",
    "    return x + y"
   ]
  },
  {
   "cell_type": "code",
   "execution_count": null,
   "id": "0703138c",
   "metadata": {},
   "outputs": [],
   "source": [
    "func1(5, 5)"
   ]
  },
  {
   "cell_type": "code",
   "execution_count": null,
   "id": "5e84a70f",
   "metadata": {},
   "outputs": [],
   "source": [
    "func1.__dict__"
   ]
  },
  {
   "cell_type": "markdown",
   "id": "eaa58088",
   "metadata": {},
   "source": [
    "## 26.2. 실행되는 함수 정보 공유하기 - memoization"
   ]
  },
  {
   "cell_type": "code",
   "execution_count": null,
   "id": "fca79cc3",
   "metadata": {},
   "outputs": [],
   "source": [
    "def fact(n):\n",
    "    if n == 0 or n == 1:\n",
    "        return 1\n",
    "    return n * fact(n - 1)"
   ]
  },
  {
   "cell_type": "code",
   "execution_count": null,
   "id": "dcec8750",
   "metadata": {},
   "outputs": [],
   "source": [
    "fact(10)"
   ]
  },
  {
   "cell_type": "code",
   "execution_count": null,
   "id": "d334d70f",
   "metadata": {},
   "outputs": [],
   "source": [
    "fact(10)"
   ]
  },
  {
   "cell_type": "markdown",
   "id": "d1f18fae",
   "metadata": {},
   "source": [
    "---"
   ]
  },
  {
   "cell_type": "code",
   "execution_count": null,
   "id": "63b03d20",
   "metadata": {},
   "outputs": [],
   "source": [
    "def factorial(n):\n",
    "    if not hasattr(factorial, '_memo'):\n",
    "        factorial._memo = {1:1}\n",
    "    if n not in factorial._memo:\n",
    "        factorial._memo[n] = n * factorial(n - 1)\n",
    "    return factorial._memo.setdefault(n, 1)   "
   ]
  },
  {
   "cell_type": "code",
   "execution_count": null,
   "id": "29e9ee63",
   "metadata": {},
   "outputs": [],
   "source": [
    "factorial(5)"
   ]
  },
  {
   "cell_type": "code",
   "execution_count": null,
   "id": "fcf8d8cf",
   "metadata": {},
   "outputs": [],
   "source": [
    "factorial._memo"
   ]
  },
  {
   "cell_type": "code",
   "execution_count": null,
   "id": "c285edac",
   "metadata": {},
   "outputs": [],
   "source": [
    "factorial(3)"
   ]
  },
  {
   "cell_type": "code",
   "execution_count": null,
   "id": "dbe149a1",
   "metadata": {},
   "outputs": [],
   "source": [
    "factorial._memo"
   ]
  },
  {
   "cell_type": "markdown",
   "id": "718d6ab4",
   "metadata": {},
   "source": [
    "---"
   ]
  },
  {
   "cell_type": "code",
   "execution_count": null,
   "id": "adeeb2d1",
   "metadata": {},
   "outputs": [],
   "source": [
    "def memoize(func):\n",
    "    memoize.cache = {}\n",
    "    \n",
    "    def inner(x):\n",
    "        \n",
    "        if x not in memoize.cache:\n",
    "            print('계산함')\n",
    "            for i in range(0, x + 1):\n",
    "                if i not in memoize.cache:\n",
    "                    memoize.cache[i] = func(i)\n",
    "        return memoize.cache[x]\n",
    "    return inner "
   ]
  },
  {
   "cell_type": "code",
   "execution_count": null,
   "id": "feed0b31",
   "metadata": {},
   "outputs": [],
   "source": [
    "a = memoize(fact)"
   ]
  },
  {
   "cell_type": "code",
   "execution_count": null,
   "id": "80770289",
   "metadata": {},
   "outputs": [],
   "source": [
    "a(5)"
   ]
  },
  {
   "cell_type": "code",
   "execution_count": null,
   "id": "2f74b1b7",
   "metadata": {},
   "outputs": [],
   "source": [
    "memoize.__dict__"
   ]
  },
  {
   "cell_type": "code",
   "execution_count": null,
   "id": "7f9e4d94",
   "metadata": {},
   "outputs": [],
   "source": [
    "a(6)"
   ]
  },
  {
   "cell_type": "code",
   "execution_count": null,
   "id": "82a4cb7d",
   "metadata": {},
   "outputs": [],
   "source": [
    "memoize.__dict__"
   ]
  },
  {
   "cell_type": "markdown",
   "id": "e83e1fef",
   "metadata": {},
   "source": [
    "---"
   ]
  },
  {
   "cell_type": "code",
   "execution_count": null,
   "id": "c923fc2a",
   "metadata": {},
   "outputs": [],
   "source": [
    "import functools\n",
    "\n",
    "@functools.lru_cache(maxsize=None)\n",
    "def fact_(n):\n",
    "    if n == 0 or n == 1:\n",
    "        return 1\n",
    "    return n * fact_(n - 1)"
   ]
  },
  {
   "cell_type": "code",
   "execution_count": null,
   "id": "dd4c0295",
   "metadata": {},
   "outputs": [],
   "source": [
    "fact_(10)"
   ]
  },
  {
   "cell_type": "code",
   "execution_count": null,
   "id": "21052dc8",
   "metadata": {},
   "outputs": [],
   "source": [
    "fact_(5)"
   ]
  },
  {
   "cell_type": "code",
   "execution_count": null,
   "id": "991f3980",
   "metadata": {},
   "outputs": [],
   "source": [
    "fact_.cache_info()"
   ]
  },
  {
   "cell_type": "code",
   "execution_count": null,
   "id": "4e44ae7f",
   "metadata": {},
   "outputs": [],
   "source": [
    "fact_.__dict__"
   ]
  },
  {
   "cell_type": "code",
   "execution_count": null,
   "id": "897800ca",
   "metadata": {},
   "outputs": [],
   "source": [
    "fact_.__wrapped__(5)"
   ]
  },
  {
   "cell_type": "markdown",
   "id": "b9874f22",
   "metadata": {},
   "source": [
    "## 26.3. 멀티 디스패치 처리하기"
   ]
  },
  {
   "cell_type": "code",
   "execution_count": null,
   "id": "b9647acb",
   "metadata": {},
   "outputs": [],
   "source": [
    "from multipledispatch import dispatch"
   ]
  },
  {
   "cell_type": "code",
   "execution_count": null,
   "id": "5b471fc2",
   "metadata": {},
   "outputs": [],
   "source": [
    "@dispatch(int, int)\n",
    "def join(x, y):\n",
    "    print('int + int')\n",
    "    return x + y"
   ]
  },
  {
   "cell_type": "code",
   "execution_count": null,
   "id": "4bc6221c",
   "metadata": {},
   "outputs": [],
   "source": [
    "join(10, 10)"
   ]
  },
  {
   "cell_type": "code",
   "execution_count": null,
   "id": "2f11f27c",
   "metadata": {},
   "outputs": [],
   "source": [
    "@dispatch(float, int)\n",
    "def join(x, y):\n",
    "    print('float + int')\n",
    "    return x + y"
   ]
  },
  {
   "cell_type": "code",
   "execution_count": null,
   "id": "1cc3af1c",
   "metadata": {},
   "outputs": [],
   "source": [
    "join(10.2, 10)"
   ]
  },
  {
   "cell_type": "code",
   "execution_count": null,
   "id": "7b07d55f",
   "metadata": {},
   "outputs": [],
   "source": [
    "type(join)"
   ]
  },
  {
   "cell_type": "code",
   "execution_count": null,
   "id": "4e081e7e",
   "metadata": {},
   "outputs": [],
   "source": [
    "join.__name__"
   ]
  },
  {
   "cell_type": "code",
   "execution_count": null,
   "id": "f7671829",
   "metadata": {},
   "outputs": [],
   "source": [
    "join.funcs"
   ]
  },
  {
   "cell_type": "code",
   "execution_count": null,
   "id": "0e7475da",
   "metadata": {},
   "outputs": [],
   "source": [
    "join.funcs[(int, int)]"
   ]
  },
  {
   "cell_type": "code",
   "execution_count": null,
   "id": "c9413e5a",
   "metadata": {},
   "outputs": [],
   "source": [
    "join.funcs[(float, int)]"
   ]
  },
  {
   "cell_type": "markdown",
   "id": "450a2c6c",
   "metadata": {},
   "source": [
    "---"
   ]
  },
  {
   "cell_type": "code",
   "execution_count": null,
   "id": "8ba3d044",
   "metadata": {},
   "outputs": [],
   "source": [
    "def float_add(x, y):\n",
    "    print('float + float')\n",
    "    return x + y"
   ]
  },
  {
   "cell_type": "code",
   "execution_count": null,
   "id": "20d4a2f5",
   "metadata": {},
   "outputs": [],
   "source": [
    "join.add((float, float), float_add)"
   ]
  },
  {
   "cell_type": "code",
   "execution_count": null,
   "id": "e2e8c1c5",
   "metadata": {},
   "outputs": [],
   "source": [
    "join.funcs"
   ]
  },
  {
   "cell_type": "code",
   "execution_count": null,
   "id": "3c5dc928",
   "metadata": {},
   "outputs": [],
   "source": [
    "join(10.34, 11.34)"
   ]
  },
  {
   "cell_type": "code",
   "execution_count": null,
   "id": "3757261e",
   "metadata": {},
   "outputs": [],
   "source": [
    "def fadd(x, y, z):\n",
    "    print('float + float + float')\n",
    "    return x + y +z"
   ]
  },
  {
   "cell_type": "code",
   "execution_count": null,
   "id": "ef26a76a",
   "metadata": {},
   "outputs": [],
   "source": [
    "join.add((float, float, float), fadd)"
   ]
  },
  {
   "cell_type": "code",
   "execution_count": null,
   "id": "5b355544",
   "metadata": {},
   "outputs": [],
   "source": [
    "join(10.1, 99.2, 88.3)"
   ]
  }
 ],
 "metadata": {
  "kernelspec": {
   "display_name": "Python 3 (ipykernel)",
   "language": "python",
   "name": "python3"
  },
  "language_info": {
   "codemirror_mode": {
    "name": "ipython",
    "version": 3
   },
   "file_extension": ".py",
   "mimetype": "text/x-python",
   "name": "python",
   "nbconvert_exporter": "python",
   "pygments_lexer": "ipython3",
   "version": "3.8.12"
  }
 },
 "nbformat": 4,
 "nbformat_minor": 5
}
