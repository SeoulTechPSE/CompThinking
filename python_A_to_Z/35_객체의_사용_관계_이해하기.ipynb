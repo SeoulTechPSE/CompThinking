{
 "cells": [
  {
   "cell_type": "markdown",
   "id": "1198c268",
   "metadata": {},
   "source": [
    "# 35 장. 객체의 사용 관계 이해하기"
   ]
  },
  {
   "cell_type": "markdown",
   "id": "2dbf994c",
   "metadata": {},
   "source": [
    "## 35.1. 사용 관계(Association)"
   ]
  },
  {
   "cell_type": "code",
   "execution_count": null,
   "id": "2f849db3",
   "metadata": {},
   "outputs": [],
   "source": [
    "class Master:\n",
    "    def __init__(self, name):\n",
    "        self._name = name\n",
    "        self.Name = Slave()\n",
    "        \n",
    "class Slave:\n",
    "    def get_name(self, other):\n",
    "        return other._name"
   ]
  },
  {
   "cell_type": "code",
   "execution_count": null,
   "id": "236c110f",
   "metadata": {},
   "outputs": [],
   "source": [
    "m = Master('고요한')"
   ]
  },
  {
   "cell_type": "code",
   "execution_count": null,
   "id": "33b57c9b",
   "metadata": {},
   "outputs": [],
   "source": [
    "m.Name.get_name(m)"
   ]
  },
  {
   "cell_type": "markdown",
   "id": "265f591c",
   "metadata": {},
   "source": [
    "## 35.2. 결합 관계(Aggregation)"
   ]
  },
  {
   "cell_type": "code",
   "execution_count": null,
   "id": "25340226",
   "metadata": {},
   "outputs": [],
   "source": [
    "class Balance(object):\n",
    "    def __init__(self, account_code, money=0):\n",
    "        self.account_code = account_code\n",
    "        self.balance = money\n",
    "        \n",
    "    def set_balance(self, money):\n",
    "        self.balance += money"
   ]
  },
  {
   "cell_type": "code",
   "execution_count": null,
   "id": "6b7992ae",
   "metadata": {},
   "outputs": [],
   "source": [
    "class Agreement(object):\n",
    "    def __init__(self, money, b):\n",
    "        self.acc_balance = money\n",
    "        self.b = b\n",
    "        self.b.set_balance(money)\n",
    "        \n",
    "    def __del__(self):\n",
    "        self.b.set_balance(-self.acc_balance)\n",
    "        del self"
   ]
  },
  {
   "cell_type": "code",
   "execution_count": null,
   "id": "8a29ca88",
   "metadata": {},
   "outputs": [],
   "source": [
    "b = Balance('1234')"
   ]
  },
  {
   "cell_type": "code",
   "execution_count": null,
   "id": "98ded9d8",
   "metadata": {},
   "outputs": [],
   "source": [
    "a = Agreement(100, b)"
   ]
  },
  {
   "cell_type": "code",
   "execution_count": null,
   "id": "a2ead450",
   "metadata": {},
   "outputs": [],
   "source": [
    "a.__dict__"
   ]
  },
  {
   "cell_type": "code",
   "execution_count": null,
   "id": "ec6cd925",
   "metadata": {},
   "outputs": [],
   "source": [
    "b.__dict__"
   ]
  },
  {
   "cell_type": "code",
   "execution_count": null,
   "id": "4e0e9279",
   "metadata": {},
   "outputs": [],
   "source": [
    "del a"
   ]
  },
  {
   "cell_type": "code",
   "execution_count": null,
   "id": "5e1de767",
   "metadata": {},
   "outputs": [],
   "source": [
    "b"
   ]
  },
  {
   "cell_type": "code",
   "execution_count": null,
   "id": "9cfc1d28",
   "metadata": {},
   "outputs": [],
   "source": [
    "b.__dict__"
   ]
  },
  {
   "cell_type": "markdown",
   "id": "563696db",
   "metadata": {},
   "source": [
    "## 35.3. 조합 관계(Composition)"
   ]
  },
  {
   "cell_type": "code",
   "execution_count": null,
   "id": "4b1d1a6b",
   "metadata": {},
   "outputs": [],
   "source": [
    "class Balance(object):\n",
    "    def __init__(self, money=0):\n",
    "        self._bal = 0\n",
    "        self.set_balance(money)\n",
    "        \n",
    "    def set_balance(self, money):\n",
    "        self._bal += money"
   ]
  },
  {
   "cell_type": "code",
   "execution_count": null,
   "id": "f0d0f24a",
   "metadata": {},
   "outputs": [],
   "source": [
    "class Agreement(object):\n",
    "    def __init__(self, acc_no, money):\n",
    "        self.acc_no = acc_no\n",
    "        self.balance = Balance(money)\n",
    "        \n",
    "    def get_balance(self):\n",
    "        return self.balance._bal"
   ]
  },
  {
   "cell_type": "code",
   "execution_count": null,
   "id": "a5a3b0b0",
   "metadata": {},
   "outputs": [],
   "source": [
    "a = Agreement('1234', 1000)"
   ]
  },
  {
   "cell_type": "code",
   "execution_count": null,
   "id": "16fb5deb",
   "metadata": {},
   "outputs": [],
   "source": [
    "a.__dict__"
   ]
  },
  {
   "cell_type": "code",
   "execution_count": null,
   "id": "421dd55b",
   "metadata": {},
   "outputs": [],
   "source": [
    "a.get_balance()"
   ]
  },
  {
   "cell_type": "code",
   "execution_count": null,
   "id": "b8b13caf",
   "metadata": {},
   "outputs": [],
   "source": [
    "del a"
   ]
  },
  {
   "cell_type": "code",
   "execution_count": null,
   "id": "cd7bdf95",
   "metadata": {},
   "outputs": [],
   "source": [
    "a.get_balance()"
   ]
  },
  {
   "cell_type": "markdown",
   "id": "65d45f15",
   "metadata": {},
   "source": [
    "## 35.4. 의존 관계(Dependency)"
   ]
  },
  {
   "cell_type": "code",
   "execution_count": null,
   "id": "7bf392f1",
   "metadata": {},
   "outputs": [],
   "source": [
    "class Balance(object):\n",
    "    \n",
    "    def __init__(self, money=0):\n",
    "        self._bal = 0\n",
    "        \n",
    "    def get_balance(self):\n",
    "        return self._bal\n",
    "    \n",
    "    def set_balance(self, acc_no, money):\n",
    "        if not hasattr(self, '_acc_no'):\n",
    "            self._acc_no = acc_no\n",
    "        self._bal += money\n",
    "        \n",
    "    def __del__(self):\n",
    "        del self"
   ]
  },
  {
   "cell_type": "code",
   "execution_count": null,
   "id": "e0686a91",
   "metadata": {},
   "outputs": [],
   "source": [
    "class Agreement(object):\n",
    "    \n",
    "    def __init__(self, acc_no, b, money):\n",
    "        self.acc_no = acc_no\n",
    "        self.set_balance(b, money)\n",
    "        \n",
    "    def get_balance(self, b):\n",
    "        return b.get_balance()\n",
    "    \n",
    "    def set_balance(self, b, money):\n",
    "        b.set_balance(self.acc_no, money)\n",
    "        \n",
    "    def __del__(self):\n",
    "        del self"
   ]
  },
  {
   "cell_type": "code",
   "execution_count": null,
   "id": "90c0a2bb",
   "metadata": {},
   "outputs": [],
   "source": [
    "b = Balance()"
   ]
  },
  {
   "cell_type": "code",
   "execution_count": null,
   "id": "ec834270",
   "metadata": {},
   "outputs": [],
   "source": [
    "a = Agreement('1234', b, 1000)"
   ]
  },
  {
   "cell_type": "code",
   "execution_count": null,
   "id": "5fb9176b",
   "metadata": {},
   "outputs": [],
   "source": [
    "a.__dict__"
   ]
  },
  {
   "cell_type": "code",
   "execution_count": null,
   "id": "ec6ff533",
   "metadata": {},
   "outputs": [],
   "source": [
    "b.__dict__"
   ]
  },
  {
   "cell_type": "code",
   "execution_count": null,
   "id": "0313d84e",
   "metadata": {},
   "outputs": [],
   "source": [
    "a.get_balance(b)"
   ]
  },
  {
   "cell_type": "code",
   "execution_count": null,
   "id": "bc58f60b",
   "metadata": {},
   "outputs": [],
   "source": [
    "del a"
   ]
  },
  {
   "cell_type": "code",
   "execution_count": null,
   "id": "d8d67ea5",
   "metadata": {},
   "outputs": [],
   "source": [
    "a.get_balance(b)"
   ]
  },
  {
   "cell_type": "code",
   "execution_count": null,
   "id": "d4fef04f",
   "metadata": {},
   "outputs": [],
   "source": [
    "b.__dict__"
   ]
  },
  {
   "cell_type": "code",
   "execution_count": null,
   "id": "0ea3a2d6",
   "metadata": {},
   "outputs": [],
   "source": [
    "del b"
   ]
  },
  {
   "cell_type": "code",
   "execution_count": null,
   "id": "ef6364bc",
   "metadata": {},
   "outputs": [],
   "source": [
    "b"
   ]
  },
  {
   "cell_type": "markdown",
   "id": "6e458abc",
   "metadata": {},
   "source": [
    "## 35.5. 옵저버(Observer) 패턴 알아보기"
   ]
  },
  {
   "cell_type": "code",
   "execution_count": null,
   "id": "0281e7af",
   "metadata": {},
   "outputs": [],
   "source": [
    "from abc import ABC, abstractmethod"
   ]
  },
  {
   "cell_type": "code",
   "execution_count": null,
   "id": "2e73cb4e",
   "metadata": {},
   "outputs": [],
   "source": [
    "from random import randrange"
   ]
  },
  {
   "cell_type": "code",
   "execution_count": null,
   "id": "a2240c4c",
   "metadata": {},
   "outputs": [],
   "source": [
    "class StateMachine(ABC):\n",
    "    \n",
    "    @abstractmethod\n",
    "    def attach(self, observer):\n",
    "        pass\n",
    "    \n",
    "    @abstractmethod\n",
    "    def detach(self, observer):\n",
    "        pass\n",
    "    \n",
    "    @abstractmethod\n",
    "    def notify(self):\n",
    "        pass"
   ]
  },
  {
   "cell_type": "code",
   "execution_count": null,
   "id": "5392b65b",
   "metadata": {},
   "outputs": [],
   "source": [
    "class ConcreteStateMachine(StateMachine):\n",
    "    \n",
    "    _state = 0\n",
    "    _observers = []\n",
    "    \n",
    "    def attach(self, observer):\n",
    "        print('옵저버 등록')\n",
    "        self._observers.append(observer)\n",
    "        \n",
    "    def detach(self, observer):\n",
    "        print('옵저버 삭제')\n",
    "        self._observers.remove(observer)\n",
    "        \n",
    "    def notify(self):\n",
    "        print('등록된 옵저버에 통보...')\n",
    "        for observer in self._observers:\n",
    "            observer.update(self)\n",
    "            \n",
    "    def some_business_logic(self):\n",
    "        print('상태 변경하기')\n",
    "        self._state = randrange(0, 10)\n",
    "        \n",
    "        print(f'상태 값 확인하기: {self._state}')\n",
    "        self.notify()"
   ]
  },
  {
   "cell_type": "code",
   "execution_count": null,
   "id": "b1f40ced",
   "metadata": {},
   "outputs": [],
   "source": [
    "class Observer(ABC):\n",
    "    \n",
    "    @abstractmethod\n",
    "    def update(self, subject):\n",
    "        pass"
   ]
  },
  {
   "cell_type": "code",
   "execution_count": null,
   "id": "9d8d58f3",
   "metadata": {},
   "outputs": [],
   "source": [
    "class ConcreteObserverA(Observer):\n",
    "    def update(self, subject):\n",
    "        if subject._state <= 9:\n",
    "            print('관찰 상태 A: 이벤트 실행')\n",
    "            \n",
    "class ConcreteObserverB(Observer):\n",
    "    def update(self, subject):\n",
    "        if subject._state == 0 or subject._state >=2:\n",
    "            print('관찰 상태 B: 이벤트 실행')            "
   ]
  },
  {
   "cell_type": "code",
   "execution_count": null,
   "id": "d74908bd",
   "metadata": {},
   "outputs": [],
   "source": [
    "state = ConcreteStateMachine()"
   ]
  },
  {
   "cell_type": "code",
   "execution_count": null,
   "id": "fc0e9e88",
   "metadata": {},
   "outputs": [],
   "source": [
    "observer_a = ConcreteObserverA()\n",
    "state.attach(observer_a)"
   ]
  },
  {
   "cell_type": "code",
   "execution_count": null,
   "id": "74062ef7",
   "metadata": {},
   "outputs": [],
   "source": [
    "observer_b = ConcreteObserverB()\n",
    "state.attach(observer_b)"
   ]
  },
  {
   "cell_type": "code",
   "execution_count": null,
   "id": "c7e29049",
   "metadata": {},
   "outputs": [],
   "source": [
    "state.some_business_logic()"
   ]
  },
  {
   "cell_type": "code",
   "execution_count": null,
   "id": "6195e336",
   "metadata": {},
   "outputs": [],
   "source": [
    "state.detach(observer_a)"
   ]
  },
  {
   "cell_type": "code",
   "execution_count": null,
   "id": "1f2f1ef0",
   "metadata": {},
   "outputs": [],
   "source": [
    "state.some_business_logic()"
   ]
  }
 ],
 "metadata": {
  "kernelspec": {
   "display_name": "Python 3 (ipykernel)",
   "language": "python",
   "name": "python3"
  },
  "language_info": {
   "codemirror_mode": {
    "name": "ipython",
    "version": 3
   },
   "file_extension": ".py",
   "mimetype": "text/x-python",
   "name": "python",
   "nbconvert_exporter": "python",
   "pygments_lexer": "ipython3",
   "version": "3.8.12"
  }
 },
 "nbformat": 4,
 "nbformat_minor": 5
}
