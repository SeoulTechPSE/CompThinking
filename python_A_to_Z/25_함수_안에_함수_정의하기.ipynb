{
 "cells": [
  {
   "cell_type": "markdown",
   "id": "eed24717",
   "metadata": {},
   "source": [
    "# 25 장. 함수 안에 함수 정의하기"
   ]
  },
  {
   "cell_type": "markdown",
   "id": "9ece8274",
   "metadata": {},
   "source": [
    "## 25.1. 외부 함수 안에 내부 함수 정의"
   ]
  },
  {
   "cell_type": "code",
   "execution_count": null,
   "id": "44f9815f",
   "metadata": {},
   "outputs": [],
   "source": [
    "def outer(x, y):\n",
    "    def inner():\n",
    "        return x + y\n",
    "    return inner()"
   ]
  },
  {
   "cell_type": "code",
   "execution_count": null,
   "id": "0580f389",
   "metadata": {},
   "outputs": [],
   "source": [
    "outer(5, 5)"
   ]
  },
  {
   "cell_type": "code",
   "execution_count": null,
   "id": "91155e98",
   "metadata": {},
   "outputs": [],
   "source": [
    "def outer(x, y):\n",
    "    def inner():\n",
    "        print('inner locals', locals())\n",
    "        return x + y\n",
    "    print('outer locals', locals())\n",
    "    return inner()"
   ]
  },
  {
   "cell_type": "code",
   "execution_count": null,
   "id": "7ed988f7",
   "metadata": {},
   "outputs": [],
   "source": [
    "outer(5, 5)"
   ]
  },
  {
   "cell_type": "markdown",
   "id": "f60b72d2",
   "metadata": {},
   "source": [
    "## 25.2. 함수 이름공간의 스코프(scope) 이해하기"
   ]
  },
  {
   "cell_type": "code",
   "execution_count": null,
   "id": "9dac3230",
   "metadata": {},
   "outputs": [],
   "source": [
    "def func(x, y):\n",
    "    result = result + x + y\n",
    "    return result"
   ]
  },
  {
   "cell_type": "code",
   "execution_count": null,
   "id": "48fadb0d",
   "metadata": {},
   "outputs": [],
   "source": [
    "func(5, 5)"
   ]
  },
  {
   "cell_type": "code",
   "execution_count": null,
   "id": "4a24f67f",
   "metadata": {},
   "outputs": [],
   "source": [
    "def func1(x, y):\n",
    "    result = 0\n",
    "    result = result + x + y\n",
    "    return result"
   ]
  },
  {
   "cell_type": "code",
   "execution_count": null,
   "id": "bdccc2d9",
   "metadata": {},
   "outputs": [],
   "source": [
    "func1(5, 5)"
   ]
  },
  {
   "cell_type": "markdown",
   "id": "29929aa8",
   "metadata": {},
   "source": [
    "---"
   ]
  },
  {
   "cell_type": "code",
   "execution_count": null,
   "id": "efb14ed5",
   "metadata": {},
   "outputs": [],
   "source": [
    "result = 0"
   ]
  },
  {
   "cell_type": "code",
   "execution_count": null,
   "id": "7a7abb74",
   "metadata": {},
   "outputs": [],
   "source": [
    "def func1(x, y):\n",
    "    result = result + x + y\n",
    "    return result"
   ]
  },
  {
   "cell_type": "code",
   "execution_count": null,
   "id": "5164a5a9",
   "metadata": {},
   "outputs": [],
   "source": [
    "func1(5, 5)"
   ]
  },
  {
   "cell_type": "code",
   "execution_count": null,
   "id": "77b393ba",
   "metadata": {},
   "outputs": [],
   "source": [
    "def func1(x, y):\n",
    "    global result\n",
    "    result = result + x + y\n",
    "    return result"
   ]
  },
  {
   "cell_type": "code",
   "execution_count": null,
   "id": "ddb2309b",
   "metadata": {},
   "outputs": [],
   "source": [
    "func1(5, 5)"
   ]
  },
  {
   "cell_type": "markdown",
   "id": "85226262",
   "metadata": {},
   "source": [
    "---"
   ]
  },
  {
   "cell_type": "code",
   "execution_count": null,
   "id": "979d9784",
   "metadata": {},
   "outputs": [],
   "source": [
    "def outer():\n",
    "    def inner():\n",
    "        x = x + 1\n",
    "        return x\n",
    "    return inner()"
   ]
  },
  {
   "cell_type": "code",
   "execution_count": null,
   "id": "5fd0a424",
   "metadata": {},
   "outputs": [],
   "source": [
    "outer()"
   ]
  },
  {
   "cell_type": "code",
   "execution_count": null,
   "id": "5c8776a8",
   "metadata": {},
   "outputs": [],
   "source": [
    "def outer1():\n",
    "    def inner1():\n",
    "        x = 0\n",
    "        x = x + 1\n",
    "        return x\n",
    "    return inner1()"
   ]
  },
  {
   "cell_type": "code",
   "execution_count": null,
   "id": "2783ab1f",
   "metadata": {},
   "outputs": [],
   "source": [
    "outer1()"
   ]
  },
  {
   "cell_type": "code",
   "execution_count": null,
   "id": "98e4adf2",
   "metadata": {},
   "outputs": [],
   "source": [
    "def outer2():\n",
    "    x = 0\n",
    "    def inner2():\n",
    "        x = x + 1\n",
    "        return x\n",
    "    return inner2()"
   ]
  },
  {
   "cell_type": "code",
   "execution_count": null,
   "id": "9f70d86e",
   "metadata": {},
   "outputs": [],
   "source": [
    "outer2()"
   ]
  },
  {
   "cell_type": "code",
   "execution_count": null,
   "id": "8644a3d9",
   "metadata": {},
   "outputs": [],
   "source": [
    "def outer3():\n",
    "    x = 0\n",
    "    def inner3():\n",
    "        nonlocal x\n",
    "        x = x + 1\n",
    "        return x\n",
    "    return inner3()"
   ]
  },
  {
   "cell_type": "code",
   "execution_count": null,
   "id": "00998ba1",
   "metadata": {},
   "outputs": [],
   "source": [
    "outer3()"
   ]
  },
  {
   "cell_type": "code",
   "execution_count": null,
   "id": "c514d3b8",
   "metadata": {},
   "outputs": [],
   "source": [
    "def outer4():\n",
    "    x = []\n",
    "    def inner4():\n",
    "        x = x.append(5)\n",
    "        return x\n",
    "    return inner4()"
   ]
  },
  {
   "cell_type": "code",
   "execution_count": null,
   "id": "bf71ecf6",
   "metadata": {},
   "outputs": [],
   "source": [
    "outer4()"
   ]
  },
  {
   "cell_type": "code",
   "execution_count": null,
   "id": "a1ad10c3",
   "metadata": {},
   "outputs": [],
   "source": [
    "def outer5():\n",
    "    x = []\n",
    "    def inner5():\n",
    "        x.append(5)\n",
    "        return x\n",
    "    return inner5()"
   ]
  },
  {
   "cell_type": "code",
   "execution_count": null,
   "id": "b1ee874b",
   "metadata": {},
   "outputs": [],
   "source": [
    "outer5()"
   ]
  },
  {
   "cell_type": "markdown",
   "id": "7a8a7576",
   "metadata": {},
   "source": [
    "## 25.3. 클로저(closure) 환경 알아보기"
   ]
  },
  {
   "cell_type": "code",
   "execution_count": null,
   "id": "bfe58933",
   "metadata": {},
   "outputs": [],
   "source": [
    "def outer(x):\n",
    "    def inner(y):\n",
    "        return x + y\n",
    "    return inner"
   ]
  },
  {
   "cell_type": "code",
   "execution_count": null,
   "id": "3e97a6cf",
   "metadata": {},
   "outputs": [],
   "source": [
    "a = outer(5)"
   ]
  },
  {
   "cell_type": "code",
   "execution_count": null,
   "id": "7303015c",
   "metadata": {},
   "outputs": [],
   "source": [
    "a.__name__"
   ]
  },
  {
   "cell_type": "code",
   "execution_count": null,
   "id": "a155be5c",
   "metadata": {},
   "outputs": [],
   "source": [
    "a.__closure__"
   ]
  },
  {
   "cell_type": "code",
   "execution_count": null,
   "id": "0b872eb3",
   "metadata": {},
   "outputs": [],
   "source": [
    "a.__closure__[0].cell_contents"
   ]
  },
  {
   "cell_type": "code",
   "execution_count": null,
   "id": "5d55a276",
   "metadata": {},
   "outputs": [],
   "source": [
    "a(10)"
   ]
  },
  {
   "cell_type": "markdown",
   "id": "f81f73dd",
   "metadata": {},
   "source": [
    "## 25.4. 부분함수 처리하기"
   ]
  },
  {
   "cell_type": "code",
   "execution_count": null,
   "id": "7aff2775",
   "metadata": {},
   "outputs": [],
   "source": [
    "def outer(x):\n",
    "    def inner(y):\n",
    "        return x + y\n",
    "    return inner"
   ]
  },
  {
   "cell_type": "code",
   "execution_count": null,
   "id": "e15b021d",
   "metadata": {},
   "outputs": [],
   "source": [
    "inner = outer(5)"
   ]
  },
  {
   "cell_type": "code",
   "execution_count": null,
   "id": "11f88b4c",
   "metadata": {},
   "outputs": [],
   "source": [
    "inner(10)"
   ]
  },
  {
   "cell_type": "code",
   "execution_count": null,
   "id": "65014b7d",
   "metadata": {},
   "outputs": [],
   "source": [
    "def outer1(x):\n",
    "    def inner1(y):\n",
    "        def inner2(z):\n",
    "            return x + y + z\n",
    "        return inner2\n",
    "    return inner1"
   ]
  },
  {
   "cell_type": "code",
   "execution_count": null,
   "id": "84f9367c",
   "metadata": {},
   "outputs": [],
   "source": [
    "inner1 = outer1(5)"
   ]
  },
  {
   "cell_type": "code",
   "execution_count": null,
   "id": "607df1f3",
   "metadata": {},
   "outputs": [],
   "source": [
    "inner1.__name__"
   ]
  },
  {
   "cell_type": "code",
   "execution_count": null,
   "id": "7f3b1f50",
   "metadata": {},
   "outputs": [],
   "source": [
    "inner2 = inner1(10)"
   ]
  },
  {
   "cell_type": "code",
   "execution_count": null,
   "id": "e59c191c",
   "metadata": {},
   "outputs": [],
   "source": [
    "inner2.__name__"
   ]
  },
  {
   "cell_type": "code",
   "execution_count": null,
   "id": "cfd13738",
   "metadata": {},
   "outputs": [],
   "source": [
    "inner2(99)"
   ]
  },
  {
   "cell_type": "markdown",
   "id": "753df2e4",
   "metadata": {},
   "source": [
    "## 25.5. 커링(currying) 처리하기"
   ]
  },
  {
   "cell_type": "code",
   "execution_count": null,
   "id": "46bc5142",
   "metadata": {},
   "outputs": [],
   "source": [
    "import functools as fs"
   ]
  },
  {
   "cell_type": "code",
   "execution_count": null,
   "id": "b8e4251c",
   "metadata": {},
   "outputs": [],
   "source": [
    "def add(x, y, z):\n",
    "    return x + y + z"
   ]
  },
  {
   "cell_type": "code",
   "execution_count": null,
   "id": "78c9fe23",
   "metadata": {},
   "outputs": [],
   "source": [
    "add = fs.partial(add, 1, 2)"
   ]
  },
  {
   "cell_type": "code",
   "execution_count": null,
   "id": "4df50298",
   "metadata": {},
   "outputs": [],
   "source": [
    "add(3)"
   ]
  },
  {
   "cell_type": "markdown",
   "id": "3a6f860c",
   "metadata": {},
   "source": [
    "---"
   ]
  },
  {
   "cell_type": "code",
   "execution_count": null,
   "id": "d8de8bc6",
   "metadata": {},
   "outputs": [],
   "source": [
    "#!pip install PyMonad"
   ]
  },
  {
   "cell_type": "code",
   "execution_count": null,
   "id": "f3368f73",
   "metadata": {},
   "outputs": [],
   "source": [
    "from pymonad.tools import curry"
   ]
  },
  {
   "cell_type": "code",
   "execution_count": null,
   "id": "5d76cc68",
   "metadata": {},
   "outputs": [],
   "source": [
    "@curry(3)\n",
    "def f(x, y, z):\n",
    "    return x + y + z"
   ]
  },
  {
   "cell_type": "code",
   "execution_count": null,
   "id": "261a8093",
   "metadata": {},
   "outputs": [],
   "source": [
    "cu = f(1)"
   ]
  },
  {
   "cell_type": "code",
   "execution_count": null,
   "id": "f877156f",
   "metadata": {},
   "outputs": [],
   "source": [
    "cu(2, 3)"
   ]
  },
  {
   "cell_type": "code",
   "execution_count": null,
   "id": "087c8104",
   "metadata": {},
   "outputs": [],
   "source": [
    "cu = f(1)"
   ]
  },
  {
   "cell_type": "code",
   "execution_count": null,
   "id": "1cdac7db",
   "metadata": {},
   "outputs": [],
   "source": [
    "cu = cu(2)"
   ]
  },
  {
   "cell_type": "code",
   "execution_count": null,
   "id": "4adc8c2b",
   "metadata": {},
   "outputs": [],
   "source": [
    "cu(3)"
   ]
  }
 ],
 "metadata": {
  "kernelspec": {
   "display_name": "Python 3 (ipykernel)",
   "language": "python",
   "name": "python3"
  },
  "language_info": {
   "codemirror_mode": {
    "name": "ipython",
    "version": 3
   },
   "file_extension": ".py",
   "mimetype": "text/x-python",
   "name": "python",
   "nbconvert_exporter": "python",
   "pygments_lexer": "ipython3",
   "version": "3.8.12"
  }
 },
 "nbformat": 4,
 "nbformat_minor": 5
}
