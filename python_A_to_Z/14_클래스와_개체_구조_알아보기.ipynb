{
 "cells": [
  {
   "cell_type": "markdown",
   "id": "c4f560d2",
   "metadata": {},
   "source": [
    "# 14장 클래스와 객체 구조 알아보기"
   ]
  },
  {
   "cell_type": "markdown",
   "id": "f04471f6",
   "metadata": {},
   "source": [
    "## 14.1. 객체와 클래스의 관계 확인하기"
   ]
  },
  {
   "cell_type": "code",
   "execution_count": null,
   "id": "2c7cf69b",
   "metadata": {},
   "outputs": [],
   "source": [
    "class Klass(object):\n",
    "    pass"
   ]
  },
  {
   "cell_type": "code",
   "execution_count": null,
   "id": "5b866c06",
   "metadata": {},
   "outputs": [],
   "source": [
    "issubclass(Klass, object)"
   ]
  },
  {
   "cell_type": "code",
   "execution_count": null,
   "id": "aa9015ca",
   "metadata": {},
   "outputs": [],
   "source": [
    "issubclass(Klass, type)"
   ]
  },
  {
   "cell_type": "code",
   "execution_count": null,
   "id": "b7dd17ff",
   "metadata": {},
   "outputs": [],
   "source": [
    "isinstance(Klass, type)"
   ]
  },
  {
   "cell_type": "markdown",
   "id": "b5f7db53",
   "metadata": {},
   "source": [
    "---"
   ]
  },
  {
   "cell_type": "code",
   "execution_count": null,
   "id": "9e08add0",
   "metadata": {},
   "outputs": [],
   "source": [
    "issubclass(type, object)"
   ]
  },
  {
   "cell_type": "code",
   "execution_count": null,
   "id": "2a488906",
   "metadata": {},
   "outputs": [],
   "source": [
    "isinstance(Klass, object)"
   ]
  },
  {
   "cell_type": "markdown",
   "id": "fc2fc49a",
   "metadata": {},
   "source": [
    "---"
   ]
  },
  {
   "cell_type": "code",
   "execution_count": null,
   "id": "4a82ebdc",
   "metadata": {},
   "outputs": [],
   "source": [
    "isinstance(object, type)"
   ]
  },
  {
   "cell_type": "code",
   "execution_count": null,
   "id": "0e9dafe4",
   "metadata": {},
   "outputs": [],
   "source": [
    "isinstance(int, type)"
   ]
  },
  {
   "cell_type": "code",
   "execution_count": null,
   "id": "1128f1ef",
   "metadata": {},
   "outputs": [],
   "source": [
    "isinstance(dict, type)"
   ]
  },
  {
   "cell_type": "code",
   "execution_count": null,
   "id": "3f01e312",
   "metadata": {},
   "outputs": [],
   "source": [
    "k = Klass()\n",
    "isinstance(k, object)"
   ]
  },
  {
   "cell_type": "markdown",
   "id": "ea848596",
   "metadata": {},
   "source": [
    "## 14.2. 객체 내부 검사(object introspection) 하기"
   ]
  },
  {
   "cell_type": "code",
   "execution_count": null,
   "id": "615be08b",
   "metadata": {},
   "outputs": [],
   "source": [
    "class Klass(object):\n",
    "    클래스속성 = 'Klass'\n",
    "    \n",
    "    def __init__(self, name):\n",
    "        self.인스턴스속성 = name"
   ]
  },
  {
   "cell_type": "code",
   "execution_count": null,
   "id": "23cf3fc3",
   "metadata": {},
   "outputs": [],
   "source": [
    "k = Klass('달')"
   ]
  },
  {
   "cell_type": "code",
   "execution_count": null,
   "id": "d80d0b03",
   "metadata": {},
   "outputs": [],
   "source": [
    "k"
   ]
  },
  {
   "cell_type": "code",
   "execution_count": null,
   "id": "8ad71db8",
   "metadata": {},
   "outputs": [],
   "source": [
    "id(k)"
   ]
  },
  {
   "cell_type": "code",
   "execution_count": null,
   "id": "57f483ae",
   "metadata": {},
   "outputs": [],
   "source": [
    "type(k)"
   ]
  },
  {
   "cell_type": "code",
   "execution_count": null,
   "id": "2a7b3bec",
   "metadata": {},
   "outputs": [],
   "source": [
    "k.__class__"
   ]
  },
  {
   "cell_type": "code",
   "execution_count": null,
   "id": "5b5c9c36",
   "metadata": {},
   "outputs": [],
   "source": [
    "count = 0\n",
    "for i in dir(k):\n",
    "    print(f'{i:20}', end=' ')\n",
    "    count += 1\n",
    "    if not (count % 5): print()"
   ]
  },
  {
   "cell_type": "code",
   "execution_count": null,
   "id": "62935b20",
   "metadata": {},
   "outputs": [],
   "source": [
    "Klass.__dict__"
   ]
  },
  {
   "cell_type": "code",
   "execution_count": null,
   "id": "fb547a17",
   "metadata": {},
   "outputs": [],
   "source": [
    "k.__dict__"
   ]
  },
  {
   "cell_type": "code",
   "execution_count": null,
   "id": "bb4613be",
   "metadata": {},
   "outputs": [],
   "source": [
    "object.__init__"
   ]
  },
  {
   "cell_type": "code",
   "execution_count": null,
   "id": "46143037",
   "metadata": {},
   "outputs": [],
   "source": [
    "object().__init__"
   ]
  },
  {
   "cell_type": "markdown",
   "id": "c2e141a7",
   "metadata": {},
   "source": [
    "---"
   ]
  },
  {
   "cell_type": "code",
   "execution_count": null,
   "id": "2766c907",
   "metadata": {},
   "outputs": [],
   "source": [
    "import types"
   ]
  },
  {
   "cell_type": "code",
   "execution_count": null,
   "id": "92419f2a",
   "metadata": {},
   "outputs": [],
   "source": [
    "type(Klass.__init__) == types.FunctionType"
   ]
  },
  {
   "cell_type": "code",
   "execution_count": null,
   "id": "47233266",
   "metadata": {},
   "outputs": [],
   "source": [
    "type(k.__init__) == types.MethodType"
   ]
  },
  {
   "cell_type": "markdown",
   "id": "beadcf26",
   "metadata": {},
   "source": [
    "## 14.3. 객체 레퍼런스 비교 방식"
   ]
  },
  {
   "cell_type": "code",
   "execution_count": null,
   "id": "e8076e53",
   "metadata": {},
   "outputs": [],
   "source": [
    "i = 5"
   ]
  },
  {
   "cell_type": "code",
   "execution_count": null,
   "id": "d8545622",
   "metadata": {},
   "outputs": [],
   "source": [
    "a = 5"
   ]
  },
  {
   "cell_type": "code",
   "execution_count": null,
   "id": "930a7e55",
   "metadata": {},
   "outputs": [],
   "source": [
    "i is a"
   ]
  },
  {
   "cell_type": "code",
   "execution_count": null,
   "id": "4b17bb39",
   "metadata": {},
   "outputs": [],
   "source": [
    "id(i), id(a)"
   ]
  },
  {
   "cell_type": "code",
   "execution_count": null,
   "id": "d56f96db",
   "metadata": {},
   "outputs": [],
   "source": [
    "i == a"
   ]
  },
  {
   "cell_type": "markdown",
   "id": "8c1f348d",
   "metadata": {},
   "source": [
    "---"
   ]
  },
  {
   "cell_type": "code",
   "execution_count": null,
   "id": "8b277907",
   "metadata": {},
   "outputs": [],
   "source": [
    "i = 3000"
   ]
  },
  {
   "cell_type": "code",
   "execution_count": null,
   "id": "51013266",
   "metadata": {},
   "outputs": [],
   "source": [
    "a = 3000"
   ]
  },
  {
   "cell_type": "code",
   "execution_count": null,
   "id": "bc155da7",
   "metadata": {},
   "outputs": [],
   "source": [
    "i is a"
   ]
  },
  {
   "cell_type": "code",
   "execution_count": null,
   "id": "9ea052b9",
   "metadata": {},
   "outputs": [],
   "source": [
    "id(i), id(a)"
   ]
  },
  {
   "cell_type": "code",
   "execution_count": null,
   "id": "36866be8",
   "metadata": {},
   "outputs": [],
   "source": [
    "i == a"
   ]
  },
  {
   "cell_type": "markdown",
   "id": "5109d002",
   "metadata": {},
   "source": [
    "---"
   ]
  },
  {
   "cell_type": "code",
   "execution_count": null,
   "id": "7efb2593",
   "metadata": {},
   "outputs": [],
   "source": [
    "'대한민국' is '대한민국'"
   ]
  },
  {
   "cell_type": "code",
   "execution_count": null,
   "id": "a055f80d",
   "metadata": {},
   "outputs": [],
   "source": [
    "s1 = '대한민국'"
   ]
  },
  {
   "cell_type": "code",
   "execution_count": null,
   "id": "b178118a",
   "metadata": {},
   "outputs": [],
   "source": [
    "s2 = '대한민국'"
   ]
  },
  {
   "cell_type": "code",
   "execution_count": null,
   "id": "5f10142b",
   "metadata": {},
   "outputs": [],
   "source": [
    "s1 is s2"
   ]
  },
  {
   "cell_type": "code",
   "execution_count": null,
   "id": "16bd52b1",
   "metadata": {},
   "outputs": [],
   "source": [
    "s1 == s2"
   ]
  },
  {
   "cell_type": "markdown",
   "id": "c26aad25",
   "metadata": {},
   "source": [
    "---"
   ]
  },
  {
   "cell_type": "code",
   "execution_count": null,
   "id": "421ce158",
   "metadata": {},
   "outputs": [],
   "source": [
    "s11 = str('대한민국')"
   ]
  },
  {
   "cell_type": "code",
   "execution_count": null,
   "id": "5f6ec4a1",
   "metadata": {},
   "outputs": [],
   "source": [
    "s12 = str(s11)"
   ]
  },
  {
   "cell_type": "code",
   "execution_count": null,
   "id": "8acb8d22",
   "metadata": {},
   "outputs": [],
   "source": [
    "s11 is s12"
   ]
  },
  {
   "cell_type": "markdown",
   "id": "2cf09ce6",
   "metadata": {},
   "source": [
    "## 14.4. dataclass로 클래스 정의하기"
   ]
  },
  {
   "cell_type": "code",
   "execution_count": null,
   "id": "70aa199f",
   "metadata": {},
   "outputs": [],
   "source": [
    "from dataclasses import dataclass"
   ]
  },
  {
   "cell_type": "code",
   "execution_count": null,
   "id": "ad83d2e1",
   "metadata": {},
   "outputs": [],
   "source": [
    "@dataclass\n",
    "class Person:\n",
    "    name: str\n",
    "    age: int"
   ]
  },
  {
   "cell_type": "code",
   "execution_count": null,
   "id": "715112cc",
   "metadata": {},
   "outputs": [],
   "source": [
    "Person.__dict__['__init__']"
   ]
  },
  {
   "cell_type": "code",
   "execution_count": null,
   "id": "8508a3df",
   "metadata": {},
   "outputs": [],
   "source": [
    "p = Person('moon', 52)"
   ]
  },
  {
   "cell_type": "code",
   "execution_count": null,
   "id": "0072351c",
   "metadata": {},
   "outputs": [],
   "source": [
    "p.__dict__"
   ]
  },
  {
   "cell_type": "code",
   "execution_count": null,
   "id": "eba49f25",
   "metadata": {},
   "outputs": [],
   "source": [
    "p.sex = 'male'"
   ]
  },
  {
   "cell_type": "code",
   "execution_count": null,
   "id": "25095cb7",
   "metadata": {},
   "outputs": [],
   "source": [
    "p.__dict__"
   ]
  },
  {
   "cell_type": "markdown",
   "id": "60dc7e0d",
   "metadata": {},
   "source": [
    "---"
   ]
  },
  {
   "cell_type": "code",
   "execution_count": null,
   "id": "b97945d8",
   "metadata": {},
   "outputs": [],
   "source": [
    "@dataclass(init=True, repr=False, eq=False, order=False, unsafe_hash=False, frozen=True)\n",
    "class People:\n",
    "    name: str\n",
    "    age: int"
   ]
  },
  {
   "cell_type": "code",
   "execution_count": null,
   "id": "a05e941d",
   "metadata": {},
   "outputs": [],
   "source": [
    "pe = People('moon', 52)"
   ]
  },
  {
   "cell_type": "code",
   "execution_count": null,
   "id": "994601cb",
   "metadata": {},
   "outputs": [],
   "source": [
    "pe.__dict__"
   ]
  },
  {
   "cell_type": "code",
   "execution_count": null,
   "id": "7e783ef5",
   "metadata": {},
   "outputs": [],
   "source": [
    "pe.age = 30"
   ]
  },
  {
   "cell_type": "code",
   "execution_count": null,
   "id": "27f567e2",
   "metadata": {},
   "outputs": [],
   "source": [
    "pe.sex = 'male'"
   ]
  },
  {
   "cell_type": "markdown",
   "id": "5d97805c",
   "metadata": {},
   "source": [
    "---"
   ]
  },
  {
   "cell_type": "code",
   "execution_count": null,
   "id": "851e5364",
   "metadata": {},
   "outputs": [],
   "source": [
    "@dataclass\n",
    "class Product:\n",
    "    ''' Class for keeping track of an item in inventory. '''\n",
    "    name: str\n",
    "    unit_price: float\n",
    "    quantity_on_hand: int = 0\n",
    "        \n",
    "    def total_cost(self) -> float:\n",
    "        return self.unit_price * self.quantity_on_hand"
   ]
  },
  {
   "cell_type": "code",
   "execution_count": null,
   "id": "72422753",
   "metadata": {},
   "outputs": [],
   "source": [
    "i = Product('book', 1000.0, 10)"
   ]
  },
  {
   "cell_type": "code",
   "execution_count": null,
   "id": "0160c576",
   "metadata": {},
   "outputs": [],
   "source": [
    "i.total_cost()"
   ]
  },
  {
   "cell_type": "markdown",
   "id": "a051a491",
   "metadata": {},
   "source": [
    "---"
   ]
  },
  {
   "cell_type": "code",
   "execution_count": null,
   "id": "a41a880f",
   "metadata": {},
   "outputs": [],
   "source": [
    "class Product_:\n",
    "    \n",
    "    def __init__(self, name: str, unit_price: float, quantity_on_hand: int = 0):\n",
    "        self.name = name\n",
    "        self.unit_price = unit_price\n",
    "        self.quantity_on_hand = quantity_on_hand\n",
    "        \n",
    "    def total_cost(self) -> float:\n",
    "        return self.unit_price * self.quantity_on_hand"
   ]
  },
  {
   "cell_type": "code",
   "execution_count": null,
   "id": "74c22071",
   "metadata": {},
   "outputs": [],
   "source": [
    "i_ = Product_('flower', 1000.0, 10)"
   ]
  },
  {
   "cell_type": "code",
   "execution_count": null,
   "id": "7086475e",
   "metadata": {},
   "outputs": [],
   "source": [
    "i_.total_cost()"
   ]
  }
 ],
 "metadata": {
  "kernelspec": {
   "display_name": "Python 3 (ipykernel)",
   "language": "python",
   "name": "python3"
  },
  "language_info": {
   "codemirror_mode": {
    "name": "ipython",
    "version": 3
   },
   "file_extension": ".py",
   "mimetype": "text/x-python",
   "name": "python",
   "nbconvert_exporter": "python",
   "pygments_lexer": "ipython3",
   "version": "3.8.12"
  }
 },
 "nbformat": 4,
 "nbformat_minor": 5
}
