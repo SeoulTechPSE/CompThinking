{
 "cells": [
  {
   "cell_type": "markdown",
   "id": "658f2edb",
   "metadata": {},
   "source": [
    "# 29 장. 클래스를 생성하는 메타 클래스"
   ]
  },
  {
   "cell_type": "markdown",
   "id": "176bf5f8",
   "metadata": {},
   "source": [
    "## 29.1. 메타 클래스(meta class)"
   ]
  },
  {
   "cell_type": "code",
   "execution_count": null,
   "id": "7a325f3d",
   "metadata": {},
   "outputs": [],
   "source": [
    "print(type)"
   ]
  },
  {
   "cell_type": "code",
   "execution_count": null,
   "id": "c6da2609",
   "metadata": {},
   "outputs": [],
   "source": [
    "isinstance(int, type)"
   ]
  },
  {
   "cell_type": "code",
   "execution_count": null,
   "id": "9a344b1a",
   "metadata": {},
   "outputs": [],
   "source": [
    "isinstance(object, type)"
   ]
  },
  {
   "cell_type": "code",
   "execution_count": null,
   "id": "34883290",
   "metadata": {},
   "outputs": [],
   "source": [
    "class MyClass:\n",
    "    pass"
   ]
  },
  {
   "cell_type": "code",
   "execution_count": null,
   "id": "95f642c3",
   "metadata": {},
   "outputs": [],
   "source": [
    "isinstance(MyClass, type)"
   ]
  },
  {
   "cell_type": "markdown",
   "id": "bb812f10",
   "metadata": {},
   "source": [
    "---"
   ]
  },
  {
   "cell_type": "code",
   "execution_count": null,
   "id": "6026a9aa",
   "metadata": {},
   "outputs": [],
   "source": [
    "MC = type('MC', (object,), {})"
   ]
  },
  {
   "cell_type": "code",
   "execution_count": null,
   "id": "9a69db1e",
   "metadata": {},
   "outputs": [],
   "source": [
    "MC"
   ]
  },
  {
   "cell_type": "code",
   "execution_count": null,
   "id": "e8dcf7d4",
   "metadata": {},
   "outputs": [],
   "source": [
    "isinstance(MC, type)"
   ]
  },
  {
   "cell_type": "code",
   "execution_count": null,
   "id": "4f37bb94",
   "metadata": {},
   "outputs": [],
   "source": [
    "MC.__dict__"
   ]
  },
  {
   "cell_type": "code",
   "execution_count": null,
   "id": "a66dac11",
   "metadata": {},
   "outputs": [],
   "source": [
    "MyClass.__dict__"
   ]
  },
  {
   "cell_type": "code",
   "execution_count": null,
   "id": "5730eee3",
   "metadata": {},
   "outputs": [],
   "source": [
    "mc = MC()"
   ]
  },
  {
   "cell_type": "code",
   "execution_count": null,
   "id": "c622afb0",
   "metadata": {},
   "outputs": [],
   "source": [
    "type(mc)"
   ]
  },
  {
   "cell_type": "code",
   "execution_count": null,
   "id": "19ed2a90",
   "metadata": {},
   "outputs": [],
   "source": [
    "type(MC)"
   ]
  },
  {
   "cell_type": "markdown",
   "id": "966c1afb",
   "metadata": {},
   "source": [
    "## 29.2. 사용자 메타 클래스"
   ]
  },
  {
   "cell_type": "code",
   "execution_count": null,
   "id": "d34fe630",
   "metadata": {},
   "outputs": [],
   "source": [
    "class UserMeta(type):\n",
    "    pass"
   ]
  },
  {
   "cell_type": "code",
   "execution_count": null,
   "id": "ab8005d7",
   "metadata": {},
   "outputs": [],
   "source": [
    "issubclass(UserMeta, type)"
   ]
  },
  {
   "cell_type": "code",
   "execution_count": null,
   "id": "75eb1046",
   "metadata": {},
   "outputs": [],
   "source": [
    "class MyClass(metaclass=UserMeta):\n",
    "    pass"
   ]
  },
  {
   "cell_type": "code",
   "execution_count": null,
   "id": "d685bb1e",
   "metadata": {},
   "outputs": [],
   "source": [
    "isinstance(MyClass, type)"
   ]
  },
  {
   "cell_type": "code",
   "execution_count": null,
   "id": "bdd501d1",
   "metadata": {},
   "outputs": [],
   "source": [
    "isinstance(MyClass, UserMeta)"
   ]
  },
  {
   "cell_type": "code",
   "execution_count": null,
   "id": "56142f5f",
   "metadata": {},
   "outputs": [],
   "source": [
    "MC = UserMeta('MC', (object,), {})"
   ]
  },
  {
   "cell_type": "code",
   "execution_count": null,
   "id": "51325a29",
   "metadata": {},
   "outputs": [],
   "source": [
    "MC"
   ]
  },
  {
   "cell_type": "code",
   "execution_count": null,
   "id": "e8b8f811",
   "metadata": {},
   "outputs": [],
   "source": [
    "isinstance(MC, type)"
   ]
  },
  {
   "cell_type": "code",
   "execution_count": null,
   "id": "089e3afb",
   "metadata": {},
   "outputs": [],
   "source": [
    "isinstance(MC, UserMeta)"
   ]
  },
  {
   "cell_type": "markdown",
   "id": "9f317435",
   "metadata": {},
   "source": [
    "## 29.3. 클래스의 이름공간 접근 기준 알아보기"
   ]
  },
  {
   "cell_type": "code",
   "execution_count": null,
   "id": "ac44b8b2",
   "metadata": {},
   "outputs": [],
   "source": [
    "class UserMeta(type):\n",
    "    \n",
    "    def __getattribute__(self, name):\n",
    "        print('사용자 메타 클래스 접근', super())\n",
    "        return super().__getattribute__(name)"
   ]
  },
  {
   "cell_type": "code",
   "execution_count": null,
   "id": "4768dff2",
   "metadata": {},
   "outputs": [],
   "source": [
    "class MyClass(metaclass=UserMeta):\n",
    "    \n",
    "    name = 'MC'\n",
    "    \n",
    "    def __init__(self, name):\n",
    "        self.name = name\n",
    "        \n",
    "    def __getattribute__(self, name):\n",
    "        print('인스턴스 접근', super())\n",
    "        return super().__getattribute__(name)       "
   ]
  },
  {
   "cell_type": "code",
   "execution_count": null,
   "id": "b295501a",
   "metadata": {},
   "outputs": [],
   "source": [
    "MyClass.name"
   ]
  },
  {
   "cell_type": "code",
   "execution_count": null,
   "id": "d05de5ce",
   "metadata": {},
   "outputs": [],
   "source": [
    "MyClass.mro()"
   ]
  },
  {
   "cell_type": "code",
   "execution_count": null,
   "id": "ba326f72",
   "metadata": {},
   "outputs": [],
   "source": [
    "m = MyClass('Yoo')"
   ]
  },
  {
   "cell_type": "code",
   "execution_count": null,
   "id": "c3c91ac2",
   "metadata": {},
   "outputs": [],
   "source": [
    "m.name"
   ]
  },
  {
   "cell_type": "markdown",
   "id": "3236534f",
   "metadata": {},
   "source": [
    "## 29.4. 데코레이터 함수 내에 내부 클래스 사용하기"
   ]
  },
  {
   "cell_type": "code",
   "execution_count": null,
   "id": "4e0f3f29",
   "metadata": {},
   "outputs": [],
   "source": [
    "def decorator(cls):\n",
    "    class Decorator:\n",
    "        def __new__(cls, *args):\n",
    "            self = object.__new__(cls)\n",
    "            print('__new__', self)\n",
    "            return self\n",
    "        \n",
    "        def __init__(self, *args):\n",
    "            print('__init__', self)\n",
    "            self.__class__ = cls       \n",
    "            cls.__init__(self, *args)\n",
    "    return Decorator"
   ]
  },
  {
   "cell_type": "code",
   "execution_count": null,
   "id": "0696bd3f",
   "metadata": {},
   "outputs": [],
   "source": [
    "@decorator\n",
    "class Person:\n",
    "    def __init__(self, name, age):\n",
    "        self.name = name\n",
    "        self.age = age"
   ]
  },
  {
   "cell_type": "code",
   "execution_count": null,
   "id": "526f8534",
   "metadata": {},
   "outputs": [],
   "source": [
    "Person.__name__"
   ]
  },
  {
   "cell_type": "code",
   "execution_count": null,
   "id": "f0e82176",
   "metadata": {},
   "outputs": [],
   "source": [
    "p = Person('Yoo', 30)"
   ]
  },
  {
   "cell_type": "code",
   "execution_count": null,
   "id": "61073fbb",
   "metadata": {},
   "outputs": [],
   "source": [
    "p"
   ]
  },
  {
   "cell_type": "code",
   "execution_count": null,
   "id": "6fc200e8",
   "metadata": {},
   "outputs": [],
   "source": [
    "type(p)"
   ]
  },
  {
   "cell_type": "code",
   "execution_count": null,
   "id": "3df0032b",
   "metadata": {},
   "outputs": [],
   "source": [
    "isinstance(p, type(p))"
   ]
  },
  {
   "cell_type": "code",
   "execution_count": null,
   "id": "4189906d",
   "metadata": {},
   "outputs": [],
   "source": [
    "p.__dict__"
   ]
  }
 ],
 "metadata": {
  "kernelspec": {
   "display_name": "Python 3 (ipykernel)",
   "language": "python",
   "name": "python3"
  },
  "language_info": {
   "codemirror_mode": {
    "name": "ipython",
    "version": 3
   },
   "file_extension": ".py",
   "mimetype": "text/x-python",
   "name": "python",
   "nbconvert_exporter": "python",
   "pygments_lexer": "ipython3",
   "version": "3.8.12"
  }
 },
 "nbformat": 4,
 "nbformat_minor": 5
}
