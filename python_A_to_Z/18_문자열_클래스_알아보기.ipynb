{
 "cells": [
  {
   "cell_type": "markdown",
   "id": "0acd53ec",
   "metadata": {},
   "source": [
    "# 18 장. 문자열 클래스 알아보기"
   ]
  },
  {
   "cell_type": "markdown",
   "id": "24b746a9",
   "metadata": {},
   "source": [
    "## 18.1. 유니코드 문자열 클래스와 바이트 문자열 클래스"
   ]
  },
  {
   "cell_type": "code",
   "execution_count": null,
   "id": "506064b8",
   "metadata": {},
   "outputs": [],
   "source": [
    "s = str('문자열')"
   ]
  },
  {
   "cell_type": "code",
   "execution_count": null,
   "id": "fd274cae",
   "metadata": {},
   "outputs": [],
   "source": [
    "s"
   ]
  },
  {
   "cell_type": "code",
   "execution_count": null,
   "id": "38f2efcf",
   "metadata": {},
   "outputs": [],
   "source": [
    "b = bytes(b'string')"
   ]
  },
  {
   "cell_type": "code",
   "execution_count": null,
   "id": "0d96ac77",
   "metadata": {},
   "outputs": [],
   "source": [
    "b"
   ]
  },
  {
   "cell_type": "code",
   "execution_count": null,
   "id": "34f073ca",
   "metadata": {},
   "outputs": [],
   "source": [
    "set(dir(str)) - set(dir(bytes))"
   ]
  },
  {
   "cell_type": "code",
   "execution_count": null,
   "id": "598c09a3",
   "metadata": {},
   "outputs": [],
   "source": [
    "set(dir(bytes)) - set(dir(str))"
   ]
  },
  {
   "cell_type": "markdown",
   "id": "ee716368",
   "metadata": {},
   "source": [
    "---"
   ]
  },
  {
   "cell_type": "code",
   "execution_count": null,
   "id": "9c09e370",
   "metadata": {},
   "outputs": [],
   "source": [
    "bb = b'Hello World!!!'"
   ]
  },
  {
   "cell_type": "code",
   "execution_count": null,
   "id": "6a2baa77",
   "metadata": {},
   "outputs": [],
   "source": [
    "len(bb)"
   ]
  },
  {
   "cell_type": "code",
   "execution_count": null,
   "id": "9eef1868",
   "metadata": {},
   "outputs": [],
   "source": [
    "bb.hex()"
   ]
  },
  {
   "cell_type": "markdown",
   "id": "e84e46d9",
   "metadata": {},
   "source": [
    "---"
   ]
  },
  {
   "cell_type": "code",
   "execution_count": null,
   "id": "42543a0e",
   "metadata": {},
   "outputs": [],
   "source": [
    "ss = 'Hello World!!!'"
   ]
  },
  {
   "cell_type": "code",
   "execution_count": null,
   "id": "cc952ba2",
   "metadata": {},
   "outputs": [],
   "source": [
    "len(ss)"
   ]
  },
  {
   "cell_type": "code",
   "execution_count": null,
   "id": "4c178a2f",
   "metadata": {},
   "outputs": [],
   "source": [
    "ss.casefold()"
   ]
  },
  {
   "cell_type": "code",
   "execution_count": null,
   "id": "97b9baa5",
   "metadata": {},
   "outputs": [],
   "source": [
    "ss_ = ss.encode()"
   ]
  },
  {
   "cell_type": "code",
   "execution_count": null,
   "id": "7068cb6a",
   "metadata": {},
   "outputs": [],
   "source": [
    "ss_.hex()"
   ]
  },
  {
   "cell_type": "code",
   "execution_count": null,
   "id": "69984df6",
   "metadata": {},
   "outputs": [],
   "source": [
    "len(ss_)"
   ]
  },
  {
   "cell_type": "markdown",
   "id": "8c1a8e95",
   "metadata": {},
   "source": [
    "---"
   ]
  },
  {
   "cell_type": "code",
   "execution_count": null,
   "id": "ff881ac7",
   "metadata": {},
   "outputs": [],
   "source": [
    "sss = '안녕하세요'"
   ]
  },
  {
   "cell_type": "code",
   "execution_count": null,
   "id": "4406fd74",
   "metadata": {},
   "outputs": [],
   "source": [
    "len(sss)"
   ]
  },
  {
   "cell_type": "code",
   "execution_count": null,
   "id": "14d1c5d8",
   "metadata": {},
   "outputs": [],
   "source": [
    "sss_ = sss.encode()"
   ]
  },
  {
   "cell_type": "code",
   "execution_count": null,
   "id": "be7a0d8a",
   "metadata": {},
   "outputs": [],
   "source": [
    "sss_.hex()"
   ]
  },
  {
   "cell_type": "code",
   "execution_count": null,
   "id": "322f66d7",
   "metadata": {},
   "outputs": [],
   "source": [
    "len(sss_)"
   ]
  },
  {
   "cell_type": "markdown",
   "id": "7ac0451f",
   "metadata": {},
   "source": [
    "---"
   ]
  },
  {
   "cell_type": "code",
   "execution_count": null,
   "id": "d6527f6f",
   "metadata": {},
   "outputs": [],
   "source": [
    "a = bytearray(b'python')"
   ]
  },
  {
   "cell_type": "code",
   "execution_count": null,
   "id": "fcbf8736",
   "metadata": {},
   "outputs": [],
   "source": [
    "a"
   ]
  },
  {
   "cell_type": "code",
   "execution_count": null,
   "id": "99e18574",
   "metadata": {},
   "outputs": [],
   "source": [
    "a.__setitem__"
   ]
  },
  {
   "cell_type": "code",
   "execution_count": null,
   "id": "a5edacfa",
   "metadata": {},
   "outputs": [],
   "source": [
    "a[0]"
   ]
  },
  {
   "cell_type": "code",
   "execution_count": null,
   "id": "f0ea15ab",
   "metadata": {},
   "outputs": [],
   "source": [
    "chr(a[0])"
   ]
  },
  {
   "cell_type": "code",
   "execution_count": null,
   "id": "4c1f9ae9",
   "metadata": {},
   "outputs": [],
   "source": [
    "a[0] = ord('c')"
   ]
  },
  {
   "cell_type": "code",
   "execution_count": null,
   "id": "38b97db0",
   "metadata": {},
   "outputs": [],
   "source": [
    "a"
   ]
  },
  {
   "cell_type": "markdown",
   "id": "2074b119",
   "metadata": {},
   "source": [
    "## 18.2. 유니코드 문자열과 바이트 문자열 인코딩 알아보기"
   ]
  },
  {
   "cell_type": "code",
   "execution_count": null,
   "id": "e08bd273",
   "metadata": {},
   "outputs": [],
   "source": [
    "sss = '안녕하세요 파이썬 입문'"
   ]
  },
  {
   "cell_type": "code",
   "execution_count": null,
   "id": "e3c59647",
   "metadata": {},
   "outputs": [],
   "source": [
    "len(sss)"
   ]
  },
  {
   "cell_type": "code",
   "execution_count": null,
   "id": "93803d8e",
   "metadata": {},
   "outputs": [],
   "source": [
    "sss_1 = sss.encode(encoding='utf-16')"
   ]
  },
  {
   "cell_type": "code",
   "execution_count": null,
   "id": "a41bb939",
   "metadata": {},
   "outputs": [],
   "source": [
    "sss_1.hex()  # fffe <- utf-16임을 표시함"
   ]
  },
  {
   "cell_type": "code",
   "execution_count": null,
   "id": "d41243d5",
   "metadata": {},
   "outputs": [],
   "source": [
    "len(sss_1)"
   ]
  },
  {
   "cell_type": "markdown",
   "id": "7530a592",
   "metadata": {},
   "source": [
    "---"
   ]
  },
  {
   "cell_type": "code",
   "execution_count": null,
   "id": "571c979b",
   "metadata": {},
   "outputs": [],
   "source": [
    "sss_2 = sss.encode(encoding='utf-16be')  # big endian 처리"
   ]
  },
  {
   "cell_type": "code",
   "execution_count": null,
   "id": "36c244e5",
   "metadata": {},
   "outputs": [],
   "source": [
    "sss_2.hex()"
   ]
  },
  {
   "cell_type": "code",
   "execution_count": null,
   "id": "47e3f8cc",
   "metadata": {},
   "outputs": [],
   "source": [
    "len(sss_2)"
   ]
  },
  {
   "cell_type": "markdown",
   "id": "2900dac2",
   "metadata": {},
   "source": [
    "---"
   ]
  },
  {
   "cell_type": "code",
   "execution_count": null,
   "id": "03ac453d",
   "metadata": {},
   "outputs": [],
   "source": [
    "sss_3 = sss.encode(encoding='utf-16le')  # little endian 처리"
   ]
  },
  {
   "cell_type": "code",
   "execution_count": null,
   "id": "7d4ac327",
   "metadata": {},
   "outputs": [],
   "source": [
    "sss_3.hex()"
   ]
  },
  {
   "cell_type": "code",
   "execution_count": null,
   "id": "23f77f0e",
   "metadata": {},
   "outputs": [],
   "source": [
    "len(sss_3)"
   ]
  },
  {
   "cell_type": "markdown",
   "id": "97ab9edf",
   "metadata": {},
   "source": [
    "---"
   ]
  },
  {
   "cell_type": "code",
   "execution_count": null,
   "id": "73811f4d",
   "metadata": {},
   "outputs": [],
   "source": [
    "sss_2.decode(encoding='utf-16be')"
   ]
  },
  {
   "cell_type": "code",
   "execution_count": null,
   "id": "2c663048",
   "metadata": {},
   "outputs": [],
   "source": [
    "sss_2.decode(encoding='utf-16le')"
   ]
  },
  {
   "cell_type": "code",
   "execution_count": null,
   "id": "0bda9e75",
   "metadata": {},
   "outputs": [],
   "source": [
    "sss_3.decode(encoding='utf-16le')"
   ]
  },
  {
   "cell_type": "code",
   "execution_count": null,
   "id": "b7b49499",
   "metadata": {},
   "outputs": [],
   "source": [
    "sss_3.decode()"
   ]
  }
 ],
 "metadata": {
  "kernelspec": {
   "display_name": "Python 3 (ipykernel)",
   "language": "python",
   "name": "python3"
  },
  "language_info": {
   "codemirror_mode": {
    "name": "ipython",
    "version": 3
   },
   "file_extension": ".py",
   "mimetype": "text/x-python",
   "name": "python",
   "nbconvert_exporter": "python",
   "pygments_lexer": "ipython3",
   "version": "3.8.12"
  }
 },
 "nbformat": 4,
 "nbformat_minor": 5
}
