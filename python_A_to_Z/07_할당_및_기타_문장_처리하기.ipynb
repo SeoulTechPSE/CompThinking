{
 "cells": [
  {
   "cell_type": "markdown",
   "id": "f3f6fb89",
   "metadata": {},
   "source": [
    "# 07장. 할당 및 기타 문장 처리하기"
   ]
  },
  {
   "cell_type": "markdown",
   "id": "06aa7251",
   "metadata": {},
   "source": [
    "## 07.1. 변수에 값을 할당(assignment)하는 문장"
   ]
  },
  {
   "cell_type": "code",
   "execution_count": null,
   "id": "60ec38c7",
   "metadata": {},
   "outputs": [],
   "source": [
    "var = 100"
   ]
  },
  {
   "cell_type": "code",
   "execution_count": null,
   "id": "a4ec559d",
   "metadata": {},
   "outputs": [],
   "source": [
    "globals()['var']"
   ]
  },
  {
   "cell_type": "code",
   "execution_count": null,
   "id": "e5b667dc",
   "metadata": {},
   "outputs": [],
   "source": [
    "def func(x, y):\n",
    "    return x, y"
   ]
  },
  {
   "cell_type": "code",
   "execution_count": null,
   "id": "96c84a2c",
   "metadata": {},
   "outputs": [],
   "source": [
    "globals()['func']"
   ]
  },
  {
   "cell_type": "code",
   "execution_count": null,
   "id": "d65b3e33",
   "metadata": {},
   "outputs": [],
   "source": [
    "globals()['func'](5, 5)"
   ]
  },
  {
   "cell_type": "code",
   "execution_count": null,
   "id": "0311a6be",
   "metadata": {},
   "outputs": [],
   "source": [
    "func(5, 5)"
   ]
  },
  {
   "cell_type": "code",
   "execution_count": null,
   "id": "d6f25732",
   "metadata": {},
   "outputs": [],
   "source": [
    "class Klass:\n",
    "    def __init__(self, name):\n",
    "        self.name = name"
   ]
  },
  {
   "cell_type": "code",
   "execution_count": null,
   "id": "fa4675ad",
   "metadata": {},
   "outputs": [],
   "source": [
    "globals()['Klass']"
   ]
  },
  {
   "cell_type": "code",
   "execution_count": null,
   "id": "ae319e48",
   "metadata": {},
   "outputs": [],
   "source": [
    "k = globals()['Klass']('name')"
   ]
  },
  {
   "cell_type": "code",
   "execution_count": null,
   "id": "f230ef71",
   "metadata": {},
   "outputs": [],
   "source": [
    "k.__dict__"
   ]
  },
  {
   "cell_type": "markdown",
   "id": "798db408",
   "metadata": {},
   "source": [
    "---"
   ]
  },
  {
   "cell_type": "code",
   "execution_count": null,
   "id": "8cf2254a",
   "metadata": {},
   "outputs": [],
   "source": [
    "not_a1 = not_a1 + 1"
   ]
  },
  {
   "cell_type": "markdown",
   "id": "f2e07d97",
   "metadata": {},
   "source": [
    "---"
   ]
  },
  {
   "cell_type": "code",
   "execution_count": null,
   "id": "b9f86d3f",
   "metadata": {},
   "outputs": [],
   "source": [
    "a, b, c = [1, 2, 3]"
   ]
  },
  {
   "cell_type": "code",
   "execution_count": null,
   "id": "c603803d",
   "metadata": {},
   "outputs": [],
   "source": [
    "a, b, c"
   ]
  },
  {
   "cell_type": "code",
   "execution_count": null,
   "id": "0f794e77",
   "metadata": {},
   "outputs": [],
   "source": [
    "d, e, f = '가을이'"
   ]
  },
  {
   "cell_type": "code",
   "execution_count": null,
   "id": "f73b2cde",
   "metadata": {},
   "outputs": [],
   "source": [
    "d, e, f"
   ]
  },
  {
   "cell_type": "code",
   "execution_count": null,
   "id": "48749b15",
   "metadata": {},
   "outputs": [],
   "source": [
    "x, y = (1, 2, 3)"
   ]
  },
  {
   "cell_type": "code",
   "execution_count": null,
   "id": "b9d96104",
   "metadata": {},
   "outputs": [],
   "source": [
    "x, *y = (1, 2, 3)"
   ]
  },
  {
   "cell_type": "code",
   "execution_count": null,
   "id": "a5dcff47",
   "metadata": {},
   "outputs": [],
   "source": [
    "x, y"
   ]
  },
  {
   "cell_type": "code",
   "execution_count": null,
   "id": "e3648917",
   "metadata": {},
   "outputs": [],
   "source": [
    "x, y = y, x"
   ]
  },
  {
   "cell_type": "code",
   "execution_count": null,
   "id": "5d6faca8",
   "metadata": {},
   "outputs": [],
   "source": [
    "x, y"
   ]
  },
  {
   "cell_type": "markdown",
   "id": "1ffe5417",
   "metadata": {},
   "source": [
    "## 07.2. 아무 기능도 없는 pass 문장"
   ]
  },
  {
   "cell_type": "code",
   "execution_count": null,
   "id": "7d9f042c",
   "metadata": {},
   "outputs": [],
   "source": [
    "for i in range(5):\n",
    "    pass"
   ]
  },
  {
   "cell_type": "code",
   "execution_count": null,
   "id": "626244fa",
   "metadata": {},
   "outputs": [],
   "source": [
    "if True:\n",
    "    pass"
   ]
  },
  {
   "cell_type": "code",
   "execution_count": null,
   "id": "52e68895",
   "metadata": {},
   "outputs": [],
   "source": [
    "for i in range(5):"
   ]
  },
  {
   "cell_type": "code",
   "execution_count": null,
   "id": "5bc66cda",
   "metadata": {},
   "outputs": [],
   "source": [
    "def func(x, y):\n",
    "    pass"
   ]
  },
  {
   "cell_type": "code",
   "execution_count": null,
   "id": "56c02c23",
   "metadata": {},
   "outputs": [],
   "source": [
    "func(10, 19)"
   ]
  },
  {
   "cell_type": "code",
   "execution_count": null,
   "id": "beb33696",
   "metadata": {},
   "outputs": [],
   "source": [
    "class Klass:\n",
    "    pass"
   ]
  },
  {
   "cell_type": "code",
   "execution_count": null,
   "id": "3519d73b",
   "metadata": {},
   "outputs": [],
   "source": [
    "k = Klass()"
   ]
  },
  {
   "cell_type": "code",
   "execution_count": null,
   "id": "2b5db2c7",
   "metadata": {},
   "outputs": [],
   "source": [
    "k"
   ]
  },
  {
   "cell_type": "code",
   "execution_count": null,
   "id": "277120b8",
   "metadata": {},
   "outputs": [],
   "source": [
    "k.__dict__"
   ]
  },
  {
   "cell_type": "markdown",
   "id": "197d48db",
   "metadata": {},
   "source": [
    "## 07.3. 사용하지 않는 변수 처리하기"
   ]
  },
  {
   "cell_type": "code",
   "execution_count": null,
   "id": "2ec0adae",
   "metadata": {},
   "outputs": [],
   "source": [
    "_, a = 100, 200"
   ]
  },
  {
   "cell_type": "code",
   "execution_count": null,
   "id": "30da2c6b",
   "metadata": {},
   "outputs": [],
   "source": [
    "a"
   ]
  },
  {
   "cell_type": "code",
   "execution_count": null,
   "id": "9e890d17",
   "metadata": {},
   "outputs": [],
   "source": [
    "_"
   ]
  },
  {
   "cell_type": "code",
   "execution_count": null,
   "id": "61f337e0",
   "metadata": {},
   "outputs": [],
   "source": [
    "for _ in range(2):\n",
    "    print('Hello')"
   ]
  },
  {
   "cell_type": "code",
   "execution_count": null,
   "id": "fa012ac0",
   "metadata": {},
   "outputs": [],
   "source": [
    "if _:\n",
    "    print(' _', _)"
   ]
  },
  {
   "cell_type": "markdown",
   "id": "61bfd5f4",
   "metadata": {},
   "source": [
    "## 07.4. map 클래스 알아보기"
   ]
  },
  {
   "cell_type": "code",
   "execution_count": null,
   "id": "3eeddbda",
   "metadata": {},
   "outputs": [],
   "source": [
    "map"
   ]
  },
  {
   "cell_type": "code",
   "execution_count": null,
   "id": "d640b722",
   "metadata": {},
   "outputs": [],
   "source": [
    "map.__name__"
   ]
  },
  {
   "cell_type": "markdown",
   "id": "93141bae",
   "metadata": {},
   "source": [
    "---"
   ]
  },
  {
   "cell_type": "code",
   "execution_count": null,
   "id": "83a62eec",
   "metadata": {},
   "outputs": [],
   "source": [
    "import math"
   ]
  },
  {
   "cell_type": "code",
   "execution_count": null,
   "id": "65bd157f",
   "metadata": {},
   "outputs": [],
   "source": [
    "m = map(math.sqrt, [1, 2, 3, 4])"
   ]
  },
  {
   "cell_type": "code",
   "execution_count": null,
   "id": "a5d9a843",
   "metadata": {},
   "outputs": [],
   "source": [
    "print(type(m))"
   ]
  },
  {
   "cell_type": "code",
   "execution_count": null,
   "id": "f1426a66",
   "metadata": {},
   "outputs": [],
   "source": [
    "[*m]"
   ]
  }
 ],
 "metadata": {
  "kernelspec": {
   "display_name": "Python 3 (ipykernel)",
   "language": "python",
   "name": "python3"
  },
  "language_info": {
   "codemirror_mode": {
    "name": "ipython",
    "version": 3
   },
   "file_extension": ".py",
   "mimetype": "text/x-python",
   "name": "python",
   "nbconvert_exporter": "python",
   "pygments_lexer": "ipython3",
   "version": "3.8.12"
  }
 },
 "nbformat": 4,
 "nbformat_minor": 5
}
