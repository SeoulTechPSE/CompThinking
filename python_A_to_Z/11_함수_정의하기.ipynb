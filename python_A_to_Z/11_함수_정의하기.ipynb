{
 "cells": [
  {
   "cell_type": "markdown",
   "id": "7e6c03a6",
   "metadata": {},
   "source": [
    "# 11 장. 함수 정의하기"
   ]
  },
  {
   "cell_type": "markdown",
   "id": "0539af38",
   "metadata": {},
   "source": [
    "## 11.1. 함수 객체를 만드는 함수 정의문"
   ]
  },
  {
   "cell_type": "code",
   "execution_count": null,
   "id": "eccb16aa",
   "metadata": {},
   "outputs": [],
   "source": [
    "def func():\n",
    "    pass"
   ]
  },
  {
   "cell_type": "code",
   "execution_count": null,
   "id": "314f5653",
   "metadata": {},
   "outputs": [],
   "source": [
    "f = func()"
   ]
  },
  {
   "cell_type": "code",
   "execution_count": null,
   "id": "c8a35772",
   "metadata": {},
   "outputs": [],
   "source": [
    "print(f)"
   ]
  },
  {
   "cell_type": "code",
   "execution_count": null,
   "id": "09b29650",
   "metadata": {},
   "outputs": [],
   "source": [
    "func.__name__"
   ]
  },
  {
   "cell_type": "markdown",
   "id": "9ba7296b",
   "metadata": {},
   "source": [
    "---"
   ]
  },
  {
   "cell_type": "code",
   "execution_count": null,
   "id": "e19e1b5a",
   "metadata": {},
   "outputs": [],
   "source": [
    "import types"
   ]
  },
  {
   "cell_type": "code",
   "execution_count": null,
   "id": "90fd88f1",
   "metadata": {},
   "outputs": [],
   "source": [
    "type(func) == types.FunctionType"
   ]
  },
  {
   "cell_type": "markdown",
   "id": "4f944a7b",
   "metadata": {},
   "source": [
    "---"
   ]
  },
  {
   "cell_type": "code",
   "execution_count": null,
   "id": "cb7d1f53",
   "metadata": {},
   "outputs": [],
   "source": [
    "def return_():\n",
    "    return '반환값'"
   ]
  },
  {
   "cell_type": "code",
   "execution_count": null,
   "id": "15a43ec6",
   "metadata": {},
   "outputs": [],
   "source": [
    "return_()"
   ]
  },
  {
   "cell_type": "code",
   "execution_count": null,
   "id": "b22a3602",
   "metadata": {},
   "outputs": [],
   "source": [
    "def func_():\n",
    "    return 1, 2, 3"
   ]
  },
  {
   "cell_type": "code",
   "execution_count": null,
   "id": "66cd91cc",
   "metadata": {},
   "outputs": [],
   "source": [
    "f_ = func_()"
   ]
  },
  {
   "cell_type": "code",
   "execution_count": null,
   "id": "4775bb8a",
   "metadata": {},
   "outputs": [],
   "source": [
    "f_, type(f_)"
   ]
  },
  {
   "cell_type": "markdown",
   "id": "e2c40c9f",
   "metadata": {},
   "source": [
    "## 11.2. 파이썬 도움말 알아보기"
   ]
  },
  {
   "cell_type": "code",
   "execution_count": null,
   "id": "ae207291",
   "metadata": {},
   "outputs": [],
   "source": [
    "help(int)"
   ]
  },
  {
   "cell_type": "code",
   "execution_count": null,
   "id": "19b19614",
   "metadata": {},
   "outputs": [],
   "source": [
    "def add_(x, y):\n",
    "    \"\"\" 이 함수는 두개의 매개변수를 덧셈하는 함수입니다. \"\"\"\n",
    "    return x + y"
   ]
  },
  {
   "cell_type": "code",
   "execution_count": null,
   "id": "1aaf77f5",
   "metadata": {},
   "outputs": [],
   "source": [
    "add_.__doc__"
   ]
  },
  {
   "cell_type": "code",
   "execution_count": null,
   "id": "0defa5f1",
   "metadata": {},
   "outputs": [],
   "source": [
    "help(add_)"
   ]
  },
  {
   "cell_type": "markdown",
   "id": "b65c1564",
   "metadata": {},
   "source": [
    "## 11.3. 함수는 1급 객체(first-class object)이다"
   ]
  },
  {
   "cell_type": "code",
   "execution_count": null,
   "id": "cb44e28e",
   "metadata": {},
   "outputs": [],
   "source": [
    "def func(x, y):\n",
    "    return x, y"
   ]
  },
  {
   "cell_type": "code",
   "execution_count": null,
   "id": "736fecbf",
   "metadata": {},
   "outputs": [],
   "source": [
    "func"
   ]
  },
  {
   "cell_type": "code",
   "execution_count": null,
   "id": "1ab256fa",
   "metadata": {},
   "outputs": [],
   "source": [
    "type(func)"
   ]
  },
  {
   "cell_type": "markdown",
   "id": "9be52622",
   "metadata": {},
   "source": [
    "---"
   ]
  },
  {
   "cell_type": "code",
   "execution_count": null,
   "id": "58701035",
   "metadata": {},
   "outputs": [],
   "source": [
    "var = func"
   ]
  },
  {
   "cell_type": "code",
   "execution_count": null,
   "id": "27208645",
   "metadata": {},
   "outputs": [],
   "source": [
    "var is func"
   ]
  },
  {
   "cell_type": "code",
   "execution_count": null,
   "id": "964a2adb",
   "metadata": {},
   "outputs": [],
   "source": [
    "func = 1"
   ]
  },
  {
   "cell_type": "code",
   "execution_count": null,
   "id": "8bfca88c",
   "metadata": {},
   "outputs": [],
   "source": [
    "func"
   ]
  },
  {
   "cell_type": "code",
   "execution_count": null,
   "id": "c2973d86",
   "metadata": {},
   "outputs": [],
   "source": [
    "var.__name__"
   ]
  },
  {
   "cell_type": "code",
   "execution_count": null,
   "id": "0f4ff5f2",
   "metadata": {},
   "outputs": [],
   "source": [
    "func = var"
   ]
  },
  {
   "cell_type": "code",
   "execution_count": null,
   "id": "f3845650",
   "metadata": {},
   "outputs": [],
   "source": [
    "func.__name__"
   ]
  },
  {
   "cell_type": "markdown",
   "id": "7f5ee63d",
   "metadata": {},
   "source": [
    "---"
   ]
  },
  {
   "cell_type": "code",
   "execution_count": null,
   "id": "5817d3d4",
   "metadata": {},
   "outputs": [],
   "source": [
    "def high_order(func, *args):\n",
    "    return func(*args)"
   ]
  },
  {
   "cell_type": "code",
   "execution_count": null,
   "id": "86c77570",
   "metadata": {},
   "outputs": [],
   "source": [
    "high_order(func, 1, 3)"
   ]
  },
  {
   "cell_type": "code",
   "execution_count": null,
   "id": "49c850ad",
   "metadata": {},
   "outputs": [],
   "source": [
    "def func_return(func):\n",
    "    return func"
   ]
  },
  {
   "cell_type": "code",
   "execution_count": null,
   "id": "aa4e5da2",
   "metadata": {},
   "outputs": [],
   "source": [
    "x = func_return(func)\n",
    "x"
   ]
  },
  {
   "cell_type": "markdown",
   "id": "5448c52b",
   "metadata": {},
   "source": [
    "## 11.4. 함수도 이름으로 접근해서 호출"
   ]
  },
  {
   "cell_type": "code",
   "execution_count": null,
   "id": "22fa7175",
   "metadata": {},
   "outputs": [],
   "source": [
    "def add(x, y):\n",
    "    return x + y"
   ]
  },
  {
   "cell_type": "code",
   "execution_count": null,
   "id": "728f706c",
   "metadata": {},
   "outputs": [],
   "source": [
    "add.__get__"
   ]
  },
  {
   "cell_type": "code",
   "execution_count": null,
   "id": "80cc542d",
   "metadata": {},
   "outputs": [],
   "source": [
    "add.__get__(1)"
   ]
  },
  {
   "cell_type": "code",
   "execution_count": null,
   "id": "6f4019b6",
   "metadata": {},
   "outputs": [],
   "source": [
    "b = add.__get__(1)"
   ]
  },
  {
   "cell_type": "code",
   "execution_count": null,
   "id": "8720a919",
   "metadata": {},
   "outputs": [],
   "source": [
    "b(2)"
   ]
  },
  {
   "cell_type": "code",
   "execution_count": null,
   "id": "c0033a9d",
   "metadata": {},
   "outputs": [],
   "source": [
    "add.__get__(None, add)"
   ]
  },
  {
   "cell_type": "code",
   "execution_count": null,
   "id": "e5e685cb",
   "metadata": {},
   "outputs": [],
   "source": [
    "add.__get__(None, 2)"
   ]
  },
  {
   "cell_type": "code",
   "execution_count": null,
   "id": "d35a757c",
   "metadata": {},
   "outputs": [],
   "source": [
    "a = add.__get__(None, 2)"
   ]
  },
  {
   "cell_type": "code",
   "execution_count": null,
   "id": "f83e1a0c",
   "metadata": {},
   "outputs": [],
   "source": [
    "a(1, 2)"
   ]
  }
 ],
 "metadata": {
  "kernelspec": {
   "display_name": "Python 3 (ipykernel)",
   "language": "python",
   "name": "python3"
  },
  "language_info": {
   "codemirror_mode": {
    "name": "ipython",
    "version": 3
   },
   "file_extension": ".py",
   "mimetype": "text/x-python",
   "name": "python",
   "nbconvert_exporter": "python",
   "pygments_lexer": "ipython3",
   "version": "3.8.12"
  }
 },
 "nbformat": 4,
 "nbformat_minor": 5
}
