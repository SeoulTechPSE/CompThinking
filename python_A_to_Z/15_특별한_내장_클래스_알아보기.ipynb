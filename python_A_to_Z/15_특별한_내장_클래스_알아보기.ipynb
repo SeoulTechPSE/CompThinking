{
 "cells": [
  {
   "cell_type": "markdown",
   "id": "28cbc71c",
   "metadata": {},
   "source": [
    "# 15 장. 특별한 내장 클래스 알아보기"
   ]
  },
  {
   "cell_type": "markdown",
   "id": "398743c6",
   "metadata": {},
   "source": [
    "## 15.1. 예약어로 관리되는 객체"
   ]
  },
  {
   "cell_type": "code",
   "execution_count": null,
   "id": "b272d59c",
   "metadata": {},
   "outputs": [],
   "source": [
    "None"
   ]
  },
  {
   "cell_type": "code",
   "execution_count": null,
   "id": "90f7a930",
   "metadata": {},
   "outputs": [],
   "source": [
    "type(None)"
   ]
  },
  {
   "cell_type": "code",
   "execution_count": null,
   "id": "deedf7e3",
   "metadata": {},
   "outputs": [],
   "source": [
    "set(dir(None.__class__)) - set(dir(object))"
   ]
  },
  {
   "cell_type": "code",
   "execution_count": null,
   "id": "c45329fc",
   "metadata": {},
   "outputs": [],
   "source": [
    "None.__bool__()"
   ]
  },
  {
   "cell_type": "code",
   "execution_count": null,
   "id": "30d63fc0",
   "metadata": {},
   "outputs": [],
   "source": [
    "bool(None)"
   ]
  },
  {
   "cell_type": "markdown",
   "id": "35eaf04d",
   "metadata": {},
   "source": [
    "---"
   ]
  },
  {
   "cell_type": "code",
   "execution_count": null,
   "id": "f7d26890",
   "metadata": {},
   "outputs": [],
   "source": [
    "int.__bool__(0), float.__bool__(0.0), complex.__bool__(0+0j)"
   ]
  },
  {
   "cell_type": "code",
   "execution_count": null,
   "id": "f2cc85e7",
   "metadata": {},
   "outputs": [],
   "source": [
    "bool(''), bool(()), bool([]), bool({}), bool(set())"
   ]
  },
  {
   "cell_type": "code",
   "execution_count": null,
   "id": "08456618",
   "metadata": {},
   "outputs": [],
   "source": [
    "type(True), type(False)"
   ]
  },
  {
   "cell_type": "markdown",
   "id": "d5bc32be",
   "metadata": {},
   "source": [
    "---"
   ]
  },
  {
   "cell_type": "code",
   "execution_count": null,
   "id": "990338fa",
   "metadata": {},
   "outputs": [],
   "source": [
    "bool.__bases__"
   ]
  },
  {
   "cell_type": "code",
   "execution_count": null,
   "id": "393def87",
   "metadata": {},
   "outputs": [],
   "source": [
    "set(dir(bool)) - set(dir(int))"
   ]
  },
  {
   "cell_type": "code",
   "execution_count": null,
   "id": "67b5afe7",
   "metadata": {},
   "outputs": [],
   "source": [
    "True + 1"
   ]
  },
  {
   "cell_type": "markdown",
   "id": "b2a6d3bb",
   "metadata": {},
   "source": [
    "## 15.2. 범위를 처리하는 클래스"
   ]
  },
  {
   "cell_type": "code",
   "execution_count": null,
   "id": "b2952d20",
   "metadata": {},
   "outputs": [],
   "source": [
    "type(slice), type(range)"
   ]
  },
  {
   "cell_type": "code",
   "execution_count": null,
   "id": "9ad2b683",
   "metadata": {},
   "outputs": [],
   "source": [
    "s = slice(0, 5, 2)"
   ]
  },
  {
   "cell_type": "code",
   "execution_count": null,
   "id": "39fb39ef",
   "metadata": {},
   "outputs": [],
   "source": [
    "r = range(0, 5, 2)"
   ]
  },
  {
   "cell_type": "code",
   "execution_count": null,
   "id": "3584fc77",
   "metadata": {},
   "outputs": [],
   "source": [
    "set(dir(s)) - set(dir(object))"
   ]
  },
  {
   "cell_type": "code",
   "execution_count": null,
   "id": "837ab291",
   "metadata": {},
   "outputs": [],
   "source": [
    "set(dir(r)) - set(dir(object))"
   ]
  },
  {
   "cell_type": "code",
   "execution_count": null,
   "id": "2fb4bbe5",
   "metadata": {},
   "outputs": [],
   "source": [
    "ll = [x for x in range(6)]"
   ]
  },
  {
   "cell_type": "code",
   "execution_count": null,
   "id": "2c747149",
   "metadata": {},
   "outputs": [],
   "source": [
    "ll[s]"
   ]
  },
  {
   "cell_type": "code",
   "execution_count": null,
   "id": "feb3ee76",
   "metadata": {},
   "outputs": [],
   "source": [
    "ll[0:5:2]"
   ]
  }
 ],
 "metadata": {
  "kernelspec": {
   "display_name": "Python 3 (ipykernel)",
   "language": "python",
   "name": "python3"
  },
  "language_info": {
   "codemirror_mode": {
    "name": "ipython",
    "version": 3
   },
   "file_extension": ".py",
   "mimetype": "text/x-python",
   "name": "python",
   "nbconvert_exporter": "python",
   "pygments_lexer": "ipython3",
   "version": "3.8.12"
  }
 },
 "nbformat": 4,
 "nbformat_minor": 5
}
