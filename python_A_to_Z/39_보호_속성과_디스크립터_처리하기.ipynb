{
 "cells": [
  {
   "cell_type": "markdown",
   "id": "1d6f932a",
   "metadata": {},
   "source": [
    "# 39 장. 보호 속성과 디스크립터 처리하기"
   ]
  },
  {
   "cell_type": "markdown",
   "id": "81487284",
   "metadata": {},
   "source": [
    "## 39.1. 보호 속성 알아보기"
   ]
  },
  {
   "cell_type": "code",
   "execution_count": null,
   "id": "744b2a92",
   "metadata": {},
   "outputs": [],
   "source": [
    "class Klass:\n",
    "    _name = '가을'\n",
    "    \n",
    "    def __init__(self, name):\n",
    "        self._name = name\n",
    "        \n",
    "    def get_name(self):\n",
    "        return self._name"
   ]
  },
  {
   "cell_type": "code",
   "execution_count": null,
   "id": "1365f3d9",
   "metadata": {},
   "outputs": [],
   "source": [
    "Klass.__dict__"
   ]
  },
  {
   "cell_type": "code",
   "execution_count": null,
   "id": "8c9f9733",
   "metadata": {},
   "outputs": [],
   "source": [
    "Klass._name"
   ]
  },
  {
   "cell_type": "code",
   "execution_count": null,
   "id": "6d1e22e2",
   "metadata": {},
   "outputs": [],
   "source": [
    "k = Klass('너울')"
   ]
  },
  {
   "cell_type": "code",
   "execution_count": null,
   "id": "c3fda8d1",
   "metadata": {},
   "outputs": [],
   "source": [
    "k.__dict__"
   ]
  },
  {
   "cell_type": "code",
   "execution_count": null,
   "id": "c376dd86",
   "metadata": {},
   "outputs": [],
   "source": [
    "k.get_name()"
   ]
  },
  {
   "cell_type": "code",
   "execution_count": null,
   "id": "86d9613f",
   "metadata": {},
   "outputs": [],
   "source": [
    "k._name"
   ]
  },
  {
   "cell_type": "markdown",
   "id": "1bcf65b2",
   "metadata": {},
   "source": [
    "---"
   ]
  },
  {
   "cell_type": "code",
   "execution_count": null,
   "id": "a2f01043",
   "metadata": {},
   "outputs": [],
   "source": [
    "class Mangling:\n",
    "    __name = '가을'\n",
    "    \n",
    "    def __init__(self, name):\n",
    "        self.__name = name\n",
    "        \n",
    "    def get_name(self):\n",
    "        return self.__name\n",
    "    \n",
    "    @classmethod\n",
    "    def getAttr(cls):\n",
    "        return cls.__name"
   ]
  },
  {
   "cell_type": "code",
   "execution_count": null,
   "id": "76b1e446",
   "metadata": {},
   "outputs": [],
   "source": [
    "Mangling.__dict__"
   ]
  },
  {
   "cell_type": "code",
   "execution_count": null,
   "id": "e92ff1a5",
   "metadata": {},
   "outputs": [],
   "source": [
    "Mangling.__name"
   ]
  },
  {
   "cell_type": "code",
   "execution_count": null,
   "id": "4956350d",
   "metadata": {},
   "outputs": [],
   "source": [
    "Mangling.getAttr()"
   ]
  },
  {
   "cell_type": "code",
   "execution_count": null,
   "id": "e738418c",
   "metadata": {},
   "outputs": [],
   "source": [
    "Mangling._Mangling__name"
   ]
  },
  {
   "cell_type": "code",
   "execution_count": null,
   "id": "3e0c3ac1",
   "metadata": {},
   "outputs": [],
   "source": [
    "m = Mangling('맹그링')"
   ]
  },
  {
   "cell_type": "code",
   "execution_count": null,
   "id": "88c3f5db",
   "metadata": {},
   "outputs": [],
   "source": [
    "m.__dict__"
   ]
  },
  {
   "cell_type": "code",
   "execution_count": null,
   "id": "60bf36ff",
   "metadata": {},
   "outputs": [],
   "source": [
    "m.get_name()"
   ]
  },
  {
   "cell_type": "code",
   "execution_count": null,
   "id": "1afe7cd6",
   "metadata": {},
   "outputs": [],
   "source": [
    "m.__name"
   ]
  },
  {
   "cell_type": "code",
   "execution_count": null,
   "id": "72492287",
   "metadata": {},
   "outputs": [],
   "source": [
    "m._Mangling__name"
   ]
  },
  {
   "cell_type": "markdown",
   "id": "6f05a660",
   "metadata": {},
   "source": [
    "## 39.2. 프로퍼티(Property)"
   ]
  },
  {
   "cell_type": "code",
   "execution_count": null,
   "id": "a41f1d25",
   "metadata": {},
   "outputs": [],
   "source": [
    "print(property)"
   ]
  },
  {
   "cell_type": "code",
   "execution_count": null,
   "id": "d88baad7",
   "metadata": {},
   "outputs": [],
   "source": [
    "isinstance(property, type)"
   ]
  },
  {
   "cell_type": "code",
   "execution_count": null,
   "id": "de889220",
   "metadata": {},
   "outputs": [],
   "source": [
    "class Data:\n",
    "    \n",
    "    def __init__(self, data):\n",
    "        self._data = data\n",
    "        \n",
    "    @property\n",
    "    def data(self):\n",
    "        return self._data"
   ]
  },
  {
   "cell_type": "code",
   "execution_count": null,
   "id": "77c94502",
   "metadata": {},
   "outputs": [],
   "source": [
    "Data.__dict__"
   ]
  },
  {
   "cell_type": "code",
   "execution_count": null,
   "id": "51755997",
   "metadata": {},
   "outputs": [],
   "source": [
    "d = Data(10)"
   ]
  },
  {
   "cell_type": "code",
   "execution_count": null,
   "id": "149b75c3",
   "metadata": {},
   "outputs": [],
   "source": [
    "d.data"
   ]
  },
  {
   "cell_type": "code",
   "execution_count": null,
   "id": "ee8c61ca",
   "metadata": {},
   "outputs": [],
   "source": [
    "d.__dict__"
   ]
  },
  {
   "cell_type": "code",
   "execution_count": null,
   "id": "63b3a913",
   "metadata": {},
   "outputs": [],
   "source": [
    "d.data = 33"
   ]
  },
  {
   "cell_type": "markdown",
   "id": "0eb2cf9c",
   "metadata": {},
   "source": [
    "---"
   ]
  },
  {
   "cell_type": "code",
   "execution_count": null,
   "id": "f6ea9aba",
   "metadata": {},
   "outputs": [],
   "source": [
    "class DataInt:\n",
    "    \n",
    "    @property\n",
    "    def data(self):\n",
    "        return self._data\n",
    "    \n",
    "    @data.setter\n",
    "    def data(self, value):\n",
    "        if isinstance(value, int):\n",
    "            self._data = value\n",
    "        else:\n",
    "            raise AttributeError('정수값이 아닙니다.')\n",
    "    \n",
    "    @data.deleter\n",
    "    def data(self):\n",
    "        raise AttributeError('삭제할 수 없습니다.')"
   ]
  },
  {
   "cell_type": "code",
   "execution_count": null,
   "id": "5d33c809",
   "metadata": {},
   "outputs": [],
   "source": [
    "t = DataInt()"
   ]
  },
  {
   "cell_type": "code",
   "execution_count": null,
   "id": "ed2c2f57",
   "metadata": {},
   "outputs": [],
   "source": [
    "t.__dict__"
   ]
  },
  {
   "cell_type": "code",
   "execution_count": null,
   "id": "494b01a1",
   "metadata": {},
   "outputs": [],
   "source": [
    "t.data = 12"
   ]
  },
  {
   "cell_type": "code",
   "execution_count": null,
   "id": "64ee7c31",
   "metadata": {},
   "outputs": [],
   "source": [
    "t.__dict__"
   ]
  },
  {
   "cell_type": "code",
   "execution_count": null,
   "id": "78958d40",
   "metadata": {},
   "outputs": [],
   "source": [
    "t.data"
   ]
  },
  {
   "cell_type": "code",
   "execution_count": null,
   "id": "d9565218",
   "metadata": {},
   "outputs": [],
   "source": [
    "try:\n",
    "    t.data = '123'\n",
    "except Exception as e:\n",
    "    print(e)"
   ]
  },
  {
   "cell_type": "code",
   "execution_count": null,
   "id": "2bbae3fb",
   "metadata": {},
   "outputs": [],
   "source": [
    "try:\n",
    "    del t.data\n",
    "except Exception as e:\n",
    "    print(e)"
   ]
  },
  {
   "cell_type": "markdown",
   "id": "5d818b94",
   "metadata": {},
   "source": [
    "---"
   ]
  },
  {
   "cell_type": "code",
   "execution_count": null,
   "id": "4d1211f2",
   "metadata": {},
   "outputs": [],
   "source": [
    "class my_property:\n",
    "    \n",
    "    def __init__(self, fget=None, fset=None, fdel=None):\n",
    "        self.fget = fget\n",
    "        self.fset = fset\n",
    "        self.fdel = fdel\n",
    "        \n",
    "    def setter(self, fset):\n",
    "        self.fset = fset\n",
    "        return self\n",
    "    \n",
    "    def deleter(self, fdel):\n",
    "        self.fdel = fdel\n",
    "        return self    \n",
    "    \n",
    "    def getter(self, fget):\n",
    "        self.fget = fget\n",
    "        return self    \n",
    "    \n",
    "    def __get__(self, instance, owner):\n",
    "        return self.fget(instance)\n",
    "    \n",
    "    def __set__(self, instance, value):\n",
    "        if not self.fset:\n",
    "            raise AttributeError\n",
    "        return self.fset(instance, value)\n",
    "    \n",
    "    def __delete__(self, instance):\n",
    "        if not self.fdel:\n",
    "            raise AttributeError\n",
    "        return self.fdel(instance)"
   ]
  },
  {
   "cell_type": "code",
   "execution_count": null,
   "id": "11335774",
   "metadata": {},
   "outputs": [],
   "source": [
    "class OnlyInt:\n",
    "    \n",
    "    @my_property\n",
    "    def data(self):\n",
    "        return self._data\n",
    "    \n",
    "    @data.setter\n",
    "    def data(self, value):\n",
    "        if isinstance(value, int):\n",
    "            self._data = value\n",
    "        else:\n",
    "            raise AttributeError('정수만 처리합니다.')\n",
    "            \n",
    "    @data.deleter\n",
    "    def data(self):\n",
    "        raise AttributeError('삭제는 안합니다.')"
   ]
  },
  {
   "cell_type": "code",
   "execution_count": null,
   "id": "8d6491db",
   "metadata": {},
   "outputs": [],
   "source": [
    "c = OnlyInt()"
   ]
  },
  {
   "cell_type": "code",
   "execution_count": null,
   "id": "386fa067",
   "metadata": {},
   "outputs": [],
   "source": [
    "c.__dict__"
   ]
  },
  {
   "cell_type": "code",
   "execution_count": null,
   "id": "ca9ecbac",
   "metadata": {},
   "outputs": [],
   "source": [
    "c.data = 999"
   ]
  },
  {
   "cell_type": "code",
   "execution_count": null,
   "id": "f7d98350",
   "metadata": {},
   "outputs": [],
   "source": [
    "c.data"
   ]
  },
  {
   "cell_type": "code",
   "execution_count": null,
   "id": "4cb19da7",
   "metadata": {},
   "outputs": [],
   "source": [
    "try:\n",
    "    c.data = '문자열 갱신'\n",
    "except Exception as e:\n",
    "    print(e)"
   ]
  },
  {
   "cell_type": "markdown",
   "id": "2ebfab6a",
   "metadata": {},
   "source": [
    "---"
   ]
  },
  {
   "cell_type": "code",
   "execution_count": null,
   "id": "5230b8b6",
   "metadata": {},
   "outputs": [],
   "source": [
    "class Double:\n",
    "    \n",
    "    def __init__(self, value):\n",
    "        self.value = value\n",
    "        \n",
    "    @property\n",
    "    def double(self):\n",
    "        return self.value * 2\n",
    "    \n",
    "    @double.setter\n",
    "    def double(self, value):\n",
    "        raise AttributeError('갱신할 수 없습니다.')"
   ]
  },
  {
   "cell_type": "code",
   "execution_count": null,
   "id": "e0840187",
   "metadata": {},
   "outputs": [],
   "source": [
    "d = Double(3)"
   ]
  },
  {
   "cell_type": "code",
   "execution_count": null,
   "id": "00c332eb",
   "metadata": {},
   "outputs": [],
   "source": [
    "d.double"
   ]
  },
  {
   "cell_type": "code",
   "execution_count": null,
   "id": "e93b8c09",
   "metadata": {},
   "outputs": [],
   "source": [
    "try:\n",
    "    d.double = 999\n",
    "except Exception as e:\n",
    "    print(e)"
   ]
  },
  {
   "cell_type": "markdown",
   "id": "26cfbfa4",
   "metadata": {},
   "source": [
    "## 39.3. 디스크립터(Descriptor) 구조 알아보기"
   ]
  },
  {
   "cell_type": "code",
   "execution_count": null,
   "id": "3c58b994",
   "metadata": {},
   "outputs": [],
   "source": [
    "class Descriptor:\n",
    "    \n",
    "    def __init__(self, value):\n",
    "        self.value = value\n",
    "        \n",
    "    def __get__(self, instance, owner):\n",
    "        print('get')\n",
    "        return self.value"
   ]
  },
  {
   "cell_type": "code",
   "execution_count": null,
   "id": "e7f93519",
   "metadata": {},
   "outputs": [],
   "source": [
    "class A:\n",
    "    value = Descriptor(10)\n",
    "    value1 = Descriptor(20)"
   ]
  },
  {
   "cell_type": "code",
   "execution_count": null,
   "id": "0aba1398",
   "metadata": {},
   "outputs": [],
   "source": [
    "a = A()"
   ]
  },
  {
   "cell_type": "code",
   "execution_count": null,
   "id": "493b32fb",
   "metadata": {},
   "outputs": [],
   "source": [
    "a.value"
   ]
  },
  {
   "cell_type": "code",
   "execution_count": null,
   "id": "f4c1ece3",
   "metadata": {},
   "outputs": [],
   "source": [
    "a.value1"
   ]
  },
  {
   "cell_type": "markdown",
   "id": "71c74760",
   "metadata": {},
   "source": [
    "---"
   ]
  },
  {
   "cell_type": "code",
   "execution_count": null,
   "id": "8d3c2693",
   "metadata": {},
   "outputs": [],
   "source": [
    "class Descriptor_:\n",
    "    \n",
    "    def __get__(self, instance, owner):\n",
    "        print('get')\n",
    "        if not hasattr(instance, '_value'):\n",
    "            self.__set__(instance, 0)\n",
    "        return instance._value\n",
    "    \n",
    "    def __set__(self, instance, value):\n",
    "        print('set')\n",
    "        instance._value = value"
   ]
  },
  {
   "cell_type": "code",
   "execution_count": null,
   "id": "ce05842c",
   "metadata": {},
   "outputs": [],
   "source": [
    "class B:\n",
    "    value = Descriptor_()\n",
    "    value1 = Descriptor_()"
   ]
  },
  {
   "cell_type": "code",
   "execution_count": null,
   "id": "4fe14228",
   "metadata": {},
   "outputs": [],
   "source": [
    "B.__dict__"
   ]
  },
  {
   "cell_type": "code",
   "execution_count": null,
   "id": "52f31fa6",
   "metadata": {},
   "outputs": [],
   "source": [
    "b = B()"
   ]
  },
  {
   "cell_type": "code",
   "execution_count": null,
   "id": "0f625dba",
   "metadata": {},
   "outputs": [],
   "source": [
    "b.value"
   ]
  },
  {
   "cell_type": "code",
   "execution_count": null,
   "id": "f0155c7f",
   "metadata": {},
   "outputs": [],
   "source": [
    "b.value1"
   ]
  },
  {
   "cell_type": "code",
   "execution_count": null,
   "id": "80f4c859",
   "metadata": {},
   "outputs": [],
   "source": [
    "b.value1 = 999"
   ]
  },
  {
   "cell_type": "code",
   "execution_count": null,
   "id": "12335484",
   "metadata": {},
   "outputs": [],
   "source": [
    "b.__dict__"
   ]
  },
  {
   "cell_type": "code",
   "execution_count": null,
   "id": "95f23901",
   "metadata": {},
   "outputs": [],
   "source": [
    "b.value = 777"
   ]
  },
  {
   "cell_type": "code",
   "execution_count": null,
   "id": "45caf1ae",
   "metadata": {},
   "outputs": [],
   "source": [
    "b.__dict__"
   ]
  },
  {
   "cell_type": "markdown",
   "id": "809247de",
   "metadata": {},
   "source": [
    "---"
   ]
  },
  {
   "cell_type": "code",
   "execution_count": null,
   "id": "d883e098",
   "metadata": {},
   "outputs": [],
   "source": [
    "class Descriptor_c:\n",
    "    \n",
    "    def __set_name__(self, owner, name):\n",
    "        self._name = '_' + name\n",
    "        \n",
    "    def __get__(self, instance, owner):\n",
    "        print('get')\n",
    "        if not (self._name in instance.__dict__):\n",
    "            self.__set__(instance, 0)\n",
    "        return instance.__dict__[self._name]\n",
    "    \n",
    "    def __set__(self, instance, value):\n",
    "        print('set')\n",
    "        instance.__dict__[self._name] = value"
   ]
  },
  {
   "cell_type": "code",
   "execution_count": null,
   "id": "af2fd94e",
   "metadata": {},
   "outputs": [],
   "source": [
    "class C:\n",
    "    value = Descriptor_c()\n",
    "    value1 = Descriptor_c()"
   ]
  },
  {
   "cell_type": "code",
   "execution_count": null,
   "id": "f5b3c959",
   "metadata": {},
   "outputs": [],
   "source": [
    "c = C()"
   ]
  },
  {
   "cell_type": "code",
   "execution_count": null,
   "id": "c4e3ce56",
   "metadata": {},
   "outputs": [],
   "source": [
    "c.value"
   ]
  },
  {
   "cell_type": "code",
   "execution_count": null,
   "id": "7a9645cd",
   "metadata": {},
   "outputs": [],
   "source": [
    "c.value1"
   ]
  },
  {
   "cell_type": "code",
   "execution_count": null,
   "id": "592b8962",
   "metadata": {},
   "outputs": [],
   "source": [
    "c.__dict__"
   ]
  },
  {
   "cell_type": "code",
   "execution_count": null,
   "id": "b967634a",
   "metadata": {},
   "outputs": [],
   "source": [
    "c.value = 100"
   ]
  },
  {
   "cell_type": "code",
   "execution_count": null,
   "id": "6d6e8043",
   "metadata": {},
   "outputs": [],
   "source": [
    "c.value1 = 999"
   ]
  },
  {
   "cell_type": "code",
   "execution_count": null,
   "id": "508fc6f9",
   "metadata": {},
   "outputs": [],
   "source": [
    "c.__dict__"
   ]
  },
  {
   "cell_type": "markdown",
   "id": "0ddcc1bc",
   "metadata": {},
   "source": [
    "---"
   ]
  },
  {
   "cell_type": "code",
   "execution_count": null,
   "id": "08261bd8",
   "metadata": {},
   "outputs": [],
   "source": [
    "class Descriptor_old:\n",
    "    \n",
    "    def __init__(self, name):\n",
    "        self._name = '_' + name\n",
    "        \n",
    "    def __get__(self, instance, owner):\n",
    "        print('get')\n",
    "        if not (self._name in instance.__dict__):\n",
    "            self.__set__(instance, 0)\n",
    "        return instance.__dict__[self._name]\n",
    "    \n",
    "    def __set__(self, instance, value):\n",
    "        print('set')\n",
    "        instance.__dict__[self._name] = value"
   ]
  },
  {
   "cell_type": "code",
   "execution_count": null,
   "id": "b6eabc58",
   "metadata": {},
   "outputs": [],
   "source": [
    "class Old:\n",
    "    value = Descriptor_old('value')\n",
    "    value1 = Descriptor_old('value1')"
   ]
  },
  {
   "cell_type": "code",
   "execution_count": null,
   "id": "b1272c18",
   "metadata": {},
   "outputs": [],
   "source": [
    "o = Old()"
   ]
  },
  {
   "cell_type": "code",
   "execution_count": null,
   "id": "f953f1c8",
   "metadata": {},
   "outputs": [],
   "source": [
    "o.value"
   ]
  },
  {
   "cell_type": "code",
   "execution_count": null,
   "id": "bc755fc5",
   "metadata": {},
   "outputs": [],
   "source": [
    "o.value1"
   ]
  },
  {
   "cell_type": "code",
   "execution_count": null,
   "id": "ef79d60e",
   "metadata": {},
   "outputs": [],
   "source": [
    "o.value = 999"
   ]
  },
  {
   "cell_type": "code",
   "execution_count": null,
   "id": "76cef394",
   "metadata": {},
   "outputs": [],
   "source": [
    "o.value1 = 777"
   ]
  },
  {
   "cell_type": "code",
   "execution_count": null,
   "id": "45ac773e",
   "metadata": {},
   "outputs": [],
   "source": [
    "o.value, o.value1"
   ]
  },
  {
   "cell_type": "markdown",
   "id": "895f519e",
   "metadata": {},
   "source": [
    "## 39.4. 데이터/비데이터 디스크립터"
   ]
  },
  {
   "cell_type": "code",
   "execution_count": null,
   "id": "408fe3a5",
   "metadata": {},
   "outputs": [],
   "source": [
    "def add(x, y):\n",
    "    return x + y"
   ]
  },
  {
   "cell_type": "code",
   "execution_count": null,
   "id": "efafe92b",
   "metadata": {},
   "outputs": [],
   "source": [
    "add = add.__get__(add)"
   ]
  },
  {
   "cell_type": "code",
   "execution_count": null,
   "id": "ca90ee84",
   "metadata": {},
   "outputs": [],
   "source": [
    "add"
   ]
  },
  {
   "cell_type": "code",
   "execution_count": null,
   "id": "c672af3e",
   "metadata": {},
   "outputs": [],
   "source": [
    "add.__func__"
   ]
  },
  {
   "cell_type": "code",
   "execution_count": null,
   "id": "cab07c48",
   "metadata": {},
   "outputs": [],
   "source": [
    "add.__func__(10, 10)"
   ]
  },
  {
   "cell_type": "markdown",
   "id": "ab4706a2",
   "metadata": {},
   "source": [
    "---"
   ]
  },
  {
   "cell_type": "code",
   "execution_count": null,
   "id": "d2a200df",
   "metadata": {},
   "outputs": [],
   "source": [
    "class Descriptor_nd:\n",
    "    \n",
    "    def __init__(self, func):\n",
    "        self._func = func\n",
    "        \n",
    "    def __set_name__(self, owner, name):\n",
    "        self._name = '_' + name\n",
    "        \n",
    "    def __get__(self, instance, owner):\n",
    "        print('get')\n",
    "        def inner(*args, **kwargs):\n",
    "            return self._func(*args, **kwargs)\n",
    "        return inner"
   ]
  },
  {
   "cell_type": "code",
   "execution_count": null,
   "id": "43276d51",
   "metadata": {},
   "outputs": [],
   "source": [
    "def mul(x, y):\n",
    "    return x * y"
   ]
  },
  {
   "cell_type": "code",
   "execution_count": null,
   "id": "329758bd",
   "metadata": {},
   "outputs": [],
   "source": [
    "class Non_data:\n",
    "    mul = Descriptor_nd(mul)"
   ]
  },
  {
   "cell_type": "code",
   "execution_count": null,
   "id": "edc9afc6",
   "metadata": {},
   "outputs": [],
   "source": [
    "nd = Non_data()"
   ]
  },
  {
   "cell_type": "code",
   "execution_count": null,
   "id": "ebd2ea76",
   "metadata": {},
   "outputs": [],
   "source": [
    "nd.mul"
   ]
  },
  {
   "cell_type": "code",
   "execution_count": null,
   "id": "8a1fdffe",
   "metadata": {},
   "outputs": [],
   "source": [
    "nd.mul(10, 10)"
   ]
  },
  {
   "cell_type": "markdown",
   "id": "bc30c943",
   "metadata": {},
   "source": [
    "---"
   ]
  },
  {
   "cell_type": "code",
   "execution_count": null,
   "id": "2fd69e04",
   "metadata": {},
   "outputs": [],
   "source": [
    "from functools import partial"
   ]
  },
  {
   "cell_type": "code",
   "execution_count": null,
   "id": "304cb25c",
   "metadata": {},
   "outputs": [],
   "source": [
    "class Descriptor:\n",
    "    \n",
    "    def __init__(self, func):\n",
    "        self.func = func\n",
    "        \n",
    "    def __get__(self, instance, owner):\n",
    "        return partial(self.func, instance)"
   ]
  },
  {
   "cell_type": "code",
   "execution_count": null,
   "id": "e36f3cca",
   "metadata": {},
   "outputs": [],
   "source": [
    "class A:\n",
    "    \n",
    "    @Descriptor\n",
    "    def sum(self, a, b, c):\n",
    "        return a + b + c"
   ]
  },
  {
   "cell_type": "code",
   "execution_count": null,
   "id": "a4e722de",
   "metadata": {},
   "outputs": [],
   "source": [
    "A.__dict__"
   ]
  },
  {
   "cell_type": "code",
   "execution_count": null,
   "id": "aeac24b6",
   "metadata": {},
   "outputs": [],
   "source": [
    "a = A()"
   ]
  },
  {
   "cell_type": "code",
   "execution_count": null,
   "id": "0fe0a096",
   "metadata": {},
   "outputs": [],
   "source": [
    "a.sum(1, 2, 3)"
   ]
  },
  {
   "cell_type": "markdown",
   "id": "808caa7d",
   "metadata": {},
   "source": [
    "---"
   ]
  },
  {
   "cell_type": "code",
   "execution_count": null,
   "id": "b84bef17",
   "metadata": {},
   "outputs": [],
   "source": [
    "class MutableAttribute:\n",
    "    \n",
    "    def __init__(self, value=None):\n",
    "        self.value = value\n",
    "        \n",
    "    def __set_name__(self, owner, name):\n",
    "        self._name = '_' + name\n",
    "        \n",
    "    def __get__(self, instance, owner):\n",
    "        if self._name in instance.__dict__:\n",
    "            return instance.__dict__[self._name]\n",
    "        else:\n",
    "            return self.value\n",
    "        \n",
    "    def __set__(self, instance, value):\n",
    "        instance.__dict__[self._name] = value\n",
    "        \n",
    "    def __delete__(self, instance):\n",
    "        del self.value"
   ]
  },
  {
   "cell_type": "code",
   "execution_count": null,
   "id": "d262953d",
   "metadata": {},
   "outputs": [],
   "source": [
    "class ImmutableAttribute:\n",
    "    \n",
    "    def __init__(self, func):\n",
    "        self.func = func\n",
    "        \n",
    "    def __get__(self, instance, owner):\n",
    "        return self.func(instance)\n",
    "        \n",
    "    def __set__(self, instance, value):\n",
    "        raise AttributeError('갱신이 불가합니다.')\n",
    "        \n",
    "    def __delete__(self, instance):\n",
    "        raise AttributeError('삭제가 불가합니다.')"
   ]
  },
  {
   "cell_type": "code",
   "execution_count": null,
   "id": "72375071",
   "metadata": {},
   "outputs": [],
   "source": [
    "class Circle:\n",
    "    pi = 3.1415\n",
    "    radius = MutableAttribute(10)\n",
    "    diameter = ImmutableAttribute(lambda self: self.radius * 2)\n",
    "    \n",
    "    @ImmutableAttribute\n",
    "    def circumference(self):\n",
    "        return self.radius * self.pi * 2\n",
    "    \n",
    "    @ImmutableAttribute\n",
    "    def area(self):\n",
    "        return self.radius**2 * self.pi"
   ]
  },
  {
   "cell_type": "code",
   "execution_count": null,
   "id": "2987e7f2",
   "metadata": {},
   "outputs": [],
   "source": [
    "c = Circle()"
   ]
  },
  {
   "cell_type": "code",
   "execution_count": null,
   "id": "25394580",
   "metadata": {},
   "outputs": [],
   "source": [
    "c.radius, c.diameter"
   ]
  },
  {
   "cell_type": "code",
   "execution_count": null,
   "id": "2d1b71a4",
   "metadata": {},
   "outputs": [],
   "source": [
    "c.circumference, c.area"
   ]
  },
  {
   "cell_type": "code",
   "execution_count": null,
   "id": "d6c38474",
   "metadata": {},
   "outputs": [],
   "source": [
    "c.radius = 100"
   ]
  },
  {
   "cell_type": "code",
   "execution_count": null,
   "id": "d37f2330",
   "metadata": {},
   "outputs": [],
   "source": [
    "c.radius"
   ]
  },
  {
   "cell_type": "code",
   "execution_count": null,
   "id": "4a12d7bc",
   "metadata": {},
   "outputs": [],
   "source": [
    "c.area"
   ]
  },
  {
   "cell_type": "code",
   "execution_count": null,
   "id": "96cd5c76",
   "metadata": {},
   "outputs": [],
   "source": [
    "try:\n",
    "    c.area = 123\n",
    "except Exception as e:\n",
    "    print(e)"
   ]
  },
  {
   "cell_type": "markdown",
   "id": "90669ab2",
   "metadata": {},
   "source": [
    "## 39.5. 디스크립터 속성 자료형 제약하기"
   ]
  },
  {
   "cell_type": "code",
   "execution_count": null,
   "id": "ff861a86",
   "metadata": {},
   "outputs": [],
   "source": [
    "class Field:\n",
    "    \n",
    "    def __get__(self, instance, owner):\n",
    "        return instance.__dict__[self.name]\n",
    "    \n",
    "    def __set__(self, instance, value):\n",
    "        if not isinstance(value, int):\n",
    "            raise ValueError(f'정수가 아닙니다. 정수값을 넣어주세요. {self.name}')\n",
    "        instance.__dict__[self.name] = value\n",
    "        \n",
    "    def __set_name__(self, owner, name):\n",
    "        self.name = name        "
   ]
  },
  {
   "cell_type": "code",
   "execution_count": null,
   "id": "2c36395f",
   "metadata": {},
   "outputs": [],
   "source": [
    "class A:\n",
    "    var = Field()"
   ]
  },
  {
   "cell_type": "code",
   "execution_count": null,
   "id": "fb294e63",
   "metadata": {},
   "outputs": [],
   "source": [
    "a = A()"
   ]
  },
  {
   "cell_type": "code",
   "execution_count": null,
   "id": "136f9648",
   "metadata": {},
   "outputs": [],
   "source": [
    "a.var = 100"
   ]
  },
  {
   "cell_type": "code",
   "execution_count": null,
   "id": "29197f9d",
   "metadata": {},
   "outputs": [],
   "source": [
    "a.var"
   ]
  },
  {
   "cell_type": "code",
   "execution_count": null,
   "id": "6da13342",
   "metadata": {},
   "outputs": [],
   "source": [
    "a.__dict__"
   ]
  },
  {
   "cell_type": "code",
   "execution_count": null,
   "id": "72305c0a",
   "metadata": {},
   "outputs": [],
   "source": [
    "a.var = 100.1"
   ]
  }
 ],
 "metadata": {
  "kernelspec": {
   "display_name": "Python 3 (ipykernel)",
   "language": "python",
   "name": "python3"
  },
  "language_info": {
   "codemirror_mode": {
    "name": "ipython",
    "version": 3
   },
   "file_extension": ".py",
   "mimetype": "text/x-python",
   "name": "python",
   "nbconvert_exporter": "python",
   "pygments_lexer": "ipython3",
   "version": "3.8.12"
  }
 },
 "nbformat": 4,
 "nbformat_minor": 5
}
