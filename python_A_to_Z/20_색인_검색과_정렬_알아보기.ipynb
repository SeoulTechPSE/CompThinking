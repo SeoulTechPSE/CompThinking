{
 "cells": [
  {
   "cell_type": "markdown",
   "id": "5a399859",
   "metadata": {},
   "source": [
    "# 20 장. 색인 검색과 정렬 알아보기"
   ]
  },
  {
   "cell_type": "markdown",
   "id": "b2031a84",
   "metadata": {},
   "source": [
    "## 20.1. 색인 검색(indexing)"
   ]
  },
  {
   "cell_type": "code",
   "execution_count": null,
   "id": "78ad0226",
   "metadata": {},
   "outputs": [],
   "source": [
    "a = [0, 1, 2, 3, 4, 5]"
   ]
  },
  {
   "cell_type": "code",
   "execution_count": null,
   "id": "d3b97f57",
   "metadata": {},
   "outputs": [],
   "source": [
    "a[0]"
   ]
  },
  {
   "cell_type": "code",
   "execution_count": null,
   "id": "9b97550e",
   "metadata": {},
   "outputs": [],
   "source": [
    "a[5]"
   ]
  },
  {
   "cell_type": "code",
   "execution_count": null,
   "id": "b5a27ca7",
   "metadata": {},
   "outputs": [],
   "source": [
    "a[6]"
   ]
  },
  {
   "cell_type": "markdown",
   "id": "7dac5b45",
   "metadata": {},
   "source": [
    "---"
   ]
  },
  {
   "cell_type": "code",
   "execution_count": null,
   "id": "a3a5199b",
   "metadata": {},
   "outputs": [],
   "source": [
    "import operator as op"
   ]
  },
  {
   "cell_type": "code",
   "execution_count": null,
   "id": "7d80a86f",
   "metadata": {},
   "outputs": [],
   "source": [
    "op.getitem(a, 5)"
   ]
  },
  {
   "cell_type": "code",
   "execution_count": null,
   "id": "bb3aaa62",
   "metadata": {},
   "outputs": [],
   "source": [
    "def getitem_(obj, pos, default=object):\n",
    "    \n",
    "    try:\n",
    "        result = op.getitem(obj, pos)\n",
    "    except Exception as e:\n",
    "        print(e)\n",
    "        result = default\n",
    "    return result"
   ]
  },
  {
   "cell_type": "code",
   "execution_count": null,
   "id": "e163f1e3",
   "metadata": {},
   "outputs": [],
   "source": [
    "getitem_(a, 5)"
   ]
  },
  {
   "cell_type": "code",
   "execution_count": null,
   "id": "a6d81f49",
   "metadata": {},
   "outputs": [],
   "source": [
    "getitem_(a, 6)"
   ]
  },
  {
   "cell_type": "markdown",
   "id": "fca85cb9",
   "metadata": {},
   "source": [
    "---"
   ]
  },
  {
   "cell_type": "code",
   "execution_count": null,
   "id": "eb7edffe",
   "metadata": {},
   "outputs": [],
   "source": [
    "op.setitem(a, 1, 999)"
   ]
  },
  {
   "cell_type": "code",
   "execution_count": null,
   "id": "ad798c5f",
   "metadata": {},
   "outputs": [],
   "source": [
    "a"
   ]
  },
  {
   "cell_type": "code",
   "execution_count": null,
   "id": "3e5ea395",
   "metadata": {},
   "outputs": [],
   "source": [
    "op.setitem(a, 6, 100)"
   ]
  },
  {
   "cell_type": "code",
   "execution_count": null,
   "id": "07ccb48b",
   "metadata": {},
   "outputs": [],
   "source": [
    "a.insert(6, 100)"
   ]
  },
  {
   "cell_type": "code",
   "execution_count": null,
   "id": "6b488acd",
   "metadata": {},
   "outputs": [],
   "source": [
    "a"
   ]
  },
  {
   "cell_type": "code",
   "execution_count": null,
   "id": "642d8ec1",
   "metadata": {},
   "outputs": [],
   "source": [
    "a[-1]"
   ]
  },
  {
   "cell_type": "code",
   "execution_count": null,
   "id": "434d1f2b",
   "metadata": {},
   "outputs": [],
   "source": [
    "a[-7]"
   ]
  },
  {
   "cell_type": "markdown",
   "id": "e89b98ae",
   "metadata": {},
   "source": [
    "## 20.2. 슬라이스 검색(slicing)"
   ]
  },
  {
   "cell_type": "code",
   "execution_count": null,
   "id": "8468ea0c",
   "metadata": {},
   "outputs": [],
   "source": [
    "a = [0, 1, 2, 3, 4, 5]"
   ]
  },
  {
   "cell_type": "code",
   "execution_count": null,
   "id": "5ad6519b",
   "metadata": {},
   "outputs": [],
   "source": [
    "a[0:4]"
   ]
  },
  {
   "cell_type": "code",
   "execution_count": null,
   "id": "55059a3b",
   "metadata": {},
   "outputs": [],
   "source": [
    "a1 = a[:5]"
   ]
  },
  {
   "cell_type": "code",
   "execution_count": null,
   "id": "6f054ebc",
   "metadata": {},
   "outputs": [],
   "source": [
    "a1 is a"
   ]
  },
  {
   "cell_type": "code",
   "execution_count": null,
   "id": "23e64e25",
   "metadata": {},
   "outputs": [],
   "source": [
    "a1[0] = 999"
   ]
  },
  {
   "cell_type": "code",
   "execution_count": null,
   "id": "cfda39d2",
   "metadata": {},
   "outputs": [],
   "source": [
    "a"
   ]
  },
  {
   "cell_type": "code",
   "execution_count": null,
   "id": "e653474b",
   "metadata": {},
   "outputs": [],
   "source": [
    "a1"
   ]
  },
  {
   "cell_type": "markdown",
   "id": "3ea99a13",
   "metadata": {},
   "source": [
    "---"
   ]
  },
  {
   "cell_type": "code",
   "execution_count": null,
   "id": "f7147ccb",
   "metadata": {},
   "outputs": [],
   "source": [
    "s = slice(None, 4)"
   ]
  },
  {
   "cell_type": "code",
   "execution_count": null,
   "id": "ab88789e",
   "metadata": {},
   "outputs": [],
   "source": [
    "a2 = a1[s]"
   ]
  },
  {
   "cell_type": "code",
   "execution_count": null,
   "id": "ed3d4da2",
   "metadata": {},
   "outputs": [],
   "source": [
    "a2"
   ]
  },
  {
   "cell_type": "code",
   "execution_count": null,
   "id": "f152c244",
   "metadata": {},
   "outputs": [],
   "source": [
    "s1 = slice(None, 10)"
   ]
  },
  {
   "cell_type": "code",
   "execution_count": null,
   "id": "db0654b7",
   "metadata": {},
   "outputs": [],
   "source": [
    "a3 = a[s1]"
   ]
  },
  {
   "cell_type": "code",
   "execution_count": null,
   "id": "98725d8b",
   "metadata": {},
   "outputs": [],
   "source": [
    "a3"
   ]
  },
  {
   "cell_type": "code",
   "execution_count": null,
   "id": "19d4b707",
   "metadata": {},
   "outputs": [],
   "source": [
    "s2 = slice(None, 10)"
   ]
  },
  {
   "cell_type": "code",
   "execution_count": null,
   "id": "41cd5ebe",
   "metadata": {},
   "outputs": [],
   "source": [
    "a3[s2] = [9, 8, 7, 6, 5, 4, 3, 2, 1, 0]"
   ]
  },
  {
   "cell_type": "code",
   "execution_count": null,
   "id": "b65326f2",
   "metadata": {},
   "outputs": [],
   "source": [
    "a3"
   ]
  },
  {
   "cell_type": "code",
   "execution_count": null,
   "id": "1f179618",
   "metadata": {},
   "outputs": [],
   "source": [
    "a3[s2] = [9, 8, 7, 6, 5, 4, 3, 2, 1, 0, 1, 2]"
   ]
  },
  {
   "cell_type": "code",
   "execution_count": null,
   "id": "1150ffd5",
   "metadata": {},
   "outputs": [],
   "source": [
    "a3"
   ]
  },
  {
   "cell_type": "markdown",
   "id": "f72b3276",
   "metadata": {},
   "source": [
    "## 20.3. 정렬(sorting)"
   ]
  },
  {
   "cell_type": "code",
   "execution_count": null,
   "id": "b2cfdabb",
   "metadata": {},
   "outputs": [],
   "source": [
    "s = sorted('문자열 정리하기'.split())"
   ]
  },
  {
   "cell_type": "code",
   "execution_count": null,
   "id": "773cb0ec",
   "metadata": {},
   "outputs": [],
   "source": [
    "s"
   ]
  },
  {
   "cell_type": "code",
   "execution_count": null,
   "id": "2dafdfb4",
   "metadata": {},
   "outputs": [],
   "source": [
    "ss = \"\"\"\n",
    "Python lists have a built-in list.sort() method that modifies the list in-place\n",
    "\"\"\""
   ]
  },
  {
   "cell_type": "code",
   "execution_count": null,
   "id": "2e270675",
   "metadata": {},
   "outputs": [],
   "source": [
    "ss = sorted(ss.split(), key=str.lower)"
   ]
  },
  {
   "cell_type": "code",
   "execution_count": null,
   "id": "2f2d0927",
   "metadata": {},
   "outputs": [],
   "source": [
    "ss"
   ]
  },
  {
   "cell_type": "markdown",
   "id": "a25788bc",
   "metadata": {},
   "source": [
    "---"
   ]
  },
  {
   "cell_type": "code",
   "execution_count": null,
   "id": "690ce5d2",
   "metadata": {},
   "outputs": [],
   "source": [
    "class People:\n",
    "    \n",
    "    def __init__(self, name, age):\n",
    "        self.name = name\n",
    "        self.age = age\n",
    "        \n",
    "    def __repr__(self):\n",
    "        return repr((self.name, self.age))        "
   ]
  },
  {
   "cell_type": "code",
   "execution_count": null,
   "id": "2d036960",
   "metadata": {},
   "outputs": [],
   "source": [
    "p = [People('inkyu', 16), People('inha', 12)]"
   ]
  },
  {
   "cell_type": "code",
   "execution_count": null,
   "id": "6764cef7",
   "metadata": {},
   "outputs": [],
   "source": [
    "sorted(p, key=lambda obj: obj.age)"
   ]
  },
  {
   "cell_type": "markdown",
   "id": "eb6d9783",
   "metadata": {},
   "source": [
    "---"
   ]
  },
  {
   "cell_type": "code",
   "execution_count": null,
   "id": "ce36fbae",
   "metadata": {},
   "outputs": [],
   "source": [
    "a = [0, 5, 2, 7, 4, 3]"
   ]
  },
  {
   "cell_type": "code",
   "execution_count": null,
   "id": "4795e580",
   "metadata": {},
   "outputs": [],
   "source": [
    "a.sort()"
   ]
  },
  {
   "cell_type": "code",
   "execution_count": null,
   "id": "2ad1e2bf",
   "metadata": {},
   "outputs": [],
   "source": [
    "a"
   ]
  },
  {
   "cell_type": "code",
   "execution_count": null,
   "id": "3949bc91",
   "metadata": {},
   "outputs": [],
   "source": [
    "a.reverse()"
   ]
  },
  {
   "cell_type": "code",
   "execution_count": null,
   "id": "125f46bf",
   "metadata": {},
   "outputs": [],
   "source": [
    "a"
   ]
  },
  {
   "cell_type": "markdown",
   "id": "9159befa",
   "metadata": {},
   "source": [
    "---"
   ]
  },
  {
   "cell_type": "code",
   "execution_count": null,
   "id": "0cfeec6e",
   "metadata": {},
   "outputs": [],
   "source": [
    "import random"
   ]
  },
  {
   "cell_type": "code",
   "execution_count": null,
   "id": "cfaf9fb2",
   "metadata": {},
   "outputs": [],
   "source": [
    "random.shuffle(a)"
   ]
  },
  {
   "cell_type": "code",
   "execution_count": null,
   "id": "7cf8524e",
   "metadata": {},
   "outputs": [],
   "source": [
    "a"
   ]
  },
  {
   "cell_type": "code",
   "execution_count": null,
   "id": "fb562fbe",
   "metadata": {},
   "outputs": [],
   "source": [
    "a.sort(reverse=True)"
   ]
  },
  {
   "cell_type": "code",
   "execution_count": null,
   "id": "d5743d3a",
   "metadata": {},
   "outputs": [],
   "source": [
    "a"
   ]
  },
  {
   "cell_type": "markdown",
   "id": "51199164",
   "metadata": {},
   "source": [
    "## 20.4. 함수를 메소드로 변환하기"
   ]
  },
  {
   "cell_type": "code",
   "execution_count": null,
   "id": "d50de238",
   "metadata": {},
   "outputs": [],
   "source": [
    "import operator as op"
   ]
  },
  {
   "cell_type": "code",
   "execution_count": null,
   "id": "f4e565b2",
   "metadata": {},
   "outputs": [],
   "source": [
    "def search(iterable, index):\n",
    "    if len(iterable) <= index:\n",
    "        index = len(iterable) - 1\n",
    "    return op.getitem(iterable, index)"
   ]
  },
  {
   "cell_type": "code",
   "execution_count": null,
   "id": "4a76d27a",
   "metadata": {},
   "outputs": [],
   "source": [
    "l = [1, 2, 3, 4]"
   ]
  },
  {
   "cell_type": "code",
   "execution_count": null,
   "id": "37398ff9",
   "metadata": {},
   "outputs": [],
   "source": [
    "search(l, 8)"
   ]
  },
  {
   "cell_type": "code",
   "execution_count": null,
   "id": "b19589f2",
   "metadata": {},
   "outputs": [],
   "source": [
    "class Search:\n",
    "    \n",
    "    def __init__(self, iterable):\n",
    "        self._iterable = iterable\n",
    "        \n",
    "    def search(self, index):\n",
    "        if len(self._iterable) <= index:\n",
    "            index = len(self._iterable) - 1\n",
    "        return op.getitem(self._iterable, index)        "
   ]
  },
  {
   "cell_type": "code",
   "execution_count": null,
   "id": "fabd5cbc",
   "metadata": {
    "cell_style": "split"
   },
   "outputs": [],
   "source": [
    "s = Search(l)"
   ]
  },
  {
   "cell_type": "code",
   "execution_count": null,
   "id": "86145412",
   "metadata": {},
   "outputs": [],
   "source": [
    "s.search(8)"
   ]
  }
 ],
 "metadata": {
  "kernelspec": {
   "display_name": "Python 3 (ipykernel)",
   "language": "python",
   "name": "python3"
  },
  "language_info": {
   "codemirror_mode": {
    "name": "ipython",
    "version": 3
   },
   "file_extension": ".py",
   "mimetype": "text/x-python",
   "name": "python",
   "nbconvert_exporter": "python",
   "pygments_lexer": "ipython3",
   "version": "3.8.12"
  }
 },
 "nbformat": 4,
 "nbformat_minor": 5
}
