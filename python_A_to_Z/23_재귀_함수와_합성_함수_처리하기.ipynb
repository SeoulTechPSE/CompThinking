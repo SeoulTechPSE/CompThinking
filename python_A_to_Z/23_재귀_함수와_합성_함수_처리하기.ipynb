{
 "cells": [
  {
   "cell_type": "markdown",
   "id": "0c2852ed",
   "metadata": {},
   "source": [
    "# 23 장. 재귀 함수와 합성 함수 처리하기"
   ]
  },
  {
   "cell_type": "markdown",
   "id": "a3a2cb44",
   "metadata": {},
   "source": [
    "## 23.1. 자기 자신을 반복하는 재귀 함수 처리하기"
   ]
  },
  {
   "cell_type": "code",
   "execution_count": null,
   "id": "41d86f24",
   "metadata": {},
   "outputs": [],
   "source": [
    "%%timeit\n",
    "def list_sum(l):\n",
    "    if len(l) == 1:\n",
    "        return l[0]\n",
    "    head, *tail = l\n",
    "    return head + list_sum(tail)\n",
    "\n",
    "list_sum([1, 2, 3, 4, 5])"
   ]
  },
  {
   "cell_type": "code",
   "execution_count": null,
   "id": "404829b8",
   "metadata": {},
   "outputs": [],
   "source": [
    "%%timeit\n",
    "def list_sum_(l):\n",
    "    result = 0\n",
    "    for i in l:\n",
    "        result += 1\n",
    "    return result\n",
    "\n",
    "list_sum_([1, 2, 3, 4, 5])"
   ]
  },
  {
   "cell_type": "code",
   "execution_count": null,
   "id": "7b8f358b",
   "metadata": {},
   "outputs": [],
   "source": [
    "%%timeit\n",
    "sum([1, 2, 3, 4, 5])"
   ]
  },
  {
   "cell_type": "markdown",
   "id": "17fe4611",
   "metadata": {},
   "source": [
    "## 23.2. 함수를 함수에 전달하는 합성 함수 처리하기"
   ]
  },
  {
   "cell_type": "code",
   "execution_count": null,
   "id": "c7da6628",
   "metadata": {},
   "outputs": [],
   "source": [
    "def add(x, y):\n",
    "    return x + y"
   ]
  },
  {
   "cell_type": "code",
   "execution_count": null,
   "id": "552bceec",
   "metadata": {},
   "outputs": [],
   "source": [
    "import math"
   ]
  },
  {
   "cell_type": "code",
   "execution_count": null,
   "id": "728618d7",
   "metadata": {},
   "outputs": [],
   "source": [
    "def power(func, *args, z=None):\n",
    "    result = func(*args)\n",
    "    if z:\n",
    "        result = math.pow(result, z)\n",
    "    return result"
   ]
  },
  {
   "cell_type": "code",
   "execution_count": null,
   "id": "9bfd42b6",
   "metadata": {},
   "outputs": [],
   "source": [
    "power(add, 1, 2, z=2)"
   ]
  },
  {
   "cell_type": "markdown",
   "id": "5eb2fd1c",
   "metadata": {},
   "source": [
    "## 23.3. 재귀 함수 실행시 객체 이름공간 이용하기"
   ]
  },
  {
   "cell_type": "code",
   "execution_count": null,
   "id": "cc2252fc",
   "metadata": {},
   "outputs": [],
   "source": [
    "def recursion(iterable):\n",
    "    \n",
    "    if not isinstance(iterable, list):\n",
    "        return '처리할 수 없습니다.'\n",
    "    \n",
    "    if not hasattr(recursion, 'result'):\n",
    "        recursion.result = []\n",
    "        \n",
    "    if len(iterable) == 1:\n",
    "        recursion.result.append(iterable.pop())\n",
    "        return None\n",
    "    \n",
    "    recursion.result.append(iterable.pop(0))\n",
    "    \n",
    "    return recursion(iterable)"
   ]
  },
  {
   "cell_type": "code",
   "execution_count": null,
   "id": "73a69d51",
   "metadata": {},
   "outputs": [],
   "source": [
    "recursion([1, 2, 3, 4])"
   ]
  },
  {
   "cell_type": "code",
   "execution_count": null,
   "id": "4175d6e9",
   "metadata": {},
   "outputs": [],
   "source": [
    "recursion.result"
   ]
  },
  {
   "cell_type": "code",
   "execution_count": null,
   "id": "8bfee1ca",
   "metadata": {},
   "outputs": [],
   "source": [
    "recursion('문자열 가능여부')"
   ]
  }
 ],
 "metadata": {
  "kernelspec": {
   "display_name": "Python 3 (ipykernel)",
   "language": "python",
   "name": "python3"
  },
  "language_info": {
   "codemirror_mode": {
    "name": "ipython",
    "version": 3
   },
   "file_extension": ".py",
   "mimetype": "text/x-python",
   "name": "python",
   "nbconvert_exporter": "python",
   "pygments_lexer": "ipython3",
   "version": "3.8.12"
  }
 },
 "nbformat": 4,
 "nbformat_minor": 5
}
