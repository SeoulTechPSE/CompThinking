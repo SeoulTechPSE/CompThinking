{
 "cells": [
  {
   "cell_type": "markdown",
   "id": "93800117",
   "metadata": {},
   "source": [
    "## 24 장. 함수를 표현식으로 처리하기"
   ]
  },
  {
   "cell_type": "markdown",
   "id": "d4aee0cf",
   "metadata": {},
   "source": [
    "## 24.1. 람다(lambda) 함수"
   ]
  },
  {
   "cell_type": "code",
   "execution_count": null,
   "id": "4b4ed9f1",
   "metadata": {},
   "outputs": [],
   "source": [
    "(lambda x, y: x + y)(5, 5)"
   ]
  },
  {
   "cell_type": "code",
   "execution_count": null,
   "id": "e1866061",
   "metadata": {},
   "outputs": [],
   "source": [
    "lam = lambda x, y: x + y"
   ]
  },
  {
   "cell_type": "code",
   "execution_count": null,
   "id": "455f006a",
   "metadata": {},
   "outputs": [],
   "source": [
    "import types"
   ]
  },
  {
   "cell_type": "code",
   "execution_count": null,
   "id": "49bfa062",
   "metadata": {},
   "outputs": [],
   "source": [
    "type(lam) == types.LambdaType"
   ]
  },
  {
   "cell_type": "markdown",
   "id": "ea0c6e43",
   "metadata": {},
   "source": [
    "---"
   ]
  },
  {
   "cell_type": "code",
   "execution_count": null,
   "id": "8a0c2637",
   "metadata": {},
   "outputs": [],
   "source": [
    "lam.__name__"
   ]
  },
  {
   "cell_type": "code",
   "execution_count": null,
   "id": "7b5d284b",
   "metadata": {},
   "outputs": [],
   "source": [
    "(lambda x, y: print(x, y))(5, 5)"
   ]
  },
  {
   "cell_type": "code",
   "execution_count": null,
   "id": "7bfd9e22",
   "metadata": {},
   "outputs": [],
   "source": [
    "(lambda x, y: pass)(5, 5)"
   ]
  },
  {
   "cell_type": "markdown",
   "id": "90491883",
   "metadata": {},
   "source": [
    "## 24.2. 람다 함수를 이용한 합성 함수 처리"
   ]
  },
  {
   "cell_type": "code",
   "execution_count": null,
   "id": "3b9e6779",
   "metadata": {},
   "outputs": [],
   "source": [
    "l = [1, 2, 3, 4]"
   ]
  },
  {
   "cell_type": "code",
   "execution_count": null,
   "id": "4096815d",
   "metadata": {},
   "outputs": [],
   "source": [
    "func = lambda x: x*x"
   ]
  },
  {
   "cell_type": "code",
   "execution_count": null,
   "id": "391acc73",
   "metadata": {},
   "outputs": [],
   "source": [
    "(lambda func, obj: [func(x) for x in obj])(func, l)"
   ]
  },
  {
   "cell_type": "markdown",
   "id": "e1eab810",
   "metadata": {},
   "source": [
    "---"
   ]
  },
  {
   "cell_type": "code",
   "execution_count": null,
   "id": "d91497df",
   "metadata": {},
   "outputs": [],
   "source": [
    "c = lambda func: func"
   ]
  },
  {
   "cell_type": "code",
   "execution_count": null,
   "id": "987ccbaf",
   "metadata": {},
   "outputs": [],
   "source": [
    "c = c(func)"
   ]
  },
  {
   "cell_type": "code",
   "execution_count": null,
   "id": "80d38cea",
   "metadata": {},
   "outputs": [],
   "source": [
    "c(10)"
   ]
  },
  {
   "cell_type": "markdown",
   "id": "88257fbb",
   "metadata": {},
   "source": [
    "---"
   ]
  },
  {
   "cell_type": "code",
   "execution_count": null,
   "id": "2b035a7f",
   "metadata": {},
   "outputs": [],
   "source": [
    "b = (lambda func: lambda *args, **kwargs: func(*args, **kwargs))"
   ]
  },
  {
   "cell_type": "code",
   "execution_count": null,
   "id": "d7f558a0",
   "metadata": {},
   "outputs": [],
   "source": [
    "b = b(func)"
   ]
  },
  {
   "cell_type": "code",
   "execution_count": null,
   "id": "e9cf2558",
   "metadata": {},
   "outputs": [],
   "source": [
    "b(10)"
   ]
  },
  {
   "cell_type": "markdown",
   "id": "ab3ef29c",
   "metadata": {},
   "source": [
    "---"
   ]
  },
  {
   "cell_type": "code",
   "execution_count": null,
   "id": "92e48be2",
   "metadata": {},
   "outputs": [],
   "source": [
    "d = (lambda func: lambda *args, **kwargs: func(*args, **kwargs))"
   ]
  },
  {
   "cell_type": "code",
   "execution_count": null,
   "id": "214efd48",
   "metadata": {},
   "outputs": [],
   "source": [
    "@d\n",
    "def add(x, y):\n",
    "    return x + y"
   ]
  },
  {
   "cell_type": "code",
   "execution_count": null,
   "id": "b40d67d4",
   "metadata": {},
   "outputs": [],
   "source": [
    "add(10, 100)"
   ]
  },
  {
   "cell_type": "markdown",
   "id": "1060a382",
   "metadata": {},
   "source": [
    "---"
   ]
  },
  {
   "cell_type": "code",
   "execution_count": null,
   "id": "afc18b4c",
   "metadata": {},
   "outputs": [],
   "source": [
    "p = lambda x: lambda y: x + y"
   ]
  },
  {
   "cell_type": "code",
   "execution_count": null,
   "id": "fa6677d0",
   "metadata": {},
   "outputs": [],
   "source": [
    "p = p(10)"
   ]
  },
  {
   "cell_type": "code",
   "execution_count": null,
   "id": "1b090d65",
   "metadata": {},
   "outputs": [],
   "source": [
    "p(20)"
   ]
  }
 ],
 "metadata": {
  "kernelspec": {
   "display_name": "Python 3 (ipykernel)",
   "language": "python",
   "name": "python3"
  },
  "language_info": {
   "codemirror_mode": {
    "name": "ipython",
    "version": 3
   },
   "file_extension": ".py",
   "mimetype": "text/x-python",
   "name": "python",
   "nbconvert_exporter": "python",
   "pygments_lexer": "ipython3",
   "version": "3.8.12"
  }
 },
 "nbformat": 4,
 "nbformat_minor": 5
}
