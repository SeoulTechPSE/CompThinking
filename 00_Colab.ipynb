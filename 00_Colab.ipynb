{
 "cells": [
  {
   "cell_type": "markdown",
   "metadata": {},
   "source": [
    "[![Open In Colab](https://colab.research.google.com/assets/colab-badge.svg)](https://colab.research.google.com/github/SeoulTechPSE/CompThinking/blob/master/00_Colab.ipynb)"
   ]
  },
  {
   "cell_type": "markdown",
   "metadata": {
    "id": "bg5ZXMV2sn1M"
   },
   "source": [
    "# Google Colaboratory\n"
   ]
  },
  {
   "cell_type": "markdown",
   "metadata": {
    "id": "Lj_iZPKnCRP0"
   },
   "source": [
    "\n",
    "\n",
    "---\n",
    "\n"
   ]
  },
  {
   "cell_type": "markdown",
   "metadata": {
    "id": "i3r5VFtU5O4U"
   },
   "source": [
    "## Google Colab 사양\n"
   ]
  },
  {
   "cell_type": "markdown",
   "metadata": {
    "id": "gV5e99TT-08Z"
   },
   "source": [
    "* 플랫폼"
   ]
  },
  {
   "cell_type": "code",
   "execution_count": null,
   "metadata": {
    "id": "5VeuLl0B-cy4"
   },
   "outputs": [],
   "source": [
    "import platform \n",
    "platform.platform()"
   ]
  },
  {
   "cell_type": "markdown",
   "metadata": {
    "id": "Q9f6YpG-5ZCx"
   },
   "source": [
    "* 운영체제"
   ]
  },
  {
   "cell_type": "code",
   "execution_count": null,
   "metadata": {
    "id": "IC0e82Ft5Rxt"
   },
   "outputs": [],
   "source": [
    "!cat /etc/issue.net"
   ]
  },
  {
   "cell_type": "markdown",
   "metadata": {
    "id": "mrQDwTmI5bzQ"
   },
   "source": [
    "* CPU 사양"
   ]
  },
  {
   "cell_type": "code",
   "execution_count": null,
   "metadata": {
    "id": "MX782lUX5ju0"
   },
   "outputs": [],
   "source": [
    "!cat /proc/cpuinfo"
   ]
  },
  {
   "cell_type": "markdown",
   "metadata": {
    "id": "XQbXXmZ75ffA"
   },
   "source": [
    "* 메모리 사양"
   ]
  },
  {
   "cell_type": "code",
   "execution_count": null,
   "metadata": {
    "id": "vJ0_EPba5sP1"
   },
   "outputs": [],
   "source": [
    "!cat /proc/meminfo"
   ]
  },
  {
   "cell_type": "markdown",
   "metadata": {
    "id": "EaOIRYVP5w30"
   },
   "source": [
    "* 디스크 사양"
   ]
  },
  {
   "cell_type": "code",
   "execution_count": null,
   "metadata": {
    "id": "FKWOPJNv5y2y"
   },
   "outputs": [],
   "source": [
    "!df -h"
   ]
  },
  {
   "cell_type": "markdown",
   "metadata": {
    "id": "i2LgCHNv541D"
   },
   "source": [
    "* 파이썬 버전"
   ]
  },
  {
   "cell_type": "code",
   "execution_count": null,
   "metadata": {
    "id": "AZNd_Cpi57SD"
   },
   "outputs": [],
   "source": [
    "!python --version"
   ]
  },
  {
   "cell_type": "markdown",
   "metadata": {
    "id": "ZLrgX-u15_wI"
   },
   "source": [
    "## Google Colab 런타임\n",
    "* Colab에서 고성능 하드웨어로 GPU나 TPU 사용 가능\n",
    "* 런타임 유형 변경(Change runtime type) 필요\n",
    "  + None: CPU만 사용\n",
    "  + GPU: 하드웨어 가속으로 GPU 사용\n",
    "  + TPU: 하드웨어 가속으로 TPU 사용"
   ]
  },
  {
   "cell_type": "code",
   "execution_count": null,
   "metadata": {
    "id": "Oa3X6JLZ6BE1"
   },
   "outputs": [],
   "source": [
    "!nvidia-smi"
   ]
  },
  {
   "cell_type": "markdown",
   "metadata": {
    "id": "VxNA7zfv-6wx"
   },
   "source": [
    "## 파일 저장 및 다운로드/업로드\n",
    "\n",
    "* Jupyter Notebook 환경에서 파일 저장 및 다운로드"
   ]
  },
  {
   "cell_type": "code",
   "execution_count": null,
   "metadata": {
    "id": "oTiMWM70_E42"
   },
   "outputs": [],
   "source": [
    "%%writefile seoultechPSE.py\n",
    "\n",
    "print('Welcome to SeoulTechPSE')"
   ]
  },
  {
   "cell_type": "code",
   "execution_count": null,
   "metadata": {
    "id": "ptEgaG3v_QSR"
   },
   "outputs": [],
   "source": [
    "!cat seoultechPSE.py"
   ]
  },
  {
   "cell_type": "code",
   "execution_count": null,
   "metadata": {
    "id": "-HGNOyHk_Yxg"
   },
   "outputs": [],
   "source": [
    "from google.colab import files\n",
    "\n",
    "files.download('seoultechPSE.py')"
   ]
  },
  {
   "cell_type": "code",
   "execution_count": null,
   "metadata": {
    "id": "EDpxuiJrHKUh"
   },
   "outputs": [],
   "source": [
    "!rm seoultechPSE.py"
   ]
  },
  {
   "cell_type": "code",
   "execution_count": null,
   "metadata": {
    "id": "6MLJ6R60AIQJ"
   },
   "outputs": [],
   "source": [
    "files.upload()"
   ]
  },
  {
   "cell_type": "code",
   "execution_count": null,
   "metadata": {
    "id": "8m2sm45lAriv"
   },
   "outputs": [],
   "source": [
    "!ls"
   ]
  },
  {
   "cell_type": "markdown",
   "metadata": {
    "id": "8OoBiBv4UBWm"
   },
   "source": [
    "\n",
    "\n",
    "---\n",
    "\n"
   ]
  },
  {
   "cell_type": "markdown",
   "metadata": {
    "id": "ID57POzYUYyl"
   },
   "source": [
    "# Jupyter Notebook\n",
    "\n",
    "* IPython Shell의 브라우저 기반 그래픽 인터페이스\n",
    "* 파이썬과 IPython 문장 시행\n",
    "* 서식있는 텍스트와 정적/동적 시각화, 수학 공식 표현\n"
   ]
  },
  {
   "cell_type": "markdown",
   "metadata": {
    "id": "ZTkr0NKRXEiq"
   },
   "source": [
    "## help()\n",
    "\n",
    "* 파이썬 객체에 대한 요약 정보와 사용법 보기"
   ]
  },
  {
   "cell_type": "code",
   "execution_count": null,
   "metadata": {
    "id": "S_aXiV9VW_1u"
   },
   "outputs": [],
   "source": [
    "help(min)"
   ]
  },
  {
   "cell_type": "markdown",
   "metadata": {
    "id": "X6F7JOv0Xv2a"
   },
   "source": [
    "## ?로 설명 보기\n",
    "\n",
    "* 객체 요약 정보 및 사용법이 있는 docstring 보기"
   ]
  },
  {
   "cell_type": "code",
   "execution_count": null,
   "metadata": {
    "id": "KzrQ0xy0Xk42"
   },
   "outputs": [],
   "source": [
    "max?"
   ]
  },
  {
   "cell_type": "code",
   "execution_count": null,
   "metadata": {
    "id": "qDEczcmvYHmm"
   },
   "outputs": [],
   "source": [
    "li = ['One', 'Two', 'Three']\n",
    "li?"
   ]
  },
  {
   "cell_type": "code",
   "execution_count": null,
   "metadata": {
    "id": "Ep2oX_Ollb_C"
   },
   "outputs": [],
   "source": [
    "li.count?"
   ]
  },
  {
   "cell_type": "code",
   "execution_count": null,
   "metadata": {
    "id": "lpM-ijxnltUG"
   },
   "outputs": [],
   "source": [
    "def power(b, n):\n",
    "    \"\"\"b의 n승을 반환\"\"\"\n",
    "    return pow(b, n)"
   ]
  },
  {
   "cell_type": "code",
   "execution_count": null,
   "metadata": {
    "id": "l7p0YMtDmEFS"
   },
   "outputs": [],
   "source": [
    "power?"
   ]
  },
  {
   "cell_type": "code",
   "execution_count": null,
   "metadata": {
    "id": "9BS1dLnimUOb"
   },
   "outputs": [],
   "source": [
    "power??"
   ]
  },
  {
   "cell_type": "markdown",
   "metadata": {
    "id": "gtRsneYd-slf"
   },
   "source": [
    "## 탭(tab) 자동완성\n",
    "\n",
    "* 객체와 모듈, 인터페이스의 내용을 자동 완성"
   ]
  },
  {
   "cell_type": "code",
   "execution_count": null,
   "metadata": {
    "id": "wKlrOC2J_p5K"
   },
   "outputs": [],
   "source": [
    "import math"
   ]
  },
  {
   "cell_type": "code",
   "execution_count": null,
   "metadata": {
    "id": "uGyDWCy1_svL"
   },
   "outputs": [],
   "source": [
    "# math.  # . 입력하면 관련 메소드들을 팝업하고, tap을 누르면 입력이 됨"
   ]
  },
  {
   "cell_type": "code",
   "execution_count": null,
   "metadata": {
    "id": "PK4fJOk6-we7"
   },
   "outputs": [],
   "source": [
    "li = ['One', 'Two', 'Three']\n",
    "li      # . 을 입력해보세요"
   ]
  },
  {
   "cell_type": "markdown",
   "metadata": {
    "id": "xP7n3Oqp_N0K"
   },
   "source": [
    "##와일드카드(wildcard) 매칭\n",
    "\n",
    "* 단어의 중간이나 마지막 글자로 매칭하여 객체나 속성 찾기"
   ]
  },
  {
   "cell_type": "code",
   "execution_count": null,
   "metadata": {
    "id": "W7ceOXpi_JNk"
   },
   "outputs": [],
   "source": [
    "*Error?"
   ]
  },
  {
   "cell_type": "code",
   "execution_count": null,
   "metadata": {
    "id": "IMjy2bc0_TwQ"
   },
   "outputs": [],
   "source": [
    "str.*index*?"
   ]
  },
  {
   "cell_type": "markdown",
   "metadata": {
    "id": "yCRnab5c_mBh"
   },
   "source": [
    "## 매직 명령어(magic commands)\n",
    "\n",
    "* Jupyter Notebook 환경에서 파이썬 파일 저장 및 실행"
   ]
  },
  {
   "cell_type": "code",
   "execution_count": null,
   "metadata": {
    "id": "t6ufEi9q_qS4"
   },
   "outputs": [],
   "source": [
    "%%writefile test.py\n",
    "print('Hello Colab')"
   ]
  },
  {
   "cell_type": "code",
   "execution_count": null,
   "metadata": {
    "id": "GVRuezjk_wLD"
   },
   "outputs": [],
   "source": [
    "%run test.py"
   ]
  },
  {
   "cell_type": "code",
   "execution_count": null,
   "metadata": {
    "id": "_jsJuAqdhJx1"
   },
   "outputs": [],
   "source": [
    "import os\n",
    "os.remove('test.py')"
   ]
  },
  {
   "cell_type": "markdown",
   "metadata": {
    "id": "MzKD0owDXs7r"
   },
   "source": [
    "* 코드 실행 시간 측정"
   ]
  },
  {
   "cell_type": "code",
   "execution_count": null,
   "metadata": {
    "id": "YfO_C9-2bQRn"
   },
   "outputs": [],
   "source": [
    "%%timeit?"
   ]
  },
  {
   "cell_type": "code",
   "execution_count": null,
   "metadata": {
    "id": "Yj-cfvBVWuf-"
   },
   "outputs": [],
   "source": [
    "%timeit li = [n**n for n in range(10_000)]"
   ]
  },
  {
   "cell_type": "code",
   "execution_count": null,
   "metadata": {
    "id": "RbEaBBjaYHDM"
   },
   "outputs": [],
   "source": [
    "%%timeit\n",
    "li = []\n",
    "for n in range(10_000):\n",
    "    li.append(n**n)"
   ]
  },
  {
   "cell_type": "markdown",
   "metadata": {
    "id": "SROwYmP9rEQd"
   },
   "source": [
    "## 입력과 출력 이력\n",
    "\n",
    "* In과 Out 객체를 통해 이전 명령어와 명령어의 출력 결과 보기"
   ]
  },
  {
   "cell_type": "code",
   "execution_count": null,
   "metadata": {
    "id": "SjxoRZdbpttu"
   },
   "outputs": [],
   "source": [
    "In"
   ]
  },
  {
   "cell_type": "code",
   "execution_count": null,
   "metadata": {
    "id": "Bbcl7xxSr33V"
   },
   "outputs": [],
   "source": [
    "In[26]"
   ]
  },
  {
   "cell_type": "code",
   "execution_count": null,
   "metadata": {
    "id": "5lJahT8crj6K"
   },
   "outputs": [],
   "source": [
    "Out"
   ]
  },
  {
   "cell_type": "code",
   "execution_count": null,
   "metadata": {
    "id": "SMtBrmvHsNlP"
   },
   "outputs": [],
   "source": [
    "Out[32]"
   ]
  },
  {
   "cell_type": "code",
   "execution_count": null,
   "metadata": {
    "id": "QbjVTJS4sTAG"
   },
   "outputs": [],
   "source": [
    "number = 32\n",
    "print(f'In[{number}]:   {In[number]} + \\nOut[{number}]:  {Out[number]}')"
   ]
  },
  {
   "cell_type": "markdown",
   "metadata": {
    "id": "H4YgwfJAtNUH"
   },
   "source": [
    "* `_`를 이용해 이전 출력값 출력하기"
   ]
  },
  {
   "cell_type": "code",
   "execution_count": null,
   "metadata": {
    "id": "cT2w3ITLtKQF"
   },
   "outputs": [],
   "source": [
    "_"
   ]
  },
  {
   "cell_type": "code",
   "execution_count": null,
   "metadata": {
    "id": "QFxB16JptUNd"
   },
   "outputs": [],
   "source": [
    "__"
   ]
  },
  {
   "cell_type": "code",
   "execution_count": null,
   "metadata": {
    "id": "7Jfpuu6ZtWjP"
   },
   "outputs": [],
   "source": [
    "___"
   ]
  },
  {
   "cell_type": "markdown",
   "metadata": {
    "id": "Nf8CVZiTt4r-"
   },
   "source": [
    "* `%history`를 이용한 입력 이력 살펴보기"
   ]
  },
  {
   "cell_type": "code",
   "execution_count": null,
   "metadata": {
    "id": "GiVkb35YuQTL"
   },
   "outputs": [],
   "source": [
    "%history -n 1-7"
   ]
  },
  {
   "cell_type": "markdown",
   "metadata": {
    "id": "1oOEYT9Zu8Yo"
   },
   "source": [
    "* `%rerun`을 이용해 이전 입력 이력 다시 실행"
   ]
  },
  {
   "cell_type": "code",
   "execution_count": null,
   "metadata": {
    "id": "ZWLXBxdtvCOV"
   },
   "outputs": [],
   "source": [
    "%rerun"
   ]
  },
  {
   "cell_type": "markdown",
   "metadata": {
    "id": "LzKq5kwvds25"
   },
   "source": [
    "## 셸 명령어\n",
    "\n",
    "* 텍스트 기반의 셸 명령어 처리\n",
    "* `!` 문자를 명령어 앞에 붙여서 셸 명령어 사용 가능"
   ]
  },
  {
   "cell_type": "markdown",
   "metadata": {
    "id": "oFThpCCPhm45"
   },
   "source": [
    "* `ls`: 디렉토리 리스트 보기"
   ]
  },
  {
   "cell_type": "code",
   "execution_count": null,
   "metadata": {
    "id": "7iAgViCpdvh9"
   },
   "outputs": [],
   "source": [
    "!ls"
   ]
  },
  {
   "cell_type": "markdown",
   "metadata": {
    "id": "RuKN3MuvhvTB"
   },
   "source": [
    "* `pwd`: 현재 경로 보기"
   ]
  },
  {
   "cell_type": "code",
   "execution_count": null,
   "metadata": {
    "id": "aOwJCr3GekKJ"
   },
   "outputs": [],
   "source": [
    "!pwd"
   ]
  },
  {
   "cell_type": "markdown",
   "metadata": {
    "id": "1dCCjWyphyOP"
   },
   "source": [
    "* `cd`: 디렉토리 변경\n",
    "* IPython에서는 임시 셸에서 실행"
   ]
  },
  {
   "cell_type": "code",
   "execution_count": null,
   "metadata": {
    "id": "KXtuuGvXfAU-"
   },
   "outputs": [],
   "source": [
    "!cd sample_data/ && ls"
   ]
  },
  {
   "cell_type": "markdown",
   "metadata": {
    "id": "yjrAafNlh65Q"
   },
   "source": [
    "* `%cd`: 지속적인 디렉토리 변경"
   ]
  },
  {
   "cell_type": "code",
   "execution_count": null,
   "metadata": {
    "id": "Q1MBKD4YfpyB"
   },
   "outputs": [],
   "source": [
    "%cd sample_data"
   ]
  },
  {
   "cell_type": "markdown",
   "metadata": {
    "id": "b8xPHOjsiQCL"
   },
   "source": [
    "* `echo`: 화면 출력"
   ]
  },
  {
   "cell_type": "code",
   "execution_count": null,
   "metadata": {
    "id": "-9FYy8rzeljZ"
   },
   "outputs": [],
   "source": [
    "!echo \"shell\""
   ]
  },
  {
   "cell_type": "markdown",
   "metadata": {
    "id": "3oRMLDh_mswk"
   },
   "source": [
    "* `mkdir`: 디렉토리 생성"
   ]
  },
  {
   "cell_type": "code",
   "execution_count": null,
   "metadata": {
    "id": "Eofit8K-fcjG"
   },
   "outputs": [],
   "source": [
    "!mkdir tmp"
   ]
  },
  {
   "cell_type": "code",
   "execution_count": null,
   "metadata": {
    "id": "9djMxCwYiXrc"
   },
   "outputs": [],
   "source": [
    "!ls"
   ]
  },
  {
   "cell_type": "markdown",
   "metadata": {
    "id": "Ji6oMNFQmysC"
   },
   "source": [
    "* `cat`: 파일 보기"
   ]
  },
  {
   "cell_type": "code",
   "execution_count": null,
   "metadata": {
    "id": "GICda8P6mg1r"
   },
   "outputs": [],
   "source": [
    "!cat  README.md"
   ]
  },
  {
   "cell_type": "markdown",
   "metadata": {
    "id": "3Ns4pYQJm1nR"
   },
   "source": [
    "* `cp`: 디렉토리/파일 복사"
   ]
  },
  {
   "cell_type": "code",
   "execution_count": null,
   "metadata": {
    "id": "-XIDsmsum7Sb"
   },
   "outputs": [],
   "source": [
    "!cp README.md tmp/"
   ]
  },
  {
   "cell_type": "code",
   "execution_count": null,
   "metadata": {
    "id": "T_3VG78OnDb9"
   },
   "outputs": [],
   "source": [
    "!ls tmp/"
   ]
  },
  {
   "cell_type": "markdown",
   "metadata": {
    "id": "ZR53WLOfnGH7"
   },
   "source": [
    "* `rm`: 디렉토리/파일 삭제"
   ]
  },
  {
   "cell_type": "code",
   "execution_count": null,
   "metadata": {
    "id": "WI1dpUV6nJyd"
   },
   "outputs": [],
   "source": [
    "!rm -r tmp"
   ]
  },
  {
   "cell_type": "code",
   "execution_count": null,
   "metadata": {
    "id": "78Fr9nEhnMsg"
   },
   "outputs": [],
   "source": [
    "!ls"
   ]
  },
  {
   "cell_type": "markdown",
   "metadata": {
    "id": "OrcSIf_T8gii"
   },
   "source": [
    "\n",
    "\n",
    "---\n",
    "\n"
   ]
  },
  {
   "cell_type": "markdown",
   "metadata": {
    "id": "7hDXZYpnA_DO"
   },
   "source": [
    "# 마크다운(Markdown)\n",
    "\n",
    "* 문법이 간단하고, 사용이 쉬움\n"
   ]
  },
  {
   "cell_type": "markdown",
   "metadata": {
    "id": "c0Sjw59GC_Kn"
   },
   "source": [
    "\n",
    "## 제목(Heading) 표시"
   ]
  },
  {
   "cell_type": "markdown",
   "metadata": {
    "id": "WXfs_Cu1Co-H"
   },
   "source": [
    "# Heading 1\n",
    "## Heading 2\n",
    "### Heading 3\n",
    "#### Heading 4\n",
    "##### Heading 5\n",
    "###### Heading 6"
   ]
  },
  {
   "cell_type": "markdown",
   "metadata": {
    "id": "oTWz1WgDBtqM"
   },
   "source": [
    "## 목록(List) 구성\n",
    "\n"
   ]
  },
  {
   "cell_type": "markdown",
   "metadata": {
    "id": "fSJ0j0Y8CsKW"
   },
   "source": [
    "1. 첫째\n",
    "1. 둘째\n",
    "1. 셋째\n",
    "\n",
    "* 1단계\n",
    "  * 2단계\n",
    "    * 3단계"
   ]
  },
  {
   "cell_type": "markdown",
   "metadata": {
    "id": "TsaBsQUsCTE0"
   },
   "source": [
    "## 폰트 스타일(Font Style)\n",
    "\n"
   ]
  },
  {
   "cell_type": "markdown",
   "metadata": {
    "id": "Fu4Lk62RCivG"
   },
   "source": [
    "**bold**\n",
    "__bold__\n",
    "*italic*\n",
    "_italic_\n",
    "~strike~\n",
    "<u>underbar</u>"
   ]
  },
  {
   "cell_type": "markdown",
   "metadata": {
    "id": "P8PLWLSODwrS"
   },
   "source": [
    "## 인용구\n",
    "\n"
   ]
  },
  {
   "cell_type": "markdown",
   "metadata": {
    "id": "gchOf72GD5lt"
   },
   "source": [
    "> 인용 1\n",
    ">> 인용 2\n",
    ">>> 인용 3"
   ]
  },
  {
   "cell_type": "markdown",
   "metadata": {
    "id": "Jw5EeYO9D8AI"
   },
   "source": [
    "## 링크\n",
    "\n"
   ]
  },
  {
   "cell_type": "markdown",
   "metadata": {
    "id": "2NVoA14BEMqB"
   },
   "source": [
    "[google](https://www.google.com)"
   ]
  },
  {
   "cell_type": "markdown",
   "metadata": {
    "id": "XclscvygEVcp"
   },
   "source": [
    "## 이미지\n"
   ]
  },
  {
   "cell_type": "markdown",
   "metadata": {
    "id": "puOkShcgEnuq"
   },
   "source": [
    "![서울과학기술대학교](https://www.seoultech.ac.kr/site/www/images/intro/img_ui05.gif)"
   ]
  },
  {
   "cell_type": "markdown",
   "metadata": {
    "id": "mVy5Qmd4Erlp"
   },
   "source": [
    "## 수평선\n",
    "\n",
    "\n"
   ]
  },
  {
   "cell_type": "markdown",
   "metadata": {
    "id": "VhNkI-8VEviE"
   },
   "source": [
    "---"
   ]
  },
  {
   "cell_type": "markdown",
   "metadata": {
    "id": "hBVgu-TnEyFt"
   },
   "source": [
    "## 표\n",
    "\n",
    "\n"
   ]
  },
  {
   "cell_type": "markdown",
   "metadata": {
    "id": "5X87z4qYFFF-"
   },
   "source": [
    "| C0001 | C0002 | C0003  |\n",
    "|:---|---:|:---:|\n",
    "| D1 | D2 | D3 |"
   ]
  },
  {
   "cell_type": "markdown",
   "metadata": {
    "id": "hqpFpco_FMfT"
   },
   "source": [
    "## 코드\n",
    "\n",
    "\n",
    "\n",
    "\n"
   ]
  },
  {
   "cell_type": "markdown",
   "metadata": {
    "id": "32V1r2KeG1He"
   },
   "source": [
    "`li = ['One', 'Two', 'Three']`\n",
    "\n",
    "```python\n",
    "def hello():\n",
    "    pass\n",
    "```"
   ]
  },
  {
   "cell_type": "markdown",
   "metadata": {
    "id": "cfKtU4-x7UnX"
   },
   "source": [
    "## Google Drive 연동\n",
    "\n",
    "* Google Colab은 Google Drive와 `mount`를 통해 쉽게 연동 가능\n",
    "* Google Drive에 소스 코드 저장 뿐만 아니라 파일을 열거나 저장 가능"
   ]
  },
  {
   "cell_type": "code",
   "execution_count": null,
   "metadata": {
    "id": "q0ryTyk77UOs"
   },
   "outputs": [],
   "source": [
    "from google.colab import drive \n",
    "drive.mount('/content/drive')"
   ]
  },
  {
   "cell_type": "code",
   "execution_count": null,
   "metadata": {
    "id": "KI96G3Fq7wg1"
   },
   "outputs": [],
   "source": [
    "!ls /content/drive"
   ]
  }
 ],
 "metadata": {
  "accelerator": "GPU",
  "colab": {
   "collapsed_sections": [],
   "name": "00 Google Colab, Jupyter Notebook, Markdown.ipynb",
   "provenance": []
  },
  "kernelspec": {
   "display_name": "Python 3 (ipykernel)",
   "language": "python",
   "name": "python3"
  },
  "language_info": {
   "codemirror_mode": {
    "name": "ipython",
    "version": 3
   },
   "file_extension": ".py",
   "mimetype": "text/x-python",
   "name": "python",
   "nbconvert_exporter": "python",
   "pygments_lexer": "ipython3",
   "version": "3.8.12"
  }
 },
 "nbformat": 4,
 "nbformat_minor": 1
}
