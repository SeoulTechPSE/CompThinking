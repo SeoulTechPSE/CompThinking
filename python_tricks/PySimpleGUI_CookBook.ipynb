{
 "cells": [
  {
   "cell_type": "markdown",
   "id": "2ae477fa",
   "metadata": {},
   "source": [
    "# The PySimpleGUI Cookbook"
   ]
  },
  {
   "cell_type": "code",
   "execution_count": null,
   "id": "8e25cd0b",
   "metadata": {},
   "outputs": [],
   "source": [
    "#!python -m pip install pysimplegui"
   ]
  },
  {
   "cell_type": "code",
   "execution_count": null,
   "id": "36165943",
   "metadata": {},
   "outputs": [],
   "source": [
    "import PySimpleGUI as sg\n",
    "\n",
    "sg.main()"
   ]
  },
  {
   "cell_type": "markdown",
   "id": "d5f162c0",
   "metadata": {},
   "source": [
    "##  Keys \n",
    "\n",
    "Keys are an extremely important concept for you to understand. They are the **labels/tags/names/identifiers** you give Elements. They are a way for you to communicate about a specific element with the `PySimpleGUI` API calls.\n",
    "\n",
    "Keys are used to:\n",
    "\n",
    "* inform you when one of them generates an event\n",
    "* change an element's value or settings\n",
    "* communicate their value when performing a `window.read()`\n",
    "\n",
    "**Important** $~$while they are shown as strings in many examples, they can be ANYTHING (ints, tuples, objects). Anything EXCEPT Lists. Lists are not valid Keys because in Python lists are not hashable and thus cannot be used as keys in dictionaries. Tuples, however, can.\n",
    "\n",
    "Keys are specified when you create an element using the key keyword parameter. They are used to \"find elements\" so that you can perform actions on them."
   ]
  },
  {
   "cell_type": "markdown",
   "id": "70e01ae2",
   "metadata": {},
   "source": [
    "## GETTING STARTED\n",
    "\n",
    "All of your `PySimpleGUI` programs will utilize one of these 2 design patterns depending on the type of window you're implementing. The two types of windows are:\n",
    "\n",
    "* One-shot\n",
    "* Persistent\n",
    "\n",
    "The **One-shot window** is one that pops up, collects some data, and then disappears. It is more or less a 'form' meant to quickly grab some information and then be closed.\n",
    "\n",
    "The **Persistent window** is one that sticks around. With these programs, you loop, reading and processing \"events\" such as button clicks. It's more like a typical Windows/Mac/Linux program.\n",
    "\n",
    "If you are writing a \"typical Windows program\" where the window stays open while you collect multiple button clicks and input values, then you'll want Recipe Pattern 2B."
   ]
  },
  {
   "cell_type": "markdown",
   "id": "ec9ab2ca",
   "metadata": {},
   "source": [
    "### Recipe Pattern 1A : One-shot Window (The Simplest Pattern)"
   ]
  },
  {
   "cell_type": "code",
   "execution_count": 1,
   "id": "7db9c5da",
   "metadata": {},
   "outputs": [
    {
     "name": "stdout",
     "output_type": "stream",
     "text": [
      "event: Submit, values: {0: 'One-shot window'}\n"
     ]
    },
    {
     "data": {
      "text/plain": [
       "'OK'"
      ]
     },
     "execution_count": 1,
     "metadata": {},
     "output_type": "execute_result"
    }
   ],
   "source": [
    "import PySimpleGUI as sg      \n",
    "\n",
    "layout = [\n",
    "    [sg.Text('One-shot window')],      \n",
    "    [sg.InputText()],      \n",
    "    [sg.Submit(), sg.Cancel()]\n",
    "]      \n",
    "\n",
    "window = sg.Window('Recipe Pattern 1A', layout)    \n",
    "\n",
    "event, values = window.read()    \n",
    "window.close()\n",
    "\n",
    "print(f'event: {event}, values: {values}')\n",
    "\n",
    "text_input = values[0]    \n",
    "sg.popup(f'You entered {text_input}', title='Pattern 1A')"
   ]
  },
  {
   "cell_type": "code",
   "execution_count": null,
   "id": "c87c761e",
   "metadata": {},
   "outputs": [],
   "source": [
    "%reset -f"
   ]
  },
  {
   "cell_type": "code",
   "execution_count": 2,
   "id": "e7ee78d4",
   "metadata": {},
   "outputs": [
    {
     "name": "stdout",
     "output_type": "stream",
     "text": [
      "event: Submit, values: {'-IN-': 'One-shot window'}\n"
     ]
    },
    {
     "data": {
      "text/plain": [
       "'OK'"
      ]
     },
     "execution_count": 2,
     "metadata": {},
     "output_type": "execute_result"
    }
   ],
   "source": [
    "import PySimpleGUI as sg      \n",
    "\n",
    "layout = [\n",
    "    [sg.Text('One-shot window')],      \n",
    "    [sg.InputText(key='-IN-')],      \n",
    "    [sg.Submit(), sg.Cancel()]\n",
    "]      \n",
    "\n",
    "window = sg.Window('Recipe Pattern 1A', layout)    \n",
    "\n",
    "event, values = window.read()    \n",
    "window.close()\n",
    "\n",
    "print(f'event: {event}, values: {values}')\n",
    "\n",
    "text_input = values['-IN-']    \n",
    "sg.popup(f'You entered {text_input}', title='Pattern 1A')"
   ]
  },
  {
   "cell_type": "code",
   "execution_count": 3,
   "id": "706b7522",
   "metadata": {},
   "outputs": [],
   "source": [
    "%reset -f"
   ]
  },
  {
   "cell_type": "markdown",
   "id": "2a75c3b9",
   "metadata": {},
   "source": [
    "### Recipe Pattern 1B: One-shot Window (Self-closing, single line)"
   ]
  },
  {
   "cell_type": "code",
   "execution_count": 4,
   "id": "cef3aa13",
   "metadata": {},
   "outputs": [
    {
     "name": "stdout",
     "output_type": "stream",
     "text": [
      "Login ID: kyyoo\n"
     ]
    }
   ],
   "source": [
    "import PySimpleGUI as sg\n",
    "\n",
    "layout = [\n",
    "    [sg.T('Enter your Login ID'), sg.In(key='-ID-', size=(20, 1))],\n",
    "    [sg.B('OK'), sg.B('Cancel')]\n",
    "]\n",
    "\n",
    "event, values = sg.Window('Login Window', layout).read(close=True)\n",
    "\n",
    "login_id = values['-ID-']\n",
    "print(f'Login ID: {login_id}')"
   ]
  },
  {
   "cell_type": "code",
   "execution_count": 5,
   "id": "1e12c52a",
   "metadata": {},
   "outputs": [],
   "source": [
    "%reset -f"
   ]
  },
  {
   "cell_type": "markdown",
   "id": "6f87236f",
   "metadata": {},
   "source": [
    "### Recipe Pattern 2A: Persistent window (multiple reads using an event loop)"
   ]
  },
  {
   "cell_type": "code",
   "execution_count": 6,
   "id": "5ced075a",
   "metadata": {
    "cell_style": "center"
   },
   "outputs": [
    {
     "name": "stdout",
     "output_type": "stream",
     "text": [
      "event: Read, values: {'-IN-': 'Persistent window'}\n",
      "event: Exit, values: {'-IN-': 'Persistent window'}\n"
     ]
    }
   ],
   "source": [
    "import PySimpleGUI as sg      \n",
    "\n",
    "sg.theme('DarkAmber')                  # Keep things interesting for your users\n",
    "\n",
    "layout = [\n",
    "    [sg.Text('Persistent window')],\n",
    "    [sg.Input(key='-IN-')],      \n",
    "    [sg.Button('Read'), sg.Exit()]\n",
    "]      \n",
    "\n",
    "window = sg.Window('Recipe Pattern 2A', layout)      \n",
    "\n",
    "while True:                            # The Event Loop\n",
    "    event, values = window.read() \n",
    "    print(f'event: {event}, values: {values}')     \n",
    "    if event in (sg.WIN_CLOSED, 'Exit'):\n",
    "        break      \n",
    "\n",
    "window.close()"
   ]
  },
  {
   "cell_type": "code",
   "execution_count": 7,
   "id": "dfd3f795",
   "metadata": {},
   "outputs": [],
   "source": [
    "%reset -f"
   ]
  },
  {
   "cell_type": "markdown",
   "id": "b941b1d6",
   "metadata": {},
   "source": [
    "### Recipe Pattern 2B: Persistent window (multiple reads using an event loop + updates data in window)"
   ]
  },
  {
   "cell_type": "code",
   "execution_count": null,
   "id": "52d333c2",
   "metadata": {},
   "outputs": [],
   "source": [
    "import PySimpleGUI as sg\n",
    "\n",
    "sg.theme('BluePurple')\n",
    "\n",
    "layout = [\n",
    "    [sg.Text('Your typed chars appear here:'), sg.Text(size=(15, 1), key='-OUTPUT-')],\n",
    "    [sg.Input(key='-IN-')],\n",
    "    [sg.Button('Show'), sg.Button('Exit')]\n",
    "]\n",
    "\n",
    "window = sg.Window('Recipe Pattern 2B', layout)\n",
    "\n",
    "while True:  # Event Loop\n",
    "    event, values = window.read()\n",
    "    print(f'event: {event}, values: {values}')    \n",
    "    if event in (sg.WIN_CLOSED, 'Exit'):\n",
    "        break\n",
    "    if event == 'Show':\n",
    "        # Update the \"output\" text element to be the value of \"input\" element\n",
    "        window['-OUTPUT-'].update(values['-IN-'])\n",
    "\n",
    "window.close()"
   ]
  },
  {
   "cell_type": "code",
   "execution_count": null,
   "id": "10b55f56",
   "metadata": {},
   "outputs": [],
   "source": [
    "%reset -f"
   ]
  },
  {
   "cell_type": "markdown",
   "id": "76feef9e",
   "metadata": {},
   "source": [
    "## Coding Conventions\n",
    "\n",
    "By following some simple coding conventions, you'll be able to copy / paste demo program code into your code with minimal or no modifications. Your code will be understandable by other `PySimpleGUI` programmers as well.\n",
    "\n",
    "The primary suggested conventions are:\n",
    "\n",
    "* `import PySimpleGUI as sg`\n",
    "* Name your Window `window`\n",
    "* Name the return values from reading your window `event` and `values`\n",
    "* Name your layout `layout`\n",
    "* Use `window[key]` to lookup elements\n",
    "* For keys that are strings, follow this pattern `'-KEY-'`\n",
    "\n",
    "Of course you don't have to follow any of these. They're suggestions, but if you do follow them, your code is a lot easier to understand by someone else."
   ]
  },
  {
   "cell_type": "markdown",
   "id": "cbafde5d",
   "metadata": {},
   "source": [
    "## The Demo Browser"
   ]
  },
  {
   "cell_type": "code",
   "execution_count": null,
   "id": "21ea738a",
   "metadata": {},
   "outputs": [],
   "source": [
    "#!python -m pip install psgdemos"
   ]
  },
  {
   "cell_type": "markdown",
   "id": "3b230533",
   "metadata": {},
   "source": [
    "The over 300 Demo Programs will give you a jump-start and provide many design patterns for you to learn how to use `PySimpleGUI` and how to integrate `PySimpleGUI` with other packages. By far the best way to experience these demos is using the **Demo Browser**. This tool enables you to search, edit and run the Demo Programs.\n",
    "\n",
    "To get them installed quickly along with the **Demo Browser**, use `pip` to install `psgdemos`:\n",
    "\n",
    "    python -m pip install psgdemos\n",
    "\n",
    "Once installed, launch the **Demo browser** by typing `psgdemos` from the command line:\n",
    "\n",
    "    psgdemos\n",
    "    \n",
    "![psgdemos](./figs/psgdemos.png)"
   ]
  },
  {
   "cell_type": "code",
   "execution_count": null,
   "id": "41b6444e",
   "metadata": {},
   "outputs": [],
   "source": [
    "!psgdemos"
   ]
  },
  {
   "cell_type": "code",
   "execution_count": null,
   "id": "02656bfb",
   "metadata": {},
   "outputs": [],
   "source": [
    "%reset -f"
   ]
  },
  {
   "cell_type": "markdown",
   "id": "ffb5c9c0",
   "metadata": {},
   "source": [
    "## A Simple & Standard Right Click Menu"
   ]
  },
  {
   "cell_type": "code",
   "execution_count": 8,
   "id": "5c9541f5",
   "metadata": {},
   "outputs": [
    {
     "name": "stdout",
     "output_type": "stream",
     "text": [
      "event: Version, values: {'-IN-': ''}\n",
      "event: Exit, values: {'-IN-': ''}\n"
     ]
    }
   ],
   "source": [
    "import PySimpleGUI as sg      \n",
    "\n",
    "sg.theme('DarkAmber') \n",
    "\n",
    "layout = [\n",
    "    [sg.Text('Hello')],\n",
    "    [sg.Input(key='-IN-')],      \n",
    "    [sg.Button('Read'), sg.Exit()]\n",
    "]      \n",
    "\n",
    " \n",
    "window = sg.Window('Right Click Menu', layout, right_click_menu=['', ['Version', 'Exit']])      \n",
    "\n",
    "while True:                            # The Event Loop\n",
    "    event, values = window.read() \n",
    "    print(f'event: {event}, values: {values}')     \n",
    "    if event in (sg.WIN_CLOSED, 'Exit'):\n",
    "        break\n",
    "    if event == 'Version':\n",
    "        sg.popup_scrolled(sg.get_versions())        \n",
    "\n",
    "window.close()"
   ]
  },
  {
   "cell_type": "code",
   "execution_count": 9,
   "id": "ad4d22ca",
   "metadata": {},
   "outputs": [],
   "source": [
    "%reset -f"
   ]
  },
  {
   "cell_type": "markdown",
   "id": "b2f0535a",
   "metadata": {},
   "source": [
    "## Window \"Beautification\""
   ]
  },
  {
   "cell_type": "code",
   "execution_count": 11,
   "id": "8f2dcc53",
   "metadata": {},
   "outputs": [],
   "source": [
    "import PySimpleGUI as sg"
   ]
  },
  {
   "cell_type": "code",
   "execution_count": 12,
   "id": "e41ab324",
   "metadata": {},
   "outputs": [],
   "source": [
    "sg.preview_all_look_and_feel_themes()"
   ]
  },
  {
   "cell_type": "code",
   "execution_count": 13,
   "id": "68b4e36e",
   "metadata": {},
   "outputs": [],
   "source": [
    "theme_name_list = sg.theme_list()"
   ]
  },
  {
   "cell_type": "code",
   "execution_count": 14,
   "id": "a3d53f82",
   "metadata": {},
   "outputs": [
    {
     "data": {
      "text/plain": [
       "['Black',\n",
       " 'BlueMono',\n",
       " 'BluePurple',\n",
       " 'BrightColors',\n",
       " 'BrownBlue',\n",
       " 'Dark',\n",
       " 'Dark2',\n",
       " 'DarkAmber',\n",
       " 'DarkBlack',\n",
       " 'DarkBlack1',\n",
       " 'DarkBlue',\n",
       " 'DarkBlue1',\n",
       " 'DarkBlue10',\n",
       " 'DarkBlue11',\n",
       " 'DarkBlue12',\n",
       " 'DarkBlue13',\n",
       " 'DarkBlue14',\n",
       " 'DarkBlue15',\n",
       " 'DarkBlue16',\n",
       " 'DarkBlue17',\n",
       " 'DarkBlue2',\n",
       " 'DarkBlue3',\n",
       " 'DarkBlue4',\n",
       " 'DarkBlue5',\n",
       " 'DarkBlue6',\n",
       " 'DarkBlue7',\n",
       " 'DarkBlue8',\n",
       " 'DarkBlue9',\n",
       " 'DarkBrown',\n",
       " 'DarkBrown1',\n",
       " 'DarkBrown2',\n",
       " 'DarkBrown3',\n",
       " 'DarkBrown4',\n",
       " 'DarkBrown5',\n",
       " 'DarkBrown6',\n",
       " 'DarkBrown7',\n",
       " 'DarkGreen',\n",
       " 'DarkGreen1',\n",
       " 'DarkGreen2',\n",
       " 'DarkGreen3',\n",
       " 'DarkGreen4',\n",
       " 'DarkGreen5',\n",
       " 'DarkGreen6',\n",
       " 'DarkGreen7',\n",
       " 'DarkGrey',\n",
       " 'DarkGrey1',\n",
       " 'DarkGrey10',\n",
       " 'DarkGrey11',\n",
       " 'DarkGrey12',\n",
       " 'DarkGrey13',\n",
       " 'DarkGrey14',\n",
       " 'DarkGrey15',\n",
       " 'DarkGrey2',\n",
       " 'DarkGrey3',\n",
       " 'DarkGrey4',\n",
       " 'DarkGrey5',\n",
       " 'DarkGrey6',\n",
       " 'DarkGrey7',\n",
       " 'DarkGrey8',\n",
       " 'DarkGrey9',\n",
       " 'DarkPurple',\n",
       " 'DarkPurple1',\n",
       " 'DarkPurple2',\n",
       " 'DarkPurple3',\n",
       " 'DarkPurple4',\n",
       " 'DarkPurple5',\n",
       " 'DarkPurple6',\n",
       " 'DarkPurple7',\n",
       " 'DarkRed',\n",
       " 'DarkRed1',\n",
       " 'DarkRed2',\n",
       " 'DarkTanBlue',\n",
       " 'DarkTeal',\n",
       " 'DarkTeal1',\n",
       " 'DarkTeal10',\n",
       " 'DarkTeal11',\n",
       " 'DarkTeal12',\n",
       " 'DarkTeal2',\n",
       " 'DarkTeal3',\n",
       " 'DarkTeal4',\n",
       " 'DarkTeal5',\n",
       " 'DarkTeal6',\n",
       " 'DarkTeal7',\n",
       " 'DarkTeal8',\n",
       " 'DarkTeal9',\n",
       " 'Default',\n",
       " 'Default1',\n",
       " 'DefaultNoMoreNagging',\n",
       " 'GrayGrayGray',\n",
       " 'Green',\n",
       " 'GreenMono',\n",
       " 'GreenTan',\n",
       " 'HotDogStand',\n",
       " 'Kayak',\n",
       " 'LightBlue',\n",
       " 'LightBlue1',\n",
       " 'LightBlue2',\n",
       " 'LightBlue3',\n",
       " 'LightBlue4',\n",
       " 'LightBlue5',\n",
       " 'LightBlue6',\n",
       " 'LightBlue7',\n",
       " 'LightBrown',\n",
       " 'LightBrown1',\n",
       " 'LightBrown10',\n",
       " 'LightBrown11',\n",
       " 'LightBrown12',\n",
       " 'LightBrown13',\n",
       " 'LightBrown2',\n",
       " 'LightBrown3',\n",
       " 'LightBrown4',\n",
       " 'LightBrown5',\n",
       " 'LightBrown6',\n",
       " 'LightBrown7',\n",
       " 'LightBrown8',\n",
       " 'LightBrown9',\n",
       " 'LightGray1',\n",
       " 'LightGreen',\n",
       " 'LightGreen1',\n",
       " 'LightGreen10',\n",
       " 'LightGreen2',\n",
       " 'LightGreen3',\n",
       " 'LightGreen4',\n",
       " 'LightGreen5',\n",
       " 'LightGreen6',\n",
       " 'LightGreen7',\n",
       " 'LightGreen8',\n",
       " 'LightGreen9',\n",
       " 'LightGrey',\n",
       " 'LightGrey1',\n",
       " 'LightGrey2',\n",
       " 'LightGrey3',\n",
       " 'LightGrey4',\n",
       " 'LightGrey5',\n",
       " 'LightGrey6',\n",
       " 'LightPurple',\n",
       " 'LightTeal',\n",
       " 'LightYellow',\n",
       " 'Material1',\n",
       " 'Material2',\n",
       " 'NeutralBlue',\n",
       " 'Purple',\n",
       " 'Python',\n",
       " 'PythonPlus',\n",
       " 'Reddit',\n",
       " 'Reds',\n",
       " 'SandyBeach',\n",
       " 'SystemDefault',\n",
       " 'SystemDefault1',\n",
       " 'SystemDefaultForReal',\n",
       " 'Tan',\n",
       " 'TanBlue',\n",
       " 'TealMono',\n",
       " 'Topanga']"
      ]
     },
     "execution_count": 14,
     "metadata": {},
     "output_type": "execute_result"
    }
   ],
   "source": [
    "theme_name_list"
   ]
  },
  {
   "cell_type": "code",
   "execution_count": 16,
   "id": "c48d7e60",
   "metadata": {},
   "outputs": [],
   "source": [
    "import PySimpleGUI as sg\n",
    "\n",
    "\"\"\"\n",
    "    Allows you to \"browse\" through the Theme settings.  Click on one and you'll see a\n",
    "    Popup window using the color scheme you chose.  It's a simple little program that also demonstrates\n",
    "    how snappy a GUI can feel if you enable an element's events rather than waiting on a button click.\n",
    "    In this program, as soon as a listbox entry is clicked, the read returns.\n",
    "\"\"\"\n",
    "\n",
    "sg.theme('Dark Brown')\n",
    "\n",
    "\n",
    "layout = [[sg.Text('Theme Browser')],\n",
    "          [sg.Text('Click a Theme color to see demo window')],\n",
    "          [sg.Listbox(values=sg.theme_list(), size=(20, 12), key='-LIST-', enable_events=True)],\n",
    "          [sg.Button('Exit')]]\n",
    "\n",
    "window = sg.Window('Theme Browser', layout)\n",
    "\n",
    "while True:  # Event Loop\n",
    "    event, values = window.read()\n",
    "    if event in (sg.WIN_CLOSED, 'Exit'):\n",
    "        break\n",
    "    sg.theme(values['-LIST-'][0])\n",
    "    sg.popup_get_text(f\"This is {values['-LIST-'][0]}\")\n",
    "\n",
    "window.close()"
   ]
  },
  {
   "cell_type": "code",
   "execution_count": 17,
   "id": "4ae8b2ab",
   "metadata": {},
   "outputs": [],
   "source": [
    "%reset -f"
   ]
  },
  {
   "cell_type": "markdown",
   "id": "6aebd99d",
   "metadata": {},
   "source": [
    "### Making Changes to Themes & Adding Your Own Themes\n",
    "\n",
    "Modifying and creating your own theme is not difficult, but tricky so start with something and modify it carefully.\n",
    "\n",
    "The `tkinter` port has the `theme_add_new` function that will add a new dictionary entry into the table with the name you provide. It takes 2 parameters - the theme name and the dictionary entry.\n",
    "\n",
    "The Theme definitions are stored in a dictionary. The underlying dictionary can be directly accessed via the variable `LOOK_AND_FEEL_TABLE`.\n",
    "\n",
    "A single entry in this dictionary has this format (copy this code):\n",
    "\n",
    "```\n",
    " 'LightGreen3': {'BACKGROUND': '#A8C1B4',\n",
    "               'TEXT': 'black',\n",
    "               'INPUT': '#DDE0DE',\n",
    "               'SCROLL': '#E3E3E3',\n",
    "               'TEXT_INPUT': 'black',\n",
    "               'BUTTON': ('white', '#6D9F85'),\n",
    "               'PROGRESS': DEFAULT_PROGRESS_BAR_COLOR,\n",
    "               'BORDER': 1,\n",
    "               'SLIDER_DEPTH': 0,\n",
    "               'PROGRESS_DEPTH': 0}\n",
    "```"
   ]
  },
  {
   "cell_type": "markdown",
   "id": "fad93354",
   "metadata": {},
   "source": [
    "### Modifying an existing Theme\n",
    "\n",
    "Let's say you like the `LightGreeen3` Theme, except you would like for the buttons to have black text instead of white. You can change this by modifying the theme at runtime.\n",
    "\n",
    "Normal use of theme calls is to retrieve a theme's setting such as the background color. The functions used to retrieve a theme setting can also be used to modify the setting by passing in the new setting as a parameter.\n",
    "\n",
    "Calling `theme_background_color()` returns the background color currently in use. Passing in the color `'blue'` as the parameter, `theme_background_color('blue')`, will change the background color for future windows you create to blue."
   ]
  },
  {
   "cell_type": "code",
   "execution_count": 1,
   "id": "f799553a",
   "metadata": {},
   "outputs": [
    {
     "data": {
      "text/plain": [
       "'OK'"
      ]
     },
     "execution_count": 1,
     "metadata": {},
     "output_type": "execute_result"
    }
   ],
   "source": [
    "import PySimpleGUI as sg\n",
    "\n",
    "sg.theme('LightGreen3')\n",
    "sg.popup('This is the standard LightGreen3 Theme', 'It has white button text')\n",
    "\n",
    "# Modify the theme \n",
    "sg.theme_button_color(('black', '#6D9F85'))\n",
    "\n",
    "sg.popup('This is the modified LightGreen3 Theme', 'It has black button text')"
   ]
  },
  {
   "cell_type": "markdown",
   "id": "d9eb1898",
   "metadata": {},
   "source": [
    "### Adding Your Own Color Theme"
   ]
  },
  {
   "cell_type": "code",
   "execution_count": 3,
   "id": "ad2e8631",
   "metadata": {},
   "outputs": [],
   "source": [
    "import PySimpleGUI as sg\n",
    "\n",
    "# Add your new theme colors and settings\n",
    "my_new_theme = {'BACKGROUND': '#709053',\n",
    "                'TEXT': '#fff4c9',\n",
    "                'INPUT': '#c7e78b',\n",
    "                'TEXT_INPUT': '#000000',\n",
    "                'SCROLL': '#c7e78b',\n",
    "                'BUTTON': ('white', '#709053'),\n",
    "                'PROGRESS': ('#01826B', '#D0D0D0'),\n",
    "                'BORDER': 1,\n",
    "                'SLIDER_DEPTH': 0,\n",
    "                'PROGRESS_DEPTH': 0}\n",
    "\n",
    "# Add your dictionary to the PySimpleGUI themes\n",
    "sg.theme_add_new('MyNewTheme', my_new_theme)\n",
    "\n",
    "# Switch your theme to use the newly added one. You can add spaces to make it more readable\n",
    "sg.theme('My New Theme')\n",
    "\n",
    "# Call a popup to show what the theme looks like\n",
    "sg.popup_get_text('MyNewTheme custom theme looks') "
   ]
  },
  {
   "cell_type": "markdown",
   "id": "1983f9fb",
   "metadata": {},
   "source": [
    "## More Ways to \"Dress Up Your Windows\""
   ]
  },
  {
   "cell_type": "markdown",
   "id": "dd729408",
   "metadata": {},
   "source": [
    "In addition to color there are a several of other ways to potentially make your window more attractive. A few easy ones include:\n",
    "\n",
    "* Remove the titlebar\n",
    "* Make your window semi-transparent (change opacity)\n",
    "* Replace normal buttons with graphics\n",
    "\n",
    "You can use a combination of these 3 settings to create windows that look like Rainmeter style desktop-widgets."
   ]
  },
  {
   "cell_type": "markdown",
   "id": "ba8a975f",
   "metadata": {},
   "source": [
    "### Removing the Titlebar & Making Semi-Transparent\n",
    "\n",
    "Both of these can be set when you create your window. These 2 parameters are all you need - `no_titlebar` and `alpha_channel`.\n",
    "\n",
    "When creating a window without a titlebar you create a problem where the user is unable to move your window as they have no titlebar to grab and drag. Another parameter to the window creation will fix this problem - `grab_anywhere`. When `True`, this parameter allows the user to move the window by clicking anywhere within the window and dragging it, just as if they clicked the titlebar.\n",
    "\n",
    "```python\n",
    "window = sg.Window('System Dashboard', layout, no_titlebar=True, alpha_channel=.5, grab_anywhere=True)\n",
    "```"
   ]
  },
  {
   "cell_type": "markdown",
   "id": "02ba6baa",
   "metadata": {},
   "source": [
    "### Replacing a Button with a Graphic\n",
    "\n",
    "In `PySimpleGUI` you can use PNG and GIF image files as buttons. You can also encode those files into `Base64` strings and put them directly into your code.\n",
    "\n",
    "It's a 4 step process to make a button using a graphic\n",
    "\n",
    "* Find your PNG or GIF graphic\n",
    "* Convert your graphic into a `Base64` byte string\n",
    "* Add `Base64` string to your code as a variable\n",
    "* Specify the `Base64` string as the image to use when creating your button"
   ]
  },
  {
   "cell_type": "markdown",
   "id": "a3914a26",
   "metadata": {},
   "source": [
    "**Step 1 - Find your graphic**\n",
    "\n",
    "> There are a LOT of places for you to find your graphics. The following lists a number of ways to search for what you need. \n",
    "\n",
    "* [https://findicons.com/](https://findicons.com/)\n",
    "* [http://www.mricons.com/](http://www.mricons.com/)\n",
    "* [https://www.veryicon.com/](https://www.veryicon.com/)\n",
    "\n",
    "**Step 2 - Convert to Base64**\n",
    "\n",
    "> One of the demo programs provided on the PySimpleGUI GitHub is called `Demo_Base64_Image_Encoder.py`. This program will convert all of the images in a folder and write the encoded data to a file named `output.py`.\n",
    "\n",
    "> Another demo program, `Demo_Base64_Single_Image_Encoder.py` will convert the input file to a `Base64` string and place the string onto the clipboard. Paste the result into your code and assign it to a variable.\n",
    "\n",
    "> Both are in the Demos folder [Demos.PySimpleGUI.org](http://Demos.PySimpleGUI.org)\n",
    "\n",
    "**Step 3 - Make Base64 String Variable**\n",
    "\n",
    "> Select all of the data in the `Base64` box and paste into your code by making a variable that is equal to a byte-string.\n",
    "\n",
    "```python\n",
    "red_x_base64 = b''\n",
    "```\n",
    "\n",
    "> Paste the long data you got from the webpage inside the quotes after the `b`.\n",
    "\n",
    "> You can also copy and paste the byte string from the `output.py` file if you used the demo program or paste the string created using the single file encoder demo program.\n",
    "\n",
    "**Step 4 - Use Base64 Variable to Make Your Button**\n",
    "\n",
    "> This is the Button Element that is added to the layout to create the Red X Button graphic.\n",
    "\n",
    "> You need to set the background color for your button to be the same as the background the button is being placed on if you want it to appear invisible.\n",
    "\n",
    "```python\n",
    "sg.Button('', image_data=red_x_base64,\n",
    "          button_color=(sg.theme_background_color(), sg.theme_background_color()),\n",
    "          border_width=0, key='Exit')\n",
    "```"
   ]
  },
  {
   "cell_type": "code",
   "execution_count": 7,
   "id": "2cb90cec",
   "metadata": {},
   "outputs": [
    {
     "name": "stdout",
     "output_type": "stream",
     "text": [
      "Exit {}\n"
     ]
    }
   ],
   "source": [
    "import PySimpleGUI as sg\n",
    "\n",
    "#red_x_base64 = b'paste the base64 encoded string here'\n",
    "red_x_base64 = sg.red_x     # Using this built-in little red X for this demo\n",
    "\n",
    "layout = [  \n",
    "    [sg.Text('My borderless window with a button graphic')],\n",
    "    [sg.Button('', image_data=red_x_base64, \n",
    "        button_color=(sg.theme_background_color(), sg.theme_background_color()), border_width=0, key='Exit')]\n",
    "]\n",
    "\n",
    "window = sg.Window('', layout, no_titlebar=True, alpha_channel=.9, grab_anywhere=True)\n",
    "\n",
    "while True:\n",
    "    event, values = window.read()\n",
    "    print(event, values)\n",
    "    if event in (sg.WIN_CLOSED, 'Exit'):\n",
    "        break\n",
    "        \n",
    "window.close()"
   ]
  },
  {
   "cell_type": "code",
   "execution_count": 8,
   "id": "1c04f5bf",
   "metadata": {},
   "outputs": [],
   "source": [
    "%reset -f"
   ]
  },
  {
   "cell_type": "markdown",
   "id": "fee7c47e",
   "metadata": {},
   "source": [
    "## Recipe - 1 Shot Window - Simple Data Entry - Return Values - Auto Numbered"
   ]
  },
  {
   "cell_type": "markdown",
   "id": "5d1c84ad",
   "metadata": {},
   "source": [
    "If you do not specify a key and the element is an input element, a key will be provided for you in the form of an integer, starting numbering with zero. "
   ]
  },
  {
   "cell_type": "code",
   "execution_count": 11,
   "id": "393172bb",
   "metadata": {},
   "outputs": [
    {
     "name": "stdout",
     "output_type": "stream",
     "text": [
      "Cancel   \n"
     ]
    }
   ],
   "source": [
    "import PySimpleGUI as sg\n",
    "\n",
    "sg.theme('Topanga')      # Add some color to the window\n",
    "\n",
    "# Very basic window.  Return values using auto numbered keys\n",
    "\n",
    "layout = [\n",
    "    [sg.Text('Please enter your Name, Address, Phone')],\n",
    "    [sg.Text('Name', size=(15, 1)), sg.InputText()],\n",
    "    [sg.Text('Address', size=(15, 1)), sg.InputText()],\n",
    "    [sg.Text('Phone', size=(15, 1)), sg.InputText()],\n",
    "    [sg.Submit(), sg.Cancel()]\n",
    "]\n",
    "\n",
    "window = sg.Window('Simple data entry window', layout)\n",
    "event, values = window.read()\n",
    "window.close()\n",
    "print(event, values[0], values[1], values[2])    # the input data looks like a simple list when auto numbered"
   ]
  },
  {
   "cell_type": "code",
   "execution_count": 12,
   "id": "03310f00",
   "metadata": {},
   "outputs": [],
   "source": [
    "%reset -f"
   ]
  },
  {
   "cell_type": "markdown",
   "id": "b10b83c0",
   "metadata": {},
   "source": [
    "## Recipe - Add GUI to Front-End of Script"
   ]
  },
  {
   "cell_type": "markdown",
   "id": "04555234",
   "metadata": {},
   "source": [
    "Quickly add a GUI allowing the user to browse for a filename if a filename is not supplied on the command line using this simple GUI. It's the best of both worlds. If you want command line, you can use it. If you don't specify, then the GUI will fire up."
   ]
  },
  {
   "cell_type": "code",
   "execution_count": 13,
   "id": "996abad5",
   "metadata": {},
   "outputs": [
    {
     "name": "stdout",
     "output_type": "stream",
     "text": [
      "Writing gui_filename.py\n"
     ]
    }
   ],
   "source": [
    "%%writefile gui_filename.py\n",
    "import PySimpleGUI as sg\n",
    "import sys\n",
    "\n",
    "if len(sys.argv) == 1:\n",
    "    event, values = sg.Window('My Script', [\n",
    "        [sg.Text('Document to open')],\n",
    "        [sg.In(), sg.FileBrowse()],\n",
    "        [sg.Open(), sg.Cancel()]]).read(close=True)\n",
    "    fname = values[0]\n",
    "else:\n",
    "    fname = sys.argv[1]\n",
    "\n",
    "if not fname:\n",
    "    sg.popup(\"Cancel\", \"No filename supplied\")\n",
    "    raise SystemExit(\"Cancelling: no filename supplied\")\n",
    "else:\n",
    "    sg.popup('The filename you chose was', fname)"
   ]
  },
  {
   "cell_type": "code",
   "execution_count": 15,
   "id": "bf379566",
   "metadata": {},
   "outputs": [
    {
     "name": "stdout",
     "output_type": "stream",
     "text": [
      "Cancelling: no filename supplied\r\n"
     ]
    }
   ],
   "source": [
    "!python gui_filename.py"
   ]
  },
  {
   "cell_type": "code",
   "execution_count": 16,
   "id": "07ac74e3",
   "metadata": {},
   "outputs": [
    {
     "name": "stdout",
     "output_type": "stream",
     "text": [
      "Overwriting gui_filename.py\n"
     ]
    }
   ],
   "source": [
    "%%writefile gui_filename.py\n",
    "import PySimpleGUI as sg\n",
    "import sys\n",
    "\n",
    "if len(sys.argv) == 1:\n",
    "    fname = sg.Window('My Script', [\n",
    "        [sg.Text('Document to open')],\n",
    "        [sg.In(), sg.FileBrowse()],\n",
    "        [sg.Open(), sg.Cancel()]]).read(close=True)[1][0]\n",
    "else:\n",
    "    fname = sys.argv[1]\n",
    "\n",
    "if not fname:\n",
    "    sg.popup(\"Cancel\", \"No filename supplied\")\n",
    "    raise SystemExit(\"Cancelling: no filename supplied\")\n",
    "else:\n",
    "    sg.popup('The filename you chose was', fname)"
   ]
  },
  {
   "cell_type": "code",
   "execution_count": 17,
   "id": "032db44c",
   "metadata": {},
   "outputs": [],
   "source": [
    "!python gui_filename.py"
   ]
  },
  {
   "cell_type": "markdown",
   "id": "3911499f",
   "metadata": {},
   "source": [
    "## Recipe - The `popup_get_file` Version of Add GUI to Front-End of Script"
   ]
  },
  {
   "cell_type": "code",
   "execution_count": 20,
   "id": "9dff9370",
   "metadata": {},
   "outputs": [
    {
     "name": "stdout",
     "output_type": "stream",
     "text": [
      "Writing gui_filename.py\n"
     ]
    }
   ],
   "source": [
    "%%writefile gui_filename.py\n",
    "import PySimpleGUI as sg\n",
    "import sys\n",
    "\n",
    "if len(sys.argv) == 1:\n",
    "    fname = sg.popup_get_file('Document to open')\n",
    "else:\n",
    "    fname = sys.argv[1]\n",
    "\n",
    "if not fname:\n",
    "    sg.popup(\"Cancel\", \"No filename supplied\")\n",
    "    raise SystemExit(\"Cancelling: no filename supplied\")\n",
    "else:\n",
    "    sg.popup('The filename you chose was', fname)"
   ]
  },
  {
   "cell_type": "code",
   "execution_count": 21,
   "id": "0809a20b",
   "metadata": {},
   "outputs": [],
   "source": [
    "!python gui_filename.py"
   ]
  },
  {
   "cell_type": "code",
   "execution_count": 22,
   "id": "ec9e5693",
   "metadata": {},
   "outputs": [
    {
     "name": "stdout",
     "output_type": "stream",
     "text": [
      "Overwriting gui_filename.py\n"
     ]
    }
   ],
   "source": [
    "%%writefile gui_filename.py\n",
    "import PySimpleGUI as sg\n",
    "import sys\n",
    "\n",
    "fname = sys.argv[1] if len(sys.argv) > 1 else sg.popup_get_file('Document to open')\n",
    "\n",
    "if not fname:\n",
    "    sg.popup(\"Cancel\", \"No filename supplied\")\n",
    "    raise SystemExit(\"Cancelling: no filename supplied\")\n",
    "else:\n",
    "    sg.popup('The filename you chose was', fname)"
   ]
  },
  {
   "cell_type": "code",
   "execution_count": 23,
   "id": "3275691a",
   "metadata": {},
   "outputs": [],
   "source": [
    "!python gui_filename.py"
   ]
  },
  {
   "cell_type": "code",
   "execution_count": 24,
   "id": "29289f53",
   "metadata": {},
   "outputs": [],
   "source": [
    "%rm gui_filename.py"
   ]
  },
  {
   "cell_type": "code",
   "execution_count": 25,
   "id": "57bbf8a2",
   "metadata": {},
   "outputs": [],
   "source": [
    "%reset -f"
   ]
  },
  {
   "cell_type": "markdown",
   "id": "b56de107",
   "metadata": {},
   "source": [
    "## Recipe - Function and Aliases"
   ]
  },
  {
   "cell_type": "markdown",
   "id": "46ad53ff",
   "metadata": {},
   "source": [
    "Aliases are used a LOT in `PySimpleGUI`. You'll find that nearly all of the Elements have multiple names that can be used for them. Text Elements can be specified as `Text`, `Txt`, and `T`. This allows you to write really compact code.\n",
    "\n",
    "$~$\n",
    "\n",
    "Let's use the `cprint` function as an example:\n",
    "\n",
    "```python\n",
    "sg.cprint('This is my white text on a red background', colors='white on red')\n",
    "```\n",
    "\n",
    "If you have a lot of these in your program, it won't get too long until you're tired of typing `sg.cprint`, so, why not make it super easy on yourself and type `cp` instead. Here's all you have to do.\n",
    "\n",
    "```python\n",
    "cp = sg.cprint\n",
    "cp('This is my white text on a red background', colors='white on red')\n",
    "```"
   ]
  },
  {
   "cell_type": "markdown",
   "id": "032fc4d0",
   "metadata": {},
   "source": [
    "## Recipe - Highly Responsive Inputs"
   ]
  },
  {
   "cell_type": "code",
   "execution_count": 27,
   "id": "d8ed3ac0",
   "metadata": {},
   "outputs": [],
   "source": [
    "import PySimpleGUI as sg\n",
    "\n",
    "choices = ('Red', 'Green', 'Blue', 'Yellow', 'Orange', 'Purple', 'Chartreuse')\n",
    "\n",
    "layout = [  \n",
    "    [sg.Text('What is your favorite color?')],\n",
    "    [sg.Listbox(choices, size=(15, len(choices)), key='-COLOR-')],\n",
    "    [sg.Button('OK')]  \n",
    "]\n",
    "\n",
    "window = sg.Window('Pick a color', layout)\n",
    "\n",
    "while True:              \n",
    "    event, values = window.read()\n",
    "    if event == sg.WIN_CLOSED:\n",
    "        break\n",
    "    if event == 'OK':\n",
    "        if values['-COLOR-']:    # if something is highlighted in the list\n",
    "            sg.popup(f\"Your favorite color is {values['-COLOR-'][0]}\")\n",
    "            \n",
    "window.close()"
   ]
  },
  {
   "cell_type": "code",
   "execution_count": null,
   "id": "e51cf9b8",
   "metadata": {},
   "outputs": [],
   "source": [
    "%reset -f"
   ]
  },
  {
   "cell_type": "markdown",
   "id": "bb7b3076",
   "metadata": {},
   "source": [
    "### Use `enable_events` to instantly get events\n",
    "\n",
    "If the previous example were changed such that the OK button is removed and the `enable_events` parameter is added, then the code and window appear like this:"
   ]
  },
  {
   "cell_type": "code",
   "execution_count": 28,
   "id": "a6993e91",
   "metadata": {},
   "outputs": [],
   "source": [
    "import PySimpleGUI as sg\n",
    "\n",
    "choices = ('Red', 'Green', 'Blue', 'Yellow', 'Orange', 'Purple', 'Chartreuse')\n",
    "\n",
    "layout = [  \n",
    "    [sg.Text('What is your favorite color?')],\n",
    "    [sg.Listbox(choices, size=(15, len(choices)), key='-COLOR-', enable_events=True)] \n",
    "]\n",
    "\n",
    "window = sg.Window('Pick a color', layout)\n",
    "\n",
    "while True:\n",
    "    event, values = window.read()\n",
    "    if event == sg.WIN_CLOSED:\n",
    "        break\n",
    "    if values['-COLOR-']:    # if something is highlighted in the list\n",
    "        sg.popup(f\"Your favorite color is {values['-COLOR-'][0]}\")\n",
    "        \n",
    "window.close()"
   ]
  },
  {
   "cell_type": "code",
   "execution_count": 34,
   "id": "802b805b",
   "metadata": {},
   "outputs": [],
   "source": [
    "%reset -f"
   ]
  },
  {
   "cell_type": "markdown",
   "id": "caba20e8",
   "metadata": {},
   "source": [
    "## Recipe - Input Validation"
   ]
  },
  {
   "cell_type": "markdown",
   "id": "a4b43061",
   "metadata": {},
   "source": [
    "Perhaps you need a floating point number and only want to allow `0-9`, `.`, and `-`. One way restrict the user's input to only those characters is to get an event any time the user inputs a character and if the character isn't a valid one, remove it.\n",
    "\n",
    "You've already seen (above) that to get an event immediate when an element is interacted with in some way you set the `enable_events` parameter."
   ]
  },
  {
   "cell_type": "code",
   "execution_count": 32,
   "id": "8d0a6b98",
   "metadata": {},
   "outputs": [
    {
     "name": "stdout",
     "output_type": "stream",
     "text": [
      "{'-IN-': '1.1234'}\n"
     ]
    }
   ],
   "source": [
    "import PySimpleGUI as sg\n",
    "\n",
    "\"\"\"\n",
    "    Restrict the characters allowed in an input element to digits and . or -\n",
    "    Accomplished by removing last character input if not a valid character\n",
    "\"\"\"\n",
    "\n",
    "layout = [  \n",
    "    [sg.Text('Input only floating point numbers')],\n",
    "    [sg.Input(key='-IN-', enable_events=True)],\n",
    "    [sg.Button('Exit')]  \n",
    "]\n",
    "\n",
    "window = sg.Window('Floating point input validation', layout)\n",
    "\n",
    "while True:\n",
    "    event, values = window.read()\n",
    "    if event in (sg.WIN_CLOSED, 'Exit'):\n",
    "        print(values)\n",
    "        break\n",
    "    # if last character in input element is invalid, remove it\n",
    "    if event == '-IN-' and values['-IN-']:\n",
    "        try:\n",
    "            in_as_float = float(values['-IN-'])\n",
    "        except:\n",
    "            if len(values['-IN-']) == 1 and values['-IN-'][0] == '-':\n",
    "                continue\n",
    "            window['-IN-'].update(values['-IN-'][:-1])\n",
    "            \n",
    "window.close()"
   ]
  },
  {
   "cell_type": "code",
   "execution_count": 35,
   "id": "6d1430c6",
   "metadata": {},
   "outputs": [],
   "source": [
    "%reset -f"
   ]
  },
  {
   "cell_type": "markdown",
   "id": "956ba8ea",
   "metadata": {},
   "source": [
    "## Recipe - Element Justification and Alignment"
   ]
  },
  {
   "cell_type": "markdown",
   "id": "9fe3977a",
   "metadata": {},
   "source": [
    "There are 2 terms used in `PySimpleGUI` regarding positioning: \n",
    "\n",
    "* **Justification** - Positioning on the horizontal axis `(left, center, right)` \n",
    "* **Alignment** - Positioning on the vertical axis `(top, middle, bottom)`\n",
    "\n",
    "Justification of elements can be accomplished using 2 methods.\n",
    "\n",
    "1. Use a `Column` Element with the element_justification parameter \n",
    "2. Use the `Push` element"
   ]
  },
  {
   "cell_type": "markdown",
   "id": "5c7a51db",
   "metadata": {},
   "source": [
    "The way to think about `Push` elements is to think of them a an element that \"repels\" or pushes around other elements. The `Push` works on a row by row basis. Each row that you want the `Push` to impact will need to have one or more `Push` elements on that row."
   ]
  },
  {
   "cell_type": "code",
   "execution_count": 33,
   "id": "2ac8860f",
   "metadata": {},
   "outputs": [],
   "source": [
    "import PySimpleGUI as sg\n",
    "\n",
    "layout = [\n",
    "    [sg.Text('*'*50)],\n",
    "    [sg.Text('Left Justified'), sg.Push()],\n",
    "    [sg.Push(), sg.Text('Right Justified')],\n",
    "    [sg.Push(), sg.Text('Center Justified'), sg.Push()],\n",
    "    [sg.Push(), sg.Button('Ok'), sg.Button('Cancel'), sg.Push()]\n",
    "]\n",
    "\n",
    "window = sg.Window('Push Element', layout)\n",
    "\n",
    "while True:\n",
    "    event, values = window.read()\n",
    "    if event in (sg.WIN_CLOSED, 'Cancel'):\n",
    "        break\n",
    "\n",
    "window.close()"
   ]
  },
  {
   "cell_type": "code",
   "execution_count": 36,
   "id": "6142d4f2",
   "metadata": {},
   "outputs": [],
   "source": [
    "%reset -f"
   ]
  },
  {
   "cell_type": "markdown",
   "id": "6af87593",
   "metadata": {},
   "source": [
    "You can use Container Elements (`Column`, `Frame`, `Tab` and `Window` too) to justify multiple rows at a time. The parameter `element_justification` controls how elements within a container or `Window` are justified."
   ]
  },
  {
   "cell_type": "code",
   "execution_count": 37,
   "id": "387b0ab8",
   "metadata": {},
   "outputs": [],
   "source": [
    "import PySimpleGUI as sg\n",
    "\n",
    "layout = [\n",
    "    [sg.Text('*'*50)],\n",
    "    [sg.Text('All elements will be Centered')],\n",
    "    [sg.Button('Ok'), sg.Button('Cancel')]\n",
    "]\n",
    "\n",
    "window = sg.Window('Element Justification', layout, element_justification='c')\n",
    "\n",
    "while True:\n",
    "    event, values = window.read()\n",
    "    if event in (sg.WIN_CLOSED, 'Cancel'):\n",
    "        break\n",
    "\n",
    "window.close()"
   ]
  },
  {
   "cell_type": "code",
   "execution_count": 38,
   "id": "e29b042b",
   "metadata": {},
   "outputs": [],
   "source": [
    "%reset -f"
   ]
  },
  {
   "cell_type": "markdown",
   "id": "4362b0c7",
   "metadata": {},
   "source": [
    "\"Alignment\" is the term used to describe the vertical positioning of elements. Within a single row, alignment is performed by using a container element or by using a one of the alignment \"layout helper functions\".\n",
    "\n",
    "There are 3 functions in particular that affect vertical positioning:\n",
    "\n",
    "* `vtop` - Align an element or an entire row to the \"top\" of the row \n",
    "* `vbottom` - Align an element or an entire row to the \"bottom\" of the row \n",
    "* `vcenter` - Align an element or an entire row to the \"center\" of the row"
   ]
  },
  {
   "cell_type": "markdown",
   "id": "05e76745",
   "metadata": {},
   "source": [
    "This program uses the default alignment which will center elements on each row."
   ]
  },
  {
   "cell_type": "code",
   "execution_count": 39,
   "id": "987e2a3a",
   "metadata": {},
   "outputs": [],
   "source": [
    "import PySimpleGUI as sg\n",
    "\n",
    "layout = [\n",
    "    [sg.Listbox(list(range(10)), size=(5, 5)), sg.Multiline(size=(25, 10))],\n",
    "    [sg.Button('OK'), sg.Button('Cancel')]\n",
    "]\n",
    "\n",
    "window = sg.Window('Element Alignment', layout)\n",
    "\n",
    "while True:\n",
    "    event, values = window.read()\n",
    "    if event in (sg.WIN_CLOSED, 'Cancel'):\n",
    "        break\n",
    "\n",
    "window.close()"
   ]
  },
  {
   "cell_type": "code",
   "execution_count": 40,
   "id": "5bff625b",
   "metadata": {},
   "outputs": [],
   "source": [
    "%reset -f"
   ]
  },
  {
   "cell_type": "markdown",
   "id": "07177a52",
   "metadata": {},
   "source": [
    "If you want to have the `Listbox` and the `Multiline` aligned at the top, then you can use the `vtop` helper function. Align only the single element"
   ]
  },
  {
   "cell_type": "code",
   "execution_count": 41,
   "id": "e08bb1f2",
   "metadata": {},
   "outputs": [],
   "source": [
    "import PySimpleGUI as sg\n",
    "\n",
    "layout = [\n",
    "    [sg.vtop(sg.Listbox(list(range(10)), size=(5, 5))), sg.Multiline(size=(25,10))],\n",
    "    [sg.Button('Ok'), sg.Button('Cancel')]\n",
    "]\n",
    "\n",
    "window = sg.Window('Element Alignment', layout)\n",
    "\n",
    "while True:\n",
    "    event, values = window.read()\n",
    "    if event in (sg.WIN_CLOSED, 'Cancel'):\n",
    "        break\n",
    "\n",
    "window.close()"
   ]
  },
  {
   "cell_type": "code",
   "execution_count": 42,
   "id": "8ed65183",
   "metadata": {},
   "outputs": [],
   "source": [
    "%reset -f"
   ]
  },
  {
   "cell_type": "markdown",
   "id": "5c50df3f",
   "metadata": {},
   "source": [
    "Align the entire row"
   ]
  },
  {
   "cell_type": "code",
   "execution_count": 43,
   "id": "d79053bd",
   "metadata": {},
   "outputs": [],
   "source": [
    "import PySimpleGUI as sg\n",
    "\n",
    "layout = [\n",
    "    sg.vtop([sg.Listbox(list(range(10)), size=(5, 5)), sg.Multiline(size=(25, 10))]),\n",
    "    [sg.Button('Ok'), sg.Button('Cancel')]\n",
    "]\n",
    "\n",
    "window = sg.Window('Element Alignment', layout)\n",
    "\n",
    "while True:\n",
    "    event, values = window.read()\n",
    "    if event in (sg.WIN_CLOSED, 'Cancel'):\n",
    "        break\n",
    "\n",
    "window.close()"
   ]
  },
  {
   "cell_type": "code",
   "execution_count": 44,
   "id": "cafceaa2",
   "metadata": {},
   "outputs": [],
   "source": [
    "%reset -f"
   ]
  },
  {
   "cell_type": "markdown",
   "id": "ed3e2281",
   "metadata": {},
   "source": [
    "Newer versions of `PySimpleGUI` allow an extra set of brackets `[ ]` so that the layout appears to still be a list-per-row."
   ]
  },
  {
   "cell_type": "code",
   "execution_count": 45,
   "id": "2c753320",
   "metadata": {},
   "outputs": [],
   "source": [
    "import PySimpleGUI as sg\n",
    "\n",
    "layout = [\n",
    "    [sg.vtop([sg.Listbox(list(range(10)), size=(5, 5)), sg.Multiline(size=(25, 10))])],\n",
    "    [sg.Button('Ok'), sg.Button('Cancel')]\n",
    "]\n",
    "\n",
    "window = sg.Window('Element Alignment', layout)\n",
    "\n",
    "while True:\n",
    "    event, values = window.read()\n",
    "    if event in (sg.WIN_CLOSED, 'Cancel'):\n",
    "        break\n",
    "\n",
    "window.close()"
   ]
  },
  {
   "cell_type": "code",
   "execution_count": 46,
   "id": "dd08b8a8",
   "metadata": {},
   "outputs": [],
   "source": [
    "%reset -f"
   ]
  },
  {
   "cell_type": "markdown",
   "id": "559e6ac2",
   "metadata": {},
   "source": [
    "Just like the `Push` element will \"push\" elements around in a horizontal fashion, the `VPush` element pushes entire groups of rows up and down within the container they are inside of.\n",
    "\n",
    "One of the best examples of using `VPush` is when a window's size has been hard coded. Hard coding a window's size is not recommended in `PySimpleGUI`. But, if you're determined to hard code a size and want to vertically center your elements in that window, then the `VPush` is a good way to go."
   ]
  },
  {
   "cell_type": "code",
   "execution_count": 47,
   "id": "052b8966",
   "metadata": {},
   "outputs": [],
   "source": [
    "import PySimpleGUI as sg\n",
    "\n",
    "layout = [\n",
    "    [sg.VPush()],\n",
    "    [sg.Push(), sg.Text('Centered in the window'), sg.Push()],\n",
    "    [sg.Push(), sg.Button('Ok'), sg.Button('Cancel'), sg.Push()],\n",
    "    [sg.VPush()]\n",
    "]\n",
    "\n",
    "window = sg.Window('A Centered Layout', layout, resizable=True, size=(300, 300))\n",
    "\n",
    "while True:\n",
    "    event, values = window.read()\n",
    "    if event in (sg.WIN_CLOSED, 'Cancel'):\n",
    "        break\n",
    "\n",
    "window.close()"
   ]
  },
  {
   "cell_type": "code",
   "execution_count": 48,
   "id": "d4740802",
   "metadata": {},
   "outputs": [],
   "source": [
    "%reset -f"
   ]
  },
  {
   "cell_type": "markdown",
   "id": "c102b1f1",
   "metadata": {},
   "source": [
    "## Recipe - Positioning Windows on a Multi-Monitor Setup\n",
    "\n",
    "`tkinter` version of `PySimpleGUI` only)"
   ]
  },
  {
   "cell_type": "markdown",
   "id": "b10b2b3f",
   "metadata": {},
   "source": [
    "The upper left corner of your primary display is `(0, 0)`. If you wish to locate / create a window on the monitor to the LEFT of your primary monitor, then set the X value to a negative value. This causes the window to be created on the monitor to the left. If you set your X value to be larger than the width of your primary monitor, then you window will be created on the monitor that is located to the RIGHT of your primary monitor."
   ]
  },
  {
   "cell_type": "code",
   "execution_count": 16,
   "id": "4416e414",
   "metadata": {},
   "outputs": [],
   "source": [
    "import PySimpleGUI as sg\n",
    "\n",
    "sg.theme('dark green 7')\n",
    "\n",
    "layout = [\n",
    "    [sg.Text(size=(None, 1), key='-OUT1-'), \n",
    "     sg.Text(size=(None, 1), key='-OUT2-', expand_x=True, expand_y=True, justification='r')],\n",
    "    [sg.Push(), sg.T(sg.Window.get_screen_size()), sg.Push()],\n",
    "    [sg.Text(size=(None, 1), key='-OUT4-'),\n",
    "     sg.Text(size=(None, 1), key='-OUT3-', expand_x=True, expand_y=True, justification='r')]\n",
    "]\n",
    "\n",
    "window = sg.Window('Title not seen', layout, \n",
    "                   grab_anywhere=True, \n",
    "                   no_titlebar=True, \n",
    "                   margins=(0, 0), \n",
    "                   element_padding=(0, 0), \n",
    "                   right_click_menu=['_', ['Exit']] ,\n",
    "                   keep_on_top=True, \n",
    "                   font='_ 24', \n",
    "                   finalize=True,\n",
    "                   alpha_channel=.75)\n",
    "\n",
    "while True:\n",
    "    event, values = window.read(timeout=100)\n",
    "    if event in (sg.WIN_CLOSED, 'Exit'):\n",
    "        break\n",
    "\n",
    "    loc = window.current_location()\n",
    "    window['-OUT1-'].update(loc)\n",
    "    window['-OUT2-'].update((loc[0] + window.size[0], loc[1]))\n",
    "    window['-OUT3-'].update((loc[0] + window.size[0], loc[1] + window.size[1]))\n",
    "    window['-OUT4-'].update((loc[0], loc[1] + window.size[1]))\n",
    "\n",
    "window.close()"
   ]
  },
  {
   "cell_type": "code",
   "execution_count": 64,
   "id": "15224960",
   "metadata": {},
   "outputs": [],
   "source": [
    "%reset -f"
   ]
  },
  {
   "cell_type": "markdown",
   "id": "cc38e9d4",
   "metadata": {},
   "source": [
    "## Recipe - Printing"
   ]
  },
  {
   "cell_type": "markdown",
   "id": "39ae3bc8",
   "metadata": {},
   "source": [
    "There are at least 2 ways to transform your print statements that we'll explore here \n",
    "\n",
    "1. The `Output` Element \n",
    "1. The `Multiline` Element"
   ]
  },
  {
   "cell_type": "markdown",
   "id": "0fd1100a",
   "metadata": {},
   "source": [
    "### Print to `Output` Element"
   ]
  },
  {
   "cell_type": "markdown",
   "id": "ec92a2e7",
   "metadata": {},
   "source": [
    "If you want to re-route your standard out to your window, then placing an `Output` Element in your layout will do just that. When you call `print`, your text will be routed to that `Output` Element. Note you can only have 1 of these in your layout because there's only 1 stdout."
   ]
  },
  {
   "cell_type": "code",
   "execution_count": 4,
   "id": "5669de82",
   "metadata": {},
   "outputs": [],
   "source": [
    "import PySimpleGUI as sg\n",
    "\n",
    "layout = [  \n",
    "    [sg.Text('What you print will display below:')],\n",
    "    [sg.Output(size=(50, 10), key='-OUTPUT-')],\n",
    "    [sg.In(key='-IN-')],\n",
    "    [sg.Button('Go'), sg.Button('Clear'), sg.Button('Exit')]  \n",
    "]\n",
    "\n",
    "window = sg.Window('Window Title', layout)\n",
    "\n",
    "while True:         \n",
    "    event, values = window.read()\n",
    "    print(event, values)\n",
    "    if event in (sg.WIN_CLOSED, 'Exit'):\n",
    "        break\n",
    "    if event == 'Clear':\n",
    "        window['-OUTPUT-'].update('')\n",
    "        \n",
    "window.close()"
   ]
  },
  {
   "cell_type": "code",
   "execution_count": 3,
   "id": "e1fc1a04",
   "metadata": {},
   "outputs": [],
   "source": [
    "%reset -f"
   ]
  },
  {
   "cell_type": "markdown",
   "id": "6c4311a2",
   "metadata": {},
   "source": [
    "### Print to `Multiline` Element"
   ]
  },
  {
   "cell_type": "markdown",
   "id": "5d0bdff5",
   "metadata": {},
   "source": [
    "The most basic form of converting your exiting `print` into a `Multline` based `print` is to add the same element-lookup code that you would use when calling an element's `update` method. Generically, that conversion looks like this:\n",
    "\n",
    "```python\n",
    "print('Testing 1 2 3')\n",
    "```\n",
    "\n",
    "If our `Multiline`'s key is `'-ML-'` then the expression to look the element up is:\n",
    "\n",
    "```python\n",
    "window['-ML-']\n",
    "```\n",
    "\n",
    "Combing the two transforms the original `print` to a `Multline` element `print`:\n",
    "\n",
    "```python\n",
    "window['-ML-'].print('Testing 1 2 3')\n",
    "```\n",
    "\n",
    "Because we're using these `Multilne` elements as output only elements, we don't want to have their contents returned in the `values` dictionary when we call `window.read()`. To make any element not be included in the `values` dictionary, add the constant `WRITE_ONLY_KEY` onto the end of your key. This would change our previous example to:\n",
    "\n",
    "```python\n",
    "window['-ML-'+sg.WRITE_ONLY_KEY].print('Testing 1 2 3')\n",
    "```"
   ]
  },
  {
   "cell_type": "code",
   "execution_count": 1,
   "id": "9ff84f2e",
   "metadata": {},
   "outputs": [],
   "source": [
    "import PySimpleGUI as sg\n",
    "\n",
    "layout = [  \n",
    "    [sg.Text('Demonstration of Multiline Element Printing')],\n",
    "    [sg.MLine(key='-ML1-'+sg.WRITE_ONLY_KEY, size=(40, 8))],\n",
    "    [sg.MLine(key='-ML2-'+sg.WRITE_ONLY_KEY, size=(40, 8))],\n",
    "    [sg.Button('Go'), sg.Button('Exit')]\n",
    "]\n",
    "\n",
    "window = sg.Window('Window Title', layout, finalize=True)\n",
    "\n",
    "\n",
    "# Note, need to finalize the window above if want to do these prior to calling window.read()\n",
    "window['-ML1-'+sg.WRITE_ONLY_KEY].print(1,2,3,4, end='', text_color='red', background_color='yellow')\n",
    "window['-ML1-'+sg.WRITE_ONLY_KEY].print('\\n', end='')\n",
    "window['-ML1-'+sg.WRITE_ONLY_KEY].print(1,2,3,4, text_color='white', background_color='green')\n",
    "\n",
    "counter = 0\n",
    "while True:             # Event Loop\n",
    "    event, values = window.read(timeout=100)\n",
    "    if event in (sg.WIN_CLOSED, 'Exit'):\n",
    "        break\n",
    "    if event == 'Go':\n",
    "        window['-ML1-'+sg.WRITE_ONLY_KEY].print(event, values, text_color='red')\n",
    "    window['-ML2-'+sg.WRITE_ONLY_KEY].print(counter)\n",
    "    counter += 1\n",
    "\n",
    "window.close()"
   ]
  },
  {
   "cell_type": "code",
   "execution_count": 2,
   "id": "5aa8cf7d",
   "metadata": {},
   "outputs": [],
   "source": [
    "%reset -f"
   ]
  },
  {
   "cell_type": "markdown",
   "id": "b149b973",
   "metadata": {},
   "source": [
    "### Redefining `print` to `Print` to `Multiline`"
   ]
  },
  {
   "cell_type": "markdown",
   "id": "238e999a",
   "metadata": {},
   "source": [
    "If you want to use the `Multline` element as the destination for your `print`, but you don't want to go through your code and modify every `print` statement by adding an element lookup, then you can simply redefine your call to `print`\n",
    "\n",
    "If you were to use a funciton, then your code my look like this:\n",
    "\n",
    "```python\n",
    "def mprint(*args, **kwargs):\n",
    "    window['-ML1-' + sg.WRITE_ONLY_KEY].print(*args, **kwargs)\n",
    "\n",
    "print = mprint\n",
    "```\n",
    "\n",
    "A named lambda expression would perhaps resemeble this:\n",
    "\n",
    "```python\n",
    "print = lambda *args, **kwargs: window['-ML1-' + sg.WRITE_ONLY_KEY].print(*args, **kwargs)\n",
    "```"
   ]
  },
  {
   "cell_type": "code",
   "execution_count": 5,
   "id": "71e21a88",
   "metadata": {},
   "outputs": [],
   "source": [
    "import PySimpleGUI as sg\n",
    "\n",
    "\n",
    "def mprint(*args, **kwargs):\n",
    "    window['-ML1-'+sg.WRITE_ONLY_KEY].print(*args, **kwargs)\n",
    "\n",
    "print = mprint\n",
    "\n",
    "# Optionally could use this lambda instead of the mprint function\n",
    "# print = lambda *args, **kwargs: window['-ML1-' + sg.WRITE_ONLY_KEY].print(*args, **kwargs)\n",
    "\n",
    "layout = [  \n",
    "    [sg.Text('Demonstration of Multiline Element Printing')],\n",
    "    [sg.MLine(key='-ML1-'+sg.WRITE_ONLY_KEY, size=(40, 8))],\n",
    "    [sg.MLine(key='-ML2-'+sg.WRITE_ONLY_KEY, size=(40, 8))],\n",
    "    [sg.Button('Go'), sg.Button('Exit')]\n",
    "] \n",
    "\n",
    "window = sg.Window('Window Title', layout, finalize=True)\n",
    "\n",
    "print(1,2,3,4, end='', text_color='red', background_color='yellow')\n",
    "print('\\n', end='')\n",
    "print(1,2,3,4, text_color='white', background_color='green')\n",
    "\n",
    "# Switch to printing to second multiline\n",
    "print2 = lambda *args, **kwargs: window['-ML2-' + sg.WRITE_ONLY_KEY].print(*args, **kwargs)\n",
    "\n",
    "counter = 0\n",
    "while True:             # Event Loop\n",
    "    event, values = window.read(timeout=100)\n",
    "    if event in (sg.WIN_CLOSED, 'Exit'):\n",
    "        break\n",
    "    if event == 'Go':\n",
    "        print(event, values, text_color='red')\n",
    "    print2(counter)\n",
    "    counter += 1\n",
    "    \n",
    "window.close()"
   ]
  },
  {
   "cell_type": "code",
   "execution_count": 6,
   "id": "08a26b7d",
   "metadata": {},
   "outputs": [],
   "source": [
    "%reset -f"
   ]
  },
  {
   "cell_type": "markdown",
   "id": "704644b0",
   "metadata": {},
   "source": [
    "### Rerouting `stdout` and `stderr` directly to a `Multiline`"
   ]
  },
  {
   "cell_type": "markdown",
   "id": "6b0e1613",
   "metadata": {},
   "source": [
    "The eaiest way to make this happen is using parmaters when creating the `Multline` Element\n",
    "\n",
    "```python\n",
    "reroute_stdout\n",
    "reroute_stderr\n",
    "```\n",
    "\n",
    "If you wish to reroute `stdout`/`stderr` after you've already created (and finalized) the `Multline`, then you can call `reroute_stdout_to_here` to reroute `stdeout` and `reroute_stderr_to_here` to reroute `stderr`.\n",
    "\n",
    "To restore the old values back, be sure and call `restore_stdout` and `restore_stderr`\n",
    "\n",
    "If programs outside of your control are running threads and they happen to call `print`, then the `stdout` will be routed to the window. This MAY cause `tkinter` to crash."
   ]
  },
  {
   "cell_type": "markdown",
   "id": "b3054f6c",
   "metadata": {},
   "source": [
    "### Using `cprint` function (color printing) to print to `Multiline`"
   ]
  },
  {
   "cell_type": "markdown",
   "id": "2d185dfb",
   "metadata": {},
   "source": [
    "There are 2 ways to do routing.\n",
    "\n",
    "1. Call `cprint_set_output_destination(window, multiline_key)` to tell `PySimpleGUI` where the output should go\n",
    "1. Indicate the output location directly in the `cprint` call itself\n",
    "\n",
    "The color portion of the `cprint` call is achieved through additional parameters that are not normally present on a call to print.\n",
    "This means that if you use these color parameters, you cannot simply rename your `cprint` calls to be `print` calls."
   ]
  },
  {
   "cell_type": "code",
   "execution_count": 10,
   "id": "7af683a7",
   "metadata": {},
   "outputs": [],
   "source": [
    "import PySimpleGUI as sg\n",
    "\n",
    "\"\"\"\n",
    "    Demo - cprint usage\n",
    "\n",
    "    \"Print\" to any Multiline Element in any of your windows.\n",
    "\n",
    "    cprint in a really handy way to \"print\" to any multiline element in any one of your windows.\n",
    "    There is an initial call - cprint_set_output_destination, where you set the output window and the key\n",
    "    for the Multiline Element.\n",
    "\n",
    "    There are FOUR different ways to indicate the color, from verbose to the most minimal are:\n",
    "    1. Specify text_color and background_color in the cprint call\n",
    "    2. Specify t, b paramters when calling cprint\n",
    "    3. Specify c/colors parameter a tuple with (text color, background color)\n",
    "    4. Specify c/colors parameter as a string \"text on background\"  e.g.  \"white on red\"\n",
    "\n",
    "    Copyright 2020 PySimpleGUI.org\n",
    "\"\"\"\n",
    "\n",
    "def main():\n",
    "    \n",
    "    cprint = sg.cprint\n",
    "\n",
    "    MLINE_KEY1 = '-ML1-'+sg.WRITE_ONLY_KEY # multiline element's key. Indicate it's an output only element\n",
    "    MLINE_KEY2 = '-ML2-'+sg.WRITE_ONLY_KEY # multiline element's key. Indicate it's an output only element\n",
    "\n",
    "    output_key = MLINE_KEY1\n",
    "\n",
    "    layout = [  \n",
    "        [sg.Text('Multiline Color Print Demo', font='Any 18')],\n",
    "        [sg.Multiline('Multiline1\\n', size=(80 ,20), key=MLINE_KEY1)],\n",
    "        [sg.Multiline('Multiline2\\n', size=(80, 20), key=MLINE_KEY2)],\n",
    "        [sg.Text('Text color:'), sg.Input(size=(12, 1), key='-TEXT COLOR-'),\n",
    "         sg.Text('on Background color:'), sg.Input(size=(12,1), key='-BG COLOR-')],\n",
    "        [sg.Input('Type text to output here', size=(80, 1), key='-IN-')],\n",
    "        [sg.Button('Print', bind_return_key=True), \n",
    "         sg.Button('Print short'),\n",
    "         sg.Button('Force 1'), \n",
    "         sg.Button('Force 2'),\n",
    "         sg.Button('Use Input for colors'), \n",
    "         sg.Button('Toggle Output Location'), \n",
    "         sg.Button('Exit')]  \n",
    "    ]\n",
    "\n",
    "    window = sg.Window('Multiline Color Print Demo', layout)\n",
    "\n",
    "    sg.cprint_set_output_destination(window, output_key)\n",
    "\n",
    "    while True:             # Event Loop\n",
    "        event, values = window.read()\n",
    "        if event in (sg.WIN_CLOSED, 'Exit'):\n",
    "            break\n",
    "        if event == 'Print':\n",
    "            cprint(values['-IN-'], text_color=values['-TEXT COLOR-'], background_color=values['-BG COLOR-'])\n",
    "        elif event == 'Print short':\n",
    "            cprint(values['-IN-'], c=(values['-TEXT COLOR-'], values['-BG COLOR-']))\n",
    "        elif event.startswith('Use Input'):\n",
    "            cprint(values['-IN-'], colors=(values['-TEXT COLOR-'], values['-BG COLOR-']))\n",
    "        elif event.startswith('Toggle'):\n",
    "            output_key = MLINE_KEY1 if output_key == MLINE_KEY2 else MLINE_KEY2\n",
    "            sg.cprint_set_output_destination(window, output_key)\n",
    "            cprint('Switched to this output element', c='white on red')\n",
    "        elif event == 'Force 1':\n",
    "            cprint(values['-IN-'], c=(values['-TEXT COLOR-'], values['-BG COLOR-']), key=MLINE_KEY1)\n",
    "        elif event == 'Force 2':\n",
    "            cprint(values['-IN-'], c=(values['-TEXT COLOR-'], values['-BG COLOR-']), key=MLINE_KEY2)\n",
    "    \n",
    "    window.close()\n",
    "\n",
    "if __name__ == '__main__':\n",
    "    \n",
    "    main()"
   ]
  },
  {
   "cell_type": "code",
   "execution_count": 11,
   "id": "0ce05b00",
   "metadata": {},
   "outputs": [],
   "source": [
    "%reset -f"
   ]
  },
  {
   "cell_type": "markdown",
   "id": "8a5325f8",
   "metadata": {},
   "source": [
    "### Using `cprint` with `Multiline` Parameters"
   ]
  },
  {
   "cell_type": "markdown",
   "id": "b07a0349",
   "metadata": {},
   "source": [
    "Rather than calling the `cprint_set_output_destination` function, you will use the `Multline` element's initial parameters to both setup the routing of the `print` output, but also mark the element as being a write-only element. You can set the parameter `write_only` to `True` in order to make this a write-only `Multiline`.\n",
    "\n",
    "The new parameters you'll be interested in are:\n",
    "\n",
    "1. `write_only`\n",
    "1. `auto_refresh`\n",
    "1. `reroute_cprint`\n",
    "\n",
    "This will cut out the call previously required to set up the routing. You will continue to be able to manually route stdout and stderr to the `Multline` uning the `reroute_stdout_to_here` call"
   ]
  },
  {
   "cell_type": "code",
   "execution_count": 2,
   "id": "d5d07de7",
   "metadata": {},
   "outputs": [
    {
     "name": "stderr",
     "output_type": "stream",
     "text": [
      "Exception in thread Thread-6:\n",
      "Traceback (most recent call last):\n",
      "  File \"/Users/kyyoo/opt/anaconda3/lib/python3.8/threading.py\", line 932, in _bootstrap_inner\n",
      "    self.run()\n",
      "  File \"/Users/kyyoo/opt/anaconda3/lib/python3.8/threading.py\", line 870, in run\n",
      "    self._target(*self._args, **self._kwargs)\n",
      "  File \"/var/folders/4x/8kn2nym12cn7x7qmg_6s4b8h0000gn/T/ipykernel_57079/3735189485.py\", line 34, in the_thread\n",
      "  File \"/Users/kyyoo/opt/anaconda3/lib/python3.8/site-packages/PySimpleGUI/PySimpleGUI.py\", line 11545, in write_event_value\n",
      "    self.TKroot.tk.willdispatch()  # brilliant bit of code provided by Giuliano who I owe a million thank yous!\n",
      "AttributeError: 'NoneType' object has no attribute 'tk'\n",
      "Exception in thread Thread-7:\n",
      "Traceback (most recent call last):\n",
      "  File \"/Users/kyyoo/opt/anaconda3/lib/python3.8/threading.py\", line 932, in _bootstrap_inner\n",
      "    self.run()\n",
      "  File \"/Users/kyyoo/opt/anaconda3/lib/python3.8/threading.py\", line 870, in run\n",
      "    self._target(*self._args, **self._kwargs)\n",
      "  File \"/var/folders/4x/8kn2nym12cn7x7qmg_6s4b8h0000gn/T/ipykernel_57079/3735189485.py\", line 34, in the_thread\n",
      "  File \"/Users/kyyoo/opt/anaconda3/lib/python3.8/site-packages/PySimpleGUI/PySimpleGUI.py\", line 11545, in write_event_value\n",
      "    self.TKroot.tk.willdispatch()  # brilliant bit of code provided by Giuliano who I owe a million thank yous!\n",
      "AttributeError: 'NoneType' object has no attribute 'tk'\n"
     ]
    }
   ],
   "source": [
    "import threading\n",
    "import time\n",
    "import PySimpleGUI as sg\n",
    "\n",
    "\n",
    "\"\"\"\n",
    "    Threaded Demo - Uses Window.write_event_value communications\n",
    "\n",
    "    Requires PySimpleGUI.py version 4.25.0 and later\n",
    "\n",
    "    This is a really important demo to understand if you're going to be using multithreading in PySimpleGUI.\n",
    "\n",
    "    Older mechanisms for multi-threading in PySimpleGUI relied on polling of a queue. The management of a communications\n",
    "    queue is now performed internally to PySimpleGUI.\n",
    "\n",
    "    The importance of using the new window.write_event_value call cannot be emphasized enough. It will have a HUGE impact, in\n",
    "    a positive way, on your code to move to this mechanism as your code will simply \"pend\" waiting for an event rather than polling.\n",
    "\n",
    "    Copyright 2020 PySimpleGUI.org\n",
    "\"\"\"\n",
    "\n",
    "THREAD_EVENT = '-THREAD-'\n",
    "\n",
    "cp = sg.cprint\n",
    "\n",
    "def the_thread(window):\n",
    "    \"\"\"\n",
    "    The thread that communicates with the application through the window's events.\n",
    "    Once a second wakes and sends a new event and associated value to the window\n",
    "    \"\"\"\n",
    "    i = 0\n",
    "    while True:\n",
    "        time.sleep(1)\n",
    "        window.write_event_value('-THREAD-', (threading.current_thread().name, i))  # Data sent is a tuple of thread name and counter\n",
    "        cp('This is cheating from the thread', c='white on green')\n",
    "        i += 1\n",
    "\n",
    "\n",
    "def main():\n",
    "    \"\"\"\n",
    "    The demo will display in the multiline info about the event and values dictionary \n",
    "    as it is being returned from window.read()\n",
    "    Every time \"Start\" is clicked a new thread is started\n",
    "    Try clicking \"Dummy\" to see that the window is active while the thread stuff is happening in the background\n",
    "    \"\"\"\n",
    "\n",
    "    layout = [  \n",
    "        [sg.Text('Output Area - cprint\\'s route to here', font='Any 15')],\n",
    "        [sg.Multiline(size=(65, 20), key='-ML-', autoscroll=True, reroute_stdout=True, write_only=True, reroute_cprint=True)],\n",
    "        [sg.T('Input so you can see data in your dictionary')],\n",
    "        [sg.Input(key='-IN-', size=(30, 1))],\n",
    "        [sg.B('Start A Thread'), sg.B('Dummy'), sg.Button('Exit')]  \n",
    "    ]\n",
    "\n",
    "    window = sg.Window('Window Title', layout)\n",
    "\n",
    "    while True:             # Event Loop\n",
    "        event, values = window.read()\n",
    "        cp(event, values)\n",
    "        if event in (sg.WIN_CLOSED, 'Exit'):\n",
    "            break\n",
    "        if event.startswith('Start'):\n",
    "            threading.Thread(target=the_thread, args=(window,), daemon=True).start()\n",
    "        if event == THREAD_EVENT:\n",
    "            cp(f'Data from the thread ', colors='white on purple', end='')\n",
    "            cp(f'{values[THREAD_EVENT]}', colors='white on red')\n",
    "            \n",
    "    window.close()\n",
    "\n",
    "\n",
    "if __name__ == '__main__':\n",
    "    \n",
    "    main()"
   ]
  },
  {
   "cell_type": "code",
   "execution_count": null,
   "id": "b6a43c01",
   "metadata": {},
   "outputs": [],
   "source": []
  }
 ],
 "metadata": {
  "kernelspec": {
   "display_name": "Python 3 (ipykernel)",
   "language": "python",
   "name": "python3"
  },
  "language_info": {
   "codemirror_mode": {
    "name": "ipython",
    "version": 3
   },
   "file_extension": ".py",
   "mimetype": "text/x-python",
   "name": "python",
   "nbconvert_exporter": "python",
   "pygments_lexer": "ipython3",
   "version": "3.8.12"
  }
 },
 "nbformat": 4,
 "nbformat_minor": 5
}
