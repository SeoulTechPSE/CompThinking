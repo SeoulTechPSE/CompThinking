{
 "cells": [
  {
   "cell_type": "markdown",
   "id": "8ab6253b",
   "metadata": {},
   "source": [
    "## 3. Elements"
   ]
  },
  {
   "cell_type": "code",
   "execution_count": null,
   "id": "c9bb64a2",
   "metadata": {},
   "outputs": [],
   "source": [
    "import PySimpleGUI as sg"
   ]
  },
  {
   "cell_type": "markdown",
   "id": "308fe23d",
   "metadata": {},
   "source": [
    "### Button"
   ]
  },
  {
   "cell_type": "code",
   "execution_count": null,
   "id": "5b4bc708",
   "metadata": {},
   "outputs": [],
   "source": [
    "layout = [\n",
    "    [sg.Button('Button', size=(10, 2))]\n",
    "]"
   ]
  },
  {
   "cell_type": "code",
   "execution_count": null,
   "id": "1a623751",
   "metadata": {},
   "outputs": [],
   "source": [
    "window = sg.Window('Buttons', layout)"
   ]
  },
  {
   "cell_type": "code",
   "execution_count": null,
   "id": "9d1c7339",
   "metadata": {},
   "outputs": [],
   "source": [
    "event, values = window.read()\n",
    "window.close()\n",
    "print(event, values)"
   ]
  },
  {
   "cell_type": "markdown",
   "id": "6f6bbd22",
   "metadata": {},
   "source": [
    "---"
   ]
  },
  {
   "cell_type": "code",
   "execution_count": null,
   "id": "d380d54f",
   "metadata": {},
   "outputs": [],
   "source": [
    "layout = [\n",
    "    [sg.Button('Button', size=(10, 2))],    \n",
    "    [sg.Btn('Btn', size=(10, 2), button_color=('blue', 'green'))],\n",
    "]"
   ]
  },
  {
   "cell_type": "code",
   "execution_count": null,
   "id": "f8ed1d2f",
   "metadata": {},
   "outputs": [],
   "source": [
    "window = sg.Window('Buttons', layout)"
   ]
  },
  {
   "cell_type": "code",
   "execution_count": null,
   "id": "f1008a2e",
   "metadata": {},
   "outputs": [],
   "source": [
    "event, values = window.read()\n",
    "window.close()\n",
    "print(event, values)"
   ]
  },
  {
   "cell_type": "markdown",
   "id": "fffe70ee",
   "metadata": {},
   "source": [
    "---"
   ]
  },
  {
   "cell_type": "code",
   "execution_count": null,
   "id": "4bcafb9f",
   "metadata": {},
   "outputs": [],
   "source": [
    "layout = [\n",
    "    [sg.Button('Button', size=(10, 2))],\n",
    "    [sg.Btn('Btn', size=(10, 2), button_color=('blue', 'green'))],\n",
    "    [sg.B('B')],\n",
    "    [sg.OK(), sg.Cancel()],\n",
    "    [sg.Yes(), sg.No()]\n",
    "]"
   ]
  },
  {
   "cell_type": "code",
   "execution_count": null,
   "id": "cc9fdced",
   "metadata": {},
   "outputs": [],
   "source": [
    "window = sg.Window('Buttons', layout)"
   ]
  },
  {
   "cell_type": "code",
   "execution_count": null,
   "id": "0b8ee905",
   "metadata": {},
   "outputs": [],
   "source": [
    "event, values = window.read()\n",
    "window.close()\n",
    "print(event, values)"
   ]
  },
  {
   "cell_type": "markdown",
   "id": "d67b72b0",
   "metadata": {},
   "source": [
    "### ButtonMenu"
   ]
  },
  {
   "cell_type": "code",
   "execution_count": null,
   "id": "3b1d40c4",
   "metadata": {},
   "outputs": [],
   "source": [
    "menu = ['Menu', ['File', 'Edit', 'View', ['List', 'Details', 'Full']]]"
   ]
  },
  {
   "cell_type": "code",
   "execution_count": null,
   "id": "d9abf913",
   "metadata": {},
   "outputs": [],
   "source": [
    "layout = [\n",
    "    [sg.ButtonMenu('Menu', menu_def=menu)]\n",
    "]"
   ]
  },
  {
   "cell_type": "code",
   "execution_count": null,
   "id": "d1ea04ff",
   "metadata": {},
   "outputs": [],
   "source": [
    "window = sg.Window('ButtonMenu', layout)"
   ]
  },
  {
   "cell_type": "code",
   "execution_count": null,
   "id": "96589312",
   "metadata": {},
   "outputs": [],
   "source": [
    "event, values = window.read()\n",
    "window.close()\n",
    "print(event, values)"
   ]
  },
  {
   "cell_type": "markdown",
   "id": "d28e637b",
   "metadata": {},
   "source": [
    "### Canvas"
   ]
  },
  {
   "cell_type": "code",
   "execution_count": null,
   "id": "901a9b09",
   "metadata": {},
   "outputs": [],
   "source": [
    "layout = [\n",
    "    [sg.Canvas(size=(100, 100), background_color='blue', key='-CANVAS-')],\n",
    "    [sg.OK(), sg.Cancel()]\n",
    "]"
   ]
  },
  {
   "cell_type": "code",
   "execution_count": null,
   "id": "d93e0e5c",
   "metadata": {},
   "outputs": [],
   "source": [
    "window = sg.Window('Canvas', layout)\n",
    "window.finalize()"
   ]
  },
  {
   "cell_type": "code",
   "execution_count": null,
   "id": "cd76f36d",
   "metadata": {},
   "outputs": [],
   "source": [
    "canvas = window['-CANVAS-']\n",
    "cir = canvas.TKCanvas.create_oval(25, 25, 75, 75)"
   ]
  },
  {
   "cell_type": "code",
   "execution_count": null,
   "id": "236a4486",
   "metadata": {},
   "outputs": [],
   "source": [
    "event, values = window.read()\n",
    "window.close()\n",
    "print(event, values)"
   ]
  },
  {
   "cell_type": "markdown",
   "id": "56e1c4ad",
   "metadata": {},
   "source": [
    "### CheckBox"
   ]
  },
  {
   "cell_type": "code",
   "execution_count": null,
   "id": "4dd224fc",
   "metadata": {},
   "outputs": [],
   "source": [
    "layout = [\n",
    "    [sg.Checkbox('Checkbox', key='-CHECK1-')],\n",
    "    [sg.CBox('CBox', key='-CHECK2-')],\n",
    "    [sg.CB('CB', key='-CHECK3-')],\n",
    "    [sg.OK(), sg.Cancel()]\n",
    "]"
   ]
  },
  {
   "cell_type": "code",
   "execution_count": null,
   "id": "964f0725",
   "metadata": {},
   "outputs": [],
   "source": [
    "window = sg.Window('CheckBox', layout)"
   ]
  },
  {
   "cell_type": "code",
   "execution_count": null,
   "id": "7fc551a1",
   "metadata": {},
   "outputs": [],
   "source": [
    "event, values = window.read()\n",
    "window.close()\n",
    "print(event, values)"
   ]
  },
  {
   "cell_type": "markdown",
   "id": "d71c169c",
   "metadata": {},
   "source": [
    "### Column"
   ]
  },
  {
   "cell_type": "code",
   "execution_count": null,
   "id": "a144c037",
   "metadata": {},
   "outputs": [],
   "source": [
    "col1 = [\n",
    "    [sg.Checkbox('Checkbox-L', key='-CHECK1L-')],\n",
    "    [sg.CBox('CBox-L', key='-CHECK2L-')],\n",
    "    [sg.CB('CB-L', key='-CHECK3L-')]\n",
    "]"
   ]
  },
  {
   "cell_type": "code",
   "execution_count": null,
   "id": "19e7d63a",
   "metadata": {},
   "outputs": [],
   "source": [
    "col2 = [\n",
    "    [sg.Checkbox('Checkbox-R', key='-CHECK1R-')],\n",
    "    [sg.CBox('CBox-R', key='-CHECK2R-')],\n",
    "    [sg.CB('CB-R', key='-CHECK3R-')]\n",
    "]"
   ]
  },
  {
   "cell_type": "code",
   "execution_count": null,
   "id": "3db78266",
   "metadata": {},
   "outputs": [],
   "source": [
    "layout = [\n",
    "    [sg.Column(col1), sg.VerticalSeparator(), sg.Column(col2)],\n",
    "    [sg.OK(), sg.Cancel()]\n",
    "]"
   ]
  },
  {
   "cell_type": "code",
   "execution_count": null,
   "id": "70c6fc2f",
   "metadata": {},
   "outputs": [],
   "source": [
    "window = sg.Window('Column', layout)"
   ]
  },
  {
   "cell_type": "code",
   "execution_count": null,
   "id": "13ec95d0",
   "metadata": {},
   "outputs": [],
   "source": [
    "event, values = window.read()\n",
    "window.close()\n",
    "print(event, values)"
   ]
  },
  {
   "cell_type": "markdown",
   "id": "def8b903",
   "metadata": {},
   "source": [
    "### ComboBox"
   ]
  },
  {
   "cell_type": "code",
   "execution_count": null,
   "id": "a7acce38",
   "metadata": {},
   "outputs": [],
   "source": [
    "data = list('abcdefg')"
   ]
  },
  {
   "cell_type": "code",
   "execution_count": null,
   "id": "d90f87ee",
   "metadata": {},
   "outputs": [],
   "source": [
    "layout = [\n",
    "    [sg.Combo(values=data, size=(5, 4), default_value=data[0])],\n",
    "    [sg.OK(), sg.Cancel()]\n",
    "]"
   ]
  },
  {
   "cell_type": "code",
   "execution_count": null,
   "id": "62164cad",
   "metadata": {},
   "outputs": [],
   "source": [
    "window = sg.Window('ComboBox', layout)"
   ]
  },
  {
   "cell_type": "code",
   "execution_count": null,
   "id": "83973b73",
   "metadata": {},
   "outputs": [],
   "source": [
    "event, values = window.read()\n",
    "window.close()\n",
    "print(event, values)"
   ]
  },
  {
   "cell_type": "markdown",
   "id": "033e96ae",
   "metadata": {},
   "source": [
    "### Frame"
   ]
  },
  {
   "cell_type": "code",
   "execution_count": null,
   "id": "acc3bacd",
   "metadata": {},
   "outputs": [],
   "source": [
    "data = list('abcdefg')"
   ]
  },
  {
   "cell_type": "code",
   "execution_count": null,
   "id": "3107f212",
   "metadata": {},
   "outputs": [],
   "source": [
    "frame = [\n",
    "    [sg.Combo(values=data, size=(5, 4), default_value=data[0])],\n",
    "    [sg.CB('checkbox-l'), sg.CB('checkbox-r')]\n",
    "]"
   ]
  },
  {
   "cell_type": "code",
   "execution_count": null,
   "id": "bed76986",
   "metadata": {},
   "outputs": [],
   "source": [
    "layout = [\n",
    "    [sg.Frame('My Frame', frame)],\n",
    "    [sg.OK(), sg.Cancel()]    \n",
    "]"
   ]
  },
  {
   "cell_type": "code",
   "execution_count": null,
   "id": "b34cc2e7",
   "metadata": {},
   "outputs": [],
   "source": [
    "window = sg.Window('Frame', layout)"
   ]
  },
  {
   "cell_type": "code",
   "execution_count": null,
   "id": "6cde7c1c",
   "metadata": {},
   "outputs": [],
   "source": [
    "event, values = window.read()\n",
    "window.close()\n",
    "print(event, values)"
   ]
  },
  {
   "cell_type": "markdown",
   "id": "aca2d4c3",
   "metadata": {},
   "source": [
    "###  Horizontal Separator"
   ]
  },
  {
   "cell_type": "code",
   "execution_count": null,
   "id": "296910cb",
   "metadata": {},
   "outputs": [],
   "source": [
    "data = list('abcdefg')"
   ]
  },
  {
   "cell_type": "code",
   "execution_count": null,
   "id": "eb623348",
   "metadata": {},
   "outputs": [],
   "source": [
    "layout = [\n",
    "    [sg.Combo(values=data, size=(5, 4), default_value=data[0])],\n",
    "    [sg.HorizontalSeparator()],\n",
    "    [sg.OK(), sg.Cancel()]\n",
    "]"
   ]
  },
  {
   "cell_type": "code",
   "execution_count": null,
   "id": "bd3f05c0",
   "metadata": {},
   "outputs": [],
   "source": [
    "window = sg.Window('HSeparator', layout)"
   ]
  },
  {
   "cell_type": "code",
   "execution_count": null,
   "id": "0c0b9f33",
   "metadata": {},
   "outputs": [],
   "source": [
    "event, values = window.read()\n",
    "window.close()\n",
    "print(event, values)"
   ]
  },
  {
   "cell_type": "markdown",
   "id": "2a14ee9a",
   "metadata": {},
   "source": [
    "### Image"
   ]
  },
  {
   "cell_type": "code",
   "execution_count": null,
   "id": "b17f7683",
   "metadata": {},
   "outputs": [],
   "source": [
    "layout = [\n",
    "    [sg.Image('./figs/PySimpleGUI_logo.png')],\n",
    "    [sg.OK(), sg.Cancel()]\n",
    "]"
   ]
  },
  {
   "cell_type": "code",
   "execution_count": null,
   "id": "91e38de5",
   "metadata": {},
   "outputs": [],
   "source": [
    "window = sg.Window('Image', layout)"
   ]
  },
  {
   "cell_type": "code",
   "execution_count": null,
   "id": "7eeaf376",
   "metadata": {},
   "outputs": [],
   "source": [
    "event, values = window.read()\n",
    "window.close()\n",
    "print(event, values)"
   ]
  },
  {
   "cell_type": "markdown",
   "id": "f3f48c67",
   "metadata": {},
   "source": [
    "### Input"
   ]
  },
  {
   "cell_type": "code",
   "execution_count": null,
   "id": "b2453e53",
   "metadata": {},
   "outputs": [],
   "source": [
    "layout = [\n",
    "    [sg.Text('Input-1'), sg.Input(key='-IN1-')],\n",
    "    [sg.Text('Input-2'), sg.Input(key='-IN2-')],\n",
    "    [sg.Text('Input-3'), sg.Input(key='-IN4-')],    \n",
    "    [sg.OK(), sg.Cancel()]    \n",
    "]"
   ]
  },
  {
   "cell_type": "code",
   "execution_count": null,
   "id": "58f01051",
   "metadata": {},
   "outputs": [],
   "source": [
    "window = sg.Window('Input', layout)"
   ]
  },
  {
   "cell_type": "code",
   "execution_count": null,
   "id": "d205e753",
   "metadata": {},
   "outputs": [],
   "source": [
    "event, values = window.read()\n",
    "window.close()\n",
    "print(event, values)"
   ]
  },
  {
   "cell_type": "markdown",
   "id": "165afae4",
   "metadata": {},
   "source": [
    "### ListBox"
   ]
  },
  {
   "cell_type": "code",
   "execution_count": null,
   "id": "0f520b53",
   "metadata": {},
   "outputs": [],
   "source": [
    "data = list('abcdefg')"
   ]
  },
  {
   "cell_type": "code",
   "execution_count": null,
   "id": "83b08308",
   "metadata": {},
   "outputs": [],
   "source": [
    "layout = [\n",
    "    [sg.Listbox(values=data, size=(5, 4))],\n",
    "    [sg.OK(), sg.Cancel()]\n",
    "]"
   ]
  },
  {
   "cell_type": "code",
   "execution_count": null,
   "id": "8d23793c",
   "metadata": {},
   "outputs": [],
   "source": [
    "window = sg.Window('ListboBox', layout)"
   ]
  },
  {
   "cell_type": "code",
   "execution_count": null,
   "id": "b83655f6",
   "metadata": {},
   "outputs": [],
   "source": [
    "event, values = window.read()\n",
    "window.close()\n",
    "print(event, values)"
   ]
  },
  {
   "cell_type": "markdown",
   "id": "fef59e28",
   "metadata": {},
   "source": [
    "### Menu"
   ]
  },
  {
   "cell_type": "code",
   "execution_count": null,
   "id": "ad511f57",
   "metadata": {},
   "outputs": [],
   "source": [
    "menu = [\n",
    "    ['&File', ['!&Open', '&Save', '---', 'E&xit']],\n",
    "    ['&Edit', ['Copy', 'Paste']]\n",
    "]"
   ]
  },
  {
   "cell_type": "code",
   "execution_count": null,
   "id": "fc089ffc",
   "metadata": {},
   "outputs": [],
   "source": [
    "layout = [\n",
    "    [sg.Menu(menu)],\n",
    "    [sg.OK(), sg.Cancel()]\n",
    "]"
   ]
  },
  {
   "cell_type": "code",
   "execution_count": null,
   "id": "100b6c43",
   "metadata": {},
   "outputs": [],
   "source": [
    "window = sg.Window('Menu', layout)"
   ]
  },
  {
   "cell_type": "code",
   "execution_count": null,
   "id": "4e728a10",
   "metadata": {},
   "outputs": [],
   "source": [
    "event, values = window.read()\n",
    "window.close()\n",
    "print(event, values)"
   ]
  },
  {
   "cell_type": "markdown",
   "id": "60d37758",
   "metadata": {},
   "source": [
    "### Multiline"
   ]
  },
  {
   "cell_type": "code",
   "execution_count": null,
   "id": "6f68ec47",
   "metadata": {},
   "outputs": [],
   "source": [
    "layout = [\n",
    "    [sg.Multiline(size=(100, 20))],\n",
    "    [sg.OK(), sg.Cancel()]\n",
    "]"
   ]
  },
  {
   "cell_type": "code",
   "execution_count": null,
   "id": "78631883",
   "metadata": {},
   "outputs": [],
   "source": [
    "window = sg.Window('Multiline', layout)"
   ]
  },
  {
   "cell_type": "code",
   "execution_count": null,
   "id": "d7f96553",
   "metadata": {},
   "outputs": [],
   "source": [
    "event, values = window.read()\n",
    "window.close()\n",
    "print(event, values)"
   ]
  },
  {
   "cell_type": "markdown",
   "id": "2db7ab46",
   "metadata": {},
   "source": [
    "### Output Element"
   ]
  },
  {
   "cell_type": "code",
   "execution_count": null,
   "id": "1a715240",
   "metadata": {},
   "outputs": [],
   "source": [
    "layout = [\n",
    "    [sg.Output(size=(100, 20))],\n",
    "    [sg.OK(), sg.Cancel()]\n",
    "]"
   ]
  },
  {
   "cell_type": "code",
   "execution_count": null,
   "id": "bfbdd226",
   "metadata": {},
   "outputs": [],
   "source": [
    "window = sg.Window('Output', layout)"
   ]
  },
  {
   "cell_type": "code",
   "execution_count": null,
   "id": "628ae01d",
   "metadata": {},
   "outputs": [],
   "source": [
    "event, values = window.read()\n",
    "if event == 'OK':\n",
    "    for i in range(100):\n",
    "        print(i)"
   ]
  },
  {
   "cell_type": "code",
   "execution_count": null,
   "id": "6a667754",
   "metadata": {},
   "outputs": [],
   "source": [
    "window.close()\n",
    "print(event, values)"
   ]
  },
  {
   "cell_type": "markdown",
   "id": "b4220a11",
   "metadata": {},
   "source": [
    "### Progress"
   ]
  },
  {
   "cell_type": "code",
   "execution_count": null,
   "id": "e5c69cbb",
   "metadata": {},
   "outputs": [],
   "source": [
    "layout = [\n",
    "    [sg.ProgressBar(max_value=1000, orientation='h', size=(20, 20), key='-PROG-')],\n",
    "    [sg.OK(), sg.Cancel()]\n",
    "]"
   ]
  },
  {
   "cell_type": "code",
   "execution_count": null,
   "id": "462f8f47",
   "metadata": {},
   "outputs": [],
   "source": [
    "window = sg.Window('Progress', layout)"
   ]
  },
  {
   "cell_type": "code",
   "execution_count": null,
   "id": "8743f17e",
   "metadata": {},
   "outputs": [],
   "source": [
    "for i in range(1000):\n",
    "    event, values = window.read(timeout=1)\n",
    "    if event in (None, 'Cancel'):\n",
    "        break\n",
    "    window['-PROG-'].update(i + 1)\n",
    "window.close()"
   ]
  },
  {
   "cell_type": "markdown",
   "id": "8eaec922",
   "metadata": {},
   "source": [
    "### Radio Button"
   ]
  },
  {
   "cell_type": "code",
   "execution_count": null,
   "id": "72969632",
   "metadata": {},
   "outputs": [],
   "source": [
    "col1 = [\n",
    "    [sg.Radio('Radio-1', group_id=1)],\n",
    "    [sg.Radio('Radio-2', group_id=1)],\n",
    "    [sg.Radio('Radio-3', group_id=1)]\n",
    "]"
   ]
  },
  {
   "cell_type": "code",
   "execution_count": null,
   "id": "3f85ee94",
   "metadata": {},
   "outputs": [],
   "source": [
    "col2 = [\n",
    "    [sg.Radio('Radio-4', group_id=2)],\n",
    "    [sg.Radio('Radio-5', group_id=2)],\n",
    "    [sg.Radio('Radio-6', group_id=2)]\n",
    "]"
   ]
  },
  {
   "cell_type": "code",
   "execution_count": null,
   "id": "52736dbe",
   "metadata": {},
   "outputs": [],
   "source": [
    "layout = [\n",
    "    [sg.Column(col1), sg.VerticalSeparator(), sg.Column(col2)],\n",
    "    [sg.OK(), sg.Cancel()]\n",
    "]"
   ]
  },
  {
   "cell_type": "code",
   "execution_count": null,
   "id": "a041fb33",
   "metadata": {},
   "outputs": [],
   "source": [
    "window = sg.Window('Column', layout)"
   ]
  },
  {
   "cell_type": "code",
   "execution_count": null,
   "id": "afe5f91c",
   "metadata": {},
   "outputs": [],
   "source": [
    "event, values = window.read()\n",
    "window.close()\n",
    "print(event, values)"
   ]
  },
  {
   "cell_type": "markdown",
   "id": "fbdeab65",
   "metadata": {},
   "source": [
    "### Slider"
   ]
  },
  {
   "cell_type": "code",
   "execution_count": null,
   "id": "fe59c81e",
   "metadata": {},
   "outputs": [],
   "source": [
    "layout = [\n",
    "    [sg.Slider(range=(1, 100), default_value=50, orientation='v')],\n",
    "    [sg.OK(), sg.Cancel()]\n",
    "]"
   ]
  },
  {
   "cell_type": "code",
   "execution_count": null,
   "id": "d59b3f93",
   "metadata": {},
   "outputs": [],
   "source": [
    "window = sg.Window('Slider', layout)"
   ]
  },
  {
   "cell_type": "code",
   "execution_count": null,
   "id": "04bd5b18",
   "metadata": {},
   "outputs": [],
   "source": [
    "event, values = window.read()\n",
    "window.close()\n",
    "print(event, values)"
   ]
  },
  {
   "cell_type": "markdown",
   "id": "83f604d1",
   "metadata": {},
   "source": [
    "### Spin"
   ]
  },
  {
   "cell_type": "code",
   "execution_count": null,
   "id": "31a12ac4",
   "metadata": {},
   "outputs": [],
   "source": [
    "layout = [\n",
    "    [sg.Spin(initial_value=3, values=list(range(1, 10)), size=(5, 5))],\n",
    "    [sg.OK(), sg.Cancel()]\n",
    "]"
   ]
  },
  {
   "cell_type": "code",
   "execution_count": null,
   "id": "4fd215cb",
   "metadata": {},
   "outputs": [],
   "source": [
    "window = sg.Window('Spin', layout)"
   ]
  },
  {
   "cell_type": "code",
   "execution_count": null,
   "id": "b06a15a1",
   "metadata": {},
   "outputs": [],
   "source": [
    "event, values = window.read()\n",
    "window.close()\n",
    "print(event, values)"
   ]
  },
  {
   "cell_type": "markdown",
   "id": "f76d1798",
   "metadata": {},
   "source": [
    "### Status Bar"
   ]
  },
  {
   "cell_type": "code",
   "execution_count": null,
   "id": "4c972dbe",
   "metadata": {},
   "outputs": [],
   "source": [
    "layout = [\n",
    "    [sg.Multiline(size=(50, 10))],\n",
    "    [sg.StatusBar('Hello!')],\n",
    "    [sg.OK(), sg.Cancel()]\n",
    "]"
   ]
  },
  {
   "cell_type": "code",
   "execution_count": null,
   "id": "e77074b4",
   "metadata": {},
   "outputs": [],
   "source": [
    "window = sg.Window('Status Bar', layout)"
   ]
  },
  {
   "cell_type": "code",
   "execution_count": null,
   "id": "fa5fcb6e",
   "metadata": {},
   "outputs": [],
   "source": [
    "event, values = window.read()\n",
    "window.close()\n",
    "print(event, values)"
   ]
  },
  {
   "cell_type": "markdown",
   "id": "4799d416",
   "metadata": {},
   "source": [
    "### Tabs"
   ]
  },
  {
   "cell_type": "code",
   "execution_count": null,
   "id": "c62d5679",
   "metadata": {},
   "outputs": [],
   "source": [
    "tab1 = [\n",
    "    [sg.Text('Tab 1 contents')],\n",
    "    [sg.I(size=(30, 1))],\n",
    "    [sg.Text('Name')],\n",
    "    [sg.I(size=(30, 1))],\n",
    "    [sg.Text('Name')],\n",
    "    [sg.I(size=(30, 1))]\n",
    "]"
   ]
  },
  {
   "cell_type": "code",
   "execution_count": null,
   "id": "87c791b5",
   "metadata": {},
   "outputs": [],
   "source": [
    "tab2 = [\n",
    "    [sg.Text('Tab 2 contents')],\n",
    "    [sg.I(size=(30, 1))],\n",
    "    [sg.Text('Name')],\n",
    "    [sg.I(size=(30, 1))]\n",
    "]"
   ]
  },
  {
   "cell_type": "code",
   "execution_count": null,
   "id": "3b3d23f6",
   "metadata": {},
   "outputs": [],
   "source": [
    "layout = [\n",
    "    [sg.TabGroup([[sg.Tab('Tab-1', tab1), sg.Tab('Tab-2', tab2)]])],\n",
    "    [sg.OK(), sg.Cancel()]\n",
    "]"
   ]
  },
  {
   "cell_type": "code",
   "execution_count": null,
   "id": "7a988e2e",
   "metadata": {},
   "outputs": [],
   "source": [
    "window = sg.Window('Tabs', layout)"
   ]
  },
  {
   "cell_type": "code",
   "execution_count": null,
   "id": "37dd9500",
   "metadata": {},
   "outputs": [],
   "source": [
    "event, values = window.read()\n",
    "window.close()\n",
    "print(event, values)"
   ]
  },
  {
   "cell_type": "markdown",
   "id": "b31bebfc",
   "metadata": {},
   "source": [
    "### Tables"
   ]
  },
  {
   "cell_type": "code",
   "execution_count": null,
   "id": "e4b6bc3a",
   "metadata": {},
   "outputs": [],
   "source": [
    "data = []\n",
    "for i in range(1, 11):\n",
    "    row = []\n",
    "    for j in range(1, 11):\n",
    "        row.append(i*j)\n",
    "    data.append(row)"
   ]
  },
  {
   "cell_type": "code",
   "execution_count": null,
   "id": "ee1f6380",
   "metadata": {},
   "outputs": [],
   "source": [
    "headings = [f'col-{i}' for i in range(1, 11)]"
   ]
  },
  {
   "cell_type": "code",
   "execution_count": null,
   "id": "ed7f74b7",
   "metadata": {},
   "outputs": [],
   "source": [
    "layout = [\n",
    "    [sg.Table(headings=headings, values=data)],\n",
    "    [sg.OK(), sg.Cancel()]\n",
    "]"
   ]
  },
  {
   "cell_type": "code",
   "execution_count": null,
   "id": "7eee3903",
   "metadata": {},
   "outputs": [],
   "source": [
    "window = sg.Window('Tables', layout)"
   ]
  },
  {
   "cell_type": "code",
   "execution_count": null,
   "id": "f2277163",
   "metadata": {},
   "outputs": [],
   "source": [
    "event, values = window.read()\n",
    "window.close()\n",
    "print(event, values)"
   ]
  },
  {
   "cell_type": "markdown",
   "id": "e0b81165",
   "metadata": {},
   "source": [
    "### Text"
   ]
  },
  {
   "cell_type": "code",
   "execution_count": null,
   "id": "0fcfe604",
   "metadata": {},
   "outputs": [],
   "source": [
    "layout = [\n",
    "    [sg.Text('Hello')],\n",
    "    [sg.T('Hello T')],\n",
    "    [sg.OK(), sg.Cancel()]\n",
    "]"
   ]
  },
  {
   "cell_type": "code",
   "execution_count": null,
   "id": "2a0fef12",
   "metadata": {},
   "outputs": [],
   "source": [
    "window = sg.Window('Text', layout)"
   ]
  },
  {
   "cell_type": "code",
   "execution_count": null,
   "id": "3105cbcc",
   "metadata": {},
   "outputs": [],
   "source": [
    "event, values = window.read()\n",
    "window.close()\n",
    "print(event, values)"
   ]
  },
  {
   "cell_type": "markdown",
   "id": "d8d62576",
   "metadata": {},
   "source": [
    "## More Buttons"
   ]
  },
  {
   "cell_type": "code",
   "execution_count": null,
   "id": "805771b0",
   "metadata": {},
   "outputs": [],
   "source": [
    "layout = [\n",
    "    [sg.Text('Please choose a file')],\n",
    "    [sg.I(key='-FILE-'), sg.FileBrowse('Browse', file_types=('Text Files,', '*.txt'))],\n",
    "    [sg.OK(), sg.Cancel()]\n",
    "]"
   ]
  },
  {
   "cell_type": "code",
   "execution_count": null,
   "id": "bc0ddfcf",
   "metadata": {},
   "outputs": [],
   "source": [
    "window = sg.Window('More Buttons', layout)"
   ]
  },
  {
   "cell_type": "code",
   "execution_count": null,
   "id": "c38d4624",
   "metadata": {},
   "outputs": [],
   "source": [
    "event, values = window.read()\n",
    "window.close()\n",
    "print(event, values)"
   ]
  },
  {
   "cell_type": "markdown",
   "id": "0c2cb0bc",
   "metadata": {},
   "source": [
    "---"
   ]
  },
  {
   "cell_type": "code",
   "execution_count": null,
   "id": "120fb523",
   "metadata": {},
   "outputs": [],
   "source": [
    "layout = [\n",
    "    [sg.Text('Please choose a file')],\n",
    "    [sg.I(key='-FILE-')], \n",
    "    [sg.FileBrowse('Browse', file_types=('Text Files,', '*.txt'), target='-FILE-')],\n",
    "    [sg.OK(), sg.Cancel()]\n",
    "]"
   ]
  },
  {
   "cell_type": "code",
   "execution_count": null,
   "id": "f3848f3f",
   "metadata": {},
   "outputs": [],
   "source": [
    "window = sg.Window('More Buttons', layout)"
   ]
  },
  {
   "cell_type": "code",
   "execution_count": null,
   "id": "1f6caf87",
   "metadata": {},
   "outputs": [],
   "source": [
    "event, values = window.read()\n",
    "window.close()\n",
    "print(event, values)"
   ]
  },
  {
   "cell_type": "markdown",
   "id": "ff3bedf5",
   "metadata": {},
   "source": [
    "---"
   ]
  },
  {
   "cell_type": "code",
   "execution_count": null,
   "id": "7c7a8b4d",
   "metadata": {},
   "outputs": [],
   "source": [
    "layout = [\n",
    "    [sg.CalendarButton('Calendar')],\n",
    "    [sg.Input(key='-IN-'), sg.ColorChooserButton('Color', target='-IN-')], \n",
    "    [sg.FilesBrowse('FilesBrowse')],\n",
    "    [sg.FileSaveAs('FileSaveAs')],\n",
    "    [sg.FolderBrowse('FolderBrowse')],\n",
    "    [sg.OK(), sg.Cancel()]\n",
    "]"
   ]
  },
  {
   "cell_type": "code",
   "execution_count": null,
   "id": "93c0e03d",
   "metadata": {},
   "outputs": [],
   "source": [
    "window = sg.Window('More Buttons', layout)"
   ]
  },
  {
   "cell_type": "code",
   "execution_count": null,
   "id": "971dd6bf",
   "metadata": {},
   "outputs": [],
   "source": [
    "event, values = window.read()\n",
    "window.close()\n",
    "print(event, values)"
   ]
  },
  {
   "cell_type": "markdown",
   "id": "603d7e75",
   "metadata": {},
   "source": [
    "---"
   ]
  },
  {
   "cell_type": "code",
   "execution_count": null,
   "id": "ea4a52c1",
   "metadata": {},
   "outputs": [],
   "source": [
    "sg.preview_all_look_and_feel_themes()"
   ]
  },
  {
   "cell_type": "code",
   "execution_count": null,
   "id": "b6432d7b",
   "metadata": {},
   "outputs": [],
   "source": [
    "sg.theme('Dark Brown')\n",
    "\n",
    "\n",
    "layout = [[sg.Text('Theme Browser')],\n",
    "          [sg.Text('Click a Theme color to see demo window')],\n",
    "          [sg.Listbox(values=sg.theme_list(), size=(20, 12), key='-LIST-', enable_events=True)],\n",
    "          [sg.Button('Exit')]]\n",
    "\n",
    "window = sg.Window('Theme Browser', layout)\n",
    "\n",
    "while True:  # Event Loop\n",
    "    event, values = window.read()\n",
    "    if event in (sg.WIN_CLOSED, 'Exit'):\n",
    "        break\n",
    "    sg.theme(values['-LIST-'][0])\n",
    "    sg.popup_get_text('This is {}'.format(values['-LIST-'][0]))\n",
    "\n",
    "window.close()"
   ]
  },
  {
   "cell_type": "markdown",
   "id": "42d7a166",
   "metadata": {},
   "source": [
    "```\n",
    " 'LightGreen3': {'BACKGROUND': '#A8C1B4',\n",
    "               'TEXT': 'black',\n",
    "               'INPUT': '#DDE0DE',\n",
    "               'SCROLL': '#E3E3E3',\n",
    "               'TEXT_INPUT': 'black',\n",
    "               'BUTTON': ('white', '#6D9F85'),\n",
    "               'PROGRESS': DEFAULT_PROGRESS_BAR_COLOR,\n",
    "               'BORDER': 1,\n",
    "               'SLIDER_DEPTH': 0,\n",
    "               'PROGRESS_DEPTH': 0}\n",
    "```"
   ]
  },
  {
   "cell_type": "markdown",
   "id": "63d9758c",
   "metadata": {},
   "source": [
    "---"
   ]
  }
 ],
 "metadata": {
  "kernelspec": {
   "display_name": "Python 3 (ipykernel)",
   "language": "python",
   "name": "python3"
  },
  "language_info": {
   "codemirror_mode": {
    "name": "ipython",
    "version": 3
   },
   "file_extension": ".py",
   "mimetype": "text/x-python",
   "name": "python",
   "nbconvert_exporter": "python",
   "pygments_lexer": "ipython3",
   "version": "3.8.12"
  }
 },
 "nbformat": 4,
 "nbformat_minor": 5
}
