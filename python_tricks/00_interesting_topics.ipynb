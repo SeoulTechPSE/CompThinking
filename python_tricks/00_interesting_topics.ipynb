{
 "cells": [
  {
   "cell_type": "markdown",
   "id": "87b4df67",
   "metadata": {},
   "source": [
    "## 01. `__new__` and `__init__`\n",
    "\n",
    "[Ref](https://dev.to/delta456/python-init-is-not-a-constructor-12on)"
   ]
  },
  {
   "cell_type": "markdown",
   "id": "34dbd4d3",
   "metadata": {},
   "source": [
    "* The `__new__` method is the constructor (it returns the new instance) while `__init__` is just a initializer (the instance is already created when `__init__` is called)"
   ]
  },
  {
   "cell_type": "code",
   "execution_count": 1,
   "id": "a2e41e2d",
   "metadata": {},
   "outputs": [],
   "source": [
    "class Point():\n",
    "    \n",
    "    def __new__(cls, *args, **kwargs):\n",
    "        \n",
    "        print(\"From new\\n\")\n",
    "        print(cls)\n",
    "        print(args)\n",
    "        print(kwargs)\n",
    "        print()\n",
    "        \n",
    "        return super().__new__(cls)  # create our object and return it\n",
    "    \n",
    "    def __init__(self, x = 0, y = 0):\n",
    "        \n",
    "        print(\"From init\\n\")\n",
    "        \n",
    "        print(self)\n",
    "        \n",
    "        self.x = x\n",
    "        self.y = y"
   ]
  },
  {
   "cell_type": "code",
   "execution_count": 2,
   "id": "c4207dc5",
   "metadata": {},
   "outputs": [
    {
     "name": "stdout",
     "output_type": "stream",
     "text": [
      "From new\n",
      "\n",
      "<class '__main__.Point'>\n",
      "(3, 4)\n",
      "{}\n",
      "\n",
      "From init\n",
      "\n",
      "<__main__.Point object at 0x7f7c90a07d30>\n"
     ]
    }
   ],
   "source": [
    "p = Point(3, 4)"
   ]
  },
  {
   "cell_type": "code",
   "execution_count": 3,
   "id": "5cfc60d4",
   "metadata": {},
   "outputs": [
    {
     "name": "stdout",
     "output_type": "stream",
     "text": [
      "From new\n",
      "\n",
      "<class '__main__.Point'>\n",
      "(3, 4)\n",
      "{}\n",
      "\n",
      "From init\n",
      "\n",
      "<__main__.Point object at 0x7f7c90a07370>\n"
     ]
    }
   ],
   "source": [
    "p = Point.__new__(Point, 3, 4)\n",
    "if isinstance(p, Point):\n",
    "    type(p).__init__(p, 3, 4)"
   ]
  },
  {
   "cell_type": "markdown",
   "id": "a56184fc",
   "metadata": {},
   "source": [
    "#### `__new__`를 사용해 생성할 객체 수를 제한하기"
   ]
  },
  {
   "cell_type": "code",
   "execution_count": 4,
   "id": "3ec681d2",
   "metadata": {},
   "outputs": [],
   "source": [
    "class RectPoint():\n",
    "    \n",
    "    max_instance = 4\n",
    "    instance_created = 0\n",
    "    \n",
    "    def __new__(cls, *args, **kwargs):\n",
    "        \n",
    "        if cls.instance_created >= cls.max_instance:\n",
    "            raise ValueError(\"Cannot create more objects\")\n",
    "            \n",
    "        cls.instance_created += 1\n",
    "        \n",
    "        return super().__new__(cls)\n",
    "    \n",
    "    def __init__(self, x = 0, y = 0):\n",
    "               \n",
    "        self.x = x\n",
    "        self.y = y    "
   ]
  },
  {
   "cell_type": "code",
   "execution_count": 5,
   "id": "204b7884",
   "metadata": {},
   "outputs": [],
   "source": [
    "p1 = RectPoint(0, 0)\n",
    "p2 = RectPoint(0, 1)\n",
    "p3 = RectPoint(1, 0)\n",
    "p4 = RectPoint(1, 1)"
   ]
  },
  {
   "cell_type": "code",
   "execution_count": 6,
   "id": "ce63ca66",
   "metadata": {},
   "outputs": [],
   "source": [
    "# p5 = RectPoint(2, 2) # ValueError"
   ]
  },
  {
   "cell_type": "markdown",
   "id": "2224d374",
   "metadata": {},
   "source": [
    "#### A Simple Singleton "
   ]
  },
  {
   "cell_type": "code",
   "execution_count": 7,
   "id": "d97e3444",
   "metadata": {},
   "outputs": [],
   "source": [
    "_singleton = None\n",
    "\n",
    "class Example:\n",
    "    \n",
    "    def __new__(cls):\n",
    "        \n",
    "        global _singleton\n",
    "\n",
    "        if _singleton is None:\n",
    "            _singleton = super().__new__(cls)\n",
    "\n",
    "        return _singleton"
   ]
  },
  {
   "cell_type": "code",
   "execution_count": 8,
   "id": "0f6ed5ae",
   "metadata": {},
   "outputs": [],
   "source": [
    "a = Example()\n",
    "b = Example()"
   ]
  },
  {
   "cell_type": "code",
   "execution_count": 9,
   "id": "d5b22625",
   "metadata": {},
   "outputs": [
    {
     "data": {
      "text/plain": [
       "True"
      ]
     },
     "execution_count": 9,
     "metadata": {},
     "output_type": "execute_result"
    }
   ],
   "source": [
    "a is b"
   ]
  },
  {
   "cell_type": "markdown",
   "id": "7e9b271c",
   "metadata": {},
   "source": [
    "#### In the following, `int.__init__()` will be called, as the returned object is not of type `Example` but `int`"
   ]
  },
  {
   "cell_type": "code",
   "execution_count": 10,
   "id": "fdbad29d",
   "metadata": {},
   "outputs": [],
   "source": [
    "class Example:   \n",
    "    def __new__(cls):\n",
    "        return 3"
   ]
  },
  {
   "cell_type": "code",
   "execution_count": 11,
   "id": "bcd19f44",
   "metadata": {},
   "outputs": [
    {
     "data": {
      "text/plain": [
       "int"
      ]
     },
     "execution_count": 11,
     "metadata": {},
     "output_type": "execute_result"
    }
   ],
   "source": [
    "type(Example())"
   ]
  },
  {
   "cell_type": "code",
   "execution_count": 12,
   "id": "474aa658",
   "metadata": {},
   "outputs": [],
   "source": [
    "%reset -f"
   ]
  },
  {
   "cell_type": "markdown",
   "id": "1ba6812c",
   "metadata": {},
   "source": [
    "---"
   ]
  },
  {
   "cell_type": "markdown",
   "id": "6c627ce4",
   "metadata": {},
   "source": [
    "## 02. metaclass - `type`"
   ]
  },
  {
   "cell_type": "code",
   "execution_count": 13,
   "id": "a39af83e",
   "metadata": {},
   "outputs": [
    {
     "name": "stdout",
     "output_type": "stream",
     "text": [
      "type(12)      = <class 'int'>\n",
      "type(\"Hello\") = <class 'str'>\n",
      "type([])      = <class 'list'>\n",
      "type(A())     = <class '__main__.A'>\n"
     ]
    }
   ],
   "source": [
    "class A:\n",
    "    pass\n",
    "\n",
    "print(f'{type(12)      = }')\n",
    "print(f'{type(\"Hello\") = }')\n",
    "print(f'{type([])      = }')\n",
    "print(f'{type(A())     = }')"
   ]
  },
  {
   "cell_type": "code",
   "execution_count": 14,
   "id": "81d4a69f",
   "metadata": {},
   "outputs": [
    {
     "name": "stdout",
     "output_type": "stream",
     "text": [
      "type(int)  = <class 'type'>\n",
      "type(str)  = <class 'type'>\n",
      "type(list) = <class 'type'>\n",
      "type(A)    = <class 'type'>\n"
     ]
    }
   ],
   "source": [
    "print(f'{type(int)  = }')\n",
    "print(f'{type(str)  = }')\n",
    "print(f'{type(list) = }')\n",
    "print(f'{type(A)    = }')"
   ]
  },
  {
   "cell_type": "markdown",
   "id": "d483ce54",
   "metadata": {},
   "source": [
    "![instance_of](./figs/instance-of.png)"
   ]
  },
  {
   "cell_type": "code",
   "execution_count": 15,
   "id": "c5558814",
   "metadata": {},
   "outputs": [
    {
     "name": "stdout",
     "output_type": "stream",
     "text": [
      "B = <class '__main__.B'>\n"
     ]
    }
   ],
   "source": [
    "B = type('B', (), {})  # https://www.geeksforgeeks.org/python-type-function/\n",
    "print(f'{B = }')"
   ]
  },
  {
   "cell_type": "code",
   "execution_count": 16,
   "id": "5eef2415",
   "metadata": {},
   "outputs": [
    {
     "name": "stdout",
     "output_type": "stream",
     "text": [
      "b = <__main__.B object at 0x7f7cb00b5be0>\n"
     ]
    }
   ],
   "source": [
    "b = B()\n",
    "print(f'{b = }')"
   ]
  },
  {
   "cell_type": "code",
   "execution_count": 17,
   "id": "571e4afa",
   "metadata": {},
   "outputs": [
    {
     "data": {
      "text/plain": [
       "True"
      ]
     },
     "execution_count": 17,
     "metadata": {},
     "output_type": "execute_result"
    }
   ],
   "source": [
    "isinstance(b, B)"
   ]
  },
  {
   "cell_type": "code",
   "execution_count": 18,
   "id": "51da06fc",
   "metadata": {},
   "outputs": [
    {
     "data": {
      "text/plain": [
       "True"
      ]
     },
     "execution_count": 18,
     "metadata": {},
     "output_type": "execute_result"
    }
   ],
   "source": [
    "isinstance(B, type)"
   ]
  },
  {
   "cell_type": "markdown",
   "id": "90799a4b",
   "metadata": {},
   "source": [
    "---"
   ]
  },
  {
   "cell_type": "markdown",
   "id": "1a1d0782",
   "metadata": {},
   "source": [
    "* https://blog.ionelmc.ro/2015/02/09/understanding-python-metaclasses/\n",
    "\n",
    "![instance-creation](./figs/instance-creation.png)\n",
    "![class-creation](./figs/class-creation.png)"
   ]
  },
  {
   "cell_type": "code",
   "execution_count": 19,
   "id": "c794b112",
   "metadata": {},
   "outputs": [],
   "source": [
    "class A1:\n",
    "    \n",
    "    a = 1\n",
    "    b = 'Hello'\n",
    "    \n",
    "    def f(self):\n",
    "        return 42"
   ]
  },
  {
   "cell_type": "code",
   "execution_count": 20,
   "id": "fe9282bd",
   "metadata": {},
   "outputs": [],
   "source": [
    "def make_A2():\n",
    "    \n",
    "    name = 'A2'\n",
    "    bases = ()\n",
    "    namespace = type.__prepare__(name, bases)\n",
    "    body = (\n",
    "\"\"\"\n",
    "a = 1\n",
    "b = 'Hello'\n",
    "    \n",
    "def f(self):\n",
    "    return 42    \n",
    "\"\"\"\n",
    ")   \n",
    "    \n",
    "    #exec(body, globals(), namespace)\n",
    "    exec(body, {}, namespace)\n",
    "    \n",
    "    A2 = type(name, bases, namespace)\n",
    "    \n",
    "    return A2"
   ]
  },
  {
   "cell_type": "code",
   "execution_count": 21,
   "id": "fe881f4c",
   "metadata": {},
   "outputs": [],
   "source": [
    "a1 = A1()\n",
    "\n",
    "A2 = make_A2()\n",
    "a2 = A2()"
   ]
  },
  {
   "cell_type": "code",
   "execution_count": 22,
   "id": "3b6d86f2",
   "metadata": {},
   "outputs": [
    {
     "data": {
      "text/plain": [
       "(1, 'Hello', 42)"
      ]
     },
     "execution_count": 22,
     "metadata": {},
     "output_type": "execute_result"
    }
   ],
   "source": [
    "a1.a, a1.b, a1.f() "
   ]
  },
  {
   "cell_type": "code",
   "execution_count": 23,
   "id": "c6eaed70",
   "metadata": {},
   "outputs": [
    {
     "data": {
      "text/plain": [
       "(1, 'Hello', 42)"
      ]
     },
     "execution_count": 23,
     "metadata": {},
     "output_type": "execute_result"
    }
   ],
   "source": [
    "a2.a, a2.b, a2.f()"
   ]
  },
  {
   "cell_type": "markdown",
   "id": "8c7b973f",
   "metadata": {},
   "source": [
    "---"
   ]
  },
  {
   "cell_type": "code",
   "execution_count": 24,
   "id": "6366e0be",
   "metadata": {},
   "outputs": [],
   "source": [
    "class MyMetaclass(type): \n",
    "    pass\n",
    "\n",
    "class A(metaclass=MyMetaclass):\n",
    "    pass"
   ]
  },
  {
   "cell_type": "code",
   "execution_count": 25,
   "id": "b8aa556a",
   "metadata": {},
   "outputs": [
    {
     "name": "stdout",
     "output_type": "stream",
     "text": [
      "type(a) = <class '__main__.A'>\n",
      "type(A) = <class '__main__.MyMetaclass'>\n"
     ]
    }
   ],
   "source": [
    "a = A()\n",
    "\n",
    "print(f'{type(a) = }')\n",
    "print(f'{type(A) = }')"
   ]
  },
  {
   "cell_type": "code",
   "execution_count": 26,
   "id": "15dcb298",
   "metadata": {},
   "outputs": [],
   "source": [
    "%reset -f"
   ]
  },
  {
   "cell_type": "markdown",
   "id": "177694c5",
   "metadata": {},
   "source": [
    "## 03. Method Chaining Classes in Python"
   ]
  },
  {
   "cell_type": "code",
   "execution_count": 27,
   "id": "1fa6bc82",
   "metadata": {},
   "outputs": [],
   "source": [
    "s = 'Blessed are the poor in spirit, for theirs is the kingdom of heaven.'"
   ]
  },
  {
   "cell_type": "code",
   "execution_count": 28,
   "id": "feccfa24",
   "metadata": {},
   "outputs": [
    {
     "data": {
      "text/plain": [
       "'      BLESSED ARE THE POOR IN SPIRIT, FOR THEIRS IS THE KINGDOM OF HEAVEN.      '"
      ]
     },
     "execution_count": 28,
     "metadata": {},
     "output_type": "execute_result"
    }
   ],
   "source": [
    "t = s.strip().upper().center(80)\n",
    "t"
   ]
  },
  {
   "cell_type": "markdown",
   "id": "95d9059d",
   "metadata": {},
   "source": [
    "---"
   ]
  },
  {
   "cell_type": "code",
   "execution_count": 29,
   "id": "9f49528c",
   "metadata": {},
   "outputs": [],
   "source": [
    "import numpy as np\n",
    "\n",
    "\n",
    "class Player:\n",
    "    def __init__(self, name, position, fatigue=0):\n",
    "        self.name = name\n",
    "        self.position = position\n",
    "        self.fatigue = fatigue\n",
    "\n",
    "    def draw(self):\n",
    "        print(f\"drawing {self.name} to screen at {self.position}\")\n",
    "        return self  #***********\n",
    "\n",
    "    def move(self, delta):\n",
    "        self.position += delta\n",
    "        self.fatigue += 1\n",
    "        return self  #*********** \n",
    "\n",
    "    def rest(self):\n",
    "        self.fatigue = 0\n",
    "        return self  #***********"
   ]
  },
  {
   "cell_type": "code",
   "execution_count": 30,
   "id": "f48572a6",
   "metadata": {},
   "outputs": [
    {
     "name": "stdout",
     "output_type": "stream",
     "text": [
      "drawing Inha to screen at [1. 2.]\n"
     ]
    },
    {
     "data": {
      "text/plain": [
       "<__main__.Player at 0x7f7cb00c37f0>"
      ]
     },
     "execution_count": 30,
     "metadata": {},
     "output_type": "execute_result"
    }
   ],
   "source": [
    "inha = Player('Inha', np.array([0.0, 0.0]))\n",
    "\n",
    "UP = np.array([0.0, 1.0])\n",
    "RIGHT = np.array([1.0, 0.0])\n",
    "\n",
    "(\n",
    "  inha.move(UP)\n",
    "      .move(RIGHT)\n",
    "      .move(UP)\n",
    "      .rest()\n",
    "      .draw()\n",
    ")"
   ]
  },
  {
   "cell_type": "markdown",
   "id": "1f135038",
   "metadata": {},
   "source": [
    "---"
   ]
  },
  {
   "cell_type": "markdown",
   "id": "b98ec803",
   "metadata": {},
   "source": [
    "* `dataclasses` 모듈은` __init__()` 나 `__repr__()` 과 같은 특수 메서드를 \n",
    "  사용자 정의 클래스에 자동으로 추가하는 데코레이터와 함수를 제공\n",
    "  \n",
    "  [Ref](https://docs.python.org/ko/3/library/dataclasses.html)"
   ]
  },
  {
   "cell_type": "code",
   "execution_count": 31,
   "id": "5497c055",
   "metadata": {},
   "outputs": [],
   "source": [
    "from dataclasses import dataclass\n",
    "import numpy as np"
   ]
  },
  {
   "cell_type": "code",
   "execution_count": 32,
   "id": "e9146fc9",
   "metadata": {},
   "outputs": [],
   "source": [
    "@dataclass(frozen=True)  # slots = True 는 3.10에 추가됨\n",
    "class Vector:\n",
    "    x: float\n",
    "    y: float\n",
    "    z: float\n",
    "\n",
    "    def normalized(self):\n",
    "        x, y, z = self.x, self.y, self.z\n",
    "        norm = np.sqrt(x*x + y*y + z*z)\n",
    "        return type(self)(x/norm, y/norm, z/norm)\n",
    "\n",
    "    def reflected(self):\n",
    "        return type(self)(-self.x, -self.y, -self.z)"
   ]
  },
  {
   "cell_type": "code",
   "execution_count": 33,
   "id": "8bb8b6af",
   "metadata": {},
   "outputs": [
    {
     "name": "stdout",
     "output_type": "stream",
     "text": [
      "Vector(x=1.0, y=2.0, z=3.0)\n",
      "Vector(x=-0.2672612419124244, y=-0.5345224838248488, z=-0.8017837257372732)\n"
     ]
    }
   ],
   "source": [
    "p = Vector(1., 2., 3.)\n",
    "\n",
    "q = p.reflected().normalized()\n",
    "\n",
    "print(p)\n",
    "print(q)"
   ]
  },
  {
   "cell_type": "code",
   "execution_count": 34,
   "id": "cad12180",
   "metadata": {},
   "outputs": [],
   "source": [
    "%reset -f"
   ]
  },
  {
   "cell_type": "markdown",
   "id": "a10970bd",
   "metadata": {},
   "source": [
    "## 04. Positional-only and keyword-only arguments in Python"
   ]
  },
  {
   "cell_type": "code",
   "execution_count": 35,
   "id": "228741f4",
   "metadata": {},
   "outputs": [],
   "source": [
    "import sys\n",
    "assert sys.version_info >= (3, 8), \"positional-only arguments are a Python 3.8+ feature, upgrade your Python!\""
   ]
  },
  {
   "cell_type": "markdown",
   "id": "8fb720df",
   "metadata": {},
   "source": [
    "#### Either way works"
   ]
  },
  {
   "cell_type": "code",
   "execution_count": 36,
   "id": "963ffb5e",
   "metadata": {},
   "outputs": [],
   "source": [
    "def f(a, b, c):\n",
    "    print(f'{a = }, {b = }, {c = }')"
   ]
  },
  {
   "cell_type": "code",
   "execution_count": 37,
   "id": "0c684d6c",
   "metadata": {},
   "outputs": [
    {
     "name": "stdout",
     "output_type": "stream",
     "text": [
      "a = 1, b = 2, c = 3\n",
      "a = 1, b = 2, c = 3\n",
      "a = 1, b = 2, c = 3\n",
      "a = 1, b = 2, c = 3\n"
     ]
    }
   ],
   "source": [
    "f(1, 2, 3)\n",
    "f(a=1, b=2, c=3)\n",
    "f(c=3, a=1, b=2)\n",
    "f(1, c=3, b=2)"
   ]
  },
  {
   "cell_type": "code",
   "execution_count": 38,
   "id": "739f0478",
   "metadata": {},
   "outputs": [],
   "source": [
    "# f(c=3, 1, b=2) # SyntaxError"
   ]
  },
  {
   "cell_type": "markdown",
   "id": "447c69a3",
   "metadata": {},
   "source": [
    "#### Force keyword argument"
   ]
  },
  {
   "cell_type": "code",
   "execution_count": 39,
   "id": "d311c8f2",
   "metadata": {},
   "outputs": [],
   "source": [
    "def g(a, b, *, kw_only):\n",
    "    print(f'{a = }, {b = }, {kw_only = }')"
   ]
  },
  {
   "cell_type": "code",
   "execution_count": 40,
   "id": "f95f1f27",
   "metadata": {},
   "outputs": [
    {
     "name": "stdout",
     "output_type": "stream",
     "text": [
      "a = 1, b = 2, kw_only = 3\n",
      "a = 1, b = 2, kw_only = 3\n",
      "a = 1, b = 2, kw_only = 3\n"
     ]
    }
   ],
   "source": [
    "g(1, b=2, kw_only=3)\n",
    "g(a=1, b=2, kw_only=3)\n",
    "g(kw_only=3, a=1, b=2)"
   ]
  },
  {
   "cell_type": "code",
   "execution_count": 41,
   "id": "1e6742bd",
   "metadata": {},
   "outputs": [],
   "source": [
    "# g(1, 2) # TypeError\n",
    "# g(1, 2, 3) # TypeError\n",
    "# g(b=2, 1, kw_only=3) # SyntaxError"
   ]
  },
  {
   "cell_type": "markdown",
   "id": "d1bfdeab",
   "metadata": {},
   "source": [
    "---"
   ]
  },
  {
   "cell_type": "code",
   "execution_count": 42,
   "id": "d33b32bd",
   "metadata": {},
   "outputs": [],
   "source": [
    "def g(a, b, *, kw_only=None):\n",
    "    print(f'{a = }, {b = }, {kw_only = }')"
   ]
  },
  {
   "cell_type": "code",
   "execution_count": 43,
   "id": "a7415797",
   "metadata": {},
   "outputs": [
    {
     "name": "stdout",
     "output_type": "stream",
     "text": [
      "a = 1, b = 2, kw_only = 3\n",
      "a = 1, b = 2, kw_only = None\n"
     ]
    }
   ],
   "source": [
    "g(1, b=2, kw_only=3)\n",
    "g(1, 2)\n",
    "# g(1, 2, 'oops', kw_only=3) # TypeError"
   ]
  },
  {
   "cell_type": "code",
   "execution_count": 44,
   "id": "dcbb23d8",
   "metadata": {},
   "outputs": [],
   "source": [
    "def g(a, b, *args, kw_only=None):\n",
    "    print(f'{a = }, {b = }, {kw_only = }')\n",
    "    print(f'{args = }')"
   ]
  },
  {
   "cell_type": "code",
   "execution_count": 45,
   "id": "a826fa79",
   "metadata": {},
   "outputs": [
    {
     "name": "stdout",
     "output_type": "stream",
     "text": [
      "a = 1, b = 2, kw_only = 3\n",
      "args = ('oops',)\n"
     ]
    }
   ],
   "source": [
    "g(1, 2, 'oops', kw_only=3) # Using * better than *args"
   ]
  },
  {
   "cell_type": "markdown",
   "id": "ee694858",
   "metadata": {},
   "source": [
    "---"
   ]
  },
  {
   "cell_type": "code",
   "execution_count": 46,
   "id": "86ce46b4",
   "metadata": {},
   "outputs": [],
   "source": [
    "def eat_args(*args):\n",
    "    print(args, \"yum\")\n",
    "    \n",
    "def eat_kwargs(**kwargs):\n",
    "    print(kwargs, \"yum!\")"
   ]
  },
  {
   "cell_type": "code",
   "execution_count": 47,
   "id": "a1ac8283",
   "metadata": {},
   "outputs": [
    {
     "name": "stdout",
     "output_type": "stream",
     "text": [
      "(1, 2, 3) yum\n",
      "{'a': 1, 'b': 2} yum!\n"
     ]
    }
   ],
   "source": [
    "eat_args(1, 2, 3)\n",
    "eat_kwargs(a=1, b=2)"
   ]
  },
  {
   "cell_type": "code",
   "execution_count": 48,
   "id": "1104f717",
   "metadata": {},
   "outputs": [],
   "source": [
    "# eat_args(kw=3)  # TypeError\n",
    "# eat_kwargs(1, 2)  # TypeError"
   ]
  },
  {
   "cell_type": "markdown",
   "id": "7e9b3c4b",
   "metadata": {},
   "source": [
    "---"
   ]
  },
  {
   "cell_type": "code",
   "execution_count": 49,
   "id": "1031237a",
   "metadata": {},
   "outputs": [],
   "source": [
    "def p(a, b, c, /):\n",
    "    print(f'{a = }, {b = }, {c = }')"
   ]
  },
  {
   "cell_type": "code",
   "execution_count": 50,
   "id": "b4431eae",
   "metadata": {},
   "outputs": [
    {
     "name": "stdout",
     "output_type": "stream",
     "text": [
      "a = 1, b = 2, c = 3\n"
     ]
    }
   ],
   "source": [
    "p(1, 2, 3)"
   ]
  },
  {
   "cell_type": "code",
   "execution_count": 51,
   "id": "bcb4c0d8",
   "metadata": {},
   "outputs": [],
   "source": [
    "# p(1, 2, 3, 4) # TypeError\n",
    "# p(1, 2, c=2) # TypeError"
   ]
  },
  {
   "cell_type": "markdown",
   "id": "06ebc174",
   "metadata": {},
   "source": [
    "---"
   ]
  },
  {
   "cell_type": "code",
   "execution_count": 52,
   "id": "439fc834",
   "metadata": {},
   "outputs": [],
   "source": [
    "def k(*, a, b, c):\n",
    "    print(f'{a = }, {b = }, {c = }')    "
   ]
  },
  {
   "cell_type": "code",
   "execution_count": 53,
   "id": "2118c945",
   "metadata": {},
   "outputs": [
    {
     "name": "stdout",
     "output_type": "stream",
     "text": [
      "a = 1, b = 2, c = 3\n"
     ]
    }
   ],
   "source": [
    "k(a=1, b=2, c=3)"
   ]
  },
  {
   "cell_type": "code",
   "execution_count": 54,
   "id": "e4952add",
   "metadata": {},
   "outputs": [],
   "source": [
    "# k(1, 2, 3) # TypeError\n",
    "# k(1, b=1, c=1) # TypeError"
   ]
  },
  {
   "cell_type": "markdown",
   "id": "584f05e0",
   "metadata": {},
   "source": [
    "---"
   ]
  },
  {
   "cell_type": "code",
   "execution_count": 55,
   "id": "d655114e",
   "metadata": {},
   "outputs": [],
   "source": [
    "def pk1(a, b, k=None):\n",
    "    print(f'{a = }, {b = }, {k = }')      "
   ]
  },
  {
   "cell_type": "code",
   "execution_count": 56,
   "id": "b3d0a8b7",
   "metadata": {},
   "outputs": [
    {
     "name": "stdout",
     "output_type": "stream",
     "text": [
      "a = 1, b = 2, k = 3\n",
      "a = 1, b = 2, k = 3\n"
     ]
    }
   ],
   "source": [
    "pk1(1, 2, k=3)\n",
    "pk1(1, 2, 3)"
   ]
  },
  {
   "cell_type": "code",
   "execution_count": 57,
   "id": "d85c8fbb",
   "metadata": {},
   "outputs": [],
   "source": [
    "def pk1(a, b, *, k=None):\n",
    "    print(f'{a = }, {b = }, {k = }')     "
   ]
  },
  {
   "cell_type": "code",
   "execution_count": 58,
   "id": "65465429",
   "metadata": {},
   "outputs": [
    {
     "name": "stdout",
     "output_type": "stream",
     "text": [
      "a = 1, b = 2, k = 3\n"
     ]
    }
   ],
   "source": [
    "pk1(1, 2, k=3)\n",
    "# pk1(1, 2, 3) # TypeError"
   ]
  },
  {
   "cell_type": "markdown",
   "id": "dc69b9a9",
   "metadata": {},
   "source": [
    "---"
   ]
  },
  {
   "cell_type": "code",
   "execution_count": 59,
   "id": "88f243ed",
   "metadata": {},
   "outputs": [],
   "source": [
    "# position_only_builtin_examples:\n",
    "\n",
    "d = {\"a\": 1, \"b\": 2}\n",
    "\n",
    "x = d.get(\"c\", \"missing\")\n",
    "# y = d.get(\"c\", default=\"missing\")  # Error!!! default is positional only"
   ]
  },
  {
   "cell_type": "code",
   "execution_count": 60,
   "id": "82238b25",
   "metadata": {},
   "outputs": [],
   "source": [
    "# kw_only_builtin_examples:\n",
    "\n",
    "# json.load\n",
    "def load(fp, *, cls=None, object_hook=None, parse_float=None, parse_int=None, parse_constant=None, object_pairs_hook=None, **kw):\n",
    "    pass\n",
    "\n",
    "# os.path.realpath\n",
    "def realpath(path, *, strict=False):\n",
    "    pass\n",
    "\n",
    "# pprint.pprint\n",
    "def pprint(object, stream=None, indent=1, width=80, depth=None, *, compact=False, sort_dicts=True, underscore_numbers=False):\n",
    "    pass"
   ]
  },
  {
   "cell_type": "markdown",
   "id": "d89cc18c",
   "metadata": {},
   "source": [
    "---"
   ]
  },
  {
   "cell_type": "code",
   "execution_count": 61,
   "id": "5bf224c5",
   "metadata": {},
   "outputs": [],
   "source": [
    "def f(a, b, /, c, d, *, e, f):\n",
    "    pass\n",
    "\n",
    "def f(pos_only, /, pos_or_kw, *, kw_only):\n",
    "    pass"
   ]
  },
  {
   "cell_type": "markdown",
   "id": "070222c8",
   "metadata": {},
   "source": [
    "---"
   ]
  },
  {
   "cell_type": "code",
   "execution_count": 62,
   "id": "1882b901",
   "metadata": {},
   "outputs": [],
   "source": [
    "from timeit import timeit\n",
    "\n",
    "def speed_differences():\n",
    "    \n",
    "    trials = 10 ** 7\n",
    "    per_trials = 10 ** 9 / trials # nanoseconds\n",
    "    \n",
    "    def func(a, b, c):\n",
    "        pass\n",
    "\n",
    "    t1 = timeit(stmt=\"func(1, 2, 3)\", globals={'func': func}, number=trials) * per_trials\n",
    "    t2 = timeit(stmt=\"func(a=1, b=2, c=3)\", globals={'func': func}, number=trials) * per_trials\n",
    "    t3 = timeit(stmt=\"func(c=3, a=1, b=2)\", globals={'func': func}, number=trials) * per_trials\n",
    "    t4 = timeit(stmt=\"func(1, c=3, b=2)\", globals={'func': func}, number=trials) * per_trials\n",
    "\n",
    "    def func(a, b, c, /):\n",
    "        pass\n",
    "\n",
    "    t5 = timeit(stmt=\"func(1, 2, 3)\", globals={'func': func}, number=trials) * per_trials\n",
    "\n",
    "    def func(*, a, b, c):\n",
    "        pass\n",
    "\n",
    "    t6 = timeit(stmt=\"func(a=1, b=2, c=3)\", globals={'func': func}, number=trials) * per_trials\n",
    "    t7 = timeit(stmt=\"func(c=3, b=2, a=1)\", globals={'func': func}, number=trials) * per_trials\n",
    "\n",
    "    print(\"normal func\\n\")\n",
    "    print(f'{t1=:.2f}\\t\\t func(1, 2, 3)')\n",
    "    print(f'{t2=:.2f}\\t\\t func(a=1, b=2, c=3)')\n",
    "    print(f'{t3=:.2f}\\t\\t func(c=3, a=1, b=2)')\n",
    "    print(f'{t4=:.2f}\\t\\t func(1, c=3, b=2)')\n",
    "    print()\n",
    "\n",
    "    print(\"pos only\\n\")\n",
    "    print(f'{t5=:.2f}\\t\\t func(1, 2, 3)')\n",
    "    print()\n",
    "\n",
    "    print(\"kw only\\n\")\n",
    "    print(f'{t6=:.2f}\\t\\t func(a=1, b=2, c=3)')\n",
    "    print(f'{t7=:.2f}\\t\\t func(c=3, b=2, a=1)')"
   ]
  },
  {
   "cell_type": "code",
   "execution_count": 63,
   "id": "46997b30",
   "metadata": {},
   "outputs": [
    {
     "name": "stdout",
     "output_type": "stream",
     "text": [
      "normal func\n",
      "\n",
      "t1=77.15\t\t func(1, 2, 3)\n",
      "t2=88.69\t\t func(a=1, b=2, c=3)\n",
      "t3=88.43\t\t func(c=3, a=1, b=2)\n",
      "t4=86.57\t\t func(1, c=3, b=2)\n",
      "\n",
      "pos only\n",
      "\n",
      "t5=76.65\t\t func(1, 2, 3)\n",
      "\n",
      "kw only\n",
      "\n",
      "t6=86.95\t\t func(a=1, b=2, c=3)\n",
      "t7=87.64\t\t func(c=3, b=2, a=1)\n"
     ]
    }
   ],
   "source": [
    "speed_differences()"
   ]
  },
  {
   "cell_type": "code",
   "execution_count": 64,
   "id": "04f119e2",
   "metadata": {},
   "outputs": [],
   "source": [
    "%reset -f"
   ]
  },
  {
   "cell_type": "markdown",
   "id": "20ba4351",
   "metadata": {},
   "source": [
    "## 05. `super` in Python"
   ]
  },
  {
   "cell_type": "code",
   "execution_count": 65,
   "id": "4096b321",
   "metadata": {},
   "outputs": [],
   "source": [
    "class Base:\n",
    "    def f(self, x):\n",
    "        print(\"Base.f\", self, x)\n",
    "\n",
    "\n",
    "class Derived(Base):\n",
    "    def f(self, x):\n",
    "        print(\"Derived.f\", self, x)\n",
    "        super().f(x)  # don't spefify self\n",
    "        print(\"Derived.f finished\")"
   ]
  },
  {
   "cell_type": "code",
   "execution_count": 66,
   "id": "3047f287",
   "metadata": {},
   "outputs": [
    {
     "name": "stdout",
     "output_type": "stream",
     "text": [
      "Derived.f <__main__.Derived object at 0x7f7cc16ba4c0> 42\n",
      "Base.f <__main__.Derived object at 0x7f7cc16ba4c0> 42\n",
      "Derived.f finished\n"
     ]
    }
   ],
   "source": [
    "d = Derived()\n",
    "d.f(42)"
   ]
  },
  {
   "cell_type": "code",
   "execution_count": 67,
   "id": "922176c8",
   "metadata": {},
   "outputs": [],
   "source": [
    "class Base:\n",
    "    \n",
    "    @classmethod\n",
    "    def f(cls, x):\n",
    "        print(\"Base.f\", cls, x)\n",
    "\n",
    "\n",
    "class Derived(Base):\n",
    "    \n",
    "    @classmethod\n",
    "    def f(cls, x):\n",
    "        print(\"Derived.f\", cls, x)\n",
    "        super().f(x)  # don't spefify cls\n",
    "        print(\"Derived.f finished\")"
   ]
  },
  {
   "cell_type": "code",
   "execution_count": 68,
   "id": "2b5d3da1",
   "metadata": {},
   "outputs": [
    {
     "name": "stdout",
     "output_type": "stream",
     "text": [
      "Derived.f <class '__main__.Derived'> 42\n",
      "Base.f <class '__main__.Derived'> 42\n",
      "Derived.f finished\n"
     ]
    }
   ],
   "source": [
    "d = Derived()\n",
    "d.f(42)"
   ]
  },
  {
   "cell_type": "markdown",
   "id": "8bbd0c03",
   "metadata": {},
   "source": [
    "---"
   ]
  },
  {
   "cell_type": "code",
   "execution_count": 69,
   "id": "5edccdd6",
   "metadata": {},
   "outputs": [],
   "source": [
    "class A:\n",
    "    def f(self):\n",
    "        print(f\"called A.f, self is {self}\")\n",
    "\n",
    "class B(A):\n",
    "    def f(self):\n",
    "        print(f\"called B.f, self is {self}\")"
   ]
  },
  {
   "cell_type": "code",
   "execution_count": 70,
   "id": "a05755be",
   "metadata": {},
   "outputs": [
    {
     "name": "stdout",
     "output_type": "stream",
     "text": [
      "super self      :  <__main__.B object at 0x7f7cc16bc340>\n",
      "super self class:  <class '__main__.B'>\n",
      "super thisclass :  <class '__main__.B'>\n"
     ]
    }
   ],
   "source": [
    "b = B()\n",
    "sup = super(B, b)\n",
    "\n",
    "print(\"super self      : \", sup.__self__)\n",
    "print(\"super self class: \", sup.__self_class__)\n",
    "print(\"super thisclass : \", sup.__thisclass__)"
   ]
  },
  {
   "cell_type": "code",
   "execution_count": 71,
   "id": "f6cac727",
   "metadata": {},
   "outputs": [
    {
     "name": "stdout",
     "output_type": "stream",
     "text": [
      "super self      :  <__main__.B object at 0x7f7cc16bc340>\n",
      "super self class:  <class '__main__.B'>\n",
      "super thisclass :  <class '__main__.A'>\n"
     ]
    }
   ],
   "source": [
    "sup = super(A, b)\n",
    "\n",
    "print(\"super self      : \", sup.__self__)\n",
    "print(\"super self class: \", sup.__self_class__)\n",
    "print(\"super thisclass : \", sup.__thisclass__)"
   ]
  },
  {
   "cell_type": "markdown",
   "id": "ba94fd15",
   "metadata": {},
   "source": [
    "---"
   ]
  },
  {
   "cell_type": "code",
   "execution_count": 72,
   "id": "dd9ed0da",
   "metadata": {},
   "outputs": [
    {
     "name": "stdout",
     "output_type": "stream",
     "text": [
      "B.f <__main__.B object at 0x7f7cc16bacd0>\n",
      "Root.f <__main__.B object at 0x7f7cc16bacd0>\n"
     ]
    }
   ],
   "source": [
    "class Root:\n",
    "    def f(self):\n",
    "        print(\"Root.f\", self)\n",
    "\n",
    "class A(Root):\n",
    "    pass\n",
    "\n",
    "class B(A):\n",
    "    def f(self):\n",
    "        print(\"B.f\", self)\n",
    "        super().f()\n",
    "\n",
    "b = B()\n",
    "b.f()"
   ]
  },
  {
   "cell_type": "code",
   "execution_count": 73,
   "id": "70c42832",
   "metadata": {},
   "outputs": [
    {
     "name": "stdout",
     "output_type": "stream",
     "text": [
      "C.f <__main__.C object at 0x7f7cc16cf460>\n",
      "A.f <__main__.C object at 0x7f7cc16cf460>\n",
      "B.f <__main__.C object at 0x7f7cc16cf460>\n",
      "Root.f <__main__.C object at 0x7f7cc16cf460>\n"
     ]
    }
   ],
   "source": [
    "class Root:\n",
    "    \n",
    "    def f(self):\n",
    "        print(\"Root.f\", self)\n",
    "        assert not hasattr(super(), 'f'), \"You forgot to inherit from Root\"\n",
    "\n",
    "class A(Root):\n",
    "    def f(self):\n",
    "        print(\"A.f\", self)\n",
    "        super().f()\n",
    "\n",
    "class B(Root):\n",
    "    def f(self):\n",
    "        print(\"B.f\", self)\n",
    "        super().f()\n",
    "\n",
    "class C(A, B):\n",
    "    def f(self):\n",
    "        print(\"C.f\", self)\n",
    "        super().f()\n",
    "\n",
    "C().f()"
   ]
  },
  {
   "cell_type": "code",
   "execution_count": 74,
   "id": "8f6c2b04",
   "metadata": {},
   "outputs": [
    {
     "name": "stdout",
     "output_type": "stream",
     "text": [
      "['C', 'A', 'B', 'Root', 'object']\n"
     ]
    }
   ],
   "source": [
    "class Root:\n",
    "    pass\n",
    "\n",
    "class A(Root):\n",
    "    pass\n",
    "\n",
    "class B(Root):\n",
    "    pass\n",
    "\n",
    "class C(A, B):\n",
    "    pass\n",
    "\n",
    "print([cls.__name__ for cls in C.__mro__])"
   ]
  },
  {
   "cell_type": "code",
   "execution_count": 75,
   "id": "9f84ffc1",
   "metadata": {},
   "outputs": [],
   "source": [
    "class A:        # (A, object)\n",
    "    pass\n",
    "\n",
    "class B:        # (B, object)\n",
    "    pass\n",
    "\n",
    "class C(A, B):  # (C, A, B, object)\n",
    "    pass        #    (A,    object)\n",
    "                #       (B, object)\n",
    "\n",
    "# class D(A, C):  # TypeError: Cannot create a consistent method resolution order (MRO) for bases A, C\n",
    "#     pass"
   ]
  },
  {
   "cell_type": "code",
   "execution_count": 76,
   "id": "a27a4570",
   "metadata": {},
   "outputs": [],
   "source": [
    "%reset -f"
   ]
  }
 ],
 "metadata": {
  "kernelspec": {
   "display_name": "Python 3 (ipykernel)",
   "language": "python",
   "name": "python3"
  },
  "language_info": {
   "codemirror_mode": {
    "name": "ipython",
    "version": 3
   },
   "file_extension": ".py",
   "mimetype": "text/x-python",
   "name": "python",
   "nbconvert_exporter": "python",
   "pygments_lexer": "ipython3",
   "version": "3.8.12"
  }
 },
 "nbformat": 4,
 "nbformat_minor": 5
}
