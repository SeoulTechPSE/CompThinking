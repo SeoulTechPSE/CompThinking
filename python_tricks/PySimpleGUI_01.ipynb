{
 "cells": [
  {
   "cell_type": "markdown",
   "id": "b2fc20e3",
   "metadata": {},
   "source": [
    "# PySimpleGUI"
   ]
  },
  {
   "cell_type": "markdown",
   "id": "82e944d8",
   "metadata": {},
   "source": [
    "In simple terms, GUI is a desktop app that provides you with an interface that helps you to interact with the script and enriches the user experience"
   ]
  },
  {
   "cell_type": "markdown",
   "id": "7567ba78",
   "metadata": {},
   "source": [
    "## 1. Introduction"
   ]
  },
  {
   "cell_type": "markdown",
   "id": "33b4e416",
   "metadata": {},
   "source": [
    "```python\n",
    "import PySimpleGUI as sg\n",
    "\n",
    "layout = [\n",
    "    [sg.Text('Please enter yout name')],\n",
    "    [sg.Input()],\n",
    "    [sg.OK()]\n",
    "]\n",
    "\n",
    "window = sg.Window('Enter your name', layout)\n",
    "\n",
    "event, values = window.read()\n",
    "print(event, values)\n",
    "\n",
    "window.close()\n",
    "\n",
    "```"
   ]
  },
  {
   "cell_type": "markdown",
   "id": "4185afd2",
   "metadata": {},
   "source": [
    "![sg_01](./figs/PySimpleGUI_01.png)"
   ]
  },
  {
   "cell_type": "markdown",
   "id": "618f3ee2",
   "metadata": {},
   "source": [
    "## Installation"
   ]
  },
  {
   "cell_type": "code",
   "execution_count": null,
   "id": "8a1be0d0",
   "metadata": {},
   "outputs": [],
   "source": [
    "#!pip install pysimplegui"
   ]
  },
  {
   "cell_type": "markdown",
   "id": "b4d1cf0d",
   "metadata": {},
   "source": [
    "## One-shot Window"
   ]
  },
  {
   "cell_type": "code",
   "execution_count": null,
   "id": "c61e29e2",
   "metadata": {},
   "outputs": [],
   "source": [
    "import PySimpleGUI as sg\n",
    "\n",
    "layout = [\n",
    "    [sg.Text('Please enter yout name')],\n",
    "    [sg.Input()],\n",
    "    [sg.Text('Enter your password')],\n",
    "    [sg.Input()],\n",
    "    [sg.OK()]\n",
    "]\n",
    "\n",
    "window = sg.Window('Login', layout)\n",
    "\n",
    "event, values = window.read()\n",
    "print(event, values)\n",
    "\n",
    "window.close()"
   ]
  },
  {
   "cell_type": "code",
   "execution_count": null,
   "id": "67b988cf",
   "metadata": {},
   "outputs": [],
   "source": [
    "%reset -f"
   ]
  },
  {
   "cell_type": "markdown",
   "id": "0ade3d9b",
   "metadata": {},
   "source": [
    "## Persistent Window"
   ]
  },
  {
   "cell_type": "code",
   "execution_count": null,
   "id": "3e662846",
   "metadata": {},
   "outputs": [],
   "source": [
    "import PySimpleGUI as sg\n",
    "\n",
    "layout = [\n",
    "    [sg.Text('Please enter yout name')],\n",
    "    [sg.Input(do_not_clear=False)],\n",
    "    [sg.Text('Enter your password')],\n",
    "    [sg.Input(do_not_clear=False)],\n",
    "    [sg.OK(), sg.Exit()]\n",
    "]\n",
    "\n",
    "window = sg.Window('Login', layout)\n",
    "\n",
    "while True:\n",
    "    event, values = window.read()\n",
    "    print(event, values)\n",
    "    \n",
    "    if event in (None, 'Exit'):\n",
    "        break\n",
    "    \n",
    "window.close()   "
   ]
  },
  {
   "cell_type": "code",
   "execution_count": null,
   "id": "8a56d9f8",
   "metadata": {},
   "outputs": [],
   "source": [
    "%reset -f"
   ]
  },
  {
   "cell_type": "markdown",
   "id": "9f4c8b09",
   "metadata": {},
   "source": [
    "## Menus"
   ]
  },
  {
   "cell_type": "code",
   "execution_count": null,
   "id": "26ad7793",
   "metadata": {},
   "outputs": [],
   "source": [
    "import PySimpleGUI as sg\n",
    "\n",
    "menu = [\n",
    "    ['&File', ['&Open', '&Save', '---', 'Properties', 'E&xit']],\n",
    "    ['&Edit', ['&Paste', ['Special', 'Normal'], 'Undo']],\n",
    "    ['&Help', ['&About...']]\n",
    "]\n",
    "\n",
    "layout = [\n",
    "    [sg.Menu(menu)],\n",
    "    [sg.Multiline(size=(20, 10), key='-TEXT-')],\n",
    "    [sg.OK(), sg.Exit()]\n",
    "]\n",
    "\n",
    "window = sg.Window('Menu', layout)\n",
    "\n",
    "while True:\n",
    "    event, values = window.read()\n",
    "    print(event, values)\n",
    "    \n",
    "    if event in (None, 'Exit'):\n",
    "        break\n",
    "\n",
    "window.close()"
   ]
  },
  {
   "cell_type": "code",
   "execution_count": null,
   "id": "14be5c65",
   "metadata": {},
   "outputs": [],
   "source": [
    "%reset -f"
   ]
  }
 ],
 "metadata": {
  "kernelspec": {
   "display_name": "Python 3 (ipykernel)",
   "language": "python",
   "name": "python3"
  },
  "language_info": {
   "codemirror_mode": {
    "name": "ipython",
    "version": 3
   },
   "file_extension": ".py",
   "mimetype": "text/x-python",
   "name": "python",
   "nbconvert_exporter": "python",
   "pygments_lexer": "ipython3",
   "version": "3.8.12"
  }
 },
 "nbformat": 4,
 "nbformat_minor": 5
}
