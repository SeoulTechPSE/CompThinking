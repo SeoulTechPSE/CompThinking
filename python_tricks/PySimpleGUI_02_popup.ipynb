{
 "cells": [
  {
   "cell_type": "markdown",
   "id": "689e301d",
   "metadata": {},
   "source": [
    "## 2. Popup"
   ]
  },
  {
   "cell_type": "code",
   "execution_count": null,
   "id": "0b6e28a6",
   "metadata": {},
   "outputs": [],
   "source": [
    "import PySimpleGUI as sg"
   ]
  },
  {
   "cell_type": "markdown",
   "id": "d38fbff7",
   "metadata": {},
   "source": [
    "### Output Popups"
   ]
  },
  {
   "cell_type": "code",
   "execution_count": null,
   "id": "f4635492",
   "metadata": {},
   "outputs": [],
   "source": [
    "sg.popup('Hello, PySimpleGUI!')"
   ]
  },
  {
   "cell_type": "code",
   "execution_count": null,
   "id": "eac283b9",
   "metadata": {},
   "outputs": [],
   "source": [
    "for i in range(1_000):\n",
    "    sg.popup_animated(sg.DEFAULT_BASE64_LOADING_GIF, no_titlebar=True, background_color='white', time_between_frames=100)\n",
    "sg.popup_animated(None)"
   ]
  },
  {
   "cell_type": "code",
   "execution_count": null,
   "id": "d4b4e6e1",
   "metadata": {},
   "outputs": [],
   "source": [
    "sg.popup_annoying('Hello, PySimpleGUI!')"
   ]
  },
  {
   "cell_type": "code",
   "execution_count": null,
   "id": "bce8e346",
   "metadata": {},
   "outputs": [],
   "source": [
    "sg.popup_auto_close('Hello, PySimpleGUI!')"
   ]
  },
  {
   "cell_type": "code",
   "execution_count": null,
   "id": "7e6b012f",
   "metadata": {},
   "outputs": [],
   "source": [
    "sg.popup_cancel('Hello, PySimpleGUI!')"
   ]
  },
  {
   "cell_type": "code",
   "execution_count": null,
   "id": "44a24764",
   "metadata": {},
   "outputs": [],
   "source": [
    "sg.popup_error('Hello, PySimpleGUI!')"
   ]
  },
  {
   "cell_type": "code",
   "execution_count": null,
   "id": "14747362",
   "metadata": {},
   "outputs": [],
   "source": [
    "sg.popup_no_border('Hello, PySimpleGUI!')"
   ]
  },
  {
   "cell_type": "code",
   "execution_count": null,
   "id": "a659b668",
   "metadata": {},
   "outputs": [],
   "source": [
    "sg.popup_no_buttons('Hello, PySimpleGUI!')"
   ]
  },
  {
   "cell_type": "code",
   "execution_count": null,
   "id": "48512c84",
   "metadata": {},
   "outputs": [],
   "source": [
    "sg.popup_no_frame('Hello, PySimpleGUI!')"
   ]
  },
  {
   "cell_type": "code",
   "execution_count": null,
   "id": "a20c593b",
   "metadata": {},
   "outputs": [],
   "source": [
    "sg.popup_no_titlebar('Hello, PySimpleGUI!')"
   ]
  },
  {
   "cell_type": "markdown",
   "id": "304d2894",
   "metadata": {},
   "source": [
    "---"
   ]
  },
  {
   "cell_type": "code",
   "execution_count": null,
   "id": "b6d28541",
   "metadata": {},
   "outputs": [],
   "source": [
    "sg.popup_ok_cancel('Hello, CompThinking~~')"
   ]
  },
  {
   "cell_type": "code",
   "execution_count": null,
   "id": "b6f56c48",
   "metadata": {},
   "outputs": [],
   "source": [
    "sg.popup_scrolled('Hello, CompThinking~~ '*50)"
   ]
  },
  {
   "cell_type": "code",
   "execution_count": null,
   "id": "281e2dab",
   "metadata": {},
   "outputs": [],
   "source": [
    "sg.popup_timed('Hello, CompThinking~~', auto_close_duration=3)"
   ]
  },
  {
   "cell_type": "code",
   "execution_count": null,
   "id": "e8d5b878",
   "metadata": {},
   "outputs": [],
   "source": [
    "sg.popup_yes_no('Hello, CompThinking~~')"
   ]
  },
  {
   "cell_type": "markdown",
   "id": "2dca9e0c",
   "metadata": {},
   "source": [
    "### Input Popups"
   ]
  },
  {
   "cell_type": "code",
   "execution_count": null,
   "id": "3efbc1e6",
   "metadata": {},
   "outputs": [],
   "source": [
    "sg.popup_get_date()"
   ]
  },
  {
   "cell_type": "code",
   "execution_count": null,
   "id": "a77f9ac0",
   "metadata": {},
   "outputs": [],
   "source": [
    "sg.popup_get_file('Please select a file')"
   ]
  },
  {
   "cell_type": "code",
   "execution_count": null,
   "id": "211bb580",
   "metadata": {},
   "outputs": [],
   "source": [
    "sg.popup_get_folder('Please select a folder')"
   ]
  },
  {
   "cell_type": "code",
   "execution_count": null,
   "id": "e5983179",
   "metadata": {},
   "outputs": [],
   "source": [
    "sg.popup_get_text('Please enter something')"
   ]
  },
  {
   "cell_type": "markdown",
   "id": "0515e08e",
   "metadata": {},
   "source": [
    "---"
   ]
  },
  {
   "cell_type": "code",
   "execution_count": null,
   "id": "f9e3b671",
   "metadata": {},
   "outputs": [],
   "source": [
    "sg.popup('Hello, CompThinking~~', 'Hello, CompThinking~~', 'Hello, CompThinking~~')"
   ]
  },
  {
   "cell_type": "code",
   "execution_count": null,
   "id": "0986ddb7",
   "metadata": {},
   "outputs": [],
   "source": [
    "sg.popup('Hello, CompThinking~~', title='Custom')"
   ]
  },
  {
   "cell_type": "code",
   "execution_count": null,
   "id": "512b4033",
   "metadata": {},
   "outputs": [],
   "source": [
    "sg.popup('Hello, CompThinking~~', button_color=('black', 'red'))"
   ]
  },
  {
   "cell_type": "code",
   "execution_count": null,
   "id": "43ebfea9",
   "metadata": {},
   "outputs": [],
   "source": [
    "sg.popup('Hello, CompThinking~~', button_color=('black', 'red'), text_color='yellow')"
   ]
  },
  {
   "cell_type": "code",
   "execution_count": null,
   "id": "44e045cd",
   "metadata": {},
   "outputs": [],
   "source": [
    "sg.popup('Hello, CompThinking~~', background_color='blue')"
   ]
  },
  {
   "cell_type": "code",
   "execution_count": null,
   "id": "cbf2080d",
   "metadata": {},
   "outputs": [],
   "source": [
    "sg.popup('Hello, CompThinking~~', image='./figs/PySimpleGUI_logo.png', title='logo')"
   ]
  },
  {
   "cell_type": "code",
   "execution_count": null,
   "id": "f333e095",
   "metadata": {},
   "outputs": [],
   "source": [
    "sg.popup('Hello, CompThinking~~', location=(300, 300))"
   ]
  },
  {
   "cell_type": "code",
   "execution_count": null,
   "id": "e1febdca",
   "metadata": {},
   "outputs": [],
   "source": [
    "sg.popup('Hello, CompThinking~~', grab_anywhere=True)"
   ]
  }
 ],
 "metadata": {
  "kernelspec": {
   "display_name": "Python 3 (ipykernel)",
   "language": "python",
   "name": "python3"
  },
  "language_info": {
   "codemirror_mode": {
    "name": "ipython",
    "version": 3
   },
   "file_extension": ".py",
   "mimetype": "text/x-python",
   "name": "python",
   "nbconvert_exporter": "python",
   "pygments_lexer": "ipython3",
   "version": "3.8.12"
  }
 },
 "nbformat": 4,
 "nbformat_minor": 5
}
