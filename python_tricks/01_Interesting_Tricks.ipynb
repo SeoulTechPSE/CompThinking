{
 "cells": [
  {
   "cell_type": "markdown",
   "id": "97c33edb",
   "metadata": {},
   "source": [
    "## 06. `f` strings can do more than you though"
   ]
  },
  {
   "cell_type": "code",
   "execution_count": 1,
   "id": "630f3772",
   "metadata": {},
   "outputs": [
    {
     "name": "stdout",
     "output_type": "stream",
     "text": [
      "the value is other 🐶\n",
      "num_value = 123\n",
      "num_value % 2 = 1\n"
     ]
    }
   ],
   "source": [
    "str_value = \"other 🐶\"\n",
    "num_value = 123\n",
    "    \n",
    "print(f'the value is {str_value}')\n",
    "print(f'{num_value = }')\n",
    "print(f'{num_value % 2 = }')"
   ]
  },
  {
   "cell_type": "code",
   "execution_count": 2,
   "id": "1bedfcdd",
   "metadata": {},
   "outputs": [
    {
     "name": "stdout",
     "output_type": "stream",
     "text": [
      "other 🐶\n",
      "'other 🐶'\n"
     ]
    }
   ],
   "source": [
    "print(f'{str_value!s}')\n",
    "print(f'{str_value!r}')"
   ]
  },
  {
   "cell_type": "code",
   "execution_count": 3,
   "id": "ce15af4c",
   "metadata": {},
   "outputs": [],
   "source": [
    "class MyClass:\n",
    "    \n",
    "    def __format__(self, format_spec):\n",
    "        return f'{self.__class__.__name__}.__format__ called with {format_spec = !r}' "
   ]
  },
  {
   "cell_type": "code",
   "execution_count": 4,
   "id": "e4136791",
   "metadata": {},
   "outputs": [
    {
     "name": "stdout",
     "output_type": "stream",
     "text": [
      "now = 2022-04-17\n",
      "123.46\n",
      "MyClass.__format__ called with format_spec = 'blah blah %%MYFORMAT%%'\n",
      "123.5\n"
     ]
    }
   ],
   "source": [
    "import datetime\n",
    "\n",
    "num_value = 123.456\n",
    "now = datetime.datetime.utcnow()\n",
    "\n",
    "print(f'{now = :%Y-%m-%d}')\n",
    "print(f'{num_value :.2f}')\n",
    "print(f'{MyClass() :blah blah %%MYFORMAT%%}')\n",
    "\n",
    "nested_format = '.1f'\n",
    "print(f'{num_value:{nested_format}}')"
   ]
  },
  {
   "cell_type": "code",
   "execution_count": 5,
   "id": "96f58c2e",
   "metadata": {},
   "outputs": [],
   "source": [
    "%reset -f"
   ]
  },
  {
   "cell_type": "markdown",
   "id": "0a5c5275",
   "metadata": {},
   "source": [
    "## 07. You should put this in all your Python scripts ` if __name__ == '__main__':`"
   ]
  },
  {
   "cell_type": "code",
   "execution_count": 6,
   "id": "50139b96",
   "metadata": {},
   "outputs": [
    {
     "name": "stdout",
     "output_type": "stream",
     "text": [
      "__name__: __main__\n"
     ]
    }
   ],
   "source": [
    "print(f'__name__: {__name__}')"
   ]
  },
  {
   "cell_type": "code",
   "execution_count": 7,
   "id": "c7abc53c",
   "metadata": {},
   "outputs": [
    {
     "name": "stdout",
     "output_type": "stream",
     "text": [
      "Hello, Python Tricks!\n"
     ]
    }
   ],
   "source": [
    "def main():\n",
    "    print('Hello, Python Tricks!')\n",
    "    \n",
    "if __name__ == '__main__':\n",
    "    main()"
   ]
  },
  {
   "cell_type": "code",
   "execution_count": null,
   "id": "12cd6545",
   "metadata": {},
   "outputs": [],
   "source": [
    "%reset -f"
   ]
  },
  {
   "cell_type": "code",
   "execution_count": 8,
   "id": "cbafc4d7",
   "metadata": {},
   "outputs": [
    {
     "name": "stdout",
     "output_type": "stream",
     "text": [
      "Writing test1.py\n"
     ]
    }
   ],
   "source": [
    "%%writefile test1.py\n",
    "\n",
    "print(f'__name__: {__name__}')\n",
    "print('Hello, Python Tricks!')"
   ]
  },
  {
   "cell_type": "code",
   "execution_count": 9,
   "id": "f012a189",
   "metadata": {},
   "outputs": [
    {
     "name": "stdout",
     "output_type": "stream",
     "text": [
      "Writing test2.py\n"
     ]
    }
   ],
   "source": [
    "%%writefile test2.py\n",
    "\n",
    "def main():\n",
    "    print(f'__name__: {__name__}')\n",
    "    print('Hello, Python Tricks!')\n",
    "    \n",
    "if __name__ == '__main__':\n",
    "    main()"
   ]
  },
  {
   "cell_type": "code",
   "execution_count": 10,
   "id": "2aadd651",
   "metadata": {},
   "outputs": [
    {
     "name": "stdout",
     "output_type": "stream",
     "text": [
      "__name__: test1\n",
      "Hello, Python Tricks!\n"
     ]
    }
   ],
   "source": [
    "import test1"
   ]
  },
  {
   "cell_type": "code",
   "execution_count": 11,
   "id": "50bad440",
   "metadata": {},
   "outputs": [],
   "source": [
    "import test2"
   ]
  },
  {
   "cell_type": "code",
   "execution_count": 12,
   "id": "07a9b0f9",
   "metadata": {},
   "outputs": [
    {
     "name": "stdout",
     "output_type": "stream",
     "text": [
      "__name__: test2\n",
      "Hello, Python Tricks!\n"
     ]
    }
   ],
   "source": [
    "test2.main()"
   ]
  },
  {
   "cell_type": "code",
   "execution_count": 13,
   "id": "27f46a32",
   "metadata": {},
   "outputs": [],
   "source": [
    "import os\n",
    "\n",
    "os.remove('test1.py')\n",
    "os.remove('test2.py')"
   ]
  },
  {
   "cell_type": "code",
   "execution_count": null,
   "id": "dc4be6b9",
   "metadata": {},
   "outputs": [],
   "source": []
  }
 ],
 "metadata": {
  "kernelspec": {
   "display_name": "Python 3 (ipykernel)",
   "language": "python",
   "name": "python3"
  },
  "language_info": {
   "codemirror_mode": {
    "name": "ipython",
    "version": 3
   },
   "file_extension": ".py",
   "mimetype": "text/x-python",
   "name": "python",
   "nbconvert_exporter": "python",
   "pygments_lexer": "ipython3",
   "version": "3.8.12"
  }
 },
 "nbformat": 4,
 "nbformat_minor": 5
}
