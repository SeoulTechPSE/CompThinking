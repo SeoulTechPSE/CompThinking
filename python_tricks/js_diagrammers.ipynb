{
 "cells": [
  {
   "cell_type": "markdown",
   "id": "668d7910",
   "metadata": {},
   "source": [
    "## [nb_js_diagrammers](https://github.com/innovationOUtside/nb_js_diagrammers)"
   ]
  },
  {
   "cell_type": "code",
   "execution_count": 1,
   "id": "51a44517",
   "metadata": {},
   "outputs": [],
   "source": [
    "#%%capture\n",
    "#!pip install --upgrade nb-js-diagrammers"
   ]
  },
  {
   "cell_type": "code",
   "execution_count": 2,
   "id": "df0655e5",
   "metadata": {},
   "outputs": [],
   "source": [
    "%load_ext nb_js_diagrammers "
   ]
  },
  {
   "cell_type": "markdown",
   "id": "93fd2891",
   "metadata": {},
   "source": [
    "---"
   ]
  },
  {
   "cell_type": "markdown",
   "id": "1fd5fdbc",
   "metadata": {},
   "source": [
    "## [flowchart](https://flowchart.js.org/)"
   ]
  },
  {
   "cell_type": "code",
   "execution_count": 3,
   "id": "cf3d6895",
   "metadata": {},
   "outputs": [
    {
     "data": {
      "text/html": [
       "\n",
       "        <iframe\n",
       "            width=\"100%\"\n",
       "            height=\"100\"\n",
       "            src=\"./figs/flowchart.html\"\n",
       "            frameborder=\"0\"\n",
       "            allowfullscreen\n",
       "            \n",
       "        ></iframe>\n",
       "        "
      ],
      "text/plain": [
       "<IPython.lib.display.IFrame at 0x7fedb0276790>"
      ]
     },
     "execution_count": 3,
     "metadata": {},
     "output_type": "execute_result"
    }
   ],
   "source": [
    "%%flowchart_magic -h 100 -o ./figs/flowchart.html\n",
    "\n",
    "st=>start: Start\n",
    "e=>end: End\n",
    "op1=>operation: Generate\n",
    "op2=>parallel: Evaluate\n",
    "st(right)->op1(right)->op2\n",
    "op2(path1, top)->op1\n",
    "op2(path2, right)->e"
   ]
  },
  {
   "cell_type": "markdown",
   "id": "2e90b73c",
   "metadata": {},
   "source": [
    "---"
   ]
  },
  {
   "cell_type": "markdown",
   "id": "cef8b556",
   "metadata": {},
   "source": [
    "## [wavedrom](https://wavedrom.com/)"
   ]
  },
  {
   "cell_type": "code",
   "execution_count": 4,
   "id": "b6dbfd25",
   "metadata": {},
   "outputs": [
    {
     "data": {
      "text/html": [
       "<iframe srcdoc=\"&lt;!DOCTYPE html&gt;\n",
       "&lt;html&gt;\n",
       "    &lt;head&gt;\n",
       "        &lt;meta charset=&quot;UTF-8&quot;&gt;\n",
       "        &lt;title&gt;wavedrom.js&lt;/title&gt;\n",
       "&lt;script src=&quot;https://cdnjs.cloudflare.com/ajax/libs/wavedrom/2.6.8/skins/default.js&quot; type=&quot;text/javascript&quot;&gt;&lt;/script&gt;\n",
       "&lt;script src=&quot;https://cdnjs.cloudflare.com/ajax/libs/wavedrom/2.6.8/wavedrom.min.js&quot; type=&quot;text/javascript&quot;&gt;&lt;/script&gt;\n",
       "&lt;/head&gt;\n",
       "        &lt;body onload=&quot;WaveDrom.ProcessAll()&quot;&gt;\n",
       "&lt;script type=&quot;WaveDrom&quot;&gt;\n",
       "\n",
       "{ signal : [\n",
       "  { name: &quot;clk&quot;,  wave: &quot;p......&quot; },\n",
       "  { name: &quot;bus&quot;,  wave: &quot;x.34.5x&quot;,   data: &quot;head body tail&quot; },\n",
       "  { name: &quot;wire&quot;, wave: &quot;0.1..0.&quot; },\n",
       "]}\n",
       "\n",
       "&lt;/script&gt;\n",
       "        &lt;/body&gt;\n",
       "&lt;/html&gt;\n",
       "\" width=\"100%\" height=\"100\"style=\"border:none !important;\" \"allowfullscreen\" \"webkitallowfullscreen\" \"mozallowfullscreen\"></iframe>"
      ],
      "text/plain": [
       "<nb_js_diagrammers.magics.JSDiagram at 0x7feda0492c70>"
      ]
     },
     "execution_count": 4,
     "metadata": {},
     "output_type": "execute_result"
    }
   ],
   "source": [
    "%%wavedrom_magic -h 100\n",
    "\n",
    "{ signal : [\n",
    "  { name: \"clk\",  wave: \"p......\" },\n",
    "  { name: \"bus\",  wave: \"x.34.5x\",   data: \"head body tail\" },\n",
    "  { name: \"wire\", wave: \"0.1..0.\" },\n",
    "]}"
   ]
  },
  {
   "cell_type": "markdown",
   "id": "fc394f09",
   "metadata": {},
   "source": [
    "---"
   ]
  },
  {
   "cell_type": "markdown",
   "id": "9cb95358",
   "metadata": {},
   "source": [
    "## [mermaid](https://mermaid-js.github.io/mermaid/#/)"
   ]
  },
  {
   "cell_type": "code",
   "execution_count": 5,
   "id": "3d852673",
   "metadata": {},
   "outputs": [
    {
     "data": {
      "text/html": [
       "<iframe srcdoc=\"&lt;html&gt;\n",
       "    &lt;body&gt;\n",
       "        &lt;script src=&quot;https://cdn.jsdelivr.net/npm/mermaid/dist/mermaid.min.js&quot;&gt;&lt;/script&gt;\n",
       "        &lt;script&gt;\n",
       "            mermaid.initialize({ startOnLoad: true });\n",
       "        &lt;/script&gt;\n",
       " \n",
       "        &lt;div class=&quot;mermaid&quot;&gt;\n",
       "            \n",
       "flowchart TD\n",
       "    A[Start] --&gt; B{Is it?};\n",
       "    B --&gt;|Yes| C[OK];\n",
       "    C --&gt; D[Rethink];\n",
       "    D --&gt; B;\n",
       "    B ----&gt;|No| E[End];\n",
       "\n",
       "        &lt;/div&gt;\n",
       " \n",
       "    &lt;/body&gt;\n",
       "&lt;/html&gt;\n",
       "\" width=\"100%\" height=\"500\"style=\"border:none !important;\" \"allowfullscreen\" \"webkitallowfullscreen\" \"mozallowfullscreen\"></iframe>"
      ],
      "text/plain": [
       "<nb_js_diagrammers.magics.JSDiagram at 0x7fedb0296700>"
      ]
     },
     "execution_count": 5,
     "metadata": {},
     "output_type": "execute_result"
    }
   ],
   "source": [
    "%%mermaid_magic -h 500\n",
    "\n",
    "flowchart TD\n",
    "    A[Start] --> B{Is it?};\n",
    "    B -->|Yes| C[OK];\n",
    "    C --> D[Rethink];\n",
    "    D --> B;\n",
    "    B ---->|No| E[End];"
   ]
  },
  {
   "cell_type": "code",
   "execution_count": 6,
   "id": "859935c9",
   "metadata": {},
   "outputs": [
    {
     "data": {
      "text/html": [
       "<iframe srcdoc=\"&lt;html&gt;\n",
       "    &lt;body&gt;\n",
       "        &lt;script src=&quot;https://cdn.jsdelivr.net/npm/mermaid/dist/mermaid.min.js&quot;&gt;&lt;/script&gt;\n",
       "        &lt;script&gt;\n",
       "            mermaid.initialize({ startOnLoad: true });\n",
       "        &lt;/script&gt;\n",
       " \n",
       "        &lt;div class=&quot;mermaid&quot;&gt;\n",
       "            \n",
       "graph TD;\n",
       "    A--&gt;B;\n",
       "    A--&gt;C;\n",
       "    B--&gt;D;\n",
       "    C--&gt;D;\n",
       "\n",
       "        &lt;/div&gt;\n",
       " \n",
       "    &lt;/body&gt;\n",
       "&lt;/html&gt;\n",
       "\" width=\"100%\" height=\"250\"style=\"border:none !important;\" \"allowfullscreen\" \"webkitallowfullscreen\" \"mozallowfullscreen\"></iframe>"
      ],
      "text/plain": [
       "<nb_js_diagrammers.magics.JSDiagram at 0x7feda04925e0>"
      ]
     },
     "execution_count": 6,
     "metadata": {},
     "output_type": "execute_result"
    }
   ],
   "source": [
    "%%mermaid_magic -h 250\n",
    "\n",
    "graph TD;\n",
    "    A-->B;\n",
    "    A-->C;\n",
    "    B-->D;\n",
    "    C-->D;"
   ]
  },
  {
   "cell_type": "code",
   "execution_count": 7,
   "id": "b3c752a0",
   "metadata": {},
   "outputs": [
    {
     "data": {
      "text/html": [
       "<iframe srcdoc=\"&lt;html&gt;\n",
       "    &lt;body&gt;\n",
       "        &lt;script src=&quot;https://cdn.jsdelivr.net/npm/mermaid/dist/mermaid.min.js&quot;&gt;&lt;/script&gt;\n",
       "        &lt;script&gt;\n",
       "            mermaid.initialize({ startOnLoad: true });\n",
       "        &lt;/script&gt;\n",
       " \n",
       "        &lt;div class=&quot;mermaid&quot;&gt;\n",
       "            \n",
       "sequenceDiagram\n",
       "    Alice-&gt;&gt;John: Hello John, how are you?\n",
       "    John--&gt;&gt;Alice: Great!\n",
       "    Alice-)John: See you later!\n",
       "\n",
       "        &lt;/div&gt;\n",
       " \n",
       "    &lt;/body&gt;\n",
       "&lt;/html&gt;\n",
       "\" width=\"100%\" height=\"350\"style=\"border:none !important;\" \"allowfullscreen\" \"webkitallowfullscreen\" \"mozallowfullscreen\"></iframe>"
      ],
      "text/plain": [
       "<nb_js_diagrammers.magics.JSDiagram at 0x7feda0492280>"
      ]
     },
     "execution_count": 7,
     "metadata": {},
     "output_type": "execute_result"
    }
   ],
   "source": [
    "%%mermaid_magic -h 350\n",
    "\n",
    "sequenceDiagram\n",
    "    Alice->>John: Hello John, how are you?\n",
    "    John-->>Alice: Great!\n",
    "    Alice-)John: See you later!"
   ]
  },
  {
   "cell_type": "code",
   "execution_count": 8,
   "id": "b0fe3c27",
   "metadata": {},
   "outputs": [
    {
     "data": {
      "text/html": [
       "<iframe srcdoc=\"&lt;html&gt;\n",
       "    &lt;body&gt;\n",
       "        &lt;script src=&quot;https://cdn.jsdelivr.net/npm/mermaid/dist/mermaid.min.js&quot;&gt;&lt;/script&gt;\n",
       "        &lt;script&gt;\n",
       "            mermaid.initialize({ startOnLoad: true });\n",
       "        &lt;/script&gt;\n",
       " \n",
       "        &lt;div class=&quot;mermaid&quot;&gt;\n",
       "            \n",
       "classDiagram\n",
       "    Animal &lt;|-- Duck\n",
       "    Animal &lt;|-- Fish\n",
       "    Animal &lt;|-- Zebra\n",
       "    Animal : +int age\n",
       "    Animal : +String gender\n",
       "    Animal: +isMammal()\n",
       "    Animal: +mate()\n",
       "    class Duck{\n",
       "      +String beakColor\n",
       "      +swim()\n",
       "      +quack()\n",
       "    }\n",
       "    class Fish{\n",
       "      -int sizeInFeet\n",
       "      -canEat()\n",
       "    }\n",
       "    class Zebra{\n",
       "      +bool is_wild\n",
       "      +run()\n",
       "    }\n",
       "\n",
       "        &lt;/div&gt;\n",
       " \n",
       "    &lt;/body&gt;\n",
       "&lt;/html&gt;\n",
       "\" width=\"100%\" height=\"350\"style=\"border:none !important;\" \"allowfullscreen\" \"webkitallowfullscreen\" \"mozallowfullscreen\"></iframe>"
      ],
      "text/plain": [
       "<nb_js_diagrammers.magics.JSDiagram at 0x7feda04922e0>"
      ]
     },
     "execution_count": 8,
     "metadata": {},
     "output_type": "execute_result"
    }
   ],
   "source": [
    "%%mermaid_magic -h 350\n",
    "\n",
    "classDiagram\n",
    "    Animal <|-- Duck\n",
    "    Animal <|-- Fish\n",
    "    Animal <|-- Zebra\n",
    "    Animal : +int age\n",
    "    Animal : +String gender\n",
    "    Animal: +isMammal()\n",
    "    Animal: +mate()\n",
    "    class Duck{\n",
    "      +String beakColor\n",
    "      +swim()\n",
    "      +quack()\n",
    "    }\n",
    "    class Fish{\n",
    "      -int sizeInFeet\n",
    "      -canEat()\n",
    "    }\n",
    "    class Zebra{\n",
    "      +bool is_wild\n",
    "      +run()\n",
    "    }"
   ]
  },
  {
   "cell_type": "code",
   "execution_count": 9,
   "id": "6a86b8ee",
   "metadata": {},
   "outputs": [
    {
     "data": {
      "text/html": [
       "<iframe srcdoc=\"&lt;html&gt;\n",
       "    &lt;body&gt;\n",
       "        &lt;script src=&quot;https://cdn.jsdelivr.net/npm/mermaid/dist/mermaid.min.js&quot;&gt;&lt;/script&gt;\n",
       "        &lt;script&gt;\n",
       "            mermaid.initialize({ startOnLoad: true });\n",
       "        &lt;/script&gt;\n",
       " \n",
       "        &lt;div class=&quot;mermaid&quot;&gt;\n",
       "            \n",
       "stateDiagram-v2\n",
       "    [*] --&gt; Still\n",
       "    Still --&gt; [*]\n",
       "    Still --&gt; Moving\n",
       "    Moving --&gt; Still\n",
       "    Moving --&gt; Crash\n",
       "    Crash --&gt; [*]\n",
       "\n",
       "        &lt;/div&gt;\n",
       " \n",
       "    &lt;/body&gt;\n",
       "&lt;/html&gt;\n",
       "\" width=\"100%\" height=\"350\"style=\"border:none !important;\" \"allowfullscreen\" \"webkitallowfullscreen\" \"mozallowfullscreen\"></iframe>"
      ],
      "text/plain": [
       "<nb_js_diagrammers.magics.JSDiagram at 0x7feda0492dc0>"
      ]
     },
     "execution_count": 9,
     "metadata": {},
     "output_type": "execute_result"
    }
   ],
   "source": [
    "%%mermaid_magic -h 350\n",
    "\n",
    "stateDiagram-v2\n",
    "    [*] --> Still\n",
    "    Still --> [*]\n",
    "    Still --> Moving\n",
    "    Moving --> Still\n",
    "    Moving --> Crash\n",
    "    Crash --> [*]"
   ]
  },
  {
   "cell_type": "code",
   "execution_count": 10,
   "id": "cba26233",
   "metadata": {},
   "outputs": [
    {
     "data": {
      "text/html": [
       "\n",
       "        <iframe\n",
       "            width=\"100%\"\n",
       "            height=\"250\"\n",
       "            src=\"./figs/gantt.html\"\n",
       "            frameborder=\"0\"\n",
       "            allowfullscreen\n",
       "            \n",
       "        ></iframe>\n",
       "        "
      ],
      "text/plain": [
       "<IPython.lib.display.IFrame at 0x7feda0469f70>"
      ]
     },
     "execution_count": 10,
     "metadata": {},
     "output_type": "execute_result"
    }
   ],
   "source": [
    "%%mermaid_magic -h 250 -o ./figs/gantt.html\n",
    "\n",
    "gantt\n",
    "    title A Gantt Diagram\n",
    "    dateFormat  YYYY-MM-DD\n",
    "    section Section\n",
    "    A task           :a1, 2014-01-01, 30d\n",
    "    Another task     :after a1  , 20d\n",
    "    section Another\n",
    "    Task in sec      :2014-01-12  , 12d\n",
    "    another task      : 24d"
   ]
  },
  {
   "cell_type": "code",
   "execution_count": 11,
   "id": "1d2b225d",
   "metadata": {},
   "outputs": [
    {
     "data": {
      "text/html": [
       "<iframe srcdoc=\"&lt;html&gt;\n",
       "    &lt;body&gt;\n",
       "        &lt;script src=&quot;https://cdn.jsdelivr.net/npm/mermaid/dist/mermaid.min.js&quot;&gt;&lt;/script&gt;\n",
       "        &lt;script&gt;\n",
       "            mermaid.initialize({ startOnLoad: true });\n",
       "        &lt;/script&gt;\n",
       " \n",
       "        &lt;div class=&quot;mermaid&quot;&gt;\n",
       "            \n",
       "pie title Pets adopted by volunteers\n",
       "    &quot;Dogs&quot; : 386\n",
       "    &quot;Cats&quot; : 85\n",
       "    &quot;Rats&quot; : 15\n",
       "\n",
       "        &lt;/div&gt;\n",
       " \n",
       "    &lt;/body&gt;\n",
       "&lt;/html&gt;\n",
       "\" width=\"100%\" height=\"500\"style=\"border:none !important;\" \"allowfullscreen\" \"webkitallowfullscreen\" \"mozallowfullscreen\"></iframe>"
      ],
      "text/plain": [
       "<nb_js_diagrammers.magics.JSDiagram at 0x7feda0492e20>"
      ]
     },
     "execution_count": 11,
     "metadata": {},
     "output_type": "execute_result"
    }
   ],
   "source": [
    "%%mermaid_magic -h 500\n",
    "\n",
    "pie title Pets adopted by volunteers\n",
    "    \"Dogs\" : 386\n",
    "    \"Cats\" : 85\n",
    "    \"Rats\" : 15"
   ]
  },
  {
   "cell_type": "code",
   "execution_count": 12,
   "id": "0963f4d0",
   "metadata": {},
   "outputs": [
    {
     "data": {
      "text/html": [
       "<iframe srcdoc=\"&lt;html&gt;\n",
       "    &lt;body&gt;\n",
       "        &lt;script src=&quot;https://cdn.jsdelivr.net/npm/mermaid/dist/mermaid.min.js&quot;&gt;&lt;/script&gt;\n",
       "        &lt;script&gt;\n",
       "            mermaid.initialize({ startOnLoad: true });\n",
       "        &lt;/script&gt;\n",
       " \n",
       "        &lt;div class=&quot;mermaid&quot;&gt;\n",
       "            \n",
       "erDiagram\n",
       "          CUSTOMER }|..|{ DELIVERY-ADDRESS : has\n",
       "          CUSTOMER ||--o{ ORDER : places\n",
       "          CUSTOMER ||--o{ INVOICE : &quot;liable for&quot;\n",
       "          DELIVERY-ADDRESS ||--o{ ORDER : receives\n",
       "          INVOICE ||--|{ ORDER : covers\n",
       "          ORDER ||--|{ ORDER-ITEM : includes\n",
       "          PRODUCT-CATEGORY ||--|{ PRODUCT : contains\n",
       "          PRODUCT ||--o{ ORDER-ITEM : &quot;ordered in&quot;\n",
       "\n",
       "        &lt;/div&gt;\n",
       " \n",
       "    &lt;/body&gt;\n",
       "&lt;/html&gt;\n",
       "\" width=\"100%\" height=\"650\"style=\"border:none !important;\" \"allowfullscreen\" \"webkitallowfullscreen\" \"mozallowfullscreen\"></iframe>"
      ],
      "text/plain": [
       "<nb_js_diagrammers.magics.JSDiagram at 0x7feda0492a90>"
      ]
     },
     "execution_count": 12,
     "metadata": {},
     "output_type": "execute_result"
    }
   ],
   "source": [
    "%%mermaid_magic -h 650\n",
    "\n",
    "erDiagram\n",
    "          CUSTOMER }|..|{ DELIVERY-ADDRESS : has\n",
    "          CUSTOMER ||--o{ ORDER : places\n",
    "          CUSTOMER ||--o{ INVOICE : \"liable for\"\n",
    "          DELIVERY-ADDRESS ||--o{ ORDER : receives\n",
    "          INVOICE ||--|{ ORDER : covers\n",
    "          ORDER ||--|{ ORDER-ITEM : includes\n",
    "          PRODUCT-CATEGORY ||--|{ PRODUCT : contains\n",
    "          PRODUCT ||--o{ ORDER-ITEM : \"ordered in\""
   ]
  },
  {
   "cell_type": "code",
   "execution_count": 13,
   "id": "f9e26686",
   "metadata": {},
   "outputs": [
    {
     "data": {
      "text/html": [
       "<iframe srcdoc=\"&lt;html&gt;\n",
       "    &lt;body&gt;\n",
       "        &lt;script src=&quot;https://cdn.jsdelivr.net/npm/mermaid/dist/mermaid.min.js&quot;&gt;&lt;/script&gt;\n",
       "        &lt;script&gt;\n",
       "            mermaid.initialize({ startOnLoad: true });\n",
       "        &lt;/script&gt;\n",
       " \n",
       "        &lt;div class=&quot;mermaid&quot;&gt;\n",
       "            \n",
       "journey\n",
       "    title My working day\n",
       "    section Go to work\n",
       "      Make tea: 5: Me\n",
       "      Go upstairs: 3: Me\n",
       "      Do work: 1: Me, Cat\n",
       "    section Go home\n",
       "      Go downstairs: 5: Me\n",
       "      Sit down: 3: Me\n",
       "\n",
       "        &lt;/div&gt;\n",
       " \n",
       "    &lt;/body&gt;\n",
       "&lt;/html&gt;\n",
       "\" width=\"100%\" height=\"400\"style=\"border:none !important;\" \"allowfullscreen\" \"webkitallowfullscreen\" \"mozallowfullscreen\"></iframe>"
      ],
      "text/plain": [
       "<nb_js_diagrammers.magics.JSDiagram at 0x7feda0492940>"
      ]
     },
     "execution_count": 13,
     "metadata": {},
     "output_type": "execute_result"
    }
   ],
   "source": [
    "%%mermaid_magic -h 400\n",
    "\n",
    "journey\n",
    "    title My working day\n",
    "    section Go to work\n",
    "      Make tea: 5: Me\n",
    "      Go upstairs: 3: Me\n",
    "      Do work: 1: Me, Cat\n",
    "    section Go home\n",
    "      Go downstairs: 5: Me\n",
    "      Sit down: 3: Me"
   ]
  },
  {
   "cell_type": "code",
   "execution_count": 14,
   "id": "0f7d9485",
   "metadata": {},
   "outputs": [
    {
     "data": {
      "text/html": [
       "<iframe srcdoc=\"&lt;html&gt;\n",
       "    &lt;body&gt;\n",
       "        &lt;script src=&quot;https://cdn.jsdelivr.net/npm/mermaid/dist/mermaid.min.js&quot;&gt;&lt;/script&gt;\n",
       "        &lt;script&gt;\n",
       "            mermaid.initialize({ startOnLoad: true });\n",
       "        &lt;/script&gt;\n",
       " \n",
       "        &lt;div class=&quot;mermaid&quot;&gt;\n",
       "            \n",
       "    gitGraph\n",
       "       commit\n",
       "       commit\n",
       "       branch develop\n",
       "       commit\n",
       "       commit\n",
       "       commit\n",
       "       checkout main\n",
       "       commit\n",
       "       commit\n",
       "       merge develop\n",
       "       commit\n",
       "       commit\n",
       "\n",
       "        &lt;/div&gt;\n",
       " \n",
       "    &lt;/body&gt;\n",
       "&lt;/html&gt;\n",
       "\" width=\"100%\" height=\"150\"style=\"border:none !important;\" \"allowfullscreen\" \"webkitallowfullscreen\" \"mozallowfullscreen\"></iframe>"
      ],
      "text/plain": [
       "<nb_js_diagrammers.magics.JSDiagram at 0x7fed900273d0>"
      ]
     },
     "execution_count": 14,
     "metadata": {},
     "output_type": "execute_result"
    }
   ],
   "source": [
    "%%mermaid_magic -h 150\n",
    "\n",
    "    gitGraph\n",
    "       commit\n",
    "       commit\n",
    "       branch develop\n",
    "       commit\n",
    "       commit\n",
    "       commit\n",
    "       checkout main\n",
    "       commit\n",
    "       commit\n",
    "       merge develop\n",
    "       commit\n",
    "       commit"
   ]
  },
  {
   "cell_type": "code",
   "execution_count": 15,
   "id": "910d7e09",
   "metadata": {},
   "outputs": [
    {
     "data": {
      "text/html": [
       "<iframe srcdoc=\"&lt;html&gt;\n",
       "    &lt;body&gt;\n",
       "        &lt;script src=&quot;https://cdn.jsdelivr.net/npm/mermaid/dist/mermaid.min.js&quot;&gt;&lt;/script&gt;\n",
       "        &lt;script&gt;\n",
       "            mermaid.initialize({ startOnLoad: true });\n",
       "        &lt;/script&gt;\n",
       " \n",
       "        &lt;div class=&quot;mermaid&quot;&gt;\n",
       "            \n",
       "%%{init: { &#x27;logLevel&#x27;: &#x27;debug&#x27;, &#x27;theme&#x27;: &#x27;base&#x27;, &#x27;gitGraph&#x27;: {&#x27;showBranches&#x27;: false,&#x27;showCommitLabel&#x27;: false}} }%%\n",
       "      gitGraph\n",
       "        commit\n",
       "        branch hotfix\n",
       "        checkout hotfix\n",
       "        commit\n",
       "        branch develop\n",
       "        checkout develop\n",
       "        commit id:&quot;ash&quot;\n",
       "        branch featureB\n",
       "        checkout featureB\n",
       "        commit type:HIGHLIGHT\n",
       "        checkout main\n",
       "        checkout hotfix\n",
       "        commit type:NORMAL\n",
       "        checkout develop\n",
       "        commit type:REVERSE\n",
       "        checkout featureB\n",
       "        commit\n",
       "        checkout main\n",
       "        merge hotfix\n",
       "        checkout featureB\n",
       "        commit\n",
       "        checkout develop\n",
       "        branch featureA\n",
       "        commit\n",
       "        checkout develop\n",
       "        merge hotfix\n",
       "        checkout featureA\n",
       "        commit\n",
       "        checkout featureB\n",
       "        commit\n",
       "        checkout develop\n",
       "        merge featureA\n",
       "        branch release\n",
       "        checkout release\n",
       "        commit\n",
       "        checkout main\n",
       "        commit\n",
       "        checkout release\n",
       "        merge main\n",
       "        checkout develop\n",
       "        merge release\n",
       "\n",
       "        &lt;/div&gt;\n",
       " \n",
       "    &lt;/body&gt;\n",
       "&lt;/html&gt;\n",
       "\" width=\"100%\" height=\"350\"style=\"border:none !important;\" \"allowfullscreen\" \"webkitallowfullscreen\" \"mozallowfullscreen\"></iframe>"
      ],
      "text/plain": [
       "<nb_js_diagrammers.magics.JSDiagram at 0x7fed900277f0>"
      ]
     },
     "execution_count": 15,
     "metadata": {},
     "output_type": "execute_result"
    }
   ],
   "source": [
    "%%mermaid_magic -h 350\n",
    "\n",
    "%%{init: { 'logLevel': 'debug', 'theme': 'base', 'gitGraph': {'showBranches': false,'showCommitLabel': false}} }%%\n",
    "      gitGraph\n",
    "        commit\n",
    "        branch hotfix\n",
    "        checkout hotfix\n",
    "        commit\n",
    "        branch develop\n",
    "        checkout develop\n",
    "        commit id:\"ash\"\n",
    "        branch featureB\n",
    "        checkout featureB\n",
    "        commit type:HIGHLIGHT\n",
    "        checkout main\n",
    "        checkout hotfix\n",
    "        commit type:NORMAL\n",
    "        checkout develop\n",
    "        commit type:REVERSE\n",
    "        checkout featureB\n",
    "        commit\n",
    "        checkout main\n",
    "        merge hotfix\n",
    "        checkout featureB\n",
    "        commit\n",
    "        checkout develop\n",
    "        branch featureA\n",
    "        commit\n",
    "        checkout develop\n",
    "        merge hotfix\n",
    "        checkout featureA\n",
    "        commit\n",
    "        checkout featureB\n",
    "        commit\n",
    "        checkout develop\n",
    "        merge featureA\n",
    "        branch release\n",
    "        checkout release\n",
    "        commit\n",
    "        checkout main\n",
    "        commit\n",
    "        checkout release\n",
    "        merge main\n",
    "        checkout develop\n",
    "        merge release"
   ]
  },
  {
   "cell_type": "markdown",
   "id": "0cdd345c",
   "metadata": {},
   "source": [
    "---"
   ]
  },
  {
   "cell_type": "markdown",
   "id": "7d08f204",
   "metadata": {},
   "source": [
    "## [waversurfer](https://wavesurfer-js.org/)"
   ]
  },
  {
   "cell_type": "code",
   "execution_count": 16,
   "id": "7cb5c2f0",
   "metadata": {},
   "outputs": [
    {
     "data": {
      "text/html": [
       "<iframe srcdoc=\"&lt;html&gt;\n",
       "    &lt;body&gt;\n",
       "        &lt;script src=&quot;https://unpkg.com/wavesurfer.js/dist/wavesurfer.js&quot;&gt;&lt;/script&gt;\n",
       "        &lt;div id=&quot;wavesurfer&quot;&gt;\n",
       "            &lt;div id=&quot;waveform&quot;&gt;&lt;/div&gt;\n",
       "            &lt;div class=&quot;controls&quot;&gt;\n",
       "                &lt;button class=&quot;btn btn-primary&quot; data-action=&quot;play&quot;&gt;\n",
       "                    &lt;i class=&quot;glyphicon glyphicon-play&quot;&gt;&lt;/i&gt;\n",
       "                    Play\n",
       "                    /\n",
       "                    &lt;i class=&quot;glyphicon glyphicon-pause&quot;&gt;&lt;/i&gt;\n",
       "                    Pause\n",
       "                &lt;/button&gt;\n",
       "            &lt;/div&gt;\n",
       "        &lt;/div&gt;\n",
       "        &lt;script&gt;\n",
       "            var GLOBAL_ACTIONS = { // eslint-disable-line\n",
       "                play: function() {\n",
       "                    window.wavesurfer.playPause();\n",
       "                },\n",
       " \n",
       "                back: function() {\n",
       "                    window.wavesurfer.skipBackward();\n",
       "                },\n",
       " \n",
       "                forth: function() {\n",
       "                    window.wavesurfer.skipForward();\n",
       "                },\n",
       " \n",
       "                &#x27;toggle-mute&#x27;: function() {\n",
       "                    window.wavesurfer.toggleMute();\n",
       "                }\n",
       "            };\n",
       " \n",
       "            // Bind actions to buttons and keypresses\n",
       "            document.addEventListener(&#x27;DOMContentLoaded&#x27;, function() {\n",
       "                document.addEventListener(&#x27;keydown&#x27;, function(e) {\n",
       "                    let map = {\n",
       "                        32: &#x27;play&#x27;, // space\n",
       "                        37: &#x27;back&#x27;, // left\n",
       "                        39: &#x27;forth&#x27; // right\n",
       "                    };\n",
       "                    let action = map[e.keyCode];\n",
       "                    if (action in GLOBAL_ACTIONS) {\n",
       "                        if (document == e.target || document.body == e.target || e.target.attributes[&quot;data-action&quot;]) {\n",
       "                            e.preventDefault();\n",
       "                        }\n",
       "                        GLOBAL_ACTIONS[action](e);\n",
       "                    }\n",
       "                });\n",
       " \n",
       "                [].forEach.call(document.querySelectorAll(&#x27;[data-action]&#x27;), function(el) {\n",
       "                    el.addEventListener(&#x27;click&#x27;, function(e) {\n",
       "                        let action = e.currentTarget.dataset.action;\n",
       "                        if (action in GLOBAL_ACTIONS) {\n",
       "                            e.preventDefault();\n",
       "                            GLOBAL_ACTIONS[action](e);\n",
       "                        }\n",
       "                    });\n",
       "                });\n",
       "            });\n",
       "        &lt;/script&gt;\n",
       " \n",
       "        &lt;script&gt;\n",
       "            var wavesurfer = WaveSurfer.create({\n",
       "                container: &#x27;#waveform&#x27;,\n",
       "                waveColor: &#x27;violet&#x27;,\n",
       "                backend: &#x27;MediaElement&#x27;,\n",
       "                progressColor: &#x27;purple&#x27;\n",
       "            });\n",
       "        &lt;/script&gt;\n",
       "        &lt;script&gt;\n",
       "            wavesurfer.load(&quot;https://ia802606.us.archive.org/35/items/shortpoetry_047_librivox/abou_ben_adhem_hunt_mlb.mp3&quot;);\n",
       "        &lt;/script&gt;\n",
       "    &lt;/body&gt;\n",
       "&lt;/html&gt;\n",
       "\" width=\"100%\" height=\"200\"style=\"border:none !important;\" \"allowfullscreen\" \"webkitallowfullscreen\" \"mozallowfullscreen\"></iframe>"
      ],
      "text/plain": [
       "<nb_js_diagrammers.magics.JSDiagram at 0x7fed90027670>"
      ]
     },
     "execution_count": 16,
     "metadata": {},
     "output_type": "execute_result"
    }
   ],
   "source": [
    "%wavesurfer_magic -f https://ia802606.us.archive.org/35/items/shortpoetry_047_librivox/abou_ben_adhem_hunt_mlb.mp3"
   ]
  }
 ],
 "metadata": {
  "kernelspec": {
   "display_name": "Python 3 (ipykernel)",
   "language": "python",
   "name": "python3"
  },
  "language_info": {
   "codemirror_mode": {
    "name": "ipython",
    "version": 3
   },
   "file_extension": ".py",
   "mimetype": "text/x-python",
   "name": "python",
   "nbconvert_exporter": "python",
   "pygments_lexer": "ipython3",
   "version": "3.8.12"
  }
 },
 "nbformat": 4,
 "nbformat_minor": 5
}
