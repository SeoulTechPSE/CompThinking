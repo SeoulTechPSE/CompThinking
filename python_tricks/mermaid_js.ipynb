{
 "cells": [
  {
   "cell_type": "code",
   "execution_count": 1,
   "id": "f948f1cd",
   "metadata": {},
   "outputs": [],
   "source": [
    "import io\n",
    "import uuid\n",
    "from pathlib import Path\n",
    "from IPython.display import IFrame\n",
    " \n",
    "def js_ui(data, template, out_fn = None, out_path='.',\n",
    "          width=\"100%\", height=\"\", **kwargs):\n",
    "    \"\"\"Generate an IFrame containing a templated javascript package.\"\"\"\n",
    "    if not out_fn:\n",
    "        out_fn = Path(f\"{uuid.uuid4()}.html\")\n",
    "         \n",
    "    # Generate the path to the output file\n",
    "    out_path = Path(out_path)\n",
    "    filepath = out_path / out_fn\n",
    "    # Check the required directory path exists\n",
    "    filepath.parent.mkdir(parents=True, exist_ok=True)\n",
    " \n",
    "    # The open \"wt\" parameters are: write, text mode;\n",
    "    with io.open(filepath, 'wt', encoding='utf8') as outfile:\n",
    "        # The data is passed in as a dictionary so we can pass different\n",
    "        # arguments to the template\n",
    "        outfile.write(template.format(**data))\n",
    " \n",
    "    return IFrame(src=filepath, width=width, height=height)"
   ]
  },
  {
   "cell_type": "code",
   "execution_count": 2,
   "id": "bef3d67d",
   "metadata": {},
   "outputs": [],
   "source": [
    "TEMPLATE_MERMAIDJS=\"\"\"<html>\n",
    "    <body>\n",
    "        <script src=\"https://cdn.jsdelivr.net/npm/mermaid/dist/mermaid.min.js\"></script>\n",
    "        <script>\n",
    "            mermaid.initialize({{ startOnLoad: true }});\n",
    "        </script>\n",
    " \n",
    "        <div class=\"mermaid\">\n",
    "            {src}\n",
    "        </div>\n",
    " \n",
    "    </body>\n",
    "</html>\n",
    "\"\"\""
   ]
  },
  {
   "cell_type": "code",
   "execution_count": 3,
   "id": "29a0e045",
   "metadata": {},
   "outputs": [],
   "source": [
    "mcode = \"\"\"\n",
    "gantt\n",
    "    title A Gantt Diagram\n",
    "    dateFormat  YYYY-MM-DD\n",
    "    section Section\n",
    "    A task           :a1, 2014-01-01, 30d\n",
    "    Another task     :after a1  , 20d\n",
    "    section Another\n",
    "    Task in sec      :2014-01-12  , 12d\n",
    "    another task      : 24d\n",
    "\"\"\""
   ]
  },
  {
   "cell_type": "code",
   "execution_count": 4,
   "id": "a9de2ed3",
   "metadata": {},
   "outputs": [
    {
     "data": {
      "text/html": [
       "\n",
       "        <iframe\n",
       "            width=\"100%\"\n",
       "            height=\"250\"\n",
       "            src=\"270610ff-700e-4846-adc8-7f6cc0af718f.html\"\n",
       "            frameborder=\"0\"\n",
       "            allowfullscreen\n",
       "            \n",
       "        ></iframe>\n",
       "        "
      ],
      "text/plain": [
       "<IPython.lib.display.IFrame at 0x7f8e801975e0>"
      ]
     },
     "execution_count": 4,
     "metadata": {},
     "output_type": "execute_result"
    }
   ],
   "source": [
    "js_ui({'src':mcode}, TEMPLATE_MERMAIDJS, height=250)"
   ]
  },
  {
   "cell_type": "code",
   "execution_count": 5,
   "id": "b140ff66",
   "metadata": {},
   "outputs": [],
   "source": [
    "mcode = \"\"\"\n",
    "stateDiagram-v2\n",
    "    [*] --> First\n",
    "    state First {\n",
    "        [*] --> second\n",
    "        second --> [*]\n",
    "    }\n",
    "\"\"\""
   ]
  },
  {
   "cell_type": "code",
   "execution_count": 6,
   "id": "dd2bcd39",
   "metadata": {},
   "outputs": [
    {
     "data": {
      "text/html": [
       "\n",
       "        <iframe\n",
       "            width=\"100%\"\n",
       "            height=\"350\"\n",
       "            src=\"49c14e9a-0621-40da-a2e5-eb6968d91034.html\"\n",
       "            frameborder=\"0\"\n",
       "            allowfullscreen\n",
       "            \n",
       "        ></iframe>\n",
       "        "
      ],
      "text/plain": [
       "<IPython.lib.display.IFrame at 0x7f8e92181ee0>"
      ]
     },
     "execution_count": 6,
     "metadata": {},
     "output_type": "execute_result"
    }
   ],
   "source": [
    "js_ui({'src':mcode}, TEMPLATE_MERMAIDJS, height=350)"
   ]
  }
 ],
 "metadata": {
  "kernelspec": {
   "display_name": "Python 3 (ipykernel)",
   "language": "python",
   "name": "python3"
  },
  "language_info": {
   "codemirror_mode": {
    "name": "ipython",
    "version": 3
   },
   "file_extension": ".py",
   "mimetype": "text/x-python",
   "name": "python",
   "nbconvert_exporter": "python",
   "pygments_lexer": "ipython3",
   "version": "3.8.12"
  }
 },
 "nbformat": 4,
 "nbformat_minor": 5
}
