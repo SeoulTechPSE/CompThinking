{
 "cells": [
  {
   "cell_type": "markdown",
   "metadata": {
    "slideshow": {
     "slide_type": "slide"
    }
   },
   "source": [
    "## Chapter 13. 클래스와 객체"
   ]
  },
  {
   "cell_type": "markdown",
   "metadata": {
    "slideshow": {
     "slide_type": "slide"
    }
   },
   "source": [
    "### 13-1. 전역변수와 지역변수"
   ]
  },
  {
   "cell_type": "code",
   "execution_count": 1,
   "metadata": {
    "slideshow": {
     "slide_type": "fragment"
    }
   },
   "outputs": [
    {
     "name": "stdout",
     "output_type": "stream",
     "text": [
      "13\n"
     ]
    }
   ],
   "source": [
    "def func(n):\n",
    "    lv = n + 1\n",
    "    print(lv)\n",
    "\n",
    "func(12)"
   ]
  },
  {
   "cell_type": "code",
   "execution_count": 2,
   "metadata": {
    "slideshow": {
     "slide_type": "fragment"
    }
   },
   "outputs": [
    {
     "name": "stdout",
     "output_type": "stream",
     "text": [
      "101\n"
     ]
    }
   ],
   "source": [
    "cnt = 100\n",
    "cnt += 1\n",
    "def func():\n",
    "    print(cnt)\n",
    "\n",
    "func()"
   ]
  },
  {
   "cell_type": "code",
   "execution_count": 3,
   "metadata": {
    "slideshow": {
     "slide_type": "subslide"
    }
   },
   "outputs": [
    {
     "name": "stdout",
     "output_type": "stream",
     "text": [
      "0\n",
      "100\n"
     ]
    }
   ],
   "source": [
    "cnt = 100\n",
    "def func():\n",
    "    cnt = 0\n",
    "    print(cnt)\n",
    "\n",
    "func()\n",
    "print(cnt)"
   ]
  },
  {
   "cell_type": "code",
   "execution_count": 4,
   "metadata": {
    "slideshow": {
     "slide_type": "fragment"
    }
   },
   "outputs": [
    {
     "name": "stdout",
     "output_type": "stream",
     "text": [
      "0\n",
      "0\n"
     ]
    }
   ],
   "source": [
    "cnt = 100\n",
    "def func():\n",
    "    global cnt\n",
    "    cnt = 0\n",
    "    print(cnt)\n",
    "\n",
    "func()\n",
    "print(cnt)"
   ]
  },
  {
   "cell_type": "markdown",
   "metadata": {
    "slideshow": {
     "slide_type": "subslide"
    }
   },
   "source": [
    "### 13-2. 객체 이전의 프로그램에 대한 반성"
   ]
  },
  {
   "cell_type": "code",
   "execution_count": 5,
   "metadata": {
    "slideshow": {
     "slide_type": "fragment"
    }
   },
   "outputs": [
    {
     "name": "stdout",
     "output_type": "stream",
     "text": [
      "2021년... 아빠: 39\n",
      "2022년... 아빠: 40\n"
     ]
    }
   ],
   "source": [
    "fa_age = 39             # 아빠 나이 정보, 현재 39살\n",
    "\n",
    "def up_fa_age():        # 함수를 호출하면 아빠 나이 올라감\n",
    "    global fa_age\n",
    "    fa_age += 1\n",
    "    \n",
    "def get_fa_age():       # 함수를 호출하면 아빠 나이 반환함\n",
    "    return fa_age\n",
    "\n",
    "def main():\n",
    "    print('2022년...', end = ' ')\n",
    "    print('아빠:', get_fa_age())\n",
    "    print('2023년...', end = ' ')\n",
    "    up_fa_age()\n",
    "    print('아빠:', get_fa_age())\n",
    "\n",
    "main()"
   ]
  },
  {
   "cell_type": "code",
   "execution_count": 6,
   "metadata": {
    "cell_style": "split",
    "slideshow": {
     "slide_type": "subslide"
    }
   },
   "outputs": [],
   "source": [
    "fa_age = 39        # 아빠 나이 정보, 현재 39살\n",
    "\n",
    "def up_fa_age():   # 아빠 한 살 더먹음\n",
    "    global fa_age\n",
    "    fa_age += 1\n",
    "    \n",
    "def get_fa_age():  # 아빠 나이 반환함\n",
    "    return fa_age\n",
    "\n",
    "mo_age = 35        # 엄마 나이 정보, 현재 35살\n",
    "\n",
    "def up_mo_age():   # 엄마 한 살 더먹음\n",
    "    global mo_age\n",
    "    mo_age += 1\n",
    "    \n",
    "def get_mo_age():  # 엄마 나이 반환함\n",
    "    return mo_age"
   ]
  },
  {
   "cell_type": "code",
   "execution_count": 7,
   "metadata": {
    "cell_style": "split",
    "slideshow": {
     "slide_type": "fragment"
    }
   },
   "outputs": [
    {
     "name": "stdout",
     "output_type": "stream",
     "text": [
      "2021년... 아빠: 39\n",
      "2022년... 아빠: 40\n",
      "2021년... 엄마: 35\n",
      "2022년... 엄마: 36\n"
     ]
    }
   ],
   "source": [
    "def main():\n",
    "    print('2022년...', end = ' ')\n",
    "    print('아빠:', get_fa_age())\n",
    "    print('2023년...', end = ' ')\n",
    "    up_fa_age()\n",
    "    print('아빠:', get_fa_age())\n",
    "    \n",
    "    print('2022년...', end = ' ')\n",
    "    print('엄마:', get_mo_age())\n",
    "    print('2023년...', end = ' ')\n",
    "    up_mo_age()\n",
    "    print('엄마:', get_mo_age())    \n",
    "\n",
    "main()"
   ]
  },
  {
   "cell_type": "markdown",
   "metadata": {
    "slideshow": {
     "slide_type": "subslide"
    }
   },
   "source": [
    "### 13-3. 클래스와 객체의 이해"
   ]
  },
  {
   "cell_type": "markdown",
   "metadata": {
    "cell_style": "split",
    "slideshow": {
     "slide_type": "fragment"
    }
   },
   "source": [
    "* 자동차 설계도 \t\t\t\t\t\t  <클래스>\n",
    "\n",
    "  설계도로 만들어진 실제 자동차 \t  <객체>\n",
    "\n",
    "\n",
    "* 에어컨 설계도\t\t\t\t\t\t   <클래스>\n",
    "\n",
    "  설계도로 만들어진 실제 에어컨 \t   <객체>"
   ]
  },
  {
   "cell_type": "markdown",
   "metadata": {
    "cell_style": "split",
    "slideshow": {
     "slide_type": "fragment"
    }
   },
   "source": [
    "* 인스턴스 변수\n",
    "\n",
    "  인스턴스(객체) 안에 존재하는 변수\n",
    "\n",
    "\n",
    "* 인스턴스 메소드\n",
    "\n",
    "  인스턴스(객체) 안에 존재하는 메소드"
   ]
  },
  {
   "cell_type": "code",
   "execution_count": 8,
   "metadata": {
    "slideshow": {
     "slide_type": "subslide"
    }
   },
   "outputs": [],
   "source": [
    "class AgeInfo:            # 클래스 AgeInfo의 정의\n",
    "    \n",
    "    def up_age(self):     # 클래스 안에 담긴 up_age 함수\n",
    "        self.age += 1\n",
    "    \n",
    "    def get_age(self):    # 클래스 안에 담긴 get_age 함수\n",
    "        return self.age"
   ]
  },
  {
   "cell_type": "code",
   "execution_count": 9,
   "metadata": {
    "slideshow": {
     "slide_type": "fragment"
    }
   },
   "outputs": [
    {
     "name": "stdout",
     "output_type": "stream",
     "text": [
      "현재 아빠 나이... 아빠: 39\n",
      "1년 뒤... 아빠: 40\n"
     ]
    }
   ],
   "source": [
    "def main():\n",
    "    fa = AgeInfo()                 # AgeInfo 객체 생성\n",
    "    fa.age = 39                    # fa에 저장된 객체의 변수 age에 39를 저장\n",
    "    \n",
    "    print('현재 아빠 나이...', end = ' ')\n",
    "    print('아빠:', fa.get_age())   # get_age 호출할 때 self에 값 전달하지 않음\n",
    "    print('1년 뒤...', end = ' ')\n",
    "    fa.up_age()                    # up_age 호출할 때 self에 값 전달하지 않음\n",
    "    print('아빠:', fa.get_age())   # get_age 호출할 때 self에 값 전달하지 않음\n",
    "    \n",
    "main()"
   ]
  },
  {
   "cell_type": "markdown",
   "metadata": {
    "cell_style": "center",
    "slideshow": {
     "slide_type": "subslide"
    }
   },
   "source": [
    "### 13-4. 이전 예제의 수정 결과"
   ]
  },
  {
   "cell_type": "code",
   "execution_count": 10,
   "metadata": {
    "cell_style": "center",
    "slideshow": {
     "slide_type": "fragment"
    }
   },
   "outputs": [
    {
     "name": "stdout",
     "output_type": "stream",
     "text": [
      "가족 나이 합: 86\n",
      "1년 후 가족 나이 합: 89\n"
     ]
    }
   ],
   "source": [
    "def main():\n",
    "    fa = AgeInfo()\n",
    "    mo = AgeInfo()\n",
    "    me = AgeInfo()\n",
    "    \n",
    "    fa.age = 39 \n",
    "    mo.age = 35 \n",
    "    me.age = 12 \n",
    "    \n",
    "    sum = fa.get_age() + mo.get_age() + me.get_age()   \n",
    "    print('가족 나이 합:', sum)\n",
    "    \n",
    "    fa.up_age() \n",
    "    mo.up_age() \n",
    "    me.up_age() \n",
    "    \n",
    "    sum = fa.get_age() + mo.get_age() + me.get_age()\n",
    "    print('1년 후 가족 나이 합:', sum)\n",
    "\n",
    "main()"
   ]
  },
  {
   "cell_type": "markdown",
   "metadata": {
    "slideshow": {
     "slide_type": "subslide"
    }
   },
   "source": [
    "### 13-5. `self` 너 뭐냐!"
   ]
  },
  {
   "cell_type": "code",
   "execution_count": 11,
   "metadata": {
    "slideshow": {
     "slide_type": "fragment"
    }
   },
   "outputs": [
    {
     "name": "stdout",
     "output_type": "stream",
     "text": [
      "22\n",
      "22\n"
     ]
    }
   ],
   "source": [
    "def main():\n",
    "    fa = AgeInfo()\n",
    "    \n",
    "    fa.age = 20\n",
    "    \n",
    "    fa.up_age()\n",
    "    AgeInfo.up_age(fa)\n",
    "    \n",
    "    print(fa.get_age())\n",
    "    print(AgeInfo.get_age(fa))\n",
    "\n",
    "main()"
   ]
  },
  {
   "cell_type": "markdown",
   "metadata": {
    "slideshow": {
     "slide_type": "subslide"
    }
   },
   "source": [
    "### 13-6. `self` 이외의 매개변수 갖는 메소드 만들기"
   ]
  },
  {
   "cell_type": "code",
   "execution_count": 12,
   "metadata": {
    "slideshow": {
     "slide_type": "fragment"
    }
   },
   "outputs": [],
   "source": [
    "class AgeInfo:\n",
    "    \n",
    "    def up_age(self):\n",
    "        self.age += 1\n",
    "    \n",
    "    def get_age(self):\n",
    "        return self.age\n",
    "    \n",
    "    def set_age(self, age):\n",
    "        self.age = age"
   ]
  },
  {
   "cell_type": "code",
   "execution_count": 13,
   "metadata": {
    "slideshow": {
     "slide_type": "fragment"
    }
   },
   "outputs": [
    {
     "name": "stdout",
     "output_type": "stream",
     "text": [
      "1년 후 아빠 나이: 40\n"
     ]
    }
   ],
   "source": [
    "def main():\n",
    "    \n",
    "    fa = AgeInfo()\n",
    "    fa.set_age(39)\n",
    "    fa.up_age()\n",
    "    print('1년 후 아빠 나이:', fa.get_age())\n",
    "    \n",
    "main()"
   ]
  },
  {
   "cell_type": "markdown",
   "metadata": {
    "slideshow": {
     "slide_type": "subslide"
    }
   },
   "source": [
    "### 13-7. 생성자(초기화 메소드)"
   ]
  },
  {
   "cell_type": "code",
   "execution_count": 14,
   "metadata": {
    "slideshow": {
     "slide_type": "fragment"
    }
   },
   "outputs": [
    {
     "name": "stdout",
     "output_type": "stream",
     "text": [
      "new~\n",
      "new~\n"
     ]
    }
   ],
   "source": [
    "class Const:\n",
    "    \n",
    "    def __init__(self):\n",
    "        print('new~')\n",
    "\n",
    "def main():\n",
    "    c1 = Const()\n",
    "    c2 = Const()\n",
    "\n",
    "main()"
   ]
  },
  {
   "cell_type": "code",
   "execution_count": 15,
   "metadata": {
    "slideshow": {
     "slide_type": "subslide"
    }
   },
   "outputs": [
    {
     "name": "stdout",
     "output_type": "stream",
     "text": [
      "1 2\n",
      "3 4\n"
     ]
    }
   ],
   "source": [
    "class Const:\n",
    "    def __init__(self, n1, n2):\n",
    "        self.n1 = n1 \n",
    "        self.n2 = n2\n",
    "\n",
    "    def show_data(self):\n",
    "        print(self.n1, self.n2)\n",
    "\n",
    "def main():\n",
    "    c1 = Const(1, 2)\n",
    "    c2 = Const(3, 4)\n",
    "    o1.show_data()\n",
    "    o2.show_data()\n",
    "\n",
    "main()"
   ]
  },
  {
   "cell_type": "markdown",
   "metadata": {
    "slideshow": {
     "slide_type": "subslide"
    }
   },
   "source": [
    "### 13-8. 파이썬의 모든 값은 객체"
   ]
  },
  {
   "cell_type": "code",
   "execution_count": 16,
   "metadata": {
    "slideshow": {
     "slide_type": "fragment"
    }
   },
   "outputs": [
    {
     "data": {
      "text/plain": [
       "10"
      ]
     },
     "execution_count": 16,
     "metadata": {},
     "output_type": "execute_result"
    }
   ],
   "source": [
    "n = 1000\n",
    "n.bit_length()     # 변수 n에 담긴 정수도 객체라는 증거!"
   ]
  },
  {
   "cell_type": "code",
   "execution_count": 17,
   "metadata": {
    "slideshow": {
     "slide_type": "fragment"
    }
   },
   "outputs": [
    {
     "data": {
      "text/plain": [
       "False"
      ]
     },
     "execution_count": 17,
     "metadata": {},
     "output_type": "execute_result"
    }
   ],
   "source": [
    "f = 3.14\n",
    "f.is_integer()    # 변수 f에 담긴 실수도 객체라는 증거!"
   ]
  },
  {
   "cell_type": "markdown",
   "metadata": {
    "slideshow": {
     "slide_type": "fragment"
    }
   },
   "source": [
    "> **파이썬은 클래스도 객체이다**"
   ]
  }
 ],
 "metadata": {
  "celltoolbar": "Slideshow",
  "kernelspec": {
   "display_name": "Python 3 (ipykernel)",
   "language": "python",
   "name": "python3"
  },
  "language_info": {
   "codemirror_mode": {
    "name": "ipython",
    "version": 3
   },
   "file_extension": ".py",
   "mimetype": "text/x-python",
   "name": "python",
   "nbconvert_exporter": "python",
   "pygments_lexer": "ipython3",
   "version": "3.8.12"
  }
 },
 "nbformat": 4,
 "nbformat_minor": 4
}
