{
 "cells": [
  {
   "cell_type": "markdown",
   "metadata": {
    "slideshow": {
     "slide_type": "slide"
    }
   },
   "source": [
    "## Chapter 11. 모듈의 이해 그리고 수학 모듈 사용하기"
   ]
  },
  {
   "cell_type": "markdown",
   "metadata": {
    "slideshow": {
     "slide_type": "subslide"
    }
   },
   "source": [
    "### 11-1. 모듈을 만들어 봅시다"
   ]
  },
  {
   "cell_type": "code",
   "execution_count": 1,
   "metadata": {
    "slideshow": {
     "slide_type": "fragment"
    }
   },
   "outputs": [
    {
     "name": "stdout",
     "output_type": "stream",
     "text": [
      "Writing circle.py\n"
     ]
    }
   ],
   "source": [
    "%%writefile circle.py\n",
    "\n",
    "PI = 3.14                  # 원주율\n",
    "\n",
    "def ar_circle(rad):       # 원의 넓이를 계산해서 반환하는 함수\n",
    "    return rad * rad * PI\n",
    "\n",
    "def ci_circle(rad):       # 원의 둘레를 계산해서 반환하는 함수\n",
    "    return rad * 2 * PI"
   ]
  },
  {
   "cell_type": "markdown",
   "metadata": {
    "slideshow": {
     "slide_type": "subslide"
    }
   },
   "source": [
    "### 11-2. 모듈을 가져다 쓰는 방법 - 1"
   ]
  },
  {
   "cell_type": "code",
   "execution_count": 2,
   "metadata": {
    "slideshow": {
     "slide_type": "fragment"
    }
   },
   "outputs": [
    {
     "name": "stdout",
     "output_type": "stream",
     "text": [
      "반지름 입력: 5\n",
      "넓이: 78.5\n",
      "둘레: 31.400000000000002\n"
     ]
    }
   ],
   "source": [
    "import circle                  # circle.py 모듈을 가져다 쓰겠다는 선언!\n",
    "\n",
    "def main():\n",
    "    r = float(input('반지름 입력: '))\n",
    "    ar = circle.ar_circle(r)   # circle.py의 ar_circle 함수 호출\n",
    "    print('넓이:', ar)\n",
    "    ci = circle.ci_circle(r)   # circle.py의 ci_circle 함수 호출 \n",
    "    print('둘레:', ci)\n",
    "\n",
    "main()"
   ]
  },
  {
   "cell_type": "code",
   "execution_count": 3,
   "metadata": {
    "slideshow": {
     "slide_type": "subslide"
    }
   },
   "outputs": [
    {
     "name": "stdout",
     "output_type": "stream",
     "text": [
      "반지름 입력: 5\n",
      "넓이: 78.5\n",
      "둘레: 31.400000000000002\n"
     ]
    }
   ],
   "source": [
    "from circle import ar_circle, ci_circle\n",
    "\n",
    "def main():\n",
    "    r = float(input('반지름 입력: '))\n",
    "    ar = ar_circle(r)       # circle.py의 ar_circle 함수 호출\n",
    "    print('넓이:', ar)\n",
    "    ci = ci_circle(r)       # circle.py의 ci_circle 함수 호출\n",
    "    print('둘레:', ci)\n",
    "\n",
    "main()"
   ]
  },
  {
   "cell_type": "markdown",
   "metadata": {
    "slideshow": {
     "slide_type": "subslide"
    }
   },
   "source": [
    "### 11-3. 모듈을 가져다 쓰는 방법 - 2"
   ]
  },
  {
   "cell_type": "code",
   "execution_count": 4,
   "metadata": {
    "slideshow": {
     "slide_type": "fragment"
    }
   },
   "outputs": [
    {
     "name": "stdout",
     "output_type": "stream",
     "text": [
      "반지름 입력: 5\n",
      "둘레: 31.400000000000002 <--------\n"
     ]
    }
   ],
   "source": [
    "from circle import ci_circle \n",
    "\n",
    "def ci_circle(rad):\n",
    "    print('둘레:', rad * 2 * 3.14, '<--------')\n",
    "\n",
    "def main():\n",
    "    r = float(input('반지름 입력: '))\n",
    "    ci_circle(r)    # ? ? ? \n",
    "\n",
    "main()"
   ]
  },
  {
   "cell_type": "code",
   "execution_count": 5,
   "metadata": {
    "slideshow": {
     "slide_type": "subslide"
    }
   },
   "outputs": [
    {
     "name": "stdout",
     "output_type": "stream",
     "text": [
      "반지름 입력: 5\n",
      "둘레: 31.400000000000002 <--------\n",
      "둘레: 31.400000000000002\n"
     ]
    }
   ],
   "source": [
    "from circle import ci_circle as cc \n",
    "\n",
    "def ci_circle(rad):\n",
    "    print('둘레:', rad * 2 * 3.14, '<--------')\n",
    "\n",
    "def main():\n",
    "    r = float(input('반지름 입력: '))\n",
    "    ci_circle(r)    \n",
    "    ci = cc(r)   # circle.py\n",
    "    print('둘레:', ci)\n",
    "\n",
    "main()"
   ]
  },
  {
   "cell_type": "markdown",
   "metadata": {
    "slideshow": {
     "slide_type": "subslide"
    }
   },
   "source": [
    "### 11-4. `as`로 모듈의 이름 줄이기"
   ]
  },
  {
   "cell_type": "code",
   "execution_count": 6,
   "metadata": {
    "slideshow": {
     "slide_type": "fragment"
    }
   },
   "outputs": [
    {
     "name": "stdout",
     "output_type": "stream",
     "text": [
      "반지름 입력: 5\n",
      "넓이: 78.5\n"
     ]
    }
   ],
   "source": [
    "import circle as cc\n",
    "\n",
    "def main():\n",
    "    r = float(input('반지름 입력: '))\n",
    "    ar = cc.ar_circle(r)\n",
    "    print('넓이:', ar)\n",
    "    \n",
    "main()    "
   ]
  },
  {
   "cell_type": "code",
   "execution_count": 7,
   "metadata": {
    "slideshow": {
     "slide_type": "fragment"
    }
   },
   "outputs": [],
   "source": [
    "import os\n",
    "\n",
    "os.remove('circle.py')"
   ]
  },
  {
   "cell_type": "markdown",
   "metadata": {
    "slideshow": {
     "slide_type": "subslide"
    }
   },
   "source": [
    "### 11-5. 수학 관련 모듈"
   ]
  },
  {
   "cell_type": "markdown",
   "metadata": {
    "slideshow": {
     "slide_type": "fragment"
    }
   },
   "source": [
    "* 빌트인 함수\n",
    "  \n",
    "  `import` 선언 없이 그냥 언제든 호출 가능한 함수\n",
    "\n",
    "\n",
    "* 빌트인 모듈\n",
    "   \n",
    "   위치 신경 쓰지 않고 언제든 `import` 할 수 있는 모듈"
   ]
  },
  {
   "cell_type": "code",
   "execution_count": 8,
   "metadata": {
    "slideshow": {
     "slide_type": "fragment"
    }
   },
   "outputs": [
    {
     "data": {
      "text/plain": [
       "<function print>"
      ]
     },
     "execution_count": 8,
     "metadata": {},
     "output_type": "execute_result"
    }
   ],
   "source": [
    "print"
   ]
  },
  {
   "cell_type": "code",
   "execution_count": 9,
   "metadata": {
    "slideshow": {
     "slide_type": "subslide"
    }
   },
   "outputs": [],
   "source": [
    "import math"
   ]
  },
  {
   "cell_type": "code",
   "execution_count": 10,
   "metadata": {
    "slideshow": {
     "slide_type": "fragment"
    }
   },
   "outputs": [
    {
     "data": {
      "text/plain": [
       "10.0"
      ]
     },
     "execution_count": 10,
     "metadata": {},
     "output_type": "execute_result"
    }
   ],
   "source": [
    "math.fabs(-10.0) "
   ]
  },
  {
   "cell_type": "code",
   "execution_count": 11,
   "metadata": {
    "slideshow": {
     "slide_type": "fragment"
    }
   },
   "outputs": [
    {
     "data": {
      "text/plain": [
       "1.2246467991473532e-16"
      ]
     },
     "execution_count": 11,
     "metadata": {},
     "output_type": "execute_result"
    }
   ],
   "source": [
    "math.sin(math.pi)"
   ]
  },
  {
   "cell_type": "code",
   "execution_count": 12,
   "metadata": {
    "slideshow": {
     "slide_type": "fragment"
    }
   },
   "outputs": [],
   "source": [
    "import numpy as np"
   ]
  },
  {
   "cell_type": "code",
   "execution_count": 13,
   "metadata": {
    "slideshow": {
     "slide_type": "fragment"
    }
   },
   "outputs": [
    {
     "data": {
      "text/plain": [
       "1.2246467991473532e-16"
      ]
     },
     "execution_count": 13,
     "metadata": {},
     "output_type": "execute_result"
    }
   ],
   "source": [
    "np.sin(np.pi)"
   ]
  }
 ],
 "metadata": {
  "celltoolbar": "Slideshow",
  "kernelspec": {
   "display_name": "Python 3 (ipykernel)",
   "language": "python",
   "name": "python3"
  },
  "language_info": {
   "codemirror_mode": {
    "name": "ipython",
    "version": 3
   },
   "file_extension": ".py",
   "mimetype": "text/x-python",
   "name": "python",
   "nbconvert_exporter": "python",
   "pygments_lexer": "ipython3",
   "version": "3.8.12"
  }
 },
 "nbformat": 4,
 "nbformat_minor": 4
}
