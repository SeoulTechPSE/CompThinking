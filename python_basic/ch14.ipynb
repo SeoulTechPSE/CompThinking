{
 "cells": [
  {
   "cell_type": "markdown",
   "metadata": {
    "slideshow": {
     "slide_type": "slide"
    }
   },
   "source": [
    "## Chapter 14. 예외처리"
   ]
  },
  {
   "cell_type": "markdown",
   "metadata": {
    "slideshow": {
     "slide_type": "subslide"
    }
   },
   "source": [
    "### 14-1. 예외가 발생하는 상황"
   ]
  },
  {
   "cell_type": "code",
   "execution_count": null,
   "metadata": {
    "slideshow": {
     "slide_type": "fragment"
    }
   },
   "outputs": [],
   "source": [
    "lst = [1, 2, 3]\n",
    "lst[3]"
   ]
  },
  {
   "cell_type": "code",
   "execution_count": null,
   "metadata": {
    "slideshow": {
     "slide_type": "fragment"
    }
   },
   "outputs": [],
   "source": [
    "3 + 'coffee'"
   ]
  },
  {
   "cell_type": "code",
   "execution_count": null,
   "metadata": {
    "scrolled": true,
    "slideshow": {
     "slide_type": "subslide"
    }
   },
   "outputs": [],
   "source": [
    "3 / 0"
   ]
  },
  {
   "cell_type": "markdown",
   "metadata": {
    "slideshow": {
     "slide_type": "subslide"
    }
   },
   "source": [
    "### 14-2. 예외의 처리"
   ]
  },
  {
   "cell_type": "code",
   "execution_count": null,
   "metadata": {
    "slideshow": {
     "slide_type": "fragment"
    }
   },
   "outputs": [],
   "source": [
    "def main():\n",
    "    age = int(input('나이를 입력하세요: '))\n",
    "    print('입력하신 나이는 다음과 같습니다:', age, '반갑습니다')\n",
    "\n",
    "main()"
   ]
  },
  {
   "cell_type": "code",
   "execution_count": null,
   "metadata": {
    "slideshow": {
     "slide_type": "subslide"
    }
   },
   "outputs": [],
   "source": [
    "def main():\n",
    "\n",
    "    try:\n",
    "        age = int(input('나이를 입력하세요: '))\n",
    "        print('입력하신 나이는 다음과 같습니다:', age)\n",
    "    except ValueError:\n",
    "        print(\"입력이 잘못되었습니다.\")\n",
    "    \n",
    "    print('반갑습니다')\n",
    "    \n",
    "main()"
   ]
  },
  {
   "cell_type": "markdown",
   "metadata": {
    "slideshow": {
     "slide_type": "slide"
    }
   },
   "source": [
    "### 14-3. 보다 적극적인 예외의 처리"
   ]
  },
  {
   "cell_type": "code",
   "execution_count": null,
   "metadata": {
    "slideshow": {
     "slide_type": "fragment"
    }
   },
   "outputs": [],
   "source": [
    "def main():\n",
    "\n",
    "    while True:\n",
    "        try:\n",
    "            age = int(input('나이를 입력하세요: '))        \n",
    "            print('입력하신 나이는 다음과 같습니다:', age)\n",
    "            break   # 입력이 정상적이면 while 루프 탈출!\n",
    "        except ValueError:\n",
    "            print('입력이 잘못되었습니다.')\n",
    "            \n",
    "    print(\"만나서 반가웠습니다.\")\n",
    "\n",
    "main()"
   ]
  },
  {
   "cell_type": "markdown",
   "metadata": {
    "slideshow": {
     "slide_type": "subslide"
    }
   },
   "source": [
    "### 14-4. 둘 이상의 예외를 처리하기"
   ]
  },
  {
   "cell_type": "code",
   "execution_count": null,
   "metadata": {
    "slideshow": {
     "slide_type": "fragment"
    }
   },
   "outputs": [],
   "source": [
    "def main():\n",
    "    bread = 10     # 열 개의 빵\n",
    "    try:\n",
    "        people = int(input('몇 명? '))\n",
    "        print('1인당 빵의 수: ', bread / people)\n",
    "        print('맛있게 드세요.')\n",
    "    except ValueError:\n",
    "        print('입력이 잘못되었습니다.')\n",
    "    except ZeroDivisionError:\n",
    "        print('0으로는 나눌 수 없습니다.')\n",
    "\n",
    "main()"
   ]
  },
  {
   "cell_type": "markdown",
   "metadata": {
    "slideshow": {
     "slide_type": "subslide"
    }
   },
   "source": [
    "### 14-5. 예외 메시지 출력하기와 `finally`"
   ]
  },
  {
   "cell_type": "code",
   "execution_count": null,
   "metadata": {
    "slideshow": {
     "slide_type": "fragment"
    }
   },
   "outputs": [],
   "source": [
    "def main():\n",
    "    bread = 10     # 열 개의 빵    \n",
    "    try:    \n",
    "        people = int(input('몇 명? '))\n",
    "        print('1인당 빵의 수: ', bread / people)\n",
    "        print('맛있게 드세요.')\n",
    "    except ValueError as msg:\n",
    "        print('입력이 잘못되었습니다.')\n",
    "        print(msg) # 오류 메시지 출력\n",
    "    except ZeroDivisionError as msg:\n",
    "        print('0으로는 나눌 수 없습니다.')\n",
    "        print(msg) # 오류 메시지 출력\n",
    "\n",
    "main()"
   ]
  },
  {
   "cell_type": "code",
   "execution_count": null,
   "metadata": {
    "slideshow": {
     "slide_type": "subslide"
    }
   },
   "outputs": [],
   "source": [
    "def main():\n",
    "    bread = 10     # 열 개의 빵\n",
    "    try:\n",
    "        people = int(input('몇 명? '))\n",
    "        print('1인당 빵의 수: ', bread / people)\n",
    "        print('맛있게 드세요.')\n",
    "    except ValueError:\n",
    "        print('입력이 잘못되었습니다.')\n",
    "    except ZeroDivisionError:\n",
    "        print('0으로는 나눌 수 없습니다.')\n",
    "    finally:\n",
    "        print('어쨌든 프로그램은 종료합니다.')\n",
    "\n",
    "main()"
   ]
  },
  {
   "cell_type": "markdown",
   "metadata": {
    "slideshow": {
     "slide_type": "subslide"
    }
   },
   "source": [
    "### 14-6. 모든 예외  그냥 무시하기"
   ]
  },
  {
   "cell_type": "code",
   "execution_count": null,
   "metadata": {
    "slideshow": {
     "slide_type": "fragment"
    }
   },
   "outputs": [],
   "source": [
    "def main():\n",
    "    bread = 10     # 열 개의 빵\n",
    "    try:\n",
    "        people = int(input('몇 명? '))\n",
    "        print('1인당 빵의 수: ', bread / people)\n",
    "        print('맛있게 드세요.')\n",
    "    except:  # 이렇게 하면 모든 예외가 다 걸려든다.\n",
    "        print(\"뭔지는 몰라도 예외가 발생했군요.\")\n",
    "\n",
    "main()"
   ]
  }
 ],
 "metadata": {
  "celltoolbar": "Slideshow",
  "kernelspec": {
   "display_name": "Python 3 (ipykernel)",
   "language": "python",
   "name": "python3"
  },
  "language_info": {
   "codemirror_mode": {
    "name": "ipython",
    "version": 3
   },
   "file_extension": ".py",
   "mimetype": "text/x-python",
   "name": "python",
   "nbconvert_exporter": "python",
   "pygments_lexer": "ipython3",
   "version": "3.8.12"
  }
 },
 "nbformat": 4,
 "nbformat_minor": 4
}
